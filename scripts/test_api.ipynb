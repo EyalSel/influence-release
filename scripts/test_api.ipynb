{
 "cells": [
  {
   "cell_type": "code",
   "execution_count": 3,
   "metadata": {},
   "outputs": [
    {
     "name": "stdout",
     "output_type": "stream",
     "text": [
      "The autoreload extension is already loaded. To reload it, use:\n",
      "  %reload_ext autoreload\n"
     ]
    }
   ],
   "source": [
    "from data_poisoning import data_poisoning\n",
    "from utils import dataset_metadatas\n",
    "import time\n",
    "\n",
    "%load_ext autoreload\n",
    "%autoreload 2\n"
   ]
  },
  {
   "cell_type": "code",
   "execution_count": 4,
   "metadata": {},
   "outputs": [
    {
     "name": "stdout",
     "output_type": "stream",
     "text": [
      "Loading animals from disk...\n",
      "../data/dataset_dog-fish_train-900_test-300.npz\n",
      "*** Full:\n",
      "self.logits Tensor(\"Shape:0\", shape=(2,), dtype=int32)\n"
     ]
    },
    {
     "name": "stderr",
     "output_type": "stream",
     "text": [
      "[genericNeuralNet.py:191 -   get_vec_to_list_fn() ] Total number of parameters: 2048\n"
     ]
    },
    {
     "name": "stdout",
     "output_type": "stream",
     "text": [
      "wrong_labels_bool Tensor(\"Shape_2:0\", shape=(2,), dtype=int32)\n",
      "logits Tensor(\"Shape_3:0\", shape=(2,), dtype=int32)\n",
      "inception_features:  Tensor(\"flatten/Reshape:0\", shape=(?, ?), dtype=float32)\n",
      "x_poison_features:  Tensor(\"StridedSlice:0\", dtype=float32)\n",
      "t_target_features:  Tensor(\"Gather:0\", shape=(1, ?), dtype=float32)\n",
      "Lp:  Tensor(\"Mean_1:0\", dtype=float32)\n",
      "LP_gradient Tensor(\"strided_slice_1:0\", shape=(?, 268203), dtype=float32)\n"
     ]
    },
    {
     "name": "stderr",
     "output_type": "stream",
     "text": [
      "[genericNeuralNet.py:328 -     print_model_eval() ] Train loss (w reg) on all data: [0.01212904]\n",
      "[genericNeuralNet.py:329 -     print_model_eval() ] Train loss (w/o reg) on all data: [0.00397613]\n",
      "[genericNeuralNet.py:331 -     print_model_eval() ] Test loss (w/o reg) on all data: [0.04845405]\n",
      "[genericNeuralNet.py:332 -     print_model_eval() ] Train acc on all data:  [1.]\n",
      "[genericNeuralNet.py:333 -     print_model_eval() ] Test acc on all data:   [0.985]\n",
      "[genericNeuralNet.py:335 -     print_model_eval() ] Norm of the mean of gradients: 3.601256e-07\n",
      "[genericNeuralNet.py:336 -     print_model_eval() ] Norm of the params: 4.0380473\n"
     ]
    },
    {
     "name": "stdout",
     "output_type": "stream",
     "text": [
      "Creating poisoned dataset...\n",
      "('step_size is', 0.2)\n",
      "****** Attacking test_idx [15] ******\n",
      "('all_indices_to_poison: ', array([ 740, 1122,  765,   43, 1392,  270,  753,  202, 1162, 1457]))\n",
      "0 17.75166\n",
      "100 9.484575\n",
      "200 7.871428\n",
      "300 7.1271987\n",
      "400 6.629762\n",
      "500 6.2407885\n",
      "600 5.9602532\n",
      "700 5.7199364\n",
      "800 5.4852867\n",
      "900 5.3254557\n",
      "2031.72649598\n"
     ]
    }
   ],
   "source": [
    "## For now, pretend these are the arguments passed to the script \n",
    "#data_selected = ['Mushroom', 'Snail']\n",
    "#num_train_ex_per_class = 500\n",
    "#num_test_ex_per_class = 50\n",
    "#use_IF = False # False implies FC\n",
    "#target_test_idx = [15]\n",
    "#target_labels = None\n",
    "#num_to_perterb = 2\n",
    "## --------End of arguments----------\n",
    "\n",
    "# def data_poisoning(data_selected, \n",
    "# \t\t\t\t   num_train_ex_per_class, num_test_ex_per_class,\n",
    "# \t\t\t\t   use_IF,\n",
    "# \t\t\t\t   target_test_idx,\n",
    "# \t\t\t\t   num_to_perterb = 1,\n",
    "# \t\t\t\t   target_labels = None)\n",
    "start_time = time.time()\n",
    "poisoned_image = data_poisoning(dataset_metadatas[\"Dog-Fish\"], False, [15], 10)\n",
    "print(time.time()-start_time)"
   ]
  },
  {
   "cell_type": "code",
   "execution_count": null,
   "metadata": {},
   "outputs": [],
   "source": []
  }
 ],
 "metadata": {
  "kernelspec": {
   "display_name": "Python [conda env:influence_env]",
   "language": "python",
   "name": "conda-env-influence_env-py"
  },
  "language_info": {
   "codemirror_mode": {
    "name": "ipython",
    "version": 2
   },
   "file_extension": ".py",
   "mimetype": "text/x-python",
   "name": "python",
   "nbconvert_exporter": "python",
   "pygments_lexer": "ipython2",
   "version": "2.7.15"
  }
 },
 "nbformat": 4,
 "nbformat_minor": 2
}
