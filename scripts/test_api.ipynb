{
 "cells": [
  {
   "cell_type": "code",
   "execution_count": 1,
   "metadata": {},
   "outputs": [
    {
     "name": "stderr",
     "output_type": "stream",
     "text": [
      "/home/ubuntu/anaconda3/envs/influence_env/lib/python2.7/site-packages/matplotlib/__init__.py:1067: UserWarning: Duplicate key in file \"/home/ubuntu/.config/matplotlib/matplotlibrc\", line #2\n",
      "  (fname, cnt))\n",
      "/home/ubuntu/anaconda3/envs/influence_env/lib/python2.7/site-packages/matplotlib/__init__.py:1067: UserWarning: Duplicate key in file \"/home/ubuntu/.config/matplotlib/matplotlibrc\", line #3\n",
      "  (fname, cnt))\n",
      "/home/ubuntu/anaconda3/envs/influence_env/lib/python2.7/site-packages/h5py/__init__.py:34: FutureWarning: Conversion of the second argument of issubdtype from `float` to `np.floating` is deprecated. In future, it will be treated as `np.float64 == np.dtype(float).type`.\n",
      "  from ._conv import register_converters as _register_converters\n",
      "Using TensorFlow backend.\n"
     ]
    }
   ],
   "source": [
    "from data_poisoning import data_poisoning"
   ]
  },
  {
   "cell_type": "code",
   "execution_count": 4,
   "metadata": {},
   "outputs": [
    {
     "name": "stdout",
     "output_type": "stream",
     "text": [
      "Loading animals from disk...\n",
      "../data/dataset_dog-fish_train-900_test-300.npz\n",
      "*** Full:\n",
      "self.logits Tensor(\"Shape:0\", shape=(2,), dtype=int32)\n"
     ]
    },
    {
     "name": "stderr",
     "output_type": "stream",
     "text": [
      "[genericNeuralNet.py:191 -   get_vec_to_list_fn() ] Total number of parameters: 2048\n"
     ]
    },
    {
     "name": "stdout",
     "output_type": "stream",
     "text": [
      "wrong_labels_bool Tensor(\"Shape_2:0\", shape=(2,), dtype=int32)\n",
      "logits Tensor(\"Shape_3:0\", shape=(2,), dtype=int32)\n",
      "inception_features:  Tensor(\"flatten/Reshape:0\", shape=(?, ?), dtype=float32)\n",
      "x_poison_features:  Tensor(\"Gather:0\", shape=(1, ?), dtype=float32)\n",
      "t_target_features:  Tensor(\"Gather_1:0\", shape=(1, ?), dtype=float32)\n",
      "Lp:  Tensor(\"norm/Squeeze:0\", shape=(), dtype=float32)\n",
      "LP_gradient Tensor(\"strided_slice_1:0\", shape=(268203,), dtype=float32)\n",
      "*** Top:\n",
      "self.logits Tensor(\"Shape:0\", shape=(2,), dtype=int32)\n"
     ]
    },
    {
     "name": "stderr",
     "output_type": "stream",
     "text": [
      "[genericNeuralNet.py:191 -   get_vec_to_list_fn() ] Total number of parameters: 2048\n"
     ]
    },
    {
     "name": "stdout",
     "output_type": "stream",
     "text": [
      "wrong_labels_bool Tensor(\"Shape_2:0\", shape=(2,), dtype=int32)\n",
      "logits Tensor(\"Shape_3:0\", shape=(2,), dtype=int32)\n",
      "Using normal model\n"
     ]
    },
    {
     "name": "stderr",
     "output_type": "stream",
     "text": [
      "[genericNeuralNet.py:328 -     print_model_eval() ] Train loss (w reg) on all data: 0.012129042\n",
      "[genericNeuralNet.py:329 -     print_model_eval() ] Train loss (w/o reg) on all data: 0.0039761304\n",
      "[genericNeuralNet.py:331 -     print_model_eval() ] Test loss (w/o reg) on all data: 0.048454043\n",
      "[genericNeuralNet.py:332 -     print_model_eval() ] Train acc on all data:  1.0\n",
      "[genericNeuralNet.py:333 -     print_model_eval() ] Test acc on all data:   0.985\n",
      "[genericNeuralNet.py:335 -     print_model_eval() ] Norm of the mean of gradients: 3.6090535e-07\n",
      "[genericNeuralNet.py:336 -     print_model_eval() ] Norm of the params: 4.0380473\n"
     ]
    },
    {
     "name": "stdout",
     "output_type": "stream",
     "text": [
      "LBFGS training took [41] iter.\n",
      "After training with LBFGS: \n"
     ]
    },
    {
     "name": "stderr",
     "output_type": "stream",
     "text": [
      "[genericNeuralNet.py:328 -     print_model_eval() ] Train loss (w reg) on all data: [0.01212904]\n",
      "[genericNeuralNet.py:329 -     print_model_eval() ] Train loss (w/o reg) on all data: [0.00397613]\n",
      "[genericNeuralNet.py:331 -     print_model_eval() ] Test loss (w/o reg) on all data: [0.04845405]\n",
      "[genericNeuralNet.py:332 -     print_model_eval() ] Train acc on all data:  [1.]\n",
      "[genericNeuralNet.py:333 -     print_model_eval() ] Test acc on all data:   [0.985]\n",
      "[genericNeuralNet.py:335 -     print_model_eval() ] Norm of the mean of gradients: 3.6011147e-07\n",
      "[genericNeuralNet.py:336 -     print_model_eval() ] Norm of the params: 4.0380473\n"
     ]
    },
    {
     "name": "stdout",
     "output_type": "stream",
     "text": [
      "Creating poisoned dataset...\n",
      "('step_size is', 0.02)\n",
      "****** Attacking test_idx [15, 32, 6] ******\n",
      "Total number of parameters: 2048\n",
      "Warning: Desired error not necessarily achieved due to precision loss.\n",
      "         Current function value: -0.151586\n",
      "         Iterations: 6\n",
      "         Function evaluations: 146\n",
      "         Gradient evaluations: 137\n",
      "         Hessian evaluations: 49\n",
      "Inverse HVP took 3.55962300301 sec\n",
      "Loaded inverse HVP from output/poisoning_900_300_inception_wd-0.001-test-[15, 32, 6].npz\n",
      "Inverse HVP took 0.000530004501343 sec\n",
      "Entering the for loop\n",
      "finished calculating grad_wrt_input_val\n"
     ]
    },
    {
     "name": "stderr",
     "output_type": "stream",
     "text": [
      "[iter_attack.py:118 -     iterative_attack() ] Test idx: [15, 32, 6], Indices to poison: [1141, 1064], train label: [1. 0.], test label: 0.0\n"
     ]
    },
    {
     "name": "stdout",
     "output_type": "stream",
     "text": [
      "('all_indices_to_poison: ', [1141, 1064])\n",
      "\n"
     ]
    },
    {
     "name": "stderr",
     "output_type": "stream",
     "text": [
      "[iter_attack.py:131 -     iterative_attack() ] Initial Test pred (full): [[9.9251246e-01 7.4875872e-03]\n",
      " [9.9760324e-01 2.3968280e-03]\n",
      " [1.4227114e-04 9.9985766e-01]]\n",
      "[iter_attack.py:134 -     iterative_attack() ] Initial Test pred (top): [[9.9251246e-01 7.4875872e-03]\n",
      " [9.9760324e-01 2.3968280e-03]\n",
      " [1.4227114e-04 9.9985766e-01]]\n",
      "[iter_attack.py:147 -     iterative_attack() ] *** Iter: 0\n"
     ]
    },
    {
     "name": "stdout",
     "output_type": "stream",
     "text": [
      "Total number of parameters: 2048\n"
     ]
    },
    {
     "name": "stderr",
     "output_type": "stream",
     "text": [
      "[iter_attack.py:169 -     iterative_attack() ] Attach_iter 0 perturbation shape: (1, 268203), perturbation: [[ 0.00146801 -0.00267531 -0.00515645 ...  0.00025246 -0.00062864\n",
      "   0.00077725]]\n"
     ]
    },
    {
     "name": "stdout",
     "output_type": "stream",
     "text": [
      "Warning: Desired error not necessarily achieved due to precision loss.\n",
      "         Current function value: -0.151586\n",
      "         Iterations: 6\n",
      "         Function evaluations: 146\n",
      "         Gradient evaluations: 137\n",
      "         Hessian evaluations: 49\n",
      "Inverse HVP took 3.56743407249 sec\n",
      "Loaded inverse HVP from output/poisoning_900_300_inception_wd-0.001-test-[15, 32, 6].npz\n",
      "Inverse HVP took 0.000528812408447 sec\n",
      "Entering the for loop\n",
      "(1, 268203)\n",
      "Loaded inverse HVP from output/poisoning_900_300_inception_wd-0.001-test-[15, 32, 6].npz\n",
      "Inverse HVP took 0.000722169876099 sec\n",
      "Entering the for loop\n"
     ]
    },
    {
     "name": "stderr",
     "output_type": "stream",
     "text": [
      "[iter_attack.py:169 -     iterative_attack() ] Attach_iter 0 perturbation shape: (1, 268203), perturbation: [[-7.52820051e-06 -6.21574000e-04  6.69478759e-05 ... -7.80396047e-04\n",
      "  -1.05764757e-05  5.54494676e-04]]\n"
     ]
    },
    {
     "name": "stdout",
     "output_type": "stream",
     "text": [
      "(1, 268203)\n",
      "2 2\n"
     ]
    },
    {
     "name": "stderr",
     "output_type": "stream",
     "text": [
      "[genericNeuralNet.py:328 -     print_model_eval() ] Train loss (w reg) on all data: 0.012137085\n",
      "[genericNeuralNet.py:329 -     print_model_eval() ] Train loss (w/o reg) on all data: 0.0040085153\n",
      "[genericNeuralNet.py:331 -     print_model_eval() ] Test loss (w/o reg) on all data: 0.048431955\n",
      "[genericNeuralNet.py:332 -     print_model_eval() ] Train acc on all data:  1.0\n",
      "[genericNeuralNet.py:333 -     print_model_eval() ] Test acc on all data:   0.985\n",
      "[genericNeuralNet.py:335 -     print_model_eval() ] Norm of the mean of gradients: 0.0006781418\n",
      "[genericNeuralNet.py:336 -     print_model_eval() ] Norm of the params: 4.032014\n"
     ]
    },
    {
     "name": "stdout",
     "output_type": "stream",
     "text": [
      "Shape (2, 2048)\n",
      "Using normal model\n",
      "LBFGS training took [39] iter.\n",
      "After training with LBFGS: \n"
     ]
    },
    {
     "name": "stderr",
     "output_type": "stream",
     "text": [
      "[iter_attack.py:209 -     iterative_attack() ] Test_idx: 15 Test pred (full): [[0.9909628  0.00903722]]\n",
      "[iter_attack.py:209 -     iterative_attack() ] Test_idx: 32 Test pred (full): [[0.9975431  0.00245698]]\n",
      "[iter_attack.py:209 -     iterative_attack() ] Test_idx: 6 Test pred (full): [[1.4702156e-04 9.9985301e-01]]\n",
      "[iter_attack.py:210 -     iterative_attack() ] ---------------------\n",
      "[iter_attack.py:215 -     iterative_attack() ] Test_idx: 15 Test pred (top): [[0.9909628  0.00903722]]\n",
      "[iter_attack.py:215 -     iterative_attack() ] Test_idx: 32 Test pred (top): [[0.9975431  0.00245698]]\n",
      "[iter_attack.py:215 -     iterative_attack() ] Test_idx: 6 Test pred (top): [[1.4702156e-04 9.9985301e-01]]\n",
      "[iter_attack.py:147 -     iterative_attack() ] *** Iter: 1\n"
     ]
    },
    {
     "name": "stdout",
     "output_type": "stream",
     "text": [
      "Total number of parameters: 2048\n"
     ]
    },
    {
     "name": "stderr",
     "output_type": "stream",
     "text": [
      "[iter_attack.py:169 -     iterative_attack() ] Attach_iter 1 perturbation shape: (1, 268203), perturbation: [[ 0.00092485 -0.00358547 -0.00529775 ...  0.00168297 -0.00092943\n",
      "   0.00046648]]\n"
     ]
    },
    {
     "name": "stdout",
     "output_type": "stream",
     "text": [
      "Optimization terminated successfully.\n",
      "         Current function value: -0.219602\n",
      "         Iterations: 8\n",
      "         Function evaluations: 13\n",
      "         Gradient evaluations: 20\n",
      "         Hessian evaluations: 44\n",
      "Inverse HVP took 0.855540037155 sec\n",
      "Loaded inverse HVP from output/poisoning_900_300_inception_wd-0.001-test-[15, 32, 6].npz\n",
      "Inverse HVP took 0.000536203384399 sec\n",
      "Entering the for loop\n",
      "(1, 268203)\n",
      "Loaded inverse HVP from output/poisoning_900_300_inception_wd-0.001-test-[15, 32, 6].npz\n",
      "Inverse HVP took 0.000638961791992 sec\n",
      "Entering the for loop\n"
     ]
    },
    {
     "name": "stderr",
     "output_type": "stream",
     "text": [
      "[iter_attack.py:169 -     iterative_attack() ] Attach_iter 1 perturbation shape: (1, 268203), perturbation: [[ 8.18919507e-05 -5.03598654e-04  1.88911537e-04 ... -1.14138529e-03\n",
      "   6.76280833e-05  6.89176726e-04]]\n"
     ]
    },
    {
     "name": "stdout",
     "output_type": "stream",
     "text": [
      "(1, 268203)\n",
      "2 2\n",
      "Shape (2, 2048)\n",
      "Using normal model\n"
     ]
    },
    {
     "name": "stderr",
     "output_type": "stream",
     "text": [
      "[genericNeuralNet.py:328 -     print_model_eval() ] Train loss (w reg) on all data: 0.012157744\n",
      "[genericNeuralNet.py:329 -     print_model_eval() ] Train loss (w/o reg) on all data: 0.0040469817\n",
      "[genericNeuralNet.py:331 -     print_model_eval() ] Test loss (w/o reg) on all data: 0.048371162\n",
      "[genericNeuralNet.py:332 -     print_model_eval() ] Train acc on all data:  1.0\n",
      "[genericNeuralNet.py:333 -     print_model_eval() ] Test acc on all data:   0.9833333333333333\n",
      "[genericNeuralNet.py:335 -     print_model_eval() ] Norm of the mean of gradients: 0.0013259861\n",
      "[genericNeuralNet.py:336 -     print_model_eval() ] Norm of the params: 4.027595\n",
      "[iter_attack.py:209 -     iterative_attack() ] Test_idx: 15 Test pred (full): [[0.98934805 0.01065196]]\n",
      "[iter_attack.py:209 -     iterative_attack() ] Test_idx: 32 Test pred (full): [[0.9975109  0.00248902]]\n"
     ]
    },
    {
     "name": "stdout",
     "output_type": "stream",
     "text": [
      "LBFGS training took [44] iter.\n",
      "After training with LBFGS: \n"
     ]
    },
    {
     "name": "stderr",
     "output_type": "stream",
     "text": [
      "[iter_attack.py:209 -     iterative_attack() ] Test_idx: 6 Test pred (full): [[1.5240794e-04 9.9984753e-01]]\n",
      "[iter_attack.py:210 -     iterative_attack() ] ---------------------\n",
      "[iter_attack.py:215 -     iterative_attack() ] Test_idx: 15 Test pred (top): [[0.98934805 0.01065196]]\n",
      "[iter_attack.py:215 -     iterative_attack() ] Test_idx: 32 Test pred (top): [[0.9975109  0.00248902]]\n",
      "[iter_attack.py:215 -     iterative_attack() ] Test_idx: 6 Test pred (top): [[1.5240794e-04 9.9984753e-01]]\n",
      "[iter_attack.py:147 -     iterative_attack() ] *** Iter: 2\n"
     ]
    },
    {
     "name": "stdout",
     "output_type": "stream",
     "text": [
      "Total number of parameters: 2048\n"
     ]
    },
    {
     "name": "stderr",
     "output_type": "stream",
     "text": [
      "[iter_attack.py:169 -     iterative_attack() ] Attach_iter 2 perturbation shape: (1, 268203), perturbation: [[ 0.00158076 -0.00248119 -0.00445554 ...  0.00193894 -0.0008254\n",
      "   0.00031795]]\n"
     ]
    },
    {
     "name": "stdout",
     "output_type": "stream",
     "text": [
      "Warning: Desired error not necessarily achieved due to precision loss.\n",
      "         Current function value: -0.305246\n",
      "         Iterations: 6\n",
      "         Function evaluations: 88\n",
      "         Gradient evaluations: 84\n",
      "         Hessian evaluations: 42\n",
      "Inverse HVP took 2.31372594833 sec\n",
      "Loaded inverse HVP from output/poisoning_900_300_inception_wd-0.001-test-[15, 32, 6].npz\n",
      "Inverse HVP took 0.000521183013916 sec\n",
      "Entering the for loop\n",
      "(1, 268203)\n",
      "Loaded inverse HVP from output/poisoning_900_300_inception_wd-0.001-test-[15, 32, 6].npz\n",
      "Inverse HVP took 0.000727891921997 sec\n",
      "Entering the for loop\n"
     ]
    },
    {
     "name": "stderr",
     "output_type": "stream",
     "text": [
      "[iter_attack.py:169 -     iterative_attack() ] Attach_iter 2 perturbation shape: (1, 268203), perturbation: [[ 1.44484511e-06 -4.90337377e-04  1.12388967e-04 ... -5.54302183e-04\n",
      "   2.05372053e-04  2.17367415e-04]]\n"
     ]
    },
    {
     "name": "stdout",
     "output_type": "stream",
     "text": [
      "(1, 268203)\n",
      "2 2\n",
      "Shape (2, 2048)\n",
      "Using normal model\n"
     ]
    },
    {
     "name": "stderr",
     "output_type": "stream",
     "text": [
      "[genericNeuralNet.py:328 -     print_model_eval() ] Train loss (w reg) on all data: 0.012180805\n",
      "[genericNeuralNet.py:329 -     print_model_eval() ] Train loss (w/o reg) on all data: 0.0040802634\n",
      "[genericNeuralNet.py:331 -     print_model_eval() ] Test loss (w/o reg) on all data: 0.04832047\n",
      "[genericNeuralNet.py:332 -     print_model_eval() ] Train acc on all data:  1.0\n",
      "[genericNeuralNet.py:333 -     print_model_eval() ] Test acc on all data:   0.9833333333333333\n",
      "[genericNeuralNet.py:335 -     print_model_eval() ] Norm of the mean of gradients: 0.00179335\n",
      "[genericNeuralNet.py:336 -     print_model_eval() ] Norm of the params: 4.0250573\n",
      "[iter_attack.py:209 -     iterative_attack() ] Test_idx: 15 Test pred (full): [[0.98775613 0.01224389]]\n",
      "[iter_attack.py:209 -     iterative_attack() ] Test_idx: 32 Test pred (full): [[0.997502 0.002498]]\n"
     ]
    },
    {
     "name": "stdout",
     "output_type": "stream",
     "text": [
      "LBFGS training took [37] iter.\n",
      "After training with LBFGS: \n"
     ]
    },
    {
     "name": "stderr",
     "output_type": "stream",
     "text": [
      "[iter_attack.py:209 -     iterative_attack() ] Test_idx: 6 Test pred (full): [[1.5740593e-04 9.9984252e-01]]\n",
      "[iter_attack.py:210 -     iterative_attack() ] ---------------------\n",
      "[iter_attack.py:215 -     iterative_attack() ] Test_idx: 15 Test pred (top): [[0.98775613 0.01224389]]\n",
      "[iter_attack.py:215 -     iterative_attack() ] Test_idx: 32 Test pred (top): [[0.997502 0.002498]]\n",
      "[iter_attack.py:215 -     iterative_attack() ] Test_idx: 6 Test pred (top): [[1.5740593e-04 9.9984252e-01]]\n",
      "[iter_attack.py:147 -     iterative_attack() ] *** Iter: 3\n"
     ]
    },
    {
     "name": "stdout",
     "output_type": "stream",
     "text": [
      "Total number of parameters: 2048\n"
     ]
    },
    {
     "name": "stderr",
     "output_type": "stream",
     "text": [
      "[iter_attack.py:169 -     iterative_attack() ] Attach_iter 3 perturbation shape: (1, 268203), perturbation: [[ 6.29185699e-04 -4.11065499e-04 -8.53453181e-04 ...  2.29960331e-03\n",
      "  -7.22985831e-04 -8.72821547e-05]]\n"
     ]
    },
    {
     "name": "stdout",
     "output_type": "stream",
     "text": [
      "Warning: Desired error not necessarily achieved due to precision loss.\n",
      "         Current function value: -0.404653\n",
      "         Iterations: 8\n",
      "         Function evaluations: 128\n",
      "         Gradient evaluations: 123\n",
      "         Hessian evaluations: 59\n",
      "Inverse HVP took 3.35026907921 sec\n",
      "Loaded inverse HVP from output/poisoning_900_300_inception_wd-0.001-test-[15, 32, 6].npz\n",
      "Inverse HVP took 0.000534057617188 sec\n",
      "Entering the for loop\n",
      "(1, 268203)\n",
      "Loaded inverse HVP from output/poisoning_900_300_inception_wd-0.001-test-[15, 32, 6].npz\n",
      "Inverse HVP took 0.000619888305664 sec\n",
      "Entering the for loop\n"
     ]
    },
    {
     "name": "stderr",
     "output_type": "stream",
     "text": [
      "[iter_attack.py:169 -     iterative_attack() ] Attach_iter 3 perturbation shape: (1, 268203), perturbation: [[-2.97590486e-05 -2.84017442e-04  9.63712882e-05 ... -4.45984799e-04\n",
      "   3.72876711e-05  1.86808946e-04]]\n"
     ]
    },
    {
     "name": "stdout",
     "output_type": "stream",
     "text": [
      "(1, 268203)\n",
      "2 2\n",
      "Shape (2, 2048)\n",
      "Using normal model\n"
     ]
    },
    {
     "name": "stderr",
     "output_type": "stream",
     "text": [
      "[genericNeuralNet.py:328 -     print_model_eval() ] Train loss (w reg) on all data: 0.012196319\n",
      "[genericNeuralNet.py:329 -     print_model_eval() ] Train loss (w/o reg) on all data: 0.0040977458\n",
      "[genericNeuralNet.py:331 -     print_model_eval() ] Test loss (w/o reg) on all data: 0.0483879\n",
      "[genericNeuralNet.py:332 -     print_model_eval() ] Train acc on all data:  1.0\n",
      "[genericNeuralNet.py:333 -     print_model_eval() ] Test acc on all data:   0.9833333333333333\n",
      "[genericNeuralNet.py:335 -     print_model_eval() ] Norm of the mean of gradients: 0.0019737592\n",
      "[genericNeuralNet.py:336 -     print_model_eval() ] Norm of the params: 4.0245676\n",
      "[iter_attack.py:209 -     iterative_attack() ] Test_idx: 15 Test pred (full): [[0.9860977  0.01390232]]\n",
      "[iter_attack.py:209 -     iterative_attack() ] Test_idx: 32 Test pred (full): [[0.99751043 0.00248949]]\n"
     ]
    },
    {
     "name": "stdout",
     "output_type": "stream",
     "text": [
      "LBFGS training took [30] iter.\n",
      "After training with LBFGS: \n"
     ]
    },
    {
     "name": "stderr",
     "output_type": "stream",
     "text": [
      "[iter_attack.py:209 -     iterative_attack() ] Test_idx: 6 Test pred (full): [[1.593027e-04 9.998406e-01]]\n",
      "[iter_attack.py:210 -     iterative_attack() ] ---------------------\n",
      "[iter_attack.py:215 -     iterative_attack() ] Test_idx: 15 Test pred (top): [[0.9860977  0.01390232]]\n",
      "[iter_attack.py:215 -     iterative_attack() ] Test_idx: 32 Test pred (top): [[0.99751043 0.00248949]]\n",
      "[iter_attack.py:215 -     iterative_attack() ] Test_idx: 6 Test pred (top): [[1.593027e-04 9.998406e-01]]\n",
      "[iter_attack.py:147 -     iterative_attack() ] *** Iter: 4\n"
     ]
    },
    {
     "name": "stdout",
     "output_type": "stream",
     "text": [
      "Total number of parameters: 2048\n"
     ]
    },
    {
     "name": "stderr",
     "output_type": "stream",
     "text": [
      "[iter_attack.py:169 -     iterative_attack() ] Attach_iter 4 perturbation shape: (1, 268203), perturbation: [[ 1.08778593e-03 -8.65949085e-04 -1.61377701e-03 ...  9.90660512e-04\n",
      "   4.67863865e-05  1.39611075e-06]]\n"
     ]
    },
    {
     "name": "stdout",
     "output_type": "stream",
     "text": [
      "Warning: Desired error not necessarily achieved due to precision loss.\n",
      "         Current function value: -0.522960\n",
      "         Iterations: 5\n",
      "         Function evaluations: 78\n",
      "         Gradient evaluations: 72\n",
      "         Hessian evaluations: 39\n",
      "Inverse HVP took 2.1010890007 sec\n",
      "Loaded inverse HVP from output/poisoning_900_300_inception_wd-0.001-test-[15, 32, 6].npz\n",
      "Inverse HVP took 0.000530958175659 sec\n",
      "Entering the for loop\n",
      "(1, 268203)\n",
      "Loaded inverse HVP from output/poisoning_900_300_inception_wd-0.001-test-[15, 32, 6].npz\n",
      "Inverse HVP took 0.000602960586548 sec\n",
      "Entering the for loop\n"
     ]
    },
    {
     "name": "stderr",
     "output_type": "stream",
     "text": [
      "[iter_attack.py:169 -     iterative_attack() ] Attach_iter 4 perturbation shape: (1, 268203), perturbation: [[ 3.22061314e-05 -1.52317953e-04  1.18900927e-04 ... -3.08641844e-04\n",
      "   3.77183096e-05  7.30596075e-05]]\n"
     ]
    },
    {
     "name": "stdout",
     "output_type": "stream",
     "text": [
      "(1, 268203)\n",
      "2 2\n",
      "Shape (2, 2048)\n",
      "Using normal model\n"
     ]
    },
    {
     "name": "stderr",
     "output_type": "stream",
     "text": [
      "[genericNeuralNet.py:328 -     print_model_eval() ] Train loss (w reg) on all data: 0.012209404\n",
      "[genericNeuralNet.py:329 -     print_model_eval() ] Train loss (w/o reg) on all data: 0.004107521\n",
      "[genericNeuralNet.py:331 -     print_model_eval() ] Test loss (w/o reg) on all data: 0.048356846\n",
      "[genericNeuralNet.py:332 -     print_model_eval() ] Train acc on all data:  1.0\n",
      "[genericNeuralNet.py:333 -     print_model_eval() ] Test acc on all data:   0.9833333333333333\n",
      "[genericNeuralNet.py:335 -     print_model_eval() ] Norm of the mean of gradients: 0.0020188633\n",
      "[genericNeuralNet.py:336 -     print_model_eval() ] Norm of the params: 4.0253906\n",
      "[iter_attack.py:209 -     iterative_attack() ] Test_idx: 15 Test pred (full): [[0.9842755  0.01572454]]\n",
      "[iter_attack.py:209 -     iterative_attack() ] Test_idx: 32 Test pred (full): [[0.99753845 0.00246154]]\n"
     ]
    },
    {
     "name": "stdout",
     "output_type": "stream",
     "text": [
      "LBFGS training took [36] iter.\n",
      "After training with LBFGS: \n"
     ]
    },
    {
     "name": "stderr",
     "output_type": "stream",
     "text": [
      "[iter_attack.py:209 -     iterative_attack() ] Test_idx: 6 Test pred (full): [[1.6243022e-04 9.9983752e-01]]\n",
      "[iter_attack.py:210 -     iterative_attack() ] ---------------------\n",
      "[iter_attack.py:215 -     iterative_attack() ] Test_idx: 15 Test pred (top): [[0.9842755  0.01572454]]\n",
      "[iter_attack.py:215 -     iterative_attack() ] Test_idx: 32 Test pred (top): [[0.99753845 0.00246154]]\n",
      "[iter_attack.py:215 -     iterative_attack() ] Test_idx: 6 Test pred (top): [[1.6243022e-04 9.9983752e-01]]\n",
      "[iter_attack.py:147 -     iterative_attack() ] *** Iter: 5\n"
     ]
    },
    {
     "name": "stdout",
     "output_type": "stream",
     "text": [
      "Total number of parameters: 2048\n"
     ]
    },
    {
     "name": "stderr",
     "output_type": "stream",
     "text": [
      "[iter_attack.py:169 -     iterative_attack() ] Attach_iter 5 perturbation shape: (1, 268203), perturbation: [[ 0.00035388 -0.00143724 -0.0011931  ...  0.0021665  -0.00024828\n",
      "  -0.00010453]]\n"
     ]
    },
    {
     "name": "stdout",
     "output_type": "stream",
     "text": [
      "Warning: Desired error not necessarily achieved due to precision loss.\n",
      "         Current function value: -0.669339\n",
      "         Iterations: 7\n",
      "         Function evaluations: 81\n",
      "         Gradient evaluations: 76\n",
      "         Hessian evaluations: 44\n",
      "Inverse HVP took 2.15237784386 sec\n",
      "Loaded inverse HVP from output/poisoning_900_300_inception_wd-0.001-test-[15, 32, 6].npz\n",
      "Inverse HVP took 0.000521183013916 sec\n",
      "Entering the for loop\n",
      "(1, 268203)\n",
      "Loaded inverse HVP from output/poisoning_900_300_inception_wd-0.001-test-[15, 32, 6].npz\n",
      "Inverse HVP took 0.000716924667358 sec\n",
      "Entering the for loop\n"
     ]
    },
    {
     "name": "stderr",
     "output_type": "stream",
     "text": [
      "[iter_attack.py:169 -     iterative_attack() ] Attach_iter 5 perturbation shape: (1, 268203), perturbation: [[ 6.93684633e-05 -8.36890831e-05  1.02181024e-04 ... -2.40598936e-04\n",
      "   1.39779280e-04 -2.49827899e-05]]\n"
     ]
    },
    {
     "name": "stdout",
     "output_type": "stream",
     "text": [
      "(1, 268203)\n",
      "2 2\n",
      "Shape (2, 2048)\n",
      "Using normal model\n"
     ]
    },
    {
     "name": "stderr",
     "output_type": "stream",
     "text": [
      "[genericNeuralNet.py:328 -     print_model_eval() ] Train loss (w reg) on all data: 0.012217971\n",
      "[genericNeuralNet.py:329 -     print_model_eval() ] Train loss (w/o reg) on all data: 0.004106803\n",
      "[genericNeuralNet.py:331 -     print_model_eval() ] Test loss (w/o reg) on all data: 0.048286665\n",
      "[genericNeuralNet.py:332 -     print_model_eval() ] Train acc on all data:  1.0\n",
      "[genericNeuralNet.py:333 -     print_model_eval() ] Test acc on all data:   0.9833333333333333\n",
      "[genericNeuralNet.py:335 -     print_model_eval() ] Norm of the mean of gradients: 0.0019077654\n",
      "[genericNeuralNet.py:336 -     print_model_eval() ] Norm of the params: 4.0276957\n",
      "[iter_attack.py:209 -     iterative_attack() ] Test_idx: 15 Test pred (full): [[0.98239475 0.01760528]]\n",
      "[iter_attack.py:209 -     iterative_attack() ] Test_idx: 32 Test pred (full): [[0.9975739  0.00242612]]\n"
     ]
    },
    {
     "name": "stdout",
     "output_type": "stream",
     "text": [
      "LBFGS training took [35] iter.\n",
      "After training with LBFGS: \n"
     ]
    },
    {
     "name": "stderr",
     "output_type": "stream",
     "text": [
      "[iter_attack.py:209 -     iterative_attack() ] Test_idx: 6 Test pred (full): [[1.646104e-04 9.998354e-01]]\n",
      "[iter_attack.py:210 -     iterative_attack() ] ---------------------\n",
      "[iter_attack.py:215 -     iterative_attack() ] Test_idx: 15 Test pred (top): [[0.98239475 0.01760528]]\n",
      "[iter_attack.py:215 -     iterative_attack() ] Test_idx: 32 Test pred (top): [[0.9975739  0.00242612]]\n",
      "[iter_attack.py:215 -     iterative_attack() ] Test_idx: 6 Test pred (top): [[1.646104e-04 9.998354e-01]]\n",
      "[iter_attack.py:147 -     iterative_attack() ] *** Iter: 6\n"
     ]
    },
    {
     "name": "stdout",
     "output_type": "stream",
     "text": [
      "Total number of parameters: 2048\n"
     ]
    },
    {
     "name": "stderr",
     "output_type": "stream",
     "text": [
      "[iter_attack.py:169 -     iterative_attack() ] Attach_iter 6 perturbation shape: (1, 268203), perturbation: [[ 0.00191357 -0.00029029  0.00010652 ...  0.00149696 -0.00036341\n",
      "   0.00019569]]\n"
     ]
    },
    {
     "name": "stdout",
     "output_type": "stream",
     "text": [
      "Warning: Desired error not necessarily achieved due to precision loss.\n",
      "         Current function value: -0.837836\n",
      "         Iterations: 6\n",
      "         Function evaluations: 72\n",
      "         Gradient evaluations: 66\n",
      "         Hessian evaluations: 39\n",
      "Inverse HVP took 1.93169212341 sec\n",
      "Loaded inverse HVP from output/poisoning_900_300_inception_wd-0.001-test-[15, 32, 6].npz\n",
      "Inverse HVP took 0.000530004501343 sec\n",
      "Entering the for loop\n",
      "(1, 268203)\n",
      "Loaded inverse HVP from output/poisoning_900_300_inception_wd-0.001-test-[15, 32, 6].npz\n",
      "Inverse HVP took 0.000717878341675 sec\n",
      "Entering the for loop\n"
     ]
    },
    {
     "name": "stderr",
     "output_type": "stream",
     "text": [
      "[iter_attack.py:169 -     iterative_attack() ] Attach_iter 6 perturbation shape: (1, 268203), perturbation: [[-3.89616616e-05 -1.77453723e-04  2.70736218e-05 ... -2.22000206e-04\n",
      "   6.14462988e-05  4.25822182e-05]]\n"
     ]
    },
    {
     "name": "stdout",
     "output_type": "stream",
     "text": [
      "(1, 268203)\n",
      "2 2\n",
      "Shape (2, 2048)\n",
      "Using normal model\n"
     ]
    },
    {
     "name": "stderr",
     "output_type": "stream",
     "text": [
      "[genericNeuralNet.py:328 -     print_model_eval() ] Train loss (w reg) on all data: 0.0122235\n",
      "[genericNeuralNet.py:329 -     print_model_eval() ] Train loss (w/o reg) on all data: 0.0041001365\n",
      "[genericNeuralNet.py:331 -     print_model_eval() ] Test loss (w/o reg) on all data: 0.048349578\n",
      "[genericNeuralNet.py:332 -     print_model_eval() ] Train acc on all data:  1.0\n",
      "[genericNeuralNet.py:333 -     print_model_eval() ] Test acc on all data:   0.9833333333333333\n",
      "[genericNeuralNet.py:335 -     print_model_eval() ] Norm of the mean of gradients: 0.0017000851\n",
      "[genericNeuralNet.py:336 -     print_model_eval() ] Norm of the params: 4.0307226\n",
      "[iter_attack.py:209 -     iterative_attack() ] Test_idx: 15 Test pred (full): [[0.98036057 0.01963942]]\n",
      "[iter_attack.py:209 -     iterative_attack() ] Test_idx: 32 Test pred (full): [[0.997595   0.00240498]]\n"
     ]
    },
    {
     "name": "stdout",
     "output_type": "stream",
     "text": [
      "LBFGS training took [40] iter.\n",
      "After training with LBFGS: \n"
     ]
    },
    {
     "name": "stderr",
     "output_type": "stream",
     "text": [
      "[iter_attack.py:209 -     iterative_attack() ] Test_idx: 6 Test pred (full): [[1.6625851e-04 9.9983370e-01]]\n",
      "[iter_attack.py:210 -     iterative_attack() ] ---------------------\n",
      "[iter_attack.py:215 -     iterative_attack() ] Test_idx: 15 Test pred (top): [[0.98036057 0.01963942]]\n",
      "[iter_attack.py:215 -     iterative_attack() ] Test_idx: 32 Test pred (top): [[0.997595   0.00240498]]\n",
      "[iter_attack.py:215 -     iterative_attack() ] Test_idx: 6 Test pred (top): [[1.6625851e-04 9.9983370e-01]]\n",
      "[iter_attack.py:147 -     iterative_attack() ] *** Iter: 7\n"
     ]
    },
    {
     "name": "stdout",
     "output_type": "stream",
     "text": [
      "Total number of parameters: 2048\n"
     ]
    },
    {
     "name": "stderr",
     "output_type": "stream",
     "text": [
      "[iter_attack.py:169 -     iterative_attack() ] Attach_iter 7 perturbation shape: (1, 268203), perturbation: [[-0.00042997 -0.00029466  0.00136964 ... -0.00142406  0.00157658\n",
      "  -0.0009843 ]]\n"
     ]
    },
    {
     "name": "stdout",
     "output_type": "stream",
     "text": [
      "Warning: Desired error not necessarily achieved due to precision loss.\n",
      "         Current function value: -1.038680\n",
      "         Iterations: 7\n",
      "         Function evaluations: 83\n",
      "         Gradient evaluations: 78\n",
      "         Hessian evaluations: 48\n",
      "Inverse HVP took 2.27702403069 sec\n",
      "Loaded inverse HVP from output/poisoning_900_300_inception_wd-0.001-test-[15, 32, 6].npz\n",
      "Inverse HVP took 0.000523090362549 sec\n",
      "Entering the for loop\n",
      "(1, 268203)\n",
      "Loaded inverse HVP from output/poisoning_900_300_inception_wd-0.001-test-[15, 32, 6].npz\n",
      "Inverse HVP took 0.000602006912231 sec\n",
      "Entering the for loop\n"
     ]
    },
    {
     "name": "stderr",
     "output_type": "stream",
     "text": [
      "[iter_attack.py:169 -     iterative_attack() ] Attach_iter 7 perturbation shape: (1, 268203), perturbation: [[-1.82983858e-05 -8.36731779e-05  3.04949936e-07 ... -1.27598090e-04\n",
      "   4.75011839e-05  5.91398748e-06]]\n"
     ]
    },
    {
     "name": "stdout",
     "output_type": "stream",
     "text": [
      "(1, 268203)\n",
      "2 2\n",
      "Shape (2, 2048)\n",
      "Using normal model\n"
     ]
    },
    {
     "name": "stderr",
     "output_type": "stream",
     "text": [
      "[genericNeuralNet.py:328 -     print_model_eval() ] Train loss (w reg) on all data: 0.012231654\n",
      "[genericNeuralNet.py:329 -     print_model_eval() ] Train loss (w/o reg) on all data: 0.004092936\n",
      "[genericNeuralNet.py:331 -     print_model_eval() ] Test loss (w/o reg) on all data: 0.048203222\n",
      "[genericNeuralNet.py:332 -     print_model_eval() ] Train acc on all data:  1.0\n",
      "[genericNeuralNet.py:333 -     print_model_eval() ] Test acc on all data:   0.9833333333333333\n",
      "[genericNeuralNet.py:335 -     print_model_eval() ] Norm of the mean of gradients: 0.001476568\n",
      "[genericNeuralNet.py:336 -     print_model_eval() ] Norm of the params: 4.03453\n",
      "[iter_attack.py:209 -     iterative_attack() ] Test_idx: 15 Test pred (full): [[0.97816235 0.02183766]]\n",
      "[iter_attack.py:209 -     iterative_attack() ] Test_idx: 32 Test pred (full): [[0.9976095  0.00239052]]\n"
     ]
    },
    {
     "name": "stdout",
     "output_type": "stream",
     "text": [
      "LBFGS training took [42] iter.\n",
      "After training with LBFGS: \n"
     ]
    },
    {
     "name": "stderr",
     "output_type": "stream",
     "text": [
      "[iter_attack.py:209 -     iterative_attack() ] Test_idx: 6 Test pred (full): [[1.6856079e-04 9.9983144e-01]]\n",
      "[iter_attack.py:210 -     iterative_attack() ] ---------------------\n",
      "[iter_attack.py:215 -     iterative_attack() ] Test_idx: 15 Test pred (top): [[0.97816235 0.02183766]]\n",
      "[iter_attack.py:215 -     iterative_attack() ] Test_idx: 32 Test pred (top): [[0.9976095  0.00239052]]\n",
      "[iter_attack.py:215 -     iterative_attack() ] Test_idx: 6 Test pred (top): [[1.6856079e-04 9.9983144e-01]]\n",
      "[iter_attack.py:147 -     iterative_attack() ] *** Iter: 8\n"
     ]
    },
    {
     "name": "stdout",
     "output_type": "stream",
     "text": [
      "Total number of parameters: 2048\n"
     ]
    },
    {
     "name": "stderr",
     "output_type": "stream",
     "text": [
      "[iter_attack.py:169 -     iterative_attack() ] Attach_iter 8 perturbation shape: (1, 268203), perturbation: [[ 0.00170978  0.00081624  0.00188697 ...  0.00183166 -0.00260414\n",
      "   0.00195491]]\n"
     ]
    },
    {
     "name": "stdout",
     "output_type": "stream",
     "text": [
      "Warning: Desired error not necessarily achieved due to precision loss.\n",
      "         Current function value: -1.278022\n",
      "         Iterations: 7\n",
      "         Function evaluations: 93\n",
      "         Gradient evaluations: 88\n",
      "         Hessian evaluations: 50\n",
      "Inverse HVP took 2.4718940258 sec\n",
      "Loaded inverse HVP from output/poisoning_900_300_inception_wd-0.001-test-[15, 32, 6].npz\n",
      "Inverse HVP took 0.000576019287109 sec\n",
      "Entering the for loop\n",
      "(1, 268203)\n",
      "Loaded inverse HVP from output/poisoning_900_300_inception_wd-0.001-test-[15, 32, 6].npz\n",
      "Inverse HVP took 0.00071382522583 sec\n",
      "Entering the for loop\n"
     ]
    },
    {
     "name": "stderr",
     "output_type": "stream",
     "text": [
      "[iter_attack.py:169 -     iterative_attack() ] Attach_iter 8 perturbation shape: (1, 268203), perturbation: [[-1.90998799e-05 -6.72298775e-05 -8.20266087e-06 ... -2.55875111e-05\n",
      "   2.83770296e-05 -6.29309070e-05]]\n"
     ]
    },
    {
     "name": "stdout",
     "output_type": "stream",
     "text": [
      "(1, 268203)\n",
      "2 2\n",
      "Shape (2, 2048)\n",
      "Using normal model\n"
     ]
    },
    {
     "name": "stderr",
     "output_type": "stream",
     "text": [
      "[genericNeuralNet.py:328 -     print_model_eval() ] Train loss (w reg) on all data: 0.01223766\n",
      "[genericNeuralNet.py:329 -     print_model_eval() ] Train loss (w/o reg) on all data: 0.0040799575\n",
      "[genericNeuralNet.py:331 -     print_model_eval() ] Test loss (w/o reg) on all data: 0.048140306\n",
      "[genericNeuralNet.py:332 -     print_model_eval() ] Train acc on all data:  1.0\n",
      "[genericNeuralNet.py:333 -     print_model_eval() ] Test acc on all data:   0.9833333333333333\n",
      "[genericNeuralNet.py:335 -     print_model_eval() ] Norm of the mean of gradients: 0.0011639268\n",
      "[genericNeuralNet.py:336 -     print_model_eval() ] Norm of the params: 4.0392327\n",
      "[iter_attack.py:209 -     iterative_attack() ] Test_idx: 15 Test pred (full): [[0.975669   0.02433095]]\n",
      "[iter_attack.py:209 -     iterative_attack() ] Test_idx: 32 Test pred (full): [[0.9976291  0.00237097]]\n"
     ]
    },
    {
     "name": "stdout",
     "output_type": "stream",
     "text": [
      "LBFGS training took [39] iter.\n",
      "After training with LBFGS: \n"
     ]
    },
    {
     "name": "stderr",
     "output_type": "stream",
     "text": [
      "[iter_attack.py:209 -     iterative_attack() ] Test_idx: 6 Test pred (full): [[1.6793031e-04 9.9983203e-01]]\n",
      "[iter_attack.py:210 -     iterative_attack() ] ---------------------\n",
      "[iter_attack.py:215 -     iterative_attack() ] Test_idx: 15 Test pred (top): [[0.975669   0.02433095]]\n",
      "[iter_attack.py:215 -     iterative_attack() ] Test_idx: 32 Test pred (top): [[0.9976291  0.00237097]]\n",
      "[iter_attack.py:215 -     iterative_attack() ] Test_idx: 6 Test pred (top): [[1.6793031e-04 9.9983203e-01]]\n",
      "[iter_attack.py:147 -     iterative_attack() ] *** Iter: 9\n"
     ]
    },
    {
     "name": "stdout",
     "output_type": "stream",
     "text": [
      "Total number of parameters: 2048\n"
     ]
    },
    {
     "name": "stderr",
     "output_type": "stream",
     "text": [
      "[iter_attack.py:169 -     iterative_attack() ] Attach_iter 9 perturbation shape: (1, 268203), perturbation: [[-0.00078588 -0.00337135 -0.00072455 ... -0.00302778  0.00179754\n",
      "  -0.0019982 ]]\n"
     ]
    },
    {
     "name": "stdout",
     "output_type": "stream",
     "text": [
      "Warning: Desired error not necessarily achieved due to precision loss.\n",
      "         Current function value: -1.577688\n",
      "         Iterations: 7\n",
      "         Function evaluations: 77\n",
      "         Gradient evaluations: 72\n",
      "         Hessian evaluations: 48\n",
      "Inverse HVP took 2.11951398849 sec\n",
      "Loaded inverse HVP from output/poisoning_900_300_inception_wd-0.001-test-[15, 32, 6].npz\n",
      "Inverse HVP took 0.000530004501343 sec\n",
      "Entering the for loop\n",
      "(1, 268203)\n",
      "Loaded inverse HVP from output/poisoning_900_300_inception_wd-0.001-test-[15, 32, 6].npz\n",
      "Inverse HVP took 0.000627994537354 sec\n",
      "Entering the for loop\n"
     ]
    },
    {
     "name": "stderr",
     "output_type": "stream",
     "text": [
      "[iter_attack.py:169 -     iterative_attack() ] Attach_iter 9 perturbation shape: (1, 268203), perturbation: [[-1.02829854e-05 -1.17250202e-05  4.12186318e-06 ... -3.39138787e-05\n",
      "  -2.99692488e-06  3.96539872e-06]]\n"
     ]
    },
    {
     "name": "stdout",
     "output_type": "stream",
     "text": [
      "(1, 268203)\n",
      "2 2\n",
      "Shape (2, 2048)\n",
      "Using normal model\n"
     ]
    },
    {
     "name": "stderr",
     "output_type": "stream",
     "text": [
      "[genericNeuralNet.py:328 -     print_model_eval() ] Train loss (w reg) on all data: 0.012250378\n",
      "[genericNeuralNet.py:329 -     print_model_eval() ] Train loss (w/o reg) on all data: 0.004076101\n",
      "[genericNeuralNet.py:331 -     print_model_eval() ] Test loss (w/o reg) on all data: 0.048081603\n",
      "[genericNeuralNet.py:332 -     print_model_eval() ] Train acc on all data:  1.0\n",
      "[genericNeuralNet.py:333 -     print_model_eval() ] Test acc on all data:   0.9833333333333333\n",
      "[genericNeuralNet.py:335 -     print_model_eval() ] Norm of the mean of gradients: 0.0009940773\n",
      "[genericNeuralNet.py:336 -     print_model_eval() ] Norm of the params: 4.0433345\n",
      "[iter_attack.py:209 -     iterative_attack() ] Test_idx: 15 Test pred (full): [[0.97302103 0.02697898]]\n",
      "[iter_attack.py:209 -     iterative_attack() ] Test_idx: 32 Test pred (full): [[0.99763405 0.00236597]]\n"
     ]
    },
    {
     "name": "stdout",
     "output_type": "stream",
     "text": [
      "LBFGS training took [40] iter.\n",
      "After training with LBFGS: \n"
     ]
    },
    {
     "name": "stderr",
     "output_type": "stream",
     "text": [
      "[iter_attack.py:209 -     iterative_attack() ] Test_idx: 6 Test pred (full): [[1.6973123e-04 9.9983025e-01]]\n",
      "[iter_attack.py:210 -     iterative_attack() ] ---------------------\n",
      "[iter_attack.py:215 -     iterative_attack() ] Test_idx: 15 Test pred (top): [[0.97302103 0.02697898]]\n",
      "[iter_attack.py:215 -     iterative_attack() ] Test_idx: 32 Test pred (top): [[0.99763405 0.00236597]]\n",
      "[iter_attack.py:215 -     iterative_attack() ] Test_idx: 6 Test pred (top): [[1.6973123e-04 9.9983025e-01]]\n",
      "[iter_attack.py:147 -     iterative_attack() ] *** Iter: 10\n"
     ]
    },
    {
     "name": "stdout",
     "output_type": "stream",
     "text": [
      "Total number of parameters: 2048\n"
     ]
    },
    {
     "name": "stderr",
     "output_type": "stream",
     "text": [
      "[iter_attack.py:169 -     iterative_attack() ] Attach_iter 10 perturbation shape: (1, 268203), perturbation: [[ 0.00162972  0.00253488  0.00607582 ...  0.00062506 -0.00306301\n",
      "   0.00229116]]\n"
     ]
    },
    {
     "name": "stdout",
     "output_type": "stream",
     "text": [
      "Warning: Desired error not necessarily achieved due to precision loss.\n",
      "         Current function value: -1.927719\n",
      "         Iterations: 6\n",
      "         Function evaluations: 82\n",
      "         Gradient evaluations: 76\n",
      "         Hessian evaluations: 47\n",
      "Inverse HVP took 2.21304512024 sec\n",
      "Loaded inverse HVP from output/poisoning_900_300_inception_wd-0.001-test-[15, 32, 6].npz\n",
      "Inverse HVP took 0.000530958175659 sec\n",
      "Entering the for loop\n",
      "(1, 268203)\n",
      "Loaded inverse HVP from output/poisoning_900_300_inception_wd-0.001-test-[15, 32, 6].npz\n",
      "Inverse HVP took 0.000650882720947 sec\n",
      "Entering the for loop\n"
     ]
    },
    {
     "name": "stderr",
     "output_type": "stream",
     "text": [
      "[iter_attack.py:169 -     iterative_attack() ] Attach_iter 10 perturbation shape: (1, 268203), perturbation: [[ 6.08972232e-06  8.24783911e-07  9.59374665e-06 ...  2.14055513e-06\n",
      "   8.52337735e-07 -2.44362618e-05]]\n"
     ]
    },
    {
     "name": "stdout",
     "output_type": "stream",
     "text": [
      "(1, 268203)\n",
      "2 2\n",
      "Shape (2, 2048)\n",
      "Using normal model\n"
     ]
    },
    {
     "name": "stderr",
     "output_type": "stream",
     "text": [
      "[genericNeuralNet.py:328 -     print_model_eval() ] Train loss (w reg) on all data: 0.012264137\n",
      "[genericNeuralNet.py:329 -     print_model_eval() ] Train loss (w/o reg) on all data: 0.0040706918\n",
      "[genericNeuralNet.py:331 -     print_model_eval() ] Test loss (w/o reg) on all data: 0.048023783\n",
      "[genericNeuralNet.py:332 -     print_model_eval() ] Train acc on all data:  1.0\n",
      "[genericNeuralNet.py:333 -     print_model_eval() ] Test acc on all data:   0.9833333333333333\n",
      "[genericNeuralNet.py:335 -     print_model_eval() ] Norm of the mean of gradients: 0.0008633233\n",
      "[genericNeuralNet.py:336 -     print_model_eval() ] Norm of the params: 4.048073\n",
      "[iter_attack.py:209 -     iterative_attack() ] Test_idx: 15 Test pred (full): [[0.9701313  0.02986875]]\n",
      "[iter_attack.py:209 -     iterative_attack() ] Test_idx: 32 Test pred (full): [[0.997633   0.00236704]]\n"
     ]
    },
    {
     "name": "stdout",
     "output_type": "stream",
     "text": [
      "LBFGS training took [40] iter.\n",
      "After training with LBFGS: \n"
     ]
    },
    {
     "name": "stderr",
     "output_type": "stream",
     "text": [
      "[iter_attack.py:209 -     iterative_attack() ] Test_idx: 6 Test pred (full): [[1.7117854e-04 9.9982882e-01]]\n",
      "[iter_attack.py:210 -     iterative_attack() ] ---------------------\n",
      "[iter_attack.py:215 -     iterative_attack() ] Test_idx: 15 Test pred (top): [[0.9701313  0.02986875]]\n",
      "[iter_attack.py:215 -     iterative_attack() ] Test_idx: 32 Test pred (top): [[0.997633   0.00236704]]\n",
      "[iter_attack.py:215 -     iterative_attack() ] Test_idx: 6 Test pred (top): [[1.7117854e-04 9.9982882e-01]]\n",
      "[iter_attack.py:147 -     iterative_attack() ] *** Iter: 11\n"
     ]
    },
    {
     "name": "stdout",
     "output_type": "stream",
     "text": [
      "Total number of parameters: 2048\n"
     ]
    },
    {
     "name": "stderr",
     "output_type": "stream",
     "text": [
      "[iter_attack.py:169 -     iterative_attack() ] Attach_iter 11 perturbation shape: (1, 268203), perturbation: [[ 5.81763219e-04  8.84599052e-04  8.22983391e-04 ... -2.70409905e-03\n",
      "   5.79352491e-05 -4.77637630e-04]]\n"
     ]
    },
    {
     "name": "stdout",
     "output_type": "stream",
     "text": [
      "Warning: Desired error not necessarily achieved due to precision loss.\n",
      "         Current function value: -2.349232\n",
      "         Iterations: 8\n",
      "         Function evaluations: 13\n",
      "         Gradient evaluations: 20\n",
      "         Hessian evaluations: 50\n",
      "Inverse HVP took 0.915137052536 sec\n",
      "Loaded inverse HVP from output/poisoning_900_300_inception_wd-0.001-test-[15, 32, 6].npz\n",
      "Inverse HVP took 0.000550985336304 sec\n",
      "Entering the for loop\n",
      "(1, 268203)\n",
      "Loaded inverse HVP from output/poisoning_900_300_inception_wd-0.001-test-[15, 32, 6].npz\n",
      "Inverse HVP took 0.000602960586548 sec\n",
      "Entering the for loop\n"
     ]
    },
    {
     "name": "stderr",
     "output_type": "stream",
     "text": [
      "[iter_attack.py:169 -     iterative_attack() ] Attach_iter 11 perturbation shape: (1, 268203), perturbation: [[ 4.07755124e-06 -1.44449564e-06  4.05760557e-06 ... -1.98506423e-05\n",
      "   1.08562176e-06  2.08189385e-06]]\n"
     ]
    },
    {
     "name": "stdout",
     "output_type": "stream",
     "text": [
      "(1, 268203)\n",
      "2 2\n",
      "Shape (2, 2048)\n",
      "Using normal model\n"
     ]
    },
    {
     "name": "stderr",
     "output_type": "stream",
     "text": [
      "[genericNeuralNet.py:328 -     print_model_eval() ] Train loss (w reg) on all data: 0.012281958\n",
      "[genericNeuralNet.py:329 -     print_model_eval() ] Train loss (w/o reg) on all data: 0.0040695975\n",
      "[genericNeuralNet.py:331 -     print_model_eval() ] Test loss (w/o reg) on all data: 0.048064306\n",
      "[genericNeuralNet.py:332 -     print_model_eval() ] Train acc on all data:  1.0\n",
      "[genericNeuralNet.py:333 -     print_model_eval() ] Test acc on all data:   0.9833333333333333\n",
      "[genericNeuralNet.py:335 -     print_model_eval() ] Norm of the mean of gradients: 0.000840219\n",
      "[genericNeuralNet.py:336 -     print_model_eval() ] Norm of the params: 4.052743\n",
      "[iter_attack.py:209 -     iterative_attack() ] Test_idx: 15 Test pred (full): [[0.9669116  0.03308842]]\n",
      "[iter_attack.py:209 -     iterative_attack() ] Test_idx: 32 Test pred (full): [[0.9976336  0.00236645]]\n",
      "[iter_attack.py:209 -     iterative_attack() ] Test_idx: 6 Test pred (full): [[1.7302828e-04 9.9982697e-01]]\n",
      "[iter_attack.py:210 -     iterative_attack() ] ---------------------\n",
      "[iter_attack.py:215 -     iterative_attack() ] Test_idx: 15 Test pred (top): [[0.9669116  0.03308842]]\n",
      "[iter_attack.py:215 -     iterative_attack() ] Test_idx: 32 Test pred (top): [[0.9976336  0.00236645]]\n",
      "[iter_attack.py:215 -     iterative_attack() ] Test_idx: 6 Test pred (top): [[1.7302828e-04 9.9982697e-01]]\n",
      "[iter_attack.py:147 -     iterative_attack() ] *** Iter: 12\n"
     ]
    },
    {
     "name": "stdout",
     "output_type": "stream",
     "text": [
      "LBFGS training took [41] iter.\n",
      "After training with LBFGS: \n",
      "Total number of parameters: 2048\n"
     ]
    },
    {
     "name": "stderr",
     "output_type": "stream",
     "text": [
      "[iter_attack.py:169 -     iterative_attack() ] Attach_iter 12 perturbation shape: (1, 268203), perturbation: [[ 0.00266371  0.0024498   0.00454312 ...  0.00335946 -0.00155056\n",
      "   0.00055963]]\n"
     ]
    },
    {
     "name": "stdout",
     "output_type": "stream",
     "text": [
      "Warning: Desired error not necessarily achieved due to precision loss.\n",
      "         Current function value: -2.864375\n",
      "         Iterations: 6\n",
      "         Function evaluations: 79\n",
      "         Gradient evaluations: 73\n",
      "         Hessian evaluations: 45\n",
      "Inverse HVP took 2.12859416008 sec\n",
      "Loaded inverse HVP from output/poisoning_900_300_inception_wd-0.001-test-[15, 32, 6].npz\n",
      "Inverse HVP took 0.000524997711182 sec\n",
      "Entering the for loop\n",
      "(1, 268203)\n",
      "Loaded inverse HVP from output/poisoning_900_300_inception_wd-0.001-test-[15, 32, 6].npz\n",
      "Inverse HVP took 0.000708818435669 sec\n",
      "Entering the for loop\n"
     ]
    },
    {
     "name": "stderr",
     "output_type": "stream",
     "text": [
      "[iter_attack.py:169 -     iterative_attack() ] Attach_iter 12 perturbation shape: (1, 268203), perturbation: [[ 8.12412145e-06  3.59329988e-06  1.05611543e-05 ...  7.05602906e-06\n",
      "  -2.70584383e-06 -1.45052973e-05]]\n"
     ]
    },
    {
     "name": "stdout",
     "output_type": "stream",
     "text": [
      "(1, 268203)\n",
      "2 2\n",
      "Shape (2, 2048)\n",
      "Using normal model\n"
     ]
    },
    {
     "name": "stderr",
     "output_type": "stream",
     "text": [
      "[genericNeuralNet.py:328 -     print_model_eval() ] Train loss (w reg) on all data: 0.012304226\n",
      "[genericNeuralNet.py:329 -     print_model_eval() ] Train loss (w/o reg) on all data: 0.0040700077\n",
      "[genericNeuralNet.py:331 -     print_model_eval() ] Test loss (w/o reg) on all data: 0.04792965\n",
      "[genericNeuralNet.py:332 -     print_model_eval() ] Train acc on all data:  1.0\n",
      "[genericNeuralNet.py:333 -     print_model_eval() ] Test acc on all data:   0.9833333333333333\n",
      "[genericNeuralNet.py:335 -     print_model_eval() ] Norm of the mean of gradients: 0.0009145312\n",
      "[genericNeuralNet.py:336 -     print_model_eval() ] Norm of the params: 4.0581326\n",
      "[iter_attack.py:209 -     iterative_attack() ] Test_idx: 15 Test pred (full): [[0.9633167  0.03668325]]\n",
      "[iter_attack.py:209 -     iterative_attack() ] Test_idx: 32 Test pred (full): [[0.99763143 0.00236851]]\n"
     ]
    },
    {
     "name": "stdout",
     "output_type": "stream",
     "text": [
      "LBFGS training took [42] iter.\n",
      "After training with LBFGS: \n"
     ]
    },
    {
     "name": "stderr",
     "output_type": "stream",
     "text": [
      "[iter_attack.py:209 -     iterative_attack() ] Test_idx: 6 Test pred (full): [[1.7517056e-04 9.9982482e-01]]\n",
      "[iter_attack.py:210 -     iterative_attack() ] ---------------------\n",
      "[iter_attack.py:215 -     iterative_attack() ] Test_idx: 15 Test pred (top): [[0.9633167  0.03668325]]\n",
      "[iter_attack.py:215 -     iterative_attack() ] Test_idx: 32 Test pred (top): [[0.99763143 0.00236851]]\n",
      "[iter_attack.py:215 -     iterative_attack() ] Test_idx: 6 Test pred (top): [[1.7517056e-04 9.9982482e-01]]\n",
      "[iter_attack.py:147 -     iterative_attack() ] *** Iter: 13\n"
     ]
    },
    {
     "name": "stdout",
     "output_type": "stream",
     "text": [
      "Total number of parameters: 2048\n"
     ]
    },
    {
     "name": "stderr",
     "output_type": "stream",
     "text": [
      "[iter_attack.py:169 -     iterative_attack() ] Attach_iter 13 perturbation shape: (1, 268203), perturbation: [[ 0.00098286  0.00313422 -0.00096143 ... -0.00260811 -0.00048726\n",
      "  -0.00036084]]\n"
     ]
    },
    {
     "name": "stdout",
     "output_type": "stream",
     "text": [
      "Warning: Desired error not necessarily achieved due to precision loss.\n",
      "         Current function value: -3.496795\n",
      "         Iterations: 6\n",
      "         Function evaluations: 74\n",
      "         Gradient evaluations: 69\n",
      "         Hessian evaluations: 41\n",
      "Inverse HVP took 2.03520202637 sec\n",
      "Loaded inverse HVP from output/poisoning_900_300_inception_wd-0.001-test-[15, 32, 6].npz\n",
      "Inverse HVP took 0.000523090362549 sec\n",
      "Entering the for loop\n",
      "(1, 268203)\n",
      "Loaded inverse HVP from output/poisoning_900_300_inception_wd-0.001-test-[15, 32, 6].npz\n",
      "Inverse HVP took 0.000603199005127 sec\n",
      "Entering the for loop\n"
     ]
    },
    {
     "name": "stderr",
     "output_type": "stream",
     "text": [
      "[iter_attack.py:169 -     iterative_attack() ] Attach_iter 13 perturbation shape: (1, 268203), perturbation: [[ 9.71683221e-07 -4.15337809e-07  4.87544980e-07 ... -1.19091337e-05\n",
      "  -1.94015593e-06  7.78458889e-06]]\n"
     ]
    },
    {
     "name": "stdout",
     "output_type": "stream",
     "text": [
      "(1, 268203)\n",
      "2 2\n",
      "Shape (2, 2048)\n",
      "Using normal model\n"
     ]
    },
    {
     "name": "stderr",
     "output_type": "stream",
     "text": [
      "[genericNeuralNet.py:328 -     print_model_eval() ] Train loss (w reg) on all data: 0.012330386\n",
      "[genericNeuralNet.py:329 -     print_model_eval() ] Train loss (w/o reg) on all data: 0.004069724\n",
      "[genericNeuralNet.py:331 -     print_model_eval() ] Test loss (w/o reg) on all data: 0.04777473\n",
      "[genericNeuralNet.py:332 -     print_model_eval() ] Train acc on all data:  1.0\n",
      "[genericNeuralNet.py:333 -     print_model_eval() ] Test acc on all data:   0.9833333333333333\n",
      "[genericNeuralNet.py:335 -     print_model_eval() ] Norm of the mean of gradients: 0.0010958163\n",
      "[genericNeuralNet.py:336 -     print_model_eval() ] Norm of the params: 4.0646434\n",
      "[iter_attack.py:209 -     iterative_attack() ] Test_idx: 15 Test pred (full): [[0.95935667 0.04064334]]\n",
      "[iter_attack.py:209 -     iterative_attack() ] Test_idx: 32 Test pred (full): [[0.99764204 0.00235803]]\n"
     ]
    },
    {
     "name": "stdout",
     "output_type": "stream",
     "text": [
      "LBFGS training took [39] iter.\n",
      "After training with LBFGS: \n"
     ]
    },
    {
     "name": "stderr",
     "output_type": "stream",
     "text": [
      "[iter_attack.py:209 -     iterative_attack() ] Test_idx: 6 Test pred (full): [[1.7487735e-04 9.9982518e-01]]\n",
      "[iter_attack.py:210 -     iterative_attack() ] ---------------------\n",
      "[iter_attack.py:215 -     iterative_attack() ] Test_idx: 15 Test pred (top): [[0.95935667 0.04064334]]\n",
      "[iter_attack.py:215 -     iterative_attack() ] Test_idx: 32 Test pred (top): [[0.99764204 0.00235803]]\n",
      "[iter_attack.py:215 -     iterative_attack() ] Test_idx: 6 Test pred (top): [[1.7487735e-04 9.9982518e-01]]\n",
      "[iter_attack.py:147 -     iterative_attack() ] *** Iter: 14\n"
     ]
    },
    {
     "name": "stdout",
     "output_type": "stream",
     "text": [
      "Total number of parameters: 2048\n"
     ]
    },
    {
     "name": "stderr",
     "output_type": "stream",
     "text": [
      "[iter_attack.py:169 -     iterative_attack() ] Attach_iter 14 perturbation shape: (1, 268203), perturbation: [[ 0.00080238  0.00522505  0.01433579 ...  0.00188889 -0.00226313\n",
      "   0.00178686]]\n"
     ]
    },
    {
     "name": "stdout",
     "output_type": "stream",
     "text": [
      "Warning: Desired error not necessarily achieved due to precision loss.\n",
      "         Current function value: -4.263048\n",
      "         Iterations: 7\n",
      "         Function evaluations: 72\n",
      "         Gradient evaluations: 68\n",
      "         Hessian evaluations: 49\n",
      "Inverse HVP took 2.0506029129 sec\n",
      "Loaded inverse HVP from output/poisoning_900_300_inception_wd-0.001-test-[15, 32, 6].npz\n",
      "Inverse HVP took 0.000522136688232 sec\n",
      "Entering the for loop\n",
      "(1, 268203)\n",
      "Loaded inverse HVP from output/poisoning_900_300_inception_wd-0.001-test-[15, 32, 6].npz\n",
      "Inverse HVP took 0.000697135925293 sec\n",
      "Entering the for loop\n"
     ]
    },
    {
     "name": "stderr",
     "output_type": "stream",
     "text": [
      "[iter_attack.py:169 -     iterative_attack() ] Attach_iter 14 perturbation shape: (1, 268203), perturbation: [[-1.69632722e-06 -2.60832530e-06  2.98461600e-06 ...  3.58023772e-06\n",
      "  -2.61067703e-06 -6.01942338e-06]]\n"
     ]
    },
    {
     "name": "stdout",
     "output_type": "stream",
     "text": [
      "(1, 268203)\n",
      "2 2\n",
      "Shape (2, 2048)\n",
      "Using normal model\n"
     ]
    },
    {
     "name": "stderr",
     "output_type": "stream",
     "text": [
      "[genericNeuralNet.py:328 -     print_model_eval() ] Train loss (w reg) on all data: 0.012357639\n",
      "[genericNeuralNet.py:329 -     print_model_eval() ] Train loss (w/o reg) on all data: 0.0040773163\n",
      "[genericNeuralNet.py:331 -     print_model_eval() ] Test loss (w/o reg) on all data: 0.0478405\n",
      "[genericNeuralNet.py:332 -     print_model_eval() ] Train acc on all data:  1.0\n",
      "[genericNeuralNet.py:333 -     print_model_eval() ] Test acc on all data:   0.9833333333333333\n",
      "[genericNeuralNet.py:335 -     print_model_eval() ] Norm of the mean of gradients: 0.0012392479\n",
      "[genericNeuralNet.py:336 -     print_model_eval() ] Norm of the params: 4.069478\n",
      "[iter_attack.py:209 -     iterative_attack() ] Test_idx: 15 Test pred (full): [[0.9548258  0.04517417]]\n",
      "[iter_attack.py:209 -     iterative_attack() ] Test_idx: 32 Test pred (full): [[0.99766433 0.00233568]]\n"
     ]
    },
    {
     "name": "stdout",
     "output_type": "stream",
     "text": [
      "LBFGS training took [46] iter.\n",
      "After training with LBFGS: \n"
     ]
    },
    {
     "name": "stderr",
     "output_type": "stream",
     "text": [
      "[iter_attack.py:209 -     iterative_attack() ] Test_idx: 6 Test pred (full): [[1.7712338e-04 9.9982291e-01]]\n",
      "[iter_attack.py:210 -     iterative_attack() ] ---------------------\n",
      "[iter_attack.py:215 -     iterative_attack() ] Test_idx: 15 Test pred (top): [[0.9548258  0.04517417]]\n",
      "[iter_attack.py:215 -     iterative_attack() ] Test_idx: 32 Test pred (top): [[0.99766433 0.00233568]]\n",
      "[iter_attack.py:215 -     iterative_attack() ] Test_idx: 6 Test pred (top): [[1.7712338e-04 9.9982291e-01]]\n",
      "[iter_attack.py:147 -     iterative_attack() ] *** Iter: 15\n"
     ]
    },
    {
     "name": "stdout",
     "output_type": "stream",
     "text": [
      "Total number of parameters: 2048\n"
     ]
    },
    {
     "name": "stderr",
     "output_type": "stream",
     "text": [
      "[iter_attack.py:169 -     iterative_attack() ] Attach_iter 15 perturbation shape: (1, 268203), perturbation: [[ 0.00269893 -0.00024599 -0.00616753 ...  0.00111724 -0.00099003\n",
      "  -0.00016508]]\n"
     ]
    },
    {
     "name": "stdout",
     "output_type": "stream",
     "text": [
      "Warning: Desired error not necessarily achieved due to precision loss.\n",
      "         Current function value: -5.231088\n",
      "         Iterations: 8\n",
      "         Function evaluations: 82\n",
      "         Gradient evaluations: 79\n",
      "         Hessian evaluations: 56\n",
      "Inverse HVP took 2.33412098885 sec\n",
      "Loaded inverse HVP from output/poisoning_900_300_inception_wd-0.001-test-[15, 32, 6].npz\n",
      "Inverse HVP took 0.00052809715271 sec\n",
      "Entering the for loop\n",
      "(1, 268203)\n",
      "Loaded inverse HVP from output/poisoning_900_300_inception_wd-0.001-test-[15, 32, 6].npz\n",
      "Inverse HVP took 0.000597953796387 sec\n",
      "Entering the for loop\n"
     ]
    },
    {
     "name": "stderr",
     "output_type": "stream",
     "text": [
      "[iter_attack.py:169 -     iterative_attack() ] Attach_iter 15 perturbation shape: (1, 268203), perturbation: [[-2.01730222e-06 -5.58656666e-07  2.22207518e-06 ... -1.11983093e-06\n",
      "  -7.28504574e-07  2.34313802e-07]]\n"
     ]
    },
    {
     "name": "stdout",
     "output_type": "stream",
     "text": [
      "(1, 268203)\n",
      "2 2\n",
      "Shape (2, 2048)\n",
      "Using normal model\n"
     ]
    },
    {
     "name": "stderr",
     "output_type": "stream",
     "text": [
      "[genericNeuralNet.py:328 -     print_model_eval() ] Train loss (w reg) on all data: 0.012386106\n",
      "[genericNeuralNet.py:329 -     print_model_eval() ] Train loss (w/o reg) on all data: 0.004084391\n",
      "[genericNeuralNet.py:331 -     print_model_eval() ] Test loss (w/o reg) on all data: 0.047882084\n",
      "[genericNeuralNet.py:332 -     print_model_eval() ] Train acc on all data:  1.0\n",
      "[genericNeuralNet.py:333 -     print_model_eval() ] Test acc on all data:   0.9833333333333333\n",
      "[genericNeuralNet.py:335 -     print_model_eval() ] Norm of the mean of gradients: 0.001403279\n",
      "[genericNeuralNet.py:336 -     print_model_eval() ] Norm of the params: 4.0747304\n",
      "[iter_attack.py:209 -     iterative_attack() ] Test_idx: 15 Test pred (full): [[0.9501026  0.04989742]]\n",
      "[iter_attack.py:209 -     iterative_attack() ] Test_idx: 32 Test pred (full): [[0.9976712  0.00232884]]\n"
     ]
    },
    {
     "name": "stdout",
     "output_type": "stream",
     "text": [
      "LBFGS training took [40] iter.\n",
      "After training with LBFGS: \n"
     ]
    },
    {
     "name": "stderr",
     "output_type": "stream",
     "text": [
      "[iter_attack.py:209 -     iterative_attack() ] Test_idx: 6 Test pred (full): [[1.7512080e-04 9.9982494e-01]]\n",
      "[iter_attack.py:210 -     iterative_attack() ] ---------------------\n",
      "[iter_attack.py:215 -     iterative_attack() ] Test_idx: 15 Test pred (top): [[0.9501026  0.04989742]]\n",
      "[iter_attack.py:215 -     iterative_attack() ] Test_idx: 32 Test pred (top): [[0.9976712  0.00232884]]\n",
      "[iter_attack.py:215 -     iterative_attack() ] Test_idx: 6 Test pred (top): [[1.7512080e-04 9.9982494e-01]]\n",
      "[iter_attack.py:147 -     iterative_attack() ] *** Iter: 16\n"
     ]
    },
    {
     "name": "stdout",
     "output_type": "stream",
     "text": [
      "Total number of parameters: 2048\n"
     ]
    },
    {
     "name": "stderr",
     "output_type": "stream",
     "text": [
      "[iter_attack.py:169 -     iterative_attack() ] Attach_iter 16 perturbation shape: (1, 268203), perturbation: [[ 0.00471711  0.00641283  0.00900361 ...  0.01245839  0.00056726\n",
      "  -0.00562993]]\n"
     ]
    },
    {
     "name": "stdout",
     "output_type": "stream",
     "text": [
      "Warning: Desired error not necessarily achieved due to precision loss.\n",
      "         Current function value: -6.341805\n",
      "         Iterations: 8\n",
      "         Function evaluations: 158\n",
      "         Gradient evaluations: 154\n",
      "         Hessian evaluations: 56\n",
      "Inverse HVP took 3.92183709145 sec\n",
      "Loaded inverse HVP from output/poisoning_900_300_inception_wd-0.001-test-[15, 32, 6].npz\n",
      "Inverse HVP took 0.000524044036865 sec\n",
      "Entering the for loop\n",
      "(1, 268203)\n",
      "Loaded inverse HVP from output/poisoning_900_300_inception_wd-0.001-test-[15, 32, 6].npz\n",
      "Inverse HVP took 0.000714063644409 sec\n",
      "Entering the for loop\n"
     ]
    },
    {
     "name": "stderr",
     "output_type": "stream",
     "text": [
      "[iter_attack.py:169 -     iterative_attack() ] Attach_iter 16 perturbation shape: (1, 268203), perturbation: [[-2.32578623e-06 -1.93178494e-06  4.24746645e-07 ... -2.17899105e-06\n",
      "  -2.00503578e-07  1.18240592e-07]]\n"
     ]
    },
    {
     "name": "stdout",
     "output_type": "stream",
     "text": [
      "(1, 268203)\n",
      "2 2\n",
      "Shape (2, 2048)\n",
      "Using normal model\n"
     ]
    },
    {
     "name": "stderr",
     "output_type": "stream",
     "text": [
      "[genericNeuralNet.py:328 -     print_model_eval() ] Train loss (w reg) on all data: 0.0124168135\n",
      "[genericNeuralNet.py:329 -     print_model_eval() ] Train loss (w/o reg) on all data: 0.004093995\n",
      "[genericNeuralNet.py:331 -     print_model_eval() ] Test loss (w/o reg) on all data: 0.04783337\n",
      "[genericNeuralNet.py:332 -     print_model_eval() ] Train acc on all data:  1.0\n",
      "[genericNeuralNet.py:333 -     print_model_eval() ] Test acc on all data:   0.9833333333333333\n",
      "[genericNeuralNet.py:335 -     print_model_eval() ] Norm of the mean of gradients: 0.0015633099\n",
      "[genericNeuralNet.py:336 -     print_model_eval() ] Norm of the params: 4.079906\n",
      "[iter_attack.py:209 -     iterative_attack() ] Test_idx: 15 Test pred (full): [[0.9447982  0.05520182]]\n",
      "[iter_attack.py:209 -     iterative_attack() ] Test_idx: 32 Test pred (full): [[0.9976641  0.00233589]]\n"
     ]
    },
    {
     "name": "stdout",
     "output_type": "stream",
     "text": [
      "LBFGS training took [40] iter.\n",
      "After training with LBFGS: \n"
     ]
    },
    {
     "name": "stderr",
     "output_type": "stream",
     "text": [
      "[iter_attack.py:209 -     iterative_attack() ] Test_idx: 6 Test pred (full): [[1.7739924e-04 9.9982268e-01]]\n",
      "[iter_attack.py:210 -     iterative_attack() ] ---------------------\n",
      "[iter_attack.py:215 -     iterative_attack() ] Test_idx: 15 Test pred (top): [[0.9447982  0.05520182]]\n",
      "[iter_attack.py:215 -     iterative_attack() ] Test_idx: 32 Test pred (top): [[0.9976641  0.00233589]]\n",
      "[iter_attack.py:215 -     iterative_attack() ] Test_idx: 6 Test pred (top): [[1.7739924e-04 9.9982268e-01]]\n",
      "[iter_attack.py:147 -     iterative_attack() ] *** Iter: 17\n"
     ]
    },
    {
     "name": "stdout",
     "output_type": "stream",
     "text": [
      "Total number of parameters: 2048\n"
     ]
    },
    {
     "name": "stderr",
     "output_type": "stream",
     "text": [
      "[iter_attack.py:169 -     iterative_attack() ] Attach_iter 17 perturbation shape: (1, 268203), perturbation: [[ 0.00536803  0.00298937  0.00418556 ...  0.00717309 -0.00586235\n",
      "   0.00066034]]\n"
     ]
    },
    {
     "name": "stdout",
     "output_type": "stream",
     "text": [
      "Warning: Desired error not necessarily achieved due to precision loss.\n",
      "         Current function value: -7.708737\n",
      "         Iterations: 9\n",
      "         Function evaluations: 128\n",
      "         Gradient evaluations: 123\n",
      "         Hessian evaluations: 57\n",
      "Inverse HVP took 3.29806303978 sec\n",
      "Loaded inverse HVP from output/poisoning_900_300_inception_wd-0.001-test-[15, 32, 6].npz\n",
      "Inverse HVP took 0.000527143478394 sec\n",
      "Entering the for loop\n",
      "(1, 268203)\n",
      "Loaded inverse HVP from output/poisoning_900_300_inception_wd-0.001-test-[15, 32, 6].npz\n",
      "Inverse HVP took 0.000653028488159 sec\n",
      "Entering the for loop\n"
     ]
    },
    {
     "name": "stderr",
     "output_type": "stream",
     "text": [
      "[iter_attack.py:169 -     iterative_attack() ] Attach_iter 17 perturbation shape: (1, 268203), perturbation: [[ 1.67289863e-06  8.08525556e-07  1.41283181e-06 ... -6.45624141e-07\n",
      "   1.29833211e-09  1.38707435e-07]]\n"
     ]
    },
    {
     "name": "stdout",
     "output_type": "stream",
     "text": [
      "(1, 268203)\n",
      "2 2\n",
      "Shape (2, 2048)\n",
      "Using normal model\n"
     ]
    },
    {
     "name": "stderr",
     "output_type": "stream",
     "text": [
      "[genericNeuralNet.py:328 -     print_model_eval() ] Train loss (w reg) on all data: 0.012451468\n",
      "[genericNeuralNet.py:329 -     print_model_eval() ] Train loss (w/o reg) on all data: 0.00410282\n",
      "[genericNeuralNet.py:331 -     print_model_eval() ] Test loss (w/o reg) on all data: 0.04773282\n",
      "[genericNeuralNet.py:332 -     print_model_eval() ] Train acc on all data:  1.0\n",
      "[genericNeuralNet.py:333 -     print_model_eval() ] Test acc on all data:   0.9816666666666667\n",
      "[genericNeuralNet.py:335 -     print_model_eval() ] Norm of the mean of gradients: 0.0017745959\n",
      "[genericNeuralNet.py:336 -     print_model_eval() ] Norm of the params: 4.086232\n",
      "[iter_attack.py:209 -     iterative_attack() ] Test_idx: 15 Test pred (full): [[0.93912184 0.06087815]]\n",
      "[iter_attack.py:209 -     iterative_attack() ] Test_idx: 32 Test pred (full): [[0.99766195 0.00233803]]\n"
     ]
    },
    {
     "name": "stdout",
     "output_type": "stream",
     "text": [
      "LBFGS training took [40] iter.\n",
      "After training with LBFGS: \n"
     ]
    },
    {
     "name": "stderr",
     "output_type": "stream",
     "text": [
      "[iter_attack.py:209 -     iterative_attack() ] Test_idx: 6 Test pred (full): [[1.7759184e-04 9.9982244e-01]]\n",
      "[iter_attack.py:210 -     iterative_attack() ] ---------------------\n",
      "[iter_attack.py:215 -     iterative_attack() ] Test_idx: 15 Test pred (top): [[0.93912184 0.06087815]]\n",
      "[iter_attack.py:215 -     iterative_attack() ] Test_idx: 32 Test pred (top): [[0.99766195 0.00233803]]\n",
      "[iter_attack.py:215 -     iterative_attack() ] Test_idx: 6 Test pred (top): [[1.7759184e-04 9.9982244e-01]]\n",
      "[iter_attack.py:147 -     iterative_attack() ] *** Iter: 18\n"
     ]
    },
    {
     "name": "stdout",
     "output_type": "stream",
     "text": [
      "Total number of parameters: 2048\n"
     ]
    },
    {
     "name": "stderr",
     "output_type": "stream",
     "text": [
      "[iter_attack.py:169 -     iterative_attack() ] Attach_iter 18 perturbation shape: (1, 268203), perturbation: [[ 0.00675262  0.00286058  0.00131741 ... -0.00340079  0.00916581\n",
      "  -0.00881782]]\n"
     ]
    },
    {
     "name": "stdout",
     "output_type": "stream",
     "text": [
      "Warning: Desired error not necessarily achieved due to precision loss.\n",
      "         Current function value: -9.316536\n",
      "         Iterations: 6\n",
      "         Function evaluations: 59\n",
      "         Gradient evaluations: 54\n",
      "         Hessian evaluations: 47\n",
      "Inverse HVP took 1.71998000145 sec\n",
      "Loaded inverse HVP from output/poisoning_900_300_inception_wd-0.001-test-[15, 32, 6].npz\n",
      "Inverse HVP took 0.000531911849976 sec\n",
      "Entering the for loop\n",
      "(1, 268203)\n",
      "Loaded inverse HVP from output/poisoning_900_300_inception_wd-0.001-test-[15, 32, 6].npz\n",
      "Inverse HVP took 0.000602006912231 sec\n",
      "Entering the for loop\n"
     ]
    },
    {
     "name": "stderr",
     "output_type": "stream",
     "text": [
      "[iter_attack.py:169 -     iterative_attack() ] Attach_iter 18 perturbation shape: (1, 268203), perturbation: [[-3.67889811e-07 -3.06270636e-07  6.09711265e-07 ... -1.27344563e-07\n",
      "  -1.80222253e-06  3.94638192e-07]]\n"
     ]
    },
    {
     "name": "stdout",
     "output_type": "stream",
     "text": [
      "(1, 268203)\n",
      "2 2\n",
      "Shape (2, 2048)\n",
      "Using normal model\n"
     ]
    },
    {
     "name": "stderr",
     "output_type": "stream",
     "text": [
      "[genericNeuralNet.py:328 -     print_model_eval() ] Train loss (w reg) on all data: 0.012479793\n",
      "[genericNeuralNet.py:329 -     print_model_eval() ] Train loss (w/o reg) on all data: 0.0041139205\n",
      "[genericNeuralNet.py:331 -     print_model_eval() ] Test loss (w/o reg) on all data: 0.04774308\n",
      "[genericNeuralNet.py:332 -     print_model_eval() ] Train acc on all data:  1.0\n",
      "[genericNeuralNet.py:333 -     print_model_eval() ] Test acc on all data:   0.9816666666666667\n",
      "[genericNeuralNet.py:335 -     print_model_eval() ] Norm of the mean of gradients: 0.0019127128\n",
      "[genericNeuralNet.py:336 -     print_model_eval() ] Norm of the params: 4.0904455\n",
      "[iter_attack.py:209 -     iterative_attack() ] Test_idx: 15 Test pred (full): [[0.9330537  0.06694632]]\n",
      "[iter_attack.py:209 -     iterative_attack() ] Test_idx: 32 Test pred (full): [[0.99763286 0.00236707]]\n"
     ]
    },
    {
     "name": "stdout",
     "output_type": "stream",
     "text": [
      "LBFGS training took [49] iter.\n",
      "After training with LBFGS: \n"
     ]
    },
    {
     "name": "stderr",
     "output_type": "stream",
     "text": [
      "[iter_attack.py:209 -     iterative_attack() ] Test_idx: 6 Test pred (full): [[1.7996914e-04 9.9982005e-01]]\n",
      "[iter_attack.py:210 -     iterative_attack() ] ---------------------\n",
      "[iter_attack.py:215 -     iterative_attack() ] Test_idx: 15 Test pred (top): [[0.9330537  0.06694632]]\n",
      "[iter_attack.py:215 -     iterative_attack() ] Test_idx: 32 Test pred (top): [[0.99763286 0.00236707]]\n",
      "[iter_attack.py:215 -     iterative_attack() ] Test_idx: 6 Test pred (top): [[1.7996914e-04 9.9982005e-01]]\n",
      "[iter_attack.py:147 -     iterative_attack() ] *** Iter: 19\n"
     ]
    },
    {
     "name": "stdout",
     "output_type": "stream",
     "text": [
      "Total number of parameters: 2048\n"
     ]
    },
    {
     "name": "stderr",
     "output_type": "stream",
     "text": [
      "[iter_attack.py:169 -     iterative_attack() ] Attach_iter 19 perturbation shape: (1, 268203), perturbation: [[-0.00378727  0.00544618  0.01364762 ...  0.00947818 -0.01299673\n",
      "   0.00525195]]\n"
     ]
    },
    {
     "name": "stdout",
     "output_type": "stream",
     "text": [
      "Warning: Desired error not necessarily achieved due to precision loss.\n",
      "         Current function value: -11.184956\n",
      "         Iterations: 7\n",
      "         Function evaluations: 95\n",
      "         Gradient evaluations: 90\n",
      "         Hessian evaluations: 48\n",
      "Inverse HVP took 2.51316404343 sec\n",
      "Loaded inverse HVP from output/poisoning_900_300_inception_wd-0.001-test-[15, 32, 6].npz\n",
      "Inverse HVP took 0.000526905059814 sec\n",
      "Entering the for loop\n",
      "(1, 268203)\n",
      "Loaded inverse HVP from output/poisoning_900_300_inception_wd-0.001-test-[15, 32, 6].npz\n",
      "Inverse HVP took 0.000627040863037 sec\n",
      "Entering the for loop\n"
     ]
    },
    {
     "name": "stderr",
     "output_type": "stream",
     "text": [
      "[iter_attack.py:169 -     iterative_attack() ] Attach_iter 19 perturbation shape: (1, 268203), perturbation: [[ 8.58767294e-07  1.17274908e-06  7.70527322e-07 ... -4.76727422e-07\n",
      "  -1.47672978e-07  2.63191424e-07]]\n"
     ]
    },
    {
     "name": "stdout",
     "output_type": "stream",
     "text": [
      "(1, 268203)\n",
      "2 2\n",
      "Shape (2, 2048)\n",
      "Using normal model\n"
     ]
    },
    {
     "name": "stderr",
     "output_type": "stream",
     "text": [
      "[genericNeuralNet.py:328 -     print_model_eval() ] Train loss (w reg) on all data: 0.012519328\n",
      "[genericNeuralNet.py:329 -     print_model_eval() ] Train loss (w/o reg) on all data: 0.0041267993\n",
      "[genericNeuralNet.py:331 -     print_model_eval() ] Test loss (w/o reg) on all data: 0.04779851\n",
      "[genericNeuralNet.py:332 -     print_model_eval() ] Train acc on all data:  1.0\n",
      "[genericNeuralNet.py:333 -     print_model_eval() ] Test acc on all data:   0.9816666666666667\n",
      "[genericNeuralNet.py:335 -     print_model_eval() ] Norm of the mean of gradients: 0.002084446\n",
      "[genericNeuralNet.py:336 -     print_model_eval() ] Norm of the params: 4.096957\n",
      "[iter_attack.py:209 -     iterative_attack() ] Test_idx: 15 Test pred (full): [[0.92622966 0.07377034]]\n",
      "[iter_attack.py:209 -     iterative_attack() ] Test_idx: 32 Test pred (full): [[0.9976459  0.00235407]]\n"
     ]
    },
    {
     "name": "stdout",
     "output_type": "stream",
     "text": [
      "LBFGS training took [44] iter.\n",
      "After training with LBFGS: \n"
     ]
    },
    {
     "name": "stderr",
     "output_type": "stream",
     "text": [
      "[iter_attack.py:209 -     iterative_attack() ] Test_idx: 6 Test pred (full): [[1.7802110e-04 9.9982196e-01]]\n",
      "[iter_attack.py:210 -     iterative_attack() ] ---------------------\n",
      "[iter_attack.py:215 -     iterative_attack() ] Test_idx: 15 Test pred (top): [[0.92622966 0.07377034]]\n",
      "[iter_attack.py:215 -     iterative_attack() ] Test_idx: 32 Test pred (top): [[0.9976459  0.00235407]]\n",
      "[iter_attack.py:215 -     iterative_attack() ] Test_idx: 6 Test pred (top): [[1.7802110e-04 9.9982196e-01]]\n",
      "[iter_attack.py:147 -     iterative_attack() ] *** Iter: 20\n"
     ]
    },
    {
     "name": "stdout",
     "output_type": "stream",
     "text": [
      "Total number of parameters: 2048\n"
     ]
    },
    {
     "name": "stderr",
     "output_type": "stream",
     "text": [
      "[iter_attack.py:169 -     iterative_attack() ] Attach_iter 20 perturbation shape: (1, 268203), perturbation: [[ 0.01157076 -0.00259772 -0.00688665 ... -0.01747517  0.01590806\n",
      "  -0.01052061]]\n"
     ]
    },
    {
     "name": "stdout",
     "output_type": "stream",
     "text": [
      "Warning: Desired error not necessarily achieved due to precision loss.\n",
      "         Current function value: -13.507873\n",
      "         Iterations: 8\n",
      "         Function evaluations: 77\n",
      "         Gradient evaluations: 73\n",
      "         Hessian evaluations: 61\n",
      "Inverse HVP took 2.24624705315 sec\n",
      "Loaded inverse HVP from output/poisoning_900_300_inception_wd-0.001-test-[15, 32, 6].npz\n",
      "Inverse HVP took 0.000556945800781 sec\n",
      "Entering the for loop\n",
      "(1, 268203)\n",
      "Loaded inverse HVP from output/poisoning_900_300_inception_wd-0.001-test-[15, 32, 6].npz\n",
      "Inverse HVP took 0.000608921051025 sec\n",
      "Entering the for loop\n"
     ]
    },
    {
     "name": "stderr",
     "output_type": "stream",
     "text": [
      "[iter_attack.py:169 -     iterative_attack() ] Attach_iter 20 perturbation shape: (1, 268203), perturbation: [[-6.59596822e-09  4.65116130e-07  2.30442012e-07 ... -6.00989893e-07\n",
      "  -1.01975843e-06  6.18566162e-07]]\n"
     ]
    },
    {
     "name": "stdout",
     "output_type": "stream",
     "text": [
      "(1, 268203)\n",
      "2 2\n",
      "Shape (2, 2048)\n",
      "Using normal model\n"
     ]
    },
    {
     "name": "stderr",
     "output_type": "stream",
     "text": [
      "[genericNeuralNet.py:328 -     print_model_eval() ] Train loss (w reg) on all data: 0.012551464\n",
      "[genericNeuralNet.py:329 -     print_model_eval() ] Train loss (w/o reg) on all data: 0.004139636\n",
      "[genericNeuralNet.py:331 -     print_model_eval() ] Test loss (w/o reg) on all data: 0.04755885\n",
      "[genericNeuralNet.py:332 -     print_model_eval() ] Train acc on all data:  1.0\n",
      "[genericNeuralNet.py:333 -     print_model_eval() ] Test acc on all data:   0.9816666666666667\n",
      "[genericNeuralNet.py:335 -     print_model_eval() ] Norm of the mean of gradients: 0.0022365912\n",
      "[genericNeuralNet.py:336 -     print_model_eval() ] Norm of the params: 4.101665\n",
      "[iter_attack.py:209 -     iterative_attack() ] Test_idx: 15 Test pred (full): [[0.91890264 0.08109733]]\n",
      "[iter_attack.py:209 -     iterative_attack() ] Test_idx: 32 Test pred (full): [[0.997593   0.00240694]]\n"
     ]
    },
    {
     "name": "stdout",
     "output_type": "stream",
     "text": [
      "LBFGS training took [40] iter.\n",
      "After training with LBFGS: \n"
     ]
    },
    {
     "name": "stderr",
     "output_type": "stream",
     "text": [
      "[iter_attack.py:209 -     iterative_attack() ] Test_idx: 6 Test pred (full): [[1.804124e-04 9.998196e-01]]\n",
      "[iter_attack.py:210 -     iterative_attack() ] ---------------------\n",
      "[iter_attack.py:215 -     iterative_attack() ] Test_idx: 15 Test pred (top): [[0.91890264 0.08109733]]\n",
      "[iter_attack.py:215 -     iterative_attack() ] Test_idx: 32 Test pred (top): [[0.997593   0.00240694]]\n",
      "[iter_attack.py:215 -     iterative_attack() ] Test_idx: 6 Test pred (top): [[1.804124e-04 9.998196e-01]]\n",
      "[iter_attack.py:147 -     iterative_attack() ] *** Iter: 21\n"
     ]
    },
    {
     "name": "stdout",
     "output_type": "stream",
     "text": [
      "Total number of parameters: 2048\n"
     ]
    },
    {
     "name": "stderr",
     "output_type": "stream",
     "text": [
      "[iter_attack.py:169 -     iterative_attack() ] Attach_iter 21 perturbation shape: (1, 268203), perturbation: [[ 0.01076743  0.0077261   0.01978713 ...  0.01705838 -0.00745229\n",
      "   0.00282135]]\n"
     ]
    },
    {
     "name": "stdout",
     "output_type": "stream",
     "text": [
      "Warning: Desired error not necessarily achieved due to precision loss.\n",
      "         Current function value: -16.197069\n",
      "         Iterations: 10\n",
      "         Function evaluations: 100\n",
      "         Gradient evaluations: 98\n",
      "         Hessian evaluations: 61\n",
      "Inverse HVP took 2.77550506592 sec\n",
      "Loaded inverse HVP from output/poisoning_900_300_inception_wd-0.001-test-[15, 32, 6].npz\n",
      "Inverse HVP took 0.000521183013916 sec\n",
      "Entering the for loop\n",
      "(1, 268203)\n",
      "Loaded inverse HVP from output/poisoning_900_300_inception_wd-0.001-test-[15, 32, 6].npz\n",
      "Inverse HVP took 0.000594854354858 sec\n",
      "Entering the for loop\n"
     ]
    },
    {
     "name": "stderr",
     "output_type": "stream",
     "text": [
      "[iter_attack.py:169 -     iterative_attack() ] Attach_iter 21 perturbation shape: (1, 268203), perturbation: [[ 1.30145352e-07  3.38168718e-07  8.65582592e-08 ... -3.82166547e-07\n",
      "   1.56113700e-07  2.31539559e-07]]\n"
     ]
    },
    {
     "name": "stdout",
     "output_type": "stream",
     "text": [
      "(1, 268203)\n",
      "2 2\n",
      "Shape (2, 2048)\n",
      "Using normal model\n"
     ]
    },
    {
     "name": "stderr",
     "output_type": "stream",
     "text": [
      "[genericNeuralNet.py:328 -     print_model_eval() ] Train loss (w reg) on all data: 0.012591975\n",
      "[genericNeuralNet.py:329 -     print_model_eval() ] Train loss (w/o reg) on all data: 0.004153508\n",
      "[genericNeuralNet.py:331 -     print_model_eval() ] Test loss (w/o reg) on all data: 0.047670666\n",
      "[genericNeuralNet.py:332 -     print_model_eval() ] Train acc on all data:  1.0\n",
      "[genericNeuralNet.py:333 -     print_model_eval() ] Test acc on all data:   0.9816666666666667\n",
      "[genericNeuralNet.py:335 -     print_model_eval() ] Norm of the mean of gradients: 0.0024126405\n",
      "[genericNeuralNet.py:336 -     print_model_eval() ] Norm of the params: 4.108155\n",
      "[iter_attack.py:209 -     iterative_attack() ] Test_idx: 15 Test pred (full): [[0.9110227  0.08897731]]\n",
      "[iter_attack.py:209 -     iterative_attack() ] Test_idx: 32 Test pred (full): [[0.9976508 0.0023492]]\n"
     ]
    },
    {
     "name": "stdout",
     "output_type": "stream",
     "text": [
      "LBFGS training took [41] iter.\n",
      "After training with LBFGS: \n"
     ]
    },
    {
     "name": "stderr",
     "output_type": "stream",
     "text": [
      "[iter_attack.py:209 -     iterative_attack() ] Test_idx: 6 Test pred (full): [[1.8115414e-04 9.9981886e-01]]\n",
      "[iter_attack.py:210 -     iterative_attack() ] ---------------------\n",
      "[iter_attack.py:215 -     iterative_attack() ] Test_idx: 15 Test pred (top): [[0.9110227  0.08897731]]\n",
      "[iter_attack.py:215 -     iterative_attack() ] Test_idx: 32 Test pred (top): [[0.9976508 0.0023492]]\n",
      "[iter_attack.py:215 -     iterative_attack() ] Test_idx: 6 Test pred (top): [[1.8115414e-04 9.9981886e-01]]\n",
      "[iter_attack.py:147 -     iterative_attack() ] *** Iter: 22\n"
     ]
    },
    {
     "name": "stdout",
     "output_type": "stream",
     "text": [
      "Total number of parameters: 2048\n"
     ]
    },
    {
     "name": "stderr",
     "output_type": "stream",
     "text": [
      "[iter_attack.py:169 -     iterative_attack() ] Attach_iter 22 perturbation shape: (1, 268203), perturbation: [[ 0.00070873 -0.00862629  0.00763704 ... -0.02188799  0.01623239\n",
      "  -0.00811005]]\n"
     ]
    },
    {
     "name": "stdout",
     "output_type": "stream",
     "text": [
      "Warning: Desired error not necessarily achieved due to precision loss.\n",
      "         Current function value: -19.389030\n",
      "         Iterations: 9\n",
      "         Function evaluations: 85\n",
      "         Gradient evaluations: 82\n",
      "         Hessian evaluations: 67\n",
      "Inverse HVP took 2.54206085205 sec\n",
      "Loaded inverse HVP from output/poisoning_900_300_inception_wd-0.001-test-[15, 32, 6].npz\n",
      "Inverse HVP took 0.000518083572388 sec\n",
      "Entering the for loop\n",
      "(1, 268203)\n",
      "Loaded inverse HVP from output/poisoning_900_300_inception_wd-0.001-test-[15, 32, 6].npz\n",
      "Inverse HVP took 0.000602006912231 sec\n",
      "Entering the for loop\n"
     ]
    },
    {
     "name": "stderr",
     "output_type": "stream",
     "text": [
      "[iter_attack.py:169 -     iterative_attack() ] Attach_iter 22 perturbation shape: (1, 268203), perturbation: [[-8.95724384e-08  2.64955673e-07 -1.74724761e-07 ... -7.93897215e-08\n",
      "  -6.93187758e-07 -1.50903077e-07]]\n"
     ]
    },
    {
     "name": "stdout",
     "output_type": "stream",
     "text": [
      "(1, 268203)\n",
      "2 2\n",
      "Shape (2, 2048)\n",
      "Using normal model\n"
     ]
    },
    {
     "name": "stderr",
     "output_type": "stream",
     "text": [
      "[genericNeuralNet.py:328 -     print_model_eval() ] Train loss (w reg) on all data: 0.012620256\n",
      "[genericNeuralNet.py:329 -     print_model_eval() ] Train loss (w/o reg) on all data: 0.0041632606\n",
      "[genericNeuralNet.py:331 -     print_model_eval() ] Test loss (w/o reg) on all data: 0.047237255\n",
      "[genericNeuralNet.py:332 -     print_model_eval() ] Train acc on all data:  1.0\n",
      "[genericNeuralNet.py:333 -     print_model_eval() ] Test acc on all data:   0.9816666666666667\n",
      "[genericNeuralNet.py:335 -     print_model_eval() ] Norm of the mean of gradients: 0.0025861526\n",
      "[genericNeuralNet.py:336 -     print_model_eval() ] Norm of the params: 4.1126623\n",
      "[iter_attack.py:209 -     iterative_attack() ] Test_idx: 15 Test pred (full): [[0.9034436  0.09655649]]\n",
      "[iter_attack.py:209 -     iterative_attack() ] Test_idx: 32 Test pred (full): [[0.9976234 0.0023766]]\n"
     ]
    },
    {
     "name": "stdout",
     "output_type": "stream",
     "text": [
      "LBFGS training took [36] iter.\n",
      "After training with LBFGS: \n"
     ]
    },
    {
     "name": "stderr",
     "output_type": "stream",
     "text": [
      "[iter_attack.py:209 -     iterative_attack() ] Test_idx: 6 Test pred (full): [[1.7586342e-04 9.9982411e-01]]\n",
      "[iter_attack.py:210 -     iterative_attack() ] ---------------------\n",
      "[iter_attack.py:215 -     iterative_attack() ] Test_idx: 15 Test pred (top): [[0.9034436  0.09655649]]\n",
      "[iter_attack.py:215 -     iterative_attack() ] Test_idx: 32 Test pred (top): [[0.9976234 0.0023766]]\n",
      "[iter_attack.py:215 -     iterative_attack() ] Test_idx: 6 Test pred (top): [[1.7586342e-04 9.9982411e-01]]\n",
      "[iter_attack.py:147 -     iterative_attack() ] *** Iter: 23\n"
     ]
    },
    {
     "name": "stdout",
     "output_type": "stream",
     "text": [
      "Total number of parameters: 2048\n"
     ]
    },
    {
     "name": "stderr",
     "output_type": "stream",
     "text": [
      "[iter_attack.py:169 -     iterative_attack() ] Attach_iter 23 perturbation shape: (1, 268203), perturbation: [[ 0.00972899  0.0351733   0.03989506 ... -0.00050817 -0.0006872\n",
      "   0.00943822]]\n"
     ]
    },
    {
     "name": "stdout",
     "output_type": "stream",
     "text": [
      "Warning: Desired error not necessarily achieved due to precision loss.\n",
      "         Current function value: -22.685993\n",
      "         Iterations: 9\n",
      "         Function evaluations: 82\n",
      "         Gradient evaluations: 79\n",
      "         Hessian evaluations: 74\n",
      "Inverse HVP took 2.53311705589 sec\n",
      "Loaded inverse HVP from output/poisoning_900_300_inception_wd-0.001-test-[15, 32, 6].npz\n",
      "Inverse HVP took 0.000545978546143 sec\n",
      "Entering the for loop\n",
      "(1, 268203)\n",
      "Loaded inverse HVP from output/poisoning_900_300_inception_wd-0.001-test-[15, 32, 6].npz\n",
      "Inverse HVP took 0.000598907470703 sec\n",
      "Entering the for loop\n"
     ]
    },
    {
     "name": "stderr",
     "output_type": "stream",
     "text": [
      "[iter_attack.py:169 -     iterative_attack() ] Attach_iter 23 perturbation shape: (1, 268203), perturbation: [[-2.47459070e-07  9.76012871e-08 -2.84120375e-07 ... -1.74524018e-07\n",
      "   2.27993084e-07  1.91423410e-07]]\n"
     ]
    },
    {
     "name": "stdout",
     "output_type": "stream",
     "text": [
      "(1, 268203)\n",
      "2 2\n",
      "Shape (2, 2048)\n",
      "Using normal model\n"
     ]
    },
    {
     "name": "stderr",
     "output_type": "stream",
     "text": [
      "[genericNeuralNet.py:328 -     print_model_eval() ] Train loss (w reg) on all data: 0.012660822\n",
      "[genericNeuralNet.py:329 -     print_model_eval() ] Train loss (w/o reg) on all data: 0.004181072\n",
      "[genericNeuralNet.py:331 -     print_model_eval() ] Test loss (w/o reg) on all data: 0.047612816\n",
      "[genericNeuralNet.py:332 -     print_model_eval() ] Train acc on all data:  1.0\n",
      "[genericNeuralNet.py:333 -     print_model_eval() ] Test acc on all data:   0.9816666666666667\n",
      "[genericNeuralNet.py:335 -     print_model_eval() ] Norm of the mean of gradients: 0.0026860856\n",
      "[genericNeuralNet.py:336 -     print_model_eval() ] Norm of the params: 4.118191\n",
      "[iter_attack.py:209 -     iterative_attack() ] Test_idx: 15 Test pred (full): [[0.89434975 0.10565021]]\n",
      "[iter_attack.py:209 -     iterative_attack() ] Test_idx: 32 Test pred (full): [[0.99763346 0.00236649]]\n"
     ]
    },
    {
     "name": "stdout",
     "output_type": "stream",
     "text": [
      "LBFGS training took [48] iter.\n",
      "After training with LBFGS: \n"
     ]
    },
    {
     "name": "stderr",
     "output_type": "stream",
     "text": [
      "[iter_attack.py:209 -     iterative_attack() ] Test_idx: 6 Test pred (full): [[1.7913435e-04 9.9982089e-01]]\n",
      "[iter_attack.py:210 -     iterative_attack() ] ---------------------\n",
      "[iter_attack.py:215 -     iterative_attack() ] Test_idx: 15 Test pred (top): [[0.89434975 0.10565021]]\n",
      "[iter_attack.py:215 -     iterative_attack() ] Test_idx: 32 Test pred (top): [[0.99763346 0.00236649]]\n",
      "[iter_attack.py:215 -     iterative_attack() ] Test_idx: 6 Test pred (top): [[1.7913435e-04 9.9982089e-01]]\n",
      "[iter_attack.py:147 -     iterative_attack() ] *** Iter: 24\n"
     ]
    },
    {
     "name": "stdout",
     "output_type": "stream",
     "text": [
      "Total number of parameters: 2048\n"
     ]
    },
    {
     "name": "stderr",
     "output_type": "stream",
     "text": [
      "[iter_attack.py:169 -     iterative_attack() ] Attach_iter 24 perturbation shape: (1, 268203), perturbation: [[ 2.69635813e-03 -1.87756959e-03 -3.32342461e-06 ...  3.32867191e-03\n",
      "   1.67132597e-02 -1.39378123e-02]]\n"
     ]
    },
    {
     "name": "stdout",
     "output_type": "stream",
     "text": [
      "Warning: Desired error not necessarily achieved due to precision loss.\n",
      "         Current function value: -26.995384\n",
      "         Iterations: 8\n",
      "         Function evaluations: 134\n",
      "         Gradient evaluations: 128\n",
      "         Hessian evaluations: 58\n",
      "Inverse HVP took 3.4738509655 sec\n",
      "Loaded inverse HVP from output/poisoning_900_300_inception_wd-0.001-test-[15, 32, 6].npz\n",
      "Inverse HVP took 0.000531911849976 sec\n",
      "Entering the for loop\n",
      "(1, 268203)\n",
      "Loaded inverse HVP from output/poisoning_900_300_inception_wd-0.001-test-[15, 32, 6].npz\n",
      "Inverse HVP took 0.000604152679443 sec\n",
      "Entering the for loop\n"
     ]
    },
    {
     "name": "stderr",
     "output_type": "stream",
     "text": [
      "[iter_attack.py:169 -     iterative_attack() ] Attach_iter 24 perturbation shape: (1, 268203), perturbation: [[-4.55240610e-08  2.31012024e-07  4.74729234e-08 ... -2.15224148e-07\n",
      "  -1.95466995e-07  8.02168927e-08]]\n"
     ]
    },
    {
     "name": "stdout",
     "output_type": "stream",
     "text": [
      "(1, 268203)\n",
      "2 2\n",
      "Shape (2, 2048)\n",
      "Using normal model\n"
     ]
    },
    {
     "name": "stderr",
     "output_type": "stream",
     "text": [
      "[genericNeuralNet.py:328 -     print_model_eval() ] Train loss (w reg) on all data: 0.012696357\n",
      "[genericNeuralNet.py:329 -     print_model_eval() ] Train loss (w/o reg) on all data: 0.004191632\n",
      "[genericNeuralNet.py:331 -     print_model_eval() ] Test loss (w/o reg) on all data: 0.047217924\n",
      "[genericNeuralNet.py:332 -     print_model_eval() ] Train acc on all data:  1.0\n",
      "[genericNeuralNet.py:333 -     print_model_eval() ] Test acc on all data:   0.9816666666666667\n",
      "[genericNeuralNet.py:335 -     print_model_eval() ] Norm of the mean of gradients: 0.002935718\n",
      "[genericNeuralNet.py:336 -     print_model_eval() ] Norm of the params: 4.124252\n",
      "[iter_attack.py:209 -     iterative_attack() ] Test_idx: 15 Test pred (full): [[0.8849291 0.1150708]]\n",
      "[iter_attack.py:209 -     iterative_attack() ] Test_idx: 32 Test pred (full): [[0.9976053  0.00239467]]\n"
     ]
    },
    {
     "name": "stdout",
     "output_type": "stream",
     "text": [
      "LBFGS training took [45] iter.\n",
      "After training with LBFGS: \n"
     ]
    },
    {
     "name": "stderr",
     "output_type": "stream",
     "text": [
      "[iter_attack.py:209 -     iterative_attack() ] Test_idx: 6 Test pred (full): [[1.7579217e-04 9.9982423e-01]]\n",
      "[iter_attack.py:210 -     iterative_attack() ] ---------------------\n",
      "[iter_attack.py:215 -     iterative_attack() ] Test_idx: 15 Test pred (top): [[0.8849291 0.1150708]]\n",
      "[iter_attack.py:215 -     iterative_attack() ] Test_idx: 32 Test pred (top): [[0.9976053  0.00239467]]\n",
      "[iter_attack.py:215 -     iterative_attack() ] Test_idx: 6 Test pred (top): [[1.7579217e-04 9.9982423e-01]]\n",
      "[iter_attack.py:147 -     iterative_attack() ] *** Iter: 25\n"
     ]
    },
    {
     "name": "stdout",
     "output_type": "stream",
     "text": [
      "Total number of parameters: 2048\n"
     ]
    },
    {
     "name": "stderr",
     "output_type": "stream",
     "text": [
      "[iter_attack.py:169 -     iterative_attack() ] Attach_iter 25 perturbation shape: (1, 268203), perturbation: [[ 0.00205958  0.02462343  0.02310693 ... -0.02018767 -0.01413366\n",
      "   0.02437935]]\n"
     ]
    },
    {
     "name": "stdout",
     "output_type": "stream",
     "text": [
      "Warning: Desired error not necessarily achieved due to precision loss.\n",
      "         Current function value: -31.812214\n",
      "         Iterations: 8\n",
      "         Function evaluations: 138\n",
      "         Gradient evaluations: 133\n",
      "         Hessian evaluations: 59\n",
      "Inverse HVP took 3.5636370182 sec\n",
      "Loaded inverse HVP from output/poisoning_900_300_inception_wd-0.001-test-[15, 32, 6].npz\n",
      "Inverse HVP took 0.000533103942871 sec\n",
      "Entering the for loop\n",
      "(1, 268203)\n",
      "Loaded inverse HVP from output/poisoning_900_300_inception_wd-0.001-test-[15, 32, 6].npz\n",
      "Inverse HVP took 0.00061297416687 sec\n",
      "Entering the for loop\n"
     ]
    },
    {
     "name": "stderr",
     "output_type": "stream",
     "text": [
      "[iter_attack.py:169 -     iterative_attack() ] Attach_iter 25 perturbation shape: (1, 268203), perturbation: [[ 1.11545972e-09  1.78494986e-07  7.27478167e-08 ... -8.38673273e-08\n",
      "   2.05916990e-08  9.33249424e-08]]\n"
     ]
    },
    {
     "name": "stdout",
     "output_type": "stream",
     "text": [
      "(1, 268203)\n",
      "2 2\n",
      "Shape (2, 2048)\n",
      "Using normal model\n"
     ]
    },
    {
     "name": "stderr",
     "output_type": "stream",
     "text": [
      "[genericNeuralNet.py:328 -     print_model_eval() ] Train loss (w reg) on all data: 0.012725243\n",
      "[genericNeuralNet.py:329 -     print_model_eval() ] Train loss (w/o reg) on all data: 0.004203061\n",
      "[genericNeuralNet.py:331 -     print_model_eval() ] Test loss (w/o reg) on all data: 0.04736123\n",
      "[genericNeuralNet.py:332 -     print_model_eval() ] Train acc on all data:  1.0\n",
      "[genericNeuralNet.py:333 -     print_model_eval() ] Test acc on all data:   0.9816666666666667\n",
      "[genericNeuralNet.py:335 -     print_model_eval() ] Norm of the mean of gradients: 0.0030408653\n",
      "[genericNeuralNet.py:336 -     print_model_eval() ] Norm of the params: 4.128482\n",
      "[iter_attack.py:209 -     iterative_attack() ] Test_idx: 15 Test pred (full): [[0.8774207  0.12257925]]\n",
      "[iter_attack.py:209 -     iterative_attack() ] Test_idx: 32 Test pred (full): [[0.9976629  0.00233707]]\n"
     ]
    },
    {
     "name": "stdout",
     "output_type": "stream",
     "text": [
      "LBFGS training took [35] iter.\n",
      "After training with LBFGS: \n"
     ]
    },
    {
     "name": "stderr",
     "output_type": "stream",
     "text": [
      "[iter_attack.py:209 -     iterative_attack() ] Test_idx: 6 Test pred (full): [[1.7709333e-04 9.9982291e-01]]\n",
      "[iter_attack.py:210 -     iterative_attack() ] ---------------------\n",
      "[iter_attack.py:215 -     iterative_attack() ] Test_idx: 15 Test pred (top): [[0.8774207  0.12257925]]\n",
      "[iter_attack.py:215 -     iterative_attack() ] Test_idx: 32 Test pred (top): [[0.9976629  0.00233707]]\n",
      "[iter_attack.py:215 -     iterative_attack() ] Test_idx: 6 Test pred (top): [[1.7709333e-04 9.9982291e-01]]\n",
      "[iter_attack.py:147 -     iterative_attack() ] *** Iter: 26\n"
     ]
    },
    {
     "name": "stdout",
     "output_type": "stream",
     "text": [
      "Total number of parameters: 2048\n"
     ]
    },
    {
     "name": "stderr",
     "output_type": "stream",
     "text": [
      "[iter_attack.py:169 -     iterative_attack() ] Attach_iter 26 perturbation shape: (1, 268203), perturbation: [[ 0.01460005  0.0052656   0.00089675 ...  0.03522117  0.01913787\n",
      "  -0.0283176 ]]\n"
     ]
    },
    {
     "name": "stdout",
     "output_type": "stream",
     "text": [
      "Warning: Desired error not necessarily achieved due to precision loss.\n",
      "         Current function value: -35.935745\n",
      "         Iterations: 6\n",
      "         Function evaluations: 78\n",
      "         Gradient evaluations: 73\n",
      "         Hessian evaluations: 44\n",
      "Inverse HVP took 2.10084795952 sec\n",
      "Loaded inverse HVP from output/poisoning_900_300_inception_wd-0.001-test-[15, 32, 6].npz\n",
      "Inverse HVP took 0.000561952590942 sec\n",
      "Entering the for loop\n",
      "(1, 268203)\n",
      "Loaded inverse HVP from output/poisoning_900_300_inception_wd-0.001-test-[15, 32, 6].npz\n",
      "Inverse HVP took 0.000600814819336 sec\n",
      "Entering the for loop\n"
     ]
    },
    {
     "name": "stderr",
     "output_type": "stream",
     "text": [
      "[iter_attack.py:169 -     iterative_attack() ] Attach_iter 26 perturbation shape: (1, 268203), perturbation: [[ 7.84862380e-08  1.98737524e-07  1.48541176e-07 ... -7.52952261e-08\n",
      "  -1.16688959e-07  3.03201269e-08]]\n"
     ]
    },
    {
     "name": "stdout",
     "output_type": "stream",
     "text": [
      "(1, 268203)\n",
      "2 2\n",
      "Shape (2, 2048)\n",
      "Using normal model\n"
     ]
    },
    {
     "name": "stderr",
     "output_type": "stream",
     "text": [
      "[genericNeuralNet.py:328 -     print_model_eval() ] Train loss (w reg) on all data: 0.012757516\n",
      "[genericNeuralNet.py:329 -     print_model_eval() ] Train loss (w/o reg) on all data: 0.0042147706\n",
      "[genericNeuralNet.py:331 -     print_model_eval() ] Test loss (w/o reg) on all data: 0.0471568\n",
      "[genericNeuralNet.py:332 -     print_model_eval() ] Train acc on all data:  1.0\n",
      "[genericNeuralNet.py:333 -     print_model_eval() ] Test acc on all data:   0.9816666666666667\n",
      "[genericNeuralNet.py:335 -     print_model_eval() ] Norm of the mean of gradients: 0.0032231638\n",
      "[genericNeuralNet.py:336 -     print_model_eval() ] Norm of the params: 4.133459\n",
      "[iter_attack.py:209 -     iterative_attack() ] Test_idx: 15 Test pred (full): [[0.8691741  0.13082588]]\n",
      "[iter_attack.py:209 -     iterative_attack() ] Test_idx: 32 Test pred (full): [[0.9976205  0.00237947]]\n"
     ]
    },
    {
     "name": "stdout",
     "output_type": "stream",
     "text": [
      "LBFGS training took [39] iter.\n",
      "After training with LBFGS: \n"
     ]
    },
    {
     "name": "stderr",
     "output_type": "stream",
     "text": [
      "[iter_attack.py:209 -     iterative_attack() ] Test_idx: 6 Test pred (full): [[1.7686770e-04 9.9982315e-01]]\n",
      "[iter_attack.py:210 -     iterative_attack() ] ---------------------\n",
      "[iter_attack.py:215 -     iterative_attack() ] Test_idx: 15 Test pred (top): [[0.8691741  0.13082588]]\n",
      "[iter_attack.py:215 -     iterative_attack() ] Test_idx: 32 Test pred (top): [[0.9976205  0.00237947]]\n",
      "[iter_attack.py:215 -     iterative_attack() ] Test_idx: 6 Test pred (top): [[1.7686770e-04 9.9982315e-01]]\n",
      "[iter_attack.py:147 -     iterative_attack() ] *** Iter: 27\n"
     ]
    },
    {
     "name": "stdout",
     "output_type": "stream",
     "text": [
      "Total number of parameters: 2048\n"
     ]
    },
    {
     "name": "stderr",
     "output_type": "stream",
     "text": [
      "[iter_attack.py:169 -     iterative_attack() ] Attach_iter 27 perturbation shape: (1, 268203), perturbation: [[ 0.01916149  0.017152    0.00240886 ... -0.04947713 -0.00144531\n",
      "   0.01823284]]\n"
     ]
    },
    {
     "name": "stdout",
     "output_type": "stream",
     "text": [
      "Warning: Desired error not necessarily achieved due to precision loss.\n",
      "         Current function value: -40.718792\n",
      "         Iterations: 8\n",
      "         Function evaluations: 79\n",
      "         Gradient evaluations: 76\n",
      "         Hessian evaluations: 42\n",
      "Inverse HVP took 2.12975597382 sec\n",
      "Loaded inverse HVP from output/poisoning_900_300_inception_wd-0.001-test-[15, 32, 6].npz\n",
      "Inverse HVP took 0.000540018081665 sec\n",
      "Entering the for loop\n",
      "(1, 268203)\n",
      "Loaded inverse HVP from output/poisoning_900_300_inception_wd-0.001-test-[15, 32, 6].npz\n",
      "Inverse HVP took 0.000648021697998 sec\n",
      "Entering the for loop\n"
     ]
    },
    {
     "name": "stderr",
     "output_type": "stream",
     "text": [
      "[iter_attack.py:169 -     iterative_attack() ] Attach_iter 27 perturbation shape: (1, 268203), perturbation: [[ 8.18554469e-09  1.02011164e-07  5.40911955e-08 ... -9.54100088e-08\n",
      "   6.73734490e-08  5.13400096e-08]]\n"
     ]
    },
    {
     "name": "stdout",
     "output_type": "stream",
     "text": [
      "(1, 268203)\n",
      "2 2\n",
      "Shape (2, 2048)\n",
      "Using normal model\n"
     ]
    },
    {
     "name": "stderr",
     "output_type": "stream",
     "text": [
      "[genericNeuralNet.py:328 -     print_model_eval() ] Train loss (w reg) on all data: 0.0127847865\n",
      "[genericNeuralNet.py:329 -     print_model_eval() ] Train loss (w/o reg) on all data: 0.004225995\n",
      "[genericNeuralNet.py:331 -     print_model_eval() ] Test loss (w/o reg) on all data: 0.047199953\n",
      "[genericNeuralNet.py:332 -     print_model_eval() ] Train acc on all data:  1.0\n",
      "[genericNeuralNet.py:333 -     print_model_eval() ] Test acc on all data:   0.9816666666666667\n",
      "[genericNeuralNet.py:335 -     print_model_eval() ] Norm of the mean of gradients: 0.0033155894\n",
      "[genericNeuralNet.py:336 -     print_model_eval() ] Norm of the params: 4.13734\n",
      "[iter_attack.py:209 -     iterative_attack() ] Test_idx: 15 Test pred (full): [[0.86019194 0.13980804]]\n",
      "[iter_attack.py:209 -     iterative_attack() ] Test_idx: 32 Test pred (full): [[0.99765825 0.00234179]]\n"
     ]
    },
    {
     "name": "stdout",
     "output_type": "stream",
     "text": [
      "LBFGS training took [46] iter.\n",
      "After training with LBFGS: \n"
     ]
    },
    {
     "name": "stderr",
     "output_type": "stream",
     "text": [
      "[iter_attack.py:209 -     iterative_attack() ] Test_idx: 6 Test pred (full): [[1.7801821e-04 9.9982196e-01]]\n",
      "[iter_attack.py:210 -     iterative_attack() ] ---------------------\n",
      "[iter_attack.py:215 -     iterative_attack() ] Test_idx: 15 Test pred (top): [[0.86019194 0.13980804]]\n",
      "[iter_attack.py:215 -     iterative_attack() ] Test_idx: 32 Test pred (top): [[0.99765825 0.00234179]]\n",
      "[iter_attack.py:215 -     iterative_attack() ] Test_idx: 6 Test pred (top): [[1.7801821e-04 9.9982196e-01]]\n",
      "[iter_attack.py:147 -     iterative_attack() ] *** Iter: 28\n"
     ]
    },
    {
     "name": "stdout",
     "output_type": "stream",
     "text": [
      "Total number of parameters: 2048\n"
     ]
    },
    {
     "name": "stderr",
     "output_type": "stream",
     "text": [
      "[iter_attack.py:169 -     iterative_attack() ] Attach_iter 28 perturbation shape: (1, 268203), perturbation: [[-0.01553084 -0.01751512  0.00800747 ...  0.04519963  0.02451156\n",
      "  -0.03505065]]\n"
     ]
    },
    {
     "name": "stdout",
     "output_type": "stream",
     "text": [
      "Warning: Desired error not necessarily achieved due to precision loss.\n",
      "         Current function value: -46.258778\n",
      "         Iterations: 9\n",
      "         Function evaluations: 27\n",
      "         Gradient evaluations: 35\n",
      "         Hessian evaluations: 64\n",
      "Inverse HVP took 1.36207890511 sec\n",
      "Loaded inverse HVP from output/poisoning_900_300_inception_wd-0.001-test-[15, 32, 6].npz\n",
      "Inverse HVP took 0.000527858734131 sec\n",
      "Entering the for loop\n",
      "(1, 268203)\n",
      "Loaded inverse HVP from output/poisoning_900_300_inception_wd-0.001-test-[15, 32, 6].npz\n",
      "Inverse HVP took 0.000604152679443 sec\n",
      "Entering the for loop\n"
     ]
    },
    {
     "name": "stderr",
     "output_type": "stream",
     "text": [
      "[iter_attack.py:169 -     iterative_attack() ] Attach_iter 28 perturbation shape: (1, 268203), perturbation: [[-5.80918993e-08  1.46806407e-08 -2.18842775e-08 ... -2.27627890e-08\n",
      "  -5.19062482e-08 -8.22305424e-09]]\n"
     ]
    },
    {
     "name": "stdout",
     "output_type": "stream",
     "text": [
      "(1, 268203)\n",
      "2 2\n",
      "Shape (2, 2048)\n",
      "Using normal model\n"
     ]
    },
    {
     "name": "stderr",
     "output_type": "stream",
     "text": [
      "[genericNeuralNet.py:328 -     print_model_eval() ] Train loss (w reg) on all data: 0.012820577\n",
      "[genericNeuralNet.py:329 -     print_model_eval() ] Train loss (w/o reg) on all data: 0.004239172\n",
      "[genericNeuralNet.py:331 -     print_model_eval() ] Test loss (w/o reg) on all data: 0.047033627\n",
      "[genericNeuralNet.py:332 -     print_model_eval() ] Train acc on all data:  1.0\n",
      "[genericNeuralNet.py:333 -     print_model_eval() ] Test acc on all data:   0.9816666666666667\n",
      "[genericNeuralNet.py:335 -     print_model_eval() ] Norm of the mean of gradients: 0.003492939\n",
      "[genericNeuralNet.py:336 -     print_model_eval() ] Norm of the params: 4.1428022\n",
      "[iter_attack.py:209 -     iterative_attack() ] Test_idx: 15 Test pred (full): [[0.85213304 0.14786698]]\n",
      "[iter_attack.py:209 -     iterative_attack() ] Test_idx: 32 Test pred (full): [[0.9976172  0.00238284]]\n"
     ]
    },
    {
     "name": "stdout",
     "output_type": "stream",
     "text": [
      "LBFGS training took [39] iter.\n",
      "After training with LBFGS: \n"
     ]
    },
    {
     "name": "stderr",
     "output_type": "stream",
     "text": [
      "[iter_attack.py:209 -     iterative_attack() ] Test_idx: 6 Test pred (full): [[1.7876392e-04 9.9982125e-01]]\n",
      "[iter_attack.py:210 -     iterative_attack() ] ---------------------\n",
      "[iter_attack.py:215 -     iterative_attack() ] Test_idx: 15 Test pred (top): [[0.85213304 0.14786698]]\n",
      "[iter_attack.py:215 -     iterative_attack() ] Test_idx: 32 Test pred (top): [[0.9976172  0.00238284]]\n",
      "[iter_attack.py:215 -     iterative_attack() ] Test_idx: 6 Test pred (top): [[1.7876392e-04 9.9982125e-01]]\n",
      "[iter_attack.py:147 -     iterative_attack() ] *** Iter: 29\n"
     ]
    },
    {
     "name": "stdout",
     "output_type": "stream",
     "text": [
      "Total number of parameters: 2048\n"
     ]
    },
    {
     "name": "stderr",
     "output_type": "stream",
     "text": [
      "[iter_attack.py:169 -     iterative_attack() ] Attach_iter 29 perturbation shape: (1, 268203), perturbation: [[ 0.01841107  0.0081217   0.00976124 ...  0.03573881 -0.03357578\n",
      "   0.01257559]]\n"
     ]
    },
    {
     "name": "stdout",
     "output_type": "stream",
     "text": [
      "Warning: Desired error not necessarily achieved due to precision loss.\n",
      "         Current function value: -51.507427\n",
      "         Iterations: 8\n",
      "         Function evaluations: 85\n",
      "         Gradient evaluations: 82\n",
      "         Hessian evaluations: 58\n",
      "Inverse HVP took 2.43266987801 sec\n",
      "Loaded inverse HVP from output/poisoning_900_300_inception_wd-0.001-test-[15, 32, 6].npz\n",
      "Inverse HVP took 0.000526905059814 sec\n",
      "Entering the for loop\n",
      "(1, 268203)\n",
      "Loaded inverse HVP from output/poisoning_900_300_inception_wd-0.001-test-[15, 32, 6].npz\n",
      "Inverse HVP took 0.000607013702393 sec\n",
      "Entering the for loop\n"
     ]
    },
    {
     "name": "stderr",
     "output_type": "stream",
     "text": [
      "[iter_attack.py:169 -     iterative_attack() ] Attach_iter 29 perturbation shape: (1, 268203), perturbation: [[-4.72540318e-09  2.59892854e-08  3.75216258e-09 ... -6.78891112e-08\n",
      "   7.36155243e-08  9.29698274e-09]]\n"
     ]
    },
    {
     "name": "stdout",
     "output_type": "stream",
     "text": [
      "(1, 268203)\n",
      "2 2\n",
      "Shape (2, 2048)\n",
      "Using normal model\n"
     ]
    },
    {
     "name": "stderr",
     "output_type": "stream",
     "text": [
      "[genericNeuralNet.py:328 -     print_model_eval() ] Train loss (w reg) on all data: 0.012832759\n",
      "[genericNeuralNet.py:329 -     print_model_eval() ] Train loss (w/o reg) on all data: 0.0042451625\n",
      "[genericNeuralNet.py:331 -     print_model_eval() ] Test loss (w/o reg) on all data: 0.047240295\n",
      "[genericNeuralNet.py:332 -     print_model_eval() ] Train acc on all data:  1.0\n",
      "[genericNeuralNet.py:333 -     print_model_eval() ] Test acc on all data:   0.9816666666666667\n",
      "[genericNeuralNet.py:335 -     print_model_eval() ] Norm of the mean of gradients: 0.0035589645\n",
      "[genericNeuralNet.py:336 -     print_model_eval() ] Norm of the params: 4.144297\n",
      "[iter_attack.py:209 -     iterative_attack() ] Test_idx: 15 Test pred (full): [[0.8439753  0.15602471]]\n",
      "[iter_attack.py:209 -     iterative_attack() ] Test_idx: 32 Test pred (full): [[0.9976488  0.00235125]]\n"
     ]
    },
    {
     "name": "stdout",
     "output_type": "stream",
     "text": [
      "LBFGS training took [34] iter.\n",
      "After training with LBFGS: \n"
     ]
    },
    {
     "name": "stderr",
     "output_type": "stream",
     "text": [
      "[iter_attack.py:209 -     iterative_attack() ] Test_idx: 6 Test pred (full): [[1.809168e-04 9.998191e-01]]\n",
      "[iter_attack.py:210 -     iterative_attack() ] ---------------------\n",
      "[iter_attack.py:215 -     iterative_attack() ] Test_idx: 15 Test pred (top): [[0.8439753  0.15602471]]\n",
      "[iter_attack.py:215 -     iterative_attack() ] Test_idx: 32 Test pred (top): [[0.9976488  0.00235125]]\n",
      "[iter_attack.py:215 -     iterative_attack() ] Test_idx: 6 Test pred (top): [[1.809168e-04 9.998191e-01]]\n",
      "[iter_attack.py:147 -     iterative_attack() ] *** Iter: 30\n"
     ]
    },
    {
     "name": "stdout",
     "output_type": "stream",
     "text": [
      "Total number of parameters: 2048\n"
     ]
    },
    {
     "name": "stderr",
     "output_type": "stream",
     "text": [
      "[iter_attack.py:169 -     iterative_attack() ] Attach_iter 30 perturbation shape: (1, 268203), perturbation: [[-0.01549145 -0.02013751  0.00226648 ... -0.03152469  0.04365421\n",
      "  -0.02805116]]\n"
     ]
    },
    {
     "name": "stdout",
     "output_type": "stream",
     "text": [
      "Warning: Desired error not necessarily achieved due to precision loss.\n",
      "         Current function value: -57.089046\n",
      "         Iterations: 10\n",
      "         Function evaluations: 18\n",
      "         Gradient evaluations: 27\n",
      "         Hessian evaluations: 63\n",
      "Inverse HVP took 1.1686360836 sec\n",
      "Loaded inverse HVP from output/poisoning_900_300_inception_wd-0.001-test-[15, 32, 6].npz\n",
      "Inverse HVP took 0.000529050827026 sec\n",
      "Entering the for loop\n",
      "(1, 268203)\n",
      "Loaded inverse HVP from output/poisoning_900_300_inception_wd-0.001-test-[15, 32, 6].npz\n",
      "Inverse HVP took 0.000720977783203 sec\n",
      "Entering the for loop\n"
     ]
    },
    {
     "name": "stderr",
     "output_type": "stream",
     "text": [
      "[iter_attack.py:169 -     iterative_attack() ] Attach_iter 30 perturbation shape: (1, 268203), perturbation: [[-1.10364144e-08  2.58143604e-08  1.98728856e-09 ... -2.59227786e-08\n",
      "  -2.19197389e-08  6.61378241e-09]]\n"
     ]
    },
    {
     "name": "stdout",
     "output_type": "stream",
     "text": [
      "(1, 268203)\n",
      "2 2\n",
      "Shape (2, 2048)\n",
      "Using normal model\n"
     ]
    },
    {
     "name": "stderr",
     "output_type": "stream",
     "text": [
      "[genericNeuralNet.py:328 -     print_model_eval() ] Train loss (w reg) on all data: 0.012871925\n",
      "[genericNeuralNet.py:329 -     print_model_eval() ] Train loss (w/o reg) on all data: 0.004259649\n",
      "[genericNeuralNet.py:331 -     print_model_eval() ] Test loss (w/o reg) on all data: 0.046853576\n",
      "[genericNeuralNet.py:332 -     print_model_eval() ] Train acc on all data:  1.0\n",
      "[genericNeuralNet.py:333 -     print_model_eval() ] Test acc on all data:   0.9816666666666667\n",
      "[genericNeuralNet.py:335 -     print_model_eval() ] Norm of the mean of gradients: 0.0037072867\n",
      "[genericNeuralNet.py:336 -     print_model_eval() ] Norm of the params: 4.150246\n",
      "[iter_attack.py:209 -     iterative_attack() ] Test_idx: 15 Test pred (full): [[0.836088 0.163912]]\n",
      "[iter_attack.py:209 -     iterative_attack() ] Test_idx: 32 Test pred (full): [[0.9976674  0.00233255]]\n"
     ]
    },
    {
     "name": "stdout",
     "output_type": "stream",
     "text": [
      "LBFGS training took [49] iter.\n",
      "After training with LBFGS: \n"
     ]
    },
    {
     "name": "stderr",
     "output_type": "stream",
     "text": [
      "[iter_attack.py:209 -     iterative_attack() ] Test_idx: 6 Test pred (full): [[1.7710328e-04 9.9982291e-01]]\n",
      "[iter_attack.py:210 -     iterative_attack() ] ---------------------\n",
      "[iter_attack.py:215 -     iterative_attack() ] Test_idx: 15 Test pred (top): [[0.836088 0.163912]]\n",
      "[iter_attack.py:215 -     iterative_attack() ] Test_idx: 32 Test pred (top): [[0.9976674  0.00233255]]\n",
      "[iter_attack.py:215 -     iterative_attack() ] Test_idx: 6 Test pred (top): [[1.7710328e-04 9.9982291e-01]]\n",
      "[iter_attack.py:147 -     iterative_attack() ] *** Iter: 31\n"
     ]
    },
    {
     "name": "stdout",
     "output_type": "stream",
     "text": [
      "Total number of parameters: 2048\n"
     ]
    },
    {
     "name": "stderr",
     "output_type": "stream",
     "text": [
      "[iter_attack.py:169 -     iterative_attack() ] Attach_iter 31 perturbation shape: (1, 268203), perturbation: [[ 0.01004956  0.00127748  0.01911698 ...  0.05689537 -0.04655904\n",
      "   0.01916638]]\n"
     ]
    },
    {
     "name": "stdout",
     "output_type": "stream",
     "text": [
      "Warning: Desired error not necessarily achieved due to precision loss.\n",
      "         Current function value: -62.810822\n",
      "         Iterations: 6\n",
      "         Function evaluations: 75\n",
      "         Gradient evaluations: 69\n",
      "         Hessian evaluations: 46\n",
      "Inverse HVP took 2.02358484268 sec\n",
      "Loaded inverse HVP from output/poisoning_900_300_inception_wd-0.001-test-[15, 32, 6].npz\n",
      "Inverse HVP took 0.000530004501343 sec\n",
      "Entering the for loop\n",
      "(1, 268203)\n",
      "Loaded inverse HVP from output/poisoning_900_300_inception_wd-0.001-test-[15, 32, 6].npz\n",
      "Inverse HVP took 0.000617027282715 sec\n",
      "Entering the for loop\n"
     ]
    },
    {
     "name": "stderr",
     "output_type": "stream",
     "text": [
      "[iter_attack.py:169 -     iterative_attack() ] Attach_iter 31 perturbation shape: (1, 268203), perturbation: [[-2.06627391e-08  7.51679430e-09 -2.10309121e-08 ... -5.70327252e-09\n",
      "   1.13703136e-08 -5.13488629e-09]]\n"
     ]
    },
    {
     "name": "stdout",
     "output_type": "stream",
     "text": [
      "(1, 268203)\n",
      "2 2\n",
      "Shape (2, 2048)\n",
      "Using normal model\n"
     ]
    },
    {
     "name": "stderr",
     "output_type": "stream",
     "text": [
      "[genericNeuralNet.py:328 -     print_model_eval() ] Train loss (w reg) on all data: 0.012878418\n",
      "[genericNeuralNet.py:329 -     print_model_eval() ] Train loss (w/o reg) on all data: 0.004265147\n",
      "[genericNeuralNet.py:331 -     print_model_eval() ] Test loss (w/o reg) on all data: 0.047074046\n",
      "[genericNeuralNet.py:332 -     print_model_eval() ] Train acc on all data:  1.0\n",
      "[genericNeuralNet.py:333 -     print_model_eval() ] Test acc on all data:   0.9816666666666667\n",
      "[genericNeuralNet.py:335 -     print_model_eval() ] Norm of the mean of gradients: 0.0037409703\n",
      "[genericNeuralNet.py:336 -     print_model_eval() ] Norm of the params: 4.150486\n",
      "[iter_attack.py:209 -     iterative_attack() ] Test_idx: 15 Test pred (full): [[0.8283901  0.17160983]]\n",
      "[iter_attack.py:209 -     iterative_attack() ] Test_idx: 32 Test pred (full): [[0.99764425 0.00235575]]\n"
     ]
    },
    {
     "name": "stdout",
     "output_type": "stream",
     "text": [
      "LBFGS training took [12] iter.\n",
      "After training with LBFGS: \n"
     ]
    },
    {
     "name": "stderr",
     "output_type": "stream",
     "text": [
      "[iter_attack.py:209 -     iterative_attack() ] Test_idx: 6 Test pred (full): [[1.7929343e-04 9.9982077e-01]]\n",
      "[iter_attack.py:210 -     iterative_attack() ] ---------------------\n",
      "[iter_attack.py:215 -     iterative_attack() ] Test_idx: 15 Test pred (top): [[0.8283901  0.17160983]]\n",
      "[iter_attack.py:215 -     iterative_attack() ] Test_idx: 32 Test pred (top): [[0.99764425 0.00235575]]\n",
      "[iter_attack.py:215 -     iterative_attack() ] Test_idx: 6 Test pred (top): [[1.7929343e-04 9.9982077e-01]]\n",
      "[iter_attack.py:147 -     iterative_attack() ] *** Iter: 32\n"
     ]
    },
    {
     "name": "stdout",
     "output_type": "stream",
     "text": [
      "Total number of parameters: 2048\n"
     ]
    },
    {
     "name": "stderr",
     "output_type": "stream",
     "text": [
      "[iter_attack.py:169 -     iterative_attack() ] Attach_iter 32 perturbation shape: (1, 268203), perturbation: [[ 0.0196845  -0.01991859 -0.01825549 ... -0.03626167  0.04358429\n",
      "  -0.0219998 ]]\n"
     ]
    },
    {
     "name": "stdout",
     "output_type": "stream",
     "text": [
      "Warning: Desired error not necessarily achieved due to precision loss.\n",
      "         Current function value: -68.514450\n",
      "         Iterations: 8\n",
      "         Function evaluations: 80\n",
      "         Gradient evaluations: 76\n",
      "         Hessian evaluations: 44\n",
      "Inverse HVP took 2.17655086517 sec\n",
      "Loaded inverse HVP from output/poisoning_900_300_inception_wd-0.001-test-[15, 32, 6].npz\n",
      "Inverse HVP took 0.000527143478394 sec\n",
      "Entering the for loop\n",
      "(1, 268203)\n",
      "Loaded inverse HVP from output/poisoning_900_300_inception_wd-0.001-test-[15, 32, 6].npz\n",
      "Inverse HVP took 0.000598907470703 sec\n",
      "Entering the for loop\n"
     ]
    },
    {
     "name": "stderr",
     "output_type": "stream",
     "text": [
      "[iter_attack.py:169 -     iterative_attack() ] Attach_iter 32 perturbation shape: (1, 268203), perturbation: [[-3.69344306e-08  2.04703827e-08 -3.76179976e-09 ... -1.86936848e-08\n",
      "   4.66590455e-09  4.26664304e-09]]\n"
     ]
    },
    {
     "name": "stdout",
     "output_type": "stream",
     "text": [
      "(1, 268203)\n",
      "2 2\n",
      "Shape (2, 2048)\n",
      "Using normal model\n"
     ]
    },
    {
     "name": "stderr",
     "output_type": "stream",
     "text": [
      "[genericNeuralNet.py:328 -     print_model_eval() ] Train loss (w reg) on all data: 0.012922326\n",
      "[genericNeuralNet.py:329 -     print_model_eval() ] Train loss (w/o reg) on all data: 0.004280922\n",
      "[genericNeuralNet.py:331 -     print_model_eval() ] Test loss (w/o reg) on all data: 0.046811808\n",
      "[genericNeuralNet.py:332 -     print_model_eval() ] Train acc on all data:  1.0\n",
      "[genericNeuralNet.py:333 -     print_model_eval() ] Test acc on all data:   0.9816666666666667\n",
      "[genericNeuralNet.py:335 -     print_model_eval() ] Norm of the mean of gradients: 0.0038933351\n",
      "[genericNeuralNet.py:336 -     print_model_eval() ] Norm of the params: 4.15726\n",
      "[iter_attack.py:209 -     iterative_attack() ] Test_idx: 15 Test pred (full): [[0.8200941  0.17990595]]\n",
      "[iter_attack.py:209 -     iterative_attack() ] Test_idx: 32 Test pred (full): [[0.9976592  0.00234078]]\n"
     ]
    },
    {
     "name": "stdout",
     "output_type": "stream",
     "text": [
      "LBFGS training took [39] iter.\n",
      "After training with LBFGS: \n"
     ]
    },
    {
     "name": "stderr",
     "output_type": "stream",
     "text": [
      "[iter_attack.py:209 -     iterative_attack() ] Test_idx: 6 Test pred (full): [[1.7784737e-04 9.9982220e-01]]\n",
      "[iter_attack.py:210 -     iterative_attack() ] ---------------------\n",
      "[iter_attack.py:215 -     iterative_attack() ] Test_idx: 15 Test pred (top): [[0.8200941  0.17990595]]\n",
      "[iter_attack.py:215 -     iterative_attack() ] Test_idx: 32 Test pred (top): [[0.9976592  0.00234078]]\n",
      "[iter_attack.py:215 -     iterative_attack() ] Test_idx: 6 Test pred (top): [[1.7784737e-04 9.9982220e-01]]\n",
      "[iter_attack.py:147 -     iterative_attack() ] *** Iter: 33\n"
     ]
    },
    {
     "name": "stdout",
     "output_type": "stream",
     "text": [
      "Total number of parameters: 2048\n"
     ]
    },
    {
     "name": "stderr",
     "output_type": "stream",
     "text": [
      "[iter_attack.py:169 -     iterative_attack() ] Attach_iter 33 perturbation shape: (1, 268203), perturbation: [[ 0.01540768  0.02544327  0.04373196 ...  0.03106057 -0.04728863\n",
      "   0.02379718]]\n"
     ]
    },
    {
     "name": "stdout",
     "output_type": "stream",
     "text": [
      "Warning: Desired error not necessarily achieved due to precision loss.\n",
      "         Current function value: -75.094742\n",
      "         Iterations: 7\n",
      "         Function evaluations: 68\n",
      "         Gradient evaluations: 64\n",
      "         Hessian evaluations: 36\n",
      "Inverse HVP took 1.81206297874 sec\n",
      "Loaded inverse HVP from output/poisoning_900_300_inception_wd-0.001-test-[15, 32, 6].npz\n",
      "Inverse HVP took 0.000529050827026 sec\n",
      "Entering the for loop\n",
      "(1, 268203)\n",
      "Loaded inverse HVP from output/poisoning_900_300_inception_wd-0.001-test-[15, 32, 6].npz\n",
      "Inverse HVP took 0.000595808029175 sec\n",
      "Entering the for loop\n"
     ]
    },
    {
     "name": "stderr",
     "output_type": "stream",
     "text": [
      "[iter_attack.py:169 -     iterative_attack() ] Attach_iter 33 perturbation shape: (1, 268203), perturbation: [[-5.43536487e-08  2.09954951e-08  9.57696855e-09 ... -2.53071413e-08\n",
      "   6.23879259e-09  4.22663184e-08]]\n"
     ]
    },
    {
     "name": "stdout",
     "output_type": "stream",
     "text": [
      "(1, 268203)\n",
      "2 2\n",
      "Shape (2, 2048)\n",
      "Using normal model\n"
     ]
    },
    {
     "name": "stderr",
     "output_type": "stream",
     "text": [
      "[genericNeuralNet.py:328 -     print_model_eval() ] Train loss (w reg) on all data: 0.012922244\n",
      "[genericNeuralNet.py:329 -     print_model_eval() ] Train loss (w/o reg) on all data: 0.0042844084\n",
      "[genericNeuralNet.py:331 -     print_model_eval() ] Test loss (w/o reg) on all data: 0.04701702\n",
      "[genericNeuralNet.py:332 -     print_model_eval() ] Train acc on all data:  1.0\n",
      "[genericNeuralNet.py:333 -     print_model_eval() ] Test acc on all data:   0.9816666666666667\n",
      "[genericNeuralNet.py:335 -     print_model_eval() ] Norm of the mean of gradients: 0.003906701\n",
      "[genericNeuralNet.py:336 -     print_model_eval() ] Norm of the params: 4.156401\n",
      "[iter_attack.py:209 -     iterative_attack() ] Test_idx: 15 Test pred (full): [[0.81249976 0.18750027]]\n",
      "[iter_attack.py:209 -     iterative_attack() ] Test_idx: 32 Test pred (full): [[0.99764425 0.00235577]]\n"
     ]
    },
    {
     "name": "stdout",
     "output_type": "stream",
     "text": [
      "LBFGS training took [23] iter.\n",
      "After training with LBFGS: \n"
     ]
    },
    {
     "name": "stderr",
     "output_type": "stream",
     "text": [
      "[iter_attack.py:209 -     iterative_attack() ] Test_idx: 6 Test pred (full): [[1.8023257e-04 9.9981982e-01]]\n",
      "[iter_attack.py:210 -     iterative_attack() ] ---------------------\n",
      "[iter_attack.py:215 -     iterative_attack() ] Test_idx: 15 Test pred (top): [[0.81249976 0.18750027]]\n",
      "[iter_attack.py:215 -     iterative_attack() ] Test_idx: 32 Test pred (top): [[0.99764425 0.00235577]]\n",
      "[iter_attack.py:215 -     iterative_attack() ] Test_idx: 6 Test pred (top): [[1.8023257e-04 9.9981982e-01]]\n",
      "[iter_attack.py:147 -     iterative_attack() ] *** Iter: 34\n"
     ]
    },
    {
     "name": "stdout",
     "output_type": "stream",
     "text": [
      "Total number of parameters: 2048\n"
     ]
    },
    {
     "name": "stderr",
     "output_type": "stream",
     "text": [
      "[iter_attack.py:169 -     iterative_attack() ] Attach_iter 34 perturbation shape: (1, 268203), perturbation: [[ 0.02742928 -0.02775349 -0.02366604 ... -0.02991783  0.05367103\n",
      "  -0.03637719]]\n"
     ]
    },
    {
     "name": "stdout",
     "output_type": "stream",
     "text": [
      "Warning: Desired error not necessarily achieved due to precision loss.\n",
      "         Current function value: -81.148178\n",
      "         Iterations: 10\n",
      "         Function evaluations: 19\n",
      "         Gradient evaluations: 28\n",
      "         Hessian evaluations: 71\n",
      "Inverse HVP took 1.34312605858 sec\n",
      "Loaded inverse HVP from output/poisoning_900_300_inception_wd-0.001-test-[15, 32, 6].npz\n",
      "Inverse HVP took 0.000536203384399 sec\n",
      "Entering the for loop\n",
      "(1, 268203)\n",
      "Loaded inverse HVP from output/poisoning_900_300_inception_wd-0.001-test-[15, 32, 6].npz\n",
      "Inverse HVP took 0.00067400932312 sec\n",
      "Entering the for loop\n"
     ]
    },
    {
     "name": "stderr",
     "output_type": "stream",
     "text": [
      "[iter_attack.py:169 -     iterative_attack() ] Attach_iter 34 perturbation shape: (1, 268203), perturbation: [[-1.24003265e-07 -5.27664454e-08 -1.62880482e-08 ... -3.68539048e-08\n",
      "  -8.59477112e-09  1.17917310e-07]]\n"
     ]
    },
    {
     "name": "stdout",
     "output_type": "stream",
     "text": [
      "(1, 268203)\n",
      "2 2\n",
      "Shape (2, 2048)\n",
      "Using normal model\n"
     ]
    },
    {
     "name": "stderr",
     "output_type": "stream",
     "text": [
      "[genericNeuralNet.py:328 -     print_model_eval() ] Train loss (w reg) on all data: 0.012957003\n",
      "[genericNeuralNet.py:329 -     print_model_eval() ] Train loss (w/o reg) on all data: 0.0042986893\n",
      "[genericNeuralNet.py:331 -     print_model_eval() ] Test loss (w/o reg) on all data: 0.046855543\n",
      "[genericNeuralNet.py:332 -     print_model_eval() ] Train acc on all data:  1.0\n",
      "[genericNeuralNet.py:333 -     print_model_eval() ] Test acc on all data:   0.9816666666666667\n",
      "[genericNeuralNet.py:335 -     print_model_eval() ] Norm of the mean of gradients: 0.0040030754\n",
      "[genericNeuralNet.py:336 -     print_model_eval() ] Norm of the params: 4.1613255\n",
      "[iter_attack.py:209 -     iterative_attack() ] Test_idx: 15 Test pred (full): [[0.80422956 0.19577043]]\n",
      "[iter_attack.py:209 -     iterative_attack() ] Test_idx: 32 Test pred (full): [[0.9976768  0.00232319]]\n"
     ]
    },
    {
     "name": "stdout",
     "output_type": "stream",
     "text": [
      "LBFGS training took [40] iter.\n",
      "After training with LBFGS: \n"
     ]
    },
    {
     "name": "stderr",
     "output_type": "stream",
     "text": [
      "[iter_attack.py:209 -     iterative_attack() ] Test_idx: 6 Test pred (full): [[1.7739383e-04 9.9982268e-01]]\n",
      "[iter_attack.py:210 -     iterative_attack() ] ---------------------\n",
      "[iter_attack.py:215 -     iterative_attack() ] Test_idx: 15 Test pred (top): [[0.80422956 0.19577043]]\n",
      "[iter_attack.py:215 -     iterative_attack() ] Test_idx: 32 Test pred (top): [[0.9976768  0.00232319]]\n",
      "[iter_attack.py:215 -     iterative_attack() ] Test_idx: 6 Test pred (top): [[1.7739383e-04 9.9982268e-01]]\n",
      "[iter_attack.py:147 -     iterative_attack() ] *** Iter: 35\n"
     ]
    },
    {
     "name": "stdout",
     "output_type": "stream",
     "text": [
      "Total number of parameters: 2048\n"
     ]
    },
    {
     "name": "stderr",
     "output_type": "stream",
     "text": [
      "[iter_attack.py:169 -     iterative_attack() ] Attach_iter 35 perturbation shape: (1, 268203), perturbation: [[ 0.01128618  0.05469037  0.0910371  ...  0.01111404 -0.03904928\n",
      "   0.0244827 ]]\n"
     ]
    },
    {
     "name": "stdout",
     "output_type": "stream",
     "text": [
      "Warning: Desired error not necessarily achieved due to precision loss.\n",
      "         Current function value: -88.295074\n",
      "         Iterations: 9\n",
      "         Function evaluations: 89\n",
      "         Gradient evaluations: 86\n",
      "         Hessian evaluations: 51\n",
      "Inverse HVP took 2.45596790314 sec\n",
      "Loaded inverse HVP from output/poisoning_900_300_inception_wd-0.001-test-[15, 32, 6].npz\n",
      "Inverse HVP took 0.000530004501343 sec\n",
      "Entering the for loop\n",
      "(1, 268203)\n",
      "Loaded inverse HVP from output/poisoning_900_300_inception_wd-0.001-test-[15, 32, 6].npz\n",
      "Inverse HVP took 0.000627040863037 sec\n",
      "Entering the for loop\n"
     ]
    },
    {
     "name": "stderr",
     "output_type": "stream",
     "text": [
      "[iter_attack.py:169 -     iterative_attack() ] Attach_iter 35 perturbation shape: (1, 268203), perturbation: [[-2.85143699e-07 -3.64823848e-07 -1.57922301e-07 ... -1.03072963e-07\n",
      "  -2.83945898e-08  2.73830182e-07]]\n"
     ]
    },
    {
     "name": "stdout",
     "output_type": "stream",
     "text": [
      "(1, 268203)\n",
      "2 2\n",
      "Shape (2, 2048)\n",
      "Using normal model\n"
     ]
    },
    {
     "name": "stderr",
     "output_type": "stream",
     "text": [
      "[genericNeuralNet.py:328 -     print_model_eval() ] Train loss (w reg) on all data: 0.012959096\n",
      "[genericNeuralNet.py:329 -     print_model_eval() ] Train loss (w/o reg) on all data: 0.0043015853\n",
      "[genericNeuralNet.py:331 -     print_model_eval() ] Test loss (w/o reg) on all data: 0.0468622\n",
      "[genericNeuralNet.py:332 -     print_model_eval() ] Train acc on all data:  1.0\n",
      "[genericNeuralNet.py:333 -     print_model_eval() ] Test acc on all data:   0.9816666666666667\n",
      "[genericNeuralNet.py:335 -     print_model_eval() ] Norm of the mean of gradients: 0.0040261643\n",
      "[genericNeuralNet.py:336 -     print_model_eval() ] Norm of the params: 4.1611323\n",
      "[iter_attack.py:209 -     iterative_attack() ] Test_idx: 15 Test pred (full): [[0.7971686  0.20283133]]\n",
      "[iter_attack.py:209 -     iterative_attack() ] Test_idx: 32 Test pred (full): [[0.9976579  0.00234203]]\n"
     ]
    },
    {
     "name": "stdout",
     "output_type": "stream",
     "text": [
      "LBFGS training took [19] iter.\n",
      "After training with LBFGS: \n"
     ]
    },
    {
     "name": "stderr",
     "output_type": "stream",
     "text": [
      "[iter_attack.py:209 -     iterative_attack() ] Test_idx: 6 Test pred (full): [[1.7907305e-04 9.9982101e-01]]\n",
      "[iter_attack.py:210 -     iterative_attack() ] ---------------------\n",
      "[iter_attack.py:215 -     iterative_attack() ] Test_idx: 15 Test pred (top): [[0.7971686  0.20283133]]\n",
      "[iter_attack.py:215 -     iterative_attack() ] Test_idx: 32 Test pred (top): [[0.9976579  0.00234203]]\n",
      "[iter_attack.py:215 -     iterative_attack() ] Test_idx: 6 Test pred (top): [[1.7907305e-04 9.9982101e-01]]\n",
      "[iter_attack.py:147 -     iterative_attack() ] *** Iter: 36\n"
     ]
    },
    {
     "name": "stdout",
     "output_type": "stream",
     "text": [
      "Total number of parameters: 2048\n"
     ]
    },
    {
     "name": "stderr",
     "output_type": "stream",
     "text": [
      "[iter_attack.py:169 -     iterative_attack() ] Attach_iter 36 perturbation shape: (1, 268203), perturbation: [[ 0.02590527 -0.02357311 -0.03292454 ... -0.06283969  0.07631016\n",
      "  -0.05438807]]\n"
     ]
    },
    {
     "name": "stdout",
     "output_type": "stream",
     "text": [
      "Warning: Desired error not necessarily achieved due to precision loss.\n",
      "         Current function value: -94.373787\n",
      "         Iterations: 9\n",
      "         Function evaluations: 73\n",
      "         Gradient evaluations: 70\n",
      "         Hessian evaluations: 55\n",
      "Inverse HVP took 2.12960100174 sec\n",
      "Loaded inverse HVP from output/poisoning_900_300_inception_wd-0.001-test-[15, 32, 6].npz\n",
      "Inverse HVP took 0.00053596496582 sec\n",
      "Entering the for loop\n",
      "(1, 268203)\n",
      "Loaded inverse HVP from output/poisoning_900_300_inception_wd-0.001-test-[15, 32, 6].npz\n",
      "Inverse HVP took 0.000641822814941 sec\n",
      "Entering the for loop\n"
     ]
    },
    {
     "name": "stderr",
     "output_type": "stream",
     "text": [
      "[iter_attack.py:169 -     iterative_attack() ] Attach_iter 36 perturbation shape: (1, 268203), perturbation: [[-4.64954439e-07 -4.55133318e-07 -5.49707764e-08 ... -3.88665001e-07\n",
      "  -4.39508199e-07  1.02687056e-06]]\n"
     ]
    },
    {
     "name": "stdout",
     "output_type": "stream",
     "text": [
      "(1, 268203)\n",
      "2 2\n",
      "Shape (2, 2048)\n",
      "Using normal model\n"
     ]
    },
    {
     "name": "stderr",
     "output_type": "stream",
     "text": [
      "[genericNeuralNet.py:328 -     print_model_eval() ] Train loss (w reg) on all data: 0.012998262\n",
      "[genericNeuralNet.py:329 -     print_model_eval() ] Train loss (w/o reg) on all data: 0.004316185\n",
      "[genericNeuralNet.py:331 -     print_model_eval() ] Test loss (w/o reg) on all data: 0.04692028\n",
      "[genericNeuralNet.py:332 -     print_model_eval() ] Train acc on all data:  1.0\n",
      "[genericNeuralNet.py:333 -     print_model_eval() ] Test acc on all data:   0.9816666666666667\n",
      "[genericNeuralNet.py:335 -     print_model_eval() ] Norm of the mean of gradients: 0.0041668415\n",
      "[genericNeuralNet.py:336 -     print_model_eval() ] Norm of the params: 4.1670327\n",
      "[iter_attack.py:209 -     iterative_attack() ] Test_idx: 15 Test pred (full): [[0.7899651  0.21003483]]\n",
      "[iter_attack.py:209 -     iterative_attack() ] Test_idx: 32 Test pred (full): [[0.99768937 0.00231062]]\n"
     ]
    },
    {
     "name": "stdout",
     "output_type": "stream",
     "text": [
      "LBFGS training took [40] iter.\n",
      "After training with LBFGS: \n"
     ]
    },
    {
     "name": "stderr",
     "output_type": "stream",
     "text": [
      "[iter_attack.py:209 -     iterative_attack() ] Test_idx: 6 Test pred (full): [[1.7632484e-04 9.9982375e-01]]\n",
      "[iter_attack.py:210 -     iterative_attack() ] ---------------------\n",
      "[iter_attack.py:215 -     iterative_attack() ] Test_idx: 15 Test pred (top): [[0.7899651  0.21003483]]\n",
      "[iter_attack.py:215 -     iterative_attack() ] Test_idx: 32 Test pred (top): [[0.99768937 0.00231062]]\n",
      "[iter_attack.py:215 -     iterative_attack() ] Test_idx: 6 Test pred (top): [[1.7632484e-04 9.9982375e-01]]\n",
      "[iter_attack.py:147 -     iterative_attack() ] *** Iter: 37\n"
     ]
    },
    {
     "name": "stdout",
     "output_type": "stream",
     "text": [
      "Total number of parameters: 2048\n"
     ]
    },
    {
     "name": "stderr",
     "output_type": "stream",
     "text": [
      "[iter_attack.py:169 -     iterative_attack() ] Attach_iter 37 perturbation shape: (1, 268203), perturbation: [[ 0.0680034   0.04038354  0.08180286 ... -0.00042864 -0.02932915\n",
      "   0.03124764]]\n"
     ]
    },
    {
     "name": "stdout",
     "output_type": "stream",
     "text": [
      "Warning: Desired error not necessarily achieved due to precision loss.\n",
      "         Current function value: -101.112541\n",
      "         Iterations: 9\n",
      "         Function evaluations: 76\n",
      "         Gradient evaluations: 74\n",
      "         Hessian evaluations: 55\n",
      "Inverse HVP took 2.20689296722 sec\n",
      "Loaded inverse HVP from output/poisoning_900_300_inception_wd-0.001-test-[15, 32, 6].npz\n",
      "Inverse HVP took 0.000532150268555 sec\n",
      "Entering the for loop\n",
      "(1, 268203)\n",
      "Loaded inverse HVP from output/poisoning_900_300_inception_wd-0.001-test-[15, 32, 6].npz\n",
      "Inverse HVP took 0.000640869140625 sec\n",
      "Entering the for loop\n"
     ]
    },
    {
     "name": "stderr",
     "output_type": "stream",
     "text": [
      "[iter_attack.py:169 -     iterative_attack() ] Attach_iter 37 perturbation shape: (1, 268203), perturbation: [[-1.21610481e-06 -1.30477065e-06 -5.60120043e-07 ... -1.55652606e-06\n",
      "  -3.56281504e-07  2.34605955e-06]]\n"
     ]
    },
    {
     "name": "stdout",
     "output_type": "stream",
     "text": [
      "(1, 268203)\n",
      "2 2\n",
      "Shape (2, 2048)\n",
      "Using normal model\n"
     ]
    },
    {
     "name": "stderr",
     "output_type": "stream",
     "text": [
      "[genericNeuralNet.py:328 -     print_model_eval() ] Train loss (w reg) on all data: 0.012992645\n",
      "[genericNeuralNet.py:329 -     print_model_eval() ] Train loss (w/o reg) on all data: 0.0043174843\n",
      "[genericNeuralNet.py:331 -     print_model_eval() ] Test loss (w/o reg) on all data: 0.046774093\n",
      "[genericNeuralNet.py:332 -     print_model_eval() ] Train acc on all data:  1.0\n",
      "[genericNeuralNet.py:333 -     print_model_eval() ] Test acc on all data:   0.9816666666666667\n",
      "[genericNeuralNet.py:335 -     print_model_eval() ] Norm of the mean of gradients: 0.004138135\n",
      "[genericNeuralNet.py:336 -     print_model_eval() ] Norm of the params: 4.1653714\n",
      "[iter_attack.py:209 -     iterative_attack() ] Test_idx: 15 Test pred (full): [[0.7837987  0.21620126]]\n",
      "[iter_attack.py:209 -     iterative_attack() ] Test_idx: 32 Test pred (full): [[0.99765295 0.00234711]]\n"
     ]
    },
    {
     "name": "stdout",
     "output_type": "stream",
     "text": [
      "LBFGS training took [24] iter.\n",
      "After training with LBFGS: \n"
     ]
    },
    {
     "name": "stderr",
     "output_type": "stream",
     "text": [
      "[iter_attack.py:209 -     iterative_attack() ] Test_idx: 6 Test pred (full): [[1.7766446e-04 9.9982232e-01]]\n",
      "[iter_attack.py:210 -     iterative_attack() ] ---------------------\n",
      "[iter_attack.py:215 -     iterative_attack() ] Test_idx: 15 Test pred (top): [[0.7837987  0.21620126]]\n",
      "[iter_attack.py:215 -     iterative_attack() ] Test_idx: 32 Test pred (top): [[0.99765295 0.00234711]]\n",
      "[iter_attack.py:215 -     iterative_attack() ] Test_idx: 6 Test pred (top): [[1.7766446e-04 9.9982232e-01]]\n",
      "[iter_attack.py:147 -     iterative_attack() ] *** Iter: 38\n"
     ]
    },
    {
     "name": "stdout",
     "output_type": "stream",
     "text": [
      "Total number of parameters: 2048\n"
     ]
    },
    {
     "name": "stderr",
     "output_type": "stream",
     "text": [
      "[iter_attack.py:169 -     iterative_attack() ] Attach_iter 38 perturbation shape: (1, 268203), perturbation: [[-6.28675707e-03  1.04800798e-04  2.33477335e-02 ... -1.26934126e-01\n",
      "   6.89487755e-02 -1.82732716e-02]]\n"
     ]
    },
    {
     "name": "stdout",
     "output_type": "stream",
     "text": [
      "Warning: Desired error not necessarily achieved due to precision loss.\n",
      "         Current function value: -106.638496\n",
      "         Iterations: 8\n",
      "         Function evaluations: 137\n",
      "         Gradient evaluations: 130\n",
      "         Hessian evaluations: 59\n",
      "Inverse HVP took 3.4821228981 sec\n",
      "Loaded inverse HVP from output/poisoning_900_300_inception_wd-0.001-test-[15, 32, 6].npz\n",
      "Inverse HVP took 0.000523090362549 sec\n",
      "Entering the for loop\n",
      "(1, 268203)\n",
      "Loaded inverse HVP from output/poisoning_900_300_inception_wd-0.001-test-[15, 32, 6].npz\n",
      "Inverse HVP took 0.000596046447754 sec\n",
      "Entering the for loop\n"
     ]
    },
    {
     "name": "stderr",
     "output_type": "stream",
     "text": [
      "[iter_attack.py:169 -     iterative_attack() ] Attach_iter 38 perturbation shape: (1, 268203), perturbation: [[-2.55460782e-06 -2.75412663e-06 -9.74759473e-07 ...  2.98906500e-08\n",
      "  -8.50591391e-07  1.86344687e-06]]\n"
     ]
    },
    {
     "name": "stdout",
     "output_type": "stream",
     "text": [
      "(1, 268203)\n",
      "2 2\n",
      "Shape (2, 2048)\n",
      "Using normal model\n"
     ]
    },
    {
     "name": "stderr",
     "output_type": "stream",
     "text": [
      "[genericNeuralNet.py:328 -     print_model_eval() ] Train loss (w reg) on all data: 0.013024939\n",
      "[genericNeuralNet.py:329 -     print_model_eval() ] Train loss (w/o reg) on all data: 0.004329669\n",
      "[genericNeuralNet.py:331 -     print_model_eval() ] Test loss (w/o reg) on all data: 0.046978135\n",
      "[genericNeuralNet.py:332 -     print_model_eval() ] Train acc on all data:  1.0\n",
      "[genericNeuralNet.py:333 -     print_model_eval() ] Test acc on all data:   0.9816666666666667\n",
      "[genericNeuralNet.py:335 -     print_model_eval() ] Norm of the mean of gradients: 0.0042702444\n",
      "[genericNeuralNet.py:336 -     print_model_eval() ] Norm of the params: 4.1701965\n",
      "[iter_attack.py:209 -     iterative_attack() ] Test_idx: 15 Test pred (full): [[0.7760237  0.22397637]]\n",
      "[iter_attack.py:209 -     iterative_attack() ] Test_idx: 32 Test pred (full): [[0.9977101  0.00228989]]\n"
     ]
    },
    {
     "name": "stdout",
     "output_type": "stream",
     "text": [
      "LBFGS training took [39] iter.\n",
      "After training with LBFGS: \n"
     ]
    },
    {
     "name": "stderr",
     "output_type": "stream",
     "text": [
      "[iter_attack.py:209 -     iterative_attack() ] Test_idx: 6 Test pred (full): [[1.757878e-04 9.998242e-01]]\n",
      "[iter_attack.py:210 -     iterative_attack() ] ---------------------\n",
      "[iter_attack.py:215 -     iterative_attack() ] Test_idx: 15 Test pred (top): [[0.7760237  0.22397637]]\n",
      "[iter_attack.py:215 -     iterative_attack() ] Test_idx: 32 Test pred (top): [[0.9977101  0.00228989]]\n",
      "[iter_attack.py:215 -     iterative_attack() ] Test_idx: 6 Test pred (top): [[1.757878e-04 9.998242e-01]]\n",
      "[iter_attack.py:147 -     iterative_attack() ] *** Iter: 39\n"
     ]
    },
    {
     "name": "stdout",
     "output_type": "stream",
     "text": [
      "Total number of parameters: 2048\n"
     ]
    },
    {
     "name": "stderr",
     "output_type": "stream",
     "text": [
      "[iter_attack.py:169 -     iterative_attack() ] Attach_iter 39 perturbation shape: (1, 268203), perturbation: [[ 0.02987389  0.04738417  0.11724455 ...  0.07976792 -0.03280239\n",
      "  -0.0080784 ]]\n"
     ]
    },
    {
     "name": "stdout",
     "output_type": "stream",
     "text": [
      "Warning: Desired error not necessarily achieved due to precision loss.\n",
      "         Current function value: -114.355629\n",
      "         Iterations: 10\n",
      "         Function evaluations: 84\n",
      "         Gradient evaluations: 82\n",
      "         Hessian evaluations: 61\n",
      "Inverse HVP took 2.43933987617 sec\n",
      "Loaded inverse HVP from output/poisoning_900_300_inception_wd-0.001-test-[15, 32, 6].npz\n",
      "Inverse HVP took 0.000519990921021 sec\n",
      "Entering the for loop\n",
      "(1, 268203)\n",
      "Loaded inverse HVP from output/poisoning_900_300_inception_wd-0.001-test-[15, 32, 6].npz\n",
      "Inverse HVP took 0.000600099563599 sec\n",
      "Entering the for loop\n"
     ]
    },
    {
     "name": "stderr",
     "output_type": "stream",
     "text": [
      "[iter_attack.py:169 -     iterative_attack() ] Attach_iter 39 perturbation shape: (1, 268203), perturbation: [[-4.33135119e-06 -4.95166478e-06 -1.65214510e-06 ... -8.99875261e-07\n",
      "  -7.74192301e-08  2.90841672e-06]]\n"
     ]
    },
    {
     "name": "stdout",
     "output_type": "stream",
     "text": [
      "(1, 268203)\n",
      "2 2\n",
      "Shape (2, 2048)\n",
      "Using normal model\n"
     ]
    },
    {
     "name": "stderr",
     "output_type": "stream",
     "text": [
      "[genericNeuralNet.py:328 -     print_model_eval() ] Train loss (w reg) on all data: 0.013028966\n",
      "[genericNeuralNet.py:329 -     print_model_eval() ] Train loss (w/o reg) on all data: 0.0043342044\n",
      "[genericNeuralNet.py:331 -     print_model_eval() ] Test loss (w/o reg) on all data: 0.046748344\n",
      "[genericNeuralNet.py:332 -     print_model_eval() ] Train acc on all data:  1.0\n",
      "[genericNeuralNet.py:333 -     print_model_eval() ] Test acc on all data:   0.9816666666666667\n",
      "[genericNeuralNet.py:335 -     print_model_eval() ] Norm of the mean of gradients: 0.004270519\n",
      "[genericNeuralNet.py:336 -     print_model_eval() ] Norm of the params: 4.1700745\n",
      "[iter_attack.py:209 -     iterative_attack() ] Test_idx: 15 Test pred (full): [[0.7696107  0.23038931]]\n",
      "[iter_attack.py:209 -     iterative_attack() ] Test_idx: 32 Test pred (full): [[0.9976528  0.00234723]]\n"
     ]
    },
    {
     "name": "stdout",
     "output_type": "stream",
     "text": [
      "LBFGS training took [20] iter.\n",
      "After training with LBFGS: \n"
     ]
    },
    {
     "name": "stderr",
     "output_type": "stream",
     "text": [
      "[iter_attack.py:209 -     iterative_attack() ] Test_idx: 6 Test pred (full): [[1.7797884e-04 9.9982208e-01]]\n",
      "[iter_attack.py:210 -     iterative_attack() ] ---------------------\n",
      "[iter_attack.py:215 -     iterative_attack() ] Test_idx: 15 Test pred (top): [[0.7696107  0.23038931]]\n",
      "[iter_attack.py:215 -     iterative_attack() ] Test_idx: 32 Test pred (top): [[0.9976528  0.00234723]]\n",
      "[iter_attack.py:215 -     iterative_attack() ] Test_idx: 6 Test pred (top): [[1.7797884e-04 9.9982208e-01]]\n",
      "[iter_attack.py:147 -     iterative_attack() ] *** Iter: 40\n"
     ]
    },
    {
     "name": "stdout",
     "output_type": "stream",
     "text": [
      "Total number of parameters: 2048\n"
     ]
    },
    {
     "name": "stderr",
     "output_type": "stream",
     "text": [
      "[iter_attack.py:169 -     iterative_attack() ] Attach_iter 40 perturbation shape: (1, 268203), perturbation: [[ 0.02268649 -0.0075201  -0.0131897  ... -0.13735269  0.0694778\n",
      "  -0.00079301]]\n"
     ]
    },
    {
     "name": "stdout",
     "output_type": "stream",
     "text": [
      "Warning: Desired error not necessarily achieved due to precision loss.\n",
      "         Current function value: -120.477386\n",
      "         Iterations: 7\n",
      "         Function evaluations: 78\n",
      "         Gradient evaluations: 73\n",
      "         Hessian evaluations: 47\n",
      "Inverse HVP took 2.15869402885 sec\n",
      "Loaded inverse HVP from output/poisoning_900_300_inception_wd-0.001-test-[15, 32, 6].npz\n",
      "Inverse HVP took 0.00053596496582 sec\n",
      "Entering the for loop\n",
      "(1, 268203)\n",
      "Loaded inverse HVP from output/poisoning_900_300_inception_wd-0.001-test-[15, 32, 6].npz\n",
      "Inverse HVP took 0.00059700012207 sec\n",
      "Entering the for loop\n"
     ]
    },
    {
     "name": "stderr",
     "output_type": "stream",
     "text": [
      "[iter_attack.py:169 -     iterative_attack() ] Attach_iter 40 perturbation shape: (1, 268203), perturbation: [[-9.22858180e-06 -8.93664310e-06 -2.15708519e-06 ...  1.94525092e-06\n",
      "  -2.02664387e-06  3.14274644e-06]]\n"
     ]
    },
    {
     "name": "stdout",
     "output_type": "stream",
     "text": [
      "(1, 268203)\n",
      "2 2\n",
      "Shape (2, 2048)\n",
      "Using normal model\n"
     ]
    },
    {
     "name": "stderr",
     "output_type": "stream",
     "text": [
      "[genericNeuralNet.py:328 -     print_model_eval() ] Train loss (w reg) on all data: 0.013047821\n",
      "[genericNeuralNet.py:329 -     print_model_eval() ] Train loss (w/o reg) on all data: 0.004341645\n",
      "[genericNeuralNet.py:331 -     print_model_eval() ] Test loss (w/o reg) on all data: 0.04713279\n",
      "[genericNeuralNet.py:332 -     print_model_eval() ] Train acc on all data:  1.0\n",
      "[genericNeuralNet.py:333 -     print_model_eval() ] Test acc on all data:   0.9816666666666667\n",
      "[genericNeuralNet.py:335 -     print_model_eval() ] Norm of the mean of gradients: 0.0043644705\n",
      "[genericNeuralNet.py:336 -     print_model_eval() ] Norm of the params: 4.1728106\n",
      "[iter_attack.py:209 -     iterative_attack() ] Test_idx: 15 Test pred (full): [[0.7620333  0.23796673]]\n",
      "[iter_attack.py:209 -     iterative_attack() ] Test_idx: 32 Test pred (full): [[0.9977196  0.00228041]]\n"
     ]
    },
    {
     "name": "stdout",
     "output_type": "stream",
     "text": [
      "LBFGS training took [46] iter.\n",
      "After training with LBFGS: \n"
     ]
    },
    {
     "name": "stderr",
     "output_type": "stream",
     "text": [
      "[iter_attack.py:209 -     iterative_attack() ] Test_idx: 6 Test pred (full): [[1.7595888e-04 9.9982411e-01]]\n",
      "[iter_attack.py:210 -     iterative_attack() ] ---------------------\n",
      "[iter_attack.py:215 -     iterative_attack() ] Test_idx: 15 Test pred (top): [[0.7620333  0.23796673]]\n",
      "[iter_attack.py:215 -     iterative_attack() ] Test_idx: 32 Test pred (top): [[0.9977196  0.00228041]]\n",
      "[iter_attack.py:215 -     iterative_attack() ] Test_idx: 6 Test pred (top): [[1.7595888e-04 9.9982411e-01]]\n",
      "[iter_attack.py:147 -     iterative_attack() ] *** Iter: 41\n"
     ]
    },
    {
     "name": "stdout",
     "output_type": "stream",
     "text": [
      "Total number of parameters: 2048\n"
     ]
    },
    {
     "name": "stderr",
     "output_type": "stream",
     "text": [
      "[iter_attack.py:169 -     iterative_attack() ] Attach_iter 41 perturbation shape: (1, 268203), perturbation: [[ 0.03676584  0.07638032  0.15612994 ...  0.02978464 -0.04736302\n",
      "   0.00726222]]\n"
     ]
    },
    {
     "name": "stdout",
     "output_type": "stream",
     "text": [
      "Warning: Desired error not necessarily achieved due to precision loss.\n",
      "         Current function value: -128.396942\n",
      "         Iterations: 10\n",
      "         Function evaluations: 143\n",
      "         Gradient evaluations: 138\n",
      "         Hessian evaluations: 67\n",
      "Inverse HVP took 3.79974007607 sec\n",
      "Loaded inverse HVP from output/poisoning_900_300_inception_wd-0.001-test-[15, 32, 6].npz\n",
      "Inverse HVP took 0.000519037246704 sec\n",
      "Entering the for loop\n",
      "(1, 268203)\n",
      "Loaded inverse HVP from output/poisoning_900_300_inception_wd-0.001-test-[15, 32, 6].npz\n",
      "Inverse HVP took 0.000653028488159 sec\n",
      "Entering the for loop\n"
     ]
    },
    {
     "name": "stderr",
     "output_type": "stream",
     "text": [
      "[iter_attack.py:169 -     iterative_attack() ] Attach_iter 41 perturbation shape: (1, 268203), perturbation: [[-1.26549166e-05 -1.92636289e-05 -4.53273742e-06 ... -4.00157478e-06\n",
      "   3.48838830e-06  8.81371216e-06]]\n"
     ]
    },
    {
     "name": "stdout",
     "output_type": "stream",
     "text": [
      "(1, 268203)\n",
      "2 2\n",
      "Shape (2, 2048)\n",
      "Using normal model\n"
     ]
    },
    {
     "name": "stderr",
     "output_type": "stream",
     "text": [
      "[genericNeuralNet.py:328 -     print_model_eval() ] Train loss (w reg) on all data: 0.013058433\n",
      "[genericNeuralNet.py:329 -     print_model_eval() ] Train loss (w/o reg) on all data: 0.0043478063\n",
      "[genericNeuralNet.py:331 -     print_model_eval() ] Test loss (w/o reg) on all data: 0.04679519\n",
      "[genericNeuralNet.py:332 -     print_model_eval() ] Train acc on all data:  1.0\n",
      "[genericNeuralNet.py:333 -     print_model_eval() ] Test acc on all data:   0.9816666666666667\n",
      "[genericNeuralNet.py:335 -     print_model_eval() ] Norm of the mean of gradients: 0.004382905\n",
      "[genericNeuralNet.py:336 -     print_model_eval() ] Norm of the params: 4.1738772\n",
      "[iter_attack.py:209 -     iterative_attack() ] Test_idx: 15 Test pred (full): [[0.7559507 0.2440493]]\n",
      "[iter_attack.py:209 -     iterative_attack() ] Test_idx: 32 Test pred (full): [[0.99769884 0.00230115]]\n"
     ]
    },
    {
     "name": "stdout",
     "output_type": "stream",
     "text": [
      "LBFGS training took [25] iter.\n",
      "After training with LBFGS: \n"
     ]
    },
    {
     "name": "stderr",
     "output_type": "stream",
     "text": [
      "[iter_attack.py:209 -     iterative_attack() ] Test_idx: 6 Test pred (full): [[1.7638334e-04 9.9982363e-01]]\n",
      "[iter_attack.py:210 -     iterative_attack() ] ---------------------\n",
      "[iter_attack.py:215 -     iterative_attack() ] Test_idx: 15 Test pred (top): [[0.7559507 0.2440493]]\n",
      "[iter_attack.py:215 -     iterative_attack() ] Test_idx: 32 Test pred (top): [[0.99769884 0.00230115]]\n",
      "[iter_attack.py:215 -     iterative_attack() ] Test_idx: 6 Test pred (top): [[1.7638334e-04 9.9982363e-01]]\n",
      "[iter_attack.py:147 -     iterative_attack() ] *** Iter: 42\n"
     ]
    },
    {
     "name": "stdout",
     "output_type": "stream",
     "text": [
      "Total number of parameters: 2048\n"
     ]
    },
    {
     "name": "stderr",
     "output_type": "stream",
     "text": [
      "[iter_attack.py:169 -     iterative_attack() ] Attach_iter 42 perturbation shape: (1, 268203), perturbation: [[ 0.02242403 -0.0694773  -0.05069892 ... -0.1157113   0.07319381\n",
      "  -0.00647927]]\n"
     ]
    },
    {
     "name": "stdout",
     "output_type": "stream",
     "text": [
      "Warning: Desired error not necessarily achieved due to precision loss.\n",
      "         Current function value: -134.611053\n",
      "         Iterations: 8\n",
      "         Function evaluations: 82\n",
      "         Gradient evaluations: 78\n",
      "         Hessian evaluations: 46\n",
      "Inverse HVP took 2.27116394043 sec\n",
      "Loaded inverse HVP from output/poisoning_900_300_inception_wd-0.001-test-[15, 32, 6].npz\n",
      "Inverse HVP took 0.000519990921021 sec\n",
      "Entering the for loop\n",
      "(1, 268203)\n",
      "Loaded inverse HVP from output/poisoning_900_300_inception_wd-0.001-test-[15, 32, 6].npz\n",
      "Inverse HVP took 0.000600099563599 sec\n",
      "Entering the for loop\n"
     ]
    },
    {
     "name": "stderr",
     "output_type": "stream",
     "text": [
      "[iter_attack.py:169 -     iterative_attack() ] Attach_iter 42 perturbation shape: (1, 268203), perturbation: [[-1.41646815e-05 -2.58981654e-05 -6.06155390e-06 ... -7.33809566e-06\n",
      "   1.07380483e-05  1.33258518e-05]]\n"
     ]
    },
    {
     "name": "stdout",
     "output_type": "stream",
     "text": [
      "(1, 268203)\n",
      "2 2\n",
      "Shape (2, 2048)\n",
      "Using normal model\n"
     ]
    },
    {
     "name": "stderr",
     "output_type": "stream",
     "text": [
      "[genericNeuralNet.py:328 -     print_model_eval() ] Train loss (w reg) on all data: 0.0130778635\n",
      "[genericNeuralNet.py:329 -     print_model_eval() ] Train loss (w/o reg) on all data: 0.0043565733\n",
      "[genericNeuralNet.py:331 -     print_model_eval() ] Test loss (w/o reg) on all data: 0.04705092\n",
      "[genericNeuralNet.py:332 -     print_model_eval() ] Train acc on all data:  1.0\n",
      "[genericNeuralNet.py:333 -     print_model_eval() ] Test acc on all data:   0.9816666666666667\n",
      "[genericNeuralNet.py:335 -     print_model_eval() ] Norm of the mean of gradients: 0.004458793\n",
      "[genericNeuralNet.py:336 -     print_model_eval() ] Norm of the params: 4.1764317\n",
      "[iter_attack.py:209 -     iterative_attack() ] Test_idx: 15 Test pred (full): [[0.747721   0.25227895]]\n",
      "[iter_attack.py:209 -     iterative_attack() ] Test_idx: 32 Test pred (full): [[0.9977361 0.0022639]]\n"
     ]
    },
    {
     "name": "stdout",
     "output_type": "stream",
     "text": [
      "LBFGS training took [45] iter.\n",
      "After training with LBFGS: \n"
     ]
    },
    {
     "name": "stderr",
     "output_type": "stream",
     "text": [
      "[iter_attack.py:209 -     iterative_attack() ] Test_idx: 6 Test pred (full): [[1.7601407e-04 9.9982399e-01]]\n",
      "[iter_attack.py:210 -     iterative_attack() ] ---------------------\n",
      "[iter_attack.py:215 -     iterative_attack() ] Test_idx: 15 Test pred (top): [[0.747721   0.25227895]]\n",
      "[iter_attack.py:215 -     iterative_attack() ] Test_idx: 32 Test pred (top): [[0.9977361 0.0022639]]\n",
      "[iter_attack.py:215 -     iterative_attack() ] Test_idx: 6 Test pred (top): [[1.7601407e-04 9.9982399e-01]]\n",
      "[iter_attack.py:147 -     iterative_attack() ] *** Iter: 43\n"
     ]
    },
    {
     "name": "stdout",
     "output_type": "stream",
     "text": [
      "Total number of parameters: 2048\n"
     ]
    },
    {
     "name": "stderr",
     "output_type": "stream",
     "text": [
      "[iter_attack.py:169 -     iterative_attack() ] Attach_iter 43 perturbation shape: (1, 268203), perturbation: [[-0.01663425  0.09625524  0.21944553 ... -0.01058324 -0.04601358\n",
      "   0.02258251]]\n"
     ]
    },
    {
     "name": "stdout",
     "output_type": "stream",
     "text": [
      "Warning: Desired error not necessarily achieved due to precision loss.\n",
      "         Current function value: -143.591766\n",
      "         Iterations: 11\n",
      "         Function evaluations: 16\n",
      "         Gradient evaluations: 26\n",
      "         Hessian evaluations: 68\n",
      "Inverse HVP took 1.18968892097 sec\n",
      "Loaded inverse HVP from output/poisoning_900_300_inception_wd-0.001-test-[15, 32, 6].npz\n",
      "Inverse HVP took 0.000534057617188 sec\n",
      "Entering the for loop\n",
      "(1, 268203)\n",
      "Loaded inverse HVP from output/poisoning_900_300_inception_wd-0.001-test-[15, 32, 6].npz\n",
      "Inverse HVP took 0.000612020492554 sec\n",
      "Entering the for loop\n"
     ]
    },
    {
     "name": "stderr",
     "output_type": "stream",
     "text": [
      "[iter_attack.py:169 -     iterative_attack() ] Attach_iter 43 perturbation shape: (1, 268203), perturbation: [[-2.76750507e-05 -4.78843467e-05 -1.12750322e-05 ... -1.60773325e-05\n",
      "   1.49889102e-05  2.66091320e-05]]\n"
     ]
    },
    {
     "name": "stdout",
     "output_type": "stream",
     "text": [
      "(1, 268203)\n",
      "2 2\n",
      "Shape (2, 2048)\n",
      "Using normal model\n"
     ]
    },
    {
     "name": "stderr",
     "output_type": "stream",
     "text": [
      "[genericNeuralNet.py:328 -     print_model_eval() ] Train loss (w reg) on all data: 0.013092341\n",
      "[genericNeuralNet.py:329 -     print_model_eval() ] Train loss (w/o reg) on all data: 0.004362951\n",
      "[genericNeuralNet.py:331 -     print_model_eval() ] Test loss (w/o reg) on all data: 0.046861127\n",
      "[genericNeuralNet.py:332 -     print_model_eval() ] Train acc on all data:  1.0\n",
      "[genericNeuralNet.py:333 -     print_model_eval() ] Test acc on all data:   0.9816666666666667\n",
      "[genericNeuralNet.py:335 -     print_model_eval() ] Norm of the mean of gradients: 0.0045153517\n",
      "[genericNeuralNet.py:336 -     print_model_eval() ] Norm of the params: 4.178371\n",
      "[iter_attack.py:209 -     iterative_attack() ] Test_idx: 15 Test pred (full): [[0.7426144  0.25738555]]\n",
      "[iter_attack.py:209 -     iterative_attack() ] Test_idx: 32 Test pred (full): [[0.99771774 0.00228226]]\n"
     ]
    },
    {
     "name": "stdout",
     "output_type": "stream",
     "text": [
      "LBFGS training took [33] iter.\n",
      "After training with LBFGS: \n"
     ]
    },
    {
     "name": "stderr",
     "output_type": "stream",
     "text": [
      "[iter_attack.py:209 -     iterative_attack() ] Test_idx: 6 Test pred (full): [[1.7590953e-04 9.9982411e-01]]\n",
      "[iter_attack.py:210 -     iterative_attack() ] ---------------------\n",
      "[iter_attack.py:215 -     iterative_attack() ] Test_idx: 15 Test pred (top): [[0.7426144  0.25738555]]\n",
      "[iter_attack.py:215 -     iterative_attack() ] Test_idx: 32 Test pred (top): [[0.99771774 0.00228226]]\n",
      "[iter_attack.py:215 -     iterative_attack() ] Test_idx: 6 Test pred (top): [[1.7590953e-04 9.9982411e-01]]\n",
      "[iter_attack.py:147 -     iterative_attack() ] *** Iter: 44\n"
     ]
    },
    {
     "name": "stdout",
     "output_type": "stream",
     "text": [
      "Total number of parameters: 2048\n"
     ]
    },
    {
     "name": "stderr",
     "output_type": "stream",
     "text": [
      "[iter_attack.py:169 -     iterative_attack() ] Attach_iter 44 perturbation shape: (1, 268203), perturbation: [[-0.00248225 -0.03369781  0.00524336 ... -0.0644297   0.05040227\n",
      "  -0.00556386]]\n"
     ]
    },
    {
     "name": "stdout",
     "output_type": "stream",
     "text": [
      "Warning: Desired error not necessarily achieved due to precision loss.\n",
      "         Current function value: -149.035065\n",
      "         Iterations: 9\n",
      "         Function evaluations: 128\n",
      "         Gradient evaluations: 124\n",
      "         Hessian evaluations: 57\n",
      "Inverse HVP took 3.30709004402 sec\n",
      "Loaded inverse HVP from output/poisoning_900_300_inception_wd-0.001-test-[15, 32, 6].npz\n",
      "Inverse HVP took 0.000530958175659 sec\n",
      "Entering the for loop\n",
      "(1, 268203)\n",
      "Loaded inverse HVP from output/poisoning_900_300_inception_wd-0.001-test-[15, 32, 6].npz\n",
      "Inverse HVP took 0.000603914260864 sec\n",
      "Entering the for loop\n"
     ]
    },
    {
     "name": "stderr",
     "output_type": "stream",
     "text": [
      "[iter_attack.py:169 -     iterative_attack() ] Attach_iter 44 perturbation shape: (1, 268203), perturbation: [[-6.29879578e-05 -8.77390121e-05 -3.02372719e-05 ...  1.02385502e-06\n",
      "   1.36535118e-05  7.98103065e-06]]\n"
     ]
    },
    {
     "name": "stdout",
     "output_type": "stream",
     "text": [
      "(1, 268203)\n",
      "2 2\n",
      "Shape (2, 2048)\n",
      "Using normal model\n"
     ]
    },
    {
     "name": "stderr",
     "output_type": "stream",
     "text": [
      "[genericNeuralNet.py:328 -     print_model_eval() ] Train loss (w reg) on all data: 0.013106205\n",
      "[genericNeuralNet.py:329 -     print_model_eval() ] Train loss (w/o reg) on all data: 0.0043691345\n",
      "[genericNeuralNet.py:331 -     print_model_eval() ] Test loss (w/o reg) on all data: 0.046993427\n",
      "[genericNeuralNet.py:332 -     print_model_eval() ] Train acc on all data:  1.0\n",
      "[genericNeuralNet.py:333 -     print_model_eval() ] Test acc on all data:   0.9816666666666667\n",
      "[genericNeuralNet.py:335 -     print_model_eval() ] Norm of the mean of gradients: 0.004574422\n",
      "[genericNeuralNet.py:336 -     print_model_eval() ] Norm of the params: 4.180208\n",
      "[iter_attack.py:209 -     iterative_attack() ] Test_idx: 15 Test pred (full): [[0.7344402  0.26555976]]\n",
      "[iter_attack.py:209 -     iterative_attack() ] Test_idx: 32 Test pred (full): [[0.9977697  0.00223034]]\n"
     ]
    },
    {
     "name": "stdout",
     "output_type": "stream",
     "text": [
      "LBFGS training took [43] iter.\n",
      "After training with LBFGS: \n"
     ]
    },
    {
     "name": "stderr",
     "output_type": "stream",
     "text": [
      "[iter_attack.py:209 -     iterative_attack() ] Test_idx: 6 Test pred (full): [[1.7646543e-04 9.9982351e-01]]\n",
      "[iter_attack.py:210 -     iterative_attack() ] ---------------------\n",
      "[iter_attack.py:215 -     iterative_attack() ] Test_idx: 15 Test pred (top): [[0.7344402  0.26555976]]\n",
      "[iter_attack.py:215 -     iterative_attack() ] Test_idx: 32 Test pred (top): [[0.9977697  0.00223034]]\n",
      "[iter_attack.py:215 -     iterative_attack() ] Test_idx: 6 Test pred (top): [[1.7646543e-04 9.9982351e-01]]\n",
      "[iter_attack.py:147 -     iterative_attack() ] *** Iter: 45\n"
     ]
    },
    {
     "name": "stdout",
     "output_type": "stream",
     "text": [
      "Total number of parameters: 2048\n"
     ]
    },
    {
     "name": "stderr",
     "output_type": "stream",
     "text": [
      "[iter_attack.py:169 -     iterative_attack() ] Attach_iter 45 perturbation shape: (1, 268203), perturbation: [[ 0.00377408  0.08035637  0.18026571 ...  0.00868751 -0.05604371\n",
      "   0.02522301]]\n"
     ]
    },
    {
     "name": "stdout",
     "output_type": "stream",
     "text": [
      "Warning: Desired error not necessarily achieved due to precision loss.\n",
      "         Current function value: -158.374680\n",
      "         Iterations: 9\n",
      "         Function evaluations: 163\n",
      "         Gradient evaluations: 158\n",
      "         Hessian evaluations: 58\n",
      "Inverse HVP took 4.09596991539 sec\n",
      "Loaded inverse HVP from output/poisoning_900_300_inception_wd-0.001-test-[15, 32, 6].npz\n",
      "Inverse HVP took 0.000524997711182 sec\n",
      "Entering the for loop\n",
      "(1, 268203)\n",
      "Loaded inverse HVP from output/poisoning_900_300_inception_wd-0.001-test-[15, 32, 6].npz\n",
      "Inverse HVP took 0.000611066818237 sec\n",
      "Entering the for loop\n"
     ]
    },
    {
     "name": "stderr",
     "output_type": "stream",
     "text": [
      "[iter_attack.py:169 -     iterative_attack() ] Attach_iter 45 perturbation shape: (1, 268203), perturbation: [[-1.59211879e-04 -2.10791855e-04 -1.32637972e-04 ... -5.25350151e-06\n",
      "   2.84408670e-05  1.62662818e-05]]\n"
     ]
    },
    {
     "name": "stdout",
     "output_type": "stream",
     "text": [
      "(1, 268203)\n",
      "2 2\n",
      "Shape (2, 2048)\n",
      "Using normal model\n"
     ]
    },
    {
     "name": "stderr",
     "output_type": "stream",
     "text": [
      "[genericNeuralNet.py:328 -     print_model_eval() ] Train loss (w reg) on all data: 0.013122734\n",
      "[genericNeuralNet.py:329 -     print_model_eval() ] Train loss (w/o reg) on all data: 0.00437747\n",
      "[genericNeuralNet.py:331 -     print_model_eval() ] Test loss (w/o reg) on all data: 0.046926457\n",
      "[genericNeuralNet.py:332 -     print_model_eval() ] Train acc on all data:  1.0\n",
      "[genericNeuralNet.py:333 -     print_model_eval() ] Test acc on all data:   0.9816666666666667\n",
      "[genericNeuralNet.py:335 -     print_model_eval() ] Norm of the mean of gradients: 0.004634451\n",
      "[genericNeuralNet.py:336 -     print_model_eval() ] Norm of the params: 4.1821675\n",
      "[iter_attack.py:209 -     iterative_attack() ] Test_idx: 15 Test pred (full): [[0.72900754 0.27099243]]\n",
      "[iter_attack.py:209 -     iterative_attack() ] Test_idx: 32 Test pred (full): [[0.99773204 0.00226796]]\n"
     ]
    },
    {
     "name": "stdout",
     "output_type": "stream",
     "text": [
      "LBFGS training took [30] iter.\n",
      "After training with LBFGS: \n"
     ]
    },
    {
     "name": "stderr",
     "output_type": "stream",
     "text": [
      "[iter_attack.py:209 -     iterative_attack() ] Test_idx: 6 Test pred (full): [[1.765198e-04 9.998235e-01]]\n",
      "[iter_attack.py:210 -     iterative_attack() ] ---------------------\n",
      "[iter_attack.py:215 -     iterative_attack() ] Test_idx: 15 Test pred (top): [[0.72900754 0.27099243]]\n",
      "[iter_attack.py:215 -     iterative_attack() ] Test_idx: 32 Test pred (top): [[0.99773204 0.00226796]]\n",
      "[iter_attack.py:215 -     iterative_attack() ] Test_idx: 6 Test pred (top): [[1.765198e-04 9.998235e-01]]\n",
      "[iter_attack.py:147 -     iterative_attack() ] *** Iter: 46\n"
     ]
    },
    {
     "name": "stdout",
     "output_type": "stream",
     "text": [
      "Total number of parameters: 2048\n"
     ]
    },
    {
     "name": "stderr",
     "output_type": "stream",
     "text": [
      "[iter_attack.py:169 -     iterative_attack() ] Attach_iter 46 perturbation shape: (1, 268203), perturbation: [[ 0.02553838 -0.04578647  0.01817274 ... -0.05343037  0.0663755\n",
      "  -0.01733109]]\n"
     ]
    },
    {
     "name": "stdout",
     "output_type": "stream",
     "text": [
      "Warning: Desired error not necessarily achieved due to precision loss.\n",
      "         Current function value: -164.496552\n",
      "         Iterations: 8\n",
      "         Function evaluations: 56\n",
      "         Gradient evaluations: 54\n",
      "         Hessian evaluations: 46\n",
      "Inverse HVP took 1.67908811569 sec\n",
      "Loaded inverse HVP from output/poisoning_900_300_inception_wd-0.001-test-[15, 32, 6].npz\n",
      "Inverse HVP took 0.000559091567993 sec\n",
      "Entering the for loop\n",
      "(1, 268203)\n",
      "Loaded inverse HVP from output/poisoning_900_300_inception_wd-0.001-test-[15, 32, 6].npz\n",
      "Inverse HVP took 0.000603199005127 sec\n",
      "Entering the for loop\n"
     ]
    },
    {
     "name": "stderr",
     "output_type": "stream",
     "text": [
      "[iter_attack.py:169 -     iterative_attack() ] Attach_iter 46 perturbation shape: (1, 268203), perturbation: [[-1.52881257e-04 -1.64569268e-04 -6.32354786e-05 ... -6.83346734e-05\n",
      "  -3.56966802e-06  9.56113508e-05]]\n"
     ]
    },
    {
     "name": "stdout",
     "output_type": "stream",
     "text": [
      "(1, 268203)\n",
      "2 2\n",
      "Shape (2, 2048)\n",
      "Using normal model\n"
     ]
    },
    {
     "name": "stderr",
     "output_type": "stream",
     "text": [
      "[genericNeuralNet.py:328 -     print_model_eval() ] Train loss (w reg) on all data: 0.013133707\n",
      "[genericNeuralNet.py:329 -     print_model_eval() ] Train loss (w/o reg) on all data: 0.004382071\n",
      "[genericNeuralNet.py:331 -     print_model_eval() ] Test loss (w/o reg) on all data: 0.046795256\n",
      "[genericNeuralNet.py:332 -     print_model_eval() ] Train acc on all data:  1.0\n",
      "[genericNeuralNet.py:333 -     print_model_eval() ] Test acc on all data:   0.9816666666666667\n",
      "[genericNeuralNet.py:335 -     print_model_eval() ] Norm of the mean of gradients: 0.004641044\n",
      "[genericNeuralNet.py:336 -     print_model_eval() ] Norm of the params: 4.1836915\n",
      "[iter_attack.py:209 -     iterative_attack() ] Test_idx: 15 Test pred (full): [[0.72187227 0.27812773]]\n",
      "[iter_attack.py:209 -     iterative_attack() ] Test_idx: 32 Test pred (full): [[0.99780256 0.00219738]]\n"
     ]
    },
    {
     "name": "stdout",
     "output_type": "stream",
     "text": [
      "LBFGS training took [40] iter.\n",
      "After training with LBFGS: \n"
     ]
    },
    {
     "name": "stderr",
     "output_type": "stream",
     "text": [
      "[iter_attack.py:209 -     iterative_attack() ] Test_idx: 6 Test pred (full): [[1.7510878e-04 9.9982494e-01]]\n",
      "[iter_attack.py:210 -     iterative_attack() ] ---------------------\n",
      "[iter_attack.py:215 -     iterative_attack() ] Test_idx: 15 Test pred (top): [[0.72187227 0.27812773]]\n",
      "[iter_attack.py:215 -     iterative_attack() ] Test_idx: 32 Test pred (top): [[0.99780256 0.00219738]]\n",
      "[iter_attack.py:215 -     iterative_attack() ] Test_idx: 6 Test pred (top): [[1.7510878e-04 9.9982494e-01]]\n",
      "[iter_attack.py:147 -     iterative_attack() ] *** Iter: 47\n"
     ]
    },
    {
     "name": "stdout",
     "output_type": "stream",
     "text": [
      "Total number of parameters: 2048\n"
     ]
    },
    {
     "name": "stderr",
     "output_type": "stream",
     "text": [
      "[iter_attack.py:169 -     iterative_attack() ] Attach_iter 47 perturbation shape: (1, 268203), perturbation: [[ 0.03059958  0.08310284  0.16163245 ... -0.0109489  -0.09375241\n",
      "   0.06196529]]\n"
     ]
    },
    {
     "name": "stdout",
     "output_type": "stream",
     "text": [
      "Warning: Desired error not necessarily achieved due to precision loss.\n",
      "         Current function value: -172.966736\n",
      "         Iterations: 8\n",
      "         Function evaluations: 60\n",
      "         Gradient evaluations: 57\n",
      "         Hessian evaluations: 53\n",
      "Inverse HVP took 1.82042598724 sec\n",
      "Loaded inverse HVP from output/poisoning_900_300_inception_wd-0.001-test-[15, 32, 6].npz\n",
      "Inverse HVP took 0.000571966171265 sec\n",
      "Entering the for loop\n",
      "(1, 268203)\n",
      "Loaded inverse HVP from output/poisoning_900_300_inception_wd-0.001-test-[15, 32, 6].npz\n",
      "Inverse HVP took 0.000614166259766 sec\n",
      "Entering the for loop\n"
     ]
    },
    {
     "name": "stderr",
     "output_type": "stream",
     "text": [
      "[iter_attack.py:169 -     iterative_attack() ] Attach_iter 47 perturbation shape: (1, 268203), perturbation: [[-3.02839238e-04 -2.95124861e-04 -1.64673824e-04 ... -1.72582033e-04\n",
      "   3.34669967e-05  1.80468705e-04]]\n"
     ]
    },
    {
     "name": "stdout",
     "output_type": "stream",
     "text": [
      "(1, 268203)\n",
      "2 2\n",
      "Shape (2, 2048)\n",
      "Using normal model\n"
     ]
    },
    {
     "name": "stderr",
     "output_type": "stream",
     "text": [
      "[genericNeuralNet.py:328 -     print_model_eval() ] Train loss (w reg) on all data: 0.013150939\n",
      "[genericNeuralNet.py:329 -     print_model_eval() ] Train loss (w/o reg) on all data: 0.004390429\n",
      "[genericNeuralNet.py:331 -     print_model_eval() ] Test loss (w/o reg) on all data: 0.046993908\n",
      "[genericNeuralNet.py:332 -     print_model_eval() ] Train acc on all data:  1.0\n",
      "[genericNeuralNet.py:333 -     print_model_eval() ] Test acc on all data:   0.9816666666666667\n",
      "[genericNeuralNet.py:335 -     print_model_eval() ] Norm of the mean of gradients: 0.004768725\n",
      "[genericNeuralNet.py:336 -     print_model_eval() ] Norm of the params: 4.1858115\n",
      "[iter_attack.py:209 -     iterative_attack() ] Test_idx: 15 Test pred (full): [[0.71647936 0.2835206 ]]\n",
      "[iter_attack.py:209 -     iterative_attack() ] Test_idx: 32 Test pred (full): [[0.99774855 0.0022514 ]]\n"
     ]
    },
    {
     "name": "stdout",
     "output_type": "stream",
     "text": [
      "LBFGS training took [36] iter.\n",
      "After training with LBFGS: \n"
     ]
    },
    {
     "name": "stderr",
     "output_type": "stream",
     "text": [
      "[iter_attack.py:209 -     iterative_attack() ] Test_idx: 6 Test pred (full): [[1.7873749e-04 9.9982125e-01]]\n",
      "[iter_attack.py:210 -     iterative_attack() ] ---------------------\n",
      "[iter_attack.py:215 -     iterative_attack() ] Test_idx: 15 Test pred (top): [[0.71647936 0.2835206 ]]\n",
      "[iter_attack.py:215 -     iterative_attack() ] Test_idx: 32 Test pred (top): [[0.99774855 0.0022514 ]]\n",
      "[iter_attack.py:215 -     iterative_attack() ] Test_idx: 6 Test pred (top): [[1.7873749e-04 9.9982125e-01]]\n",
      "[iter_attack.py:147 -     iterative_attack() ] *** Iter: 48\n"
     ]
    },
    {
     "name": "stdout",
     "output_type": "stream",
     "text": [
      "Total number of parameters: 2048\n"
     ]
    },
    {
     "name": "stderr",
     "output_type": "stream",
     "text": [
      "[iter_attack.py:169 -     iterative_attack() ] Attach_iter 48 perturbation shape: (1, 268203), perturbation: [[ 0.04627132 -0.08645437 -0.04036165 ...  0.00883216  0.0394443\n",
      "  -0.01344866]]\n"
     ]
    },
    {
     "name": "stdout",
     "output_type": "stream",
     "text": [
      "Warning: Desired error not necessarily achieved due to precision loss.\n",
      "         Current function value: -179.309235\n",
      "         Iterations: 9\n",
      "         Function evaluations: 127\n",
      "         Gradient evaluations: 124\n",
      "         Hessian evaluations: 52\n",
      "Inverse HVP took 3.25559306145 sec\n",
      "Loaded inverse HVP from output/poisoning_900_300_inception_wd-0.001-test-[15, 32, 6].npz\n",
      "Inverse HVP took 0.000529050827026 sec\n",
      "Entering the for loop\n",
      "(1, 268203)\n",
      "Loaded inverse HVP from output/poisoning_900_300_inception_wd-0.001-test-[15, 32, 6].npz\n",
      "Inverse HVP took 0.000601053237915 sec\n",
      "Entering the for loop\n"
     ]
    },
    {
     "name": "stderr",
     "output_type": "stream",
     "text": [
      "[iter_attack.py:169 -     iterative_attack() ] Attach_iter 48 perturbation shape: (1, 268203), perturbation: [[-4.49203420e-04 -5.19158959e-04 -3.14458885e-04 ... -2.02716896e-04\n",
      "   9.41044491e-05  2.38826266e-04]]\n"
     ]
    },
    {
     "name": "stdout",
     "output_type": "stream",
     "text": [
      "(1, 268203)\n",
      "2 2\n",
      "Shape (2, 2048)\n",
      "Using normal model\n"
     ]
    },
    {
     "name": "stderr",
     "output_type": "stream",
     "text": [
      "[genericNeuralNet.py:328 -     print_model_eval() ] Train loss (w reg) on all data: 0.013158524\n",
      "[genericNeuralNet.py:329 -     print_model_eval() ] Train loss (w/o reg) on all data: 0.004393813\n",
      "[genericNeuralNet.py:331 -     print_model_eval() ] Test loss (w/o reg) on all data: 0.046803236\n",
      "[genericNeuralNet.py:332 -     print_model_eval() ] Train acc on all data:  1.0\n",
      "[genericNeuralNet.py:333 -     print_model_eval() ] Test acc on all data:   0.9816666666666667\n",
      "[genericNeuralNet.py:335 -     print_model_eval() ] Norm of the mean of gradients: 0.004705696\n",
      "[genericNeuralNet.py:336 -     print_model_eval() ] Norm of the params: 4.186815\n",
      "[iter_attack.py:209 -     iterative_attack() ] Test_idx: 15 Test pred (full): [[0.7096355 0.2903646]]\n",
      "[iter_attack.py:209 -     iterative_attack() ] Test_idx: 32 Test pred (full): [[0.99781907 0.00218093]]\n"
     ]
    },
    {
     "name": "stdout",
     "output_type": "stream",
     "text": [
      "LBFGS training took [22] iter.\n",
      "After training with LBFGS: \n"
     ]
    },
    {
     "name": "stderr",
     "output_type": "stream",
     "text": [
      "[iter_attack.py:209 -     iterative_attack() ] Test_idx: 6 Test pred (full): [[1.7427726e-04 9.9982578e-01]]\n",
      "[iter_attack.py:210 -     iterative_attack() ] ---------------------\n",
      "[iter_attack.py:215 -     iterative_attack() ] Test_idx: 15 Test pred (top): [[0.7096355 0.2903646]]\n",
      "[iter_attack.py:215 -     iterative_attack() ] Test_idx: 32 Test pred (top): [[0.99781907 0.00218093]]\n",
      "[iter_attack.py:215 -     iterative_attack() ] Test_idx: 6 Test pred (top): [[1.7427726e-04 9.9982578e-01]]\n",
      "[iter_attack.py:147 -     iterative_attack() ] *** Iter: 49\n"
     ]
    },
    {
     "name": "stdout",
     "output_type": "stream",
     "text": [
      "Total number of parameters: 2048\n"
     ]
    },
    {
     "name": "stderr",
     "output_type": "stream",
     "text": [
      "[iter_attack.py:169 -     iterative_attack() ] Attach_iter 49 perturbation shape: (1, 268203), perturbation: [[ 0.01936237  0.11391386  0.21321802 ...  0.04781177 -0.03770528\n",
      "   0.01161294]]\n"
     ]
    },
    {
     "name": "stdout",
     "output_type": "stream",
     "text": [
      "Warning: Desired error not necessarily achieved due to precision loss.\n",
      "         Current function value: -187.830109\n",
      "         Iterations: 9\n",
      "         Function evaluations: 25\n",
      "         Gradient evaluations: 33\n",
      "         Hessian evaluations: 67\n",
      "Inverse HVP took 1.41766881943 sec\n",
      "Loaded inverse HVP from output/poisoning_900_300_inception_wd-0.001-test-[15, 32, 6].npz\n",
      "Inverse HVP took 0.000537157058716 sec\n",
      "Entering the for loop\n",
      "(1, 268203)\n",
      "Loaded inverse HVP from output/poisoning_900_300_inception_wd-0.001-test-[15, 32, 6].npz\n",
      "Inverse HVP took 0.000651836395264 sec\n",
      "Entering the for loop\n"
     ]
    },
    {
     "name": "stderr",
     "output_type": "stream",
     "text": [
      "[iter_attack.py:169 -     iterative_attack() ] Attach_iter 49 perturbation shape: (1, 268203), perturbation: [[-0.00054787 -0.00059104 -0.0004853  ... -0.00022318 -0.00010235\n",
      "   0.00032494]]\n"
     ]
    },
    {
     "name": "stdout",
     "output_type": "stream",
     "text": [
      "(1, 268203)\n",
      "2 2\n",
      "Shape (2, 2048)\n",
      "Using normal model\n"
     ]
    },
    {
     "name": "stderr",
     "output_type": "stream",
     "text": [
      "[genericNeuralNet.py:328 -     print_model_eval() ] Train loss (w reg) on all data: 0.01317437\n",
      "[genericNeuralNet.py:329 -     print_model_eval() ] Train loss (w/o reg) on all data: 0.0044013066\n",
      "[genericNeuralNet.py:331 -     print_model_eval() ] Test loss (w/o reg) on all data: 0.046936136\n",
      "[genericNeuralNet.py:332 -     print_model_eval() ] Train acc on all data:  1.0\n",
      "[genericNeuralNet.py:333 -     print_model_eval() ] Test acc on all data:   0.9816666666666667\n",
      "[genericNeuralNet.py:335 -     print_model_eval() ] Norm of the mean of gradients: 0.004852669\n",
      "[genericNeuralNet.py:336 -     print_model_eval() ] Norm of the params: 4.1888094\n",
      "[iter_attack.py:209 -     iterative_attack() ] Test_idx: 15 Test pred (full): [[0.70473933 0.29526073]]\n",
      "[iter_attack.py:209 -     iterative_attack() ] Test_idx: 32 Test pred (full): [[0.9977569  0.00224308]]\n"
     ]
    },
    {
     "name": "stdout",
     "output_type": "stream",
     "text": [
      "LBFGS training took [36] iter.\n",
      "After training with LBFGS: \n"
     ]
    },
    {
     "name": "stderr",
     "output_type": "stream",
     "text": [
      "[iter_attack.py:209 -     iterative_attack() ] Test_idx: 6 Test pred (full): [[1.7874430e-04 9.9982125e-01]]\n",
      "[iter_attack.py:210 -     iterative_attack() ] ---------------------\n",
      "[iter_attack.py:215 -     iterative_attack() ] Test_idx: 15 Test pred (top): [[0.70473933 0.29526073]]\n",
      "[iter_attack.py:215 -     iterative_attack() ] Test_idx: 32 Test pred (top): [[0.9977569  0.00224308]]\n",
      "[iter_attack.py:215 -     iterative_attack() ] Test_idx: 6 Test pred (top): [[1.7874430e-04 9.9982125e-01]]\n",
      "[iter_attack.py:147 -     iterative_attack() ] *** Iter: 50\n"
     ]
    },
    {
     "name": "stdout",
     "output_type": "stream",
     "text": [
      "Total number of parameters: 2048\n"
     ]
    },
    {
     "name": "stderr",
     "output_type": "stream",
     "text": [
      "[iter_attack.py:169 -     iterative_attack() ] Attach_iter 50 perturbation shape: (1, 268203), perturbation: [[ 0.04959687 -0.09475018 -0.04134087 ... -0.09295051  0.02167362\n",
      "  -0.00316752]]\n"
     ]
    },
    {
     "name": "stdout",
     "output_type": "stream",
     "text": [
      "Warning: Desired error not necessarily achieved due to precision loss.\n",
      "         Current function value: -193.741577\n",
      "         Iterations: 8\n",
      "         Function evaluations: 80\n",
      "         Gradient evaluations: 76\n",
      "         Hessian evaluations: 61\n",
      "Inverse HVP took 2.34027194977 sec\n",
      "Loaded inverse HVP from output/poisoning_900_300_inception_wd-0.001-test-[15, 32, 6].npz\n",
      "Inverse HVP took 0.000532865524292 sec\n",
      "Entering the for loop\n",
      "(1, 268203)\n",
      "Loaded inverse HVP from output/poisoning_900_300_inception_wd-0.001-test-[15, 32, 6].npz\n",
      "Inverse HVP took 0.000605821609497 sec\n",
      "Entering the for loop\n"
     ]
    },
    {
     "name": "stderr",
     "output_type": "stream",
     "text": [
      "[iter_attack.py:169 -     iterative_attack() ] Attach_iter 50 perturbation shape: (1, 268203), perturbation: [[-8.36328370e-04 -9.89053398e-04 -7.96431792e-04 ... -7.03600934e-04\n",
      "   5.38534659e-05  6.70799636e-04]]\n"
     ]
    },
    {
     "name": "stdout",
     "output_type": "stream",
     "text": [
      "(1, 268203)\n",
      "2 2\n",
      "Shape (2, 2048)\n",
      "Using normal model\n"
     ]
    },
    {
     "name": "stderr",
     "output_type": "stream",
     "text": [
      "[genericNeuralNet.py:328 -     print_model_eval() ] Train loss (w reg) on all data: 0.013175715\n",
      "[genericNeuralNet.py:329 -     print_model_eval() ] Train loss (w/o reg) on all data: 0.0044015874\n",
      "[genericNeuralNet.py:331 -     print_model_eval() ] Test loss (w/o reg) on all data: 0.046768636\n",
      "[genericNeuralNet.py:332 -     print_model_eval() ] Train acc on all data:  1.0\n",
      "[genericNeuralNet.py:333 -     print_model_eval() ] Test acc on all data:   0.9816666666666667\n",
      "[genericNeuralNet.py:335 -     print_model_eval() ] Norm of the mean of gradients: 0.0047386447\n",
      "[genericNeuralNet.py:336 -     print_model_eval() ] Norm of the params: 4.189064\n",
      "[iter_attack.py:209 -     iterative_attack() ] Test_idx: 15 Test pred (full): [[0.6987286  0.30127138]]\n",
      "[iter_attack.py:209 -     iterative_attack() ] Test_idx: 32 Test pred (full): [[0.997858   0.00214197]]\n"
     ]
    },
    {
     "name": "stdout",
     "output_type": "stream",
     "text": [
      "LBFGS training took [23] iter.\n",
      "After training with LBFGS: \n"
     ]
    },
    {
     "name": "stderr",
     "output_type": "stream",
     "text": [
      "[iter_attack.py:209 -     iterative_attack() ] Test_idx: 6 Test pred (full): [[1.728942e-04 9.998271e-01]]\n",
      "[iter_attack.py:210 -     iterative_attack() ] ---------------------\n",
      "[iter_attack.py:215 -     iterative_attack() ] Test_idx: 15 Test pred (top): [[0.6987286  0.30127138]]\n",
      "[iter_attack.py:215 -     iterative_attack() ] Test_idx: 32 Test pred (top): [[0.997858   0.00214197]]\n",
      "[iter_attack.py:215 -     iterative_attack() ] Test_idx: 6 Test pred (top): [[1.728942e-04 9.998271e-01]]\n",
      "[iter_attack.py:147 -     iterative_attack() ] *** Iter: 51\n"
     ]
    },
    {
     "name": "stdout",
     "output_type": "stream",
     "text": [
      "Total number of parameters: 2048\n"
     ]
    },
    {
     "name": "stderr",
     "output_type": "stream",
     "text": [
      "[iter_attack.py:169 -     iterative_attack() ] Attach_iter 51 perturbation shape: (1, 268203), perturbation: [[ 0.02798413  0.09010381  0.13412371 ...  0.06756616 -0.06359014\n",
      "   0.05934807]]\n"
     ]
    },
    {
     "name": "stdout",
     "output_type": "stream",
     "text": [
      "Warning: Desired error not necessarily achieved due to precision loss.\n",
      "         Current function value: -201.543610\n",
      "         Iterations: 8\n",
      "         Function evaluations: 91\n",
      "         Gradient evaluations: 88\n",
      "         Hessian evaluations: 42\n",
      "Inverse HVP took 2.38118314743 sec\n",
      "Loaded inverse HVP from output/poisoning_900_300_inception_wd-0.001-test-[15, 32, 6].npz\n",
      "Inverse HVP took 0.000555992126465 sec\n",
      "Entering the for loop\n",
      "(1, 268203)\n",
      "Loaded inverse HVP from output/poisoning_900_300_inception_wd-0.001-test-[15, 32, 6].npz\n",
      "Inverse HVP took 0.000606060028076 sec\n",
      "Entering the for loop\n"
     ]
    },
    {
     "name": "stderr",
     "output_type": "stream",
     "text": [
      "[iter_attack.py:169 -     iterative_attack() ] Attach_iter 51 perturbation shape: (1, 268203), perturbation: [[-0.00045555 -0.00089421 -0.00022236 ... -0.00035183  0.00036168\n",
      "   0.00025586]]\n"
     ]
    },
    {
     "name": "stdout",
     "output_type": "stream",
     "text": [
      "(1, 268203)\n",
      "2 2\n",
      "Shape (2, 2048)\n",
      "Using normal model\n"
     ]
    },
    {
     "name": "stderr",
     "output_type": "stream",
     "text": [
      "[genericNeuralNet.py:328 -     print_model_eval() ] Train loss (w reg) on all data: 0.0131959375\n",
      "[genericNeuralNet.py:329 -     print_model_eval() ] Train loss (w/o reg) on all data: 0.0044105845\n",
      "[genericNeuralNet.py:331 -     print_model_eval() ] Test loss (w/o reg) on all data: 0.04696045\n",
      "[genericNeuralNet.py:332 -     print_model_eval() ] Train acc on all data:  1.0\n",
      "[genericNeuralNet.py:333 -     print_model_eval() ] Test acc on all data:   0.9816666666666667\n",
      "[genericNeuralNet.py:335 -     print_model_eval() ] Norm of the mean of gradients: 0.004902848\n",
      "[genericNeuralNet.py:336 -     print_model_eval() ] Norm of the params: 4.1917424\n",
      "[iter_attack.py:209 -     iterative_attack() ] Test_idx: 15 Test pred (full): [[0.69327146 0.3067286 ]]\n",
      "[iter_attack.py:209 -     iterative_attack() ] Test_idx: 32 Test pred (full): [[0.99777323 0.00222675]]\n"
     ]
    },
    {
     "name": "stdout",
     "output_type": "stream",
     "text": [
      "LBFGS training took [44] iter.\n",
      "After training with LBFGS: \n"
     ]
    },
    {
     "name": "stderr",
     "output_type": "stream",
     "text": [
      "[iter_attack.py:209 -     iterative_attack() ] Test_idx: 6 Test pred (full): [[1.7867154e-04 9.9982136e-01]]\n",
      "[iter_attack.py:210 -     iterative_attack() ] ---------------------\n",
      "[iter_attack.py:215 -     iterative_attack() ] Test_idx: 15 Test pred (top): [[0.69327146 0.3067286 ]]\n",
      "[iter_attack.py:215 -     iterative_attack() ] Test_idx: 32 Test pred (top): [[0.99777323 0.00222675]]\n",
      "[iter_attack.py:215 -     iterative_attack() ] Test_idx: 6 Test pred (top): [[1.7867154e-04 9.9982136e-01]]\n",
      "[iter_attack.py:147 -     iterative_attack() ] *** Iter: 52\n"
     ]
    },
    {
     "name": "stdout",
     "output_type": "stream",
     "text": [
      "Total number of parameters: 2048\n"
     ]
    },
    {
     "name": "stderr",
     "output_type": "stream",
     "text": [
      "[iter_attack.py:169 -     iterative_attack() ] Attach_iter 52 perturbation shape: (1, 268203), perturbation: [[ 0.06414305 -0.09884664 -0.01532629 ... -0.04773328 -0.01130168\n",
      "  -0.01745315]]\n"
     ]
    },
    {
     "name": "stdout",
     "output_type": "stream",
     "text": [
      "Warning: Desired error not necessarily achieved due to precision loss.\n",
      "         Current function value: -208.358459\n",
      "         Iterations: 8\n",
      "         Function evaluations: 105\n",
      "         Gradient evaluations: 101\n",
      "         Hessian evaluations: 42\n",
      "Inverse HVP took 2.661495924 sec\n",
      "Loaded inverse HVP from output/poisoning_900_300_inception_wd-0.001-test-[15, 32, 6].npz\n",
      "Inverse HVP took 0.000523805618286 sec\n",
      "Entering the for loop\n",
      "(1, 268203)\n",
      "Loaded inverse HVP from output/poisoning_900_300_inception_wd-0.001-test-[15, 32, 6].npz\n",
      "Inverse HVP took 0.00059986114502 sec\n",
      "Entering the for loop\n"
     ]
    },
    {
     "name": "stderr",
     "output_type": "stream",
     "text": [
      "[iter_attack.py:169 -     iterative_attack() ] Attach_iter 52 perturbation shape: (1, 268203), perturbation: [[-0.00096851 -0.00162373 -0.00087688 ... -0.00086833  0.00070654\n",
      "   0.00103735]]\n"
     ]
    },
    {
     "name": "stdout",
     "output_type": "stream",
     "text": [
      "(1, 268203)\n",
      "2 2\n",
      "Shape (2, 2048)\n",
      "Using normal model\n"
     ]
    },
    {
     "name": "stderr",
     "output_type": "stream",
     "text": [
      "[genericNeuralNet.py:328 -     print_model_eval() ] Train loss (w reg) on all data: 0.013198756\n",
      "[genericNeuralNet.py:329 -     print_model_eval() ] Train loss (w/o reg) on all data: 0.0044113128\n",
      "[genericNeuralNet.py:331 -     print_model_eval() ] Test loss (w/o reg) on all data: 0.04678376\n",
      "[genericNeuralNet.py:332 -     print_model_eval() ] Train acc on all data:  1.0\n",
      "[genericNeuralNet.py:333 -     print_model_eval() ] Test acc on all data:   0.9816666666666667\n",
      "[genericNeuralNet.py:335 -     print_model_eval() ] Norm of the mean of gradients: 0.0047841994\n",
      "[genericNeuralNet.py:336 -     print_model_eval() ] Norm of the params: 4.1922407\n",
      "[iter_attack.py:209 -     iterative_attack() ] Test_idx: 15 Test pred (full): [[0.6876129  0.31238708]]\n",
      "[iter_attack.py:209 -     iterative_attack() ] Test_idx: 32 Test pred (full): [[0.9978921  0.00210799]]\n"
     ]
    },
    {
     "name": "stdout",
     "output_type": "stream",
     "text": [
      "LBFGS training took [24] iter.\n",
      "After training with LBFGS: \n"
     ]
    },
    {
     "name": "stderr",
     "output_type": "stream",
     "text": [
      "[iter_attack.py:209 -     iterative_attack() ] Test_idx: 6 Test pred (full): [[1.7199757e-04 9.9982798e-01]]\n",
      "[iter_attack.py:210 -     iterative_attack() ] ---------------------\n",
      "[iter_attack.py:215 -     iterative_attack() ] Test_idx: 15 Test pred (top): [[0.6876129  0.31238708]]\n",
      "[iter_attack.py:215 -     iterative_attack() ] Test_idx: 32 Test pred (top): [[0.9978921  0.00210799]]\n",
      "[iter_attack.py:215 -     iterative_attack() ] Test_idx: 6 Test pred (top): [[1.7199757e-04 9.9982798e-01]]\n",
      "[iter_attack.py:147 -     iterative_attack() ] *** Iter: 53\n"
     ]
    },
    {
     "name": "stdout",
     "output_type": "stream",
     "text": [
      "Total number of parameters: 2048\n"
     ]
    },
    {
     "name": "stderr",
     "output_type": "stream",
     "text": [
      "[iter_attack.py:169 -     iterative_attack() ] Attach_iter 53 perturbation shape: (1, 268203), perturbation: [[ 0.00733332  0.0733256   0.1485879  ... -0.05119286 -0.0046205\n",
      "   0.06911008]]\n"
     ]
    },
    {
     "name": "stdout",
     "output_type": "stream",
     "text": [
      "Warning: Desired error not necessarily achieved due to precision loss.\n",
      "         Current function value: -216.063507\n",
      "         Iterations: 8\n",
      "         Function evaluations: 93\n",
      "         Gradient evaluations: 91\n",
      "         Hessian evaluations: 42\n",
      "Inverse HVP took 2.42540693283 sec\n",
      "Loaded inverse HVP from output/poisoning_900_300_inception_wd-0.001-test-[15, 32, 6].npz\n",
      "Inverse HVP took 0.000530004501343 sec\n",
      "Entering the for loop\n",
      "(1, 268203)\n",
      "Loaded inverse HVP from output/poisoning_900_300_inception_wd-0.001-test-[15, 32, 6].npz\n",
      "Inverse HVP took 0.000600814819336 sec\n",
      "Entering the for loop\n"
     ]
    },
    {
     "name": "stderr",
     "output_type": "stream",
     "text": [
      "[iter_attack.py:169 -     iterative_attack() ] Attach_iter 53 perturbation shape: (1, 268203), perturbation: [[-0.00125718 -0.00180188 -0.00116526 ... -0.00029866  0.00093743\n",
      "  -0.00075058]]\n"
     ]
    },
    {
     "name": "stdout",
     "output_type": "stream",
     "text": [
      "(1, 268203)\n",
      "2 2\n",
      "Shape (2, 2048)\n",
      "Using normal model\n"
     ]
    },
    {
     "name": "stderr",
     "output_type": "stream",
     "text": [
      "[genericNeuralNet.py:328 -     print_model_eval() ] Train loss (w reg) on all data: 0.013217889\n",
      "[genericNeuralNet.py:329 -     print_model_eval() ] Train loss (w/o reg) on all data: 0.0044202614\n",
      "[genericNeuralNet.py:331 -     print_model_eval() ] Test loss (w/o reg) on all data: 0.046928275\n",
      "[genericNeuralNet.py:332 -     print_model_eval() ] Train acc on all data:  1.0\n",
      "[genericNeuralNet.py:333 -     print_model_eval() ] Test acc on all data:   0.9816666666666667\n",
      "[genericNeuralNet.py:335 -     print_model_eval() ] Norm of the mean of gradients: 0.004943071\n",
      "[genericNeuralNet.py:336 -     print_model_eval() ] Norm of the params: 4.1946707\n",
      "[iter_attack.py:209 -     iterative_attack() ] Test_idx: 15 Test pred (full): [[0.6816101  0.31838992]]\n",
      "[iter_attack.py:209 -     iterative_attack() ] Test_idx: 32 Test pred (full): [[0.9977894  0.00221055]]\n"
     ]
    },
    {
     "name": "stdout",
     "output_type": "stream",
     "text": [
      "LBFGS training took [36] iter.\n",
      "After training with LBFGS: \n"
     ]
    },
    {
     "name": "stderr",
     "output_type": "stream",
     "text": [
      "[iter_attack.py:209 -     iterative_attack() ] Test_idx: 6 Test pred (full): [[1.7807916e-04 9.9982196e-01]]\n",
      "[iter_attack.py:210 -     iterative_attack() ] ---------------------\n",
      "[iter_attack.py:215 -     iterative_attack() ] Test_idx: 15 Test pred (top): [[0.6816101  0.31838992]]\n",
      "[iter_attack.py:215 -     iterative_attack() ] Test_idx: 32 Test pred (top): [[0.9977894  0.00221055]]\n",
      "[iter_attack.py:215 -     iterative_attack() ] Test_idx: 6 Test pred (top): [[1.7807916e-04 9.9982196e-01]]\n",
      "[iter_attack.py:147 -     iterative_attack() ] *** Iter: 54\n"
     ]
    },
    {
     "name": "stdout",
     "output_type": "stream",
     "text": [
      "Total number of parameters: 2048\n"
     ]
    },
    {
     "name": "stderr",
     "output_type": "stream",
     "text": [
      "[iter_attack.py:169 -     iterative_attack() ] Attach_iter 54 perturbation shape: (1, 268203), perturbation: [[ 0.08807371  0.0115305   0.06245576 ...  0.02858312 -0.05188248\n",
      "  -0.0324268 ]]\n"
     ]
    },
    {
     "name": "stdout",
     "output_type": "stream",
     "text": [
      "Warning: Desired error not necessarily achieved due to precision loss.\n",
      "         Current function value: -223.820511\n",
      "         Iterations: 10\n",
      "         Function evaluations: 162\n",
      "         Gradient evaluations: 158\n",
      "         Hessian evaluations: 79\n",
      "Inverse HVP took 4.2939209938 sec\n",
      "Loaded inverse HVP from output/poisoning_900_300_inception_wd-0.001-test-[15, 32, 6].npz\n",
      "Inverse HVP took 0.000524044036865 sec\n",
      "Entering the for loop\n",
      "(1, 268203)\n",
      "Loaded inverse HVP from output/poisoning_900_300_inception_wd-0.001-test-[15, 32, 6].npz\n",
      "Inverse HVP took 0.000600099563599 sec\n",
      "Entering the for loop\n"
     ]
    },
    {
     "name": "stderr",
     "output_type": "stream",
     "text": [
      "[iter_attack.py:169 -     iterative_attack() ] Attach_iter 54 perturbation shape: (1, 268203), perturbation: [[-2.28237966e-03 -2.87421467e-03 -2.10233498e-03 ...  1.16318779e-03\n",
      "   1.79961440e-03  7.09855231e-05]]\n"
     ]
    },
    {
     "name": "stdout",
     "output_type": "stream",
     "text": [
      "(1, 268203)\n",
      "2 2\n",
      "Shape (2, 2048)\n",
      "Using normal model\n"
     ]
    },
    {
     "name": "stderr",
     "output_type": "stream",
     "text": [
      "[genericNeuralNet.py:328 -     print_model_eval() ] Train loss (w reg) on all data: 0.013217822\n",
      "[genericNeuralNet.py:329 -     print_model_eval() ] Train loss (w/o reg) on all data: 0.004419117\n",
      "[genericNeuralNet.py:331 -     print_model_eval() ] Test loss (w/o reg) on all data: 0.046744306\n",
      "[genericNeuralNet.py:332 -     print_model_eval() ] Train acc on all data:  1.0\n",
      "[genericNeuralNet.py:333 -     print_model_eval() ] Test acc on all data:   0.9816666666666667\n",
      "[genericNeuralNet.py:335 -     print_model_eval() ] Norm of the mean of gradients: 0.004800737\n",
      "[genericNeuralNet.py:336 -     print_model_eval() ] Norm of the params: 4.1949267\n",
      "[iter_attack.py:209 -     iterative_attack() ] Test_idx: 15 Test pred (full): [[0.6757134  0.32428655]]\n",
      "[iter_attack.py:209 -     iterative_attack() ] Test_idx: 32 Test pred (full): [[0.99790645 0.00209358]]\n"
     ]
    },
    {
     "name": "stdout",
     "output_type": "stream",
     "text": [
      "LBFGS training took [19] iter.\n",
      "After training with LBFGS: \n"
     ]
    },
    {
     "name": "stderr",
     "output_type": "stream",
     "text": [
      "[iter_attack.py:209 -     iterative_attack() ] Test_idx: 6 Test pred (full): [[1.705064e-04 9.998294e-01]]\n",
      "[iter_attack.py:210 -     iterative_attack() ] ---------------------\n",
      "[iter_attack.py:215 -     iterative_attack() ] Test_idx: 15 Test pred (top): [[0.6757134  0.32428655]]\n",
      "[iter_attack.py:215 -     iterative_attack() ] Test_idx: 32 Test pred (top): [[0.99790645 0.00209358]]\n",
      "[iter_attack.py:215 -     iterative_attack() ] Test_idx: 6 Test pred (top): [[1.705064e-04 9.998294e-01]]\n",
      "[iter_attack.py:147 -     iterative_attack() ] *** Iter: 55\n"
     ]
    },
    {
     "name": "stdout",
     "output_type": "stream",
     "text": [
      "Total number of parameters: 2048\n"
     ]
    },
    {
     "name": "stderr",
     "output_type": "stream",
     "text": [
      "[iter_attack.py:169 -     iterative_attack() ] Attach_iter 55 perturbation shape: (1, 268203), perturbation: [[ 0.03228877  0.07012606  0.08275098 ... -0.06095455 -0.00063319\n",
      "   0.08047612]]\n"
     ]
    },
    {
     "name": "stdout",
     "output_type": "stream",
     "text": [
      "Warning: Desired error not necessarily achieved due to precision loss.\n",
      "         Current function value: -232.166138\n",
      "         Iterations: 7\n",
      "         Function evaluations: 77\n",
      "         Gradient evaluations: 72\n",
      "         Hessian evaluations: 43\n",
      "Inverse HVP took 2.06558203697 sec\n",
      "Loaded inverse HVP from output/poisoning_900_300_inception_wd-0.001-test-[15, 32, 6].npz\n",
      "Inverse HVP took 0.000533103942871 sec\n",
      "Entering the for loop\n",
      "(1, 268203)\n",
      "Loaded inverse HVP from output/poisoning_900_300_inception_wd-0.001-test-[15, 32, 6].npz\n",
      "Inverse HVP took 0.000607013702393 sec\n",
      "Entering the for loop\n"
     ]
    },
    {
     "name": "stderr",
     "output_type": "stream",
     "text": [
      "[iter_attack.py:169 -     iterative_attack() ] Attach_iter 55 perturbation shape: (1, 268203), perturbation: [[-0.00311648 -0.00473809 -0.00436437 ... -0.0004133   0.00100182\n",
      "  -0.00044825]]\n"
     ]
    },
    {
     "name": "stdout",
     "output_type": "stream",
     "text": [
      "(1, 268203)\n",
      "2 2\n",
      "Shape (2, 2048)\n",
      "Using normal model\n"
     ]
    },
    {
     "name": "stderr",
     "output_type": "stream",
     "text": [
      "[genericNeuralNet.py:328 -     print_model_eval() ] Train loss (w reg) on all data: 0.013242865\n",
      "[genericNeuralNet.py:329 -     print_model_eval() ] Train loss (w/o reg) on all data: 0.0044299182\n",
      "[genericNeuralNet.py:331 -     print_model_eval() ] Test loss (w/o reg) on all data: 0.04686311\n",
      "[genericNeuralNet.py:332 -     print_model_eval() ] Train acc on all data:  1.0\n",
      "[genericNeuralNet.py:333 -     print_model_eval() ] Test acc on all data:   0.9816666666666667\n",
      "[genericNeuralNet.py:335 -     print_model_eval() ] Norm of the mean of gradients: 0.00498184\n",
      "[genericNeuralNet.py:336 -     print_model_eval() ] Norm of the params: 4.198321\n",
      "[iter_attack.py:209 -     iterative_attack() ] Test_idx: 15 Test pred (full): [[0.6688533  0.33114675]]\n",
      "[iter_attack.py:209 -     iterative_attack() ] Test_idx: 32 Test pred (full): [[0.99780005 0.00219988]]\n"
     ]
    },
    {
     "name": "stdout",
     "output_type": "stream",
     "text": [
      "LBFGS training took [45] iter.\n",
      "After training with LBFGS: \n"
     ]
    },
    {
     "name": "stderr",
     "output_type": "stream",
     "text": [
      "[iter_attack.py:209 -     iterative_attack() ] Test_idx: 6 Test pred (full): [[1.7835361e-04 9.9982172e-01]]\n",
      "[iter_attack.py:210 -     iterative_attack() ] ---------------------\n",
      "[iter_attack.py:215 -     iterative_attack() ] Test_idx: 15 Test pred (top): [[0.6688533  0.33114675]]\n",
      "[iter_attack.py:215 -     iterative_attack() ] Test_idx: 32 Test pred (top): [[0.99780005 0.00219988]]\n",
      "[iter_attack.py:215 -     iterative_attack() ] Test_idx: 6 Test pred (top): [[1.7835361e-04 9.9982172e-01]]\n",
      "[iter_attack.py:147 -     iterative_attack() ] *** Iter: 56\n"
     ]
    },
    {
     "name": "stdout",
     "output_type": "stream",
     "text": [
      "Total number of parameters: 2048\n"
     ]
    },
    {
     "name": "stderr",
     "output_type": "stream",
     "text": [
      "[iter_attack.py:169 -     iterative_attack() ] Attach_iter 56 perturbation shape: (1, 268203), perturbation: [[ 0.09132963 -0.03253123  0.04972477 ...  0.15294851 -0.10675165\n",
      "  -0.03951392]]\n"
     ]
    },
    {
     "name": "stdout",
     "output_type": "stream",
     "text": [
      "Warning: Desired error not necessarily achieved due to precision loss.\n",
      "         Current function value: -241.407867\n",
      "         Iterations: 9\n",
      "         Function evaluations: 81\n",
      "         Gradient evaluations: 78\n",
      "         Hessian evaluations: 53\n",
      "Inverse HVP took 2.30272698402 sec\n",
      "Loaded inverse HVP from output/poisoning_900_300_inception_wd-0.001-test-[15, 32, 6].npz\n",
      "Inverse HVP took 0.000535011291504 sec\n",
      "Entering the for loop\n",
      "(1, 268203)\n",
      "Loaded inverse HVP from output/poisoning_900_300_inception_wd-0.001-test-[15, 32, 6].npz\n",
      "Inverse HVP took 0.000619888305664 sec\n",
      "Entering the for loop\n"
     ]
    },
    {
     "name": "stderr",
     "output_type": "stream",
     "text": [
      "[iter_attack.py:169 -     iterative_attack() ] Attach_iter 56 perturbation shape: (1, 268203), perturbation: [[-3.29954177e-03 -2.91113369e-03 -3.40972538e-03 ... -9.66973719e-04\n",
      "   3.26603511e-03  7.77624082e-05]]\n"
     ]
    },
    {
     "name": "stdout",
     "output_type": "stream",
     "text": [
      "(1, 268203)\n",
      "2 2\n",
      "Shape (2, 2048)\n",
      "Using normal model\n"
     ]
    },
    {
     "name": "stderr",
     "output_type": "stream",
     "text": [
      "[genericNeuralNet.py:328 -     print_model_eval() ] Train loss (w reg) on all data: 0.013237154\n",
      "[genericNeuralNet.py:329 -     print_model_eval() ] Train loss (w/o reg) on all data: 0.0044269636\n",
      "[genericNeuralNet.py:331 -     print_model_eval() ] Test loss (w/o reg) on all data: 0.046799734\n",
      "[genericNeuralNet.py:332 -     print_model_eval() ] Train acc on all data:  1.0\n",
      "[genericNeuralNet.py:333 -     print_model_eval() ] Test acc on all data:   0.9816666666666667\n",
      "[genericNeuralNet.py:335 -     print_model_eval() ] Norm of the mean of gradients: 0.0048374464\n",
      "[genericNeuralNet.py:336 -     print_model_eval() ] Norm of the params: 4.197664\n",
      "[iter_attack.py:209 -     iterative_attack() ] Test_idx: 15 Test pred (full): [[0.66317904 0.33682096]]\n",
      "[iter_attack.py:209 -     iterative_attack() ] Test_idx: 32 Test pred (full): [[0.9979334 0.0020666]]\n",
      "[iter_attack.py:209 -     iterative_attack() ] Test_idx: 6 Test pred (full): [[1.6828842e-04 9.9983168e-01]]\n"
     ]
    },
    {
     "name": "stdout",
     "output_type": "stream",
     "text": [
      "LBFGS training took [24] iter.\n",
      "After training with LBFGS: \n"
     ]
    },
    {
     "name": "stderr",
     "output_type": "stream",
     "text": [
      "[iter_attack.py:210 -     iterative_attack() ] ---------------------\n",
      "[iter_attack.py:215 -     iterative_attack() ] Test_idx: 15 Test pred (top): [[0.66317904 0.33682096]]\n",
      "[iter_attack.py:215 -     iterative_attack() ] Test_idx: 32 Test pred (top): [[0.9979334 0.0020666]]\n",
      "[iter_attack.py:215 -     iterative_attack() ] Test_idx: 6 Test pred (top): [[1.6828842e-04 9.9983168e-01]]\n",
      "[iter_attack.py:147 -     iterative_attack() ] *** Iter: 57\n"
     ]
    },
    {
     "name": "stdout",
     "output_type": "stream",
     "text": [
      "Total number of parameters: 2048\n"
     ]
    },
    {
     "name": "stderr",
     "output_type": "stream",
     "text": [
      "[iter_attack.py:169 -     iterative_attack() ] Attach_iter 57 perturbation shape: (1, 268203), perturbation: [[-0.01088348  0.07662813  0.1404607  ... -0.14396568  0.06922714\n",
      "   0.04355128]]\n"
     ]
    },
    {
     "name": "stdout",
     "output_type": "stream",
     "text": [
      "Warning: Desired error not necessarily achieved due to precision loss.\n",
      "         Current function value: -249.785446\n",
      "         Iterations: 8\n",
      "         Function evaluations: 84\n",
      "         Gradient evaluations: 81\n",
      "         Hessian evaluations: 55\n",
      "Inverse HVP took 2.36265301704 sec\n",
      "Loaded inverse HVP from output/poisoning_900_300_inception_wd-0.001-test-[15, 32, 6].npz\n",
      "Inverse HVP took 0.000519990921021 sec\n",
      "Entering the for loop\n",
      "(1, 268203)\n",
      "Loaded inverse HVP from output/poisoning_900_300_inception_wd-0.001-test-[15, 32, 6].npz\n",
      "Inverse HVP took 0.00065803527832 sec\n",
      "Entering the for loop\n"
     ]
    },
    {
     "name": "stderr",
     "output_type": "stream",
     "text": [
      "[iter_attack.py:169 -     iterative_attack() ] Attach_iter 57 perturbation shape: (1, 268203), perturbation: [[-0.00311585 -0.00428103 -0.00421538 ... -0.00350628  0.00177841\n",
      "   0.00232774]]\n"
     ]
    },
    {
     "name": "stdout",
     "output_type": "stream",
     "text": [
      "(1, 268203)\n",
      "2 2\n",
      "Shape (2, 2048)\n",
      "Using normal model\n"
     ]
    },
    {
     "name": "stderr",
     "output_type": "stream",
     "text": [
      "[genericNeuralNet.py:328 -     print_model_eval() ] Train loss (w reg) on all data: 0.013269031\n",
      "[genericNeuralNet.py:329 -     print_model_eval() ] Train loss (w/o reg) on all data: 0.004439729\n",
      "[genericNeuralNet.py:331 -     print_model_eval() ] Test loss (w/o reg) on all data: 0.046714965\n",
      "[genericNeuralNet.py:332 -     print_model_eval() ] Train acc on all data:  1.0\n",
      "[genericNeuralNet.py:333 -     print_model_eval() ] Test acc on all data:   0.9816666666666667\n",
      "[genericNeuralNet.py:335 -     print_model_eval() ] Norm of the mean of gradients: 0.0050060772\n",
      "[genericNeuralNet.py:336 -     print_model_eval() ] Norm of the params: 4.202214\n",
      "[iter_attack.py:209 -     iterative_attack() ] Test_idx: 15 Test pred (full): [[0.65624154 0.3437585 ]]\n",
      "[iter_attack.py:209 -     iterative_attack() ] Test_idx: 32 Test pred (full): [[0.9978144 0.0021856]]\n"
     ]
    },
    {
     "name": "stdout",
     "output_type": "stream",
     "text": [
      "LBFGS training took [44] iter.\n",
      "After training with LBFGS: \n"
     ]
    },
    {
     "name": "stderr",
     "output_type": "stream",
     "text": [
      "[iter_attack.py:209 -     iterative_attack() ] Test_idx: 6 Test pred (full): [[1.7741058e-04 9.9982268e-01]]\n",
      "[iter_attack.py:210 -     iterative_attack() ] ---------------------\n",
      "[iter_attack.py:215 -     iterative_attack() ] Test_idx: 15 Test pred (top): [[0.65624154 0.3437585 ]]\n",
      "[iter_attack.py:215 -     iterative_attack() ] Test_idx: 32 Test pred (top): [[0.9978144 0.0021856]]\n",
      "[iter_attack.py:215 -     iterative_attack() ] Test_idx: 6 Test pred (top): [[1.7741058e-04 9.9982268e-01]]\n",
      "[iter_attack.py:147 -     iterative_attack() ] *** Iter: 58\n"
     ]
    },
    {
     "name": "stdout",
     "output_type": "stream",
     "text": [
      "Total number of parameters: 2048\n"
     ]
    },
    {
     "name": "stderr",
     "output_type": "stream",
     "text": [
      "[iter_attack.py:169 -     iterative_attack() ] Attach_iter 58 perturbation shape: (1, 268203), perturbation: [[ 0.09656153 -0.05490184 -0.01507388 ... -0.0251922  -0.06226258\n",
      "   0.01538071]]\n"
     ]
    },
    {
     "name": "stdout",
     "output_type": "stream",
     "text": [
      "Warning: Desired error not necessarily achieved due to precision loss.\n",
      "         Current function value: -259.455078\n",
      "         Iterations: 10\n",
      "         Function evaluations: 80\n",
      "         Gradient evaluations: 78\n",
      "         Hessian evaluations: 59\n",
      "Inverse HVP took 2.34701395035 sec\n",
      "Loaded inverse HVP from output/poisoning_900_300_inception_wd-0.001-test-[15, 32, 6].npz\n",
      "Inverse HVP took 0.000554800033569 sec\n",
      "Entering the for loop\n",
      "(1, 268203)\n",
      "Loaded inverse HVP from output/poisoning_900_300_inception_wd-0.001-test-[15, 32, 6].npz\n",
      "Inverse HVP took 0.000598907470703 sec\n",
      "Entering the for loop\n"
     ]
    },
    {
     "name": "stderr",
     "output_type": "stream",
     "text": [
      "[iter_attack.py:169 -     iterative_attack() ] Attach_iter 58 perturbation shape: (1, 268203), perturbation: [[-2.61230068e-03 -4.14238079e-03 -4.14330326e-03 ... -5.29022363e-05\n",
      "   3.58839869e-03 -3.98795120e-04]]\n"
     ]
    },
    {
     "name": "stdout",
     "output_type": "stream",
     "text": [
      "(1, 268203)\n",
      "2 2\n",
      "Shape (2, 2048)\n",
      "Using normal model\n"
     ]
    },
    {
     "name": "stderr",
     "output_type": "stream",
     "text": [
      "[genericNeuralNet.py:328 -     print_model_eval() ] Train loss (w reg) on all data: 0.013257427\n",
      "[genericNeuralNet.py:329 -     print_model_eval() ] Train loss (w/o reg) on all data: 0.004434421\n",
      "[genericNeuralNet.py:331 -     print_model_eval() ] Test loss (w/o reg) on all data: 0.046766084\n",
      "[genericNeuralNet.py:332 -     print_model_eval() ] Train acc on all data:  1.0\n",
      "[genericNeuralNet.py:333 -     print_model_eval() ] Test acc on all data:   0.9816666666666667\n",
      "[genericNeuralNet.py:335 -     print_model_eval() ] Norm of the mean of gradients: 0.0048514283\n",
      "[genericNeuralNet.py:336 -     print_model_eval() ] Norm of the params: 4.200716\n",
      "[iter_attack.py:209 -     iterative_attack() ] Test_idx: 15 Test pred (full): [[0.65013486 0.34986514]]\n",
      "[iter_attack.py:209 -     iterative_attack() ] Test_idx: 32 Test pred (full): [[0.9979639  0.00203606]]\n"
     ]
    },
    {
     "name": "stdout",
     "output_type": "stream",
     "text": [
      "LBFGS training took [36] iter.\n",
      "After training with LBFGS: \n"
     ]
    },
    {
     "name": "stderr",
     "output_type": "stream",
     "text": [
      "[iter_attack.py:209 -     iterative_attack() ] Test_idx: 6 Test pred (full): [[1.6634556e-04 9.9983358e-01]]\n",
      "[iter_attack.py:210 -     iterative_attack() ] ---------------------\n",
      "[iter_attack.py:215 -     iterative_attack() ] Test_idx: 15 Test pred (top): [[0.65013486 0.34986514]]\n",
      "[iter_attack.py:215 -     iterative_attack() ] Test_idx: 32 Test pred (top): [[0.9979639  0.00203606]]\n",
      "[iter_attack.py:215 -     iterative_attack() ] Test_idx: 6 Test pred (top): [[1.6634556e-04 9.9983358e-01]]\n",
      "[iter_attack.py:147 -     iterative_attack() ] *** Iter: 59\n"
     ]
    },
    {
     "name": "stdout",
     "output_type": "stream",
     "text": [
      "Total number of parameters: 2048\n"
     ]
    },
    {
     "name": "stderr",
     "output_type": "stream",
     "text": [
      "[iter_attack.py:169 -     iterative_attack() ] Attach_iter 59 perturbation shape: (1, 268203), perturbation: [[0.02942643 0.07600845 0.08985382 ... 0.00834632 0.03187929 0.01527137]]\n"
     ]
    },
    {
     "name": "stdout",
     "output_type": "stream",
     "text": [
      "Warning: Desired error not necessarily achieved due to precision loss.\n",
      "         Current function value: -268.718628\n",
      "         Iterations: 8\n",
      "         Function evaluations: 75\n",
      "         Gradient evaluations: 72\n",
      "         Hessian evaluations: 41\n",
      "Inverse HVP took 2.02137994766 sec\n",
      "Loaded inverse HVP from output/poisoning_900_300_inception_wd-0.001-test-[15, 32, 6].npz\n",
      "Inverse HVP took 0.000563859939575 sec\n",
      "Entering the for loop\n",
      "(1, 268203)\n",
      "Loaded inverse HVP from output/poisoning_900_300_inception_wd-0.001-test-[15, 32, 6].npz\n",
      "Inverse HVP took 0.000591993331909 sec\n",
      "Entering the for loop\n"
     ]
    },
    {
     "name": "stderr",
     "output_type": "stream",
     "text": [
      "[iter_attack.py:169 -     iterative_attack() ] Attach_iter 59 perturbation shape: (1, 268203), perturbation: [[-0.00371934 -0.00511737 -0.0037506  ... -0.00998929  0.00359692\n",
      "   0.00371237]]\n"
     ]
    },
    {
     "name": "stdout",
     "output_type": "stream",
     "text": [
      "(1, 268203)\n",
      "2 2\n",
      "Shape (2, 2048)\n",
      "Using normal model\n"
     ]
    },
    {
     "name": "stderr",
     "output_type": "stream",
     "text": [
      "[genericNeuralNet.py:328 -     print_model_eval() ] Train loss (w reg) on all data: 0.013290521\n",
      "[genericNeuralNet.py:329 -     print_model_eval() ] Train loss (w/o reg) on all data: 0.004448349\n",
      "[genericNeuralNet.py:331 -     print_model_eval() ] Test loss (w/o reg) on all data: 0.04671622\n",
      "[genericNeuralNet.py:332 -     print_model_eval() ] Train acc on all data:  1.0\n",
      "[genericNeuralNet.py:333 -     print_model_eval() ] Test acc on all data:   0.9816666666666667\n",
      "[genericNeuralNet.py:335 -     print_model_eval() ] Norm of the mean of gradients: 0.0050101713\n",
      "[genericNeuralNet.py:336 -     print_model_eval() ] Norm of the params: 4.205275\n",
      "[iter_attack.py:209 -     iterative_attack() ] Test_idx: 15 Test pred (full): [[0.6426095  0.35739052]]\n",
      "[iter_attack.py:209 -     iterative_attack() ] Test_idx: 32 Test pred (full): [[0.9978485  0.00215148]]\n"
     ]
    },
    {
     "name": "stdout",
     "output_type": "stream",
     "text": [
      "LBFGS training took [34] iter.\n",
      "After training with LBFGS: \n"
     ]
    },
    {
     "name": "stderr",
     "output_type": "stream",
     "text": [
      "[iter_attack.py:209 -     iterative_attack() ] Test_idx: 6 Test pred (full): [[1.7629725e-04 9.9982375e-01]]\n",
      "[iter_attack.py:210 -     iterative_attack() ] ---------------------\n",
      "[iter_attack.py:215 -     iterative_attack() ] Test_idx: 15 Test pred (top): [[0.6426095  0.35739052]]\n",
      "[iter_attack.py:215 -     iterative_attack() ] Test_idx: 32 Test pred (top): [[0.9978485  0.00215148]]\n",
      "[iter_attack.py:215 -     iterative_attack() ] Test_idx: 6 Test pred (top): [[1.7629725e-04 9.9982375e-01]]\n",
      "[iter_attack.py:147 -     iterative_attack() ] *** Iter: 60\n"
     ]
    },
    {
     "name": "stdout",
     "output_type": "stream",
     "text": [
      "Total number of parameters: 2048\n"
     ]
    },
    {
     "name": "stderr",
     "output_type": "stream",
     "text": [
      "[iter_attack.py:169 -     iterative_attack() ] Attach_iter 60 perturbation shape: (1, 268203), perturbation: [[ 0.06545202 -0.01608428  0.06260555 ... -0.03998601 -0.07713512\n",
      "   0.03182175]]\n"
     ]
    },
    {
     "name": "stdout",
     "output_type": "stream",
     "text": [
      "Warning: Desired error not necessarily achieved due to precision loss.\n",
      "         Current function value: -279.786835\n",
      "         Iterations: 9\n",
      "         Function evaluations: 73\n",
      "         Gradient evaluations: 71\n",
      "         Hessian evaluations: 48\n",
      "Inverse HVP took 2.08220100403 sec\n",
      "Loaded inverse HVP from output/poisoning_900_300_inception_wd-0.001-test-[15, 32, 6].npz\n",
      "Inverse HVP took 0.000546932220459 sec\n",
      "Entering the for loop\n",
      "(1, 268203)\n",
      "Loaded inverse HVP from output/poisoning_900_300_inception_wd-0.001-test-[15, 32, 6].npz\n",
      "Inverse HVP took 0.000617980957031 sec\n",
      "Entering the for loop\n"
     ]
    },
    {
     "name": "stderr",
     "output_type": "stream",
     "text": [
      "[iter_attack.py:169 -     iterative_attack() ] Attach_iter 60 perturbation shape: (1, 268203), perturbation: [[-0.00158681 -0.0029444  -0.00222973 ... -0.00982288  0.00869073\n",
      "   0.00353401]]\n"
     ]
    },
    {
     "name": "stdout",
     "output_type": "stream",
     "text": [
      "(1, 268203)\n",
      "2 2\n",
      "Shape (2, 2048)\n",
      "Using normal model\n"
     ]
    },
    {
     "name": "stderr",
     "output_type": "stream",
     "text": [
      "[genericNeuralNet.py:328 -     print_model_eval() ] Train loss (w reg) on all data: 0.013278349\n",
      "[genericNeuralNet.py:329 -     print_model_eval() ] Train loss (w/o reg) on all data: 0.0044420203\n",
      "[genericNeuralNet.py:331 -     print_model_eval() ] Test loss (w/o reg) on all data: 0.04663016\n",
      "[genericNeuralNet.py:332 -     print_model_eval() ] Train acc on all data:  1.0\n",
      "[genericNeuralNet.py:333 -     print_model_eval() ] Test acc on all data:   0.9816666666666667\n",
      "[genericNeuralNet.py:335 -     print_model_eval() ] Norm of the mean of gradients: 0.004872447\n",
      "[genericNeuralNet.py:336 -     print_model_eval() ] Norm of the params: 4.2038856\n",
      "[iter_attack.py:209 -     iterative_attack() ] Test_idx: 15 Test pred (full): [[0.636687   0.36331308]]\n",
      "[iter_attack.py:209 -     iterative_attack() ] Test_idx: 32 Test pred (full): [[0.99798065 0.0020194 ]]\n"
     ]
    },
    {
     "name": "stdout",
     "output_type": "stream",
     "text": [
      "LBFGS training took [41] iter.\n",
      "After training with LBFGS: \n"
     ]
    },
    {
     "name": "stderr",
     "output_type": "stream",
     "text": [
      "[iter_attack.py:209 -     iterative_attack() ] Test_idx: 6 Test pred (full): [[1.6453354e-04 9.9983549e-01]]\n",
      "[iter_attack.py:210 -     iterative_attack() ] ---------------------\n",
      "[iter_attack.py:215 -     iterative_attack() ] Test_idx: 15 Test pred (top): [[0.636687   0.36331308]]\n",
      "[iter_attack.py:215 -     iterative_attack() ] Test_idx: 32 Test pred (top): [[0.99798065 0.0020194 ]]\n",
      "[iter_attack.py:215 -     iterative_attack() ] Test_idx: 6 Test pred (top): [[1.6453354e-04 9.9983549e-01]]\n",
      "[iter_attack.py:147 -     iterative_attack() ] *** Iter: 61\n"
     ]
    },
    {
     "name": "stdout",
     "output_type": "stream",
     "text": [
      "Total number of parameters: 2048\n"
     ]
    },
    {
     "name": "stderr",
     "output_type": "stream",
     "text": [
      "[iter_attack.py:169 -     iterative_attack() ] Attach_iter 61 perturbation shape: (1, 268203), perturbation: [[ 0.0304409   0.05853183  0.08094049 ... -0.03506991  0.0222942\n",
      "   0.03694846]]\n"
     ]
    },
    {
     "name": "stdout",
     "output_type": "stream",
     "text": [
      "Warning: Desired error not necessarily achieved due to precision loss.\n",
      "         Current function value: -289.009979\n",
      "         Iterations: 9\n",
      "         Function evaluations: 129\n",
      "         Gradient evaluations: 125\n",
      "         Hessian evaluations: 60\n",
      "Inverse HVP took 3.41449904442 sec\n",
      "Loaded inverse HVP from output/poisoning_900_300_inception_wd-0.001-test-[15, 32, 6].npz\n",
      "Inverse HVP took 0.000530958175659 sec\n",
      "Entering the for loop\n",
      "(1, 268203)\n",
      "Loaded inverse HVP from output/poisoning_900_300_inception_wd-0.001-test-[15, 32, 6].npz\n",
      "Inverse HVP took 0.000594139099121 sec\n",
      "Entering the for loop\n"
     ]
    },
    {
     "name": "stderr",
     "output_type": "stream",
     "text": [
      "[iter_attack.py:169 -     iterative_attack() ] Attach_iter 61 perturbation shape: (1, 268203), perturbation: [[-0.00707755 -0.00582652 -0.00456528 ... -0.01235969  0.00222693\n",
      "   0.00534137]]\n"
     ]
    },
    {
     "name": "stdout",
     "output_type": "stream",
     "text": [
      "(1, 268203)\n",
      "2 2\n",
      "Shape (2, 2048)\n",
      "Using normal model\n"
     ]
    },
    {
     "name": "stderr",
     "output_type": "stream",
     "text": [
      "[genericNeuralNet.py:328 -     print_model_eval() ] Train loss (w reg) on all data: 0.013314573\n",
      "[genericNeuralNet.py:329 -     print_model_eval() ] Train loss (w/o reg) on all data: 0.0044579166\n",
      "[genericNeuralNet.py:331 -     print_model_eval() ] Test loss (w/o reg) on all data: 0.0466898\n",
      "[genericNeuralNet.py:332 -     print_model_eval() ] Train acc on all data:  1.0\n",
      "[genericNeuralNet.py:333 -     print_model_eval() ] Test acc on all data:   0.9816666666666667\n",
      "[genericNeuralNet.py:335 -     print_model_eval() ] Norm of the mean of gradients: 0.0050090165\n",
      "[genericNeuralNet.py:336 -     print_model_eval() ] Norm of the params: 4.208719\n",
      "[iter_attack.py:209 -     iterative_attack() ] Test_idx: 15 Test pred (full): [[0.62891215 0.3710878 ]]\n",
      "[iter_attack.py:209 -     iterative_attack() ] Test_idx: 32 Test pred (full): [[0.9978746  0.00212538]]\n"
     ]
    },
    {
     "name": "stdout",
     "output_type": "stream",
     "text": [
      "LBFGS training took [44] iter.\n",
      "After training with LBFGS: \n"
     ]
    },
    {
     "name": "stderr",
     "output_type": "stream",
     "text": [
      "[iter_attack.py:209 -     iterative_attack() ] Test_idx: 6 Test pred (full): [[1.7532363e-04 9.9982470e-01]]\n",
      "[iter_attack.py:210 -     iterative_attack() ] ---------------------\n",
      "[iter_attack.py:215 -     iterative_attack() ] Test_idx: 15 Test pred (top): [[0.62891215 0.3710878 ]]\n",
      "[iter_attack.py:215 -     iterative_attack() ] Test_idx: 32 Test pred (top): [[0.9978746  0.00212538]]\n",
      "[iter_attack.py:215 -     iterative_attack() ] Test_idx: 6 Test pred (top): [[1.7532363e-04 9.9982470e-01]]\n",
      "[iter_attack.py:147 -     iterative_attack() ] *** Iter: 62\n"
     ]
    },
    {
     "name": "stdout",
     "output_type": "stream",
     "text": [
      "Total number of parameters: 2048\n"
     ]
    },
    {
     "name": "stderr",
     "output_type": "stream",
     "text": [
      "[iter_attack.py:169 -     iterative_attack() ] Attach_iter 62 perturbation shape: (1, 268203), perturbation: [[ 0.04185462  0.02042969  0.11800595 ... -0.03289797 -0.0637555\n",
      "   0.02411519]]\n"
     ]
    },
    {
     "name": "stdout",
     "output_type": "stream",
     "text": [
      "Warning: Desired error not necessarily achieved due to precision loss.\n",
      "         Current function value: -301.018372\n",
      "         Iterations: 9\n",
      "         Function evaluations: 129\n",
      "         Gradient evaluations: 124\n",
      "         Hessian evaluations: 57\n",
      "Inverse HVP took 3.36604499817 sec\n",
      "Loaded inverse HVP from output/poisoning_900_300_inception_wd-0.001-test-[15, 32, 6].npz\n",
      "Inverse HVP took 0.000527143478394 sec\n",
      "Entering the for loop\n",
      "(1, 268203)\n",
      "Loaded inverse HVP from output/poisoning_900_300_inception_wd-0.001-test-[15, 32, 6].npz\n",
      "Inverse HVP took 0.000619173049927 sec\n",
      "Entering the for loop\n"
     ]
    },
    {
     "name": "stderr",
     "output_type": "stream",
     "text": [
      "[iter_attack.py:169 -     iterative_attack() ] Attach_iter 62 perturbation shape: (1, 268203), perturbation: [[-0.00565101 -0.00332672 -0.00335624 ... -0.01785745  0.00830419\n",
      "   0.00616764]]\n"
     ]
    },
    {
     "name": "stdout",
     "output_type": "stream",
     "text": [
      "(1, 268203)\n",
      "2 2\n",
      "Shape (2, 2048)\n",
      "Using normal model\n"
     ]
    },
    {
     "name": "stderr",
     "output_type": "stream",
     "text": [
      "[genericNeuralNet.py:328 -     print_model_eval() ] Train loss (w reg) on all data: 0.013296068\n",
      "[genericNeuralNet.py:329 -     print_model_eval() ] Train loss (w/o reg) on all data: 0.004448103\n",
      "[genericNeuralNet.py:331 -     print_model_eval() ] Test loss (w/o reg) on all data: 0.046537794\n",
      "[genericNeuralNet.py:332 -     print_model_eval() ] Train acc on all data:  1.0\n",
      "[genericNeuralNet.py:333 -     print_model_eval() ] Test acc on all data:   0.9816666666666667\n",
      "[genericNeuralNet.py:335 -     print_model_eval() ] Norm of the mean of gradients: 0.00488217\n",
      "[genericNeuralNet.py:336 -     print_model_eval() ] Norm of the params: 4.2066526\n",
      "[iter_attack.py:209 -     iterative_attack() ] Test_idx: 15 Test pred (full): [[0.62380296 0.3761971 ]]\n",
      "[iter_attack.py:209 -     iterative_attack() ] Test_idx: 32 Test pred (full): [[0.9979849  0.00201509]]\n"
     ]
    },
    {
     "name": "stdout",
     "output_type": "stream",
     "text": [
      "LBFGS training took [42] iter.\n",
      "After training with LBFGS: \n"
     ]
    },
    {
     "name": "stderr",
     "output_type": "stream",
     "text": [
      "[iter_attack.py:209 -     iterative_attack() ] Test_idx: 6 Test pred (full): [[1.6265464e-04 9.9983728e-01]]\n",
      "[iter_attack.py:210 -     iterative_attack() ] ---------------------\n",
      "[iter_attack.py:215 -     iterative_attack() ] Test_idx: 15 Test pred (top): [[0.62380296 0.3761971 ]]\n",
      "[iter_attack.py:215 -     iterative_attack() ] Test_idx: 32 Test pred (top): [[0.9979849  0.00201509]]\n",
      "[iter_attack.py:215 -     iterative_attack() ] Test_idx: 6 Test pred (top): [[1.6265464e-04 9.9983728e-01]]\n",
      "[iter_attack.py:147 -     iterative_attack() ] *** Iter: 63\n"
     ]
    },
    {
     "name": "stdout",
     "output_type": "stream",
     "text": [
      "Total number of parameters: 2048\n"
     ]
    },
    {
     "name": "stderr",
     "output_type": "stream",
     "text": [
      "[iter_attack.py:169 -     iterative_attack() ] Attach_iter 63 perturbation shape: (1, 268203), perturbation: [[ 0.05521685  0.00998649 -0.02968099 ...  0.06759147 -0.02571787\n",
      "   0.06262836]]\n"
     ]
    },
    {
     "name": "stdout",
     "output_type": "stream",
     "text": [
      "Warning: Desired error not necessarily achieved due to precision loss.\n",
      "         Current function value: -309.017090\n",
      "         Iterations: 10\n",
      "         Function evaluations: 93\n",
      "         Gradient evaluations: 92\n",
      "         Hessian evaluations: 56\n",
      "Inverse HVP took 2.57217597961 sec\n",
      "Loaded inverse HVP from output/poisoning_900_300_inception_wd-0.001-test-[15, 32, 6].npz\n",
      "Inverse HVP took 0.000521898269653 sec\n",
      "Entering the for loop\n",
      "(1, 268203)\n",
      "Loaded inverse HVP from output/poisoning_900_300_inception_wd-0.001-test-[15, 32, 6].npz\n",
      "Inverse HVP took 0.000604867935181 sec\n",
      "Entering the for loop\n"
     ]
    },
    {
     "name": "stderr",
     "output_type": "stream",
     "text": [
      "[iter_attack.py:169 -     iterative_attack() ] Attach_iter 63 perturbation shape: (1, 268203), perturbation: [[-0.00791918 -0.00380562 -0.00564335 ... -0.02423061  0.00504304\n",
      "   0.01025629]]\n"
     ]
    },
    {
     "name": "stdout",
     "output_type": "stream",
     "text": [
      "(1, 268203)\n",
      "2 2\n",
      "Shape (2, 2048)\n",
      "Using normal model\n"
     ]
    },
    {
     "name": "stderr",
     "output_type": "stream",
     "text": [
      "[genericNeuralNet.py:328 -     print_model_eval() ] Train loss (w reg) on all data: 0.013337964\n",
      "[genericNeuralNet.py:329 -     print_model_eval() ] Train loss (w/o reg) on all data: 0.004466681\n",
      "[genericNeuralNet.py:331 -     print_model_eval() ] Test loss (w/o reg) on all data: 0.04669157\n",
      "[genericNeuralNet.py:332 -     print_model_eval() ] Train acc on all data:  1.0\n",
      "[genericNeuralNet.py:333 -     print_model_eval() ] Test acc on all data:   0.9816666666666667\n",
      "[genericNeuralNet.py:335 -     print_model_eval() ] Norm of the mean of gradients: 0.004971082\n",
      "[genericNeuralNet.py:336 -     print_model_eval() ] Norm of the params: 4.2121925\n",
      "[iter_attack.py:209 -     iterative_attack() ] Test_idx: 15 Test pred (full): [[0.61592454 0.38407546]]\n",
      "[iter_attack.py:209 -     iterative_attack() ] Test_idx: 32 Test pred (full): [[0.99789894 0.00210108]]\n"
     ]
    },
    {
     "name": "stdout",
     "output_type": "stream",
     "text": [
      "LBFGS training took [46] iter.\n",
      "After training with LBFGS: \n"
     ]
    },
    {
     "name": "stderr",
     "output_type": "stream",
     "text": [
      "[iter_attack.py:209 -     iterative_attack() ] Test_idx: 6 Test pred (full): [[1.724814e-04 9.998275e-01]]\n",
      "[iter_attack.py:210 -     iterative_attack() ] ---------------------\n",
      "[iter_attack.py:215 -     iterative_attack() ] Test_idx: 15 Test pred (top): [[0.61592454 0.38407546]]\n",
      "[iter_attack.py:215 -     iterative_attack() ] Test_idx: 32 Test pred (top): [[0.99789894 0.00210108]]\n",
      "[iter_attack.py:215 -     iterative_attack() ] Test_idx: 6 Test pred (top): [[1.724814e-04 9.998275e-01]]\n",
      "[iter_attack.py:147 -     iterative_attack() ] *** Iter: 64\n"
     ]
    },
    {
     "name": "stdout",
     "output_type": "stream",
     "text": [
      "Total number of parameters: 2048\n"
     ]
    },
    {
     "name": "stderr",
     "output_type": "stream",
     "text": [
      "[iter_attack.py:169 -     iterative_attack() ] Attach_iter 64 perturbation shape: (1, 268203), perturbation: [[ 0.04745121  0.06989576  0.1740039  ... -0.12637614 -0.04732886\n",
      "   0.00663841]]\n"
     ]
    },
    {
     "name": "stdout",
     "output_type": "stream",
     "text": [
      "Warning: Desired error not necessarily achieved due to precision loss.\n",
      "         Current function value: -322.066315\n",
      "         Iterations: 10\n",
      "         Function evaluations: 134\n",
      "         Gradient evaluations: 127\n",
      "         Hessian evaluations: 62\n",
      "Inverse HVP took 3.43763709068 sec\n",
      "Loaded inverse HVP from output/poisoning_900_300_inception_wd-0.001-test-[15, 32, 6].npz\n",
      "Inverse HVP took 0.000527143478394 sec\n",
      "Entering the for loop\n",
      "(1, 268203)\n",
      "Loaded inverse HVP from output/poisoning_900_300_inception_wd-0.001-test-[15, 32, 6].npz\n",
      "Inverse HVP took 0.000598907470703 sec\n",
      "Entering the for loop\n"
     ]
    },
    {
     "name": "stderr",
     "output_type": "stream",
     "text": [
      "[iter_attack.py:169 -     iterative_attack() ] Attach_iter 64 perturbation shape: (1, 268203), perturbation: [[-4.49190382e-03 -1.19527057e-03 -2.03699013e-03 ... -1.85639560e-02\n",
      "   1.22781722e-02  3.84128653e-05]]\n"
     ]
    },
    {
     "name": "stdout",
     "output_type": "stream",
     "text": [
      "(1, 268203)\n",
      "2 2\n",
      "Shape (2, 2048)\n",
      "Using normal model\n"
     ]
    },
    {
     "name": "stderr",
     "output_type": "stream",
     "text": [
      "[genericNeuralNet.py:328 -     print_model_eval() ] Train loss (w reg) on all data: 0.0133203175\n",
      "[genericNeuralNet.py:329 -     print_model_eval() ] Train loss (w/o reg) on all data: 0.004456746\n",
      "[genericNeuralNet.py:331 -     print_model_eval() ] Test loss (w/o reg) on all data: 0.04644357\n",
      "[genericNeuralNet.py:332 -     print_model_eval() ] Train acc on all data:  1.0\n",
      "[genericNeuralNet.py:333 -     print_model_eval() ] Test acc on all data:   0.9816666666666667\n",
      "[genericNeuralNet.py:335 -     print_model_eval() ] Norm of the mean of gradients: 0.004917059\n",
      "[genericNeuralNet.py:336 -     print_model_eval() ] Norm of the params: 4.210361\n",
      "[iter_attack.py:209 -     iterative_attack() ] Test_idx: 15 Test pred (full): [[0.6097158  0.39028415]]\n",
      "[iter_attack.py:209 -     iterative_attack() ] Test_idx: 32 Test pred (full): [[0.9980059  0.00199411]]\n"
     ]
    },
    {
     "name": "stdout",
     "output_type": "stream",
     "text": [
      "LBFGS training took [39] iter.\n",
      "After training with LBFGS: \n"
     ]
    },
    {
     "name": "stderr",
     "output_type": "stream",
     "text": [
      "[iter_attack.py:209 -     iterative_attack() ] Test_idx: 6 Test pred (full): [[1.5974184e-04 9.9984026e-01]]\n",
      "[iter_attack.py:210 -     iterative_attack() ] ---------------------\n",
      "[iter_attack.py:215 -     iterative_attack() ] Test_idx: 15 Test pred (top): [[0.6097158  0.39028415]]\n",
      "[iter_attack.py:215 -     iterative_attack() ] Test_idx: 32 Test pred (top): [[0.9980059  0.00199411]]\n",
      "[iter_attack.py:215 -     iterative_attack() ] Test_idx: 6 Test pred (top): [[1.5974184e-04 9.9984026e-01]]\n",
      "[iter_attack.py:147 -     iterative_attack() ] *** Iter: 65\n"
     ]
    },
    {
     "name": "stdout",
     "output_type": "stream",
     "text": [
      "Total number of parameters: 2048\n"
     ]
    },
    {
     "name": "stderr",
     "output_type": "stream",
     "text": [
      "[iter_attack.py:169 -     iterative_attack() ] Attach_iter 65 perturbation shape: (1, 268203), perturbation: [[ 0.06395707  0.05134068 -0.0102738  ... -0.0140072  -0.05944248\n",
      "   0.10704694]]\n"
     ]
    },
    {
     "name": "stdout",
     "output_type": "stream",
     "text": [
      "Warning: Desired error not necessarily achieved due to precision loss.\n",
      "         Current function value: -331.680023\n",
      "         Iterations: 11\n",
      "         Function evaluations: 189\n",
      "         Gradient evaluations: 183\n",
      "         Hessian evaluations: 75\n",
      "Inverse HVP took 4.79302597046 sec\n",
      "Loaded inverse HVP from output/poisoning_900_300_inception_wd-0.001-test-[15, 32, 6].npz\n",
      "Inverse HVP took 0.000531196594238 sec\n",
      "Entering the for loop\n",
      "(1, 268203)\n",
      "Loaded inverse HVP from output/poisoning_900_300_inception_wd-0.001-test-[15, 32, 6].npz\n",
      "Inverse HVP took 0.000619173049927 sec\n",
      "Entering the for loop\n"
     ]
    },
    {
     "name": "stderr",
     "output_type": "stream",
     "text": [
      "[iter_attack.py:169 -     iterative_attack() ] Attach_iter 65 perturbation shape: (1, 268203), perturbation: [[-0.00813498 -0.00189253 -0.00255727 ... -0.01856494  0.009287\n",
      "   0.00281381]]\n"
     ]
    },
    {
     "name": "stdout",
     "output_type": "stream",
     "text": [
      "(1, 268203)\n",
      "2 2\n",
      "Shape (2, 2048)\n",
      "Using normal model\n"
     ]
    },
    {
     "name": "stderr",
     "output_type": "stream",
     "text": [
      "[genericNeuralNet.py:328 -     print_model_eval() ] Train loss (w reg) on all data: 0.013359213\n",
      "[genericNeuralNet.py:329 -     print_model_eval() ] Train loss (w/o reg) on all data: 0.00447496\n",
      "[genericNeuralNet.py:331 -     print_model_eval() ] Test loss (w/o reg) on all data: 0.046670504\n",
      "[genericNeuralNet.py:332 -     print_model_eval() ] Train acc on all data:  1.0\n",
      "[genericNeuralNet.py:333 -     print_model_eval() ] Test acc on all data:   0.9816666666666667\n",
      "[genericNeuralNet.py:335 -     print_model_eval() ] Norm of the mean of gradients: 0.0049499767\n",
      "[genericNeuralNet.py:336 -     print_model_eval() ] Norm of the params: 4.2152705\n",
      "[iter_attack.py:209 -     iterative_attack() ] Test_idx: 15 Test pred (full): [[0.6014351  0.39856485]]\n",
      "[iter_attack.py:209 -     iterative_attack() ] Test_idx: 32 Test pred (full): [[0.99790835 0.00209163]]\n"
     ]
    },
    {
     "name": "stdout",
     "output_type": "stream",
     "text": [
      "LBFGS training took [47] iter.\n",
      "After training with LBFGS: \n"
     ]
    },
    {
     "name": "stderr",
     "output_type": "stream",
     "text": [
      "[iter_attack.py:209 -     iterative_attack() ] Test_idx: 6 Test pred (full): [[1.7214607e-04 9.9982786e-01]]\n",
      "[iter_attack.py:210 -     iterative_attack() ] ---------------------\n",
      "[iter_attack.py:215 -     iterative_attack() ] Test_idx: 15 Test pred (top): [[0.6014351  0.39856485]]\n",
      "[iter_attack.py:215 -     iterative_attack() ] Test_idx: 32 Test pred (top): [[0.99790835 0.00209163]]\n",
      "[iter_attack.py:215 -     iterative_attack() ] Test_idx: 6 Test pred (top): [[1.7214607e-04 9.9982786e-01]]\n",
      "[iter_attack.py:147 -     iterative_attack() ] *** Iter: 66\n"
     ]
    },
    {
     "name": "stdout",
     "output_type": "stream",
     "text": [
      "Total number of parameters: 2048\n"
     ]
    },
    {
     "name": "stderr",
     "output_type": "stream",
     "text": [
      "[iter_attack.py:169 -     iterative_attack() ] Attach_iter 66 perturbation shape: (1, 268203), perturbation: [[ 0.02627434  0.06872337  0.19232215 ... -0.03356182 -0.00965152\n",
      "  -0.03518183]]\n"
     ]
    },
    {
     "name": "stdout",
     "output_type": "stream",
     "text": [
      "Warning: Desired error not necessarily achieved due to precision loss.\n",
      "         Current function value: -346.033203\n",
      "         Iterations: 8\n",
      "         Function evaluations: 82\n",
      "         Gradient evaluations: 78\n",
      "         Hessian evaluations: 42\n",
      "Inverse HVP took 2.16763687134 sec\n",
      "Loaded inverse HVP from output/poisoning_900_300_inception_wd-0.001-test-[15, 32, 6].npz\n",
      "Inverse HVP took 0.000529050827026 sec\n",
      "Entering the for loop\n",
      "(1, 268203)\n",
      "Loaded inverse HVP from output/poisoning_900_300_inception_wd-0.001-test-[15, 32, 6].npz\n",
      "Inverse HVP took 0.000617980957031 sec\n",
      "Entering the for loop\n"
     ]
    },
    {
     "name": "stderr",
     "output_type": "stream",
     "text": [
      "[iter_attack.py:169 -     iterative_attack() ] Attach_iter 66 perturbation shape: (1, 268203), perturbation: [[-0.00926471 -0.00380801 -0.00375388 ... -0.04500673  0.01903298\n",
      "   0.01021743]]\n"
     ]
    },
    {
     "name": "stdout",
     "output_type": "stream",
     "text": [
      "(1, 268203)\n",
      "2 2\n",
      "Shape (2, 2048)\n",
      "Using normal model\n"
     ]
    },
    {
     "name": "stderr",
     "output_type": "stream",
     "text": [
      "[genericNeuralNet.py:328 -     print_model_eval() ] Train loss (w reg) on all data: 0.013342284\n",
      "[genericNeuralNet.py:329 -     print_model_eval() ] Train loss (w/o reg) on all data: 0.004465442\n",
      "[genericNeuralNet.py:331 -     print_model_eval() ] Test loss (w/o reg) on all data: 0.046414603\n",
      "[genericNeuralNet.py:332 -     print_model_eval() ] Train acc on all data:  1.0\n",
      "[genericNeuralNet.py:333 -     print_model_eval() ] Test acc on all data:   0.9816666666666667\n",
      "[genericNeuralNet.py:335 -     print_model_eval() ] Norm of the mean of gradients: 0.0048880326\n",
      "[genericNeuralNet.py:336 -     print_model_eval() ] Norm of the params: 4.213512\n",
      "[iter_attack.py:209 -     iterative_attack() ] Test_idx: 15 Test pred (full): [[0.59536463 0.40463534]]\n",
      "[iter_attack.py:209 -     iterative_attack() ] Test_idx: 32 Test pred (full): [[0.9980254  0.00197457]]\n"
     ]
    },
    {
     "name": "stdout",
     "output_type": "stream",
     "text": [
      "LBFGS training took [45] iter.\n",
      "After training with LBFGS: \n"
     ]
    },
    {
     "name": "stderr",
     "output_type": "stream",
     "text": [
      "[iter_attack.py:209 -     iterative_attack() ] Test_idx: 6 Test pred (full): [[1.5803863e-04 9.9984193e-01]]\n",
      "[iter_attack.py:210 -     iterative_attack() ] ---------------------\n",
      "[iter_attack.py:215 -     iterative_attack() ] Test_idx: 15 Test pred (top): [[0.59536463 0.40463534]]\n",
      "[iter_attack.py:215 -     iterative_attack() ] Test_idx: 32 Test pred (top): [[0.9980254  0.00197457]]\n",
      "[iter_attack.py:215 -     iterative_attack() ] Test_idx: 6 Test pred (top): [[1.5803863e-04 9.9984193e-01]]\n",
      "[iter_attack.py:147 -     iterative_attack() ] *** Iter: 67\n"
     ]
    },
    {
     "name": "stdout",
     "output_type": "stream",
     "text": [
      "Total number of parameters: 2048\n"
     ]
    },
    {
     "name": "stderr",
     "output_type": "stream",
     "text": [
      "[iter_attack.py:169 -     iterative_attack() ] Attach_iter 67 perturbation shape: (1, 268203), perturbation: [[ 0.05486533  0.06039498  0.02901066 ...  0.01133881 -0.15621626\n",
      "   0.15082741]]\n"
     ]
    },
    {
     "name": "stdout",
     "output_type": "stream",
     "text": [
      "Warning: Desired error not necessarily achieved due to precision loss.\n",
      "         Current function value: -355.866547\n",
      "         Iterations: 8\n",
      "         Function evaluations: 82\n",
      "         Gradient evaluations: 78\n",
      "         Hessian evaluations: 42\n",
      "Inverse HVP took 2.16917395592 sec\n",
      "Loaded inverse HVP from output/poisoning_900_300_inception_wd-0.001-test-[15, 32, 6].npz\n",
      "Inverse HVP took 0.00053596496582 sec\n",
      "Entering the for loop\n",
      "(1, 268203)\n",
      "Loaded inverse HVP from output/poisoning_900_300_inception_wd-0.001-test-[15, 32, 6].npz\n",
      "Inverse HVP took 0.000602960586548 sec\n",
      "Entering the for loop\n"
     ]
    },
    {
     "name": "stderr",
     "output_type": "stream",
     "text": [
      "[iter_attack.py:169 -     iterative_attack() ] Attach_iter 67 perturbation shape: (1, 268203), perturbation: [[-0.01086972 -0.00178644 -0.00064797 ... -0.02258744  0.00851697\n",
      "   0.00593614]]\n"
     ]
    },
    {
     "name": "stdout",
     "output_type": "stream",
     "text": [
      "(1, 268203)\n",
      "2 2\n",
      "Shape (2, 2048)\n",
      "Using normal model\n"
     ]
    },
    {
     "name": "stderr",
     "output_type": "stream",
     "text": [
      "[genericNeuralNet.py:328 -     print_model_eval() ] Train loss (w reg) on all data: 0.013378354\n",
      "[genericNeuralNet.py:329 -     print_model_eval() ] Train loss (w/o reg) on all data: 0.0044821855\n",
      "[genericNeuralNet.py:331 -     print_model_eval() ] Test loss (w/o reg) on all data: 0.046659175\n",
      "[genericNeuralNet.py:332 -     print_model_eval() ] Train acc on all data:  1.0\n",
      "[genericNeuralNet.py:333 -     print_model_eval() ] Test acc on all data:   0.9816666666666667\n",
      "[genericNeuralNet.py:335 -     print_model_eval() ] Norm of the mean of gradients: 0.0049521816\n",
      "[genericNeuralNet.py:336 -     print_model_eval() ] Norm of the params: 4.2180963\n",
      "[iter_attack.py:209 -     iterative_attack() ] Test_idx: 15 Test pred (full): [[0.58857536 0.41142467]]\n",
      "[iter_attack.py:209 -     iterative_attack() ] Test_idx: 32 Test pred (full): [[0.99792683 0.00207314]]\n"
     ]
    },
    {
     "name": "stdout",
     "output_type": "stream",
     "text": [
      "LBFGS training took [39] iter.\n",
      "After training with LBFGS: \n"
     ]
    },
    {
     "name": "stderr",
     "output_type": "stream",
     "text": [
      "[iter_attack.py:209 -     iterative_attack() ] Test_idx: 6 Test pred (full): [[1.6846793e-04 9.9983156e-01]]\n",
      "[iter_attack.py:210 -     iterative_attack() ] ---------------------\n",
      "[iter_attack.py:215 -     iterative_attack() ] Test_idx: 15 Test pred (top): [[0.58857536 0.41142467]]\n",
      "[iter_attack.py:215 -     iterative_attack() ] Test_idx: 32 Test pred (top): [[0.99792683 0.00207314]]\n",
      "[iter_attack.py:215 -     iterative_attack() ] Test_idx: 6 Test pred (top): [[1.6846793e-04 9.9983156e-01]]\n",
      "[iter_attack.py:147 -     iterative_attack() ] *** Iter: 68\n"
     ]
    },
    {
     "name": "stdout",
     "output_type": "stream",
     "text": [
      "Total number of parameters: 2048\n"
     ]
    },
    {
     "name": "stderr",
     "output_type": "stream",
     "text": [
      "[iter_attack.py:169 -     iterative_attack() ] Attach_iter 68 perturbation shape: (1, 268203), perturbation: [[ 0.03015742  0.0539718   0.14559729 ...  0.0275964   0.05794603\n",
      "  -0.06016032]]\n"
     ]
    },
    {
     "name": "stdout",
     "output_type": "stream",
     "text": [
      "Warning: Desired error not necessarily achieved due to precision loss.\n",
      "         Current function value: -367.907745\n",
      "         Iterations: 9\n",
      "         Function evaluations: 126\n",
      "         Gradient evaluations: 121\n",
      "         Hessian evaluations: 58\n",
      "Inverse HVP took 3.26761198044 sec\n",
      "Loaded inverse HVP from output/poisoning_900_300_inception_wd-0.001-test-[15, 32, 6].npz\n",
      "Inverse HVP took 0.000536203384399 sec\n",
      "Entering the for loop\n",
      "(1, 268203)\n",
      "Loaded inverse HVP from output/poisoning_900_300_inception_wd-0.001-test-[15, 32, 6].npz\n",
      "Inverse HVP took 0.000608921051025 sec\n",
      "Entering the for loop\n"
     ]
    },
    {
     "name": "stderr",
     "output_type": "stream",
     "text": [
      "[iter_attack.py:169 -     iterative_attack() ] Attach_iter 68 perturbation shape: (1, 268203), perturbation: [[-0.01524343 -0.00559674 -0.00248335 ... -0.03449217  0.01779753\n",
      "   0.00044787]]\n"
     ]
    },
    {
     "name": "stdout",
     "output_type": "stream",
     "text": [
      "(1, 268203)\n",
      "2 2\n",
      "Shape (2, 2048)\n",
      "Using normal model\n"
     ]
    },
    {
     "name": "stderr",
     "output_type": "stream",
     "text": [
      "[genericNeuralNet.py:328 -     print_model_eval() ] Train loss (w reg) on all data: 0.01336211\n",
      "[genericNeuralNet.py:329 -     print_model_eval() ] Train loss (w/o reg) on all data: 0.0044729966\n",
      "[genericNeuralNet.py:331 -     print_model_eval() ] Test loss (w/o reg) on all data: 0.046342503\n",
      "[genericNeuralNet.py:332 -     print_model_eval() ] Train acc on all data:  1.0\n",
      "[genericNeuralNet.py:333 -     print_model_eval() ] Test acc on all data:   0.9816666666666667\n",
      "[genericNeuralNet.py:335 -     print_model_eval() ] Norm of the mean of gradients: 0.0048206374\n",
      "[genericNeuralNet.py:336 -     print_model_eval() ] Norm of the params: 4.2164235\n",
      "[iter_attack.py:209 -     iterative_attack() ] Test_idx: 15 Test pred (full): [[0.58251333 0.4174867 ]]\n",
      "[iter_attack.py:209 -     iterative_attack() ] Test_idx: 32 Test pred (full): [[0.9980477  0.00195233]]\n"
     ]
    },
    {
     "name": "stdout",
     "output_type": "stream",
     "text": [
      "LBFGS training took [43] iter.\n",
      "After training with LBFGS: \n"
     ]
    },
    {
     "name": "stderr",
     "output_type": "stream",
     "text": [
      "[iter_attack.py:209 -     iterative_attack() ] Test_idx: 6 Test pred (full): [[1.5812727e-04 9.9984181e-01]]\n",
      "[iter_attack.py:210 -     iterative_attack() ] ---------------------\n",
      "[iter_attack.py:215 -     iterative_attack() ] Test_idx: 15 Test pred (top): [[0.58251333 0.4174867 ]]\n",
      "[iter_attack.py:215 -     iterative_attack() ] Test_idx: 32 Test pred (top): [[0.9980477  0.00195233]]\n",
      "[iter_attack.py:215 -     iterative_attack() ] Test_idx: 6 Test pred (top): [[1.5812727e-04 9.9984181e-01]]\n",
      "[iter_attack.py:147 -     iterative_attack() ] *** Iter: 69\n"
     ]
    },
    {
     "name": "stdout",
     "output_type": "stream",
     "text": [
      "Total number of parameters: 2048\n"
     ]
    },
    {
     "name": "stderr",
     "output_type": "stream",
     "text": [
      "[iter_attack.py:169 -     iterative_attack() ] Attach_iter 69 perturbation shape: (1, 268203), perturbation: [[ 0.07546206  0.10593078  0.05885072 ... -0.05730695 -0.19605969\n",
      "   0.20365688]]\n"
     ]
    },
    {
     "name": "stdout",
     "output_type": "stream",
     "text": [
      "Warning: Desired error not necessarily achieved due to precision loss.\n",
      "         Current function value: -378.445007\n",
      "         Iterations: 14\n",
      "         Function evaluations: 23\n",
      "         Gradient evaluations: 36\n",
      "         Hessian evaluations: 92\n",
      "Inverse HVP took 1.68498086929 sec\n",
      "Loaded inverse HVP from output/poisoning_900_300_inception_wd-0.001-test-[15, 32, 6].npz\n",
      "Inverse HVP took 0.000550985336304 sec\n",
      "Entering the for loop\n",
      "(1, 268203)\n",
      "Loaded inverse HVP from output/poisoning_900_300_inception_wd-0.001-test-[15, 32, 6].npz\n",
      "Inverse HVP took 0.000656843185425 sec\n",
      "Entering the for loop\n"
     ]
    },
    {
     "name": "stderr",
     "output_type": "stream",
     "text": [
      "[iter_attack.py:169 -     iterative_attack() ] Attach_iter 69 perturbation shape: (1, 268203), perturbation: [[-0.00839845 -0.00038047  0.00437196 ...  0.00206031  0.01430948\n",
      "  -0.02138442]]\n"
     ]
    },
    {
     "name": "stdout",
     "output_type": "stream",
     "text": [
      "(1, 268203)\n",
      "2 2\n",
      "Shape (2, 2048)\n",
      "Using normal model\n"
     ]
    },
    {
     "name": "stderr",
     "output_type": "stream",
     "text": [
      "[genericNeuralNet.py:328 -     print_model_eval() ] Train loss (w reg) on all data: 0.013393974\n",
      "[genericNeuralNet.py:329 -     print_model_eval() ] Train loss (w/o reg) on all data: 0.0044881105\n",
      "[genericNeuralNet.py:331 -     print_model_eval() ] Test loss (w/o reg) on all data: 0.04668846\n",
      "[genericNeuralNet.py:332 -     print_model_eval() ] Train acc on all data:  1.0\n",
      "[genericNeuralNet.py:333 -     print_model_eval() ] Test acc on all data:   0.9816666666666667\n",
      "[genericNeuralNet.py:335 -     print_model_eval() ] Norm of the mean of gradients: 0.004940927\n",
      "[genericNeuralNet.py:336 -     print_model_eval() ] Norm of the params: 4.220394\n",
      "[iter_attack.py:209 -     iterative_attack() ] Test_idx: 15 Test pred (full): [[0.5752122  0.42478785]]\n",
      "[iter_attack.py:209 -     iterative_attack() ] Test_idx: 32 Test pred (full): [[0.99797744 0.00202253]]\n"
     ]
    },
    {
     "name": "stdout",
     "output_type": "stream",
     "text": [
      "LBFGS training took [46] iter.\n",
      "After training with LBFGS: \n"
     ]
    },
    {
     "name": "stderr",
     "output_type": "stream",
     "text": [
      "[iter_attack.py:209 -     iterative_attack() ] Test_idx: 6 Test pred (full): [[1.6345583e-04 9.9983656e-01]]\n",
      "[iter_attack.py:210 -     iterative_attack() ] ---------------------\n",
      "[iter_attack.py:215 -     iterative_attack() ] Test_idx: 15 Test pred (top): [[0.5752122  0.42478785]]\n",
      "[iter_attack.py:215 -     iterative_attack() ] Test_idx: 32 Test pred (top): [[0.99797744 0.00202253]]\n",
      "[iter_attack.py:215 -     iterative_attack() ] Test_idx: 6 Test pred (top): [[1.6345583e-04 9.9983656e-01]]\n",
      "[iter_attack.py:147 -     iterative_attack() ] *** Iter: 70\n"
     ]
    },
    {
     "name": "stdout",
     "output_type": "stream",
     "text": [
      "Total number of parameters: 2048\n"
     ]
    },
    {
     "name": "stderr",
     "output_type": "stream",
     "text": [
      "[iter_attack.py:169 -     iterative_attack() ] Attach_iter 70 perturbation shape: (1, 268203), perturbation: [[ 0.10406505  0.03301868  0.07425855 ...  0.07362065  0.06163453\n",
      "  -0.06755318]]\n"
     ]
    },
    {
     "name": "stdout",
     "output_type": "stream",
     "text": [
      "Warning: Desired error not necessarily achieved due to precision loss.\n",
      "         Current function value: -391.488037\n",
      "         Iterations: 11\n",
      "         Function evaluations: 150\n",
      "         Gradient evaluations: 147\n",
      "         Hessian evaluations: 74\n",
      "Inverse HVP took 3.98594307899 sec\n",
      "Loaded inverse HVP from output/poisoning_900_300_inception_wd-0.001-test-[15, 32, 6].npz\n",
      "Inverse HVP took 0.000524997711182 sec\n",
      "Entering the for loop\n",
      "(1, 268203)\n",
      "Loaded inverse HVP from output/poisoning_900_300_inception_wd-0.001-test-[15, 32, 6].npz\n",
      "Inverse HVP took 0.000608921051025 sec\n",
      "Entering the for loop\n"
     ]
    },
    {
     "name": "stderr",
     "output_type": "stream",
     "text": [
      "[iter_attack.py:169 -     iterative_attack() ] Attach_iter 70 perturbation shape: (1, 268203), perturbation: [[-0.01328339 -0.00066751 -0.00230983 ... -0.02655032  0.02886809\n",
      "  -0.00339802]]\n"
     ]
    },
    {
     "name": "stdout",
     "output_type": "stream",
     "text": [
      "(1, 268203)\n",
      "2 2\n",
      "Shape (2, 2048)\n",
      "Using normal model\n"
     ]
    },
    {
     "name": "stderr",
     "output_type": "stream",
     "text": [
      "[genericNeuralNet.py:328 -     print_model_eval() ] Train loss (w reg) on all data: 0.01338476\n",
      "[genericNeuralNet.py:329 -     print_model_eval() ] Train loss (w/o reg) on all data: 0.0044810027\n",
      "[genericNeuralNet.py:331 -     print_model_eval() ] Test loss (w/o reg) on all data: 0.04622848\n",
      "[genericNeuralNet.py:332 -     print_model_eval() ] Train acc on all data:  1.0\n",
      "[genericNeuralNet.py:333 -     print_model_eval() ] Test acc on all data:   0.9816666666666667\n",
      "[genericNeuralNet.py:335 -     print_model_eval() ] Norm of the mean of gradients: 0.0047864434\n",
      "[genericNeuralNet.py:336 -     print_model_eval() ] Norm of the params: 4.219895\n",
      "[iter_attack.py:209 -     iterative_attack() ] Test_idx: 15 Test pred (full): [[0.5694056 0.4305943]]\n",
      "[iter_attack.py:209 -     iterative_attack() ] Test_idx: 32 Test pred (full): [[0.9980685  0.00193147]]\n"
     ]
    },
    {
     "name": "stdout",
     "output_type": "stream",
     "text": [
      "LBFGS training took [36] iter.\n",
      "After training with LBFGS: \n"
     ]
    },
    {
     "name": "stderr",
     "output_type": "stream",
     "text": [
      "[iter_attack.py:209 -     iterative_attack() ] Test_idx: 6 Test pred (full): [[1.5530206e-04 9.9984467e-01]]\n",
      "[iter_attack.py:210 -     iterative_attack() ] ---------------------\n",
      "[iter_attack.py:215 -     iterative_attack() ] Test_idx: 15 Test pred (top): [[0.5694056 0.4305943]]\n",
      "[iter_attack.py:215 -     iterative_attack() ] Test_idx: 32 Test pred (top): [[0.9980685  0.00193147]]\n",
      "[iter_attack.py:215 -     iterative_attack() ] Test_idx: 6 Test pred (top): [[1.5530206e-04 9.9984467e-01]]\n",
      "[iter_attack.py:147 -     iterative_attack() ] *** Iter: 71\n"
     ]
    },
    {
     "name": "stdout",
     "output_type": "stream",
     "text": [
      "Total number of parameters: 2048\n"
     ]
    },
    {
     "name": "stderr",
     "output_type": "stream",
     "text": [
      "[iter_attack.py:169 -     iterative_attack() ] Attach_iter 71 perturbation shape: (1, 268203), perturbation: [[-0.00948815  0.07672305  0.05625398 ...  0.00651937 -0.14069527\n",
      "   0.12829262]]\n"
     ]
    },
    {
     "name": "stdout",
     "output_type": "stream",
     "text": [
      "Warning: Desired error not necessarily achieved due to precision loss.\n",
      "         Current function value: -402.049622\n",
      "         Iterations: 9\n",
      "         Function evaluations: 80\n",
      "         Gradient evaluations: 77\n",
      "         Hessian evaluations: 61\n",
      "Inverse HVP took 2.32270312309 sec\n",
      "Loaded inverse HVP from output/poisoning_900_300_inception_wd-0.001-test-[15, 32, 6].npz\n",
      "Inverse HVP took 0.000525951385498 sec\n",
      "Entering the for loop\n",
      "(1, 268203)\n",
      "Loaded inverse HVP from output/poisoning_900_300_inception_wd-0.001-test-[15, 32, 6].npz\n",
      "Inverse HVP took 0.000600099563599 sec\n",
      "Entering the for loop\n"
     ]
    },
    {
     "name": "stderr",
     "output_type": "stream",
     "text": [
      "[iter_attack.py:169 -     iterative_attack() ] Attach_iter 71 perturbation shape: (1, 268203), perturbation: [[-0.01661374 -0.00333991 -0.00375461 ...  0.0032321   0.00163561\n",
      "  -0.01180494]]\n"
     ]
    },
    {
     "name": "stdout",
     "output_type": "stream",
     "text": [
      "(1, 268203)\n",
      "2 2\n",
      "Shape (2, 2048)\n",
      "Using normal model\n"
     ]
    },
    {
     "name": "stderr",
     "output_type": "stream",
     "text": [
      "[genericNeuralNet.py:328 -     print_model_eval() ] Train loss (w reg) on all data: 0.013415962\n",
      "[genericNeuralNet.py:329 -     print_model_eval() ] Train loss (w/o reg) on all data: 0.0044963737\n",
      "[genericNeuralNet.py:331 -     print_model_eval() ] Test loss (w/o reg) on all data: 0.046597946\n",
      "[genericNeuralNet.py:332 -     print_model_eval() ] Train acc on all data:  1.0\n",
      "[genericNeuralNet.py:333 -     print_model_eval() ] Test acc on all data:   0.9816666666666667\n",
      "[genericNeuralNet.py:335 -     print_model_eval() ] Norm of the mean of gradients: 0.004938227\n",
      "[genericNeuralNet.py:336 -     print_model_eval() ] Norm of the params: 4.2236447\n",
      "[iter_attack.py:209 -     iterative_attack() ] Test_idx: 15 Test pred (full): [[0.5624693  0.43753073]]\n",
      "[iter_attack.py:209 -     iterative_attack() ] Test_idx: 32 Test pred (full): [[0.99799854 0.00200143]]\n"
     ]
    },
    {
     "name": "stdout",
     "output_type": "stream",
     "text": [
      "LBFGS training took [37] iter.\n",
      "After training with LBFGS: \n"
     ]
    },
    {
     "name": "stderr",
     "output_type": "stream",
     "text": [
      "[iter_attack.py:209 -     iterative_attack() ] Test_idx: 6 Test pred (full): [[1.6053219e-04 9.9983943e-01]]\n",
      "[iter_attack.py:210 -     iterative_attack() ] ---------------------\n",
      "[iter_attack.py:215 -     iterative_attack() ] Test_idx: 15 Test pred (top): [[0.5624693  0.43753073]]\n",
      "[iter_attack.py:215 -     iterative_attack() ] Test_idx: 32 Test pred (top): [[0.99799854 0.00200143]]\n",
      "[iter_attack.py:215 -     iterative_attack() ] Test_idx: 6 Test pred (top): [[1.6053219e-04 9.9983943e-01]]\n",
      "[iter_attack.py:147 -     iterative_attack() ] *** Iter: 72\n"
     ]
    },
    {
     "name": "stdout",
     "output_type": "stream",
     "text": [
      "Total number of parameters: 2048\n"
     ]
    },
    {
     "name": "stderr",
     "output_type": "stream",
     "text": [
      "[iter_attack.py:169 -     iterative_attack() ] Attach_iter 72 perturbation shape: (1, 268203), perturbation: [[ 0.19355343  0.02433129 -0.01380565 ...  0.03990945  0.03704823\n",
      "  -0.0011474 ]]\n"
     ]
    },
    {
     "name": "stdout",
     "output_type": "stream",
     "text": [
      "Warning: Desired error not necessarily achieved due to precision loss.\n",
      "         Current function value: -414.632355\n",
      "         Iterations: 10\n",
      "         Function evaluations: 124\n",
      "         Gradient evaluations: 119\n",
      "         Hessian evaluations: 70\n",
      "Inverse HVP took 3.35409879684 sec\n",
      "Loaded inverse HVP from output/poisoning_900_300_inception_wd-0.001-test-[15, 32, 6].npz\n",
      "Inverse HVP took 0.000523090362549 sec\n",
      "Entering the for loop\n",
      "(1, 268203)\n",
      "Loaded inverse HVP from output/poisoning_900_300_inception_wd-0.001-test-[15, 32, 6].npz\n",
      "Inverse HVP took 0.000656127929688 sec\n",
      "Entering the for loop\n"
     ]
    },
    {
     "name": "stderr",
     "output_type": "stream",
     "text": [
      "[iter_attack.py:169 -     iterative_attack() ] Attach_iter 72 perturbation shape: (1, 268203), perturbation: [[-0.01452304 -0.00268276 -0.0070304  ... -0.02125662  0.02469015\n",
      "  -0.01485533]]\n"
     ]
    },
    {
     "name": "stdout",
     "output_type": "stream",
     "text": [
      "(1, 268203)\n",
      "2 2\n",
      "Shape (2, 2048)\n",
      "Using normal model\n"
     ]
    },
    {
     "name": "stderr",
     "output_type": "stream",
     "text": [
      "[genericNeuralNet.py:328 -     print_model_eval() ] Train loss (w reg) on all data: 0.013401836\n",
      "[genericNeuralNet.py:329 -     print_model_eval() ] Train loss (w/o reg) on all data: 0.0044884747\n",
      "[genericNeuralNet.py:331 -     print_model_eval() ] Test loss (w/o reg) on all data: 0.046278972\n",
      "[genericNeuralNet.py:332 -     print_model_eval() ] Train acc on all data:  1.0\n",
      "[genericNeuralNet.py:333 -     print_model_eval() ] Test acc on all data:   0.9816666666666667\n",
      "[genericNeuralNet.py:335 -     print_model_eval() ] Norm of the mean of gradients: 0.004732395\n",
      "[genericNeuralNet.py:336 -     print_model_eval() ] Norm of the params: 4.222171\n",
      "[iter_attack.py:209 -     iterative_attack() ] Test_idx: 15 Test pred (full): [[0.5566167  0.44338322]]\n",
      "[iter_attack.py:209 -     iterative_attack() ] Test_idx: 32 Test pred (full): [[0.9981042  0.00189581]]\n"
     ]
    },
    {
     "name": "stdout",
     "output_type": "stream",
     "text": [
      "LBFGS training took [38] iter.\n",
      "After training with LBFGS: \n"
     ]
    },
    {
     "name": "stderr",
     "output_type": "stream",
     "text": [
      "[iter_attack.py:209 -     iterative_attack() ] Test_idx: 6 Test pred (full): [[1.5104409e-04 9.9984896e-01]]\n",
      "[iter_attack.py:210 -     iterative_attack() ] ---------------------\n",
      "[iter_attack.py:215 -     iterative_attack() ] Test_idx: 15 Test pred (top): [[0.5566167  0.44338322]]\n",
      "[iter_attack.py:215 -     iterative_attack() ] Test_idx: 32 Test pred (top): [[0.9981042  0.00189581]]\n",
      "[iter_attack.py:215 -     iterative_attack() ] Test_idx: 6 Test pred (top): [[1.5104409e-04 9.9984896e-01]]\n",
      "[iter_attack.py:147 -     iterative_attack() ] *** Iter: 73\n"
     ]
    },
    {
     "name": "stdout",
     "output_type": "stream",
     "text": [
      "Total number of parameters: 2048\n"
     ]
    },
    {
     "name": "stderr",
     "output_type": "stream",
     "text": [
      "[iter_attack.py:169 -     iterative_attack() ] Attach_iter 73 perturbation shape: (1, 268203), perturbation: [[-0.24500883  0.06664337  0.26126233 ... -0.02728982 -0.13861328\n",
      "   0.09576795]]\n"
     ]
    },
    {
     "name": "stdout",
     "output_type": "stream",
     "text": [
      "Warning: Desired error not necessarily achieved due to precision loss.\n",
      "         Current function value: -425.625519\n",
      "         Iterations: 9\n",
      "         Function evaluations: 92\n",
      "         Gradient evaluations: 89\n",
      "         Hessian evaluations: 61\n",
      "Inverse HVP took 2.64107203484 sec\n",
      "Loaded inverse HVP from output/poisoning_900_300_inception_wd-0.001-test-[15, 32, 6].npz\n",
      "Inverse HVP took 0.000576972961426 sec\n",
      "Entering the for loop\n",
      "(1, 268203)\n",
      "Loaded inverse HVP from output/poisoning_900_300_inception_wd-0.001-test-[15, 32, 6].npz\n",
      "Inverse HVP took 0.000603914260864 sec\n",
      "Entering the for loop\n"
     ]
    },
    {
     "name": "stderr",
     "output_type": "stream",
     "text": [
      "[iter_attack.py:169 -     iterative_attack() ] Attach_iter 73 perturbation shape: (1, 268203), perturbation: [[-0.01997462 -0.00235159 -0.00724091 ... -0.00429527  0.0069341\n",
      "  -0.00743293]]\n"
     ]
    },
    {
     "name": "stdout",
     "output_type": "stream",
     "text": [
      "(1, 268203)\n",
      "2 2\n",
      "Shape (2, 2048)\n",
      "Using normal model\n"
     ]
    },
    {
     "name": "stderr",
     "output_type": "stream",
     "text": [
      "[genericNeuralNet.py:328 -     print_model_eval() ] Train loss (w reg) on all data: 0.013440402\n",
      "[genericNeuralNet.py:329 -     print_model_eval() ] Train loss (w/o reg) on all data: 0.0045053987\n",
      "[genericNeuralNet.py:331 -     print_model_eval() ] Test loss (w/o reg) on all data: 0.04645891\n",
      "[genericNeuralNet.py:332 -     print_model_eval() ] Train acc on all data:  1.0\n",
      "[genericNeuralNet.py:333 -     print_model_eval() ] Test acc on all data:   0.9816666666666667\n",
      "[genericNeuralNet.py:335 -     print_model_eval() ] Norm of the mean of gradients: 0.0049333526\n",
      "[genericNeuralNet.py:336 -     print_model_eval() ] Norm of the params: 4.227293\n",
      "[iter_attack.py:209 -     iterative_attack() ] Test_idx: 15 Test pred (full): [[0.5498389  0.45016116]]\n",
      "[iter_attack.py:209 -     iterative_attack() ] Test_idx: 32 Test pred (full): [[0.99800164 0.0019984 ]]\n"
     ]
    },
    {
     "name": "stdout",
     "output_type": "stream",
     "text": [
      "LBFGS training took [43] iter.\n",
      "After training with LBFGS: \n"
     ]
    },
    {
     "name": "stderr",
     "output_type": "stream",
     "text": [
      "[iter_attack.py:209 -     iterative_attack() ] Test_idx: 6 Test pred (full): [[1.6097256e-04 9.9983895e-01]]\n",
      "[iter_attack.py:210 -     iterative_attack() ] ---------------------\n",
      "[iter_attack.py:215 -     iterative_attack() ] Test_idx: 15 Test pred (top): [[0.5498389  0.45016116]]\n",
      "[iter_attack.py:215 -     iterative_attack() ] Test_idx: 32 Test pred (top): [[0.99800164 0.0019984 ]]\n",
      "[iter_attack.py:215 -     iterative_attack() ] Test_idx: 6 Test pred (top): [[1.6097256e-04 9.9983895e-01]]\n",
      "[iter_attack.py:147 -     iterative_attack() ] *** Iter: 74\n"
     ]
    },
    {
     "name": "stdout",
     "output_type": "stream",
     "text": [
      "Total number of parameters: 2048\n"
     ]
    },
    {
     "name": "stderr",
     "output_type": "stream",
     "text": [
      "[iter_attack.py:169 -     iterative_attack() ] Attach_iter 74 perturbation shape: (1, 268203), perturbation: [[ 0.28472149  0.19332413  0.00925967 ... -0.0234007   0.05351868\n",
      "  -0.02176872]]\n"
     ]
    },
    {
     "name": "stdout",
     "output_type": "stream",
     "text": [
      "Warning: Desired error not necessarily achieved due to precision loss.\n",
      "         Current function value: -438.283691\n",
      "         Iterations: 11\n",
      "         Function evaluations: 156\n",
      "         Gradient evaluations: 152\n",
      "         Hessian evaluations: 82\n",
      "Inverse HVP took 4.22538113594 sec\n",
      "Loaded inverse HVP from output/poisoning_900_300_inception_wd-0.001-test-[15, 32, 6].npz\n",
      "Inverse HVP took 0.000519037246704 sec\n",
      "Entering the for loop\n",
      "(1, 268203)\n",
      "Loaded inverse HVP from output/poisoning_900_300_inception_wd-0.001-test-[15, 32, 6].npz\n",
      "Inverse HVP took 0.000599145889282 sec\n",
      "Entering the for loop\n"
     ]
    },
    {
     "name": "stderr",
     "output_type": "stream",
     "text": [
      "[iter_attack.py:169 -     iterative_attack() ] Attach_iter 74 perturbation shape: (1, 268203), perturbation: [[-0.01878791 -0.00168167 -0.00612297 ... -0.0354886   0.0248166\n",
      "   0.00183715]]\n"
     ]
    },
    {
     "name": "stdout",
     "output_type": "stream",
     "text": [
      "(1, 268203)\n",
      "2 2\n",
      "Shape (2, 2048)\n",
      "Using normal model\n"
     ]
    },
    {
     "name": "stderr",
     "output_type": "stream",
     "text": [
      "[genericNeuralNet.py:328 -     print_model_eval() ] Train loss (w reg) on all data: 0.013429835\n",
      "[genericNeuralNet.py:329 -     print_model_eval() ] Train loss (w/o reg) on all data: 0.004500427\n",
      "[genericNeuralNet.py:331 -     print_model_eval() ] Test loss (w/o reg) on all data: 0.046289112\n",
      "[genericNeuralNet.py:332 -     print_model_eval() ] Train acc on all data:  1.0\n",
      "[genericNeuralNet.py:333 -     print_model_eval() ] Test acc on all data:   0.9816666666666667\n",
      "[genericNeuralNet.py:335 -     print_model_eval() ] Norm of the mean of gradients: 0.004729394\n",
      "[genericNeuralNet.py:336 -     print_model_eval() ] Norm of the params: 4.225969\n",
      "[iter_attack.py:209 -     iterative_attack() ] Test_idx: 15 Test pred (full): [[0.5425516  0.45744842]]\n",
      "[iter_attack.py:209 -     iterative_attack() ] Test_idx: 32 Test pred (full): [[0.9981008 0.0018992]]\n"
     ]
    },
    {
     "name": "stdout",
     "output_type": "stream",
     "text": [
      "LBFGS training took [50] iter.\n",
      "After training with LBFGS: \n"
     ]
    },
    {
     "name": "stderr",
     "output_type": "stream",
     "text": [
      "[iter_attack.py:209 -     iterative_attack() ] Test_idx: 6 Test pred (full): [[1.5017798e-04 9.9984980e-01]]\n",
      "[iter_attack.py:210 -     iterative_attack() ] ---------------------\n",
      "[iter_attack.py:215 -     iterative_attack() ] Test_idx: 15 Test pred (top): [[0.5425516  0.45744842]]\n",
      "[iter_attack.py:215 -     iterative_attack() ] Test_idx: 32 Test pred (top): [[0.9981008 0.0018992]]\n",
      "[iter_attack.py:215 -     iterative_attack() ] Test_idx: 6 Test pred (top): [[1.5017798e-04 9.9984980e-01]]\n",
      "[iter_attack.py:147 -     iterative_attack() ] *** Iter: 75\n"
     ]
    },
    {
     "name": "stdout",
     "output_type": "stream",
     "text": [
      "Total number of parameters: 2048\n"
     ]
    },
    {
     "name": "stderr",
     "output_type": "stream",
     "text": [
      "[iter_attack.py:169 -     iterative_attack() ] Attach_iter 75 perturbation shape: (1, 268203), perturbation: [[-0.22508892  0.08172689  0.23612829 ...  0.05834144 -0.16974057\n",
      "   0.09180954]]\n"
     ]
    },
    {
     "name": "stdout",
     "output_type": "stream",
     "text": [
      "Warning: Desired error not necessarily achieved due to precision loss.\n",
      "         Current function value: -452.318359\n",
      "         Iterations: 9\n",
      "         Function evaluations: 95\n",
      "         Gradient evaluations: 92\n",
      "         Hessian evaluations: 47\n",
      "Inverse HVP took 2.54532790184 sec\n",
      "Loaded inverse HVP from output/poisoning_900_300_inception_wd-0.001-test-[15, 32, 6].npz\n",
      "Inverse HVP took 0.000566959381104 sec\n",
      "Entering the for loop\n",
      "(1, 268203)\n",
      "Loaded inverse HVP from output/poisoning_900_300_inception_wd-0.001-test-[15, 32, 6].npz\n",
      "Inverse HVP took 0.000603914260864 sec\n",
      "Entering the for loop\n"
     ]
    },
    {
     "name": "stderr",
     "output_type": "stream",
     "text": [
      "[iter_attack.py:169 -     iterative_attack() ] Attach_iter 75 perturbation shape: (1, 268203), perturbation: [[-0.02186237 -0.01059018 -0.00754064 ...  0.00373085 -0.00311133\n",
      "  -0.00631409]]\n"
     ]
    },
    {
     "name": "stdout",
     "output_type": "stream",
     "text": [
      "(1, 268203)\n",
      "2 2\n",
      "Shape (2, 2048)\n",
      "Using normal model\n"
     ]
    },
    {
     "name": "stderr",
     "output_type": "stream",
     "text": [
      "[genericNeuralNet.py:328 -     print_model_eval() ] Train loss (w reg) on all data: 0.013463507\n",
      "[genericNeuralNet.py:329 -     print_model_eval() ] Train loss (w/o reg) on all data: 0.0045148544\n",
      "[genericNeuralNet.py:331 -     print_model_eval() ] Test loss (w/o reg) on all data: 0.04638561\n",
      "[genericNeuralNet.py:332 -     print_model_eval() ] Train acc on all data:  1.0\n",
      "[genericNeuralNet.py:333 -     print_model_eval() ] Test acc on all data:   0.9816666666666667\n",
      "[genericNeuralNet.py:335 -     print_model_eval() ] Norm of the mean of gradients: 0.004913302\n",
      "[genericNeuralNet.py:336 -     print_model_eval() ] Norm of the params: 4.2305207\n",
      "[iter_attack.py:209 -     iterative_attack() ] Test_idx: 15 Test pred (full): [[0.53642696 0.46357307]]\n",
      "[iter_attack.py:209 -     iterative_attack() ] Test_idx: 32 Test pred (full): [[0.9979912  0.00200883]]\n"
     ]
    },
    {
     "name": "stdout",
     "output_type": "stream",
     "text": [
      "LBFGS training took [44] iter.\n",
      "After training with LBFGS: \n"
     ]
    },
    {
     "name": "stderr",
     "output_type": "stream",
     "text": [
      "[iter_attack.py:209 -     iterative_attack() ] Test_idx: 6 Test pred (full): [[1.6001976e-04 9.9983990e-01]]\n",
      "[iter_attack.py:210 -     iterative_attack() ] ---------------------\n",
      "[iter_attack.py:215 -     iterative_attack() ] Test_idx: 15 Test pred (top): [[0.53642696 0.46357307]]\n",
      "[iter_attack.py:215 -     iterative_attack() ] Test_idx: 32 Test pred (top): [[0.9979912  0.00200883]]\n",
      "[iter_attack.py:215 -     iterative_attack() ] Test_idx: 6 Test pred (top): [[1.6001976e-04 9.9983990e-01]]\n",
      "[iter_attack.py:147 -     iterative_attack() ] *** Iter: 76\n"
     ]
    },
    {
     "name": "stdout",
     "output_type": "stream",
     "text": [
      "Total number of parameters: 2048\n"
     ]
    },
    {
     "name": "stderr",
     "output_type": "stream",
     "text": [
      "[iter_attack.py:169 -     iterative_attack() ] Attach_iter 76 perturbation shape: (1, 268203), perturbation: [[ 0.30059779  0.16280583  0.01339082 ... -0.01988528  0.03688267\n",
      "   0.01374233]]\n"
     ]
    },
    {
     "name": "stdout",
     "output_type": "stream",
     "text": [
      "Warning: Desired error not necessarily achieved due to precision loss.\n",
      "         Current function value: -464.126465\n",
      "         Iterations: 9\n",
      "         Function evaluations: 93\n",
      "         Gradient evaluations: 90\n",
      "         Hessian evaluations: 59\n",
      "Inverse HVP took 2.61936593056 sec\n",
      "Loaded inverse HVP from output/poisoning_900_300_inception_wd-0.001-test-[15, 32, 6].npz\n",
      "Inverse HVP took 0.000530958175659 sec\n",
      "Entering the for loop\n",
      "(1, 268203)\n",
      "Loaded inverse HVP from output/poisoning_900_300_inception_wd-0.001-test-[15, 32, 6].npz\n",
      "Inverse HVP took 0.000715970993042 sec\n",
      "Entering the for loop\n"
     ]
    },
    {
     "name": "stderr",
     "output_type": "stream",
     "text": [
      "[iter_attack.py:169 -     iterative_attack() ] Attach_iter 76 perturbation shape: (1, 268203), perturbation: [[-0.01555467  0.00024219 -0.00214894 ...  0.00130535  0.02616744\n",
      "  -0.02494331]]\n"
     ]
    },
    {
     "name": "stdout",
     "output_type": "stream",
     "text": [
      "(1, 268203)\n",
      "2 2\n",
      "Shape (2, 2048)\n",
      "Using normal model\n"
     ]
    },
    {
     "name": "stderr",
     "output_type": "stream",
     "text": [
      "[genericNeuralNet.py:328 -     print_model_eval() ] Train loss (w reg) on all data: 0.013455782\n",
      "[genericNeuralNet.py:329 -     print_model_eval() ] Train loss (w/o reg) on all data: 0.0045105796\n",
      "[genericNeuralNet.py:331 -     print_model_eval() ] Test loss (w/o reg) on all data: 0.046375662\n",
      "[genericNeuralNet.py:332 -     print_model_eval() ] Train acc on all data:  1.0\n",
      "[genericNeuralNet.py:333 -     print_model_eval() ] Test acc on all data:   0.9816666666666667\n",
      "[genericNeuralNet.py:335 -     print_model_eval() ] Norm of the mean of gradients: 0.00475346\n",
      "[genericNeuralNet.py:336 -     print_model_eval() ] Norm of the params: 4.2297053\n",
      "[iter_attack.py:209 -     iterative_attack() ] Test_idx: 15 Test pred (full): [[0.52934414 0.47065583]]\n",
      "[iter_attack.py:209 -     iterative_attack() ] Test_idx: 32 Test pred (full): [[0.9981129  0.00188711]]\n"
     ]
    },
    {
     "name": "stdout",
     "output_type": "stream",
     "text": [
      "LBFGS training took [37] iter.\n",
      "After training with LBFGS: \n"
     ]
    },
    {
     "name": "stderr",
     "output_type": "stream",
     "text": [
      "[iter_attack.py:209 -     iterative_attack() ] Test_idx: 6 Test pred (full): [[1.4937250e-04 9.9985063e-01]]\n",
      "[iter_attack.py:210 -     iterative_attack() ] ---------------------\n",
      "[iter_attack.py:215 -     iterative_attack() ] Test_idx: 15 Test pred (top): [[0.52934414 0.47065583]]\n",
      "[iter_attack.py:215 -     iterative_attack() ] Test_idx: 32 Test pred (top): [[0.9981129  0.00188711]]\n",
      "[iter_attack.py:215 -     iterative_attack() ] Test_idx: 6 Test pred (top): [[1.4937250e-04 9.9985063e-01]]\n",
      "[iter_attack.py:147 -     iterative_attack() ] *** Iter: 77\n"
     ]
    },
    {
     "name": "stdout",
     "output_type": "stream",
     "text": [
      "Total number of parameters: 2048\n"
     ]
    },
    {
     "name": "stderr",
     "output_type": "stream",
     "text": [
      "[iter_attack.py:169 -     iterative_attack() ] Attach_iter 77 perturbation shape: (1, 268203), perturbation: [[-0.28399324  0.10640489  0.29648378 ...  0.02387423 -0.16825554\n",
      "   0.08763045]]\n"
     ]
    },
    {
     "name": "stdout",
     "output_type": "stream",
     "text": [
      "Warning: Desired error not necessarily achieved due to precision loss.\n",
      "         Current function value: -477.968506\n",
      "         Iterations: 10\n",
      "         Function evaluations: 100\n",
      "         Gradient evaluations: 98\n",
      "         Hessian evaluations: 68\n",
      "Inverse HVP took 2.8563079834 sec\n",
      "Loaded inverse HVP from output/poisoning_900_300_inception_wd-0.001-test-[15, 32, 6].npz\n",
      "Inverse HVP took 0.000527858734131 sec\n",
      "Entering the for loop\n",
      "(1, 268203)\n",
      "Loaded inverse HVP from output/poisoning_900_300_inception_wd-0.001-test-[15, 32, 6].npz\n",
      "Inverse HVP took 0.000710010528564 sec\n",
      "Entering the for loop\n"
     ]
    },
    {
     "name": "stderr",
     "output_type": "stream",
     "text": [
      "[iter_attack.py:169 -     iterative_attack() ] Attach_iter 77 perturbation shape: (1, 268203), perturbation: [[-0.02979153 -0.01326703 -0.00833059 ... -0.01545129 -0.00189014\n",
      "   0.01675275]]\n"
     ]
    },
    {
     "name": "stdout",
     "output_type": "stream",
     "text": [
      "(1, 268203)\n",
      "2 2\n",
      "Shape (2, 2048)\n",
      "Using normal model\n"
     ]
    },
    {
     "name": "stderr",
     "output_type": "stream",
     "text": [
      "[genericNeuralNet.py:328 -     print_model_eval() ] Train loss (w reg) on all data: 0.013485978\n",
      "[genericNeuralNet.py:329 -     print_model_eval() ] Train loss (w/o reg) on all data: 0.0045239506\n",
      "[genericNeuralNet.py:331 -     print_model_eval() ] Test loss (w/o reg) on all data: 0.046283104\n",
      "[genericNeuralNet.py:332 -     print_model_eval() ] Train acc on all data:  1.0\n",
      "[genericNeuralNet.py:333 -     print_model_eval() ] Test acc on all data:   0.9816666666666667\n",
      "[genericNeuralNet.py:335 -     print_model_eval() ] Norm of the mean of gradients: 0.004910446\n",
      "[genericNeuralNet.py:336 -     print_model_eval() ] Norm of the params: 4.2336802\n",
      "[iter_attack.py:209 -     iterative_attack() ] Test_idx: 15 Test pred (full): [[0.5241678 0.4758322]]\n",
      "[iter_attack.py:209 -     iterative_attack() ] Test_idx: 32 Test pred (full): [[0.99799466 0.00200531]]\n"
     ]
    },
    {
     "name": "stdout",
     "output_type": "stream",
     "text": [
      "LBFGS training took [43] iter.\n",
      "After training with LBFGS: \n"
     ]
    },
    {
     "name": "stderr",
     "output_type": "stream",
     "text": [
      "[iter_attack.py:209 -     iterative_attack() ] Test_idx: 6 Test pred (full): [[1.5918170e-04 9.9984074e-01]]\n",
      "[iter_attack.py:210 -     iterative_attack() ] ---------------------\n",
      "[iter_attack.py:215 -     iterative_attack() ] Test_idx: 15 Test pred (top): [[0.5241678 0.4758322]]\n",
      "[iter_attack.py:215 -     iterative_attack() ] Test_idx: 32 Test pred (top): [[0.99799466 0.00200531]]\n",
      "[iter_attack.py:215 -     iterative_attack() ] Test_idx: 6 Test pred (top): [[1.5918170e-04 9.9984074e-01]]\n",
      "[iter_attack.py:147 -     iterative_attack() ] *** Iter: 78\n"
     ]
    },
    {
     "name": "stdout",
     "output_type": "stream",
     "text": [
      "Total number of parameters: 2048\n"
     ]
    },
    {
     "name": "stderr",
     "output_type": "stream",
     "text": [
      "[iter_attack.py:169 -     iterative_attack() ] Attach_iter 78 perturbation shape: (1, 268203), perturbation: [[ 0.33635092  0.14935341 -0.02065544 ...  0.07697318  0.0470292\n",
      "   0.01043239]]\n"
     ]
    },
    {
     "name": "stdout",
     "output_type": "stream",
     "text": [
      "Warning: Desired error not necessarily achieved due to precision loss.\n",
      "         Current function value: -488.162811\n",
      "         Iterations: 8\n",
      "         Function evaluations: 80\n",
      "         Gradient evaluations: 76\n",
      "         Hessian evaluations: 47\n",
      "Inverse HVP took 2.17813897133 sec\n",
      "Loaded inverse HVP from output/poisoning_900_300_inception_wd-0.001-test-[15, 32, 6].npz\n",
      "Inverse HVP took 0.000514984130859 sec\n",
      "Entering the for loop\n",
      "(1, 268203)\n",
      "Loaded inverse HVP from output/poisoning_900_300_inception_wd-0.001-test-[15, 32, 6].npz\n",
      "Inverse HVP took 0.000624179840088 sec\n",
      "Entering the for loop\n"
     ]
    },
    {
     "name": "stderr",
     "output_type": "stream",
     "text": [
      "[iter_attack.py:169 -     iterative_attack() ] Attach_iter 78 perturbation shape: (1, 268203), perturbation: [[-0.02078065 -0.00556668 -0.00969511 ...  0.01725763  0.02279764\n",
      "  -0.05013376]]\n"
     ]
    },
    {
     "name": "stdout",
     "output_type": "stream",
     "text": [
      "(1, 268203)\n",
      "2 2\n",
      "Shape (2, 2048)\n",
      "Using normal model\n"
     ]
    },
    {
     "name": "stderr",
     "output_type": "stream",
     "text": [
      "[genericNeuralNet.py:328 -     print_model_eval() ] Train loss (w reg) on all data: 0.0134787\n",
      "[genericNeuralNet.py:329 -     print_model_eval() ] Train loss (w/o reg) on all data: 0.004519916\n",
      "[genericNeuralNet.py:331 -     print_model_eval() ] Test loss (w/o reg) on all data: 0.04648509\n",
      "[genericNeuralNet.py:332 -     print_model_eval() ] Train acc on all data:  1.0\n",
      "[genericNeuralNet.py:333 -     print_model_eval() ] Test acc on all data:   0.9816666666666667\n",
      "[genericNeuralNet.py:335 -     print_model_eval() ] Norm of the mean of gradients: 0.0047433856\n",
      "[genericNeuralNet.py:336 -     print_model_eval() ] Norm of the params: 4.232914\n",
      "[iter_attack.py:209 -     iterative_attack() ] Test_idx: 15 Test pred (full): [[0.5171616 0.4828384]]\n",
      "[iter_attack.py:209 -     iterative_attack() ] Test_idx: 32 Test pred (full): [[0.99813855 0.00186145]]\n"
     ]
    },
    {
     "name": "stdout",
     "output_type": "stream",
     "text": [
      "LBFGS training took [43] iter.\n",
      "After training with LBFGS: \n"
     ]
    },
    {
     "name": "stderr",
     "output_type": "stream",
     "text": [
      "[iter_attack.py:209 -     iterative_attack() ] Test_idx: 6 Test pred (full): [[1.4851228e-04 9.9985147e-01]]\n",
      "[iter_attack.py:210 -     iterative_attack() ] ---------------------\n",
      "[iter_attack.py:215 -     iterative_attack() ] Test_idx: 15 Test pred (top): [[0.5171616 0.4828384]]\n",
      "[iter_attack.py:215 -     iterative_attack() ] Test_idx: 32 Test pred (top): [[0.99813855 0.00186145]]\n",
      "[iter_attack.py:215 -     iterative_attack() ] Test_idx: 6 Test pred (top): [[1.4851228e-04 9.9985147e-01]]\n",
      "[iter_attack.py:147 -     iterative_attack() ] *** Iter: 79\n"
     ]
    },
    {
     "name": "stdout",
     "output_type": "stream",
     "text": [
      "Total number of parameters: 2048\n"
     ]
    },
    {
     "name": "stderr",
     "output_type": "stream",
     "text": [
      "[iter_attack.py:169 -     iterative_attack() ] Attach_iter 79 perturbation shape: (1, 268203), perturbation: [[-0.1724758   0.16186215  0.29583505 ... -0.07540984 -0.13576555\n",
      "   0.09026057]]\n"
     ]
    },
    {
     "name": "stdout",
     "output_type": "stream",
     "text": [
      "Warning: Desired error not necessarily achieved due to precision loss.\n",
      "         Current function value: -502.381378\n",
      "         Iterations: 10\n",
      "         Function evaluations: 75\n",
      "         Gradient evaluations: 74\n",
      "         Hessian evaluations: 65\n",
      "Inverse HVP took 2.32037305832 sec\n",
      "Loaded inverse HVP from output/poisoning_900_300_inception_wd-0.001-test-[15, 32, 6].npz\n",
      "Inverse HVP took 0.000532150268555 sec\n",
      "Entering the for loop\n",
      "(1, 268203)\n",
      "Loaded inverse HVP from output/poisoning_900_300_inception_wd-0.001-test-[15, 32, 6].npz\n",
      "Inverse HVP took 0.000712871551514 sec\n",
      "Entering the for loop\n"
     ]
    },
    {
     "name": "stderr",
     "output_type": "stream",
     "text": [
      "[iter_attack.py:169 -     iterative_attack() ] Attach_iter 79 perturbation shape: (1, 268203), perturbation: [[-0.02306486 -0.01466574 -0.00902606 ...  0.00856768  0.0090709\n",
      "   0.00585221]]\n"
     ]
    },
    {
     "name": "stdout",
     "output_type": "stream",
     "text": [
      "(1, 268203)\n",
      "2 2\n",
      "Shape (2, 2048)\n",
      "Using normal model\n"
     ]
    },
    {
     "name": "stderr",
     "output_type": "stream",
     "text": [
      "[genericNeuralNet.py:328 -     print_model_eval() ] Train loss (w reg) on all data: 0.013508336\n",
      "[genericNeuralNet.py:329 -     print_model_eval() ] Train loss (w/o reg) on all data: 0.004533653\n",
      "[genericNeuralNet.py:331 -     print_model_eval() ] Test loss (w/o reg) on all data: 0.046210423\n",
      "[genericNeuralNet.py:332 -     print_model_eval() ] Train acc on all data:  1.0\n",
      "[genericNeuralNet.py:333 -     print_model_eval() ] Test acc on all data:   0.9816666666666667\n",
      "[genericNeuralNet.py:335 -     print_model_eval() ] Norm of the mean of gradients: 0.004909672\n",
      "[genericNeuralNet.py:336 -     print_model_eval() ] Norm of the params: 4.236669\n",
      "[iter_attack.py:209 -     iterative_attack() ] Test_idx: 15 Test pred (full): [[0.51254725 0.48745275]]\n",
      "[iter_attack.py:209 -     iterative_attack() ] Test_idx: 32 Test pred (full): [[0.99799204 0.002008  ]]\n"
     ]
    },
    {
     "name": "stdout",
     "output_type": "stream",
     "text": [
      "LBFGS training took [39] iter.\n",
      "After training with LBFGS: \n"
     ]
    },
    {
     "name": "stderr",
     "output_type": "stream",
     "text": [
      "[iter_attack.py:209 -     iterative_attack() ] Test_idx: 6 Test pred (full): [[1.5961486e-04 9.9984038e-01]]\n",
      "[iter_attack.py:210 -     iterative_attack() ] ---------------------\n",
      "[iter_attack.py:215 -     iterative_attack() ] Test_idx: 15 Test pred (top): [[0.51254725 0.48745275]]\n",
      "[iter_attack.py:215 -     iterative_attack() ] Test_idx: 32 Test pred (top): [[0.99799204 0.002008  ]]\n",
      "[iter_attack.py:215 -     iterative_attack() ] Test_idx: 6 Test pred (top): [[1.5961486e-04 9.9984038e-01]]\n",
      "[iter_attack.py:147 -     iterative_attack() ] *** Iter: 80\n"
     ]
    },
    {
     "name": "stdout",
     "output_type": "stream",
     "text": [
      "Total number of parameters: 2048\n"
     ]
    },
    {
     "name": "stderr",
     "output_type": "stream",
     "text": [
      "[iter_attack.py:169 -     iterative_attack() ] Attach_iter 80 perturbation shape: (1, 268203), perturbation: [[ 0.20291679  0.13603608  0.1312743  ...  0.11127416 -0.04026884\n",
      "   0.06143174]]\n"
     ]
    },
    {
     "name": "stdout",
     "output_type": "stream",
     "text": [
      "Warning: Desired error not necessarily achieved due to precision loss.\n",
      "         Current function value: -511.361511\n",
      "         Iterations: 9\n",
      "         Function evaluations: 67\n",
      "         Gradient evaluations: 65\n",
      "         Hessian evaluations: 55\n",
      "Inverse HVP took 2.00310587883 sec\n",
      "Loaded inverse HVP from output/poisoning_900_300_inception_wd-0.001-test-[15, 32, 6].npz\n",
      "Inverse HVP took 0.000537157058716 sec\n",
      "Entering the for loop\n",
      "(1, 268203)\n",
      "Loaded inverse HVP from output/poisoning_900_300_inception_wd-0.001-test-[15, 32, 6].npz\n",
      "Inverse HVP took 0.000715017318726 sec\n",
      "Entering the for loop\n"
     ]
    },
    {
     "name": "stderr",
     "output_type": "stream",
     "text": [
      "[iter_attack.py:169 -     iterative_attack() ] Attach_iter 80 perturbation shape: (1, 268203), perturbation: [[-0.02955825 -0.01270344 -0.01539581 ... -0.00400544  0.02305295\n",
      "  -0.04575145]]\n"
     ]
    },
    {
     "name": "stdout",
     "output_type": "stream",
     "text": [
      "(1, 268203)\n",
      "2 2\n",
      "Shape (2, 2048)\n",
      "Using normal model\n"
     ]
    },
    {
     "name": "stderr",
     "output_type": "stream",
     "text": [
      "[genericNeuralNet.py:328 -     print_model_eval() ] Train loss (w reg) on all data: 0.013499391\n",
      "[genericNeuralNet.py:329 -     print_model_eval() ] Train loss (w/o reg) on all data: 0.0045283865\n",
      "[genericNeuralNet.py:331 -     print_model_eval() ] Test loss (w/o reg) on all data: 0.046415705\n",
      "[genericNeuralNet.py:332 -     print_model_eval() ] Train acc on all data:  1.0\n",
      "[genericNeuralNet.py:333 -     print_model_eval() ] Test acc on all data:   0.9816666666666667\n",
      "[genericNeuralNet.py:335 -     print_model_eval() ] Norm of the mean of gradients: 0.004742087\n",
      "[genericNeuralNet.py:336 -     print_model_eval() ] Norm of the params: 4.235801\n",
      "[iter_attack.py:209 -     iterative_attack() ] Test_idx: 15 Test pred (full): [[0.5059676 0.4940324]]\n",
      "[iter_attack.py:209 -     iterative_attack() ] Test_idx: 32 Test pred (full): [[0.99815565 0.00184432]]\n"
     ]
    },
    {
     "name": "stdout",
     "output_type": "stream",
     "text": [
      "LBFGS training took [37] iter.\n",
      "After training with LBFGS: \n"
     ]
    },
    {
     "name": "stderr",
     "output_type": "stream",
     "text": [
      "[iter_attack.py:209 -     iterative_attack() ] Test_idx: 6 Test pred (full): [[1.4894085e-04 9.9985099e-01]]\n",
      "[iter_attack.py:210 -     iterative_attack() ] ---------------------\n",
      "[iter_attack.py:215 -     iterative_attack() ] Test_idx: 15 Test pred (top): [[0.5059676 0.4940324]]\n",
      "[iter_attack.py:215 -     iterative_attack() ] Test_idx: 32 Test pred (top): [[0.99815565 0.00184432]]\n",
      "[iter_attack.py:215 -     iterative_attack() ] Test_idx: 6 Test pred (top): [[1.4894085e-04 9.9985099e-01]]\n",
      "[iter_attack.py:147 -     iterative_attack() ] *** Iter: 81\n"
     ]
    },
    {
     "name": "stdout",
     "output_type": "stream",
     "text": [
      "Total number of parameters: 2048\n"
     ]
    },
    {
     "name": "stderr",
     "output_type": "stream",
     "text": [
      "[iter_attack.py:169 -     iterative_attack() ] Attach_iter 81 perturbation shape: (1, 268203), perturbation: [[-0.07289156  0.14286804  0.18533342 ... -0.05887762 -0.19290911\n",
      "   0.14610848]]\n"
     ]
    },
    {
     "name": "stdout",
     "output_type": "stream",
     "text": [
      "Warning: Desired error not necessarily achieved due to precision loss.\n",
      "         Current function value: -525.166382\n",
      "         Iterations: 8\n",
      "         Function evaluations: 90\n",
      "         Gradient evaluations: 88\n",
      "         Hessian evaluations: 43\n",
      "Inverse HVP took 2.39103603363 sec\n",
      "Loaded inverse HVP from output/poisoning_900_300_inception_wd-0.001-test-[15, 32, 6].npz\n",
      "Inverse HVP took 0.000535011291504 sec\n",
      "Entering the for loop\n",
      "(1, 268203)\n",
      "Loaded inverse HVP from output/poisoning_900_300_inception_wd-0.001-test-[15, 32, 6].npz\n",
      "Inverse HVP took 0.000730037689209 sec\n",
      "Entering the for loop\n"
     ]
    },
    {
     "name": "stderr",
     "output_type": "stream",
     "text": [
      "[iter_attack.py:169 -     iterative_attack() ] Attach_iter 81 perturbation shape: (1, 268203), perturbation: [[-0.01950201 -0.01038622 -0.00105614 ...  0.00617183  0.02633839\n",
      "   0.01222471]]\n"
     ]
    },
    {
     "name": "stdout",
     "output_type": "stream",
     "text": [
      "(1, 268203)\n",
      "2 2\n",
      "Shape (2, 2048)\n",
      "Using normal model\n"
     ]
    },
    {
     "name": "stderr",
     "output_type": "stream",
     "text": [
      "[genericNeuralNet.py:328 -     print_model_eval() ] Train loss (w reg) on all data: 0.01353158\n",
      "[genericNeuralNet.py:329 -     print_model_eval() ] Train loss (w/o reg) on all data: 0.0045424774\n",
      "[genericNeuralNet.py:331 -     print_model_eval() ] Test loss (w/o reg) on all data: 0.046224676\n",
      "[genericNeuralNet.py:332 -     print_model_eval() ] Train acc on all data:  1.0\n",
      "[genericNeuralNet.py:333 -     print_model_eval() ] Test acc on all data:   0.9816666666666667\n",
      "[genericNeuralNet.py:335 -     print_model_eval() ] Norm of the mean of gradients: 0.004899313\n",
      "[genericNeuralNet.py:336 -     print_model_eval() ] Norm of the params: 4.2400713\n",
      "[iter_attack.py:209 -     iterative_attack() ] Test_idx: 15 Test pred (full): [[0.501799   0.49820098]]\n",
      "[iter_attack.py:209 -     iterative_attack() ] Test_idx: 32 Test pred (full): [[0.998026   0.00197396]]\n",
      "[iter_attack.py:209 -     iterative_attack() ] Test_idx: 6 Test pred (full): [[1.5935436e-04 9.9984062e-01]]\n"
     ]
    },
    {
     "name": "stdout",
     "output_type": "stream",
     "text": [
      "LBFGS training took [56] iter.\n",
      "After training with LBFGS: \n"
     ]
    },
    {
     "name": "stderr",
     "output_type": "stream",
     "text": [
      "[iter_attack.py:210 -     iterative_attack() ] ---------------------\n",
      "[iter_attack.py:215 -     iterative_attack() ] Test_idx: 15 Test pred (top): [[0.501799   0.49820098]]\n",
      "[iter_attack.py:215 -     iterative_attack() ] Test_idx: 32 Test pred (top): [[0.998026   0.00197396]]\n",
      "[iter_attack.py:215 -     iterative_attack() ] Test_idx: 6 Test pred (top): [[1.5935436e-04 9.9984062e-01]]\n",
      "[iter_attack.py:147 -     iterative_attack() ] *** Iter: 82\n"
     ]
    },
    {
     "name": "stdout",
     "output_type": "stream",
     "text": [
      "Total number of parameters: 2048\n"
     ]
    },
    {
     "name": "stderr",
     "output_type": "stream",
     "text": [
      "[iter_attack.py:169 -     iterative_attack() ] Attach_iter 82 perturbation shape: (1, 268203), perturbation: [[ 0.17491703  0.09216538  0.09429544 ...  0.03816409 -0.00020713\n",
      "   0.00365021]]\n"
     ]
    },
    {
     "name": "stdout",
     "output_type": "stream",
     "text": [
      "Warning: Desired error not necessarily achieved due to precision loss.\n",
      "         Current function value: -533.510010\n",
      "         Iterations: 10\n",
      "         Function evaluations: 171\n",
      "         Gradient evaluations: 168\n",
      "         Hessian evaluations: 65\n",
      "Inverse HVP took 4.32175302505 sec\n",
      "Loaded inverse HVP from output/poisoning_900_300_inception_wd-0.001-test-[15, 32, 6].npz\n",
      "Inverse HVP took 0.000535011291504 sec\n",
      "Entering the for loop\n",
      "(1, 268203)\n",
      "Loaded inverse HVP from output/poisoning_900_300_inception_wd-0.001-test-[15, 32, 6].npz\n",
      "Inverse HVP took 0.000721216201782 sec\n",
      "Entering the for loop\n"
     ]
    },
    {
     "name": "stderr",
     "output_type": "stream",
     "text": [
      "[iter_attack.py:169 -     iterative_attack() ] Attach_iter 82 perturbation shape: (1, 268203), perturbation: [[-0.02955282 -0.01299644 -0.00620014 ... -0.00323801  0.01685241\n",
      "  -0.04153892]]\n"
     ]
    },
    {
     "name": "stdout",
     "output_type": "stream",
     "text": [
      "(1, 268203)\n",
      "2 2\n",
      "Shape (2, 2048)\n",
      "Using normal model\n"
     ]
    },
    {
     "name": "stderr",
     "output_type": "stream",
     "text": [
      "[genericNeuralNet.py:328 -     print_model_eval() ] Train loss (w reg) on all data: 0.013519197\n",
      "[genericNeuralNet.py:329 -     print_model_eval() ] Train loss (w/o reg) on all data: 0.004536908\n",
      "[genericNeuralNet.py:331 -     print_model_eval() ] Test loss (w/o reg) on all data: 0.04645329\n",
      "[genericNeuralNet.py:332 -     print_model_eval() ] Train acc on all data:  1.0\n",
      "[genericNeuralNet.py:333 -     print_model_eval() ] Test acc on all data:   0.98\n",
      "[genericNeuralNet.py:335 -     print_model_eval() ] Norm of the mean of gradients: 0.0047631334\n",
      "[genericNeuralNet.py:336 -     print_model_eval() ] Norm of the params: 4.2384634\n",
      "[iter_attack.py:209 -     iterative_attack() ] Test_idx: 15 Test pred (full): [[0.49524367 0.5047563 ]]\n",
      "[iter_attack.py:209 -     iterative_attack() ] Test_idx: 32 Test pred (full): [[0.9981641  0.00183592]]\n"
     ]
    },
    {
     "name": "stdout",
     "output_type": "stream",
     "text": [
      "LBFGS training took [47] iter.\n",
      "After training with LBFGS: \n"
     ]
    },
    {
     "name": "stderr",
     "output_type": "stream",
     "text": [
      "[iter_attack.py:209 -     iterative_attack() ] Test_idx: 6 Test pred (full): [[1.475644e-04 9.998524e-01]]\n",
      "[iter_attack.py:210 -     iterative_attack() ] ---------------------\n",
      "[iter_attack.py:215 -     iterative_attack() ] Test_idx: 15 Test pred (top): [[0.49524367 0.5047563 ]]\n",
      "[iter_attack.py:215 -     iterative_attack() ] Test_idx: 32 Test pred (top): [[0.9981641  0.00183592]]\n",
      "[iter_attack.py:215 -     iterative_attack() ] Test_idx: 6 Test pred (top): [[1.475644e-04 9.998524e-01]]\n",
      "[iter_attack.py:147 -     iterative_attack() ] *** Iter: 83\n"
     ]
    },
    {
     "name": "stdout",
     "output_type": "stream",
     "text": [
      "Total number of parameters: 2048\n"
     ]
    },
    {
     "name": "stderr",
     "output_type": "stream",
     "text": [
      "[iter_attack.py:169 -     iterative_attack() ] Attach_iter 83 perturbation shape: (1, 268203), perturbation: [[-0.08015686  0.18246821  0.23489058 ... -0.10767542 -0.15234374\n",
      "   0.15949497]]\n"
     ]
    },
    {
     "name": "stdout",
     "output_type": "stream",
     "text": [
      "Warning: Desired error not necessarily achieved due to precision loss.\n",
      "         Current function value: -547.429688\n",
      "         Iterations: 9\n",
      "         Function evaluations: 161\n",
      "         Gradient evaluations: 157\n",
      "         Hessian evaluations: 51\n",
      "Inverse HVP took 3.94313097 sec\n",
      "Loaded inverse HVP from output/poisoning_900_300_inception_wd-0.001-test-[15, 32, 6].npz\n",
      "Inverse HVP took 0.000590801239014 sec\n",
      "Entering the for loop\n",
      "(1, 268203)\n",
      "Loaded inverse HVP from output/poisoning_900_300_inception_wd-0.001-test-[15, 32, 6].npz\n",
      "Inverse HVP took 0.000732898712158 sec\n",
      "Entering the for loop\n"
     ]
    },
    {
     "name": "stderr",
     "output_type": "stream",
     "text": [
      "[iter_attack.py:169 -     iterative_attack() ] Attach_iter 83 perturbation shape: (1, 268203), perturbation: [[-0.02838497 -0.01754506 -0.01643488 ...  0.00567582  0.01885143\n",
      "   0.00977608]]\n"
     ]
    },
    {
     "name": "stdout",
     "output_type": "stream",
     "text": [
      "(1, 268203)\n",
      "2 2\n",
      "Shape (2, 2048)\n",
      "Using normal model\n"
     ]
    },
    {
     "name": "stderr",
     "output_type": "stream",
     "text": [
      "[genericNeuralNet.py:328 -     print_model_eval() ] Train loss (w reg) on all data: 0.013553394\n",
      "[genericNeuralNet.py:329 -     print_model_eval() ] Train loss (w/o reg) on all data: 0.004550849\n",
      "[genericNeuralNet.py:331 -     print_model_eval() ] Test loss (w/o reg) on all data: 0.04621509\n",
      "[genericNeuralNet.py:332 -     print_model_eval() ] Train acc on all data:  1.0\n",
      "[genericNeuralNet.py:333 -     print_model_eval() ] Test acc on all data:   0.98\n",
      "[genericNeuralNet.py:335 -     print_model_eval() ] Norm of the mean of gradients: 0.004890832\n",
      "[genericNeuralNet.py:336 -     print_model_eval() ] Norm of the params: 4.24324\n",
      "[iter_attack.py:209 -     iterative_attack() ] Test_idx: 15 Test pred (full): [[0.49094635 0.5090537 ]]\n",
      "[iter_attack.py:209 -     iterative_attack() ] Test_idx: 32 Test pred (full): [[0.9980453  0.00195464]]\n"
     ]
    },
    {
     "name": "stdout",
     "output_type": "stream",
     "text": [
      "LBFGS training took [45] iter.\n",
      "After training with LBFGS: \n"
     ]
    },
    {
     "name": "stderr",
     "output_type": "stream",
     "text": [
      "[iter_attack.py:209 -     iterative_attack() ] Test_idx: 6 Test pred (full): [[1.5937853e-04 9.9984062e-01]]\n",
      "[iter_attack.py:210 -     iterative_attack() ] ---------------------\n",
      "[iter_attack.py:215 -     iterative_attack() ] Test_idx: 15 Test pred (top): [[0.49094635 0.5090537 ]]\n",
      "[iter_attack.py:215 -     iterative_attack() ] Test_idx: 32 Test pred (top): [[0.9980453  0.00195464]]\n",
      "[iter_attack.py:215 -     iterative_attack() ] Test_idx: 6 Test pred (top): [[1.5937853e-04 9.9984062e-01]]\n",
      "[iter_attack.py:147 -     iterative_attack() ] *** Iter: 84\n"
     ]
    },
    {
     "name": "stdout",
     "output_type": "stream",
     "text": [
      "Total number of parameters: 2048\n"
     ]
    },
    {
     "name": "stderr",
     "output_type": "stream",
     "text": [
      "[iter_attack.py:169 -     iterative_attack() ] Attach_iter 84 perturbation shape: (1, 268203), perturbation: [[ 0.12564383  0.00152324 -0.00309233 ...  0.1275142  -0.02476251\n",
      "  -0.02934171]]\n"
     ]
    },
    {
     "name": "stdout",
     "output_type": "stream",
     "text": [
      "Warning: Desired error not necessarily achieved due to precision loss.\n",
      "         Current function value: -556.618164\n",
      "         Iterations: 8\n",
      "         Function evaluations: 84\n",
      "         Gradient evaluations: 80\n",
      "         Hessian evaluations: 44\n",
      "Inverse HVP took 2.28432512283 sec\n",
      "Loaded inverse HVP from output/poisoning_900_300_inception_wd-0.001-test-[15, 32, 6].npz\n",
      "Inverse HVP took 0.000532865524292 sec\n",
      "Entering the for loop\n",
      "(1, 268203)\n",
      "Loaded inverse HVP from output/poisoning_900_300_inception_wd-0.001-test-[15, 32, 6].npz\n",
      "Inverse HVP took 0.000602006912231 sec\n",
      "Entering the for loop\n"
     ]
    },
    {
     "name": "stderr",
     "output_type": "stream",
     "text": [
      "[iter_attack.py:169 -     iterative_attack() ] Attach_iter 84 perturbation shape: (1, 268203), perturbation: [[-0.04038513 -0.00944288 -0.0201929  ... -0.03221888  0.01852611\n",
      "  -0.01920141]]\n"
     ]
    },
    {
     "name": "stdout",
     "output_type": "stream",
     "text": [
      "(1, 268203)\n",
      "2 2\n",
      "Shape (2, 2048)\n",
      "Using normal model\n"
     ]
    },
    {
     "name": "stderr",
     "output_type": "stream",
     "text": [
      "[genericNeuralNet.py:328 -     print_model_eval() ] Train loss (w reg) on all data: 0.013541946\n",
      "[genericNeuralNet.py:329 -     print_model_eval() ] Train loss (w/o reg) on all data: 0.0045475187\n",
      "[genericNeuralNet.py:331 -     print_model_eval() ] Test loss (w/o reg) on all data: 0.04649853\n",
      "[genericNeuralNet.py:332 -     print_model_eval() ] Train acc on all data:  1.0\n",
      "[genericNeuralNet.py:333 -     print_model_eval() ] Test acc on all data:   0.98\n",
      "[genericNeuralNet.py:335 -     print_model_eval() ] Norm of the mean of gradients: 0.004754981\n",
      "[genericNeuralNet.py:336 -     print_model_eval() ] Norm of the params: 4.241327\n",
      "[iter_attack.py:209 -     iterative_attack() ] Test_idx: 15 Test pred (full): [[0.48417467 0.5158254 ]]\n",
      "[iter_attack.py:209 -     iterative_attack() ] Test_idx: 32 Test pred (full): [[0.9981639  0.00183611]]\n"
     ]
    },
    {
     "name": "stdout",
     "output_type": "stream",
     "text": [
      "LBFGS training took [33] iter.\n",
      "After training with LBFGS: \n"
     ]
    },
    {
     "name": "stderr",
     "output_type": "stream",
     "text": [
      "[iter_attack.py:209 -     iterative_attack() ] Test_idx: 6 Test pred (full): [[1.4812927e-04 9.9985182e-01]]\n",
      "[iter_attack.py:210 -     iterative_attack() ] ---------------------\n",
      "[iter_attack.py:215 -     iterative_attack() ] Test_idx: 15 Test pred (top): [[0.48417467 0.5158254 ]]\n",
      "[iter_attack.py:215 -     iterative_attack() ] Test_idx: 32 Test pred (top): [[0.9981639  0.00183611]]\n",
      "[iter_attack.py:215 -     iterative_attack() ] Test_idx: 6 Test pred (top): [[1.4812927e-04 9.9985182e-01]]\n",
      "[iter_attack.py:147 -     iterative_attack() ] *** Iter: 85\n"
     ]
    },
    {
     "name": "stdout",
     "output_type": "stream",
     "text": [
      "Total number of parameters: 2048\n"
     ]
    },
    {
     "name": "stderr",
     "output_type": "stream",
     "text": [
      "[iter_attack.py:169 -     iterative_attack() ] Attach_iter 85 perturbation shape: (1, 268203), perturbation: [[ 0.04785275  0.1453872   0.14763978 ... -0.11757278 -0.1596984\n",
      "   0.18314254]]\n"
     ]
    },
    {
     "name": "stdout",
     "output_type": "stream",
     "text": [
      "Warning: Desired error not necessarily achieved due to precision loss.\n",
      "         Current function value: -570.882385\n",
      "         Iterations: 10\n",
      "         Function evaluations: 149\n",
      "         Gradient evaluations: 145\n",
      "         Hessian evaluations: 58\n",
      "Inverse HVP took 3.79937005043 sec\n",
      "Loaded inverse HVP from output/poisoning_900_300_inception_wd-0.001-test-[15, 32, 6].npz\n",
      "Inverse HVP took 0.000524044036865 sec\n",
      "Entering the for loop\n",
      "(1, 268203)\n",
      "Loaded inverse HVP from output/poisoning_900_300_inception_wd-0.001-test-[15, 32, 6].npz\n",
      "Inverse HVP took 0.000598907470703 sec\n",
      "Entering the for loop\n"
     ]
    },
    {
     "name": "stderr",
     "output_type": "stream",
     "text": [
      "[iter_attack.py:169 -     iterative_attack() ] Attach_iter 85 perturbation shape: (1, 268203), perturbation: [[-0.03812821 -0.01448711 -0.01525407 ...  0.01268517  0.02708009\n",
      "   0.00705063]]\n"
     ]
    },
    {
     "name": "stdout",
     "output_type": "stream",
     "text": [
      "(1, 268203)\n",
      "2 2\n",
      "Shape (2, 2048)\n",
      "Using normal model\n"
     ]
    },
    {
     "name": "stderr",
     "output_type": "stream",
     "text": [
      "[genericNeuralNet.py:328 -     print_model_eval() ] Train loss (w reg) on all data: 0.013571985\n",
      "[genericNeuralNet.py:329 -     print_model_eval() ] Train loss (w/o reg) on all data: 0.0045583793\n",
      "[genericNeuralNet.py:331 -     print_model_eval() ] Test loss (w/o reg) on all data: 0.04612442\n",
      "[genericNeuralNet.py:332 -     print_model_eval() ] Train acc on all data:  1.0\n",
      "[genericNeuralNet.py:333 -     print_model_eval() ] Test acc on all data:   0.98\n",
      "[genericNeuralNet.py:335 -     print_model_eval() ] Norm of the mean of gradients: 0.0048753168\n",
      "[genericNeuralNet.py:336 -     print_model_eval() ] Norm of the params: 4.2458467\n",
      "[iter_attack.py:209 -     iterative_attack() ] Test_idx: 15 Test pred (full): [[0.47999737 0.52000266]]\n",
      "[iter_attack.py:209 -     iterative_attack() ] Test_idx: 32 Test pred (full): [[0.998083   0.00191701]]\n"
     ]
    },
    {
     "name": "stdout",
     "output_type": "stream",
     "text": [
      "LBFGS training took [39] iter.\n",
      "After training with LBFGS: \n"
     ]
    },
    {
     "name": "stderr",
     "output_type": "stream",
     "text": [
      "[iter_attack.py:209 -     iterative_attack() ] Test_idx: 6 Test pred (full): [[1.5633703e-04 9.9984360e-01]]\n",
      "[iter_attack.py:210 -     iterative_attack() ] ---------------------\n",
      "[iter_attack.py:215 -     iterative_attack() ] Test_idx: 15 Test pred (top): [[0.47999737 0.52000266]]\n",
      "[iter_attack.py:215 -     iterative_attack() ] Test_idx: 32 Test pred (top): [[0.998083   0.00191701]]\n",
      "[iter_attack.py:215 -     iterative_attack() ] Test_idx: 6 Test pred (top): [[1.5633703e-04 9.9984360e-01]]\n",
      "[iter_attack.py:147 -     iterative_attack() ] *** Iter: 86\n"
     ]
    },
    {
     "name": "stdout",
     "output_type": "stream",
     "text": [
      "Total number of parameters: 2048\n"
     ]
    },
    {
     "name": "stderr",
     "output_type": "stream",
     "text": [
      "[iter_attack.py:169 -     iterative_attack() ] Attach_iter 86 perturbation shape: (1, 268203), perturbation: [[ 0.0282743   0.01899832  0.10464966 ...  0.02971481  0.00974883\n",
      "  -0.08988447]]\n"
     ]
    },
    {
     "name": "stdout",
     "output_type": "stream",
     "text": [
      "Warning: Desired error not necessarily achieved due to precision loss.\n",
      "         Current function value: -580.063354\n",
      "         Iterations: 9\n",
      "         Function evaluations: 79\n",
      "         Gradient evaluations: 77\n",
      "         Hessian evaluations: 50\n",
      "Inverse HVP took 2.22092795372 sec\n",
      "Loaded inverse HVP from output/poisoning_900_300_inception_wd-0.001-test-[15, 32, 6].npz\n",
      "Inverse HVP took 0.000530958175659 sec\n",
      "Entering the for loop\n",
      "(1, 268203)\n",
      "Loaded inverse HVP from output/poisoning_900_300_inception_wd-0.001-test-[15, 32, 6].npz\n",
      "Inverse HVP took 0.000733137130737 sec\n",
      "Entering the for loop\n"
     ]
    },
    {
     "name": "stderr",
     "output_type": "stream",
     "text": [
      "[iter_attack.py:169 -     iterative_attack() ] Attach_iter 86 perturbation shape: (1, 268203), perturbation: [[-0.03892872 -0.00203168 -0.00898015 ...  0.00701066  0.01394776\n",
      "  -0.0454071 ]]\n"
     ]
    },
    {
     "name": "stdout",
     "output_type": "stream",
     "text": [
      "(1, 268203)\n",
      "2 2\n",
      "Shape (2, 2048)\n",
      "Using normal model\n"
     ]
    },
    {
     "name": "stderr",
     "output_type": "stream",
     "text": [
      "[genericNeuralNet.py:328 -     print_model_eval() ] Train loss (w reg) on all data: 0.013563782\n",
      "[genericNeuralNet.py:329 -     print_model_eval() ] Train loss (w/o reg) on all data: 0.0045564105\n",
      "[genericNeuralNet.py:331 -     print_model_eval() ] Test loss (w/o reg) on all data: 0.046470087\n",
      "[genericNeuralNet.py:332 -     print_model_eval() ] Train acc on all data:  1.0\n",
      "[genericNeuralNet.py:333 -     print_model_eval() ] Test acc on all data:   0.98\n",
      "[genericNeuralNet.py:335 -     print_model_eval() ] Norm of the mean of gradients: 0.004774901\n",
      "[genericNeuralNet.py:336 -     print_model_eval() ] Norm of the params: 4.244378\n",
      "[iter_attack.py:209 -     iterative_attack() ] Test_idx: 15 Test pred (full): [[0.47467256 0.5253275 ]]\n",
      "[iter_attack.py:209 -     iterative_attack() ] Test_idx: 32 Test pred (full): [[0.99813914 0.00186089]]\n"
     ]
    },
    {
     "name": "stdout",
     "output_type": "stream",
     "text": [
      "LBFGS training took [36] iter.\n",
      "After training with LBFGS: \n"
     ]
    },
    {
     "name": "stderr",
     "output_type": "stream",
     "text": [
      "[iter_attack.py:209 -     iterative_attack() ] Test_idx: 6 Test pred (full): [[1.4944373e-04 9.9985051e-01]]\n",
      "[iter_attack.py:210 -     iterative_attack() ] ---------------------\n",
      "[iter_attack.py:215 -     iterative_attack() ] Test_idx: 15 Test pred (top): [[0.47467256 0.5253275 ]]\n",
      "[iter_attack.py:215 -     iterative_attack() ] Test_idx: 32 Test pred (top): [[0.99813914 0.00186089]]\n",
      "[iter_attack.py:215 -     iterative_attack() ] Test_idx: 6 Test pred (top): [[1.4944373e-04 9.9985051e-01]]\n",
      "[iter_attack.py:147 -     iterative_attack() ] *** Iter: 87\n"
     ]
    },
    {
     "name": "stdout",
     "output_type": "stream",
     "text": [
      "Total number of parameters: 2048\n"
     ]
    },
    {
     "name": "stderr",
     "output_type": "stream",
     "text": [
      "[iter_attack.py:169 -     iterative_attack() ] Attach_iter 87 perturbation shape: (1, 268203), perturbation: [[ 0.04006392  0.12506793  0.15472439 ...  0.03132521 -0.10869827\n",
      "   0.12902805]]\n"
     ]
    },
    {
     "name": "stdout",
     "output_type": "stream",
     "text": [
      "Warning: Desired error not necessarily achieved due to precision loss.\n",
      "         Current function value: -591.413513\n",
      "         Iterations: 9\n",
      "         Function evaluations: 76\n",
      "         Gradient evaluations: 73\n",
      "         Hessian evaluations: 51\n",
      "Inverse HVP took 2.15526413918 sec\n",
      "Loaded inverse HVP from output/poisoning_900_300_inception_wd-0.001-test-[15, 32, 6].npz\n",
      "Inverse HVP took 0.000535011291504 sec\n",
      "Entering the for loop\n",
      "(1, 268203)\n",
      "Loaded inverse HVP from output/poisoning_900_300_inception_wd-0.001-test-[15, 32, 6].npz\n",
      "Inverse HVP took 0.000707864761353 sec\n",
      "Entering the for loop\n"
     ]
    },
    {
     "name": "stderr",
     "output_type": "stream",
     "text": [
      "[iter_attack.py:169 -     iterative_attack() ] Attach_iter 87 perturbation shape: (1, 268203), perturbation: [[-0.03427068 -0.01730459 -0.01467388 ... -0.01391503  0.02656472\n",
      "   0.0216503 ]]\n"
     ]
    },
    {
     "name": "stdout",
     "output_type": "stream",
     "text": [
      "(1, 268203)\n",
      "2 2\n",
      "Shape (2, 2048)\n",
      "Using normal model\n"
     ]
    },
    {
     "name": "stderr",
     "output_type": "stream",
     "text": [
      "[genericNeuralNet.py:328 -     print_model_eval() ] Train loss (w reg) on all data: 0.013587916\n",
      "[genericNeuralNet.py:329 -     print_model_eval() ] Train loss (w/o reg) on all data: 0.0045649316\n",
      "[genericNeuralNet.py:331 -     print_model_eval() ] Test loss (w/o reg) on all data: 0.046015974\n",
      "[genericNeuralNet.py:332 -     print_model_eval() ] Train acc on all data:  1.0\n",
      "[genericNeuralNet.py:333 -     print_model_eval() ] Test acc on all data:   0.98\n",
      "[genericNeuralNet.py:335 -     print_model_eval() ] Norm of the mean of gradients: 0.0048408955\n",
      "[genericNeuralNet.py:336 -     print_model_eval() ] Norm of the params: 4.2480545\n",
      "[iter_attack.py:209 -     iterative_attack() ] Test_idx: 15 Test pred (full): [[0.47074655 0.52925336]]\n",
      "[iter_attack.py:209 -     iterative_attack() ] Test_idx: 32 Test pred (full): [[0.9981317  0.00186835]]\n"
     ]
    },
    {
     "name": "stdout",
     "output_type": "stream",
     "text": [
      "LBFGS training took [36] iter.\n",
      "After training with LBFGS: \n"
     ]
    },
    {
     "name": "stderr",
     "output_type": "stream",
     "text": [
      "[iter_attack.py:209 -     iterative_attack() ] Test_idx: 6 Test pred (full): [[1.5476691e-04 9.9984527e-01]]\n",
      "[iter_attack.py:210 -     iterative_attack() ] ---------------------\n",
      "[iter_attack.py:215 -     iterative_attack() ] Test_idx: 15 Test pred (top): [[0.47074655 0.52925336]]\n",
      "[iter_attack.py:215 -     iterative_attack() ] Test_idx: 32 Test pred (top): [[0.9981317  0.00186835]]\n",
      "[iter_attack.py:215 -     iterative_attack() ] Test_idx: 6 Test pred (top): [[1.5476691e-04 9.9984527e-01]]\n",
      "[iter_attack.py:147 -     iterative_attack() ] *** Iter: 88\n"
     ]
    },
    {
     "name": "stdout",
     "output_type": "stream",
     "text": [
      "Total number of parameters: 2048\n"
     ]
    },
    {
     "name": "stderr",
     "output_type": "stream",
     "text": [
      "[iter_attack.py:169 -     iterative_attack() ] Attach_iter 88 perturbation shape: (1, 268203), perturbation: [[ 0.00333565 -0.06629899  0.01632553 ... -0.07419928  0.01035909\n",
      "  -0.09784234]]\n"
     ]
    },
    {
     "name": "stdout",
     "output_type": "stream",
     "text": [
      "Warning: Desired error not necessarily achieved due to precision loss.\n",
      "         Current function value: -600.229126\n",
      "         Iterations: 9\n",
      "         Function evaluations: 69\n",
      "         Gradient evaluations: 66\n",
      "         Hessian evaluations: 50\n",
      "Inverse HVP took 1.98281097412 sec\n",
      "Loaded inverse HVP from output/poisoning_900_300_inception_wd-0.001-test-[15, 32, 6].npz\n",
      "Inverse HVP took 0.000529050827026 sec\n",
      "Entering the for loop\n",
      "(1, 268203)\n",
      "Loaded inverse HVP from output/poisoning_900_300_inception_wd-0.001-test-[15, 32, 6].npz\n",
      "Inverse HVP took 0.000736951828003 sec\n",
      "Entering the for loop\n"
     ]
    },
    {
     "name": "stderr",
     "output_type": "stream",
     "text": [
      "[iter_attack.py:169 -     iterative_attack() ] Attach_iter 88 perturbation shape: (1, 268203), perturbation: [[-0.03200844  0.00651841 -0.00586145 ...  0.03898029  0.00562381\n",
      "  -0.06015331]]\n"
     ]
    },
    {
     "name": "stdout",
     "output_type": "stream",
     "text": [
      "(1, 268203)\n",
      "2 2\n",
      "Shape (2, 2048)\n",
      "Using normal model\n"
     ]
    },
    {
     "name": "stderr",
     "output_type": "stream",
     "text": [
      "[genericNeuralNet.py:328 -     print_model_eval() ] Train loss (w reg) on all data: 0.013580723\n",
      "[genericNeuralNet.py:329 -     print_model_eval() ] Train loss (w/o reg) on all data: 0.004563344\n",
      "[genericNeuralNet.py:331 -     print_model_eval() ] Test loss (w/o reg) on all data: 0.046453852\n",
      "[genericNeuralNet.py:332 -     print_model_eval() ] Train acc on all data:  1.0\n",
      "[genericNeuralNet.py:333 -     print_model_eval() ] Test acc on all data:   0.98\n",
      "[genericNeuralNet.py:335 -     print_model_eval() ] Norm of the mean of gradients: 0.0047940514\n",
      "[genericNeuralNet.py:336 -     print_model_eval() ] Norm of the params: 4.246735\n",
      "[iter_attack.py:209 -     iterative_attack() ] Test_idx: 15 Test pred (full): [[0.46633533 0.53366464]]\n",
      "[iter_attack.py:209 -     iterative_attack() ] Test_idx: 32 Test pred (full): [[0.9981437  0.00185636]]\n"
     ]
    },
    {
     "name": "stdout",
     "output_type": "stream",
     "text": [
      "LBFGS training took [19] iter.\n",
      "After training with LBFGS: \n"
     ]
    },
    {
     "name": "stderr",
     "output_type": "stream",
     "text": [
      "[iter_attack.py:209 -     iterative_attack() ] Test_idx: 6 Test pred (full): [[1.4979139e-04 9.9985015e-01]]\n",
      "[iter_attack.py:210 -     iterative_attack() ] ---------------------\n",
      "[iter_attack.py:215 -     iterative_attack() ] Test_idx: 15 Test pred (top): [[0.46633533 0.53366464]]\n",
      "[iter_attack.py:215 -     iterative_attack() ] Test_idx: 32 Test pred (top): [[0.9981437  0.00185636]]\n",
      "[iter_attack.py:215 -     iterative_attack() ] Test_idx: 6 Test pred (top): [[1.4979139e-04 9.9985015e-01]]\n",
      "[iter_attack.py:147 -     iterative_attack() ] *** Iter: 89\n"
     ]
    },
    {
     "name": "stdout",
     "output_type": "stream",
     "text": [
      "Total number of parameters: 2048\n"
     ]
    },
    {
     "name": "stderr",
     "output_type": "stream",
     "text": [
      "[iter_attack.py:169 -     iterative_attack() ] Attach_iter 89 perturbation shape: (1, 268203), perturbation: [[ 0.12394711  0.16250911  0.18978283 ...  0.13020052 -0.14516799\n",
      "   0.15365312]]\n"
     ]
    },
    {
     "name": "stdout",
     "output_type": "stream",
     "text": [
      "Warning: Desired error not necessarily achieved due to precision loss.\n",
      "         Current function value: -609.678162\n",
      "         Iterations: 10\n",
      "         Function evaluations: 90\n",
      "         Gradient evaluations: 88\n",
      "         Hessian evaluations: 64\n",
      "Inverse HVP took 2.60444903374 sec\n",
      "Loaded inverse HVP from output/poisoning_900_300_inception_wd-0.001-test-[15, 32, 6].npz\n",
      "Inverse HVP took 0.000534057617188 sec\n",
      "Entering the for loop\n",
      "(1, 268203)\n",
      "Loaded inverse HVP from output/poisoning_900_300_inception_wd-0.001-test-[15, 32, 6].npz\n",
      "Inverse HVP took 0.000739097595215 sec\n",
      "Entering the for loop\n"
     ]
    },
    {
     "name": "stderr",
     "output_type": "stream",
     "text": [
      "[iter_attack.py:169 -     iterative_attack() ] Attach_iter 89 perturbation shape: (1, 268203), perturbation: [[-0.03302585 -0.0215819  -0.00067477 ... -0.05363232  0.03834987\n",
      "   0.02305158]]\n"
     ]
    },
    {
     "name": "stdout",
     "output_type": "stream",
     "text": [
      "(1, 268203)\n",
      "2 2\n",
      "Shape (2, 2048)\n",
      "Using normal model\n"
     ]
    },
    {
     "name": "stderr",
     "output_type": "stream",
     "text": [
      "[genericNeuralNet.py:328 -     print_model_eval() ] Train loss (w reg) on all data: 0.013603751\n",
      "[genericNeuralNet.py:329 -     print_model_eval() ] Train loss (w/o reg) on all data: 0.004570632\n",
      "[genericNeuralNet.py:331 -     print_model_eval() ] Test loss (w/o reg) on all data: 0.04586623\n",
      "[genericNeuralNet.py:332 -     print_model_eval() ] Train acc on all data:  1.0\n",
      "[genericNeuralNet.py:333 -     print_model_eval() ] Test acc on all data:   0.98\n",
      "[genericNeuralNet.py:335 -     print_model_eval() ] Norm of the mean of gradients: 0.0048075463\n",
      "[genericNeuralNet.py:336 -     print_model_eval() ] Norm of the params: 4.2504396\n",
      "[iter_attack.py:209 -     iterative_attack() ] Test_idx: 15 Test pred (full): [[0.4619009 0.5380991]]\n",
      "[iter_attack.py:209 -     iterative_attack() ] Test_idx: 32 Test pred (full): [[0.9981402  0.00185982]]\n"
     ]
    },
    {
     "name": "stdout",
     "output_type": "stream",
     "text": [
      "LBFGS training took [24] iter.\n",
      "After training with LBFGS: \n"
     ]
    },
    {
     "name": "stderr",
     "output_type": "stream",
     "text": [
      "[iter_attack.py:209 -     iterative_attack() ] Test_idx: 6 Test pred (full): [[1.5354175e-04 9.9984646e-01]]\n",
      "[iter_attack.py:210 -     iterative_attack() ] ---------------------\n",
      "[iter_attack.py:215 -     iterative_attack() ] Test_idx: 15 Test pred (top): [[0.4619009 0.5380991]]\n",
      "[iter_attack.py:215 -     iterative_attack() ] Test_idx: 32 Test pred (top): [[0.9981402  0.00185982]]\n",
      "[iter_attack.py:215 -     iterative_attack() ] Test_idx: 6 Test pred (top): [[1.5354175e-04 9.9984646e-01]]\n",
      "[iter_attack.py:147 -     iterative_attack() ] *** Iter: 90\n"
     ]
    },
    {
     "name": "stdout",
     "output_type": "stream",
     "text": [
      "Total number of parameters: 2048\n"
     ]
    },
    {
     "name": "stderr",
     "output_type": "stream",
     "text": [
      "[iter_attack.py:169 -     iterative_attack() ] Attach_iter 90 perturbation shape: (1, 268203), perturbation: [[ 0.00078164  0.04410277  0.10714151 ... -0.10047433  0.00938296\n",
      "  -0.13321799]]\n"
     ]
    },
    {
     "name": "stdout",
     "output_type": "stream",
     "text": [
      "Warning: Desired error not necessarily achieved due to precision loss.\n",
      "         Current function value: -619.805420\n",
      "         Iterations: 11\n",
      "         Function evaluations: 84\n",
      "         Gradient evaluations: 83\n",
      "         Hessian evaluations: 75\n",
      "Inverse HVP took 2.57094788551 sec\n",
      "Loaded inverse HVP from output/poisoning_900_300_inception_wd-0.001-test-[15, 32, 6].npz\n",
      "Inverse HVP took 0.000519990921021 sec\n",
      "Entering the for loop\n",
      "(1, 268203)\n",
      "Loaded inverse HVP from output/poisoning_900_300_inception_wd-0.001-test-[15, 32, 6].npz\n",
      "Inverse HVP took 0.000600814819336 sec\n",
      "Entering the for loop\n"
     ]
    },
    {
     "name": "stderr",
     "output_type": "stream",
     "text": [
      "[iter_attack.py:169 -     iterative_attack() ] Attach_iter 90 perturbation shape: (1, 268203), perturbation: [[-0.03220492 -0.00350719 -0.00596602 ...  0.05054641 -0.00600783\n",
      "  -0.04491688]]\n"
     ]
    },
    {
     "name": "stdout",
     "output_type": "stream",
     "text": [
      "(1, 268203)\n",
      "2 2\n",
      "Shape (2, 2048)\n",
      "Using normal model\n"
     ]
    },
    {
     "name": "stderr",
     "output_type": "stream",
     "text": [
      "[genericNeuralNet.py:328 -     print_model_eval() ] Train loss (w reg) on all data: 0.013604589\n",
      "[genericNeuralNet.py:329 -     print_model_eval() ] Train loss (w/o reg) on all data: 0.004573423\n",
      "[genericNeuralNet.py:331 -     print_model_eval() ] Test loss (w/o reg) on all data: 0.04635924\n",
      "[genericNeuralNet.py:332 -     print_model_eval() ] Train acc on all data:  1.0\n",
      "[genericNeuralNet.py:333 -     print_model_eval() ] Test acc on all data:   0.98\n",
      "[genericNeuralNet.py:335 -     print_model_eval() ] Norm of the mean of gradients: 0.0047968295\n",
      "[genericNeuralNet.py:336 -     print_model_eval() ] Norm of the params: 4.249981\n",
      "[iter_attack.py:209 -     iterative_attack() ] Test_idx: 15 Test pred (full): [[0.45608538 0.5439146 ]]\n",
      "[iter_attack.py:209 -     iterative_attack() ] Test_idx: 32 Test pred (full): [[0.9981475  0.00185257]]\n"
     ]
    },
    {
     "name": "stdout",
     "output_type": "stream",
     "text": [
      "LBFGS training took [20] iter.\n",
      "After training with LBFGS: \n"
     ]
    },
    {
     "name": "stderr",
     "output_type": "stream",
     "text": [
      "[iter_attack.py:209 -     iterative_attack() ] Test_idx: 6 Test pred (full): [[1.5074296e-04 9.9984920e-01]]\n",
      "[iter_attack.py:210 -     iterative_attack() ] ---------------------\n",
      "[iter_attack.py:215 -     iterative_attack() ] Test_idx: 15 Test pred (top): [[0.45608538 0.5439146 ]]\n",
      "[iter_attack.py:215 -     iterative_attack() ] Test_idx: 32 Test pred (top): [[0.9981475  0.00185257]]\n",
      "[iter_attack.py:215 -     iterative_attack() ] Test_idx: 6 Test pred (top): [[1.5074296e-04 9.9984920e-01]]\n",
      "[iter_attack.py:147 -     iterative_attack() ] *** Iter: 91\n"
     ]
    },
    {
     "name": "stdout",
     "output_type": "stream",
     "text": [
      "Total number of parameters: 2048\n"
     ]
    },
    {
     "name": "stderr",
     "output_type": "stream",
     "text": [
      "[iter_attack.py:169 -     iterative_attack() ] Attach_iter 91 perturbation shape: (1, 268203), perturbation: [[ 0.05236443  0.09520603  0.07359116 ...  0.12290417 -0.16521305\n",
      "   0.17984158]]\n"
     ]
    },
    {
     "name": "stdout",
     "output_type": "stream",
     "text": [
      "Warning: Desired error not necessarily achieved due to precision loss.\n",
      "         Current function value: -632.755615\n",
      "         Iterations: 9\n",
      "         Function evaluations: 128\n",
      "         Gradient evaluations: 124\n",
      "         Hessian evaluations: 50\n",
      "Inverse HVP took 3.21502304077 sec\n",
      "Loaded inverse HVP from output/poisoning_900_300_inception_wd-0.001-test-[15, 32, 6].npz\n",
      "Inverse HVP took 0.000531911849976 sec\n",
      "Entering the for loop\n",
      "(1, 268203)\n",
      "Loaded inverse HVP from output/poisoning_900_300_inception_wd-0.001-test-[15, 32, 6].npz\n",
      "Inverse HVP took 0.000713109970093 sec\n",
      "Entering the for loop\n"
     ]
    },
    {
     "name": "stderr",
     "output_type": "stream",
     "text": [
      "[iter_attack.py:169 -     iterative_attack() ] Attach_iter 91 perturbation shape: (1, 268203), perturbation: [[-0.05099201 -0.01724647 -0.01550846 ... -0.03789745  0.04080559\n",
      "  -0.00106569]]\n"
     ]
    },
    {
     "name": "stdout",
     "output_type": "stream",
     "text": [
      "(1, 268203)\n",
      "2 2\n",
      "Shape (2, 2048)\n",
      "Using normal model\n"
     ]
    },
    {
     "name": "stderr",
     "output_type": "stream",
     "text": [
      "[genericNeuralNet.py:328 -     print_model_eval() ] Train loss (w reg) on all data: 0.013622023\n",
      "[genericNeuralNet.py:329 -     print_model_eval() ] Train loss (w/o reg) on all data: 0.0045783943\n",
      "[genericNeuralNet.py:331 -     print_model_eval() ] Test loss (w/o reg) on all data: 0.045781102\n",
      "[genericNeuralNet.py:332 -     print_model_eval() ] Train acc on all data:  1.0\n",
      "[genericNeuralNet.py:333 -     print_model_eval() ] Test acc on all data:   0.98\n",
      "[genericNeuralNet.py:335 -     print_model_eval() ] Norm of the mean of gradients: 0.004794344\n",
      "[genericNeuralNet.py:336 -     print_model_eval() ] Norm of the params: 4.252912\n",
      "[iter_attack.py:209 -     iterative_attack() ] Test_idx: 15 Test pred (full): [[0.45212457 0.5478754 ]]\n",
      "[iter_attack.py:209 -     iterative_attack() ] Test_idx: 32 Test pred (full): [[0.9981394  0.00186057]]\n"
     ]
    },
    {
     "name": "stdout",
     "output_type": "stream",
     "text": [
      "LBFGS training took [25] iter.\n",
      "After training with LBFGS: \n"
     ]
    },
    {
     "name": "stderr",
     "output_type": "stream",
     "text": [
      "[iter_attack.py:209 -     iterative_attack() ] Test_idx: 6 Test pred (full): [[1.5284849e-04 9.9984717e-01]]\n",
      "[iter_attack.py:210 -     iterative_attack() ] ---------------------\n",
      "[iter_attack.py:215 -     iterative_attack() ] Test_idx: 15 Test pred (top): [[0.45212457 0.5478754 ]]\n",
      "[iter_attack.py:215 -     iterative_attack() ] Test_idx: 32 Test pred (top): [[0.9981394  0.00186057]]\n",
      "[iter_attack.py:215 -     iterative_attack() ] Test_idx: 6 Test pred (top): [[1.5284849e-04 9.9984717e-01]]\n",
      "[iter_attack.py:147 -     iterative_attack() ] *** Iter: 92\n"
     ]
    },
    {
     "name": "stdout",
     "output_type": "stream",
     "text": [
      "Total number of parameters: 2048\n"
     ]
    },
    {
     "name": "stderr",
     "output_type": "stream",
     "text": [
      "[iter_attack.py:169 -     iterative_attack() ] Attach_iter 92 perturbation shape: (1, 268203), perturbation: [[-0.05878184  0.061964    0.1743031  ... -0.14137052 -0.05034624\n",
      "  -0.04580884]]\n"
     ]
    },
    {
     "name": "stdout",
     "output_type": "stream",
     "text": [
      "Warning: Desired error not necessarily achieved due to precision loss.\n",
      "         Current function value: -641.686584\n",
      "         Iterations: 9\n",
      "         Function evaluations: 152\n",
      "         Gradient evaluations: 149\n",
      "         Hessian evaluations: 56\n",
      "Inverse HVP took 3.84042716026 sec\n",
      "Loaded inverse HVP from output/poisoning_900_300_inception_wd-0.001-test-[15, 32, 6].npz\n",
      "Inverse HVP took 0.000541210174561 sec\n",
      "Entering the for loop\n",
      "(1, 268203)\n",
      "Loaded inverse HVP from output/poisoning_900_300_inception_wd-0.001-test-[15, 32, 6].npz\n",
      "Inverse HVP took 0.00076699256897 sec\n",
      "Entering the for loop\n"
     ]
    },
    {
     "name": "stderr",
     "output_type": "stream",
     "text": [
      "[iter_attack.py:169 -     iterative_attack() ] Attach_iter 92 perturbation shape: (1, 268203), perturbation: [[-0.04043373  0.00055284  0.0024441  ...  0.04891783 -0.02123978\n",
      "  -0.03059296]]\n"
     ]
    },
    {
     "name": "stdout",
     "output_type": "stream",
     "text": [
      "(1, 268203)\n",
      "2 2\n",
      "Shape (2, 2048)\n",
      "Using normal model\n"
     ]
    },
    {
     "name": "stderr",
     "output_type": "stream",
     "text": [
      "[genericNeuralNet.py:328 -     print_model_eval() ] Train loss (w reg) on all data: 0.0136253\n",
      "[genericNeuralNet.py:329 -     print_model_eval() ] Train loss (w/o reg) on all data: 0.0045820675\n",
      "[genericNeuralNet.py:331 -     print_model_eval() ] Test loss (w/o reg) on all data: 0.04633744\n",
      "[genericNeuralNet.py:332 -     print_model_eval() ] Train acc on all data:  1.0\n",
      "[genericNeuralNet.py:333 -     print_model_eval() ] Test acc on all data:   0.98\n",
      "[genericNeuralNet.py:335 -     print_model_eval() ] Norm of the mean of gradients: 0.0047797137\n",
      "[genericNeuralNet.py:336 -     print_model_eval() ] Norm of the params: 4.252818\n",
      "[iter_attack.py:209 -     iterative_attack() ] Test_idx: 15 Test pred (full): [[0.44571924 0.5542808 ]]\n",
      "[iter_attack.py:209 -     iterative_attack() ] Test_idx: 32 Test pred (full): [[0.99815315 0.00184681]]\n"
     ]
    },
    {
     "name": "stdout",
     "output_type": "stream",
     "text": [
      "LBFGS training took [36] iter.\n",
      "After training with LBFGS: \n"
     ]
    },
    {
     "name": "stderr",
     "output_type": "stream",
     "text": [
      "[iter_attack.py:209 -     iterative_attack() ] Test_idx: 6 Test pred (full): [[1.5084575e-04 9.9984908e-01]]\n",
      "[iter_attack.py:210 -     iterative_attack() ] ---------------------\n",
      "[iter_attack.py:215 -     iterative_attack() ] Test_idx: 15 Test pred (top): [[0.44571924 0.5542808 ]]\n",
      "[iter_attack.py:215 -     iterative_attack() ] Test_idx: 32 Test pred (top): [[0.99815315 0.00184681]]\n",
      "[iter_attack.py:215 -     iterative_attack() ] Test_idx: 6 Test pred (top): [[1.5084575e-04 9.9984908e-01]]\n",
      "[iter_attack.py:147 -     iterative_attack() ] *** Iter: 93\n"
     ]
    },
    {
     "name": "stdout",
     "output_type": "stream",
     "text": [
      "Total number of parameters: 2048\n"
     ]
    },
    {
     "name": "stderr",
     "output_type": "stream",
     "text": [
      "[iter_attack.py:169 -     iterative_attack() ] Attach_iter 93 perturbation shape: (1, 268203), perturbation: [[ 0.12069806  0.10114208  0.05627741 ...  0.27275676 -0.2280768\n",
      "   0.15541506]]\n"
     ]
    },
    {
     "name": "stdout",
     "output_type": "stream",
     "text": [
      "Warning: Desired error not necessarily achieved due to precision loss.\n",
      "         Current function value: -656.415039\n",
      "         Iterations: 8\n",
      "         Function evaluations: 90\n",
      "         Gradient evaluations: 86\n",
      "         Hessian evaluations: 43\n",
      "Inverse HVP took 2.37522411346 sec\n",
      "Loaded inverse HVP from output/poisoning_900_300_inception_wd-0.001-test-[15, 32, 6].npz\n",
      "Inverse HVP took 0.000519990921021 sec\n",
      "Entering the for loop\n",
      "(1, 268203)\n",
      "Loaded inverse HVP from output/poisoning_900_300_inception_wd-0.001-test-[15, 32, 6].npz\n",
      "Inverse HVP took 0.000597953796387 sec\n",
      "Entering the for loop\n"
     ]
    },
    {
     "name": "stderr",
     "output_type": "stream",
     "text": [
      "[iter_attack.py:169 -     iterative_attack() ] Attach_iter 93 perturbation shape: (1, 268203), perturbation: [[-0.05369698 -0.01798002 -0.01386545 ... -0.07699336  0.05640044\n",
      "   0.0144939 ]]\n"
     ]
    },
    {
     "name": "stdout",
     "output_type": "stream",
     "text": [
      "(1, 268203)\n",
      "2 2\n",
      "Shape (2, 2048)\n",
      "Using normal model\n"
     ]
    },
    {
     "name": "stderr",
     "output_type": "stream",
     "text": [
      "[genericNeuralNet.py:328 -     print_model_eval() ] Train loss (w reg) on all data: 0.013641892\n",
      "[genericNeuralNet.py:329 -     print_model_eval() ] Train loss (w/o reg) on all data: 0.0045874068\n",
      "[genericNeuralNet.py:331 -     print_model_eval() ] Test loss (w/o reg) on all data: 0.04580873\n",
      "[genericNeuralNet.py:332 -     print_model_eval() ] Train acc on all data:  1.0\n",
      "[genericNeuralNet.py:333 -     print_model_eval() ] Test acc on all data:   0.98\n",
      "[genericNeuralNet.py:335 -     print_model_eval() ] Norm of the mean of gradients: 0.004806522\n",
      "[genericNeuralNet.py:336 -     print_model_eval() ] Norm of the params: 4.255463\n",
      "[iter_attack.py:209 -     iterative_attack() ] Test_idx: 15 Test pred (full): [[0.44257894 0.5574211 ]]\n",
      "[iter_attack.py:209 -     iterative_attack() ] Test_idx: 32 Test pred (full): [[0.9981394  0.00186055]]\n"
     ]
    },
    {
     "name": "stdout",
     "output_type": "stream",
     "text": [
      "LBFGS training took [24] iter.\n",
      "After training with LBFGS: \n"
     ]
    },
    {
     "name": "stderr",
     "output_type": "stream",
     "text": [
      "[iter_attack.py:209 -     iterative_attack() ] Test_idx: 6 Test pred (full): [[1.5199766e-04 9.9984801e-01]]\n",
      "[iter_attack.py:210 -     iterative_attack() ] ---------------------\n",
      "[iter_attack.py:215 -     iterative_attack() ] Test_idx: 15 Test pred (top): [[0.44257894 0.5574211 ]]\n",
      "[iter_attack.py:215 -     iterative_attack() ] Test_idx: 32 Test pred (top): [[0.9981394  0.00186055]]\n",
      "[iter_attack.py:215 -     iterative_attack() ] Test_idx: 6 Test pred (top): [[1.5199766e-04 9.9984801e-01]]\n",
      "[iter_attack.py:147 -     iterative_attack() ] *** Iter: 94\n"
     ]
    },
    {
     "name": "stdout",
     "output_type": "stream",
     "text": [
      "Total number of parameters: 2048\n"
     ]
    },
    {
     "name": "stderr",
     "output_type": "stream",
     "text": [
      "[iter_attack.py:169 -     iterative_attack() ] Attach_iter 94 perturbation shape: (1, 268203), perturbation: [[-0.15533751  0.06382343  0.24341093 ... -0.18749136 -0.00573528\n",
      "  -0.06288362]]\n"
     ]
    },
    {
     "name": "stdout",
     "output_type": "stream",
     "text": [
      "Warning: Desired error not necessarily achieved due to precision loss.\n",
      "         Current function value: -663.235352\n",
      "         Iterations: 8\n",
      "         Function evaluations: 69\n",
      "         Gradient evaluations: 65\n",
      "         Hessian evaluations: 48\n",
      "Inverse HVP took 1.98521995544 sec\n",
      "Loaded inverse HVP from output/poisoning_900_300_inception_wd-0.001-test-[15, 32, 6].npz\n",
      "Inverse HVP took 0.000531911849976 sec\n",
      "Entering the for loop\n",
      "(1, 268203)\n",
      "Loaded inverse HVP from output/poisoning_900_300_inception_wd-0.001-test-[15, 32, 6].npz\n",
      "Inverse HVP took 0.000717163085938 sec\n",
      "Entering the for loop\n"
     ]
    },
    {
     "name": "stderr",
     "output_type": "stream",
     "text": [
      "[iter_attack.py:169 -     iterative_attack() ] Attach_iter 94 perturbation shape: (1, 268203), perturbation: [[-0.05167221  0.00119207  0.0025152  ...  0.0462831  -0.04119339\n",
      "  -0.02671401]]\n"
     ]
    },
    {
     "name": "stdout",
     "output_type": "stream",
     "text": [
      "(1, 268203)\n",
      "2 2\n",
      "Shape (2, 2048)\n",
      "Using normal model\n"
     ]
    },
    {
     "name": "stderr",
     "output_type": "stream",
     "text": [
      "[genericNeuralNet.py:328 -     print_model_eval() ] Train loss (w reg) on all data: 0.013638298\n",
      "[genericNeuralNet.py:329 -     print_model_eval() ] Train loss (w/o reg) on all data: 0.0045872647\n",
      "[genericNeuralNet.py:331 -     print_model_eval() ] Test loss (w/o reg) on all data: 0.046352442\n",
      "[genericNeuralNet.py:332 -     print_model_eval() ] Train acc on all data:  1.0\n",
      "[genericNeuralNet.py:333 -     print_model_eval() ] Test acc on all data:   0.98\n",
      "[genericNeuralNet.py:335 -     print_model_eval() ] Norm of the mean of gradients: 0.0047584753\n",
      "[genericNeuralNet.py:336 -     print_model_eval() ] Norm of the params: 4.254652\n",
      "[iter_attack.py:209 -     iterative_attack() ] Test_idx: 15 Test pred (full): [[0.437895 0.562105]]\n",
      "[iter_attack.py:209 -     iterative_attack() ] Test_idx: 32 Test pred (full): [[0.9982052  0.00179481]]\n"
     ]
    },
    {
     "name": "stdout",
     "output_type": "stream",
     "text": [
      "LBFGS training took [21] iter.\n",
      "After training with LBFGS: \n"
     ]
    },
    {
     "name": "stderr",
     "output_type": "stream",
     "text": [
      "[iter_attack.py:209 -     iterative_attack() ] Test_idx: 6 Test pred (full): [[1.5140402e-04 9.9984860e-01]]\n",
      "[iter_attack.py:210 -     iterative_attack() ] ---------------------\n",
      "[iter_attack.py:215 -     iterative_attack() ] Test_idx: 15 Test pred (top): [[0.437895 0.562105]]\n",
      "[iter_attack.py:215 -     iterative_attack() ] Test_idx: 32 Test pred (top): [[0.9982052  0.00179481]]\n",
      "[iter_attack.py:215 -     iterative_attack() ] Test_idx: 6 Test pred (top): [[1.5140402e-04 9.9984860e-01]]\n",
      "[iter_attack.py:147 -     iterative_attack() ] *** Iter: 95\n"
     ]
    },
    {
     "name": "stdout",
     "output_type": "stream",
     "text": [
      "Total number of parameters: 2048\n"
     ]
    },
    {
     "name": "stderr",
     "output_type": "stream",
     "text": [
      "[iter_attack.py:169 -     iterative_attack() ] Attach_iter 95 perturbation shape: (1, 268203), perturbation: [[ 0.22154313  0.08598918 -0.01675134 ...  0.29991236 -0.1600963\n",
      "   0.10480404]]\n"
     ]
    },
    {
     "name": "stdout",
     "output_type": "stream",
     "text": [
      "Warning: Desired error not necessarily achieved due to precision loss.\n",
      "         Current function value: -674.916504\n",
      "         Iterations: 9\n",
      "         Function evaluations: 158\n",
      "         Gradient evaluations: 154\n",
      "         Hessian evaluations: 50\n",
      "Inverse HVP took 3.89775395393 sec\n",
      "Loaded inverse HVP from output/poisoning_900_300_inception_wd-0.001-test-[15, 32, 6].npz\n",
      "Inverse HVP took 0.000518083572388 sec\n",
      "Entering the for loop\n",
      "(1, 268203)\n",
      "Loaded inverse HVP from output/poisoning_900_300_inception_wd-0.001-test-[15, 32, 6].npz\n",
      "Inverse HVP took 0.000619173049927 sec\n",
      "Entering the for loop\n"
     ]
    },
    {
     "name": "stderr",
     "output_type": "stream",
     "text": [
      "[iter_attack.py:169 -     iterative_attack() ] Attach_iter 95 perturbation shape: (1, 268203), perturbation: [[-0.04755038 -0.0283565  -0.01075892 ... -0.07383583  0.07368658\n",
      "   0.00476858]]\n"
     ]
    },
    {
     "name": "stdout",
     "output_type": "stream",
     "text": [
      "(1, 268203)\n",
      "2 2\n",
      "Shape (2, 2048)\n",
      "Using normal model\n"
     ]
    },
    {
     "name": "stderr",
     "output_type": "stream",
     "text": [
      "[genericNeuralNet.py:328 -     print_model_eval() ] Train loss (w reg) on all data: 0.01366006\n",
      "[genericNeuralNet.py:329 -     print_model_eval() ] Train loss (w/o reg) on all data: 0.004595983\n",
      "[genericNeuralNet.py:331 -     print_model_eval() ] Test loss (w/o reg) on all data: 0.045769386\n",
      "[genericNeuralNet.py:332 -     print_model_eval() ] Train acc on all data:  1.0\n",
      "[genericNeuralNet.py:333 -     print_model_eval() ] Test acc on all data:   0.98\n",
      "[genericNeuralNet.py:335 -     print_model_eval() ] Norm of the mean of gradients: 0.0048139784\n",
      "[genericNeuralNet.py:336 -     print_model_eval() ] Norm of the params: 4.2577176\n",
      "[iter_attack.py:209 -     iterative_attack() ] Test_idx: 15 Test pred (full): [[0.43445453 0.56554544]]\n",
      "[iter_attack.py:209 -     iterative_attack() ] Test_idx: 32 Test pred (full): [[0.9981129  0.00188705]]\n"
     ]
    },
    {
     "name": "stdout",
     "output_type": "stream",
     "text": [
      "LBFGS training took [26] iter.\n",
      "After training with LBFGS: \n"
     ]
    },
    {
     "name": "stderr",
     "output_type": "stream",
     "text": [
      "[iter_attack.py:209 -     iterative_attack() ] Test_idx: 6 Test pred (full): [[1.5137182e-04 9.9984860e-01]]\n",
      "[iter_attack.py:210 -     iterative_attack() ] ---------------------\n",
      "[iter_attack.py:215 -     iterative_attack() ] Test_idx: 15 Test pred (top): [[0.43445453 0.56554544]]\n",
      "[iter_attack.py:215 -     iterative_attack() ] Test_idx: 32 Test pred (top): [[0.9981129  0.00188705]]\n",
      "[iter_attack.py:215 -     iterative_attack() ] Test_idx: 6 Test pred (top): [[1.5137182e-04 9.9984860e-01]]\n",
      "[iter_attack.py:147 -     iterative_attack() ] *** Iter: 96\n"
     ]
    },
    {
     "name": "stdout",
     "output_type": "stream",
     "text": [
      "Total number of parameters: 2048\n"
     ]
    },
    {
     "name": "stderr",
     "output_type": "stream",
     "text": [
      "[iter_attack.py:169 -     iterative_attack() ] Attach_iter 96 perturbation shape: (1, 268203), perturbation: [[-0.16826688  0.04371238  0.23559281 ... -0.08752318 -0.08108732\n",
      "   0.01602395]]\n"
     ]
    },
    {
     "name": "stdout",
     "output_type": "stream",
     "text": [
      "Warning: Desired error not necessarily achieved due to precision loss.\n",
      "         Current function value: -681.468872\n",
      "         Iterations: 9\n",
      "         Function evaluations: 87\n",
      "         Gradient evaluations: 84\n",
      "         Hessian evaluations: 51\n",
      "Inverse HVP took 2.38797402382 sec\n",
      "Loaded inverse HVP from output/poisoning_900_300_inception_wd-0.001-test-[15, 32, 6].npz\n",
      "Inverse HVP took 0.000527858734131 sec\n",
      "Entering the for loop\n",
      "(1, 268203)\n",
      "Loaded inverse HVP from output/poisoning_900_300_inception_wd-0.001-test-[15, 32, 6].npz\n",
      "Inverse HVP took 0.000710964202881 sec\n",
      "Entering the for loop\n"
     ]
    },
    {
     "name": "stderr",
     "output_type": "stream",
     "text": [
      "[iter_attack.py:169 -     iterative_attack() ] Attach_iter 96 perturbation shape: (1, 268203), perturbation: [[-0.0493589   0.01356954  0.01937595 ...  0.0065969  -0.04099456\n",
      "  -0.00096119]]\n"
     ]
    },
    {
     "name": "stdout",
     "output_type": "stream",
     "text": [
      "(1, 268203)\n",
      "2 2\n",
      "Shape (2, 2048)\n",
      "Using normal model\n"
     ]
    },
    {
     "name": "stderr",
     "output_type": "stream",
     "text": [
      "[genericNeuralNet.py:328 -     print_model_eval() ] Train loss (w reg) on all data: 0.013658391\n",
      "[genericNeuralNet.py:329 -     print_model_eval() ] Train loss (w/o reg) on all data: 0.0045950613\n",
      "[genericNeuralNet.py:331 -     print_model_eval() ] Test loss (w/o reg) on all data: 0.046351485\n",
      "[genericNeuralNet.py:332 -     print_model_eval() ] Train acc on all data:  1.0\n",
      "[genericNeuralNet.py:333 -     print_model_eval() ] Test acc on all data:   0.98\n",
      "[genericNeuralNet.py:335 -     print_model_eval() ] Norm of the mean of gradients: 0.004749112\n",
      "[genericNeuralNet.py:336 -     print_model_eval() ] Norm of the params: 4.257542\n",
      "[iter_attack.py:209 -     iterative_attack() ] Test_idx: 15 Test pred (full): [[0.4292788  0.57072115]]\n",
      "[iter_attack.py:209 -     iterative_attack() ] Test_idx: 32 Test pred (full): [[0.9982436  0.00175647]]\n"
     ]
    },
    {
     "name": "stdout",
     "output_type": "stream",
     "text": [
      "LBFGS training took [35] iter.\n",
      "After training with LBFGS: \n"
     ]
    },
    {
     "name": "stderr",
     "output_type": "stream",
     "text": [
      "[iter_attack.py:209 -     iterative_attack() ] Test_idx: 6 Test pred (full): [[1.513200e-04 9.998486e-01]]\n",
      "[iter_attack.py:210 -     iterative_attack() ] ---------------------\n",
      "[iter_attack.py:215 -     iterative_attack() ] Test_idx: 15 Test pred (top): [[0.4292788  0.57072115]]\n",
      "[iter_attack.py:215 -     iterative_attack() ] Test_idx: 32 Test pred (top): [[0.9982436  0.00175647]]\n",
      "[iter_attack.py:215 -     iterative_attack() ] Test_idx: 6 Test pred (top): [[1.513200e-04 9.998486e-01]]\n",
      "[iter_attack.py:147 -     iterative_attack() ] *** Iter: 97\n"
     ]
    },
    {
     "name": "stdout",
     "output_type": "stream",
     "text": [
      "Total number of parameters: 2048\n"
     ]
    },
    {
     "name": "stderr",
     "output_type": "stream",
     "text": [
      "[iter_attack.py:169 -     iterative_attack() ] Attach_iter 97 perturbation shape: (1, 268203), perturbation: [[ 0.19405171  0.05691461 -0.04147384 ...  0.14500278 -0.19238289\n",
      "   0.132183  ]]\n"
     ]
    },
    {
     "name": "stdout",
     "output_type": "stream",
     "text": [
      "Warning: Desired error not necessarily achieved due to precision loss.\n",
      "         Current function value: -695.387939\n",
      "         Iterations: 11\n",
      "         Function evaluations: 77\n",
      "         Gradient evaluations: 76\n",
      "         Hessian evaluations: 71\n",
      "Inverse HVP took 2.4290599823 sec\n",
      "Loaded inverse HVP from output/poisoning_900_300_inception_wd-0.001-test-[15, 32, 6].npz\n",
      "Inverse HVP took 0.000532150268555 sec\n",
      "Entering the for loop\n",
      "(1, 268203)\n",
      "Loaded inverse HVP from output/poisoning_900_300_inception_wd-0.001-test-[15, 32, 6].npz\n",
      "Inverse HVP took 0.000720024108887 sec\n",
      "Entering the for loop\n"
     ]
    },
    {
     "name": "stderr",
     "output_type": "stream",
     "text": [
      "[iter_attack.py:169 -     iterative_attack() ] Attach_iter 97 perturbation shape: (1, 268203), perturbation: [[-0.04860793 -0.01603    -0.008169   ... -0.07778155  0.08065143\n",
      "   0.01460549]]\n"
     ]
    },
    {
     "name": "stdout",
     "output_type": "stream",
     "text": [
      "(1, 268203)\n",
      "2 2\n",
      "Shape (2, 2048)\n",
      "Using normal model\n"
     ]
    },
    {
     "name": "stderr",
     "output_type": "stream",
     "text": [
      "[genericNeuralNet.py:328 -     print_model_eval() ] Train loss (w reg) on all data: 0.013676932\n",
      "[genericNeuralNet.py:329 -     print_model_eval() ] Train loss (w/o reg) on all data: 0.004603891\n",
      "[genericNeuralNet.py:331 -     print_model_eval() ] Test loss (w/o reg) on all data: 0.04574846\n",
      "[genericNeuralNet.py:332 -     print_model_eval() ] Train acc on all data:  1.0\n",
      "[genericNeuralNet.py:333 -     print_model_eval() ] Test acc on all data:   0.98\n",
      "[genericNeuralNet.py:335 -     print_model_eval() ] Norm of the mean of gradients: 0.004847151\n",
      "[genericNeuralNet.py:336 -     print_model_eval() ] Norm of the params: 4.2598214\n",
      "[iter_attack.py:209 -     iterative_attack() ] Test_idx: 15 Test pred (full): [[0.42585817 0.5741418 ]]\n",
      "[iter_attack.py:209 -     iterative_attack() ] Test_idx: 32 Test pred (full): [[0.9981139  0.00188617]]\n"
     ]
    },
    {
     "name": "stdout",
     "output_type": "stream",
     "text": [
      "LBFGS training took [23] iter.\n",
      "After training with LBFGS: \n"
     ]
    },
    {
     "name": "stderr",
     "output_type": "stream",
     "text": [
      "[iter_attack.py:209 -     iterative_attack() ] Test_idx: 6 Test pred (full): [[1.5090447e-04 9.9984908e-01]]\n",
      "[iter_attack.py:210 -     iterative_attack() ] ---------------------\n",
      "[iter_attack.py:215 -     iterative_attack() ] Test_idx: 15 Test pred (top): [[0.42585817 0.5741418 ]]\n",
      "[iter_attack.py:215 -     iterative_attack() ] Test_idx: 32 Test pred (top): [[0.9981139  0.00188617]]\n",
      "[iter_attack.py:215 -     iterative_attack() ] Test_idx: 6 Test pred (top): [[1.5090447e-04 9.9984908e-01]]\n",
      "[iter_attack.py:147 -     iterative_attack() ] *** Iter: 98\n"
     ]
    },
    {
     "name": "stdout",
     "output_type": "stream",
     "text": [
      "Total number of parameters: 2048\n"
     ]
    },
    {
     "name": "stderr",
     "output_type": "stream",
     "text": [
      "[iter_attack.py:169 -     iterative_attack() ] Attach_iter 98 perturbation shape: (1, 268203), perturbation: [[-0.19671108  0.09258813  0.26159    ... -0.13434759  0.05829761\n",
      "  -0.09619322]]\n"
     ]
    },
    {
     "name": "stdout",
     "output_type": "stream",
     "text": [
      "Warning: Desired error not necessarily achieved due to precision loss.\n",
      "         Current function value: -700.820068\n",
      "         Iterations: 10\n",
      "         Function evaluations: 96\n",
      "         Gradient evaluations: 94\n",
      "         Hessian evaluations: 72\n",
      "Inverse HVP took 2.8258960247 sec\n",
      "Loaded inverse HVP from output/poisoning_900_300_inception_wd-0.001-test-[15, 32, 6].npz\n",
      "Inverse HVP took 0.000520944595337 sec\n",
      "Entering the for loop\n",
      "(1, 268203)\n",
      "Loaded inverse HVP from output/poisoning_900_300_inception_wd-0.001-test-[15, 32, 6].npz\n",
      "Inverse HVP took 0.000600099563599 sec\n",
      "Entering the for loop\n"
     ]
    },
    {
     "name": "stderr",
     "output_type": "stream",
     "text": [
      "[iter_attack.py:169 -     iterative_attack() ] Attach_iter 98 perturbation shape: (1, 268203), perturbation: [[-0.04280984  0.00180219  0.00816634 ... -0.00974682 -0.05152401\n",
      "   0.01719035]]\n"
     ]
    },
    {
     "name": "stdout",
     "output_type": "stream",
     "text": [
      "(1, 268203)\n",
      "2 2\n",
      "Shape (2, 2048)\n",
      "Using normal model\n"
     ]
    },
    {
     "name": "stderr",
     "output_type": "stream",
     "text": [
      "[genericNeuralNet.py:328 -     print_model_eval() ] Train loss (w reg) on all data: 0.0136768\n",
      "[genericNeuralNet.py:329 -     print_model_eval() ] Train loss (w/o reg) on all data: 0.0046031107\n",
      "[genericNeuralNet.py:331 -     print_model_eval() ] Test loss (w/o reg) on all data: 0.046300337\n",
      "[genericNeuralNet.py:332 -     print_model_eval() ] Train acc on all data:  1.0\n",
      "[genericNeuralNet.py:333 -     print_model_eval() ] Test acc on all data:   0.98\n",
      "[genericNeuralNet.py:335 -     print_model_eval() ] Norm of the mean of gradients: 0.0047251824\n",
      "[genericNeuralNet.py:336 -     print_model_eval() ] Norm of the params: 4.259974\n",
      "[iter_attack.py:209 -     iterative_attack() ] Test_idx: 15 Test pred (full): [[0.42155236 0.57844764]]\n",
      "[iter_attack.py:209 -     iterative_attack() ] Test_idx: 32 Test pred (full): [[0.9982691  0.00173089]]\n"
     ]
    },
    {
     "name": "stdout",
     "output_type": "stream",
     "text": [
      "LBFGS training took [38] iter.\n",
      "After training with LBFGS: \n"
     ]
    },
    {
     "name": "stderr",
     "output_type": "stream",
     "text": [
      "[iter_attack.py:209 -     iterative_attack() ] Test_idx: 6 Test pred (full): [[1.503363e-04 9.998497e-01]]\n",
      "[iter_attack.py:210 -     iterative_attack() ] ---------------------\n",
      "[iter_attack.py:215 -     iterative_attack() ] Test_idx: 15 Test pred (top): [[0.42155236 0.57844764]]\n",
      "[iter_attack.py:215 -     iterative_attack() ] Test_idx: 32 Test pred (top): [[0.9982691  0.00173089]]\n",
      "[iter_attack.py:215 -     iterative_attack() ] Test_idx: 6 Test pred (top): [[1.503363e-04 9.998497e-01]]\n",
      "[iter_attack.py:147 -     iterative_attack() ] *** Iter: 99\n"
     ]
    },
    {
     "name": "stdout",
     "output_type": "stream",
     "text": [
      "Total number of parameters: 2048\n"
     ]
    },
    {
     "name": "stderr",
     "output_type": "stream",
     "text": [
      "[iter_attack.py:169 -     iterative_attack() ] Attach_iter 99 perturbation shape: (1, 268203), perturbation: [[ 0.33240902  0.19906752 -0.00766299 ...  0.00095556 -0.28993279\n",
      "   0.24604398]]\n"
     ]
    },
    {
     "name": "stdout",
     "output_type": "stream",
     "text": [
      "Warning: Desired error not necessarily achieved due to precision loss.\n",
      "         Current function value: -713.894165\n",
      "         Iterations: 10\n",
      "         Function evaluations: 82\n",
      "         Gradient evaluations: 81\n",
      "         Hessian evaluations: 64\n",
      "Inverse HVP took 2.43298387527 sec\n",
      "Loaded inverse HVP from output/poisoning_900_300_inception_wd-0.001-test-[15, 32, 6].npz\n",
      "Inverse HVP took 0.000530004501343 sec\n",
      "Entering the for loop\n",
      "(1, 268203)\n",
      "Loaded inverse HVP from output/poisoning_900_300_inception_wd-0.001-test-[15, 32, 6].npz\n",
      "Inverse HVP took 0.000712871551514 sec\n",
      "Entering the for loop\n"
     ]
    },
    {
     "name": "stderr",
     "output_type": "stream",
     "text": [
      "[iter_attack.py:169 -     iterative_attack() ] Attach_iter 99 perturbation shape: (1, 268203), perturbation: [[-0.05851418 -0.0113289  -0.01205529 ... -0.08284749  0.07541154\n",
      "   0.01965369]]\n"
     ]
    },
    {
     "name": "stdout",
     "output_type": "stream",
     "text": [
      "(1, 268203)\n",
      "2 2\n",
      "Shape (2, 2048)\n",
      "Using normal model\n"
     ]
    },
    {
     "name": "stderr",
     "output_type": "stream",
     "text": [
      "[genericNeuralNet.py:328 -     print_model_eval() ] Train loss (w reg) on all data: 0.013687829\n",
      "[genericNeuralNet.py:329 -     print_model_eval() ] Train loss (w/o reg) on all data: 0.0046085487\n",
      "[genericNeuralNet.py:331 -     print_model_eval() ] Test loss (w/o reg) on all data: 0.045856286\n",
      "[genericNeuralNet.py:332 -     print_model_eval() ] Train acc on all data:  1.0\n",
      "[genericNeuralNet.py:333 -     print_model_eval() ] Test acc on all data:   0.98\n",
      "[genericNeuralNet.py:335 -     print_model_eval() ] Norm of the mean of gradients: 0.0048691854\n",
      "[genericNeuralNet.py:336 -     print_model_eval() ] Norm of the params: 4.2612853\n",
      "[iter_attack.py:209 -     iterative_attack() ] Test_idx: 15 Test pred (full): [[0.41888994 0.58111   ]]\n",
      "[iter_attack.py:209 -     iterative_attack() ] Test_idx: 32 Test pred (full): [[0.9981287  0.00187135]]\n"
     ]
    },
    {
     "name": "stdout",
     "output_type": "stream",
     "text": [
      "LBFGS training took [23] iter.\n",
      "After training with LBFGS: \n"
     ]
    },
    {
     "name": "stderr",
     "output_type": "stream",
     "text": [
      "[iter_attack.py:209 -     iterative_attack() ] Test_idx: 6 Test pred (full): [[1.5250898e-04 9.9984741e-01]]\n",
      "[iter_attack.py:210 -     iterative_attack() ] ---------------------\n",
      "[iter_attack.py:215 -     iterative_attack() ] Test_idx: 15 Test pred (top): [[0.41888994 0.58111   ]]\n",
      "[iter_attack.py:215 -     iterative_attack() ] Test_idx: 32 Test pred (top): [[0.9981287  0.00187135]]\n",
      "[iter_attack.py:215 -     iterative_attack() ] Test_idx: 6 Test pred (top): [[1.5250898e-04 9.9984741e-01]]\n",
      "[iter_attack.py:147 -     iterative_attack() ] *** Iter: 100\n"
     ]
    },
    {
     "name": "stdout",
     "output_type": "stream",
     "text": [
      "Total number of parameters: 2048\n"
     ]
    },
    {
     "name": "stderr",
     "output_type": "stream",
     "text": [
      "[iter_attack.py:169 -     iterative_attack() ] Attach_iter 100 perturbation shape: (1, 268203), perturbation: [[-0.2955561   0.18140593  0.37809634 ...  0.05531196  0.04491817\n",
      "  -0.06308319]]\n"
     ]
    },
    {
     "name": "stdout",
     "output_type": "stream",
     "text": [
      "Warning: Desired error not necessarily achieved due to precision loss.\n",
      "         Current function value: -716.634521\n",
      "         Iterations: 10\n",
      "         Function evaluations: 78\n",
      "         Gradient evaluations: 76\n",
      "         Hessian evaluations: 60\n",
      "Inverse HVP took 2.2950220108 sec\n",
      "Loaded inverse HVP from output/poisoning_900_300_inception_wd-0.001-test-[15, 32, 6].npz\n",
      "Inverse HVP took 0.000562906265259 sec\n",
      "Entering the for loop\n",
      "(1, 268203)\n",
      "Loaded inverse HVP from output/poisoning_900_300_inception_wd-0.001-test-[15, 32, 6].npz\n",
      "Inverse HVP took 0.000612020492554 sec\n",
      "Entering the for loop\n"
     ]
    },
    {
     "name": "stderr",
     "output_type": "stream",
     "text": [
      "[iter_attack.py:169 -     iterative_attack() ] Attach_iter 100 perturbation shape: (1, 268203), perturbation: [[-0.04228499  0.00608441  0.01432879 ... -0.0008123  -0.04337915\n",
      "  -0.0042653 ]]\n"
     ]
    },
    {
     "name": "stdout",
     "output_type": "stream",
     "text": [
      "(1, 268203)\n",
      "2 2\n",
      "Shape (2, 2048)\n",
      "Using normal model\n"
     ]
    },
    {
     "name": "stderr",
     "output_type": "stream",
     "text": [
      "[genericNeuralNet.py:328 -     print_model_eval() ] Train loss (w reg) on all data: 0.013695758\n",
      "[genericNeuralNet.py:329 -     print_model_eval() ] Train loss (w/o reg) on all data: 0.0046115587\n",
      "[genericNeuralNet.py:331 -     print_model_eval() ] Test loss (w/o reg) on all data: 0.046179887\n",
      "[genericNeuralNet.py:332 -     print_model_eval() ] Train acc on all data:  1.0\n",
      "[genericNeuralNet.py:333 -     print_model_eval() ] Test acc on all data:   0.98\n",
      "[genericNeuralNet.py:335 -     print_model_eval() ] Norm of the mean of gradients: 0.004690907\n",
      "[genericNeuralNet.py:336 -     print_model_eval() ] Norm of the params: 4.26244\n",
      "[iter_attack.py:209 -     iterative_attack() ] Test_idx: 15 Test pred (full): [[0.41374722 0.5862527 ]]\n",
      "[iter_attack.py:209 -     iterative_attack() ] Test_idx: 32 Test pred (full): [[0.9982627  0.00173726]]\n"
     ]
    },
    {
     "name": "stdout",
     "output_type": "stream",
     "text": [
      "LBFGS training took [30] iter.\n",
      "After training with LBFGS: \n"
     ]
    },
    {
     "name": "stderr",
     "output_type": "stream",
     "text": [
      "[iter_attack.py:209 -     iterative_attack() ] Test_idx: 6 Test pred (full): [[1.4941522e-04 9.9985051e-01]]\n",
      "[iter_attack.py:210 -     iterative_attack() ] ---------------------\n",
      "[iter_attack.py:215 -     iterative_attack() ] Test_idx: 15 Test pred (top): [[0.41374722 0.5862527 ]]\n",
      "[iter_attack.py:215 -     iterative_attack() ] Test_idx: 32 Test pred (top): [[0.9982627  0.00173726]]\n",
      "[iter_attack.py:215 -     iterative_attack() ] Test_idx: 6 Test pred (top): [[1.4941522e-04 9.9985051e-01]]\n",
      "[iter_attack.py:147 -     iterative_attack() ] *** Iter: 101\n"
     ]
    },
    {
     "name": "stdout",
     "output_type": "stream",
     "text": [
      "Total number of parameters: 2048\n"
     ]
    },
    {
     "name": "stderr",
     "output_type": "stream",
     "text": [
      "[iter_attack.py:169 -     iterative_attack() ] Attach_iter 101 perturbation shape: (1, 268203), perturbation: [[ 0.45086703  0.19914761 -0.19891472 ...  0.10469542 -0.29113188\n",
      "   0.17314151]]\n"
     ]
    },
    {
     "name": "stdout",
     "output_type": "stream",
     "text": [
      "Warning: Desired error not necessarily achieved due to precision loss.\n",
      "         Current function value: -732.523193\n",
      "         Iterations: 9\n",
      "         Function evaluations: 85\n",
      "         Gradient evaluations: 82\n",
      "         Hessian evaluations: 50\n",
      "Inverse HVP took 2.33373713493 sec\n",
      "Loaded inverse HVP from output/poisoning_900_300_inception_wd-0.001-test-[15, 32, 6].npz\n",
      "Inverse HVP took 0.000532865524292 sec\n",
      "Entering the for loop\n",
      "(1, 268203)\n",
      "Loaded inverse HVP from output/poisoning_900_300_inception_wd-0.001-test-[15, 32, 6].npz\n",
      "Inverse HVP took 0.000654935836792 sec\n",
      "Entering the for loop\n"
     ]
    },
    {
     "name": "stderr",
     "output_type": "stream",
     "text": [
      "[iter_attack.py:169 -     iterative_attack() ] Attach_iter 101 perturbation shape: (1, 268203), perturbation: [[-0.06148344 -0.00903003 -0.00920106 ... -0.06112808  0.07103275\n",
      "   0.02681737]]\n"
     ]
    },
    {
     "name": "stdout",
     "output_type": "stream",
     "text": [
      "(1, 268203)\n",
      "2 2\n",
      "Shape (2, 2048)\n",
      "Using normal model\n"
     ]
    },
    {
     "name": "stderr",
     "output_type": "stream",
     "text": [
      "[genericNeuralNet.py:328 -     print_model_eval() ] Train loss (w reg) on all data: 0.013704352\n",
      "[genericNeuralNet.py:329 -     print_model_eval() ] Train loss (w/o reg) on all data: 0.0046164463\n",
      "[genericNeuralNet.py:331 -     print_model_eval() ] Test loss (w/o reg) on all data: 0.045985296\n",
      "[genericNeuralNet.py:332 -     print_model_eval() ] Train acc on all data:  1.0\n",
      "[genericNeuralNet.py:333 -     print_model_eval() ] Test acc on all data:   0.98\n",
      "[genericNeuralNet.py:335 -     print_model_eval() ] Norm of the mean of gradients: 0.004886399\n",
      "[genericNeuralNet.py:336 -     print_model_eval() ] Norm of the params: 4.2633095\n",
      "[iter_attack.py:209 -     iterative_attack() ] Test_idx: 15 Test pred (full): [[0.41085517 0.5891448 ]]\n",
      "[iter_attack.py:209 -     iterative_attack() ] Test_idx: 32 Test pred (full): [[0.998139 0.001861]]\n"
     ]
    },
    {
     "name": "stdout",
     "output_type": "stream",
     "text": [
      "LBFGS training took [22] iter.\n",
      "After training with LBFGS: \n"
     ]
    },
    {
     "name": "stderr",
     "output_type": "stream",
     "text": [
      "[iter_attack.py:209 -     iterative_attack() ] Test_idx: 6 Test pred (full): [[1.5320437e-04 9.9984682e-01]]\n",
      "[iter_attack.py:210 -     iterative_attack() ] ---------------------\n",
      "[iter_attack.py:215 -     iterative_attack() ] Test_idx: 15 Test pred (top): [[0.41085517 0.5891448 ]]\n",
      "[iter_attack.py:215 -     iterative_attack() ] Test_idx: 32 Test pred (top): [[0.998139 0.001861]]\n",
      "[iter_attack.py:215 -     iterative_attack() ] Test_idx: 6 Test pred (top): [[1.5320437e-04 9.9984682e-01]]\n",
      "[iter_attack.py:147 -     iterative_attack() ] *** Iter: 102\n"
     ]
    },
    {
     "name": "stdout",
     "output_type": "stream",
     "text": [
      "Total number of parameters: 2048\n"
     ]
    },
    {
     "name": "stderr",
     "output_type": "stream",
     "text": [
      "[iter_attack.py:169 -     iterative_attack() ] Attach_iter 102 perturbation shape: (1, 268203), perturbation: [[-0.21232051  0.28820774  0.4309071  ...  0.1636726   0.00281289\n",
      "  -0.03102104]]\n"
     ]
    },
    {
     "name": "stdout",
     "output_type": "stream",
     "text": [
      "Warning: Desired error not necessarily achieved due to precision loss.\n",
      "         Current function value: -735.762695\n",
      "         Iterations: 10\n",
      "         Function evaluations: 65\n",
      "         Gradient evaluations: 63\n",
      "         Hessian evaluations: 65\n",
      "Inverse HVP took 2.09442210197 sec\n",
      "Loaded inverse HVP from output/poisoning_900_300_inception_wd-0.001-test-[15, 32, 6].npz\n",
      "Inverse HVP took 0.000531196594238 sec\n",
      "Entering the for loop\n",
      "(1, 268203)\n",
      "Loaded inverse HVP from output/poisoning_900_300_inception_wd-0.001-test-[15, 32, 6].npz\n",
      "Inverse HVP took 0.000603914260864 sec\n",
      "Entering the for loop\n"
     ]
    },
    {
     "name": "stderr",
     "output_type": "stream",
     "text": [
      "[iter_attack.py:169 -     iterative_attack() ] Attach_iter 102 perturbation shape: (1, 268203), perturbation: [[-0.05113444 -0.00065277  0.00380837 ... -0.01463335 -0.02992948\n",
      "  -0.02592218]]\n"
     ]
    },
    {
     "name": "stdout",
     "output_type": "stream",
     "text": [
      "(1, 268203)\n",
      "2 2\n",
      "Shape (2, 2048)\n",
      "Using normal model\n"
     ]
    },
    {
     "name": "stderr",
     "output_type": "stream",
     "text": [
      "[genericNeuralNet.py:328 -     print_model_eval() ] Train loss (w reg) on all data: 0.013710909\n",
      "[genericNeuralNet.py:329 -     print_model_eval() ] Train loss (w/o reg) on all data: 0.0046172473\n",
      "[genericNeuralNet.py:331 -     print_model_eval() ] Test loss (w/o reg) on all data: 0.046089217\n",
      "[genericNeuralNet.py:332 -     print_model_eval() ] Train acc on all data:  1.0\n",
      "[genericNeuralNet.py:333 -     print_model_eval() ] Test acc on all data:   0.98\n",
      "[genericNeuralNet.py:335 -     print_model_eval() ] Norm of the mean of gradients: 0.0046836897\n",
      "[genericNeuralNet.py:336 -     print_model_eval() ] Norm of the params: 4.2646594\n",
      "[iter_attack.py:209 -     iterative_attack() ] Test_idx: 15 Test pred (full): [[0.40608168 0.5939183 ]]\n",
      "[iter_attack.py:209 -     iterative_attack() ] Test_idx: 32 Test pred (full): [[0.9982803 0.0017197]]\n"
     ]
    },
    {
     "name": "stdout",
     "output_type": "stream",
     "text": [
      "LBFGS training took [24] iter.\n",
      "After training with LBFGS: \n"
     ]
    },
    {
     "name": "stderr",
     "output_type": "stream",
     "text": [
      "[iter_attack.py:209 -     iterative_attack() ] Test_idx: 6 Test pred (full): [[1.4779448e-04 9.9985218e-01]]\n",
      "[iter_attack.py:210 -     iterative_attack() ] ---------------------\n",
      "[iter_attack.py:215 -     iterative_attack() ] Test_idx: 15 Test pred (top): [[0.40608168 0.5939183 ]]\n",
      "[iter_attack.py:215 -     iterative_attack() ] Test_idx: 32 Test pred (top): [[0.9982803 0.0017197]]\n",
      "[iter_attack.py:215 -     iterative_attack() ] Test_idx: 6 Test pred (top): [[1.4779448e-04 9.9985218e-01]]\n",
      "[iter_attack.py:147 -     iterative_attack() ] *** Iter: 103\n"
     ]
    },
    {
     "name": "stdout",
     "output_type": "stream",
     "text": [
      "Total number of parameters: 2048\n"
     ]
    },
    {
     "name": "stderr",
     "output_type": "stream",
     "text": [
      "[iter_attack.py:169 -     iterative_attack() ] Attach_iter 103 perturbation shape: (1, 268203), perturbation: [[ 0.36876976  0.03904536 -0.21838237 ... -0.24246013 -0.20420092\n",
      "   0.1722874 ]]\n"
     ]
    },
    {
     "name": "stdout",
     "output_type": "stream",
     "text": [
      "Warning: Desired error not necessarily achieved due to precision loss.\n",
      "         Current function value: -751.143555\n",
      "         Iterations: 13\n",
      "         Function evaluations: 22\n",
      "         Gradient evaluations: 34\n",
      "         Hessian evaluations: 95\n",
      "Inverse HVP took 1.62546396255 sec\n",
      "Loaded inverse HVP from output/poisoning_900_300_inception_wd-0.001-test-[15, 32, 6].npz\n",
      "Inverse HVP took 0.000520944595337 sec\n",
      "Entering the for loop\n",
      "(1, 268203)\n",
      "Loaded inverse HVP from output/poisoning_900_300_inception_wd-0.001-test-[15, 32, 6].npz\n",
      "Inverse HVP took 0.000602006912231 sec\n",
      "Entering the for loop\n"
     ]
    },
    {
     "name": "stderr",
     "output_type": "stream",
     "text": [
      "[iter_attack.py:169 -     iterative_attack() ] Attach_iter 103 perturbation shape: (1, 268203), perturbation: [[-0.05785679 -0.01677246 -0.0156119  ... -0.0540501   0.0759796\n",
      "   0.03692956]]\n"
     ]
    },
    {
     "name": "stdout",
     "output_type": "stream",
     "text": [
      "(1, 268203)\n",
      "2 2\n",
      "Shape (2, 2048)\n",
      "Using normal model\n"
     ]
    },
    {
     "name": "stderr",
     "output_type": "stream",
     "text": [
      "[genericNeuralNet.py:328 -     print_model_eval() ] Train loss (w reg) on all data: 0.0137249315\n",
      "[genericNeuralNet.py:329 -     print_model_eval() ] Train loss (w/o reg) on all data: 0.004625736\n",
      "[genericNeuralNet.py:331 -     print_model_eval() ] Test loss (w/o reg) on all data: 0.045994364\n",
      "[genericNeuralNet.py:332 -     print_model_eval() ] Train acc on all data:  1.0\n",
      "[genericNeuralNet.py:333 -     print_model_eval() ] Test acc on all data:   0.98\n",
      "[genericNeuralNet.py:335 -     print_model_eval() ] Norm of the mean of gradients: 0.0048938985\n",
      "[genericNeuralNet.py:336 -     print_model_eval() ] Norm of the params: 4.265958\n",
      "[iter_attack.py:209 -     iterative_attack() ] Test_idx: 15 Test pred (full): [[0.40212858 0.5978714 ]]\n",
      "[iter_attack.py:209 -     iterative_attack() ] Test_idx: 32 Test pred (full): [[0.99811804 0.00188196]]\n"
     ]
    },
    {
     "name": "stdout",
     "output_type": "stream",
     "text": [
      "LBFGS training took [22] iter.\n",
      "After training with LBFGS: \n"
     ]
    },
    {
     "name": "stderr",
     "output_type": "stream",
     "text": [
      "[iter_attack.py:209 -     iterative_attack() ] Test_idx: 6 Test pred (full): [[1.5366888e-04 9.9984634e-01]]\n",
      "[iter_attack.py:210 -     iterative_attack() ] ---------------------\n",
      "[iter_attack.py:215 -     iterative_attack() ] Test_idx: 15 Test pred (top): [[0.40212858 0.5978714 ]]\n",
      "[iter_attack.py:215 -     iterative_attack() ] Test_idx: 32 Test pred (top): [[0.99811804 0.00188196]]\n",
      "[iter_attack.py:215 -     iterative_attack() ] Test_idx: 6 Test pred (top): [[1.5366888e-04 9.9984634e-01]]\n",
      "[iter_attack.py:147 -     iterative_attack() ] *** Iter: 104\n"
     ]
    },
    {
     "name": "stdout",
     "output_type": "stream",
     "text": [
      "Total number of parameters: 2048\n"
     ]
    },
    {
     "name": "stderr",
     "output_type": "stream",
     "text": [
      "[iter_attack.py:169 -     iterative_attack() ] Attach_iter 104 perturbation shape: (1, 268203), perturbation: [[-0.29798678  0.25359303  0.43796408 ...  0.30006811 -0.04207591\n",
      "   0.03179917]]\n"
     ]
    },
    {
     "name": "stdout",
     "output_type": "stream",
     "text": [
      "Warning: Desired error not necessarily achieved due to precision loss.\n",
      "         Current function value: -756.756714\n",
      "         Iterations: 11\n",
      "         Function evaluations: 82\n",
      "         Gradient evaluations: 81\n",
      "         Hessian evaluations: 69\n",
      "Inverse HVP took 2.49078202248 sec\n",
      "Loaded inverse HVP from output/poisoning_900_300_inception_wd-0.001-test-[15, 32, 6].npz\n",
      "Inverse HVP took 0.000524997711182 sec\n",
      "Entering the for loop\n",
      "(1, 268203)\n",
      "Loaded inverse HVP from output/poisoning_900_300_inception_wd-0.001-test-[15, 32, 6].npz\n",
      "Inverse HVP took 0.000598907470703 sec\n",
      "Entering the for loop\n"
     ]
    },
    {
     "name": "stderr",
     "output_type": "stream",
     "text": [
      "[iter_attack.py:169 -     iterative_attack() ] Attach_iter 104 perturbation shape: (1, 268203), perturbation: [[-0.06347461 -0.00838794 -0.00969144 ... -0.01659277 -0.04100802\n",
      "  -0.003107  ]]\n"
     ]
    },
    {
     "name": "stdout",
     "output_type": "stream",
     "text": [
      "(1, 268203)\n",
      "2 2\n",
      "Shape (2, 2048)\n",
      "Using normal model\n"
     ]
    },
    {
     "name": "stderr",
     "output_type": "stream",
     "text": [
      "[genericNeuralNet.py:328 -     print_model_eval() ] Train loss (w reg) on all data: 0.0137240905\n",
      "[genericNeuralNet.py:329 -     print_model_eval() ] Train loss (w/o reg) on all data: 0.0046231095\n",
      "[genericNeuralNet.py:331 -     print_model_eval() ] Test loss (w/o reg) on all data: 0.046089113\n",
      "[genericNeuralNet.py:332 -     print_model_eval() ] Train acc on all data:  1.0\n",
      "[genericNeuralNet.py:333 -     print_model_eval() ] Test acc on all data:   0.98\n",
      "[genericNeuralNet.py:335 -     print_model_eval() ] Norm of the mean of gradients: 0.0046744887\n",
      "[genericNeuralNet.py:336 -     print_model_eval() ] Norm of the params: 4.2663755\n",
      "[iter_attack.py:209 -     iterative_attack() ] Test_idx: 15 Test pred (full): [[0.3983703  0.60162973]]\n",
      "[iter_attack.py:209 -     iterative_attack() ] Test_idx: 32 Test pred (full): [[0.9983082  0.00169176]]\n"
     ]
    },
    {
     "name": "stdout",
     "output_type": "stream",
     "text": [
      "LBFGS training took [23] iter.\n",
      "After training with LBFGS: \n"
     ]
    },
    {
     "name": "stderr",
     "output_type": "stream",
     "text": [
      "[iter_attack.py:209 -     iterative_attack() ] Test_idx: 6 Test pred (full): [[1.4649049e-04 9.9985349e-01]]\n",
      "[iter_attack.py:210 -     iterative_attack() ] ---------------------\n",
      "[iter_attack.py:215 -     iterative_attack() ] Test_idx: 15 Test pred (top): [[0.3983703  0.60162973]]\n",
      "[iter_attack.py:215 -     iterative_attack() ] Test_idx: 32 Test pred (top): [[0.9983082  0.00169176]]\n",
      "[iter_attack.py:215 -     iterative_attack() ] Test_idx: 6 Test pred (top): [[1.4649049e-04 9.9985349e-01]]\n",
      "[iter_attack.py:147 -     iterative_attack() ] *** Iter: 105\n"
     ]
    },
    {
     "name": "stdout",
     "output_type": "stream",
     "text": [
      "Total number of parameters: 2048\n"
     ]
    },
    {
     "name": "stderr",
     "output_type": "stream",
     "text": [
      "[iter_attack.py:169 -     iterative_attack() ] Attach_iter 105 perturbation shape: (1, 268203), perturbation: [[ 0.30139002  0.16189295 -0.03536418 ... -0.11265339 -0.23875523\n",
      "   0.13345814]]\n"
     ]
    },
    {
     "name": "stdout",
     "output_type": "stream",
     "text": [
      "Warning: Desired error not necessarily achieved due to precision loss.\n",
      "         Current function value: -769.793945\n",
      "         Iterations: 10\n",
      "         Function evaluations: 178\n",
      "         Gradient evaluations: 175\n",
      "         Hessian evaluations: 63\n",
      "Inverse HVP took 4.50689220428 sec\n",
      "Loaded inverse HVP from output/poisoning_900_300_inception_wd-0.001-test-[15, 32, 6].npz\n",
      "Inverse HVP took 0.000554084777832 sec\n",
      "Entering the for loop\n",
      "(1, 268203)\n",
      "Loaded inverse HVP from output/poisoning_900_300_inception_wd-0.001-test-[15, 32, 6].npz\n",
      "Inverse HVP took 0.000710964202881 sec\n",
      "Entering the for loop\n"
     ]
    },
    {
     "name": "stderr",
     "output_type": "stream",
     "text": [
      "[iter_attack.py:169 -     iterative_attack() ] Attach_iter 105 perturbation shape: (1, 268203), perturbation: [[-0.06242199 -0.00634449 -0.01212332 ... -0.08476715  0.07854037\n",
      "   0.04511407]]\n"
     ]
    },
    {
     "name": "stdout",
     "output_type": "stream",
     "text": [
      "(1, 268203)\n",
      "2 2\n",
      "Shape (2, 2048)\n",
      "Using normal model\n"
     ]
    },
    {
     "name": "stderr",
     "output_type": "stream",
     "text": [
      "[genericNeuralNet.py:328 -     print_model_eval() ] Train loss (w reg) on all data: 0.013744255\n",
      "[genericNeuralNet.py:329 -     print_model_eval() ] Train loss (w/o reg) on all data: 0.004634871\n",
      "[genericNeuralNet.py:331 -     print_model_eval() ] Test loss (w/o reg) on all data: 0.046023346\n",
      "[genericNeuralNet.py:332 -     print_model_eval() ] Train acc on all data:  1.0\n",
      "[genericNeuralNet.py:333 -     print_model_eval() ] Test acc on all data:   0.98\n",
      "[genericNeuralNet.py:335 -     print_model_eval() ] Norm of the mean of gradients: 0.0048844446\n",
      "[genericNeuralNet.py:336 -     print_model_eval() ] Norm of the params: 4.268345\n",
      "[iter_attack.py:209 -     iterative_attack() ] Test_idx: 15 Test pred (full): [[0.3938079 0.6061921]]\n",
      "[iter_attack.py:209 -     iterative_attack() ] Test_idx: 32 Test pred (full): [[0.99809664 0.0019033 ]]\n"
     ]
    },
    {
     "name": "stdout",
     "output_type": "stream",
     "text": [
      "LBFGS training took [48] iter.\n",
      "After training with LBFGS: \n"
     ]
    },
    {
     "name": "stderr",
     "output_type": "stream",
     "text": [
      "[iter_attack.py:209 -     iterative_attack() ] Test_idx: 6 Test pred (full): [[1.5449458e-04 9.9984550e-01]]\n",
      "[iter_attack.py:210 -     iterative_attack() ] ---------------------\n",
      "[iter_attack.py:215 -     iterative_attack() ] Test_idx: 15 Test pred (top): [[0.3938079 0.6061921]]\n",
      "[iter_attack.py:215 -     iterative_attack() ] Test_idx: 32 Test pred (top): [[0.99809664 0.0019033 ]]\n",
      "[iter_attack.py:215 -     iterative_attack() ] Test_idx: 6 Test pred (top): [[1.5449458e-04 9.9984550e-01]]\n",
      "[iter_attack.py:147 -     iterative_attack() ] *** Iter: 106\n"
     ]
    },
    {
     "name": "stdout",
     "output_type": "stream",
     "text": [
      "Total number of parameters: 2048\n"
     ]
    },
    {
     "name": "stderr",
     "output_type": "stream",
     "text": [
      "[iter_attack.py:169 -     iterative_attack() ] Attach_iter 106 perturbation shape: (1, 268203), perturbation: [[-0.19052522  0.14667155  0.36180612 ...  0.10826363  0.00191424\n",
      "   0.03917871]]\n"
     ]
    },
    {
     "name": "stdout",
     "output_type": "stream",
     "text": [
      "Warning: Desired error not necessarily achieved due to precision loss.\n",
      "         Current function value: -776.977905\n",
      "         Iterations: 8\n",
      "         Function evaluations: 72\n",
      "         Gradient evaluations: 68\n",
      "         Hessian evaluations: 42\n",
      "Inverse HVP took 1.97236204147 sec\n",
      "Loaded inverse HVP from output/poisoning_900_300_inception_wd-0.001-test-[15, 32, 6].npz\n",
      "Inverse HVP took 0.000530004501343 sec\n",
      "Entering the for loop\n",
      "(1, 268203)\n",
      "Loaded inverse HVP from output/poisoning_900_300_inception_wd-0.001-test-[15, 32, 6].npz\n",
      "Inverse HVP took 0.000729084014893 sec\n",
      "Entering the for loop\n"
     ]
    },
    {
     "name": "stderr",
     "output_type": "stream",
     "text": [
      "[iter_attack.py:169 -     iterative_attack() ] Attach_iter 106 perturbation shape: (1, 268203), perturbation: [[-0.06488774 -0.04381035 -0.0167286  ... -0.00223739 -0.04491159\n",
      "  -0.01288148]]\n"
     ]
    },
    {
     "name": "stdout",
     "output_type": "stream",
     "text": [
      "(1, 268203)\n",
      "2 2\n",
      "Shape (2, 2048)\n",
      "Using normal model\n"
     ]
    },
    {
     "name": "stderr",
     "output_type": "stream",
     "text": [
      "[genericNeuralNet.py:328 -     print_model_eval() ] Train loss (w reg) on all data: 0.0137370825\n",
      "[genericNeuralNet.py:329 -     print_model_eval() ] Train loss (w/o reg) on all data: 0.00462942\n",
      "[genericNeuralNet.py:331 -     print_model_eval() ] Test loss (w/o reg) on all data: 0.0460663\n",
      "[genericNeuralNet.py:332 -     print_model_eval() ] Train acc on all data:  1.0\n",
      "[genericNeuralNet.py:333 -     print_model_eval() ] Test acc on all data:   0.98\n",
      "[genericNeuralNet.py:335 -     print_model_eval() ] Norm of the mean of gradients: 0.0047058156\n",
      "[genericNeuralNet.py:336 -     print_model_eval() ] Norm of the params: 4.267942\n",
      "[iter_attack.py:209 -     iterative_attack() ] Test_idx: 15 Test pred (full): [[0.3912768  0.60872316]]\n",
      "[iter_attack.py:209 -     iterative_attack() ] Test_idx: 32 Test pred (full): [[0.9983224  0.00167758]]\n"
     ]
    },
    {
     "name": "stdout",
     "output_type": "stream",
     "text": [
      "LBFGS training took [23] iter.\n",
      "After training with LBFGS: \n"
     ]
    },
    {
     "name": "stderr",
     "output_type": "stream",
     "text": [
      "[iter_attack.py:209 -     iterative_attack() ] Test_idx: 6 Test pred (full): [[1.4668213e-04 9.9985325e-01]]\n",
      "[iter_attack.py:210 -     iterative_attack() ] ---------------------\n",
      "[iter_attack.py:215 -     iterative_attack() ] Test_idx: 15 Test pred (top): [[0.3912768  0.60872316]]\n",
      "[iter_attack.py:215 -     iterative_attack() ] Test_idx: 32 Test pred (top): [[0.9983224  0.00167758]]\n",
      "[iter_attack.py:215 -     iterative_attack() ] Test_idx: 6 Test pred (top): [[1.4668213e-04 9.9985325e-01]]\n",
      "[iter_attack.py:147 -     iterative_attack() ] *** Iter: 107\n"
     ]
    },
    {
     "name": "stdout",
     "output_type": "stream",
     "text": [
      "Total number of parameters: 2048\n"
     ]
    },
    {
     "name": "stderr",
     "output_type": "stream",
     "text": [
      "[iter_attack.py:169 -     iterative_attack() ] Attach_iter 107 perturbation shape: (1, 268203), perturbation: [[ 0.26137203  0.07657354 -0.03927585 ... -0.03160659 -0.16769962\n",
      "   0.06522052]]\n"
     ]
    },
    {
     "name": "stdout",
     "output_type": "stream",
     "text": [
      "Warning: Desired error not necessarily achieved due to precision loss.\n",
      "         Current function value: -786.987061\n",
      "         Iterations: 11\n",
      "         Function evaluations: 145\n",
      "         Gradient evaluations: 143\n",
      "         Hessian evaluations: 68\n",
      "Inverse HVP took 3.84588813782 sec\n",
      "Loaded inverse HVP from output/poisoning_900_300_inception_wd-0.001-test-[15, 32, 6].npz\n",
      "Inverse HVP took 0.000518083572388 sec\n",
      "Entering the for loop\n",
      "(1, 268203)\n",
      "Loaded inverse HVP from output/poisoning_900_300_inception_wd-0.001-test-[15, 32, 6].npz\n",
      "Inverse HVP took 0.000714063644409 sec\n",
      "Entering the for loop\n"
     ]
    },
    {
     "name": "stderr",
     "output_type": "stream",
     "text": [
      "[iter_attack.py:169 -     iterative_attack() ] Attach_iter 107 perturbation shape: (1, 268203), perturbation: [[-0.07509594  0.00126513 -0.01716428 ... -0.10236599  0.07585026\n",
      "   0.04242447]]\n"
     ]
    },
    {
     "name": "stdout",
     "output_type": "stream",
     "text": [
      "(1, 268203)\n",
      "2 2\n",
      "Shape (2, 2048)\n",
      "Using normal model\n"
     ]
    },
    {
     "name": "stderr",
     "output_type": "stream",
     "text": [
      "[genericNeuralNet.py:328 -     print_model_eval() ] Train loss (w reg) on all data: 0.013764843\n",
      "[genericNeuralNet.py:329 -     print_model_eval() ] Train loss (w/o reg) on all data: 0.0046430104\n",
      "[genericNeuralNet.py:331 -     print_model_eval() ] Test loss (w/o reg) on all data: 0.046090342\n",
      "[genericNeuralNet.py:332 -     print_model_eval() ] Train acc on all data:  1.0\n",
      "[genericNeuralNet.py:333 -     print_model_eval() ] Test acc on all data:   0.98\n",
      "[genericNeuralNet.py:335 -     print_model_eval() ] Norm of the mean of gradients: 0.00491484\n",
      "[genericNeuralNet.py:336 -     print_model_eval() ] Norm of the params: 4.2712603\n",
      "[iter_attack.py:209 -     iterative_attack() ] Test_idx: 15 Test pred (full): [[0.38621828 0.61378175]]\n",
      "[iter_attack.py:209 -     iterative_attack() ] Test_idx: 32 Test pred (full): [[0.9980963  0.00190368]]\n"
     ]
    },
    {
     "name": "stdout",
     "output_type": "stream",
     "text": [
      "LBFGS training took [49] iter.\n",
      "After training with LBFGS: \n"
     ]
    },
    {
     "name": "stderr",
     "output_type": "stream",
     "text": [
      "[iter_attack.py:209 -     iterative_attack() ] Test_idx: 6 Test pred (full): [[1.5500911e-04 9.9984491e-01]]\n",
      "[iter_attack.py:210 -     iterative_attack() ] ---------------------\n",
      "[iter_attack.py:215 -     iterative_attack() ] Test_idx: 15 Test pred (top): [[0.38621828 0.61378175]]\n",
      "[iter_attack.py:215 -     iterative_attack() ] Test_idx: 32 Test pred (top): [[0.9980963  0.00190368]]\n",
      "[iter_attack.py:215 -     iterative_attack() ] Test_idx: 6 Test pred (top): [[1.5500911e-04 9.9984491e-01]]\n",
      "[iter_attack.py:147 -     iterative_attack() ] *** Iter: 108\n"
     ]
    },
    {
     "name": "stdout",
     "output_type": "stream",
     "text": [
      "Total number of parameters: 2048\n"
     ]
    },
    {
     "name": "stderr",
     "output_type": "stream",
     "text": [
      "[iter_attack.py:169 -     iterative_attack() ] Attach_iter 108 perturbation shape: (1, 268203), perturbation: [[-0.17384976  0.13447934  0.25261676 ...  0.18813443 -0.00973235\n",
      "  -0.01818396]]\n"
     ]
    },
    {
     "name": "stdout",
     "output_type": "stream",
     "text": [
      "Warning: Desired error not necessarily achieved due to precision loss.\n",
      "         Current function value: -795.941650\n",
      "         Iterations: 8\n",
      "         Function evaluations: 82\n",
      "         Gradient evaluations: 78\n",
      "         Hessian evaluations: 45\n",
      "Inverse HVP took 2.21338009834 sec\n",
      "Loaded inverse HVP from output/poisoning_900_300_inception_wd-0.001-test-[15, 32, 6].npz\n",
      "Inverse HVP took 0.000548839569092 sec\n",
      "Entering the for loop\n",
      "(1, 268203)\n",
      "Loaded inverse HVP from output/poisoning_900_300_inception_wd-0.001-test-[15, 32, 6].npz\n",
      "Inverse HVP took 0.000764846801758 sec\n",
      "Entering the for loop\n"
     ]
    },
    {
     "name": "stderr",
     "output_type": "stream",
     "text": [
      "[iter_attack.py:169 -     iterative_attack() ] Attach_iter 108 perturbation shape: (1, 268203), perturbation: [[-0.07285204 -0.03801944 -0.01327553 ... -0.02183359 -0.0264453\n",
      "  -0.00637063]]\n"
     ]
    },
    {
     "name": "stdout",
     "output_type": "stream",
     "text": [
      "(1, 268203)\n",
      "2 2\n",
      "Shape (2, 2048)\n",
      "Using normal model\n"
     ]
    },
    {
     "name": "stderr",
     "output_type": "stream",
     "text": [
      "[genericNeuralNet.py:328 -     print_model_eval() ] Train loss (w reg) on all data: 0.013749491\n",
      "[genericNeuralNet.py:329 -     print_model_eval() ] Train loss (w/o reg) on all data: 0.00463445\n",
      "[genericNeuralNet.py:331 -     print_model_eval() ] Test loss (w/o reg) on all data: 0.046087492\n",
      "[genericNeuralNet.py:332 -     print_model_eval() ] Train acc on all data:  1.0\n",
      "[genericNeuralNet.py:333 -     print_model_eval() ] Test acc on all data:   0.98\n",
      "[genericNeuralNet.py:335 -     print_model_eval() ] Norm of the mean of gradients: 0.004718271\n",
      "[genericNeuralNet.py:336 -     print_model_eval() ] Norm of the params: 4.2696695\n",
      "[iter_attack.py:209 -     iterative_attack() ] Test_idx: 15 Test pred (full): [[0.3848621 0.6151379]]\n",
      "[iter_attack.py:209 -     iterative_attack() ] Test_idx: 32 Test pred (full): [[0.9983407  0.00165923]]\n",
      "[iter_attack.py:209 -     iterative_attack() ] Test_idx: 6 Test pred (full): [[1.4561534e-04 9.9985433e-01]]\n"
     ]
    },
    {
     "name": "stdout",
     "output_type": "stream",
     "text": [
      "LBFGS training took [22] iter.\n",
      "After training with LBFGS: \n"
     ]
    },
    {
     "name": "stderr",
     "output_type": "stream",
     "text": [
      "[iter_attack.py:210 -     iterative_attack() ] ---------------------\n",
      "[iter_attack.py:215 -     iterative_attack() ] Test_idx: 15 Test pred (top): [[0.3848621 0.6151379]]\n",
      "[iter_attack.py:215 -     iterative_attack() ] Test_idx: 32 Test pred (top): [[0.9983407  0.00165923]]\n",
      "[iter_attack.py:215 -     iterative_attack() ] Test_idx: 6 Test pred (top): [[1.4561534e-04 9.9985433e-01]]\n",
      "[iter_attack.py:147 -     iterative_attack() ] *** Iter: 109\n"
     ]
    },
    {
     "name": "stdout",
     "output_type": "stream",
     "text": [
      "Total number of parameters: 2048\n"
     ]
    },
    {
     "name": "stderr",
     "output_type": "stream",
     "text": [
      "[iter_attack.py:169 -     iterative_attack() ] Attach_iter 109 perturbation shape: (1, 268203), perturbation: [[ 0.17509989  0.25953567  0.3109149  ... -0.03089766 -0.22546798\n",
      "   0.10946332]]\n"
     ]
    },
    {
     "name": "stdout",
     "output_type": "stream",
     "text": [
      "Warning: Desired error not necessarily achieved due to precision loss.\n",
      "         Current function value: -802.860352\n",
      "         Iterations: 9\n",
      "         Function evaluations: 79\n",
      "         Gradient evaluations: 76\n",
      "         Hessian evaluations: 53\n",
      "Inverse HVP took 2.25664901733 sec\n",
      "Loaded inverse HVP from output/poisoning_900_300_inception_wd-0.001-test-[15, 32, 6].npz\n",
      "Inverse HVP took 0.00056791305542 sec\n",
      "Entering the for loop\n",
      "(1, 268203)\n",
      "Loaded inverse HVP from output/poisoning_900_300_inception_wd-0.001-test-[15, 32, 6].npz\n",
      "Inverse HVP took 0.000717878341675 sec\n",
      "Entering the for loop\n"
     ]
    },
    {
     "name": "stderr",
     "output_type": "stream",
     "text": [
      "[iter_attack.py:169 -     iterative_attack() ] Attach_iter 109 perturbation shape: (1, 268203), perturbation: [[-0.06986761 -0.01714785 -0.01946215 ... -0.07655022  0.0615508\n",
      "   0.03975898]]\n"
     ]
    },
    {
     "name": "stdout",
     "output_type": "stream",
     "text": [
      "(1, 268203)\n",
      "2 2\n",
      "Shape (2, 2048)\n",
      "Using normal model\n"
     ]
    },
    {
     "name": "stderr",
     "output_type": "stream",
     "text": [
      "[genericNeuralNet.py:328 -     print_model_eval() ] Train loss (w reg) on all data: 0.013781466\n",
      "[genericNeuralNet.py:329 -     print_model_eval() ] Train loss (w/o reg) on all data: 0.0046513653\n",
      "[genericNeuralNet.py:331 -     print_model_eval() ] Test loss (w/o reg) on all data: 0.046156146\n",
      "[genericNeuralNet.py:332 -     print_model_eval() ] Train acc on all data:  1.0\n",
      "[genericNeuralNet.py:333 -     print_model_eval() ] Test acc on all data:   0.98\n",
      "[genericNeuralNet.py:335 -     print_model_eval() ] Norm of the mean of gradients: 0.004927746\n",
      "[genericNeuralNet.py:336 -     print_model_eval() ] Norm of the params: 4.2731953\n",
      "[iter_attack.py:209 -     iterative_attack() ] Test_idx: 15 Test pred (full): [[0.37951726 0.62048274]]\n",
      "[iter_attack.py:209 -     iterative_attack() ] Test_idx: 32 Test pred (full): [[0.9981117  0.00188824]]\n"
     ]
    },
    {
     "name": "stdout",
     "output_type": "stream",
     "text": [
      "LBFGS training took [49] iter.\n",
      "After training with LBFGS: \n"
     ]
    },
    {
     "name": "stderr",
     "output_type": "stream",
     "text": [
      "[iter_attack.py:209 -     iterative_attack() ] Test_idx: 6 Test pred (full): [[1.5509088e-04 9.9984491e-01]]\n",
      "[iter_attack.py:210 -     iterative_attack() ] ---------------------\n",
      "[iter_attack.py:215 -     iterative_attack() ] Test_idx: 15 Test pred (top): [[0.37951726 0.62048274]]\n",
      "[iter_attack.py:215 -     iterative_attack() ] Test_idx: 32 Test pred (top): [[0.9981117  0.00188824]]\n",
      "[iter_attack.py:215 -     iterative_attack() ] Test_idx: 6 Test pred (top): [[1.5509088e-04 9.9984491e-01]]\n",
      "[iter_attack.py:147 -     iterative_attack() ] *** Iter: 110\n"
     ]
    },
    {
     "name": "stdout",
     "output_type": "stream",
     "text": [
      "Total number of parameters: 2048\n"
     ]
    },
    {
     "name": "stderr",
     "output_type": "stream",
     "text": [
      "[iter_attack.py:169 -     iterative_attack() ] Attach_iter 110 perturbation shape: (1, 268203), perturbation: [[ 0.03887303  0.03576544 -0.01820175 ...  0.18171024 -0.02058514\n",
      "  -0.02527562]]\n"
     ]
    },
    {
     "name": "stdout",
     "output_type": "stream",
     "text": [
      "Warning: Desired error not necessarily achieved due to precision loss.\n",
      "         Current function value: -812.814331\n",
      "         Iterations: 12\n",
      "         Function evaluations: 23\n",
      "         Gradient evaluations: 34\n",
      "         Hessian evaluations: 93\n",
      "Inverse HVP took 1.62079596519 sec\n",
      "Loaded inverse HVP from output/poisoning_900_300_inception_wd-0.001-test-[15, 32, 6].npz\n",
      "Inverse HVP took 0.000530004501343 sec\n",
      "Entering the for loop\n",
      "(1, 268203)\n",
      "Loaded inverse HVP from output/poisoning_900_300_inception_wd-0.001-test-[15, 32, 6].npz\n",
      "Inverse HVP took 0.000712871551514 sec\n",
      "Entering the for loop\n"
     ]
    },
    {
     "name": "stderr",
     "output_type": "stream",
     "text": [
      "[iter_attack.py:169 -     iterative_attack() ] Attach_iter 110 perturbation shape: (1, 268203), perturbation: [[-0.06506599 -0.01292888 -0.00639116 ... -0.02027464 -0.00851725\n",
      "  -0.02145627]]\n"
     ]
    },
    {
     "name": "stdout",
     "output_type": "stream",
     "text": [
      "(1, 268203)\n",
      "2 2\n",
      "Shape (2, 2048)\n",
      "Using normal model\n"
     ]
    },
    {
     "name": "stderr",
     "output_type": "stream",
     "text": [
      "[genericNeuralNet.py:328 -     print_model_eval() ] Train loss (w reg) on all data: 0.013763261\n",
      "[genericNeuralNet.py:329 -     print_model_eval() ] Train loss (w/o reg) on all data: 0.004639419\n",
      "[genericNeuralNet.py:331 -     print_model_eval() ] Test loss (w/o reg) on all data: 0.04599223\n",
      "[genericNeuralNet.py:332 -     print_model_eval() ] Train acc on all data:  1.0\n",
      "[genericNeuralNet.py:333 -     print_model_eval() ] Test acc on all data:   0.98\n",
      "[genericNeuralNet.py:335 -     print_model_eval() ] Norm of the mean of gradients: 0.0047425404\n",
      "[genericNeuralNet.py:336 -     print_model_eval() ] Norm of the params: 4.2717304\n",
      "[iter_attack.py:209 -     iterative_attack() ] Test_idx: 15 Test pred (full): [[0.37849757 0.62150246]]\n",
      "[iter_attack.py:209 -     iterative_attack() ] Test_idx: 32 Test pred (full): [[0.99832577 0.00167418]]\n"
     ]
    },
    {
     "name": "stdout",
     "output_type": "stream",
     "text": [
      "LBFGS training took [35] iter.\n",
      "After training with LBFGS: \n"
     ]
    },
    {
     "name": "stderr",
     "output_type": "stream",
     "text": [
      "[iter_attack.py:209 -     iterative_attack() ] Test_idx: 6 Test pred (full): [[1.4611564e-04 9.9985385e-01]]\n",
      "[iter_attack.py:210 -     iterative_attack() ] ---------------------\n",
      "[iter_attack.py:215 -     iterative_attack() ] Test_idx: 15 Test pred (top): [[0.37849757 0.62150246]]\n",
      "[iter_attack.py:215 -     iterative_attack() ] Test_idx: 32 Test pred (top): [[0.99832577 0.00167418]]\n",
      "[iter_attack.py:215 -     iterative_attack() ] Test_idx: 6 Test pred (top): [[1.4611564e-04 9.9985385e-01]]\n",
      "[iter_attack.py:147 -     iterative_attack() ] *** Iter: 111\n"
     ]
    },
    {
     "name": "stdout",
     "output_type": "stream",
     "text": [
      "Total number of parameters: 2048\n"
     ]
    },
    {
     "name": "stderr",
     "output_type": "stream",
     "text": [
      "[iter_attack.py:169 -     iterative_attack() ] Attach_iter 111 perturbation shape: (1, 268203), perturbation: [[ 0.10923162  0.27760598  0.47108907 ... -0.03400481 -0.2060335\n",
      "   0.08650929]]\n"
     ]
    },
    {
     "name": "stdout",
     "output_type": "stream",
     "text": [
      "Warning: Desired error not necessarily achieved due to precision loss.\n",
      "         Current function value: -818.485596\n",
      "         Iterations: 8\n",
      "         Function evaluations: 72\n",
      "         Gradient evaluations: 68\n",
      "         Hessian evaluations: 42\n",
      "Inverse HVP took 2.03739905357 sec\n",
      "Loaded inverse HVP from output/poisoning_900_300_inception_wd-0.001-test-[15, 32, 6].npz\n",
      "Inverse HVP took 0.000523090362549 sec\n",
      "Entering the for loop\n",
      "(1, 268203)\n",
      "Loaded inverse HVP from output/poisoning_900_300_inception_wd-0.001-test-[15, 32, 6].npz\n",
      "Inverse HVP took 0.000610828399658 sec\n",
      "Entering the for loop\n"
     ]
    },
    {
     "name": "stderr",
     "output_type": "stream",
     "text": [
      "[iter_attack.py:169 -     iterative_attack() ] Attach_iter 111 perturbation shape: (1, 268203), perturbation: [[-0.07570809 -0.02631571 -0.02580685 ... -0.10154989  0.04567321\n",
      "   0.04603848]]\n"
     ]
    },
    {
     "name": "stdout",
     "output_type": "stream",
     "text": [
      "(1, 268203)\n",
      "2 2\n",
      "Shape (2, 2048)\n",
      "Using normal model\n"
     ]
    },
    {
     "name": "stderr",
     "output_type": "stream",
     "text": [
      "[genericNeuralNet.py:328 -     print_model_eval() ] Train loss (w reg) on all data: 0.013797782\n",
      "[genericNeuralNet.py:329 -     print_model_eval() ] Train loss (w/o reg) on all data: 0.0046598786\n",
      "[genericNeuralNet.py:331 -     print_model_eval() ] Test loss (w/o reg) on all data: 0.046189897\n",
      "[genericNeuralNet.py:332 -     print_model_eval() ] Train acc on all data:  1.0\n",
      "[genericNeuralNet.py:333 -     print_model_eval() ] Test acc on all data:   0.98\n",
      "[genericNeuralNet.py:335 -     print_model_eval() ] Norm of the mean of gradients: 0.004919137\n",
      "[genericNeuralNet.py:336 -     print_model_eval() ] Norm of the params: 4.2750216\n",
      "[iter_attack.py:209 -     iterative_attack() ] Test_idx: 15 Test pred (full): [[0.37230477 0.6276952 ]]\n",
      "[iter_attack.py:209 -     iterative_attack() ] Test_idx: 32 Test pred (full): [[0.99813277 0.00186728]]\n"
     ]
    },
    {
     "name": "stdout",
     "output_type": "stream",
     "text": [
      "LBFGS training took [25] iter.\n",
      "After training with LBFGS: \n"
     ]
    },
    {
     "name": "stderr",
     "output_type": "stream",
     "text": [
      "[iter_attack.py:209 -     iterative_attack() ] Test_idx: 6 Test pred (full): [[1.5518037e-04 9.9984479e-01]]\n",
      "[iter_attack.py:210 -     iterative_attack() ] ---------------------\n",
      "[iter_attack.py:215 -     iterative_attack() ] Test_idx: 15 Test pred (top): [[0.37230477 0.6276952 ]]\n",
      "[iter_attack.py:215 -     iterative_attack() ] Test_idx: 32 Test pred (top): [[0.99813277 0.00186728]]\n",
      "[iter_attack.py:215 -     iterative_attack() ] Test_idx: 6 Test pred (top): [[1.5518037e-04 9.9984479e-01]]\n",
      "[iter_attack.py:147 -     iterative_attack() ] *** Iter: 112\n"
     ]
    },
    {
     "name": "stdout",
     "output_type": "stream",
     "text": [
      "Total number of parameters: 2048\n"
     ]
    },
    {
     "name": "stderr",
     "output_type": "stream",
     "text": [
      "[iter_attack.py:169 -     iterative_attack() ] Attach_iter 112 perturbation shape: (1, 268203), perturbation: [[ 0.11455283  0.09639592  0.01137866 ...  0.14043811 -0.00794777\n",
      "  -0.00557189]]\n"
     ]
    },
    {
     "name": "stdout",
     "output_type": "stream",
     "text": [
      "Warning: Desired error not necessarily achieved due to precision loss.\n",
      "         Current function value: -831.399170\n",
      "         Iterations: 9\n",
      "         Function evaluations: 75\n",
      "         Gradient evaluations: 73\n",
      "         Hessian evaluations: 55\n",
      "Inverse HVP took 2.20822691917 sec\n",
      "Loaded inverse HVP from output/poisoning_900_300_inception_wd-0.001-test-[15, 32, 6].npz\n",
      "Inverse HVP took 0.00053596496582 sec\n",
      "Entering the for loop\n",
      "(1, 268203)\n",
      "Loaded inverse HVP from output/poisoning_900_300_inception_wd-0.001-test-[15, 32, 6].npz\n",
      "Inverse HVP took 0.000769138336182 sec\n",
      "Entering the for loop\n"
     ]
    },
    {
     "name": "stderr",
     "output_type": "stream",
     "text": [
      "[iter_attack.py:169 -     iterative_attack() ] Attach_iter 112 perturbation shape: (1, 268203), perturbation: [[-0.06743585 -0.02519524 -0.01061083 ...  0.03470286 -0.02541311\n",
      "  -0.04104732]]\n"
     ]
    },
    {
     "name": "stdout",
     "output_type": "stream",
     "text": [
      "(1, 268203)\n",
      "2 2\n",
      "Shape (2, 2048)\n",
      "Using normal model\n"
     ]
    },
    {
     "name": "stderr",
     "output_type": "stream",
     "text": [
      "[genericNeuralNet.py:328 -     print_model_eval() ] Train loss (w reg) on all data: 0.0137768965\n",
      "[genericNeuralNet.py:329 -     print_model_eval() ] Train loss (w/o reg) on all data: 0.0046454906\n",
      "[genericNeuralNet.py:331 -     print_model_eval() ] Test loss (w/o reg) on all data: 0.04600902\n",
      "[genericNeuralNet.py:332 -     print_model_eval() ] Train acc on all data:  1.0\n",
      "[genericNeuralNet.py:333 -     print_model_eval() ] Test acc on all data:   0.98\n",
      "[genericNeuralNet.py:335 -     print_model_eval() ] Norm of the mean of gradients: 0.0047694133\n",
      "[genericNeuralNet.py:336 -     print_model_eval() ] Norm of the params: 4.2735014\n",
      "[iter_attack.py:209 -     iterative_attack() ] Test_idx: 15 Test pred (full): [[0.37205958 0.6279404 ]]\n",
      "[iter_attack.py:209 -     iterative_attack() ] Test_idx: 32 Test pred (full): [[0.9983209  0.00167909]]\n"
     ]
    },
    {
     "name": "stdout",
     "output_type": "stream",
     "text": [
      "LBFGS training took [21] iter.\n",
      "After training with LBFGS: \n"
     ]
    },
    {
     "name": "stderr",
     "output_type": "stream",
     "text": [
      "[iter_attack.py:209 -     iterative_attack() ] Test_idx: 6 Test pred (full): [[1.4676189e-04 9.9985325e-01]]\n",
      "[iter_attack.py:210 -     iterative_attack() ] ---------------------\n",
      "[iter_attack.py:215 -     iterative_attack() ] Test_idx: 15 Test pred (top): [[0.37205958 0.6279404 ]]\n",
      "[iter_attack.py:215 -     iterative_attack() ] Test_idx: 32 Test pred (top): [[0.9983209  0.00167909]]\n",
      "[iter_attack.py:215 -     iterative_attack() ] Test_idx: 6 Test pred (top): [[1.4676189e-04 9.9985325e-01]]\n",
      "[iter_attack.py:147 -     iterative_attack() ] *** Iter: 113\n"
     ]
    },
    {
     "name": "stdout",
     "output_type": "stream",
     "text": [
      "Total number of parameters: 2048\n"
     ]
    },
    {
     "name": "stderr",
     "output_type": "stream",
     "text": [
      "[iter_attack.py:169 -     iterative_attack() ] Attach_iter 113 perturbation shape: (1, 268203), perturbation: [[ 0.02715921  0.15174457  0.35678467 ... -0.02469745 -0.15073112\n",
      "   0.04864233]]\n"
     ]
    },
    {
     "name": "stdout",
     "output_type": "stream",
     "text": [
      "Warning: Desired error not necessarily achieved due to precision loss.\n",
      "         Current function value: -834.509399\n",
      "         Iterations: 9\n",
      "         Function evaluations: 72\n",
      "         Gradient evaluations: 71\n",
      "         Hessian evaluations: 51\n",
      "Inverse HVP took 2.09719800949 sec\n",
      "Loaded inverse HVP from output/poisoning_900_300_inception_wd-0.001-test-[15, 32, 6].npz\n",
      "Inverse HVP took 0.000586986541748 sec\n",
      "Entering the for loop\n",
      "(1, 268203)\n",
      "Loaded inverse HVP from output/poisoning_900_300_inception_wd-0.001-test-[15, 32, 6].npz\n",
      "Inverse HVP took 0.000674962997437 sec\n",
      "Entering the for loop\n"
     ]
    },
    {
     "name": "stderr",
     "output_type": "stream",
     "text": [
      "[iter_attack.py:169 -     iterative_attack() ] Attach_iter 113 perturbation shape: (1, 268203), perturbation: [[-0.08329679 -0.02594144 -0.03241253 ... -0.14112924  0.05060984\n",
      "   0.04719989]]\n"
     ]
    },
    {
     "name": "stdout",
     "output_type": "stream",
     "text": [
      "(1, 268203)\n",
      "2 2\n",
      "Shape (2, 2048)\n",
      "Using normal model\n"
     ]
    },
    {
     "name": "stderr",
     "output_type": "stream",
     "text": [
      "[genericNeuralNet.py:328 -     print_model_eval() ] Train loss (w reg) on all data: 0.013813522\n",
      "[genericNeuralNet.py:329 -     print_model_eval() ] Train loss (w/o reg) on all data: 0.004667233\n",
      "[genericNeuralNet.py:331 -     print_model_eval() ] Test loss (w/o reg) on all data: 0.04620938\n",
      "[genericNeuralNet.py:332 -     print_model_eval() ] Train acc on all data:  1.0\n",
      "[genericNeuralNet.py:333 -     print_model_eval() ] Test acc on all data:   0.98\n",
      "[genericNeuralNet.py:335 -     print_model_eval() ] Norm of the mean of gradients: 0.004936262\n",
      "[genericNeuralNet.py:336 -     print_model_eval() ] Norm of the params: 4.2769823\n",
      "[iter_attack.py:209 -     iterative_attack() ] Test_idx: 15 Test pred (full): [[0.36608917 0.63391083]]\n",
      "[iter_attack.py:209 -     iterative_attack() ] Test_idx: 32 Test pred (full): [[0.99814177 0.00185829]]\n"
     ]
    },
    {
     "name": "stdout",
     "output_type": "stream",
     "text": [
      "LBFGS training took [43] iter.\n",
      "After training with LBFGS: \n"
     ]
    },
    {
     "name": "stderr",
     "output_type": "stream",
     "text": [
      "[iter_attack.py:209 -     iterative_attack() ] Test_idx: 6 Test pred (full): [[1.550403e-04 9.998449e-01]]\n",
      "[iter_attack.py:210 -     iterative_attack() ] ---------------------\n",
      "[iter_attack.py:215 -     iterative_attack() ] Test_idx: 15 Test pred (top): [[0.36608917 0.63391083]]\n",
      "[iter_attack.py:215 -     iterative_attack() ] Test_idx: 32 Test pred (top): [[0.99814177 0.00185829]]\n",
      "[iter_attack.py:215 -     iterative_attack() ] Test_idx: 6 Test pred (top): [[1.550403e-04 9.998449e-01]]\n",
      "[iter_attack.py:147 -     iterative_attack() ] *** Iter: 114\n"
     ]
    },
    {
     "name": "stdout",
     "output_type": "stream",
     "text": [
      "Total number of parameters: 2048\n"
     ]
    },
    {
     "name": "stderr",
     "output_type": "stream",
     "text": [
      "[iter_attack.py:169 -     iterative_attack() ] Attach_iter 114 perturbation shape: (1, 268203), perturbation: [[ 0.19060455  0.029405   -0.11238931 ...  0.0833331  -0.06824411\n",
      "   0.02358897]]\n"
     ]
    },
    {
     "name": "stdout",
     "output_type": "stream",
     "text": [
      "Warning: Desired error not necessarily achieved due to precision loss.\n",
      "         Current function value: -847.215027\n",
      "         Iterations: 9\n",
      "         Function evaluations: 80\n",
      "         Gradient evaluations: 77\n",
      "         Hessian evaluations: 54\n",
      "Inverse HVP took 2.30261397362 sec\n",
      "Loaded inverse HVP from output/poisoning_900_300_inception_wd-0.001-test-[15, 32, 6].npz\n",
      "Inverse HVP took 0.000524044036865 sec\n",
      "Entering the for loop\n",
      "(1, 268203)\n",
      "Loaded inverse HVP from output/poisoning_900_300_inception_wd-0.001-test-[15, 32, 6].npz\n",
      "Inverse HVP took 0.000655889511108 sec\n",
      "Entering the for loop\n"
     ]
    },
    {
     "name": "stderr",
     "output_type": "stream",
     "text": [
      "[iter_attack.py:169 -     iterative_attack() ] Attach_iter 114 perturbation shape: (1, 268203), perturbation: [[-0.06623645 -0.02353278 -0.01147895 ...  0.00246171 -0.00556889\n",
      "  -0.01855968]]\n"
     ]
    },
    {
     "name": "stdout",
     "output_type": "stream",
     "text": [
      "(1, 268203)\n",
      "2 2\n",
      "Shape (2, 2048)\n",
      "Using normal model\n"
     ]
    },
    {
     "name": "stderr",
     "output_type": "stream",
     "text": [
      "[genericNeuralNet.py:328 -     print_model_eval() ] Train loss (w reg) on all data: 0.013787816\n",
      "[genericNeuralNet.py:329 -     print_model_eval() ] Train loss (w/o reg) on all data: 0.0046513462\n",
      "[genericNeuralNet.py:331 -     print_model_eval() ] Test loss (w/o reg) on all data: 0.04605861\n",
      "[genericNeuralNet.py:332 -     print_model_eval() ] Train acc on all data:  1.0\n",
      "[genericNeuralNet.py:333 -     print_model_eval() ] Test acc on all data:   0.98\n",
      "[genericNeuralNet.py:335 -     print_model_eval() ] Norm of the mean of gradients: 0.0047796075\n",
      "[genericNeuralNet.py:336 -     print_model_eval() ] Norm of the params: 4.274686\n",
      "[iter_attack.py:209 -     iterative_attack() ] Test_idx: 15 Test pred (full): [[0.36669695 0.63330305]]\n",
      "[iter_attack.py:209 -     iterative_attack() ] Test_idx: 32 Test pred (full): [[0.9983132  0.00168686]]\n"
     ]
    },
    {
     "name": "stdout",
     "output_type": "stream",
     "text": [
      "LBFGS training took [21] iter.\n",
      "After training with LBFGS: \n"
     ]
    },
    {
     "name": "stderr",
     "output_type": "stream",
     "text": [
      "[iter_attack.py:209 -     iterative_attack() ] Test_idx: 6 Test pred (full): [[1.4844745e-04 9.9985158e-01]]\n",
      "[iter_attack.py:210 -     iterative_attack() ] ---------------------\n",
      "[iter_attack.py:215 -     iterative_attack() ] Test_idx: 15 Test pred (top): [[0.36669695 0.63330305]]\n",
      "[iter_attack.py:215 -     iterative_attack() ] Test_idx: 32 Test pred (top): [[0.9983132  0.00168686]]\n",
      "[iter_attack.py:215 -     iterative_attack() ] Test_idx: 6 Test pred (top): [[1.4844745e-04 9.9985158e-01]]\n",
      "[iter_attack.py:147 -     iterative_attack() ] *** Iter: 115\n"
     ]
    },
    {
     "name": "stdout",
     "output_type": "stream",
     "text": [
      "Total number of parameters: 2048\n"
     ]
    },
    {
     "name": "stderr",
     "output_type": "stream",
     "text": [
      "[iter_attack.py:169 -     iterative_attack() ] Attach_iter 115 perturbation shape: (1, 268203), perturbation: [[-0.13568461  0.25164494  0.57328427 ...  0.02403608 -0.10557465\n",
      "   0.01731739]]\n"
     ]
    },
    {
     "name": "stdout",
     "output_type": "stream",
     "text": [
      "Warning: Desired error not necessarily achieved due to precision loss.\n",
      "         Current function value: -847.551880\n",
      "         Iterations: 10\n",
      "         Function evaluations: 103\n",
      "         Gradient evaluations: 101\n",
      "         Hessian evaluations: 58\n",
      "Inverse HVP took 2.81637811661 sec\n",
      "Loaded inverse HVP from output/poisoning_900_300_inception_wd-0.001-test-[15, 32, 6].npz\n",
      "Inverse HVP took 0.000525951385498 sec\n",
      "Entering the for loop\n",
      "(1, 268203)\n",
      "Loaded inverse HVP from output/poisoning_900_300_inception_wd-0.001-test-[15, 32, 6].npz\n",
      "Inverse HVP took 0.00059986114502 sec\n",
      "Entering the for loop\n"
     ]
    },
    {
     "name": "stderr",
     "output_type": "stream",
     "text": [
      "[iter_attack.py:169 -     iterative_attack() ] Attach_iter 115 perturbation shape: (1, 268203), perturbation: [[-0.06400176 -0.03924594 -0.02568951 ... -0.08454173  0.01327256\n",
      "   0.04625259]]\n"
     ]
    },
    {
     "name": "stdout",
     "output_type": "stream",
     "text": [
      "(1, 268203)\n",
      "2 2\n",
      "Shape (2, 2048)\n",
      "Using normal model\n"
     ]
    },
    {
     "name": "stderr",
     "output_type": "stream",
     "text": [
      "[genericNeuralNet.py:328 -     print_model_eval() ] Train loss (w reg) on all data: 0.013829343\n",
      "[genericNeuralNet.py:329 -     print_model_eval() ] Train loss (w/o reg) on all data: 0.004674354\n",
      "[genericNeuralNet.py:331 -     print_model_eval() ] Test loss (w/o reg) on all data: 0.04612292\n",
      "[genericNeuralNet.py:332 -     print_model_eval() ] Train acc on all data:  1.0\n",
      "[genericNeuralNet.py:333 -     print_model_eval() ] Test acc on all data:   0.98\n",
      "[genericNeuralNet.py:335 -     print_model_eval() ] Norm of the mean of gradients: 0.004936237\n",
      "[genericNeuralNet.py:336 -     print_model_eval() ] Norm of the params: 4.279016\n",
      "[iter_attack.py:209 -     iterative_attack() ] Test_idx: 15 Test pred (full): [[0.36005566 0.6399443 ]]\n",
      "[iter_attack.py:209 -     iterative_attack() ] Test_idx: 32 Test pred (full): [[0.9981604  0.00183961]]\n"
     ]
    },
    {
     "name": "stdout",
     "output_type": "stream",
     "text": [
      "LBFGS training took [56] iter.\n",
      "After training with LBFGS: \n"
     ]
    },
    {
     "name": "stderr",
     "output_type": "stream",
     "text": [
      "[iter_attack.py:209 -     iterative_attack() ] Test_idx: 6 Test pred (full): [[1.5442578e-04 9.9984550e-01]]\n",
      "[iter_attack.py:210 -     iterative_attack() ] ---------------------\n",
      "[iter_attack.py:215 -     iterative_attack() ] Test_idx: 15 Test pred (top): [[0.36005566 0.6399443 ]]\n",
      "[iter_attack.py:215 -     iterative_attack() ] Test_idx: 32 Test pred (top): [[0.9981604  0.00183961]]\n",
      "[iter_attack.py:215 -     iterative_attack() ] Test_idx: 6 Test pred (top): [[1.5442578e-04 9.9984550e-01]]\n",
      "[iter_attack.py:147 -     iterative_attack() ] *** Iter: 116\n"
     ]
    },
    {
     "name": "stdout",
     "output_type": "stream",
     "text": [
      "Total number of parameters: 2048\n"
     ]
    },
    {
     "name": "stderr",
     "output_type": "stream",
     "text": [
      "[iter_attack.py:169 -     iterative_attack() ] Attach_iter 116 perturbation shape: (1, 268203), perturbation: [[ 0.27882263  0.00782478 -0.17405227 ...  0.12355081 -0.08355361\n",
      "   0.03007472]]\n"
     ]
    },
    {
     "name": "stdout",
     "output_type": "stream",
     "text": [
      "Warning: Desired error not necessarily achieved due to precision loss.\n",
      "         Current function value: -862.891479\n",
      "         Iterations: 9\n",
      "         Function evaluations: 127\n",
      "         Gradient evaluations: 124\n",
      "         Hessian evaluations: 52\n",
      "Inverse HVP took 3.24729704857 sec\n",
      "Loaded inverse HVP from output/poisoning_900_300_inception_wd-0.001-test-[15, 32, 6].npz\n",
      "Inverse HVP took 0.000531196594238 sec\n",
      "Entering the for loop\n",
      "(1, 268203)\n",
      "Loaded inverse HVP from output/poisoning_900_300_inception_wd-0.001-test-[15, 32, 6].npz\n",
      "Inverse HVP took 0.000735998153687 sec\n",
      "Entering the for loop\n"
     ]
    },
    {
     "name": "stderr",
     "output_type": "stream",
     "text": [
      "[iter_attack.py:169 -     iterative_attack() ] Attach_iter 116 perturbation shape: (1, 268203), perturbation: [[-0.0690607  -0.02828176 -0.03096261 ...  0.04487097  0.00659894\n",
      "  -0.06170679]]\n"
     ]
    },
    {
     "name": "stdout",
     "output_type": "stream",
     "text": [
      "(1, 268203)\n",
      "2 2\n",
      "Shape (2, 2048)\n",
      "Using normal model\n"
     ]
    },
    {
     "name": "stderr",
     "output_type": "stream",
     "text": [
      "[genericNeuralNet.py:328 -     print_model_eval() ] Train loss (w reg) on all data: 0.0137979975\n",
      "[genericNeuralNet.py:329 -     print_model_eval() ] Train loss (w/o reg) on all data: 0.0046563596\n",
      "[genericNeuralNet.py:331 -     print_model_eval() ] Test loss (w/o reg) on all data: 0.046150632\n",
      "[genericNeuralNet.py:332 -     print_model_eval() ] Train acc on all data:  1.0\n",
      "[genericNeuralNet.py:333 -     print_model_eval() ] Test acc on all data:   0.98\n",
      "[genericNeuralNet.py:335 -     print_model_eval() ] Norm of the mean of gradients: 0.0047964947\n",
      "[genericNeuralNet.py:336 -     print_model_eval() ] Norm of the params: 4.275895\n",
      "[iter_attack.py:209 -     iterative_attack() ] Test_idx: 15 Test pred (full): [[0.36123788 0.6387622 ]]\n",
      "[iter_attack.py:209 -     iterative_attack() ] Test_idx: 32 Test pred (full): [[0.9983078  0.00169214]]\n"
     ]
    },
    {
     "name": "stdout",
     "output_type": "stream",
     "text": [
      "LBFGS training took [36] iter.\n",
      "After training with LBFGS: \n"
     ]
    },
    {
     "name": "stderr",
     "output_type": "stream",
     "text": [
      "[iter_attack.py:209 -     iterative_attack() ] Test_idx: 6 Test pred (full): [[1.4736797e-04 9.9985266e-01]]\n",
      "[iter_attack.py:210 -     iterative_attack() ] ---------------------\n",
      "[iter_attack.py:215 -     iterative_attack() ] Test_idx: 15 Test pred (top): [[0.36123788 0.6387622 ]]\n",
      "[iter_attack.py:215 -     iterative_attack() ] Test_idx: 32 Test pred (top): [[0.9983078  0.00169214]]\n",
      "[iter_attack.py:215 -     iterative_attack() ] Test_idx: 6 Test pred (top): [[1.4736797e-04 9.9985266e-01]]\n",
      "[iter_attack.py:147 -     iterative_attack() ] *** Iter: 117\n"
     ]
    },
    {
     "name": "stdout",
     "output_type": "stream",
     "text": [
      "Total number of parameters: 2048\n"
     ]
    },
    {
     "name": "stderr",
     "output_type": "stream",
     "text": [
      "[iter_attack.py:169 -     iterative_attack() ] Attach_iter 117 perturbation shape: (1, 268203), perturbation: [[-0.11105493  0.08488914  0.36004871 ... -0.01749434 -0.08413741\n",
      "   0.02615846]]\n"
     ]
    },
    {
     "name": "stdout",
     "output_type": "stream",
     "text": [
      "Warning: Desired error not necessarily achieved due to precision loss.\n",
      "         Current function value: -860.912781\n",
      "         Iterations: 8\n",
      "         Function evaluations: 75\n",
      "         Gradient evaluations: 71\n",
      "         Hessian evaluations: 43\n",
      "Inverse HVP took 2.03509306908 sec\n",
      "Loaded inverse HVP from output/poisoning_900_300_inception_wd-0.001-test-[15, 32, 6].npz\n",
      "Inverse HVP took 0.000549077987671 sec\n",
      "Entering the for loop\n",
      "(1, 268203)\n",
      "Loaded inverse HVP from output/poisoning_900_300_inception_wd-0.001-test-[15, 32, 6].npz\n",
      "Inverse HVP took 0.000711917877197 sec\n",
      "Entering the for loop\n"
     ]
    },
    {
     "name": "stderr",
     "output_type": "stream",
     "text": [
      "[iter_attack.py:169 -     iterative_attack() ] Attach_iter 117 perturbation shape: (1, 268203), perturbation: [[-0.07740788 -0.03952352 -0.02145388 ... -0.07689852  0.00788677\n",
      "   0.02431734]]\n"
     ]
    },
    {
     "name": "stdout",
     "output_type": "stream",
     "text": [
      "(1, 268203)\n",
      "2 2\n",
      "Shape (2, 2048)\n",
      "Using normal model\n"
     ]
    },
    {
     "name": "stderr",
     "output_type": "stream",
     "text": [
      "[genericNeuralNet.py:328 -     print_model_eval() ] Train loss (w reg) on all data: 0.013842574\n",
      "[genericNeuralNet.py:329 -     print_model_eval() ] Train loss (w/o reg) on all data: 0.0046804342\n",
      "[genericNeuralNet.py:331 -     print_model_eval() ] Test loss (w/o reg) on all data: 0.046070877\n",
      "[genericNeuralNet.py:332 -     print_model_eval() ] Train acc on all data:  1.0\n",
      "[genericNeuralNet.py:333 -     print_model_eval() ] Test acc on all data:   0.98\n",
      "[genericNeuralNet.py:335 -     print_model_eval() ] Norm of the mean of gradients: 0.0049502538\n",
      "[genericNeuralNet.py:336 -     print_model_eval() ] Norm of the params: 4.280687\n",
      "[iter_attack.py:209 -     iterative_attack() ] Test_idx: 15 Test pred (full): [[0.35476708 0.645233  ]]\n",
      "[iter_attack.py:209 -     iterative_attack() ] Test_idx: 32 Test pred (full): [[0.9981609 0.0018391]]\n"
     ]
    },
    {
     "name": "stdout",
     "output_type": "stream",
     "text": [
      "LBFGS training took [53] iter.\n",
      "After training with LBFGS: \n"
     ]
    },
    {
     "name": "stderr",
     "output_type": "stream",
     "text": [
      "[iter_attack.py:209 -     iterative_attack() ] Test_idx: 6 Test pred (full): [[1.5599931e-04 9.9984396e-01]]\n",
      "[iter_attack.py:210 -     iterative_attack() ] ---------------------\n",
      "[iter_attack.py:215 -     iterative_attack() ] Test_idx: 15 Test pred (top): [[0.35476708 0.645233  ]]\n",
      "[iter_attack.py:215 -     iterative_attack() ] Test_idx: 32 Test pred (top): [[0.9981609 0.0018391]]\n",
      "[iter_attack.py:215 -     iterative_attack() ] Test_idx: 6 Test pred (top): [[1.5599931e-04 9.9984396e-01]]\n",
      "[iter_attack.py:147 -     iterative_attack() ] *** Iter: 118\n"
     ]
    },
    {
     "name": "stdout",
     "output_type": "stream",
     "text": [
      "Total number of parameters: 2048\n"
     ]
    },
    {
     "name": "stderr",
     "output_type": "stream",
     "text": [
      "[iter_attack.py:169 -     iterative_attack() ] Attach_iter 118 perturbation shape: (1, 268203), perturbation: [[ 0.27257285  0.04857978 -0.1011559  ...  0.12610511 -0.15318382\n",
      "   0.08126113]]\n"
     ]
    },
    {
     "name": "stdout",
     "output_type": "stream",
     "text": [
      "Warning: Desired error not necessarily achieved due to precision loss.\n",
      "         Current function value: -876.173340\n",
      "         Iterations: 10\n",
      "         Function evaluations: 149\n",
      "         Gradient evaluations: 147\n",
      "         Hessian evaluations: 64\n",
      "Inverse HVP took 3.89975214005 sec\n",
      "Loaded inverse HVP from output/poisoning_900_300_inception_wd-0.001-test-[15, 32, 6].npz\n",
      "Inverse HVP took 0.000540971755981 sec\n",
      "Entering the for loop\n",
      "(1, 268203)\n",
      "Loaded inverse HVP from output/poisoning_900_300_inception_wd-0.001-test-[15, 32, 6].npz\n",
      "Inverse HVP took 0.000792026519775 sec\n",
      "Entering the for loop\n"
     ]
    },
    {
     "name": "stderr",
     "output_type": "stream",
     "text": [
      "[iter_attack.py:169 -     iterative_attack() ] Attach_iter 118 perturbation shape: (1, 268203), perturbation: [[-0.07338275 -0.02352197 -0.02806845 ... -0.02265964  0.00755894\n",
      "   0.01124106]]\n"
     ]
    },
    {
     "name": "stdout",
     "output_type": "stream",
     "text": [
      "(1, 268203)\n",
      "2 2\n",
      "Shape (2, 2048)\n",
      "Using normal model\n"
     ]
    },
    {
     "name": "stderr",
     "output_type": "stream",
     "text": [
      "[genericNeuralNet.py:328 -     print_model_eval() ] Train loss (w reg) on all data: 0.013814338\n",
      "[genericNeuralNet.py:329 -     print_model_eval() ] Train loss (w/o reg) on all data: 0.0046637147\n",
      "[genericNeuralNet.py:331 -     print_model_eval() ] Test loss (w/o reg) on all data: 0.04616338\n",
      "[genericNeuralNet.py:332 -     print_model_eval() ] Train acc on all data:  1.0\n",
      "[genericNeuralNet.py:333 -     print_model_eval() ] Test acc on all data:   0.98\n",
      "[genericNeuralNet.py:335 -     print_model_eval() ] Norm of the mean of gradients: 0.004825037\n",
      "[genericNeuralNet.py:336 -     print_model_eval() ] Norm of the params: 4.277995\n",
      "[iter_attack.py:209 -     iterative_attack() ] Test_idx: 15 Test pred (full): [[0.35479578 0.64520425]]\n",
      "[iter_attack.py:209 -     iterative_attack() ] Test_idx: 32 Test pred (full): [[0.99831474 0.00168525]]\n"
     ]
    },
    {
     "name": "stdout",
     "output_type": "stream",
     "text": [
      "LBFGS training took [40] iter.\n",
      "After training with LBFGS: \n"
     ]
    },
    {
     "name": "stderr",
     "output_type": "stream",
     "text": [
      "[iter_attack.py:209 -     iterative_attack() ] Test_idx: 6 Test pred (full): [[1.4576857e-04 9.9985421e-01]]\n",
      "[iter_attack.py:210 -     iterative_attack() ] ---------------------\n",
      "[iter_attack.py:215 -     iterative_attack() ] Test_idx: 15 Test pred (top): [[0.35479578 0.64520425]]\n",
      "[iter_attack.py:215 -     iterative_attack() ] Test_idx: 32 Test pred (top): [[0.99831474 0.00168525]]\n",
      "[iter_attack.py:215 -     iterative_attack() ] Test_idx: 6 Test pred (top): [[1.4576857e-04 9.9985421e-01]]\n",
      "[iter_attack.py:147 -     iterative_attack() ] *** Iter: 119\n"
     ]
    },
    {
     "name": "stdout",
     "output_type": "stream",
     "text": [
      "Total number of parameters: 2048\n"
     ]
    },
    {
     "name": "stderr",
     "output_type": "stream",
     "text": [
      "[iter_attack.py:169 -     iterative_attack() ] Attach_iter 119 perturbation shape: (1, 268203), perturbation: [[-0.21233386  0.0382183   0.26355067 ...  0.0174397   0.00839514\n",
      "  -0.03883554]]\n"
     ]
    },
    {
     "name": "stdout",
     "output_type": "stream",
     "text": [
      "Warning: Desired error not necessarily achieved due to precision loss.\n",
      "         Current function value: -877.184387\n",
      "         Iterations: 11\n",
      "         Function evaluations: 122\n",
      "         Gradient evaluations: 120\n",
      "         Hessian evaluations: 71\n",
      "Inverse HVP took 3.35761499405 sec\n",
      "Loaded inverse HVP from output/poisoning_900_300_inception_wd-0.001-test-[15, 32, 6].npz\n",
      "Inverse HVP took 0.000530004501343 sec\n",
      "Entering the for loop\n",
      "(1, 268203)\n",
      "Loaded inverse HVP from output/poisoning_900_300_inception_wd-0.001-test-[15, 32, 6].npz\n",
      "Inverse HVP took 0.000723123550415 sec\n",
      "Entering the for loop\n"
     ]
    },
    {
     "name": "stderr",
     "output_type": "stream",
     "text": [
      "[iter_attack.py:169 -     iterative_attack() ] Attach_iter 119 perturbation shape: (1, 268203), perturbation: [[-0.07773639 -0.05002627 -0.02800463 ... -0.00419549 -0.00446671\n",
      "  -0.00992454]]\n"
     ]
    },
    {
     "name": "stdout",
     "output_type": "stream",
     "text": [
      "(1, 268203)\n",
      "2 2\n",
      "Shape (2, 2048)\n",
      "Using normal model\n"
     ]
    },
    {
     "name": "stderr",
     "output_type": "stream",
     "text": [
      "[genericNeuralNet.py:328 -     print_model_eval() ] Train loss (w reg) on all data: 0.0138603635\n",
      "[genericNeuralNet.py:329 -     print_model_eval() ] Train loss (w/o reg) on all data: 0.0046876715\n",
      "[genericNeuralNet.py:331 -     print_model_eval() ] Test loss (w/o reg) on all data: 0.0459739\n",
      "[genericNeuralNet.py:332 -     print_model_eval() ] Train acc on all data:  1.0\n",
      "[genericNeuralNet.py:333 -     print_model_eval() ] Test acc on all data:   0.98\n",
      "[genericNeuralNet.py:335 -     print_model_eval() ] Norm of the mean of gradients: 0.00497253\n",
      "[genericNeuralNet.py:336 -     print_model_eval() ] Norm of the params: 4.2831507\n",
      "[iter_attack.py:209 -     iterative_attack() ] Test_idx: 15 Test pred (full): [[0.34845635 0.6515437 ]]\n",
      "[iter_attack.py:209 -     iterative_attack() ] Test_idx: 32 Test pred (full): [[0.99815863 0.00184139]]\n"
     ]
    },
    {
     "name": "stdout",
     "output_type": "stream",
     "text": [
      "LBFGS training took [49] iter.\n",
      "After training with LBFGS: \n"
     ]
    },
    {
     "name": "stderr",
     "output_type": "stream",
     "text": [
      "[iter_attack.py:209 -     iterative_attack() ] Test_idx: 6 Test pred (full): [[1.5700646e-04 9.9984300e-01]]\n",
      "[iter_attack.py:210 -     iterative_attack() ] ---------------------\n",
      "[iter_attack.py:215 -     iterative_attack() ] Test_idx: 15 Test pred (top): [[0.34845635 0.6515437 ]]\n",
      "[iter_attack.py:215 -     iterative_attack() ] Test_idx: 32 Test pred (top): [[0.99815863 0.00184139]]\n",
      "[iter_attack.py:215 -     iterative_attack() ] Test_idx: 6 Test pred (top): [[1.5700646e-04 9.9984300e-01]]\n",
      "[iter_attack.py:147 -     iterative_attack() ] *** Iter: 120\n"
     ]
    },
    {
     "name": "stdout",
     "output_type": "stream",
     "text": [
      "Total number of parameters: 2048\n"
     ]
    },
    {
     "name": "stderr",
     "output_type": "stream",
     "text": [
      "[iter_attack.py:169 -     iterative_attack() ] Attach_iter 120 perturbation shape: (1, 268203), perturbation: [[ 0.38821685  0.16807042 -0.03717844 ... -0.02607618 -0.17939475\n",
      "   0.12514296]]\n"
     ]
    },
    {
     "name": "stdout",
     "output_type": "stream",
     "text": [
      "Warning: Desired error not necessarily achieved due to precision loss.\n",
      "         Current function value: -892.288330\n",
      "         Iterations: 8\n",
      "         Function evaluations: 67\n",
      "         Gradient evaluations: 64\n",
      "         Hessian evaluations: 45\n",
      "Inverse HVP took 1.90207195282 sec\n",
      "Loaded inverse HVP from output/poisoning_900_300_inception_wd-0.001-test-[15, 32, 6].npz\n",
      "Inverse HVP took 0.000514030456543 sec\n",
      "Entering the for loop\n",
      "(1, 268203)\n",
      "Loaded inverse HVP from output/poisoning_900_300_inception_wd-0.001-test-[15, 32, 6].npz\n",
      "Inverse HVP took 0.00071907043457 sec\n",
      "Entering the for loop\n"
     ]
    },
    {
     "name": "stderr",
     "output_type": "stream",
     "text": [
      "[iter_attack.py:169 -     iterative_attack() ] Attach_iter 120 perturbation shape: (1, 268203), perturbation: [[-0.07226186 -0.01785388 -0.0162439  ... -0.04227199  0.00908688\n",
      "   0.01699268]]\n"
     ]
    },
    {
     "name": "stdout",
     "output_type": "stream",
     "text": [
      "(1, 268203)\n",
      "2 2\n",
      "Shape (2, 2048)\n",
      "Using normal model\n"
     ]
    },
    {
     "name": "stderr",
     "output_type": "stream",
     "text": [
      "[genericNeuralNet.py:328 -     print_model_eval() ] Train loss (w reg) on all data: 0.01382211\n",
      "[genericNeuralNet.py:329 -     print_model_eval() ] Train loss (w/o reg) on all data: 0.0046691075\n",
      "[genericNeuralNet.py:331 -     print_model_eval() ] Test loss (w/o reg) on all data: 0.046208493\n",
      "[genericNeuralNet.py:332 -     print_model_eval() ] Train acc on all data:  1.0\n",
      "[genericNeuralNet.py:333 -     print_model_eval() ] Test acc on all data:   0.98\n",
      "[genericNeuralNet.py:335 -     print_model_eval() ] Norm of the mean of gradients: 0.004810957\n",
      "[genericNeuralNet.py:336 -     print_model_eval() ] Norm of the params: 4.2785516\n",
      "[iter_attack.py:209 -     iterative_attack() ] Test_idx: 15 Test pred (full): [[0.34879926 0.6512008 ]]\n",
      "[iter_attack.py:209 -     iterative_attack() ] Test_idx: 32 Test pred (full): [[0.9983302  0.00166989]]\n"
     ]
    },
    {
     "name": "stdout",
     "output_type": "stream",
     "text": [
      "LBFGS training took [35] iter.\n",
      "After training with LBFGS: \n"
     ]
    },
    {
     "name": "stderr",
     "output_type": "stream",
     "text": [
      "[iter_attack.py:209 -     iterative_attack() ] Test_idx: 6 Test pred (full): [[1.4430044e-04 9.9985564e-01]]\n",
      "[iter_attack.py:210 -     iterative_attack() ] ---------------------\n",
      "[iter_attack.py:215 -     iterative_attack() ] Test_idx: 15 Test pred (top): [[0.34879926 0.6512008 ]]\n",
      "[iter_attack.py:215 -     iterative_attack() ] Test_idx: 32 Test pred (top): [[0.9983302  0.00166989]]\n",
      "[iter_attack.py:215 -     iterative_attack() ] Test_idx: 6 Test pred (top): [[1.4430044e-04 9.9985564e-01]]\n",
      "[iter_attack.py:147 -     iterative_attack() ] *** Iter: 121\n"
     ]
    },
    {
     "name": "stdout",
     "output_type": "stream",
     "text": [
      "Total number of parameters: 2048\n"
     ]
    },
    {
     "name": "stderr",
     "output_type": "stream",
     "text": [
      "[iter_attack.py:169 -     iterative_attack() ] Attach_iter 121 perturbation shape: (1, 268203), perturbation: [[-0.29290661  0.04888877  0.3732987  ...  0.11810061 -0.0218548\n",
      "  -0.04168185]]\n"
     ]
    },
    {
     "name": "stdout",
     "output_type": "stream",
     "text": [
      "Warning: Desired error not necessarily achieved due to precision loss.\n",
      "         Current function value: -892.364990\n",
      "         Iterations: 11\n",
      "         Function evaluations: 137\n",
      "         Gradient evaluations: 134\n",
      "         Hessian evaluations: 69\n",
      "Inverse HVP took 3.65934896469 sec\n",
      "Loaded inverse HVP from output/poisoning_900_300_inception_wd-0.001-test-[15, 32, 6].npz\n",
      "Inverse HVP took 0.000527858734131 sec\n",
      "Entering the for loop\n",
      "(1, 268203)\n",
      "Loaded inverse HVP from output/poisoning_900_300_inception_wd-0.001-test-[15, 32, 6].npz\n",
      "Inverse HVP took 0.000603914260864 sec\n",
      "Entering the for loop\n"
     ]
    },
    {
     "name": "stderr",
     "output_type": "stream",
     "text": [
      "[iter_attack.py:169 -     iterative_attack() ] Attach_iter 121 perturbation shape: (1, 268203), perturbation: [[-0.07754705 -0.04654528 -0.02433591 ... -0.04273809 -0.00179629\n",
      "   0.02313916]]\n"
     ]
    },
    {
     "name": "stdout",
     "output_type": "stream",
     "text": [
      "(1, 268203)\n",
      "2 2\n",
      "Shape (2, 2048)\n",
      "Using normal model\n"
     ]
    },
    {
     "name": "stderr",
     "output_type": "stream",
     "text": [
      "[genericNeuralNet.py:328 -     print_model_eval() ] Train loss (w reg) on all data: 0.013873179\n",
      "[genericNeuralNet.py:329 -     print_model_eval() ] Train loss (w/o reg) on all data: 0.004692463\n",
      "[genericNeuralNet.py:331 -     print_model_eval() ] Test loss (w/o reg) on all data: 0.04587949\n",
      "[genericNeuralNet.py:332 -     print_model_eval() ] Train acc on all data:  1.0\n",
      "[genericNeuralNet.py:333 -     print_model_eval() ] Test acc on all data:   0.98\n",
      "[genericNeuralNet.py:335 -     print_model_eval() ] Norm of the mean of gradients: 0.004971274\n",
      "[genericNeuralNet.py:336 -     print_model_eval() ] Norm of the params: 4.2850237\n",
      "[iter_attack.py:209 -     iterative_attack() ] Test_idx: 15 Test pred (full): [[0.34300855 0.6569915 ]]\n",
      "[iter_attack.py:209 -     iterative_attack() ] Test_idx: 32 Test pred (full): [[0.99816364 0.00183644]]\n"
     ]
    },
    {
     "name": "stdout",
     "output_type": "stream",
     "text": [
      "LBFGS training took [49] iter.\n",
      "After training with LBFGS: \n"
     ]
    },
    {
     "name": "stderr",
     "output_type": "stream",
     "text": [
      "[iter_attack.py:209 -     iterative_attack() ] Test_idx: 6 Test pred (full): [[1.5972814e-04 9.9984026e-01]]\n",
      "[iter_attack.py:210 -     iterative_attack() ] ---------------------\n",
      "[iter_attack.py:215 -     iterative_attack() ] Test_idx: 15 Test pred (top): [[0.34300855 0.6569915 ]]\n",
      "[iter_attack.py:215 -     iterative_attack() ] Test_idx: 32 Test pred (top): [[0.99816364 0.00183644]]\n",
      "[iter_attack.py:215 -     iterative_attack() ] Test_idx: 6 Test pred (top): [[1.5972814e-04 9.9984026e-01]]\n",
      "[iter_attack.py:147 -     iterative_attack() ] *** Iter: 122\n"
     ]
    },
    {
     "name": "stdout",
     "output_type": "stream",
     "text": [
      "Total number of parameters: 2048\n"
     ]
    },
    {
     "name": "stderr",
     "output_type": "stream",
     "text": [
      "[iter_attack.py:169 -     iterative_attack() ] Attach_iter 122 perturbation shape: (1, 268203), perturbation: [[ 0.4470703   0.24417698 -0.10910445 ...  0.01386459 -0.20338473\n",
      "   0.12891427]]\n"
     ]
    },
    {
     "name": "stdout",
     "output_type": "stream",
     "text": [
      "Warning: Desired error not necessarily achieved due to precision loss.\n",
      "         Current function value: -906.209534\n",
      "         Iterations: 8\n",
      "         Function evaluations: 57\n",
      "         Gradient evaluations: 54\n",
      "         Hessian evaluations: 41\n",
      "Inverse HVP took 1.69662284851 sec\n",
      "Loaded inverse HVP from output/poisoning_900_300_inception_wd-0.001-test-[15, 32, 6].npz\n",
      "Inverse HVP took 0.000553846359253 sec\n",
      "Entering the for loop\n",
      "(1, 268203)\n",
      "Loaded inverse HVP from output/poisoning_900_300_inception_wd-0.001-test-[15, 32, 6].npz\n",
      "Inverse HVP took 0.000716924667358 sec\n",
      "Entering the for loop\n"
     ]
    },
    {
     "name": "stderr",
     "output_type": "stream",
     "text": [
      "[iter_attack.py:169 -     iterative_attack() ] Attach_iter 122 perturbation shape: (1, 268203), perturbation: [[-0.0698043  -0.01670636 -0.01762932 ... -0.05775454  0.01240594\n",
      "   0.0072128 ]]\n"
     ]
    },
    {
     "name": "stdout",
     "output_type": "stream",
     "text": [
      "(1, 268203)\n",
      "2 2\n",
      "Shape (2, 2048)\n",
      "Using normal model\n"
     ]
    },
    {
     "name": "stderr",
     "output_type": "stream",
     "text": [
      "[genericNeuralNet.py:328 -     print_model_eval() ] Train loss (w reg) on all data: 0.013831109\n",
      "[genericNeuralNet.py:329 -     print_model_eval() ] Train loss (w/o reg) on all data: 0.004673996\n",
      "[genericNeuralNet.py:331 -     print_model_eval() ] Test loss (w/o reg) on all data: 0.046323143\n",
      "[genericNeuralNet.py:332 -     print_model_eval() ] Train acc on all data:  1.0\n",
      "[genericNeuralNet.py:333 -     print_model_eval() ] Test acc on all data:   0.98\n",
      "[genericNeuralNet.py:335 -     print_model_eval() ] Norm of the mean of gradients: 0.0048278538\n",
      "[genericNeuralNet.py:336 -     print_model_eval() ] Norm of the params: 4.279512\n",
      "[iter_attack.py:209 -     iterative_attack() ] Test_idx: 15 Test pred (full): [[0.34400886 0.65599114]]\n",
      "[iter_attack.py:209 -     iterative_attack() ] Test_idx: 32 Test pred (full): [[0.9983388 0.0016611]]\n"
     ]
    },
    {
     "name": "stdout",
     "output_type": "stream",
     "text": [
      "LBFGS training took [35] iter.\n",
      "After training with LBFGS: \n"
     ]
    },
    {
     "name": "stderr",
     "output_type": "stream",
     "text": [
      "[iter_attack.py:209 -     iterative_attack() ] Test_idx: 6 Test pred (full): [[1.4364204e-04 9.9985635e-01]]\n",
      "[iter_attack.py:210 -     iterative_attack() ] ---------------------\n",
      "[iter_attack.py:215 -     iterative_attack() ] Test_idx: 15 Test pred (top): [[0.34400886 0.65599114]]\n",
      "[iter_attack.py:215 -     iterative_attack() ] Test_idx: 32 Test pred (top): [[0.9983388 0.0016611]]\n",
      "[iter_attack.py:215 -     iterative_attack() ] Test_idx: 6 Test pred (top): [[1.4364204e-04 9.9985635e-01]]\n",
      "[iter_attack.py:147 -     iterative_attack() ] *** Iter: 123\n"
     ]
    },
    {
     "name": "stdout",
     "output_type": "stream",
     "text": [
      "Total number of parameters: 2048\n"
     ]
    },
    {
     "name": "stderr",
     "output_type": "stream",
     "text": [
      "[iter_attack.py:169 -     iterative_attack() ] Attach_iter 123 perturbation shape: (1, 268203), perturbation: [[-0.24093392  0.00811345  0.37347701 ... -0.07135483  0.03510584\n",
      "   0.04790665]]\n"
     ]
    },
    {
     "name": "stdout",
     "output_type": "stream",
     "text": [
      "Warning: Desired error not necessarily achieved due to precision loss.\n",
      "         Current function value: -904.409546\n",
      "         Iterations: 11\n",
      "         Function evaluations: 194\n",
      "         Gradient evaluations: 190\n",
      "         Hessian evaluations: 69\n",
      "Inverse HVP took 4.90445494652 sec\n",
      "Loaded inverse HVP from output/poisoning_900_300_inception_wd-0.001-test-[15, 32, 6].npz\n",
      "Inverse HVP took 0.000523090362549 sec\n",
      "Entering the for loop\n",
      "(1, 268203)\n",
      "Loaded inverse HVP from output/poisoning_900_300_inception_wd-0.001-test-[15, 32, 6].npz\n",
      "Inverse HVP took 0.000607013702393 sec\n",
      "Entering the for loop\n"
     ]
    },
    {
     "name": "stderr",
     "output_type": "stream",
     "text": [
      "[iter_attack.py:169 -     iterative_attack() ] Attach_iter 123 perturbation shape: (1, 268203), perturbation: [[-0.07651792 -0.05012394 -0.0258602  ...  0.00678878  0.0272017\n",
      "  -0.00388631]]\n"
     ]
    },
    {
     "name": "stdout",
     "output_type": "stream",
     "text": [
      "(1, 268203)\n",
      "2 2\n",
      "Shape (2, 2048)\n",
      "Using normal model\n"
     ]
    },
    {
     "name": "stderr",
     "output_type": "stream",
     "text": [
      "[genericNeuralNet.py:328 -     print_model_eval() ] Train loss (w reg) on all data: 0.0138882175\n",
      "[genericNeuralNet.py:329 -     print_model_eval() ] Train loss (w/o reg) on all data: 0.0046983613\n",
      "[genericNeuralNet.py:331 -     print_model_eval() ] Test loss (w/o reg) on all data: 0.045781862\n",
      "[genericNeuralNet.py:332 -     print_model_eval() ] Train acc on all data:  1.0\n",
      "[genericNeuralNet.py:333 -     print_model_eval() ] Test acc on all data:   0.98\n",
      "[genericNeuralNet.py:335 -     print_model_eval() ] Norm of the mean of gradients: 0.0050015724\n",
      "[genericNeuralNet.py:336 -     print_model_eval() ] Norm of the params: 4.2871566\n",
      "[iter_attack.py:209 -     iterative_attack() ] Test_idx: 15 Test pred (full): [[0.33858484 0.66141516]]\n",
      "[iter_attack.py:209 -     iterative_attack() ] Test_idx: 32 Test pred (full): [[0.9981664  0.00183367]]\n"
     ]
    },
    {
     "name": "stdout",
     "output_type": "stream",
     "text": [
      "LBFGS training took [44] iter.\n",
      "After training with LBFGS: \n"
     ]
    },
    {
     "name": "stderr",
     "output_type": "stream",
     "text": [
      "[iter_attack.py:209 -     iterative_attack() ] Test_idx: 6 Test pred (full): [[1.5913024e-04 9.9984086e-01]]\n",
      "[iter_attack.py:210 -     iterative_attack() ] ---------------------\n",
      "[iter_attack.py:215 -     iterative_attack() ] Test_idx: 15 Test pred (top): [[0.33858484 0.66141516]]\n",
      "[iter_attack.py:215 -     iterative_attack() ] Test_idx: 32 Test pred (top): [[0.9981664  0.00183367]]\n",
      "[iter_attack.py:215 -     iterative_attack() ] Test_idx: 6 Test pred (top): [[1.5913024e-04 9.9984086e-01]]\n",
      "[iter_attack.py:147 -     iterative_attack() ] *** Iter: 124\n"
     ]
    },
    {
     "name": "stdout",
     "output_type": "stream",
     "text": [
      "Total number of parameters: 2048\n"
     ]
    },
    {
     "name": "stderr",
     "output_type": "stream",
     "text": [
      "[iter_attack.py:169 -     iterative_attack() ] Attach_iter 124 perturbation shape: (1, 268203), perturbation: [[ 0.38783824  0.16470067 -0.16971323 ...  0.1655378  -0.25548226\n",
      "  -0.00713867]]\n"
     ]
    },
    {
     "name": "stdout",
     "output_type": "stream",
     "text": [
      "Warning: Desired error not necessarily achieved due to precision loss.\n",
      "         Current function value: -917.677734\n",
      "         Iterations: 9\n",
      "         Function evaluations: 86\n",
      "         Gradient evaluations: 83\n",
      "         Hessian evaluations: 50\n",
      "Inverse HVP took 2.40859103203 sec\n",
      "Loaded inverse HVP from output/poisoning_900_300_inception_wd-0.001-test-[15, 32, 6].npz\n",
      "Inverse HVP took 0.000533819198608 sec\n",
      "Entering the for loop\n",
      "(1, 268203)\n",
      "Loaded inverse HVP from output/poisoning_900_300_inception_wd-0.001-test-[15, 32, 6].npz\n",
      "Inverse HVP took 0.00071907043457 sec\n",
      "Entering the for loop\n"
     ]
    },
    {
     "name": "stderr",
     "output_type": "stream",
     "text": [
      "[iter_attack.py:169 -     iterative_attack() ] Attach_iter 124 perturbation shape: (1, 268203), perturbation: [[-0.06422502 -0.03014019 -0.02074231 ... -0.01015773  0.00060067\n",
      "  -0.06335227]]\n"
     ]
    },
    {
     "name": "stdout",
     "output_type": "stream",
     "text": [
      "(1, 268203)\n",
      "2 2\n",
      "Shape (2, 2048)\n",
      "Using normal model\n"
     ]
    },
    {
     "name": "stderr",
     "output_type": "stream",
     "text": [
      "[genericNeuralNet.py:328 -     print_model_eval() ] Train loss (w reg) on all data: 0.013838666\n",
      "[genericNeuralNet.py:329 -     print_model_eval() ] Train loss (w/o reg) on all data: 0.0046787816\n",
      "[genericNeuralNet.py:331 -     print_model_eval() ] Test loss (w/o reg) on all data: 0.04638744\n",
      "[genericNeuralNet.py:332 -     print_model_eval() ] Train acc on all data:  1.0\n",
      "[genericNeuralNet.py:333 -     print_model_eval() ] Test acc on all data:   0.98\n",
      "[genericNeuralNet.py:335 -     print_model_eval() ] Norm of the mean of gradients: 0.0048255543\n",
      "[genericNeuralNet.py:336 -     print_model_eval() ] Norm of the params: 4.2801595\n",
      "[iter_attack.py:209 -     iterative_attack() ] Test_idx: 15 Test pred (full): [[0.33927158 0.6607284 ]]\n",
      "[iter_attack.py:209 -     iterative_attack() ] Test_idx: 32 Test pred (full): [[0.9983456  0.00165443]]\n"
     ]
    },
    {
     "name": "stdout",
     "output_type": "stream",
     "text": [
      "LBFGS training took [43] iter.\n",
      "After training with LBFGS: \n"
     ]
    },
    {
     "name": "stderr",
     "output_type": "stream",
     "text": [
      "[iter_attack.py:209 -     iterative_attack() ] Test_idx: 6 Test pred (full): [[1.4450589e-04 9.9985552e-01]]\n",
      "[iter_attack.py:210 -     iterative_attack() ] ---------------------\n",
      "[iter_attack.py:215 -     iterative_attack() ] Test_idx: 15 Test pred (top): [[0.33927158 0.6607284 ]]\n",
      "[iter_attack.py:215 -     iterative_attack() ] Test_idx: 32 Test pred (top): [[0.9983456  0.00165443]]\n",
      "[iter_attack.py:215 -     iterative_attack() ] Test_idx: 6 Test pred (top): [[1.4450589e-04 9.9985552e-01]]\n",
      "[iter_attack.py:147 -     iterative_attack() ] *** Iter: 125\n"
     ]
    },
    {
     "name": "stdout",
     "output_type": "stream",
     "text": [
      "Total number of parameters: 2048\n"
     ]
    },
    {
     "name": "stderr",
     "output_type": "stream",
     "text": [
      "[iter_attack.py:169 -     iterative_attack() ] Attach_iter 125 perturbation shape: (1, 268203), perturbation: [[-0.23703478  0.13996889  0.5006128  ...  0.03711112  0.03909086\n",
      "   0.06667168]]\n"
     ]
    },
    {
     "name": "stdout",
     "output_type": "stream",
     "text": [
      "Warning: Desired error not necessarily achieved due to precision loss.\n",
      "         Current function value: -916.338867\n",
      "         Iterations: 8\n",
      "         Function evaluations: 80\n",
      "         Gradient evaluations: 76\n",
      "         Hessian evaluations: 48\n",
      "Inverse HVP took 2.20622014999 sec\n",
      "Loaded inverse HVP from output/poisoning_900_300_inception_wd-0.001-test-[15, 32, 6].npz\n",
      "Inverse HVP took 0.000524044036865 sec\n",
      "Entering the for loop\n",
      "(1, 268203)\n",
      "Loaded inverse HVP from output/poisoning_900_300_inception_wd-0.001-test-[15, 32, 6].npz\n",
      "Inverse HVP took 0.00059986114502 sec\n",
      "Entering the for loop\n"
     ]
    },
    {
     "name": "stderr",
     "output_type": "stream",
     "text": [
      "[iter_attack.py:169 -     iterative_attack() ] Attach_iter 125 perturbation shape: (1, 268203), perturbation: [[-0.07878367 -0.0494515  -0.04096787 ... -0.05283456  0.02922906\n",
      "   0.06368002]]\n"
     ]
    },
    {
     "name": "stdout",
     "output_type": "stream",
     "text": [
      "(1, 268203)\n",
      "2 2\n",
      "Shape (2, 2048)\n",
      "Using normal model\n"
     ]
    },
    {
     "name": "stderr",
     "output_type": "stream",
     "text": [
      "[genericNeuralNet.py:328 -     print_model_eval() ] Train loss (w reg) on all data: 0.013898077\n",
      "[genericNeuralNet.py:329 -     print_model_eval() ] Train loss (w/o reg) on all data: 0.004702594\n",
      "[genericNeuralNet.py:331 -     print_model_eval() ] Test loss (w/o reg) on all data: 0.04572204\n",
      "[genericNeuralNet.py:332 -     print_model_eval() ] Train acc on all data:  1.0\n",
      "[genericNeuralNet.py:333 -     print_model_eval() ] Test acc on all data:   0.98\n",
      "[genericNeuralNet.py:335 -     print_model_eval() ] Norm of the mean of gradients: 0.0049905935\n",
      "[genericNeuralNet.py:336 -     print_model_eval() ] Norm of the params: 4.288469\n",
      "[iter_attack.py:209 -     iterative_attack() ] Test_idx: 15 Test pred (full): [[0.33384088 0.66615903]]\n",
      "[iter_attack.py:209 -     iterative_attack() ] Test_idx: 32 Test pred (full): [[0.9981755  0.00182446]]\n"
     ]
    },
    {
     "name": "stdout",
     "output_type": "stream",
     "text": [
      "LBFGS training took [55] iter.\n",
      "After training with LBFGS: \n"
     ]
    },
    {
     "name": "stderr",
     "output_type": "stream",
     "text": [
      "[iter_attack.py:209 -     iterative_attack() ] Test_idx: 6 Test pred (full): [[1.5924273e-04 9.9984074e-01]]\n",
      "[iter_attack.py:210 -     iterative_attack() ] ---------------------\n",
      "[iter_attack.py:215 -     iterative_attack() ] Test_idx: 15 Test pred (top): [[0.33384088 0.66615903]]\n",
      "[iter_attack.py:215 -     iterative_attack() ] Test_idx: 32 Test pred (top): [[0.9981755  0.00182446]]\n",
      "[iter_attack.py:215 -     iterative_attack() ] Test_idx: 6 Test pred (top): [[1.5924273e-04 9.9984074e-01]]\n",
      "[iter_attack.py:147 -     iterative_attack() ] *** Iter: 126\n"
     ]
    },
    {
     "name": "stdout",
     "output_type": "stream",
     "text": [
      "Total number of parameters: 2048\n"
     ]
    },
    {
     "name": "stderr",
     "output_type": "stream",
     "text": [
      "[iter_attack.py:169 -     iterative_attack() ] Attach_iter 126 perturbation shape: (1, 268203), perturbation: [[ 0.53552073  0.08559233 -0.31461588 ...  0.19008808 -0.22736478\n",
      "  -0.05139944]]\n"
     ]
    },
    {
     "name": "stdout",
     "output_type": "stream",
     "text": [
      "Warning: Desired error not necessarily achieved due to precision loss.\n",
      "         Current function value: -930.240479\n",
      "         Iterations: 8\n",
      "         Function evaluations: 89\n",
      "         Gradient evaluations: 86\n",
      "         Hessian evaluations: 44\n",
      "Inverse HVP took 2.35404992104 sec\n",
      "Loaded inverse HVP from output/poisoning_900_300_inception_wd-0.001-test-[15, 32, 6].npz\n",
      "Inverse HVP took 0.000520944595337 sec\n",
      "Entering the for loop\n",
      "(1, 268203)\n",
      "Loaded inverse HVP from output/poisoning_900_300_inception_wd-0.001-test-[15, 32, 6].npz\n",
      "Inverse HVP took 0.000600099563599 sec\n",
      "Entering the for loop\n"
     ]
    },
    {
     "name": "stderr",
     "output_type": "stream",
     "text": [
      "[iter_attack.py:169 -     iterative_attack() ] Attach_iter 126 perturbation shape: (1, 268203), perturbation: [[-0.07641616 -0.05446456 -0.03313975 ...  0.00264754 -0.03569202\n",
      "  -0.06286056]]\n"
     ]
    },
    {
     "name": "stdout",
     "output_type": "stream",
     "text": [
      "(1, 268203)\n",
      "2 2\n",
      "Shape (2, 2048)\n",
      "Using normal model\n"
     ]
    },
    {
     "name": "stderr",
     "output_type": "stream",
     "text": [
      "[genericNeuralNet.py:328 -     print_model_eval() ] Train loss (w reg) on all data: 0.0138535965\n",
      "[genericNeuralNet.py:329 -     print_model_eval() ] Train loss (w/o reg) on all data: 0.004684519\n",
      "[genericNeuralNet.py:331 -     print_model_eval() ] Test loss (w/o reg) on all data: 0.046264883\n",
      "[genericNeuralNet.py:332 -     print_model_eval() ] Train acc on all data:  1.0\n",
      "[genericNeuralNet.py:333 -     print_model_eval() ] Test acc on all data:   0.98\n",
      "[genericNeuralNet.py:335 -     print_model_eval() ] Norm of the mean of gradients: 0.004839208\n",
      "[genericNeuralNet.py:336 -     print_model_eval() ] Norm of the params: 4.282307\n",
      "[iter_attack.py:209 -     iterative_attack() ] Test_idx: 15 Test pred (full): [[0.33436167 0.66563827]]\n",
      "[iter_attack.py:209 -     iterative_attack() ] Test_idx: 32 Test pred (full): [[0.99834585 0.00165417]]\n"
     ]
    },
    {
     "name": "stdout",
     "output_type": "stream",
     "text": [
      "LBFGS training took [43] iter.\n",
      "After training with LBFGS: \n"
     ]
    },
    {
     "name": "stderr",
     "output_type": "stream",
     "text": [
      "[iter_attack.py:209 -     iterative_attack() ] Test_idx: 6 Test pred (full): [[1.4490949e-04 9.9985504e-01]]\n",
      "[iter_attack.py:210 -     iterative_attack() ] ---------------------\n",
      "[iter_attack.py:215 -     iterative_attack() ] Test_idx: 15 Test pred (top): [[0.33436167 0.66563827]]\n",
      "[iter_attack.py:215 -     iterative_attack() ] Test_idx: 32 Test pred (top): [[0.99834585 0.00165417]]\n",
      "[iter_attack.py:215 -     iterative_attack() ] Test_idx: 6 Test pred (top): [[1.4490949e-04 9.9985504e-01]]\n",
      "[iter_attack.py:147 -     iterative_attack() ] *** Iter: 127\n"
     ]
    },
    {
     "name": "stdout",
     "output_type": "stream",
     "text": [
      "Total number of parameters: 2048\n"
     ]
    },
    {
     "name": "stderr",
     "output_type": "stream",
     "text": [
      "[iter_attack.py:169 -     iterative_attack() ] Attach_iter 127 perturbation shape: (1, 268203), perturbation: [[-0.04988896  0.20318623  0.42511731 ...  0.02774666 -0.02823865\n",
      "   0.14474265]]\n"
     ]
    },
    {
     "name": "stdout",
     "output_type": "stream",
     "text": [
      "Warning: Desired error not necessarily achieved due to precision loss.\n",
      "         Current function value: -928.902039\n",
      "         Iterations: 9\n",
      "         Function evaluations: 92\n",
      "         Gradient evaluations: 90\n",
      "         Hessian evaluations: 62\n",
      "Inverse HVP took 2.61686205864 sec\n",
      "Loaded inverse HVP from output/poisoning_900_300_inception_wd-0.001-test-[15, 32, 6].npz\n",
      "Inverse HVP took 0.000529050827026 sec\n",
      "Entering the for loop\n",
      "(1, 268203)\n",
      "Loaded inverse HVP from output/poisoning_900_300_inception_wd-0.001-test-[15, 32, 6].npz\n",
      "Inverse HVP took 0.000708103179932 sec\n",
      "Entering the for loop\n"
     ]
    },
    {
     "name": "stderr",
     "output_type": "stream",
     "text": [
      "[iter_attack.py:169 -     iterative_attack() ] Attach_iter 127 perturbation shape: (1, 268203), perturbation: [[-0.07770162 -0.02821875 -0.02981644 ... -0.03898799  0.03925829\n",
      "   0.04960584]]\n"
     ]
    },
    {
     "name": "stdout",
     "output_type": "stream",
     "text": [
      "(1, 268203)\n",
      "2 2\n",
      "Shape (2, 2048)\n",
      "Using normal model\n"
     ]
    },
    {
     "name": "stderr",
     "output_type": "stream",
     "text": [
      "[genericNeuralNet.py:328 -     print_model_eval() ] Train loss (w reg) on all data: 0.013907716\n",
      "[genericNeuralNet.py:329 -     print_model_eval() ] Train loss (w/o reg) on all data: 0.0047076987\n",
      "[genericNeuralNet.py:331 -     print_model_eval() ] Test loss (w/o reg) on all data: 0.045729548\n",
      "[genericNeuralNet.py:332 -     print_model_eval() ] Train acc on all data:  1.0\n",
      "[genericNeuralNet.py:333 -     print_model_eval() ] Test acc on all data:   0.98\n",
      "[genericNeuralNet.py:335 -     print_model_eval() ] Norm of the mean of gradients: 0.00498882\n",
      "[genericNeuralNet.py:336 -     print_model_eval() ] Norm of the params: 4.289526\n",
      "[iter_attack.py:209 -     iterative_attack() ] Test_idx: 15 Test pred (full): [[0.32950583 0.6704942 ]]\n",
      "[iter_attack.py:209 -     iterative_attack() ] Test_idx: 32 Test pred (full): [[0.99817383 0.00182614]]\n"
     ]
    },
    {
     "name": "stdout",
     "output_type": "stream",
     "text": [
      "LBFGS training took [54] iter.\n",
      "After training with LBFGS: \n"
     ]
    },
    {
     "name": "stderr",
     "output_type": "stream",
     "text": [
      "[iter_attack.py:209 -     iterative_attack() ] Test_idx: 6 Test pred (full): [[1.5842656e-04 9.9984157e-01]]\n",
      "[iter_attack.py:210 -     iterative_attack() ] ---------------------\n",
      "[iter_attack.py:215 -     iterative_attack() ] Test_idx: 15 Test pred (top): [[0.32950583 0.6704942 ]]\n",
      "[iter_attack.py:215 -     iterative_attack() ] Test_idx: 32 Test pred (top): [[0.99817383 0.00182614]]\n",
      "[iter_attack.py:215 -     iterative_attack() ] Test_idx: 6 Test pred (top): [[1.5842656e-04 9.9984157e-01]]\n",
      "[iter_attack.py:147 -     iterative_attack() ] *** Iter: 128\n"
     ]
    },
    {
     "name": "stdout",
     "output_type": "stream",
     "text": [
      "Total number of parameters: 2048\n"
     ]
    },
    {
     "name": "stderr",
     "output_type": "stream",
     "text": [
      "[iter_attack.py:169 -     iterative_attack() ] Attach_iter 128 perturbation shape: (1, 268203), perturbation: [[ 0.1578187   0.00125363 -0.18105489 ...  0.22348884 -0.20819543\n",
      "  -0.06496164]]\n"
     ]
    },
    {
     "name": "stdout",
     "output_type": "stream",
     "text": [
      "Warning: Desired error not necessarily achieved due to precision loss.\n",
      "         Current function value: -941.538086\n",
      "         Iterations: 9\n",
      "         Function evaluations: 94\n",
      "         Gradient evaluations: 91\n",
      "         Hessian evaluations: 52\n",
      "Inverse HVP took 2.56047201157 sec\n",
      "Loaded inverse HVP from output/poisoning_900_300_inception_wd-0.001-test-[15, 32, 6].npz\n",
      "Inverse HVP took 0.000572204589844 sec\n",
      "Entering the for loop\n",
      "(1, 268203)\n",
      "Loaded inverse HVP from output/poisoning_900_300_inception_wd-0.001-test-[15, 32, 6].npz\n",
      "Inverse HVP took 0.000771999359131 sec\n",
      "Entering the for loop\n"
     ]
    },
    {
     "name": "stderr",
     "output_type": "stream",
     "text": [
      "[iter_attack.py:169 -     iterative_attack() ] Attach_iter 128 perturbation shape: (1, 268203), perturbation: [[-0.09021082 -0.07090633 -0.04844673 ...  0.05207213 -0.06830724\n",
      "  -0.07751431]]\n"
     ]
    },
    {
     "name": "stdout",
     "output_type": "stream",
     "text": [
      "(1, 268203)\n",
      "2 2\n",
      "Shape (2, 2048)\n",
      "Using normal model\n"
     ]
    },
    {
     "name": "stderr",
     "output_type": "stream",
     "text": [
      "[genericNeuralNet.py:328 -     print_model_eval() ] Train loss (w reg) on all data: 0.013872128\n",
      "[genericNeuralNet.py:329 -     print_model_eval() ] Train loss (w/o reg) on all data: 0.0046922793\n",
      "[genericNeuralNet.py:331 -     print_model_eval() ] Test loss (w/o reg) on all data: 0.046204623\n",
      "[genericNeuralNet.py:332 -     print_model_eval() ] Train acc on all data:  1.0\n",
      "[genericNeuralNet.py:333 -     print_model_eval() ] Test acc on all data:   0.98\n",
      "[genericNeuralNet.py:335 -     print_model_eval() ] Norm of the mean of gradients: 0.0048662215\n",
      "[genericNeuralNet.py:336 -     print_model_eval() ] Norm of the params: 4.2848215\n",
      "[iter_attack.py:209 -     iterative_attack() ] Test_idx: 15 Test pred (full): [[0.32880542 0.67119455]]\n",
      "[iter_attack.py:209 -     iterative_attack() ] Test_idx: 32 Test pred (full): [[0.9983583  0.00164168]]\n"
     ]
    },
    {
     "name": "stdout",
     "output_type": "stream",
     "text": [
      "LBFGS training took [36] iter.\n",
      "After training with LBFGS: \n"
     ]
    },
    {
     "name": "stderr",
     "output_type": "stream",
     "text": [
      "[iter_attack.py:209 -     iterative_attack() ] Test_idx: 6 Test pred (full): [[1.446992e-04 9.998553e-01]]\n",
      "[iter_attack.py:210 -     iterative_attack() ] ---------------------\n",
      "[iter_attack.py:215 -     iterative_attack() ] Test_idx: 15 Test pred (top): [[0.32880542 0.67119455]]\n",
      "[iter_attack.py:215 -     iterative_attack() ] Test_idx: 32 Test pred (top): [[0.9983583  0.00164168]]\n",
      "[iter_attack.py:215 -     iterative_attack() ] Test_idx: 6 Test pred (top): [[1.446992e-04 9.998553e-01]]\n",
      "[iter_attack.py:147 -     iterative_attack() ] *** Iter: 129\n"
     ]
    },
    {
     "name": "stdout",
     "output_type": "stream",
     "text": [
      "Total number of parameters: 2048\n"
     ]
    },
    {
     "name": "stderr",
     "output_type": "stream",
     "text": [
      "[iter_attack.py:169 -     iterative_attack() ] Attach_iter 129 perturbation shape: (1, 268203), perturbation: [[-0.07858104  0.17234381  0.3685959  ... -0.09407853 -0.13980097\n",
      "   0.31014344]]\n"
     ]
    },
    {
     "name": "stdout",
     "output_type": "stream",
     "text": [
      "Warning: Desired error not necessarily achieved due to precision loss.\n",
      "         Current function value: -943.909729\n",
      "         Iterations: 9\n",
      "         Function evaluations: 88\n",
      "         Gradient evaluations: 86\n",
      "         Hessian evaluations: 53\n",
      "Inverse HVP took 2.43157100677 sec\n",
      "Loaded inverse HVP from output/poisoning_900_300_inception_wd-0.001-test-[15, 32, 6].npz\n",
      "Inverse HVP took 0.000515937805176 sec\n",
      "Entering the for loop\n",
      "(1, 268203)\n",
      "Loaded inverse HVP from output/poisoning_900_300_inception_wd-0.001-test-[15, 32, 6].npz\n",
      "Inverse HVP took 0.000600099563599 sec\n",
      "Entering the for loop\n"
     ]
    },
    {
     "name": "stderr",
     "output_type": "stream",
     "text": [
      "[iter_attack.py:169 -     iterative_attack() ] Attach_iter 129 perturbation shape: (1, 268203), perturbation: [[-0.08870141 -0.04806028 -0.03205381 ... -0.08142913  0.06588537\n",
      "   0.09344825]]\n"
     ]
    },
    {
     "name": "stdout",
     "output_type": "stream",
     "text": [
      "(1, 268203)\n",
      "2 2\n",
      "Shape (2, 2048)\n",
      "Using normal model\n"
     ]
    },
    {
     "name": "stderr",
     "output_type": "stream",
     "text": [
      "[genericNeuralNet.py:328 -     print_model_eval() ] Train loss (w reg) on all data: 0.013914943\n",
      "[genericNeuralNet.py:329 -     print_model_eval() ] Train loss (w/o reg) on all data: 0.004711613\n",
      "[genericNeuralNet.py:331 -     print_model_eval() ] Test loss (w/o reg) on all data: 0.04577377\n",
      "[genericNeuralNet.py:332 -     print_model_eval() ] Train acc on all data:  1.0\n",
      "[genericNeuralNet.py:333 -     print_model_eval() ] Test acc on all data:   0.98\n",
      "[genericNeuralNet.py:335 -     print_model_eval() ] Norm of the mean of gradients: 0.004957057\n",
      "[genericNeuralNet.py:336 -     print_model_eval() ] Norm of the params: 4.290298\n",
      "[iter_attack.py:209 -     iterative_attack() ] Test_idx: 15 Test pred (full): [[0.3244502 0.6755498]]\n",
      "[iter_attack.py:209 -     iterative_attack() ] Test_idx: 32 Test pred (full): [[0.9981766  0.00182342]]\n"
     ]
    },
    {
     "name": "stdout",
     "output_type": "stream",
     "text": [
      "LBFGS training took [48] iter.\n",
      "After training with LBFGS: \n"
     ]
    },
    {
     "name": "stderr",
     "output_type": "stream",
     "text": [
      "[iter_attack.py:209 -     iterative_attack() ] Test_idx: 6 Test pred (full): [[1.5824808e-04 9.9984169e-01]]\n",
      "[iter_attack.py:210 -     iterative_attack() ] ---------------------\n",
      "[iter_attack.py:215 -     iterative_attack() ] Test_idx: 15 Test pred (top): [[0.3244502 0.6755498]]\n",
      "[iter_attack.py:215 -     iterative_attack() ] Test_idx: 32 Test pred (top): [[0.9981766  0.00182342]]\n",
      "[iter_attack.py:215 -     iterative_attack() ] Test_idx: 6 Test pred (top): [[1.5824808e-04 9.9984169e-01]]\n",
      "[iter_attack.py:147 -     iterative_attack() ] *** Iter: 130\n"
     ]
    },
    {
     "name": "stdout",
     "output_type": "stream",
     "text": [
      "Total number of parameters: 2048\n"
     ]
    },
    {
     "name": "stderr",
     "output_type": "stream",
     "text": [
      "[iter_attack.py:169 -     iterative_attack() ] Attach_iter 130 perturbation shape: (1, 268203), perturbation: [[ 0.23344889  0.1055821   0.0423086  ...  0.30341354 -0.13524161\n",
      "  -0.20283836]]\n"
     ]
    },
    {
     "name": "stdout",
     "output_type": "stream",
     "text": [
      "Warning: Desired error not necessarily achieved due to precision loss.\n",
      "         Current function value: -954.835083\n",
      "         Iterations: 12\n",
      "         Function evaluations: 152\n",
      "         Gradient evaluations: 151\n",
      "         Hessian evaluations: 87\n",
      "Inverse HVP took 4.13130187988 sec\n",
      "Loaded inverse HVP from output/poisoning_900_300_inception_wd-0.001-test-[15, 32, 6].npz\n",
      "Inverse HVP took 0.000521183013916 sec\n",
      "Entering the for loop\n",
      "(1, 268203)\n",
      "Loaded inverse HVP from output/poisoning_900_300_inception_wd-0.001-test-[15, 32, 6].npz\n",
      "Inverse HVP took 0.000622987747192 sec\n",
      "Entering the for loop\n"
     ]
    },
    {
     "name": "stderr",
     "output_type": "stream",
     "text": [
      "[iter_attack.py:169 -     iterative_attack() ] Attach_iter 130 perturbation shape: (1, 268203), perturbation: [[-0.09713505 -0.06329124 -0.04612074 ...  0.00027575 -0.06595376\n",
      "  -0.07647475]]\n"
     ]
    },
    {
     "name": "stdout",
     "output_type": "stream",
     "text": [
      "(1, 268203)\n",
      "2 2\n",
      "Shape (2, 2048)\n",
      "Using normal model\n"
     ]
    },
    {
     "name": "stderr",
     "output_type": "stream",
     "text": [
      "[genericNeuralNet.py:328 -     print_model_eval() ] Train loss (w reg) on all data: 0.013890862\n",
      "[genericNeuralNet.py:329 -     print_model_eval() ] Train loss (w/o reg) on all data: 0.0047009513\n",
      "[genericNeuralNet.py:331 -     print_model_eval() ] Test loss (w/o reg) on all data: 0.04619942\n",
      "[genericNeuralNet.py:332 -     print_model_eval() ] Train acc on all data:  1.0\n",
      "[genericNeuralNet.py:333 -     print_model_eval() ] Test acc on all data:   0.98\n",
      "[genericNeuralNet.py:335 -     print_model_eval() ] Norm of the mean of gradients: 0.004913225\n",
      "[genericNeuralNet.py:336 -     print_model_eval() ] Norm of the params: 4.287169\n",
      "[iter_attack.py:209 -     iterative_attack() ] Test_idx: 15 Test pred (full): [[0.32316712 0.67683285]]\n",
      "[iter_attack.py:209 -     iterative_attack() ] Test_idx: 32 Test pred (full): [[0.9983621  0.00163792]]\n"
     ]
    },
    {
     "name": "stdout",
     "output_type": "stream",
     "text": [
      "LBFGS training took [30] iter.\n",
      "After training with LBFGS: \n"
     ]
    },
    {
     "name": "stderr",
     "output_type": "stream",
     "text": [
      "[iter_attack.py:209 -     iterative_attack() ] Test_idx: 6 Test pred (full): [[1.4512257e-04 9.9985480e-01]]\n",
      "[iter_attack.py:210 -     iterative_attack() ] ---------------------\n",
      "[iter_attack.py:215 -     iterative_attack() ] Test_idx: 15 Test pred (top): [[0.32316712 0.67683285]]\n",
      "[iter_attack.py:215 -     iterative_attack() ] Test_idx: 32 Test pred (top): [[0.9983621  0.00163792]]\n",
      "[iter_attack.py:215 -     iterative_attack() ] Test_idx: 6 Test pred (top): [[1.4512257e-04 9.9985480e-01]]\n",
      "[iter_attack.py:147 -     iterative_attack() ] *** Iter: 131\n"
     ]
    },
    {
     "name": "stdout",
     "output_type": "stream",
     "text": [
      "Total number of parameters: 2048\n"
     ]
    },
    {
     "name": "stderr",
     "output_type": "stream",
     "text": [
      "[iter_attack.py:169 -     iterative_attack() ] Attach_iter 131 perturbation shape: (1, 268203), perturbation: [[-0.02829325  0.10406527  0.26504576 ...  0.02673181 -0.19648546\n",
      "   0.34250107]]\n"
     ]
    },
    {
     "name": "stdout",
     "output_type": "stream",
     "text": [
      "Warning: Desired error not necessarily achieved due to precision loss.\n",
      "         Current function value: -958.783325\n",
      "         Iterations: 10\n",
      "         Function evaluations: 93\n",
      "         Gradient evaluations: 92\n",
      "         Hessian evaluations: 56\n",
      "Inverse HVP took 2.60787606239 sec\n",
      "Loaded inverse HVP from output/poisoning_900_300_inception_wd-0.001-test-[15, 32, 6].npz\n",
      "Inverse HVP took 0.000524044036865 sec\n",
      "Entering the for loop\n",
      "(1, 268203)\n",
      "Loaded inverse HVP from output/poisoning_900_300_inception_wd-0.001-test-[15, 32, 6].npz\n",
      "Inverse HVP took 0.000598907470703 sec\n",
      "Entering the for loop\n"
     ]
    },
    {
     "name": "stderr",
     "output_type": "stream",
     "text": [
      "[iter_attack.py:169 -     iterative_attack() ] Attach_iter 131 perturbation shape: (1, 268203), perturbation: [[-0.086907   -0.07100116 -0.04284115 ... -0.0944714   0.07284434\n",
      "   0.10622469]]\n"
     ]
    },
    {
     "name": "stdout",
     "output_type": "stream",
     "text": [
      "(1, 268203)\n",
      "2 2\n",
      "Shape (2, 2048)\n",
      "Using normal model\n"
     ]
    },
    {
     "name": "stderr",
     "output_type": "stream",
     "text": [
      "[genericNeuralNet.py:328 -     print_model_eval() ] Train loss (w reg) on all data: 0.013924795\n",
      "[genericNeuralNet.py:329 -     print_model_eval() ] Train loss (w/o reg) on all data: 0.0047165826\n",
      "[genericNeuralNet.py:331 -     print_model_eval() ] Test loss (w/o reg) on all data: 0.045844655\n",
      "[genericNeuralNet.py:332 -     print_model_eval() ] Train acc on all data:  1.0\n",
      "[genericNeuralNet.py:333 -     print_model_eval() ] Test acc on all data:   0.98\n",
      "[genericNeuralNet.py:335 -     print_model_eval() ] Norm of the mean of gradients: 0.0049695615\n",
      "[genericNeuralNet.py:336 -     print_model_eval() ] Norm of the params: 4.291436\n",
      "[iter_attack.py:209 -     iterative_attack() ] Test_idx: 15 Test pred (full): [[0.31920213 0.68079793]]\n",
      "[iter_attack.py:209 -     iterative_attack() ] Test_idx: 32 Test pred (full): [[0.99819213 0.0018079 ]]\n"
     ]
    },
    {
     "name": "stdout",
     "output_type": "stream",
     "text": [
      "LBFGS training took [44] iter.\n",
      "After training with LBFGS: \n"
     ]
    },
    {
     "name": "stderr",
     "output_type": "stream",
     "text": [
      "[iter_attack.py:209 -     iterative_attack() ] Test_idx: 6 Test pred (full): [[1.5655649e-04 9.9984348e-01]]\n",
      "[iter_attack.py:210 -     iterative_attack() ] ---------------------\n",
      "[iter_attack.py:215 -     iterative_attack() ] Test_idx: 15 Test pred (top): [[0.31920213 0.68079793]]\n",
      "[iter_attack.py:215 -     iterative_attack() ] Test_idx: 32 Test pred (top): [[0.99819213 0.0018079 ]]\n",
      "[iter_attack.py:215 -     iterative_attack() ] Test_idx: 6 Test pred (top): [[1.5655649e-04 9.9984348e-01]]\n",
      "[iter_attack.py:147 -     iterative_attack() ] *** Iter: 132\n"
     ]
    },
    {
     "name": "stdout",
     "output_type": "stream",
     "text": [
      "Total number of parameters: 2048\n"
     ]
    },
    {
     "name": "stderr",
     "output_type": "stream",
     "text": [
      "[iter_attack.py:169 -     iterative_attack() ] Attach_iter 132 perturbation shape: (1, 268203), perturbation: [[ 0.22684759  0.06008278 -0.07164989 ...  0.25291124 -0.06370052\n",
      "  -0.24733864]]\n"
     ]
    },
    {
     "name": "stdout",
     "output_type": "stream",
     "text": [
      "Warning: Desired error not necessarily achieved due to precision loss.\n",
      "         Current function value: -968.569519\n",
      "         Iterations: 8\n",
      "         Function evaluations: 155\n",
      "         Gradient evaluations: 148\n",
      "         Hessian evaluations: 51\n",
      "Inverse HVP took 3.83849000931 sec\n",
      "Loaded inverse HVP from output/poisoning_900_300_inception_wd-0.001-test-[15, 32, 6].npz\n",
      "Inverse HVP took 0.000525951385498 sec\n",
      "Entering the for loop\n",
      "(1, 268203)\n",
      "Loaded inverse HVP from output/poisoning_900_300_inception_wd-0.001-test-[15, 32, 6].npz\n",
      "Inverse HVP took 0.000617980957031 sec\n",
      "Entering the for loop\n"
     ]
    },
    {
     "name": "stderr",
     "output_type": "stream",
     "text": [
      "[iter_attack.py:169 -     iterative_attack() ] Attach_iter 132 perturbation shape: (1, 268203), perturbation: [[-0.09508897 -0.03365101 -0.02547422 ...  0.02233116 -0.08275399\n",
      "  -0.08833092]]\n"
     ]
    },
    {
     "name": "stdout",
     "output_type": "stream",
     "text": [
      "(1, 268203)\n",
      "2 2\n",
      "Shape (2, 2048)\n",
      "Using normal model\n"
     ]
    },
    {
     "name": "stderr",
     "output_type": "stream",
     "text": [
      "[genericNeuralNet.py:328 -     print_model_eval() ] Train loss (w reg) on all data: 0.013906676\n",
      "[genericNeuralNet.py:329 -     print_model_eval() ] Train loss (w/o reg) on all data: 0.004708947\n",
      "[genericNeuralNet.py:331 -     print_model_eval() ] Test loss (w/o reg) on all data: 0.04609843\n",
      "[genericNeuralNet.py:332 -     print_model_eval() ] Train acc on all data:  1.0\n",
      "[genericNeuralNet.py:333 -     print_model_eval() ] Test acc on all data:   0.98\n",
      "[genericNeuralNet.py:335 -     print_model_eval() ] Norm of the mean of gradients: 0.0049356758\n",
      "[genericNeuralNet.py:336 -     print_model_eval() ] Norm of the params: 4.288993\n",
      "[iter_attack.py:209 -     iterative_attack() ] Test_idx: 15 Test pred (full): [[0.31804666 0.6819533 ]]\n",
      "[iter_attack.py:209 -     iterative_attack() ] Test_idx: 32 Test pred (full): [[0.99835384 0.00164621]]\n"
     ]
    },
    {
     "name": "stdout",
     "output_type": "stream",
     "text": [
      "LBFGS training took [36] iter.\n",
      "After training with LBFGS: \n"
     ]
    },
    {
     "name": "stderr",
     "output_type": "stream",
     "text": [
      "[iter_attack.py:209 -     iterative_attack() ] Test_idx: 6 Test pred (full): [[1.4551291e-04 9.9985445e-01]]\n",
      "[iter_attack.py:210 -     iterative_attack() ] ---------------------\n",
      "[iter_attack.py:215 -     iterative_attack() ] Test_idx: 15 Test pred (top): [[0.31804666 0.6819533 ]]\n",
      "[iter_attack.py:215 -     iterative_attack() ] Test_idx: 32 Test pred (top): [[0.99835384 0.00164621]]\n",
      "[iter_attack.py:215 -     iterative_attack() ] Test_idx: 6 Test pred (top): [[1.4551291e-04 9.9985445e-01]]\n",
      "[iter_attack.py:147 -     iterative_attack() ] *** Iter: 133\n"
     ]
    },
    {
     "name": "stdout",
     "output_type": "stream",
     "text": [
      "Total number of parameters: 2048\n"
     ]
    },
    {
     "name": "stderr",
     "output_type": "stream",
     "text": [
      "[iter_attack.py:169 -     iterative_attack() ] Attach_iter 133 perturbation shape: (1, 268203), perturbation: [[ 2.59429216e-04  1.63779557e-02  1.36499941e-01 ...  1.73634142e-01\n",
      "  -2.71033376e-01  2.65271485e-01]]\n"
     ]
    },
    {
     "name": "stdout",
     "output_type": "stream",
     "text": [
      "Warning: Desired error not necessarily achieved due to precision loss.\n",
      "         Current function value: -971.969238\n",
      "         Iterations: 10\n",
      "         Function evaluations: 94\n",
      "         Gradient evaluations: 92\n",
      "         Hessian evaluations: 56\n",
      "Inverse HVP took 2.6247189045 sec\n",
      "Loaded inverse HVP from output/poisoning_900_300_inception_wd-0.001-test-[15, 32, 6].npz\n",
      "Inverse HVP took 0.000558853149414 sec\n",
      "Entering the for loop\n",
      "(1, 268203)\n",
      "Loaded inverse HVP from output/poisoning_900_300_inception_wd-0.001-test-[15, 32, 6].npz\n",
      "Inverse HVP took 0.000731945037842 sec\n",
      "Entering the for loop\n"
     ]
    },
    {
     "name": "stderr",
     "output_type": "stream",
     "text": [
      "[iter_attack.py:169 -     iterative_attack() ] Attach_iter 133 perturbation shape: (1, 268203), perturbation: [[-0.08092478 -0.04895121 -0.02836288 ... -0.07392149  0.06794061\n",
      "   0.08438747]]\n"
     ]
    },
    {
     "name": "stdout",
     "output_type": "stream",
     "text": [
      "(1, 268203)\n",
      "2 2\n",
      "Shape (2, 2048)\n",
      "Using normal model\n"
     ]
    },
    {
     "name": "stderr",
     "output_type": "stream",
     "text": [
      "[genericNeuralNet.py:328 -     print_model_eval() ] Train loss (w reg) on all data: 0.01393078\n",
      "[genericNeuralNet.py:329 -     print_model_eval() ] Train loss (w/o reg) on all data: 0.0047207633\n",
      "[genericNeuralNet.py:331 -     print_model_eval() ] Test loss (w/o reg) on all data: 0.04586607\n",
      "[genericNeuralNet.py:332 -     print_model_eval() ] Train acc on all data:  1.0\n",
      "[genericNeuralNet.py:333 -     print_model_eval() ] Test acc on all data:   0.98\n",
      "[genericNeuralNet.py:335 -     print_model_eval() ] Norm of the mean of gradients: 0.004944303\n",
      "[genericNeuralNet.py:336 -     print_model_eval() ] Norm of the params: 4.291857\n",
      "[iter_attack.py:209 -     iterative_attack() ] Test_idx: 15 Test pred (full): [[0.31434813 0.6856519 ]]\n",
      "[iter_attack.py:209 -     iterative_attack() ] Test_idx: 32 Test pred (full): [[0.99822193 0.00177807]]\n"
     ]
    },
    {
     "name": "stdout",
     "output_type": "stream",
     "text": [
      "LBFGS training took [45] iter.\n",
      "After training with LBFGS: \n"
     ]
    },
    {
     "name": "stderr",
     "output_type": "stream",
     "text": [
      "[iter_attack.py:209 -     iterative_attack() ] Test_idx: 6 Test pred (full): [[1.564441e-04 9.998435e-01]]\n",
      "[iter_attack.py:210 -     iterative_attack() ] ---------------------\n",
      "[iter_attack.py:215 -     iterative_attack() ] Test_idx: 15 Test pred (top): [[0.31434813 0.6856519 ]]\n",
      "[iter_attack.py:215 -     iterative_attack() ] Test_idx: 32 Test pred (top): [[0.99822193 0.00177807]]\n",
      "[iter_attack.py:215 -     iterative_attack() ] Test_idx: 6 Test pred (top): [[1.564441e-04 9.998435e-01]]\n",
      "[iter_attack.py:147 -     iterative_attack() ] *** Iter: 134\n"
     ]
    },
    {
     "name": "stdout",
     "output_type": "stream",
     "text": [
      "Total number of parameters: 2048\n"
     ]
    },
    {
     "name": "stderr",
     "output_type": "stream",
     "text": [
      "[iter_attack.py:169 -     iterative_attack() ] Attach_iter 134 perturbation shape: (1, 268203), perturbation: [[ 0.21818335  0.08103133  0.01280648 ...  0.05184998  0.00972002\n",
      "  -0.17754376]]\n"
     ]
    },
    {
     "name": "stdout",
     "output_type": "stream",
     "text": [
      "Warning: Desired error not necessarily achieved due to precision loss.\n",
      "         Current function value: -981.170044\n",
      "         Iterations: 10\n",
      "         Function evaluations: 120\n",
      "         Gradient evaluations: 117\n",
      "         Hessian evaluations: 65\n",
      "Inverse HVP took 3.37006402016 sec\n",
      "Loaded inverse HVP from output/poisoning_900_300_inception_wd-0.001-test-[15, 32, 6].npz\n",
      "Inverse HVP took 0.000549077987671 sec\n",
      "Entering the for loop\n",
      "(1, 268203)\n",
      "Loaded inverse HVP from output/poisoning_900_300_inception_wd-0.001-test-[15, 32, 6].npz\n",
      "Inverse HVP took 0.000610113143921 sec\n",
      "Entering the for loop\n"
     ]
    },
    {
     "name": "stderr",
     "output_type": "stream",
     "text": [
      "[iter_attack.py:169 -     iterative_attack() ] Attach_iter 134 perturbation shape: (1, 268203), perturbation: [[-0.08639546 -0.04623956 -0.0271698  ...  0.00080627 -0.06204087\n",
      "  -0.07972431]]\n"
     ]
    },
    {
     "name": "stdout",
     "output_type": "stream",
     "text": [
      "(1, 268203)\n",
      "2 2\n",
      "Shape (2, 2048)\n",
      "Using normal model\n"
     ]
    },
    {
     "name": "stderr",
     "output_type": "stream",
     "text": [
      "[genericNeuralNet.py:328 -     print_model_eval() ] Train loss (w reg) on all data: 0.013920477\n",
      "[genericNeuralNet.py:329 -     print_model_eval() ] Train loss (w/o reg) on all data: 0.0047145854\n",
      "[genericNeuralNet.py:331 -     print_model_eval() ] Test loss (w/o reg) on all data: 0.046038043\n",
      "[genericNeuralNet.py:332 -     print_model_eval() ] Train acc on all data:  1.0\n",
      "[genericNeuralNet.py:333 -     print_model_eval() ] Test acc on all data:   0.98\n",
      "[genericNeuralNet.py:335 -     print_model_eval() ] Norm of the mean of gradients: 0.004964494\n",
      "[genericNeuralNet.py:336 -     print_model_eval() ] Norm of the params: 4.290895\n",
      "[iter_attack.py:209 -     iterative_attack() ] Test_idx: 15 Test pred (full): [[0.31430668 0.6856933 ]]\n",
      "[iter_attack.py:209 -     iterative_attack() ] Test_idx: 32 Test pred (full): [[0.9983328 0.0016672]]\n"
     ]
    },
    {
     "name": "stdout",
     "output_type": "stream",
     "text": [
      "LBFGS training took [22] iter.\n",
      "After training with LBFGS: \n"
     ]
    },
    {
     "name": "stderr",
     "output_type": "stream",
     "text": [
      "[iter_attack.py:209 -     iterative_attack() ] Test_idx: 6 Test pred (full): [[1.4499325e-04 9.9985504e-01]]\n",
      "[iter_attack.py:210 -     iterative_attack() ] ---------------------\n",
      "[iter_attack.py:215 -     iterative_attack() ] Test_idx: 15 Test pred (top): [[0.31430668 0.6856933 ]]\n",
      "[iter_attack.py:215 -     iterative_attack() ] Test_idx: 32 Test pred (top): [[0.9983328 0.0016672]]\n",
      "[iter_attack.py:215 -     iterative_attack() ] Test_idx: 6 Test pred (top): [[1.4499325e-04 9.9985504e-01]]\n",
      "[iter_attack.py:147 -     iterative_attack() ] *** Iter: 135\n"
     ]
    },
    {
     "name": "stdout",
     "output_type": "stream",
     "text": [
      "Total number of parameters: 2048\n"
     ]
    },
    {
     "name": "stderr",
     "output_type": "stream",
     "text": [
      "[iter_attack.py:169 -     iterative_attack() ] Attach_iter 135 perturbation shape: (1, 268203), perturbation: [[-0.02038065 -0.02837348 -0.01175042 ... -0.09635672 -0.32560417\n",
      "   0.32821065]]\n"
     ]
    },
    {
     "name": "stdout",
     "output_type": "stream",
     "text": [
      "Warning: Desired error not necessarily achieved due to precision loss.\n",
      "         Current function value: -982.088745\n",
      "         Iterations: 9\n",
      "         Function evaluations: 94\n",
      "         Gradient evaluations: 91\n",
      "         Hessian evaluations: 48\n",
      "Inverse HVP took 2.51632809639 sec\n",
      "Loaded inverse HVP from output/poisoning_900_300_inception_wd-0.001-test-[15, 32, 6].npz\n",
      "Inverse HVP took 0.000524997711182 sec\n",
      "Entering the for loop\n",
      "(1, 268203)\n",
      "Loaded inverse HVP from output/poisoning_900_300_inception_wd-0.001-test-[15, 32, 6].npz\n",
      "Inverse HVP took 0.00059700012207 sec\n",
      "Entering the for loop\n"
     ]
    },
    {
     "name": "stderr",
     "output_type": "stream",
     "text": [
      "[iter_attack.py:169 -     iterative_attack() ] Attach_iter 135 perturbation shape: (1, 268203), perturbation: [[-0.07486817 -0.04938773 -0.03274971 ... -0.06280363  0.07060125\n",
      "   0.05409773]]\n"
     ]
    },
    {
     "name": "stdout",
     "output_type": "stream",
     "text": [
      "(1, 268203)\n",
      "2 2\n",
      "Shape (2, 2048)\n",
      "Using normal model\n"
     ]
    },
    {
     "name": "stderr",
     "output_type": "stream",
     "text": [
      "[genericNeuralNet.py:328 -     print_model_eval() ] Train loss (w reg) on all data: 0.013937237\n",
      "[genericNeuralNet.py:329 -     print_model_eval() ] Train loss (w/o reg) on all data: 0.0047250143\n",
      "[genericNeuralNet.py:331 -     print_model_eval() ] Test loss (w/o reg) on all data: 0.045863666\n",
      "[genericNeuralNet.py:332 -     print_model_eval() ] Train acc on all data:  1.0\n",
      "[genericNeuralNet.py:333 -     print_model_eval() ] Test acc on all data:   0.98\n",
      "[genericNeuralNet.py:335 -     print_model_eval() ] Norm of the mean of gradients: 0.0049276575\n",
      "[genericNeuralNet.py:336 -     print_model_eval() ] Norm of the params: 4.29237\n",
      "[iter_attack.py:209 -     iterative_attack() ] Test_idx: 15 Test pred (full): [[0.30991492 0.69008505]]\n",
      "[iter_attack.py:209 -     iterative_attack() ] Test_idx: 32 Test pred (full): [[0.9982572  0.00174276]]\n"
     ]
    },
    {
     "name": "stdout",
     "output_type": "stream",
     "text": [
      "LBFGS training took [21] iter.\n",
      "After training with LBFGS: \n"
     ]
    },
    {
     "name": "stderr",
     "output_type": "stream",
     "text": [
      "[iter_attack.py:209 -     iterative_attack() ] Test_idx: 6 Test pred (full): [[1.5594816e-04 9.9984407e-01]]\n",
      "[iter_attack.py:210 -     iterative_attack() ] ---------------------\n",
      "[iter_attack.py:215 -     iterative_attack() ] Test_idx: 15 Test pred (top): [[0.30991492 0.69008505]]\n",
      "[iter_attack.py:215 -     iterative_attack() ] Test_idx: 32 Test pred (top): [[0.9982572  0.00174276]]\n",
      "[iter_attack.py:215 -     iterative_attack() ] Test_idx: 6 Test pred (top): [[1.5594816e-04 9.9984407e-01]]\n",
      "[iter_attack.py:147 -     iterative_attack() ] *** Iter: 136\n"
     ]
    },
    {
     "name": "stdout",
     "output_type": "stream",
     "text": [
      "Total number of parameters: 2048\n"
     ]
    },
    {
     "name": "stderr",
     "output_type": "stream",
     "text": [
      "[iter_attack.py:169 -     iterative_attack() ] Attach_iter 136 perturbation shape: (1, 268203), perturbation: [[ 0.08633552  0.17377019  0.32258287 ...  0.09165861  0.00662517\n",
      "  -0.18633172]]\n"
     ]
    },
    {
     "name": "stdout",
     "output_type": "stream",
     "text": [
      "Warning: Desired error not necessarily achieved due to precision loss.\n",
      "         Current function value: -992.839478\n",
      "         Iterations: 10\n",
      "         Function evaluations: 144\n",
      "         Gradient evaluations: 141\n",
      "         Hessian evaluations: 62\n",
      "Inverse HVP took 3.73205709457 sec\n",
      "Loaded inverse HVP from output/poisoning_900_300_inception_wd-0.001-test-[15, 32, 6].npz\n",
      "Inverse HVP took 0.000521898269653 sec\n",
      "Entering the for loop\n",
      "(1, 268203)\n",
      "Loaded inverse HVP from output/poisoning_900_300_inception_wd-0.001-test-[15, 32, 6].npz\n",
      "Inverse HVP took 0.000600099563599 sec\n",
      "Entering the for loop\n"
     ]
    },
    {
     "name": "stderr",
     "output_type": "stream",
     "text": [
      "[iter_attack.py:169 -     iterative_attack() ] Attach_iter 136 perturbation shape: (1, 268203), perturbation: [[-0.09411062 -0.05257097 -0.03839231 ... -0.04798587 -0.02563363\n",
      "  -0.08171034]]\n"
     ]
    },
    {
     "name": "stdout",
     "output_type": "stream",
     "text": [
      "(1, 268203)\n",
      "2 2\n",
      "Shape (2, 2048)\n",
      "Using normal model\n"
     ]
    },
    {
     "name": "stderr",
     "output_type": "stream",
     "text": [
      "[genericNeuralNet.py:328 -     print_model_eval() ] Train loss (w reg) on all data: 0.013934847\n",
      "[genericNeuralNet.py:329 -     print_model_eval() ] Train loss (w/o reg) on all data: 0.0047207163\n",
      "[genericNeuralNet.py:331 -     print_model_eval() ] Test loss (w/o reg) on all data: 0.046028182\n",
      "[genericNeuralNet.py:332 -     print_model_eval() ] Train acc on all data:  1.0\n",
      "[genericNeuralNet.py:333 -     print_model_eval() ] Test acc on all data:   0.98\n",
      "[genericNeuralNet.py:335 -     print_model_eval() ] Norm of the mean of gradients: 0.0049799373\n",
      "[genericNeuralNet.py:336 -     print_model_eval() ] Norm of the params: 4.2928157\n",
      "[iter_attack.py:209 -     iterative_attack() ] Test_idx: 15 Test pred (full): [[0.30957815 0.6904218 ]]\n",
      "[iter_attack.py:209 -     iterative_attack() ] Test_idx: 32 Test pred (full): [[0.998315   0.00168505]]\n",
      "[iter_attack.py:209 -     iterative_attack() ] Test_idx: 6 Test pred (full): [[1.4458252e-04 9.9985540e-01]]\n"
     ]
    },
    {
     "name": "stdout",
     "output_type": "stream",
     "text": [
      "LBFGS training took [24] iter.\n",
      "After training with LBFGS: \n"
     ]
    },
    {
     "name": "stderr",
     "output_type": "stream",
     "text": [
      "[iter_attack.py:210 -     iterative_attack() ] ---------------------\n",
      "[iter_attack.py:215 -     iterative_attack() ] Test_idx: 15 Test pred (top): [[0.30957815 0.6904218 ]]\n",
      "[iter_attack.py:215 -     iterative_attack() ] Test_idx: 32 Test pred (top): [[0.998315   0.00168505]]\n",
      "[iter_attack.py:215 -     iterative_attack() ] Test_idx: 6 Test pred (top): [[1.4458252e-04 9.9985540e-01]]\n",
      "[iter_attack.py:147 -     iterative_attack() ] *** Iter: 137\n"
     ]
    },
    {
     "name": "stdout",
     "output_type": "stream",
     "text": [
      "Total number of parameters: 2048\n"
     ]
    },
    {
     "name": "stderr",
     "output_type": "stream",
     "text": [
      "[iter_attack.py:169 -     iterative_attack() ] Attach_iter 137 perturbation shape: (1, 268203), perturbation: [[ 0.13030684 -0.11454266 -0.30337048 ...  0.1184434  -0.24830931\n",
      "   0.181988  ]]\n"
     ]
    },
    {
     "name": "stdout",
     "output_type": "stream",
     "text": [
      "Warning: Desired error not necessarily achieved due to precision loss.\n",
      "         Current function value: -994.957275\n",
      "         Iterations: 9\n",
      "         Function evaluations: 100\n",
      "         Gradient evaluations: 97\n",
      "         Hessian evaluations: 49\n",
      "Inverse HVP took 2.67150712013 sec\n",
      "Loaded inverse HVP from output/poisoning_900_300_inception_wd-0.001-test-[15, 32, 6].npz\n",
      "Inverse HVP took 0.000523090362549 sec\n",
      "Entering the for loop\n",
      "(1, 268203)\n",
      "Loaded inverse HVP from output/poisoning_900_300_inception_wd-0.001-test-[15, 32, 6].npz\n",
      "Inverse HVP took 0.000617027282715 sec\n",
      "Entering the for loop\n"
     ]
    },
    {
     "name": "stderr",
     "output_type": "stream",
     "text": [
      "[iter_attack.py:169 -     iterative_attack() ] Attach_iter 137 perturbation shape: (1, 268203), perturbation: [[-0.07191853 -0.02937554 -0.01263833 ... -0.05498062  0.02992689\n",
      "   0.1000865 ]]\n"
     ]
    },
    {
     "name": "stdout",
     "output_type": "stream",
     "text": [
      "(1, 268203)\n",
      "2 2\n",
      "Shape (2, 2048)\n",
      "Using normal model\n"
     ]
    },
    {
     "name": "stderr",
     "output_type": "stream",
     "text": [
      "[genericNeuralNet.py:328 -     print_model_eval() ] Train loss (w reg) on all data: 0.013952807\n",
      "[genericNeuralNet.py:329 -     print_model_eval() ] Train loss (w/o reg) on all data: 0.004732647\n",
      "[genericNeuralNet.py:331 -     print_model_eval() ] Test loss (w/o reg) on all data: 0.04584775\n",
      "[genericNeuralNet.py:332 -     print_model_eval() ] Train acc on all data:  1.0\n",
      "[genericNeuralNet.py:333 -     print_model_eval() ] Test acc on all data:   0.98\n",
      "[genericNeuralNet.py:335 -     print_model_eval() ] Norm of the mean of gradients: 0.004949649\n",
      "[genericNeuralNet.py:336 -     print_model_eval() ] Norm of the params: 4.294219\n",
      "[iter_attack.py:209 -     iterative_attack() ] Test_idx: 15 Test pred (full): [[0.30507207 0.6949279 ]]\n",
      "[iter_attack.py:209 -     iterative_attack() ] Test_idx: 32 Test pred (full): [[0.9982796  0.00172049]]\n"
     ]
    },
    {
     "name": "stdout",
     "output_type": "stream",
     "text": [
      "LBFGS training took [34] iter.\n",
      "After training with LBFGS: \n"
     ]
    },
    {
     "name": "stderr",
     "output_type": "stream",
     "text": [
      "[iter_attack.py:209 -     iterative_attack() ] Test_idx: 6 Test pred (full): [[1.5548724e-04 9.9984443e-01]]\n",
      "[iter_attack.py:210 -     iterative_attack() ] ---------------------\n",
      "[iter_attack.py:215 -     iterative_attack() ] Test_idx: 15 Test pred (top): [[0.30507207 0.6949279 ]]\n",
      "[iter_attack.py:215 -     iterative_attack() ] Test_idx: 32 Test pred (top): [[0.9982796  0.00172049]]\n",
      "[iter_attack.py:215 -     iterative_attack() ] Test_idx: 6 Test pred (top): [[1.5548724e-04 9.9984443e-01]]\n",
      "[iter_attack.py:147 -     iterative_attack() ] *** Iter: 138\n"
     ]
    },
    {
     "name": "stdout",
     "output_type": "stream",
     "text": [
      "Total number of parameters: 2048\n"
     ]
    },
    {
     "name": "stderr",
     "output_type": "stream",
     "text": [
      "[iter_attack.py:169 -     iterative_attack() ] Attach_iter 138 perturbation shape: (1, 268203), perturbation: [[ 0.03032172  0.15235484  0.34532881 ...  0.21122824 -0.01553093\n",
      "  -0.13725835]]\n"
     ]
    },
    {
     "name": "stdout",
     "output_type": "stream",
     "text": [
      "Warning: Desired error not necessarily achieved due to precision loss.\n",
      "         Current function value: -1005.371399\n",
      "         Iterations: 9\n",
      "         Function evaluations: 72\n",
      "         Gradient evaluations: 69\n",
      "         Hessian evaluations: 55\n",
      "Inverse HVP took 2.10888409615 sec\n",
      "Loaded inverse HVP from output/poisoning_900_300_inception_wd-0.001-test-[15, 32, 6].npz\n",
      "Inverse HVP took 0.000521183013916 sec\n",
      "Entering the for loop\n",
      "(1, 268203)\n",
      "Loaded inverse HVP from output/poisoning_900_300_inception_wd-0.001-test-[15, 32, 6].npz\n",
      "Inverse HVP took 0.000620126724243 sec\n",
      "Entering the for loop\n"
     ]
    },
    {
     "name": "stderr",
     "output_type": "stream",
     "text": [
      "[iter_attack.py:169 -     iterative_attack() ] Attach_iter 138 perturbation shape: (1, 268203), perturbation: [[-0.09058963 -0.01883417 -0.027167   ... -0.07072654  0.00921694\n",
      "  -0.04713636]]\n"
     ]
    },
    {
     "name": "stdout",
     "output_type": "stream",
     "text": [
      "(1, 268203)\n",
      "2 2\n",
      "Shape (2, 2048)\n",
      "Using normal model\n"
     ]
    },
    {
     "name": "stderr",
     "output_type": "stream",
     "text": [
      "[genericNeuralNet.py:328 -     print_model_eval() ] Train loss (w reg) on all data: 0.013951354\n",
      "[genericNeuralNet.py:329 -     print_model_eval() ] Train loss (w/o reg) on all data: 0.004727259\n",
      "[genericNeuralNet.py:331 -     print_model_eval() ] Test loss (w/o reg) on all data: 0.046031225\n",
      "[genericNeuralNet.py:332 -     print_model_eval() ] Train acc on all data:  1.0\n",
      "[genericNeuralNet.py:333 -     print_model_eval() ] Test acc on all data:   0.98\n",
      "[genericNeuralNet.py:335 -     print_model_eval() ] Norm of the mean of gradients: 0.0050041997\n",
      "[genericNeuralNet.py:336 -     print_model_eval() ] Norm of the params: 4.2951355\n",
      "[iter_attack.py:209 -     iterative_attack() ] Test_idx: 15 Test pred (full): [[0.30461904 0.6953809 ]]\n",
      "[iter_attack.py:209 -     iterative_attack() ] Test_idx: 32 Test pred (full): [[0.9982882  0.00171172]]\n"
     ]
    },
    {
     "name": "stdout",
     "output_type": "stream",
     "text": [
      "LBFGS training took [29] iter.\n",
      "After training with LBFGS: \n"
     ]
    },
    {
     "name": "stderr",
     "output_type": "stream",
     "text": [
      "[iter_attack.py:209 -     iterative_attack() ] Test_idx: 6 Test pred (full): [[1.4543385e-04 9.9985456e-01]]\n",
      "[iter_attack.py:210 -     iterative_attack() ] ---------------------\n",
      "[iter_attack.py:215 -     iterative_attack() ] Test_idx: 15 Test pred (top): [[0.30461904 0.6953809 ]]\n",
      "[iter_attack.py:215 -     iterative_attack() ] Test_idx: 32 Test pred (top): [[0.9982882  0.00171172]]\n",
      "[iter_attack.py:215 -     iterative_attack() ] Test_idx: 6 Test pred (top): [[1.4543385e-04 9.9985456e-01]]\n",
      "[iter_attack.py:147 -     iterative_attack() ] *** Iter: 139\n"
     ]
    },
    {
     "name": "stdout",
     "output_type": "stream",
     "text": [
      "Total number of parameters: 2048\n"
     ]
    },
    {
     "name": "stderr",
     "output_type": "stream",
     "text": [
      "[iter_attack.py:169 -     iterative_attack() ] Attach_iter 139 perturbation shape: (1, 268203), perturbation: [[ 0.01754268 -0.17263256 -0.29493651 ... -0.07389212 -0.26278931\n",
      "   0.22460906]]\n"
     ]
    },
    {
     "name": "stdout",
     "output_type": "stream",
     "text": [
      "Warning: Desired error not necessarily achieved due to precision loss.\n",
      "         Current function value: -1008.460205\n",
      "         Iterations: 8\n",
      "         Function evaluations: 88\n",
      "         Gradient evaluations: 84\n",
      "         Hessian evaluations: 44\n",
      "Inverse HVP took 2.31039905548 sec\n",
      "Loaded inverse HVP from output/poisoning_900_300_inception_wd-0.001-test-[15, 32, 6].npz\n",
      "Inverse HVP took 0.000524997711182 sec\n",
      "Entering the for loop\n",
      "(1, 268203)\n",
      "Loaded inverse HVP from output/poisoning_900_300_inception_wd-0.001-test-[15, 32, 6].npz\n",
      "Inverse HVP took 0.000658988952637 sec\n",
      "Entering the for loop\n"
     ]
    },
    {
     "name": "stderr",
     "output_type": "stream",
     "text": [
      "[iter_attack.py:169 -     iterative_attack() ] Attach_iter 139 perturbation shape: (1, 268203), perturbation: [[-0.06496023 -0.04436281 -0.02926761 ... -0.0112972   0.0019474\n",
      "   0.06540415]]\n"
     ]
    },
    {
     "name": "stdout",
     "output_type": "stream",
     "text": [
      "(1, 268203)\n",
      "2 2\n",
      "Shape (2, 2048)\n",
      "Using normal model\n"
     ]
    },
    {
     "name": "stderr",
     "output_type": "stream",
     "text": [
      "[genericNeuralNet.py:328 -     print_model_eval() ] Train loss (w reg) on all data: 0.013958493\n",
      "[genericNeuralNet.py:329 -     print_model_eval() ] Train loss (w/o reg) on all data: 0.0047364603\n",
      "[genericNeuralNet.py:331 -     print_model_eval() ] Test loss (w/o reg) on all data: 0.045846537\n",
      "[genericNeuralNet.py:332 -     print_model_eval() ] Train acc on all data:  1.0\n",
      "[genericNeuralNet.py:333 -     print_model_eval() ] Test acc on all data:   0.98\n",
      "[genericNeuralNet.py:335 -     print_model_eval() ] Norm of the mean of gradients: 0.0049495646\n",
      "[genericNeuralNet.py:336 -     print_model_eval() ] Norm of the params: 4.2946553\n",
      "[iter_attack.py:209 -     iterative_attack() ] Test_idx: 15 Test pred (full): [[0.3011157  0.69888425]]\n",
      "[iter_attack.py:209 -     iterative_attack() ] Test_idx: 32 Test pred (full): [[0.99830365 0.0016963 ]]\n"
     ]
    },
    {
     "name": "stdout",
     "output_type": "stream",
     "text": [
      "LBFGS training took [23] iter.\n",
      "After training with LBFGS: \n"
     ]
    },
    {
     "name": "stderr",
     "output_type": "stream",
     "text": [
      "[iter_attack.py:209 -     iterative_attack() ] Test_idx: 6 Test pred (full): [[1.5579254e-04 9.9984419e-01]]\n",
      "[iter_attack.py:210 -     iterative_attack() ] ---------------------\n",
      "[iter_attack.py:215 -     iterative_attack() ] Test_idx: 15 Test pred (top): [[0.3011157  0.69888425]]\n",
      "[iter_attack.py:215 -     iterative_attack() ] Test_idx: 32 Test pred (top): [[0.99830365 0.0016963 ]]\n",
      "[iter_attack.py:215 -     iterative_attack() ] Test_idx: 6 Test pred (top): [[1.5579254e-04 9.9984419e-01]]\n",
      "[iter_attack.py:147 -     iterative_attack() ] *** Iter: 140\n"
     ]
    },
    {
     "name": "stdout",
     "output_type": "stream",
     "text": [
      "Total number of parameters: 2048\n"
     ]
    },
    {
     "name": "stderr",
     "output_type": "stream",
     "text": [
      "[iter_attack.py:169 -     iterative_attack() ] Attach_iter 140 perturbation shape: (1, 268203), perturbation: [[ 0.22348976  0.2356209   0.28374285 ...  0.24178778 -0.00038901\n",
      "  -0.10965191]]\n"
     ]
    },
    {
     "name": "stdout",
     "output_type": "stream",
     "text": [
      "Warning: Desired error not necessarily achieved due to precision loss.\n",
      "         Current function value: -1015.524109\n",
      "         Iterations: 9\n",
      "         Function evaluations: 76\n",
      "         Gradient evaluations: 73\n",
      "         Hessian evaluations: 52\n",
      "Inverse HVP took 2.20952486992 sec\n",
      "Loaded inverse HVP from output/poisoning_900_300_inception_wd-0.001-test-[15, 32, 6].npz\n",
      "Inverse HVP took 0.00053596496582 sec\n",
      "Entering the for loop\n",
      "(1, 268203)\n",
      "Loaded inverse HVP from output/poisoning_900_300_inception_wd-0.001-test-[15, 32, 6].npz\n",
      "Inverse HVP took 0.000703096389771 sec\n",
      "Entering the for loop\n"
     ]
    },
    {
     "name": "stderr",
     "output_type": "stream",
     "text": [
      "[iter_attack.py:169 -     iterative_attack() ] Attach_iter 140 perturbation shape: (1, 268203), perturbation: [[-0.08505614 -0.02716175 -0.01523273 ... -0.08453606  0.01551361\n",
      "  -0.06114342]]\n"
     ]
    },
    {
     "name": "stdout",
     "output_type": "stream",
     "text": [
      "(1, 268203)\n",
      "2 2\n",
      "Shape (2, 2048)\n",
      "Using normal model\n"
     ]
    },
    {
     "name": "stderr",
     "output_type": "stream",
     "text": [
      "[genericNeuralNet.py:328 -     print_model_eval() ] Train loss (w reg) on all data: 0.013968792\n",
      "[genericNeuralNet.py:329 -     print_model_eval() ] Train loss (w/o reg) on all data: 0.0047346214\n",
      "[genericNeuralNet.py:331 -     print_model_eval() ] Test loss (w/o reg) on all data: 0.04600235\n",
      "[genericNeuralNet.py:332 -     print_model_eval() ] Train acc on all data:  1.0\n",
      "[genericNeuralNet.py:333 -     print_model_eval() ] Test acc on all data:   0.98\n",
      "[genericNeuralNet.py:335 -     print_model_eval() ] Norm of the mean of gradients: 0.005026096\n",
      "[genericNeuralNet.py:336 -     print_model_eval() ] Norm of the params: 4.297481\n",
      "[iter_attack.py:209 -     iterative_attack() ] Test_idx: 15 Test pred (full): [[0.30023926 0.6997607 ]]\n",
      "[iter_attack.py:209 -     iterative_attack() ] Test_idx: 32 Test pred (full): [[0.9982729  0.00172709]]\n"
     ]
    },
    {
     "name": "stdout",
     "output_type": "stream",
     "text": [
      "LBFGS training took [29] iter.\n",
      "After training with LBFGS: \n"
     ]
    },
    {
     "name": "stderr",
     "output_type": "stream",
     "text": [
      "[iter_attack.py:209 -     iterative_attack() ] Test_idx: 6 Test pred (full): [[1.4672941e-04 9.9985325e-01]]\n",
      "[iter_attack.py:210 -     iterative_attack() ] ---------------------\n",
      "[iter_attack.py:215 -     iterative_attack() ] Test_idx: 15 Test pred (top): [[0.30023926 0.6997607 ]]\n",
      "[iter_attack.py:215 -     iterative_attack() ] Test_idx: 32 Test pred (top): [[0.9982729  0.00172709]]\n",
      "[iter_attack.py:215 -     iterative_attack() ] Test_idx: 6 Test pred (top): [[1.4672941e-04 9.9985325e-01]]\n",
      "[iter_attack.py:147 -     iterative_attack() ] *** Iter: 141\n"
     ]
    },
    {
     "name": "stdout",
     "output_type": "stream",
     "text": [
      "Total number of parameters: 2048\n"
     ]
    },
    {
     "name": "stderr",
     "output_type": "stream",
     "text": [
      "[iter_attack.py:169 -     iterative_attack() ] Attach_iter 141 perturbation shape: (1, 268203), perturbation: [[-0.1426048  -0.40866023 -0.34729555 ... -0.01696192 -0.23727466\n",
      "   0.15441589]]\n"
     ]
    },
    {
     "name": "stdout",
     "output_type": "stream",
     "text": [
      "Warning: Desired error not necessarily achieved due to precision loss.\n",
      "         Current function value: -1020.460571\n",
      "         Iterations: 8\n",
      "         Function evaluations: 83\n",
      "         Gradient evaluations: 79\n",
      "         Hessian evaluations: 48\n",
      "Inverse HVP took 2.26564192772 sec\n",
      "Loaded inverse HVP from output/poisoning_900_300_inception_wd-0.001-test-[15, 32, 6].npz\n",
      "Inverse HVP took 0.000521183013916 sec\n",
      "Entering the for loop\n",
      "(1, 268203)\n",
      "Loaded inverse HVP from output/poisoning_900_300_inception_wd-0.001-test-[15, 32, 6].npz\n",
      "Inverse HVP took 0.00061297416687 sec\n",
      "Entering the for loop\n"
     ]
    },
    {
     "name": "stderr",
     "output_type": "stream",
     "text": [
      "[iter_attack.py:169 -     iterative_attack() ] Attach_iter 141 perturbation shape: (1, 268203), perturbation: [[-0.06584521 -0.02752589 -0.02246778 ...  0.00829499 -0.03852081\n",
      "   0.09667154]]\n"
     ]
    },
    {
     "name": "stdout",
     "output_type": "stream",
     "text": [
      "(1, 268203)\n",
      "2 2\n",
      "Shape (2, 2048)\n",
      "Using normal model\n"
     ]
    },
    {
     "name": "stderr",
     "output_type": "stream",
     "text": [
      "[genericNeuralNet.py:328 -     print_model_eval() ] Train loss (w reg) on all data: 0.013959612\n",
      "[genericNeuralNet.py:329 -     print_model_eval() ] Train loss (w/o reg) on all data: 0.004738368\n",
      "[genericNeuralNet.py:331 -     print_model_eval() ] Test loss (w/o reg) on all data: 0.04589069\n",
      "[genericNeuralNet.py:332 -     print_model_eval() ] Train acc on all data:  1.0\n",
      "[genericNeuralNet.py:333 -     print_model_eval() ] Test acc on all data:   0.98\n",
      "[genericNeuralNet.py:335 -     print_model_eval() ] Norm of the mean of gradients: 0.004937931\n",
      "[genericNeuralNet.py:336 -     print_model_eval() ] Norm of the params: 4.2944717\n",
      "[iter_attack.py:209 -     iterative_attack() ] Test_idx: 15 Test pred (full): [[0.2972778 0.7027222]]\n",
      "[iter_attack.py:209 -     iterative_attack() ] Test_idx: 32 Test pred (full): [[0.9983204  0.00167953]]\n"
     ]
    },
    {
     "name": "stdout",
     "output_type": "stream",
     "text": [
      "LBFGS training took [22] iter.\n",
      "After training with LBFGS: \n"
     ]
    },
    {
     "name": "stderr",
     "output_type": "stream",
     "text": [
      "[iter_attack.py:209 -     iterative_attack() ] Test_idx: 6 Test pred (full): [[1.549184e-04 9.998450e-01]]\n",
      "[iter_attack.py:210 -     iterative_attack() ] ---------------------\n",
      "[iter_attack.py:215 -     iterative_attack() ] Test_idx: 15 Test pred (top): [[0.2972778 0.7027222]]\n",
      "[iter_attack.py:215 -     iterative_attack() ] Test_idx: 32 Test pred (top): [[0.9983204  0.00167953]]\n",
      "[iter_attack.py:215 -     iterative_attack() ] Test_idx: 6 Test pred (top): [[1.549184e-04 9.998450e-01]]\n",
      "[iter_attack.py:147 -     iterative_attack() ] *** Iter: 142\n"
     ]
    },
    {
     "name": "stdout",
     "output_type": "stream",
     "text": [
      "Total number of parameters: 2048\n"
     ]
    },
    {
     "name": "stderr",
     "output_type": "stream",
     "text": [
      "[iter_attack.py:169 -     iterative_attack() ] Attach_iter 142 perturbation shape: (1, 268203), perturbation: [[ 0.192407    0.3614696   0.3458254  ...  0.06171047  0.01417763\n",
      "  -0.04458043]]\n"
     ]
    },
    {
     "name": "stdout",
     "output_type": "stream",
     "text": [
      "Warning: Desired error not necessarily achieved due to precision loss.\n",
      "         Current function value: -1025.236328\n",
      "         Iterations: 8\n",
      "         Function evaluations: 89\n",
      "         Gradient evaluations: 86\n",
      "         Hessian evaluations: 46\n",
      "Inverse HVP took 2.38103604317 sec\n",
      "Loaded inverse HVP from output/poisoning_900_300_inception_wd-0.001-test-[15, 32, 6].npz\n",
      "Inverse HVP took 0.00052285194397 sec\n",
      "Entering the for loop\n",
      "(1, 268203)\n",
      "Loaded inverse HVP from output/poisoning_900_300_inception_wd-0.001-test-[15, 32, 6].npz\n",
      "Inverse HVP took 0.000685930252075 sec\n",
      "Entering the for loop\n"
     ]
    },
    {
     "name": "stderr",
     "output_type": "stream",
     "text": [
      "[iter_attack.py:169 -     iterative_attack() ] Attach_iter 142 perturbation shape: (1, 268203), perturbation: [[-0.07479829 -0.02720043 -0.01064099 ... -0.08921221  0.02441586\n",
      "  -0.05223588]]\n"
     ]
    },
    {
     "name": "stdout",
     "output_type": "stream",
     "text": [
      "(1, 268203)\n",
      "2 2\n",
      "Shape (2, 2048)\n",
      "Using normal model\n"
     ]
    },
    {
     "name": "stderr",
     "output_type": "stream",
     "text": [
      "[genericNeuralNet.py:328 -     print_model_eval() ] Train loss (w reg) on all data: 0.013986789\n",
      "[genericNeuralNet.py:329 -     print_model_eval() ] Train loss (w/o reg) on all data: 0.0047420487\n",
      "[genericNeuralNet.py:331 -     print_model_eval() ] Test loss (w/o reg) on all data: 0.04593294\n",
      "[genericNeuralNet.py:332 -     print_model_eval() ] Train acc on all data:  1.0\n",
      "[genericNeuralNet.py:333 -     print_model_eval() ] Test acc on all data:   0.98\n",
      "[genericNeuralNet.py:335 -     print_model_eval() ] Norm of the mean of gradients: 0.0050700866\n",
      "[genericNeuralNet.py:336 -     print_model_eval() ] Norm of the params: 4.299939\n",
      "[iter_attack.py:209 -     iterative_attack() ] Test_idx: 15 Test pred (full): [[0.29614097 0.70385903]]\n",
      "[iter_attack.py:209 -     iterative_attack() ] Test_idx: 32 Test pred (full): [[0.99826837 0.00173159]]\n"
     ]
    },
    {
     "name": "stdout",
     "output_type": "stream",
     "text": [
      "LBFGS training took [24] iter.\n",
      "After training with LBFGS: \n"
     ]
    },
    {
     "name": "stderr",
     "output_type": "stream",
     "text": [
      "[iter_attack.py:209 -     iterative_attack() ] Test_idx: 6 Test pred (full): [[1.4647597e-04 9.9985349e-01]]\n",
      "[iter_attack.py:210 -     iterative_attack() ] ---------------------\n",
      "[iter_attack.py:215 -     iterative_attack() ] Test_idx: 15 Test pred (top): [[0.29614097 0.70385903]]\n",
      "[iter_attack.py:215 -     iterative_attack() ] Test_idx: 32 Test pred (top): [[0.99826837 0.00173159]]\n",
      "[iter_attack.py:215 -     iterative_attack() ] Test_idx: 6 Test pred (top): [[1.4647597e-04 9.9985349e-01]]\n",
      "[iter_attack.py:147 -     iterative_attack() ] *** Iter: 143\n"
     ]
    },
    {
     "name": "stdout",
     "output_type": "stream",
     "text": [
      "Total number of parameters: 2048\n"
     ]
    },
    {
     "ename": "KeyboardInterrupt",
     "evalue": "",
     "output_type": "error",
     "traceback": [
      "\u001b[0;31m---------------------------------------------------------------------------\u001b[0m",
      "\u001b[0;31mKeyboardInterrupt\u001b[0m                         Traceback (most recent call last)",
      "\u001b[0;32m<ipython-input-4-f1c0cd45d9fe>\u001b[0m in \u001b[0;36m<module>\u001b[0;34m()\u001b[0m\n\u001b[1;32m     16\u001b[0m \u001b[0;31m#                                  target_labels = None)\u001b[0m\u001b[0;34m\u001b[0m\u001b[0;34m\u001b[0m\u001b[0m\n\u001b[1;32m     17\u001b[0m \u001b[0;34m\u001b[0m\u001b[0m\n\u001b[0;32m---> 18\u001b[0;31m \u001b[0mpoisoned_image\u001b[0m \u001b[0;34m=\u001b[0m \u001b[0mdata_poisoning\u001b[0m\u001b[0;34m(\u001b[0m\u001b[0;34m[\u001b[0m\u001b[0;34m'dog'\u001b[0m\u001b[0;34m,\u001b[0m \u001b[0;34m'fish'\u001b[0m\u001b[0;34m]\u001b[0m\u001b[0;34m,\u001b[0m \u001b[0;36m900\u001b[0m\u001b[0;34m,\u001b[0m \u001b[0;36m300\u001b[0m\u001b[0;34m,\u001b[0m \u001b[0mTrue\u001b[0m\u001b[0;34m,\u001b[0m \u001b[0;34m[\u001b[0m\u001b[0;36m15\u001b[0m\u001b[0;34m,\u001b[0m \u001b[0;36m32\u001b[0m\u001b[0;34m,\u001b[0m \u001b[0;36m6\u001b[0m\u001b[0;34m]\u001b[0m\u001b[0;34m,\u001b[0m \u001b[0;36m2\u001b[0m\u001b[0;34m)\u001b[0m\u001b[0;34m\u001b[0m\u001b[0m\n\u001b[0m",
      "\u001b[0;32m/home/ubuntu/influence-release/scripts/data_poisoning.py\u001b[0m in \u001b[0;36mdata_poisoning\u001b[0;34m(data_selected, num_train_ex_per_class, num_test_ex_per_class, use_IF, target_test_idx, num_to_perterb, target_labels)\u001b[0m\n\u001b[1;32m    262\u001b[0m                                                           \u001b[0mbeta\u001b[0m \u001b[0;34m=\u001b[0m \u001b[0mbeta\u001b[0m\u001b[0;34m,\u001b[0m\u001b[0;34m\u001b[0m\u001b[0m\n\u001b[1;32m    263\u001b[0m \t\t\t\t\t\t\t  target_labels = target_labels)\n\u001b[0;32m--> 264\u001b[0;31m         \u001b[0;32mreturn\u001b[0m \u001b[0mpoisoned_image\u001b[0m\u001b[0;34m\u001b[0m\u001b[0m\n\u001b[0m",
      "\u001b[0;32m/home/ubuntu/influence-release/influence/iter_attack.py\u001b[0m in \u001b[0;36miterative_attack\u001b[0;34m(top_model, full_model, top_graph, full_graph, project_fn, test_indices, test_description, train_dataset, test_dataset, dataset_name, indices_to_poison, num_iter, step_size, save_iter, early_stop, beta, target_labels)\u001b[0m\n\u001b[1;32m    149\u001b[0m                 \u001b[0;31m# Use top model to quickly generate inverse HVP\u001b[0m\u001b[0;34m\u001b[0m\u001b[0;34m\u001b[0m\u001b[0m\n\u001b[1;32m    150\u001b[0m                 \u001b[0;32mwith\u001b[0m \u001b[0mtop_graph\u001b[0m\u001b[0;34m.\u001b[0m\u001b[0mas_default\u001b[0m\u001b[0;34m(\u001b[0m\u001b[0;34m)\u001b[0m\u001b[0;34m:\u001b[0m\u001b[0;34m\u001b[0m\u001b[0m\n\u001b[0;32m--> 151\u001b[0;31m                         \u001b[0mget_hvp\u001b[0m\u001b[0;34m(\u001b[0m\u001b[0mtop_model\u001b[0m\u001b[0;34m,\u001b[0m \u001b[0minception_X_test\u001b[0m\u001b[0;34m,\u001b[0m \u001b[0minception_X_train\u001b[0m\u001b[0;34m,\u001b[0m \u001b[0mtest_description\u001b[0m\u001b[0;34m,\u001b[0m \u001b[0mtest_indices\u001b[0m\u001b[0;34m,\u001b[0m \u001b[0mTrue\u001b[0m\u001b[0;34m,\u001b[0m \u001b[0mtarget_labels\u001b[0m\u001b[0;34m)\u001b[0m\u001b[0;34m\u001b[0m\u001b[0m\n\u001b[0m\u001b[1;32m    152\u001b[0m                         \u001b[0;31m# get_hvp(top_model, inception_X_test_copy, inception_X_train, test_description, test_indices, True, target_labels)\u001b[0m\u001b[0;34m\u001b[0m\u001b[0;34m\u001b[0m\u001b[0m\n\u001b[1;32m    153\u001b[0m \u001b[0;34m\u001b[0m\u001b[0m\n",
      "\u001b[0;32m/home/ubuntu/influence-release/influence/Progress.py\u001b[0m in \u001b[0;36mget_hvp\u001b[0;34m(model, test_data, train_data, test_description, test_idx, force_refresh, target_labels)\u001b[0m\n\u001b[1;32m    194\u001b[0m       \u001b[0mlogger\u001b[0m\u001b[0;34m.\u001b[0m\u001b[0mdebug\u001b[0m\u001b[0;34m(\u001b[0m\u001b[0;34m'Loaded inverse HVP from %s'\u001b[0m \u001b[0;34m%\u001b[0m \u001b[0mapproximation_filename\u001b[0m\u001b[0;34m)\u001b[0m\u001b[0;34m\u001b[0m\u001b[0m\n\u001b[1;32m    195\u001b[0m   \u001b[0;32melse\u001b[0m\u001b[0;34m:\u001b[0m\u001b[0;34m\u001b[0m\u001b[0m\n\u001b[0;32m--> 196\u001b[0;31m       \u001b[0minverse_hvp\u001b[0m \u001b[0;34m=\u001b[0m \u001b[0mget_inverse_hvp_cg\u001b[0m\u001b[0;34m(\u001b[0m\u001b[0mmodel\u001b[0m\u001b[0;34m,\u001b[0m \u001b[0mtrain_data\u001b[0m\u001b[0;34m,\u001b[0m \u001b[0mtest_grad_loss_no_reg_val\u001b[0m\u001b[0;34m)\u001b[0m\u001b[0;34m\u001b[0m\u001b[0m\n\u001b[0m\u001b[1;32m    197\u001b[0m       \u001b[0mnp\u001b[0m\u001b[0;34m.\u001b[0m\u001b[0msavez\u001b[0m\u001b[0;34m(\u001b[0m\u001b[0mapproximation_filename\u001b[0m\u001b[0;34m,\u001b[0m \u001b[0minverse_hvp\u001b[0m\u001b[0;34m=\u001b[0m\u001b[0minverse_hvp\u001b[0m\u001b[0;34m)\u001b[0m\u001b[0;34m\u001b[0m\u001b[0m\n\u001b[1;32m    198\u001b[0m       \u001b[0mlogger\u001b[0m\u001b[0;34m.\u001b[0m\u001b[0mdebug\u001b[0m\u001b[0;34m(\u001b[0m\u001b[0;34m'Saved inverse HVP to %s'\u001b[0m \u001b[0;34m%\u001b[0m \u001b[0mapproximation_filename\u001b[0m\u001b[0;34m)\u001b[0m\u001b[0;34m\u001b[0m\u001b[0m\n",
      "\u001b[0;32m/home/ubuntu/influence-release/influence/Progress.py\u001b[0m in \u001b[0;36mget_inverse_hvp_cg\u001b[0;34m(model, train_data, gradients, verbose)\u001b[0m\n\u001b[1;32m    144\u001b[0m       \u001b[0;31m# callback=cg_callback,\u001b[0m\u001b[0;34m\u001b[0m\u001b[0;34m\u001b[0m\u001b[0m\n\u001b[1;32m    145\u001b[0m       \u001b[0mavextol\u001b[0m\u001b[0;34m=\u001b[0m\u001b[0;36m1e-8\u001b[0m\u001b[0;34m,\u001b[0m\u001b[0;34m\u001b[0m\u001b[0m\n\u001b[0;32m--> 146\u001b[0;31m       maxiter=100)\n\u001b[0m\u001b[1;32m    147\u001b[0m   \u001b[0;32mreturn\u001b[0m \u001b[0mvec_to_list\u001b[0m\u001b[0;34m(\u001b[0m\u001b[0mfmin_results\u001b[0m\u001b[0;34m)\u001b[0m\u001b[0;34m\u001b[0m\u001b[0m\n\u001b[1;32m    148\u001b[0m \u001b[0;34m\u001b[0m\u001b[0m\n",
      "\u001b[0;32m/home/ubuntu/anaconda3/envs/influence_env/lib/python2.7/site-packages/scipy/optimize/optimize.pyc\u001b[0m in \u001b[0;36mfmin_ncg\u001b[0;34m(f, x0, fprime, fhess_p, fhess, args, avextol, epsilon, maxiter, full_output, disp, retall, callback)\u001b[0m\n\u001b[1;32m   1454\u001b[0m \u001b[0;34m\u001b[0m\u001b[0m\n\u001b[1;32m   1455\u001b[0m     res = _minimize_newtoncg(f, x0, args, fprime, fhess, fhess_p,\n\u001b[0;32m-> 1456\u001b[0;31m                              callback=callback, **opts)\n\u001b[0m\u001b[1;32m   1457\u001b[0m \u001b[0;34m\u001b[0m\u001b[0m\n\u001b[1;32m   1458\u001b[0m     \u001b[0;32mif\u001b[0m \u001b[0mfull_output\u001b[0m\u001b[0;34m:\u001b[0m\u001b[0;34m\u001b[0m\u001b[0m\n",
      "\u001b[0;32m/home/ubuntu/anaconda3/envs/influence_env/lib/python2.7/site-packages/scipy/optimize/optimize.pyc\u001b[0m in \u001b[0;36m_minimize_newtoncg\u001b[0;34m(fun, x0, args, jac, hess, hessp, callback, xtol, eps, maxiter, disp, return_all, **unknown_options)\u001b[0m\n\u001b[1;32m   1601\u001b[0m             \u001b[0malphak\u001b[0m\u001b[0;34m,\u001b[0m \u001b[0mfc\u001b[0m\u001b[0;34m,\u001b[0m \u001b[0mgc\u001b[0m\u001b[0;34m,\u001b[0m \u001b[0mold_fval\u001b[0m\u001b[0;34m,\u001b[0m \u001b[0mold_old_fval\u001b[0m\u001b[0;34m,\u001b[0m \u001b[0mgfkp1\u001b[0m \u001b[0;34m=\u001b[0m\u001b[0;31m \u001b[0m\u001b[0;31m\\\u001b[0m\u001b[0;34m\u001b[0m\u001b[0m\n\u001b[1;32m   1602\u001b[0m                      _line_search_wolfe12(f, fprime, xk, pk, gfk,\n\u001b[0;32m-> 1603\u001b[0;31m                                           old_fval, old_old_fval)\n\u001b[0m\u001b[1;32m   1604\u001b[0m         \u001b[0;32mexcept\u001b[0m \u001b[0m_LineSearchError\u001b[0m\u001b[0;34m:\u001b[0m\u001b[0;34m\u001b[0m\u001b[0m\n\u001b[1;32m   1605\u001b[0m             \u001b[0;31m# Line search failed to find a better solution.\u001b[0m\u001b[0;34m\u001b[0m\u001b[0;34m\u001b[0m\u001b[0m\n",
      "\u001b[0;32m/home/ubuntu/anaconda3/envs/influence_env/lib/python2.7/site-packages/scipy/optimize/optimize.pyc\u001b[0m in \u001b[0;36m_line_search_wolfe12\u001b[0;34m(f, fprime, xk, pk, gfk, old_fval, old_old_fval, **kwargs)\u001b[0m\n\u001b[1;32m    801\u001b[0m     ret = line_search_wolfe1(f, fprime, xk, pk, gfk,\n\u001b[1;32m    802\u001b[0m                              \u001b[0mold_fval\u001b[0m\u001b[0;34m,\u001b[0m \u001b[0mold_old_fval\u001b[0m\u001b[0;34m,\u001b[0m\u001b[0;34m\u001b[0m\u001b[0m\n\u001b[0;32m--> 803\u001b[0;31m                              **kwargs)\n\u001b[0m\u001b[1;32m    804\u001b[0m \u001b[0;34m\u001b[0m\u001b[0m\n\u001b[1;32m    805\u001b[0m     \u001b[0;32mif\u001b[0m \u001b[0mret\u001b[0m\u001b[0;34m[\u001b[0m\u001b[0;36m0\u001b[0m\u001b[0;34m]\u001b[0m \u001b[0;32mis\u001b[0m \u001b[0;32mnot\u001b[0m \u001b[0mNone\u001b[0m \u001b[0;32mand\u001b[0m \u001b[0mextra_condition\u001b[0m \u001b[0;32mis\u001b[0m \u001b[0;32mnot\u001b[0m \u001b[0mNone\u001b[0m\u001b[0;34m:\u001b[0m\u001b[0;34m\u001b[0m\u001b[0m\n",
      "\u001b[0;32m/home/ubuntu/anaconda3/envs/influence_env/lib/python2.7/site-packages/scipy/optimize/linesearch.pyc\u001b[0m in \u001b[0;36mline_search_wolfe1\u001b[0;34m(f, fprime, xk, pk, gfk, old_fval, old_old_fval, args, c1, c2, amax, amin, xtol)\u001b[0m\n\u001b[1;32m     99\u001b[0m     stp, fval, old_fval = scalar_search_wolfe1(\n\u001b[1;32m    100\u001b[0m             \u001b[0mphi\u001b[0m\u001b[0;34m,\u001b[0m \u001b[0mderphi\u001b[0m\u001b[0;34m,\u001b[0m \u001b[0mold_fval\u001b[0m\u001b[0;34m,\u001b[0m \u001b[0mold_old_fval\u001b[0m\u001b[0;34m,\u001b[0m \u001b[0mderphi0\u001b[0m\u001b[0;34m,\u001b[0m\u001b[0;34m\u001b[0m\u001b[0m\n\u001b[0;32m--> 101\u001b[0;31m             c1=c1, c2=c2, amax=amax, amin=amin, xtol=xtol)\n\u001b[0m\u001b[1;32m    102\u001b[0m \u001b[0;34m\u001b[0m\u001b[0m\n\u001b[1;32m    103\u001b[0m     \u001b[0;32mreturn\u001b[0m \u001b[0mstp\u001b[0m\u001b[0;34m,\u001b[0m \u001b[0mfc\u001b[0m\u001b[0;34m[\u001b[0m\u001b[0;36m0\u001b[0m\u001b[0;34m]\u001b[0m\u001b[0;34m,\u001b[0m \u001b[0mgc\u001b[0m\u001b[0;34m[\u001b[0m\u001b[0;36m0\u001b[0m\u001b[0;34m]\u001b[0m\u001b[0;34m,\u001b[0m \u001b[0mfval\u001b[0m\u001b[0;34m,\u001b[0m \u001b[0mold_fval\u001b[0m\u001b[0;34m,\u001b[0m \u001b[0mgval\u001b[0m\u001b[0;34m[\u001b[0m\u001b[0;36m0\u001b[0m\u001b[0;34m]\u001b[0m\u001b[0;34m\u001b[0m\u001b[0m\n",
      "\u001b[0;32m/home/ubuntu/anaconda3/envs/influence_env/lib/python2.7/site-packages/scipy/optimize/linesearch.pyc\u001b[0m in \u001b[0;36mscalar_search_wolfe1\u001b[0;34m(phi, derphi, phi0, old_phi0, derphi0, c1, c2, amax, amin, xtol)\u001b[0m\n\u001b[1;32m    173\u001b[0m             \u001b[0malpha1\u001b[0m \u001b[0;34m=\u001b[0m \u001b[0mstp\u001b[0m\u001b[0;34m\u001b[0m\u001b[0m\n\u001b[1;32m    174\u001b[0m             \u001b[0mphi1\u001b[0m \u001b[0;34m=\u001b[0m \u001b[0mphi\u001b[0m\u001b[0;34m(\u001b[0m\u001b[0mstp\u001b[0m\u001b[0;34m)\u001b[0m\u001b[0;34m\u001b[0m\u001b[0m\n\u001b[0;32m--> 175\u001b[0;31m             \u001b[0mderphi1\u001b[0m \u001b[0;34m=\u001b[0m \u001b[0mderphi\u001b[0m\u001b[0;34m(\u001b[0m\u001b[0mstp\u001b[0m\u001b[0;34m)\u001b[0m\u001b[0;34m\u001b[0m\u001b[0m\n\u001b[0m\u001b[1;32m    176\u001b[0m         \u001b[0;32melse\u001b[0m\u001b[0;34m:\u001b[0m\u001b[0;34m\u001b[0m\u001b[0m\n\u001b[1;32m    177\u001b[0m             \u001b[0;32mbreak\u001b[0m\u001b[0;34m\u001b[0m\u001b[0m\n",
      "\u001b[0;32m/home/ubuntu/anaconda3/envs/influence_env/lib/python2.7/site-packages/scipy/optimize/linesearch.pyc\u001b[0m in \u001b[0;36mderphi\u001b[0;34m(s)\u001b[0m\n\u001b[1;32m     88\u001b[0m \u001b[0;34m\u001b[0m\u001b[0m\n\u001b[1;32m     89\u001b[0m     \u001b[0;32mdef\u001b[0m \u001b[0mderphi\u001b[0m\u001b[0;34m(\u001b[0m\u001b[0ms\u001b[0m\u001b[0;34m)\u001b[0m\u001b[0;34m:\u001b[0m\u001b[0;34m\u001b[0m\u001b[0m\n\u001b[0;32m---> 90\u001b[0;31m         \u001b[0mgval\u001b[0m\u001b[0;34m[\u001b[0m\u001b[0;36m0\u001b[0m\u001b[0;34m]\u001b[0m \u001b[0;34m=\u001b[0m \u001b[0mfprime\u001b[0m\u001b[0;34m(\u001b[0m\u001b[0mxk\u001b[0m \u001b[0;34m+\u001b[0m \u001b[0ms\u001b[0m\u001b[0;34m*\u001b[0m\u001b[0mpk\u001b[0m\u001b[0;34m,\u001b[0m \u001b[0;34m*\u001b[0m\u001b[0mnewargs\u001b[0m\u001b[0;34m)\u001b[0m\u001b[0;34m\u001b[0m\u001b[0m\n\u001b[0m\u001b[1;32m     91\u001b[0m         \u001b[0;32mif\u001b[0m \u001b[0mgradient\u001b[0m\u001b[0;34m:\u001b[0m\u001b[0;34m\u001b[0m\u001b[0m\n\u001b[1;32m     92\u001b[0m             \u001b[0mgc\u001b[0m\u001b[0;34m[\u001b[0m\u001b[0;36m0\u001b[0m\u001b[0;34m]\u001b[0m \u001b[0;34m+=\u001b[0m \u001b[0;36m1\u001b[0m\u001b[0;34m\u001b[0m\u001b[0m\n",
      "\u001b[0;32m/home/ubuntu/anaconda3/envs/influence_env/lib/python2.7/site-packages/scipy/optimize/optimize.pyc\u001b[0m in \u001b[0;36mfunction_wrapper\u001b[0;34m(*wrapper_args)\u001b[0m\n\u001b[1;32m    291\u001b[0m     \u001b[0;32mdef\u001b[0m \u001b[0mfunction_wrapper\u001b[0m\u001b[0;34m(\u001b[0m\u001b[0;34m*\u001b[0m\u001b[0mwrapper_args\u001b[0m\u001b[0;34m)\u001b[0m\u001b[0;34m:\u001b[0m\u001b[0;34m\u001b[0m\u001b[0m\n\u001b[1;32m    292\u001b[0m         \u001b[0mncalls\u001b[0m\u001b[0;34m[\u001b[0m\u001b[0;36m0\u001b[0m\u001b[0;34m]\u001b[0m \u001b[0;34m+=\u001b[0m \u001b[0;36m1\u001b[0m\u001b[0;34m\u001b[0m\u001b[0m\n\u001b[0;32m--> 293\u001b[0;31m         \u001b[0;32mreturn\u001b[0m \u001b[0mfunction\u001b[0m\u001b[0;34m(\u001b[0m\u001b[0;34m*\u001b[0m\u001b[0;34m(\u001b[0m\u001b[0mwrapper_args\u001b[0m \u001b[0;34m+\u001b[0m \u001b[0margs\u001b[0m\u001b[0;34m)\u001b[0m\u001b[0;34m)\u001b[0m\u001b[0;34m\u001b[0m\u001b[0m\n\u001b[0m\u001b[1;32m    294\u001b[0m \u001b[0;34m\u001b[0m\u001b[0m\n\u001b[1;32m    295\u001b[0m     \u001b[0;32mreturn\u001b[0m \u001b[0mncalls\u001b[0m\u001b[0;34m,\u001b[0m \u001b[0mfunction_wrapper\u001b[0m\u001b[0;34m\u001b[0m\u001b[0m\n",
      "\u001b[0;32m/home/ubuntu/influence-release/influence/Progress.py\u001b[0m in \u001b[0;36mget_fmin_grad\u001b[0;34m(t)\u001b[0m\n\u001b[1;32m    132\u001b[0m     \u001b[0;32mreturn\u001b[0m \u001b[0;36m0.5\u001b[0m \u001b[0;34m*\u001b[0m \u001b[0mnp\u001b[0m\u001b[0;34m.\u001b[0m\u001b[0mdot\u001b[0m\u001b[0;34m(\u001b[0m\u001b[0mnp\u001b[0m\u001b[0;34m.\u001b[0m\u001b[0mconcatenate\u001b[0m\u001b[0;34m(\u001b[0m\u001b[0mhessian_vector_val\u001b[0m\u001b[0;34m)\u001b[0m\u001b[0;34m,\u001b[0m \u001b[0mt\u001b[0m\u001b[0;34m)\u001b[0m \u001b[0;34m-\u001b[0m \u001b[0mnp\u001b[0m\u001b[0;34m.\u001b[0m\u001b[0mdot\u001b[0m\u001b[0;34m(\u001b[0m\u001b[0mnp\u001b[0m\u001b[0;34m.\u001b[0m\u001b[0mconcatenate\u001b[0m\u001b[0;34m(\u001b[0m\u001b[0mgradients\u001b[0m\u001b[0;34m)\u001b[0m\u001b[0;34m,\u001b[0m \u001b[0mt\u001b[0m\u001b[0;34m)\u001b[0m\u001b[0;34m\u001b[0m\u001b[0m\n\u001b[1;32m    133\u001b[0m   \u001b[0;32mdef\u001b[0m \u001b[0mget_fmin_grad\u001b[0m\u001b[0;34m(\u001b[0m\u001b[0mt\u001b[0m\u001b[0;34m)\u001b[0m\u001b[0;34m:\u001b[0m\u001b[0;34m\u001b[0m\u001b[0m\n\u001b[0;32m--> 134\u001b[0;31m     \u001b[0mhessian_vector_val\u001b[0m \u001b[0;34m=\u001b[0m \u001b[0mminibatch_hessian_vector_val\u001b[0m\u001b[0;34m(\u001b[0m\u001b[0mvec_to_list\u001b[0m\u001b[0;34m(\u001b[0m\u001b[0mt\u001b[0m\u001b[0;34m)\u001b[0m\u001b[0;34m,\u001b[0m \u001b[0mmodel\u001b[0m\u001b[0;34m,\u001b[0m \u001b[0mtrain_data\u001b[0m\u001b[0;34m)\u001b[0m\u001b[0;34m\u001b[0m\u001b[0m\n\u001b[0m\u001b[1;32m    135\u001b[0m     \u001b[0;32mreturn\u001b[0m \u001b[0mnp\u001b[0m\u001b[0;34m.\u001b[0m\u001b[0mconcatenate\u001b[0m\u001b[0;34m(\u001b[0m\u001b[0mhessian_vector_val\u001b[0m\u001b[0;34m)\u001b[0m \u001b[0;34m-\u001b[0m \u001b[0mnp\u001b[0m\u001b[0;34m.\u001b[0m\u001b[0mconcatenate\u001b[0m\u001b[0;34m(\u001b[0m\u001b[0mgradients\u001b[0m\u001b[0;34m)\u001b[0m\u001b[0;34m\u001b[0m\u001b[0m\n\u001b[1;32m    136\u001b[0m   \u001b[0mfmin_loss_fn\u001b[0m \u001b[0;34m=\u001b[0m \u001b[0mget_fmin_loss\u001b[0m\u001b[0;34m\u001b[0m\u001b[0m\n",
      "\u001b[0;32m/home/ubuntu/influence-release/influence/Progress.py\u001b[0m in \u001b[0;36mminibatch_hessian_vector_val\u001b[0;34m(x, model, train_dataset, batch_size, damping)\u001b[0m\n\u001b[1;32m     63\u001b[0m     \u001b[0mstart\u001b[0m \u001b[0;34m=\u001b[0m \u001b[0mi\u001b[0m \u001b[0;34m*\u001b[0m \u001b[0mbatch_size\u001b[0m\u001b[0;34m\u001b[0m\u001b[0m\n\u001b[1;32m     64\u001b[0m     \u001b[0mend\u001b[0m \u001b[0;34m=\u001b[0m \u001b[0mint\u001b[0m\u001b[0;34m(\u001b[0m\u001b[0mmin\u001b[0m\u001b[0;34m(\u001b[0m\u001b[0;34m(\u001b[0m\u001b[0mi\u001b[0m\u001b[0;34m+\u001b[0m\u001b[0;36m1\u001b[0m\u001b[0;34m)\u001b[0m \u001b[0;34m*\u001b[0m \u001b[0mbatch_size\u001b[0m\u001b[0;34m,\u001b[0m \u001b[0mlen\u001b[0m\u001b[0;34m(\u001b[0m\u001b[0mtrain_dataset\u001b[0m\u001b[0;34m.\u001b[0m\u001b[0mx\u001b[0m\u001b[0;34m)\u001b[0m\u001b[0;34m)\u001b[0m\u001b[0;34m)\u001b[0m\u001b[0;34m\u001b[0m\u001b[0m\n\u001b[0;32m---> 65\u001b[0;31m     \u001b[0mhvp_value\u001b[0m \u001b[0;34m=\u001b[0m \u001b[0mmodel\u001b[0m\u001b[0;34m.\u001b[0m\u001b[0mhessian_vector_product\u001b[0m\u001b[0;34m(\u001b[0m\u001b[0mtrain_dataset\u001b[0m\u001b[0;34m.\u001b[0m\u001b[0mx\u001b[0m\u001b[0;34m[\u001b[0m\u001b[0mstart\u001b[0m\u001b[0;34m:\u001b[0m\u001b[0mend\u001b[0m\u001b[0;34m,\u001b[0m \u001b[0;34m:\u001b[0m\u001b[0;34m]\u001b[0m\u001b[0;34m,\u001b[0m \u001b[0mtrain_dataset\u001b[0m\u001b[0;34m.\u001b[0m\u001b[0mlabels\u001b[0m\u001b[0;34m[\u001b[0m\u001b[0mstart\u001b[0m\u001b[0;34m:\u001b[0m\u001b[0mend\u001b[0m\u001b[0;34m]\u001b[0m\u001b[0;34m,\u001b[0m \u001b[0mx\u001b[0m\u001b[0;34m)\u001b[0m\u001b[0;34m\u001b[0m\u001b[0m\n\u001b[0m\u001b[1;32m     66\u001b[0m     \u001b[0;32mif\u001b[0m \u001b[0mfinal_result\u001b[0m \u001b[0;32mis\u001b[0m \u001b[0mNone\u001b[0m\u001b[0;34m:\u001b[0m\u001b[0;34m\u001b[0m\u001b[0m\n\u001b[1;32m     67\u001b[0m       \u001b[0mfinal_result\u001b[0m \u001b[0;34m=\u001b[0m \u001b[0;34m[\u001b[0m\u001b[0mnext_hvp\u001b[0m \u001b[0;34m/\u001b[0m \u001b[0mfloat\u001b[0m\u001b[0;34m(\u001b[0m\u001b[0mnum_iter\u001b[0m\u001b[0;34m)\u001b[0m \u001b[0;32mfor\u001b[0m \u001b[0mnext_hvp\u001b[0m \u001b[0;32min\u001b[0m \u001b[0mhvp_value\u001b[0m\u001b[0;34m]\u001b[0m\u001b[0;34m\u001b[0m\u001b[0m\n",
      "\u001b[0;32m/home/ubuntu/influence-release/influence/genericNeuralNet.py\u001b[0m in \u001b[0;36mhessian_vector_product\u001b[0;34m(self, train_x, train_labels, v)\u001b[0m\n\u001b[1;32m    893\u001b[0m \t\t\t\t}\n\u001b[1;32m    894\u001b[0m                         \u001b[0mself\u001b[0m\u001b[0;34m.\u001b[0m\u001b[0mupdate_feed_dict_with_v_placeholder\u001b[0m\u001b[0;34m(\u001b[0m\u001b[0minput_feed_dict\u001b[0m\u001b[0;34m,\u001b[0m \u001b[0mv\u001b[0m\u001b[0;34m)\u001b[0m\u001b[0;34m\u001b[0m\u001b[0m\n\u001b[0;32m--> 895\u001b[0;31m                         \u001b[0;32mreturn\u001b[0m \u001b[0mself\u001b[0m\u001b[0;34m.\u001b[0m\u001b[0msess\u001b[0m\u001b[0;34m.\u001b[0m\u001b[0mrun\u001b[0m\u001b[0;34m(\u001b[0m\u001b[0mself\u001b[0m\u001b[0;34m.\u001b[0m\u001b[0mhvp_op\u001b[0m\u001b[0;34m,\u001b[0m \u001b[0mfeed_dict\u001b[0m\u001b[0;34m=\u001b[0m\u001b[0minput_feed_dict\u001b[0m\u001b[0;34m)\u001b[0m\u001b[0;34m\u001b[0m\u001b[0m\n\u001b[0m\u001b[1;32m    896\u001b[0m \u001b[0;34m\u001b[0m\u001b[0m\n\u001b[1;32m    897\u001b[0m         \u001b[0;32mdef\u001b[0m \u001b[0mgrad_influence_wrt_input\u001b[0m\u001b[0;34m(\u001b[0m\u001b[0maself\u001b[0m\u001b[0;34m,\u001b[0m \u001b[0minverse_hvp\u001b[0m\u001b[0;34m,\u001b[0m \u001b[0mxTr\u001b[0m\u001b[0;34m,\u001b[0m \u001b[0myTr\u001b[0m\u001b[0;34m)\u001b[0m\u001b[0;34m:\u001b[0m\u001b[0;34m\u001b[0m\u001b[0m\n",
      "\u001b[0;32m/home/ubuntu/anaconda3/envs/influence_env/lib/python2.7/site-packages/tensorflow/python/client/session.pyc\u001b[0m in \u001b[0;36mrun\u001b[0;34m(self, fetches, feed_dict, options, run_metadata)\u001b[0m\n\u001b[1;32m    776\u001b[0m     \u001b[0;32mtry\u001b[0m\u001b[0;34m:\u001b[0m\u001b[0;34m\u001b[0m\u001b[0m\n\u001b[1;32m    777\u001b[0m       result = self._run(None, fetches, feed_dict, options_ptr,\n\u001b[0;32m--> 778\u001b[0;31m                          run_metadata_ptr)\n\u001b[0m\u001b[1;32m    779\u001b[0m       \u001b[0;32mif\u001b[0m \u001b[0mrun_metadata\u001b[0m\u001b[0;34m:\u001b[0m\u001b[0;34m\u001b[0m\u001b[0m\n\u001b[1;32m    780\u001b[0m         \u001b[0mproto_data\u001b[0m \u001b[0;34m=\u001b[0m \u001b[0mtf_session\u001b[0m\u001b[0;34m.\u001b[0m\u001b[0mTF_GetBuffer\u001b[0m\u001b[0;34m(\u001b[0m\u001b[0mrun_metadata_ptr\u001b[0m\u001b[0;34m)\u001b[0m\u001b[0;34m\u001b[0m\u001b[0m\n",
      "\u001b[0;32m/home/ubuntu/anaconda3/envs/influence_env/lib/python2.7/site-packages/tensorflow/python/client/session.pyc\u001b[0m in \u001b[0;36m_run\u001b[0;34m(self, handle, fetches, feed_dict, options, run_metadata)\u001b[0m\n\u001b[1;32m    980\u001b[0m     \u001b[0;32mif\u001b[0m \u001b[0mfinal_fetches\u001b[0m \u001b[0;32mor\u001b[0m \u001b[0mfinal_targets\u001b[0m\u001b[0;34m:\u001b[0m\u001b[0;34m\u001b[0m\u001b[0m\n\u001b[1;32m    981\u001b[0m       results = self._do_run(handle, final_targets, final_fetches,\n\u001b[0;32m--> 982\u001b[0;31m                              feed_dict_string, options, run_metadata)\n\u001b[0m\u001b[1;32m    983\u001b[0m     \u001b[0;32melse\u001b[0m\u001b[0;34m:\u001b[0m\u001b[0;34m\u001b[0m\u001b[0m\n\u001b[1;32m    984\u001b[0m       \u001b[0mresults\u001b[0m \u001b[0;34m=\u001b[0m \u001b[0;34m[\u001b[0m\u001b[0;34m]\u001b[0m\u001b[0;34m\u001b[0m\u001b[0m\n",
      "\u001b[0;32m/home/ubuntu/anaconda3/envs/influence_env/lib/python2.7/site-packages/tensorflow/python/client/session.pyc\u001b[0m in \u001b[0;36m_do_run\u001b[0;34m(self, handle, target_list, fetch_list, feed_dict, options, run_metadata)\u001b[0m\n\u001b[1;32m   1030\u001b[0m     \u001b[0;32mif\u001b[0m \u001b[0mhandle\u001b[0m \u001b[0;32mis\u001b[0m \u001b[0mNone\u001b[0m\u001b[0;34m:\u001b[0m\u001b[0;34m\u001b[0m\u001b[0m\n\u001b[1;32m   1031\u001b[0m       return self._do_call(_run_fn, self._session, feed_dict, fetch_list,\n\u001b[0;32m-> 1032\u001b[0;31m                            target_list, options, run_metadata)\n\u001b[0m\u001b[1;32m   1033\u001b[0m     \u001b[0;32melse\u001b[0m\u001b[0;34m:\u001b[0m\u001b[0;34m\u001b[0m\u001b[0m\n\u001b[1;32m   1034\u001b[0m       return self._do_call(_prun_fn, self._session, handle, feed_dict,\n",
      "\u001b[0;32m/home/ubuntu/anaconda3/envs/influence_env/lib/python2.7/site-packages/tensorflow/python/client/session.pyc\u001b[0m in \u001b[0;36m_do_call\u001b[0;34m(self, fn, *args)\u001b[0m\n\u001b[1;32m   1037\u001b[0m   \u001b[0;32mdef\u001b[0m \u001b[0m_do_call\u001b[0m\u001b[0;34m(\u001b[0m\u001b[0mself\u001b[0m\u001b[0;34m,\u001b[0m \u001b[0mfn\u001b[0m\u001b[0;34m,\u001b[0m \u001b[0;34m*\u001b[0m\u001b[0margs\u001b[0m\u001b[0;34m)\u001b[0m\u001b[0;34m:\u001b[0m\u001b[0;34m\u001b[0m\u001b[0m\n\u001b[1;32m   1038\u001b[0m     \u001b[0;32mtry\u001b[0m\u001b[0;34m:\u001b[0m\u001b[0;34m\u001b[0m\u001b[0m\n\u001b[0;32m-> 1039\u001b[0;31m       \u001b[0;32mreturn\u001b[0m \u001b[0mfn\u001b[0m\u001b[0;34m(\u001b[0m\u001b[0;34m*\u001b[0m\u001b[0margs\u001b[0m\u001b[0;34m)\u001b[0m\u001b[0;34m\u001b[0m\u001b[0m\n\u001b[0m\u001b[1;32m   1040\u001b[0m     \u001b[0;32mexcept\u001b[0m \u001b[0merrors\u001b[0m\u001b[0;34m.\u001b[0m\u001b[0mOpError\u001b[0m \u001b[0;32mas\u001b[0m \u001b[0me\u001b[0m\u001b[0;34m:\u001b[0m\u001b[0;34m\u001b[0m\u001b[0m\n\u001b[1;32m   1041\u001b[0m       \u001b[0mmessage\u001b[0m \u001b[0;34m=\u001b[0m \u001b[0mcompat\u001b[0m\u001b[0;34m.\u001b[0m\u001b[0mas_text\u001b[0m\u001b[0;34m(\u001b[0m\u001b[0me\u001b[0m\u001b[0;34m.\u001b[0m\u001b[0mmessage\u001b[0m\u001b[0;34m)\u001b[0m\u001b[0;34m\u001b[0m\u001b[0m\n",
      "\u001b[0;32m/home/ubuntu/anaconda3/envs/influence_env/lib/python2.7/site-packages/tensorflow/python/client/session.pyc\u001b[0m in \u001b[0;36m_run_fn\u001b[0;34m(session, feed_dict, fetch_list, target_list, options, run_metadata)\u001b[0m\n\u001b[1;32m   1019\u001b[0m         return tf_session.TF_Run(session, options,\n\u001b[1;32m   1020\u001b[0m                                  \u001b[0mfeed_dict\u001b[0m\u001b[0;34m,\u001b[0m \u001b[0mfetch_list\u001b[0m\u001b[0;34m,\u001b[0m \u001b[0mtarget_list\u001b[0m\u001b[0;34m,\u001b[0m\u001b[0;34m\u001b[0m\u001b[0m\n\u001b[0;32m-> 1021\u001b[0;31m                                  status, run_metadata)\n\u001b[0m\u001b[1;32m   1022\u001b[0m \u001b[0;34m\u001b[0m\u001b[0m\n\u001b[1;32m   1023\u001b[0m     \u001b[0;32mdef\u001b[0m \u001b[0m_prun_fn\u001b[0m\u001b[0;34m(\u001b[0m\u001b[0msession\u001b[0m\u001b[0;34m,\u001b[0m \u001b[0mhandle\u001b[0m\u001b[0;34m,\u001b[0m \u001b[0mfeed_dict\u001b[0m\u001b[0;34m,\u001b[0m \u001b[0mfetch_list\u001b[0m\u001b[0;34m)\u001b[0m\u001b[0;34m:\u001b[0m\u001b[0;34m\u001b[0m\u001b[0m\n",
      "\u001b[0;31mKeyboardInterrupt\u001b[0m: "
     ]
    }
   ],
   "source": [
    "## For now, pretend these are the arguments passed to the script \n",
    "#data_selected = ['Mushroom', 'Snail']\n",
    "#num_train_ex_per_class = 500\n",
    "#num_test_ex_per_class = 50\n",
    "#use_IF = False # False implies FC\n",
    "#target_test_idx = [15]\n",
    "#target_labels = None\n",
    "#num_to_perterb = 2\n",
    "## --------End of arguments----------\n",
    "\n",
    "# def data_poisoning(data_selected, \n",
    "# \t\t\t\t   num_train_ex_per_class, num_test_ex_per_class,\n",
    "# \t\t\t\t   use_IF,\n",
    "# \t\t\t\t   target_test_idx,\n",
    "# \t\t\t\t   num_to_perterb = 1,\n",
    "# \t\t\t\t   target_labels = None)\n",
    "\n",
    "poisoned_image = data_poisoning(['dog', 'fish'], 900, 300, True, [15, 32, 6], 2)"
   ]
  },
  {
   "cell_type": "code",
   "execution_count": null,
   "metadata": {},
   "outputs": [],
   "source": []
  }
 ],
 "metadata": {
  "kernelspec": {
   "display_name": "Python (influence_env)",
   "language": "python",
   "name": "influence_env"
  },
  "language_info": {
   "codemirror_mode": {
    "name": "ipython",
    "version": 2
   },
   "file_extension": ".py",
   "mimetype": "text/x-python",
   "name": "python",
   "nbconvert_exporter": "python",
   "pygments_lexer": "ipython2",
   "version": "2.7.15"
  }
 },
 "nbformat": 4,
 "nbformat_minor": 2
}
