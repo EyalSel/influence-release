{
 "cells": [
  {
   "cell_type": "code",
   "execution_count": 2,
   "metadata": {},
   "outputs": [
    {
     "name": "stderr",
     "output_type": "stream",
     "text": [
      "/home/ubuntu/anaconda3/envs/influence_env/lib/python2.7/site-packages/matplotlib/__init__.py:1067: UserWarning: Duplicate key in file \"/home/ubuntu/.config/matplotlib/matplotlibrc\", line #2\n",
      "  (fname, cnt))\n",
      "/home/ubuntu/anaconda3/envs/influence_env/lib/python2.7/site-packages/matplotlib/__init__.py:1067: UserWarning: Duplicate key in file \"/home/ubuntu/.config/matplotlib/matplotlibrc\", line #3\n",
      "  (fname, cnt))\n",
      "/home/ubuntu/anaconda3/envs/influence_env/lib/python2.7/site-packages/h5py/__init__.py:34: FutureWarning: Conversion of the second argument of issubdtype from `float` to `np.floating` is deprecated. In future, it will be treated as `np.float64 == np.dtype(float).type`.\n",
      "  from ._conv import register_converters as _register_converters\n",
      "Using TensorFlow backend.\n"
     ]
    }
   ],
   "source": [
    "from data_poisoning import data_poisoning"
   ]
  },
  {
   "cell_type": "code",
   "execution_count": 5,
   "metadata": {},
   "outputs": [
    {
     "name": "stdout",
     "output_type": "stream",
     "text": [
      "Loading animals from disk...\n",
      "../data/dataset_dog-fish_train-900_test-300.npz\n",
      "*** Full:\n",
      "self.logits Tensor(\"Shape:0\", shape=(2,), dtype=int32)\n"
     ]
    },
    {
     "name": "stderr",
     "output_type": "stream",
     "text": [
      "[genericNeuralNet.py:191 -   get_vec_to_list_fn() ] Total number of parameters: 2048\n"
     ]
    },
    {
     "name": "stdout",
     "output_type": "stream",
     "text": [
      "wrong_labels_bool Tensor(\"Shape_2:0\", shape=(2,), dtype=int32)\n",
      "logits Tensor(\"Shape_3:0\", shape=(2,), dtype=int32)\n",
      "inception_features:  Tensor(\"flatten/Reshape:0\", shape=(?, ?), dtype=float32)\n",
      "x_poison_features:  Tensor(\"Gather:0\", shape=(1, ?), dtype=float32)\n",
      "t_target_features:  Tensor(\"Gather_1:0\", shape=(1, ?), dtype=float32)\n",
      "Lp:  Tensor(\"norm/Squeeze:0\", shape=(), dtype=float32)\n",
      "LP_gradient Tensor(\"strided_slice_1:0\", shape=(268203,), dtype=float32)\n",
      "*** Top:\n",
      "self.logits Tensor(\"Shape:0\", shape=(2,), dtype=int32)\n"
     ]
    },
    {
     "name": "stderr",
     "output_type": "stream",
     "text": [
      "[genericNeuralNet.py:191 -   get_vec_to_list_fn() ] Total number of parameters: 2048\n"
     ]
    },
    {
     "name": "stdout",
     "output_type": "stream",
     "text": [
      "wrong_labels_bool Tensor(\"Shape_2:0\", shape=(2,), dtype=int32)\n",
      "logits Tensor(\"Shape_3:0\", shape=(2,), dtype=int32)\n",
      "Using normal model\n"
     ]
    },
    {
     "name": "stderr",
     "output_type": "stream",
     "text": [
      "[genericNeuralNet.py:328 -     print_model_eval() ] Train loss (w reg) on all data: 0.012129042\n",
      "[genericNeuralNet.py:329 -     print_model_eval() ] Train loss (w/o reg) on all data: 0.0039761304\n",
      "[genericNeuralNet.py:331 -     print_model_eval() ] Test loss (w/o reg) on all data: 0.048454043\n",
      "[genericNeuralNet.py:332 -     print_model_eval() ] Train acc on all data:  1.0\n",
      "[genericNeuralNet.py:333 -     print_model_eval() ] Test acc on all data:   0.985\n",
      "[genericNeuralNet.py:335 -     print_model_eval() ] Norm of the mean of gradients: 3.6090535e-07\n",
      "[genericNeuralNet.py:336 -     print_model_eval() ] Norm of the params: 4.0380473\n"
     ]
    },
    {
     "name": "stdout",
     "output_type": "stream",
     "text": [
      "LBFGS training took [41] iter.\n",
      "After training with LBFGS: \n"
     ]
    },
    {
     "name": "stderr",
     "output_type": "stream",
     "text": [
      "[genericNeuralNet.py:328 -     print_model_eval() ] Train loss (w reg) on all data: [0.01212904]\n",
      "[genericNeuralNet.py:329 -     print_model_eval() ] Train loss (w/o reg) on all data: [0.00397613]\n",
      "[genericNeuralNet.py:331 -     print_model_eval() ] Test loss (w/o reg) on all data: [0.04845405]\n",
      "[genericNeuralNet.py:332 -     print_model_eval() ] Train acc on all data:  [1.]\n",
      "[genericNeuralNet.py:333 -     print_model_eval() ] Test acc on all data:   [0.985]\n",
      "[genericNeuralNet.py:335 -     print_model_eval() ] Norm of the mean of gradients: 3.601115e-07\n",
      "[genericNeuralNet.py:336 -     print_model_eval() ] Norm of the params: 4.0380473\n"
     ]
    },
    {
     "name": "stdout",
     "output_type": "stream",
     "text": [
      "Creating poisoned dataset...\n",
      "('step_size is', 0.02)\n",
      "****** Attacking test_idx [15, 169] ******\n",
      "Total number of parameters: 2048\n",
      "Warning: Desired error not necessarily achieved due to precision loss.\n",
      "         Current function value: -0.315211\n",
      "         Iterations: 5\n",
      "         Function evaluations: 63\n",
      "         Gradient evaluations: 56\n",
      "         Hessian evaluations: 38\n",
      "Inverse HVP took 1.70606398582 sec\n",
      "Loaded inverse HVP from output/poisoning_900_300_inception_wd-0.001-test-[15, 169].npz\n",
      "Inverse HVP took 0.000516891479492 sec\n",
      "Entering the for loop\n",
      "finished calculating grad_wrt_input_val\n"
     ]
    },
    {
     "name": "stderr",
     "output_type": "stream",
     "text": [
      "[iter_attack.py:113 -     iterative_attack() ] Test idx: [15, 169], Indices to poison: [1141 1064  374 1157  607 1447   98  158 1354  151], train label: [1. 0. 0. 0. 0. 0. 0. 0. 0. 0.], test labels: [0. 0.]\n"
     ]
    },
    {
     "name": "stdout",
     "output_type": "stream",
     "text": [
      "('all_indices_to_poison: ', array([1141, 1064,  374, 1157,  607, 1447,   98,  158, 1354,  151]))\n",
      "\n"
     ]
    },
    {
     "name": "stderr",
     "output_type": "stream",
     "text": [
      "[iter_attack.py:123 -     iterative_attack() ] Initial Test pred (full): [[9.9251246e-01 7.4875872e-03]\n",
      " [9.9964237e-01 3.5761815e-04]]\n",
      "[iter_attack.py:126 -     iterative_attack() ] Initial Test pred (top): [[9.9251246e-01 7.4875872e-03]\n",
      " [9.9964237e-01 3.5761815e-04]]\n",
      "[iter_attack.py:138 -     iterative_attack() ] *** Iter: 0\n"
     ]
    },
    {
     "name": "stdout",
     "output_type": "stream",
     "text": [
      "Total number of parameters: 2048\n"
     ]
    },
    {
     "name": "stderr",
     "output_type": "stream",
     "text": [
      "[iter_attack.py:160 -     iterative_attack() ] Attach_iter 0 perturbation shape: (1, 268203), perturbation: [[ 0.00195593 -0.00354698 -0.00692004 ... -0.0003325  -0.0003466\n",
      "   0.0010975 ]]\n"
     ]
    },
    {
     "name": "stdout",
     "output_type": "stream",
     "text": [
      "Warning: Desired error not necessarily achieved due to precision loss.\n",
      "         Current function value: -0.315211\n",
      "         Iterations: 5\n",
      "         Function evaluations: 63\n",
      "         Gradient evaluations: 56\n",
      "         Hessian evaluations: 38\n",
      "Inverse HVP took 1.63164305687 sec\n",
      "Loaded inverse HVP from output/poisoning_900_300_inception_wd-0.001-test-[15, 169].npz\n",
      "Inverse HVP took 0.000564098358154 sec\n",
      "Entering the for loop\n",
      "(1, 268203)\n",
      "Loaded inverse HVP from output/poisoning_900_300_inception_wd-0.001-test-[15, 169].npz\n",
      "Inverse HVP took 0.000606060028076 sec\n",
      "Entering the for loop\n"
     ]
    },
    {
     "name": "stderr",
     "output_type": "stream",
     "text": [
      "[iter_attack.py:160 -     iterative_attack() ] Attach_iter 0 perturbation shape: (1, 268203), perturbation: [[-6.83506369e-06 -9.64249601e-04  9.36195938e-05 ... -1.16973906e-03\n",
      "  -2.35465523e-05  8.36412364e-04]]\n",
      "[iter_attack.py:160 -     iterative_attack() ] Attach_iter 0 perturbation shape: (1, 268203), perturbation: [[-0.00235881 -0.00145955  0.0006891  ... -0.00032531  0.0006246\n",
      "   0.00011849]]\n"
     ]
    },
    {
     "name": "stdout",
     "output_type": "stream",
     "text": [
      "(1, 268203)\n",
      "Loaded inverse HVP from output/poisoning_900_300_inception_wd-0.001-test-[15, 169].npz\n",
      "Inverse HVP took 0.000603914260864 sec\n",
      "Entering the for loop\n",
      "(1, 268203)\n",
      "Loaded inverse HVP from output/poisoning_900_300_inception_wd-0.001-test-[15, 169].npz\n",
      "Inverse HVP took 0.000584840774536 sec\n",
      "Entering the for loop\n"
     ]
    },
    {
     "name": "stderr",
     "output_type": "stream",
     "text": [
      "[iter_attack.py:160 -     iterative_attack() ] Attach_iter 0 perturbation shape: (1, 268203), perturbation: [[-0.00014152 -0.00020688  0.00011094 ... -0.0001276  -0.00012341\n",
      "  -0.00036195]]\n",
      "[iter_attack.py:160 -     iterative_attack() ] Attach_iter 0 perturbation shape: (1, 268203), perturbation: [[-1.72785658e-05 -2.12869782e-05 -9.14073753e-05 ...  6.34094351e-04\n",
      "  -2.35496718e-03 -2.15463529e-04]]\n"
     ]
    },
    {
     "name": "stdout",
     "output_type": "stream",
     "text": [
      "(1, 268203)\n",
      "Loaded inverse HVP from output/poisoning_900_300_inception_wd-0.001-test-[15, 169].npz\n",
      "Inverse HVP took 0.000586986541748 sec\n",
      "Entering the for loop\n",
      "(1, 268203)\n",
      "Loaded inverse HVP from output/poisoning_900_300_inception_wd-0.001-test-[15, 169].npz\n",
      "Inverse HVP took 0.000629901885986 sec\n",
      "Entering the for loop\n"
     ]
    },
    {
     "name": "stderr",
     "output_type": "stream",
     "text": [
      "[iter_attack.py:160 -     iterative_attack() ] Attach_iter 0 perturbation shape: (1, 268203), perturbation: [[ 0.00165391 -0.00149229  0.00026355 ...  0.00017657  0.00030725\n",
      "  -0.00024306]]\n",
      "[iter_attack.py:160 -     iterative_attack() ] Attach_iter 0 perturbation shape: (1, 268203), perturbation: [[ 1.70679530e-04 -1.63759265e-04  2.13023362e-04 ...  6.07852533e-04\n",
      "  -3.97504220e-04 -5.88535586e-05]]\n"
     ]
    },
    {
     "name": "stdout",
     "output_type": "stream",
     "text": [
      "(1, 268203)\n",
      "Loaded inverse HVP from output/poisoning_900_300_inception_wd-0.001-test-[15, 169].npz\n",
      "Inverse HVP took 0.000600814819336 sec\n",
      "Entering the for loop\n",
      "(1, 268203)\n",
      "Loaded inverse HVP from output/poisoning_900_300_inception_wd-0.001-test-[15, 169].npz\n",
      "Inverse HVP took 0.000581026077271 sec\n",
      "Entering the for loop\n"
     ]
    },
    {
     "name": "stderr",
     "output_type": "stream",
     "text": [
      "[iter_attack.py:160 -     iterative_attack() ] Attach_iter 0 perturbation shape: (1, 268203), perturbation: [[-1.59664458e-04 -3.10821342e-04  5.91292162e-04 ... -2.53198319e-04\n",
      "  -2.92404657e-05  5.33033744e-06]]\n",
      "[iter_attack.py:160 -     iterative_attack() ] Attach_iter 0 perturbation shape: (1, 268203), perturbation: [[-0.00153867 -0.00035536  0.0006402  ...  0.00086383 -0.0002999\n",
      "  -0.0002153 ]]\n"
     ]
    },
    {
     "name": "stdout",
     "output_type": "stream",
     "text": [
      "(1, 268203)\n",
      "Loaded inverse HVP from output/poisoning_900_300_inception_wd-0.001-test-[15, 169].npz\n",
      "Inverse HVP took 0.000635862350464 sec\n",
      "Entering the for loop\n",
      "(1, 268203)\n",
      "Loaded inverse HVP from output/poisoning_900_300_inception_wd-0.001-test-[15, 169].npz\n",
      "Inverse HVP took 0.000584125518799 sec\n",
      "Entering the for loop\n"
     ]
    },
    {
     "name": "stderr",
     "output_type": "stream",
     "text": [
      "[iter_attack.py:160 -     iterative_attack() ] Attach_iter 0 perturbation shape: (1, 268203), perturbation: [[ 0.00028169  0.00011472 -0.00020811 ...  0.00011432 -0.00044295\n",
      "   0.00012538]]\n"
     ]
    },
    {
     "name": "stdout",
     "output_type": "stream",
     "text": [
      "(1, 268203)\n",
      "10 10\n"
     ]
    },
    {
     "name": "stderr",
     "output_type": "stream",
     "text": [
      "[genericNeuralNet.py:328 -     print_model_eval() ] Train loss (w reg) on all data: 0.012172284\n",
      "[genericNeuralNet.py:329 -     print_model_eval() ] Train loss (w/o reg) on all data: 0.004042716\n",
      "[genericNeuralNet.py:331 -     print_model_eval() ] Test loss (w/o reg) on all data: 0.04761137\n",
      "[genericNeuralNet.py:332 -     print_model_eval() ] Train acc on all data:  1.0\n"
     ]
    },
    {
     "name": "stdout",
     "output_type": "stream",
     "text": [
      "Shape (10, 2048)\n",
      "Using normal model\n",
      "LBFGS training took [46] iter.\n",
      "After training with LBFGS: \n"
     ]
    },
    {
     "name": "stderr",
     "output_type": "stream",
     "text": [
      "[genericNeuralNet.py:333 -     print_model_eval() ] Test acc on all data:   0.9833333333333333\n",
      "[genericNeuralNet.py:335 -     print_model_eval() ] Norm of the mean of gradients: 0.000982475\n",
      "[genericNeuralNet.py:336 -     print_model_eval() ] Norm of the params: 4.032262\n",
      "[iter_attack.py:204 -     iterative_attack() ] Test_idx: 15 Test pred (full): [[0.98692536 0.01307467]]\n",
      "[iter_attack.py:204 -     iterative_attack() ] Test_idx: 169 Test pred (full): [[9.995926e-01 4.073785e-04]]\n",
      "[iter_attack.py:205 -     iterative_attack() ] ---------------------\n",
      "[iter_attack.py:210 -     iterative_attack() ] Test_idx: 15 Test pred (top): [[0.98692536 0.01307467]]\n",
      "[iter_attack.py:210 -     iterative_attack() ] Test_idx: 169 Test pred (top): [[9.995926e-01 4.073785e-04]]\n",
      "[iter_attack.py:138 -     iterative_attack() ] *** Iter: 1\n"
     ]
    },
    {
     "name": "stdout",
     "output_type": "stream",
     "text": [
      "Total number of parameters: 2048\n"
     ]
    },
    {
     "name": "stderr",
     "output_type": "stream",
     "text": [
      "[iter_attack.py:160 -     iterative_attack() ] Attach_iter 1 perturbation shape: (1, 268203), perturbation: [[ 0.00365207 -0.00473377 -0.01075292 ...  0.00182387 -0.00084483\n",
      "   0.00076235]]\n"
     ]
    },
    {
     "name": "stdout",
     "output_type": "stream",
     "text": [
      "Warning: Desired error not necessarily achieved due to precision loss.\n",
      "         Current function value: -0.982277\n",
      "         Iterations: 7\n",
      "         Function evaluations: 70\n",
      "         Gradient evaluations: 66\n",
      "         Hessian evaluations: 50\n",
      "Inverse HVP took 2.03294110298 sec\n",
      "Loaded inverse HVP from output/poisoning_900_300_inception_wd-0.001-test-[15, 169].npz\n",
      "Inverse HVP took 0.000585794448853 sec\n",
      "Entering the for loop\n",
      "(1, 268203)\n",
      "Loaded inverse HVP from output/poisoning_900_300_inception_wd-0.001-test-[15, 169].npz\n",
      "Inverse HVP took 0.000589847564697 sec\n",
      "Entering the for loop\n"
     ]
    },
    {
     "name": "stderr",
     "output_type": "stream",
     "text": [
      "[iter_attack.py:160 -     iterative_attack() ] Attach_iter 1 perturbation shape: (1, 268203), perturbation: [[ 0.00041611 -0.00141864  0.00071347 ... -0.00313557  0.00015139\n",
      "   0.00194036]]\n",
      "[iter_attack.py:160 -     iterative_attack() ] Attach_iter 1 perturbation shape: (1, 268203), perturbation: [[-0.00244504 -0.0011704   0.00113741 ... -0.00061291  0.00130053\n",
      "   0.00023809]]\n"
     ]
    },
    {
     "name": "stdout",
     "output_type": "stream",
     "text": [
      "(1, 268203)\n",
      "Loaded inverse HVP from output/poisoning_900_300_inception_wd-0.001-test-[15, 169].npz\n",
      "Inverse HVP took 0.000608921051025 sec\n",
      "Entering the for loop\n",
      "(1, 268203)\n",
      "Loaded inverse HVP from output/poisoning_900_300_inception_wd-0.001-test-[15, 169].npz\n",
      "Inverse HVP took 0.000643968582153 sec\n",
      "Entering the for loop\n"
     ]
    },
    {
     "name": "stderr",
     "output_type": "stream",
     "text": [
      "[iter_attack.py:160 -     iterative_attack() ] Attach_iter 1 perturbation shape: (1, 268203), perturbation: [[-1.78873335e-04 -2.64946575e-04  6.96492643e-05 ... -1.14194263e-04\n",
      "   6.39957871e-05 -7.07333849e-04]]\n",
      "[iter_attack.py:160 -     iterative_attack() ] Attach_iter 1 perturbation shape: (1, 268203), perturbation: [[-3.50836272e-05  4.36470873e-06 -7.88682373e-05 ...  1.32065243e-03\n",
      "  -2.01639696e-03 -4.91697690e-04]]\n"
     ]
    },
    {
     "name": "stdout",
     "output_type": "stream",
     "text": [
      "(1, 268203)\n",
      "Loaded inverse HVP from output/poisoning_900_300_inception_wd-0.001-test-[15, 169].npz\n",
      "Inverse HVP took 0.000590085983276 sec\n",
      "Entering the for loop\n",
      "(1, 268203)\n",
      "Loaded inverse HVP from output/poisoning_900_300_inception_wd-0.001-test-[15, 169].npz\n",
      "Inverse HVP took 0.000597953796387 sec\n",
      "Entering the for loop\n"
     ]
    },
    {
     "name": "stderr",
     "output_type": "stream",
     "text": [
      "[iter_attack.py:160 -     iterative_attack() ] Attach_iter 1 perturbation shape: (1, 268203), perturbation: [[ 0.00254765 -0.00240153  0.000187   ...  0.00067259  0.00060063\n",
      "  -0.00070682]]\n",
      "[iter_attack.py:160 -     iterative_attack() ] Attach_iter 1 perturbation shape: (1, 268203), perturbation: [[-4.26695551e-05 -1.57508723e-04  4.72832384e-04 ...  7.87876197e-04\n",
      "  -4.00884979e-04 -8.23135706e-05]]\n"
     ]
    },
    {
     "name": "stdout",
     "output_type": "stream",
     "text": [
      "(1, 268203)\n",
      "Loaded inverse HVP from output/poisoning_900_300_inception_wd-0.001-test-[15, 169].npz\n",
      "Inverse HVP took 0.000593900680542 sec\n",
      "Entering the for loop\n",
      "(1, 268203)\n",
      "Loaded inverse HVP from output/poisoning_900_300_inception_wd-0.001-test-[15, 169].npz\n",
      "Inverse HVP took 0.00058388710022 sec\n",
      "Entering the for loop\n"
     ]
    },
    {
     "name": "stderr",
     "output_type": "stream",
     "text": [
      "[iter_attack.py:160 -     iterative_attack() ] Attach_iter 1 perturbation shape: (1, 268203), perturbation: [[-4.70541039e-04 -8.13627907e-04  1.65003911e-03 ... -6.03071385e-05\n",
      "  -9.15745739e-04  1.10656954e-04]]\n",
      "[iter_attack.py:160 -     iterative_attack() ] Attach_iter 1 perturbation shape: (1, 268203), perturbation: [[-0.0038547  -0.00059186  0.00092695 ...  0.00161243 -0.00062606\n",
      "  -0.00026469]]\n"
     ]
    },
    {
     "name": "stdout",
     "output_type": "stream",
     "text": [
      "(1, 268203)\n",
      "Loaded inverse HVP from output/poisoning_900_300_inception_wd-0.001-test-[15, 169].npz\n",
      "Inverse HVP took 0.000585079193115 sec\n",
      "Entering the for loop\n",
      "(1, 268203)\n",
      "Loaded inverse HVP from output/poisoning_900_300_inception_wd-0.001-test-[15, 169].npz\n",
      "Inverse HVP took 0.000585079193115 sec\n",
      "Entering the for loop\n"
     ]
    },
    {
     "name": "stderr",
     "output_type": "stream",
     "text": [
      "[iter_attack.py:160 -     iterative_attack() ] Attach_iter 1 perturbation shape: (1, 268203), perturbation: [[ 1.97364192e-04 -3.63946310e-05 -7.01158060e-05 ...  1.16312636e-04\n",
      "  -2.86203809e-04  5.92012366e-05]]\n"
     ]
    },
    {
     "name": "stdout",
     "output_type": "stream",
     "text": [
      "(1, 268203)\n",
      "10 10\n"
     ]
    },
    {
     "name": "stderr",
     "output_type": "stream",
     "text": [
      "[genericNeuralNet.py:328 -     print_model_eval() ] Train loss (w reg) on all data: 0.012279369\n",
      "[genericNeuralNet.py:329 -     print_model_eval() ] Train loss (w/o reg) on all data: 0.0041368646\n",
      "[genericNeuralNet.py:331 -     print_model_eval() ] Test loss (w/o reg) on all data: 0.04701453\n",
      "[genericNeuralNet.py:332 -     print_model_eval() ] Train acc on all data:  1.0\n",
      "[genericNeuralNet.py:333 -     print_model_eval() ] Test acc on all data:   0.985\n",
      "[genericNeuralNet.py:335 -     print_model_eval() ] Norm of the mean of gradients: 0.0017597355\n",
      "[genericNeuralNet.py:336 -     print_model_eval() ] Norm of the params: 4.0354686\n"
     ]
    },
    {
     "name": "stdout",
     "output_type": "stream",
     "text": [
      "Shape (10, 2048)\n",
      "Using normal model\n",
      "LBFGS training took [48] iter.\n",
      "After training with LBFGS: \n"
     ]
    },
    {
     "name": "stderr",
     "output_type": "stream",
     "text": [
      "[iter_attack.py:204 -     iterative_attack() ] Test_idx: 15 Test pred (full): [[0.9786992  0.02130085]]\n",
      "[iter_attack.py:204 -     iterative_attack() ] Test_idx: 169 Test pred (full): [[9.9954236e-01 4.5766504e-04]]\n",
      "[iter_attack.py:205 -     iterative_attack() ] ---------------------\n",
      "[iter_attack.py:210 -     iterative_attack() ] Test_idx: 15 Test pred (top): [[0.9786992  0.02130085]]\n",
      "[iter_attack.py:210 -     iterative_attack() ] Test_idx: 169 Test pred (top): [[9.9954236e-01 4.5766504e-04]]\n",
      "[iter_attack.py:138 -     iterative_attack() ] *** Iter: 2\n"
     ]
    },
    {
     "name": "stdout",
     "output_type": "stream",
     "text": [
      "Total number of parameters: 2048\n"
     ]
    },
    {
     "name": "stderr",
     "output_type": "stream",
     "text": [
      "[iter_attack.py:160 -     iterative_attack() ] Attach_iter 2 perturbation shape: (1, 268203), perturbation: [[ 0.00497001 -0.0050682  -0.01099084 ...  0.00350908 -0.00030045\n",
      "  -0.00019462]]\n"
     ]
    },
    {
     "name": "stdout",
     "output_type": "stream",
     "text": [
      "Warning: Desired error not necessarily achieved due to precision loss.\n",
      "         Current function value: -2.665709\n",
      "         Iterations: 7\n",
      "         Function evaluations: 73\n",
      "         Gradient evaluations: 68\n",
      "         Hessian evaluations: 44\n",
      "Inverse HVP took 1.91509914398 sec\n",
      "Loaded inverse HVP from output/poisoning_900_300_inception_wd-0.001-test-[15, 169].npz\n",
      "Inverse HVP took 0.000563859939575 sec\n",
      "Entering the for loop\n",
      "(1, 268203)\n",
      "Loaded inverse HVP from output/poisoning_900_300_inception_wd-0.001-test-[15, 169].npz\n",
      "Inverse HVP took 0.000584125518799 sec\n",
      "Entering the for loop\n"
     ]
    },
    {
     "name": "stderr",
     "output_type": "stream",
     "text": [
      "[iter_attack.py:160 -     iterative_attack() ] Attach_iter 2 perturbation shape: (1, 268203), perturbation: [[ 0.00035498 -0.00279541  0.00055155 ... -0.00306801  0.00088019\n",
      "   0.00136676]]\n",
      "[iter_attack.py:160 -     iterative_attack() ] Attach_iter 2 perturbation shape: (1, 268203), perturbation: [[-0.00219406 -0.001013    0.00168351 ... -0.00063364  0.0012243\n",
      "   0.00024406]]\n"
     ]
    },
    {
     "name": "stdout",
     "output_type": "stream",
     "text": [
      "(1, 268203)\n",
      "Loaded inverse HVP from output/poisoning_900_300_inception_wd-0.001-test-[15, 169].npz\n",
      "Inverse HVP took 0.000647068023682 sec\n",
      "Entering the for loop\n",
      "(1, 268203)\n",
      "Loaded inverse HVP from output/poisoning_900_300_inception_wd-0.001-test-[15, 169].npz\n",
      "Inverse HVP took 0.00059700012207 sec\n",
      "Entering the for loop\n"
     ]
    },
    {
     "name": "stderr",
     "output_type": "stream",
     "text": [
      "[iter_attack.py:160 -     iterative_attack() ] Attach_iter 2 perturbation shape: (1, 268203), perturbation: [[-4.76193207e-04  6.53439201e-05  1.97227535e-04 ... -3.50575574e-04\n",
      "   1.08008629e-04 -9.52301023e-04]]\n",
      "[iter_attack.py:160 -     iterative_attack() ] Attach_iter 2 perturbation shape: (1, 268203), perturbation: [[-7.51057742e-05  3.44121509e-05 -8.83690809e-05 ...  6.83643739e-04\n",
      "  -2.37539923e-03  3.39276914e-04]]\n"
     ]
    },
    {
     "name": "stdout",
     "output_type": "stream",
     "text": [
      "(1, 268203)\n",
      "Loaded inverse HVP from output/poisoning_900_300_inception_wd-0.001-test-[15, 169].npz\n",
      "Inverse HVP took 0.000658988952637 sec\n",
      "Entering the for loop\n",
      "(1, 268203)\n",
      "Loaded inverse HVP from output/poisoning_900_300_inception_wd-0.001-test-[15, 169].npz\n",
      "Inverse HVP took 0.000584125518799 sec\n",
      "Entering the for loop\n"
     ]
    },
    {
     "name": "stderr",
     "output_type": "stream",
     "text": [
      "[iter_attack.py:160 -     iterative_attack() ] Attach_iter 2 perturbation shape: (1, 268203), perturbation: [[ 0.00356484 -0.00322581 -0.0001253  ...  0.00131221  0.00108408\n",
      "  -0.00135687]]\n",
      "[iter_attack.py:160 -     iterative_attack() ] Attach_iter 2 perturbation shape: (1, 268203), perturbation: [[-0.00062046 -0.00022385  0.00087997 ...  0.00119704 -0.00062673\n",
      "  -0.00037342]]\n"
     ]
    },
    {
     "name": "stdout",
     "output_type": "stream",
     "text": [
      "(1, 268203)\n",
      "Loaded inverse HVP from output/poisoning_900_300_inception_wd-0.001-test-[15, 169].npz\n",
      "Inverse HVP took 0.000586032867432 sec\n",
      "Entering the for loop\n",
      "(1, 268203)\n",
      "Loaded inverse HVP from output/poisoning_900_300_inception_wd-0.001-test-[15, 169].npz\n",
      "Inverse HVP took 0.000590085983276 sec\n",
      "Entering the for loop\n"
     ]
    },
    {
     "name": "stderr",
     "output_type": "stream",
     "text": [
      "[iter_attack.py:160 -     iterative_attack() ] Attach_iter 2 perturbation shape: (1, 268203), perturbation: [[-0.00096158 -0.00206998  0.00376239 ...  0.00016606 -0.00158686\n",
      "  -0.00017738]]\n",
      "[iter_attack.py:160 -     iterative_attack() ] Attach_iter 2 perturbation shape: (1, 268203), perturbation: [[-0.00704985 -0.00075953  0.00146953 ...  0.00336792 -0.00122949\n",
      "  -0.00079929]]\n"
     ]
    },
    {
     "name": "stdout",
     "output_type": "stream",
     "text": [
      "(1, 268203)\n",
      "Loaded inverse HVP from output/poisoning_900_300_inception_wd-0.001-test-[15, 169].npz\n",
      "Inverse HVP took 0.000582933425903 sec\n",
      "Entering the for loop\n",
      "(1, 268203)\n",
      "Loaded inverse HVP from output/poisoning_900_300_inception_wd-0.001-test-[15, 169].npz\n",
      "Inverse HVP took 0.000601053237915 sec\n",
      "Entering the for loop\n"
     ]
    },
    {
     "name": "stderr",
     "output_type": "stream",
     "text": [
      "[iter_attack.py:160 -     iterative_attack() ] Attach_iter 2 perturbation shape: (1, 268203), perturbation: [[ 7.51843472e-05 -2.52392201e-05 -5.42507405e-05 ...  3.62645806e-05\n",
      "  -2.68995755e-05 -3.92594047e-05]]\n"
     ]
    },
    {
     "name": "stdout",
     "output_type": "stream",
     "text": [
      "(1, 268203)\n",
      "10 10\n"
     ]
    },
    {
     "name": "stderr",
     "output_type": "stream",
     "text": [
      "[genericNeuralNet.py:328 -     print_model_eval() ] Train loss (w reg) on all data: 0.012413518\n",
      "[genericNeuralNet.py:329 -     print_model_eval() ] Train loss (w/o reg) on all data: 0.004232643\n",
      "[genericNeuralNet.py:331 -     print_model_eval() ] Test loss (w/o reg) on all data: 0.046785228\n",
      "[genericNeuralNet.py:332 -     print_model_eval() ] Train acc on all data:  1.0\n",
      "[genericNeuralNet.py:333 -     print_model_eval() ] Test acc on all data:   0.985\n",
      "[genericNeuralNet.py:335 -     print_model_eval() ] Norm of the mean of gradients: 0.002320565\n",
      "[genericNeuralNet.py:336 -     print_model_eval() ] Norm of the params: 4.0449657\n"
     ]
    },
    {
     "name": "stdout",
     "output_type": "stream",
     "text": [
      "Shape (10, 2048)\n",
      "Using normal model\n",
      "LBFGS training took [45] iter.\n",
      "After training with LBFGS: \n"
     ]
    },
    {
     "name": "stderr",
     "output_type": "stream",
     "text": [
      "[iter_attack.py:204 -     iterative_attack() ] Test_idx: 15 Test pred (full): [[0.9669107  0.03308923]]\n",
      "[iter_attack.py:204 -     iterative_attack() ] Test_idx: 169 Test pred (full): [[9.9949706e-01 5.0296605e-04]]\n",
      "[iter_attack.py:205 -     iterative_attack() ] ---------------------\n",
      "[iter_attack.py:210 -     iterative_attack() ] Test_idx: 15 Test pred (top): [[0.9669107  0.03308923]]\n",
      "[iter_attack.py:210 -     iterative_attack() ] Test_idx: 169 Test pred (top): [[9.9949706e-01 5.0296605e-04]]\n",
      "[iter_attack.py:138 -     iterative_attack() ] *** Iter: 3\n"
     ]
    },
    {
     "name": "stdout",
     "output_type": "stream",
     "text": [
      "Total number of parameters: 2048\n"
     ]
    },
    {
     "name": "stderr",
     "output_type": "stream",
     "text": [
      "[iter_attack.py:160 -     iterative_attack() ] Attach_iter 3 perturbation shape: (1, 268203), perturbation: [[ 0.00785047 -0.00436293 -0.01238177 ...  0.00423999  0.00210694\n",
      "  -0.00308127]]\n"
     ]
    },
    {
     "name": "stdout",
     "output_type": "stream",
     "text": [
      "Warning: Desired error not necessarily achieved due to precision loss.\n",
      "         Current function value: -6.568524\n",
      "         Iterations: 7\n",
      "         Function evaluations: 78\n",
      "         Gradient evaluations: 74\n",
      "         Hessian evaluations: 55\n",
      "Inverse HVP took 2.3119969368 sec\n",
      "Loaded inverse HVP from output/poisoning_900_300_inception_wd-0.001-test-[15, 169].npz\n",
      "Inverse HVP took 0.000570058822632 sec\n",
      "Entering the for loop\n",
      "(1, 268203)\n",
      "Loaded inverse HVP from output/poisoning_900_300_inception_wd-0.001-test-[15, 169].npz\n",
      "Inverse HVP took 0.000588178634644 sec\n",
      "Entering the for loop\n"
     ]
    },
    {
     "name": "stderr",
     "output_type": "stream",
     "text": [
      "[iter_attack.py:160 -     iterative_attack() ] Attach_iter 3 perturbation shape: (1, 268203), perturbation: [[-6.76976808e-04 -3.23743653e-03  2.92416924e-04 ... -3.53194564e-03\n",
      "  -4.41642878e-05  1.93585095e-03]]\n",
      "[iter_attack.py:160 -     iterative_attack() ] Attach_iter 3 perturbation shape: (1, 268203), perturbation: [[-0.00056548 -0.00022279  0.00155334 ... -0.00083365  0.00016322\n",
      "   0.00042078]]\n"
     ]
    },
    {
     "name": "stdout",
     "output_type": "stream",
     "text": [
      "(1, 268203)\n",
      "Loaded inverse HVP from output/poisoning_900_300_inception_wd-0.001-test-[15, 169].npz\n",
      "Inverse HVP took 0.000591039657593 sec\n",
      "Entering the for loop\n",
      "(1, 268203)\n",
      "Loaded inverse HVP from output/poisoning_900_300_inception_wd-0.001-test-[15, 169].npz\n",
      "Inverse HVP took 0.000601053237915 sec\n",
      "Entering the for loop\n"
     ]
    },
    {
     "name": "stderr",
     "output_type": "stream",
     "text": [
      "[iter_attack.py:160 -     iterative_attack() ] Attach_iter 3 perturbation shape: (1, 268203), perturbation: [[-0.00073188  0.0003312   0.00032058 ... -0.000415   -0.0001613\n",
      "  -0.00061457]]\n",
      "[iter_attack.py:160 -     iterative_attack() ] Attach_iter 3 perturbation shape: (1, 268203), perturbation: [[ 1.29850538e-04 -1.45676473e-04 -7.86530727e-05 ...  1.59495731e-03\n",
      "  -1.61041250e-03  9.09233349e-05]]\n"
     ]
    },
    {
     "name": "stdout",
     "output_type": "stream",
     "text": [
      "(1, 268203)\n",
      "Loaded inverse HVP from output/poisoning_900_300_inception_wd-0.001-test-[15, 169].npz\n",
      "Inverse HVP took 0.000588893890381 sec\n",
      "Entering the for loop\n",
      "(1, 268203)\n",
      "Loaded inverse HVP from output/poisoning_900_300_inception_wd-0.001-test-[15, 169].npz\n",
      "Inverse HVP took 0.000630140304565 sec\n",
      "Entering the for loop\n"
     ]
    },
    {
     "name": "stderr",
     "output_type": "stream",
     "text": [
      "[iter_attack.py:160 -     iterative_attack() ] Attach_iter 3 perturbation shape: (1, 268203), perturbation: [[ 0.00274339 -0.00279191 -0.00114929 ...  0.00139378  0.00039974\n",
      "  -0.0009023 ]]\n",
      "[iter_attack.py:160 -     iterative_attack() ] Attach_iter 3 perturbation shape: (1, 268203), perturbation: [[-0.00023893 -0.00043084  0.00054639 ...  0.0013706  -0.00047728\n",
      "  -0.00044985]]\n"
     ]
    },
    {
     "name": "stdout",
     "output_type": "stream",
     "text": [
      "(1, 268203)\n",
      "Loaded inverse HVP from output/poisoning_900_300_inception_wd-0.001-test-[15, 169].npz\n",
      "Inverse HVP took 0.000585079193115 sec\n",
      "Entering the for loop\n",
      "(1, 268203)\n",
      "Loaded inverse HVP from output/poisoning_900_300_inception_wd-0.001-test-[15, 169].npz\n",
      "Inverse HVP took 0.000636100769043 sec\n",
      "Entering the for loop\n"
     ]
    },
    {
     "name": "stderr",
     "output_type": "stream",
     "text": [
      "[iter_attack.py:160 -     iterative_attack() ] Attach_iter 3 perturbation shape: (1, 268203), perturbation: [[-0.00207591 -0.00519487  0.00778002 ... -0.00485158  0.00039059\n",
      "   0.00094322]]\n",
      "[iter_attack.py:160 -     iterative_attack() ] Attach_iter 3 perturbation shape: (1, 268203), perturbation: [[-0.00691606  0.0017194   0.00181748 ...  0.00597959 -0.00186958\n",
      "  -0.00150605]]\n"
     ]
    },
    {
     "name": "stdout",
     "output_type": "stream",
     "text": [
      "(1, 268203)\n",
      "Loaded inverse HVP from output/poisoning_900_300_inception_wd-0.001-test-[15, 169].npz\n",
      "Inverse HVP took 0.000585794448853 sec\n",
      "Entering the for loop\n",
      "(1, 268203)\n",
      "Loaded inverse HVP from output/poisoning_900_300_inception_wd-0.001-test-[15, 169].npz\n",
      "Inverse HVP took 0.000624895095825 sec\n",
      "Entering the for loop\n"
     ]
    },
    {
     "name": "stderr",
     "output_type": "stream",
     "text": [
      "[iter_attack.py:160 -     iterative_attack() ] Attach_iter 3 perturbation shape: (1, 268203), perturbation: [[ 3.87087530e-05 -8.98725557e-06 -3.26926383e-05 ...  1.93366141e-05\n",
      "  -4.56896196e-05  7.66180528e-06]]\n"
     ]
    },
    {
     "name": "stdout",
     "output_type": "stream",
     "text": [
      "(1, 268203)\n",
      "10 10\n",
      "Shape (10, 2048)\n",
      "Using normal model\n",
      "LBFGS training took [50] iter.\n",
      "After training with LBFGS: \n"
     ]
    },
    {
     "name": "stderr",
     "output_type": "stream",
     "text": [
      "[genericNeuralNet.py:328 -     print_model_eval() ] Train loss (w reg) on all data: 0.012557399\n",
      "[genericNeuralNet.py:329 -     print_model_eval() ] Train loss (w/o reg) on all data: 0.0043121576\n",
      "[genericNeuralNet.py:331 -     print_model_eval() ] Test loss (w/o reg) on all data: 0.046787575\n",
      "[genericNeuralNet.py:332 -     print_model_eval() ] Train acc on all data:  1.0\n",
      "[genericNeuralNet.py:333 -     print_model_eval() ] Test acc on all data:   0.985\n",
      "[genericNeuralNet.py:335 -     print_model_eval() ] Norm of the mean of gradients: 0.0027764079\n",
      "[genericNeuralNet.py:336 -     print_model_eval() ] Norm of the params: 4.0608473\n",
      "[iter_attack.py:204 -     iterative_attack() ] Test_idx: 15 Test pred (full): [[0.95051837 0.04948162]]\n",
      "[iter_attack.py:204 -     iterative_attack() ] Test_idx: 169 Test pred (full): [[9.9945086e-01 5.4915430e-04]]\n",
      "[iter_attack.py:205 -     iterative_attack() ] ---------------------\n",
      "[iter_attack.py:210 -     iterative_attack() ] Test_idx: 15 Test pred (top): [[0.95051837 0.04948162]]\n",
      "[iter_attack.py:210 -     iterative_attack() ] Test_idx: 169 Test pred (top): [[9.9945086e-01 5.4915430e-04]]\n",
      "[iter_attack.py:138 -     iterative_attack() ] *** Iter: 4\n"
     ]
    },
    {
     "name": "stdout",
     "output_type": "stream",
     "text": [
      "Total number of parameters: 2048\n"
     ]
    },
    {
     "name": "stderr",
     "output_type": "stream",
     "text": [
      "[iter_attack.py:160 -     iterative_attack() ] Attach_iter 4 perturbation shape: (1, 268203), perturbation: [[ 0.01739585 -0.00277195 -0.01460966 ...  0.00128677  0.00317096\n",
      "  -0.00201679]]\n"
     ]
    },
    {
     "name": "stdout",
     "output_type": "stream",
     "text": [
      "Warning: Desired error not necessarily achieved due to precision loss.\n",
      "         Current function value: -14.915299\n",
      "         Iterations: 7\n",
      "         Function evaluations: 81\n",
      "         Gradient evaluations: 77\n",
      "         Hessian evaluations: 50\n",
      "Inverse HVP took 2.15529990196 sec\n",
      "Loaded inverse HVP from output/poisoning_900_300_inception_wd-0.001-test-[15, 169].npz\n",
      "Inverse HVP took 0.000559091567993 sec\n",
      "Entering the for loop\n",
      "(1, 268203)\n",
      "Loaded inverse HVP from output/poisoning_900_300_inception_wd-0.001-test-[15, 169].npz\n",
      "Inverse HVP took 0.000585079193115 sec\n",
      "Entering the for loop\n"
     ]
    },
    {
     "name": "stderr",
     "output_type": "stream",
     "text": [
      "[iter_attack.py:160 -     iterative_attack() ] Attach_iter 4 perturbation shape: (1, 268203), perturbation: [[-0.00054453 -0.00278205  0.00024331 ... -0.00143607  0.00091149\n",
      "  -0.0002095 ]]\n",
      "[iter_attack.py:160 -     iterative_attack() ] Attach_iter 4 perturbation shape: (1, 268203), perturbation: [[-1.19961216e-03 -8.69374664e-04  1.32195023e-03 ... -3.40727216e-04\n",
      "   6.95185852e-04  8.85887493e-05]]\n"
     ]
    },
    {
     "name": "stdout",
     "output_type": "stream",
     "text": [
      "(1, 268203)\n",
      "Loaded inverse HVP from output/poisoning_900_300_inception_wd-0.001-test-[15, 169].npz\n",
      "Inverse HVP took 0.000603914260864 sec\n",
      "Entering the for loop\n",
      "(1, 268203)\n",
      "Loaded inverse HVP from output/poisoning_900_300_inception_wd-0.001-test-[15, 169].npz\n",
      "Inverse HVP took 0.000581979751587 sec\n",
      "Entering the for loop\n"
     ]
    },
    {
     "name": "stderr",
     "output_type": "stream",
     "text": [
      "[iter_attack.py:160 -     iterative_attack() ] Attach_iter 4 perturbation shape: (1, 268203), perturbation: [[-1.10617769e-03  9.56910197e-04  5.15323482e-04 ... -9.66771739e-04\n",
      "  -3.41477484e-04 -1.08635722e-05]]\n",
      "[iter_attack.py:160 -     iterative_attack() ] Attach_iter 4 perturbation shape: (1, 268203), perturbation: [[ 1.42990742e-04 -1.18806434e-04  5.50504410e-06 ...  3.73918912e-04\n",
      "  -1.67933921e-03  1.20768417e-03]]\n"
     ]
    },
    {
     "name": "stdout",
     "output_type": "stream",
     "text": [
      "(1, 268203)\n",
      "Loaded inverse HVP from output/poisoning_900_300_inception_wd-0.001-test-[15, 169].npz\n",
      "Inverse HVP took 0.000630855560303 sec\n",
      "Entering the for loop\n",
      "(1, 268203)\n",
      "Loaded inverse HVP from output/poisoning_900_300_inception_wd-0.001-test-[15, 169].npz\n",
      "Inverse HVP took 0.00059986114502 sec\n",
      "Entering the for loop\n"
     ]
    },
    {
     "name": "stderr",
     "output_type": "stream",
     "text": [
      "[iter_attack.py:160 -     iterative_attack() ] Attach_iter 4 perturbation shape: (1, 268203), perturbation: [[ 0.00440753 -0.00461041 -0.00191888 ...  0.00042055 -0.00034798\n",
      "  -0.00130527]]\n",
      "[iter_attack.py:160 -     iterative_attack() ] Attach_iter 4 perturbation shape: (1, 268203), perturbation: [[-0.00032074 -0.00105794  0.00206696 ...  0.00159825 -0.00050962\n",
      "  -0.00050977]]\n"
     ]
    },
    {
     "name": "stdout",
     "output_type": "stream",
     "text": [
      "(1, 268203)\n",
      "Loaded inverse HVP from output/poisoning_900_300_inception_wd-0.001-test-[15, 169].npz\n",
      "Inverse HVP took 0.00062894821167 sec\n",
      "Entering the for loop\n",
      "(1, 268203)\n",
      "Loaded inverse HVP from output/poisoning_900_300_inception_wd-0.001-test-[15, 169].npz\n",
      "Inverse HVP took 0.000581979751587 sec\n",
      "Entering the for loop\n"
     ]
    },
    {
     "name": "stderr",
     "output_type": "stream",
     "text": [
      "[iter_attack.py:160 -     iterative_attack() ] Attach_iter 4 perturbation shape: (1, 268203), perturbation: [[-0.00247347 -0.00697056  0.01198513 ... -0.0061402   0.00117147\n",
      "   0.00170334]]\n",
      "[iter_attack.py:160 -     iterative_attack() ] Attach_iter 4 perturbation shape: (1, 268203), perturbation: [[-0.00836726  0.00465533  0.0020612  ...  0.01273366 -0.00326334\n",
      "  -0.00415075]]\n"
     ]
    },
    {
     "name": "stdout",
     "output_type": "stream",
     "text": [
      "(1, 268203)\n",
      "Loaded inverse HVP from output/poisoning_900_300_inception_wd-0.001-test-[15, 169].npz\n",
      "Inverse HVP took 0.000638008117676 sec\n",
      "Entering the for loop\n",
      "(1, 268203)\n",
      "Loaded inverse HVP from output/poisoning_900_300_inception_wd-0.001-test-[15, 169].npz\n",
      "Inverse HVP took 0.000582933425903 sec\n",
      "Entering the for loop\n"
     ]
    },
    {
     "name": "stderr",
     "output_type": "stream",
     "text": [
      "[iter_attack.py:160 -     iterative_attack() ] Attach_iter 4 perturbation shape: (1, 268203), perturbation: [[ 7.94354492e-06 -2.29714078e-06 -8.28123393e-06 ...  6.47258094e-06\n",
      "  -1.35154332e-05  1.58679359e-06]]\n"
     ]
    },
    {
     "name": "stdout",
     "output_type": "stream",
     "text": [
      "(1, 268203)\n",
      "10 10\n"
     ]
    },
    {
     "name": "stderr",
     "output_type": "stream",
     "text": [
      "[genericNeuralNet.py:328 -     print_model_eval() ] Train loss (w reg) on all data: 0.012698458\n",
      "[genericNeuralNet.py:329 -     print_model_eval() ] Train loss (w/o reg) on all data: 0.00437216\n",
      "[genericNeuralNet.py:331 -     print_model_eval() ] Test loss (w/o reg) on all data: 0.046736933\n",
      "[genericNeuralNet.py:332 -     print_model_eval() ] Train acc on all data:  1.0\n",
      "[genericNeuralNet.py:333 -     print_model_eval() ] Test acc on all data:   0.98\n",
      "[genericNeuralNet.py:335 -     print_model_eval() ] Norm of the mean of gradients: 0.0031020562\n",
      "[genericNeuralNet.py:336 -     print_model_eval() ] Norm of the params: 4.0807586\n"
     ]
    },
    {
     "name": "stdout",
     "output_type": "stream",
     "text": [
      "Shape (10, 2048)\n",
      "Using normal model\n",
      "LBFGS training took [51] iter.\n",
      "After training with LBFGS: \n"
     ]
    },
    {
     "name": "stderr",
     "output_type": "stream",
     "text": [
      "[iter_attack.py:204 -     iterative_attack() ] Test_idx: 15 Test pred (full): [[0.9284054  0.07159463]]\n",
      "[iter_attack.py:204 -     iterative_attack() ] Test_idx: 169 Test pred (full): [[9.994165e-01 5.835810e-04]]\n",
      "[iter_attack.py:205 -     iterative_attack() ] ---------------------\n",
      "[iter_attack.py:210 -     iterative_attack() ] Test_idx: 15 Test pred (top): [[0.9284054  0.07159463]]\n",
      "[iter_attack.py:210 -     iterative_attack() ] Test_idx: 169 Test pred (top): [[9.994165e-01 5.835810e-04]]\n",
      "[iter_attack.py:138 -     iterative_attack() ] *** Iter: 5\n"
     ]
    },
    {
     "name": "stdout",
     "output_type": "stream",
     "text": [
      "Total number of parameters: 2048\n"
     ]
    },
    {
     "name": "stderr",
     "output_type": "stream",
     "text": [
      "[iter_attack.py:160 -     iterative_attack() ] Attach_iter 5 perturbation shape: (1, 268203), perturbation: [[ 0.02126309  0.01147266 -0.00473876 ... -0.01739613  0.01190273\n",
      "  -0.00199086]]\n"
     ]
    },
    {
     "name": "stdout",
     "output_type": "stream",
     "text": [
      "Warning: Desired error not necessarily achieved due to precision loss.\n",
      "         Current function value: -31.538774\n",
      "         Iterations: 7\n",
      "         Function evaluations: 76\n",
      "         Gradient evaluations: 72\n",
      "         Hessian evaluations: 45\n",
      "Inverse HVP took 1.98433279991 sec\n",
      "Loaded inverse HVP from output/poisoning_900_300_inception_wd-0.001-test-[15, 169].npz\n",
      "Inverse HVP took 0.000542163848877 sec\n",
      "Entering the for loop\n",
      "(1, 268203)\n",
      "Loaded inverse HVP from output/poisoning_900_300_inception_wd-0.001-test-[15, 169].npz\n",
      "Inverse HVP took 0.000629901885986 sec\n",
      "Entering the for loop\n"
     ]
    },
    {
     "name": "stderr",
     "output_type": "stream",
     "text": [
      "[iter_attack.py:160 -     iterative_attack() ] Attach_iter 5 perturbation shape: (1, 268203), perturbation: [[-3.15339596e-04 -2.29715812e-03  2.56586401e-03 ... -2.24076537e-03\n",
      "   1.12406223e-03 -3.65512096e-06]]\n",
      "[iter_attack.py:160 -     iterative_attack() ] Attach_iter 5 perturbation shape: (1, 268203), perturbation: [[-0.00016272 -0.00026761  0.00042539 ... -0.00051111  0.00023278\n",
      "   0.00018548]]\n"
     ]
    },
    {
     "name": "stdout",
     "output_type": "stream",
     "text": [
      "(1, 268203)\n",
      "Loaded inverse HVP from output/poisoning_900_300_inception_wd-0.001-test-[15, 169].npz\n",
      "Inverse HVP took 0.000596046447754 sec\n",
      "Entering the for loop\n",
      "(1, 268203)\n",
      "Loaded inverse HVP from output/poisoning_900_300_inception_wd-0.001-test-[15, 169].npz\n",
      "Inverse HVP took 0.000576972961426 sec\n",
      "Entering the for loop\n"
     ]
    },
    {
     "name": "stderr",
     "output_type": "stream",
     "text": [
      "[iter_attack.py:160 -     iterative_attack() ] Attach_iter 5 perturbation shape: (1, 268203), perturbation: [[-1.18003634e-03  1.02094398e-03  6.30703114e-04 ... -9.60228674e-04\n",
      "   3.35957739e-05 -4.08382213e-04]]\n",
      "[iter_attack.py:160 -     iterative_attack() ] Attach_iter 5 perturbation shape: (1, 268203), perturbation: [[ 2.56329280e-04 -1.80797142e-04  2.96599992e-05 ...  8.94913625e-04\n",
      "  -1.35827169e-03  4.72227286e-04]]\n"
     ]
    },
    {
     "name": "stdout",
     "output_type": "stream",
     "text": [
      "(1, 268203)\n",
      "Loaded inverse HVP from output/poisoning_900_300_inception_wd-0.001-test-[15, 169].npz\n",
      "Inverse HVP took 0.000717878341675 sec\n",
      "Entering the for loop\n",
      "(1, 268203)\n",
      "Loaded inverse HVP from output/poisoning_900_300_inception_wd-0.001-test-[15, 169].npz\n",
      "Inverse HVP took 0.000578165054321 sec\n",
      "Entering the for loop\n"
     ]
    },
    {
     "name": "stderr",
     "output_type": "stream",
     "text": [
      "[iter_attack.py:160 -     iterative_attack() ] Attach_iter 5 perturbation shape: (1, 268203), perturbation: [[ 0.0067571  -0.00513229 -0.00502407 ...  0.00169959 -0.00222334\n",
      "  -0.00120136]]\n",
      "[iter_attack.py:160 -     iterative_attack() ] Attach_iter 5 perturbation shape: (1, 268203), perturbation: [[ 0.00041187 -0.00097754  0.00196912 ...  0.00164473 -0.00043861\n",
      "  -0.00062142]]\n"
     ]
    },
    {
     "name": "stdout",
     "output_type": "stream",
     "text": [
      "(1, 268203)\n",
      "Loaded inverse HVP from output/poisoning_900_300_inception_wd-0.001-test-[15, 169].npz\n",
      "Inverse HVP took 0.000656127929688 sec\n",
      "Entering the for loop\n",
      "(1, 268203)\n",
      "Loaded inverse HVP from output/poisoning_900_300_inception_wd-0.001-test-[15, 169].npz\n",
      "Inverse HVP took 0.000581026077271 sec\n",
      "Entering the for loop\n"
     ]
    },
    {
     "name": "stderr",
     "output_type": "stream",
     "text": [
      "[iter_attack.py:160 -     iterative_attack() ] Attach_iter 5 perturbation shape: (1, 268203), perturbation: [[-0.00178207 -0.00816384  0.01457267 ... -0.00951586  0.00195564\n",
      "   0.00242303]]\n",
      "[iter_attack.py:160 -     iterative_attack() ] Attach_iter 5 perturbation shape: (1, 268203), perturbation: [[-0.02019945 -0.0017533   0.00180015 ...  0.01418077 -0.00106894\n",
      "  -0.0069549 ]]\n"
     ]
    },
    {
     "name": "stdout",
     "output_type": "stream",
     "text": [
      "(1, 268203)\n",
      "Loaded inverse HVP from output/poisoning_900_300_inception_wd-0.001-test-[15, 169].npz\n",
      "Inverse HVP took 0.000583171844482 sec\n",
      "Entering the for loop\n",
      "(1, 268203)\n",
      "Loaded inverse HVP from output/poisoning_900_300_inception_wd-0.001-test-[15, 169].npz\n",
      "Inverse HVP took 0.000593900680542 sec\n",
      "Entering the for loop\n"
     ]
    },
    {
     "name": "stderr",
     "output_type": "stream",
     "text": [
      "[iter_attack.py:160 -     iterative_attack() ] Attach_iter 5 perturbation shape: (1, 268203), perturbation: [[ 2.95958216e-06 -1.21175390e-06 -1.22955370e-07 ...  4.14013130e-06\n",
      "  -6.07390120e-06  6.28305770e-07]]\n"
     ]
    },
    {
     "name": "stdout",
     "output_type": "stream",
     "text": [
      "(1, 268203)\n",
      "10 10\n"
     ]
    },
    {
     "name": "stderr",
     "output_type": "stream",
     "text": [
      "[genericNeuralNet.py:328 -     print_model_eval() ] Train loss (w reg) on all data: 0.012875396\n",
      "[genericNeuralNet.py:329 -     print_model_eval() ] Train loss (w/o reg) on all data: 0.0044492288\n",
      "[genericNeuralNet.py:331 -     print_model_eval() ] Test loss (w/o reg) on all data: 0.046854757\n",
      "[genericNeuralNet.py:332 -     print_model_eval() ] Train acc on all data:  1.0\n",
      "[genericNeuralNet.py:333 -     print_model_eval() ] Test acc on all data:   0.98\n",
      "[genericNeuralNet.py:335 -     print_model_eval() ] Norm of the mean of gradients: 0.0035822408\n",
      "[genericNeuralNet.py:336 -     print_model_eval() ] Norm of the params: 4.1051598\n"
     ]
    },
    {
     "name": "stdout",
     "output_type": "stream",
     "text": [
      "Shape (10, 2048)\n",
      "Using normal model\n",
      "LBFGS training took [52] iter.\n",
      "After training with LBFGS: \n"
     ]
    },
    {
     "name": "stderr",
     "output_type": "stream",
     "text": [
      "[iter_attack.py:204 -     iterative_attack() ] Test_idx: 15 Test pred (full): [[0.8992947  0.10070535]]\n",
      "[iter_attack.py:204 -     iterative_attack() ] Test_idx: 169 Test pred (full): [[9.9937820e-01 6.2177615e-04]]\n",
      "[iter_attack.py:205 -     iterative_attack() ] ---------------------\n",
      "[iter_attack.py:210 -     iterative_attack() ] Test_idx: 15 Test pred (top): [[0.8992947  0.10070535]]\n",
      "[iter_attack.py:210 -     iterative_attack() ] Test_idx: 169 Test pred (top): [[9.9937820e-01 6.2177615e-04]]\n",
      "[iter_attack.py:138 -     iterative_attack() ] *** Iter: 6\n"
     ]
    },
    {
     "name": "stdout",
     "output_type": "stream",
     "text": [
      "Total number of parameters: 2048\n"
     ]
    },
    {
     "name": "stderr",
     "output_type": "stream",
     "text": [
      "[iter_attack.py:160 -     iterative_attack() ] Attach_iter 6 perturbation shape: (1, 268203), perturbation: [[ 0.01133854 -0.00319018 -0.00906856 ... -0.01617731  0.00622153\n",
      "   0.00307606]]\n"
     ]
    },
    {
     "name": "stdout",
     "output_type": "stream",
     "text": [
      "Warning: Desired error not necessarily achieved due to precision loss.\n",
      "         Current function value: -62.478119\n",
      "         Iterations: 11\n",
      "         Function evaluations: 19\n",
      "         Gradient evaluations: 29\n",
      "         Hessian evaluations: 66\n",
      "Inverse HVP took 1.22856283188 sec\n",
      "Loaded inverse HVP from output/poisoning_900_300_inception_wd-0.001-test-[15, 169].npz\n",
      "Inverse HVP took 0.000540971755981 sec\n",
      "Entering the for loop\n",
      "(1, 268203)\n",
      "Loaded inverse HVP from output/poisoning_900_300_inception_wd-0.001-test-[15, 169].npz\n",
      "Inverse HVP took 0.000633001327515 sec\n",
      "Entering the for loop\n"
     ]
    },
    {
     "name": "stderr",
     "output_type": "stream",
     "text": [
      "[iter_attack.py:160 -     iterative_attack() ] Attach_iter 6 perturbation shape: (1, 268203), perturbation: [[-0.00038912 -0.00302695  0.00069913 ... -0.00433495  0.00201993\n",
      "  -0.00058348]]\n",
      "[iter_attack.py:160 -     iterative_attack() ] Attach_iter 6 perturbation shape: (1, 268203), perturbation: [[-1.77283015e-04 -1.28466156e-04  3.09474068e-04 ... -2.53956649e-04\n",
      "   1.04747582e-04  1.11930262e-06]]\n"
     ]
    },
    {
     "name": "stdout",
     "output_type": "stream",
     "text": [
      "(1, 268203)\n",
      "Loaded inverse HVP from output/poisoning_900_300_inception_wd-0.001-test-[15, 169].npz\n",
      "Inverse HVP took 0.000586032867432 sec\n",
      "Entering the for loop\n",
      "(1, 268203)\n",
      "Loaded inverse HVP from output/poisoning_900_300_inception_wd-0.001-test-[15, 169].npz\n",
      "Inverse HVP took 0.000578880310059 sec\n",
      "Entering the for loop\n"
     ]
    },
    {
     "name": "stderr",
     "output_type": "stream",
     "text": [
      "[iter_attack.py:160 -     iterative_attack() ] Attach_iter 6 perturbation shape: (1, 268203), perturbation: [[-0.0009554   0.00059306  0.00057316 ... -0.00076447  0.0004052\n",
      "  -0.00116021]]\n",
      "[iter_attack.py:160 -     iterative_attack() ] Attach_iter 6 perturbation shape: (1, 268203), perturbation: [[ 1.29367618e-04 -9.21085229e-05 -1.92159387e-05 ...  6.70729860e-05\n",
      "   2.29788639e-05  8.64757574e-04]]\n"
     ]
    },
    {
     "name": "stdout",
     "output_type": "stream",
     "text": [
      "(1, 268203)\n",
      "Loaded inverse HVP from output/poisoning_900_300_inception_wd-0.001-test-[15, 169].npz\n",
      "Inverse HVP took 0.000587940216064 sec\n",
      "Entering the for loop\n",
      "(1, 268203)\n",
      "Loaded inverse HVP from output/poisoning_900_300_inception_wd-0.001-test-[15, 169].npz\n",
      "Inverse HVP took 0.000586032867432 sec\n",
      "Entering the for loop\n"
     ]
    },
    {
     "name": "stderr",
     "output_type": "stream",
     "text": [
      "[iter_attack.py:160 -     iterative_attack() ] Attach_iter 6 perturbation shape: (1, 268203), perturbation: [[ 0.00271653 -0.00491162 -0.0041602  ...  0.00506104 -0.00403372\n",
      "  -0.00071097]]\n",
      "[iter_attack.py:160 -     iterative_attack() ] Attach_iter 6 perturbation shape: (1, 268203), perturbation: [[-0.00019477 -0.00074212  0.00162528 ...  0.00146158 -0.00048612\n",
      "  -0.00067474]]\n"
     ]
    },
    {
     "name": "stdout",
     "output_type": "stream",
     "text": [
      "(1, 268203)\n",
      "Loaded inverse HVP from output/poisoning_900_300_inception_wd-0.001-test-[15, 169].npz\n",
      "Inverse HVP took 0.00061297416687 sec\n",
      "Entering the for loop\n",
      "(1, 268203)\n",
      "Loaded inverse HVP from output/poisoning_900_300_inception_wd-0.001-test-[15, 169].npz\n",
      "Inverse HVP took 0.000588178634644 sec\n",
      "Entering the for loop\n"
     ]
    },
    {
     "name": "stderr",
     "output_type": "stream",
     "text": [
      "[iter_attack.py:160 -     iterative_attack() ] Attach_iter 6 perturbation shape: (1, 268203), perturbation: [[ 0.00030934 -0.01386079  0.02391171 ... -0.00779537  0.00118108\n",
      "   0.00162794]]\n",
      "[iter_attack.py:160 -     iterative_attack() ] Attach_iter 6 perturbation shape: (1, 268203), perturbation: [[-0.04185127 -0.00447803  0.0026636  ...  0.02366209 -0.00054323\n",
      "  -0.01240854]]\n"
     ]
    },
    {
     "name": "stdout",
     "output_type": "stream",
     "text": [
      "(1, 268203)\n",
      "Loaded inverse HVP from output/poisoning_900_300_inception_wd-0.001-test-[15, 169].npz\n",
      "Inverse HVP took 0.000582933425903 sec\n",
      "Entering the for loop\n",
      "(1, 268203)\n",
      "Loaded inverse HVP from output/poisoning_900_300_inception_wd-0.001-test-[15, 169].npz\n",
      "Inverse HVP took 0.000586032867432 sec\n",
      "Entering the for loop\n"
     ]
    },
    {
     "name": "stderr",
     "output_type": "stream",
     "text": [
      "[iter_attack.py:160 -     iterative_attack() ] Attach_iter 6 perturbation shape: (1, 268203), perturbation: [[ 8.56049724e-07 -3.99415967e-07 -4.59535670e-07 ...  1.39770214e-06\n",
      "  -2.48550373e-06  5.05259322e-07]]\n"
     ]
    },
    {
     "name": "stdout",
     "output_type": "stream",
     "text": [
      "(1, 268203)\n",
      "10 10\n"
     ]
    },
    {
     "name": "stderr",
     "output_type": "stream",
     "text": [
      "[genericNeuralNet.py:328 -     print_model_eval() ] Train loss (w reg) on all data: 0.013064038\n",
      "[genericNeuralNet.py:329 -     print_model_eval() ] Train loss (w/o reg) on all data: 0.0045314427\n",
      "[genericNeuralNet.py:331 -     print_model_eval() ] Test loss (w/o reg) on all data: 0.04722522\n",
      "[genericNeuralNet.py:332 -     print_model_eval() ] Train acc on all data:  1.0\n",
      "[genericNeuralNet.py:333 -     print_model_eval() ] Test acc on all data:   0.98\n",
      "[genericNeuralNet.py:335 -     print_model_eval() ] Norm of the mean of gradients: 0.0040182997\n",
      "[genericNeuralNet.py:336 -     print_model_eval() ] Norm of the params: 4.1310034\n"
     ]
    },
    {
     "name": "stdout",
     "output_type": "stream",
     "text": [
      "Shape (10, 2048)\n",
      "Using normal model\n",
      "LBFGS training took [46] iter.\n",
      "After training with LBFGS: \n"
     ]
    },
    {
     "name": "stderr",
     "output_type": "stream",
     "text": [
      "[iter_attack.py:204 -     iterative_attack() ] Test_idx: 15 Test pred (full): [[0.86174726 0.13825275]]\n",
      "[iter_attack.py:204 -     iterative_attack() ] Test_idx: 169 Test pred (full): [[9.9933594e-01 6.6406338e-04]]\n",
      "[iter_attack.py:205 -     iterative_attack() ] ---------------------\n",
      "[iter_attack.py:210 -     iterative_attack() ] Test_idx: 15 Test pred (top): [[0.86174726 0.13825275]]\n",
      "[iter_attack.py:210 -     iterative_attack() ] Test_idx: 169 Test pred (top): [[9.9933594e-01 6.6406338e-04]]\n",
      "[iter_attack.py:138 -     iterative_attack() ] *** Iter: 7\n"
     ]
    },
    {
     "name": "stdout",
     "output_type": "stream",
     "text": [
      "Total number of parameters: 2048\n"
     ]
    },
    {
     "name": "stderr",
     "output_type": "stream",
     "text": [
      "[iter_attack.py:160 -     iterative_attack() ] Attach_iter 7 perturbation shape: (1, 268203), perturbation: [[ 0.0187153   0.01203434  0.00796933 ... -0.0147882   0.02641807\n",
      "  -0.02106442]]\n"
     ]
    },
    {
     "name": "stdout",
     "output_type": "stream",
     "text": [
      "Warning: Desired error not necessarily achieved due to precision loss.\n",
      "         Current function value: -117.174759\n",
      "         Iterations: 9\n",
      "         Function evaluations: 89\n",
      "         Gradient evaluations: 86\n",
      "         Hessian evaluations: 57\n",
      "Inverse HVP took 2.40050792694 sec\n",
      "Loaded inverse HVP from output/poisoning_900_300_inception_wd-0.001-test-[15, 169].npz\n",
      "Inverse HVP took 0.000545024871826 sec\n",
      "Entering the for loop\n",
      "(1, 268203)\n",
      "Loaded inverse HVP from output/poisoning_900_300_inception_wd-0.001-test-[15, 169].npz\n",
      "Inverse HVP took 0.000591993331909 sec\n",
      "Entering the for loop\n"
     ]
    },
    {
     "name": "stderr",
     "output_type": "stream",
     "text": [
      "[iter_attack.py:160 -     iterative_attack() ] Attach_iter 7 perturbation shape: (1, 268203), perturbation: [[ 0.00081746 -0.00378747  0.00125267 ... -0.00446704  0.00124848\n",
      "  -0.00144262]]\n",
      "[iter_attack.py:160 -     iterative_attack() ] Attach_iter 7 perturbation shape: (1, 268203), perturbation: [[-8.30398058e-05 -7.31148320e-05  1.74725064e-04 ... -2.67450610e-04\n",
      "   3.65446140e-05  9.23128027e-05]]\n"
     ]
    },
    {
     "name": "stdout",
     "output_type": "stream",
     "text": [
      "(1, 268203)\n",
      "Loaded inverse HVP from output/poisoning_900_300_inception_wd-0.001-test-[15, 169].npz\n",
      "Inverse HVP took 0.00059700012207 sec\n",
      "Entering the for loop\n",
      "(1, 268203)\n",
      "Loaded inverse HVP from output/poisoning_900_300_inception_wd-0.001-test-[15, 169].npz\n",
      "Inverse HVP took 0.000585079193115 sec\n",
      "Entering the for loop\n"
     ]
    },
    {
     "name": "stderr",
     "output_type": "stream",
     "text": [
      "[iter_attack.py:160 -     iterative_attack() ] Attach_iter 7 perturbation shape: (1, 268203), perturbation: [[-0.00131473  0.00091587  0.00087358 ... -0.00048406  0.00023155\n",
      "  -0.00089373]]\n",
      "[iter_attack.py:160 -     iterative_attack() ] Attach_iter 7 perturbation shape: (1, 268203), perturbation: [[ 7.38560047e-05 -5.76770581e-05  2.65954623e-06 ...  3.38786136e-04\n",
      "  -3.52705014e-04  2.13748062e-04]]\n"
     ]
    },
    {
     "name": "stdout",
     "output_type": "stream",
     "text": [
      "(1, 268203)\n",
      "Loaded inverse HVP from output/poisoning_900_300_inception_wd-0.001-test-[15, 169].npz\n",
      "Inverse HVP took 0.000582933425903 sec\n",
      "Entering the for loop\n",
      "(1, 268203)\n",
      "Loaded inverse HVP from output/poisoning_900_300_inception_wd-0.001-test-[15, 169].npz\n",
      "Inverse HVP took 0.000584125518799 sec\n",
      "Entering the for loop\n"
     ]
    },
    {
     "name": "stderr",
     "output_type": "stream",
     "text": [
      "[iter_attack.py:160 -     iterative_attack() ] Attach_iter 7 perturbation shape: (1, 268203), perturbation: [[ 0.002565   -0.00507056 -0.007052   ...  0.00203707 -0.00648392\n",
      "  -0.0006733 ]]\n",
      "[iter_attack.py:160 -     iterative_attack() ] Attach_iter 7 perturbation shape: (1, 268203), perturbation: [[-0.00019978 -0.00041091  0.00099954 ...  0.00094816 -0.00013025\n",
      "  -0.00039246]]\n"
     ]
    },
    {
     "name": "stdout",
     "output_type": "stream",
     "text": [
      "(1, 268203)\n",
      "Loaded inverse HVP from output/poisoning_900_300_inception_wd-0.001-test-[15, 169].npz\n",
      "Inverse HVP took 0.000580787658691 sec\n",
      "Entering the for loop\n",
      "(1, 268203)\n",
      "Loaded inverse HVP from output/poisoning_900_300_inception_wd-0.001-test-[15, 169].npz\n",
      "Inverse HVP took 0.000587940216064 sec\n",
      "Entering the for loop\n"
     ]
    },
    {
     "name": "stderr",
     "output_type": "stream",
     "text": [
      "[iter_attack.py:160 -     iterative_attack() ] Attach_iter 7 perturbation shape: (1, 268203), perturbation: [[ 0.00671209 -0.01337329  0.0294569  ... -0.04917326  0.01844036\n",
      "   0.01157065]]\n",
      "[iter_attack.py:160 -     iterative_attack() ] Attach_iter 7 perturbation shape: (1, 268203), perturbation: [[-0.06538575 -0.0145586   0.00785528 ...  0.02547905 -0.00391982\n",
      "  -0.01374648]]\n"
     ]
    },
    {
     "name": "stdout",
     "output_type": "stream",
     "text": [
      "(1, 268203)\n",
      "Loaded inverse HVP from output/poisoning_900_300_inception_wd-0.001-test-[15, 169].npz\n",
      "Inverse HVP took 0.00063419342041 sec\n",
      "Entering the for loop\n",
      "(1, 268203)\n",
      "Loaded inverse HVP from output/poisoning_900_300_inception_wd-0.001-test-[15, 169].npz\n",
      "Inverse HVP took 0.000633955001831 sec\n",
      "Entering the for loop\n"
     ]
    },
    {
     "name": "stderr",
     "output_type": "stream",
     "text": [
      "[iter_attack.py:160 -     iterative_attack() ] Attach_iter 7 perturbation shape: (1, 268203), perturbation: [[ 3.32140814e-07 -4.45209196e-07 -1.63745128e-07 ...  3.97658454e-07\n",
      "  -1.24256701e-06  5.01975251e-07]]\n"
     ]
    },
    {
     "name": "stdout",
     "output_type": "stream",
     "text": [
      "(1, 268203)\n",
      "10 10\n",
      "Shape (10, 2048)\n",
      "Using normal model\n"
     ]
    },
    {
     "name": "stderr",
     "output_type": "stream",
     "text": [
      "[genericNeuralNet.py:328 -     print_model_eval() ] Train loss (w reg) on all data: 0.013259856\n",
      "[genericNeuralNet.py:329 -     print_model_eval() ] Train loss (w/o reg) on all data: 0.0046200124\n",
      "[genericNeuralNet.py:331 -     print_model_eval() ] Test loss (w/o reg) on all data: 0.04737192\n",
      "[genericNeuralNet.py:332 -     print_model_eval() ] Train acc on all data:  1.0\n",
      "[genericNeuralNet.py:333 -     print_model_eval() ] Test acc on all data:   0.98\n",
      "[genericNeuralNet.py:335 -     print_model_eval() ] Norm of the mean of gradients: 0.00444119\n",
      "[genericNeuralNet.py:336 -     print_model_eval() ] Norm of the params: 4.1568837\n",
      "[iter_attack.py:204 -     iterative_attack() ] Test_idx: 15 Test pred (full): [[0.8166739  0.18332615]]\n",
      "[iter_attack.py:204 -     iterative_attack() ] Test_idx: 169 Test pred (full): [[9.9930966e-01 6.9028186e-04]]\n",
      "[iter_attack.py:205 -     iterative_attack() ] ---------------------\n",
      "[iter_attack.py:210 -     iterative_attack() ] Test_idx: 15 Test pred (top): [[0.8166739  0.18332615]]\n",
      "[iter_attack.py:210 -     iterative_attack() ] Test_idx: 169 Test pred (top): [[9.9930966e-01 6.9028186e-04]]\n",
      "[iter_attack.py:138 -     iterative_attack() ] *** Iter: 8\n"
     ]
    },
    {
     "name": "stdout",
     "output_type": "stream",
     "text": [
      "LBFGS training took [46] iter.\n",
      "After training with LBFGS: \n",
      "Total number of parameters: 2048\n"
     ]
    },
    {
     "name": "stderr",
     "output_type": "stream",
     "text": [
      "[iter_attack.py:160 -     iterative_attack() ] Attach_iter 8 perturbation shape: (1, 268203), perturbation: [[ 0.03483547  0.02903464  0.03014127 ... -0.02233855  0.00370329\n",
      "   0.01199509]]\n"
     ]
    },
    {
     "name": "stdout",
     "output_type": "stream",
     "text": [
      "Warning: Desired error not necessarily achieved due to precision loss.\n",
      "         Current function value: -204.228302\n",
      "         Iterations: 8\n",
      "         Function evaluations: 100\n",
      "         Gradient evaluations: 96\n",
      "         Hessian evaluations: 52\n",
      "Inverse HVP took 2.7446501255 sec\n",
      "Loaded inverse HVP from output/poisoning_900_300_inception_wd-0.001-test-[15, 169].npz\n",
      "Inverse HVP took 0.000545978546143 sec\n",
      "Entering the for loop\n",
      "(1, 268203)\n",
      "Loaded inverse HVP from output/poisoning_900_300_inception_wd-0.001-test-[15, 169].npz\n",
      "Inverse HVP took 0.000581026077271 sec\n",
      "Entering the for loop\n"
     ]
    },
    {
     "name": "stderr",
     "output_type": "stream",
     "text": [
      "[iter_attack.py:160 -     iterative_attack() ] Attach_iter 8 perturbation shape: (1, 268203), perturbation: [[-0.00064276 -0.00451776  0.00170916 ... -0.0026023   0.00202168\n",
      "  -0.00216435]]\n",
      "[iter_attack.py:160 -     iterative_attack() ] Attach_iter 8 perturbation shape: (1, 268203), perturbation: [[-2.19738780e-04 -1.61043834e-04  1.28780375e-04 ... -1.09051107e-04\n",
      "   1.83032942e-04  2.20338607e-05]]\n"
     ]
    },
    {
     "name": "stdout",
     "output_type": "stream",
     "text": [
      "(1, 268203)\n",
      "Loaded inverse HVP from output/poisoning_900_300_inception_wd-0.001-test-[15, 169].npz\n",
      "Inverse HVP took 0.000585079193115 sec\n",
      "Entering the for loop\n",
      "(1, 268203)\n",
      "Loaded inverse HVP from output/poisoning_900_300_inception_wd-0.001-test-[15, 169].npz\n",
      "Inverse HVP took 0.000603914260864 sec\n",
      "Entering the for loop\n"
     ]
    },
    {
     "name": "stderr",
     "output_type": "stream",
     "text": [
      "[iter_attack.py:160 -     iterative_attack() ] Attach_iter 8 perturbation shape: (1, 268203), perturbation: [[-1.02593889e-03  7.37045717e-04  6.62855746e-04 ... -6.37269230e-04\n",
      "   4.30369109e-05 -4.71069972e-04]]\n",
      "[iter_attack.py:160 -     iterative_attack() ] Attach_iter 8 perturbation shape: (1, 268203), perturbation: [[ 2.79316391e-05 -3.86461688e-05 -3.29082795e-05 ... -7.79848633e-05\n",
      "  -1.33628680e-04  2.74217105e-04]]\n"
     ]
    },
    {
     "name": "stdout",
     "output_type": "stream",
     "text": [
      "(1, 268203)\n",
      "Loaded inverse HVP from output/poisoning_900_300_inception_wd-0.001-test-[15, 169].npz\n",
      "Inverse HVP took 0.000581026077271 sec\n",
      "Entering the for loop\n",
      "(1, 268203)\n",
      "Loaded inverse HVP from output/poisoning_900_300_inception_wd-0.001-test-[15, 169].npz\n",
      "Inverse HVP took 0.000586986541748 sec\n",
      "Entering the for loop\n"
     ]
    },
    {
     "name": "stderr",
     "output_type": "stream",
     "text": [
      "[iter_attack.py:160 -     iterative_attack() ] Attach_iter 8 perturbation shape: (1, 268203), perturbation: [[ 0.01009087 -0.01118951 -0.00778446 ... -0.00130191 -0.00983831\n",
      "   0.00091297]]\n",
      "[iter_attack.py:160 -     iterative_attack() ] Attach_iter 8 perturbation shape: (1, 268203), perturbation: [[-8.94773402e-05 -3.27645190e-04  9.23856336e-04 ...  8.96199432e-04\n",
      "  -2.78637424e-04 -3.72067734e-04]]\n"
     ]
    },
    {
     "name": "stdout",
     "output_type": "stream",
     "text": [
      "(1, 268203)\n",
      "Loaded inverse HVP from output/poisoning_900_300_inception_wd-0.001-test-[15, 169].npz\n",
      "Inverse HVP took 0.000582933425903 sec\n",
      "Entering the for loop\n",
      "(1, 268203)\n",
      "Loaded inverse HVP from output/poisoning_900_300_inception_wd-0.001-test-[15, 169].npz\n",
      "Inverse HVP took 0.000580072402954 sec\n",
      "Entering the for loop\n"
     ]
    },
    {
     "name": "stderr",
     "output_type": "stream",
     "text": [
      "[iter_attack.py:160 -     iterative_attack() ] Attach_iter 8 perturbation shape: (1, 268203), perturbation: [[ 0.01057594 -0.02641667  0.05200079 ... -0.04027491 -0.0076415\n",
      "   0.01420584]]\n",
      "[iter_attack.py:160 -     iterative_attack() ] Attach_iter 8 perturbation shape: (1, 268203), perturbation: [[-0.08222224 -0.00562989  0.01118986 ...  0.03241755 -0.01110229\n",
      "  -0.02609114]]\n"
     ]
    },
    {
     "name": "stdout",
     "output_type": "stream",
     "text": [
      "(1, 268203)\n",
      "Loaded inverse HVP from output/poisoning_900_300_inception_wd-0.001-test-[15, 169].npz\n",
      "Inverse HVP took 0.000581979751587 sec\n",
      "Entering the for loop\n",
      "(1, 268203)\n",
      "Loaded inverse HVP from output/poisoning_900_300_inception_wd-0.001-test-[15, 169].npz\n",
      "Inverse HVP took 0.000597953796387 sec\n",
      "Entering the for loop\n"
     ]
    },
    {
     "name": "stderr",
     "output_type": "stream",
     "text": [
      "[iter_attack.py:160 -     iterative_attack() ] Attach_iter 8 perturbation shape: (1, 268203), perturbation: [[ 2.10982918e-07 -3.48419604e-08 -1.17709831e-07 ...  2.65176169e-07\n",
      "  -5.89968352e-07  2.65019878e-07]]\n"
     ]
    },
    {
     "name": "stdout",
     "output_type": "stream",
     "text": [
      "(1, 268203)\n",
      "10 10\n"
     ]
    },
    {
     "name": "stderr",
     "output_type": "stream",
     "text": [
      "[genericNeuralNet.py:328 -     print_model_eval() ] Train loss (w reg) on all data: 0.013502121\n",
      "[genericNeuralNet.py:329 -     print_model_eval() ] Train loss (w/o reg) on all data: 0.0047387886\n",
      "[genericNeuralNet.py:331 -     print_model_eval() ] Test loss (w/o reg) on all data: 0.047980208\n",
      "[genericNeuralNet.py:332 -     print_model_eval() ] Train acc on all data:  1.0\n",
      "[genericNeuralNet.py:333 -     print_model_eval() ] Test acc on all data:   0.9783333333333334\n"
     ]
    },
    {
     "name": "stdout",
     "output_type": "stream",
     "text": [
      "Shape (10, 2048)\n",
      "Using normal model\n",
      "LBFGS training took [47] iter.\n",
      "After training with LBFGS: \n"
     ]
    },
    {
     "name": "stderr",
     "output_type": "stream",
     "text": [
      "[genericNeuralNet.py:335 -     print_model_eval() ] Norm of the mean of gradients: 0.004989268\n",
      "[genericNeuralNet.py:336 -     print_model_eval() ] Norm of the params: 4.1864862\n",
      "[iter_attack.py:204 -     iterative_attack() ] Test_idx: 15 Test pred (full): [[0.7619032 0.2380968]]\n",
      "[iter_attack.py:204 -     iterative_attack() ] Test_idx: 169 Test pred (full): [[9.992700e-01 7.299731e-04]]\n",
      "[iter_attack.py:205 -     iterative_attack() ] ---------------------\n",
      "[iter_attack.py:210 -     iterative_attack() ] Test_idx: 15 Test pred (top): [[0.7619032 0.2380968]]\n",
      "[iter_attack.py:210 -     iterative_attack() ] Test_idx: 169 Test pred (top): [[9.992700e-01 7.299731e-04]]\n",
      "[iter_attack.py:138 -     iterative_attack() ] *** Iter: 9\n"
     ]
    },
    {
     "name": "stdout",
     "output_type": "stream",
     "text": [
      "Total number of parameters: 2048\n"
     ]
    },
    {
     "name": "stderr",
     "output_type": "stream",
     "text": [
      "[iter_attack.py:160 -     iterative_attack() ] Attach_iter 9 perturbation shape: (1, 268203), perturbation: [[ 0.01771345  0.05109777  0.05732934 ... -0.08402779  0.05860359\n",
      "  -0.0286041 ]]\n"
     ]
    },
    {
     "name": "stdout",
     "output_type": "stream",
     "text": [
      "Warning: Desired error not necessarily achieved due to precision loss.\n",
      "         Current function value: -340.298645\n",
      "         Iterations: 8\n",
      "         Function evaluations: 73\n",
      "         Gradient evaluations: 70\n",
      "         Hessian evaluations: 43\n",
      "Inverse HVP took 1.99148607254 sec\n",
      "Loaded inverse HVP from output/poisoning_900_300_inception_wd-0.001-test-[15, 169].npz\n",
      "Inverse HVP took 0.000546932220459 sec\n",
      "Entering the for loop\n",
      "(1, 268203)\n",
      "Loaded inverse HVP from output/poisoning_900_300_inception_wd-0.001-test-[15, 169].npz\n",
      "Inverse HVP took 0.000586032867432 sec\n",
      "Entering the for loop\n"
     ]
    },
    {
     "name": "stderr",
     "output_type": "stream",
     "text": [
      "[iter_attack.py:160 -     iterative_attack() ] Attach_iter 9 perturbation shape: (1, 268203), perturbation: [[-2.56224163e-03 -3.87270213e-03 -5.36493462e-05 ... -2.26525939e-03\n",
      "   1.22415615e-04 -8.28083546e-04]]\n",
      "[iter_attack.py:160 -     iterative_attack() ] Attach_iter 9 perturbation shape: (1, 268203), perturbation: [[-9.28750087e-05 -6.52753297e-05  5.07464720e-05 ... -4.26266743e-05\n",
      "   8.34217208e-05  8.43173893e-06]]\n"
     ]
    },
    {
     "name": "stdout",
     "output_type": "stream",
     "text": [
      "(1, 268203)\n",
      "Loaded inverse HVP from output/poisoning_900_300_inception_wd-0.001-test-[15, 169].npz\n",
      "Inverse HVP took 0.000581979751587 sec\n",
      "Entering the for loop\n",
      "(1, 268203)\n",
      "Loaded inverse HVP from output/poisoning_900_300_inception_wd-0.001-test-[15, 169].npz\n",
      "Inverse HVP took 0.00059700012207 sec\n",
      "Entering the for loop\n"
     ]
    },
    {
     "name": "stderr",
     "output_type": "stream",
     "text": [
      "[iter_attack.py:160 -     iterative_attack() ] Attach_iter 9 perturbation shape: (1, 268203), perturbation: [[-0.00108531  0.00102891  0.00072239 ... -0.0001005   0.00015149\n",
      "  -0.00071406]]\n",
      "[iter_attack.py:160 -     iterative_attack() ] Attach_iter 9 perturbation shape: (1, 268203), perturbation: [[ 1.96410365e-05 -3.28746537e-05 -1.30573917e-05 ... -7.18999490e-06\n",
      "   6.58084391e-05  7.33085908e-05]]\n"
     ]
    },
    {
     "name": "stdout",
     "output_type": "stream",
     "text": [
      "(1, 268203)\n",
      "Loaded inverse HVP from output/poisoning_900_300_inception_wd-0.001-test-[15, 169].npz\n",
      "Inverse HVP took 0.000584840774536 sec\n",
      "Entering the for loop\n",
      "(1, 268203)\n",
      "Loaded inverse HVP from output/poisoning_900_300_inception_wd-0.001-test-[15, 169].npz\n",
      "Inverse HVP took 0.000579833984375 sec\n",
      "Entering the for loop\n"
     ]
    },
    {
     "name": "stderr",
     "output_type": "stream",
     "text": [
      "[iter_attack.py:160 -     iterative_attack() ] Attach_iter 9 perturbation shape: (1, 268203), perturbation: [[ 0.00658011 -0.01240129 -0.01228334 ... -0.00607281 -0.00630978\n",
      "  -0.00236196]]\n",
      "[iter_attack.py:160 -     iterative_attack() ] Attach_iter 9 perturbation shape: (1, 268203), perturbation: [[ 8.19192283e-05  1.26475243e-05  2.14480737e-04 ...  7.15750735e-04\n",
      "  -2.08397512e-04 -2.80931359e-04]]\n"
     ]
    },
    {
     "name": "stdout",
     "output_type": "stream",
     "text": [
      "(1, 268203)\n",
      "Loaded inverse HVP from output/poisoning_900_300_inception_wd-0.001-test-[15, 169].npz\n",
      "Inverse HVP took 0.000617980957031 sec\n",
      "Entering the for loop\n",
      "(1, 268203)\n",
      "Loaded inverse HVP from output/poisoning_900_300_inception_wd-0.001-test-[15, 169].npz\n",
      "Inverse HVP took 0.000585079193115 sec\n",
      "Entering the for loop\n"
     ]
    },
    {
     "name": "stderr",
     "output_type": "stream",
     "text": [
      "[iter_attack.py:160 -     iterative_attack() ] Attach_iter 9 perturbation shape: (1, 268203), perturbation: [[ 0.01635327 -0.03698147  0.06857367 ... -0.0508306   0.03697286\n",
      "  -0.01216646]]\n",
      "[iter_attack.py:160 -     iterative_attack() ] Attach_iter 9 perturbation shape: (1, 268203), perturbation: [[-0.1730648  -0.05741504  0.01991605 ...  0.05993178 -0.02220208\n",
      "  -0.03793421]]\n"
     ]
    },
    {
     "name": "stdout",
     "output_type": "stream",
     "text": [
      "(1, 268203)\n",
      "Loaded inverse HVP from output/poisoning_900_300_inception_wd-0.001-test-[15, 169].npz\n",
      "Inverse HVP took 0.000622987747192 sec\n",
      "Entering the for loop\n",
      "(1, 268203)\n",
      "Loaded inverse HVP from output/poisoning_900_300_inception_wd-0.001-test-[15, 169].npz\n",
      "Inverse HVP took 0.000580072402954 sec\n",
      "Entering the for loop\n"
     ]
    },
    {
     "name": "stderr",
     "output_type": "stream",
     "text": [
      "[iter_attack.py:160 -     iterative_attack() ] Attach_iter 9 perturbation shape: (1, 268203), perturbation: [[ 1.87248148e-07 -6.29458725e-08 -2.70968769e-07 ...  1.21305064e-07\n",
      "  -2.42171382e-07  1.50949305e-07]]\n"
     ]
    },
    {
     "name": "stdout",
     "output_type": "stream",
     "text": [
      "(1, 268203)\n",
      "10 10\n",
      "Shape (10, 2048)\n",
      "Using normal model\n"
     ]
    },
    {
     "name": "stderr",
     "output_type": "stream",
     "text": [
      "[genericNeuralNet.py:328 -     print_model_eval() ] Train loss (w reg) on all data: 0.013755849\n",
      "[genericNeuralNet.py:329 -     print_model_eval() ] Train loss (w/o reg) on all data: 0.004874895\n",
      "[genericNeuralNet.py:331 -     print_model_eval() ] Test loss (w/o reg) on all data: 0.04817142\n",
      "[genericNeuralNet.py:332 -     print_model_eval() ] Train acc on all data:  1.0\n",
      "[genericNeuralNet.py:333 -     print_model_eval() ] Test acc on all data:   0.98\n",
      "[genericNeuralNet.py:335 -     print_model_eval() ] Norm of the mean of gradients: 0.005668272\n",
      "[genericNeuralNet.py:336 -     print_model_eval() ] Norm of the params: 4.214488\n",
      "[iter_attack.py:204 -     iterative_attack() ] Test_idx: 15 Test pred (full): [[0.6995549  0.30044508]]\n",
      "[iter_attack.py:204 -     iterative_attack() ] Test_idx: 169 Test pred (full): [[9.9925536e-01 7.4464717e-04]]\n",
      "[iter_attack.py:205 -     iterative_attack() ] ---------------------\n",
      "[iter_attack.py:210 -     iterative_attack() ] Test_idx: 15 Test pred (top): [[0.6995549  0.30044508]]\n",
      "[iter_attack.py:210 -     iterative_attack() ] Test_idx: 169 Test pred (top): [[9.9925536e-01 7.4464717e-04]]\n",
      "[iter_attack.py:138 -     iterative_attack() ] *** Iter: 10\n"
     ]
    },
    {
     "name": "stdout",
     "output_type": "stream",
     "text": [
      "LBFGS training took [49] iter.\n",
      "After training with LBFGS: \n",
      "Total number of parameters: 2048\n"
     ]
    },
    {
     "name": "stderr",
     "output_type": "stream",
     "text": [
      "[iter_attack.py:160 -     iterative_attack() ] Attach_iter 10 perturbation shape: (1, 268203), perturbation: [[ 0.04995884  0.05883947  0.03772463 ... -0.03562867 -0.02538534\n",
      "   0.05895256]]\n"
     ]
    },
    {
     "name": "stdout",
     "output_type": "stream",
     "text": [
      "Warning: Desired error not necessarily achieved due to precision loss.\n",
      "         Current function value: -534.193481\n",
      "         Iterations: 8\n",
      "         Function evaluations: 78\n",
      "         Gradient evaluations: 74\n",
      "         Hessian evaluations: 58\n",
      "Inverse HVP took 2.16211700439 sec\n",
      "Loaded inverse HVP from output/poisoning_900_300_inception_wd-0.001-test-[15, 169].npz\n",
      "Inverse HVP took 0.000541925430298 sec\n",
      "Entering the for loop\n",
      "(1, 268203)\n",
      "Loaded inverse HVP from output/poisoning_900_300_inception_wd-0.001-test-[15, 169].npz\n",
      "Inverse HVP took 0.000584125518799 sec\n",
      "Entering the for loop\n"
     ]
    },
    {
     "name": "stderr",
     "output_type": "stream",
     "text": [
      "[iter_attack.py:160 -     iterative_attack() ] Attach_iter 10 perturbation shape: (1, 268203), perturbation: [[-0.0005885  -0.00125994 -0.00044562 ... -0.00166301 -0.00126761\n",
      "   0.00052821]]\n",
      "[iter_attack.py:160 -     iterative_attack() ] Attach_iter 10 perturbation shape: (1, 268203), perturbation: [[-1.72041819e-05 -1.49589223e-05  8.00185626e-06 ... -1.56915412e-05\n",
      "   1.73544595e-05  4.05018682e-06]]\n"
     ]
    },
    {
     "name": "stdout",
     "output_type": "stream",
     "text": [
      "(1, 268203)\n",
      "Loaded inverse HVP from output/poisoning_900_300_inception_wd-0.001-test-[15, 169].npz\n",
      "Inverse HVP took 0.000633955001831 sec\n",
      "Entering the for loop\n",
      "(1, 268203)\n",
      "Loaded inverse HVP from output/poisoning_900_300_inception_wd-0.001-test-[15, 169].npz\n",
      "Inverse HVP took 0.000625133514404 sec\n",
      "Entering the for loop\n"
     ]
    },
    {
     "name": "stderr",
     "output_type": "stream",
     "text": [
      "[iter_attack.py:160 -     iterative_attack() ] Attach_iter 10 perturbation shape: (1, 268203), perturbation: [[-1.01125322e-03  9.65842046e-04  7.52353808e-04 ...  1.77845330e-04\n",
      "   1.97312220e-05 -4.33892972e-04]]\n",
      "[iter_attack.py:160 -     iterative_attack() ] Attach_iter 10 perturbation shape: (1, 268203), perturbation: [[ 8.47420506e-06 -1.54426925e-05  4.04306729e-06 ... -3.96385149e-05\n",
      "  -2.22220588e-05 -1.52056855e-05]]\n"
     ]
    },
    {
     "name": "stdout",
     "output_type": "stream",
     "text": [
      "(1, 268203)\n",
      "Loaded inverse HVP from output/poisoning_900_300_inception_wd-0.001-test-[15, 169].npz\n",
      "Inverse HVP took 0.000602006912231 sec\n",
      "Entering the for loop\n",
      "(1, 268203)\n",
      "Loaded inverse HVP from output/poisoning_900_300_inception_wd-0.001-test-[15, 169].npz\n",
      "Inverse HVP took 0.000583171844482 sec\n",
      "Entering the for loop\n"
     ]
    },
    {
     "name": "stderr",
     "output_type": "stream",
     "text": [
      "[iter_attack.py:160 -     iterative_attack() ] Attach_iter 10 perturbation shape: (1, 268203), perturbation: [[ 0.01870234 -0.02146849 -0.02831032 ... -0.01580759 -0.01332539\n",
      "  -0.00219917]]\n",
      "[iter_attack.py:160 -     iterative_attack() ] Attach_iter 10 perturbation shape: (1, 268203), perturbation: [[-1.06537351e-04 -1.74296016e-04  4.78308793e-04 ...  4.89621889e-04\n",
      "  -7.24172569e-05 -1.99992064e-04]]\n"
     ]
    },
    {
     "name": "stdout",
     "output_type": "stream",
     "text": [
      "(1, 268203)\n",
      "Loaded inverse HVP from output/poisoning_900_300_inception_wd-0.001-test-[15, 169].npz\n",
      "Inverse HVP took 0.000600099563599 sec\n",
      "Entering the for loop\n",
      "(1, 268203)\n",
      "Loaded inverse HVP from output/poisoning_900_300_inception_wd-0.001-test-[15, 169].npz\n",
      "Inverse HVP took 0.000582933425903 sec\n",
      "Entering the for loop\n"
     ]
    },
    {
     "name": "stderr",
     "output_type": "stream",
     "text": [
      "[iter_attack.py:160 -     iterative_attack() ] Attach_iter 10 perturbation shape: (1, 268203), perturbation: [[ 0.02510678 -0.05967161  0.09417896 ...  0.00396963 -0.03239861\n",
      "  -0.00283979]]\n",
      "[iter_attack.py:160 -     iterative_attack() ] Attach_iter 10 perturbation shape: (1, 268203), perturbation: [[-0.11782799 -0.04688575  0.00754596 ...  0.05486021 -0.01316527\n",
      "  -0.04422446]]\n"
     ]
    },
    {
     "name": "stdout",
     "output_type": "stream",
     "text": [
      "(1, 268203)\n",
      "Loaded inverse HVP from output/poisoning_900_300_inception_wd-0.001-test-[15, 169].npz\n",
      "Inverse HVP took 0.000652074813843 sec\n",
      "Entering the for loop\n",
      "(1, 268203)\n",
      "Loaded inverse HVP from output/poisoning_900_300_inception_wd-0.001-test-[15, 169].npz\n",
      "Inverse HVP took 0.000602006912231 sec\n",
      "Entering the for loop\n"
     ]
    },
    {
     "name": "stderr",
     "output_type": "stream",
     "text": [
      "[iter_attack.py:160 -     iterative_attack() ] Attach_iter 10 perturbation shape: (1, 268203), perturbation: [[ 3.37329169e-08  1.30421469e-08  3.06447703e-08 ...  5.14946619e-09\n",
      "  -2.02862651e-08  1.22197363e-08]]\n"
     ]
    },
    {
     "name": "stdout",
     "output_type": "stream",
     "text": [
      "(1, 268203)\n",
      "10 10\n"
     ]
    },
    {
     "name": "stderr",
     "output_type": "stream",
     "text": [
      "[genericNeuralNet.py:328 -     print_model_eval() ] Train loss (w reg) on all data: 0.014033321\n",
      "[genericNeuralNet.py:329 -     print_model_eval() ] Train loss (w/o reg) on all data: 0.005015778\n",
      "[genericNeuralNet.py:331 -     print_model_eval() ] Test loss (w/o reg) on all data: 0.048956074\n",
      "[genericNeuralNet.py:332 -     print_model_eval() ] Train acc on all data:  1.0\n",
      "[genericNeuralNet.py:333 -     print_model_eval() ] Test acc on all data:   0.9733333333333334\n"
     ]
    },
    {
     "name": "stdout",
     "output_type": "stream",
     "text": [
      "Shape (10, 2048)\n",
      "Using normal model\n",
      "LBFGS training took [46] iter.\n",
      "After training with LBFGS: \n"
     ]
    },
    {
     "name": "stderr",
     "output_type": "stream",
     "text": [
      "[genericNeuralNet.py:335 -     print_model_eval() ] Norm of the mean of gradients: 0.0063352506\n",
      "[genericNeuralNet.py:336 -     print_model_eval() ] Norm of the params: 4.2467737\n",
      "[iter_attack.py:204 -     iterative_attack() ] Test_idx: 15 Test pred (full): [[0.6297361  0.37026384]]\n",
      "[iter_attack.py:204 -     iterative_attack() ] Test_idx: 169 Test pred (full): [[9.9922907e-01 7.7096955e-04]]\n",
      "[iter_attack.py:205 -     iterative_attack() ] ---------------------\n",
      "[iter_attack.py:210 -     iterative_attack() ] Test_idx: 15 Test pred (top): [[0.6297361  0.37026384]]\n",
      "[iter_attack.py:210 -     iterative_attack() ] Test_idx: 169 Test pred (top): [[9.9922907e-01 7.7096955e-04]]\n",
      "[iter_attack.py:138 -     iterative_attack() ] *** Iter: 11\n"
     ]
    },
    {
     "name": "stdout",
     "output_type": "stream",
     "text": [
      "Total number of parameters: 2048\n"
     ]
    },
    {
     "name": "stderr",
     "output_type": "stream",
     "text": [
      "[iter_attack.py:160 -     iterative_attack() ] Attach_iter 11 perturbation shape: (1, 268203), perturbation: [[ 0.09751691  0.14562336  0.12475315 ... -0.04312959  0.0763033\n",
      "  -0.08913007]]\n"
     ]
    },
    {
     "name": "stdout",
     "output_type": "stream",
     "text": [
      "Warning: Desired error not necessarily achieved due to precision loss.\n",
      "         Current function value: -799.582336\n",
      "         Iterations: 9\n",
      "         Function evaluations: 140\n",
      "         Gradient evaluations: 136\n",
      "         Hessian evaluations: 72\n",
      "Inverse HVP took 3.70342803001 sec\n",
      "Loaded inverse HVP from output/poisoning_900_300_inception_wd-0.001-test-[15, 169].npz\n",
      "Inverse HVP took 0.000548124313354 sec\n",
      "Entering the for loop\n",
      "(1, 268203)\n",
      "Loaded inverse HVP from output/poisoning_900_300_inception_wd-0.001-test-[15, 169].npz\n",
      "Inverse HVP took 0.000591993331909 sec\n",
      "Entering the for loop\n"
     ]
    },
    {
     "name": "stderr",
     "output_type": "stream",
     "text": [
      "[iter_attack.py:160 -     iterative_attack() ] Attach_iter 11 perturbation shape: (1, 268203), perturbation: [[-0.00049769 -0.00200389 -0.00162222 ... -0.00086711 -0.00010678\n",
      "  -0.00077474]]\n",
      "[iter_attack.py:160 -     iterative_attack() ] Attach_iter 11 perturbation shape: (1, 268203), perturbation: [[-1.02189133e-05 -8.08200275e-06  8.06169737e-06 ... -1.13164560e-05\n",
      "   1.14377435e-05  7.80225719e-07]]\n"
     ]
    },
    {
     "name": "stdout",
     "output_type": "stream",
     "text": [
      "(1, 268203)\n",
      "Loaded inverse HVP from output/poisoning_900_300_inception_wd-0.001-test-[15, 169].npz\n",
      "Inverse HVP took 0.000604867935181 sec\n",
      "Entering the for loop\n",
      "(1, 268203)\n",
      "Loaded inverse HVP from output/poisoning_900_300_inception_wd-0.001-test-[15, 169].npz\n",
      "Inverse HVP took 0.000586032867432 sec\n",
      "Entering the for loop\n"
     ]
    },
    {
     "name": "stderr",
     "output_type": "stream",
     "text": [
      "[iter_attack.py:160 -     iterative_attack() ] Attach_iter 11 perturbation shape: (1, 268203), perturbation: [[-7.63913267e-04  7.12453446e-04  5.65522350e-04 ...  1.85604091e-04\n",
      "   8.86263661e-05 -4.60822019e-04]]\n",
      "[iter_attack.py:160 -     iterative_attack() ] Attach_iter 11 perturbation shape: (1, 268203), perturbation: [[ 3.14043905e-06 -7.57240196e-06 -8.37153721e-07 ... -6.18348668e-06\n",
      "   1.48792960e-05  4.87440502e-06]]\n"
     ]
    },
    {
     "name": "stdout",
     "output_type": "stream",
     "text": [
      "(1, 268203)\n",
      "Loaded inverse HVP from output/poisoning_900_300_inception_wd-0.001-test-[15, 169].npz\n",
      "Inverse HVP took 0.00058913230896 sec\n",
      "Entering the for loop\n",
      "(1, 268203)\n",
      "Loaded inverse HVP from output/poisoning_900_300_inception_wd-0.001-test-[15, 169].npz\n",
      "Inverse HVP took 0.000643968582153 sec\n",
      "Entering the for loop\n"
     ]
    },
    {
     "name": "stderr",
     "output_type": "stream",
     "text": [
      "[iter_attack.py:160 -     iterative_attack() ] Attach_iter 11 perturbation shape: (1, 268203), perturbation: [[-0.00229876 -0.01117402 -0.0354449  ... -0.01973337 -0.00451532\n",
      "  -0.00636286]]\n",
      "[iter_attack.py:160 -     iterative_attack() ] Attach_iter 11 perturbation shape: (1, 268203), perturbation: [[-7.97323883e-05 -1.65710706e-04  2.19561989e-04 ...  2.90753902e-04\n",
      "  -2.98374034e-05 -1.11473884e-04]]\n"
     ]
    },
    {
     "name": "stdout",
     "output_type": "stream",
     "text": [
      "(1, 268203)\n",
      "Loaded inverse HVP from output/poisoning_900_300_inception_wd-0.001-test-[15, 169].npz\n",
      "Inverse HVP took 0.000589847564697 sec\n",
      "Entering the for loop\n",
      "(1, 268203)\n",
      "Loaded inverse HVP from output/poisoning_900_300_inception_wd-0.001-test-[15, 169].npz\n",
      "Inverse HVP took 0.00060510635376 sec\n",
      "Entering the for loop\n"
     ]
    },
    {
     "name": "stderr",
     "output_type": "stream",
     "text": [
      "[iter_attack.py:160 -     iterative_attack() ] Attach_iter 11 perturbation shape: (1, 268203), perturbation: [[ 0.03463645 -0.09821776  0.15155491 ... -0.02269833  0.00867227\n",
      "  -0.01585671]]\n",
      "[iter_attack.py:160 -     iterative_attack() ] Attach_iter 11 perturbation shape: (1, 268203), perturbation: [[-2.40781069e-01 -4.60419916e-02  4.27261218e-02 ...  2.22404189e-02\n",
      "  -2.25748401e-04 -2.01003402e-02]]\n"
     ]
    },
    {
     "name": "stdout",
     "output_type": "stream",
     "text": [
      "(1, 268203)\n",
      "Loaded inverse HVP from output/poisoning_900_300_inception_wd-0.001-test-[15, 169].npz\n",
      "Inverse HVP took 0.00059700012207 sec\n",
      "Entering the for loop\n",
      "(1, 268203)\n",
      "Loaded inverse HVP from output/poisoning_900_300_inception_wd-0.001-test-[15, 169].npz\n",
      "Inverse HVP took 0.000586032867432 sec\n",
      "Entering the for loop\n"
     ]
    },
    {
     "name": "stderr",
     "output_type": "stream",
     "text": [
      "[iter_attack.py:160 -     iterative_attack() ] Attach_iter 11 perturbation shape: (1, 268203), perturbation: [[ 3.97875723e-08 -1.96691872e-08 -6.57344543e-08 ...  1.83619644e-08\n",
      "  -1.06909130e-08 -2.43360088e-09]]\n"
     ]
    },
    {
     "name": "stdout",
     "output_type": "stream",
     "text": [
      "(1, 268203)\n",
      "10 10\n"
     ]
    },
    {
     "name": "stderr",
     "output_type": "stream",
     "text": [
      "[genericNeuralNet.py:328 -     print_model_eval() ] Train loss (w reg) on all data: 0.014337983\n",
      "[genericNeuralNet.py:329 -     print_model_eval() ] Train loss (w/o reg) on all data: 0.005188987\n",
      "[genericNeuralNet.py:331 -     print_model_eval() ] Test loss (w/o reg) on all data: 0.049547642\n",
      "[genericNeuralNet.py:332 -     print_model_eval() ] Train acc on all data:  1.0\n",
      "[genericNeuralNet.py:333 -     print_model_eval() ] Test acc on all data:   0.975\n",
      "[genericNeuralNet.py:335 -     print_model_eval() ] Norm of the mean of gradients: 0.007228999\n",
      "[genericNeuralNet.py:336 -     print_model_eval() ] Norm of the params: 4.2776155\n"
     ]
    },
    {
     "name": "stdout",
     "output_type": "stream",
     "text": [
      "Shape (10, 2048)\n",
      "Using normal model\n",
      "LBFGS training took [46] iter.\n",
      "After training with LBFGS: \n"
     ]
    },
    {
     "name": "stderr",
     "output_type": "stream",
     "text": [
      "[iter_attack.py:204 -     iterative_attack() ] Test_idx: 15 Test pred (full): [[0.54965156 0.45034844]]\n",
      "[iter_attack.py:204 -     iterative_attack() ] Test_idx: 169 Test pred (full): [[9.992028e-01 7.971833e-04]]\n",
      "[iter_attack.py:205 -     iterative_attack() ] ---------------------\n",
      "[iter_attack.py:210 -     iterative_attack() ] Test_idx: 15 Test pred (top): [[0.54965156 0.45034844]]\n",
      "[iter_attack.py:210 -     iterative_attack() ] Test_idx: 169 Test pred (top): [[9.992028e-01 7.971833e-04]]\n",
      "[iter_attack.py:138 -     iterative_attack() ] *** Iter: 12\n"
     ]
    },
    {
     "name": "stdout",
     "output_type": "stream",
     "text": [
      "Total number of parameters: 2048\n"
     ]
    },
    {
     "name": "stderr",
     "output_type": "stream",
     "text": [
      "[iter_attack.py:160 -     iterative_attack() ] Attach_iter 12 perturbation shape: (1, 268203), perturbation: [[ 0.0412165   0.00339802 -0.00334227 ... -0.07631154  0.03797461\n",
      "   0.01480243]]\n"
     ]
    },
    {
     "name": "stdout",
     "output_type": "stream",
     "text": [
      "Warning: Desired error not necessarily achieved due to precision loss.\n",
      "         Current function value: -1164.254883\n",
      "         Iterations: 7\n",
      "         Function evaluations: 71\n",
      "         Gradient evaluations: 66\n",
      "         Hessian evaluations: 39\n",
      "Inverse HVP took 1.83363509178 sec\n",
      "Loaded inverse HVP from output/poisoning_900_300_inception_wd-0.001-test-[15, 169].npz\n",
      "Inverse HVP took 0.000561952590942 sec\n",
      "Entering the for loop\n",
      "(1, 268203)\n",
      "Loaded inverse HVP from output/poisoning_900_300_inception_wd-0.001-test-[15, 169].npz\n",
      "Inverse HVP took 0.000592231750488 sec\n",
      "Entering the for loop\n"
     ]
    },
    {
     "name": "stderr",
     "output_type": "stream",
     "text": [
      "[iter_attack.py:160 -     iterative_attack() ] Attach_iter 12 perturbation shape: (1, 268203), perturbation: [[ 0.00073683  0.00020019  0.00060105 ... -0.00125847 -0.00132748\n",
      "   0.00149848]]\n",
      "[iter_attack.py:160 -     iterative_attack() ] Attach_iter 12 perturbation shape: (1, 268203), perturbation: [[-7.07003073e-06 -3.50348478e-06 -4.03169906e-07 ... -5.44367936e-07\n",
      "   6.13072780e-06  8.45079114e-07]]\n"
     ]
    },
    {
     "name": "stdout",
     "output_type": "stream",
     "text": [
      "(1, 268203)\n",
      "Loaded inverse HVP from output/poisoning_900_300_inception_wd-0.001-test-[15, 169].npz\n",
      "Inverse HVP took 0.000639200210571 sec\n",
      "Entering the for loop\n",
      "(1, 268203)\n",
      "Loaded inverse HVP from output/poisoning_900_300_inception_wd-0.001-test-[15, 169].npz\n",
      "Inverse HVP took 0.000590085983276 sec\n",
      "Entering the for loop\n"
     ]
    },
    {
     "name": "stderr",
     "output_type": "stream",
     "text": [
      "[iter_attack.py:160 -     iterative_attack() ] Attach_iter 12 perturbation shape: (1, 268203), perturbation: [[-7.97464629e-04  8.37491476e-04  5.64534101e-04 ...  8.93006654e-05\n",
      "  -1.63637123e-05 -1.13784787e-04]]\n",
      "[iter_attack.py:160 -     iterative_attack() ] Attach_iter 12 perturbation shape: (1, 268203), perturbation: [[ 3.29042246e-06 -4.50058678e-06 -5.95976417e-07 ... -1.13791048e-05\n",
      "  -2.19100707e-06 -4.22329549e-07]]\n"
     ]
    },
    {
     "name": "stdout",
     "output_type": "stream",
     "text": [
      "(1, 268203)\n",
      "Loaded inverse HVP from output/poisoning_900_300_inception_wd-0.001-test-[15, 169].npz\n",
      "Inverse HVP took 0.000592947006226 sec\n",
      "Entering the for loop\n",
      "(1, 268203)\n",
      "Loaded inverse HVP from output/poisoning_900_300_inception_wd-0.001-test-[15, 169].npz\n",
      "Inverse HVP took 0.000588178634644 sec\n",
      "Entering the for loop\n"
     ]
    },
    {
     "name": "stderr",
     "output_type": "stream",
     "text": [
      "[iter_attack.py:160 -     iterative_attack() ] Attach_iter 12 perturbation shape: (1, 268203), perturbation: [[ 0.01721016 -0.03728783 -0.04915601 ... -0.05532606 -0.04221301\n",
      "   0.0094631 ]]\n",
      "[iter_attack.py:160 -     iterative_attack() ] Attach_iter 12 perturbation shape: (1, 268203), perturbation: [[-8.15553867e-05 -5.77153769e-05  1.30429064e-04 ...  1.60959651e-04\n",
      "  -5.49756078e-06 -6.86620333e-05]]\n"
     ]
    },
    {
     "name": "stdout",
     "output_type": "stream",
     "text": [
      "(1, 268203)\n",
      "Loaded inverse HVP from output/poisoning_900_300_inception_wd-0.001-test-[15, 169].npz\n",
      "Inverse HVP took 0.000607967376709 sec\n",
      "Entering the for loop\n",
      "(1, 268203)\n",
      "Loaded inverse HVP from output/poisoning_900_300_inception_wd-0.001-test-[15, 169].npz\n",
      "Inverse HVP took 0.000606060028076 sec\n",
      "Entering the for loop\n"
     ]
    },
    {
     "name": "stderr",
     "output_type": "stream",
     "text": [
      "[iter_attack.py:160 -     iterative_attack() ] Attach_iter 12 perturbation shape: (1, 268203), perturbation: [[ 0.03889228 -0.06926455  0.12486051 ... -0.15526415  0.00221753\n",
      "   0.006197  ]]\n",
      "[iter_attack.py:160 -     iterative_attack() ] Attach_iter 12 perturbation shape: (1, 268203), perturbation: [[-0.10733975 -0.01475431  0.00535326 ...  0.05104102 -0.00209919\n",
      "  -0.03883673]]\n"
     ]
    },
    {
     "name": "stdout",
     "output_type": "stream",
     "text": [
      "(1, 268203)\n",
      "Loaded inverse HVP from output/poisoning_900_300_inception_wd-0.001-test-[15, 169].npz\n",
      "Inverse HVP took 0.000645160675049 sec\n",
      "Entering the for loop\n",
      "(1, 268203)\n",
      "Loaded inverse HVP from output/poisoning_900_300_inception_wd-0.001-test-[15, 169].npz\n",
      "Inverse HVP took 0.000643968582153 sec\n",
      "Entering the for loop\n"
     ]
    },
    {
     "name": "stderr",
     "output_type": "stream",
     "text": [
      "[iter_attack.py:160 -     iterative_attack() ] Attach_iter 12 perturbation shape: (1, 268203), perturbation: [[-5.53071455e-09  1.30387434e-09  1.60915299e-08 ... -1.50206114e-09\n",
      "  -2.46712806e-09  2.66470068e-09]]\n"
     ]
    },
    {
     "name": "stdout",
     "output_type": "stream",
     "text": [
      "(1, 268203)\n",
      "10 10\n",
      "Shape (10, 2048)\n",
      "Using normal model\n"
     ]
    },
    {
     "name": "stderr",
     "output_type": "stream",
     "text": [
      "[genericNeuralNet.py:328 -     print_model_eval() ] Train loss (w reg) on all data: 0.014632473\n",
      "[genericNeuralNet.py:329 -     print_model_eval() ] Train loss (w/o reg) on all data: 0.0053523737\n",
      "[genericNeuralNet.py:331 -     print_model_eval() ] Test loss (w/o reg) on all data: 0.050837994\n",
      "[genericNeuralNet.py:332 -     print_model_eval() ] Train acc on all data:  1.0\n",
      "[genericNeuralNet.py:333 -     print_model_eval() ] Test acc on all data:   0.9716666666666667\n",
      "[genericNeuralNet.py:335 -     print_model_eval() ] Norm of the mean of gradients: 0.008039126\n",
      "[genericNeuralNet.py:336 -     print_model_eval() ] Norm of the params: 4.3081546\n",
      "[iter_attack.py:204 -     iterative_attack() ] Test_idx: 15 Test pred (full): [[0.47120824 0.5287917 ]]\n",
      "[iter_attack.py:204 -     iterative_attack() ] Test_idx: 169 Test pred (full): [[9.9917394e-01 8.2599343e-04]]\n",
      "[iter_attack.py:205 -     iterative_attack() ] ---------------------\n",
      "[iter_attack.py:210 -     iterative_attack() ] Test_idx: 15 Test pred (top): [[0.47120824 0.5287917 ]]\n",
      "[iter_attack.py:210 -     iterative_attack() ] Test_idx: 169 Test pred (top): [[9.9917394e-01 8.2599343e-04]]\n",
      "[iter_attack.py:138 -     iterative_attack() ] *** Iter: 13\n"
     ]
    },
    {
     "name": "stdout",
     "output_type": "stream",
     "text": [
      "LBFGS training took [44] iter.\n",
      "After training with LBFGS: \n",
      "Total number of parameters: 2048\n"
     ]
    },
    {
     "name": "stderr",
     "output_type": "stream",
     "text": [
      "[iter_attack.py:160 -     iterative_attack() ] Attach_iter 13 perturbation shape: (1, 268203), perturbation: [[ 0.15455706  0.11614674  0.08703433 ... -0.0562189   0.04296578\n",
      "  -0.05577891]]\n"
     ]
    },
    {
     "name": "stdout",
     "output_type": "stream",
     "text": [
      "Warning: Desired error not necessarily achieved due to precision loss.\n",
      "         Current function value: -1581.634155\n",
      "         Iterations: 7\n",
      "         Function evaluations: 66\n",
      "         Gradient evaluations: 62\n",
      "         Hessian evaluations: 38\n",
      "Inverse HVP took 1.71661019325 sec\n",
      "Loaded inverse HVP from output/poisoning_900_300_inception_wd-0.001-test-[15, 169].npz\n",
      "Inverse HVP took 0.000554800033569 sec\n",
      "Entering the for loop\n",
      "(1, 268203)\n",
      "Loaded inverse HVP from output/poisoning_900_300_inception_wd-0.001-test-[15, 169].npz\n",
      "Inverse HVP took 0.000591039657593 sec\n",
      "Entering the for loop\n"
     ]
    },
    {
     "name": "stderr",
     "output_type": "stream",
     "text": [
      "[iter_attack.py:160 -     iterative_attack() ] Attach_iter 13 perturbation shape: (1, 268203), perturbation: [[-0.00048372 -0.00062174  0.00069317 ... -0.00046134 -0.00033043\n",
      "  -0.00023711]]\n",
      "[iter_attack.py:160 -     iterative_attack() ] Attach_iter 13 perturbation shape: (1, 268203), perturbation: [[-5.24513416e-06 -3.53145560e-06  3.10875953e-06 ... -1.94747258e-06\n",
      "   3.67623443e-06 -2.18211198e-07]]\n"
     ]
    },
    {
     "name": "stdout",
     "output_type": "stream",
     "text": [
      "(1, 268203)\n",
      "Loaded inverse HVP from output/poisoning_900_300_inception_wd-0.001-test-[15, 169].npz\n",
      "Inverse HVP took 0.000603914260864 sec\n",
      "Entering the for loop\n",
      "(1, 268203)\n",
      "Loaded inverse HVP from output/poisoning_900_300_inception_wd-0.001-test-[15, 169].npz\n",
      "Inverse HVP took 0.000602006912231 sec\n",
      "Entering the for loop\n"
     ]
    },
    {
     "name": "stderr",
     "output_type": "stream",
     "text": [
      "[iter_attack.py:160 -     iterative_attack() ] Attach_iter 13 perturbation shape: (1, 268203), perturbation: [[-5.75275684e-04  6.64527994e-04  3.75494099e-04 ...  9.60133402e-05\n",
      "   3.92680013e-05 -1.81596304e-04]]\n",
      "[iter_attack.py:160 -     iterative_attack() ] Attach_iter 13 perturbation shape: (1, 268203), perturbation: [[ 1.48510662e-06 -1.59230603e-06 -8.21819981e-07 ...  4.18760510e-06\n",
      "  -4.04810635e-06 -4.42815190e-06]]\n"
     ]
    },
    {
     "name": "stdout",
     "output_type": "stream",
     "text": [
      "(1, 268203)\n",
      "Loaded inverse HVP from output/poisoning_900_300_inception_wd-0.001-test-[15, 169].npz\n",
      "Inverse HVP took 0.000602960586548 sec\n",
      "Entering the for loop\n",
      "(1, 268203)\n",
      "Loaded inverse HVP from output/poisoning_900_300_inception_wd-0.001-test-[15, 169].npz\n",
      "Inverse HVP took 0.000595092773438 sec\n",
      "Entering the for loop\n"
     ]
    },
    {
     "name": "stderr",
     "output_type": "stream",
     "text": [
      "[iter_attack.py:160 -     iterative_attack() ] Attach_iter 13 perturbation shape: (1, 268203), perturbation: [[-0.00857131 -0.03515553 -0.03486511 ... -0.03786781 -0.03099139\n",
      "  -0.00305835]]\n",
      "[iter_attack.py:160 -     iterative_attack() ] Attach_iter 13 perturbation shape: (1, 268203), perturbation: [[-1.55780053e-05 -2.12172963e-05  3.60533923e-05 ...  8.80587104e-05\n",
      "  -7.60340663e-06 -4.11236106e-05]]\n"
     ]
    },
    {
     "name": "stdout",
     "output_type": "stream",
     "text": [
      "(1, 268203)\n",
      "Loaded inverse HVP from output/poisoning_900_300_inception_wd-0.001-test-[15, 169].npz\n",
      "Inverse HVP took 0.000594139099121 sec\n",
      "Entering the for loop\n",
      "(1, 268203)\n",
      "Loaded inverse HVP from output/poisoning_900_300_inception_wd-0.001-test-[15, 169].npz\n",
      "Inverse HVP took 0.000602960586548 sec\n",
      "Entering the for loop\n"
     ]
    },
    {
     "name": "stderr",
     "output_type": "stream",
     "text": [
      "[iter_attack.py:160 -     iterative_attack() ] Attach_iter 13 perturbation shape: (1, 268203), perturbation: [[ 0.0576425  -0.06017379  0.13452055 ...  0.01714751 -0.06782617\n",
      "   0.01932302]]\n",
      "[iter_attack.py:160 -     iterative_attack() ] Attach_iter 13 perturbation shape: (1, 268203), perturbation: [[-5.68557441e-01 -1.24936856e-01  1.18054509e-01 ...  5.25517166e-02\n",
      "   2.01815739e-04 -2.50785518e-02]]\n"
     ]
    },
    {
     "name": "stdout",
     "output_type": "stream",
     "text": [
      "(1, 268203)\n",
      "Loaded inverse HVP from output/poisoning_900_300_inception_wd-0.001-test-[15, 169].npz\n",
      "Inverse HVP took 0.000590085983276 sec\n",
      "Entering the for loop\n",
      "(1, 268203)\n",
      "Loaded inverse HVP from output/poisoning_900_300_inception_wd-0.001-test-[15, 169].npz\n",
      "Inverse HVP took 0.000604867935181 sec\n",
      "Entering the for loop\n"
     ]
    },
    {
     "name": "stderr",
     "output_type": "stream",
     "text": [
      "[iter_attack.py:160 -     iterative_attack() ] Attach_iter 13 perturbation shape: (1, 268203), perturbation: [[ 4.84138685e-09 -3.04644665e-09 -8.08857781e-09 ...  4.58178384e-09\n",
      "  -6.89791502e-10 -3.91574018e-09]]\n"
     ]
    },
    {
     "name": "stdout",
     "output_type": "stream",
     "text": [
      "(1, 268203)\n",
      "10 10\n"
     ]
    },
    {
     "name": "stderr",
     "output_type": "stream",
     "text": [
      "[genericNeuralNet.py:328 -     print_model_eval() ] Train loss (w reg) on all data: 0.014923526\n",
      "[genericNeuralNet.py:329 -     print_model_eval() ] Train loss (w/o reg) on all data: 0.0055319276\n",
      "[genericNeuralNet.py:331 -     print_model_eval() ] Test loss (w/o reg) on all data: 0.051089097\n",
      "[genericNeuralNet.py:332 -     print_model_eval() ] Train acc on all data:  1.0\n",
      "[genericNeuralNet.py:333 -     print_model_eval() ] Test acc on all data:   0.9716666666666667\n",
      "[genericNeuralNet.py:335 -     print_model_eval() ] Norm of the mean of gradients: 0.009022763\n",
      "[genericNeuralNet.py:336 -     print_model_eval() ] Norm of the params: 4.333958\n"
     ]
    },
    {
     "name": "stdout",
     "output_type": "stream",
     "text": [
      "Shape (10, 2048)\n",
      "Using normal model\n",
      "LBFGS training took [46] iter.\n",
      "After training with LBFGS: \n"
     ]
    },
    {
     "name": "stderr",
     "output_type": "stream",
     "text": [
      "[iter_attack.py:204 -     iterative_attack() ] Test_idx: 15 Test pred (full): [[0.39588323 0.60411686]]\n",
      "[iter_attack.py:204 -     iterative_attack() ] Test_idx: 169 Test pred (full): [[9.991634e-01 8.366738e-04]]\n",
      "[iter_attack.py:205 -     iterative_attack() ] ---------------------\n",
      "[iter_attack.py:210 -     iterative_attack() ] Test_idx: 15 Test pred (top): [[0.39588323 0.60411686]]\n",
      "[iter_attack.py:210 -     iterative_attack() ] Test_idx: 169 Test pred (top): [[9.991634e-01 8.366738e-04]]\n",
      "[iter_attack.py:138 -     iterative_attack() ] *** Iter: 14\n"
     ]
    },
    {
     "name": "stdout",
     "output_type": "stream",
     "text": [
      "Total number of parameters: 2048\n"
     ]
    },
    {
     "name": "stderr",
     "output_type": "stream",
     "text": [
      "[iter_attack.py:160 -     iterative_attack() ] Attach_iter 14 perturbation shape: (1, 268203), perturbation: [[-0.01210437  0.18595821  0.21708706 ...  0.07938308 -0.04703848\n",
      "   0.04003251]]\n"
     ]
    },
    {
     "name": "stdout",
     "output_type": "stream",
     "text": [
      "Warning: Desired error not necessarily achieved due to precision loss.\n",
      "         Current function value: -2036.506836\n",
      "         Iterations: 10\n",
      "         Function evaluations: 76\n",
      "         Gradient evaluations: 74\n",
      "         Hessian evaluations: 71\n",
      "Inverse HVP took 2.33010005951 sec\n",
      "Loaded inverse HVP from output/poisoning_900_300_inception_wd-0.001-test-[15, 169].npz\n",
      "Inverse HVP took 0.000548839569092 sec\n",
      "Entering the for loop\n",
      "(1, 268203)\n",
      "Loaded inverse HVP from output/poisoning_900_300_inception_wd-0.001-test-[15, 169].npz\n",
      "Inverse HVP took 0.000639915466309 sec\n",
      "Entering the for loop\n"
     ]
    },
    {
     "name": "stderr",
     "output_type": "stream",
     "text": [
      "[iter_attack.py:160 -     iterative_attack() ] Attach_iter 14 perturbation shape: (1, 268203), perturbation: [[ 1.30909088e-04 -6.72345632e-05  9.92171234e-04 ... -2.17363253e-04\n",
      "  -3.41520703e-04  4.10825131e-04]]\n",
      "[iter_attack.py:160 -     iterative_attack() ] Attach_iter 14 perturbation shape: (1, 268203), perturbation: [[ 1.06875609e-06  9.75360990e-07 -1.09229148e-07 ... -2.22196519e-07\n",
      "   9.76307547e-07 -1.57323313e-07]]\n"
     ]
    },
    {
     "name": "stdout",
     "output_type": "stream",
     "text": [
      "(1, 268203)\n",
      "Loaded inverse HVP from output/poisoning_900_300_inception_wd-0.001-test-[15, 169].npz\n",
      "Inverse HVP took 0.000635862350464 sec\n",
      "Entering the for loop\n",
      "(1, 268203)\n",
      "Loaded inverse HVP from output/poisoning_900_300_inception_wd-0.001-test-[15, 169].npz\n",
      "Inverse HVP took 0.000591039657593 sec\n",
      "Entering the for loop\n"
     ]
    },
    {
     "name": "stderr",
     "output_type": "stream",
     "text": [
      "[iter_attack.py:160 -     iterative_attack() ] Attach_iter 14 perturbation shape: (1, 268203), perturbation: [[-3.03571054e-04  3.89372697e-04  2.20649599e-04 ...  3.38598620e-05\n",
      "   7.66544399e-05 -8.96762358e-05]]\n",
      "[iter_attack.py:160 -     iterative_attack() ] Attach_iter 14 perturbation shape: (1, 268203), perturbation: [[ 9.54337679e-07 -8.44244653e-07 -3.62095307e-07 ... -1.55551788e-06\n",
      "  -1.00108673e-06 -1.42445049e-06]]\n"
     ]
    },
    {
     "name": "stdout",
     "output_type": "stream",
     "text": [
      "(1, 268203)\n",
      "Loaded inverse HVP from output/poisoning_900_300_inception_wd-0.001-test-[15, 169].npz\n",
      "Inverse HVP took 0.000609874725342 sec\n",
      "Entering the for loop\n",
      "(1, 268203)\n",
      "Loaded inverse HVP from output/poisoning_900_300_inception_wd-0.001-test-[15, 169].npz\n",
      "Inverse HVP took 0.000631093978882 sec\n",
      "Entering the for loop\n"
     ]
    },
    {
     "name": "stderr",
     "output_type": "stream",
     "text": [
      "[iter_attack.py:160 -     iterative_attack() ] Attach_iter 14 perturbation shape: (1, 268203), perturbation: [[ 0.00930118 -0.0486136  -0.0705574  ... -0.02016667 -0.03986858\n",
      "  -0.00916368]]\n",
      "[iter_attack.py:160 -     iterative_attack() ] Attach_iter 14 perturbation shape: (1, 268203), perturbation: [[-1.13341493e-05 -6.19546199e-06  7.28810392e-06 ...  3.91958238e-05\n",
      "   6.59771558e-07 -1.81360410e-05]]\n"
     ]
    },
    {
     "name": "stdout",
     "output_type": "stream",
     "text": [
      "(1, 268203)\n",
      "Loaded inverse HVP from output/poisoning_900_300_inception_wd-0.001-test-[15, 169].npz\n",
      "Inverse HVP took 0.000647068023682 sec\n",
      "Entering the for loop\n",
      "(1, 268203)\n",
      "Loaded inverse HVP from output/poisoning_900_300_inception_wd-0.001-test-[15, 169].npz\n",
      "Inverse HVP took 0.000636100769043 sec\n",
      "Entering the for loop\n"
     ]
    },
    {
     "name": "stderr",
     "output_type": "stream",
     "text": [
      "[iter_attack.py:160 -     iterative_attack() ] Attach_iter 14 perturbation shape: (1, 268203), perturbation: [[ 0.03270885 -0.06920463  0.14235595 ... -0.14422855  0.00422867\n",
      "  -0.00276107]]\n",
      "[iter_attack.py:160 -     iterative_attack() ] Attach_iter 14 perturbation shape: (1, 268203), perturbation: [[-0.17494521 -0.02029827  0.03691965 ...  0.02600213 -0.0014199\n",
      "  -0.02492679]]\n"
     ]
    },
    {
     "name": "stdout",
     "output_type": "stream",
     "text": [
      "(1, 268203)\n",
      "Loaded inverse HVP from output/poisoning_900_300_inception_wd-0.001-test-[15, 169].npz\n",
      "Inverse HVP took 0.00058913230896 sec\n",
      "Entering the for loop\n",
      "(1, 268203)\n",
      "Loaded inverse HVP from output/poisoning_900_300_inception_wd-0.001-test-[15, 169].npz\n",
      "Inverse HVP took 0.00061297416687 sec\n",
      "Entering the for loop\n"
     ]
    },
    {
     "name": "stderr",
     "output_type": "stream",
     "text": [
      "[iter_attack.py:160 -     iterative_attack() ] Attach_iter 14 perturbation shape: (1, 268203), perturbation: [[-1.04542885e-09  2.11933804e-10  2.36221864e-09 ...  7.12967407e-10\n",
      "   7.97017674e-10 -6.77746415e-10]]\n"
     ]
    },
    {
     "name": "stdout",
     "output_type": "stream",
     "text": [
      "(1, 268203)\n",
      "10 10\n"
     ]
    },
    {
     "name": "stderr",
     "output_type": "stream",
     "text": [
      "[genericNeuralNet.py:328 -     print_model_eval() ] Train loss (w reg) on all data: 0.015226459\n",
      "[genericNeuralNet.py:329 -     print_model_eval() ] Train loss (w/o reg) on all data: 0.005698048\n",
      "[genericNeuralNet.py:331 -     print_model_eval() ] Test loss (w/o reg) on all data: 0.052710973\n",
      "[genericNeuralNet.py:332 -     print_model_eval() ] Train acc on all data:  1.0\n",
      "[genericNeuralNet.py:333 -     print_model_eval() ] Test acc on all data:   0.9716666666666667\n",
      "[genericNeuralNet.py:335 -     print_model_eval() ] Norm of the mean of gradients: 0.009770754\n",
      "[genericNeuralNet.py:336 -     print_model_eval() ] Norm of the params: 4.365412\n"
     ]
    },
    {
     "name": "stdout",
     "output_type": "stream",
     "text": [
      "Shape (10, 2048)\n",
      "Using normal model\n",
      "LBFGS training took [46] iter.\n",
      "After training with LBFGS: \n"
     ]
    },
    {
     "name": "stderr",
     "output_type": "stream",
     "text": [
      "[iter_attack.py:204 -     iterative_attack() ] Test_idx: 15 Test pred (full): [[0.32736018 0.6726398 ]]\n",
      "[iter_attack.py:204 -     iterative_attack() ] Test_idx: 169 Test pred (full): [[9.9914646e-01 8.5352134e-04]]\n",
      "[iter_attack.py:205 -     iterative_attack() ] ---------------------\n",
      "[iter_attack.py:210 -     iterative_attack() ] Test_idx: 15 Test pred (top): [[0.32736018 0.6726398 ]]\n",
      "[iter_attack.py:210 -     iterative_attack() ] Test_idx: 169 Test pred (top): [[9.9914646e-01 8.5352134e-04]]\n",
      "[iter_attack.py:138 -     iterative_attack() ] *** Iter: 15\n"
     ]
    },
    {
     "name": "stdout",
     "output_type": "stream",
     "text": [
      "Total number of parameters: 2048\n"
     ]
    },
    {
     "name": "stderr",
     "output_type": "stream",
     "text": [
      "[iter_attack.py:160 -     iterative_attack() ] Attach_iter 15 perturbation shape: (1, 268203), perturbation: [[ 0.39750969  0.18425363  0.01517272 ...  0.06819042  0.14065844\n",
      "  -0.2231757 ]]\n"
     ]
    },
    {
     "name": "stdout",
     "output_type": "stream",
     "text": [
      "Warning: Desired error not necessarily achieved due to precision loss.\n",
      "         Current function value: -2490.338379\n",
      "         Iterations: 9\n",
      "         Function evaluations: 76\n",
      "         Gradient evaluations: 73\n",
      "         Hessian evaluations: 62\n",
      "Inverse HVP took 2.19191718102 sec\n",
      "Loaded inverse HVP from output/poisoning_900_300_inception_wd-0.001-test-[15, 169].npz\n",
      "Inverse HVP took 0.000546932220459 sec\n",
      "Entering the for loop\n",
      "(1, 268203)\n",
      "Loaded inverse HVP from output/poisoning_900_300_inception_wd-0.001-test-[15, 169].npz\n",
      "Inverse HVP took 0.000635147094727 sec\n",
      "Entering the for loop\n"
     ]
    },
    {
     "name": "stderr",
     "output_type": "stream",
     "text": [
      "[iter_attack.py:160 -     iterative_attack() ] Attach_iter 15 perturbation shape: (1, 268203), perturbation: [[-0.00019897  0.0001492   0.00053909 ...  0.00058104 -0.00041994\n",
      "  -0.00054708]]\n",
      "[iter_attack.py:160 -     iterative_attack() ] Attach_iter 15 perturbation shape: (1, 268203), perturbation: [[-1.16252727e-06 -8.09056303e-07  4.41716622e-07 ... -5.42367047e-07\n",
      "   4.05908708e-07 -2.29842399e-07]]\n"
     ]
    },
    {
     "name": "stdout",
     "output_type": "stream",
     "text": [
      "(1, 268203)\n",
      "Loaded inverse HVP from output/poisoning_900_300_inception_wd-0.001-test-[15, 169].npz\n",
      "Inverse HVP took 0.000594854354858 sec\n",
      "Entering the for loop\n",
      "(1, 268203)\n",
      "Loaded inverse HVP from output/poisoning_900_300_inception_wd-0.001-test-[15, 169].npz\n",
      "Inverse HVP took 0.000607967376709 sec\n",
      "Entering the for loop\n"
     ]
    },
    {
     "name": "stderr",
     "output_type": "stream",
     "text": [
      "[iter_attack.py:160 -     iterative_attack() ] Attach_iter 15 perturbation shape: (1, 268203), perturbation: [[-1.62533921e-04  1.90015358e-04  1.06285195e-04 ...  2.02906049e-05\n",
      "   6.97402866e-05 -6.81016754e-05]]\n",
      "[iter_attack.py:160 -     iterative_attack() ] Attach_iter 15 perturbation shape: (1, 268203), perturbation: [[ 4.06147421e-07 -3.17812862e-07 -1.02972251e-07 ...  1.61901619e-06\n",
      "   1.25147039e-07 -5.39140387e-07]]\n"
     ]
    },
    {
     "name": "stdout",
     "output_type": "stream",
     "text": [
      "(1, 268203)\n",
      "Loaded inverse HVP from output/poisoning_900_300_inception_wd-0.001-test-[15, 169].npz\n",
      "Inverse HVP took 0.000595092773438 sec\n",
      "Entering the for loop\n",
      "(1, 268203)\n",
      "Loaded inverse HVP from output/poisoning_900_300_inception_wd-0.001-test-[15, 169].npz\n",
      "Inverse HVP took 0.000586986541748 sec\n",
      "Entering the for loop\n"
     ]
    },
    {
     "name": "stderr",
     "output_type": "stream",
     "text": [
      "[iter_attack.py:160 -     iterative_attack() ] Attach_iter 15 perturbation shape: (1, 268203), perturbation: [[-0.05443974 -0.05075768 -0.01817263 ...  0.0383304  -0.05089936\n",
      "   0.00166954]]\n",
      "[iter_attack.py:160 -     iterative_attack() ] Attach_iter 15 perturbation shape: (1, 268203), perturbation: [[-3.50590597e-07  7.08532934e-06 -2.23414590e-05 ...  6.86336989e-06\n",
      "  -6.70964710e-07 -6.55291342e-06]]\n"
     ]
    },
    {
     "name": "stdout",
     "output_type": "stream",
     "text": [
      "(1, 268203)\n",
      "Loaded inverse HVP from output/poisoning_900_300_inception_wd-0.001-test-[15, 169].npz\n",
      "Inverse HVP took 0.000605821609497 sec\n",
      "Entering the for loop\n",
      "(1, 268203)\n",
      "Loaded inverse HVP from output/poisoning_900_300_inception_wd-0.001-test-[15, 169].npz\n",
      "Inverse HVP took 0.000598907470703 sec\n",
      "Entering the for loop\n"
     ]
    },
    {
     "name": "stderr",
     "output_type": "stream",
     "text": [
      "[iter_attack.py:160 -     iterative_attack() ] Attach_iter 15 perturbation shape: (1, 268203), perturbation: [[ 0.02924564 -0.09476637  0.14365865 ...  0.01610753  0.04582541\n",
      "  -0.08784351]]\n",
      "[iter_attack.py:160 -     iterative_attack() ] Attach_iter 15 perturbation shape: (1, 268203), perturbation: [[-0.41989559 -0.07026769  0.11242537 ... -0.0182043   0.06379876\n",
      "  -0.00211477]]\n"
     ]
    },
    {
     "name": "stdout",
     "output_type": "stream",
     "text": [
      "(1, 268203)\n",
      "Loaded inverse HVP from output/poisoning_900_300_inception_wd-0.001-test-[15, 169].npz\n",
      "Inverse HVP took 0.000587940216064 sec\n",
      "Entering the for loop\n",
      "(1, 268203)\n",
      "Loaded inverse HVP from output/poisoning_900_300_inception_wd-0.001-test-[15, 169].npz\n",
      "Inverse HVP took 0.000604152679443 sec\n",
      "Entering the for loop\n"
     ]
    },
    {
     "name": "stderr",
     "output_type": "stream",
     "text": [
      "[iter_attack.py:160 -     iterative_attack() ] Attach_iter 15 perturbation shape: (1, 268203), perturbation: [[ 5.33335487e-10 -8.60683413e-10 -3.00095816e-11 ...  2.15634358e-10\n",
      "   9.91872140e-10 -1.69412528e-09]]\n"
     ]
    },
    {
     "name": "stdout",
     "output_type": "stream",
     "text": [
      "(1, 268203)\n",
      "10 10\n"
     ]
    },
    {
     "name": "stderr",
     "output_type": "stream",
     "text": [
      "[genericNeuralNet.py:328 -     print_model_eval() ] Train loss (w reg) on all data: 0.015508807\n",
      "[genericNeuralNet.py:329 -     print_model_eval() ] Train loss (w/o reg) on all data: 0.0058886893\n",
      "[genericNeuralNet.py:331 -     print_model_eval() ] Test loss (w/o reg) on all data: 0.05291296\n",
      "[genericNeuralNet.py:332 -     print_model_eval() ] Train acc on all data:  1.0\n",
      "[genericNeuralNet.py:333 -     print_model_eval() ] Test acc on all data:   0.9733333333333334\n",
      "[genericNeuralNet.py:335 -     print_model_eval() ] Norm of the mean of gradients: 0.010797879\n",
      "[genericNeuralNet.py:336 -     print_model_eval() ] Norm of the params: 4.386369\n"
     ]
    },
    {
     "name": "stdout",
     "output_type": "stream",
     "text": [
      "Shape (10, 2048)\n",
      "Using normal model\n",
      "LBFGS training took [47] iter.\n",
      "After training with LBFGS: \n"
     ]
    },
    {
     "name": "stderr",
     "output_type": "stream",
     "text": [
      "[iter_attack.py:204 -     iterative_attack() ] Test_idx: 15 Test pred (full): [[0.2664841 0.7335159]]\n",
      "[iter_attack.py:204 -     iterative_attack() ] Test_idx: 169 Test pred (full): [[9.9914920e-01 8.5083157e-04]]\n",
      "[iter_attack.py:205 -     iterative_attack() ] ---------------------\n",
      "[iter_attack.py:210 -     iterative_attack() ] Test_idx: 15 Test pred (top): [[0.2664841 0.7335159]]\n",
      "[iter_attack.py:210 -     iterative_attack() ] Test_idx: 169 Test pred (top): [[9.9914920e-01 8.5083157e-04]]\n",
      "[iter_attack.py:138 -     iterative_attack() ] *** Iter: 16\n"
     ]
    },
    {
     "name": "stdout",
     "output_type": "stream",
     "text": [
      "Total number of parameters: 2048\n"
     ]
    },
    {
     "name": "stderr",
     "output_type": "stream",
     "text": [
      "[iter_attack.py:160 -     iterative_attack() ] Attach_iter 16 perturbation shape: (1, 268203), perturbation: [[-0.02053978  0.13126002  0.03623448 ...  0.0916339  -0.0551338\n",
      "   0.04074866]]\n"
     ]
    },
    {
     "name": "stdout",
     "output_type": "stream",
     "text": [
      "Warning: Desired error not necessarily achieved due to precision loss.\n",
      "         Current function value: -2926.776123\n",
      "         Iterations: 9\n",
      "         Function evaluations: 91\n",
      "         Gradient evaluations: 89\n",
      "         Hessian evaluations: 58\n",
      "Inverse HVP took 2.52709889412 sec\n",
      "Loaded inverse HVP from output/poisoning_900_300_inception_wd-0.001-test-[15, 169].npz\n",
      "Inverse HVP took 0.000540018081665 sec\n",
      "Entering the for loop\n",
      "(1, 268203)\n",
      "Loaded inverse HVP from output/poisoning_900_300_inception_wd-0.001-test-[15, 169].npz\n",
      "Inverse HVP took 0.000581979751587 sec\n",
      "Entering the for loop\n"
     ]
    },
    {
     "name": "stderr",
     "output_type": "stream",
     "text": [
      "[iter_attack.py:160 -     iterative_attack() ] Attach_iter 16 perturbation shape: (1, 268203), perturbation: [[ 5.94421872e-05  4.20470606e-04  6.27641391e-04 ... -1.51220767e-04\n",
      "   5.37765736e-05  8.07599135e-05]]\n",
      "[iter_attack.py:160 -     iterative_attack() ] Attach_iter 16 perturbation shape: (1, 268203), perturbation: [[ 3.24359661e-07  2.05223827e-07 -5.23209565e-09 ... -8.97065462e-08\n",
      "  -5.63000491e-08  9.61112931e-08]]\n"
     ]
    },
    {
     "name": "stdout",
     "output_type": "stream",
     "text": [
      "(1, 268203)\n",
      "Loaded inverse HVP from output/poisoning_900_300_inception_wd-0.001-test-[15, 169].npz\n",
      "Inverse HVP took 0.000584840774536 sec\n",
      "Entering the for loop\n",
      "(1, 268203)\n",
      "Loaded inverse HVP from output/poisoning_900_300_inception_wd-0.001-test-[15, 169].npz\n",
      "Inverse HVP took 0.000647068023682 sec\n",
      "Entering the for loop\n"
     ]
    },
    {
     "name": "stderr",
     "output_type": "stream",
     "text": [
      "[iter_attack.py:160 -     iterative_attack() ] Attach_iter 16 perturbation shape: (1, 268203), perturbation: [[-1.10013250e-04  1.19779455e-04  6.93704351e-05 ... -6.27832287e-06\n",
      "   2.17377547e-05 -2.27392284e-05]]\n",
      "[iter_attack.py:160 -     iterative_attack() ] Attach_iter 16 perturbation shape: (1, 268203), perturbation: [[ 1.19404206e-07 -1.09921913e-07 -4.82742522e-08 ...  5.14280671e-08\n",
      "  -2.65305857e-07 -3.24406642e-07]]\n"
     ]
    },
    {
     "name": "stdout",
     "output_type": "stream",
     "text": [
      "(1, 268203)\n",
      "Loaded inverse HVP from output/poisoning_900_300_inception_wd-0.001-test-[15, 169].npz\n",
      "Inverse HVP took 0.000575065612793 sec\n",
      "Entering the for loop\n",
      "(1, 268203)\n",
      "Loaded inverse HVP from output/poisoning_900_300_inception_wd-0.001-test-[15, 169].npz\n",
      "Inverse HVP took 0.000593185424805 sec\n",
      "Entering the for loop\n"
     ]
    },
    {
     "name": "stderr",
     "output_type": "stream",
     "text": [
      "[iter_attack.py:160 -     iterative_attack() ] Attach_iter 16 perturbation shape: (1, 268203), perturbation: [[ 1.97733305e-02 -9.21779573e-02 -8.46806988e-02 ...  2.80246492e-02\n",
      "  -4.48475853e-02  3.46371671e-05]]\n",
      "[iter_attack.py:160 -     iterative_attack() ] Attach_iter 16 perturbation shape: (1, 268203), perturbation: [[ 9.27687233e-06  2.17574343e-05 -6.10814823e-05 ... -1.82339536e-05\n",
      "  -3.15163561e-07  3.79133053e-06]]\n"
     ]
    },
    {
     "name": "stdout",
     "output_type": "stream",
     "text": [
      "(1, 268203)\n",
      "Loaded inverse HVP from output/poisoning_900_300_inception_wd-0.001-test-[15, 169].npz\n",
      "Inverse HVP took 0.000581979751587 sec\n",
      "Entering the for loop\n",
      "(1, 268203)\n",
      "Loaded inverse HVP from output/poisoning_900_300_inception_wd-0.001-test-[15, 169].npz\n",
      "Inverse HVP took 0.000571966171265 sec\n",
      "Entering the for loop\n"
     ]
    },
    {
     "name": "stderr",
     "output_type": "stream",
     "text": [
      "[iter_attack.py:160 -     iterative_attack() ] Attach_iter 16 perturbation shape: (1, 268203), perturbation: [[-0.01574496 -0.06637914  0.12728514 ...  0.2397338  -0.13296829\n",
      "  -0.06691088]]\n",
      "[iter_attack.py:160 -     iterative_attack() ] Attach_iter 16 perturbation shape: (1, 268203), perturbation: [[-0.25776264 -0.0517594   0.0594448  ...  0.05881386 -0.00384733\n",
      "  -0.00409577]]\n"
     ]
    },
    {
     "name": "stdout",
     "output_type": "stream",
     "text": [
      "(1, 268203)\n",
      "Loaded inverse HVP from output/poisoning_900_300_inception_wd-0.001-test-[15, 169].npz\n",
      "Inverse HVP took 0.00056004524231 sec\n",
      "Entering the for loop\n",
      "(1, 268203)\n",
      "Loaded inverse HVP from output/poisoning_900_300_inception_wd-0.001-test-[15, 169].npz\n",
      "Inverse HVP took 0.000566959381104 sec\n",
      "Entering the for loop\n"
     ]
    },
    {
     "name": "stderr",
     "output_type": "stream",
     "text": [
      "[iter_attack.py:160 -     iterative_attack() ] Attach_iter 16 perturbation shape: (1, 268203), perturbation: [[-1.85135254e-10  1.36290562e-10  1.92425346e-11 ...  3.34743622e-11\n",
      "   1.92380223e-10 -2.13541379e-10]]\n"
     ]
    },
    {
     "name": "stdout",
     "output_type": "stream",
     "text": [
      "(1, 268203)\n",
      "10 10\n"
     ]
    },
    {
     "name": "stderr",
     "output_type": "stream",
     "text": [
      "[genericNeuralNet.py:328 -     print_model_eval() ] Train loss (w reg) on all data: 0.015865546\n",
      "[genericNeuralNet.py:329 -     print_model_eval() ] Train loss (w/o reg) on all data: 0.006079267\n",
      "[genericNeuralNet.py:331 -     print_model_eval() ] Test loss (w/o reg) on all data: 0.054970995\n",
      "[genericNeuralNet.py:332 -     print_model_eval() ] Train acc on all data:  0.9994444444444445\n",
      "[genericNeuralNet.py:333 -     print_model_eval() ] Test acc on all data:   0.9733333333333334\n",
      "[genericNeuralNet.py:335 -     print_model_eval() ] Norm of the mean of gradients: 0.011586162\n",
      "[genericNeuralNet.py:336 -     print_model_eval() ] Norm of the params: 4.424088\n"
     ]
    },
    {
     "name": "stdout",
     "output_type": "stream",
     "text": [
      "Shape (10, 2048)\n",
      "Using normal model\n",
      "LBFGS training took [52] iter.\n",
      "After training with LBFGS: \n"
     ]
    },
    {
     "name": "stderr",
     "output_type": "stream",
     "text": [
      "[iter_attack.py:204 -     iterative_attack() ] Test_idx: 15 Test pred (full): [[0.21609497 0.78390497]]\n",
      "[iter_attack.py:204 -     iterative_attack() ] Test_idx: 169 Test pred (full): [[9.991123e-01 8.876573e-04]]\n",
      "[iter_attack.py:205 -     iterative_attack() ] ---------------------\n",
      "[iter_attack.py:210 -     iterative_attack() ] Test_idx: 15 Test pred (top): [[0.21609497 0.78390497]]\n",
      "[iter_attack.py:210 -     iterative_attack() ] Test_idx: 169 Test pred (top): [[9.991123e-01 8.876573e-04]]\n",
      "[iter_attack.py:138 -     iterative_attack() ] *** Iter: 17\n"
     ]
    },
    {
     "name": "stdout",
     "output_type": "stream",
     "text": [
      "Total number of parameters: 2048\n"
     ]
    },
    {
     "name": "stderr",
     "output_type": "stream",
     "text": [
      "[iter_attack.py:160 -     iterative_attack() ] Attach_iter 17 perturbation shape: (1, 268203), perturbation: [[ 0.56720543 -0.00571516 -0.17721884 ...  0.07147066  0.12924987\n",
      "  -0.25467157]]\n"
     ]
    },
    {
     "name": "stdout",
     "output_type": "stream",
     "text": [
      "Warning: Desired error not necessarily achieved due to precision loss.\n",
      "         Current function value: -3301.223877\n",
      "         Iterations: 9\n",
      "         Function evaluations: 145\n",
      "         Gradient evaluations: 142\n",
      "         Hessian evaluations: 58\n",
      "Inverse HVP took 3.66734886169 sec\n",
      "Loaded inverse HVP from output/poisoning_900_300_inception_wd-0.001-test-[15, 169].npz\n",
      "Inverse HVP took 0.000542163848877 sec\n",
      "Entering the for loop\n",
      "(1, 268203)\n",
      "Loaded inverse HVP from output/poisoning_900_300_inception_wd-0.001-test-[15, 169].npz\n",
      "Inverse HVP took 0.000582933425903 sec\n",
      "Entering the for loop\n"
     ]
    },
    {
     "name": "stderr",
     "output_type": "stream",
     "text": [
      "[iter_attack.py:160 -     iterative_attack() ] Attach_iter 17 perturbation shape: (1, 268203), perturbation: [[-8.43401285e-05  7.67236343e-05  2.21635128e-04 ... -6.61997838e-05\n",
      "  -4.45833648e-05 -3.27876332e-05]]\n",
      "[iter_attack.py:160 -     iterative_attack() ] Attach_iter 17 perturbation shape: (1, 268203), perturbation: [[-3.35124525e-07 -1.95229333e-07  5.30658752e-08 ... -1.59404166e-07\n",
      "   1.23340641e-07 -1.09332589e-07]]\n"
     ]
    },
    {
     "name": "stdout",
     "output_type": "stream",
     "text": [
      "(1, 268203)\n",
      "Loaded inverse HVP from output/poisoning_900_300_inception_wd-0.001-test-[15, 169].npz\n",
      "Inverse HVP took 0.000581979751587 sec\n",
      "Entering the for loop\n",
      "(1, 268203)\n",
      "Loaded inverse HVP from output/poisoning_900_300_inception_wd-0.001-test-[15, 169].npz\n",
      "Inverse HVP took 0.000578880310059 sec\n",
      "Entering the for loop\n"
     ]
    },
    {
     "name": "stderr",
     "output_type": "stream",
     "text": [
      "[iter_attack.py:160 -     iterative_attack() ] Attach_iter 17 perturbation shape: (1, 268203), perturbation: [[-6.38493802e-05  7.94409571e-05  3.30485127e-05 ...  1.62951146e-05\n",
      "   2.71525823e-05 -2.68220665e-05]]\n",
      "[iter_attack.py:160 -     iterative_attack() ] Attach_iter 17 perturbation shape: (1, 268203), perturbation: [[ 4.66088892e-08 -5.42642127e-08 -3.83172534e-08 ...  9.44613703e-08\n",
      "   8.28241564e-09 -4.11749568e-08]]\n"
     ]
    },
    {
     "name": "stdout",
     "output_type": "stream",
     "text": [
      "(1, 268203)\n",
      "Loaded inverse HVP from output/poisoning_900_300_inception_wd-0.001-test-[15, 169].npz\n",
      "Inverse HVP took 0.000582933425903 sec\n",
      "Entering the for loop\n",
      "(1, 268203)\n",
      "Loaded inverse HVP from output/poisoning_900_300_inception_wd-0.001-test-[15, 169].npz\n",
      "Inverse HVP took 0.000580072402954 sec\n",
      "Entering the for loop\n"
     ]
    },
    {
     "name": "stderr",
     "output_type": "stream",
     "text": [
      "[iter_attack.py:160 -     iterative_attack() ] Attach_iter 17 perturbation shape: (1, 268203), perturbation: [[-0.02717655 -0.05402827 -0.08808503 ... -0.00840808 -0.07311052\n",
      "   0.01016885]]\n",
      "[iter_attack.py:160 -     iterative_attack() ] Attach_iter 17 perturbation shape: (1, 268203), perturbation: [[ 4.20213619e-05  6.68438734e-05 -1.43465804e-04 ... -6.85071791e-05\n",
      "   1.07069582e-05  2.37055883e-05]]\n"
     ]
    },
    {
     "name": "stdout",
     "output_type": "stream",
     "text": [
      "(1, 268203)\n",
      "Loaded inverse HVP from output/poisoning_900_300_inception_wd-0.001-test-[15, 169].npz\n",
      "Inverse HVP took 0.000582933425903 sec\n",
      "Entering the for loop\n",
      "(1, 268203)\n",
      "Loaded inverse HVP from output/poisoning_900_300_inception_wd-0.001-test-[15, 169].npz\n",
      "Inverse HVP took 0.000576019287109 sec\n",
      "Entering the for loop\n"
     ]
    },
    {
     "name": "stderr",
     "output_type": "stream",
     "text": [
      "[iter_attack.py:160 -     iterative_attack() ] Attach_iter 17 perturbation shape: (1, 268203), perturbation: [[ 0.04490045 -0.09863616  0.11742823 ... -0.55436116  0.3639656\n",
      "  -0.00453824]]\n",
      "[iter_attack.py:160 -     iterative_attack() ] Attach_iter 17 perturbation shape: (1, 268203), perturbation: [[-0.75538719 -0.08278543  0.20027083 ... -0.01045114  0.05024718\n",
      "  -0.00411694]]\n"
     ]
    },
    {
     "name": "stdout",
     "output_type": "stream",
     "text": [
      "(1, 268203)\n",
      "Loaded inverse HVP from output/poisoning_900_300_inception_wd-0.001-test-[15, 169].npz\n",
      "Inverse HVP took 0.000603914260864 sec\n",
      "Entering the for loop\n",
      "(1, 268203)\n",
      "Loaded inverse HVP from output/poisoning_900_300_inception_wd-0.001-test-[15, 169].npz\n",
      "Inverse HVP took 0.000646114349365 sec\n",
      "Entering the for loop\n"
     ]
    },
    {
     "name": "stderr",
     "output_type": "stream",
     "text": [
      "[iter_attack.py:160 -     iterative_attack() ] Attach_iter 17 perturbation shape: (1, 268203), perturbation: [[-1.78718013e-11  4.82269363e-11 -1.67381191e-12 ...  1.13273793e-10\n",
      "   6.49332255e-11 -2.10008816e-10]]\n"
     ]
    },
    {
     "name": "stdout",
     "output_type": "stream",
     "text": [
      "(1, 268203)\n",
      "10 10\n",
      "Shape (10, 2048)\n",
      "Using normal model\n"
     ]
    },
    {
     "name": "stderr",
     "output_type": "stream",
     "text": [
      "[genericNeuralNet.py:328 -     print_model_eval() ] Train loss (w reg) on all data: 0.016050937\n",
      "[genericNeuralNet.py:329 -     print_model_eval() ] Train loss (w/o reg) on all data: 0.006229781\n",
      "[genericNeuralNet.py:331 -     print_model_eval() ] Test loss (w/o reg) on all data: 0.05450848\n",
      "[genericNeuralNet.py:332 -     print_model_eval() ] Train acc on all data:  0.9994444444444445\n",
      "[genericNeuralNet.py:333 -     print_model_eval() ] Test acc on all data:   0.9733333333333334\n",
      "[genericNeuralNet.py:335 -     print_model_eval() ] Norm of the mean of gradients: 0.012483039\n",
      "[genericNeuralNet.py:336 -     print_model_eval() ] Norm of the params: 4.431965\n",
      "[iter_attack.py:204 -     iterative_attack() ] Test_idx: 15 Test pred (full): [[0.17404005 0.82596   ]]\n",
      "[iter_attack.py:204 -     iterative_attack() ] Test_idx: 169 Test pred (full): [[9.9913162e-01 8.6841575e-04]]\n",
      "[iter_attack.py:205 -     iterative_attack() ] ---------------------\n",
      "[iter_attack.py:210 -     iterative_attack() ] Test_idx: 15 Test pred (top): [[0.17404005 0.82596   ]]\n",
      "[iter_attack.py:210 -     iterative_attack() ] Test_idx: 169 Test pred (top): [[9.9913162e-01 8.6841575e-04]]\n",
      "[iter_attack.py:138 -     iterative_attack() ] *** Iter: 18\n"
     ]
    },
    {
     "name": "stdout",
     "output_type": "stream",
     "text": [
      "LBFGS training took [58] iter.\n",
      "After training with LBFGS: \n",
      "Total number of parameters: 2048\n"
     ]
    },
    {
     "name": "stderr",
     "output_type": "stream",
     "text": [
      "[iter_attack.py:160 -     iterative_attack() ] Attach_iter 18 perturbation shape: (1, 268203), perturbation: [[ 0.07939819  0.16423653  0.17751932 ...  0.31328738 -0.03576244\n",
      "  -0.0482939 ]]\n"
     ]
    },
    {
     "name": "stdout",
     "output_type": "stream",
     "text": [
      "Warning: Desired error not necessarily achieved due to precision loss.\n",
      "         Current function value: -3631.740234\n",
      "         Iterations: 12\n",
      "         Function evaluations: 20\n",
      "         Gradient evaluations: 31\n",
      "         Hessian evaluations: 96\n",
      "Inverse HVP took 1.59979391098 sec\n",
      "Loaded inverse HVP from output/poisoning_900_300_inception_wd-0.001-test-[15, 169].npz\n",
      "Inverse HVP took 0.000545024871826 sec\n",
      "Entering the for loop\n",
      "(1, 268203)\n",
      "Loaded inverse HVP from output/poisoning_900_300_inception_wd-0.001-test-[15, 169].npz\n",
      "Inverse HVP took 0.000597953796387 sec\n",
      "Entering the for loop\n"
     ]
    },
    {
     "name": "stderr",
     "output_type": "stream",
     "text": [
      "[iter_attack.py:160 -     iterative_attack() ] Attach_iter 18 perturbation shape: (1, 268203), perturbation: [[-1.60727359e-05  4.25094040e-05  7.41206895e-05 ... -4.49920844e-05\n",
      "  -1.10043457e-05  3.53732466e-05]]\n",
      "[iter_attack.py:160 -     iterative_attack() ] Attach_iter 18 perturbation shape: (1, 268203), perturbation: [[ 1.52662111e-07  8.74579555e-08  9.88046622e-09 ... -2.63100475e-08\n",
      "  -2.81377570e-08  7.73687869e-09]]\n"
     ]
    },
    {
     "name": "stdout",
     "output_type": "stream",
     "text": [
      "(1, 268203)\n",
      "Loaded inverse HVP from output/poisoning_900_300_inception_wd-0.001-test-[15, 169].npz\n",
      "Inverse HVP took 0.000591993331909 sec\n",
      "Entering the for loop\n",
      "(1, 268203)\n",
      "Loaded inverse HVP from output/poisoning_900_300_inception_wd-0.001-test-[15, 169].npz\n",
      "Inverse HVP took 0.00064492225647 sec\n",
      "Entering the for loop\n"
     ]
    },
    {
     "name": "stderr",
     "output_type": "stream",
     "text": [
      "[iter_attack.py:160 -     iterative_attack() ] Attach_iter 18 perturbation shape: (1, 268203), perturbation: [[-1.99247388e-05  1.68957795e-05  9.31894192e-06 ... -8.51841719e-07\n",
      "   7.06540868e-06 -1.13954766e-05]]\n",
      "[iter_attack.py:160 -     iterative_attack() ] Attach_iter 18 perturbation shape: (1, 268203), perturbation: [[ 1.32495224e-08 -1.91867588e-08 -2.19473648e-08 ...  1.91404865e-08\n",
      "  -5.37239195e-08 -3.71889506e-08]]\n"
     ]
    },
    {
     "name": "stdout",
     "output_type": "stream",
     "text": [
      "(1, 268203)\n",
      "Loaded inverse HVP from output/poisoning_900_300_inception_wd-0.001-test-[15, 169].npz\n",
      "Inverse HVP took 0.000582933425903 sec\n",
      "Entering the for loop\n",
      "(1, 268203)\n",
      "Loaded inverse HVP from output/poisoning_900_300_inception_wd-0.001-test-[15, 169].npz\n",
      "Inverse HVP took 0.000581979751587 sec\n",
      "Entering the for loop\n"
     ]
    },
    {
     "name": "stderr",
     "output_type": "stream",
     "text": [
      "[iter_attack.py:160 -     iterative_attack() ] Attach_iter 18 perturbation shape: (1, 268203), perturbation: [[ 0.02482996 -0.09439196 -0.05058944 ... -0.01219985 -0.06123618\n",
      "   0.01362591]]\n",
      "[iter_attack.py:160 -     iterative_attack() ] Attach_iter 18 perturbation shape: (1, 268203), perturbation: [[ 2.83738918e-04  5.51451922e-06 -2.93057587e-04 ... -2.07610909e-04\n",
      "   2.81919492e-05  7.63777789e-05]]\n"
     ]
    },
    {
     "name": "stdout",
     "output_type": "stream",
     "text": [
      "(1, 268203)\n",
      "Loaded inverse HVP from output/poisoning_900_300_inception_wd-0.001-test-[15, 169].npz\n",
      "Inverse HVP took 0.000579118728638 sec\n",
      "Entering the for loop\n",
      "(1, 268203)\n",
      "Loaded inverse HVP from output/poisoning_900_300_inception_wd-0.001-test-[15, 169].npz\n",
      "Inverse HVP took 0.000586986541748 sec\n",
      "Entering the for loop\n"
     ]
    },
    {
     "name": "stderr",
     "output_type": "stream",
     "text": [
      "[iter_attack.py:160 -     iterative_attack() ] Attach_iter 18 perturbation shape: (1, 268203), perturbation: [[ 0.0600279  -0.04605938  0.17600621 ...  0.06191941 -0.06816319\n",
      "  -0.16629496]]\n",
      "[iter_attack.py:160 -     iterative_attack() ] Attach_iter 18 perturbation shape: (1, 268203), perturbation: [[-0.24964641 -0.08360724  0.04712878 ... -0.01010449 -0.01908747\n",
      "   0.02098387]]\n"
     ]
    },
    {
     "name": "stdout",
     "output_type": "stream",
     "text": [
      "(1, 268203)\n",
      "Loaded inverse HVP from output/poisoning_900_300_inception_wd-0.001-test-[15, 169].npz\n",
      "Inverse HVP took 0.000611782073975 sec\n",
      "Entering the for loop\n",
      "(1, 268203)\n",
      "Loaded inverse HVP from output/poisoning_900_300_inception_wd-0.001-test-[15, 169].npz\n",
      "Inverse HVP took 0.00058913230896 sec\n",
      "Entering the for loop\n"
     ]
    },
    {
     "name": "stderr",
     "output_type": "stream",
     "text": [
      "[iter_attack.py:160 -     iterative_attack() ] Attach_iter 18 perturbation shape: (1, 268203), perturbation: [[-2.41470940e-11  3.38076789e-12  8.16240964e-11 ... -1.50201622e-11\n",
      "   5.14277648e-11 -7.30819016e-11]]\n"
     ]
    },
    {
     "name": "stdout",
     "output_type": "stream",
     "text": [
      "(1, 268203)\n",
      "10 10\n",
      "Shape (10, 2048)\n",
      "Using normal model\n",
      "LBFGS training took [59] iter.\n",
      "After training with LBFGS: \n"
     ]
    },
    {
     "name": "stderr",
     "output_type": "stream",
     "text": [
      "[genericNeuralNet.py:328 -     print_model_eval() ] Train loss (w reg) on all data: 0.016451117\n",
      "[genericNeuralNet.py:329 -     print_model_eval() ] Train loss (w/o reg) on all data: 0.0064511057\n",
      "[genericNeuralNet.py:331 -     print_model_eval() ] Test loss (w/o reg) on all data: 0.05688948\n",
      "[genericNeuralNet.py:332 -     print_model_eval() ] Train acc on all data:  0.9994444444444445\n",
      "[genericNeuralNet.py:333 -     print_model_eval() ] Test acc on all data:   0.9733333333333334\n",
      "[genericNeuralNet.py:335 -     print_model_eval() ] Norm of the mean of gradients: 0.0133181345\n",
      "[genericNeuralNet.py:336 -     print_model_eval() ] Norm of the params: 4.4721375\n",
      "[iter_attack.py:204 -     iterative_attack() ] Test_idx: 15 Test pred (full): [[0.13845994 0.8615401 ]]\n",
      "[iter_attack.py:204 -     iterative_attack() ] Test_idx: 169 Test pred (full): [[9.9907601e-01 9.2398137e-04]]\n",
      "[iter_attack.py:205 -     iterative_attack() ] ---------------------\n",
      "[iter_attack.py:210 -     iterative_attack() ] Test_idx: 15 Test pred (top): [[0.13845994 0.8615401 ]]\n",
      "[iter_attack.py:210 -     iterative_attack() ] Test_idx: 169 Test pred (top): [[9.9907601e-01 9.2398137e-04]]\n",
      "[iter_attack.py:138 -     iterative_attack() ] *** Iter: 19\n"
     ]
    },
    {
     "name": "stdout",
     "output_type": "stream",
     "text": [
      "Total number of parameters: 2048\n"
     ]
    },
    {
     "name": "stderr",
     "output_type": "stream",
     "text": [
      "[iter_attack.py:160 -     iterative_attack() ] Attach_iter 19 perturbation shape: (1, 268203), perturbation: [[ 0.33325285  0.31472784  0.24084225 ...  0.11492137 -0.15860124\n",
      "   0.03024474]]\n"
     ]
    },
    {
     "name": "stdout",
     "output_type": "stream",
     "text": [
      "Warning: Desired error not necessarily achieved due to precision loss.\n",
      "         Current function value: -3901.050537\n",
      "         Iterations: 11\n",
      "         Function evaluations: 93\n",
      "         Gradient evaluations: 92\n",
      "         Hessian evaluations: 80\n",
      "Inverse HVP took 2.78814697266 sec\n",
      "Loaded inverse HVP from output/poisoning_900_300_inception_wd-0.001-test-[15, 169].npz\n",
      "Inverse HVP took 0.000585794448853 sec\n",
      "Entering the for loop\n",
      "(1, 268203)\n",
      "Loaded inverse HVP from output/poisoning_900_300_inception_wd-0.001-test-[15, 169].npz\n",
      "Inverse HVP took 0.000580072402954 sec\n",
      "Entering the for loop\n"
     ]
    },
    {
     "name": "stderr",
     "output_type": "stream",
     "text": [
      "[iter_attack.py:160 -     iterative_attack() ] Attach_iter 19 perturbation shape: (1, 268203), perturbation: [[-4.48616483e-05  2.41026064e-05  2.63403490e-05 ...  3.62419669e-05\n",
      "  -4.94500127e-05 -4.43349854e-05]]\n",
      "[iter_attack.py:160 -     iterative_attack() ] Attach_iter 19 perturbation shape: (1, 268203), perturbation: [[-2.90139290e-09 -8.83734685e-09  2.71035834e-08 ... -7.24684170e-08\n",
      "   4.16032044e-08 -2.01567012e-08]]\n"
     ]
    },
    {
     "name": "stdout",
     "output_type": "stream",
     "text": [
      "(1, 268203)\n",
      "Loaded inverse HVP from output/poisoning_900_300_inception_wd-0.001-test-[15, 169].npz\n",
      "Inverse HVP took 0.000642061233521 sec\n",
      "Entering the for loop\n",
      "(1, 268203)\n",
      "Loaded inverse HVP from output/poisoning_900_300_inception_wd-0.001-test-[15, 169].npz\n",
      "Inverse HVP took 0.000606060028076 sec\n",
      "Entering the for loop\n"
     ]
    },
    {
     "name": "stderr",
     "output_type": "stream",
     "text": [
      "[iter_attack.py:160 -     iterative_attack() ] Attach_iter 19 perturbation shape: (1, 268203), perturbation: [[-8.62038723e-06  5.55485758e-06  4.81896132e-06 ...  5.25407222e-06\n",
      "   6.37825906e-06 -1.13240321e-06]]\n",
      "[iter_attack.py:160 -     iterative_attack() ] Attach_iter 19 perturbation shape: (1, 268203), perturbation: [[-3.04806980e-09 -4.18339852e-09 -7.41324691e-09 ...  1.96755838e-08\n",
      "   6.02559735e-09 -3.57635788e-09]]\n"
     ]
    },
    {
     "name": "stdout",
     "output_type": "stream",
     "text": [
      "(1, 268203)\n",
      "Loaded inverse HVP from output/poisoning_900_300_inception_wd-0.001-test-[15, 169].npz\n",
      "Inverse HVP took 0.00058913230896 sec\n",
      "Entering the for loop\n",
      "(1, 268203)\n",
      "Loaded inverse HVP from output/poisoning_900_300_inception_wd-0.001-test-[15, 169].npz\n",
      "Inverse HVP took 0.00058388710022 sec\n",
      "Entering the for loop\n"
     ]
    },
    {
     "name": "stderr",
     "output_type": "stream",
     "text": [
      "[iter_attack.py:160 -     iterative_attack() ] Attach_iter 19 perturbation shape: (1, 268203), perturbation: [[-0.08718755 -0.05990803 -0.04114294 ...  0.02315555 -0.02823832\n",
      "  -0.00495962]]\n",
      "[iter_attack.py:160 -     iterative_attack() ] Attach_iter 19 perturbation shape: (1, 268203), perturbation: [[ 1.20633992e-03  3.03519482e-04 -1.42548943e-03 ... -3.89148976e-04\n",
      "   1.90592546e-04  7.59132381e-05]]\n"
     ]
    },
    {
     "name": "stdout",
     "output_type": "stream",
     "text": [
      "(1, 268203)\n",
      "Loaded inverse HVP from output/poisoning_900_300_inception_wd-0.001-test-[15, 169].npz\n",
      "Inverse HVP took 0.000580072402954 sec\n",
      "Entering the for loop\n",
      "(1, 268203)\n",
      "Loaded inverse HVP from output/poisoning_900_300_inception_wd-0.001-test-[15, 169].npz\n",
      "Inverse HVP took 0.000627994537354 sec\n",
      "Entering the for loop\n"
     ]
    },
    {
     "name": "stderr",
     "output_type": "stream",
     "text": [
      "[iter_attack.py:160 -     iterative_attack() ] Attach_iter 19 perturbation shape: (1, 268203), perturbation: [[ 0.04441139 -0.07451323  0.05432355 ... -0.23152035  0.03429282\n",
      "   0.28863594]]\n",
      "[iter_attack.py:160 -     iterative_attack() ] Attach_iter 19 perturbation shape: (1, 268203), perturbation: [[-0.59878051 -0.04211605  0.18179476 ... -0.04803245  0.00243371\n",
      "   0.0166105 ]]\n"
     ]
    },
    {
     "name": "stdout",
     "output_type": "stream",
     "text": [
      "(1, 268203)\n",
      "Loaded inverse HVP from output/poisoning_900_300_inception_wd-0.001-test-[15, 169].npz\n",
      "Inverse HVP took 0.000624179840088 sec\n",
      "Entering the for loop\n",
      "(1, 268203)\n",
      "Loaded inverse HVP from output/poisoning_900_300_inception_wd-0.001-test-[15, 169].npz\n",
      "Inverse HVP took 0.00061297416687 sec\n",
      "Entering the for loop\n"
     ]
    },
    {
     "name": "stderr",
     "output_type": "stream",
     "text": [
      "[iter_attack.py:160 -     iterative_attack() ] Attach_iter 19 perturbation shape: (1, 268203), perturbation: [[-8.54747939e-11  1.61654523e-10  2.53466692e-10 ...  4.63968655e-11\n",
      "   4.13724263e-11 -5.05286854e-11]]\n"
     ]
    },
    {
     "name": "stdout",
     "output_type": "stream",
     "text": [
      "(1, 268203)\n",
      "10 10\n"
     ]
    },
    {
     "name": "stderr",
     "output_type": "stream",
     "text": [
      "[genericNeuralNet.py:328 -     print_model_eval() ] Train loss (w reg) on all data: 0.016612535\n",
      "[genericNeuralNet.py:329 -     print_model_eval() ] Train loss (w/o reg) on all data: 0.006595154\n",
      "[genericNeuralNet.py:331 -     print_model_eval() ] Test loss (w/o reg) on all data: 0.056362864\n",
      "[genericNeuralNet.py:332 -     print_model_eval() ] Train acc on all data:  0.9994444444444445\n",
      "[genericNeuralNet.py:333 -     print_model_eval() ] Test acc on all data:   0.9733333333333334\n",
      "[genericNeuralNet.py:335 -     print_model_eval() ] Norm of the mean of gradients: 0.014106483\n",
      "[genericNeuralNet.py:336 -     print_model_eval() ] Norm of the params: 4.4760213\n"
     ]
    },
    {
     "name": "stdout",
     "output_type": "stream",
     "text": [
      "Shape (10, 2048)\n",
      "Using normal model\n",
      "LBFGS training took [51] iter.\n",
      "After training with LBFGS: \n"
     ]
    },
    {
     "name": "stderr",
     "output_type": "stream",
     "text": [
      "[iter_attack.py:204 -     iterative_attack() ] Test_idx: 15 Test pred (full): [[0.10931631 0.8906837 ]]\n",
      "[iter_attack.py:204 -     iterative_attack() ] Test_idx: 169 Test pred (full): [[9.9909222e-01 9.0782344e-04]]\n",
      "[iter_attack.py:205 -     iterative_attack() ] ---------------------\n",
      "[iter_attack.py:210 -     iterative_attack() ] Test_idx: 15 Test pred (top): [[0.10931631 0.8906837 ]]\n",
      "[iter_attack.py:210 -     iterative_attack() ] Test_idx: 169 Test pred (top): [[9.9909222e-01 9.0782344e-04]]\n",
      "[iter_attack.py:138 -     iterative_attack() ] *** Iter: 20\n"
     ]
    },
    {
     "name": "stdout",
     "output_type": "stream",
     "text": [
      "Total number of parameters: 2048\n"
     ]
    },
    {
     "name": "stderr",
     "output_type": "stream",
     "text": [
      "[iter_attack.py:160 -     iterative_attack() ] Attach_iter 20 perturbation shape: (1, 268203), perturbation: [[ 0.10458376  0.13529015  0.10937454 ...  0.53734386 -0.08091956\n",
      "  -0.0922574 ]]\n"
     ]
    },
    {
     "name": "stdout",
     "output_type": "stream",
     "text": [
      "Warning: Desired error not necessarily achieved due to precision loss.\n",
      "         Current function value: -4141.026367\n",
      "         Iterations: 10\n",
      "         Function evaluations: 130\n",
      "         Gradient evaluations: 126\n",
      "         Hessian evaluations: 73\n",
      "Inverse HVP took 3.48059201241 sec\n",
      "Loaded inverse HVP from output/poisoning_900_300_inception_wd-0.001-test-[15, 169].npz\n",
      "Inverse HVP took 0.000543117523193 sec\n",
      "Entering the for loop\n",
      "(1, 268203)\n",
      "Loaded inverse HVP from output/poisoning_900_300_inception_wd-0.001-test-[15, 169].npz\n",
      "Inverse HVP took 0.000579118728638 sec\n",
      "Entering the for loop\n"
     ]
    },
    {
     "name": "stderr",
     "output_type": "stream",
     "text": [
      "[iter_attack.py:160 -     iterative_attack() ] Attach_iter 20 perturbation shape: (1, 268203), perturbation: [[-5.26343592e-06  2.23595707e-05  8.22806214e-06 ... -1.62999950e-05\n",
      "   4.69066072e-06  1.54099816e-05]]\n",
      "[iter_attack.py:160 -     iterative_attack() ] Attach_iter 20 perturbation shape: (1, 268203), perturbation: [[ 1.37544607e-08  6.69840627e-09  1.00738635e-08 ... -4.85030638e-09\n",
      "  -2.62815703e-09  4.56781146e-09]]\n"
     ]
    },
    {
     "name": "stdout",
     "output_type": "stream",
     "text": [
      "(1, 268203)\n",
      "Loaded inverse HVP from output/poisoning_900_300_inception_wd-0.001-test-[15, 169].npz\n",
      "Inverse HVP took 0.000585079193115 sec\n",
      "Entering the for loop\n",
      "(1, 268203)\n",
      "Loaded inverse HVP from output/poisoning_900_300_inception_wd-0.001-test-[15, 169].npz\n",
      "Inverse HVP took 0.000579118728638 sec\n",
      "Entering the for loop\n"
     ]
    },
    {
     "name": "stderr",
     "output_type": "stream",
     "text": [
      "[iter_attack.py:160 -     iterative_attack() ] Attach_iter 20 perturbation shape: (1, 268203), perturbation: [[-2.26273187e-06  3.90945388e-07  1.66974792e-06 ...  6.20114861e-07\n",
      "   1.04629407e-06 -1.20941479e-06]]\n",
      "[iter_attack.py:160 -     iterative_attack() ] Attach_iter 20 perturbation shape: (1, 268203), perturbation: [[-1.61686398e-08  1.75016446e-09 -1.76441368e-08 ... -6.34921591e-08\n",
      "   6.37587476e-08  8.36144523e-08]]\n"
     ]
    },
    {
     "name": "stdout",
     "output_type": "stream",
     "text": [
      "(1, 268203)\n",
      "Loaded inverse HVP from output/poisoning_900_300_inception_wd-0.001-test-[15, 169].npz\n",
      "Inverse HVP took 0.000579833984375 sec\n",
      "Entering the for loop\n",
      "(1, 268203)\n",
      "Loaded inverse HVP from output/poisoning_900_300_inception_wd-0.001-test-[15, 169].npz\n",
      "Inverse HVP took 0.000632047653198 sec\n",
      "Entering the for loop\n"
     ]
    },
    {
     "name": "stderr",
     "output_type": "stream",
     "text": [
      "[iter_attack.py:160 -     iterative_attack() ] Attach_iter 20 perturbation shape: (1, 268203), perturbation: [[-0.03655875 -0.115673    0.03094201 ...  0.00181952 -0.02403134\n",
      "  -0.01867479]]\n",
      "[iter_attack.py:160 -     iterative_attack() ] Attach_iter 20 perturbation shape: (1, 268203), perturbation: [[ 0.00283071  0.00164778 -0.00484548 ... -0.00150112  0.00049355\n",
      "   0.00039823]]\n"
     ]
    },
    {
     "name": "stdout",
     "output_type": "stream",
     "text": [
      "(1, 268203)\n",
      "Loaded inverse HVP from output/poisoning_900_300_inception_wd-0.001-test-[15, 169].npz\n",
      "Inverse HVP took 0.00059700012207 sec\n",
      "Entering the for loop\n",
      "(1, 268203)\n",
      "Loaded inverse HVP from output/poisoning_900_300_inception_wd-0.001-test-[15, 169].npz\n",
      "Inverse HVP took 0.000581979751587 sec\n",
      "Entering the for loop\n"
     ]
    },
    {
     "name": "stderr",
     "output_type": "stream",
     "text": [
      "[iter_attack.py:160 -     iterative_attack() ] Attach_iter 20 perturbation shape: (1, 268203), perturbation: [[ 0.08930963 -0.1162913   0.19118756 ...  0.28522798 -0.09510264\n",
      "  -0.25418589]]\n",
      "[iter_attack.py:160 -     iterative_attack() ] Attach_iter 20 perturbation shape: (1, 268203), perturbation: [[-0.54779565 -0.05457006  0.08563861 ... -0.05941569  0.01624278\n",
      "   0.02234361]]\n"
     ]
    },
    {
     "name": "stdout",
     "output_type": "stream",
     "text": [
      "(1, 268203)\n",
      "Loaded inverse HVP from output/poisoning_900_300_inception_wd-0.001-test-[15, 169].npz\n",
      "Inverse HVP took 0.000582933425903 sec\n",
      "Entering the for loop\n",
      "(1, 268203)\n",
      "Loaded inverse HVP from output/poisoning_900_300_inception_wd-0.001-test-[15, 169].npz\n",
      "Inverse HVP took 0.000582933425903 sec\n",
      "Entering the for loop\n"
     ]
    },
    {
     "name": "stderr",
     "output_type": "stream",
     "text": [
      "[iter_attack.py:160 -     iterative_attack() ] Attach_iter 20 perturbation shape: (1, 268203), perturbation: [[-7.91368471e-10  1.48247770e-09  1.30928357e-09 ... -4.43224540e-10\n",
      "   7.31492034e-10 -5.94441385e-10]]\n"
     ]
    },
    {
     "name": "stdout",
     "output_type": "stream",
     "text": [
      "(1, 268203)\n",
      "10 10\n",
      "Shape (10, 2048)\n",
      "Using normal model\n"
     ]
    },
    {
     "name": "stderr",
     "output_type": "stream",
     "text": [
      "[genericNeuralNet.py:328 -     print_model_eval() ] Train loss (w reg) on all data: 0.017067552\n",
      "[genericNeuralNet.py:329 -     print_model_eval() ] Train loss (w/o reg) on all data: 0.006859341\n",
      "[genericNeuralNet.py:331 -     print_model_eval() ] Test loss (w/o reg) on all data: 0.05887326\n",
      "[genericNeuralNet.py:332 -     print_model_eval() ] Train acc on all data:  0.9994444444444445\n",
      "[genericNeuralNet.py:333 -     print_model_eval() ] Test acc on all data:   0.9733333333333334\n",
      "[genericNeuralNet.py:335 -     print_model_eval() ] Norm of the mean of gradients: 0.015157584\n",
      "[genericNeuralNet.py:336 -     print_model_eval() ] Norm of the params: 4.5184526\n",
      "[iter_attack.py:204 -     iterative_attack() ] Test_idx: 15 Test pred (full): [[0.08622105 0.91377896]]\n",
      "[iter_attack.py:204 -     iterative_attack() ] Test_idx: 169 Test pred (full): [[9.990113e-01 9.886576e-04]]\n",
      "[iter_attack.py:205 -     iterative_attack() ] ---------------------\n",
      "[iter_attack.py:210 -     iterative_attack() ] Test_idx: 15 Test pred (top): [[0.08622105 0.91377896]]\n",
      "[iter_attack.py:210 -     iterative_attack() ] Test_idx: 169 Test pred (top): [[9.990113e-01 9.886576e-04]]\n",
      "[iter_attack.py:138 -     iterative_attack() ] *** Iter: 21\n"
     ]
    },
    {
     "name": "stdout",
     "output_type": "stream",
     "text": [
      "LBFGS training took [58] iter.\n",
      "After training with LBFGS: \n",
      "Total number of parameters: 2048\n"
     ]
    },
    {
     "name": "stderr",
     "output_type": "stream",
     "text": [
      "[iter_attack.py:160 -     iterative_attack() ] Attach_iter 21 perturbation shape: (1, 268203), perturbation: [[-0.08948465  0.00172953  0.25396466 ...  0.15075418  0.15462041\n",
      "  -0.27399972]]\n"
     ]
    },
    {
     "name": "stdout",
     "output_type": "stream",
     "text": [
      "Warning: Desired error not necessarily achieved due to precision loss.\n",
      "         Current function value: -4300.692383\n",
      "         Iterations: 9\n",
      "         Function evaluations: 152\n",
      "         Gradient evaluations: 149\n",
      "         Hessian evaluations: 56\n",
      "Inverse HVP took 3.81313896179 sec\n",
      "Loaded inverse HVP from output/poisoning_900_300_inception_wd-0.001-test-[15, 169].npz\n",
      "Inverse HVP took 0.000572919845581 sec\n",
      "Entering the for loop\n",
      "(1, 268203)\n",
      "Loaded inverse HVP from output/poisoning_900_300_inception_wd-0.001-test-[15, 169].npz\n",
      "Inverse HVP took 0.000646829605103 sec\n",
      "Entering the for loop\n"
     ]
    },
    {
     "name": "stderr",
     "output_type": "stream",
     "text": [
      "[iter_attack.py:160 -     iterative_attack() ] Attach_iter 21 perturbation shape: (1, 268203), perturbation: [[-2.47517219e-05  1.10660621e-05  3.54021972e-06 ...  4.00455428e-06\n",
      "  -1.24992482e-06 -1.99459228e-05]]\n",
      "[iter_attack.py:160 -     iterative_attack() ] Attach_iter 21 perturbation shape: (1, 268203), perturbation: [[ 1.85915816e-09 -3.05485859e-09  8.29028401e-09 ... -2.63575526e-08\n",
      "   1.05225899e-08  2.27836350e-09]]\n"
     ]
    },
    {
     "name": "stdout",
     "output_type": "stream",
     "text": [
      "(1, 268203)\n",
      "Loaded inverse HVP from output/poisoning_900_300_inception_wd-0.001-test-[15, 169].npz\n",
      "Inverse HVP took 0.000638961791992 sec\n",
      "Entering the for loop\n",
      "(1, 268203)\n",
      "Loaded inverse HVP from output/poisoning_900_300_inception_wd-0.001-test-[15, 169].npz\n",
      "Inverse HVP took 0.000586986541748 sec\n",
      "Entering the for loop\n"
     ]
    },
    {
     "name": "stderr",
     "output_type": "stream",
     "text": [
      "[iter_attack.py:160 -     iterative_attack() ] Attach_iter 21 perturbation shape: (1, 268203), perturbation: [[-1.42311694e-06  1.50766584e-06  1.11846509e-06 ...  9.24220558e-08\n",
      "  -3.11524417e-07 -4.88536671e-07]]\n",
      "[iter_attack.py:160 -     iterative_attack() ] Attach_iter 21 perturbation shape: (1, 268203), perturbation: [[-1.28788315e-07  3.78566511e-08 -2.48858498e-08 ... -1.12396123e-07\n",
      "   1.09545901e-07  4.29032312e-08]]\n"
     ]
    },
    {
     "name": "stdout",
     "output_type": "stream",
     "text": [
      "(1, 268203)\n",
      "Loaded inverse HVP from output/poisoning_900_300_inception_wd-0.001-test-[15, 169].npz\n",
      "Inverse HVP took 0.000620126724243 sec\n",
      "Entering the for loop\n",
      "(1, 268203)\n",
      "Loaded inverse HVP from output/poisoning_900_300_inception_wd-0.001-test-[15, 169].npz\n",
      "Inverse HVP took 0.000593900680542 sec\n",
      "Entering the for loop\n"
     ]
    },
    {
     "name": "stderr",
     "output_type": "stream",
     "text": [
      "[iter_attack.py:160 -     iterative_attack() ] Attach_iter 21 perturbation shape: (1, 268203), perturbation: [[-0.14230408 -0.03995562 -0.0242581  ...  0.07593644 -0.02906565\n",
      "  -0.01601459]]\n",
      "[iter_attack.py:160 -     iterative_attack() ] Attach_iter 21 perturbation shape: (1, 268203), perturbation: [[ 0.00180354  0.00267057 -0.00753859 ... -0.00182064  0.00031771\n",
      "   0.00020777]]\n"
     ]
    },
    {
     "name": "stdout",
     "output_type": "stream",
     "text": [
      "(1, 268203)\n",
      "Loaded inverse HVP from output/poisoning_900_300_inception_wd-0.001-test-[15, 169].npz\n",
      "Inverse HVP took 0.000579833984375 sec\n",
      "Entering the for loop\n",
      "(1, 268203)\n",
      "Loaded inverse HVP from output/poisoning_900_300_inception_wd-0.001-test-[15, 169].npz\n",
      "Inverse HVP took 0.000586032867432 sec\n",
      "Entering the for loop\n"
     ]
    },
    {
     "name": "stderr",
     "output_type": "stream",
     "text": [
      "[iter_attack.py:160 -     iterative_attack() ] Attach_iter 21 perturbation shape: (1, 268203), perturbation: [[-0.05287113 -0.12103913  0.05429542 ... -0.29139698 -0.05388235\n",
      "   0.28984785]]\n",
      "[iter_attack.py:160 -     iterative_attack() ] Attach_iter 21 perturbation shape: (1, 268203), perturbation: [[-0.66544497 -0.15350316  0.31353855 ... -0.08166757  0.02416646\n",
      "   0.02650201]]\n"
     ]
    },
    {
     "name": "stdout",
     "output_type": "stream",
     "text": [
      "(1, 268203)\n",
      "Loaded inverse HVP from output/poisoning_900_300_inception_wd-0.001-test-[15, 169].npz\n",
      "Inverse HVP took 0.000581026077271 sec\n",
      "Entering the for loop\n",
      "(1, 268203)\n",
      "Loaded inverse HVP from output/poisoning_900_300_inception_wd-0.001-test-[15, 169].npz\n",
      "Inverse HVP took 0.000632047653198 sec\n",
      "Entering the for loop\n"
     ]
    },
    {
     "name": "stderr",
     "output_type": "stream",
     "text": [
      "[iter_attack.py:160 -     iterative_attack() ] Attach_iter 21 perturbation shape: (1, 268203), perturbation: [[-4.98425967e-09  4.87694995e-09  4.56348648e-09 ...  3.13593596e-12\n",
      "   2.37863995e-09 -1.67522551e-09]]\n"
     ]
    },
    {
     "name": "stdout",
     "output_type": "stream",
     "text": [
      "(1, 268203)\n",
      "10 10\n",
      "Shape (10, 2048)\n",
      "Using normal model\n"
     ]
    },
    {
     "name": "stderr",
     "output_type": "stream",
     "text": [
      "[genericNeuralNet.py:328 -     print_model_eval() ] Train loss (w reg) on all data: 0.017192243\n",
      "[genericNeuralNet.py:329 -     print_model_eval() ] Train loss (w/o reg) on all data: 0.0069794552\n",
      "[genericNeuralNet.py:331 -     print_model_eval() ] Test loss (w/o reg) on all data: 0.057516962\n",
      "[genericNeuralNet.py:332 -     print_model_eval() ] Train acc on all data:  0.9994444444444445\n",
      "[genericNeuralNet.py:333 -     print_model_eval() ] Test acc on all data:   0.9733333333333334\n",
      "[genericNeuralNet.py:335 -     print_model_eval() ] Norm of the mean of gradients: 0.015763847\n",
      "[genericNeuralNet.py:336 -     print_model_eval() ] Norm of the params: 4.519466\n",
      "[iter_attack.py:204 -     iterative_attack() ] Test_idx: 15 Test pred (full): [[0.06815685 0.93184316]]\n",
      "[iter_attack.py:204 -     iterative_attack() ] Test_idx: 169 Test pred (full): [[9.990540e-01 9.460007e-04]]\n",
      "[iter_attack.py:205 -     iterative_attack() ] ---------------------\n",
      "[iter_attack.py:210 -     iterative_attack() ] Test_idx: 15 Test pred (top): [[0.06815685 0.93184316]]\n",
      "[iter_attack.py:210 -     iterative_attack() ] Test_idx: 169 Test pred (top): [[9.990540e-01 9.460007e-04]]\n",
      "[iter_attack.py:138 -     iterative_attack() ] *** Iter: 22\n"
     ]
    },
    {
     "name": "stdout",
     "output_type": "stream",
     "text": [
      "LBFGS training took [54] iter.\n",
      "After training with LBFGS: \n",
      "Total number of parameters: 2048\n"
     ]
    },
    {
     "name": "stderr",
     "output_type": "stream",
     "text": [
      "[iter_attack.py:160 -     iterative_attack() ] Attach_iter 22 perturbation shape: (1, 268203), perturbation: [[-0.05802689 -0.00992734 -0.02198317 ...  0.12091438 -0.15710318\n",
      "   0.14279458]]\n"
     ]
    },
    {
     "name": "stdout",
     "output_type": "stream",
     "text": [
      "Warning: Desired error not necessarily achieved due to precision loss.\n",
      "         Current function value: -4442.404297\n",
      "         Iterations: 8\n",
      "         Function evaluations: 68\n",
      "         Gradient evaluations: 65\n",
      "         Hessian evaluations: 47\n",
      "Inverse HVP took 1.90316081047 sec\n",
      "Loaded inverse HVP from output/poisoning_900_300_inception_wd-0.001-test-[15, 169].npz\n",
      "Inverse HVP took 0.000539064407349 sec\n",
      "Entering the for loop\n",
      "(1, 268203)\n",
      "Loaded inverse HVP from output/poisoning_900_300_inception_wd-0.001-test-[15, 169].npz\n",
      "Inverse HVP took 0.000584840774536 sec\n",
      "Entering the for loop\n"
     ]
    },
    {
     "name": "stderr",
     "output_type": "stream",
     "text": [
      "[iter_attack.py:160 -     iterative_attack() ] Attach_iter 22 perturbation shape: (1, 268203), perturbation: [[1.63776895e-06 1.13780152e-05 9.45877036e-06 ... 2.29118905e-06\n",
      "  5.31347894e-07 2.53088643e-07]]\n",
      "[iter_attack.py:160 -     iterative_attack() ] Attach_iter 22 perturbation shape: (1, 268203), perturbation: [[ 1.02913269e-08  5.29428057e-09  1.69787251e-09 ... -1.90328042e-09\n",
      "  -2.44156340e-09  3.31231514e-10]]\n"
     ]
    },
    {
     "name": "stdout",
     "output_type": "stream",
     "text": [
      "(1, 268203)\n",
      "Loaded inverse HVP from output/poisoning_900_300_inception_wd-0.001-test-[15, 169].npz\n",
      "Inverse HVP took 0.000581026077271 sec\n",
      "Entering the for loop\n",
      "(1, 268203)\n",
      "Loaded inverse HVP from output/poisoning_900_300_inception_wd-0.001-test-[15, 169].npz\n",
      "Inverse HVP took 0.000627994537354 sec\n",
      "Entering the for loop\n"
     ]
    },
    {
     "name": "stderr",
     "output_type": "stream",
     "text": [
      "[iter_attack.py:160 -     iterative_attack() ] Attach_iter 22 perturbation shape: (1, 268203), perturbation: [[ 4.44529178e-08 -8.76355415e-08  1.72976286e-07 ... -1.92683899e-07\n",
      "  -2.07434209e-06  1.62075793e-07]]\n",
      "[iter_attack.py:160 -     iterative_attack() ] Attach_iter 22 perturbation shape: (1, 268203), perturbation: [[-5.14817714e-07  7.55600666e-08 -1.54068871e-07 ... -1.02465469e-06\n",
      "  -1.21755738e-06 -5.58267971e-07]]\n"
     ]
    },
    {
     "name": "stdout",
     "output_type": "stream",
     "text": [
      "(1, 268203)\n",
      "Loaded inverse HVP from output/poisoning_900_300_inception_wd-0.001-test-[15, 169].npz\n",
      "Inverse HVP took 0.000642061233521 sec\n",
      "Entering the for loop\n",
      "(1, 268203)\n",
      "Loaded inverse HVP from output/poisoning_900_300_inception_wd-0.001-test-[15, 169].npz\n",
      "Inverse HVP took 0.000575065612793 sec\n",
      "Entering the for loop\n"
     ]
    },
    {
     "name": "stderr",
     "output_type": "stream",
     "text": [
      "[iter_attack.py:160 -     iterative_attack() ] Attach_iter 22 perturbation shape: (1, 268203), perturbation: [[-0.13851693 -0.03735912  0.10198072 ... -0.04168678 -0.01700103\n",
      "  -0.03498466]]\n",
      "[iter_attack.py:160 -     iterative_attack() ] Attach_iter 22 perturbation shape: (1, 268203), perturbation: [[-1.10690505e-03  1.17984146e-03 -8.68739747e-03 ... -5.11400076e-03\n",
      "   3.83979175e-04  2.33859755e-05]]\n"
     ]
    },
    {
     "name": "stdout",
     "output_type": "stream",
     "text": [
      "(1, 268203)\n",
      "Loaded inverse HVP from output/poisoning_900_300_inception_wd-0.001-test-[15, 169].npz\n",
      "Inverse HVP took 0.000692844390869 sec\n",
      "Entering the for loop\n",
      "(1, 268203)\n",
      "Loaded inverse HVP from output/poisoning_900_300_inception_wd-0.001-test-[15, 169].npz\n",
      "Inverse HVP took 0.000578880310059 sec\n",
      "Entering the for loop\n"
     ]
    },
    {
     "name": "stderr",
     "output_type": "stream",
     "text": [
      "[iter_attack.py:160 -     iterative_attack() ] Attach_iter 22 perturbation shape: (1, 268203), perturbation: [[ 0.17132165 -0.09284687  0.25095972 ...  0.58332777 -0.02560988\n",
      "  -0.51615846]]\n",
      "[iter_attack.py:160 -     iterative_attack() ] Attach_iter 22 perturbation shape: (1, 268203), perturbation: [[-1.04141116 -0.2038147   0.15109611 ...  0.00557605 -0.00949241\n",
      "  -0.01208493]]\n"
     ]
    },
    {
     "name": "stdout",
     "output_type": "stream",
     "text": [
      "(1, 268203)\n",
      "Loaded inverse HVP from output/poisoning_900_300_inception_wd-0.001-test-[15, 169].npz\n",
      "Inverse HVP took 0.000585079193115 sec\n",
      "Entering the for loop\n",
      "(1, 268203)\n",
      "Loaded inverse HVP from output/poisoning_900_300_inception_wd-0.001-test-[15, 169].npz\n",
      "Inverse HVP took 0.000578880310059 sec\n",
      "Entering the for loop\n"
     ]
    },
    {
     "name": "stderr",
     "output_type": "stream",
     "text": [
      "[iter_attack.py:160 -     iterative_attack() ] Attach_iter 22 perturbation shape: (1, 268203), perturbation: [[-3.19645252e-08  3.09030561e-08  4.91880137e-09 ... -4.54690188e-08\n",
      "   4.34202150e-08 -2.10651194e-08]]\n"
     ]
    },
    {
     "name": "stdout",
     "output_type": "stream",
     "text": [
      "(1, 268203)\n",
      "10 10\n",
      "Shape (10, 2048)\n",
      "Using normal model\n",
      "LBFGS training took [62] iter.\n",
      "After training with LBFGS: \n"
     ]
    },
    {
     "name": "stderr",
     "output_type": "stream",
     "text": [
      "[genericNeuralNet.py:328 -     print_model_eval() ] Train loss (w reg) on all data: 0.017671697\n",
      "[genericNeuralNet.py:329 -     print_model_eval() ] Train loss (w/o reg) on all data: 0.007254539\n",
      "[genericNeuralNet.py:331 -     print_model_eval() ] Test loss (w/o reg) on all data: 0.061102137\n",
      "[genericNeuralNet.py:332 -     print_model_eval() ] Train acc on all data:  0.9988888888888889\n",
      "[genericNeuralNet.py:333 -     print_model_eval() ] Test acc on all data:   0.9733333333333334\n",
      "[genericNeuralNet.py:335 -     print_model_eval() ] Norm of the mean of gradients: 0.016615378\n",
      "[genericNeuralNet.py:336 -     print_model_eval() ] Norm of the params: 4.5644627\n",
      "[iter_attack.py:204 -     iterative_attack() ] Test_idx: 15 Test pred (full): [[0.05263743 0.9473626 ]]\n",
      "[iter_attack.py:204 -     iterative_attack() ] Test_idx: 169 Test pred (full): [[0.998976   0.00102402]]\n",
      "[iter_attack.py:205 -     iterative_attack() ] ---------------------\n",
      "[iter_attack.py:210 -     iterative_attack() ] Test_idx: 15 Test pred (top): [[0.05263743 0.9473626 ]]\n",
      "[iter_attack.py:210 -     iterative_attack() ] Test_idx: 169 Test pred (top): [[0.998976   0.00102402]]\n",
      "[iter_attack.py:138 -     iterative_attack() ] *** Iter: 23\n"
     ]
    },
    {
     "name": "stdout",
     "output_type": "stream",
     "text": [
      "Total number of parameters: 2048\n"
     ]
    },
    {
     "name": "stderr",
     "output_type": "stream",
     "text": [
      "[iter_attack.py:160 -     iterative_attack() ] Attach_iter 23 perturbation shape: (1, 268203), perturbation: [[ 0.20814373  0.26548994  0.58869541 ...  0.19199361  0.17888224\n",
      "  -0.33754587]]\n"
     ]
    },
    {
     "name": "stdout",
     "output_type": "stream",
     "text": [
      "Warning: Desired error not necessarily achieved due to precision loss.\n",
      "         Current function value: -4538.933105\n",
      "         Iterations: 9\n",
      "         Function evaluations: 164\n",
      "         Gradient evaluations: 158\n",
      "         Hessian evaluations: 53\n",
      "Inverse HVP took 3.91145300865 sec\n",
      "Loaded inverse HVP from output/poisoning_900_300_inception_wd-0.001-test-[15, 169].npz\n",
      "Inverse HVP took 0.000540971755981 sec\n",
      "Entering the for loop\n",
      "(1, 268203)\n",
      "Loaded inverse HVP from output/poisoning_900_300_inception_wd-0.001-test-[15, 169].npz\n",
      "Inverse HVP took 0.000602006912231 sec\n",
      "Entering the for loop\n"
     ]
    },
    {
     "name": "stderr",
     "output_type": "stream",
     "text": [
      "[iter_attack.py:160 -     iterative_attack() ] Attach_iter 23 perturbation shape: (1, 268203), perturbation: [[ 9.38904577e-07  9.73181795e-06  8.77238836e-06 ...  1.41484418e-06\n",
      "  -1.25100587e-06 -4.86829049e-06]]\n",
      "[iter_attack.py:160 -     iterative_attack() ] Attach_iter 23 perturbation shape: (1, 268203), perturbation: [[ 1.65271241e-09  8.32534153e-10  3.52444185e-09 ... -1.08857217e-08\n",
      "  -9.26081101e-10  2.37472797e-09]]\n"
     ]
    },
    {
     "name": "stdout",
     "output_type": "stream",
     "text": [
      "(1, 268203)\n",
      "Loaded inverse HVP from output/poisoning_900_300_inception_wd-0.001-test-[15, 169].npz\n",
      "Inverse HVP took 0.00062108039856 sec\n",
      "Entering the for loop\n",
      "(1, 268203)\n",
      "Loaded inverse HVP from output/poisoning_900_300_inception_wd-0.001-test-[15, 169].npz\n",
      "Inverse HVP took 0.000586986541748 sec\n",
      "Entering the for loop\n"
     ]
    },
    {
     "name": "stderr",
     "output_type": "stream",
     "text": [
      "[iter_attack.py:160 -     iterative_attack() ] Attach_iter 23 perturbation shape: (1, 268203), perturbation: [[-8.68540155e-07 -3.05554158e-06  3.52788538e-06 ... -4.59265181e-07\n",
      "  -6.79766481e-06  2.13323551e-06]]\n",
      "[iter_attack.py:160 -     iterative_attack() ] Attach_iter 23 perturbation shape: (1, 268203), perturbation: [[-1.94958920e-06  6.39051109e-07  2.85309227e-07 ... -2.94305210e-06\n",
      "  -4.80489962e-06 -7.02048601e-06]]\n"
     ]
    },
    {
     "name": "stdout",
     "output_type": "stream",
     "text": [
      "(1, 268203)\n",
      "Loaded inverse HVP from output/poisoning_900_300_inception_wd-0.001-test-[15, 169].npz\n",
      "Inverse HVP took 0.000579833984375 sec\n",
      "Entering the for loop\n",
      "(1, 268203)\n",
      "Loaded inverse HVP from output/poisoning_900_300_inception_wd-0.001-test-[15, 169].npz\n",
      "Inverse HVP took 0.00059700012207 sec\n",
      "Entering the for loop\n"
     ]
    },
    {
     "name": "stderr",
     "output_type": "stream",
     "text": [
      "[iter_attack.py:160 -     iterative_attack() ] Attach_iter 23 perturbation shape: (1, 268203), perturbation: [[-0.07196642 -0.06193798 -0.05613809 ...  0.03117751 -0.00821095\n",
      "   0.00132581]]\n",
      "[iter_attack.py:160 -     iterative_attack() ] Attach_iter 23 perturbation shape: (1, 268203), perturbation: [[-0.00414487  0.00181121 -0.00838446 ... -0.00720531  0.00142145\n",
      "   0.00017928]]\n"
     ]
    },
    {
     "name": "stdout",
     "output_type": "stream",
     "text": [
      "(1, 268203)\n",
      "Loaded inverse HVP from output/poisoning_900_300_inception_wd-0.001-test-[15, 169].npz\n",
      "Inverse HVP took 0.000582218170166 sec\n",
      "Entering the for loop\n",
      "(1, 268203)\n",
      "Loaded inverse HVP from output/poisoning_900_300_inception_wd-0.001-test-[15, 169].npz\n",
      "Inverse HVP took 0.000585079193115 sec\n",
      "Entering the for loop\n"
     ]
    },
    {
     "name": "stderr",
     "output_type": "stream",
     "text": [
      "[iter_attack.py:160 -     iterative_attack() ] Attach_iter 23 perturbation shape: (1, 268203), perturbation: [[-0.01261715 -0.05354415 -0.04670653 ... -0.34916395 -0.07730958\n",
      "   0.44513163]]\n",
      "[iter_attack.py:160 -     iterative_attack() ] Attach_iter 23 perturbation shape: (1, 268203), perturbation: [[ 0.78804147  0.34032455  0.02033862 ... -0.03571351  0.04052094\n",
      "   0.0457592 ]]\n"
     ]
    },
    {
     "name": "stdout",
     "output_type": "stream",
     "text": [
      "(1, 268203)\n",
      "Loaded inverse HVP from output/poisoning_900_300_inception_wd-0.001-test-[15, 169].npz\n",
      "Inverse HVP took 0.000576972961426 sec\n",
      "Entering the for loop\n",
      "(1, 268203)\n",
      "Loaded inverse HVP from output/poisoning_900_300_inception_wd-0.001-test-[15, 169].npz\n",
      "Inverse HVP took 0.000581026077271 sec\n",
      "Entering the for loop\n"
     ]
    },
    {
     "name": "stderr",
     "output_type": "stream",
     "text": [
      "[iter_attack.py:160 -     iterative_attack() ] Attach_iter 23 perturbation shape: (1, 268203), perturbation: [[-1.06746590e-07  1.42414933e-08  8.71143513e-09 ... -8.92759928e-08\n",
      "   5.51539969e-09  8.71074235e-09]]\n"
     ]
    },
    {
     "name": "stdout",
     "output_type": "stream",
     "text": [
      "(1, 268203)\n",
      "10 10\n"
     ]
    },
    {
     "name": "stderr",
     "output_type": "stream",
     "text": [
      "[genericNeuralNet.py:328 -     print_model_eval() ] Train loss (w reg) on all data: 0.01778057\n",
      "[genericNeuralNet.py:329 -     print_model_eval() ] Train loss (w/o reg) on all data: 0.0073699327\n",
      "[genericNeuralNet.py:331 -     print_model_eval() ] Test loss (w/o reg) on all data: 0.058969244\n",
      "[genericNeuralNet.py:332 -     print_model_eval() ] Train acc on all data:  0.9983333333333333\n",
      "[genericNeuralNet.py:333 -     print_model_eval() ] Test acc on all data:   0.9733333333333334\n",
      "[genericNeuralNet.py:335 -     print_model_eval() ] Norm of the mean of gradients: 0.017053444\n",
      "[genericNeuralNet.py:336 -     print_model_eval() ] Norm of the params: 4.5630336\n"
     ]
    },
    {
     "name": "stdout",
     "output_type": "stream",
     "text": [
      "Shape (10, 2048)\n",
      "Using normal model\n",
      "LBFGS training took [46] iter.\n",
      "After training with LBFGS: \n"
     ]
    },
    {
     "name": "stderr",
     "output_type": "stream",
     "text": [
      "[iter_attack.py:204 -     iterative_attack() ] Test_idx: 15 Test pred (full): [[0.04140466 0.9585953 ]]\n",
      "[iter_attack.py:204 -     iterative_attack() ] Test_idx: 169 Test pred (full): [[0.9989981  0.00100187]]\n",
      "[iter_attack.py:205 -     iterative_attack() ] ---------------------\n",
      "[iter_attack.py:210 -     iterative_attack() ] Test_idx: 15 Test pred (top): [[0.04140466 0.9585953 ]]\n",
      "[iter_attack.py:210 -     iterative_attack() ] Test_idx: 169 Test pred (top): [[0.9989981  0.00100187]]\n",
      "[iter_attack.py:138 -     iterative_attack() ] *** Iter: 24\n"
     ]
    },
    {
     "name": "stdout",
     "output_type": "stream",
     "text": [
      "Total number of parameters: 2048\n"
     ]
    },
    {
     "name": "stderr",
     "output_type": "stream",
     "text": [
      "[iter_attack.py:160 -     iterative_attack() ] Attach_iter 24 perturbation shape: (1, 268203), perturbation: [[-0.11049651 -0.24724853 -0.26023796 ...  0.33339766 -0.43845218\n",
      "   0.30414498]]\n"
     ]
    },
    {
     "name": "stdout",
     "output_type": "stream",
     "text": [
      "Warning: Desired error not necessarily achieved due to precision loss.\n",
      "         Current function value: -4612.409180\n",
      "         Iterations: 9\n",
      "         Function evaluations: 78\n",
      "         Gradient evaluations: 75\n",
      "         Hessian evaluations: 60\n",
      "Inverse HVP took 2.21653199196 sec\n",
      "Loaded inverse HVP from output/poisoning_900_300_inception_wd-0.001-test-[15, 169].npz\n",
      "Inverse HVP took 0.000540018081665 sec\n",
      "Entering the for loop\n",
      "(1, 268203)\n",
      "Loaded inverse HVP from output/poisoning_900_300_inception_wd-0.001-test-[15, 169].npz\n",
      "Inverse HVP took 0.000582933425903 sec\n",
      "Entering the for loop\n"
     ]
    },
    {
     "name": "stderr",
     "output_type": "stream",
     "text": [
      "[iter_attack.py:160 -     iterative_attack() ] Attach_iter 24 perturbation shape: (1, 268203), perturbation: [[ 7.00338205e-08  4.17845649e-06  2.55868736e-06 ...  4.72206168e-08\n",
      "  -1.80308419e-07 -5.70481404e-08]]\n",
      "[iter_attack.py:160 -     iterative_attack() ] Attach_iter 24 perturbation shape: (1, 268203), perturbation: [[ 1.49386148e-09  1.13640075e-09  1.29247113e-10 ... -2.90214408e-09\n",
      "  -1.32033873e-09  7.85181364e-10]]\n"
     ]
    },
    {
     "name": "stdout",
     "output_type": "stream",
     "text": [
      "(1, 268203)\n",
      "Loaded inverse HVP from output/poisoning_900_300_inception_wd-0.001-test-[15, 169].npz\n",
      "Inverse HVP took 0.000685214996338 sec\n",
      "Entering the for loop\n",
      "(1, 268203)\n",
      "Loaded inverse HVP from output/poisoning_900_300_inception_wd-0.001-test-[15, 169].npz\n",
      "Inverse HVP took 0.000591993331909 sec\n",
      "Entering the for loop\n"
     ]
    },
    {
     "name": "stderr",
     "output_type": "stream",
     "text": [
      "[iter_attack.py:160 -     iterative_attack() ] Attach_iter 24 perturbation shape: (1, 268203), perturbation: [[-7.26076905e-06 -2.60071611e-05  1.20125396e-05 ... -1.50149481e-05\n",
      "  -2.44864168e-05  1.49715079e-05]]\n",
      "[iter_attack.py:160 -     iterative_attack() ] Attach_iter 24 perturbation shape: (1, 268203), perturbation: [[-1.20653876e-05  4.78937181e-06  2.21562141e-06 ... -3.29443174e-06\n",
      "  -3.07201590e-05 -3.85461390e-05]]\n"
     ]
    },
    {
     "name": "stdout",
     "output_type": "stream",
     "text": [
      "(1, 268203)\n",
      "Loaded inverse HVP from output/poisoning_900_300_inception_wd-0.001-test-[15, 169].npz\n",
      "Inverse HVP took 0.000576972961426 sec\n",
      "Entering the for loop\n",
      "(1, 268203)\n",
      "Loaded inverse HVP from output/poisoning_900_300_inception_wd-0.001-test-[15, 169].npz\n",
      "Inverse HVP took 0.000592947006226 sec\n",
      "Entering the for loop\n"
     ]
    },
    {
     "name": "stderr",
     "output_type": "stream",
     "text": [
      "[iter_attack.py:160 -     iterative_attack() ] Attach_iter 24 perturbation shape: (1, 268203), perturbation: [[-0.16021292 -0.02396154  0.12624726 ... -0.05822438 -0.00199622\n",
      "  -0.02383025]]\n",
      "[iter_attack.py:160 -     iterative_attack() ] Attach_iter 24 perturbation shape: (1, 268203), perturbation: [[-0.01465074  0.00326994 -0.00892491 ... -0.00976963  0.00192046\n",
      "   0.00238089]]\n"
     ]
    },
    {
     "name": "stdout",
     "output_type": "stream",
     "text": [
      "(1, 268203)\n",
      "Loaded inverse HVP from output/poisoning_900_300_inception_wd-0.001-test-[15, 169].npz\n",
      "Inverse HVP took 0.000624895095825 sec\n",
      "Entering the for loop\n",
      "(1, 268203)\n",
      "Loaded inverse HVP from output/poisoning_900_300_inception_wd-0.001-test-[15, 169].npz\n",
      "Inverse HVP took 0.000575065612793 sec\n",
      "Entering the for loop\n"
     ]
    },
    {
     "name": "stderr",
     "output_type": "stream",
     "text": [
      "[iter_attack.py:160 -     iterative_attack() ] Attach_iter 24 perturbation shape: (1, 268203), perturbation: [[ 0.19667915 -0.12269337  0.27790636 ...  0.523112   -0.2314373\n",
      "  -0.38042998]]\n",
      "[iter_attack.py:160 -     iterative_attack() ] Attach_iter 24 perturbation shape: (1, 268203), perturbation: [[-1.65705454 -0.38550925  0.25335956 ... -0.05620843 -0.01290798\n",
      "   0.0210837 ]]\n"
     ]
    },
    {
     "name": "stdout",
     "output_type": "stream",
     "text": [
      "(1, 268203)\n",
      "Loaded inverse HVP from output/poisoning_900_300_inception_wd-0.001-test-[15, 169].npz\n",
      "Inverse HVP took 0.000591993331909 sec\n",
      "Entering the for loop\n",
      "(1, 268203)\n",
      "Loaded inverse HVP from output/poisoning_900_300_inception_wd-0.001-test-[15, 169].npz\n",
      "Inverse HVP took 0.00059986114502 sec\n",
      "Entering the for loop\n"
     ]
    },
    {
     "name": "stderr",
     "output_type": "stream",
     "text": [
      "[iter_attack.py:160 -     iterative_attack() ] Attach_iter 24 perturbation shape: (1, 268203), perturbation: [[-4.36760956e-07 -1.88324407e-07  9.83771073e-08 ... -2.57092921e-07\n",
      "   2.60475275e-07 -1.38581484e-07]]\n"
     ]
    },
    {
     "name": "stdout",
     "output_type": "stream",
     "text": [
      "(1, 268203)\n",
      "10 10\n",
      "Shape (10, 2048)\n",
      "Using normal model\n",
      "LBFGS training took [57] iter.\n",
      "After training with LBFGS: \n"
     ]
    },
    {
     "name": "stderr",
     "output_type": "stream",
     "text": [
      "[genericNeuralNet.py:328 -     print_model_eval() ] Train loss (w reg) on all data: 0.01825146\n",
      "[genericNeuralNet.py:329 -     print_model_eval() ] Train loss (w/o reg) on all data: 0.007640855\n",
      "[genericNeuralNet.py:331 -     print_model_eval() ] Test loss (w/o reg) on all data: 0.06268108\n",
      "[genericNeuralNet.py:332 -     print_model_eval() ] Train acc on all data:  0.9977777777777778\n",
      "[genericNeuralNet.py:333 -     print_model_eval() ] Test acc on all data:   0.9733333333333334\n",
      "[genericNeuralNet.py:335 -     print_model_eval() ] Norm of the mean of gradients: 0.01787963\n",
      "[genericNeuralNet.py:336 -     print_model_eval() ] Norm of the params: 4.6066484\n",
      "[iter_attack.py:204 -     iterative_attack() ] Test_idx: 15 Test pred (full): [[0.0320662  0.96793383]]\n",
      "[iter_attack.py:204 -     iterative_attack() ] Test_idx: 169 Test pred (full): [[0.99895537 0.00104462]]\n",
      "[iter_attack.py:205 -     iterative_attack() ] ---------------------\n",
      "[iter_attack.py:210 -     iterative_attack() ] Test_idx: 15 Test pred (top): [[0.0320662  0.96793383]]\n",
      "[iter_attack.py:210 -     iterative_attack() ] Test_idx: 169 Test pred (top): [[0.99895537 0.00104462]]\n",
      "[iter_attack.py:138 -     iterative_attack() ] *** Iter: 25\n"
     ]
    },
    {
     "name": "stdout",
     "output_type": "stream",
     "text": [
      "Total number of parameters: 2048\n"
     ]
    },
    {
     "name": "stderr",
     "output_type": "stream",
     "text": [
      "[iter_attack.py:160 -     iterative_attack() ] Attach_iter 25 perturbation shape: (1, 268203), perturbation: [[ 0.38466173  0.5393905   0.77238947 ...  0.14536774  0.02123174\n",
      "  -0.31311744]]\n"
     ]
    },
    {
     "name": "stdout",
     "output_type": "stream",
     "text": [
      "Warning: Desired error not necessarily achieved due to precision loss.\n",
      "         Current function value: -4664.964844\n",
      "         Iterations: 9\n",
      "         Function evaluations: 77\n",
      "         Gradient evaluations: 74\n",
      "         Hessian evaluations: 55\n",
      "Inverse HVP took 2.13818192482 sec\n",
      "Loaded inverse HVP from output/poisoning_900_300_inception_wd-0.001-test-[15, 169].npz\n",
      "Inverse HVP took 0.000592947006226 sec\n",
      "Entering the for loop\n",
      "(1, 268203)\n",
      "Loaded inverse HVP from output/poisoning_900_300_inception_wd-0.001-test-[15, 169].npz\n",
      "Inverse HVP took 0.000586032867432 sec\n",
      "Entering the for loop\n"
     ]
    },
    {
     "name": "stderr",
     "output_type": "stream",
     "text": [
      "[iter_attack.py:160 -     iterative_attack() ] Attach_iter 25 perturbation shape: (1, 268203), perturbation: [[-1.20393429e-06 -9.49902415e-08 -8.51287041e-07 ... -1.82057533e-06\n",
      "  -4.38881898e-07 -1.01355670e-06]]\n",
      "[iter_attack.py:160 -     iterative_attack() ] Attach_iter 25 perturbation shape: (1, 268203), perturbation: [[-3.92007893e-09 -3.02393732e-09  2.31598074e-09 ... -3.12952420e-09\n",
      "  -4.70685890e-09  1.63940028e-10]]\n"
     ]
    },
    {
     "name": "stdout",
     "output_type": "stream",
     "text": [
      "(1, 268203)\n",
      "Loaded inverse HVP from output/poisoning_900_300_inception_wd-0.001-test-[15, 169].npz\n",
      "Inverse HVP took 0.000581026077271 sec\n",
      "Entering the for loop\n",
      "(1, 268203)\n",
      "Loaded inverse HVP from output/poisoning_900_300_inception_wd-0.001-test-[15, 169].npz\n",
      "Inverse HVP took 0.000591039657593 sec\n",
      "Entering the for loop\n"
     ]
    },
    {
     "name": "stderr",
     "output_type": "stream",
     "text": [
      "[iter_attack.py:160 -     iterative_attack() ] Attach_iter 25 perturbation shape: (1, 268203), perturbation: [[-9.46447835e-06 -8.32790247e-05  2.10266335e-05 ... -3.50622176e-05\n",
      "  -5.61344132e-05  5.32916856e-05]]\n",
      "[iter_attack.py:160 -     iterative_attack() ] Attach_iter 25 perturbation shape: (1, 268203), perturbation: [[-2.71375229e-05  1.42674371e-05  2.16478929e-05 ... -8.35079409e-05\n",
      "  -1.26553525e-04 -1.39974378e-04]]\n"
     ]
    },
    {
     "name": "stdout",
     "output_type": "stream",
     "text": [
      "(1, 268203)\n",
      "Loaded inverse HVP from output/poisoning_900_300_inception_wd-0.001-test-[15, 169].npz\n",
      "Inverse HVP took 0.00064492225647 sec\n",
      "Entering the for loop\n",
      "(1, 268203)\n",
      "Loaded inverse HVP from output/poisoning_900_300_inception_wd-0.001-test-[15, 169].npz\n",
      "Inverse HVP took 0.000584840774536 sec\n",
      "Entering the for loop\n"
     ]
    },
    {
     "name": "stderr",
     "output_type": "stream",
     "text": [
      "[iter_attack.py:160 -     iterative_attack() ] Attach_iter 25 perturbation shape: (1, 268203), perturbation: [[-0.12065774  0.02226186 -0.08220235 ... -0.00646374 -0.06996402\n",
      "   0.05556458]]\n",
      "[iter_attack.py:160 -     iterative_attack() ] Attach_iter 25 perturbation shape: (1, 268203), perturbation: [[-0.02096887  0.01257477 -0.02604963 ... -0.01095826  0.00403257\n",
      "   0.0076139 ]]\n"
     ]
    },
    {
     "name": "stdout",
     "output_type": "stream",
     "text": [
      "(1, 268203)\n",
      "Loaded inverse HVP from output/poisoning_900_300_inception_wd-0.001-test-[15, 169].npz\n",
      "Inverse HVP took 0.000581979751587 sec\n",
      "Entering the for loop\n",
      "(1, 268203)\n",
      "Loaded inverse HVP from output/poisoning_900_300_inception_wd-0.001-test-[15, 169].npz\n",
      "Inverse HVP took 0.000575065612793 sec\n",
      "Entering the for loop\n"
     ]
    },
    {
     "name": "stderr",
     "output_type": "stream",
     "text": [
      "[iter_attack.py:160 -     iterative_attack() ] Attach_iter 25 perturbation shape: (1, 268203), perturbation: [[-0.07362951 -0.16473553  0.04907629 ... -0.40309793  0.24214612\n",
      "   0.29101691]]\n",
      "[iter_attack.py:160 -     iterative_attack() ] Attach_iter 25 perturbation shape: (1, 268203), perturbation: [[ 0.7283234   0.33399257 -0.02559513 ... -0.00983379 -0.00231271\n",
      "   0.0312569 ]]\n"
     ]
    },
    {
     "name": "stdout",
     "output_type": "stream",
     "text": [
      "(1, 268203)\n",
      "Loaded inverse HVP from output/poisoning_900_300_inception_wd-0.001-test-[15, 169].npz\n",
      "Inverse HVP took 0.000632047653198 sec\n",
      "Entering the for loop\n",
      "(1, 268203)\n",
      "Loaded inverse HVP from output/poisoning_900_300_inception_wd-0.001-test-[15, 169].npz\n",
      "Inverse HVP took 0.000578880310059 sec\n",
      "Entering the for loop\n"
     ]
    },
    {
     "name": "stderr",
     "output_type": "stream",
     "text": [
      "[iter_attack.py:160 -     iterative_attack() ] Attach_iter 25 perturbation shape: (1, 268203), perturbation: [[-1.19587673e-06 -1.66261316e-06  1.56932447e-06 ... -6.53633094e-07\n",
      "  -2.89828023e-07  2.03948701e-07]]\n"
     ]
    },
    {
     "name": "stdout",
     "output_type": "stream",
     "text": [
      "(1, 268203)\n",
      "10 10\n"
     ]
    },
    {
     "name": "stderr",
     "output_type": "stream",
     "text": [
      "[genericNeuralNet.py:328 -     print_model_eval() ] Train loss (w reg) on all data: 0.018343456\n",
      "[genericNeuralNet.py:329 -     print_model_eval() ] Train loss (w/o reg) on all data: 0.007742406\n",
      "[genericNeuralNet.py:331 -     print_model_eval() ] Test loss (w/o reg) on all data: 0.060368564\n",
      "[genericNeuralNet.py:332 -     print_model_eval() ] Train acc on all data:  0.9977777777777778\n",
      "[genericNeuralNet.py:333 -     print_model_eval() ] Test acc on all data:   0.9733333333333334\n",
      "[genericNeuralNet.py:335 -     print_model_eval() ] Norm of the mean of gradients: 0.018136667\n",
      "[genericNeuralNet.py:336 -     print_model_eval() ] Norm of the params: 4.6045737\n"
     ]
    },
    {
     "name": "stdout",
     "output_type": "stream",
     "text": [
      "Shape (10, 2048)\n",
      "Using normal model\n",
      "LBFGS training took [54] iter.\n",
      "After training with LBFGS: \n"
     ]
    },
    {
     "name": "stderr",
     "output_type": "stream",
     "text": [
      "[iter_attack.py:204 -     iterative_attack() ] Test_idx: 15 Test pred (full): [[0.025957   0.97404295]]\n",
      "[iter_attack.py:204 -     iterative_attack() ] Test_idx: 169 Test pred (full): [[0.99890804 0.001092  ]]\n",
      "[iter_attack.py:205 -     iterative_attack() ] ---------------------\n",
      "[iter_attack.py:210 -     iterative_attack() ] Test_idx: 15 Test pred (top): [[0.025957   0.97404295]]\n",
      "[iter_attack.py:210 -     iterative_attack() ] Test_idx: 169 Test pred (top): [[0.99890804 0.001092  ]]\n",
      "[iter_attack.py:138 -     iterative_attack() ] *** Iter: 26\n"
     ]
    },
    {
     "name": "stdout",
     "output_type": "stream",
     "text": [
      "Total number of parameters: 2048\n"
     ]
    },
    {
     "name": "stderr",
     "output_type": "stream",
     "text": [
      "[iter_attack.py:160 -     iterative_attack() ] Attach_iter 26 perturbation shape: (1, 268203), perturbation: [[ 0.13108562 -0.25080127 -0.53235281 ...  0.49990684 -0.41849464\n",
      "   0.19769773]]\n"
     ]
    },
    {
     "name": "stdout",
     "output_type": "stream",
     "text": [
      "Warning: Desired error not necessarily achieved due to precision loss.\n",
      "         Current function value: -4691.484375\n",
      "         Iterations: 12\n",
      "         Function evaluations: 192\n",
      "         Gradient evaluations: 189\n",
      "         Hessian evaluations: 82\n",
      "Inverse HVP took 5.01541304588 sec\n",
      "Loaded inverse HVP from output/poisoning_900_300_inception_wd-0.001-test-[15, 169].npz\n",
      "Inverse HVP took 0.000536918640137 sec\n",
      "Entering the for loop\n",
      "(1, 268203)\n",
      "Loaded inverse HVP from output/poisoning_900_300_inception_wd-0.001-test-[15, 169].npz\n",
      "Inverse HVP took 0.000579118728638 sec\n",
      "Entering the for loop\n"
     ]
    },
    {
     "name": "stderr",
     "output_type": "stream",
     "text": [
      "[iter_attack.py:160 -     iterative_attack() ] Attach_iter 26 perturbation shape: (1, 268203), perturbation: [[-1.40758937e-06  2.90009211e-07 -4.35846090e-07 ... -4.22577386e-07\n",
      "   1.30159549e-06 -3.64089715e-07]]\n",
      "[iter_attack.py:160 -     iterative_attack() ] Attach_iter 26 perturbation shape: (1, 268203), perturbation: [[-1.09873444e-10 -9.59890567e-09  6.97770641e-09 ... -2.93420914e-08\n",
      "  -6.14064959e-08  1.23883543e-08]]\n"
     ]
    },
    {
     "name": "stdout",
     "output_type": "stream",
     "text": [
      "(1, 268203)\n",
      "Loaded inverse HVP from output/poisoning_900_300_inception_wd-0.001-test-[15, 169].npz\n",
      "Inverse HVP took 0.000584840774536 sec\n",
      "Entering the for loop\n",
      "(1, 268203)\n",
      "Loaded inverse HVP from output/poisoning_900_300_inception_wd-0.001-test-[15, 169].npz\n",
      "Inverse HVP took 0.000594139099121 sec\n",
      "Entering the for loop\n"
     ]
    },
    {
     "name": "stderr",
     "output_type": "stream",
     "text": [
      "[iter_attack.py:160 -     iterative_attack() ] Attach_iter 26 perturbation shape: (1, 268203), perturbation: [[-4.56727867e-05 -1.90994557e-04  6.25982648e-05 ... -6.30597424e-05\n",
      "  -9.46818182e-05  4.86628633e-05]]\n",
      "[iter_attack.py:160 -     iterative_attack() ] Attach_iter 26 perturbation shape: (1, 268203), perturbation: [[-5.85023226e-05  5.65744740e-05  9.32935582e-05 ... -1.17396424e-03\n",
      "  -1.05697126e-03 -5.01279195e-04]]\n"
     ]
    },
    {
     "name": "stdout",
     "output_type": "stream",
     "text": [
      "(1, 268203)\n",
      "Loaded inverse HVP from output/poisoning_900_300_inception_wd-0.001-test-[15, 169].npz\n",
      "Inverse HVP took 0.000594854354858 sec\n",
      "Entering the for loop\n",
      "(1, 268203)\n",
      "Loaded inverse HVP from output/poisoning_900_300_inception_wd-0.001-test-[15, 169].npz\n",
      "Inverse HVP took 0.000592947006226 sec\n",
      "Entering the for loop\n"
     ]
    },
    {
     "name": "stderr",
     "output_type": "stream",
     "text": [
      "[iter_attack.py:160 -     iterative_attack() ] Attach_iter 26 perturbation shape: (1, 268203), perturbation: [[-0.23856232  0.00932075  0.19659719 ... -0.01277965 -0.0307361\n",
      "   0.01149106]]\n",
      "[iter_attack.py:160 -     iterative_attack() ] Attach_iter 26 perturbation shape: (1, 268203), perturbation: [[-0.05646582  0.01502726 -0.03841629 ... -0.01234435 -0.00273286\n",
      "   0.00357246]]\n"
     ]
    },
    {
     "name": "stdout",
     "output_type": "stream",
     "text": [
      "(1, 268203)\n",
      "Loaded inverse HVP from output/poisoning_900_300_inception_wd-0.001-test-[15, 169].npz\n",
      "Inverse HVP took 0.000580072402954 sec\n",
      "Entering the for loop\n",
      "(1, 268203)\n",
      "Loaded inverse HVP from output/poisoning_900_300_inception_wd-0.001-test-[15, 169].npz\n",
      "Inverse HVP took 0.000575065612793 sec\n",
      "Entering the for loop\n"
     ]
    },
    {
     "name": "stderr",
     "output_type": "stream",
     "text": [
      "[iter_attack.py:160 -     iterative_attack() ] Attach_iter 26 perturbation shape: (1, 268203), perturbation: [[ 0.23563081 -0.01160317  0.19248959 ...  0.46031231 -0.32127306\n",
      "  -0.24756902]]\n",
      "[iter_attack.py:160 -     iterative_attack() ] Attach_iter 26 perturbation shape: (1, 268203), perturbation: [[-2.64742565 -0.56238848  0.536443   ... -0.05965589 -0.03232379\n",
      "   0.01624642]]\n"
     ]
    },
    {
     "name": "stdout",
     "output_type": "stream",
     "text": [
      "(1, 268203)\n",
      "Loaded inverse HVP from output/poisoning_900_300_inception_wd-0.001-test-[15, 169].npz\n",
      "Inverse HVP took 0.000579118728638 sec\n",
      "Entering the for loop\n",
      "(1, 268203)\n",
      "Loaded inverse HVP from output/poisoning_900_300_inception_wd-0.001-test-[15, 169].npz\n",
      "Inverse HVP took 0.000637054443359 sec\n",
      "Entering the for loop\n"
     ]
    },
    {
     "name": "stderr",
     "output_type": "stream",
     "text": [
      "[iter_attack.py:160 -     iterative_attack() ] Attach_iter 26 perturbation shape: (1, 268203), perturbation: [[-6.18416925e-06 -8.22186121e-06  1.16747706e-05 ... -1.25515896e-07\n",
      "   1.40396696e-06  7.57293037e-07]]\n"
     ]
    },
    {
     "name": "stdout",
     "output_type": "stream",
     "text": [
      "(1, 268203)\n",
      "10 10\n",
      "Shape (10, 2048)\n",
      "Using normal model\n",
      "LBFGS training took [55] iter.\n",
      "After training with LBFGS: \n"
     ]
    },
    {
     "name": "stderr",
     "output_type": "stream",
     "text": [
      "[genericNeuralNet.py:328 -     print_model_eval() ] Train loss (w reg) on all data: 0.018793296\n",
      "[genericNeuralNet.py:329 -     print_model_eval() ] Train loss (w/o reg) on all data: 0.007999169\n",
      "[genericNeuralNet.py:331 -     print_model_eval() ] Test loss (w/o reg) on all data: 0.06378379\n",
      "[genericNeuralNet.py:332 -     print_model_eval() ] Train acc on all data:  0.9977777777777778\n",
      "[genericNeuralNet.py:333 -     print_model_eval() ] Test acc on all data:   0.9733333333333334\n",
      "[genericNeuralNet.py:335 -     print_model_eval() ] Norm of the mean of gradients: 0.018801106\n",
      "[genericNeuralNet.py:336 -     print_model_eval() ] Norm of the params: 4.6463175\n",
      "[iter_attack.py:204 -     iterative_attack() ] Test_idx: 15 Test pred (full): [[0.02089463 0.9791054 ]]\n",
      "[iter_attack.py:204 -     iterative_attack() ] Test_idx: 169 Test pred (full): [[0.9989003  0.00109973]]\n",
      "[iter_attack.py:205 -     iterative_attack() ] ---------------------\n",
      "[iter_attack.py:210 -     iterative_attack() ] Test_idx: 15 Test pred (top): [[0.02089463 0.9791054 ]]\n",
      "[iter_attack.py:210 -     iterative_attack() ] Test_idx: 169 Test pred (top): [[0.9989003  0.00109973]]\n",
      "[iter_attack.py:138 -     iterative_attack() ] *** Iter: 27\n"
     ]
    },
    {
     "name": "stdout",
     "output_type": "stream",
     "text": [
      "Total number of parameters: 2048\n"
     ]
    },
    {
     "name": "stderr",
     "output_type": "stream",
     "text": [
      "[iter_attack.py:160 -     iterative_attack() ] Attach_iter 27 perturbation shape: (1, 268203), perturbation: [[ 0.09937894  0.29266503  0.8692857  ...  0.235449   -0.27522764\n",
      "  -0.19119725]]\n"
     ]
    },
    {
     "name": "stdout",
     "output_type": "stream",
     "text": [
      "Warning: Desired error not necessarily achieved due to precision loss.\n",
      "         Current function value: -4709.831543\n",
      "         Iterations: 10\n",
      "         Function evaluations: 208\n",
      "         Gradient evaluations: 204\n",
      "         Hessian evaluations: 67\n",
      "Inverse HVP took 4.85270190239 sec\n",
      "Loaded inverse HVP from output/poisoning_900_300_inception_wd-0.001-test-[15, 169].npz\n",
      "Inverse HVP took 0.000533103942871 sec\n",
      "Entering the for loop\n",
      "(1, 268203)\n",
      "Loaded inverse HVP from output/poisoning_900_300_inception_wd-0.001-test-[15, 169].npz\n",
      "Inverse HVP took 0.000585079193115 sec\n",
      "Entering the for loop\n"
     ]
    },
    {
     "name": "stderr",
     "output_type": "stream",
     "text": [
      "[iter_attack.py:160 -     iterative_attack() ] Attach_iter 27 perturbation shape: (1, 268203), perturbation: [[-6.87912632e-07  7.30075044e-07  4.68710439e-08 ... -1.13676856e-06\n",
      "  -5.49194056e-07 -8.46019930e-08]]\n",
      "[iter_attack.py:160 -     iterative_attack() ] Attach_iter 27 perturbation shape: (1, 268203), perturbation: [[-2.88324031e-07 -1.63670393e-07 -6.03648473e-08 ... -2.76115060e-07\n",
      "  -2.12348687e-06 -2.02471142e-08]]\n"
     ]
    },
    {
     "name": "stdout",
     "output_type": "stream",
     "text": [
      "(1, 268203)\n",
      "Loaded inverse HVP from output/poisoning_900_300_inception_wd-0.001-test-[15, 169].npz\n",
      "Inverse HVP took 0.000595092773438 sec\n",
      "Entering the for loop\n",
      "(1, 268203)\n",
      "Loaded inverse HVP from output/poisoning_900_300_inception_wd-0.001-test-[15, 169].npz\n",
      "Inverse HVP took 0.000591993331909 sec\n",
      "Entering the for loop\n"
     ]
    },
    {
     "name": "stderr",
     "output_type": "stream",
     "text": [
      "[iter_attack.py:160 -     iterative_attack() ] Attach_iter 27 perturbation shape: (1, 268203), perturbation: [[-9.31803370e-05 -3.91327252e-04  1.05450541e-04 ... -5.92714096e-05\n",
      "  -1.67331134e-04  7.95104861e-05]]\n",
      "[iter_attack.py:160 -     iterative_attack() ] Attach_iter 27 perturbation shape: (1, 268203), perturbation: [[-1.54420093e-04  4.46651247e-05  1.73124325e-04 ... -3.27284192e-03\n",
      "  -2.08635861e-03 -4.90810373e-04]]\n"
     ]
    },
    {
     "name": "stdout",
     "output_type": "stream",
     "text": [
      "(1, 268203)\n",
      "Loaded inverse HVP from output/poisoning_900_300_inception_wd-0.001-test-[15, 169].npz\n",
      "Inverse HVP took 0.000581026077271 sec\n",
      "Entering the for loop\n",
      "(1, 268203)\n",
      "Loaded inverse HVP from output/poisoning_900_300_inception_wd-0.001-test-[15, 169].npz\n",
      "Inverse HVP took 0.000632047653198 sec\n",
      "Entering the for loop\n"
     ]
    },
    {
     "name": "stderr",
     "output_type": "stream",
     "text": [
      "[iter_attack.py:160 -     iterative_attack() ] Attach_iter 27 perturbation shape: (1, 268203), perturbation: [[-0.11085987  0.00074155 -0.12159152 ... -0.03075905 -0.07181651\n",
      "  -0.00138892]]\n",
      "[iter_attack.py:160 -     iterative_attack() ] Attach_iter 27 perturbation shape: (1, 268203), perturbation: [[-0.02014649  0.01657127 -0.06102024 ... -0.0094742   0.0088631\n",
      "   0.00634353]]\n"
     ]
    },
    {
     "name": "stdout",
     "output_type": "stream",
     "text": [
      "(1, 268203)\n",
      "Loaded inverse HVP from output/poisoning_900_300_inception_wd-0.001-test-[15, 169].npz\n",
      "Inverse HVP took 0.000579118728638 sec\n",
      "Entering the for loop\n",
      "(1, 268203)\n",
      "Loaded inverse HVP from output/poisoning_900_300_inception_wd-0.001-test-[15, 169].npz\n",
      "Inverse HVP took 0.000622034072876 sec\n",
      "Entering the for loop\n"
     ]
    },
    {
     "name": "stderr",
     "output_type": "stream",
     "text": [
      "[iter_attack.py:160 -     iterative_attack() ] Attach_iter 27 perturbation shape: (1, 268203), perturbation: [[-0.14731209 -0.13751411 -0.06423599 ... -0.51692927  0.00223798\n",
      "   0.65794468]]\n",
      "[iter_attack.py:160 -     iterative_attack() ] Attach_iter 27 perturbation shape: (1, 268203), perturbation: [[ 1.07000327  0.38679111 -0.16884035 ... -0.00386108  0.004998\n",
      "   0.02398824]]\n"
     ]
    },
    {
     "name": "stdout",
     "output_type": "stream",
     "text": [
      "(1, 268203)\n",
      "Loaded inverse HVP from output/poisoning_900_300_inception_wd-0.001-test-[15, 169].npz\n",
      "Inverse HVP took 0.000576972961426 sec\n",
      "Entering the for loop\n",
      "(1, 268203)\n",
      "Loaded inverse HVP from output/poisoning_900_300_inception_wd-0.001-test-[15, 169].npz\n",
      "Inverse HVP took 0.000594139099121 sec\n",
      "Entering the for loop\n"
     ]
    },
    {
     "name": "stderr",
     "output_type": "stream",
     "text": [
      "[iter_attack.py:160 -     iterative_attack() ] Attach_iter 27 perturbation shape: (1, 268203), perturbation: [[-1.14490649e-05 -2.70598066e-05  2.03532236e-05 ... -5.29823001e-06\n",
      "  -7.84410258e-06  1.54815643e-05]]\n"
     ]
    },
    {
     "name": "stdout",
     "output_type": "stream",
     "text": [
      "(1, 268203)\n",
      "10 10\n"
     ]
    },
    {
     "name": "stderr",
     "output_type": "stream",
     "text": [
      "[genericNeuralNet.py:328 -     print_model_eval() ] Train loss (w reg) on all data: 0.018800875\n",
      "[genericNeuralNet.py:329 -     print_model_eval() ] Train loss (w/o reg) on all data: 0.008051759\n",
      "[genericNeuralNet.py:331 -     print_model_eval() ] Test loss (w/o reg) on all data: 0.061678402\n",
      "[genericNeuralNet.py:332 -     print_model_eval() ] Train acc on all data:  0.9977777777777778\n",
      "[genericNeuralNet.py:333 -     print_model_eval() ] Test acc on all data:   0.9733333333333334\n",
      "[genericNeuralNet.py:335 -     print_model_eval() ] Norm of the mean of gradients: 0.018823715\n",
      "[genericNeuralNet.py:336 -     print_model_eval() ] Norm of the params: 4.6366186\n"
     ]
    },
    {
     "name": "stdout",
     "output_type": "stream",
     "text": [
      "Shape (10, 2048)\n",
      "Using normal model\n",
      "LBFGS training took [50] iter.\n",
      "After training with LBFGS: \n"
     ]
    },
    {
     "name": "stderr",
     "output_type": "stream",
     "text": [
      "[iter_attack.py:204 -     iterative_attack() ] Test_idx: 15 Test pred (full): [[0.01709815 0.9829018 ]]\n",
      "[iter_attack.py:204 -     iterative_attack() ] Test_idx: 169 Test pred (full): [[0.99887806 0.00112189]]\n",
      "[iter_attack.py:205 -     iterative_attack() ] ---------------------\n",
      "[iter_attack.py:210 -     iterative_attack() ] Test_idx: 15 Test pred (top): [[0.01709815 0.9829018 ]]\n",
      "[iter_attack.py:210 -     iterative_attack() ] Test_idx: 169 Test pred (top): [[0.99887806 0.00112189]]\n",
      "[iter_attack.py:138 -     iterative_attack() ] *** Iter: 28\n"
     ]
    },
    {
     "name": "stdout",
     "output_type": "stream",
     "text": [
      "Total number of parameters: 2048\n"
     ]
    },
    {
     "name": "stderr",
     "output_type": "stream",
     "text": [
      "[iter_attack.py:160 -     iterative_attack() ] Attach_iter 28 perturbation shape: (1, 268203), perturbation: [[ 0.4936029  -0.11608639 -0.69821543 ...  0.7170344  -0.18488799\n",
      "  -0.05866233]]\n"
     ]
    },
    {
     "name": "stdout",
     "output_type": "stream",
     "text": [
      "Warning: Desired error not necessarily achieved due to precision loss.\n",
      "         Current function value: -4715.721191\n",
      "         Iterations: 10\n",
      "         Function evaluations: 175\n",
      "         Gradient evaluations: 170\n",
      "         Hessian evaluations: 78\n",
      "Inverse HVP took 4.42035198212 sec\n",
      "Loaded inverse HVP from output/poisoning_900_300_inception_wd-0.001-test-[15, 169].npz\n",
      "Inverse HVP took 0.000611066818237 sec\n",
      "Entering the for loop\n",
      "(1, 268203)\n",
      "Loaded inverse HVP from output/poisoning_900_300_inception_wd-0.001-test-[15, 169].npz\n",
      "Inverse HVP took 0.000578165054321 sec\n",
      "Entering the for loop\n"
     ]
    },
    {
     "name": "stderr",
     "output_type": "stream",
     "text": [
      "[iter_attack.py:160 -     iterative_attack() ] Attach_iter 28 perturbation shape: (1, 268203), perturbation: [[-3.32743070e-07  6.04816648e-07  1.20693102e-07 ...  3.55698063e-07\n",
      "   4.78429342e-07 -3.11015015e-07]]\n",
      "[iter_attack.py:160 -     iterative_attack() ] Attach_iter 28 perturbation shape: (1, 268203), perturbation: [[ 3.16350051e-05  1.83650754e-05  5.50946970e-06 ... -1.05089402e-05\n",
      "  -9.33619594e-05 -7.54160283e-07]]\n"
     ]
    },
    {
     "name": "stdout",
     "output_type": "stream",
     "text": [
      "(1, 268203)\n",
      "Loaded inverse HVP from output/poisoning_900_300_inception_wd-0.001-test-[15, 169].npz\n",
      "Inverse HVP took 0.000577926635742 sec\n",
      "Entering the for loop\n",
      "(1, 268203)\n",
      "Loaded inverse HVP from output/poisoning_900_300_inception_wd-0.001-test-[15, 169].npz\n",
      "Inverse HVP took 0.000584840774536 sec\n",
      "Entering the for loop\n"
     ]
    },
    {
     "name": "stderr",
     "output_type": "stream",
     "text": [
      "[iter_attack.py:160 -     iterative_attack() ] Attach_iter 28 perturbation shape: (1, 268203), perturbation: [[-0.00010579 -0.00054684  0.00013573 ... -0.00022008 -0.00022738\n",
      "   0.0001446 ]]\n",
      "[iter_attack.py:160 -     iterative_attack() ] Attach_iter 28 perturbation shape: (1, 268203), perturbation: [[-0.00055444  0.0003157   0.00057877 ... -0.00999117 -0.00532999\n",
      "  -0.00212311]]\n"
     ]
    },
    {
     "name": "stdout",
     "output_type": "stream",
     "text": [
      "(1, 268203)\n",
      "Loaded inverse HVP from output/poisoning_900_300_inception_wd-0.001-test-[15, 169].npz\n",
      "Inverse HVP took 0.00062108039856 sec\n",
      "Entering the for loop\n",
      "(1, 268203)\n",
      "Loaded inverse HVP from output/poisoning_900_300_inception_wd-0.001-test-[15, 169].npz\n",
      "Inverse HVP took 0.000581026077271 sec\n",
      "Entering the for loop\n"
     ]
    },
    {
     "name": "stderr",
     "output_type": "stream",
     "text": [
      "[iter_attack.py:160 -     iterative_attack() ] Attach_iter 28 perturbation shape: (1, 268203), perturbation: [[-0.16662334 -0.0090956   0.23583198 ...  0.02835902 -0.01340435\n",
      "   0.00510804]]\n",
      "[iter_attack.py:160 -     iterative_attack() ] Attach_iter 28 perturbation shape: (1, 268203), perturbation: [[-0.0396728   0.00675836 -0.03350727 ... -0.03632455  0.01311622\n",
      "   0.01535646]]\n"
     ]
    },
    {
     "name": "stdout",
     "output_type": "stream",
     "text": [
      "(1, 268203)\n",
      "Loaded inverse HVP from output/poisoning_900_300_inception_wd-0.001-test-[15, 169].npz\n",
      "Inverse HVP took 0.000637054443359 sec\n",
      "Entering the for loop\n",
      "(1, 268203)\n",
      "Loaded inverse HVP from output/poisoning_900_300_inception_wd-0.001-test-[15, 169].npz\n",
      "Inverse HVP took 0.000580072402954 sec\n",
      "Entering the for loop\n"
     ]
    },
    {
     "name": "stderr",
     "output_type": "stream",
     "text": [
      "[iter_attack.py:160 -     iterative_attack() ] Attach_iter 28 perturbation shape: (1, 268203), perturbation: [[ 0.28504002  0.01621687  0.21342385 ...  0.74952698 -0.30827957\n",
      "  -0.32474834]]\n",
      "[iter_attack.py:160 -     iterative_attack() ] Attach_iter 28 perturbation shape: (1, 268203), perturbation: [[-2.80444026 -0.70798922  0.56753814 ...  0.00342641 -0.03243665\n",
      "   0.01176603]]\n"
     ]
    },
    {
     "name": "stdout",
     "output_type": "stream",
     "text": [
      "(1, 268203)\n",
      "Loaded inverse HVP from output/poisoning_900_300_inception_wd-0.001-test-[15, 169].npz\n",
      "Inverse HVP took 0.000583171844482 sec\n",
      "Entering the for loop\n",
      "(1, 268203)\n",
      "Loaded inverse HVP from output/poisoning_900_300_inception_wd-0.001-test-[15, 169].npz\n",
      "Inverse HVP took 0.00058388710022 sec\n",
      "Entering the for loop\n"
     ]
    },
    {
     "name": "stderr",
     "output_type": "stream",
     "text": [
      "[iter_attack.py:160 -     iterative_attack() ] Attach_iter 28 perturbation shape: (1, 268203), perturbation: [[-9.87489693e-06 -5.82048269e-05  3.65725246e-05 ...  1.86371835e-06\n",
      "  -2.15196833e-05  3.80156853e-05]]\n"
     ]
    },
    {
     "name": "stdout",
     "output_type": "stream",
     "text": [
      "(1, 268203)\n",
      "10 10\n",
      "Shape (10, 2048)\n",
      "Using normal model\n"
     ]
    },
    {
     "name": "stderr",
     "output_type": "stream",
     "text": [
      "[genericNeuralNet.py:328 -     print_model_eval() ] Train loss (w reg) on all data: 0.01922552\n",
      "[genericNeuralNet.py:329 -     print_model_eval() ] Train loss (w/o reg) on all data: 0.008278203\n",
      "[genericNeuralNet.py:331 -     print_model_eval() ] Test loss (w/o reg) on all data: 0.06484614\n",
      "[genericNeuralNet.py:332 -     print_model_eval() ] Train acc on all data:  0.9977777777777778\n",
      "[genericNeuralNet.py:333 -     print_model_eval() ] Test acc on all data:   0.9733333333333334\n",
      "[genericNeuralNet.py:335 -     print_model_eval() ] Norm of the mean of gradients: 0.019198991\n",
      "[genericNeuralNet.py:336 -     print_model_eval() ] Norm of the params: 4.67917\n",
      "[iter_attack.py:204 -     iterative_attack() ] Test_idx: 15 Test pred (full): [[0.01390883 0.9860912 ]]\n",
      "[iter_attack.py:204 -     iterative_attack() ] Test_idx: 169 Test pred (full): [[0.99887365 0.00112633]]\n",
      "[iter_attack.py:205 -     iterative_attack() ] ---------------------\n",
      "[iter_attack.py:210 -     iterative_attack() ] Test_idx: 15 Test pred (top): [[0.01390883 0.9860912 ]]\n",
      "[iter_attack.py:210 -     iterative_attack() ] Test_idx: 169 Test pred (top): [[0.99887365 0.00112633]]\n",
      "[iter_attack.py:138 -     iterative_attack() ] *** Iter: 29\n"
     ]
    },
    {
     "name": "stdout",
     "output_type": "stream",
     "text": [
      "LBFGS training took [63] iter.\n",
      "After training with LBFGS: \n",
      "Total number of parameters: 2048\n"
     ]
    },
    {
     "name": "stderr",
     "output_type": "stream",
     "text": [
      "[iter_attack.py:160 -     iterative_attack() ] Attach_iter 29 perturbation shape: (1, 268203), perturbation: [[ 0.12954998  0.08737482  0.64627111 ...  0.05946361 -0.279158\n",
      "  -0.11031529]]\n"
     ]
    },
    {
     "name": "stdout",
     "output_type": "stream",
     "text": [
      "Warning: Desired error not necessarily achieved due to precision loss.\n",
      "         Current function value: -4719.127930\n",
      "         Iterations: 11\n",
      "         Function evaluations: 115\n",
      "         Gradient evaluations: 114\n",
      "         Hessian evaluations: 71\n",
      "Inverse HVP took 3.10545110703 sec\n",
      "Loaded inverse HVP from output/poisoning_900_300_inception_wd-0.001-test-[15, 169].npz\n",
      "Inverse HVP took 0.000540018081665 sec\n",
      "Entering the for loop\n",
      "(1, 268203)\n",
      "Loaded inverse HVP from output/poisoning_900_300_inception_wd-0.001-test-[15, 169].npz\n",
      "Inverse HVP took 0.000645875930786 sec\n",
      "Entering the for loop\n"
     ]
    },
    {
     "name": "stderr",
     "output_type": "stream",
     "text": [
      "[iter_attack.py:160 -     iterative_attack() ] Attach_iter 29 perturbation shape: (1, 268203), perturbation: [[-1.82765859e-07  4.16615592e-07  1.75450054e-08 ... -5.51821870e-07\n",
      "  -6.15941076e-08 -9.46633705e-08]]\n",
      "[iter_attack.py:160 -     iterative_attack() ] Attach_iter 29 perturbation shape: (1, 268203), perturbation: [[ 0.00056061  0.00047382 -0.00027695 ... -0.00059386 -0.00264898\n",
      "  -0.00053143]]\n"
     ]
    },
    {
     "name": "stdout",
     "output_type": "stream",
     "text": [
      "(1, 268203)\n",
      "Loaded inverse HVP from output/poisoning_900_300_inception_wd-0.001-test-[15, 169].npz\n",
      "Inverse HVP took 0.00058388710022 sec\n",
      "Entering the for loop\n",
      "(1, 268203)\n",
      "Loaded inverse HVP from output/poisoning_900_300_inception_wd-0.001-test-[15, 169].npz\n",
      "Inverse HVP took 0.000599145889282 sec\n",
      "Entering the for loop\n"
     ]
    },
    {
     "name": "stderr",
     "output_type": "stream",
     "text": [
      "[iter_attack.py:160 -     iterative_attack() ] Attach_iter 29 perturbation shape: (1, 268203), perturbation: [[-0.00020363 -0.00073335  0.00017807 ... -0.00041247 -0.00027327\n",
      "   0.00028943]]\n",
      "[iter_attack.py:160 -     iterative_attack() ] Attach_iter 29 perturbation shape: (1, 268203), perturbation: [[-5.99409861e-04 -4.85184137e-05 -1.01364363e-04 ... -1.11086927e-02\n",
      "  -3.68936569e-03 -6.98234304e-04]]\n"
     ]
    },
    {
     "name": "stdout",
     "output_type": "stream",
     "text": [
      "(1, 268203)\n",
      "Loaded inverse HVP from output/poisoning_900_300_inception_wd-0.001-test-[15, 169].npz\n",
      "Inverse HVP took 0.000582933425903 sec\n",
      "Entering the for loop\n",
      "(1, 268203)\n",
      "Loaded inverse HVP from output/poisoning_900_300_inception_wd-0.001-test-[15, 169].npz\n",
      "Inverse HVP took 0.000600814819336 sec\n",
      "Entering the for loop\n"
     ]
    },
    {
     "name": "stderr",
     "output_type": "stream",
     "text": [
      "[iter_attack.py:160 -     iterative_attack() ] Attach_iter 29 perturbation shape: (1, 268203), perturbation: [[-0.17487584 -0.00065571 -0.0472604  ... -0.05409727 -0.07701136\n",
      "   0.02138832]]\n",
      "[iter_attack.py:160 -     iterative_attack() ] Attach_iter 29 perturbation shape: (1, 268203), perturbation: [[-0.02466603  0.00556339 -0.03926367 ... -0.02241429  0.00574134\n",
      "   0.01652721]]\n"
     ]
    },
    {
     "name": "stdout",
     "output_type": "stream",
     "text": [
      "(1, 268203)\n",
      "Loaded inverse HVP from output/poisoning_900_300_inception_wd-0.001-test-[15, 169].npz\n",
      "Inverse HVP took 0.000626802444458 sec\n",
      "Entering the for loop\n",
      "(1, 268203)\n",
      "Loaded inverse HVP from output/poisoning_900_300_inception_wd-0.001-test-[15, 169].npz\n",
      "Inverse HVP took 0.000598907470703 sec\n",
      "Entering the for loop\n"
     ]
    },
    {
     "name": "stderr",
     "output_type": "stream",
     "text": [
      "[iter_attack.py:160 -     iterative_attack() ] Attach_iter 29 perturbation shape: (1, 268203), perturbation: [[-0.06622208 -0.17697008  0.01496216 ... -1.07821119  0.22628564\n",
      "   0.93380499]]\n",
      "[iter_attack.py:160 -     iterative_attack() ] Attach_iter 29 perturbation shape: (1, 268203), perturbation: [[ 0.62260234  0.25629836 -0.0220468  ... -0.02586364 -0.00534151\n",
      "   0.03675905]]\n"
     ]
    },
    {
     "name": "stdout",
     "output_type": "stream",
     "text": [
      "(1, 268203)\n",
      "Loaded inverse HVP from output/poisoning_900_300_inception_wd-0.001-test-[15, 169].npz\n",
      "Inverse HVP took 0.000576019287109 sec\n",
      "Entering the for loop\n",
      "(1, 268203)\n",
      "Loaded inverse HVP from output/poisoning_900_300_inception_wd-0.001-test-[15, 169].npz\n",
      "Inverse HVP took 0.000600814819336 sec\n",
      "Entering the for loop\n"
     ]
    },
    {
     "name": "stderr",
     "output_type": "stream",
     "text": [
      "[iter_attack.py:160 -     iterative_attack() ] Attach_iter 29 perturbation shape: (1, 268203), perturbation: [[ 4.10787288e-05 -1.28191838e-04 -8.80068255e-05 ... -3.35004515e-05\n",
      "  -6.13806114e-05  1.02323276e-04]]\n"
     ]
    },
    {
     "name": "stdout",
     "output_type": "stream",
     "text": [
      "(1, 268203)\n",
      "10 10\n"
     ]
    },
    {
     "name": "stderr",
     "output_type": "stream",
     "text": [
      "[genericNeuralNet.py:328 -     print_model_eval() ] Train loss (w reg) on all data: 0.019186456\n",
      "[genericNeuralNet.py:329 -     print_model_eval() ] Train loss (w/o reg) on all data: 0.008272423\n",
      "[genericNeuralNet.py:331 -     print_model_eval() ] Test loss (w/o reg) on all data: 0.06280186\n",
      "[genericNeuralNet.py:332 -     print_model_eval() ] Train acc on all data:  0.9983333333333333\n",
      "[genericNeuralNet.py:333 -     print_model_eval() ] Test acc on all data:   0.9733333333333334\n",
      "[genericNeuralNet.py:335 -     print_model_eval() ] Norm of the mean of gradients: 0.018811654\n",
      "[genericNeuralNet.py:336 -     print_model_eval() ] Norm of the params: 4.672051\n"
     ]
    },
    {
     "name": "stdout",
     "output_type": "stream",
     "text": [
      "Shape (10, 2048)\n",
      "Using normal model\n",
      "LBFGS training took [41] iter.\n",
      "After training with LBFGS: \n"
     ]
    },
    {
     "name": "stderr",
     "output_type": "stream",
     "text": [
      "[iter_attack.py:204 -     iterative_attack() ] Test_idx: 15 Test pred (full): [[0.01132383 0.9886762 ]]\n",
      "[iter_attack.py:204 -     iterative_attack() ] Test_idx: 169 Test pred (full): [[0.9988274  0.00117258]]\n",
      "[iter_attack.py:205 -     iterative_attack() ] ---------------------\n",
      "[iter_attack.py:210 -     iterative_attack() ] Test_idx: 15 Test pred (top): [[0.01132383 0.9886762 ]]\n",
      "[iter_attack.py:210 -     iterative_attack() ] Test_idx: 169 Test pred (top): [[0.9988274  0.00117258]]\n",
      "[iter_attack.py:138 -     iterative_attack() ] *** Iter: 30\n"
     ]
    },
    {
     "name": "stdout",
     "output_type": "stream",
     "text": [
      "Total number of parameters: 2048\n"
     ]
    },
    {
     "name": "stderr",
     "output_type": "stream",
     "text": [
      "[iter_attack.py:160 -     iterative_attack() ] Attach_iter 30 perturbation shape: (1, 268203), perturbation: [[ 0.43672952  0.09720231 -0.30432475 ...  0.58534878 -0.18728282\n",
      "  -0.06353506]]\n"
     ]
    },
    {
     "name": "stdout",
     "output_type": "stream",
     "text": [
      "Warning: Desired error not necessarily achieved due to precision loss.\n",
      "         Current function value: -4717.357422\n",
      "         Iterations: 8\n",
      "         Function evaluations: 90\n",
      "         Gradient evaluations: 88\n",
      "         Hessian evaluations: 48\n",
      "Inverse HVP took 2.3980038166 sec\n",
      "Loaded inverse HVP from output/poisoning_900_300_inception_wd-0.001-test-[15, 169].npz\n",
      "Inverse HVP took 0.000543117523193 sec\n",
      "Entering the for loop\n",
      "(1, 268203)\n",
      "Loaded inverse HVP from output/poisoning_900_300_inception_wd-0.001-test-[15, 169].npz\n",
      "Inverse HVP took 0.000586032867432 sec\n",
      "Entering the for loop\n"
     ]
    },
    {
     "name": "stderr",
     "output_type": "stream",
     "text": [
      "[iter_attack.py:160 -     iterative_attack() ] Attach_iter 30 perturbation shape: (1, 268203), perturbation: [[-2.09297895e-08  2.10428070e-07 -7.03148295e-09 ... -1.18380768e-07\n",
      "   2.46516748e-07 -2.97647773e-08]]\n",
      "[iter_attack.py:160 -     iterative_attack() ] Attach_iter 30 perturbation shape: (1, 268203), perturbation: [[-0.00898182 -0.00278911 -0.00426609 ... -0.00545906 -0.01506756\n",
      "  -0.00097156]]\n"
     ]
    },
    {
     "name": "stdout",
     "output_type": "stream",
     "text": [
      "(1, 268203)\n",
      "Loaded inverse HVP from output/poisoning_900_300_inception_wd-0.001-test-[15, 169].npz\n",
      "Inverse HVP took 0.000575065612793 sec\n",
      "Entering the for loop\n",
      "(1, 268203)\n",
      "Loaded inverse HVP from output/poisoning_900_300_inception_wd-0.001-test-[15, 169].npz\n",
      "Inverse HVP took 0.000581979751587 sec\n",
      "Entering the for loop\n"
     ]
    },
    {
     "name": "stderr",
     "output_type": "stream",
     "text": [
      "[iter_attack.py:160 -     iterative_attack() ] Attach_iter 30 perturbation shape: (1, 268203), perturbation: [[-8.95260309e-05 -4.90923645e-04  1.20892699e-04 ... -8.74800491e-04\n",
      "  -5.14683023e-04  6.46555447e-04]]\n",
      "[iter_attack.py:160 -     iterative_attack() ] Attach_iter 30 perturbation shape: (1, 268203), perturbation: [[-0.00250651  0.00062216 -0.00066719 ... -0.01365794 -0.00687862\n",
      "  -0.00582478]]\n"
     ]
    },
    {
     "name": "stdout",
     "output_type": "stream",
     "text": [
      "(1, 268203)\n",
      "Loaded inverse HVP from output/poisoning_900_300_inception_wd-0.001-test-[15, 169].npz\n",
      "Inverse HVP took 0.000626087188721 sec\n",
      "Entering the for loop\n",
      "(1, 268203)\n",
      "Loaded inverse HVP from output/poisoning_900_300_inception_wd-0.001-test-[15, 169].npz\n",
      "Inverse HVP took 0.000573873519897 sec\n",
      "Entering the for loop\n"
     ]
    },
    {
     "name": "stderr",
     "output_type": "stream",
     "text": [
      "[iter_attack.py:160 -     iterative_attack() ] Attach_iter 30 perturbation shape: (1, 268203), perturbation: [[-0.17449605 -0.02904523  0.21786937 ...  0.04100426 -0.02988332\n",
      "  -0.0090911 ]]\n",
      "[iter_attack.py:160 -     iterative_attack() ] Attach_iter 30 perturbation shape: (1, 268203), perturbation: [[-0.04133336  0.00206604 -0.0127879  ... -0.00493844  0.00772663\n",
      "   0.00567215]]\n"
     ]
    },
    {
     "name": "stdout",
     "output_type": "stream",
     "text": [
      "(1, 268203)\n",
      "Loaded inverse HVP from output/poisoning_900_300_inception_wd-0.001-test-[15, 169].npz\n",
      "Inverse HVP took 0.000591039657593 sec\n",
      "Entering the for loop\n",
      "(1, 268203)\n",
      "Loaded inverse HVP from output/poisoning_900_300_inception_wd-0.001-test-[15, 169].npz\n",
      "Inverse HVP took 0.000599145889282 sec\n",
      "Entering the for loop\n"
     ]
    },
    {
     "name": "stderr",
     "output_type": "stream",
     "text": [
      "[iter_attack.py:160 -     iterative_attack() ] Attach_iter 30 perturbation shape: (1, 268203), perturbation: [[ 0.27004215 -0.02726386  0.20159729 ...  0.27164736 -0.27902496\n",
      "  -0.12826791]]\n",
      "[iter_attack.py:160 -     iterative_attack() ] Attach_iter 30 perturbation shape: (1, 268203), perturbation: [[-2.88074684 -0.48824507  0.56676066 ... -0.09378636  0.00985374\n",
      "   0.01595432]]\n"
     ]
    },
    {
     "name": "stdout",
     "output_type": "stream",
     "text": [
      "(1, 268203)\n",
      "Loaded inverse HVP from output/poisoning_900_300_inception_wd-0.001-test-[15, 169].npz\n",
      "Inverse HVP took 0.000573873519897 sec\n",
      "Entering the for loop\n",
      "(1, 268203)\n",
      "Loaded inverse HVP from output/poisoning_900_300_inception_wd-0.001-test-[15, 169].npz\n",
      "Inverse HVP took 0.000621795654297 sec\n",
      "Entering the for loop\n"
     ]
    },
    {
     "name": "stderr",
     "output_type": "stream",
     "text": [
      "[iter_attack.py:160 -     iterative_attack() ] Attach_iter 30 perturbation shape: (1, 268203), perturbation: [[ 9.14697739e-06 -2.13060994e-04  4.62334865e-05 ... -3.13797573e-05\n",
      "  -1.10555549e-04  1.76021669e-04]]\n"
     ]
    },
    {
     "name": "stdout",
     "output_type": "stream",
     "text": [
      "(1, 268203)\n",
      "10 10\n",
      "Shape (10, 2048)\n",
      "Using normal model\n"
     ]
    },
    {
     "name": "stderr",
     "output_type": "stream",
     "text": [
      "[genericNeuralNet.py:328 -     print_model_eval() ] Train loss (w reg) on all data: 0.019489862\n",
      "[genericNeuralNet.py:329 -     print_model_eval() ] Train loss (w/o reg) on all data: 0.0083802445\n",
      "[genericNeuralNet.py:331 -     print_model_eval() ] Test loss (w/o reg) on all data: 0.065644324\n",
      "[genericNeuralNet.py:332 -     print_model_eval() ] Train acc on all data:  0.9983333333333333\n",
      "[genericNeuralNet.py:333 -     print_model_eval() ] Test acc on all data:   0.9733333333333334\n",
      "[genericNeuralNet.py:335 -     print_model_eval() ] Norm of the mean of gradients: 0.018506411\n",
      "[genericNeuralNet.py:336 -     print_model_eval() ] Norm of the params: 4.7137284\n",
      "[iter_attack.py:204 -     iterative_attack() ] Test_idx: 15 Test pred (full): [[0.00921817 0.99078184]]\n",
      "[iter_attack.py:204 -     iterative_attack() ] Test_idx: 169 Test pred (full): [[0.9988939  0.00110606]]\n",
      "[iter_attack.py:205 -     iterative_attack() ] ---------------------\n",
      "[iter_attack.py:210 -     iterative_attack() ] Test_idx: 15 Test pred (top): [[0.00921817 0.99078184]]\n",
      "[iter_attack.py:210 -     iterative_attack() ] Test_idx: 169 Test pred (top): [[0.9988939  0.00110606]]\n",
      "[iter_attack.py:138 -     iterative_attack() ] *** Iter: 31\n"
     ]
    },
    {
     "name": "stdout",
     "output_type": "stream",
     "text": [
      "LBFGS training took [61] iter.\n",
      "After training with LBFGS: \n",
      "Total number of parameters: 2048\n"
     ]
    },
    {
     "name": "stderr",
     "output_type": "stream",
     "text": [
      "[iter_attack.py:160 -     iterative_attack() ] Attach_iter 31 perturbation shape: (1, 268203), perturbation: [[ 0.37392077 -0.02571504  0.24628004 ...  0.13579829  0.00327419\n",
      "  -0.12655903]]\n"
     ]
    },
    {
     "name": "stdout",
     "output_type": "stream",
     "text": [
      "Warning: Desired error not necessarily achieved due to precision loss.\n",
      "         Current function value: -4717.854980\n",
      "         Iterations: 11\n",
      "         Function evaluations: 309\n",
      "         Gradient evaluations: 304\n",
      "         Hessian evaluations: 72\n",
      "Inverse HVP took 7.12130093575 sec\n",
      "Loaded inverse HVP from output/poisoning_900_300_inception_wd-0.001-test-[15, 169].npz\n",
      "Inverse HVP took 0.000541925430298 sec\n",
      "Entering the for loop\n",
      "(1, 268203)\n",
      "Loaded inverse HVP from output/poisoning_900_300_inception_wd-0.001-test-[15, 169].npz\n",
      "Inverse HVP took 0.000627994537354 sec\n",
      "Entering the for loop\n"
     ]
    },
    {
     "name": "stderr",
     "output_type": "stream",
     "text": [
      "[iter_attack.py:160 -     iterative_attack() ] Attach_iter 31 perturbation shape: (1, 268203), perturbation: [[-5.13302041e-08  1.12643932e-07 -2.58568829e-08 ... -1.74680508e-07\n",
      "  -1.40343381e-09 -1.04135850e-07]]\n",
      "[iter_attack.py:160 -     iterative_attack() ] Attach_iter 31 perturbation shape: (1, 268203), perturbation: [[-0.03939041 -0.00833157 -0.03201523 ... -0.01658934 -0.0244824\n",
      "   0.00432279]]\n"
     ]
    },
    {
     "name": "stdout",
     "output_type": "stream",
     "text": [
      "(1, 268203)\n",
      "Loaded inverse HVP from output/poisoning_900_300_inception_wd-0.001-test-[15, 169].npz\n",
      "Inverse HVP took 0.000633001327515 sec\n",
      "Entering the for loop\n",
      "(1, 268203)\n",
      "Loaded inverse HVP from output/poisoning_900_300_inception_wd-0.001-test-[15, 169].npz\n",
      "Inverse HVP took 0.000587224960327 sec\n",
      "Entering the for loop\n"
     ]
    },
    {
     "name": "stderr",
     "output_type": "stream",
     "text": [
      "[iter_attack.py:160 -     iterative_attack() ] Attach_iter 31 perturbation shape: (1, 268203), perturbation: [[-0.0005284  -0.00070331  0.00039515 ... -0.00107663 -0.00069638\n",
      "   0.00099356]]\n",
      "[iter_attack.py:160 -     iterative_attack() ] Attach_iter 31 perturbation shape: (1, 268203), perturbation: [[-0.0034717   0.00020612 -0.00020865 ... -0.0146294  -0.00259848\n",
      "   0.00270042]]\n"
     ]
    },
    {
     "name": "stdout",
     "output_type": "stream",
     "text": [
      "(1, 268203)\n",
      "Loaded inverse HVP from output/poisoning_900_300_inception_wd-0.001-test-[15, 169].npz\n",
      "Inverse HVP took 0.000586986541748 sec\n",
      "Entering the for loop\n",
      "(1, 268203)\n",
      "Loaded inverse HVP from output/poisoning_900_300_inception_wd-0.001-test-[15, 169].npz\n",
      "Inverse HVP took 0.000586032867432 sec\n",
      "Entering the for loop\n"
     ]
    },
    {
     "name": "stderr",
     "output_type": "stream",
     "text": [
      "[iter_attack.py:160 -     iterative_attack() ] Attach_iter 31 perturbation shape: (1, 268203), perturbation: [[-0.16822104  0.00952297 -0.06626806 ... -0.0361108  -0.09460773\n",
      "   0.07646903]]\n",
      "[iter_attack.py:160 -     iterative_attack() ] Attach_iter 31 perturbation shape: (1, 268203), perturbation: [[ 0.01304076  0.02614698 -0.09289829 ...  0.00641955  0.01377096\n",
      "   0.00747037]]\n"
     ]
    },
    {
     "name": "stdout",
     "output_type": "stream",
     "text": [
      "(1, 268203)\n",
      "Loaded inverse HVP from output/poisoning_900_300_inception_wd-0.001-test-[15, 169].npz\n",
      "Inverse HVP took 0.000574111938477 sec\n",
      "Entering the for loop\n",
      "(1, 268203)\n",
      "Loaded inverse HVP from output/poisoning_900_300_inception_wd-0.001-test-[15, 169].npz\n",
      "Inverse HVP took 0.00058388710022 sec\n",
      "Entering the for loop\n"
     ]
    },
    {
     "name": "stderr",
     "output_type": "stream",
     "text": [
      "[iter_attack.py:160 -     iterative_attack() ] Attach_iter 31 perturbation shape: (1, 268203), perturbation: [[-0.1147818  -0.02801054 -0.18292277 ... -0.32633081  0.00094569\n",
      "   0.66655803]]\n",
      "[iter_attack.py:160 -     iterative_attack() ] Attach_iter 31 perturbation shape: (1, 268203), perturbation: [[ 0.54383421  0.32738402  0.03031388 ... -0.05709653 -0.00473337\n",
      "   0.02043928]]\n"
     ]
    },
    {
     "name": "stdout",
     "output_type": "stream",
     "text": [
      "(1, 268203)\n",
      "Loaded inverse HVP from output/poisoning_900_300_inception_wd-0.001-test-[15, 169].npz\n",
      "Inverse HVP took 0.000579118728638 sec\n",
      "Entering the for loop\n",
      "(1, 268203)\n",
      "Loaded inverse HVP from output/poisoning_900_300_inception_wd-0.001-test-[15, 169].npz\n",
      "Inverse HVP took 0.000629901885986 sec\n",
      "Entering the for loop\n"
     ]
    },
    {
     "name": "stderr",
     "output_type": "stream",
     "text": [
      "[iter_attack.py:160 -     iterative_attack() ] Attach_iter 31 perturbation shape: (1, 268203), perturbation: [[ 1.30547094e-04 -4.39950491e-05  8.18990666e-05 ...  1.82253701e-04\n",
      "  -3.77370452e-04  4.79913200e-04]]\n"
     ]
    },
    {
     "name": "stdout",
     "output_type": "stream",
     "text": [
      "(1, 268203)\n",
      "10 10\n"
     ]
    },
    {
     "name": "stderr",
     "output_type": "stream",
     "text": [
      "[genericNeuralNet.py:328 -     print_model_eval() ] Train loss (w reg) on all data: 0.019350685\n",
      "[genericNeuralNet.py:329 -     print_model_eval() ] Train loss (w/o reg) on all data: 0.008264053\n",
      "[genericNeuralNet.py:331 -     print_model_eval() ] Test loss (w/o reg) on all data: 0.063106306\n",
      "[genericNeuralNet.py:332 -     print_model_eval() ] Train acc on all data:  0.9988888888888889\n",
      "[genericNeuralNet.py:333 -     print_model_eval() ] Test acc on all data:   0.9733333333333334\n",
      "[genericNeuralNet.py:335 -     print_model_eval() ] Norm of the mean of gradients: 0.017295329\n",
      "[genericNeuralNet.py:336 -     print_model_eval() ] Norm of the params: 4.7088494\n"
     ]
    },
    {
     "name": "stdout",
     "output_type": "stream",
     "text": [
      "Shape (10, 2048)\n",
      "Using normal model\n",
      "LBFGS training took [54] iter.\n",
      "After training with LBFGS: \n"
     ]
    },
    {
     "name": "stderr",
     "output_type": "stream",
     "text": [
      "[iter_attack.py:204 -     iterative_attack() ] Test_idx: 15 Test pred (full): [[0.00747525 0.9925248 ]]\n",
      "[iter_attack.py:204 -     iterative_attack() ] Test_idx: 169 Test pred (full): [[0.9988048  0.00119515]]\n",
      "[iter_attack.py:205 -     iterative_attack() ] ---------------------\n",
      "[iter_attack.py:210 -     iterative_attack() ] Test_idx: 15 Test pred (top): [[0.00747525 0.9925248 ]]\n",
      "[iter_attack.py:210 -     iterative_attack() ] Test_idx: 169 Test pred (top): [[0.9988048  0.00119515]]\n",
      "[iter_attack.py:138 -     iterative_attack() ] *** Iter: 32\n"
     ]
    },
    {
     "name": "stdout",
     "output_type": "stream",
     "text": [
      "Total number of parameters: 2048\n"
     ]
    },
    {
     "name": "stderr",
     "output_type": "stream",
     "text": [
      "[iter_attack.py:160 -     iterative_attack() ] Attach_iter 32 perturbation shape: (1, 268203), perturbation: [[ 0.22167936 -0.11822768 -0.14989987 ...  0.4748894  -0.45151421\n",
      "   0.04476485]]\n"
     ]
    },
    {
     "name": "stdout",
     "output_type": "stream",
     "text": [
      "Warning: Desired error not necessarily achieved due to precision loss.\n",
      "         Current function value: -4705.136719\n",
      "         Iterations: 9\n",
      "         Function evaluations: 84\n",
      "         Gradient evaluations: 81\n",
      "         Hessian evaluations: 64\n",
      "Inverse HVP took 2.36634516716 sec\n",
      "Loaded inverse HVP from output/poisoning_900_300_inception_wd-0.001-test-[15, 169].npz\n",
      "Inverse HVP took 0.000540018081665 sec\n",
      "Entering the for loop\n",
      "(1, 268203)\n",
      "Loaded inverse HVP from output/poisoning_900_300_inception_wd-0.001-test-[15, 169].npz\n",
      "Inverse HVP took 0.000585079193115 sec\n",
      "Entering the for loop\n"
     ]
    },
    {
     "name": "stderr",
     "output_type": "stream",
     "text": [
      "[iter_attack.py:160 -     iterative_attack() ] Attach_iter 32 perturbation shape: (1, 268203), perturbation: [[-2.03988257e-08  9.12948366e-08  6.28789678e-08 ... -1.03927064e-07\n",
      "   4.75157869e-08  3.40702613e-08]]\n",
      "[iter_attack.py:160 -     iterative_attack() ] Attach_iter 32 perturbation shape: (1, 268203), perturbation: [[-0.05888893  0.00092472 -0.0599881  ... -0.04251396 -0.03318183\n",
      "   0.02219729]]\n"
     ]
    },
    {
     "name": "stdout",
     "output_type": "stream",
     "text": [
      "(1, 268203)\n",
      "Loaded inverse HVP from output/poisoning_900_300_inception_wd-0.001-test-[15, 169].npz\n",
      "Inverse HVP took 0.00058388710022 sec\n",
      "Entering the for loop\n",
      "(1, 268203)\n",
      "Loaded inverse HVP from output/poisoning_900_300_inception_wd-0.001-test-[15, 169].npz\n",
      "Inverse HVP took 0.000597953796387 sec\n",
      "Entering the for loop\n"
     ]
    },
    {
     "name": "stderr",
     "output_type": "stream",
     "text": [
      "[iter_attack.py:160 -     iterative_attack() ] Attach_iter 32 perturbation shape: (1, 268203), perturbation: [[-0.00038824 -0.00045982  0.00014411 ... -0.00101029 -0.00052007\n",
      "   0.00071044]]\n",
      "[iter_attack.py:160 -     iterative_attack() ] Attach_iter 32 perturbation shape: (1, 268203), perturbation: [[-0.00555961  0.00237607 -0.00191455 ... -0.02238614 -0.02146978\n",
      "  -0.00592648]]\n"
     ]
    },
    {
     "name": "stdout",
     "output_type": "stream",
     "text": [
      "(1, 268203)\n",
      "Loaded inverse HVP from output/poisoning_900_300_inception_wd-0.001-test-[15, 169].npz\n",
      "Inverse HVP took 0.000633001327515 sec\n",
      "Entering the for loop\n",
      "(1, 268203)\n",
      "Loaded inverse HVP from output/poisoning_900_300_inception_wd-0.001-test-[15, 169].npz\n",
      "Inverse HVP took 0.000581979751587 sec\n",
      "Entering the for loop\n"
     ]
    },
    {
     "name": "stderr",
     "output_type": "stream",
     "text": [
      "[iter_attack.py:160 -     iterative_attack() ] Attach_iter 32 perturbation shape: (1, 268203), perturbation: [[-0.06547625 -0.11382125  0.19778392 ... -0.04684779 -0.05776724\n",
      "   0.01906664]]\n",
      "[iter_attack.py:160 -     iterative_attack() ] Attach_iter 32 perturbation shape: (1, 268203), perturbation: [[ 0.00835687 -0.00402121 -0.03337334 ...  0.02175633  0.01475018\n",
      "  -0.00775131]]\n"
     ]
    },
    {
     "name": "stdout",
     "output_type": "stream",
     "text": [
      "(1, 268203)\n",
      "Loaded inverse HVP from output/poisoning_900_300_inception_wd-0.001-test-[15, 169].npz\n",
      "Inverse HVP took 0.00058388710022 sec\n",
      "Entering the for loop\n",
      "(1, 268203)\n",
      "Loaded inverse HVP from output/poisoning_900_300_inception_wd-0.001-test-[15, 169].npz\n",
      "Inverse HVP took 0.000625848770142 sec\n",
      "Entering the for loop\n"
     ]
    },
    {
     "name": "stderr",
     "output_type": "stream",
     "text": [
      "[iter_attack.py:160 -     iterative_attack() ] Attach_iter 32 perturbation shape: (1, 268203), perturbation: [[ 0.25000137 -0.01394053  0.16819054 ...  0.27047095 -0.09125441\n",
      "  -0.37750444]]\n",
      "[iter_attack.py:160 -     iterative_attack() ] Attach_iter 32 perturbation shape: (1, 268203), perturbation: [[-2.55088925 -0.71511316  0.4867928  ... -0.01475503 -0.00271099\n",
      "  -0.00547957]]\n"
     ]
    },
    {
     "name": "stdout",
     "output_type": "stream",
     "text": [
      "(1, 268203)\n",
      "Loaded inverse HVP from output/poisoning_900_300_inception_wd-0.001-test-[15, 169].npz\n",
      "Inverse HVP took 0.000580072402954 sec\n",
      "Entering the for loop\n",
      "(1, 268203)\n",
      "Loaded inverse HVP from output/poisoning_900_300_inception_wd-0.001-test-[15, 169].npz\n",
      "Inverse HVP took 0.000582933425903 sec\n",
      "Entering the for loop\n"
     ]
    },
    {
     "name": "stderr",
     "output_type": "stream",
     "text": [
      "[iter_attack.py:160 -     iterative_attack() ] Attach_iter 32 perturbation shape: (1, 268203), perturbation: [[ 3.29409959e-05 -4.34212910e-04  2.91430915e-04 ... -2.39369227e-04\n",
      "  -7.08476990e-04  7.24471814e-04]]\n"
     ]
    },
    {
     "name": "stdout",
     "output_type": "stream",
     "text": [
      "(1, 268203)\n",
      "10 10\n",
      "Shape (10, 2048)\n",
      "Using normal model\n"
     ]
    },
    {
     "name": "stderr",
     "output_type": "stream",
     "text": [
      "[genericNeuralNet.py:328 -     print_model_eval() ] Train loss (w reg) on all data: 0.019729774\n",
      "[genericNeuralNet.py:329 -     print_model_eval() ] Train loss (w/o reg) on all data: 0.008448257\n",
      "[genericNeuralNet.py:331 -     print_model_eval() ] Test loss (w/o reg) on all data: 0.06624261\n",
      "[genericNeuralNet.py:332 -     print_model_eval() ] Train acc on all data:  0.9988888888888889\n",
      "[genericNeuralNet.py:333 -     print_model_eval() ] Test acc on all data:   0.9733333333333334\n",
      "[genericNeuralNet.py:335 -     print_model_eval() ] Norm of the mean of gradients: 0.017287822\n",
      "[genericNeuralNet.py:336 -     print_model_eval() ] Norm of the params: 4.7500563\n",
      "[iter_attack.py:204 -     iterative_attack() ] Test_idx: 15 Test pred (full): [[0.00600646 0.9939936 ]]\n",
      "[iter_attack.py:204 -     iterative_attack() ] Test_idx: 169 Test pred (full): [[0.99889463 0.00110534]]\n",
      "[iter_attack.py:205 -     iterative_attack() ] ---------------------\n",
      "[iter_attack.py:210 -     iterative_attack() ] Test_idx: 15 Test pred (top): [[0.00600646 0.9939936 ]]\n",
      "[iter_attack.py:210 -     iterative_attack() ] Test_idx: 169 Test pred (top): [[0.99889463 0.00110534]]\n",
      "[iter_attack.py:138 -     iterative_attack() ] *** Iter: 33\n"
     ]
    },
    {
     "name": "stdout",
     "output_type": "stream",
     "text": [
      "LBFGS training took [54] iter.\n",
      "After training with LBFGS: \n",
      "Total number of parameters: 2048\n"
     ]
    },
    {
     "name": "stderr",
     "output_type": "stream",
     "text": [
      "[iter_attack.py:160 -     iterative_attack() ] Attach_iter 33 perturbation shape: (1, 268203), perturbation: [[ 0.49139193 -0.19601458  0.02006259 ... -0.07200647  0.3829861\n",
      "  -0.25326088]]\n"
     ]
    },
    {
     "name": "stdout",
     "output_type": "stream",
     "text": [
      "Warning: Desired error not necessarily achieved due to precision loss.\n",
      "         Current function value: -4698.340820\n",
      "         Iterations: 9\n",
      "         Function evaluations: 137\n",
      "         Gradient evaluations: 133\n",
      "         Hessian evaluations: 49\n",
      "Inverse HVP took 3.26976919174 sec\n",
      "Loaded inverse HVP from output/poisoning_900_300_inception_wd-0.001-test-[15, 169].npz\n",
      "Inverse HVP took 0.000630140304565 sec\n",
      "Entering the for loop\n",
      "(1, 268203)\n",
      "Loaded inverse HVP from output/poisoning_900_300_inception_wd-0.001-test-[15, 169].npz\n",
      "Inverse HVP took 0.000581979751587 sec\n",
      "Entering the for loop\n"
     ]
    },
    {
     "name": "stderr",
     "output_type": "stream",
     "text": [
      "[iter_attack.py:160 -     iterative_attack() ] Attach_iter 33 perturbation shape: (1, 268203), perturbation: [[-3.21549649e-08  8.33411562e-08  5.06584321e-08 ...  3.21248699e-08\n",
      "   4.03087874e-08 -1.43905226e-07]]\n",
      "[iter_attack.py:160 -     iterative_attack() ] Attach_iter 33 perturbation shape: (1, 268203), perturbation: [[-0.05178244 -0.01117721 -0.06066559 ... -0.04296729 -0.02235105\n",
      "   0.01439418]]\n"
     ]
    },
    {
     "name": "stdout",
     "output_type": "stream",
     "text": [
      "(1, 268203)\n",
      "Loaded inverse HVP from output/poisoning_900_300_inception_wd-0.001-test-[15, 169].npz\n",
      "Inverse HVP took 0.000588893890381 sec\n",
      "Entering the for loop\n",
      "(1, 268203)\n",
      "Loaded inverse HVP from output/poisoning_900_300_inception_wd-0.001-test-[15, 169].npz\n",
      "Inverse HVP took 0.000633001327515 sec\n",
      "Entering the for loop\n"
     ]
    },
    {
     "name": "stderr",
     "output_type": "stream",
     "text": [
      "[iter_attack.py:160 -     iterative_attack() ] Attach_iter 33 perturbation shape: (1, 268203), perturbation: [[ 8.31032230e-05  7.99349626e-04 -2.90579919e-04 ... -5.33808139e-04\n",
      "  -1.76692987e-03  1.77124934e-03]]\n",
      "[iter_attack.py:160 -     iterative_attack() ] Attach_iter 33 perturbation shape: (1, 268203), perturbation: [[-0.0064475   0.00163772 -0.00428182 ... -0.01841215 -0.01028905\n",
      "   0.01255647]]\n"
     ]
    },
    {
     "name": "stdout",
     "output_type": "stream",
     "text": [
      "(1, 268203)\n",
      "Loaded inverse HVP from output/poisoning_900_300_inception_wd-0.001-test-[15, 169].npz\n",
      "Inverse HVP took 0.000591993331909 sec\n",
      "Entering the for loop\n",
      "(1, 268203)\n",
      "Loaded inverse HVP from output/poisoning_900_300_inception_wd-0.001-test-[15, 169].npz\n",
      "Inverse HVP took 0.000587940216064 sec\n",
      "Entering the for loop\n"
     ]
    },
    {
     "name": "stderr",
     "output_type": "stream",
     "text": [
      "[iter_attack.py:160 -     iterative_attack() ] Attach_iter 33 perturbation shape: (1, 268203), perturbation: [[-0.17646502  0.03837338 -0.07423649 ...  0.00060156 -0.03932795\n",
      "   0.06130072]]\n",
      "[iter_attack.py:160 -     iterative_attack() ] Attach_iter 33 perturbation shape: (1, 268203), perturbation: [[ 0.0477786   0.00681989 -0.06090967 ...  0.01822679  0.00488965\n",
      "  -0.00062323]]\n"
     ]
    },
    {
     "name": "stdout",
     "output_type": "stream",
     "text": [
      "(1, 268203)\n",
      "Loaded inverse HVP from output/poisoning_900_300_inception_wd-0.001-test-[15, 169].npz\n",
      "Inverse HVP took 0.000622034072876 sec\n",
      "Entering the for loop\n",
      "(1, 268203)\n",
      "Loaded inverse HVP from output/poisoning_900_300_inception_wd-0.001-test-[15, 169].npz\n",
      "Inverse HVP took 0.000633001327515 sec\n",
      "Entering the for loop\n"
     ]
    },
    {
     "name": "stderr",
     "output_type": "stream",
     "text": [
      "[iter_attack.py:160 -     iterative_attack() ] Attach_iter 33 perturbation shape: (1, 268203), perturbation: [[-0.12674066 -0.12261896 -0.09359147 ...  0.09405973 -0.05745777\n",
      "   0.34136546]]\n",
      "[iter_attack.py:160 -     iterative_attack() ] Attach_iter 33 perturbation shape: (1, 268203), perturbation: [[ 0.75446784  0.325607   -0.07584563 ... -0.03857281  0.00217242\n",
      "   0.01430956]]\n"
     ]
    },
    {
     "name": "stdout",
     "output_type": "stream",
     "text": [
      "(1, 268203)\n",
      "Loaded inverse HVP from output/poisoning_900_300_inception_wd-0.001-test-[15, 169].npz\n",
      "Inverse HVP took 0.000585079193115 sec\n",
      "Entering the for loop\n",
      "(1, 268203)\n",
      "Loaded inverse HVP from output/poisoning_900_300_inception_wd-0.001-test-[15, 169].npz\n",
      "Inverse HVP took 0.000627994537354 sec\n",
      "Entering the for loop\n"
     ]
    },
    {
     "name": "stderr",
     "output_type": "stream",
     "text": [
      "[iter_attack.py:160 -     iterative_attack() ] Attach_iter 33 perturbation shape: (1, 268203), perturbation: [[ 0.00055509 -0.00018926 -0.00041038 ... -0.00027536 -0.00114459\n",
      "   0.00096058]]\n"
     ]
    },
    {
     "name": "stdout",
     "output_type": "stream",
     "text": [
      "(1, 268203)\n",
      "10 10\n"
     ]
    },
    {
     "name": "stderr",
     "output_type": "stream",
     "text": [
      "[genericNeuralNet.py:328 -     print_model_eval() ] Train loss (w reg) on all data: 0.01965123\n",
      "[genericNeuralNet.py:329 -     print_model_eval() ] Train loss (w/o reg) on all data: 0.008401624\n",
      "[genericNeuralNet.py:331 -     print_model_eval() ] Test loss (w/o reg) on all data: 0.06382714\n",
      "[genericNeuralNet.py:332 -     print_model_eval() ] Train acc on all data:  0.9988888888888889\n",
      "[genericNeuralNet.py:333 -     print_model_eval() ] Test acc on all data:   0.9733333333333334\n",
      "[genericNeuralNet.py:335 -     print_model_eval() ] Norm of the mean of gradients: 0.016509628\n",
      "[genericNeuralNet.py:336 -     print_model_eval() ] Norm of the params: 4.743334\n"
     ]
    },
    {
     "name": "stdout",
     "output_type": "stream",
     "text": [
      "Shape (10, 2048)\n",
      "Using normal model\n",
      "LBFGS training took [51] iter.\n",
      "After training with LBFGS: \n"
     ]
    },
    {
     "name": "stderr",
     "output_type": "stream",
     "text": [
      "[iter_attack.py:204 -     iterative_attack() ] Test_idx: 15 Test pred (full): [[0.00486237 0.99513763]]\n",
      "[iter_attack.py:204 -     iterative_attack() ] Test_idx: 169 Test pred (full): [[0.99881184 0.00118814]]\n",
      "[iter_attack.py:205 -     iterative_attack() ] ---------------------\n",
      "[iter_attack.py:210 -     iterative_attack() ] Test_idx: 15 Test pred (top): [[0.00486237 0.99513763]]\n",
      "[iter_attack.py:210 -     iterative_attack() ] Test_idx: 169 Test pred (top): [[0.99881184 0.00118814]]\n",
      "[iter_attack.py:138 -     iterative_attack() ] *** Iter: 34\n"
     ]
    },
    {
     "name": "stdout",
     "output_type": "stream",
     "text": [
      "Total number of parameters: 2048\n"
     ]
    },
    {
     "name": "stderr",
     "output_type": "stream",
     "text": [
      "[iter_attack.py:160 -     iterative_attack() ] Attach_iter 34 perturbation shape: (1, 268203), perturbation: [[ 0.23998851 -0.18707022 -0.43343577 ...  0.19587518 -0.54059553\n",
      "   0.17214212]]\n"
     ]
    },
    {
     "name": "stdout",
     "output_type": "stream",
     "text": [
      "Warning: Desired error not necessarily achieved due to precision loss.\n",
      "         Current function value: -4671.541016\n",
      "         Iterations: 9\n",
      "         Function evaluations: 64\n",
      "         Gradient evaluations: 61\n",
      "         Hessian evaluations: 52\n",
      "Inverse HVP took 1.83844089508 sec\n",
      "Loaded inverse HVP from output/poisoning_900_300_inception_wd-0.001-test-[15, 169].npz\n",
      "Inverse HVP took 0.000540971755981 sec\n",
      "Entering the for loop\n",
      "(1, 268203)\n",
      "Loaded inverse HVP from output/poisoning_900_300_inception_wd-0.001-test-[15, 169].npz\n",
      "Inverse HVP took 0.000582933425903 sec\n",
      "Entering the for loop\n"
     ]
    },
    {
     "name": "stderr",
     "output_type": "stream",
     "text": [
      "[iter_attack.py:160 -     iterative_attack() ] Attach_iter 34 perturbation shape: (1, 268203), perturbation: [[-1.08275273e-08  1.86591080e-08  3.14127888e-08 ... -9.06235940e-08\n",
      "   6.33940189e-09  3.67509898e-08]]\n",
      "[iter_attack.py:160 -     iterative_attack() ] Attach_iter 34 perturbation shape: (1, 268203), perturbation: [[ 0.16688347  0.11352578 -0.04917376 ... -0.04036419 -0.00974957\n",
      "  -0.00112054]]\n"
     ]
    },
    {
     "name": "stdout",
     "output_type": "stream",
     "text": [
      "(1, 268203)\n",
      "Loaded inverse HVP from output/poisoning_900_300_inception_wd-0.001-test-[15, 169].npz\n",
      "Inverse HVP took 0.000581979751587 sec\n",
      "Entering the for loop\n",
      "(1, 268203)\n",
      "Loaded inverse HVP from output/poisoning_900_300_inception_wd-0.001-test-[15, 169].npz\n",
      "Inverse HVP took 0.000581026077271 sec\n",
      "Entering the for loop\n"
     ]
    },
    {
     "name": "stderr",
     "output_type": "stream",
     "text": [
      "[iter_attack.py:160 -     iterative_attack() ] Attach_iter 34 perturbation shape: (1, 268203), perturbation: [[ 0.00056328  0.00066322 -0.00035747 ... -0.00104681 -0.0011955\n",
      "   0.00180914]]\n",
      "[iter_attack.py:160 -     iterative_attack() ] Attach_iter 34 perturbation shape: (1, 268203), perturbation: [[-0.00826099  0.0028809  -0.00488924 ... -0.00055315 -0.01843113\n",
      "  -0.02166642]]\n"
     ]
    },
    {
     "name": "stdout",
     "output_type": "stream",
     "text": [
      "(1, 268203)\n",
      "Loaded inverse HVP from output/poisoning_900_300_inception_wd-0.001-test-[15, 169].npz\n",
      "Inverse HVP took 0.000578880310059 sec\n",
      "Entering the for loop\n",
      "(1, 268203)\n",
      "Loaded inverse HVP from output/poisoning_900_300_inception_wd-0.001-test-[15, 169].npz\n",
      "Inverse HVP took 0.000581979751587 sec\n",
      "Entering the for loop\n"
     ]
    },
    {
     "name": "stderr",
     "output_type": "stream",
     "text": [
      "[iter_attack.py:160 -     iterative_attack() ] Attach_iter 34 perturbation shape: (1, 268203), perturbation: [[-0.08080222 -0.13649648  0.25180575 ... -0.05408042 -0.07294789\n",
      "   0.02054548]]\n",
      "[iter_attack.py:160 -     iterative_attack() ] Attach_iter 34 perturbation shape: (1, 268203), perturbation: [[-0.02420984 -0.01850642 -0.00414717 ... -0.03008012  0.02375827\n",
      "   0.01893362]]\n"
     ]
    },
    {
     "name": "stdout",
     "output_type": "stream",
     "text": [
      "(1, 268203)\n",
      "Loaded inverse HVP from output/poisoning_900_300_inception_wd-0.001-test-[15, 169].npz\n",
      "Inverse HVP took 0.000576019287109 sec\n",
      "Entering the for loop\n",
      "(1, 268203)\n",
      "Loaded inverse HVP from output/poisoning_900_300_inception_wd-0.001-test-[15, 169].npz\n",
      "Inverse HVP took 0.000579833984375 sec\n",
      "Entering the for loop\n"
     ]
    },
    {
     "name": "stderr",
     "output_type": "stream",
     "text": [
      "[iter_attack.py:160 -     iterative_attack() ] Attach_iter 34 perturbation shape: (1, 268203), perturbation: [[ 0.20993347 -0.05228081  0.20175219 ...  0.45638058 -0.17967898\n",
      "  -0.41784263]]\n",
      "[iter_attack.py:160 -     iterative_attack() ] Attach_iter 34 perturbation shape: (1, 268203), perturbation: [[-2.66356659 -0.69579715  0.60044086 ... -0.05119247 -0.01426415\n",
      "   0.05361357]]\n"
     ]
    },
    {
     "name": "stdout",
     "output_type": "stream",
     "text": [
      "(1, 268203)\n",
      "Loaded inverse HVP from output/poisoning_900_300_inception_wd-0.001-test-[15, 169].npz\n",
      "Inverse HVP took 0.000582218170166 sec\n",
      "Entering the for loop\n",
      "(1, 268203)\n",
      "Loaded inverse HVP from output/poisoning_900_300_inception_wd-0.001-test-[15, 169].npz\n",
      "Inverse HVP took 0.000576972961426 sec\n",
      "Entering the for loop\n"
     ]
    },
    {
     "name": "stderr",
     "output_type": "stream",
     "text": [
      "[iter_attack.py:160 -     iterative_attack() ] Attach_iter 34 perturbation shape: (1, 268203), perturbation: [[ 0.00090482 -0.00105772 -0.00122548 ... -0.00051598 -0.00047678\n",
      "   0.00056655]]\n"
     ]
    },
    {
     "name": "stdout",
     "output_type": "stream",
     "text": [
      "(1, 268203)\n",
      "10 10\n"
     ]
    },
    {
     "name": "stderr",
     "output_type": "stream",
     "text": [
      "[genericNeuralNet.py:328 -     print_model_eval() ] Train loss (w reg) on all data: 0.020056784\n"
     ]
    },
    {
     "name": "stdout",
     "output_type": "stream",
     "text": [
      "Shape (10, 2048)\n",
      "Using normal model\n",
      "LBFGS training took [57] iter.\n",
      "After training with LBFGS: \n"
     ]
    },
    {
     "name": "stderr",
     "output_type": "stream",
     "text": [
      "[genericNeuralNet.py:329 -     print_model_eval() ] Train loss (w/o reg) on all data: 0.0086019905\n",
      "[genericNeuralNet.py:331 -     print_model_eval() ] Test loss (w/o reg) on all data: 0.06663675\n",
      "[genericNeuralNet.py:332 -     print_model_eval() ] Train acc on all data:  0.9988888888888889\n",
      "[genericNeuralNet.py:333 -     print_model_eval() ] Test acc on all data:   0.975\n",
      "[genericNeuralNet.py:335 -     print_model_eval() ] Norm of the mean of gradients: 0.016578551\n",
      "[genericNeuralNet.py:336 -     print_model_eval() ] Norm of the params: 4.7863955\n",
      "[iter_attack.py:204 -     iterative_attack() ] Test_idx: 15 Test pred (full): [[0.00394227 0.99605775]]\n",
      "[iter_attack.py:204 -     iterative_attack() ] Test_idx: 169 Test pred (full): [[0.9988869  0.00111313]]\n",
      "[iter_attack.py:205 -     iterative_attack() ] ---------------------\n",
      "[iter_attack.py:210 -     iterative_attack() ] Test_idx: 15 Test pred (top): [[0.00394227 0.99605775]]\n",
      "[iter_attack.py:210 -     iterative_attack() ] Test_idx: 169 Test pred (top): [[0.9988869  0.00111313]]\n",
      "[iter_attack.py:138 -     iterative_attack() ] *** Iter: 35\n"
     ]
    },
    {
     "name": "stdout",
     "output_type": "stream",
     "text": [
      "Total number of parameters: 2048\n"
     ]
    },
    {
     "name": "stderr",
     "output_type": "stream",
     "text": [
      "[iter_attack.py:160 -     iterative_attack() ] Attach_iter 35 perturbation shape: (1, 268203), perturbation: [[ 0.60413933 -0.01225579  0.11687189 ...  0.29240471  0.27622357\n",
      "  -0.28528291]]\n"
     ]
    },
    {
     "name": "stdout",
     "output_type": "stream",
     "text": [
      "Warning: Desired error not necessarily achieved due to precision loss.\n",
      "         Current function value: -4661.783203\n",
      "         Iterations: 10\n",
      "         Function evaluations: 248\n",
      "         Gradient evaluations: 244\n",
      "         Hessian evaluations: 63\n",
      "Inverse HVP took 5.93902587891 sec\n",
      "Loaded inverse HVP from output/poisoning_900_300_inception_wd-0.001-test-[15, 169].npz\n",
      "Inverse HVP took 0.000550985336304 sec\n",
      "Entering the for loop\n",
      "(1, 268203)\n",
      "Loaded inverse HVP from output/poisoning_900_300_inception_wd-0.001-test-[15, 169].npz\n",
      "Inverse HVP took 0.000643014907837 sec\n",
      "Entering the for loop\n"
     ]
    },
    {
     "name": "stderr",
     "output_type": "stream",
     "text": [
      "[iter_attack.py:160 -     iterative_attack() ] Attach_iter 35 perturbation shape: (1, 268203), perturbation: [[-2.72660099e-08  2.86162631e-08  1.90711944e-08 ...  3.04565750e-09\n",
      "   2.45076883e-08 -5.06676301e-08]]\n",
      "[iter_attack.py:160 -     iterative_attack() ] Attach_iter 35 perturbation shape: (1, 268203), perturbation: [[ 0.23787498  0.14605975 -0.1007038  ... -0.06094222 -0.03113419\n",
      "   0.02533193]]\n"
     ]
    },
    {
     "name": "stdout",
     "output_type": "stream",
     "text": [
      "(1, 268203)\n",
      "Loaded inverse HVP from output/poisoning_900_300_inception_wd-0.001-test-[15, 169].npz\n",
      "Inverse HVP took 0.000633001327515 sec\n",
      "Entering the for loop\n",
      "(1, 268203)\n",
      "Loaded inverse HVP from output/poisoning_900_300_inception_wd-0.001-test-[15, 169].npz\n",
      "Inverse HVP took 0.000611066818237 sec\n",
      "Entering the for loop\n"
     ]
    },
    {
     "name": "stderr",
     "output_type": "stream",
     "text": [
      "[iter_attack.py:160 -     iterative_attack() ] Attach_iter 35 perturbation shape: (1, 268203), perturbation: [[ 0.00061529  0.00147856 -0.00046204 ... -0.00112967 -0.00184446\n",
      "   0.00063505]]\n",
      "[iter_attack.py:160 -     iterative_attack() ] Attach_iter 35 perturbation shape: (1, 268203), perturbation: [[-0.00475963  0.0022515  -0.0048522  ... -0.0188173   0.02554266\n",
      "   0.00334506]]\n"
     ]
    },
    {
     "name": "stdout",
     "output_type": "stream",
     "text": [
      "(1, 268203)\n",
      "Loaded inverse HVP from output/poisoning_900_300_inception_wd-0.001-test-[15, 169].npz\n",
      "Inverse HVP took 0.000596046447754 sec\n",
      "Entering the for loop\n",
      "(1, 268203)\n",
      "Loaded inverse HVP from output/poisoning_900_300_inception_wd-0.001-test-[15, 169].npz\n",
      "Inverse HVP took 0.000591039657593 sec\n",
      "Entering the for loop\n"
     ]
    },
    {
     "name": "stderr",
     "output_type": "stream",
     "text": [
      "[iter_attack.py:160 -     iterative_attack() ] Attach_iter 35 perturbation shape: (1, 268203), perturbation: [[-0.1870393   0.04848731 -0.09269735 ... -0.00214185 -0.05485307\n",
      "   0.04982146]]\n",
      "[iter_attack.py:160 -     iterative_attack() ] Attach_iter 35 perturbation shape: (1, 268203), perturbation: [[ 0.00800058  0.00466206 -0.04932218 ... -0.02609107  0.01392848\n",
      "   0.0084521 ]]\n"
     ]
    },
    {
     "name": "stdout",
     "output_type": "stream",
     "text": [
      "(1, 268203)\n",
      "Loaded inverse HVP from output/poisoning_900_300_inception_wd-0.001-test-[15, 169].npz\n",
      "Inverse HVP took 0.000581026077271 sec\n",
      "Entering the for loop\n",
      "(1, 268203)\n",
      "Loaded inverse HVP from output/poisoning_900_300_inception_wd-0.001-test-[15, 169].npz\n",
      "Inverse HVP took 0.000586032867432 sec\n",
      "Entering the for loop\n"
     ]
    },
    {
     "name": "stderr",
     "output_type": "stream",
     "text": [
      "[iter_attack.py:160 -     iterative_attack() ] Attach_iter 35 perturbation shape: (1, 268203), perturbation: [[-0.11060379 -0.06357546 -0.08215341 ... -0.7731213   0.11619684\n",
      "   0.75582492]]\n",
      "[iter_attack.py:160 -     iterative_attack() ] Attach_iter 35 perturbation shape: (1, 268203), perturbation: [[ 0.38072073  0.28259838 -0.04179622 ...  0.01098599  0.00562397\n",
      "  -0.04184319]]\n"
     ]
    },
    {
     "name": "stdout",
     "output_type": "stream",
     "text": [
      "(1, 268203)\n",
      "Loaded inverse HVP from output/poisoning_900_300_inception_wd-0.001-test-[15, 169].npz\n",
      "Inverse HVP took 0.000581026077271 sec\n",
      "Entering the for loop\n",
      "(1, 268203)\n",
      "Loaded inverse HVP from output/poisoning_900_300_inception_wd-0.001-test-[15, 169].npz\n",
      "Inverse HVP took 0.000599145889282 sec\n",
      "Entering the for loop\n"
     ]
    },
    {
     "name": "stderr",
     "output_type": "stream",
     "text": [
      "[iter_attack.py:160 -     iterative_attack() ] Attach_iter 35 perturbation shape: (1, 268203), perturbation: [[-2.37092987e-04  3.79017656e-05 -3.24903667e-05 ... -3.59800761e-04\n",
      "  -1.86291360e-03  1.40979025e-03]]\n"
     ]
    },
    {
     "name": "stdout",
     "output_type": "stream",
     "text": [
      "(1, 268203)\n",
      "10 10\n"
     ]
    },
    {
     "name": "stderr",
     "output_type": "stream",
     "text": [
      "[genericNeuralNet.py:328 -     print_model_eval() ] Train loss (w reg) on all data: 0.020012382\n",
      "[genericNeuralNet.py:329 -     print_model_eval() ] Train loss (w/o reg) on all data: 0.008602671\n"
     ]
    },
    {
     "name": "stdout",
     "output_type": "stream",
     "text": [
      "Shape (10, 2048)\n",
      "Using normal model\n",
      "LBFGS training took [67] iter.\n",
      "After training with LBFGS: \n"
     ]
    },
    {
     "name": "stderr",
     "output_type": "stream",
     "text": [
      "[genericNeuralNet.py:331 -     print_model_eval() ] Test loss (w/o reg) on all data: 0.06475658\n",
      "[genericNeuralNet.py:332 -     print_model_eval() ] Train acc on all data:  0.9988888888888889\n",
      "[genericNeuralNet.py:333 -     print_model_eval() ] Test acc on all data:   0.9733333333333334\n",
      "[genericNeuralNet.py:335 -     print_model_eval() ] Norm of the mean of gradients: 0.01616564\n",
      "[genericNeuralNet.py:336 -     print_model_eval() ] Norm of the params: 4.776967\n",
      "[iter_attack.py:204 -     iterative_attack() ] Test_idx: 15 Test pred (full): [[0.00322555 0.9967745 ]]\n",
      "[iter_attack.py:204 -     iterative_attack() ] Test_idx: 169 Test pred (full): [[0.99881727 0.00118267]]\n",
      "[iter_attack.py:205 -     iterative_attack() ] ---------------------\n",
      "[iter_attack.py:210 -     iterative_attack() ] Test_idx: 15 Test pred (top): [[0.00322555 0.9967745 ]]\n",
      "[iter_attack.py:210 -     iterative_attack() ] Test_idx: 169 Test pred (top): [[0.99881727 0.00118267]]\n",
      "[iter_attack.py:138 -     iterative_attack() ] *** Iter: 36\n"
     ]
    },
    {
     "name": "stdout",
     "output_type": "stream",
     "text": [
      "Total number of parameters: 2048\n"
     ]
    },
    {
     "name": "stderr",
     "output_type": "stream",
     "text": [
      "[iter_attack.py:160 -     iterative_attack() ] Attach_iter 36 perturbation shape: (1, 268203), perturbation: [[ 0.12656921  0.20432289 -0.06659202 ...  0.12938008 -0.4014636\n",
      "  -0.00842619]]\n"
     ]
    },
    {
     "name": "stdout",
     "output_type": "stream",
     "text": [
      "Warning: Desired error not necessarily achieved due to precision loss.\n",
      "         Current function value: -4624.612305\n",
      "         Iterations: 9\n",
      "         Function evaluations: 80\n",
      "         Gradient evaluations: 79\n",
      "         Hessian evaluations: 50\n",
      "Inverse HVP took 2.16754794121 sec\n",
      "Loaded inverse HVP from output/poisoning_900_300_inception_wd-0.001-test-[15, 169].npz\n",
      "Inverse HVP took 0.000537157058716 sec\n",
      "Entering the for loop\n",
      "(1, 268203)\n",
      "Loaded inverse HVP from output/poisoning_900_300_inception_wd-0.001-test-[15, 169].npz\n",
      "Inverse HVP took 0.000580072402954 sec\n",
      "Entering the for loop\n"
     ]
    },
    {
     "name": "stderr",
     "output_type": "stream",
     "text": [
      "[iter_attack.py:160 -     iterative_attack() ] Attach_iter 36 perturbation shape: (1, 268203), perturbation: [[-2.67024980e-09  2.07053574e-08  2.93680209e-08 ... -2.07004902e-08\n",
      "   1.42263468e-09  7.20768600e-09]]\n",
      "[iter_attack.py:160 -     iterative_attack() ] Attach_iter 36 perturbation shape: (1, 268203), perturbation: [[ 0.14798541  0.09400679 -0.03897759 ... -0.03835291 -0.01022554\n",
      "   0.01765361]]\n"
     ]
    },
    {
     "name": "stdout",
     "output_type": "stream",
     "text": [
      "(1, 268203)\n",
      "Loaded inverse HVP from output/poisoning_900_300_inception_wd-0.001-test-[15, 169].npz\n",
      "Inverse HVP took 0.00059986114502 sec\n",
      "Entering the for loop\n",
      "(1, 268203)\n",
      "Loaded inverse HVP from output/poisoning_900_300_inception_wd-0.001-test-[15, 169].npz\n",
      "Inverse HVP took 0.000576019287109 sec\n",
      "Entering the for loop\n"
     ]
    },
    {
     "name": "stderr",
     "output_type": "stream",
     "text": [
      "[iter_attack.py:160 -     iterative_attack() ] Attach_iter 36 perturbation shape: (1, 268203), perturbation: [[-7.58376118e-05  2.02913093e-03 -3.78127967e-04 ...  3.13270284e-05\n",
      "  -1.35344849e-03  2.86179100e-04]]\n",
      "[iter_attack.py:160 -     iterative_attack() ] Attach_iter 36 perturbation shape: (1, 268203), perturbation: [[-0.00705797  0.00345088 -0.01003089 ...  0.00199826 -0.03149471\n",
      "  -0.03023364]]\n"
     ]
    },
    {
     "name": "stdout",
     "output_type": "stream",
     "text": [
      "(1, 268203)\n",
      "Loaded inverse HVP from output/poisoning_900_300_inception_wd-0.001-test-[15, 169].npz\n",
      "Inverse HVP took 0.000581979751587 sec\n",
      "Entering the for loop\n",
      "(1, 268203)\n",
      "Loaded inverse HVP from output/poisoning_900_300_inception_wd-0.001-test-[15, 169].npz\n",
      "Inverse HVP took 0.00061297416687 sec\n",
      "Entering the for loop\n"
     ]
    },
    {
     "name": "stderr",
     "output_type": "stream",
     "text": [
      "[iter_attack.py:160 -     iterative_attack() ] Attach_iter 36 perturbation shape: (1, 268203), perturbation: [[-0.11090896 -0.0984484   0.22396582 ... -0.11946202 -0.04462605\n",
      "   0.04111498]]\n",
      "[iter_attack.py:160 -     iterative_attack() ] Attach_iter 36 perturbation shape: (1, 268203), perturbation: [[-0.05067281 -0.01227652  0.02061151 ... -0.02631529 -0.00081839\n",
      "   0.01403466]]\n"
     ]
    },
    {
     "name": "stdout",
     "output_type": "stream",
     "text": [
      "(1, 268203)\n",
      "Loaded inverse HVP from output/poisoning_900_300_inception_wd-0.001-test-[15, 169].npz\n",
      "Inverse HVP took 0.00058388710022 sec\n",
      "Entering the for loop\n",
      "(1, 268203)\n",
      "Loaded inverse HVP from output/poisoning_900_300_inception_wd-0.001-test-[15, 169].npz\n",
      "Inverse HVP took 0.000582933425903 sec\n",
      "Entering the for loop\n"
     ]
    },
    {
     "name": "stderr",
     "output_type": "stream",
     "text": [
      "[iter_attack.py:160 -     iterative_attack() ] Attach_iter 36 perturbation shape: (1, 268203), perturbation: [[ 0.15202078 -0.22619393  0.38195342 ...  0.26610637 -0.15472761\n",
      "  -0.29984617]]\n",
      "[iter_attack.py:160 -     iterative_attack() ] Attach_iter 36 perturbation shape: (1, 268203), perturbation: [[-2.73005152e+00 -7.23289490e-01  5.79810977e-01 ... -9.08471197e-02\n",
      "   1.43289601e-03  5.53078130e-02]]\n"
     ]
    },
    {
     "name": "stdout",
     "output_type": "stream",
     "text": [
      "(1, 268203)\n",
      "Loaded inverse HVP from output/poisoning_900_300_inception_wd-0.001-test-[15, 169].npz\n",
      "Inverse HVP took 0.000581979751587 sec\n",
      "Entering the for loop\n",
      "(1, 268203)\n",
      "Loaded inverse HVP from output/poisoning_900_300_inception_wd-0.001-test-[15, 169].npz\n",
      "Inverse HVP took 0.000581026077271 sec\n",
      "Entering the for loop\n"
     ]
    },
    {
     "name": "stderr",
     "output_type": "stream",
     "text": [
      "[iter_attack.py:160 -     iterative_attack() ] Attach_iter 36 perturbation shape: (1, 268203), perturbation: [[ 1.37261115e-04  4.50322172e-04 -2.89083226e-03 ... -1.23361475e-03\n",
      "   7.74087384e-04  6.53718598e-05]]\n"
     ]
    },
    {
     "name": "stdout",
     "output_type": "stream",
     "text": [
      "(1, 268203)\n",
      "10 10\n",
      "Shape (10, 2048)\n",
      "Using normal model\n"
     ]
    },
    {
     "name": "stderr",
     "output_type": "stream",
     "text": [
      "[genericNeuralNet.py:328 -     print_model_eval() ] Train loss (w reg) on all data: 0.02042143\n",
      "[genericNeuralNet.py:329 -     print_model_eval() ] Train loss (w/o reg) on all data: 0.008814417\n",
      "[genericNeuralNet.py:331 -     print_model_eval() ] Test loss (w/o reg) on all data: 0.06738922\n",
      "[genericNeuralNet.py:332 -     print_model_eval() ] Train acc on all data:  0.9988888888888889\n",
      "[genericNeuralNet.py:333 -     print_model_eval() ] Test acc on all data:   0.975\n",
      "[genericNeuralNet.py:335 -     print_model_eval() ] Norm of the mean of gradients: 0.016312238\n",
      "[genericNeuralNet.py:336 -     print_model_eval() ] Norm of the params: 4.8180947\n",
      "[iter_attack.py:204 -     iterative_attack() ] Test_idx: 15 Test pred (full): [[0.00264516 0.99735487]]\n",
      "[iter_attack.py:204 -     iterative_attack() ] Test_idx: 169 Test pred (full): [[0.99883777 0.00116225]]\n",
      "[iter_attack.py:205 -     iterative_attack() ] ---------------------\n",
      "[iter_attack.py:210 -     iterative_attack() ] Test_idx: 15 Test pred (top): [[0.00264516 0.99735487]]\n",
      "[iter_attack.py:210 -     iterative_attack() ] Test_idx: 169 Test pred (top): [[0.99883777 0.00116225]]\n",
      "[iter_attack.py:138 -     iterative_attack() ] *** Iter: 37\n"
     ]
    },
    {
     "name": "stdout",
     "output_type": "stream",
     "text": [
      "LBFGS training took [62] iter.\n",
      "After training with LBFGS: \n",
      "Total number of parameters: 2048\n"
     ]
    },
    {
     "name": "stderr",
     "output_type": "stream",
     "text": [
      "[iter_attack.py:160 -     iterative_attack() ] Attach_iter 37 perturbation shape: (1, 268203), perturbation: [[ 0.46409965 -0.36153337 -0.39823422 ...  0.03472502  0.25740841\n",
      "  -0.24759483]]\n"
     ]
    },
    {
     "name": "stdout",
     "output_type": "stream",
     "text": [
      "Warning: Desired error not necessarily achieved due to precision loss.\n",
      "         Current function value: -4617.820312\n",
      "         Iterations: 9\n",
      "         Function evaluations: 73\n",
      "         Gradient evaluations: 70\n",
      "         Hessian evaluations: 52\n",
      "Inverse HVP took 2.08274102211 sec\n",
      "Loaded inverse HVP from output/poisoning_900_300_inception_wd-0.001-test-[15, 169].npz\n",
      "Inverse HVP took 0.000542879104614 sec\n",
      "Entering the for loop\n",
      "(1, 268203)\n",
      "Loaded inverse HVP from output/poisoning_900_300_inception_wd-0.001-test-[15, 169].npz\n",
      "Inverse HVP took 0.000622987747192 sec\n",
      "Entering the for loop\n"
     ]
    },
    {
     "name": "stderr",
     "output_type": "stream",
     "text": [
      "[iter_attack.py:160 -     iterative_attack() ] Attach_iter 37 perturbation shape: (1, 268203), perturbation: [[ 1.51731516e-08  3.03099483e-08  4.63467273e-08 ... -2.68058575e-10\n",
      "   2.63958686e-08 -3.85622130e-08]]\n",
      "[iter_attack.py:160 -     iterative_attack() ] Attach_iter 37 perturbation shape: (1, 268203), perturbation: [[ 0.01141354 -0.00613551 -0.0508992  ... -0.06810029 -0.01639026\n",
      "   0.02905157]]\n"
     ]
    },
    {
     "name": "stdout",
     "output_type": "stream",
     "text": [
      "(1, 268203)\n",
      "Loaded inverse HVP from output/poisoning_900_300_inception_wd-0.001-test-[15, 169].npz\n",
      "Inverse HVP took 0.000581026077271 sec\n",
      "Entering the for loop\n",
      "(1, 268203)\n",
      "Loaded inverse HVP from output/poisoning_900_300_inception_wd-0.001-test-[15, 169].npz\n",
      "Inverse HVP took 0.000607013702393 sec\n",
      "Entering the for loop\n"
     ]
    },
    {
     "name": "stderr",
     "output_type": "stream",
     "text": [
      "[iter_attack.py:160 -     iterative_attack() ] Attach_iter 37 perturbation shape: (1, 268203), perturbation: [[-2.39501707e-04  1.68896932e-03  3.25200381e-05 ...  1.38089177e-03\n",
      "  -2.17406708e-03  1.07433851e-04]]\n",
      "[iter_attack.py:160 -     iterative_attack() ] Attach_iter 37 perturbation shape: (1, 268203), perturbation: [[-0.00583166 -0.00324798 -0.01076241 ... -0.0224409   0.01742456\n",
      "  -0.00295669]]\n"
     ]
    },
    {
     "name": "stdout",
     "output_type": "stream",
     "text": [
      "(1, 268203)\n",
      "Loaded inverse HVP from output/poisoning_900_300_inception_wd-0.001-test-[15, 169].npz\n",
      "Inverse HVP took 0.00058388710022 sec\n",
      "Entering the for loop\n",
      "(1, 268203)\n",
      "Loaded inverse HVP from output/poisoning_900_300_inception_wd-0.001-test-[15, 169].npz\n",
      "Inverse HVP took 0.000641107559204 sec\n",
      "Entering the for loop\n"
     ]
    },
    {
     "name": "stderr",
     "output_type": "stream",
     "text": [
      "[iter_attack.py:160 -     iterative_attack() ] Attach_iter 37 perturbation shape: (1, 268203), perturbation: [[-0.16817197  0.03002348 -0.14931457 ... -0.01253687 -0.11525574\n",
      "   0.11174867]]\n",
      "[iter_attack.py:160 -     iterative_attack() ] Attach_iter 37 perturbation shape: (1, 268203), perturbation: [[-0.02008785  0.00864973 -0.00406084 ... -0.03782012  0.0280542\n",
      "   0.01429426]]\n"
     ]
    },
    {
     "name": "stdout",
     "output_type": "stream",
     "text": [
      "(1, 268203)\n",
      "Loaded inverse HVP from output/poisoning_900_300_inception_wd-0.001-test-[15, 169].npz\n",
      "Inverse HVP took 0.000581026077271 sec\n",
      "Entering the for loop\n",
      "(1, 268203)\n",
      "Loaded inverse HVP from output/poisoning_900_300_inception_wd-0.001-test-[15, 169].npz\n",
      "Inverse HVP took 0.000583171844482 sec\n",
      "Entering the for loop\n"
     ]
    },
    {
     "name": "stderr",
     "output_type": "stream",
     "text": [
      "[iter_attack.py:160 -     iterative_attack() ] Attach_iter 37 perturbation shape: (1, 268203), perturbation: [[-0.14449486  0.00137126 -0.15522979 ... -0.10557561  0.1041933\n",
      "   0.42551595]]\n",
      "[iter_attack.py:160 -     iterative_attack() ] Attach_iter 37 perturbation shape: (1, 268203), perturbation: [[-0.0259587   0.36868051  0.16576084 ... -0.03603787  0.00244264\n",
      "  -0.03463323]]\n"
     ]
    },
    {
     "name": "stdout",
     "output_type": "stream",
     "text": [
      "(1, 268203)\n",
      "Loaded inverse HVP from output/poisoning_900_300_inception_wd-0.001-test-[15, 169].npz\n",
      "Inverse HVP took 0.000627040863037 sec\n",
      "Entering the for loop\n",
      "(1, 268203)\n",
      "Loaded inverse HVP from output/poisoning_900_300_inception_wd-0.001-test-[15, 169].npz\n",
      "Inverse HVP took 0.000620126724243 sec\n",
      "Entering the for loop\n"
     ]
    },
    {
     "name": "stderr",
     "output_type": "stream",
     "text": [
      "[iter_attack.py:160 -     iterative_attack() ] Attach_iter 37 perturbation shape: (1, 268203), perturbation: [[ 1.71913859e-03 -2.36052275e-03 -6.62571844e-03 ...  5.38461318e-05\n",
      "  -9.90678091e-04  1.10637909e-03]]\n"
     ]
    },
    {
     "name": "stdout",
     "output_type": "stream",
     "text": [
      "(1, 268203)\n",
      "10 10\n",
      "Shape (10, 2048)\n",
      "Using normal model\n"
     ]
    },
    {
     "name": "stderr",
     "output_type": "stream",
     "text": [
      "[genericNeuralNet.py:328 -     print_model_eval() ] Train loss (w reg) on all data: 0.020335823\n",
      "[genericNeuralNet.py:329 -     print_model_eval() ] Train loss (w/o reg) on all data: 0.008782364\n",
      "[genericNeuralNet.py:331 -     print_model_eval() ] Test loss (w/o reg) on all data: 0.06518027\n",
      "[genericNeuralNet.py:332 -     print_model_eval() ] Train acc on all data:  0.9988888888888889\n",
      "[genericNeuralNet.py:333 -     print_model_eval() ] Test acc on all data:   0.9733333333333334\n",
      "[genericNeuralNet.py:335 -     print_model_eval() ] Norm of the mean of gradients: 0.015724696\n",
      "[genericNeuralNet.py:336 -     print_model_eval() ] Norm of the params: 4.806966\n",
      "[iter_attack.py:204 -     iterative_attack() ] Test_idx: 15 Test pred (full): [[0.00220869 0.9977913 ]]\n",
      "[iter_attack.py:204 -     iterative_attack() ] Test_idx: 169 Test pred (full): [[0.99879766 0.00120233]]\n",
      "[iter_attack.py:205 -     iterative_attack() ] ---------------------\n",
      "[iter_attack.py:210 -     iterative_attack() ] Test_idx: 15 Test pred (top): [[0.00220869 0.9977913 ]]\n",
      "[iter_attack.py:210 -     iterative_attack() ] Test_idx: 169 Test pred (top): [[0.99879766 0.00120233]]\n",
      "[iter_attack.py:138 -     iterative_attack() ] *** Iter: 38\n"
     ]
    },
    {
     "name": "stdout",
     "output_type": "stream",
     "text": [
      "LBFGS training took [56] iter.\n",
      "After training with LBFGS: \n",
      "Total number of parameters: 2048\n"
     ]
    },
    {
     "name": "stderr",
     "output_type": "stream",
     "text": [
      "[iter_attack.py:160 -     iterative_attack() ] Attach_iter 38 perturbation shape: (1, 268203), perturbation: [[ 0.22484195  0.49470687  0.08600283 ...  0.53917891 -0.33121857\n",
      "  -0.1015923 ]]\n"
     ]
    },
    {
     "name": "stdout",
     "output_type": "stream",
     "text": [
      "Warning: Desired error not necessarily achieved due to precision loss.\n",
      "         Current function value: -4579.646484\n",
      "         Iterations: 10\n",
      "         Function evaluations: 88\n",
      "         Gradient evaluations: 86\n",
      "         Hessian evaluations: 68\n",
      "Inverse HVP took 2.52593994141 sec\n",
      "Loaded inverse HVP from output/poisoning_900_300_inception_wd-0.001-test-[15, 169].npz\n",
      "Inverse HVP took 0.000539064407349 sec\n",
      "Entering the for loop\n",
      "(1, 268203)\n",
      "Loaded inverse HVP from output/poisoning_900_300_inception_wd-0.001-test-[15, 169].npz\n",
      "Inverse HVP took 0.000596046447754 sec\n",
      "Entering the for loop\n"
     ]
    },
    {
     "name": "stderr",
     "output_type": "stream",
     "text": [
      "[iter_attack.py:160 -     iterative_attack() ] Attach_iter 38 perturbation shape: (1, 268203), perturbation: [[ 2.60499817e-08  2.16787903e-08  5.49765176e-08 ... -7.44820761e-10\n",
      "   1.29087905e-08  5.53966562e-09]]\n",
      "[iter_attack.py:160 -     iterative_attack() ] Attach_iter 38 perturbation shape: (1, 268203), perturbation: [[ 0.07292126  0.09089087 -0.069022   ... -0.01663538  0.0360182\n",
      "  -0.0016257 ]]\n"
     ]
    },
    {
     "name": "stdout",
     "output_type": "stream",
     "text": [
      "(1, 268203)\n",
      "Loaded inverse HVP from output/poisoning_900_300_inception_wd-0.001-test-[15, 169].npz\n",
      "Inverse HVP took 0.000582933425903 sec\n",
      "Entering the for loop\n",
      "(1, 268203)\n",
      "Loaded inverse HVP from output/poisoning_900_300_inception_wd-0.001-test-[15, 169].npz\n",
      "Inverse HVP took 0.000615119934082 sec\n",
      "Entering the for loop\n"
     ]
    },
    {
     "name": "stderr",
     "output_type": "stream",
     "text": [
      "[iter_attack.py:160 -     iterative_attack() ] Attach_iter 38 perturbation shape: (1, 268203), perturbation: [[ 0.00068293  0.00659881 -0.00083316 ... -0.00127845 -0.00360191\n",
      "   0.00159931]]\n",
      "[iter_attack.py:160 -     iterative_attack() ] Attach_iter 38 perturbation shape: (1, 268203), perturbation: [[-0.01009838  0.01028441 -0.00805369 ... -0.04884467 -0.04483402\n",
      "  -0.00020607]]\n"
     ]
    },
    {
     "name": "stdout",
     "output_type": "stream",
     "text": [
      "(1, 268203)\n",
      "Loaded inverse HVP from output/poisoning_900_300_inception_wd-0.001-test-[15, 169].npz\n",
      "Inverse HVP took 0.000652074813843 sec\n",
      "Entering the for loop\n",
      "(1, 268203)\n",
      "Loaded inverse HVP from output/poisoning_900_300_inception_wd-0.001-test-[15, 169].npz\n",
      "Inverse HVP took 0.000589847564697 sec\n",
      "Entering the for loop\n"
     ]
    },
    {
     "name": "stderr",
     "output_type": "stream",
     "text": [
      "[iter_attack.py:160 -     iterative_attack() ] Attach_iter 38 perturbation shape: (1, 268203), perturbation: [[-0.09394643 -0.10576066  0.23631436 ... -0.13622066 -0.1013785\n",
      "   0.03576117]]\n",
      "[iter_attack.py:160 -     iterative_attack() ] Attach_iter 38 perturbation shape: (1, 268203), perturbation: [[-0.06494556 -0.01099033  0.02471217 ... -0.02507253 -0.01033649\n",
      "   0.01390861]]\n"
     ]
    },
    {
     "name": "stdout",
     "output_type": "stream",
     "text": [
      "(1, 268203)\n",
      "Loaded inverse HVP from output/poisoning_900_300_inception_wd-0.001-test-[15, 169].npz\n",
      "Inverse HVP took 0.000580072402954 sec\n",
      "Entering the for loop\n",
      "(1, 268203)\n",
      "Loaded inverse HVP from output/poisoning_900_300_inception_wd-0.001-test-[15, 169].npz\n",
      "Inverse HVP took 0.000584125518799 sec\n",
      "Entering the for loop\n"
     ]
    },
    {
     "name": "stderr",
     "output_type": "stream",
     "text": [
      "[iter_attack.py:160 -     iterative_attack() ] Attach_iter 38 perturbation shape: (1, 268203), perturbation: [[ 0.16932616 -0.29236493  0.44786432 ... -0.39042857  0.05416417\n",
      "  -0.07156754]]\n",
      "[iter_attack.py:160 -     iterative_attack() ] Attach_iter 38 perturbation shape: (1, 268203), perturbation: [[-2.03570437 -0.59704816  0.44341385 ... -0.09849639 -0.0199906\n",
      "   0.06893338]]\n"
     ]
    },
    {
     "name": "stdout",
     "output_type": "stream",
     "text": [
      "(1, 268203)\n",
      "Loaded inverse HVP from output/poisoning_900_300_inception_wd-0.001-test-[15, 169].npz\n",
      "Inverse HVP took 0.000582933425903 sec\n",
      "Entering the for loop\n",
      "(1, 268203)\n",
      "Loaded inverse HVP from output/poisoning_900_300_inception_wd-0.001-test-[15, 169].npz\n",
      "Inverse HVP took 0.000581026077271 sec\n",
      "Entering the for loop\n"
     ]
    },
    {
     "name": "stderr",
     "output_type": "stream",
     "text": [
      "[iter_attack.py:160 -     iterative_attack() ] Attach_iter 38 perturbation shape: (1, 268203), perturbation: [[ 0.00183206 -0.0009469  -0.00372134 ... -0.00906788  0.00702171\n",
      "  -0.0039202 ]]\n"
     ]
    },
    {
     "name": "stdout",
     "output_type": "stream",
     "text": [
      "(1, 268203)\n",
      "10 10\n",
      "Shape (10, 2048)\n",
      "Using normal model\n",
      "LBFGS training took [63] iter.\n",
      "After training with LBFGS: \n"
     ]
    },
    {
     "name": "stderr",
     "output_type": "stream",
     "text": [
      "[genericNeuralNet.py:328 -     print_model_eval() ] Train loss (w reg) on all data: 0.02075176\n",
      "[genericNeuralNet.py:329 -     print_model_eval() ] Train loss (w/o reg) on all data: 0.009021831\n",
      "[genericNeuralNet.py:331 -     print_model_eval() ] Test loss (w/o reg) on all data: 0.068241216\n",
      "[genericNeuralNet.py:332 -     print_model_eval() ] Train acc on all data:  0.9988888888888889\n",
      "[genericNeuralNet.py:333 -     print_model_eval() ] Test acc on all data:   0.975\n",
      "[genericNeuralNet.py:335 -     print_model_eval() ] Norm of the mean of gradients: 0.016192675\n",
      "[genericNeuralNet.py:336 -     print_model_eval() ] Norm of the params: 4.843538\n",
      "[iter_attack.py:204 -     iterative_attack() ] Test_idx: 15 Test pred (full): [[0.00181575 0.99818426]]\n",
      "[iter_attack.py:204 -     iterative_attack() ] Test_idx: 169 Test pred (full): [[0.99885416 0.00114579]]\n",
      "[iter_attack.py:205 -     iterative_attack() ] ---------------------\n",
      "[iter_attack.py:210 -     iterative_attack() ] Test_idx: 15 Test pred (top): [[0.00181575 0.99818426]]\n",
      "[iter_attack.py:210 -     iterative_attack() ] Test_idx: 169 Test pred (top): [[0.99885416 0.00114579]]\n",
      "[iter_attack.py:138 -     iterative_attack() ] *** Iter: 39\n"
     ]
    },
    {
     "name": "stdout",
     "output_type": "stream",
     "text": [
      "Total number of parameters: 2048\n"
     ]
    },
    {
     "name": "stderr",
     "output_type": "stream",
     "text": [
      "[iter_attack.py:160 -     iterative_attack() ] Attach_iter 39 perturbation shape: (1, 268203), perturbation: [[ 0.07209505 -0.37506589 -0.33722687 ... -0.13521729  0.26963463\n",
      "  -0.23928091]]\n"
     ]
    },
    {
     "name": "stdout",
     "output_type": "stream",
     "text": [
      "Warning: Desired error not necessarily achieved due to precision loss.\n",
      "         Current function value: -4565.868164\n",
      "         Iterations: 11\n",
      "         Function evaluations: 211\n",
      "         Gradient evaluations: 206\n",
      "         Hessian evaluations: 70\n",
      "Inverse HVP took 5.02136301994 sec\n",
      "Loaded inverse HVP from output/poisoning_900_300_inception_wd-0.001-test-[15, 169].npz\n",
      "Inverse HVP took 0.000569105148315 sec\n",
      "Entering the for loop\n",
      "(1, 268203)\n",
      "Loaded inverse HVP from output/poisoning_900_300_inception_wd-0.001-test-[15, 169].npz\n",
      "Inverse HVP took 0.000576972961426 sec\n",
      "Entering the for loop\n"
     ]
    },
    {
     "name": "stderr",
     "output_type": "stream",
     "text": [
      "[iter_attack.py:160 -     iterative_attack() ] Attach_iter 39 perturbation shape: (1, 268203), perturbation: [[ 2.99754674e-08  2.59607589e-08  7.11470918e-08 ...  1.80039361e-08\n",
      "   1.32374316e-08 -1.60186318e-08]]\n",
      "[iter_attack.py:160 -     iterative_attack() ] Attach_iter 39 perturbation shape: (1, 268203), perturbation: [[-0.07651578 -0.06285404  0.03701059 ... -0.09519527 -0.01665453\n",
      "   0.03583907]]\n"
     ]
    },
    {
     "name": "stdout",
     "output_type": "stream",
     "text": [
      "(1, 268203)\n",
      "Loaded inverse HVP from output/poisoning_900_300_inception_wd-0.001-test-[15, 169].npz\n",
      "Inverse HVP took 0.000624179840088 sec\n",
      "Entering the for loop\n",
      "(1, 268203)\n",
      "Loaded inverse HVP from output/poisoning_900_300_inception_wd-0.001-test-[15, 169].npz\n",
      "Inverse HVP took 0.000579118728638 sec\n",
      "Entering the for loop\n"
     ]
    },
    {
     "name": "stderr",
     "output_type": "stream",
     "text": [
      "[iter_attack.py:160 -     iterative_attack() ] Attach_iter 39 perturbation shape: (1, 268203), perturbation: [[ 0.00094248  0.0019881   0.00086391 ...  0.00299437 -0.00756575\n",
      "   0.00445044]]\n",
      "[iter_attack.py:160 -     iterative_attack() ] Attach_iter 39 perturbation shape: (1, 268203), perturbation: [[-0.00612772 -0.0023796  -0.0142032  ...  0.01319591  0.0271379\n",
      "  -0.03938015]]\n"
     ]
    },
    {
     "name": "stdout",
     "output_type": "stream",
     "text": [
      "(1, 268203)\n",
      "Loaded inverse HVP from output/poisoning_900_300_inception_wd-0.001-test-[15, 169].npz\n",
      "Inverse HVP took 0.000570058822632 sec\n",
      "Entering the for loop\n",
      "(1, 268203)\n",
      "Loaded inverse HVP from output/poisoning_900_300_inception_wd-0.001-test-[15, 169].npz\n",
      "Inverse HVP took 0.000568866729736 sec\n",
      "Entering the for loop\n"
     ]
    },
    {
     "name": "stderr",
     "output_type": "stream",
     "text": [
      "[iter_attack.py:160 -     iterative_attack() ] Attach_iter 39 perturbation shape: (1, 268203), perturbation: [[-0.1377555   0.02043707 -0.21233204 ...  0.00727988 -0.07184145\n",
      "   0.09665895]]\n",
      "[iter_attack.py:160 -     iterative_attack() ] Attach_iter 39 perturbation shape: (1, 268203), perturbation: [[-0.01820468  0.01096572 -0.00733612 ... -0.02782929  0.01330203\n",
      "   0.0170529 ]]\n"
     ]
    },
    {
     "name": "stdout",
     "output_type": "stream",
     "text": [
      "(1, 268203)\n",
      "Loaded inverse HVP from output/poisoning_900_300_inception_wd-0.001-test-[15, 169].npz\n",
      "Inverse HVP took 0.00062108039856 sec\n",
      "Entering the for loop\n",
      "(1, 268203)\n",
      "Loaded inverse HVP from output/poisoning_900_300_inception_wd-0.001-test-[15, 169].npz\n",
      "Inverse HVP took 0.000582218170166 sec\n",
      "Entering the for loop\n"
     ]
    },
    {
     "name": "stderr",
     "output_type": "stream",
     "text": [
      "[iter_attack.py:160 -     iterative_attack() ] Attach_iter 39 perturbation shape: (1, 268203), perturbation: [[-0.13545994  0.10324989 -0.29170284 ...  0.2419337   0.02661993\n",
      "   0.14216059]]\n",
      "[iter_attack.py:160 -     iterative_attack() ] Attach_iter 39 perturbation shape: (1, 268203), perturbation: [[-0.0607515   0.03634043  0.06773868 ...  0.01016951  0.03353244\n",
      "  -0.05088758]]\n"
     ]
    },
    {
     "name": "stdout",
     "output_type": "stream",
     "text": [
      "(1, 268203)\n",
      "Loaded inverse HVP from output/poisoning_900_300_inception_wd-0.001-test-[15, 169].npz\n",
      "Inverse HVP took 0.000581026077271 sec\n",
      "Entering the for loop\n",
      "(1, 268203)\n",
      "Loaded inverse HVP from output/poisoning_900_300_inception_wd-0.001-test-[15, 169].npz\n",
      "Inverse HVP took 0.000623941421509 sec\n",
      "Entering the for loop\n"
     ]
    },
    {
     "name": "stderr",
     "output_type": "stream",
     "text": [
      "[iter_attack.py:160 -     iterative_attack() ] Attach_iter 39 perturbation shape: (1, 268203), perturbation: [[ 0.00319532 -0.0059076  -0.01304873 ... -0.00445595  0.00404306\n",
      "  -0.0023702 ]]\n"
     ]
    },
    {
     "name": "stdout",
     "output_type": "stream",
     "text": [
      "(1, 268203)\n",
      "10 10\n"
     ]
    },
    {
     "name": "stderr",
     "output_type": "stream",
     "text": [
      "[genericNeuralNet.py:328 -     print_model_eval() ] Train loss (w reg) on all data: 0.02072376\n",
      "[genericNeuralNet.py:329 -     print_model_eval() ] Train loss (w/o reg) on all data: 0.009013174\n",
      "[genericNeuralNet.py:331 -     print_model_eval() ] Test loss (w/o reg) on all data: 0.06634737\n"
     ]
    },
    {
     "name": "stdout",
     "output_type": "stream",
     "text": [
      "Shape (10, 2048)\n",
      "Using normal model\n",
      "LBFGS training took [62] iter.\n",
      "After training with LBFGS: \n"
     ]
    },
    {
     "name": "stderr",
     "output_type": "stream",
     "text": [
      "[genericNeuralNet.py:332 -     print_model_eval() ] Train acc on all data:  0.9988888888888889\n",
      "[genericNeuralNet.py:333 -     print_model_eval() ] Test acc on all data:   0.975\n",
      "[genericNeuralNet.py:335 -     print_model_eval() ] Norm of the mean of gradients: 0.01563522\n",
      "[genericNeuralNet.py:336 -     print_model_eval() ] Norm of the params: 4.839543\n",
      "[iter_attack.py:204 -     iterative_attack() ] Test_idx: 15 Test pred (full): [[0.00152664 0.99847335]]\n",
      "[iter_attack.py:204 -     iterative_attack() ] Test_idx: 169 Test pred (full): [[0.9987832  0.00121678]]\n",
      "[iter_attack.py:205 -     iterative_attack() ] ---------------------\n",
      "[iter_attack.py:210 -     iterative_attack() ] Test_idx: 15 Test pred (top): [[0.00152664 0.99847335]]\n",
      "[iter_attack.py:210 -     iterative_attack() ] Test_idx: 169 Test pred (top): [[0.9987832  0.00121678]]\n",
      "[iter_attack.py:138 -     iterative_attack() ] *** Iter: 40\n"
     ]
    },
    {
     "name": "stdout",
     "output_type": "stream",
     "text": [
      "Total number of parameters: 2048\n"
     ]
    },
    {
     "name": "stderr",
     "output_type": "stream",
     "text": [
      "[iter_attack.py:160 -     iterative_attack() ] Attach_iter 40 perturbation shape: (1, 268203), perturbation: [[ 0.54910135  0.66609329  0.12869185 ...  0.14642057 -0.40829629\n",
      "   0.11245495]]\n"
     ]
    },
    {
     "name": "stdout",
     "output_type": "stream",
     "text": [
      "Warning: Desired error not necessarily achieved due to precision loss.\n",
      "         Current function value: -4538.727539\n",
      "         Iterations: 9\n",
      "         Function evaluations: 83\n",
      "         Gradient evaluations: 81\n",
      "         Hessian evaluations: 55\n",
      "Inverse HVP took 2.38634085655 sec\n",
      "Loaded inverse HVP from output/poisoning_900_300_inception_wd-0.001-test-[15, 169].npz\n",
      "Inverse HVP took 0.000545978546143 sec\n",
      "Entering the for loop\n",
      "(1, 268203)\n",
      "Loaded inverse HVP from output/poisoning_900_300_inception_wd-0.001-test-[15, 169].npz\n",
      "Inverse HVP took 0.000589847564697 sec\n",
      "Entering the for loop\n"
     ]
    },
    {
     "name": "stderr",
     "output_type": "stream",
     "text": [
      "[iter_attack.py:160 -     iterative_attack() ] Attach_iter 40 perturbation shape: (1, 268203), perturbation: [[ 5.12176683e-08  4.25394617e-08  1.07356151e-07 ... -4.11169019e-08\n",
      "   5.44776597e-08  6.00484356e-08]]\n",
      "[iter_attack.py:160 -     iterative_attack() ] Attach_iter 40 perturbation shape: (1, 268203), perturbation: [[-0.33766046 -0.27136782  0.10160545 ... -0.04366722  0.02161471\n",
      "  -0.00745213]]\n"
     ]
    },
    {
     "name": "stdout",
     "output_type": "stream",
     "text": [
      "(1, 268203)\n",
      "Loaded inverse HVP from output/poisoning_900_300_inception_wd-0.001-test-[15, 169].npz\n",
      "Inverse HVP took 0.000581026077271 sec\n",
      "Entering the for loop\n",
      "(1, 268203)\n",
      "Loaded inverse HVP from output/poisoning_900_300_inception_wd-0.001-test-[15, 169].npz\n",
      "Inverse HVP took 0.000585079193115 sec\n",
      "Entering the for loop\n"
     ]
    },
    {
     "name": "stderr",
     "output_type": "stream",
     "text": [
      "[iter_attack.py:160 -     iterative_attack() ] Attach_iter 40 perturbation shape: (1, 268203), perturbation: [[-0.0027903   0.00299921  0.00184717 ... -0.00582591 -0.0058239\n",
      "   0.00230385]]\n",
      "[iter_attack.py:160 -     iterative_attack() ] Attach_iter 40 perturbation shape: (1, 268203), perturbation: [[-0.00349072 -0.00295572 -0.01048315 ... -0.05138817 -0.02981716\n",
      "  -0.00205655]]\n"
     ]
    },
    {
     "name": "stdout",
     "output_type": "stream",
     "text": [
      "(1, 268203)\n",
      "Loaded inverse HVP from output/poisoning_900_300_inception_wd-0.001-test-[15, 169].npz\n",
      "Inverse HVP took 0.000573873519897 sec\n",
      "Entering the for loop\n",
      "(1, 268203)\n",
      "Loaded inverse HVP from output/poisoning_900_300_inception_wd-0.001-test-[15, 169].npz\n",
      "Inverse HVP took 0.000595808029175 sec\n",
      "Entering the for loop\n"
     ]
    },
    {
     "name": "stderr",
     "output_type": "stream",
     "text": [
      "[iter_attack.py:160 -     iterative_attack() ] Attach_iter 40 perturbation shape: (1, 268203), perturbation: [[-0.06461459 -0.14016043  0.23060764 ... -0.08040702 -0.05287449\n",
      "  -0.00092569]]\n",
      "[iter_attack.py:160 -     iterative_attack() ] Attach_iter 40 perturbation shape: (1, 268203), perturbation: [[-0.05920399  0.00043521  0.0877323  ... -0.00173695 -0.02087857\n",
      "   0.01257753]]\n"
     ]
    },
    {
     "name": "stdout",
     "output_type": "stream",
     "text": [
      "(1, 268203)\n",
      "Loaded inverse HVP from output/poisoning_900_300_inception_wd-0.001-test-[15, 169].npz\n",
      "Inverse HVP took 0.000631093978882 sec\n",
      "Entering the for loop\n",
      "(1, 268203)\n",
      "Loaded inverse HVP from output/poisoning_900_300_inception_wd-0.001-test-[15, 169].npz\n",
      "Inverse HVP took 0.000586032867432 sec\n",
      "Entering the for loop\n"
     ]
    },
    {
     "name": "stderr",
     "output_type": "stream",
     "text": [
      "[iter_attack.py:160 -     iterative_attack() ] Attach_iter 40 perturbation shape: (1, 268203), perturbation: [[ 0.15536404 -0.29378763  0.49914908 ...  0.01469894  0.11957629\n",
      "  -0.25652248]]\n",
      "[iter_attack.py:160 -     iterative_attack() ] Attach_iter 40 perturbation shape: (1, 268203), perturbation: [[-1.14564526 -0.33331209  0.36511987 ... -0.07629384 -0.01762605\n",
      "   0.06507067]]\n"
     ]
    },
    {
     "name": "stdout",
     "output_type": "stream",
     "text": [
      "(1, 268203)\n",
      "Loaded inverse HVP from output/poisoning_900_300_inception_wd-0.001-test-[15, 169].npz\n",
      "Inverse HVP took 0.000584125518799 sec\n",
      "Entering the for loop\n",
      "(1, 268203)\n",
      "Loaded inverse HVP from output/poisoning_900_300_inception_wd-0.001-test-[15, 169].npz\n",
      "Inverse HVP took 0.000586986541748 sec\n",
      "Entering the for loop\n"
     ]
    },
    {
     "name": "stderr",
     "output_type": "stream",
     "text": [
      "[iter_attack.py:160 -     iterative_attack() ] Attach_iter 40 perturbation shape: (1, 268203), perturbation: [[-0.00239864 -0.00056081  0.00549341 ... -0.00718828  0.00770353\n",
      "  -0.00442126]]\n"
     ]
    },
    {
     "name": "stdout",
     "output_type": "stream",
     "text": [
      "(1, 268203)\n",
      "10 10\n",
      "Shape (10, 2048)\n",
      "Using normal model\n",
      "LBFGS training took [64] iter.\n",
      "After training with LBFGS: \n"
     ]
    },
    {
     "name": "stderr",
     "output_type": "stream",
     "text": [
      "[genericNeuralNet.py:328 -     print_model_eval() ] Train loss (w reg) on all data: 0.021104326\n",
      "[genericNeuralNet.py:329 -     print_model_eval() ] Train loss (w/o reg) on all data: 0.009250396\n",
      "[genericNeuralNet.py:331 -     print_model_eval() ] Test loss (w/o reg) on all data: 0.06888648\n",
      "[genericNeuralNet.py:332 -     print_model_eval() ] Train acc on all data:  0.9988888888888889\n",
      "[genericNeuralNet.py:333 -     print_model_eval() ] Test acc on all data:   0.975\n",
      "[genericNeuralNet.py:335 -     print_model_eval() ] Norm of the mean of gradients: 0.01623639\n",
      "[genericNeuralNet.py:336 -     print_model_eval() ] Norm of the params: 4.869072\n",
      "[iter_attack.py:204 -     iterative_attack() ] Test_idx: 15 Test pred (full): [[0.00126837 0.9987317 ]]\n",
      "[iter_attack.py:204 -     iterative_attack() ] Test_idx: 169 Test pred (full): [[0.9988355  0.00116452]]\n",
      "[iter_attack.py:205 -     iterative_attack() ] ---------------------\n",
      "[iter_attack.py:210 -     iterative_attack() ] Test_idx: 15 Test pred (top): [[0.00126837 0.9987317 ]]\n",
      "[iter_attack.py:210 -     iterative_attack() ] Test_idx: 169 Test pred (top): [[0.9988355  0.00116452]]\n",
      "[iter_attack.py:138 -     iterative_attack() ] *** Iter: 41\n"
     ]
    },
    {
     "name": "stdout",
     "output_type": "stream",
     "text": [
      "Total number of parameters: 2048\n"
     ]
    },
    {
     "name": "stderr",
     "output_type": "stream",
     "text": [
      "[iter_attack.py:160 -     iterative_attack() ] Attach_iter 41 perturbation shape: (1, 268203), perturbation: [[ 0.35192502 -0.22209246 -0.40736374 ...  0.523799   -0.03259519\n",
      "  -0.20183645]]\n"
     ]
    },
    {
     "name": "stdout",
     "output_type": "stream",
     "text": [
      "Warning: Desired error not necessarily achieved due to precision loss.\n",
      "         Current function value: -4518.128418\n",
      "         Iterations: 8\n",
      "         Function evaluations: 75\n",
      "         Gradient evaluations: 73\n",
      "         Hessian evaluations: 54\n",
      "Inverse HVP took 2.10961413383 sec\n",
      "Loaded inverse HVP from output/poisoning_900_300_inception_wd-0.001-test-[15, 169].npz\n",
      "Inverse HVP took 0.000583171844482 sec\n",
      "Entering the for loop\n",
      "(1, 268203)\n",
      "Loaded inverse HVP from output/poisoning_900_300_inception_wd-0.001-test-[15, 169].npz\n",
      "Inverse HVP took 0.000591039657593 sec\n",
      "Entering the for loop\n"
     ]
    },
    {
     "name": "stderr",
     "output_type": "stream",
     "text": [
      "[iter_attack.py:160 -     iterative_attack() ] Attach_iter 41 perturbation shape: (1, 268203), perturbation: [[ 4.08935179e-08  2.99034468e-08  1.22508069e-07 ... -4.43970194e-08\n",
      "   2.88931545e-10  6.36631867e-08]]\n",
      "[iter_attack.py:160 -     iterative_attack() ] Attach_iter 41 perturbation shape: (1, 268203), perturbation: [[ 0.0207524   0.01342413 -0.01880543 ... -0.11620439 -0.0050828\n",
      "   0.0585453 ]]\n"
     ]
    },
    {
     "name": "stdout",
     "output_type": "stream",
     "text": [
      "(1, 268203)\n",
      "Loaded inverse HVP from output/poisoning_900_300_inception_wd-0.001-test-[15, 169].npz\n",
      "Inverse HVP took 0.000594854354858 sec\n",
      "Entering the for loop\n",
      "(1, 268203)\n",
      "Loaded inverse HVP from output/poisoning_900_300_inception_wd-0.001-test-[15, 169].npz\n",
      "Inverse HVP took 0.000633001327515 sec\n",
      "Entering the for loop\n"
     ]
    },
    {
     "name": "stderr",
     "output_type": "stream",
     "text": [
      "[iter_attack.py:160 -     iterative_attack() ] Attach_iter 41 perturbation shape: (1, 268203), perturbation: [[-0.00257283  0.00636898  0.00144413 ...  0.0001006  -0.00396217\n",
      "  -0.00190388]]\n",
      "[iter_attack.py:160 -     iterative_attack() ] Attach_iter 41 perturbation shape: (1, 268203), perturbation: [[-0.0079601  -0.00721959 -0.00855126 ... -0.00834331  0.02547225\n",
      "  -0.04628412]]\n"
     ]
    },
    {
     "name": "stdout",
     "output_type": "stream",
     "text": [
      "(1, 268203)\n",
      "Loaded inverse HVP from output/poisoning_900_300_inception_wd-0.001-test-[15, 169].npz\n",
      "Inverse HVP took 0.000581026077271 sec\n",
      "Entering the for loop\n",
      "(1, 268203)\n",
      "Loaded inverse HVP from output/poisoning_900_300_inception_wd-0.001-test-[15, 169].npz\n",
      "Inverse HVP took 0.000581026077271 sec\n",
      "Entering the for loop\n"
     ]
    },
    {
     "name": "stderr",
     "output_type": "stream",
     "text": [
      "[iter_attack.py:160 -     iterative_attack() ] Attach_iter 41 perturbation shape: (1, 268203), perturbation: [[-0.25740197  0.07699499 -0.16621822 ...  0.02333856 -0.07346441\n",
      "   0.10964461]]\n",
      "[iter_attack.py:160 -     iterative_attack() ] Attach_iter 41 perturbation shape: (1, 268203), perturbation: [[ 0.05345448  0.00324603 -0.03084174 ... -0.02206714  0.02471259\n",
      "   0.01676769]]\n"
     ]
    },
    {
     "name": "stdout",
     "output_type": "stream",
     "text": [
      "(1, 268203)\n",
      "Loaded inverse HVP from output/poisoning_900_300_inception_wd-0.001-test-[15, 169].npz\n",
      "Inverse HVP took 0.000581026077271 sec\n",
      "Entering the for loop\n",
      "(1, 268203)\n",
      "Loaded inverse HVP from output/poisoning_900_300_inception_wd-0.001-test-[15, 169].npz\n",
      "Inverse HVP took 0.000587940216064 sec\n",
      "Entering the for loop\n"
     ]
    },
    {
     "name": "stderr",
     "output_type": "stream",
     "text": [
      "[iter_attack.py:160 -     iterative_attack() ] Attach_iter 41 perturbation shape: (1, 268203), perturbation: [[-0.12636888  0.00388674 -0.18940559 ...  0.15930262 -0.21578595\n",
      "   0.28539988]]\n",
      "[iter_attack.py:160 -     iterative_attack() ] Attach_iter 41 perturbation shape: (1, 268203), perturbation: [[-0.91768342  0.16948898  0.1942918  ... -0.02502504  0.03968959\n",
      "  -0.03984679]]\n"
     ]
    },
    {
     "name": "stdout",
     "output_type": "stream",
     "text": [
      "(1, 268203)\n",
      "Loaded inverse HVP from output/poisoning_900_300_inception_wd-0.001-test-[15, 169].npz\n",
      "Inverse HVP took 0.000604152679443 sec\n",
      "Entering the for loop\n",
      "(1, 268203)\n",
      "Loaded inverse HVP from output/poisoning_900_300_inception_wd-0.001-test-[15, 169].npz\n",
      "Inverse HVP took 0.000578880310059 sec\n",
      "Entering the for loop\n"
     ]
    },
    {
     "name": "stderr",
     "output_type": "stream",
     "text": [
      "[iter_attack.py:160 -     iterative_attack() ] Attach_iter 41 perturbation shape: (1, 268203), perturbation: [[ 0.00536762 -0.006072   -0.00932228 ... -0.00358844  0.00711657\n",
      "  -0.00573865]]\n"
     ]
    },
    {
     "name": "stdout",
     "output_type": "stream",
     "text": [
      "(1, 268203)\n",
      "10 10\n"
     ]
    },
    {
     "name": "stderr",
     "output_type": "stream",
     "text": [
      "[genericNeuralNet.py:328 -     print_model_eval() ] Train loss (w reg) on all data: 0.021089347\n"
     ]
    },
    {
     "name": "stdout",
     "output_type": "stream",
     "text": [
      "Shape (10, 2048)\n",
      "Using normal model\n",
      "LBFGS training took [62] iter.\n",
      "After training with LBFGS: \n"
     ]
    },
    {
     "name": "stderr",
     "output_type": "stream",
     "text": [
      "[genericNeuralNet.py:329 -     print_model_eval() ] Train loss (w/o reg) on all data: 0.009245996\n",
      "[genericNeuralNet.py:331 -     print_model_eval() ] Test loss (w/o reg) on all data: 0.06741654\n",
      "[genericNeuralNet.py:332 -     print_model_eval() ] Train acc on all data:  0.9988888888888889\n",
      "[genericNeuralNet.py:333 -     print_model_eval() ] Test acc on all data:   0.975\n",
      "[genericNeuralNet.py:335 -     print_model_eval() ] Norm of the mean of gradients: 0.015681481\n",
      "[genericNeuralNet.py:336 -     print_model_eval() ] Norm of the params: 4.866898\n",
      "[iter_attack.py:204 -     iterative_attack() ] Test_idx: 15 Test pred (full): [[0.00106321 0.99893683]]\n",
      "[iter_attack.py:204 -     iterative_attack() ] Test_idx: 169 Test pred (full): [[0.9987607  0.00123936]]\n",
      "[iter_attack.py:205 -     iterative_attack() ] ---------------------\n",
      "[iter_attack.py:210 -     iterative_attack() ] Test_idx: 15 Test pred (top): [[0.00106321 0.99893683]]\n",
      "[iter_attack.py:210 -     iterative_attack() ] Test_idx: 169 Test pred (top): [[0.9987607  0.00123936]]\n",
      "[iter_attack.py:138 -     iterative_attack() ] *** Iter: 42\n"
     ]
    },
    {
     "name": "stdout",
     "output_type": "stream",
     "text": [
      "Total number of parameters: 2048\n"
     ]
    },
    {
     "name": "stderr",
     "output_type": "stream",
     "text": [
      "[iter_attack.py:160 -     iterative_attack() ] Attach_iter 42 perturbation shape: (1, 268203), perturbation: [[ 0.30785701  0.49069908 -0.03016227 ... -0.209076    0.09945519\n",
      "  -0.08388197]]\n"
     ]
    },
    {
     "name": "stdout",
     "output_type": "stream",
     "text": [
      "Warning: Desired error not necessarily achieved due to precision loss.\n",
      "         Current function value: -4494.656738\n",
      "         Iterations: 10\n",
      "         Function evaluations: 124\n",
      "         Gradient evaluations: 120\n",
      "         Hessian evaluations: 77\n",
      "Inverse HVP took 3.43512105942 sec\n",
      "Loaded inverse HVP from output/poisoning_900_300_inception_wd-0.001-test-[15, 169].npz\n",
      "Inverse HVP took 0.000549077987671 sec\n",
      "Entering the for loop\n",
      "(1, 268203)\n",
      "Loaded inverse HVP from output/poisoning_900_300_inception_wd-0.001-test-[15, 169].npz\n",
      "Inverse HVP took 0.000593900680542 sec\n",
      "Entering the for loop\n"
     ]
    },
    {
     "name": "stderr",
     "output_type": "stream",
     "text": [
      "[iter_attack.py:160 -     iterative_attack() ] Attach_iter 42 perturbation shape: (1, 268203), perturbation: [[ 1.04498483e-07  8.05666076e-08  3.43164572e-07 ... -3.52664351e-08\n",
      "   1.33496115e-07  1.36956302e-07]]\n",
      "[iter_attack.py:160 -     iterative_attack() ] Attach_iter 42 perturbation shape: (1, 268203), perturbation: [[-0.27562618 -0.15878604 -0.0126687  ... -0.02977932  0.05079324\n",
      "  -0.01517357]]\n"
     ]
    },
    {
     "name": "stdout",
     "output_type": "stream",
     "text": [
      "(1, 268203)\n",
      "Loaded inverse HVP from output/poisoning_900_300_inception_wd-0.001-test-[15, 169].npz\n",
      "Inverse HVP took 0.000622034072876 sec\n",
      "Entering the for loop\n",
      "(1, 268203)\n",
      "Loaded inverse HVP from output/poisoning_900_300_inception_wd-0.001-test-[15, 169].npz\n",
      "Inverse HVP took 0.000577926635742 sec\n",
      "Entering the for loop\n"
     ]
    },
    {
     "name": "stderr",
     "output_type": "stream",
     "text": [
      "[iter_attack.py:160 -     iterative_attack() ] Attach_iter 42 perturbation shape: (1, 268203), perturbation: [[-0.00628542  0.00735609  0.00295408 ... -0.00516036 -0.006957\n",
      "   0.00578281]]\n",
      "[iter_attack.py:160 -     iterative_attack() ] Attach_iter 42 perturbation shape: (1, 268203), perturbation: [[-0.01261497 -0.00672149 -0.00505459 ... -0.08899932 -0.01232348\n",
      "   0.02809304]]\n"
     ]
    },
    {
     "name": "stdout",
     "output_type": "stream",
     "text": [
      "(1, 268203)\n",
      "Loaded inverse HVP from output/poisoning_900_300_inception_wd-0.001-test-[15, 169].npz\n",
      "Inverse HVP took 0.000596046447754 sec\n",
      "Entering the for loop\n",
      "(1, 268203)\n",
      "Loaded inverse HVP from output/poisoning_900_300_inception_wd-0.001-test-[15, 169].npz\n",
      "Inverse HVP took 0.000580787658691 sec\n",
      "Entering the for loop\n"
     ]
    },
    {
     "name": "stderr",
     "output_type": "stream",
     "text": [
      "[iter_attack.py:160 -     iterative_attack() ] Attach_iter 42 perturbation shape: (1, 268203), perturbation: [[-0.05477761 -0.21867752  0.27854022 ... -0.16338331 -0.07720176\n",
      "   0.01251595]]\n",
      "[iter_attack.py:160 -     iterative_attack() ] Attach_iter 42 perturbation shape: (1, 268203), perturbation: [[-0.12655473 -0.00963565  0.10114273 ...  0.02178788  0.0023684\n",
      "   0.0059498 ]]\n"
     ]
    },
    {
     "name": "stdout",
     "output_type": "stream",
     "text": [
      "(1, 268203)\n",
      "Loaded inverse HVP from output/poisoning_900_300_inception_wd-0.001-test-[15, 169].npz\n",
      "Inverse HVP took 0.000638961791992 sec\n",
      "Entering the for loop\n",
      "(1, 268203)\n",
      "Loaded inverse HVP from output/poisoning_900_300_inception_wd-0.001-test-[15, 169].npz\n",
      "Inverse HVP took 0.000579118728638 sec\n",
      "Entering the for loop\n"
     ]
    },
    {
     "name": "stderr",
     "output_type": "stream",
     "text": [
      "[iter_attack.py:160 -     iterative_attack() ] Attach_iter 42 perturbation shape: (1, 268203), perturbation: [[ 0.21253499 -0.23378573  0.45484477 ... -0.07060467  0.0683459\n",
      "  -0.11595818]]\n",
      "[iter_attack.py:160 -     iterative_attack() ] Attach_iter 42 perturbation shape: (1, 268203), perturbation: [[-0.49131542 -0.17780292  0.23258908 ... -0.02226887 -0.01598025\n",
      "   0.03692201]]\n"
     ]
    },
    {
     "name": "stdout",
     "output_type": "stream",
     "text": [
      "(1, 268203)\n",
      "Loaded inverse HVP from output/poisoning_900_300_inception_wd-0.001-test-[15, 169].npz\n",
      "Inverse HVP took 0.000581979751587 sec\n",
      "Entering the for loop\n",
      "(1, 268203)\n",
      "Loaded inverse HVP from output/poisoning_900_300_inception_wd-0.001-test-[15, 169].npz\n",
      "Inverse HVP took 0.000584840774536 sec\n",
      "Entering the for loop\n"
     ]
    },
    {
     "name": "stderr",
     "output_type": "stream",
     "text": [
      "[iter_attack.py:160 -     iterative_attack() ] Attach_iter 42 perturbation shape: (1, 268203), perturbation: [[ 0.00793385 -0.00382849 -0.00593917 ... -0.00867683  0.01202946\n",
      "  -0.00415484]]\n"
     ]
    },
    {
     "name": "stdout",
     "output_type": "stream",
     "text": [
      "(1, 268203)\n",
      "10 10\n",
      "Shape (10, 2048)\n",
      "Using normal model\n",
      "LBFGS training took [63] iter.\n",
      "After training with LBFGS: \n"
     ]
    },
    {
     "name": "stderr",
     "output_type": "stream",
     "text": [
      "[genericNeuralNet.py:328 -     print_model_eval() ] Train loss (w reg) on all data: 0.021469388\n",
      "[genericNeuralNet.py:329 -     print_model_eval() ] Train loss (w/o reg) on all data: 0.0094896\n",
      "[genericNeuralNet.py:331 -     print_model_eval() ] Test loss (w/o reg) on all data: 0.06922445\n",
      "[genericNeuralNet.py:332 -     print_model_eval() ] Train acc on all data:  0.9988888888888889\n",
      "[genericNeuralNet.py:333 -     print_model_eval() ] Test acc on all data:   0.975\n",
      "[genericNeuralNet.py:335 -     print_model_eval() ] Norm of the mean of gradients: 0.016326396\n",
      "[genericNeuralNet.py:336 -     print_model_eval() ] Norm of the params: 4.894852\n",
      "[iter_attack.py:204 -     iterative_attack() ] Test_idx: 15 Test pred (full): [[8.7742857e-04 9.9912256e-01]]\n",
      "[iter_attack.py:204 -     iterative_attack() ] Test_idx: 169 Test pred (full): [[0.9988477  0.00115226]]\n",
      "[iter_attack.py:205 -     iterative_attack() ] ---------------------\n",
      "[iter_attack.py:210 -     iterative_attack() ] Test_idx: 15 Test pred (top): [[8.7742857e-04 9.9912256e-01]]\n",
      "[iter_attack.py:210 -     iterative_attack() ] Test_idx: 169 Test pred (top): [[0.9988477  0.00115226]]\n",
      "[iter_attack.py:138 -     iterative_attack() ] *** Iter: 43\n"
     ]
    },
    {
     "name": "stdout",
     "output_type": "stream",
     "text": [
      "Total number of parameters: 2048\n"
     ]
    },
    {
     "name": "stderr",
     "output_type": "stream",
     "text": [
      "[iter_attack.py:160 -     iterative_attack() ] Attach_iter 43 perturbation shape: (1, 268203), perturbation: [[ 0.68582916 -0.02534288 -0.29783744 ...  0.75823253 -0.54087573\n",
      "   0.06341982]]\n"
     ]
    },
    {
     "name": "stdout",
     "output_type": "stream",
     "text": [
      "Warning: Desired error not necessarily achieved due to precision loss.\n",
      "         Current function value: -4468.752930\n",
      "         Iterations: 10\n",
      "         Function evaluations: 130\n",
      "         Gradient evaluations: 127\n",
      "         Hessian evaluations: 60\n",
      "Inverse HVP took 3.35463094711 sec\n",
      "Loaded inverse HVP from output/poisoning_900_300_inception_wd-0.001-test-[15, 169].npz\n",
      "Inverse HVP took 0.000545024871826 sec\n",
      "Entering the for loop\n",
      "(1, 268203)\n",
      "Loaded inverse HVP from output/poisoning_900_300_inception_wd-0.001-test-[15, 169].npz\n",
      "Inverse HVP took 0.000631093978882 sec\n",
      "Entering the for loop\n"
     ]
    },
    {
     "name": "stderr",
     "output_type": "stream",
     "text": [
      "[iter_attack.py:160 -     iterative_attack() ] Attach_iter 43 perturbation shape: (1, 268203), perturbation: [[ 9.71956524e-08  1.05328382e-07  4.24383700e-07 ... -1.30955300e-07\n",
      "   1.25051471e-07  9.68528653e-08]]\n",
      "[iter_attack.py:160 -     iterative_attack() ] Attach_iter 43 perturbation shape: (1, 268203), perturbation: [[-0.02865812 -0.04507213  0.01517054 ... -0.10071373  0.03836127\n",
      "   0.05156884]]\n"
     ]
    },
    {
     "name": "stdout",
     "output_type": "stream",
     "text": [
      "(1, 268203)\n",
      "Loaded inverse HVP from output/poisoning_900_300_inception_wd-0.001-test-[15, 169].npz\n",
      "Inverse HVP took 0.000581979751587 sec\n",
      "Entering the for loop\n",
      "(1, 268203)\n",
      "Loaded inverse HVP from output/poisoning_900_300_inception_wd-0.001-test-[15, 169].npz\n",
      "Inverse HVP took 0.000600099563599 sec\n",
      "Entering the for loop\n"
     ]
    },
    {
     "name": "stderr",
     "output_type": "stream",
     "text": [
      "[iter_attack.py:160 -     iterative_attack() ] Attach_iter 43 perturbation shape: (1, 268203), perturbation: [[-0.00465527  0.01037791  0.00343053 ...  0.00162708 -0.00297575\n",
      "  -0.00396082]]\n",
      "[iter_attack.py:160 -     iterative_attack() ] Attach_iter 43 perturbation shape: (1, 268203), perturbation: [[-0.00642276 -0.01076448 -0.0091565  ... -0.01209143  0.01861446\n",
      "  -0.04760983]]\n"
     ]
    },
    {
     "name": "stdout",
     "output_type": "stream",
     "text": [
      "(1, 268203)\n",
      "Loaded inverse HVP from output/poisoning_900_300_inception_wd-0.001-test-[15, 169].npz\n",
      "Inverse HVP took 0.000578880310059 sec\n",
      "Entering the for loop\n",
      "(1, 268203)\n",
      "Loaded inverse HVP from output/poisoning_900_300_inception_wd-0.001-test-[15, 169].npz\n",
      "Inverse HVP took 0.000601053237915 sec\n",
      "Entering the for loop\n"
     ]
    },
    {
     "name": "stderr",
     "output_type": "stream",
     "text": [
      "[iter_attack.py:160 -     iterative_attack() ] Attach_iter 43 perturbation shape: (1, 268203), perturbation: [[-0.36240122  0.07882141 -0.08790863 ...  0.02832179 -0.10172758\n",
      "   0.09831038]]\n",
      "[iter_attack.py:160 -     iterative_attack() ] Attach_iter 43 perturbation shape: (1, 268203), perturbation: [[ 0.09937923 -0.01738354 -0.02533901 ... -0.0456791   0.01741153\n",
      "   0.01358841]]\n"
     ]
    },
    {
     "name": "stdout",
     "output_type": "stream",
     "text": [
      "(1, 268203)\n",
      "Loaded inverse HVP from output/poisoning_900_300_inception_wd-0.001-test-[15, 169].npz\n",
      "Inverse HVP took 0.000640869140625 sec\n",
      "Entering the for loop\n",
      "(1, 268203)\n",
      "Loaded inverse HVP from output/poisoning_900_300_inception_wd-0.001-test-[15, 169].npz\n",
      "Inverse HVP took 0.000586032867432 sec\n",
      "Entering the for loop\n"
     ]
    },
    {
     "name": "stderr",
     "output_type": "stream",
     "text": [
      "[iter_attack.py:160 -     iterative_attack() ] Attach_iter 43 perturbation shape: (1, 268203), perturbation: [[-0.1287284   0.00208019 -0.12369803 ... -0.43814924  0.09392774\n",
      "   0.33595827]]\n",
      "[iter_attack.py:160 -     iterative_attack() ] Attach_iter 43 perturbation shape: (1, 268203), perturbation: [[-1.16982555 -0.08481809  0.15271282 ... -0.01228188  0.03027794\n",
      "  -0.06412491]]\n"
     ]
    },
    {
     "name": "stdout",
     "output_type": "stream",
     "text": [
      "(1, 268203)\n",
      "Loaded inverse HVP from output/poisoning_900_300_inception_wd-0.001-test-[15, 169].npz\n",
      "Inverse HVP took 0.000586986541748 sec\n",
      "Entering the for loop\n",
      "(1, 268203)\n",
      "Loaded inverse HVP from output/poisoning_900_300_inception_wd-0.001-test-[15, 169].npz\n",
      "Inverse HVP took 0.00058388710022 sec\n",
      "Entering the for loop\n"
     ]
    },
    {
     "name": "stderr",
     "output_type": "stream",
     "text": [
      "[iter_attack.py:160 -     iterative_attack() ] Attach_iter 43 perturbation shape: (1, 268203), perturbation: [[ 0.00923698 -0.0105926  -0.01134098 ... -0.00374357  0.00695039\n",
      "  -0.00276161]]\n"
     ]
    },
    {
     "name": "stdout",
     "output_type": "stream",
     "text": [
      "(1, 268203)\n",
      "10 10\n",
      "Shape (10, 2048)\n",
      "Using normal model\n",
      "LBFGS training took [72] iter.\n",
      "After training with LBFGS: \n"
     ]
    },
    {
     "name": "stderr",
     "output_type": "stream",
     "text": [
      "[genericNeuralNet.py:328 -     print_model_eval() ] Train loss (w reg) on all data: 0.021480814\n",
      "[genericNeuralNet.py:329 -     print_model_eval() ] Train loss (w/o reg) on all data: 0.00951932\n",
      "[genericNeuralNet.py:331 -     print_model_eval() ] Test loss (w/o reg) on all data: 0.06827442\n",
      "[genericNeuralNet.py:332 -     print_model_eval() ] Train acc on all data:  0.9988888888888889\n",
      "[genericNeuralNet.py:333 -     print_model_eval() ] Test acc on all data:   0.975\n",
      "[genericNeuralNet.py:335 -     print_model_eval() ] Norm of the mean of gradients: 0.016013011\n",
      "[genericNeuralNet.py:336 -     print_model_eval() ] Norm of the params: 4.8911138\n",
      "[iter_attack.py:204 -     iterative_attack() ] Test_idx: 15 Test pred (full): [[7.3839619e-04 9.9926156e-01]]\n",
      "[iter_attack.py:204 -     iterative_attack() ] Test_idx: 169 Test pred (full): [[0.99871075 0.00128923]]\n",
      "[iter_attack.py:205 -     iterative_attack() ] ---------------------\n",
      "[iter_attack.py:210 -     iterative_attack() ] Test_idx: 15 Test pred (top): [[7.3839619e-04 9.9926156e-01]]\n",
      "[iter_attack.py:210 -     iterative_attack() ] Test_idx: 169 Test pred (top): [[0.99871075 0.00128923]]\n",
      "[iter_attack.py:138 -     iterative_attack() ] *** Iter: 44\n"
     ]
    },
    {
     "name": "stdout",
     "output_type": "stream",
     "text": [
      "Total number of parameters: 2048\n"
     ]
    },
    {
     "name": "stderr",
     "output_type": "stream",
     "text": [
      "[iter_attack.py:160 -     iterative_attack() ] Attach_iter 44 perturbation shape: (1, 268203), perturbation: [[ 0.26100719  0.55353022 -0.00223523 ... -0.16419168  0.32867199\n",
      "  -0.24563536]]\n"
     ]
    },
    {
     "name": "stdout",
     "output_type": "stream",
     "text": [
      "Warning: Desired error not necessarily achieved due to precision loss.\n",
      "         Current function value: -4445.647949\n",
      "         Iterations: 9\n",
      "         Function evaluations: 124\n",
      "         Gradient evaluations: 118\n",
      "         Hessian evaluations: 67\n",
      "Inverse HVP took 3.33609509468 sec\n",
      "Loaded inverse HVP from output/poisoning_900_300_inception_wd-0.001-test-[15, 169].npz\n",
      "Inverse HVP took 0.000535011291504 sec\n",
      "Entering the for loop\n",
      "(1, 268203)\n",
      "Loaded inverse HVP from output/poisoning_900_300_inception_wd-0.001-test-[15, 169].npz\n",
      "Inverse HVP took 0.000604152679443 sec\n",
      "Entering the for loop\n"
     ]
    },
    {
     "name": "stderr",
     "output_type": "stream",
     "text": [
      "[iter_attack.py:160 -     iterative_attack() ] Attach_iter 44 perturbation shape: (1, 268203), perturbation: [[ 2.21443997e-07  1.66819291e-07  9.47103103e-07 ... -1.89501421e-07\n",
      "   1.06670512e-07  3.78475590e-07]]\n",
      "[iter_attack.py:160 -     iterative_attack() ] Attach_iter 44 perturbation shape: (1, 268203), perturbation: [[-0.58725995 -0.31825677 -0.0315021  ... -0.05859426  0.01807178\n",
      "  -0.02286452]]\n"
     ]
    },
    {
     "name": "stdout",
     "output_type": "stream",
     "text": [
      "(1, 268203)\n",
      "Loaded inverse HVP from output/poisoning_900_300_inception_wd-0.001-test-[15, 169].npz\n",
      "Inverse HVP took 0.000605821609497 sec\n",
      "Entering the for loop\n",
      "(1, 268203)\n",
      "Loaded inverse HVP from output/poisoning_900_300_inception_wd-0.001-test-[15, 169].npz\n",
      "Inverse HVP took 0.000608921051025 sec\n",
      "Entering the for loop\n"
     ]
    },
    {
     "name": "stderr",
     "output_type": "stream",
     "text": [
      "[iter_attack.py:160 -     iterative_attack() ] Attach_iter 44 perturbation shape: (1, 268203), perturbation: [[-0.01020214  0.00346185  0.00777049 ... -0.01110531 -0.00363449\n",
      "   0.00271392]]\n",
      "[iter_attack.py:160 -     iterative_attack() ] Attach_iter 44 perturbation shape: (1, 268203), perturbation: [[-0.01297853  0.00404738  0.00625244 ... -0.08775461 -0.05420855\n",
      "   0.00582761]]\n"
     ]
    },
    {
     "name": "stdout",
     "output_type": "stream",
     "text": [
      "(1, 268203)\n",
      "Loaded inverse HVP from output/poisoning_900_300_inception_wd-0.001-test-[15, 169].npz\n",
      "Inverse HVP took 0.000590085983276 sec\n",
      "Entering the for loop\n",
      "(1, 268203)\n",
      "Loaded inverse HVP from output/poisoning_900_300_inception_wd-0.001-test-[15, 169].npz\n",
      "Inverse HVP took 0.000588893890381 sec\n",
      "Entering the for loop\n"
     ]
    },
    {
     "name": "stderr",
     "output_type": "stream",
     "text": [
      "[iter_attack.py:160 -     iterative_attack() ] Attach_iter 44 perturbation shape: (1, 268203), perturbation: [[-0.04193459 -0.24606778  0.30554342 ... -0.138587   -0.08983085\n",
      "   0.04253416]]\n",
      "[iter_attack.py:160 -     iterative_attack() ] Attach_iter 44 perturbation shape: (1, 268203), perturbation: [[-0.12235648 -0.03238942  0.11204745 ... -0.02501579  0.0345313\n",
      "   0.02499981]]\n"
     ]
    },
    {
     "name": "stdout",
     "output_type": "stream",
     "text": [
      "(1, 268203)\n",
      "Loaded inverse HVP from output/poisoning_900_300_inception_wd-0.001-test-[15, 169].npz\n",
      "Inverse HVP took 0.000586986541748 sec\n",
      "Entering the for loop\n",
      "(1, 268203)\n",
      "Loaded inverse HVP from output/poisoning_900_300_inception_wd-0.001-test-[15, 169].npz\n",
      "Inverse HVP took 0.000629901885986 sec\n",
      "Entering the for loop\n"
     ]
    },
    {
     "name": "stderr",
     "output_type": "stream",
     "text": [
      "[iter_attack.py:160 -     iterative_attack() ] Attach_iter 44 perturbation shape: (1, 268203), perturbation: [[ 0.26049531 -0.3741591   0.60121518 ...  0.35539645 -0.12245286\n",
      "  -0.39855531]]\n",
      "[iter_attack.py:160 -     iterative_attack() ] Attach_iter 44 perturbation shape: (1, 268203), perturbation: [[-0.54754841 -0.13977234  0.31841138 ... -0.01982048 -0.01607421\n",
      "   0.01350746]]\n"
     ]
    },
    {
     "name": "stdout",
     "output_type": "stream",
     "text": [
      "(1, 268203)\n",
      "Loaded inverse HVP from output/poisoning_900_300_inception_wd-0.001-test-[15, 169].npz\n",
      "Inverse HVP took 0.000633001327515 sec\n",
      "Entering the for loop\n",
      "(1, 268203)\n",
      "Loaded inverse HVP from output/poisoning_900_300_inception_wd-0.001-test-[15, 169].npz\n",
      "Inverse HVP took 0.000586032867432 sec\n",
      "Entering the for loop\n"
     ]
    },
    {
     "name": "stderr",
     "output_type": "stream",
     "text": [
      "[iter_attack.py:160 -     iterative_attack() ] Attach_iter 44 perturbation shape: (1, 268203), perturbation: [[ 0.01126519 -0.00368585 -0.00325864 ... -0.00300002  0.00820013\n",
      "  -0.00450961]]\n"
     ]
    },
    {
     "name": "stdout",
     "output_type": "stream",
     "text": [
      "(1, 268203)\n",
      "10 10\n",
      "Shape (10, 2048)\n",
      "Using normal model\n",
      "LBFGS training took [64] iter.\n",
      "After training with LBFGS: \n"
     ]
    },
    {
     "name": "stderr",
     "output_type": "stream",
     "text": [
      "[genericNeuralNet.py:328 -     print_model_eval() ] Train loss (w reg) on all data: 0.021841094\n",
      "[genericNeuralNet.py:329 -     print_model_eval() ] Train loss (w/o reg) on all data: 0.009722015\n",
      "[genericNeuralNet.py:331 -     print_model_eval() ] Test loss (w/o reg) on all data: 0.07032209\n",
      "[genericNeuralNet.py:332 -     print_model_eval() ] Train acc on all data:  0.9988888888888889\n",
      "[genericNeuralNet.py:333 -     print_model_eval() ] Test acc on all data:   0.975\n",
      "[genericNeuralNet.py:335 -     print_model_eval() ] Norm of the mean of gradients: 0.016402066\n",
      "[genericNeuralNet.py:336 -     print_model_eval() ] Norm of the params: 4.923226\n",
      "[iter_attack.py:204 -     iterative_attack() ] Test_idx: 15 Test pred (full): [[6.154601e-04 9.993845e-01]]\n",
      "[iter_attack.py:204 -     iterative_attack() ] Test_idx: 169 Test pred (full): [[0.9988285  0.00117148]]\n",
      "[iter_attack.py:205 -     iterative_attack() ] ---------------------\n",
      "[iter_attack.py:210 -     iterative_attack() ] Test_idx: 15 Test pred (top): [[6.154601e-04 9.993845e-01]]\n",
      "[iter_attack.py:210 -     iterative_attack() ] Test_idx: 169 Test pred (top): [[0.9988285  0.00117148]]\n",
      "[iter_attack.py:138 -     iterative_attack() ] *** Iter: 45\n"
     ]
    },
    {
     "name": "stdout",
     "output_type": "stream",
     "text": [
      "Total number of parameters: 2048\n"
     ]
    },
    {
     "name": "stderr",
     "output_type": "stream",
     "text": [
      "[iter_attack.py:160 -     iterative_attack() ] Attach_iter 45 perturbation shape: (1, 268203), perturbation: [[ 0.01235206  0.00471768 -0.13874447 ...  0.31028339 -0.22531013\n",
      "   0.06540994]]\n"
     ]
    },
    {
     "name": "stdout",
     "output_type": "stream",
     "text": [
      "Warning: Desired error not necessarily achieved due to precision loss.\n",
      "         Current function value: -4423.500000\n",
      "         Iterations: 9\n",
      "         Function evaluations: 77\n",
      "         Gradient evaluations: 74\n",
      "         Hessian evaluations: 55\n",
      "Inverse HVP took 2.14058685303 sec\n",
      "Loaded inverse HVP from output/poisoning_900_300_inception_wd-0.001-test-[15, 169].npz\n",
      "Inverse HVP took 0.000539064407349 sec\n",
      "Entering the for loop\n",
      "(1, 268203)\n",
      "Loaded inverse HVP from output/poisoning_900_300_inception_wd-0.001-test-[15, 169].npz\n",
      "Inverse HVP took 0.000590085983276 sec\n",
      "Entering the for loop\n"
     ]
    },
    {
     "name": "stderr",
     "output_type": "stream",
     "text": [
      "[iter_attack.py:160 -     iterative_attack() ] Attach_iter 45 perturbation shape: (1, 268203), perturbation: [[ 3.18575132e-07  3.25931353e-07  1.15354430e-06 ...  1.48583410e-07\n",
      "  -3.58829709e-07  8.35441938e-08]]\n",
      "[iter_attack.py:160 -     iterative_attack() ] Attach_iter 45 perturbation shape: (1, 268203), perturbation: [[ 0.05883443  0.00750987 -0.03408087 ... -0.05654072  0.0875419\n",
      "   0.04635772]]\n"
     ]
    },
    {
     "name": "stdout",
     "output_type": "stream",
     "text": [
      "(1, 268203)\n",
      "Loaded inverse HVP from output/poisoning_900_300_inception_wd-0.001-test-[15, 169].npz\n",
      "Inverse HVP took 0.000604152679443 sec\n",
      "Entering the for loop\n",
      "(1, 268203)\n",
      "Loaded inverse HVP from output/poisoning_900_300_inception_wd-0.001-test-[15, 169].npz\n",
      "Inverse HVP took 0.00058388710022 sec\n",
      "Entering the for loop\n"
     ]
    },
    {
     "name": "stderr",
     "output_type": "stream",
     "text": [
      "[iter_attack.py:160 -     iterative_attack() ] Attach_iter 45 perturbation shape: (1, 268203), perturbation: [[-0.01730712 -0.00770944  0.00968321 ...  0.00020988  0.0019322\n",
      "  -0.00376178]]\n",
      "[iter_attack.py:160 -     iterative_attack() ] Attach_iter 45 perturbation shape: (1, 268203), perturbation: [[-0.002581   -0.01498716 -0.01340059 ... -0.13234355  0.04805134\n",
      "   0.037172  ]]\n"
     ]
    },
    {
     "name": "stdout",
     "output_type": "stream",
     "text": [
      "(1, 268203)\n",
      "Loaded inverse HVP from output/poisoning_900_300_inception_wd-0.001-test-[15, 169].npz\n",
      "Inverse HVP took 0.00061297416687 sec\n",
      "Entering the for loop\n",
      "(1, 268203)\n",
      "Loaded inverse HVP from output/poisoning_900_300_inception_wd-0.001-test-[15, 169].npz\n",
      "Inverse HVP took 0.000582933425903 sec\n",
      "Entering the for loop\n"
     ]
    },
    {
     "name": "stderr",
     "output_type": "stream",
     "text": [
      "[iter_attack.py:160 -     iterative_attack() ] Attach_iter 45 perturbation shape: (1, 268203), perturbation: [[-0.23165295  0.05629829 -0.10679565 ... -0.01626381 -0.12726793\n",
      "   0.13254835]]\n",
      "[iter_attack.py:160 -     iterative_attack() ] Attach_iter 45 perturbation shape: (1, 268203), perturbation: [[ 0.10953556 -0.02534807 -0.04278442 ... -0.0162143  -0.00646155\n",
      "   0.00621863]]\n"
     ]
    },
    {
     "name": "stdout",
     "output_type": "stream",
     "text": [
      "(1, 268203)\n",
      "Loaded inverse HVP from output/poisoning_900_300_inception_wd-0.001-test-[15, 169].npz\n",
      "Inverse HVP took 0.000642061233521 sec\n",
      "Entering the for loop\n",
      "(1, 268203)\n",
      "Loaded inverse HVP from output/poisoning_900_300_inception_wd-0.001-test-[15, 169].npz\n",
      "Inverse HVP took 0.000581979751587 sec\n",
      "Entering the for loop\n"
     ]
    },
    {
     "name": "stderr",
     "output_type": "stream",
     "text": [
      "[iter_attack.py:160 -     iterative_attack() ] Attach_iter 45 perturbation shape: (1, 268203), perturbation: [[-0.08275449 -0.01477271 -0.04334901 ... -0.41937166  0.18958534\n",
      "   0.15604377]]\n",
      "[iter_attack.py:160 -     iterative_attack() ] Attach_iter 45 perturbation shape: (1, 268203), perturbation: [[-0.56075782 -0.01004834  0.01006377 ... -0.051101    0.04474806\n",
      "  -0.03043751]]\n"
     ]
    },
    {
     "name": "stdout",
     "output_type": "stream",
     "text": [
      "(1, 268203)\n",
      "Loaded inverse HVP from output/poisoning_900_300_inception_wd-0.001-test-[15, 169].npz\n",
      "Inverse HVP took 0.000602960586548 sec\n",
      "Entering the for loop\n",
      "(1, 268203)\n",
      "Loaded inverse HVP from output/poisoning_900_300_inception_wd-0.001-test-[15, 169].npz\n",
      "Inverse HVP took 0.000607967376709 sec\n",
      "Entering the for loop\n"
     ]
    },
    {
     "name": "stderr",
     "output_type": "stream",
     "text": [
      "[iter_attack.py:160 -     iterative_attack() ] Attach_iter 45 perturbation shape: (1, 268203), perturbation: [[ 0.017321   -0.01371531 -0.01887162 ... -0.00138296  0.0096768\n",
      "  -0.00420405]]\n"
     ]
    },
    {
     "name": "stdout",
     "output_type": "stream",
     "text": [
      "(1, 268203)\n",
      "10 10\n"
     ]
    },
    {
     "name": "stderr",
     "output_type": "stream",
     "text": [
      "[genericNeuralNet.py:328 -     print_model_eval() ] Train loss (w reg) on all data: 0.021887735\n",
      "[genericNeuralNet.py:329 -     print_model_eval() ] Train loss (w/o reg) on all data: 0.009804601\n",
      "[genericNeuralNet.py:331 -     print_model_eval() ] Test loss (w/o reg) on all data: 0.06881877\n",
      "[genericNeuralNet.py:332 -     print_model_eval() ] Train acc on all data:  0.9988888888888889\n",
      "[genericNeuralNet.py:333 -     print_model_eval() ] Test acc on all data:   0.9733333333333334\n",
      "[genericNeuralNet.py:335 -     print_model_eval() ] Norm of the mean of gradients: 0.016343227\n",
      "[genericNeuralNet.py:336 -     print_model_eval() ] Norm of the params: 4.915919\n"
     ]
    },
    {
     "name": "stdout",
     "output_type": "stream",
     "text": [
      "Shape (10, 2048)\n",
      "Using normal model\n",
      "LBFGS training took [57] iter.\n",
      "After training with LBFGS: \n"
     ]
    },
    {
     "name": "stderr",
     "output_type": "stream",
     "text": [
      "[iter_attack.py:204 -     iterative_attack() ] Test_idx: 15 Test pred (full): [[5.2642188e-04 9.9947363e-01]]\n",
      "[iter_attack.py:204 -     iterative_attack() ] Test_idx: 169 Test pred (full): [[0.9986833 0.0013167]]\n",
      "[iter_attack.py:205 -     iterative_attack() ] ---------------------\n",
      "[iter_attack.py:210 -     iterative_attack() ] Test_idx: 15 Test pred (top): [[5.2642188e-04 9.9947363e-01]]\n",
      "[iter_attack.py:210 -     iterative_attack() ] Test_idx: 169 Test pred (top): [[0.9986833 0.0013167]]\n",
      "[iter_attack.py:138 -     iterative_attack() ] *** Iter: 46\n"
     ]
    },
    {
     "name": "stdout",
     "output_type": "stream",
     "text": [
      "Total number of parameters: 2048\n"
     ]
    },
    {
     "name": "stderr",
     "output_type": "stream",
     "text": [
      "[iter_attack.py:160 -     iterative_attack() ] Attach_iter 46 perturbation shape: (1, 268203), perturbation: [[ 7.90560961e-01  6.88780069e-01  5.49966022e-02 ... -2.45510280e-01\n",
      "   2.99289823e-05 -4.39198166e-02]]\n"
     ]
    },
    {
     "name": "stdout",
     "output_type": "stream",
     "text": [
      "Warning: Desired error not necessarily achieved due to precision loss.\n",
      "         Current function value: -4399.803711\n",
      "         Iterations: 9\n",
      "         Function evaluations: 158\n",
      "         Gradient evaluations: 154\n",
      "         Hessian evaluations: 69\n",
      "Inverse HVP took 4.00160813332 sec\n",
      "Loaded inverse HVP from output/poisoning_900_300_inception_wd-0.001-test-[15, 169].npz\n",
      "Inverse HVP took 0.000559091567993 sec\n",
      "Entering the for loop\n",
      "(1, 268203)\n",
      "Loaded inverse HVP from output/poisoning_900_300_inception_wd-0.001-test-[15, 169].npz\n",
      "Inverse HVP took 0.000619888305664 sec\n",
      "Entering the for loop\n"
     ]
    },
    {
     "name": "stderr",
     "output_type": "stream",
     "text": [
      "[iter_attack.py:160 -     iterative_attack() ] Attach_iter 46 perturbation shape: (1, 268203), perturbation: [[ 3.41144926e-07  7.69841790e-08  1.79092331e-06 ... -1.41293765e-06\n",
      "   3.68298402e-07  1.47238870e-06]]\n",
      "[iter_attack.py:160 -     iterative_attack() ] Attach_iter 46 perturbation shape: (1, 268203), perturbation: [[ 0.22778314  0.14344369 -0.126936   ... -0.09425237 -0.02374696\n",
      "  -0.02707642]]\n"
     ]
    },
    {
     "name": "stdout",
     "output_type": "stream",
     "text": [
      "(1, 268203)\n",
      "Loaded inverse HVP from output/poisoning_900_300_inception_wd-0.001-test-[15, 169].npz\n",
      "Inverse HVP took 0.000585079193115 sec\n",
      "Entering the for loop\n",
      "(1, 268203)\n",
      "Loaded inverse HVP from output/poisoning_900_300_inception_wd-0.001-test-[15, 169].npz\n",
      "Inverse HVP took 0.000585794448853 sec\n",
      "Entering the for loop\n"
     ]
    },
    {
     "name": "stderr",
     "output_type": "stream",
     "text": [
      "[iter_attack.py:160 -     iterative_attack() ] Attach_iter 46 perturbation shape: (1, 268203), perturbation: [[-0.01618911 -0.00822209  0.00854174 ... -0.01519735  0.00046128\n",
      "   0.00237924]]\n",
      "[iter_attack.py:160 -     iterative_attack() ] Attach_iter 46 perturbation shape: (1, 268203), perturbation: [[-0.01217443 -0.00277179  0.00282218 ... -0.05490158 -0.00584393\n",
      "  -0.03229618]]\n"
     ]
    },
    {
     "name": "stdout",
     "output_type": "stream",
     "text": [
      "(1, 268203)\n",
      "Loaded inverse HVP from output/poisoning_900_300_inception_wd-0.001-test-[15, 169].npz\n",
      "Inverse HVP took 0.000579118728638 sec\n",
      "Entering the for loop\n",
      "(1, 268203)\n",
      "Loaded inverse HVP from output/poisoning_900_300_inception_wd-0.001-test-[15, 169].npz\n",
      "Inverse HVP took 0.000588893890381 sec\n",
      "Entering the for loop\n"
     ]
    },
    {
     "name": "stderr",
     "output_type": "stream",
     "text": [
      "[iter_attack.py:160 -     iterative_attack() ] Attach_iter 46 perturbation shape: (1, 268203), perturbation: [[-0.05194648 -0.25038069  0.30434996 ... -0.06892045 -0.09699266\n",
      "   0.02280245]]\n",
      "[iter_attack.py:160 -     iterative_attack() ] Attach_iter 46 perturbation shape: (1, 268203), perturbation: [[-0.11368909 -0.01519466  0.04284954 ... -0.03640147  0.05114991\n",
      "   0.02836584]]\n"
     ]
    },
    {
     "name": "stdout",
     "output_type": "stream",
     "text": [
      "(1, 268203)\n",
      "Loaded inverse HVP from output/poisoning_900_300_inception_wd-0.001-test-[15, 169].npz\n",
      "Inverse HVP took 0.000586032867432 sec\n",
      "Entering the for loop\n",
      "(1, 268203)\n",
      "Loaded inverse HVP from output/poisoning_900_300_inception_wd-0.001-test-[15, 169].npz\n",
      "Inverse HVP took 0.00058388710022 sec\n",
      "Entering the for loop\n"
     ]
    },
    {
     "name": "stderr",
     "output_type": "stream",
     "text": [
      "[iter_attack.py:160 -     iterative_attack() ] Attach_iter 46 perturbation shape: (1, 268203), perturbation: [[ 0.28424805 -0.31902489  0.55512226 ...  0.41356409 -0.23340935\n",
      "  -0.32694921]]\n",
      "[iter_attack.py:160 -     iterative_attack() ] Attach_iter 46 perturbation shape: (1, 268203), perturbation: [[-0.72413945 -0.21855843  0.24713783 ... -0.03648961 -0.04565871\n",
      "   0.0162146 ]]\n"
     ]
    },
    {
     "name": "stdout",
     "output_type": "stream",
     "text": [
      "(1, 268203)\n",
      "Loaded inverse HVP from output/poisoning_900_300_inception_wd-0.001-test-[15, 169].npz\n",
      "Inverse HVP took 0.000586986541748 sec\n",
      "Entering the for loop\n",
      "(1, 268203)\n",
      "Loaded inverse HVP from output/poisoning_900_300_inception_wd-0.001-test-[15, 169].npz\n",
      "Inverse HVP took 0.000585079193115 sec\n",
      "Entering the for loop\n"
     ]
    },
    {
     "name": "stderr",
     "output_type": "stream",
     "text": [
      "[iter_attack.py:160 -     iterative_attack() ] Attach_iter 46 perturbation shape: (1, 268203), perturbation: [[ 0.01971306 -0.0018775  -0.00587126 ... -0.00621792  0.00529034\n",
      "  -0.00361394]]\n"
     ]
    },
    {
     "name": "stdout",
     "output_type": "stream",
     "text": [
      "(1, 268203)\n",
      "10 10\n"
     ]
    },
    {
     "name": "stderr",
     "output_type": "stream",
     "text": [
      "[genericNeuralNet.py:328 -     print_model_eval() ] Train loss (w reg) on all data: 0.022228476\n",
      "[genericNeuralNet.py:329 -     print_model_eval() ] Train loss (w/o reg) on all data: 0.00998194\n",
      "[genericNeuralNet.py:331 -     print_model_eval() ] Test loss (w/o reg) on all data: 0.07093718\n",
      "[genericNeuralNet.py:332 -     print_model_eval() ] Train acc on all data:  0.9988888888888889\n"
     ]
    },
    {
     "name": "stdout",
     "output_type": "stream",
     "text": [
      "Shape (10, 2048)\n",
      "Using normal model\n",
      "LBFGS training took [53] iter.\n",
      "After training with LBFGS: \n"
     ]
    },
    {
     "name": "stderr",
     "output_type": "stream",
     "text": [
      "[genericNeuralNet.py:333 -     print_model_eval() ] Test acc on all data:   0.975\n",
      "[genericNeuralNet.py:335 -     print_model_eval() ] Norm of the mean of gradients: 0.0166562\n",
      "[genericNeuralNet.py:336 -     print_model_eval() ] Norm of the params: 4.9490466\n",
      "[iter_attack.py:204 -     iterative_attack() ] Test_idx: 15 Test pred (full): [[4.414241e-04 9.995585e-01]]\n",
      "[iter_attack.py:204 -     iterative_attack() ] Test_idx: 169 Test pred (full): [[0.99872905 0.00127097]]\n",
      "[iter_attack.py:205 -     iterative_attack() ] ---------------------\n",
      "[iter_attack.py:210 -     iterative_attack() ] Test_idx: 15 Test pred (top): [[4.414241e-04 9.995585e-01]]\n",
      "[iter_attack.py:210 -     iterative_attack() ] Test_idx: 169 Test pred (top): [[0.99872905 0.00127097]]\n",
      "[iter_attack.py:138 -     iterative_attack() ] *** Iter: 47\n"
     ]
    },
    {
     "name": "stdout",
     "output_type": "stream",
     "text": [
      "Total number of parameters: 2048\n"
     ]
    },
    {
     "name": "stderr",
     "output_type": "stream",
     "text": [
      "[iter_attack.py:160 -     iterative_attack() ] Attach_iter 47 perturbation shape: (1, 268203), perturbation: [[ 0.05583036 -0.17828763  0.10183705 ...  0.33208042  0.07965221\n",
      "  -0.23858614]]\n"
     ]
    },
    {
     "name": "stdout",
     "output_type": "stream",
     "text": [
      "Warning: Desired error not necessarily achieved due to precision loss.\n",
      "         Current function value: -4378.854004\n",
      "         Iterations: 11\n",
      "         Function evaluations: 174\n",
      "         Gradient evaluations: 171\n",
      "         Hessian evaluations: 80\n",
      "Inverse HVP took 4.40616798401 sec\n",
      "Loaded inverse HVP from output/poisoning_900_300_inception_wd-0.001-test-[15, 169].npz\n",
      "Inverse HVP took 0.000565052032471 sec\n",
      "Entering the for loop\n",
      "(1, 268203)\n",
      "Loaded inverse HVP from output/poisoning_900_300_inception_wd-0.001-test-[15, 169].npz\n",
      "Inverse HVP took 0.000586986541748 sec\n",
      "Entering the for loop\n"
     ]
    },
    {
     "name": "stderr",
     "output_type": "stream",
     "text": [
      "[iter_attack.py:160 -     iterative_attack() ] Attach_iter 47 perturbation shape: (1, 268203), perturbation: [[ 3.71845147e-07  4.44317550e-07  1.78796722e-06 ... -1.21109011e-07\n",
      "  -9.65951301e-08 -3.39758003e-07]]\n",
      "[iter_attack.py:160 -     iterative_attack() ] Attach_iter 47 perturbation shape: (1, 268203), perturbation: [[ 0.15559654  0.09684893 -0.08003375 ... -0.13870443  0.02925589\n",
      "   0.09274482]]\n"
     ]
    },
    {
     "name": "stdout",
     "output_type": "stream",
     "text": [
      "(1, 268203)\n",
      "Loaded inverse HVP from output/poisoning_900_300_inception_wd-0.001-test-[15, 169].npz\n",
      "Inverse HVP took 0.00060510635376 sec\n",
      "Entering the for loop\n",
      "(1, 268203)\n",
      "Loaded inverse HVP from output/poisoning_900_300_inception_wd-0.001-test-[15, 169].npz\n",
      "Inverse HVP took 0.000584840774536 sec\n",
      "Entering the for loop\n"
     ]
    },
    {
     "name": "stderr",
     "output_type": "stream",
     "text": [
      "[iter_attack.py:160 -     iterative_attack() ] Attach_iter 47 perturbation shape: (1, 268203), perturbation: [[-0.01389508 -0.01171984  0.00903781 ...  0.00260975  0.00434899\n",
      "  -0.00612164]]\n",
      "[iter_attack.py:160 -     iterative_attack() ] Attach_iter 47 perturbation shape: (1, 268203), perturbation: [[-0.00663655 -0.01011316 -0.02207687 ... -0.12807742  0.05977507\n",
      "   0.04228276]]\n"
     ]
    },
    {
     "name": "stdout",
     "output_type": "stream",
     "text": [
      "(1, 268203)\n",
      "Loaded inverse HVP from output/poisoning_900_300_inception_wd-0.001-test-[15, 169].npz\n",
      "Inverse HVP took 0.000583171844482 sec\n",
      "Entering the for loop\n",
      "(1, 268203)\n",
      "Loaded inverse HVP from output/poisoning_900_300_inception_wd-0.001-test-[15, 169].npz\n",
      "Inverse HVP took 0.000580072402954 sec\n",
      "Entering the for loop\n"
     ]
    },
    {
     "name": "stderr",
     "output_type": "stream",
     "text": [
      "[iter_attack.py:160 -     iterative_attack() ] Attach_iter 47 perturbation shape: (1, 268203), perturbation: [[-0.28034461  0.12425986 -0.1607524  ...  0.01367676 -0.08766475\n",
      "   0.12905751]]\n",
      "[iter_attack.py:160 -     iterative_attack() ] Attach_iter 47 perturbation shape: (1, 268203), perturbation: [[ 0.07796563 -0.00581873  0.00284031 ... -0.05351551  0.03544602\n",
      "   0.01999618]]\n"
     ]
    },
    {
     "name": "stdout",
     "output_type": "stream",
     "text": [
      "(1, 268203)\n",
      "Loaded inverse HVP from output/poisoning_900_300_inception_wd-0.001-test-[15, 169].npz\n",
      "Inverse HVP took 0.000638961791992 sec\n",
      "Entering the for loop\n",
      "(1, 268203)\n",
      "Loaded inverse HVP from output/poisoning_900_300_inception_wd-0.001-test-[15, 169].npz\n",
      "Inverse HVP took 0.000599145889282 sec\n",
      "Entering the for loop\n"
     ]
    },
    {
     "name": "stderr",
     "output_type": "stream",
     "text": [
      "[iter_attack.py:160 -     iterative_attack() ] Attach_iter 47 perturbation shape: (1, 268203), perturbation: [[-0.06089224  0.01170752 -0.05914692 ... -0.54210347  0.28543538\n",
      "   0.07405099]]\n",
      "[iter_attack.py:160 -     iterative_attack() ] Attach_iter 47 perturbation shape: (1, 268203), perturbation: [[-0.40673676  0.30244216  0.00861299 ...  0.02966855  0.0532192\n",
      "  -0.06014844]]\n"
     ]
    },
    {
     "name": "stdout",
     "output_type": "stream",
     "text": [
      "(1, 268203)\n",
      "Loaded inverse HVP from output/poisoning_900_300_inception_wd-0.001-test-[15, 169].npz\n",
      "Inverse HVP took 0.000582933425903 sec\n",
      "Entering the for loop\n",
      "(1, 268203)\n",
      "Loaded inverse HVP from output/poisoning_900_300_inception_wd-0.001-test-[15, 169].npz\n",
      "Inverse HVP took 0.000579118728638 sec\n",
      "Entering the for loop\n"
     ]
    },
    {
     "name": "stderr",
     "output_type": "stream",
     "text": [
      "[iter_attack.py:160 -     iterative_attack() ] Attach_iter 47 perturbation shape: (1, 268203), perturbation: [[ 0.00852024 -0.02338059 -0.03129663 ...  0.00470917  0.00425259\n",
      "  -0.00422284]]\n"
     ]
    },
    {
     "name": "stdout",
     "output_type": "stream",
     "text": [
      "(1, 268203)\n",
      "10 10\n",
      "Shape (10, 2048)\n",
      "Using normal model\n",
      "LBFGS training took [54] iter.\n",
      "After training with LBFGS: \n"
     ]
    },
    {
     "name": "stderr",
     "output_type": "stream",
     "text": [
      "[genericNeuralNet.py:328 -     print_model_eval() ] Train loss (w reg) on all data: 0.022274114\n",
      "[genericNeuralNet.py:329 -     print_model_eval() ] Train loss (w/o reg) on all data: 0.010067292\n",
      "[genericNeuralNet.py:331 -     print_model_eval() ] Test loss (w/o reg) on all data: 0.06953299\n",
      "[genericNeuralNet.py:332 -     print_model_eval() ] Train acc on all data:  0.9988888888888889\n",
      "[genericNeuralNet.py:333 -     print_model_eval() ] Test acc on all data:   0.9733333333333334\n",
      "[genericNeuralNet.py:335 -     print_model_eval() ] Norm of the mean of gradients: 0.016629988\n",
      "[genericNeuralNet.py:336 -     print_model_eval() ] Norm of the params: 4.9410157\n",
      "[iter_attack.py:204 -     iterative_attack() ] Test_idx: 15 Test pred (full): [[3.810935e-04 9.996189e-01]]\n",
      "[iter_attack.py:204 -     iterative_attack() ] Test_idx: 169 Test pred (full): [[0.99864644 0.00135361]]\n",
      "[iter_attack.py:205 -     iterative_attack() ] ---------------------\n",
      "[iter_attack.py:210 -     iterative_attack() ] Test_idx: 15 Test pred (top): [[3.810935e-04 9.996189e-01]]\n",
      "[iter_attack.py:210 -     iterative_attack() ] Test_idx: 169 Test pred (top): [[0.99864644 0.00135361]]\n",
      "[iter_attack.py:138 -     iterative_attack() ] *** Iter: 48\n"
     ]
    },
    {
     "name": "stdout",
     "output_type": "stream",
     "text": [
      "Total number of parameters: 2048\n"
     ]
    },
    {
     "name": "stderr",
     "output_type": "stream",
     "text": [
      "[iter_attack.py:160 -     iterative_attack() ] Attach_iter 48 perturbation shape: (1, 268203), perturbation: [[ 0.420425    0.76874006  0.39053839 ... -0.47687501  0.27228081\n",
      "  -0.19415709]]\n"
     ]
    },
    {
     "name": "stdout",
     "output_type": "stream",
     "text": [
      "Warning: Desired error not necessarily achieved due to precision loss.\n",
      "         Current function value: -4357.462891\n",
      "         Iterations: 8\n",
      "         Function evaluations: 73\n",
      "         Gradient evaluations: 69\n",
      "         Hessian evaluations: 53\n",
      "Inverse HVP took 2.07225489616 sec\n",
      "Loaded inverse HVP from output/poisoning_900_300_inception_wd-0.001-test-[15, 169].npz\n",
      "Inverse HVP took 0.000607013702393 sec\n",
      "Entering the for loop\n",
      "(1, 268203)\n",
      "Loaded inverse HVP from output/poisoning_900_300_inception_wd-0.001-test-[15, 169].npz\n",
      "Inverse HVP took 0.000590085983276 sec\n",
      "Entering the for loop\n"
     ]
    },
    {
     "name": "stderr",
     "output_type": "stream",
     "text": [
      "[iter_attack.py:160 -     iterative_attack() ] Attach_iter 48 perturbation shape: (1, 268203), perturbation: [[ 6.71437647e-07  3.61596904e-07  4.14196666e-06 ... -3.34244987e-06\n",
      "  -1.39469068e-06  4.60098727e-06]]\n",
      "[iter_attack.py:160 -     iterative_attack() ] Attach_iter 48 perturbation shape: (1, 268203), perturbation: [[ 0.0991857   0.00426864  0.01950008 ... -0.05687053 -0.00531398\n",
      "  -0.04099328]]\n"
     ]
    },
    {
     "name": "stdout",
     "output_type": "stream",
     "text": [
      "(1, 268203)\n",
      "Loaded inverse HVP from output/poisoning_900_300_inception_wd-0.001-test-[15, 169].npz\n",
      "Inverse HVP took 0.000581979751587 sec\n",
      "Entering the for loop\n",
      "(1, 268203)\n",
      "Loaded inverse HVP from output/poisoning_900_300_inception_wd-0.001-test-[15, 169].npz\n",
      "Inverse HVP took 0.00059700012207 sec\n",
      "Entering the for loop\n"
     ]
    },
    {
     "name": "stderr",
     "output_type": "stream",
     "text": [
      "[iter_attack.py:160 -     iterative_attack() ] Attach_iter 48 perturbation shape: (1, 268203), perturbation: [[-0.01153568 -0.01115157  0.00714903 ... -0.01897978 -0.00501436\n",
      "   0.00457995]]\n",
      "[iter_attack.py:160 -     iterative_attack() ] Attach_iter 48 perturbation shape: (1, 268203), perturbation: [[-0.01388531  0.00674359  0.00199177 ... -0.11369181  0.0974028\n",
      "  -0.00103591]]\n"
     ]
    },
    {
     "name": "stdout",
     "output_type": "stream",
     "text": [
      "(1, 268203)\n",
      "Loaded inverse HVP from output/poisoning_900_300_inception_wd-0.001-test-[15, 169].npz\n",
      "Inverse HVP took 0.000631809234619 sec\n",
      "Entering the for loop\n",
      "(1, 268203)\n",
      "Loaded inverse HVP from output/poisoning_900_300_inception_wd-0.001-test-[15, 169].npz\n",
      "Inverse HVP took 0.000595092773438 sec\n",
      "Entering the for loop\n"
     ]
    },
    {
     "name": "stderr",
     "output_type": "stream",
     "text": [
      "[iter_attack.py:160 -     iterative_attack() ] Attach_iter 48 perturbation shape: (1, 268203), perturbation: [[ 0.07450245 -0.41054773  0.31071874 ... -0.06087965 -0.04046053\n",
      "   0.00555015]]\n",
      "[iter_attack.py:160 -     iterative_attack() ] Attach_iter 48 perturbation shape: (1, 268203), perturbation: [[-0.05498075 -0.02143058  0.02870732 ... -0.02690325  0.04274283\n",
      "   0.02303078]]\n"
     ]
    },
    {
     "name": "stdout",
     "output_type": "stream",
     "text": [
      "(1, 268203)\n",
      "Loaded inverse HVP from output/poisoning_900_300_inception_wd-0.001-test-[15, 169].npz\n",
      "Inverse HVP took 0.000571012496948 sec\n",
      "Entering the for loop\n",
      "(1, 268203)\n",
      "Loaded inverse HVP from output/poisoning_900_300_inception_wd-0.001-test-[15, 169].npz\n",
      "Inverse HVP took 0.000581026077271 sec\n",
      "Entering the for loop\n"
     ]
    },
    {
     "name": "stderr",
     "output_type": "stream",
     "text": [
      "[iter_attack.py:160 -     iterative_attack() ] Attach_iter 48 perturbation shape: (1, 268203), perturbation: [[ 0.23534328 -0.32862285  0.52297038 ...  0.28876168 -0.52035385\n",
      "  -0.01654398]]\n",
      "[iter_attack.py:160 -     iterative_attack() ] Attach_iter 48 perturbation shape: (1, 268203), perturbation: [[-0.58222306 -0.16841634  0.19608219 ... -0.02202776 -0.05016912\n",
      "   0.02148431]]\n"
     ]
    },
    {
     "name": "stdout",
     "output_type": "stream",
     "text": [
      "(1, 268203)\n",
      "Loaded inverse HVP from output/poisoning_900_300_inception_wd-0.001-test-[15, 169].npz\n",
      "Inverse HVP took 0.000586032867432 sec\n",
      "Entering the for loop\n",
      "(1, 268203)\n",
      "Loaded inverse HVP from output/poisoning_900_300_inception_wd-0.001-test-[15, 169].npz\n",
      "Inverse HVP took 0.000581026077271 sec\n",
      "Entering the for loop\n"
     ]
    },
    {
     "name": "stderr",
     "output_type": "stream",
     "text": [
      "[iter_attack.py:160 -     iterative_attack() ] Attach_iter 48 perturbation shape: (1, 268203), perturbation: [[ 0.0118659  -0.00646306 -0.00924555 ... -0.01509147 -0.00430876\n",
      "   0.00125945]]\n"
     ]
    },
    {
     "name": "stdout",
     "output_type": "stream",
     "text": [
      "(1, 268203)\n",
      "10 10\n",
      "Shape (10, 2048)\n",
      "Using normal model\n"
     ]
    },
    {
     "name": "stderr",
     "output_type": "stream",
     "text": [
      "[genericNeuralNet.py:328 -     print_model_eval() ] Train loss (w reg) on all data: 0.02259279\n",
      "[genericNeuralNet.py:329 -     print_model_eval() ] Train loss (w/o reg) on all data: 0.010229982\n",
      "[genericNeuralNet.py:331 -     print_model_eval() ] Test loss (w/o reg) on all data: 0.071873836\n",
      "[genericNeuralNet.py:332 -     print_model_eval() ] Train acc on all data:  0.9988888888888889\n",
      "[genericNeuralNet.py:333 -     print_model_eval() ] Test acc on all data:   0.975\n",
      "[genericNeuralNet.py:335 -     print_model_eval() ] Norm of the mean of gradients: 0.016925894\n",
      "[genericNeuralNet.py:336 -     print_model_eval() ] Norm of the params: 4.9724855\n",
      "[iter_attack.py:204 -     iterative_attack() ] Test_idx: 15 Test pred (full): [[3.244940e-04 9.996755e-01]]\n",
      "[iter_attack.py:204 -     iterative_attack() ] Test_idx: 169 Test pred (full): [[0.9986771  0.00132295]]\n",
      "[iter_attack.py:205 -     iterative_attack() ] ---------------------\n",
      "[iter_attack.py:210 -     iterative_attack() ] Test_idx: 15 Test pred (top): [[3.244940e-04 9.996755e-01]]\n",
      "[iter_attack.py:210 -     iterative_attack() ] Test_idx: 169 Test pred (top): [[0.9986771  0.00132295]]\n",
      "[iter_attack.py:138 -     iterative_attack() ] *** Iter: 49\n"
     ]
    },
    {
     "name": "stdout",
     "output_type": "stream",
     "text": [
      "LBFGS training took [59] iter.\n",
      "After training with LBFGS: \n",
      "Total number of parameters: 2048\n"
     ]
    },
    {
     "name": "stderr",
     "output_type": "stream",
     "text": [
      "[iter_attack.py:160 -     iterative_attack() ] Attach_iter 49 perturbation shape: (1, 268203), perturbation: [[-0.02756831 -0.20092712 -0.13484691 ...  0.92455041 -0.1589354\n",
      "  -0.14556623]]\n"
     ]
    },
    {
     "name": "stdout",
     "output_type": "stream",
     "text": [
      "Warning: Desired error not necessarily achieved due to precision loss.\n",
      "         Current function value: -4341.537109\n",
      "         Iterations: 9\n",
      "         Function evaluations: 74\n",
      "         Gradient evaluations: 71\n",
      "         Hessian evaluations: 55\n",
      "Inverse HVP took 2.14387583733 sec\n",
      "Loaded inverse HVP from output/poisoning_900_300_inception_wd-0.001-test-[15, 169].npz\n",
      "Inverse HVP took 0.000540018081665 sec\n",
      "Entering the for loop\n",
      "(1, 268203)\n",
      "Loaded inverse HVP from output/poisoning_900_300_inception_wd-0.001-test-[15, 169].npz\n",
      "Inverse HVP took 0.000638961791992 sec\n",
      "Entering the for loop\n"
     ]
    },
    {
     "name": "stderr",
     "output_type": "stream",
     "text": [
      "[iter_attack.py:160 -     iterative_attack() ] Attach_iter 49 perturbation shape: (1, 268203), perturbation: [[-4.87842669e-07  2.93466201e-07  2.87735520e-06 ... -1.84542955e-06\n",
      "  -1.45265221e-06  6.94820415e-07]]\n",
      "[iter_attack.py:160 -     iterative_attack() ] Attach_iter 49 perturbation shape: (1, 268203), perturbation: [[ 0.34983343  0.18050659 -0.00967696 ... -0.20125011  0.04426978\n",
      "   0.11975525]]\n"
     ]
    },
    {
     "name": "stdout",
     "output_type": "stream",
     "text": [
      "(1, 268203)\n",
      "Loaded inverse HVP from output/poisoning_900_300_inception_wd-0.001-test-[15, 169].npz\n",
      "Inverse HVP took 0.000578165054321 sec\n",
      "Entering the for loop\n",
      "(1, 268203)\n",
      "Loaded inverse HVP from output/poisoning_900_300_inception_wd-0.001-test-[15, 169].npz\n",
      "Inverse HVP took 0.000578880310059 sec\n",
      "Entering the for loop\n"
     ]
    },
    {
     "name": "stderr",
     "output_type": "stream",
     "text": [
      "[iter_attack.py:160 -     iterative_attack() ] Attach_iter 49 perturbation shape: (1, 268203), perturbation: [[-0.01271417 -0.0037791   0.00990816 ... -0.00282948  0.00328597\n",
      "  -0.00107199]]\n",
      "[iter_attack.py:160 -     iterative_attack() ] Attach_iter 49 perturbation shape: (1, 268203), perturbation: [[-0.00299846 -0.01878297 -0.02279683 ... -0.13101916  0.08570667\n",
      "   0.02094214]]\n"
     ]
    },
    {
     "name": "stdout",
     "output_type": "stream",
     "text": [
      "(1, 268203)\n",
      "Loaded inverse HVP from output/poisoning_900_300_inception_wd-0.001-test-[15, 169].npz\n",
      "Inverse HVP took 0.000584840774536 sec\n",
      "Entering the for loop\n",
      "(1, 268203)\n",
      "Loaded inverse HVP from output/poisoning_900_300_inception_wd-0.001-test-[15, 169].npz\n",
      "Inverse HVP took 0.000594854354858 sec\n",
      "Entering the for loop\n"
     ]
    },
    {
     "name": "stderr",
     "output_type": "stream",
     "text": [
      "[iter_attack.py:160 -     iterative_attack() ] Attach_iter 49 perturbation shape: (1, 268203), perturbation: [[-0.47705328  0.31976584 -0.05860889 ...  0.0033346  -0.08212228\n",
      "   0.13597025]]\n",
      "[iter_attack.py:160 -     iterative_attack() ] Attach_iter 49 perturbation shape: (1, 268203), perturbation: [[ 0.18728721  0.01517075 -0.07581862 ... -0.0738024   0.00918852\n",
      "   0.0088554 ]]\n"
     ]
    },
    {
     "name": "stdout",
     "output_type": "stream",
     "text": [
      "(1, 268203)\n",
      "Loaded inverse HVP from output/poisoning_900_300_inception_wd-0.001-test-[15, 169].npz\n",
      "Inverse HVP took 0.000583171844482 sec\n",
      "Entering the for loop\n",
      "(1, 268203)\n",
      "Loaded inverse HVP from output/poisoning_900_300_inception_wd-0.001-test-[15, 169].npz\n",
      "Inverse HVP took 0.000596046447754 sec\n",
      "Entering the for loop\n"
     ]
    },
    {
     "name": "stderr",
     "output_type": "stream",
     "text": [
      "[iter_attack.py:160 -     iterative_attack() ] Attach_iter 49 perturbation shape: (1, 268203), perturbation: [[-0.07940618 -0.0423005  -0.04560252 ... -0.70558959  0.27127486\n",
      "  -0.0121614 ]]\n",
      "[iter_attack.py:160 -     iterative_attack() ] Attach_iter 49 perturbation shape: (1, 268203), perturbation: [[-0.70754611  0.01441872  0.13353139 ...  0.00515685  0.07008028\n",
      "  -0.05172858]]\n"
     ]
    },
    {
     "name": "stdout",
     "output_type": "stream",
     "text": [
      "(1, 268203)\n",
      "Loaded inverse HVP from output/poisoning_900_300_inception_wd-0.001-test-[15, 169].npz\n",
      "Inverse HVP took 0.000585079193115 sec\n",
      "Entering the for loop\n",
      "(1, 268203)\n",
      "Loaded inverse HVP from output/poisoning_900_300_inception_wd-0.001-test-[15, 169].npz\n",
      "Inverse HVP took 0.000586032867432 sec\n",
      "Entering the for loop\n"
     ]
    },
    {
     "name": "stderr",
     "output_type": "stream",
     "text": [
      "[iter_attack.py:160 -     iterative_attack() ] Attach_iter 49 perturbation shape: (1, 268203), perturbation: [[-0.00912189 -0.02956511 -0.03010636 ...  0.00063378  0.00800092\n",
      "  -0.0071886 ]]\n"
     ]
    },
    {
     "name": "stdout",
     "output_type": "stream",
     "text": [
      "(1, 268203)\n",
      "10 10\n"
     ]
    },
    {
     "name": "stderr",
     "output_type": "stream",
     "text": [
      "[genericNeuralNet.py:328 -     print_model_eval() ] Train loss (w reg) on all data: 0.022667073\n",
      "[genericNeuralNet.py:329 -     print_model_eval() ] Train loss (w/o reg) on all data: 0.010337001\n",
      "[genericNeuralNet.py:331 -     print_model_eval() ] Test loss (w/o reg) on all data: 0.06998761\n",
      "[genericNeuralNet.py:332 -     print_model_eval() ] Train acc on all data:  0.9988888888888889\n",
      "[genericNeuralNet.py:333 -     print_model_eval() ] Test acc on all data:   0.9733333333333334\n",
      "[genericNeuralNet.py:335 -     print_model_eval() ] Norm of the mean of gradients: 0.01698457\n",
      "[genericNeuralNet.py:336 -     print_model_eval() ] Norm of the params: 4.9658985\n"
     ]
    },
    {
     "name": "stdout",
     "output_type": "stream",
     "text": [
      "Shape (10, 2048)\n",
      "Using normal model\n",
      "LBFGS training took [46] iter.\n",
      "After training with LBFGS: \n"
     ]
    },
    {
     "name": "stderr",
     "output_type": "stream",
     "text": [
      "[iter_attack.py:204 -     iterative_attack() ] Test_idx: 15 Test pred (full): [[2.8135217e-04 9.9971861e-01]]\n",
      "[iter_attack.py:204 -     iterative_attack() ] Test_idx: 169 Test pred (full): [[0.9986148  0.00138517]]\n",
      "[iter_attack.py:205 -     iterative_attack() ] ---------------------\n",
      "[iter_attack.py:210 -     iterative_attack() ] Test_idx: 15 Test pred (top): [[2.8135217e-04 9.9971861e-01]]\n",
      "[iter_attack.py:210 -     iterative_attack() ] Test_idx: 169 Test pred (top): [[0.9986148  0.00138517]]\n",
      "[iter_attack.py:138 -     iterative_attack() ] *** Iter: 50\n"
     ]
    },
    {
     "name": "stdout",
     "output_type": "stream",
     "text": [
      "Total number of parameters: 2048\n"
     ]
    },
    {
     "name": "stderr",
     "output_type": "stream",
     "text": [
      "[iter_attack.py:160 -     iterative_attack() ] Attach_iter 50 perturbation shape: (1, 268203), perturbation: [[ 0.67903262  0.80057555  0.42244112 ... -0.28980887  0.44216642\n",
      "  -0.44480115]]\n"
     ]
    },
    {
     "name": "stdout",
     "output_type": "stream",
     "text": [
      "Warning: Desired error not necessarily achieved due to precision loss.\n",
      "         Current function value: -4313.660645\n",
      "         Iterations: 8\n",
      "         Function evaluations: 92\n",
      "         Gradient evaluations: 88\n",
      "         Hessian evaluations: 49\n",
      "Inverse HVP took 2.42396497726 sec\n",
      "Loaded inverse HVP from output/poisoning_900_300_inception_wd-0.001-test-[15, 169].npz\n",
      "Inverse HVP took 0.000544786453247 sec\n",
      "Entering the for loop\n",
      "(1, 268203)\n",
      "Loaded inverse HVP from output/poisoning_900_300_inception_wd-0.001-test-[15, 169].npz\n",
      "Inverse HVP took 0.000597953796387 sec\n",
      "Entering the for loop\n"
     ]
    },
    {
     "name": "stderr",
     "output_type": "stream",
     "text": [
      "[iter_attack.py:160 -     iterative_attack() ] Attach_iter 50 perturbation shape: (1, 268203), perturbation: [[-2.50819903e-06 -9.62031436e-07  5.30289390e-06 ... -7.50943036e-06\n",
      "   1.32269247e-06  6.54664746e-06]]\n",
      "[iter_attack.py:160 -     iterative_attack() ] Attach_iter 50 perturbation shape: (1, 268203), perturbation: [[ 0.13585731  0.07459103 -0.02207019 ... -0.02258801  0.0059347\n",
      "  -0.04398662]]\n"
     ]
    },
    {
     "name": "stdout",
     "output_type": "stream",
     "text": [
      "(1, 268203)\n",
      "Loaded inverse HVP from output/poisoning_900_300_inception_wd-0.001-test-[15, 169].npz\n",
      "Inverse HVP took 0.000591993331909 sec\n",
      "Entering the for loop\n",
      "(1, 268203)\n",
      "Loaded inverse HVP from output/poisoning_900_300_inception_wd-0.001-test-[15, 169].npz\n",
      "Inverse HVP took 0.000578880310059 sec\n",
      "Entering the for loop\n"
     ]
    },
    {
     "name": "stderr",
     "output_type": "stream",
     "text": [
      "[iter_attack.py:160 -     iterative_attack() ] Attach_iter 50 perturbation shape: (1, 268203), perturbation: [[-0.01110164  0.0023118   0.00839332 ... -0.0196007  -0.00811843\n",
      "   0.01052255]]\n",
      "[iter_attack.py:160 -     iterative_attack() ] Attach_iter 50 perturbation shape: (1, 268203), perturbation: [[-0.00805513  0.00478688 -0.00049845 ... -0.06656548  0.08595674\n",
      "  -0.02464353]]\n"
     ]
    },
    {
     "name": "stdout",
     "output_type": "stream",
     "text": [
      "(1, 268203)\n",
      "Loaded inverse HVP from output/poisoning_900_300_inception_wd-0.001-test-[15, 169].npz\n",
      "Inverse HVP took 0.000579833984375 sec\n",
      "Entering the for loop\n",
      "(1, 268203)\n",
      "Loaded inverse HVP from output/poisoning_900_300_inception_wd-0.001-test-[15, 169].npz\n",
      "Inverse HVP took 0.00058388710022 sec\n",
      "Entering the for loop\n"
     ]
    },
    {
     "name": "stderr",
     "output_type": "stream",
     "text": [
      "[iter_attack.py:160 -     iterative_attack() ] Attach_iter 50 perturbation shape: (1, 268203), perturbation: [[ 0.13146307 -0.46153101  0.31585231 ... -0.04867647 -0.06553979\n",
      "  -0.01697223]]\n",
      "[iter_attack.py:160 -     iterative_attack() ] Attach_iter 50 perturbation shape: (1, 268203), perturbation: [[-0.09969466 -0.01423229  0.06416544 ... -0.06899183  0.07730968\n",
      "   0.04435755]]\n"
     ]
    },
    {
     "name": "stdout",
     "output_type": "stream",
     "text": [
      "(1, 268203)\n",
      "Loaded inverse HVP from output/poisoning_900_300_inception_wd-0.001-test-[15, 169].npz\n",
      "Inverse HVP took 0.000576019287109 sec\n",
      "Entering the for loop\n",
      "(1, 268203)\n",
      "Loaded inverse HVP from output/poisoning_900_300_inception_wd-0.001-test-[15, 169].npz\n",
      "Inverse HVP took 0.000635147094727 sec\n",
      "Entering the for loop\n"
     ]
    },
    {
     "name": "stderr",
     "output_type": "stream",
     "text": [
      "[iter_attack.py:160 -     iterative_attack() ] Attach_iter 50 perturbation shape: (1, 268203), perturbation: [[ 0.19969961 -0.29145655  0.46701044 ...  0.43657357 -0.20686632\n",
      "  -0.3294577 ]]\n",
      "[iter_attack.py:160 -     iterative_attack() ] Attach_iter 50 perturbation shape: (1, 268203), perturbation: [[-0.92282581 -0.20866676  0.24918956 ... -0.02103814 -0.07126523\n",
      "   0.0098994 ]]\n"
     ]
    },
    {
     "name": "stdout",
     "output_type": "stream",
     "text": [
      "(1, 268203)\n",
      "Loaded inverse HVP from output/poisoning_900_300_inception_wd-0.001-test-[15, 169].npz\n",
      "Inverse HVP took 0.000622034072876 sec\n",
      "Entering the for loop\n",
      "(1, 268203)\n",
      "Loaded inverse HVP from output/poisoning_900_300_inception_wd-0.001-test-[15, 169].npz\n",
      "Inverse HVP took 0.000579833984375 sec\n",
      "Entering the for loop\n"
     ]
    },
    {
     "name": "stderr",
     "output_type": "stream",
     "text": [
      "[iter_attack.py:160 -     iterative_attack() ] Attach_iter 50 perturbation shape: (1, 268203), perturbation: [[ 0.00557944 -0.02632605 -0.02928597 ... -0.02269737  0.00284779\n",
      "  -0.00033033]]\n"
     ]
    },
    {
     "name": "stdout",
     "output_type": "stream",
     "text": [
      "(1, 268203)\n",
      "10 10\n",
      "Shape (10, 2048)\n",
      "Using normal model\n"
     ]
    },
    {
     "name": "stderr",
     "output_type": "stream",
     "text": [
      "[genericNeuralNet.py:328 -     print_model_eval() ] Train loss (w reg) on all data: 0.022914514\n",
      "[genericNeuralNet.py:329 -     print_model_eval() ] Train loss (w/o reg) on all data: 0.010458669\n",
      "[genericNeuralNet.py:331 -     print_model_eval() ] Test loss (w/o reg) on all data: 0.07286676\n",
      "[genericNeuralNet.py:332 -     print_model_eval() ] Train acc on all data:  0.9988888888888889\n",
      "[genericNeuralNet.py:333 -     print_model_eval() ] Test acc on all data:   0.975\n",
      "[genericNeuralNet.py:335 -     print_model_eval() ] Norm of the mean of gradients: 0.017199293\n",
      "[genericNeuralNet.py:336 -     print_model_eval() ] Norm of the params: 4.991162\n",
      "[iter_attack.py:204 -     iterative_attack() ] Test_idx: 15 Test pred (full): [[2.4312272e-04 9.9975687e-01]]\n",
      "[iter_attack.py:204 -     iterative_attack() ] Test_idx: 169 Test pred (full): [[0.9986902  0.00130984]]\n",
      "[iter_attack.py:205 -     iterative_attack() ] ---------------------\n",
      "[iter_attack.py:210 -     iterative_attack() ] Test_idx: 15 Test pred (top): [[2.4312272e-04 9.9975687e-01]]\n",
      "[iter_attack.py:210 -     iterative_attack() ] Test_idx: 169 Test pred (top): [[0.9986902  0.00130984]]\n",
      "[iter_attack.py:138 -     iterative_attack() ] *** Iter: 51\n"
     ]
    },
    {
     "name": "stdout",
     "output_type": "stream",
     "text": [
      "LBFGS training took [68] iter.\n",
      "After training with LBFGS: \n",
      "Total number of parameters: 2048\n"
     ]
    },
    {
     "name": "stderr",
     "output_type": "stream",
     "text": [
      "[iter_attack.py:160 -     iterative_attack() ] Attach_iter 51 perturbation shape: (1, 268203), perturbation: [[-0.06692964 -0.35137409 -0.19342208 ...  0.66287637 -0.81882292\n",
      "   0.56030941]]\n"
     ]
    },
    {
     "name": "stdout",
     "output_type": "stream",
     "text": [
      "Warning: Desired error not necessarily achieved due to precision loss.\n",
      "         Current function value: -4311.640137\n",
      "         Iterations: 10\n",
      "         Function evaluations: 84\n",
      "         Gradient evaluations: 83\n",
      "         Hessian evaluations: 61\n",
      "Inverse HVP took 2.41942095757 sec\n",
      "Loaded inverse HVP from output/poisoning_900_300_inception_wd-0.001-test-[15, 169].npz\n",
      "Inverse HVP took 0.00054407119751 sec\n",
      "Entering the for loop\n",
      "(1, 268203)\n",
      "Loaded inverse HVP from output/poisoning_900_300_inception_wd-0.001-test-[15, 169].npz\n",
      "Inverse HVP took 0.000638961791992 sec\n",
      "Entering the for loop\n"
     ]
    },
    {
     "name": "stderr",
     "output_type": "stream",
     "text": [
      "[iter_attack.py:160 -     iterative_attack() ] Attach_iter 51 perturbation shape: (1, 268203), perturbation: [[-8.84388669e-07 -5.35719096e-08  4.62055186e-06 ... -8.90856256e-07\n",
      "  -3.37224083e-06  8.00619091e-08]]\n",
      "[iter_attack.py:160 -     iterative_attack() ] Attach_iter 51 perturbation shape: (1, 268203), perturbation: [[ 0.20600733  0.03082397 -0.02675686 ... -0.13173805 -0.02234993\n",
      "   0.06968664]]\n"
     ]
    },
    {
     "name": "stdout",
     "output_type": "stream",
     "text": [
      "(1, 268203)\n",
      "Loaded inverse HVP from output/poisoning_900_300_inception_wd-0.001-test-[15, 169].npz\n",
      "Inverse HVP took 0.000581026077271 sec\n",
      "Entering the for loop\n",
      "(1, 268203)\n",
      "Loaded inverse HVP from output/poisoning_900_300_inception_wd-0.001-test-[15, 169].npz\n",
      "Inverse HVP took 0.000587940216064 sec\n",
      "Entering the for loop\n"
     ]
    },
    {
     "name": "stderr",
     "output_type": "stream",
     "text": [
      "[iter_attack.py:160 -     iterative_attack() ] Attach_iter 51 perturbation shape: (1, 268203), perturbation: [[-0.01664283 -0.00852786  0.01135678 ... -0.00144379  0.00544382\n",
      "  -0.00338811]]\n",
      "[iter_attack.py:160 -     iterative_attack() ] Attach_iter 51 perturbation shape: (1, 268203), perturbation: [[ 1.64099038e-06 -1.51519645e-02 -2.38560978e-02 ... -1.36832416e-01\n",
      "   6.49922863e-02  3.76947299e-02]]\n"
     ]
    },
    {
     "name": "stdout",
     "output_type": "stream",
     "text": [
      "(1, 268203)\n",
      "Loaded inverse HVP from output/poisoning_900_300_inception_wd-0.001-test-[15, 169].npz\n",
      "Inverse HVP took 0.000580072402954 sec\n",
      "Entering the for loop\n",
      "(1, 268203)\n",
      "Loaded inverse HVP from output/poisoning_900_300_inception_wd-0.001-test-[15, 169].npz\n",
      "Inverse HVP took 0.000584125518799 sec\n",
      "Entering the for loop\n"
     ]
    },
    {
     "name": "stderr",
     "output_type": "stream",
     "text": [
      "[iter_attack.py:160 -     iterative_attack() ] Attach_iter 51 perturbation shape: (1, 268203), perturbation: [[-0.39603558  0.2470202  -0.11855596 ...  0.02382248 -0.09974572\n",
      "   0.18045601]]\n",
      "[iter_attack.py:160 -     iterative_attack() ] Attach_iter 51 perturbation shape: (1, 268203), perturbation: [[ 0.18101723  0.01214756 -0.04090121 ... -0.04844138 -0.01718455\n",
      "   0.01493688]]\n"
     ]
    },
    {
     "name": "stdout",
     "output_type": "stream",
     "text": [
      "(1, 268203)\n",
      "Loaded inverse HVP from output/poisoning_900_300_inception_wd-0.001-test-[15, 169].npz\n",
      "Inverse HVP took 0.00059700012207 sec\n",
      "Entering the for loop\n",
      "(1, 268203)\n",
      "Loaded inverse HVP from output/poisoning_900_300_inception_wd-0.001-test-[15, 169].npz\n",
      "Inverse HVP took 0.000585079193115 sec\n",
      "Entering the for loop\n"
     ]
    },
    {
     "name": "stderr",
     "output_type": "stream",
     "text": [
      "[iter_attack.py:160 -     iterative_attack() ] Attach_iter 51 perturbation shape: (1, 268203), perturbation: [[-0.02110142 -0.09388237  0.11789878 ... -0.78993839  0.21383376\n",
      "   0.32196647]]\n",
      "[iter_attack.py:160 -     iterative_attack() ] Attach_iter 51 perturbation shape: (1, 268203), perturbation: [[ 0.27229112  0.2835108  -0.12123983 ...  0.02312487  0.07395309\n",
      "  -0.04576698]]\n"
     ]
    },
    {
     "name": "stdout",
     "output_type": "stream",
     "text": [
      "(1, 268203)\n",
      "Loaded inverse HVP from output/poisoning_900_300_inception_wd-0.001-test-[15, 169].npz\n",
      "Inverse HVP took 0.000581026077271 sec\n",
      "Entering the for loop\n",
      "(1, 268203)\n",
      "Loaded inverse HVP from output/poisoning_900_300_inception_wd-0.001-test-[15, 169].npz\n",
      "Inverse HVP took 0.000597953796387 sec\n",
      "Entering the for loop\n"
     ]
    },
    {
     "name": "stderr",
     "output_type": "stream",
     "text": [
      "[iter_attack.py:160 -     iterative_attack() ] Attach_iter 51 perturbation shape: (1, 268203), perturbation: [[-0.01636613 -0.02676959 -0.04019796 ...  0.00615274  0.00995205\n",
      "  -0.0094906 ]]\n"
     ]
    },
    {
     "name": "stdout",
     "output_type": "stream",
     "text": [
      "(1, 268203)\n",
      "10 10\n"
     ]
    },
    {
     "name": "stderr",
     "output_type": "stream",
     "text": [
      "[genericNeuralNet.py:328 -     print_model_eval() ] Train loss (w reg) on all data: 0.023045987\n",
      "[genericNeuralNet.py:329 -     print_model_eval() ] Train loss (w/o reg) on all data: 0.010581485\n",
      "[genericNeuralNet.py:331 -     print_model_eval() ] Test loss (w/o reg) on all data: 0.07022661\n",
      "[genericNeuralNet.py:332 -     print_model_eval() ] Train acc on all data:  0.9988888888888889\n"
     ]
    },
    {
     "name": "stdout",
     "output_type": "stream",
     "text": [
      "Shape (10, 2048)\n",
      "Using normal model\n",
      "LBFGS training took [67] iter.\n",
      "After training with LBFGS: \n"
     ]
    },
    {
     "name": "stderr",
     "output_type": "stream",
     "text": [
      "[genericNeuralNet.py:333 -     print_model_eval() ] Test acc on all data:   0.9733333333333334\n",
      "[genericNeuralNet.py:335 -     print_model_eval() ] Norm of the mean of gradients: 0.017334187\n",
      "[genericNeuralNet.py:336 -     print_model_eval() ] Norm of the params: 4.992895\n",
      "[iter_attack.py:204 -     iterative_attack() ] Test_idx: 15 Test pred (full): [[2.1309449e-04 9.9978691e-01]]\n",
      "[iter_attack.py:204 -     iterative_attack() ] Test_idx: 169 Test pred (full): [[0.9985215  0.00147854]]\n",
      "[iter_attack.py:205 -     iterative_attack() ] ---------------------\n",
      "[iter_attack.py:210 -     iterative_attack() ] Test_idx: 15 Test pred (top): [[2.1309449e-04 9.9978691e-01]]\n",
      "[iter_attack.py:210 -     iterative_attack() ] Test_idx: 169 Test pred (top): [[0.9985215  0.00147854]]\n",
      "[iter_attack.py:138 -     iterative_attack() ] *** Iter: 52\n"
     ]
    },
    {
     "name": "stdout",
     "output_type": "stream",
     "text": [
      "Total number of parameters: 2048\n"
     ]
    },
    {
     "name": "stderr",
     "output_type": "stream",
     "text": [
      "[iter_attack.py:160 -     iterative_attack() ] Attach_iter 52 perturbation shape: (1, 268203), perturbation: [[ 0.78549838  0.46650454 -0.15648812 ...  0.17221765  1.05399573\n",
      "  -1.23602796]]\n"
     ]
    },
    {
     "name": "stdout",
     "output_type": "stream",
     "text": [
      "Warning: Desired error not necessarily achieved due to precision loss.\n",
      "         Current function value: -4273.107422\n",
      "         Iterations: 10\n",
      "         Function evaluations: 77\n",
      "         Gradient evaluations: 75\n",
      "         Hessian evaluations: 67\n",
      "Inverse HVP took 2.25275707245 sec\n",
      "Loaded inverse HVP from output/poisoning_900_300_inception_wd-0.001-test-[15, 169].npz\n",
      "Inverse HVP took 0.000546932220459 sec\n",
      "Entering the for loop\n",
      "(1, 268203)\n",
      "Loaded inverse HVP from output/poisoning_900_300_inception_wd-0.001-test-[15, 169].npz\n",
      "Inverse HVP took 0.00059700012207 sec\n",
      "Entering the for loop\n"
     ]
    },
    {
     "name": "stderr",
     "output_type": "stream",
     "text": [
      "[iter_attack.py:160 -     iterative_attack() ] Attach_iter 52 perturbation shape: (1, 268203), perturbation: [[-1.18249068e-06 -6.00615203e-06  8.29287728e-06 ... -1.03083048e-05\n",
      "   5.63982098e-07  1.30036842e-05]]\n",
      "[iter_attack.py:160 -     iterative_attack() ] Attach_iter 52 perturbation shape: (1, 268203), perturbation: [[ 0.04429326  0.02349156  0.12294281 ... -0.08438374  0.01616192\n",
      "  -0.00308504]]\n"
     ]
    },
    {
     "name": "stdout",
     "output_type": "stream",
     "text": [
      "(1, 268203)\n",
      "Loaded inverse HVP from output/poisoning_900_300_inception_wd-0.001-test-[15, 169].npz\n",
      "Inverse HVP took 0.000625848770142 sec\n",
      "Entering the for loop\n",
      "(1, 268203)\n",
      "Loaded inverse HVP from output/poisoning_900_300_inception_wd-0.001-test-[15, 169].npz\n",
      "Inverse HVP took 0.00062894821167 sec\n",
      "Entering the for loop\n"
     ]
    },
    {
     "name": "stderr",
     "output_type": "stream",
     "text": [
      "[iter_attack.py:160 -     iterative_attack() ] Attach_iter 52 perturbation shape: (1, 268203), perturbation: [[-0.01148796  0.00245593  0.00732947 ... -0.0329967  -0.00725567\n",
      "   0.01464318]]\n",
      "[iter_attack.py:160 -     iterative_attack() ] Attach_iter 52 perturbation shape: (1, 268203), perturbation: [[-0.00872848  0.00531547  0.00431384 ... -0.13158292  0.05002395\n",
      "  -0.03224396]]\n"
     ]
    },
    {
     "name": "stdout",
     "output_type": "stream",
     "text": [
      "(1, 268203)\n",
      "Loaded inverse HVP from output/poisoning_900_300_inception_wd-0.001-test-[15, 169].npz\n",
      "Inverse HVP took 0.000591039657593 sec\n",
      "Entering the for loop\n",
      "(1, 268203)\n",
      "Loaded inverse HVP from output/poisoning_900_300_inception_wd-0.001-test-[15, 169].npz\n",
      "Inverse HVP took 0.000616073608398 sec\n",
      "Entering the for loop\n"
     ]
    },
    {
     "name": "stderr",
     "output_type": "stream",
     "text": [
      "[iter_attack.py:160 -     iterative_attack() ] Attach_iter 52 perturbation shape: (1, 268203), perturbation: [[ 0.10405961 -0.49919817  0.40140772 ... -0.03705993 -0.02683658\n",
      "  -0.02084865]]\n",
      "[iter_attack.py:160 -     iterative_attack() ] Attach_iter 52 perturbation shape: (1, 268203), perturbation: [[-0.15562795 -0.01954229  0.08124856 ... -0.08968326  0.08404523\n",
      "   0.03628414]]\n"
     ]
    },
    {
     "name": "stdout",
     "output_type": "stream",
     "text": [
      "(1, 268203)\n",
      "Loaded inverse HVP from output/poisoning_900_300_inception_wd-0.001-test-[15, 169].npz\n",
      "Inverse HVP took 0.000623941421509 sec\n",
      "Entering the for loop\n",
      "(1, 268203)\n",
      "Loaded inverse HVP from output/poisoning_900_300_inception_wd-0.001-test-[15, 169].npz\n",
      "Inverse HVP took 0.00059986114502 sec\n",
      "Entering the for loop\n"
     ]
    },
    {
     "name": "stderr",
     "output_type": "stream",
     "text": [
      "[iter_attack.py:160 -     iterative_attack() ] Attach_iter 52 perturbation shape: (1, 268203), perturbation: [[ 0.10579249 -0.22786494  0.36321211 ...  0.00813999 -0.15453075\n",
      "  -0.19348279]]\n",
      "[iter_attack.py:160 -     iterative_attack() ] Attach_iter 52 perturbation shape: (1, 268203), perturbation: [[-2.0220139  -0.57307166  0.62904918 ...  0.00456108 -0.11211798\n",
      "  -0.00738451]]\n"
     ]
    },
    {
     "name": "stdout",
     "output_type": "stream",
     "text": [
      "(1, 268203)\n",
      "Loaded inverse HVP from output/poisoning_900_300_inception_wd-0.001-test-[15, 169].npz\n",
      "Inverse HVP took 0.000581979751587 sec\n",
      "Entering the for loop\n",
      "(1, 268203)\n",
      "Loaded inverse HVP from output/poisoning_900_300_inception_wd-0.001-test-[15, 169].npz\n",
      "Inverse HVP took 0.000643968582153 sec\n",
      "Entering the for loop\n"
     ]
    },
    {
     "name": "stderr",
     "output_type": "stream",
     "text": [
      "[iter_attack.py:160 -     iterative_attack() ] Attach_iter 52 perturbation shape: (1, 268203), perturbation: [[ 0.01703205 -0.00088904 -0.00996091 ... -0.01350965 -0.00994503\n",
      "   0.00423541]]\n"
     ]
    },
    {
     "name": "stdout",
     "output_type": "stream",
     "text": [
      "(1, 268203)\n",
      "10 10\n"
     ]
    },
    {
     "name": "stderr",
     "output_type": "stream",
     "text": [
      "[genericNeuralNet.py:328 -     print_model_eval() ] Train loss (w reg) on all data: 0.023219083\n",
      "[genericNeuralNet.py:329 -     print_model_eval() ] Train loss (w/o reg) on all data: 0.01066987\n",
      "[genericNeuralNet.py:331 -     print_model_eval() ] Test loss (w/o reg) on all data: 0.07363206\n",
      "[genericNeuralNet.py:332 -     print_model_eval() ] Train acc on all data:  0.9988888888888889\n"
     ]
    },
    {
     "name": "stdout",
     "output_type": "stream",
     "text": [
      "Shape (10, 2048)\n",
      "Using normal model\n",
      "LBFGS training took [50] iter.\n",
      "After training with LBFGS: \n"
     ]
    },
    {
     "name": "stderr",
     "output_type": "stream",
     "text": [
      "[genericNeuralNet.py:333 -     print_model_eval() ] Test acc on all data:   0.975\n",
      "[genericNeuralNet.py:335 -     print_model_eval() ] Norm of the mean of gradients: 0.017436514\n",
      "[genericNeuralNet.py:336 -     print_model_eval() ] Norm of the params: 5.009833\n",
      "[iter_attack.py:204 -     iterative_attack() ] Test_idx: 15 Test pred (full): [[1.8349336e-04 9.9981648e-01]]\n",
      "[iter_attack.py:204 -     iterative_attack() ] Test_idx: 169 Test pred (full): [[0.99869174 0.00130832]]\n",
      "[iter_attack.py:205 -     iterative_attack() ] ---------------------\n",
      "[iter_attack.py:210 -     iterative_attack() ] Test_idx: 15 Test pred (top): [[1.8349336e-04 9.9981648e-01]]\n",
      "[iter_attack.py:210 -     iterative_attack() ] Test_idx: 169 Test pred (top): [[0.99869174 0.00130832]]\n",
      "[iter_attack.py:138 -     iterative_attack() ] *** Iter: 53\n"
     ]
    },
    {
     "name": "stdout",
     "output_type": "stream",
     "text": [
      "Total number of parameters: 2048\n"
     ]
    },
    {
     "name": "stderr",
     "output_type": "stream",
     "text": [
      "[iter_attack.py:160 -     iterative_attack() ] Attach_iter 53 perturbation shape: (1, 268203), perturbation: [[ 0.35763741 -0.65591317 -0.69287169 ... -0.18773308 -0.83691216\n",
      "   0.96554118]]\n"
     ]
    },
    {
     "name": "stdout",
     "output_type": "stream",
     "text": [
      "Warning: Desired error not necessarily achieved due to precision loss.\n",
      "         Current function value: -4279.388184\n",
      "         Iterations: 9\n",
      "         Function evaluations: 75\n",
      "         Gradient evaluations: 72\n",
      "         Hessian evaluations: 58\n",
      "Inverse HVP took 2.11834001541 sec\n",
      "Loaded inverse HVP from output/poisoning_900_300_inception_wd-0.001-test-[15, 169].npz\n",
      "Inverse HVP took 0.000540971755981 sec\n",
      "Entering the for loop\n",
      "(1, 268203)\n",
      "Loaded inverse HVP from output/poisoning_900_300_inception_wd-0.001-test-[15, 169].npz\n",
      "Inverse HVP took 0.00058388710022 sec\n",
      "Entering the for loop\n"
     ]
    },
    {
     "name": "stderr",
     "output_type": "stream",
     "text": [
      "[iter_attack.py:160 -     iterative_attack() ] Attach_iter 53 perturbation shape: (1, 268203), perturbation: [[ 3.43381907e-06  1.08250129e-06  8.23450773e-06 ... -1.46003288e-06\n",
      "  -5.12756469e-06  1.84043984e-07]]\n",
      "[iter_attack.py:160 -     iterative_attack() ] Attach_iter 53 perturbation shape: (1, 268203), perturbation: [[ 0.14744946  0.02502141 -0.10973647 ... -0.14896432 -0.03292669\n",
      "   0.05856593]]\n"
     ]
    },
    {
     "name": "stdout",
     "output_type": "stream",
     "text": [
      "(1, 268203)\n",
      "Loaded inverse HVP from output/poisoning_900_300_inception_wd-0.001-test-[15, 169].npz\n",
      "Inverse HVP took 0.000588178634644 sec\n",
      "Entering the for loop\n",
      "(1, 268203)\n",
      "Loaded inverse HVP from output/poisoning_900_300_inception_wd-0.001-test-[15, 169].npz\n",
      "Inverse HVP took 0.000609874725342 sec\n",
      "Entering the for loop\n"
     ]
    },
    {
     "name": "stderr",
     "output_type": "stream",
     "text": [
      "[iter_attack.py:160 -     iterative_attack() ] Attach_iter 53 perturbation shape: (1, 268203), perturbation: [[-0.0132614   0.00144761  0.00691589 ...  0.0191464   0.00650522\n",
      "  -0.00937956]]\n",
      "[iter_attack.py:160 -     iterative_attack() ] Attach_iter 53 perturbation shape: (1, 268203), perturbation: [[ 0.00142637 -0.00989323 -0.01928452 ... -0.07790045 -0.00665569\n",
      "   0.00057836]]\n"
     ]
    },
    {
     "name": "stdout",
     "output_type": "stream",
     "text": [
      "(1, 268203)\n",
      "Loaded inverse HVP from output/poisoning_900_300_inception_wd-0.001-test-[15, 169].npz\n",
      "Inverse HVP took 0.000634908676147 sec\n",
      "Entering the for loop\n",
      "(1, 268203)\n",
      "Loaded inverse HVP from output/poisoning_900_300_inception_wd-0.001-test-[15, 169].npz\n",
      "Inverse HVP took 0.000578165054321 sec\n",
      "Entering the for loop\n"
     ]
    },
    {
     "name": "stderr",
     "output_type": "stream",
     "text": [
      "[iter_attack.py:160 -     iterative_attack() ] Attach_iter 53 perturbation shape: (1, 268203), perturbation: [[-0.25041234  0.15526363 -0.169807   ...  0.0676114  -0.09231601\n",
      "   0.15331665]]\n",
      "[iter_attack.py:160 -     iterative_attack() ] Attach_iter 53 perturbation shape: (1, 268203), perturbation: [[ 0.22737552 -0.0126502  -0.00713129 ... -0.04799272  0.00618673\n",
      "   0.02071337]]\n"
     ]
    },
    {
     "name": "stdout",
     "output_type": "stream",
     "text": [
      "(1, 268203)\n",
      "Loaded inverse HVP from output/poisoning_900_300_inception_wd-0.001-test-[15, 169].npz\n",
      "Inverse HVP took 0.00059700012207 sec\n",
      "Entering the for loop\n",
      "(1, 268203)\n",
      "Loaded inverse HVP from output/poisoning_900_300_inception_wd-0.001-test-[15, 169].npz\n",
      "Inverse HVP took 0.000595092773438 sec\n",
      "Entering the for loop\n"
     ]
    },
    {
     "name": "stderr",
     "output_type": "stream",
     "text": [
      "[iter_attack.py:160 -     iterative_attack() ] Attach_iter 53 perturbation shape: (1, 268203), perturbation: [[ 0.01081987 -0.11445452  0.19218768 ... -0.31546736 -0.15577662\n",
      "   0.34269291]]\n",
      "[iter_attack.py:160 -     iterative_attack() ] Attach_iter 53 perturbation shape: (1, 268203), perturbation: [[ 0.20912832  0.20735052 -0.28565118 ...  0.01456951  0.03876873\n",
      "  -0.04061474]]\n"
     ]
    },
    {
     "name": "stdout",
     "output_type": "stream",
     "text": [
      "(1, 268203)\n",
      "Loaded inverse HVP from output/poisoning_900_300_inception_wd-0.001-test-[15, 169].npz\n",
      "Inverse HVP took 0.000581026077271 sec\n",
      "Entering the for loop\n",
      "(1, 268203)\n",
      "Loaded inverse HVP from output/poisoning_900_300_inception_wd-0.001-test-[15, 169].npz\n",
      "Inverse HVP took 0.000590085983276 sec\n",
      "Entering the for loop\n"
     ]
    },
    {
     "name": "stderr",
     "output_type": "stream",
     "text": [
      "[iter_attack.py:160 -     iterative_attack() ] Attach_iter 53 perturbation shape: (1, 268203), perturbation: [[-0.02057442 -0.0360396  -0.03467967 ...  0.00786356  0.01685834\n",
      "  -0.01375078]]\n"
     ]
    },
    {
     "name": "stdout",
     "output_type": "stream",
     "text": [
      "(1, 268203)\n",
      "10 10\n"
     ]
    },
    {
     "name": "stderr",
     "output_type": "stream",
     "text": [
      "[genericNeuralNet.py:328 -     print_model_eval() ] Train loss (w reg) on all data: 0.023430772\n"
     ]
    },
    {
     "name": "stdout",
     "output_type": "stream",
     "text": [
      "Shape (10, 2048)\n",
      "Using normal model\n",
      "LBFGS training took [63] iter.\n",
      "After training with LBFGS: \n"
     ]
    },
    {
     "name": "stderr",
     "output_type": "stream",
     "text": [
      "[genericNeuralNet.py:329 -     print_model_eval() ] Train loss (w/o reg) on all data: 0.010855605\n",
      "[genericNeuralNet.py:331 -     print_model_eval() ] Test loss (w/o reg) on all data: 0.0709034\n",
      "[genericNeuralNet.py:332 -     print_model_eval() ] Train acc on all data:  0.9988888888888889\n",
      "[genericNeuralNet.py:333 -     print_model_eval() ] Test acc on all data:   0.9716666666666667\n",
      "[genericNeuralNet.py:335 -     print_model_eval() ] Norm of the mean of gradients: 0.01779136\n",
      "[genericNeuralNet.py:336 -     print_model_eval() ] Norm of the params: 5.01501\n",
      "[iter_attack.py:204 -     iterative_attack() ] Test_idx: 15 Test pred (full): [[1.6022971e-04 9.9983978e-01]]\n",
      "[iter_attack.py:204 -     iterative_attack() ] Test_idx: 169 Test pred (full): [[0.99848974 0.00151024]]\n",
      "[iter_attack.py:205 -     iterative_attack() ] ---------------------\n",
      "[iter_attack.py:210 -     iterative_attack() ] Test_idx: 15 Test pred (top): [[1.6022971e-04 9.9983978e-01]]\n",
      "[iter_attack.py:210 -     iterative_attack() ] Test_idx: 169 Test pred (top): [[0.99848974 0.00151024]]\n",
      "[iter_attack.py:138 -     iterative_attack() ] *** Iter: 54\n"
     ]
    },
    {
     "name": "stdout",
     "output_type": "stream",
     "text": [
      "Total number of parameters: 2048\n"
     ]
    },
    {
     "name": "stderr",
     "output_type": "stream",
     "text": [
      "[iter_attack.py:160 -     iterative_attack() ] Attach_iter 54 perturbation shape: (1, 268203), perturbation: [[ 0.58834594  0.35450813  0.13421851 ...  0.19014007  0.58788025\n",
      "  -0.91086501]]\n"
     ]
    },
    {
     "name": "stdout",
     "output_type": "stream",
     "text": [
      "Warning: Desired error not necessarily achieved due to precision loss.\n",
      "         Current function value: -4234.771484\n",
      "         Iterations: 9\n",
      "         Function evaluations: 94\n",
      "         Gradient evaluations: 92\n",
      "         Hessian evaluations: 59\n",
      "Inverse HVP took 2.52616405487 sec\n",
      "Loaded inverse HVP from output/poisoning_900_300_inception_wd-0.001-test-[15, 169].npz\n",
      "Inverse HVP took 0.00055193901062 sec\n",
      "Entering the for loop\n",
      "(1, 268203)\n",
      "Loaded inverse HVP from output/poisoning_900_300_inception_wd-0.001-test-[15, 169].npz\n",
      "Inverse HVP took 0.000582933425903 sec\n",
      "Entering the for loop\n"
     ]
    },
    {
     "name": "stderr",
     "output_type": "stream",
     "text": [
      "[iter_attack.py:160 -     iterative_attack() ] Attach_iter 54 perturbation shape: (1, 268203), perturbation: [[ 2.57074089e-06 -1.04617338e-05  1.15021276e-05 ... -1.21492612e-05\n",
      "  -5.17346734e-06  1.81611904e-05]]\n",
      "[iter_attack.py:160 -     iterative_attack() ] Attach_iter 54 perturbation shape: (1, 268203), perturbation: [[ 0.0782384   0.0399358  -0.1091991  ... -0.08278278  0.05269534\n",
      "  -0.01883153]]\n"
     ]
    },
    {
     "name": "stdout",
     "output_type": "stream",
     "text": [
      "(1, 268203)\n",
      "Loaded inverse HVP from output/poisoning_900_300_inception_wd-0.001-test-[15, 169].npz\n",
      "Inverse HVP took 0.000584840774536 sec\n",
      "Entering the for loop\n",
      "(1, 268203)\n",
      "Loaded inverse HVP from output/poisoning_900_300_inception_wd-0.001-test-[15, 169].npz\n",
      "Inverse HVP took 0.00063419342041 sec\n",
      "Entering the for loop\n"
     ]
    },
    {
     "name": "stderr",
     "output_type": "stream",
     "text": [
      "[iter_attack.py:160 -     iterative_attack() ] Attach_iter 54 perturbation shape: (1, 268203), perturbation: [[-0.01021133  0.00219412  0.0050029  ... -0.02863047 -0.00726401\n",
      "   0.01291914]]\n",
      "[iter_attack.py:160 -     iterative_attack() ] Attach_iter 54 perturbation shape: (1, 268203), perturbation: [[-0.00731295 -0.00266781  0.00107573 ... -0.07522251  0.12200914\n",
      "  -0.05178662]]\n"
     ]
    },
    {
     "name": "stdout",
     "output_type": "stream",
     "text": [
      "(1, 268203)\n",
      "Loaded inverse HVP from output/poisoning_900_300_inception_wd-0.001-test-[15, 169].npz\n",
      "Inverse HVP took 0.000587224960327 sec\n",
      "Entering the for loop\n",
      "(1, 268203)\n",
      "Loaded inverse HVP from output/poisoning_900_300_inception_wd-0.001-test-[15, 169].npz\n",
      "Inverse HVP took 0.000593185424805 sec\n",
      "Entering the for loop\n"
     ]
    },
    {
     "name": "stderr",
     "output_type": "stream",
     "text": [
      "[iter_attack.py:160 -     iterative_attack() ] Attach_iter 54 perturbation shape: (1, 268203), perturbation: [[ 0.07343392 -0.44824699  0.40112934 ... -0.02337571 -0.05711992\n",
      "  -0.00791995]]\n",
      "[iter_attack.py:160 -     iterative_attack() ] Attach_iter 54 perturbation shape: (1, 268203), perturbation: [[-0.19687128  0.01243221  0.05677085 ... -0.11227454  0.06125948\n",
      "   0.0519546 ]]\n"
     ]
    },
    {
     "name": "stdout",
     "output_type": "stream",
     "text": [
      "(1, 268203)\n",
      "Loaded inverse HVP from output/poisoning_900_300_inception_wd-0.001-test-[15, 169].npz\n",
      "Inverse HVP took 0.000585794448853 sec\n",
      "Entering the for loop\n",
      "(1, 268203)\n",
      "Loaded inverse HVP from output/poisoning_900_300_inception_wd-0.001-test-[15, 169].npz\n",
      "Inverse HVP took 0.000580072402954 sec\n",
      "Entering the for loop\n"
     ]
    },
    {
     "name": "stderr",
     "output_type": "stream",
     "text": [
      "[iter_attack.py:160 -     iterative_attack() ] Attach_iter 54 perturbation shape: (1, 268203), perturbation: [[ 0.16049749 -0.12216636  0.2823641  ... -0.28262737 -0.11810696\n",
      "  -0.02884021]]\n",
      "[iter_attack.py:160 -     iterative_attack() ] Attach_iter 54 perturbation shape: (1, 268203), perturbation: [[-1.44627655 -0.33759049  0.52603894 ... -0.07388728 -0.07287548\n",
      "   0.01645672]]\n"
     ]
    },
    {
     "name": "stdout",
     "output_type": "stream",
     "text": [
      "(1, 268203)\n",
      "Loaded inverse HVP from output/poisoning_900_300_inception_wd-0.001-test-[15, 169].npz\n",
      "Inverse HVP took 0.00059700012207 sec\n",
      "Entering the for loop\n",
      "(1, 268203)\n",
      "Loaded inverse HVP from output/poisoning_900_300_inception_wd-0.001-test-[15, 169].npz\n",
      "Inverse HVP took 0.00058388710022 sec\n",
      "Entering the for loop\n"
     ]
    },
    {
     "name": "stderr",
     "output_type": "stream",
     "text": [
      "[iter_attack.py:160 -     iterative_attack() ] Attach_iter 54 perturbation shape: (1, 268203), perturbation: [[-0.00138838  0.01131647 -0.00384773 ... -0.00696339 -0.00528994\n",
      "   0.00561705]]\n"
     ]
    },
    {
     "name": "stdout",
     "output_type": "stream",
     "text": [
      "(1, 268203)\n",
      "10 10\n",
      "Shape (10, 2048)\n",
      "Using normal model\n",
      "LBFGS training took [55] iter.\n",
      "After training with LBFGS: \n"
     ]
    },
    {
     "name": "stderr",
     "output_type": "stream",
     "text": [
      "[genericNeuralNet.py:328 -     print_model_eval() ] Train loss (w reg) on all data: 0.02357728\n",
      "[genericNeuralNet.py:329 -     print_model_eval() ] Train loss (w/o reg) on all data: 0.010924867\n",
      "[genericNeuralNet.py:331 -     print_model_eval() ] Test loss (w/o reg) on all data: 0.074653104\n",
      "[genericNeuralNet.py:332 -     print_model_eval() ] Train acc on all data:  0.9988888888888889\n",
      "[genericNeuralNet.py:333 -     print_model_eval() ] Test acc on all data:   0.975\n",
      "[genericNeuralNet.py:335 -     print_model_eval() ] Norm of the mean of gradients: 0.017781304\n",
      "[genericNeuralNet.py:336 -     print_model_eval() ] Norm of the params: 5.0303903\n",
      "[iter_attack.py:204 -     iterative_attack() ] Test_idx: 15 Test pred (full): [[1.3872632e-04 9.9986124e-01]]\n",
      "[iter_attack.py:204 -     iterative_attack() ] Test_idx: 169 Test pred (full): [[0.9987018  0.00129817]]\n",
      "[iter_attack.py:205 -     iterative_attack() ] ---------------------\n",
      "[iter_attack.py:210 -     iterative_attack() ] Test_idx: 15 Test pred (top): [[1.3872632e-04 9.9986124e-01]]\n",
      "[iter_attack.py:210 -     iterative_attack() ] Test_idx: 169 Test pred (top): [[0.9987018  0.00129817]]\n",
      "[iter_attack.py:138 -     iterative_attack() ] *** Iter: 55\n"
     ]
    },
    {
     "name": "stdout",
     "output_type": "stream",
     "text": [
      "Total number of parameters: 2048\n"
     ]
    },
    {
     "name": "stderr",
     "output_type": "stream",
     "text": [
      "[iter_attack.py:160 -     iterative_attack() ] Attach_iter 55 perturbation shape: (1, 268203), perturbation: [[-0.08825296 -0.82234991 -0.91853821 ... -0.37001964 -0.5765537\n",
      "   0.81049335]]\n"
     ]
    },
    {
     "name": "stdout",
     "output_type": "stream",
     "text": [
      "Warning: Desired error not necessarily achieved due to precision loss.\n",
      "         Current function value: -4245.445312\n",
      "         Iterations: 11\n",
      "         Function evaluations: 214\n",
      "         Gradient evaluations: 211\n",
      "         Hessian evaluations: 75\n",
      "Inverse HVP took 5.20685505867 sec\n",
      "Loaded inverse HVP from output/poisoning_900_300_inception_wd-0.001-test-[15, 169].npz\n",
      "Inverse HVP took 0.000566005706787 sec\n",
      "Entering the for loop\n",
      "(1, 268203)\n",
      "Loaded inverse HVP from output/poisoning_900_300_inception_wd-0.001-test-[15, 169].npz\n",
      "Inverse HVP took 0.000585079193115 sec\n",
      "Entering the for loop\n"
     ]
    },
    {
     "name": "stderr",
     "output_type": "stream",
     "text": [
      "[iter_attack.py:160 -     iterative_attack() ] Attach_iter 55 perturbation shape: (1, 268203), perturbation: [[ 3.77425795e-06  2.05540573e-06  1.32653831e-05 ...  5.01584191e-06\n",
      "  -9.79212746e-06  2.37212589e-07]]\n",
      "[iter_attack.py:160 -     iterative_attack() ] Attach_iter 55 perturbation shape: (1, 268203), perturbation: [[-0.2173879  -0.16295323  0.04359308 ... -0.16093554 -0.04142753\n",
      "   0.08117609]]\n"
     ]
    },
    {
     "name": "stdout",
     "output_type": "stream",
     "text": [
      "(1, 268203)\n",
      "Loaded inverse HVP from output/poisoning_900_300_inception_wd-0.001-test-[15, 169].npz\n",
      "Inverse HVP took 0.000581026077271 sec\n",
      "Entering the for loop\n",
      "(1, 268203)\n",
      "Loaded inverse HVP from output/poisoning_900_300_inception_wd-0.001-test-[15, 169].npz\n",
      "Inverse HVP took 0.000624179840088 sec\n",
      "Entering the for loop\n"
     ]
    },
    {
     "name": "stderr",
     "output_type": "stream",
     "text": [
      "[iter_attack.py:160 -     iterative_attack() ] Attach_iter 55 perturbation shape: (1, 268203), perturbation: [[-0.0162174   0.00114241  0.00939151 ...  0.01711505  0.00586611\n",
      "  -0.00697343]]\n",
      "[iter_attack.py:160 -     iterative_attack() ] Attach_iter 55 perturbation shape: (1, 268203), perturbation: [[ 0.00434094 -0.00481126 -0.01631831 ... -0.06589009 -0.02110147\n",
      "   0.02619717]]\n"
     ]
    },
    {
     "name": "stdout",
     "output_type": "stream",
     "text": [
      "(1, 268203)\n",
      "Loaded inverse HVP from output/poisoning_900_300_inception_wd-0.001-test-[15, 169].npz\n",
      "Inverse HVP took 0.000627040863037 sec\n",
      "Entering the for loop\n",
      "(1, 268203)\n",
      "Loaded inverse HVP from output/poisoning_900_300_inception_wd-0.001-test-[15, 169].npz\n",
      "Inverse HVP took 0.000578880310059 sec\n",
      "Entering the for loop\n"
     ]
    },
    {
     "name": "stderr",
     "output_type": "stream",
     "text": [
      "[iter_attack.py:160 -     iterative_attack() ] Attach_iter 55 perturbation shape: (1, 268203), perturbation: [[-0.20046104  0.12082314 -0.21106632 ...  0.06735519 -0.08844535\n",
      "   0.18821868]]\n",
      "[iter_attack.py:160 -     iterative_attack() ] Attach_iter 55 perturbation shape: (1, 268203), perturbation: [[ 0.25167099 -0.01082487 -0.01701008 ... -0.09476516  0.00232028\n",
      "   0.0383731 ]]\n"
     ]
    },
    {
     "name": "stdout",
     "output_type": "stream",
     "text": [
      "(1, 268203)\n",
      "Loaded inverse HVP from output/poisoning_900_300_inception_wd-0.001-test-[15, 169].npz\n",
      "Inverse HVP took 0.000578165054321 sec\n",
      "Entering the for loop\n",
      "(1, 268203)\n",
      "Loaded inverse HVP from output/poisoning_900_300_inception_wd-0.001-test-[15, 169].npz\n",
      "Inverse HVP took 0.000601053237915 sec\n",
      "Entering the for loop\n"
     ]
    },
    {
     "name": "stderr",
     "output_type": "stream",
     "text": [
      "[iter_attack.py:160 -     iterative_attack() ] Attach_iter 55 perturbation shape: (1, 268203), perturbation: [[ 0.03446253 -0.23831742  0.31841594 ... -0.04904648 -0.39362624\n",
      "   0.48125178]]\n",
      "[iter_attack.py:160 -     iterative_attack() ] Attach_iter 55 perturbation shape: (1, 268203), perturbation: [[ 0.52501047  0.30564994 -0.28271294 ...  0.04127995  0.03722962\n",
      "  -0.04175352]]\n"
     ]
    },
    {
     "name": "stdout",
     "output_type": "stream",
     "text": [
      "(1, 268203)\n",
      "Loaded inverse HVP from output/poisoning_900_300_inception_wd-0.001-test-[15, 169].npz\n",
      "Inverse HVP took 0.000593900680542 sec\n",
      "Entering the for loop\n",
      "(1, 268203)\n",
      "Loaded inverse HVP from output/poisoning_900_300_inception_wd-0.001-test-[15, 169].npz\n",
      "Inverse HVP took 0.000581026077271 sec\n",
      "Entering the for loop\n"
     ]
    },
    {
     "name": "stderr",
     "output_type": "stream",
     "text": [
      "[iter_attack.py:160 -     iterative_attack() ] Attach_iter 55 perturbation shape: (1, 268203), perturbation: [[ 0.01644615 -0.04742566 -0.05724236 ...  0.00586332  0.0125819\n",
      "  -0.00613706]]\n"
     ]
    },
    {
     "name": "stdout",
     "output_type": "stream",
     "text": [
      "(1, 268203)\n",
      "10 10\n"
     ]
    },
    {
     "name": "stderr",
     "output_type": "stream",
     "text": [
      "[genericNeuralNet.py:328 -     print_model_eval() ] Train loss (w reg) on all data: 0.023800015\n",
      "[genericNeuralNet.py:329 -     print_model_eval() ] Train loss (w/o reg) on all data: 0.011116357\n",
      "[genericNeuralNet.py:331 -     print_model_eval() ] Test loss (w/o reg) on all data: 0.07128865\n",
      "[genericNeuralNet.py:332 -     print_model_eval() ] Train acc on all data:  0.9988888888888889\n"
     ]
    },
    {
     "name": "stdout",
     "output_type": "stream",
     "text": [
      "Shape (10, 2048)\n",
      "Using normal model\n",
      "LBFGS training took [61] iter.\n",
      "After training with LBFGS: \n"
     ]
    },
    {
     "name": "stderr",
     "output_type": "stream",
     "text": [
      "[genericNeuralNet.py:333 -     print_model_eval() ] Test acc on all data:   0.9716666666666667\n",
      "[genericNeuralNet.py:335 -     print_model_eval() ] Norm of the mean of gradients: 0.018204108\n",
      "[genericNeuralNet.py:336 -     print_model_eval() ] Norm of the params: 5.0365977\n",
      "[iter_attack.py:204 -     iterative_attack() ] Test_idx: 15 Test pred (full): [[1.2118105e-04 9.9987876e-01]]\n",
      "[iter_attack.py:204 -     iterative_attack() ] Test_idx: 169 Test pred (full): [[0.99839777 0.00160225]]\n",
      "[iter_attack.py:205 -     iterative_attack() ] ---------------------\n",
      "[iter_attack.py:210 -     iterative_attack() ] Test_idx: 15 Test pred (top): [[1.2118105e-04 9.9987876e-01]]\n",
      "[iter_attack.py:210 -     iterative_attack() ] Test_idx: 169 Test pred (top): [[0.99839777 0.00160225]]\n",
      "[iter_attack.py:138 -     iterative_attack() ] *** Iter: 56\n"
     ]
    },
    {
     "name": "stdout",
     "output_type": "stream",
     "text": [
      "Total number of parameters: 2048\n"
     ]
    },
    {
     "name": "stderr",
     "output_type": "stream",
     "text": [
      "[iter_attack.py:160 -     iterative_attack() ] Attach_iter 56 perturbation shape: (1, 268203), perturbation: [[ 0.32429636  0.0314492  -0.14158536 ... -0.1357705   0.30685303\n",
      "  -0.63842589]]\n"
     ]
    },
    {
     "name": "stdout",
     "output_type": "stream",
     "text": [
      "Warning: Desired error not necessarily achieved due to precision loss.\n",
      "         Current function value: -4199.628906\n",
      "         Iterations: 11\n",
      "         Function evaluations: 77\n",
      "         Gradient evaluations: 76\n",
      "         Hessian evaluations: 81\n",
      "Inverse HVP took 2.61925411224 sec\n",
      "Loaded inverse HVP from output/poisoning_900_300_inception_wd-0.001-test-[15, 169].npz\n",
      "Inverse HVP took 0.000540971755981 sec\n",
      "Entering the for loop\n",
      "(1, 268203)\n",
      "Loaded inverse HVP from output/poisoning_900_300_inception_wd-0.001-test-[15, 169].npz\n",
      "Inverse HVP took 0.000579833984375 sec\n",
      "Entering the for loop\n"
     ]
    },
    {
     "name": "stderr",
     "output_type": "stream",
     "text": [
      "[iter_attack.py:160 -     iterative_attack() ] Attach_iter 56 perturbation shape: (1, 268203), perturbation: [[ 2.21569462e-06 -9.95085247e-06  1.29659020e-05 ... -1.42785857e-05\n",
      "   1.04501041e-05  2.22624512e-05]]\n",
      "[iter_attack.py:160 -     iterative_attack() ] Attach_iter 56 perturbation shape: (1, 268203), perturbation: [[ 0.26471484  0.07934636  0.03379276 ... -0.16065359  0.07759573\n",
      "  -0.00670882]]\n"
     ]
    },
    {
     "name": "stdout",
     "output_type": "stream",
     "text": [
      "(1, 268203)\n",
      "Loaded inverse HVP from output/poisoning_900_300_inception_wd-0.001-test-[15, 169].npz\n",
      "Inverse HVP took 0.000638008117676 sec\n",
      "Entering the for loop\n",
      "(1, 268203)\n",
      "Loaded inverse HVP from output/poisoning_900_300_inception_wd-0.001-test-[15, 169].npz\n",
      "Inverse HVP took 0.000585079193115 sec\n",
      "Entering the for loop\n"
     ]
    },
    {
     "name": "stderr",
     "output_type": "stream",
     "text": [
      "[iter_attack.py:160 -     iterative_attack() ] Attach_iter 56 perturbation shape: (1, 268203), perturbation: [[-0.00953854 -0.00212915  0.01107984 ... -0.02824904 -0.00289496\n",
      "   0.01040984]]\n",
      "[iter_attack.py:160 -     iterative_attack() ] Attach_iter 56 perturbation shape: (1, 268203), perturbation: [[ 0.00078955 -0.00650056 -0.00267749 ... -0.02993398  0.16560771\n",
      "  -0.05956455]]\n"
     ]
    },
    {
     "name": "stdout",
     "output_type": "stream",
     "text": [
      "(1, 268203)\n",
      "Loaded inverse HVP from output/poisoning_900_300_inception_wd-0.001-test-[15, 169].npz\n",
      "Inverse HVP took 0.000595092773438 sec\n",
      "Entering the for loop\n",
      "(1, 268203)\n",
      "Loaded inverse HVP from output/poisoning_900_300_inception_wd-0.001-test-[15, 169].npz\n",
      "Inverse HVP took 0.000585079193115 sec\n",
      "Entering the for loop\n"
     ]
    },
    {
     "name": "stderr",
     "output_type": "stream",
     "text": [
      "[iter_attack.py:160 -     iterative_attack() ] Attach_iter 56 perturbation shape: (1, 268203), perturbation: [[ 0.01681407 -0.40354803  0.40602779 ... -0.03221307  0.00205467\n",
      "  -0.11075105]]\n",
      "[iter_attack.py:160 -     iterative_attack() ] Attach_iter 56 perturbation shape: (1, 268203), perturbation: [[-0.27535787 -0.01284948  0.11689574 ... -0.16372672  0.02460419\n",
      "   0.07623091]]\n"
     ]
    },
    {
     "name": "stdout",
     "output_type": "stream",
     "text": [
      "(1, 268203)\n",
      "Loaded inverse HVP from output/poisoning_900_300_inception_wd-0.001-test-[15, 169].npz\n",
      "Inverse HVP took 0.000579118728638 sec\n",
      "Entering the for loop\n",
      "(1, 268203)\n",
      "Loaded inverse HVP from output/poisoning_900_300_inception_wd-0.001-test-[15, 169].npz\n",
      "Inverse HVP took 0.000578880310059 sec\n",
      "Entering the for loop\n"
     ]
    },
    {
     "name": "stderr",
     "output_type": "stream",
     "text": [
      "[iter_attack.py:160 -     iterative_attack() ] Attach_iter 56 perturbation shape: (1, 268203), perturbation: [[ 0.07804628 -0.110865    0.19744101 ... -0.49035808  0.07833767\n",
      "   0.05208281]]\n",
      "[iter_attack.py:160 -     iterative_attack() ] Attach_iter 56 perturbation shape: (1, 268203), perturbation: [[-1.89506388 -0.47459248  0.54249662 ... -0.03385929 -0.08211523\n",
      "   0.01041246]]\n"
     ]
    },
    {
     "name": "stdout",
     "output_type": "stream",
     "text": [
      "(1, 268203)\n",
      "Loaded inverse HVP from output/poisoning_900_300_inception_wd-0.001-test-[15, 169].npz\n",
      "Inverse HVP took 0.000581979751587 sec\n",
      "Entering the for loop\n",
      "(1, 268203)\n",
      "Loaded inverse HVP from output/poisoning_900_300_inception_wd-0.001-test-[15, 169].npz\n",
      "Inverse HVP took 0.000633001327515 sec\n",
      "Entering the for loop\n"
     ]
    },
    {
     "name": "stderr",
     "output_type": "stream",
     "text": [
      "[iter_attack.py:160 -     iterative_attack() ] Attach_iter 56 perturbation shape: (1, 268203), perturbation: [[ 0.00180782  0.01198778 -0.01397749 ...  0.00366615 -0.01247868\n",
      "   0.00884232]]\n"
     ]
    },
    {
     "name": "stdout",
     "output_type": "stream",
     "text": [
      "(1, 268203)\n",
      "10 10\n",
      "Shape (10, 2048)\n",
      "Using normal model\n"
     ]
    },
    {
     "name": "stderr",
     "output_type": "stream",
     "text": [
      "[genericNeuralNet.py:328 -     print_model_eval() ] Train loss (w reg) on all data: 0.023937725\n",
      "[genericNeuralNet.py:329 -     print_model_eval() ] Train loss (w/o reg) on all data: 0.011184528\n",
      "[genericNeuralNet.py:331 -     print_model_eval() ] Test loss (w/o reg) on all data: 0.075226024\n",
      "[genericNeuralNet.py:332 -     print_model_eval() ] Train acc on all data:  0.9988888888888889\n",
      "[genericNeuralNet.py:333 -     print_model_eval() ] Test acc on all data:   0.9733333333333334\n",
      "[genericNeuralNet.py:335 -     print_model_eval() ] Norm of the mean of gradients: 0.018175801\n",
      "[genericNeuralNet.py:336 -     print_model_eval() ] Norm of the params: 5.0503855\n",
      "[iter_attack.py:204 -     iterative_attack() ] Test_idx: 15 Test pred (full): [[1.05647654e-04 9.99894381e-01]]\n",
      "[iter_attack.py:204 -     iterative_attack() ] Test_idx: 169 Test pred (full): [[0.9987178  0.00128221]]\n",
      "[iter_attack.py:205 -     iterative_attack() ] ---------------------\n",
      "[iter_attack.py:210 -     iterative_attack() ] Test_idx: 15 Test pred (top): [[1.05647654e-04 9.99894381e-01]]\n",
      "[iter_attack.py:210 -     iterative_attack() ] Test_idx: 169 Test pred (top): [[0.9987178  0.00128221]]\n",
      "[iter_attack.py:138 -     iterative_attack() ] *** Iter: 57\n"
     ]
    },
    {
     "name": "stdout",
     "output_type": "stream",
     "text": [
      "LBFGS training took [72] iter.\n",
      "After training with LBFGS: \n",
      "Total number of parameters: 2048\n"
     ]
    },
    {
     "name": "stderr",
     "output_type": "stream",
     "text": [
      "[iter_attack.py:160 -     iterative_attack() ] Attach_iter 57 perturbation shape: (1, 268203), perturbation: [[-0.14797744 -0.57655317 -0.54123676 ...  0.4279137  -0.76501375\n",
      "   0.7745409 ]]\n"
     ]
    },
    {
     "name": "stdout",
     "output_type": "stream",
     "text": [
      "Warning: Desired error not necessarily achieved due to precision loss.\n",
      "         Current function value: -4210.287598\n",
      "         Iterations: 10\n",
      "         Function evaluations: 69\n",
      "         Gradient evaluations: 67\n",
      "         Hessian evaluations: 70\n",
      "Inverse HVP took 2.10015296936 sec\n",
      "Loaded inverse HVP from output/poisoning_900_300_inception_wd-0.001-test-[15, 169].npz\n",
      "Inverse HVP took 0.000537872314453 sec\n",
      "Entering the for loop\n",
      "(1, 268203)\n",
      "Loaded inverse HVP from output/poisoning_900_300_inception_wd-0.001-test-[15, 169].npz\n",
      "Inverse HVP took 0.000581026077271 sec\n",
      "Entering the for loop\n"
     ]
    },
    {
     "name": "stderr",
     "output_type": "stream",
     "text": [
      "[iter_attack.py:160 -     iterative_attack() ] Attach_iter 57 perturbation shape: (1, 268203), perturbation: [[ 7.66888661e-07  7.39999086e-06  2.07775956e-05 ...  2.68021504e-05\n",
      "  -2.40762602e-05 -5.35085201e-06]]\n",
      "[iter_attack.py:160 -     iterative_attack() ] Attach_iter 57 perturbation shape: (1, 268203), perturbation: [[-1.54176250e-01 -1.62391186e-01 -1.82017684e-05 ... -2.59145886e-01\n",
      "  -7.86517859e-02  1.16320647e-01]]\n"
     ]
    },
    {
     "name": "stdout",
     "output_type": "stream",
     "text": [
      "(1, 268203)\n",
      "Loaded inverse HVP from output/poisoning_900_300_inception_wd-0.001-test-[15, 169].npz\n",
      "Inverse HVP took 0.000581979751587 sec\n",
      "Entering the for loop\n",
      "(1, 268203)\n",
      "Loaded inverse HVP from output/poisoning_900_300_inception_wd-0.001-test-[15, 169].npz\n",
      "Inverse HVP took 0.000581979751587 sec\n",
      "Entering the for loop\n"
     ]
    },
    {
     "name": "stderr",
     "output_type": "stream",
     "text": [
      "[iter_attack.py:160 -     iterative_attack() ] Attach_iter 57 perturbation shape: (1, 268203), perturbation: [[-0.00577238  0.01175319  0.00704618 ...  0.00121346  0.00806114\n",
      "  -0.00223783]]\n",
      "[iter_attack.py:160 -     iterative_attack() ] Attach_iter 57 perturbation shape: (1, 268203), perturbation: [[ 0.00631848 -0.00912229 -0.03537282 ... -0.066697   -0.23670091\n",
      "  -0.00888056]]\n"
     ]
    },
    {
     "name": "stdout",
     "output_type": "stream",
     "text": [
      "(1, 268203)\n",
      "Loaded inverse HVP from output/poisoning_900_300_inception_wd-0.001-test-[15, 169].npz\n",
      "Inverse HVP took 0.000597953796387 sec\n",
      "Entering the for loop\n",
      "(1, 268203)\n",
      "Loaded inverse HVP from output/poisoning_900_300_inception_wd-0.001-test-[15, 169].npz\n",
      "Inverse HVP took 0.000586986541748 sec\n",
      "Entering the for loop\n"
     ]
    },
    {
     "name": "stderr",
     "output_type": "stream",
     "text": [
      "[iter_attack.py:160 -     iterative_attack() ] Attach_iter 57 perturbation shape: (1, 268203), perturbation: [[-0.22207837  0.1315524  -0.18600586 ...  0.05826565 -0.11085811\n",
      "   0.22765006]]\n",
      "[iter_attack.py:160 -     iterative_attack() ] Attach_iter 57 perturbation shape: (1, 268203), perturbation: [[ 0.31034747 -0.00532054 -0.09957157 ... -0.01133358  0.04614769\n",
      "  -0.02435137]]\n"
     ]
    },
    {
     "name": "stdout",
     "output_type": "stream",
     "text": [
      "(1, 268203)\n",
      "Loaded inverse HVP from output/poisoning_900_300_inception_wd-0.001-test-[15, 169].npz\n",
      "Inverse HVP took 0.000599145889282 sec\n",
      "Entering the for loop\n",
      "(1, 268203)\n",
      "Loaded inverse HVP from output/poisoning_900_300_inception_wd-0.001-test-[15, 169].npz\n",
      "Inverse HVP took 0.000594854354858 sec\n",
      "Entering the for loop\n"
     ]
    },
    {
     "name": "stderr",
     "output_type": "stream",
     "text": [
      "[iter_attack.py:160 -     iterative_attack() ] Attach_iter 57 perturbation shape: (1, 268203), perturbation: [[ 0.01812574 -0.26540059  0.31368363 ...  0.16735072 -0.4260776\n",
      "   0.2650741 ]]\n",
      "[iter_attack.py:160 -     iterative_attack() ] Attach_iter 57 perturbation shape: (1, 268203), perturbation: [[ 0.12217794  0.17929937 -0.12783036 ... -0.03417034  0.0465052\n",
      "  -0.02427484]]\n"
     ]
    },
    {
     "name": "stdout",
     "output_type": "stream",
     "text": [
      "(1, 268203)\n",
      "Loaded inverse HVP from output/poisoning_900_300_inception_wd-0.001-test-[15, 169].npz\n",
      "Inverse HVP took 0.000580072402954 sec\n",
      "Entering the for loop\n",
      "(1, 268203)\n",
      "Loaded inverse HVP from output/poisoning_900_300_inception_wd-0.001-test-[15, 169].npz\n",
      "Inverse HVP took 0.000577926635742 sec\n",
      "Entering the for loop\n"
     ]
    },
    {
     "name": "stderr",
     "output_type": "stream",
     "text": [
      "[iter_attack.py:160 -     iterative_attack() ] Attach_iter 57 perturbation shape: (1, 268203), perturbation: [[ 0.03160299 -0.05037892 -0.07064259 ... -0.00537658  0.02029503\n",
      "  -0.01358347]]\n"
     ]
    },
    {
     "name": "stdout",
     "output_type": "stream",
     "text": [
      "(1, 268203)\n",
      "10 10\n",
      "Shape (10, 2048)\n",
      "Using normal model\n"
     ]
    },
    {
     "name": "stderr",
     "output_type": "stream",
     "text": [
      "[genericNeuralNet.py:328 -     print_model_eval() ] Train loss (w reg) on all data: 0.024099747\n",
      "[genericNeuralNet.py:329 -     print_model_eval() ] Train loss (w/o reg) on all data: 0.011329191\n",
      "[genericNeuralNet.py:331 -     print_model_eval() ] Test loss (w/o reg) on all data: 0.07202478\n",
      "[genericNeuralNet.py:332 -     print_model_eval() ] Train acc on all data:  0.9988888888888889\n",
      "[genericNeuralNet.py:333 -     print_model_eval() ] Test acc on all data:   0.9716666666666667\n",
      "[genericNeuralNet.py:335 -     print_model_eval() ] Norm of the mean of gradients: 0.01851892\n",
      "[genericNeuralNet.py:336 -     print_model_eval() ] Norm of the params: 5.0538216\n",
      "[iter_attack.py:204 -     iterative_attack() ] Test_idx: 15 Test pred (full): [[9.413907e-05 9.999058e-01]]\n",
      "[iter_attack.py:204 -     iterative_attack() ] Test_idx: 169 Test pred (full): [[0.9983852  0.00161479]]\n",
      "[iter_attack.py:205 -     iterative_attack() ] ---------------------\n",
      "[iter_attack.py:210 -     iterative_attack() ] Test_idx: 15 Test pred (top): [[9.413907e-05 9.999058e-01]]\n",
      "[iter_attack.py:210 -     iterative_attack() ] Test_idx: 169 Test pred (top): [[0.9983852  0.00161479]]\n",
      "[iter_attack.py:138 -     iterative_attack() ] *** Iter: 58\n"
     ]
    },
    {
     "name": "stdout",
     "output_type": "stream",
     "text": [
      "LBFGS training took [67] iter.\n",
      "After training with LBFGS: \n",
      "Total number of parameters: 2048\n"
     ]
    },
    {
     "name": "stderr",
     "output_type": "stream",
     "text": [
      "[iter_attack.py:160 -     iterative_attack() ] Attach_iter 58 perturbation shape: (1, 268203), perturbation: [[ 0.49451473  0.22371122  0.18648538 ... -0.39042103  0.69271666\n",
      "  -0.95006561]]\n"
     ]
    },
    {
     "name": "stdout",
     "output_type": "stream",
     "text": [
      "Warning: Desired error not necessarily achieved due to precision loss.\n",
      "         Current function value: -4171.649902\n",
      "         Iterations: 9\n",
      "         Function evaluations: 87\n",
      "         Gradient evaluations: 85\n",
      "         Hessian evaluations: 58\n",
      "Inverse HVP took 2.46426701546 sec\n",
      "Loaded inverse HVP from output/poisoning_900_300_inception_wd-0.001-test-[15, 169].npz\n",
      "Inverse HVP took 0.000572919845581 sec\n",
      "Entering the for loop\n",
      "(1, 268203)\n",
      "Loaded inverse HVP from output/poisoning_900_300_inception_wd-0.001-test-[15, 169].npz\n",
      "Inverse HVP took 0.000582933425903 sec\n",
      "Entering the for loop\n"
     ]
    },
    {
     "name": "stderr",
     "output_type": "stream",
     "text": [
      "[iter_attack.py:160 -     iterative_attack() ] Attach_iter 58 perturbation shape: (1, 268203), perturbation: [[-9.50510002e-06 -3.58942561e-05  7.89946262e-06 ...  2.87189687e-05\n",
      "   3.61193961e-05 -2.75753041e-06]]\n",
      "[iter_attack.py:160 -     iterative_attack() ] Attach_iter 58 perturbation shape: (1, 268203), perturbation: [[ 0.17737299  0.09914066 -0.06194644 ... -0.06892779  0.05526961\n",
      "  -0.01063626]]\n"
     ]
    },
    {
     "name": "stdout",
     "output_type": "stream",
     "text": [
      "(1, 268203)\n",
      "Loaded inverse HVP from output/poisoning_900_300_inception_wd-0.001-test-[15, 169].npz\n",
      "Inverse HVP took 0.00062894821167 sec\n",
      "Entering the for loop\n",
      "(1, 268203)\n",
      "Loaded inverse HVP from output/poisoning_900_300_inception_wd-0.001-test-[15, 169].npz\n",
      "Inverse HVP took 0.000582933425903 sec\n",
      "Entering the for loop\n"
     ]
    },
    {
     "name": "stderr",
     "output_type": "stream",
     "text": [
      "[iter_attack.py:160 -     iterative_attack() ] Attach_iter 58 perturbation shape: (1, 268203), perturbation: [[-0.01675166 -0.00861539  0.01371204 ... -0.00791951 -0.01627336\n",
      "   0.01691377]]\n",
      "[iter_attack.py:160 -     iterative_attack() ] Attach_iter 58 perturbation shape: (1, 268203), perturbation: [[-0.00715968  0.00072209  0.00433956 ... -0.03638485  0.29076844\n",
      "   0.00950043]]\n"
     ]
    },
    {
     "name": "stdout",
     "output_type": "stream",
     "text": [
      "(1, 268203)\n",
      "Loaded inverse HVP from output/poisoning_900_300_inception_wd-0.001-test-[15, 169].npz\n",
      "Inverse HVP took 0.000580072402954 sec\n",
      "Entering the for loop\n",
      "(1, 268203)\n",
      "Loaded inverse HVP from output/poisoning_900_300_inception_wd-0.001-test-[15, 169].npz\n",
      "Inverse HVP took 0.000634908676147 sec\n",
      "Entering the for loop\n"
     ]
    },
    {
     "name": "stderr",
     "output_type": "stream",
     "text": [
      "[iter_attack.py:160 -     iterative_attack() ] Attach_iter 58 perturbation shape: (1, 268203), perturbation: [[ 0.01246355 -0.42443365  0.45729205 ... -0.06919111 -0.03413349\n",
      "  -0.08160105]]\n",
      "[iter_attack.py:160 -     iterative_attack() ] Attach_iter 58 perturbation shape: (1, 268203), perturbation: [[-0.20384985  0.00313583  0.0662103  ... -0.17457689 -0.02091253\n",
      "   0.10556055]]\n"
     ]
    },
    {
     "name": "stdout",
     "output_type": "stream",
     "text": [
      "(1, 268203)\n",
      "Loaded inverse HVP from output/poisoning_900_300_inception_wd-0.001-test-[15, 169].npz\n",
      "Inverse HVP took 0.000586032867432 sec\n",
      "Entering the for loop\n",
      "(1, 268203)\n",
      "Loaded inverse HVP from output/poisoning_900_300_inception_wd-0.001-test-[15, 169].npz\n",
      "Inverse HVP took 0.000589847564697 sec\n",
      "Entering the for loop\n"
     ]
    },
    {
     "name": "stderr",
     "output_type": "stream",
     "text": [
      "[iter_attack.py:160 -     iterative_attack() ] Attach_iter 58 perturbation shape: (1, 268203), perturbation: [[ 0.14566006 -0.15713662  0.26758063 ... -0.8712526   0.2544018\n",
      "   0.1461345 ]]\n",
      "[iter_attack.py:160 -     iterative_attack() ] Attach_iter 58 perturbation shape: (1, 268203), perturbation: [[-1.73441017 -0.44690832  0.56978309 ... -0.03276663 -0.08802767\n",
      "   0.01611386]]\n"
     ]
    },
    {
     "name": "stdout",
     "output_type": "stream",
     "text": [
      "(1, 268203)\n",
      "Loaded inverse HVP from output/poisoning_900_300_inception_wd-0.001-test-[15, 169].npz\n",
      "Inverse HVP took 0.000573873519897 sec\n",
      "Entering the for loop\n",
      "(1, 268203)\n",
      "Loaded inverse HVP from output/poisoning_900_300_inception_wd-0.001-test-[15, 169].npz\n",
      "Inverse HVP took 0.00058388710022 sec\n",
      "Entering the for loop\n"
     ]
    },
    {
     "name": "stderr",
     "output_type": "stream",
     "text": [
      "[iter_attack.py:160 -     iterative_attack() ] Attach_iter 58 perturbation shape: (1, 268203), perturbation: [[-0.00892728  0.01879325 -0.0096635  ...  0.00350642 -0.00998397\n",
      "   0.00663902]]\n"
     ]
    },
    {
     "name": "stdout",
     "output_type": "stream",
     "text": [
      "(1, 268203)\n",
      "10 10\n",
      "Shape (10, 2048)\n",
      "Using normal model\n"
     ]
    },
    {
     "name": "stderr",
     "output_type": "stream",
     "text": [
      "[genericNeuralNet.py:328 -     print_model_eval() ] Train loss (w reg) on all data: 0.02426212\n",
      "[genericNeuralNet.py:329 -     print_model_eval() ] Train loss (w/o reg) on all data: 0.011425593\n",
      "[genericNeuralNet.py:331 -     print_model_eval() ] Test loss (w/o reg) on all data: 0.075907074\n",
      "[genericNeuralNet.py:332 -     print_model_eval() ] Train acc on all data:  0.9983333333333333\n",
      "[genericNeuralNet.py:333 -     print_model_eval() ] Test acc on all data:   0.9733333333333334\n",
      "[genericNeuralNet.py:335 -     print_model_eval() ] Norm of the mean of gradients: 0.018585004\n",
      "[genericNeuralNet.py:336 -     print_model_eval() ] Norm of the params: 5.0668583\n",
      "[iter_attack.py:204 -     iterative_attack() ] Test_idx: 15 Test pred (full): [[8.3017381e-05 9.9991703e-01]]\n",
      "[iter_attack.py:204 -     iterative_attack() ] Test_idx: 169 Test pred (full): [[0.9986945  0.00130549]]\n",
      "[iter_attack.py:205 -     iterative_attack() ] ---------------------\n",
      "[iter_attack.py:210 -     iterative_attack() ] Test_idx: 15 Test pred (top): [[8.3017381e-05 9.9991703e-01]]\n",
      "[iter_attack.py:210 -     iterative_attack() ] Test_idx: 169 Test pred (top): [[0.9986945  0.00130549]]\n",
      "[iter_attack.py:138 -     iterative_attack() ] *** Iter: 59\n"
     ]
    },
    {
     "name": "stdout",
     "output_type": "stream",
     "text": [
      "LBFGS training took [59] iter.\n",
      "After training with LBFGS: \n",
      "Total number of parameters: 2048\n"
     ]
    },
    {
     "name": "stderr",
     "output_type": "stream",
     "text": [
      "[iter_attack.py:160 -     iterative_attack() ] Attach_iter 59 perturbation shape: (1, 268203), perturbation: [[-0.2034924  -0.93405676 -0.97868878 ...  0.57236636 -0.91883183\n",
      "   1.2431674 ]]\n"
     ]
    },
    {
     "name": "stdout",
     "output_type": "stream",
     "text": [
      "Warning: Desired error not necessarily achieved due to precision loss.\n",
      "         Current function value: -4177.820801\n",
      "         Iterations: 10\n",
      "         Function evaluations: 91\n",
      "         Gradient evaluations: 89\n",
      "         Hessian evaluations: 82\n",
      "Inverse HVP took 2.93637681007 sec\n",
      "Loaded inverse HVP from output/poisoning_900_300_inception_wd-0.001-test-[15, 169].npz\n",
      "Inverse HVP took 0.000555038452148 sec\n",
      "Entering the for loop\n",
      "(1, 268203)\n",
      "Loaded inverse HVP from output/poisoning_900_300_inception_wd-0.001-test-[15, 169].npz\n",
      "Inverse HVP took 0.000638008117676 sec\n",
      "Entering the for loop\n"
     ]
    },
    {
     "name": "stderr",
     "output_type": "stream",
     "text": [
      "[iter_attack.py:160 -     iterative_attack() ] Attach_iter 59 perturbation shape: (1, 268203), perturbation: [[-2.15394539e-06  1.34558995e-05  3.19432402e-05 ...  2.31520462e-05\n",
      "  -1.53145702e-05 -9.45764623e-06]]\n",
      "[iter_attack.py:160 -     iterative_attack() ] Attach_iter 59 perturbation shape: (1, 268203), perturbation: [[-0.36231935 -0.28203428 -0.04269798 ... -0.18583734  0.00733791\n",
      "   0.07855881]]\n"
     ]
    },
    {
     "name": "stdout",
     "output_type": "stream",
     "text": [
      "(1, 268203)\n",
      "Loaded inverse HVP from output/poisoning_900_300_inception_wd-0.001-test-[15, 169].npz\n",
      "Inverse HVP took 0.000587940216064 sec\n",
      "Entering the for loop\n",
      "(1, 268203)\n",
      "Loaded inverse HVP from output/poisoning_900_300_inception_wd-0.001-test-[15, 169].npz\n",
      "Inverse HVP took 0.000582933425903 sec\n",
      "Entering the for loop\n"
     ]
    },
    {
     "name": "stderr",
     "output_type": "stream",
     "text": [
      "[iter_attack.py:160 -     iterative_attack() ] Attach_iter 59 perturbation shape: (1, 268203), perturbation: [[-0.00406961  0.02223991  0.0008822  ...  0.00216604  0.00531967\n",
      "   0.00087763]]\n",
      "[iter_attack.py:160 -     iterative_attack() ] Attach_iter 59 perturbation shape: (1, 268203), perturbation: [[ 0.00888987 -0.00926001 -0.02102209 ... -0.02751097 -0.27286091\n",
      "  -0.02087283]]\n"
     ]
    },
    {
     "name": "stdout",
     "output_type": "stream",
     "text": [
      "(1, 268203)\n",
      "Loaded inverse HVP from output/poisoning_900_300_inception_wd-0.001-test-[15, 169].npz\n",
      "Inverse HVP took 0.00058388710022 sec\n",
      "Entering the for loop\n",
      "(1, 268203)\n",
      "Loaded inverse HVP from output/poisoning_900_300_inception_wd-0.001-test-[15, 169].npz\n",
      "Inverse HVP took 0.000586032867432 sec\n",
      "Entering the for loop\n"
     ]
    },
    {
     "name": "stderr",
     "output_type": "stream",
     "text": [
      "[iter_attack.py:160 -     iterative_attack() ] Attach_iter 59 perturbation shape: (1, 268203), perturbation: [[-0.2004317   0.06428057 -0.13794984 ...  0.03736999 -0.21812159\n",
      "   0.332629  ]]\n",
      "[iter_attack.py:160 -     iterative_attack() ] Attach_iter 59 perturbation shape: (1, 268203), perturbation: [[ 0.30242828 -0.01327137 -0.07356032 ... -0.06189539  0.07924744\n",
      "  -0.02218164]]\n"
     ]
    },
    {
     "name": "stdout",
     "output_type": "stream",
     "text": [
      "(1, 268203)\n",
      "Loaded inverse HVP from output/poisoning_900_300_inception_wd-0.001-test-[15, 169].npz\n",
      "Inverse HVP took 0.000579118728638 sec\n",
      "Entering the for loop\n",
      "(1, 268203)\n",
      "Loaded inverse HVP from output/poisoning_900_300_inception_wd-0.001-test-[15, 169].npz\n",
      "Inverse HVP took 0.000576019287109 sec\n",
      "Entering the for loop\n"
     ]
    },
    {
     "name": "stderr",
     "output_type": "stream",
     "text": [
      "[iter_attack.py:160 -     iterative_attack() ] Attach_iter 59 perturbation shape: (1, 268203), perturbation: [[-0.01544808 -0.26960975  0.32748351 ...  1.18411636 -0.54837298\n",
      "  -0.23880546]]\n",
      "[iter_attack.py:160 -     iterative_attack() ] Attach_iter 59 perturbation shape: (1, 268203), perturbation: [[-1.0510757   0.02956879  0.22277462 ... -0.01353871  0.06345503\n",
      "  -0.03010194]]\n"
     ]
    },
    {
     "name": "stdout",
     "output_type": "stream",
     "text": [
      "(1, 268203)\n",
      "Loaded inverse HVP from output/poisoning_900_300_inception_wd-0.001-test-[15, 169].npz\n",
      "Inverse HVP took 0.000576019287109 sec\n",
      "Entering the for loop\n",
      "(1, 268203)\n",
      "Loaded inverse HVP from output/poisoning_900_300_inception_wd-0.001-test-[15, 169].npz\n",
      "Inverse HVP took 0.000576019287109 sec\n",
      "Entering the for loop\n"
     ]
    },
    {
     "name": "stderr",
     "output_type": "stream",
     "text": [
      "[iter_attack.py:160 -     iterative_attack() ] Attach_iter 59 perturbation shape: (1, 268203), perturbation: [[ 0.01766006 -0.03899355 -0.0597225  ... -0.0307846   0.03839966\n",
      "  -0.01811756]]\n"
     ]
    },
    {
     "name": "stdout",
     "output_type": "stream",
     "text": [
      "(1, 268203)\n",
      "10 10\n",
      "Shape (10, 2048)\n",
      "Using normal model\n",
      "LBFGS training took [70] iter.\n",
      "After training with LBFGS: \n"
     ]
    },
    {
     "name": "stderr",
     "output_type": "stream",
     "text": [
      "[genericNeuralNet.py:328 -     print_model_eval() ] Train loss (w reg) on all data: 0.024403632\n",
      "[genericNeuralNet.py:329 -     print_model_eval() ] Train loss (w/o reg) on all data: 0.011542591\n",
      "[genericNeuralNet.py:331 -     print_model_eval() ] Test loss (w/o reg) on all data: 0.072572514\n",
      "[genericNeuralNet.py:332 -     print_model_eval() ] Train acc on all data:  0.9988888888888889\n",
      "[genericNeuralNet.py:333 -     print_model_eval() ] Test acc on all data:   0.9716666666666667\n",
      "[genericNeuralNet.py:335 -     print_model_eval() ] Norm of the mean of gradients: 0.018771134\n",
      "[genericNeuralNet.py:336 -     print_model_eval() ] Norm of the params: 5.071694\n",
      "[iter_attack.py:204 -     iterative_attack() ] Test_idx: 15 Test pred (full): [[7.407518e-05 9.999260e-01]]\n",
      "[iter_attack.py:204 -     iterative_attack() ] Test_idx: 169 Test pred (full): [[0.9983444  0.00165556]]\n",
      "[iter_attack.py:205 -     iterative_attack() ] ---------------------\n",
      "[iter_attack.py:210 -     iterative_attack() ] Test_idx: 15 Test pred (top): [[7.407518e-05 9.999260e-01]]\n",
      "[iter_attack.py:210 -     iterative_attack() ] Test_idx: 169 Test pred (top): [[0.9983444  0.00165556]]\n",
      "[iter_attack.py:138 -     iterative_attack() ] *** Iter: 60\n"
     ]
    },
    {
     "name": "stdout",
     "output_type": "stream",
     "text": [
      "Total number of parameters: 2048\n"
     ]
    },
    {
     "name": "stderr",
     "output_type": "stream",
     "text": [
      "[iter_attack.py:160 -     iterative_attack() ] Attach_iter 60 perturbation shape: (1, 268203), perturbation: [[ 0.64199001 -0.57805657 -0.70339102 ... -0.63528484  0.30069065\n",
      "  -0.49410659]]\n"
     ]
    },
    {
     "name": "stdout",
     "output_type": "stream",
     "text": [
      "Warning: Desired error not necessarily achieved due to precision loss.\n",
      "         Current function value: -4145.508789\n",
      "         Iterations: 11\n",
      "         Function evaluations: 145\n",
      "         Gradient evaluations: 141\n",
      "         Hessian evaluations: 71\n",
      "Inverse HVP took 3.67405891418 sec\n",
      "Loaded inverse HVP from output/poisoning_900_300_inception_wd-0.001-test-[15, 169].npz\n",
      "Inverse HVP took 0.000554084777832 sec\n",
      "Entering the for loop\n",
      "(1, 268203)\n",
      "Loaded inverse HVP from output/poisoning_900_300_inception_wd-0.001-test-[15, 169].npz\n",
      "Inverse HVP took 0.00064492225647 sec\n",
      "Entering the for loop\n"
     ]
    },
    {
     "name": "stderr",
     "output_type": "stream",
     "text": [
      "[iter_attack.py:160 -     iterative_attack() ] Attach_iter 60 perturbation shape: (1, 268203), perturbation: [[ 5.82738539e-06 -5.45025214e-05  2.14340052e-05 ...  3.85031744e-05\n",
      "   2.65983872e-05  8.52012454e-06]]\n",
      "[iter_attack.py:160 -     iterative_attack() ] Attach_iter 60 perturbation shape: (1, 268203), perturbation: [[ 0.19614762  0.05820734  0.00861593 ... -0.17730778 -0.02006112\n",
      "   0.0392008 ]]\n"
     ]
    },
    {
     "name": "stdout",
     "output_type": "stream",
     "text": [
      "(1, 268203)\n",
      "Loaded inverse HVP from output/poisoning_900_300_inception_wd-0.001-test-[15, 169].npz\n",
      "Inverse HVP took 0.000581979751587 sec\n",
      "Entering the for loop\n",
      "(1, 268203)\n",
      "Loaded inverse HVP from output/poisoning_900_300_inception_wd-0.001-test-[15, 169].npz\n",
      "Inverse HVP took 0.000584125518799 sec\n",
      "Entering the for loop\n"
     ]
    },
    {
     "name": "stderr",
     "output_type": "stream",
     "text": [
      "[iter_attack.py:160 -     iterative_attack() ] Attach_iter 60 perturbation shape: (1, 268203), perturbation: [[-0.02190148 -0.00578203  0.01413977 ... -0.02132905 -0.01386913\n",
      "   0.01722815]]\n",
      "[iter_attack.py:160 -     iterative_attack() ] Attach_iter 60 perturbation shape: (1, 268203), perturbation: [[-0.00254652 -0.00063538 -0.00379439 ... -0.04629132  0.2928156\n",
      "   0.03315902]]\n"
     ]
    },
    {
     "name": "stdout",
     "output_type": "stream",
     "text": [
      "(1, 268203)\n",
      "Loaded inverse HVP from output/poisoning_900_300_inception_wd-0.001-test-[15, 169].npz\n",
      "Inverse HVP took 0.000574827194214 sec\n",
      "Entering the for loop\n",
      "(1, 268203)\n",
      "Loaded inverse HVP from output/poisoning_900_300_inception_wd-0.001-test-[15, 169].npz\n",
      "Inverse HVP took 0.000625848770142 sec\n",
      "Entering the for loop\n"
     ]
    },
    {
     "name": "stderr",
     "output_type": "stream",
     "text": [
      "[iter_attack.py:160 -     iterative_attack() ] Attach_iter 60 perturbation shape: (1, 268203), perturbation: [[-0.00433411 -0.37659669  0.45683736 ... -0.03787439 -0.04039478\n",
      "  -0.06618177]]\n",
      "[iter_attack.py:160 -     iterative_attack() ] Attach_iter 60 perturbation shape: (1, 268203), perturbation: [[-0.23859814 -0.01275819  0.1301526  ... -0.17299795 -0.03418842\n",
      "   0.08547043]]\n"
     ]
    },
    {
     "name": "stdout",
     "output_type": "stream",
     "text": [
      "(1, 268203)\n",
      "Loaded inverse HVP from output/poisoning_900_300_inception_wd-0.001-test-[15, 169].npz\n",
      "Inverse HVP took 0.000578880310059 sec\n",
      "Entering the for loop\n",
      "(1, 268203)\n",
      "Loaded inverse HVP from output/poisoning_900_300_inception_wd-0.001-test-[15, 169].npz\n",
      "Inverse HVP took 0.000581979751587 sec\n",
      "Entering the for loop\n"
     ]
    },
    {
     "name": "stderr",
     "output_type": "stream",
     "text": [
      "[iter_attack.py:160 -     iterative_attack() ] Attach_iter 60 perturbation shape: (1, 268203), perturbation: [[ 0.15473661 -0.13133979  0.30047604 ... -1.31246233  0.38423389\n",
      "   0.38002238]]\n",
      "[iter_attack.py:160 -     iterative_attack() ] Attach_iter 60 perturbation shape: (1, 268203), perturbation: [[-0.57622677 -0.13902424  0.25742251 ... -0.04515506 -0.07515599\n",
      "   0.02670889]]\n"
     ]
    },
    {
     "name": "stdout",
     "output_type": "stream",
     "text": [
      "(1, 268203)\n",
      "Loaded inverse HVP from output/poisoning_900_300_inception_wd-0.001-test-[15, 169].npz\n",
      "Inverse HVP took 0.000578165054321 sec\n",
      "Entering the for loop\n",
      "(1, 268203)\n",
      "Loaded inverse HVP from output/poisoning_900_300_inception_wd-0.001-test-[15, 169].npz\n",
      "Inverse HVP took 0.000576972961426 sec\n",
      "Entering the for loop\n"
     ]
    },
    {
     "name": "stderr",
     "output_type": "stream",
     "text": [
      "[iter_attack.py:160 -     iterative_attack() ] Attach_iter 60 perturbation shape: (1, 268203), perturbation: [[-0.00271374  0.02472886  0.00364948 ... -0.01492935  0.00519096\n",
      "   0.00058851]]\n"
     ]
    },
    {
     "name": "stdout",
     "output_type": "stream",
     "text": [
      "(1, 268203)\n",
      "10 10\n",
      "Shape (10, 2048)\n",
      "Using normal model\n",
      "LBFGS training took [57] iter.\n",
      "After training with LBFGS: \n"
     ]
    },
    {
     "name": "stderr",
     "output_type": "stream",
     "text": [
      "[genericNeuralNet.py:328 -     print_model_eval() ] Train loss (w reg) on all data: 0.024561467\n",
      "[genericNeuralNet.py:329 -     print_model_eval() ] Train loss (w/o reg) on all data: 0.011641311\n",
      "[genericNeuralNet.py:331 -     print_model_eval() ] Test loss (w/o reg) on all data: 0.076718315\n",
      "[genericNeuralNet.py:332 -     print_model_eval() ] Train acc on all data:  0.9983333333333333\n",
      "[genericNeuralNet.py:333 -     print_model_eval() ] Test acc on all data:   0.9733333333333334\n",
      "[genericNeuralNet.py:335 -     print_model_eval() ] Norm of the mean of gradients: 0.01896041\n",
      "[genericNeuralNet.py:336 -     print_model_eval() ] Norm of the params: 5.0833364\n",
      "[iter_attack.py:204 -     iterative_attack() ] Test_idx: 15 Test pred (full): [[6.520825e-05 9.999348e-01]]\n",
      "[iter_attack.py:204 -     iterative_attack() ] Test_idx: 169 Test pred (full): [[0.9986929  0.00130712]]\n",
      "[iter_attack.py:205 -     iterative_attack() ] ---------------------\n",
      "[iter_attack.py:210 -     iterative_attack() ] Test_idx: 15 Test pred (top): [[6.520825e-05 9.999348e-01]]\n",
      "[iter_attack.py:210 -     iterative_attack() ] Test_idx: 169 Test pred (top): [[0.9986929  0.00130712]]\n",
      "[iter_attack.py:138 -     iterative_attack() ] *** Iter: 61\n"
     ]
    },
    {
     "name": "stdout",
     "output_type": "stream",
     "text": [
      "Total number of parameters: 2048\n"
     ]
    },
    {
     "name": "stderr",
     "output_type": "stream",
     "text": [
      "[iter_attack.py:160 -     iterative_attack() ] Attach_iter 61 perturbation shape: (1, 268203), perturbation: [[ 0.31297475 -0.64513314 -0.59844559 ...  1.61857271 -0.23366719\n",
      "  -0.08637704]]\n"
     ]
    },
    {
     "name": "stdout",
     "output_type": "stream",
     "text": [
      "Warning: Desired error not necessarily achieved due to precision loss.\n",
      "         Current function value: -4149.401367\n",
      "         Iterations: 10\n",
      "         Function evaluations: 76\n",
      "         Gradient evaluations: 74\n",
      "         Hessian evaluations: 69\n",
      "Inverse HVP took 2.3388569355 sec\n",
      "Loaded inverse HVP from output/poisoning_900_300_inception_wd-0.001-test-[15, 169].npz\n",
      "Inverse HVP took 0.000536918640137 sec\n",
      "Entering the for loop\n",
      "(1, 268203)\n",
      "Loaded inverse HVP from output/poisoning_900_300_inception_wd-0.001-test-[15, 169].npz\n",
      "Inverse HVP took 0.000590085983276 sec\n",
      "Entering the for loop\n"
     ]
    },
    {
     "name": "stderr",
     "output_type": "stream",
     "text": [
      "[iter_attack.py:160 -     iterative_attack() ] Attach_iter 61 perturbation shape: (1, 268203), perturbation: [[-9.62889681e-06  4.80949057e-05  6.26665642e-05 ...  7.49558894e-05\n",
      "  -2.46458658e-05 -3.40738479e-05]]\n",
      "[iter_attack.py:160 -     iterative_attack() ] Attach_iter 61 perturbation shape: (1, 268203), perturbation: [[-0.28851444 -0.13778523 -0.11565652 ... -0.15859847 -0.01280813\n",
      "   0.05814663]]\n"
     ]
    },
    {
     "name": "stdout",
     "output_type": "stream",
     "text": [
      "(1, 268203)\n",
      "Loaded inverse HVP from output/poisoning_900_300_inception_wd-0.001-test-[15, 169].npz\n",
      "Inverse HVP took 0.000578165054321 sec\n",
      "Entering the for loop\n",
      "(1, 268203)\n",
      "Loaded inverse HVP from output/poisoning_900_300_inception_wd-0.001-test-[15, 169].npz\n",
      "Inverse HVP took 0.000582933425903 sec\n",
      "Entering the for loop\n"
     ]
    },
    {
     "name": "stderr",
     "output_type": "stream",
     "text": [
      "[iter_attack.py:160 -     iterative_attack() ] Attach_iter 61 perturbation shape: (1, 268203), perturbation: [[ 0.00159138  0.0161722   0.00279025 ...  0.01177099  0.01015838\n",
      "  -0.0040545 ]]\n",
      "[iter_attack.py:160 -     iterative_attack() ] Attach_iter 61 perturbation shape: (1, 268203), perturbation: [[ 0.00233693 -0.00792184 -0.02810138 ... -0.01729967 -0.27463493\n",
      "  -0.05277285]]\n"
     ]
    },
    {
     "name": "stdout",
     "output_type": "stream",
     "text": [
      "(1, 268203)\n",
      "Loaded inverse HVP from output/poisoning_900_300_inception_wd-0.001-test-[15, 169].npz\n",
      "Inverse HVP took 0.000579118728638 sec\n",
      "Entering the for loop\n",
      "(1, 268203)\n",
      "Loaded inverse HVP from output/poisoning_900_300_inception_wd-0.001-test-[15, 169].npz\n",
      "Inverse HVP took 0.000593185424805 sec\n",
      "Entering the for loop\n"
     ]
    },
    {
     "name": "stderr",
     "output_type": "stream",
     "text": [
      "[iter_attack.py:160 -     iterative_attack() ] Attach_iter 61 perturbation shape: (1, 268203), perturbation: [[-0.28952119  0.17038426 -0.17492038 ...  0.07642635 -0.16901889\n",
      "   0.26423869]]\n",
      "[iter_attack.py:160 -     iterative_attack() ] Attach_iter 61 perturbation shape: (1, 268203), perturbation: [[ 0.27306324  0.00960614 -0.12728274 ... -0.05259074  0.08268337\n",
      "  -0.01764266]]\n"
     ]
    },
    {
     "name": "stdout",
     "output_type": "stream",
     "text": [
      "(1, 268203)\n",
      "Loaded inverse HVP from output/poisoning_900_300_inception_wd-0.001-test-[15, 169].npz\n",
      "Inverse HVP took 0.000580072402954 sec\n",
      "Entering the for loop\n",
      "(1, 268203)\n",
      "Loaded inverse HVP from output/poisoning_900_300_inception_wd-0.001-test-[15, 169].npz\n",
      "Inverse HVP took 0.000574111938477 sec\n",
      "Entering the for loop\n"
     ]
    },
    {
     "name": "stderr",
     "output_type": "stream",
     "text": [
      "[iter_attack.py:160 -     iterative_attack() ] Attach_iter 61 perturbation shape: (1, 268203), perturbation: [[-0.04837201 -0.24142426  0.24258152 ...  0.95414299 -0.52927035\n",
      "  -0.29434547]]\n",
      "[iter_attack.py:160 -     iterative_attack() ] Attach_iter 61 perturbation shape: (1, 268203), perturbation: [[-1.14648068 -0.15391386  0.18029636 ...  0.0565448   0.04787846\n",
      "  -0.06775557]]\n"
     ]
    },
    {
     "name": "stdout",
     "output_type": "stream",
     "text": [
      "(1, 268203)\n",
      "Loaded inverse HVP from output/poisoning_900_300_inception_wd-0.001-test-[15, 169].npz\n",
      "Inverse HVP took 0.000633001327515 sec\n",
      "Entering the for loop\n",
      "(1, 268203)\n",
      "Loaded inverse HVP from output/poisoning_900_300_inception_wd-0.001-test-[15, 169].npz\n",
      "Inverse HVP took 0.000648021697998 sec\n",
      "Entering the for loop\n"
     ]
    },
    {
     "name": "stderr",
     "output_type": "stream",
     "text": [
      "[iter_attack.py:160 -     iterative_attack() ] Attach_iter 61 perturbation shape: (1, 268203), perturbation: [[ 0.02289699 -0.04617238 -0.08523592 ... -0.02644021  0.0371023\n",
      "  -0.01740688]]\n"
     ]
    },
    {
     "name": "stdout",
     "output_type": "stream",
     "text": [
      "(1, 268203)\n",
      "10 10\n"
     ]
    },
    {
     "name": "stderr",
     "output_type": "stream",
     "text": [
      "[genericNeuralNet.py:328 -     print_model_eval() ] Train loss (w reg) on all data: 0.024691422\n",
      "[genericNeuralNet.py:329 -     print_model_eval() ] Train loss (w/o reg) on all data: 0.011744824\n",
      "[genericNeuralNet.py:331 -     print_model_eval() ] Test loss (w/o reg) on all data: 0.07317694\n"
     ]
    },
    {
     "name": "stdout",
     "output_type": "stream",
     "text": [
      "Shape (10, 2048)\n",
      "Using normal model\n",
      "LBFGS training took [65] iter.\n",
      "After training with LBFGS: \n"
     ]
    },
    {
     "name": "stderr",
     "output_type": "stream",
     "text": [
      "[genericNeuralNet.py:332 -     print_model_eval() ] Train acc on all data:  0.9988888888888889\n",
      "[genericNeuralNet.py:333 -     print_model_eval() ] Test acc on all data:   0.9716666666666667\n",
      "[genericNeuralNet.py:335 -     print_model_eval() ] Norm of the mean of gradients: 0.018995358\n",
      "[genericNeuralNet.py:336 -     print_model_eval() ] Norm of the params: 5.088536\n",
      "[iter_attack.py:204 -     iterative_attack() ] Test_idx: 15 Test pred (full): [[5.947814e-05 9.999405e-01]]\n",
      "[iter_attack.py:204 -     iterative_attack() ] Test_idx: 169 Test pred (full): [[0.99827015 0.00172982]]\n",
      "[iter_attack.py:205 -     iterative_attack() ] ---------------------\n",
      "[iter_attack.py:210 -     iterative_attack() ] Test_idx: 15 Test pred (top): [[5.947814e-05 9.999405e-01]]\n",
      "[iter_attack.py:210 -     iterative_attack() ] Test_idx: 169 Test pred (top): [[0.99827015 0.00172982]]\n",
      "[iter_attack.py:138 -     iterative_attack() ] *** Iter: 62\n"
     ]
    },
    {
     "name": "stdout",
     "output_type": "stream",
     "text": [
      "Total number of parameters: 2048\n"
     ]
    },
    {
     "name": "stderr",
     "output_type": "stream",
     "text": [
      "[iter_attack.py:160 -     iterative_attack() ] Attach_iter 62 perturbation shape: (1, 268203), perturbation: [[ 0.11130159 -1.0002408  -1.30504632 ... -1.10258102 -0.23567626\n",
      "   0.30488849]]\n"
     ]
    },
    {
     "name": "stdout",
     "output_type": "stream",
     "text": [
      "Warning: Desired error not necessarily achieved due to precision loss.\n",
      "         Current function value: -4121.043945\n",
      "         Iterations: 9\n",
      "         Function evaluations: 68\n",
      "         Gradient evaluations: 65\n",
      "         Hessian evaluations: 55\n",
      "Inverse HVP took 1.93824505806 sec\n",
      "Loaded inverse HVP from output/poisoning_900_300_inception_wd-0.001-test-[15, 169].npz\n",
      "Inverse HVP took 0.00053882598877 sec\n",
      "Entering the for loop\n",
      "(1, 268203)\n",
      "Loaded inverse HVP from output/poisoning_900_300_inception_wd-0.001-test-[15, 169].npz\n",
      "Inverse HVP took 0.000584840774536 sec\n",
      "Entering the for loop\n"
     ]
    },
    {
     "name": "stderr",
     "output_type": "stream",
     "text": [
      "[iter_attack.py:160 -     iterative_attack() ] Attach_iter 62 perturbation shape: (1, 268203), perturbation: [[ 2.50180856e-05 -6.74337134e-05  4.15635950e-05 ...  1.14329901e-04\n",
      "   7.70157931e-05 -4.77212452e-05]]\n",
      "[iter_attack.py:160 -     iterative_attack() ] Attach_iter 62 perturbation shape: (1, 268203), perturbation: [[ 0.31221902  0.13850448  0.04409422 ... -0.15114038 -0.00876963\n",
      "   0.06171834]]\n"
     ]
    },
    {
     "name": "stdout",
     "output_type": "stream",
     "text": [
      "(1, 268203)\n",
      "Loaded inverse HVP from output/poisoning_900_300_inception_wd-0.001-test-[15, 169].npz\n",
      "Inverse HVP took 0.000597953796387 sec\n",
      "Entering the for loop\n",
      "(1, 268203)\n",
      "Loaded inverse HVP from output/poisoning_900_300_inception_wd-0.001-test-[15, 169].npz\n",
      "Inverse HVP took 0.000582933425903 sec\n",
      "Entering the for loop\n"
     ]
    },
    {
     "name": "stderr",
     "output_type": "stream",
     "text": [
      "[iter_attack.py:160 -     iterative_attack() ] Attach_iter 62 perturbation shape: (1, 268203), perturbation: [[-0.01537149  0.00486374  0.01136831 ... -0.02603545 -0.00650619\n",
      "   0.01420764]]\n",
      "[iter_attack.py:160 -     iterative_attack() ] Attach_iter 62 perturbation shape: (1, 268203), perturbation: [[-0.01242197  0.00221961  0.00238414 ... -0.08623861  0.27051786\n",
      "   0.05202506]]\n"
     ]
    },
    {
     "name": "stdout",
     "output_type": "stream",
     "text": [
      "(1, 268203)\n",
      "Loaded inverse HVP from output/poisoning_900_300_inception_wd-0.001-test-[15, 169].npz\n",
      "Inverse HVP took 0.00058388710022 sec\n",
      "Entering the for loop\n",
      "(1, 268203)\n",
      "Loaded inverse HVP from output/poisoning_900_300_inception_wd-0.001-test-[15, 169].npz\n",
      "Inverse HVP took 0.000582218170166 sec\n",
      "Entering the for loop\n"
     ]
    },
    {
     "name": "stderr",
     "output_type": "stream",
     "text": [
      "[iter_attack.py:160 -     iterative_attack() ] Attach_iter 62 perturbation shape: (1, 268203), perturbation: [[ 0.04093882 -0.40985784  0.38491026 ... -0.04352997 -0.06295142\n",
      "  -0.01232962]]\n",
      "[iter_attack.py:160 -     iterative_attack() ] Attach_iter 62 perturbation shape: (1, 268203), perturbation: [[-0.26957148 -0.00850632  0.17457655 ... -0.13737093 -0.03216632\n",
      "   0.08256181]]\n"
     ]
    },
    {
     "name": "stdout",
     "output_type": "stream",
     "text": [
      "(1, 268203)\n",
      "Loaded inverse HVP from output/poisoning_900_300_inception_wd-0.001-test-[15, 169].npz\n",
      "Inverse HVP took 0.00059700012207 sec\n",
      "Entering the for loop\n",
      "(1, 268203)\n",
      "Loaded inverse HVP from output/poisoning_900_300_inception_wd-0.001-test-[15, 169].npz\n",
      "Inverse HVP took 0.000596046447754 sec\n",
      "Entering the for loop\n"
     ]
    },
    {
     "name": "stderr",
     "output_type": "stream",
     "text": [
      "[iter_attack.py:160 -     iterative_attack() ] Attach_iter 62 perturbation shape: (1, 268203), perturbation: [[ 0.2410617  -0.03771645  0.2186406  ... -1.34421372  0.39211264\n",
      "   0.48432019]]\n",
      "[iter_attack.py:160 -     iterative_attack() ] Attach_iter 62 perturbation shape: (1, 268203), perturbation: [[-0.19168454 -0.05302384  0.21362971 ... -0.02114701 -0.07505702\n",
      "   0.02722324]]\n"
     ]
    },
    {
     "name": "stdout",
     "output_type": "stream",
     "text": [
      "(1, 268203)\n",
      "Loaded inverse HVP from output/poisoning_900_300_inception_wd-0.001-test-[15, 169].npz\n",
      "Inverse HVP took 0.000604152679443 sec\n",
      "Entering the for loop\n",
      "(1, 268203)\n",
      "Loaded inverse HVP from output/poisoning_900_300_inception_wd-0.001-test-[15, 169].npz\n",
      "Inverse HVP took 0.000604152679443 sec\n",
      "Entering the for loop\n"
     ]
    },
    {
     "name": "stderr",
     "output_type": "stream",
     "text": [
      "[iter_attack.py:160 -     iterative_attack() ] Attach_iter 62 perturbation shape: (1, 268203), perturbation: [[ 0.01193451 -0.00634003 -0.04052249 ...  0.00708671 -0.00763044\n",
      "   0.00634678]]\n"
     ]
    },
    {
     "name": "stdout",
     "output_type": "stream",
     "text": [
      "(1, 268203)\n",
      "10 10\n",
      "Shape (10, 2048)\n",
      "Using normal model\n",
      "LBFGS training took [64] iter.\n",
      "After training with LBFGS: \n"
     ]
    },
    {
     "name": "stderr",
     "output_type": "stream",
     "text": [
      "[genericNeuralNet.py:328 -     print_model_eval() ] Train loss (w reg) on all data: 0.024819389\n",
      "[genericNeuralNet.py:329 -     print_model_eval() ] Train loss (w/o reg) on all data: 0.011828567\n",
      "[genericNeuralNet.py:331 -     print_model_eval() ] Test loss (w/o reg) on all data: 0.07764981\n",
      "[genericNeuralNet.py:332 -     print_model_eval() ] Train acc on all data:  0.9983333333333333\n",
      "[genericNeuralNet.py:333 -     print_model_eval() ] Test acc on all data:   0.97\n",
      "[genericNeuralNet.py:335 -     print_model_eval() ] Norm of the mean of gradients: 0.019331045\n",
      "[genericNeuralNet.py:336 -     print_model_eval() ] Norm of the params: 5.097218\n",
      "[iter_attack.py:204 -     iterative_attack() ] Test_idx: 15 Test pred (full): [[5.3063235e-05 9.9994695e-01]]\n",
      "[iter_attack.py:204 -     iterative_attack() ] Test_idx: 169 Test pred (full): [[0.9986992  0.00130084]]\n",
      "[iter_attack.py:205 -     iterative_attack() ] ---------------------\n",
      "[iter_attack.py:210 -     iterative_attack() ] Test_idx: 15 Test pred (top): [[5.3063235e-05 9.9994695e-01]]\n",
      "[iter_attack.py:210 -     iterative_attack() ] Test_idx: 169 Test pred (top): [[0.9986992  0.00130084]]\n",
      "[iter_attack.py:138 -     iterative_attack() ] *** Iter: 63\n"
     ]
    },
    {
     "name": "stdout",
     "output_type": "stream",
     "text": [
      "Total number of parameters: 2048\n"
     ]
    },
    {
     "name": "stderr",
     "output_type": "stream",
     "text": [
      "[iter_attack.py:160 -     iterative_attack() ] Attach_iter 63 perturbation shape: (1, 268203), perturbation: [[ 0.65414572 -0.09855637 -0.03321601 ...  1.53395188  0.20012069\n",
      "  -0.63423753]]\n"
     ]
    },
    {
     "name": "stdout",
     "output_type": "stream",
     "text": [
      "Warning: Desired error not necessarily achieved due to precision loss.\n",
      "         Current function value: -4127.168945\n",
      "         Iterations: 10\n",
      "         Function evaluations: 95\n",
      "         Gradient evaluations: 93\n",
      "         Hessian evaluations: 69\n",
      "Inverse HVP took 2.76947784424 sec\n",
      "Loaded inverse HVP from output/poisoning_900_300_inception_wd-0.001-test-[15, 169].npz\n",
      "Inverse HVP took 0.000536918640137 sec\n",
      "Entering the for loop\n",
      "(1, 268203)\n",
      "Loaded inverse HVP from output/poisoning_900_300_inception_wd-0.001-test-[15, 169].npz\n",
      "Inverse HVP took 0.000638008117676 sec\n",
      "Entering the for loop\n"
     ]
    },
    {
     "name": "stderr",
     "output_type": "stream",
     "text": [
      "[iter_attack.py:160 -     iterative_attack() ] Attach_iter 63 perturbation shape: (1, 268203), perturbation: [[-2.35973239e-05  4.75955094e-05  7.71140622e-05 ...  8.64785034e-05\n",
      "  -2.91618635e-05 -3.12697666e-05]]\n",
      "[iter_attack.py:160 -     iterative_attack() ] Attach_iter 63 perturbation shape: (1, 268203), perturbation: [[-0.0945721  -0.05341174 -0.06988707 ... -0.23679921 -0.10061637\n",
      "   0.09292264]]\n"
     ]
    },
    {
     "name": "stdout",
     "output_type": "stream",
     "text": [
      "(1, 268203)\n",
      "Loaded inverse HVP from output/poisoning_900_300_inception_wd-0.001-test-[15, 169].npz\n",
      "Inverse HVP took 0.000622987747192 sec\n",
      "Entering the for loop\n",
      "(1, 268203)\n",
      "Loaded inverse HVP from output/poisoning_900_300_inception_wd-0.001-test-[15, 169].npz\n",
      "Inverse HVP took 0.000581979751587 sec\n",
      "Entering the for loop\n"
     ]
    },
    {
     "name": "stderr",
     "output_type": "stream",
     "text": [
      "[iter_attack.py:160 -     iterative_attack() ] Attach_iter 63 perturbation shape: (1, 268203), perturbation: [[-0.01086105  0.01142638  0.00600617 ...  0.02227783  0.00022673\n",
      "   0.00126687]]\n",
      "[iter_attack.py:160 -     iterative_attack() ] Attach_iter 63 perturbation shape: (1, 268203), perturbation: [[ 0.00944296 -0.01087368 -0.03001851 ...  0.01524183 -0.26606625\n",
      "  -0.07227048]]\n"
     ]
    },
    {
     "name": "stdout",
     "output_type": "stream",
     "text": [
      "(1, 268203)\n",
      "Loaded inverse HVP from output/poisoning_900_300_inception_wd-0.001-test-[15, 169].npz\n",
      "Inverse HVP took 0.000591993331909 sec\n",
      "Entering the for loop\n",
      "(1, 268203)\n",
      "Loaded inverse HVP from output/poisoning_900_300_inception_wd-0.001-test-[15, 169].npz\n",
      "Inverse HVP took 0.000636100769043 sec\n",
      "Entering the for loop\n"
     ]
    },
    {
     "name": "stderr",
     "output_type": "stream",
     "text": [
      "[iter_attack.py:160 -     iterative_attack() ] Attach_iter 63 perturbation shape: (1, 268203), perturbation: [[-0.42022705  0.26925468 -0.1256347  ...  0.04084451 -0.14009656\n",
      "   0.21510416]]\n",
      "[iter_attack.py:160 -     iterative_attack() ] Attach_iter 63 perturbation shape: (1, 268203), perturbation: [[ 0.33040395  0.0136773  -0.18444288 ... -0.08384647  0.02515573\n",
      "   0.02312798]]\n"
     ]
    },
    {
     "name": "stdout",
     "output_type": "stream",
     "text": [
      "(1, 268203)\n",
      "Loaded inverse HVP from output/poisoning_900_300_inception_wd-0.001-test-[15, 169].npz\n",
      "Inverse HVP took 0.000578165054321 sec\n",
      "Entering the for loop\n",
      "(1, 268203)\n",
      "Loaded inverse HVP from output/poisoning_900_300_inception_wd-0.001-test-[15, 169].npz\n",
      "Inverse HVP took 0.000572919845581 sec\n",
      "Entering the for loop\n"
     ]
    },
    {
     "name": "stderr",
     "output_type": "stream",
     "text": [
      "[iter_attack.py:160 -     iterative_attack() ] Attach_iter 63 perturbation shape: (1, 268203), perturbation: [[-0.07392127 -0.29975373  0.25314701 ...  0.57637483 -0.35688818\n",
      "  -0.61236888]]\n",
      "[iter_attack.py:160 -     iterative_attack() ] Attach_iter 63 perturbation shape: (1, 268203), perturbation: [[-0.61658317 -0.12382703  0.04841805 ...  0.05424176  0.06589625\n",
      "  -0.0278199 ]]\n"
     ]
    },
    {
     "name": "stdout",
     "output_type": "stream",
     "text": [
      "(1, 268203)\n",
      "Loaded inverse HVP from output/poisoning_900_300_inception_wd-0.001-test-[15, 169].npz\n",
      "Inverse HVP took 0.000600099563599 sec\n",
      "Entering the for loop\n",
      "(1, 268203)\n",
      "Loaded inverse HVP from output/poisoning_900_300_inception_wd-0.001-test-[15, 169].npz\n",
      "Inverse HVP took 0.000631809234619 sec\n",
      "Entering the for loop\n"
     ]
    },
    {
     "name": "stderr",
     "output_type": "stream",
     "text": [
      "[iter_attack.py:160 -     iterative_attack() ] Attach_iter 63 perturbation shape: (1, 268203), perturbation: [[ 0.04621785 -0.06073391 -0.12168944 ... -0.0101575   0.03060541\n",
      "  -0.01340539]]\n"
     ]
    },
    {
     "name": "stdout",
     "output_type": "stream",
     "text": [
      "(1, 268203)\n",
      "10 10\n",
      "Shape (10, 2048)\n",
      "Using normal model\n",
      "LBFGS training took [70] iter.\n",
      "After training with LBFGS: \n"
     ]
    },
    {
     "name": "stderr",
     "output_type": "stream",
     "text": [
      "[genericNeuralNet.py:328 -     print_model_eval() ] Train loss (w reg) on all data: 0.024945188\n",
      "[genericNeuralNet.py:329 -     print_model_eval() ] Train loss (w/o reg) on all data: 0.011911225\n",
      "[genericNeuralNet.py:331 -     print_model_eval() ] Test loss (w/o reg) on all data: 0.07403445\n",
      "[genericNeuralNet.py:332 -     print_model_eval() ] Train acc on all data:  0.9988888888888889\n",
      "[genericNeuralNet.py:333 -     print_model_eval() ] Test acc on all data:   0.9716666666666667\n",
      "[genericNeuralNet.py:335 -     print_model_eval() ] Norm of the mean of gradients: 0.019231303\n",
      "[genericNeuralNet.py:336 -     print_model_eval() ] Norm of the params: 5.1056757\n",
      "[iter_attack.py:204 -     iterative_attack() ] Test_idx: 15 Test pred (full): [[4.8907572e-05 9.9995112e-01]]\n",
      "[iter_attack.py:204 -     iterative_attack() ] Test_idx: 169 Test pred (full): [[0.99823546 0.00176454]]\n",
      "[iter_attack.py:205 -     iterative_attack() ] ---------------------\n",
      "[iter_attack.py:210 -     iterative_attack() ] Test_idx: 15 Test pred (top): [[4.8907572e-05 9.9995112e-01]]\n",
      "[iter_attack.py:210 -     iterative_attack() ] Test_idx: 169 Test pred (top): [[0.99823546 0.00176454]]\n",
      "[iter_attack.py:138 -     iterative_attack() ] *** Iter: 64\n"
     ]
    },
    {
     "name": "stdout",
     "output_type": "stream",
     "text": [
      "Total number of parameters: 2048\n"
     ]
    },
    {
     "name": "stderr",
     "output_type": "stream",
     "text": [
      "[iter_attack.py:160 -     iterative_attack() ] Attach_iter 64 perturbation shape: (1, 268203), perturbation: [[-0.08681709 -0.73590577 -1.33838689 ... -1.18653786 -0.44212118\n",
      "   0.74928033]]\n"
     ]
    },
    {
     "name": "stdout",
     "output_type": "stream",
     "text": [
      "Warning: Desired error not necessarily achieved due to precision loss.\n",
      "         Current function value: -4102.280273\n",
      "         Iterations: 9\n",
      "         Function evaluations: 88\n",
      "         Gradient evaluations: 87\n",
      "         Hessian evaluations: 58\n",
      "Inverse HVP took 2.47491717339 sec\n",
      "Loaded inverse HVP from output/poisoning_900_300_inception_wd-0.001-test-[15, 169].npz\n",
      "Inverse HVP took 0.000546216964722 sec\n",
      "Entering the for loop\n",
      "(1, 268203)\n",
      "Loaded inverse HVP from output/poisoning_900_300_inception_wd-0.001-test-[15, 169].npz\n",
      "Inverse HVP took 0.000582933425903 sec\n",
      "Entering the for loop\n"
     ]
    },
    {
     "name": "stderr",
     "output_type": "stream",
     "text": [
      "[iter_attack.py:160 -     iterative_attack() ] Attach_iter 64 perturbation shape: (1, 268203), perturbation: [[ 8.31695434e-06 -1.20447265e-04  4.96652865e-05 ...  1.11942834e-04\n",
      "   7.64690267e-05 -3.79904668e-06]]\n",
      "[iter_attack.py:160 -     iterative_attack() ] Attach_iter 64 perturbation shape: (1, 268203), perturbation: [[ 0.01569302 -0.07075626  0.09201302 ... -0.15766217  0.00551602\n",
      "   0.07156981]]\n"
     ]
    },
    {
     "name": "stdout",
     "output_type": "stream",
     "text": [
      "(1, 268203)\n",
      "Loaded inverse HVP from output/poisoning_900_300_inception_wd-0.001-test-[15, 169].npz\n",
      "Inverse HVP took 0.000632047653198 sec\n",
      "Entering the for loop\n",
      "(1, 268203)\n",
      "Loaded inverse HVP from output/poisoning_900_300_inception_wd-0.001-test-[15, 169].npz\n",
      "Inverse HVP took 0.000633955001831 sec\n",
      "Entering the for loop\n"
     ]
    },
    {
     "name": "stderr",
     "output_type": "stream",
     "text": [
      "[iter_attack.py:160 -     iterative_attack() ] Attach_iter 64 perturbation shape: (1, 268203), perturbation: [[-0.00430746  0.00930133  0.00565934 ... -0.01882099 -0.00904423\n",
      "   0.02143524]]\n",
      "[iter_attack.py:160 -     iterative_attack() ] Attach_iter 64 perturbation shape: (1, 268203), perturbation: [[-0.02161297  0.0050831   0.00901282 ... -0.07620147  0.38796046\n",
      "   0.09851488]]\n"
     ]
    },
    {
     "name": "stdout",
     "output_type": "stream",
     "text": [
      "(1, 268203)\n",
      "Loaded inverse HVP from output/poisoning_900_300_inception_wd-0.001-test-[15, 169].npz\n",
      "Inverse HVP took 0.00058388710022 sec\n",
      "Entering the for loop\n",
      "(1, 268203)\n",
      "Loaded inverse HVP from output/poisoning_900_300_inception_wd-0.001-test-[15, 169].npz\n",
      "Inverse HVP took 0.000636100769043 sec\n",
      "Entering the for loop\n"
     ]
    },
    {
     "name": "stderr",
     "output_type": "stream",
     "text": [
      "[iter_attack.py:160 -     iterative_attack() ] Attach_iter 64 perturbation shape: (1, 268203), perturbation: [[ 1.54021412e-01 -5.01984894e-01  3.75311822e-01 ...  2.78498977e-04\n",
      "  -4.38174978e-02  2.18593199e-02]]\n",
      "[iter_attack.py:160 -     iterative_attack() ] Attach_iter 64 perturbation shape: (1, 268203), perturbation: [[-0.264772   -0.00806397  0.19767359 ... -0.17849889 -0.00287831\n",
      "   0.08435562]]\n"
     ]
    },
    {
     "name": "stdout",
     "output_type": "stream",
     "text": [
      "(1, 268203)\n",
      "Loaded inverse HVP from output/poisoning_900_300_inception_wd-0.001-test-[15, 169].npz\n",
      "Inverse HVP took 0.00059700012207 sec\n",
      "Entering the for loop\n",
      "(1, 268203)\n",
      "Loaded inverse HVP from output/poisoning_900_300_inception_wd-0.001-test-[15, 169].npz\n",
      "Inverse HVP took 0.000588178634644 sec\n",
      "Entering the for loop\n"
     ]
    },
    {
     "name": "stderr",
     "output_type": "stream",
     "text": [
      "[iter_attack.py:160 -     iterative_attack() ] Attach_iter 64 perturbation shape: (1, 268203), perturbation: [[ 0.22318943 -0.12342562  0.31097579 ... -0.77499002  0.20177773\n",
      "   0.51638985]]\n",
      "[iter_attack.py:160 -     iterative_attack() ] Attach_iter 64 perturbation shape: (1, 268203), perturbation: [[-0.56274223 -0.02432232  0.24947564 ...  0.02293914 -0.11476905\n",
      "   0.00413247]]\n"
     ]
    },
    {
     "name": "stdout",
     "output_type": "stream",
     "text": [
      "(1, 268203)\n",
      "Loaded inverse HVP from output/poisoning_900_300_inception_wd-0.001-test-[15, 169].npz\n",
      "Inverse HVP took 0.000582933425903 sec\n",
      "Entering the for loop\n",
      "(1, 268203)\n",
      "Loaded inverse HVP from output/poisoning_900_300_inception_wd-0.001-test-[15, 169].npz\n",
      "Inverse HVP took 0.00062894821167 sec\n",
      "Entering the for loop\n"
     ]
    },
    {
     "name": "stderr",
     "output_type": "stream",
     "text": [
      "[iter_attack.py:160 -     iterative_attack() ] Attach_iter 64 perturbation shape: (1, 268203), perturbation: [[-0.00315833  0.02529685 -0.02838365 ...  0.0230424  -0.03202543\n",
      "   0.00876689]]\n"
     ]
    },
    {
     "name": "stdout",
     "output_type": "stream",
     "text": [
      "(1, 268203)\n",
      "10 10\n"
     ]
    },
    {
     "name": "stderr",
     "output_type": "stream",
     "text": [
      "[genericNeuralNet.py:328 -     print_model_eval() ] Train loss (w reg) on all data: 0.025079029\n",
      "[genericNeuralNet.py:329 -     print_model_eval() ] Train loss (w/o reg) on all data: 0.012014163\n",
      "[genericNeuralNet.py:331 -     print_model_eval() ] Test loss (w/o reg) on all data: 0.077662244\n",
      "[genericNeuralNet.py:332 -     print_model_eval() ] Train acc on all data:  0.9983333333333333\n",
      "[genericNeuralNet.py:333 -     print_model_eval() ] Test acc on all data:   0.97\n"
     ]
    },
    {
     "name": "stdout",
     "output_type": "stream",
     "text": [
      "Shape (10, 2048)\n",
      "Using normal model\n",
      "LBFGS training took [52] iter.\n",
      "After training with LBFGS: \n"
     ]
    },
    {
     "name": "stderr",
     "output_type": "stream",
     "text": [
      "[genericNeuralNet.py:335 -     print_model_eval() ] Norm of the mean of gradients: 0.019667832\n",
      "[genericNeuralNet.py:336 -     print_model_eval() ] Norm of the params: 5.1117253\n",
      "[iter_attack.py:204 -     iterative_attack() ] Test_idx: 15 Test pred (full): [[4.353227e-05 9.999565e-01]]\n",
      "[iter_attack.py:204 -     iterative_attack() ] Test_idx: 169 Test pred (full): [[0.9986916  0.00130844]]\n",
      "[iter_attack.py:205 -     iterative_attack() ] ---------------------\n",
      "[iter_attack.py:210 -     iterative_attack() ] Test_idx: 15 Test pred (top): [[4.353227e-05 9.999565e-01]]\n",
      "[iter_attack.py:210 -     iterative_attack() ] Test_idx: 169 Test pred (top): [[0.9986916  0.00130844]]\n",
      "[iter_attack.py:138 -     iterative_attack() ] *** Iter: 65\n"
     ]
    },
    {
     "name": "stdout",
     "output_type": "stream",
     "text": [
      "Total number of parameters: 2048\n"
     ]
    },
    {
     "name": "stderr",
     "output_type": "stream",
     "text": [
      "[iter_attack.py:160 -     iterative_attack() ] Attach_iter 65 perturbation shape: (1, 268203), perturbation: [[ 0.84629846 -0.27620009 -0.21284011 ...  1.28456342  0.37799168\n",
      "  -0.73960638]]\n"
     ]
    },
    {
     "name": "stdout",
     "output_type": "stream",
     "text": [
      "Warning: Desired error not necessarily achieved due to precision loss.\n",
      "         Current function value: -4103.570801\n",
      "         Iterations: 9\n",
      "         Function evaluations: 93\n",
      "         Gradient evaluations: 91\n",
      "         Hessian evaluations: 56\n",
      "Inverse HVP took 2.55093288422 sec\n",
      "Loaded inverse HVP from output/poisoning_900_300_inception_wd-0.001-test-[15, 169].npz\n",
      "Inverse HVP took 0.000541925430298 sec\n",
      "Entering the for loop\n",
      "(1, 268203)\n",
      "Loaded inverse HVP from output/poisoning_900_300_inception_wd-0.001-test-[15, 169].npz\n",
      "Inverse HVP took 0.000584125518799 sec\n",
      "Entering the for loop\n"
     ]
    },
    {
     "name": "stderr",
     "output_type": "stream",
     "text": [
      "[iter_attack.py:160 -     iterative_attack() ] Attach_iter 65 perturbation shape: (1, 268203), perturbation: [[-4.69957668e-05  3.58639954e-05  6.41269216e-05 ...  8.70516378e-05\n",
      "  -8.36680101e-06 -3.37406018e-05]]\n",
      "[iter_attack.py:160 -     iterative_attack() ] Attach_iter 65 perturbation shape: (1, 268203), perturbation: [[-0.10619822 -0.01248965 -0.19151698 ... -0.20905414 -0.14871742\n",
      "   0.06714448]]\n"
     ]
    },
    {
     "name": "stdout",
     "output_type": "stream",
     "text": [
      "(1, 268203)\n",
      "Loaded inverse HVP from output/poisoning_900_300_inception_wd-0.001-test-[15, 169].npz\n",
      "Inverse HVP took 0.000617027282715 sec\n",
      "Entering the for loop\n",
      "(1, 268203)\n",
      "Loaded inverse HVP from output/poisoning_900_300_inception_wd-0.001-test-[15, 169].npz\n",
      "Inverse HVP took 0.000578880310059 sec\n",
      "Entering the for loop\n"
     ]
    },
    {
     "name": "stderr",
     "output_type": "stream",
     "text": [
      "[iter_attack.py:160 -     iterative_attack() ] Attach_iter 65 perturbation shape: (1, 268203), perturbation: [[-0.01299725  0.01123939  0.00630817 ...  0.00080743  0.00646256\n",
      "  -0.00294505]]\n",
      "[iter_attack.py:160 -     iterative_attack() ] Attach_iter 65 perturbation shape: (1, 268203), perturbation: [[ 0.0098561  -0.00628383 -0.02763697 ... -0.02240293 -0.21733321\n",
      "  -0.02553198]]\n"
     ]
    },
    {
     "name": "stdout",
     "output_type": "stream",
     "text": [
      "(1, 268203)\n",
      "Loaded inverse HVP from output/poisoning_900_300_inception_wd-0.001-test-[15, 169].npz\n",
      "Inverse HVP took 0.000578880310059 sec\n",
      "Entering the for loop\n",
      "(1, 268203)\n",
      "Loaded inverse HVP from output/poisoning_900_300_inception_wd-0.001-test-[15, 169].npz\n",
      "Inverse HVP took 0.000577926635742 sec\n",
      "Entering the for loop\n"
     ]
    },
    {
     "name": "stderr",
     "output_type": "stream",
     "text": [
      "[iter_attack.py:160 -     iterative_attack() ] Attach_iter 65 perturbation shape: (1, 268203), perturbation: [[-0.42267689  0.25558823 -0.04658105 ...  0.03410553 -0.10461861\n",
      "   0.12981844]]\n",
      "[iter_attack.py:160 -     iterative_attack() ] Attach_iter 65 perturbation shape: (1, 268203), perturbation: [[ 0.25390476 -0.01146177 -0.14834319 ... -0.01666075 -0.00794581\n",
      "   0.00863881]]\n"
     ]
    },
    {
     "name": "stdout",
     "output_type": "stream",
     "text": [
      "(1, 268203)\n",
      "Loaded inverse HVP from output/poisoning_900_300_inception_wd-0.001-test-[15, 169].npz\n",
      "Inverse HVP took 0.000580072402954 sec\n",
      "Entering the for loop\n",
      "(1, 268203)\n",
      "Loaded inverse HVP from output/poisoning_900_300_inception_wd-0.001-test-[15, 169].npz\n",
      "Inverse HVP took 0.000594854354858 sec\n",
      "Entering the for loop\n"
     ]
    },
    {
     "name": "stderr",
     "output_type": "stream",
     "text": [
      "[iter_attack.py:160 -     iterative_attack() ] Attach_iter 65 perturbation shape: (1, 268203), perturbation: [[-0.09246649 -0.294034    0.24211535 ... -0.19856632 -0.09095098\n",
      "  -0.25043973]]\n",
      "[iter_attack.py:160 -     iterative_attack() ] Attach_iter 65 perturbation shape: (1, 268203), perturbation: [[-0.86497396 -0.19113982  0.04658878 ... -0.0164976   0.06802323\n",
      "  -0.00382794]]\n"
     ]
    },
    {
     "name": "stdout",
     "output_type": "stream",
     "text": [
      "(1, 268203)\n",
      "Loaded inverse HVP from output/poisoning_900_300_inception_wd-0.001-test-[15, 169].npz\n",
      "Inverse HVP took 0.000580072402954 sec\n",
      "Entering the for loop\n",
      "(1, 268203)\n",
      "Loaded inverse HVP from output/poisoning_900_300_inception_wd-0.001-test-[15, 169].npz\n",
      "Inverse HVP took 0.000579118728638 sec\n",
      "Entering the for loop\n"
     ]
    },
    {
     "name": "stderr",
     "output_type": "stream",
     "text": [
      "[iter_attack.py:160 -     iterative_attack() ] Attach_iter 65 perturbation shape: (1, 268203), perturbation: [[ 2.72088349e-02 -9.60649773e-02 -1.26247853e-01 ... -9.66633670e-05\n",
      "   2.94398852e-02 -9.35562328e-03]]\n"
     ]
    },
    {
     "name": "stdout",
     "output_type": "stream",
     "text": [
      "(1, 268203)\n",
      "10 10\n"
     ]
    },
    {
     "name": "stderr",
     "output_type": "stream",
     "text": [
      "[genericNeuralNet.py:328 -     print_model_eval() ] Train loss (w reg) on all data: 0.025188152\n"
     ]
    },
    {
     "name": "stdout",
     "output_type": "stream",
     "text": [
      "Shape (10, 2048)\n",
      "Using normal model\n",
      "LBFGS training took [67] iter.\n",
      "After training with LBFGS: \n"
     ]
    },
    {
     "name": "stderr",
     "output_type": "stream",
     "text": [
      "[genericNeuralNet.py:329 -     print_model_eval() ] Train loss (w/o reg) on all data: 0.012084568\n",
      "[genericNeuralNet.py:331 -     print_model_eval() ] Test loss (w/o reg) on all data: 0.07508753\n",
      "[genericNeuralNet.py:332 -     print_model_eval() ] Train acc on all data:  0.9983333333333333\n",
      "[genericNeuralNet.py:333 -     print_model_eval() ] Test acc on all data:   0.9716666666666667\n",
      "[genericNeuralNet.py:335 -     print_model_eval() ] Norm of the mean of gradients: 0.019440942\n",
      "[genericNeuralNet.py:336 -     print_model_eval() ] Norm of the params: 5.119294\n",
      "[iter_attack.py:204 -     iterative_attack() ] Test_idx: 15 Test pred (full): [[4.037051e-05 9.999596e-01]]\n",
      "[iter_attack.py:204 -     iterative_attack() ] Test_idx: 169 Test pred (full): [[0.9982869  0.00171304]]\n",
      "[iter_attack.py:205 -     iterative_attack() ] ---------------------\n",
      "[iter_attack.py:210 -     iterative_attack() ] Test_idx: 15 Test pred (top): [[4.037051e-05 9.999596e-01]]\n",
      "[iter_attack.py:210 -     iterative_attack() ] Test_idx: 169 Test pred (top): [[0.9982869  0.00171304]]\n",
      "[iter_attack.py:138 -     iterative_attack() ] *** Iter: 66\n"
     ]
    },
    {
     "name": "stdout",
     "output_type": "stream",
     "text": [
      "Total number of parameters: 2048\n"
     ]
    },
    {
     "name": "stderr",
     "output_type": "stream",
     "text": [
      "[iter_attack.py:160 -     iterative_attack() ] Attach_iter 66 perturbation shape: (1, 268203), perturbation: [[-0.17161542 -1.23704934 -1.34005082 ... -1.44230437 -0.69882226\n",
      "   1.08783698]]\n"
     ]
    },
    {
     "name": "stdout",
     "output_type": "stream",
     "text": [
      "Warning: Desired error not necessarily achieved due to precision loss.\n",
      "         Current function value: -4086.111816\n",
      "         Iterations: 8\n",
      "         Function evaluations: 80\n",
      "         Gradient evaluations: 77\n",
      "         Hessian evaluations: 51\n",
      "Inverse HVP took 2.15491914749 sec\n",
      "Loaded inverse HVP from output/poisoning_900_300_inception_wd-0.001-test-[15, 169].npz\n",
      "Inverse HVP took 0.00056004524231 sec\n",
      "Entering the for loop\n",
      "(1, 268203)\n",
      "Loaded inverse HVP from output/poisoning_900_300_inception_wd-0.001-test-[15, 169].npz\n",
      "Inverse HVP took 0.000581979751587 sec\n",
      "Entering the for loop\n"
     ]
    },
    {
     "name": "stderr",
     "output_type": "stream",
     "text": [
      "[iter_attack.py:160 -     iterative_attack() ] Attach_iter 66 perturbation shape: (1, 268203), perturbation: [[ 2.79292253e-05 -6.92688045e-05  7.11509201e-05 ...  1.46261649e-04\n",
      "   6.19729981e-05 -2.77189565e-06]]\n",
      "[iter_attack.py:160 -     iterative_attack() ] Attach_iter 66 perturbation shape: (1, 268203), perturbation: [[ 0.69347823  0.37726247 -0.12794176 ... -0.12665965 -0.01653621\n",
      "   0.06250905]]\n"
     ]
    },
    {
     "name": "stdout",
     "output_type": "stream",
     "text": [
      "(1, 268203)\n",
      "Loaded inverse HVP from output/poisoning_900_300_inception_wd-0.001-test-[15, 169].npz\n",
      "Inverse HVP took 0.000578165054321 sec\n",
      "Entering the for loop\n",
      "(1, 268203)\n",
      "Loaded inverse HVP from output/poisoning_900_300_inception_wd-0.001-test-[15, 169].npz\n",
      "Inverse HVP took 0.000583171844482 sec\n",
      "Entering the for loop\n"
     ]
    },
    {
     "name": "stderr",
     "output_type": "stream",
     "text": [
      "[iter_attack.py:160 -     iterative_attack() ] Attach_iter 66 perturbation shape: (1, 268203), perturbation: [[-0.00423822  0.00873082  0.00497274 ... -0.02842583 -0.01043077\n",
      "   0.02893014]]\n",
      "[iter_attack.py:160 -     iterative_attack() ] Attach_iter 66 perturbation shape: (1, 268203), perturbation: [[-0.01951688  0.00617507  0.01380322 ... -0.14984758  0.27510661\n",
      "   0.05786273]]\n"
     ]
    },
    {
     "name": "stdout",
     "output_type": "stream",
     "text": [
      "(1, 268203)\n",
      "Loaded inverse HVP from output/poisoning_900_300_inception_wd-0.001-test-[15, 169].npz\n",
      "Inverse HVP took 0.00067400932312 sec\n",
      "Entering the for loop\n",
      "(1, 268203)\n",
      "Loaded inverse HVP from output/poisoning_900_300_inception_wd-0.001-test-[15, 169].npz\n",
      "Inverse HVP took 0.000578880310059 sec\n",
      "Entering the for loop\n"
     ]
    },
    {
     "name": "stderr",
     "output_type": "stream",
     "text": [
      "[iter_attack.py:160 -     iterative_attack() ] Attach_iter 66 perturbation shape: (1, 268203), perturbation: [[ 0.17899492 -0.49188259  0.29695165 ...  0.0368752  -0.10194634\n",
      "   0.05478945]]\n",
      "[iter_attack.py:160 -     iterative_attack() ] Attach_iter 66 perturbation shape: (1, 268203), perturbation: [[-0.28018779  0.02478378  0.18136033 ... -0.18032764 -0.00183439\n",
      "   0.09365754]]\n"
     ]
    },
    {
     "name": "stdout",
     "output_type": "stream",
     "text": [
      "(1, 268203)\n",
      "Loaded inverse HVP from output/poisoning_900_300_inception_wd-0.001-test-[15, 169].npz\n",
      "Inverse HVP took 0.000609874725342 sec\n",
      "Entering the for loop\n",
      "(1, 268203)\n",
      "Loaded inverse HVP from output/poisoning_900_300_inception_wd-0.001-test-[15, 169].npz\n",
      "Inverse HVP took 0.000575065612793 sec\n",
      "Entering the for loop\n"
     ]
    },
    {
     "name": "stderr",
     "output_type": "stream",
     "text": [
      "[iter_attack.py:160 -     iterative_attack() ] Attach_iter 66 perturbation shape: (1, 268203), perturbation: [[ 0.23590899 -0.25494069  0.46250993 ... -0.09108792 -0.09748033\n",
      "   0.103838  ]]\n",
      "[iter_attack.py:160 -     iterative_attack() ] Attach_iter 66 perturbation shape: (1, 268203), perturbation: [[ 0.03064019  0.00785393  0.11818179 ... -0.03674816 -0.06922491\n",
      "   0.00629047]]\n"
     ]
    },
    {
     "name": "stdout",
     "output_type": "stream",
     "text": [
      "(1, 268203)\n",
      "Loaded inverse HVP from output/poisoning_900_300_inception_wd-0.001-test-[15, 169].npz\n",
      "Inverse HVP took 0.000572919845581 sec\n",
      "Entering the for loop\n",
      "(1, 268203)\n",
      "Loaded inverse HVP from output/poisoning_900_300_inception_wd-0.001-test-[15, 169].npz\n",
      "Inverse HVP took 0.000579118728638 sec\n",
      "Entering the for loop\n"
     ]
    },
    {
     "name": "stderr",
     "output_type": "stream",
     "text": [
      "[iter_attack.py:160 -     iterative_attack() ] Attach_iter 66 perturbation shape: (1, 268203), perturbation: [[ 0.00686439  0.04831612 -0.01141683 ...  0.0111439  -0.02608815\n",
      "   0.00425363]]\n"
     ]
    },
    {
     "name": "stdout",
     "output_type": "stream",
     "text": [
      "(1, 268203)\n",
      "10 10\n",
      "Shape (10, 2048)\n",
      "Using normal model\n",
      "LBFGS training took [66] iter.\n",
      "After training with LBFGS: \n"
     ]
    },
    {
     "name": "stderr",
     "output_type": "stream",
     "text": [
      "[genericNeuralNet.py:328 -     print_model_eval() ] Train loss (w reg) on all data: 0.025343938\n",
      "[genericNeuralNet.py:329 -     print_model_eval() ] Train loss (w/o reg) on all data: 0.012206621\n",
      "[genericNeuralNet.py:331 -     print_model_eval() ] Test loss (w/o reg) on all data: 0.07766869\n",
      "[genericNeuralNet.py:332 -     print_model_eval() ] Train acc on all data:  0.9983333333333333\n",
      "[genericNeuralNet.py:333 -     print_model_eval() ] Test acc on all data:   0.97\n",
      "[genericNeuralNet.py:335 -     print_model_eval() ] Norm of the mean of gradients: 0.020021506\n",
      "[genericNeuralNet.py:336 -     print_model_eval() ] Norm of the params: 5.12588\n",
      "[iter_attack.py:204 -     iterative_attack() ] Test_idx: 15 Test pred (full): [[3.6234625e-05 9.9996376e-01]]\n",
      "[iter_attack.py:204 -     iterative_attack() ] Test_idx: 169 Test pred (full): [[0.99860436 0.00139563]]\n",
      "[iter_attack.py:205 -     iterative_attack() ] ---------------------\n",
      "[iter_attack.py:210 -     iterative_attack() ] Test_idx: 15 Test pred (top): [[3.6234625e-05 9.9996376e-01]]\n",
      "[iter_attack.py:210 -     iterative_attack() ] Test_idx: 169 Test pred (top): [[0.99860436 0.00139563]]\n",
      "[iter_attack.py:138 -     iterative_attack() ] *** Iter: 67\n"
     ]
    },
    {
     "name": "stdout",
     "output_type": "stream",
     "text": [
      "Total number of parameters: 2048\n"
     ]
    },
    {
     "name": "stderr",
     "output_type": "stream",
     "text": [
      "[iter_attack.py:160 -     iterative_attack() ] Attach_iter 67 perturbation shape: (1, 268203), perturbation: [[ 0.67865425 -0.68444449 -0.68492472 ...  1.68522334  0.43632343\n",
      "  -0.98896575]]\n"
     ]
    },
    {
     "name": "stdout",
     "output_type": "stream",
     "text": [
      "Warning: Desired error not necessarily achieved due to precision loss.\n",
      "         Current function value: -4077.649658\n",
      "         Iterations: 10\n",
      "         Function evaluations: 67\n",
      "         Gradient evaluations: 66\n",
      "         Hessian evaluations: 68\n",
      "Inverse HVP took 2.16401004791 sec\n",
      "Loaded inverse HVP from output/poisoning_900_300_inception_wd-0.001-test-[15, 169].npz\n",
      "Inverse HVP took 0.000541925430298 sec\n",
      "Entering the for loop\n",
      "(1, 268203)\n",
      "Loaded inverse HVP from output/poisoning_900_300_inception_wd-0.001-test-[15, 169].npz\n",
      "Inverse HVP took 0.000581979751587 sec\n",
      "Entering the for loop\n"
     ]
    },
    {
     "name": "stderr",
     "output_type": "stream",
     "text": [
      "[iter_attack.py:160 -     iterative_attack() ] Attach_iter 67 perturbation shape: (1, 268203), perturbation: [[-4.52604145e-05  5.78626132e-05  6.93231850e-05 ...  6.25398825e-05\n",
      "   2.10114904e-05 -2.51638630e-06]]\n",
      "[iter_attack.py:160 -     iterative_attack() ] Attach_iter 67 perturbation shape: (1, 268203), perturbation: [[-0.33317667 -0.1913842   0.07644315 ... -0.23950043 -0.14644025\n",
      "   0.08967561]]\n"
     ]
    },
    {
     "name": "stdout",
     "output_type": "stream",
     "text": [
      "(1, 268203)\n",
      "Loaded inverse HVP from output/poisoning_900_300_inception_wd-0.001-test-[15, 169].npz\n",
      "Inverse HVP took 0.000600814819336 sec\n",
      "Entering the for loop\n",
      "(1, 268203)\n",
      "Loaded inverse HVP from output/poisoning_900_300_inception_wd-0.001-test-[15, 169].npz\n",
      "Inverse HVP took 0.000596046447754 sec\n",
      "Entering the for loop\n"
     ]
    },
    {
     "name": "stderr",
     "output_type": "stream",
     "text": [
      "[iter_attack.py:160 -     iterative_attack() ] Attach_iter 67 perturbation shape: (1, 268203), perturbation: [[-0.0187934   0.01566072  0.01790053 ...  0.01803726  0.0056118\n",
      "  -0.01571864]]\n",
      "[iter_attack.py:160 -     iterative_attack() ] Attach_iter 67 perturbation shape: (1, 268203), perturbation: [[ 0.0090449   0.00398513 -0.03616923 ...  0.01858692 -0.0183838\n",
      "   0.00403327]]\n"
     ]
    },
    {
     "name": "stdout",
     "output_type": "stream",
     "text": [
      "(1, 268203)\n",
      "Loaded inverse HVP from output/poisoning_900_300_inception_wd-0.001-test-[15, 169].npz\n",
      "Inverse HVP took 0.000597953796387 sec\n",
      "Entering the for loop\n",
      "(1, 268203)\n",
      "Loaded inverse HVP from output/poisoning_900_300_inception_wd-0.001-test-[15, 169].npz\n",
      "Inverse HVP took 0.00058388710022 sec\n",
      "Entering the for loop\n"
     ]
    },
    {
     "name": "stderr",
     "output_type": "stream",
     "text": [
      "[iter_attack.py:160 -     iterative_attack() ] Attach_iter 67 perturbation shape: (1, 268203), perturbation: [[-0.42642489  0.23316704 -0.0070312  ...  0.06420674 -0.07281131\n",
      "   0.09082042]]\n",
      "[iter_attack.py:160 -     iterative_attack() ] Attach_iter 67 perturbation shape: (1, 268203), perturbation: [[ 0.12348989  0.0362493  -0.07756075 ...  0.01768694  0.03167049\n",
      "  -0.01333103]]\n"
     ]
    },
    {
     "name": "stdout",
     "output_type": "stream",
     "text": [
      "(1, 268203)\n",
      "Loaded inverse HVP from output/poisoning_900_300_inception_wd-0.001-test-[15, 169].npz\n",
      "Inverse HVP took 0.000580072402954 sec\n",
      "Entering the for loop\n",
      "(1, 268203)\n",
      "Loaded inverse HVP from output/poisoning_900_300_inception_wd-0.001-test-[15, 169].npz\n",
      "Inverse HVP took 0.000597953796387 sec\n",
      "Entering the for loop\n"
     ]
    },
    {
     "name": "stderr",
     "output_type": "stream",
     "text": [
      "[iter_attack.py:160 -     iterative_attack() ] Attach_iter 67 perturbation shape: (1, 268203), perturbation: [[-0.15748252 -0.27947968  0.16507953 ... -0.83982706  0.46011657\n",
      "  -0.2894468 ]]\n",
      "[iter_attack.py:160 -     iterative_attack() ] Attach_iter 67 perturbation shape: (1, 268203), perturbation: [[-1.22551239e+00 -2.16344714e-01  1.75761938e-01 ...  1.07803382e-03\n",
      "   3.96481641e-02 -4.24167886e-03]]\n"
     ]
    },
    {
     "name": "stdout",
     "output_type": "stream",
     "text": [
      "(1, 268203)\n",
      "Loaded inverse HVP from output/poisoning_900_300_inception_wd-0.001-test-[15, 169].npz\n",
      "Inverse HVP took 0.000577926635742 sec\n",
      "Entering the for loop\n",
      "(1, 268203)\n",
      "Loaded inverse HVP from output/poisoning_900_300_inception_wd-0.001-test-[15, 169].npz\n",
      "Inverse HVP took 0.000576019287109 sec\n",
      "Entering the for loop\n"
     ]
    },
    {
     "name": "stderr",
     "output_type": "stream",
     "text": [
      "[iter_attack.py:160 -     iterative_attack() ] Attach_iter 67 perturbation shape: (1, 268203), perturbation: [[-0.03157555 -0.08507262 -0.07171405 ...  0.00713451  0.02737084\n",
      "  -0.01137052]]\n"
     ]
    },
    {
     "name": "stdout",
     "output_type": "stream",
     "text": [
      "(1, 268203)\n",
      "10 10\n",
      "Shape (10, 2048)\n",
      "Using normal model\n",
      "LBFGS training took [68] iter.\n",
      "After training with LBFGS: \n"
     ]
    },
    {
     "name": "stderr",
     "output_type": "stream",
     "text": [
      "[genericNeuralNet.py:328 -     print_model_eval() ] Train loss (w reg) on all data: 0.025434047\n",
      "[genericNeuralNet.py:329 -     print_model_eval() ] Train loss (w/o reg) on all data: 0.012265319\n",
      "[genericNeuralNet.py:331 -     print_model_eval() ] Test loss (w/o reg) on all data: 0.075934045\n",
      "[genericNeuralNet.py:332 -     print_model_eval() ] Train acc on all data:  0.9983333333333333\n",
      "[genericNeuralNet.py:333 -     print_model_eval() ] Test acc on all data:   0.9716666666666667\n",
      "[genericNeuralNet.py:335 -     print_model_eval() ] Norm of the mean of gradients: 0.019681402\n",
      "[genericNeuralNet.py:336 -     print_model_eval() ] Norm of the params: 5.1320033\n",
      "[iter_attack.py:204 -     iterative_attack() ] Test_idx: 15 Test pred (full): [[3.3504642e-05 9.9996650e-01]]\n",
      "[iter_attack.py:204 -     iterative_attack() ] Test_idx: 169 Test pred (full): [[0.99831307 0.00168696]]\n",
      "[iter_attack.py:205 -     iterative_attack() ] ---------------------\n",
      "[iter_attack.py:210 -     iterative_attack() ] Test_idx: 15 Test pred (top): [[3.3504642e-05 9.9996650e-01]]\n",
      "[iter_attack.py:210 -     iterative_attack() ] Test_idx: 169 Test pred (top): [[0.99831307 0.00168696]]\n",
      "[iter_attack.py:138 -     iterative_attack() ] *** Iter: 68\n"
     ]
    },
    {
     "name": "stdout",
     "output_type": "stream",
     "text": [
      "Total number of parameters: 2048\n"
     ]
    },
    {
     "name": "stderr",
     "output_type": "stream",
     "text": [
      "[iter_attack.py:160 -     iterative_attack() ] Attach_iter 68 perturbation shape: (1, 268203), perturbation: [[-0.01935583 -1.08174562 -0.98239797 ... -0.95500153 -0.79966497\n",
      "   1.04006505]]\n"
     ]
    },
    {
     "name": "stdout",
     "output_type": "stream",
     "text": [
      "Warning: Desired error not necessarily achieved due to precision loss.\n",
      "         Current function value: -4069.615967\n",
      "         Iterations: 10\n",
      "         Function evaluations: 82\n",
      "         Gradient evaluations: 81\n",
      "         Hessian evaluations: 65\n",
      "Inverse HVP took 2.44090414047 sec\n",
      "Loaded inverse HVP from output/poisoning_900_300_inception_wd-0.001-test-[15, 169].npz\n",
      "Inverse HVP took 0.000540971755981 sec\n",
      "Entering the for loop\n",
      "(1, 268203)\n",
      "Loaded inverse HVP from output/poisoning_900_300_inception_wd-0.001-test-[15, 169].npz\n",
      "Inverse HVP took 0.000600099563599 sec\n",
      "Entering the for loop\n"
     ]
    },
    {
     "name": "stderr",
     "output_type": "stream",
     "text": [
      "[iter_attack.py:160 -     iterative_attack() ] Attach_iter 68 perturbation shape: (1, 268203), perturbation: [[-5.39191933e-05 -1.98047564e-04  9.34117543e-06 ...  2.64586823e-04\n",
      "  -5.34043647e-05  8.04782321e-05]]\n",
      "[iter_attack.py:160 -     iterative_attack() ] Attach_iter 68 perturbation shape: (1, 268203), perturbation: [[ 0.58884323  0.31586146 -0.26900369 ... -0.1761405  -0.10720939\n",
      "   0.09449217]]\n"
     ]
    },
    {
     "name": "stdout",
     "output_type": "stream",
     "text": [
      "(1, 268203)\n",
      "Loaded inverse HVP from output/poisoning_900_300_inception_wd-0.001-test-[15, 169].npz\n",
      "Inverse HVP took 0.000663995742798 sec\n",
      "Entering the for loop\n",
      "(1, 268203)\n",
      "Loaded inverse HVP from output/poisoning_900_300_inception_wd-0.001-test-[15, 169].npz\n",
      "Inverse HVP took 0.000602006912231 sec\n",
      "Entering the for loop\n"
     ]
    },
    {
     "name": "stderr",
     "output_type": "stream",
     "text": [
      "[iter_attack.py:160 -     iterative_attack() ] Attach_iter 68 perturbation shape: (1, 268203), perturbation: [[-0.00732487  0.00733912  0.01211712 ... -0.03233667 -0.01692089\n",
      "   0.03723339]]\n",
      "[iter_attack.py:160 -     iterative_attack() ] Attach_iter 68 perturbation shape: (1, 268203), perturbation: [[-0.02048417  0.00514857  0.02235396 ... -0.12551552  0.08947054\n",
      "   0.03011288]]\n"
     ]
    },
    {
     "name": "stdout",
     "output_type": "stream",
     "text": [
      "(1, 268203)\n",
      "Loaded inverse HVP from output/poisoning_900_300_inception_wd-0.001-test-[15, 169].npz\n",
      "Inverse HVP took 0.000580072402954 sec\n",
      "Entering the for loop\n",
      "(1, 268203)\n",
      "Loaded inverse HVP from output/poisoning_900_300_inception_wd-0.001-test-[15, 169].npz\n",
      "Inverse HVP took 0.000595808029175 sec\n",
      "Entering the for loop\n"
     ]
    },
    {
     "name": "stderr",
     "output_type": "stream",
     "text": [
      "[iter_attack.py:160 -     iterative_attack() ] Attach_iter 68 perturbation shape: (1, 268203), perturbation: [[ 0.18942861 -0.49015641  0.29555568 ... -0.00300165 -0.0866186\n",
      "  -0.01562828]]\n",
      "[iter_attack.py:160 -     iterative_attack() ] Attach_iter 68 perturbation shape: (1, 268203), perturbation: [[-0.18008833  0.00052834  0.13874099 ... -0.15917265 -0.02008482\n",
      "   0.0862231 ]]\n"
     ]
    },
    {
     "name": "stdout",
     "output_type": "stream",
     "text": [
      "(1, 268203)\n",
      "Loaded inverse HVP from output/poisoning_900_300_inception_wd-0.001-test-[15, 169].npz\n",
      "Inverse HVP took 0.000576972961426 sec\n",
      "Entering the for loop\n",
      "(1, 268203)\n",
      "Loaded inverse HVP from output/poisoning_900_300_inception_wd-0.001-test-[15, 169].npz\n",
      "Inverse HVP took 0.000600099563599 sec\n",
      "Entering the for loop\n"
     ]
    },
    {
     "name": "stderr",
     "output_type": "stream",
     "text": [
      "[iter_attack.py:160 -     iterative_attack() ] Attach_iter 68 perturbation shape: (1, 268203), perturbation: [[ 0.25682348 -0.20799956  0.47894731 ...  0.72438067 -0.55227077\n",
      "   0.03514349]]\n",
      "[iter_attack.py:160 -     iterative_attack() ] Attach_iter 68 perturbation shape: (1, 268203), perturbation: [[-0.11316985  0.05481431  0.20564076 ... -0.07186537 -0.04764199\n",
      "   0.03912129]]\n"
     ]
    },
    {
     "name": "stdout",
     "output_type": "stream",
     "text": [
      "(1, 268203)\n",
      "Loaded inverse HVP from output/poisoning_900_300_inception_wd-0.001-test-[15, 169].npz\n",
      "Inverse HVP took 0.000585079193115 sec\n",
      "Entering the for loop\n",
      "(1, 268203)\n",
      "Loaded inverse HVP from output/poisoning_900_300_inception_wd-0.001-test-[15, 169].npz\n",
      "Inverse HVP took 0.000586032867432 sec\n",
      "Entering the for loop\n"
     ]
    },
    {
     "name": "stderr",
     "output_type": "stream",
     "text": [
      "[iter_attack.py:160 -     iterative_attack() ] Attach_iter 68 perturbation shape: (1, 268203), perturbation: [[-0.01428428  0.00651884 -0.01619214 ...  0.00950166 -0.0350121\n",
      "   0.01241777]]\n"
     ]
    },
    {
     "name": "stdout",
     "output_type": "stream",
     "text": [
      "(1, 268203)\n",
      "10 10\n"
     ]
    },
    {
     "name": "stderr",
     "output_type": "stream",
     "text": [
      "[genericNeuralNet.py:328 -     print_model_eval() ] Train loss (w reg) on all data: 0.025608301\n"
     ]
    },
    {
     "name": "stdout",
     "output_type": "stream",
     "text": [
      "Shape (10, 2048)\n",
      "Using normal model\n",
      "LBFGS training took [58] iter.\n",
      "After training with LBFGS: \n"
     ]
    },
    {
     "name": "stderr",
     "output_type": "stream",
     "text": [
      "[genericNeuralNet.py:329 -     print_model_eval() ] Train loss (w/o reg) on all data: 0.0123976385\n",
      "[genericNeuralNet.py:331 -     print_model_eval() ] Test loss (w/o reg) on all data: 0.07781591\n",
      "[genericNeuralNet.py:332 -     print_model_eval() ] Train acc on all data:  0.9983333333333333\n",
      "[genericNeuralNet.py:333 -     print_model_eval() ] Test acc on all data:   0.9716666666666667\n",
      "[genericNeuralNet.py:335 -     print_model_eval() ] Norm of the mean of gradients: 0.020371921\n",
      "[genericNeuralNet.py:336 -     print_model_eval() ] Norm of the params: 5.140168\n",
      "[iter_attack.py:204 -     iterative_attack() ] Test_idx: 15 Test pred (full): [[3.0129719e-05 9.9996984e-01]]\n",
      "[iter_attack.py:204 -     iterative_attack() ] Test_idx: 169 Test pred (full): [[0.9985514  0.00144859]]\n",
      "[iter_attack.py:205 -     iterative_attack() ] ---------------------\n",
      "[iter_attack.py:210 -     iterative_attack() ] Test_idx: 15 Test pred (top): [[3.0129719e-05 9.9996984e-01]]\n",
      "[iter_attack.py:210 -     iterative_attack() ] Test_idx: 169 Test pred (top): [[0.9985514  0.00144859]]\n",
      "[iter_attack.py:138 -     iterative_attack() ] *** Iter: 69\n"
     ]
    },
    {
     "name": "stdout",
     "output_type": "stream",
     "text": [
      "Total number of parameters: 2048\n"
     ]
    },
    {
     "name": "stderr",
     "output_type": "stream",
     "text": [
      "[iter_attack.py:160 -     iterative_attack() ] Attach_iter 69 perturbation shape: (1, 268203), perturbation: [[ 0.68986493 -0.56207561 -0.62463659 ...  1.25703228  0.63187754\n",
      "  -1.19228458]]\n"
     ]
    },
    {
     "name": "stdout",
     "output_type": "stream",
     "text": [
      "Warning: Desired error not necessarily achieved due to precision loss.\n",
      "         Current function value: -4055.226562\n",
      "         Iterations: 9\n",
      "         Function evaluations: 122\n",
      "         Gradient evaluations: 118\n",
      "         Hessian evaluations: 64\n",
      "Inverse HVP took 3.2074868679 sec\n",
      "Loaded inverse HVP from output/poisoning_900_300_inception_wd-0.001-test-[15, 169].npz\n",
      "Inverse HVP took 0.000535011291504 sec\n",
      "Entering the for loop\n",
      "(1, 268203)\n",
      "Loaded inverse HVP from output/poisoning_900_300_inception_wd-0.001-test-[15, 169].npz\n",
      "Inverse HVP took 0.000591039657593 sec\n",
      "Entering the for loop\n"
     ]
    },
    {
     "name": "stderr",
     "output_type": "stream",
     "text": [
      "[iter_attack.py:160 -     iterative_attack() ] Attach_iter 69 perturbation shape: (1, 268203), perturbation: [[-5.30976286e-05  7.08479856e-05  7.13678019e-05 ...  7.18562806e-05\n",
      "  -3.30190815e-05  8.66333721e-07]]\n",
      "[iter_attack.py:160 -     iterative_attack() ] Attach_iter 69 perturbation shape: (1, 268203), perturbation: [[-0.35504344 -0.23479542  0.24084842 ... -0.17194112 -0.03693264\n",
      "   0.04175813]]\n"
     ]
    },
    {
     "name": "stdout",
     "output_type": "stream",
     "text": [
      "(1, 268203)\n",
      "Loaded inverse HVP from output/poisoning_900_300_inception_wd-0.001-test-[15, 169].npz\n",
      "Inverse HVP took 0.000587940216064 sec\n",
      "Entering the for loop\n",
      "(1, 268203)\n",
      "Loaded inverse HVP from output/poisoning_900_300_inception_wd-0.001-test-[15, 169].npz\n",
      "Inverse HVP took 0.000581026077271 sec\n",
      "Entering the for loop\n"
     ]
    },
    {
     "name": "stderr",
     "output_type": "stream",
     "text": [
      "[iter_attack.py:160 -     iterative_attack() ] Attach_iter 69 perturbation shape: (1, 268203), perturbation: [[-0.02593183  0.02273108  0.01991408 ...  0.01752781  0.01165293\n",
      "  -0.01504491]]\n",
      "[iter_attack.py:160 -     iterative_attack() ] Attach_iter 69 perturbation shape: (1, 268203), perturbation: [[ 0.00392021 -0.01387814 -0.02979308 ...  0.08763298  0.1016807\n",
      "  -0.02768877]]\n"
     ]
    },
    {
     "name": "stdout",
     "output_type": "stream",
     "text": [
      "(1, 268203)\n",
      "Loaded inverse HVP from output/poisoning_900_300_inception_wd-0.001-test-[15, 169].npz\n",
      "Inverse HVP took 0.000582933425903 sec\n",
      "Entering the for loop\n",
      "(1, 268203)\n",
      "Loaded inverse HVP from output/poisoning_900_300_inception_wd-0.001-test-[15, 169].npz\n",
      "Inverse HVP took 0.000627040863037 sec\n",
      "Entering the for loop\n"
     ]
    },
    {
     "name": "stderr",
     "output_type": "stream",
     "text": [
      "[iter_attack.py:160 -     iterative_attack() ] Attach_iter 69 perturbation shape: (1, 268203), perturbation: [[-0.43717605  0.19031927  0.00062688 ...  0.07522984 -0.09027155\n",
      "   0.12637962]]\n",
      "[iter_attack.py:160 -     iterative_attack() ] Attach_iter 69 perturbation shape: (1, 268203), perturbation: [[ 0.10151197  0.02262236 -0.07705393 ...  0.06152438  0.03348284\n",
      "  -0.03033059]]\n"
     ]
    },
    {
     "name": "stdout",
     "output_type": "stream",
     "text": [
      "(1, 268203)\n",
      "Loaded inverse HVP from output/poisoning_900_300_inception_wd-0.001-test-[15, 169].npz\n",
      "Inverse HVP took 0.000641107559204 sec\n",
      "Entering the for loop\n",
      "(1, 268203)\n",
      "Loaded inverse HVP from output/poisoning_900_300_inception_wd-0.001-test-[15, 169].npz\n",
      "Inverse HVP took 0.000596046447754 sec\n",
      "Entering the for loop\n"
     ]
    },
    {
     "name": "stderr",
     "output_type": "stream",
     "text": [
      "[iter_attack.py:160 -     iterative_attack() ] Attach_iter 69 perturbation shape: (1, 268203), perturbation: [[-0.09116654 -0.23098302  0.16652939 ... -1.56322908  0.63100839\n",
      "  -0.0148643 ]]\n",
      "[iter_attack.py:160 -     iterative_attack() ] Attach_iter 69 perturbation shape: (1, 268203), perturbation: [[-1.56585956 -0.21587312  0.24896365 ...  0.01163209 -0.0463732\n",
      "  -0.03273205]]\n"
     ]
    },
    {
     "name": "stdout",
     "output_type": "stream",
     "text": [
      "(1, 268203)\n",
      "Loaded inverse HVP from output/poisoning_900_300_inception_wd-0.001-test-[15, 169].npz\n",
      "Inverse HVP took 0.000630855560303 sec\n",
      "Entering the for loop\n",
      "(1, 268203)\n",
      "Loaded inverse HVP from output/poisoning_900_300_inception_wd-0.001-test-[15, 169].npz\n",
      "Inverse HVP took 0.000575065612793 sec\n",
      "Entering the for loop\n"
     ]
    },
    {
     "name": "stderr",
     "output_type": "stream",
     "text": [
      "[iter_attack.py:160 -     iterative_attack() ] Attach_iter 69 perturbation shape: (1, 268203), perturbation: [[-0.05081487 -0.09859356 -0.08673082 ...  0.00303574  0.04989639\n",
      "  -0.02085619]]\n"
     ]
    },
    {
     "name": "stdout",
     "output_type": "stream",
     "text": [
      "(1, 268203)\n",
      "10 10\n",
      "Shape (10, 2048)\n",
      "Using normal model\n",
      "LBFGS training took [80] iter.\n",
      "After training with LBFGS: \n"
     ]
    },
    {
     "name": "stderr",
     "output_type": "stream",
     "text": [
      "[genericNeuralNet.py:328 -     print_model_eval() ] Train loss (w reg) on all data: 0.025706336\n",
      "[genericNeuralNet.py:329 -     print_model_eval() ] Train loss (w/o reg) on all data: 0.012469644\n",
      "[genericNeuralNet.py:331 -     print_model_eval() ] Test loss (w/o reg) on all data: 0.076753125\n",
      "[genericNeuralNet.py:332 -     print_model_eval() ] Train acc on all data:  0.9983333333333333\n",
      "[genericNeuralNet.py:333 -     print_model_eval() ] Test acc on all data:   0.9716666666666667\n",
      "[genericNeuralNet.py:335 -     print_model_eval() ] Norm of the mean of gradients: 0.019956296\n",
      "[genericNeuralNet.py:336 -     print_model_eval() ] Norm of the params: 5.1452284\n",
      "[iter_attack.py:204 -     iterative_attack() ] Test_idx: 15 Test pred (full): [[2.7623879e-05 9.9997234e-01]]\n",
      "[iter_attack.py:204 -     iterative_attack() ] Test_idx: 169 Test pred (full): [[0.99831307 0.00168699]]\n",
      "[iter_attack.py:205 -     iterative_attack() ] ---------------------\n",
      "[iter_attack.py:210 -     iterative_attack() ] Test_idx: 15 Test pred (top): [[2.7623879e-05 9.9997234e-01]]\n",
      "[iter_attack.py:210 -     iterative_attack() ] Test_idx: 169 Test pred (top): [[0.99831307 0.00168699]]\n",
      "[iter_attack.py:138 -     iterative_attack() ] *** Iter: 70\n"
     ]
    },
    {
     "name": "stdout",
     "output_type": "stream",
     "text": [
      "Total number of parameters: 2048\n"
     ]
    },
    {
     "name": "stderr",
     "output_type": "stream",
     "text": [
      "[iter_attack.py:160 -     iterative_attack() ] Attach_iter 70 perturbation shape: (1, 268203), perturbation: [[-0.10590169 -0.97343951 -1.09093618 ... -0.77436262 -0.70716476\n",
      "   0.99896467]]\n"
     ]
    },
    {
     "name": "stdout",
     "output_type": "stream",
     "text": [
      "Warning: Desired error not necessarily achieved due to precision loss.\n",
      "         Current function value: -4046.400879\n",
      "         Iterations: 10\n",
      "         Function evaluations: 93\n",
      "         Gradient evaluations: 91\n",
      "         Hessian evaluations: 75\n",
      "Inverse HVP took 2.66961407661 sec\n",
      "Loaded inverse HVP from output/poisoning_900_300_inception_wd-0.001-test-[15, 169].npz\n",
      "Inverse HVP took 0.000559091567993 sec\n",
      "Entering the for loop\n",
      "(1, 268203)\n",
      "Loaded inverse HVP from output/poisoning_900_300_inception_wd-0.001-test-[15, 169].npz\n",
      "Inverse HVP took 0.000653028488159 sec\n",
      "Entering the for loop\n"
     ]
    },
    {
     "name": "stderr",
     "output_type": "stream",
     "text": [
      "[iter_attack.py:160 -     iterative_attack() ] Attach_iter 70 perturbation shape: (1, 268203), perturbation: [[-6.55876938e-05 -2.07518489e-04 -6.62626044e-05 ...  3.44849599e-04\n",
      "  -4.84855300e-05  1.59415271e-04]]\n",
      "[iter_attack.py:160 -     iterative_attack() ] Attach_iter 70 perturbation shape: (1, 268203), perturbation: [[ 0.47804719  0.30587846 -0.1441282  ... -0.11357661 -0.063674\n",
      "   0.04898043]]\n"
     ]
    },
    {
     "name": "stdout",
     "output_type": "stream",
     "text": [
      "(1, 268203)\n",
      "Loaded inverse HVP from output/poisoning_900_300_inception_wd-0.001-test-[15, 169].npz\n",
      "Inverse HVP took 0.000634908676147 sec\n",
      "Entering the for loop\n",
      "(1, 268203)\n",
      "Loaded inverse HVP from output/poisoning_900_300_inception_wd-0.001-test-[15, 169].npz\n",
      "Inverse HVP took 0.000581026077271 sec\n",
      "Entering the for loop\n"
     ]
    },
    {
     "name": "stderr",
     "output_type": "stream",
     "text": [
      "[iter_attack.py:160 -     iterative_attack() ] Attach_iter 70 perturbation shape: (1, 268203), perturbation: [[-0.02026748  0.00794691  0.01407518 ... -0.03294831 -0.01279491\n",
      "   0.03283713]]\n",
      "[iter_attack.py:160 -     iterative_attack() ] Attach_iter 70 perturbation shape: (1, 268203), perturbation: [[-0.01747331  0.00682338  0.02359091 ... -0.15630274  0.02831189\n",
      "   0.07327227]]\n"
     ]
    },
    {
     "name": "stdout",
     "output_type": "stream",
     "text": [
      "(1, 268203)\n",
      "Loaded inverse HVP from output/poisoning_900_300_inception_wd-0.001-test-[15, 169].npz\n",
      "Inverse HVP took 0.000627040863037 sec\n",
      "Entering the for loop\n",
      "(1, 268203)\n",
      "Loaded inverse HVP from output/poisoning_900_300_inception_wd-0.001-test-[15, 169].npz\n",
      "Inverse HVP took 0.000585794448853 sec\n",
      "Entering the for loop\n"
     ]
    },
    {
     "name": "stderr",
     "output_type": "stream",
     "text": [
      "[iter_attack.py:160 -     iterative_attack() ] Attach_iter 70 perturbation shape: (1, 268203), perturbation: [[ 0.12846856 -0.42226994  0.32320154 ... -0.00215054 -0.13798302\n",
      "   0.05400914]]\n",
      "[iter_attack.py:160 -     iterative_attack() ] Attach_iter 70 perturbation shape: (1, 268203), perturbation: [[-0.25744152  0.01988826  0.16201022 ... -0.12230571  0.0209996\n",
      "   0.06051763]]\n"
     ]
    },
    {
     "name": "stdout",
     "output_type": "stream",
     "text": [
      "(1, 268203)\n",
      "Loaded inverse HVP from output/poisoning_900_300_inception_wd-0.001-test-[15, 169].npz\n",
      "Inverse HVP took 0.000588178634644 sec\n",
      "Entering the for loop\n",
      "(1, 268203)\n",
      "Loaded inverse HVP from output/poisoning_900_300_inception_wd-0.001-test-[15, 169].npz\n",
      "Inverse HVP took 0.000586032867432 sec\n",
      "Entering the for loop\n"
     ]
    },
    {
     "name": "stderr",
     "output_type": "stream",
     "text": [
      "[iter_attack.py:160 -     iterative_attack() ] Attach_iter 70 perturbation shape: (1, 268203), perturbation: [[ 0.29580846 -0.26570171  0.5398103  ...  0.37710157 -0.37917158\n",
      "  -0.02870402]]\n",
      "[iter_attack.py:160 -     iterative_attack() ] Attach_iter 70 perturbation shape: (1, 268203), perturbation: [[ 0.76321554  0.17041454 -0.12827587 ... -0.06640865 -0.03634451\n",
      "   0.05117939]]\n"
     ]
    },
    {
     "name": "stdout",
     "output_type": "stream",
     "text": [
      "(1, 268203)\n",
      "Loaded inverse HVP from output/poisoning_900_300_inception_wd-0.001-test-[15, 169].npz\n",
      "Inverse HVP took 0.000578880310059 sec\n",
      "Entering the for loop\n",
      "(1, 268203)\n",
      "Loaded inverse HVP from output/poisoning_900_300_inception_wd-0.001-test-[15, 169].npz\n",
      "Inverse HVP took 0.000626802444458 sec\n",
      "Entering the for loop\n"
     ]
    },
    {
     "name": "stderr",
     "output_type": "stream",
     "text": [
      "[iter_attack.py:160 -     iterative_attack() ] Attach_iter 70 perturbation shape: (1, 268203), perturbation: [[-0.02724678 -0.04676583 -0.06417003 ...  0.01854911 -0.04470633\n",
      "   0.0182462 ]]\n"
     ]
    },
    {
     "name": "stdout",
     "output_type": "stream",
     "text": [
      "(1, 268203)\n",
      "10 10\n",
      "Shape (10, 2048)\n",
      "Using normal model\n",
      "LBFGS training took [58] iter.\n",
      "After training with LBFGS: \n"
     ]
    },
    {
     "name": "stderr",
     "output_type": "stream",
     "text": [
      "[genericNeuralNet.py:328 -     print_model_eval() ] Train loss (w reg) on all data: 0.025851864\n",
      "[genericNeuralNet.py:329 -     print_model_eval() ] Train loss (w/o reg) on all data: 0.012572992\n",
      "[genericNeuralNet.py:331 -     print_model_eval() ] Test loss (w/o reg) on all data: 0.07788525\n",
      "[genericNeuralNet.py:332 -     print_model_eval() ] Train acc on all data:  0.9983333333333333\n",
      "[genericNeuralNet.py:333 -     print_model_eval() ] Test acc on all data:   0.9716666666666667\n",
      "[genericNeuralNet.py:335 -     print_model_eval() ] Norm of the mean of gradients: 0.020717386\n",
      "[genericNeuralNet.py:336 -     print_model_eval() ] Norm of the params: 5.1534204\n",
      "[iter_attack.py:204 -     iterative_attack() ] Test_idx: 15 Test pred (full): [[2.5174833e-05 9.9997485e-01]]\n",
      "[iter_attack.py:204 -     iterative_attack() ] Test_idx: 169 Test pred (full): [[0.9985281  0.00147187]]\n",
      "[iter_attack.py:205 -     iterative_attack() ] ---------------------\n",
      "[iter_attack.py:210 -     iterative_attack() ] Test_idx: 15 Test pred (top): [[2.5174833e-05 9.9997485e-01]]\n",
      "[iter_attack.py:210 -     iterative_attack() ] Test_idx: 169 Test pred (top): [[0.9985281  0.00147187]]\n",
      "[iter_attack.py:138 -     iterative_attack() ] *** Iter: 71\n"
     ]
    },
    {
     "name": "stdout",
     "output_type": "stream",
     "text": [
      "Total number of parameters: 2048\n"
     ]
    },
    {
     "name": "stderr",
     "output_type": "stream",
     "text": [
      "[iter_attack.py:160 -     iterative_attack() ] Attach_iter 71 perturbation shape: (1, 268203), perturbation: [[ 0.71511644 -0.29754299 -0.14313839 ...  0.90866923  0.53303862\n",
      "  -1.05145717]]\n"
     ]
    },
    {
     "name": "stdout",
     "output_type": "stream",
     "text": [
      "Warning: Desired error not necessarily achieved due to precision loss.\n",
      "         Current function value: -4036.355225\n",
      "         Iterations: 8\n",
      "         Function evaluations: 61\n",
      "         Gradient evaluations: 60\n",
      "         Hessian evaluations: 55\n",
      "Inverse HVP took 1.92374992371 sec\n",
      "Loaded inverse HVP from output/poisoning_900_300_inception_wd-0.001-test-[15, 169].npz\n",
      "Inverse HVP took 0.000610113143921 sec\n",
      "Entering the for loop\n",
      "(1, 268203)\n",
      "Loaded inverse HVP from output/poisoning_900_300_inception_wd-0.001-test-[15, 169].npz\n",
      "Inverse HVP took 0.000596046447754 sec\n",
      "Entering the for loop\n"
     ]
    },
    {
     "name": "stderr",
     "output_type": "stream",
     "text": [
      "[iter_attack.py:160 -     iterative_attack() ] Attach_iter 71 perturbation shape: (1, 268203), perturbation: [[-9.06552013e-05  4.43848985e-05  1.74205379e-05 ...  1.68514034e-05\n",
      "  -2.84511480e-05  2.70292603e-05]]\n",
      "[iter_attack.py:160 -     iterative_attack() ] Attach_iter 71 perturbation shape: (1, 268203), perturbation: [[-0.08394264 -0.11151225  0.14561443 ... -0.22197482 -0.0996483\n",
      "   0.08105297]]\n"
     ]
    },
    {
     "name": "stdout",
     "output_type": "stream",
     "text": [
      "(1, 268203)\n",
      "Loaded inverse HVP from output/poisoning_900_300_inception_wd-0.001-test-[15, 169].npz\n",
      "Inverse HVP took 0.000587940216064 sec\n",
      "Entering the for loop\n",
      "(1, 268203)\n",
      "Loaded inverse HVP from output/poisoning_900_300_inception_wd-0.001-test-[15, 169].npz\n",
      "Inverse HVP took 0.000684022903442 sec\n",
      "Entering the for loop\n"
     ]
    },
    {
     "name": "stderr",
     "output_type": "stream",
     "text": [
      "[iter_attack.py:160 -     iterative_attack() ] Attach_iter 71 perturbation shape: (1, 268203), perturbation: [[-0.01641564  0.03096716  0.01672694 ...  0.01116268  0.01831264\n",
      "  -0.01118722]]\n",
      "[iter_attack.py:160 -     iterative_attack() ] Attach_iter 71 perturbation shape: (1, 268203), perturbation: [[-0.0025008  -0.00179955 -0.04486866 ...  0.08738447  0.09786404\n",
      "   0.00683385]]\n"
     ]
    },
    {
     "name": "stdout",
     "output_type": "stream",
     "text": [
      "(1, 268203)\n",
      "Loaded inverse HVP from output/poisoning_900_300_inception_wd-0.001-test-[15, 169].npz\n",
      "Inverse HVP took 0.000586032867432 sec\n",
      "Entering the for loop\n",
      "(1, 268203)\n",
      "Loaded inverse HVP from output/poisoning_900_300_inception_wd-0.001-test-[15, 169].npz\n",
      "Inverse HVP took 0.000593900680542 sec\n",
      "Entering the for loop\n"
     ]
    },
    {
     "name": "stderr",
     "output_type": "stream",
     "text": [
      "[iter_attack.py:160 -     iterative_attack() ] Attach_iter 71 perturbation shape: (1, 268203), perturbation: [[-0.35083285  0.07468803  0.01876989 ...  0.0809354  -0.05283462\n",
      "   0.0869433 ]]\n",
      "[iter_attack.py:160 -     iterative_attack() ] Attach_iter 71 perturbation shape: (1, 268203), perturbation: [[ 0.20183219  0.00074501 -0.13074109 ...  0.00763056  0.04274482\n",
      "  -0.02075312]]\n"
     ]
    },
    {
     "name": "stdout",
     "output_type": "stream",
     "text": [
      "(1, 268203)\n",
      "Loaded inverse HVP from output/poisoning_900_300_inception_wd-0.001-test-[15, 169].npz\n",
      "Inverse HVP took 0.000585079193115 sec\n",
      "Entering the for loop\n",
      "(1, 268203)\n",
      "Loaded inverse HVP from output/poisoning_900_300_inception_wd-0.001-test-[15, 169].npz\n",
      "Inverse HVP took 0.00062108039856 sec\n",
      "Entering the for loop\n"
     ]
    },
    {
     "name": "stderr",
     "output_type": "stream",
     "text": [
      "[iter_attack.py:160 -     iterative_attack() ] Attach_iter 71 perturbation shape: (1, 268203), perturbation: [[-0.10780358 -0.24369723  0.15475146 ... -0.89492255  0.46075279\n",
      "  -0.32185769]]\n",
      "[iter_attack.py:160 -     iterative_attack() ] Attach_iter 71 perturbation shape: (1, 268203), perturbation: [[-3.85726118 -0.83096129  0.76132464 ...  0.04084774 -0.02950748\n",
      "  -0.01268497]]\n"
     ]
    },
    {
     "name": "stdout",
     "output_type": "stream",
     "text": [
      "(1, 268203)\n",
      "Loaded inverse HVP from output/poisoning_900_300_inception_wd-0.001-test-[15, 169].npz\n",
      "Inverse HVP took 0.000582933425903 sec\n",
      "Entering the for loop\n",
      "(1, 268203)\n",
      "Loaded inverse HVP from output/poisoning_900_300_inception_wd-0.001-test-[15, 169].npz\n",
      "Inverse HVP took 0.000580072402954 sec\n",
      "Entering the for loop\n"
     ]
    },
    {
     "name": "stderr",
     "output_type": "stream",
     "text": [
      "[iter_attack.py:160 -     iterative_attack() ] Attach_iter 71 perturbation shape: (1, 268203), perturbation: [[-0.0028505  -0.05507437 -0.07546049 ...  0.0057873   0.04681642\n",
      "  -0.01796967]]\n"
     ]
    },
    {
     "name": "stdout",
     "output_type": "stream",
     "text": [
      "(1, 268203)\n",
      "10 10\n",
      "Shape (10, 2048)\n",
      "Using normal model\n"
     ]
    },
    {
     "name": "stderr",
     "output_type": "stream",
     "text": [
      "[genericNeuralNet.py:328 -     print_model_eval() ] Train loss (w reg) on all data: 0.025950234\n",
      "[genericNeuralNet.py:329 -     print_model_eval() ] Train loss (w/o reg) on all data: 0.012655356\n",
      "[genericNeuralNet.py:331 -     print_model_eval() ] Test loss (w/o reg) on all data: 0.0778231\n",
      "[genericNeuralNet.py:332 -     print_model_eval() ] Train acc on all data:  0.9983333333333333\n",
      "[genericNeuralNet.py:333 -     print_model_eval() ] Test acc on all data:   0.9716666666666667\n",
      "[genericNeuralNet.py:335 -     print_model_eval() ] Norm of the mean of gradients: 0.020231565\n",
      "[genericNeuralNet.py:336 -     print_model_eval() ] Norm of the params: 5.1565256\n",
      "[iter_attack.py:204 -     iterative_attack() ] Test_idx: 15 Test pred (full): [[2.3276765e-05 9.9997675e-01]]\n",
      "[iter_attack.py:204 -     iterative_attack() ] Test_idx: 169 Test pred (full): [[0.99828535 0.00171463]]\n",
      "[iter_attack.py:205 -     iterative_attack() ] ---------------------\n",
      "[iter_attack.py:210 -     iterative_attack() ] Test_idx: 15 Test pred (top): [[2.3276765e-05 9.9997675e-01]]\n",
      "[iter_attack.py:210 -     iterative_attack() ] Test_idx: 169 Test pred (top): [[0.99828535 0.00171463]]\n",
      "[iter_attack.py:138 -     iterative_attack() ] *** Iter: 72\n"
     ]
    },
    {
     "name": "stdout",
     "output_type": "stream",
     "text": [
      "LBFGS training took [72] iter.\n",
      "After training with LBFGS: \n",
      "Total number of parameters: 2048\n"
     ]
    },
    {
     "name": "stderr",
     "output_type": "stream",
     "text": [
      "[iter_attack.py:160 -     iterative_attack() ] Attach_iter 72 perturbation shape: (1, 268203), perturbation: [[-0.27831033 -0.98610061 -1.10810852 ... -0.41890967 -0.56412971\n",
      "   0.82217836]]\n"
     ]
    },
    {
     "name": "stdout",
     "output_type": "stream",
     "text": [
      "Warning: Desired error not necessarily achieved due to precision loss.\n",
      "         Current function value: -4025.783203\n",
      "         Iterations: 9\n",
      "         Function evaluations: 75\n",
      "         Gradient evaluations: 72\n",
      "         Hessian evaluations: 58\n",
      "Inverse HVP took 2.24025607109 sec\n",
      "Loaded inverse HVP from output/poisoning_900_300_inception_wd-0.001-test-[15, 169].npz\n",
      "Inverse HVP took 0.000541925430298 sec\n",
      "Entering the for loop\n",
      "(1, 268203)\n",
      "Loaded inverse HVP from output/poisoning_900_300_inception_wd-0.001-test-[15, 169].npz\n",
      "Inverse HVP took 0.000585079193115 sec\n",
      "Entering the for loop\n"
     ]
    },
    {
     "name": "stderr",
     "output_type": "stream",
     "text": [
      "[iter_attack.py:160 -     iterative_attack() ] Attach_iter 72 perturbation shape: (1, 268203), perturbation: [[ 1.76347512e-05 -2.31143495e-04 -6.70598092e-05 ...  3.90194560e-04\n",
      "  -9.11888783e-05  1.93753192e-04]]\n",
      "[iter_attack.py:160 -     iterative_attack() ] Attach_iter 72 perturbation shape: (1, 268203), perturbation: [[ 0.30318433  0.19888249 -0.10717514 ... -0.12013947 -0.08354344\n",
      "   0.07434957]]\n"
     ]
    },
    {
     "name": "stdout",
     "output_type": "stream",
     "text": [
      "(1, 268203)\n",
      "Loaded inverse HVP from output/poisoning_900_300_inception_wd-0.001-test-[15, 169].npz\n",
      "Inverse HVP took 0.000627040863037 sec\n",
      "Entering the for loop\n",
      "(1, 268203)\n",
      "Loaded inverse HVP from output/poisoning_900_300_inception_wd-0.001-test-[15, 169].npz\n",
      "Inverse HVP took 0.000582933425903 sec\n",
      "Entering the for loop\n"
     ]
    },
    {
     "name": "stderr",
     "output_type": "stream",
     "text": [
      "[iter_attack.py:160 -     iterative_attack() ] Attach_iter 72 perturbation shape: (1, 268203), perturbation: [[-0.00572783  0.01858069  0.00636334 ... -0.02824826 -0.01909202\n",
      "   0.03696728]]\n",
      "[iter_attack.py:160 -     iterative_attack() ] Attach_iter 72 perturbation shape: (1, 268203), perturbation: [[-0.01073951  0.00495051  0.02398054 ... -0.14404756  0.02133543\n",
      "   0.01597986]]\n"
     ]
    },
    {
     "name": "stdout",
     "output_type": "stream",
     "text": [
      "(1, 268203)\n",
      "Loaded inverse HVP from output/poisoning_900_300_inception_wd-0.001-test-[15, 169].npz\n",
      "Inverse HVP took 0.000620126724243 sec\n",
      "Entering the for loop\n",
      "(1, 268203)\n",
      "Loaded inverse HVP from output/poisoning_900_300_inception_wd-0.001-test-[15, 169].npz\n",
      "Inverse HVP took 0.000601768493652 sec\n",
      "Entering the for loop\n"
     ]
    },
    {
     "name": "stderr",
     "output_type": "stream",
     "text": [
      "[iter_attack.py:160 -     iterative_attack() ] Attach_iter 72 perturbation shape: (1, 268203), perturbation: [[ 0.05613877 -0.37306657  0.30741698 ... -0.02066728 -0.17079085\n",
      "   0.10738427]]\n",
      "[iter_attack.py:160 -     iterative_attack() ] Attach_iter 72 perturbation shape: (1, 268203), perturbation: [[-0.26282647  0.0106862   0.17122246 ... -0.1027995   0.0275438\n",
      "   0.04163863]]\n"
     ]
    },
    {
     "name": "stdout",
     "output_type": "stream",
     "text": [
      "(1, 268203)\n",
      "Loaded inverse HVP from output/poisoning_900_300_inception_wd-0.001-test-[15, 169].npz\n",
      "Inverse HVP took 0.000600099563599 sec\n",
      "Entering the for loop\n",
      "(1, 268203)\n",
      "Loaded inverse HVP from output/poisoning_900_300_inception_wd-0.001-test-[15, 169].npz\n",
      "Inverse HVP took 0.000579118728638 sec\n",
      "Entering the for loop\n"
     ]
    },
    {
     "name": "stderr",
     "output_type": "stream",
     "text": [
      "[iter_attack.py:160 -     iterative_attack() ] Attach_iter 72 perturbation shape: (1, 268203), perturbation: [[ 0.31451687 -0.27299833  0.55426866 ...  0.20152581 -0.46053585\n",
      "   0.33085799]]\n",
      "[iter_attack.py:160 -     iterative_attack() ] Attach_iter 72 perturbation shape: (1, 268203), perturbation: [[ 0.7950666   0.21524005 -0.0875203  ... -0.01964972 -0.06777527\n",
      "   0.03094167]]\n"
     ]
    },
    {
     "name": "stdout",
     "output_type": "stream",
     "text": [
      "(1, 268203)\n",
      "Loaded inverse HVP from output/poisoning_900_300_inception_wd-0.001-test-[15, 169].npz\n",
      "Inverse HVP took 0.000589847564697 sec\n",
      "Entering the for loop\n",
      "(1, 268203)\n",
      "Loaded inverse HVP from output/poisoning_900_300_inception_wd-0.001-test-[15, 169].npz\n",
      "Inverse HVP took 0.000596046447754 sec\n",
      "Entering the for loop\n"
     ]
    },
    {
     "name": "stderr",
     "output_type": "stream",
     "text": [
      "[iter_attack.py:160 -     iterative_attack() ] Attach_iter 72 perturbation shape: (1, 268203), perturbation: [[-0.03430272 -0.01571802 -0.05525988 ...  0.03235598 -0.04902348\n",
      "   0.01689475]]\n"
     ]
    },
    {
     "name": "stdout",
     "output_type": "stream",
     "text": [
      "(1, 268203)\n",
      "10 10\n",
      "Shape (10, 2048)\n",
      "Using normal model\n"
     ]
    },
    {
     "name": "stderr",
     "output_type": "stream",
     "text": [
      "[genericNeuralNet.py:328 -     print_model_eval() ] Train loss (w reg) on all data: 0.026108135\n",
      "[genericNeuralNet.py:329 -     print_model_eval() ] Train loss (w/o reg) on all data: 0.012771043\n",
      "[genericNeuralNet.py:331 -     print_model_eval() ] Test loss (w/o reg) on all data: 0.07806638\n",
      "[genericNeuralNet.py:332 -     print_model_eval() ] Train acc on all data:  0.9983333333333333\n",
      "[genericNeuralNet.py:333 -     print_model_eval() ] Test acc on all data:   0.9716666666666667\n",
      "[genericNeuralNet.py:335 -     print_model_eval() ] Norm of the mean of gradients: 0.021044122\n",
      "[genericNeuralNet.py:336 -     print_model_eval() ] Norm of the params: 5.164705\n",
      "[iter_attack.py:204 -     iterative_attack() ] Test_idx: 15 Test pred (full): [[2.120787e-05 9.999788e-01]]\n",
      "[iter_attack.py:204 -     iterative_attack() ] Test_idx: 169 Test pred (full): [[0.99848133 0.00151866]]\n",
      "[iter_attack.py:205 -     iterative_attack() ] ---------------------\n",
      "[iter_attack.py:210 -     iterative_attack() ] Test_idx: 15 Test pred (top): [[2.120787e-05 9.999788e-01]]\n",
      "[iter_attack.py:210 -     iterative_attack() ] Test_idx: 169 Test pred (top): [[0.99848133 0.00151866]]\n",
      "[iter_attack.py:138 -     iterative_attack() ] *** Iter: 73\n"
     ]
    },
    {
     "name": "stdout",
     "output_type": "stream",
     "text": [
      "LBFGS training took [73] iter.\n",
      "After training with LBFGS: \n",
      "Total number of parameters: 2048\n"
     ]
    },
    {
     "name": "stderr",
     "output_type": "stream",
     "text": [
      "[iter_attack.py:160 -     iterative_attack() ] Attach_iter 73 perturbation shape: (1, 268203), perturbation: [[ 0.69353813 -0.49248308 -0.22684927 ...  0.42821813  0.52157903\n",
      "  -0.8456434 ]]\n"
     ]
    },
    {
     "name": "stdout",
     "output_type": "stream",
     "text": [
      "Warning: Desired error not necessarily achieved due to precision loss.\n",
      "         Current function value: -4017.441406\n",
      "         Iterations: 10\n",
      "         Function evaluations: 71\n",
      "         Gradient evaluations: 71\n",
      "         Hessian evaluations: 70\n",
      "Inverse HVP took 2.25634407997 sec\n",
      "Loaded inverse HVP from output/poisoning_900_300_inception_wd-0.001-test-[15, 169].npz\n",
      "Inverse HVP took 0.000545978546143 sec\n",
      "Entering the for loop\n",
      "(1, 268203)\n",
      "Loaded inverse HVP from output/poisoning_900_300_inception_wd-0.001-test-[15, 169].npz\n",
      "Inverse HVP took 0.000607967376709 sec\n",
      "Entering the for loop\n"
     ]
    },
    {
     "name": "stderr",
     "output_type": "stream",
     "text": [
      "[iter_attack.py:160 -     iterative_attack() ] Attach_iter 73 perturbation shape: (1, 268203), perturbation: [[-3.61709899e-05  7.77585592e-05  6.71016023e-05 ...  9.27521614e-05\n",
      "  -5.70285920e-05  3.63736617e-05]]\n",
      "[iter_attack.py:160 -     iterative_attack() ] Attach_iter 73 perturbation shape: (1, 268203), perturbation: [[ 0.28955698  0.06160559  0.18647353 ... -0.13181064 -0.05325979\n",
      "   0.03928858]]\n"
     ]
    },
    {
     "name": "stdout",
     "output_type": "stream",
     "text": [
      "(1, 268203)\n",
      "Loaded inverse HVP from output/poisoning_900_300_inception_wd-0.001-test-[15, 169].npz\n",
      "Inverse HVP took 0.000606060028076 sec\n",
      "Entering the for loop\n",
      "(1, 268203)\n",
      "Loaded inverse HVP from output/poisoning_900_300_inception_wd-0.001-test-[15, 169].npz\n",
      "Inverse HVP took 0.000648975372314 sec\n",
      "Entering the for loop\n"
     ]
    },
    {
     "name": "stderr",
     "output_type": "stream",
     "text": [
      "[iter_attack.py:160 -     iterative_attack() ] Attach_iter 73 perturbation shape: (1, 268203), perturbation: [[-0.03660609  0.0276247   0.03030814 ... -0.00826777 -0.00590643\n",
      "   0.01454863]]\n",
      "[iter_attack.py:160 -     iterative_attack() ] Attach_iter 73 perturbation shape: (1, 268203), perturbation: [[-0.00797916 -0.00253059 -0.04246793 ...  0.13984358  0.03062467\n",
      "  -0.04977067]]\n"
     ]
    },
    {
     "name": "stdout",
     "output_type": "stream",
     "text": [
      "(1, 268203)\n",
      "Loaded inverse HVP from output/poisoning_900_300_inception_wd-0.001-test-[15, 169].npz\n",
      "Inverse HVP took 0.000584125518799 sec\n",
      "Entering the for loop\n",
      "(1, 268203)\n",
      "Loaded inverse HVP from output/poisoning_900_300_inception_wd-0.001-test-[15, 169].npz\n",
      "Inverse HVP took 0.000588893890381 sec\n",
      "Entering the for loop\n"
     ]
    },
    {
     "name": "stderr",
     "output_type": "stream",
     "text": [
      "[iter_attack.py:160 -     iterative_attack() ] Attach_iter 73 perturbation shape: (1, 268203), perturbation: [[-0.30680478 -0.01658197  0.08512814 ...  0.13368912  0.02657372\n",
      "   0.02376668]]\n",
      "[iter_attack.py:160 -     iterative_attack() ] Attach_iter 73 perturbation shape: (1, 268203), perturbation: [[ 0.20830055  0.02243515 -0.15174685 ... -0.05487771  0.0169756\n",
      "   0.01698174]]\n"
     ]
    },
    {
     "name": "stdout",
     "output_type": "stream",
     "text": [
      "(1, 268203)\n",
      "Loaded inverse HVP from output/poisoning_900_300_inception_wd-0.001-test-[15, 169].npz\n",
      "Inverse HVP took 0.00058913230896 sec\n",
      "Entering the for loop\n",
      "(1, 268203)\n",
      "Loaded inverse HVP from output/poisoning_900_300_inception_wd-0.001-test-[15, 169].npz\n",
      "Inverse HVP took 0.000590085983276 sec\n",
      "Entering the for loop\n"
     ]
    },
    {
     "name": "stderr",
     "output_type": "stream",
     "text": [
      "[iter_attack.py:160 -     iterative_attack() ] Attach_iter 73 perturbation shape: (1, 268203), perturbation: [[-0.17082165 -0.35676324  0.21960029 ... -0.51769847  0.3823238\n",
      "  -0.47673965]]\n",
      "[iter_attack.py:160 -     iterative_attack() ] Attach_iter 73 perturbation shape: (1, 268203), perturbation: [[-2.93261385e+00 -5.98824322e-01  5.64033508e-01 ... -2.50996612e-02\n",
      "  -5.82598150e-05 -2.03803293e-02]]\n"
     ]
    },
    {
     "name": "stdout",
     "output_type": "stream",
     "text": [
      "(1, 268203)\n",
      "Loaded inverse HVP from output/poisoning_900_300_inception_wd-0.001-test-[15, 169].npz\n",
      "Inverse HVP took 0.000669956207275 sec\n",
      "Entering the for loop\n",
      "(1, 268203)\n",
      "Loaded inverse HVP from output/poisoning_900_300_inception_wd-0.001-test-[15, 169].npz\n",
      "Inverse HVP took 0.000591039657593 sec\n",
      "Entering the for loop\n"
     ]
    },
    {
     "name": "stderr",
     "output_type": "stream",
     "text": [
      "[iter_attack.py:160 -     iterative_attack() ] Attach_iter 73 perturbation shape: (1, 268203), perturbation: [[-0.03476305 -0.04994373 -0.02494106 ... -0.02083705  0.05670272\n",
      "  -0.02175539]]\n"
     ]
    },
    {
     "name": "stdout",
     "output_type": "stream",
     "text": [
      "(1, 268203)\n",
      "10 10\n",
      "Shape (10, 2048)\n",
      "Using normal model\n",
      "LBFGS training took [74] iter.\n",
      "After training with LBFGS: \n"
     ]
    },
    {
     "name": "stderr",
     "output_type": "stream",
     "text": [
      "[genericNeuralNet.py:328 -     print_model_eval() ] Train loss (w reg) on all data: 0.026184533\n",
      "[genericNeuralNet.py:329 -     print_model_eval() ] Train loss (w/o reg) on all data: 0.012815622\n",
      "[genericNeuralNet.py:331 -     print_model_eval() ] Test loss (w/o reg) on all data: 0.078601725\n",
      "[genericNeuralNet.py:332 -     print_model_eval() ] Train acc on all data:  0.9983333333333333\n",
      "[genericNeuralNet.py:333 -     print_model_eval() ] Test acc on all data:   0.9716666666666667\n",
      "[genericNeuralNet.py:335 -     print_model_eval() ] Norm of the mean of gradients: 0.020501666\n",
      "[genericNeuralNet.py:336 -     print_model_eval() ] Norm of the params: 5.170863\n",
      "[iter_attack.py:204 -     iterative_attack() ] Test_idx: 15 Test pred (full): [[1.9770898e-05 9.9998021e-01]]\n",
      "[iter_attack.py:204 -     iterative_attack() ] Test_idx: 169 Test pred (full): [[0.9982297  0.00177034]]\n",
      "[iter_attack.py:205 -     iterative_attack() ] ---------------------\n",
      "[iter_attack.py:210 -     iterative_attack() ] Test_idx: 15 Test pred (top): [[1.9770898e-05 9.9998021e-01]]\n",
      "[iter_attack.py:210 -     iterative_attack() ] Test_idx: 169 Test pred (top): [[0.9982297  0.00177034]]\n",
      "[iter_attack.py:138 -     iterative_attack() ] *** Iter: 74\n"
     ]
    },
    {
     "name": "stdout",
     "output_type": "stream",
     "text": [
      "Total number of parameters: 2048\n"
     ]
    },
    {
     "name": "stderr",
     "output_type": "stream",
     "text": [
      "[iter_attack.py:160 -     iterative_attack() ] Attach_iter 74 perturbation shape: (1, 268203), perturbation: [[-0.48033771 -1.22168183 -1.239151   ... -0.13915548 -0.58388489\n",
      "   0.64983416]]\n"
     ]
    },
    {
     "name": "stdout",
     "output_type": "stream",
     "text": [
      "Warning: Desired error not necessarily achieved due to precision loss.\n",
      "         Current function value: -4011.276611\n",
      "         Iterations: 10\n",
      "         Function evaluations: 210\n",
      "         Gradient evaluations: 205\n",
      "         Hessian evaluations: 73\n",
      "Inverse HVP took 5.42994403839 sec\n",
      "Loaded inverse HVP from output/poisoning_900_300_inception_wd-0.001-test-[15, 169].npz\n",
      "Inverse HVP took 0.000547885894775 sec\n",
      "Entering the for loop\n",
      "(1, 268203)\n",
      "Loaded inverse HVP from output/poisoning_900_300_inception_wd-0.001-test-[15, 169].npz\n",
      "Inverse HVP took 0.000588893890381 sec\n",
      "Entering the for loop\n"
     ]
    },
    {
     "name": "stderr",
     "output_type": "stream",
     "text": [
      "[iter_attack.py:160 -     iterative_attack() ] Attach_iter 74 perturbation shape: (1, 268203), perturbation: [[-4.01375291e-06 -1.81548501e-04  1.26690633e-04 ...  2.47085874e-04\n",
      "  -6.17915430e-05  2.79770145e-04]]\n",
      "[iter_attack.py:160 -     iterative_attack() ] Attach_iter 74 perturbation shape: (1, 268203), perturbation: [[-0.33206454 -0.2712681   0.16532162 ... -0.11598247 -0.04216984\n",
      "   0.07092841]]\n"
     ]
    },
    {
     "name": "stdout",
     "output_type": "stream",
     "text": [
      "(1, 268203)\n",
      "Loaded inverse HVP from output/poisoning_900_300_inception_wd-0.001-test-[15, 169].npz\n",
      "Inverse HVP took 0.000630855560303 sec\n",
      "Entering the for loop\n",
      "(1, 268203)\n",
      "Loaded inverse HVP from output/poisoning_900_300_inception_wd-0.001-test-[15, 169].npz\n",
      "Inverse HVP took 0.000598907470703 sec\n",
      "Entering the for loop\n"
     ]
    },
    {
     "name": "stderr",
     "output_type": "stream",
     "text": [
      "[iter_attack.py:160 -     iterative_attack() ] Attach_iter 74 perturbation shape: (1, 268203), perturbation: [[-0.00962523  0.01244793  0.00514317 ... -0.02278429 -0.01563782\n",
      "   0.02641476]]\n",
      "[iter_attack.py:160 -     iterative_attack() ] Attach_iter 74 perturbation shape: (1, 268203), perturbation: [[-0.00182183  0.00549337  0.02633053 ... -0.20367751  0.0436307\n",
      "   0.074027  ]]\n"
     ]
    },
    {
     "name": "stdout",
     "output_type": "stream",
     "text": [
      "(1, 268203)\n",
      "Loaded inverse HVP from output/poisoning_900_300_inception_wd-0.001-test-[15, 169].npz\n",
      "Inverse HVP took 0.000586986541748 sec\n",
      "Entering the for loop\n",
      "(1, 268203)\n",
      "Loaded inverse HVP from output/poisoning_900_300_inception_wd-0.001-test-[15, 169].npz\n",
      "Inverse HVP took 0.000584840774536 sec\n",
      "Entering the for loop\n"
     ]
    },
    {
     "name": "stderr",
     "output_type": "stream",
     "text": [
      "[iter_attack.py:160 -     iterative_attack() ] Attach_iter 74 perturbation shape: (1, 268203), perturbation: [[ 0.0606804  -0.25846174  0.16813584 ...  0.03932613 -0.128043\n",
      "   0.07675594]]\n",
      "[iter_attack.py:160 -     iterative_attack() ] Attach_iter 74 perturbation shape: (1, 268203), perturbation: [[-0.33149481  0.01079783  0.22796005 ... -0.07801672  0.00248521\n",
      "   0.04506217]]\n"
     ]
    },
    {
     "name": "stdout",
     "output_type": "stream",
     "text": [
      "(1, 268203)\n",
      "Loaded inverse HVP from output/poisoning_900_300_inception_wd-0.001-test-[15, 169].npz\n",
      "Inverse HVP took 0.000591039657593 sec\n",
      "Entering the for loop\n",
      "(1, 268203)\n",
      "Loaded inverse HVP from output/poisoning_900_300_inception_wd-0.001-test-[15, 169].npz\n",
      "Inverse HVP took 0.000582933425903 sec\n",
      "Entering the for loop\n"
     ]
    },
    {
     "name": "stderr",
     "output_type": "stream",
     "text": [
      "[iter_attack.py:160 -     iterative_attack() ] Attach_iter 74 perturbation shape: (1, 268203), perturbation: [[ 0.27755824 -0.17301795  0.41842678 ...  0.34125915 -0.3953436\n",
      "   0.28074694]]\n",
      "[iter_attack.py:160 -     iterative_attack() ] Attach_iter 74 perturbation shape: (1, 268203), perturbation: [[ 0.87780088  0.231261   -0.11293679 ...  0.00867211 -0.05645494\n",
      "   0.04070035]]\n"
     ]
    },
    {
     "name": "stdout",
     "output_type": "stream",
     "text": [
      "(1, 268203)\n",
      "Loaded inverse HVP from output/poisoning_900_300_inception_wd-0.001-test-[15, 169].npz\n",
      "Inverse HVP took 0.000635147094727 sec\n",
      "Entering the for loop\n",
      "(1, 268203)\n",
      "Loaded inverse HVP from output/poisoning_900_300_inception_wd-0.001-test-[15, 169].npz\n",
      "Inverse HVP took 0.000634908676147 sec\n",
      "Entering the for loop\n"
     ]
    },
    {
     "name": "stderr",
     "output_type": "stream",
     "text": [
      "[iter_attack.py:160 -     iterative_attack() ] Attach_iter 74 perturbation shape: (1, 268203), perturbation: [[-0.00743997 -0.05456661 -0.06918377 ...  0.02712244 -0.03628222\n",
      "   0.00550175]]\n"
     ]
    },
    {
     "name": "stdout",
     "output_type": "stream",
     "text": [
      "(1, 268203)\n",
      "10 10\n",
      "Shape (10, 2048)\n",
      "Using normal model\n",
      "LBFGS training took [69] iter.\n",
      "After training with LBFGS: \n"
     ]
    },
    {
     "name": "stderr",
     "output_type": "stream",
     "text": [
      "[genericNeuralNet.py:328 -     print_model_eval() ] Train loss (w reg) on all data: 0.026340188\n",
      "[genericNeuralNet.py:329 -     print_model_eval() ] Train loss (w/o reg) on all data: 0.01296004\n",
      "[genericNeuralNet.py:331 -     print_model_eval() ] Test loss (w/o reg) on all data: 0.078530975\n",
      "[genericNeuralNet.py:332 -     print_model_eval() ] Train acc on all data:  0.9983333333333333\n",
      "[genericNeuralNet.py:333 -     print_model_eval() ] Test acc on all data:   0.97\n",
      "[genericNeuralNet.py:335 -     print_model_eval() ] Norm of the mean of gradients: 0.02135109\n",
      "[genericNeuralNet.py:336 -     print_model_eval() ] Norm of the params: 5.1730356\n",
      "[iter_attack.py:204 -     iterative_attack() ] Test_idx: 15 Test pred (full): [[1.8131788e-05 9.9998188e-01]]\n",
      "[iter_attack.py:204 -     iterative_attack() ] Test_idx: 169 Test pred (full): [[0.99842936 0.0015706 ]]\n",
      "[iter_attack.py:205 -     iterative_attack() ] ---------------------\n",
      "[iter_attack.py:210 -     iterative_attack() ] Test_idx: 15 Test pred (top): [[1.8131788e-05 9.9998188e-01]]\n",
      "[iter_attack.py:210 -     iterative_attack() ] Test_idx: 169 Test pred (top): [[0.99842936 0.0015706 ]]\n",
      "[iter_attack.py:138 -     iterative_attack() ] *** Iter: 75\n"
     ]
    },
    {
     "name": "stdout",
     "output_type": "stream",
     "text": [
      "Total number of parameters: 2048\n"
     ]
    },
    {
     "name": "stderr",
     "output_type": "stream",
     "text": [
      "[iter_attack.py:160 -     iterative_attack() ] Attach_iter 75 perturbation shape: (1, 268203), perturbation: [[ 0.53520441 -0.48273879 -0.16832906 ...  0.54914296  0.46489015\n",
      "  -0.85582662]]\n"
     ]
    },
    {
     "name": "stdout",
     "output_type": "stream",
     "text": [
      "Warning: Desired error not necessarily achieved due to precision loss.\n",
      "         Current function value: -3998.486084\n",
      "         Iterations: 10\n",
      "         Function evaluations: 80\n",
      "         Gradient evaluations: 78\n",
      "         Hessian evaluations: 72\n",
      "Inverse HVP took 2.45746397972 sec\n",
      "Loaded inverse HVP from output/poisoning_900_300_inception_wd-0.001-test-[15, 169].npz\n",
      "Inverse HVP took 0.000591993331909 sec\n",
      "Entering the for loop\n",
      "(1, 268203)\n",
      "Loaded inverse HVP from output/poisoning_900_300_inception_wd-0.001-test-[15, 169].npz\n",
      "Inverse HVP took 0.000591039657593 sec\n",
      "Entering the for loop\n"
     ]
    },
    {
     "name": "stderr",
     "output_type": "stream",
     "text": [
      "[iter_attack.py:160 -     iterative_attack() ] Attach_iter 75 perturbation shape: (1, 268203), perturbation: [[-1.34071932e-04  7.55759356e-06 -4.91239844e-05 ... -2.41612215e-05\n",
      "  -1.28293148e-04  1.41436467e-04]]\n",
      "[iter_attack.py:160 -     iterative_attack() ] Attach_iter 75 perturbation shape: (1, 268203), perturbation: [[ 0.86094052  0.40658259 -0.13235128 ... -0.13186964 -0.07530187\n",
      "   0.04666818]]\n"
     ]
    },
    {
     "name": "stdout",
     "output_type": "stream",
     "text": [
      "(1, 268203)\n",
      "Loaded inverse HVP from output/poisoning_900_300_inception_wd-0.001-test-[15, 169].npz\n",
      "Inverse HVP took 0.000677108764648 sec\n",
      "Entering the for loop\n",
      "(1, 268203)\n",
      "Loaded inverse HVP from output/poisoning_900_300_inception_wd-0.001-test-[15, 169].npz\n",
      "Inverse HVP took 0.00058913230896 sec\n",
      "Entering the for loop\n"
     ]
    },
    {
     "name": "stderr",
     "output_type": "stream",
     "text": [
      "[iter_attack.py:160 -     iterative_attack() ] Attach_iter 75 perturbation shape: (1, 268203), perturbation: [[-0.02366402  0.04385899  0.02070827 ...  0.0228737  -0.00018733\n",
      "  -0.00374236]]\n",
      "[iter_attack.py:160 -     iterative_attack() ] Attach_iter 75 perturbation shape: (1, 268203), perturbation: [[-0.01409743 -0.00142095 -0.04606143 ...  0.08187616  0.02778853\n",
      "  -0.08253221]]\n"
     ]
    },
    {
     "name": "stdout",
     "output_type": "stream",
     "text": [
      "(1, 268203)\n",
      "Loaded inverse HVP from output/poisoning_900_300_inception_wd-0.001-test-[15, 169].npz\n",
      "Inverse HVP took 0.000593900680542 sec\n",
      "Entering the for loop\n",
      "(1, 268203)\n",
      "Loaded inverse HVP from output/poisoning_900_300_inception_wd-0.001-test-[15, 169].npz\n",
      "Inverse HVP took 0.000604152679443 sec\n",
      "Entering the for loop\n"
     ]
    },
    {
     "name": "stderr",
     "output_type": "stream",
     "text": [
      "[iter_attack.py:160 -     iterative_attack() ] Attach_iter 75 perturbation shape: (1, 268203), perturbation: [[-0.273678   -0.0355691   0.11321109 ...  0.07642935 -0.02691876\n",
      "   0.02719074]]\n",
      "[iter_attack.py:160 -     iterative_attack() ] Attach_iter 75 perturbation shape: (1, 268203), perturbation: [[ 0.20694651 -0.00223248 -0.14989646 ... -0.04339399 -0.00891167\n",
      "   0.02810002]]\n"
     ]
    },
    {
     "name": "stdout",
     "output_type": "stream",
     "text": [
      "(1, 268203)\n",
      "Loaded inverse HVP from output/poisoning_900_300_inception_wd-0.001-test-[15, 169].npz\n",
      "Inverse HVP took 0.000638008117676 sec\n",
      "Entering the for loop\n",
      "(1, 268203)\n",
      "Loaded inverse HVP from output/poisoning_900_300_inception_wd-0.001-test-[15, 169].npz\n",
      "Inverse HVP took 0.000586986541748 sec\n",
      "Entering the for loop\n"
     ]
    },
    {
     "name": "stderr",
     "output_type": "stream",
     "text": [
      "[iter_attack.py:160 -     iterative_attack() ] Attach_iter 75 perturbation shape: (1, 268203), perturbation: [[-0.11993583 -0.29813525  0.20178689 ... -0.60836565  0.45603281\n",
      "  -0.5112679 ]]\n",
      "[iter_attack.py:160 -     iterative_attack() ] Attach_iter 75 perturbation shape: (1, 268203), perturbation: [[-2.88538647 -0.71176308  0.45685637 ... -0.01089212 -0.06559241\n",
      "  -0.00739707]]\n"
     ]
    },
    {
     "name": "stdout",
     "output_type": "stream",
     "text": [
      "(1, 268203)\n",
      "Loaded inverse HVP from output/poisoning_900_300_inception_wd-0.001-test-[15, 169].npz\n",
      "Inverse HVP took 0.000638008117676 sec\n",
      "Entering the for loop\n",
      "(1, 268203)\n",
      "Loaded inverse HVP from output/poisoning_900_300_inception_wd-0.001-test-[15, 169].npz\n",
      "Inverse HVP took 0.000594139099121 sec\n",
      "Entering the for loop\n"
     ]
    },
    {
     "name": "stderr",
     "output_type": "stream",
     "text": [
      "[iter_attack.py:160 -     iterative_attack() ] Attach_iter 75 perturbation shape: (1, 268203), perturbation: [[-0.00738433 -0.03202807 -0.04398462 ... -0.04429928  0.06481154\n",
      "  -0.02377912]]\n"
     ]
    },
    {
     "name": "stdout",
     "output_type": "stream",
     "text": [
      "(1, 268203)\n",
      "10 10\n",
      "Shape (10, 2048)\n",
      "Using normal model\n",
      "LBFGS training took [73] iter.\n",
      "After training with LBFGS: \n"
     ]
    },
    {
     "name": "stderr",
     "output_type": "stream",
     "text": [
      "[genericNeuralNet.py:328 -     print_model_eval() ] Train loss (w reg) on all data: 0.026388384\n",
      "[genericNeuralNet.py:329 -     print_model_eval() ] Train loss (w/o reg) on all data: 0.012955936\n",
      "[genericNeuralNet.py:331 -     print_model_eval() ] Test loss (w/o reg) on all data: 0.07913229\n",
      "[genericNeuralNet.py:332 -     print_model_eval() ] Train acc on all data:  0.9983333333333333\n",
      "[genericNeuralNet.py:333 -     print_model_eval() ] Test acc on all data:   0.9716666666666667\n",
      "[genericNeuralNet.py:335 -     print_model_eval() ] Norm of the mean of gradients: 0.020731699\n",
      "[genericNeuralNet.py:336 -     print_model_eval() ] Norm of the params: 5.1831365\n",
      "[iter_attack.py:204 -     iterative_attack() ] Test_idx: 15 Test pred (full): [[1.6869804e-05 9.9998307e-01]]\n",
      "[iter_attack.py:204 -     iterative_attack() ] Test_idx: 169 Test pred (full): [[0.9982127  0.00178729]]\n",
      "[iter_attack.py:205 -     iterative_attack() ] ---------------------\n",
      "[iter_attack.py:210 -     iterative_attack() ] Test_idx: 15 Test pred (top): [[1.6869804e-05 9.9998307e-01]]\n",
      "[iter_attack.py:210 -     iterative_attack() ] Test_idx: 169 Test pred (top): [[0.9982127  0.00178729]]\n",
      "[iter_attack.py:138 -     iterative_attack() ] *** Iter: 76\n"
     ]
    },
    {
     "name": "stdout",
     "output_type": "stream",
     "text": [
      "Total number of parameters: 2048\n"
     ]
    },
    {
     "name": "stderr",
     "output_type": "stream",
     "text": [
      "[iter_attack.py:160 -     iterative_attack() ] Attach_iter 76 perturbation shape: (1, 268203), perturbation: [[ 0.16899304 -0.79432678 -1.02402759 ... -0.30511233 -0.96573132\n",
      "   1.03206205]]\n"
     ]
    },
    {
     "name": "stdout",
     "output_type": "stream",
     "text": [
      "Warning: Desired error not necessarily achieved due to precision loss.\n",
      "         Current function value: -3995.283447\n",
      "         Iterations: 8\n",
      "         Function evaluations: 66\n",
      "         Gradient evaluations: 63\n",
      "         Hessian evaluations: 51\n",
      "Inverse HVP took 1.92088508606 sec\n",
      "Loaded inverse HVP from output/poisoning_900_300_inception_wd-0.001-test-[15, 169].npz\n",
      "Inverse HVP took 0.000540971755981 sec\n",
      "Entering the for loop\n",
      "(1, 268203)\n",
      "Loaded inverse HVP from output/poisoning_900_300_inception_wd-0.001-test-[15, 169].npz\n",
      "Inverse HVP took 0.00061297416687 sec\n",
      "Entering the for loop\n"
     ]
    },
    {
     "name": "stderr",
     "output_type": "stream",
     "text": [
      "[iter_attack.py:160 -     iterative_attack() ] Attach_iter 76 perturbation shape: (1, 268203), perturbation: [[-1.21105004e-05 -3.95115640e-04  4.60672272e-05 ...  4.69502877e-04\n",
      "  -1.83379918e-04  3.28020367e-04]]\n",
      "[iter_attack.py:160 -     iterative_attack() ] Attach_iter 76 perturbation shape: (1, 268203), perturbation: [[-0.17039981 -0.16513965  0.44332045 ... -0.12367526 -0.05265125\n",
      "   0.09131828]]\n"
     ]
    },
    {
     "name": "stdout",
     "output_type": "stream",
     "text": [
      "(1, 268203)\n",
      "Loaded inverse HVP from output/poisoning_900_300_inception_wd-0.001-test-[15, 169].npz\n",
      "Inverse HVP took 0.000588893890381 sec\n",
      "Entering the for loop\n",
      "(1, 268203)\n",
      "Loaded inverse HVP from output/poisoning_900_300_inception_wd-0.001-test-[15, 169].npz\n",
      "Inverse HVP took 0.000586032867432 sec\n",
      "Entering the for loop\n"
     ]
    },
    {
     "name": "stderr",
     "output_type": "stream",
     "text": [
      "[iter_attack.py:160 -     iterative_attack() ] Attach_iter 76 perturbation shape: (1, 268203), perturbation: [[-0.00542547  0.00326357  0.00497837 ... -0.03658596 -0.02233279\n",
      "   0.03753643]]\n",
      "[iter_attack.py:160 -     iterative_attack() ] Attach_iter 76 perturbation shape: (1, 268203), perturbation: [[ 0.00090406  0.0068448   0.02232699 ... -0.16320878  0.03389179\n",
      "   0.07120273]]\n"
     ]
    },
    {
     "name": "stdout",
     "output_type": "stream",
     "text": [
      "(1, 268203)\n",
      "Loaded inverse HVP from output/poisoning_900_300_inception_wd-0.001-test-[15, 169].npz\n",
      "Inverse HVP took 0.000584840774536 sec\n",
      "Entering the for loop\n",
      "(1, 268203)\n",
      "Loaded inverse HVP from output/poisoning_900_300_inception_wd-0.001-test-[15, 169].npz\n",
      "Inverse HVP took 0.000604867935181 sec\n",
      "Entering the for loop\n"
     ]
    },
    {
     "name": "stderr",
     "output_type": "stream",
     "text": [
      "[iter_attack.py:160 -     iterative_attack() ] Attach_iter 76 perturbation shape: (1, 268203), perturbation: [[-0.02049942 -0.24749784  0.18042411 ...  0.03759786 -0.08651625\n",
      "   0.05407674]]\n",
      "[iter_attack.py:160 -     iterative_attack() ] Attach_iter 76 perturbation shape: (1, 268203), perturbation: [[-0.38549834  0.03695473  0.23735794 ... -0.08953413  0.01608195\n",
      "   0.04616427]]\n"
     ]
    },
    {
     "name": "stdout",
     "output_type": "stream",
     "text": [
      "(1, 268203)\n",
      "Loaded inverse HVP from output/poisoning_900_300_inception_wd-0.001-test-[15, 169].npz\n",
      "Inverse HVP took 0.000585079193115 sec\n",
      "Entering the for loop\n",
      "(1, 268203)\n",
      "Loaded inverse HVP from output/poisoning_900_300_inception_wd-0.001-test-[15, 169].npz\n",
      "Inverse HVP took 0.000629901885986 sec\n",
      "Entering the for loop\n"
     ]
    },
    {
     "name": "stderr",
     "output_type": "stream",
     "text": [
      "[iter_attack.py:160 -     iterative_attack() ] Attach_iter 76 perturbation shape: (1, 268203), perturbation: [[ 0.26789916 -0.32854334  0.5844292  ...  0.60866541 -0.59692174\n",
      "   0.06664775]]\n",
      "[iter_attack.py:160 -     iterative_attack() ] Attach_iter 76 perturbation shape: (1, 268203), perturbation: [[ 0.90283573  0.29563737 -0.04166907 ...  0.02112723 -0.04654022\n",
      "   0.01333546]]\n"
     ]
    },
    {
     "name": "stdout",
     "output_type": "stream",
     "text": [
      "(1, 268203)\n",
      "Loaded inverse HVP from output/poisoning_900_300_inception_wd-0.001-test-[15, 169].npz\n",
      "Inverse HVP took 0.000586032867432 sec\n",
      "Entering the for loop\n",
      "(1, 268203)\n",
      "Loaded inverse HVP from output/poisoning_900_300_inception_wd-0.001-test-[15, 169].npz\n",
      "Inverse HVP took 0.000643014907837 sec\n",
      "Entering the for loop\n"
     ]
    },
    {
     "name": "stderr",
     "output_type": "stream",
     "text": [
      "[iter_attack.py:160 -     iterative_attack() ] Attach_iter 76 perturbation shape: (1, 268203), perturbation: [[ 0.00329726 -0.02369406 -0.0220787  ...  0.02441243 -0.03345065\n",
      "   0.00873713]]\n"
     ]
    },
    {
     "name": "stdout",
     "output_type": "stream",
     "text": [
      "(1, 268203)\n",
      "10 10\n",
      "Shape (10, 2048)\n",
      "Using normal model\n"
     ]
    },
    {
     "name": "stderr",
     "output_type": "stream",
     "text": [
      "[genericNeuralNet.py:328 -     print_model_eval() ] Train loss (w reg) on all data: 0.026599515\n",
      "[genericNeuralNet.py:329 -     print_model_eval() ] Train loss (w/o reg) on all data: 0.013164175\n",
      "[genericNeuralNet.py:331 -     print_model_eval() ] Test loss (w/o reg) on all data: 0.079098344\n",
      "[genericNeuralNet.py:332 -     print_model_eval() ] Train acc on all data:  0.9977777777777778\n",
      "[genericNeuralNet.py:333 -     print_model_eval() ] Test acc on all data:   0.97\n",
      "[genericNeuralNet.py:335 -     print_model_eval() ] Norm of the mean of gradients: 0.02165466\n",
      "[genericNeuralNet.py:336 -     print_model_eval() ] Norm of the params: 5.183694\n",
      "[iter_attack.py:204 -     iterative_attack() ] Test_idx: 15 Test pred (full): [[1.5588475e-05 9.9998438e-01]]\n",
      "[iter_attack.py:204 -     iterative_attack() ] Test_idx: 169 Test pred (full): [[0.99840766 0.00159236]]\n",
      "[iter_attack.py:205 -     iterative_attack() ] ---------------------\n",
      "[iter_attack.py:210 -     iterative_attack() ] Test_idx: 15 Test pred (top): [[1.5588475e-05 9.9998438e-01]]\n",
      "[iter_attack.py:210 -     iterative_attack() ] Test_idx: 169 Test pred (top): [[0.99840766 0.00159236]]\n",
      "[iter_attack.py:138 -     iterative_attack() ] *** Iter: 77\n"
     ]
    },
    {
     "name": "stdout",
     "output_type": "stream",
     "text": [
      "LBFGS training took [74] iter.\n",
      "After training with LBFGS: \n",
      "Total number of parameters: 2048\n"
     ]
    },
    {
     "name": "stderr",
     "output_type": "stream",
     "text": [
      "[iter_attack.py:160 -     iterative_attack() ] Attach_iter 77 perturbation shape: (1, 268203), perturbation: [[ 0.60453606 -0.35167617 -0.1852438  ...  0.2995286   0.96518815\n",
      "  -1.26036358]]\n"
     ]
    },
    {
     "name": "stdout",
     "output_type": "stream",
     "text": [
      "Warning: Desired error not necessarily achieved due to precision loss.\n",
      "         Current function value: -3982.639160\n",
      "         Iterations: 9\n",
      "         Function evaluations: 83\n",
      "         Gradient evaluations: 81\n",
      "         Hessian evaluations: 62\n",
      "Inverse HVP took 2.34503388405 sec\n",
      "Loaded inverse HVP from output/poisoning_900_300_inception_wd-0.001-test-[15, 169].npz\n",
      "Inverse HVP took 0.000548839569092 sec\n",
      "Entering the for loop\n",
      "(1, 268203)\n",
      "Loaded inverse HVP from output/poisoning_900_300_inception_wd-0.001-test-[15, 169].npz\n",
      "Inverse HVP took 0.000585079193115 sec\n",
      "Entering the for loop\n"
     ]
    },
    {
     "name": "stderr",
     "output_type": "stream",
     "text": [
      "[iter_attack.py:160 -     iterative_attack() ] Attach_iter 77 perturbation shape: (1, 268203), perturbation: [[-1.06872030e-05  1.19082084e-04  7.75029766e-05 ... -5.44744835e-05\n",
      "   2.70654273e-05  1.16780924e-04]]\n",
      "[iter_attack.py:160 -     iterative_attack() ] Attach_iter 77 perturbation shape: (1, 268203), perturbation: [[ 0.46011388  0.26180863 -0.39384502 ... -0.12664476 -0.05285341\n",
      "   0.02710081]]\n"
     ]
    },
    {
     "name": "stdout",
     "output_type": "stream",
     "text": [
      "(1, 268203)\n",
      "Loaded inverse HVP from output/poisoning_900_300_inception_wd-0.001-test-[15, 169].npz\n",
      "Inverse HVP took 0.000581026077271 sec\n",
      "Entering the for loop\n",
      "(1, 268203)\n",
      "Loaded inverse HVP from output/poisoning_900_300_inception_wd-0.001-test-[15, 169].npz\n",
      "Inverse HVP took 0.000577926635742 sec\n",
      "Entering the for loop\n"
     ]
    },
    {
     "name": "stderr",
     "output_type": "stream",
     "text": [
      "[iter_attack.py:160 -     iterative_attack() ] Attach_iter 77 perturbation shape: (1, 268203), perturbation: [[-0.02336876  0.04512616  0.0207552  ...  0.00695642 -0.00480918\n",
      "  -0.00585468]]\n",
      "[iter_attack.py:160 -     iterative_attack() ] Attach_iter 77 perturbation shape: (1, 268203), perturbation: [[-0.00625767 -0.0031631  -0.03221578 ...  0.11549997 -0.05020434\n",
      "  -0.05634213]]\n"
     ]
    },
    {
     "name": "stdout",
     "output_type": "stream",
     "text": [
      "(1, 268203)\n",
      "Loaded inverse HVP from output/poisoning_900_300_inception_wd-0.001-test-[15, 169].npz\n",
      "Inverse HVP took 0.000597953796387 sec\n",
      "Entering the for loop\n",
      "(1, 268203)\n",
      "Loaded inverse HVP from output/poisoning_900_300_inception_wd-0.001-test-[15, 169].npz\n",
      "Inverse HVP took 0.000591993331909 sec\n",
      "Entering the for loop\n"
     ]
    },
    {
     "name": "stderr",
     "output_type": "stream",
     "text": [
      "[iter_attack.py:160 -     iterative_attack() ] Attach_iter 77 perturbation shape: (1, 268203), perturbation: [[-0.2573823   0.00559811  0.14739156 ...  0.01377707 -0.05997943\n",
      "   0.05078111]]\n",
      "[iter_attack.py:160 -     iterative_attack() ] Attach_iter 77 perturbation shape: (1, 268203), perturbation: [[ 0.15076685 -0.02195572 -0.14474115 ... -0.08545902 -0.0079824\n",
      "   0.02056387]]\n"
     ]
    },
    {
     "name": "stdout",
     "output_type": "stream",
     "text": [
      "(1, 268203)\n",
      "Loaded inverse HVP from output/poisoning_900_300_inception_wd-0.001-test-[15, 169].npz\n",
      "Inverse HVP took 0.000580787658691 sec\n",
      "Entering the for loop\n",
      "(1, 268203)\n",
      "Loaded inverse HVP from output/poisoning_900_300_inception_wd-0.001-test-[15, 169].npz\n",
      "Inverse HVP took 0.000630140304565 sec\n",
      "Entering the for loop\n"
     ]
    },
    {
     "name": "stderr",
     "output_type": "stream",
     "text": [
      "[iter_attack.py:160 -     iterative_attack() ] Attach_iter 77 perturbation shape: (1, 268203), perturbation: [[-0.13283329 -0.23181187  0.15716825 ... -1.32452536  0.75103509\n",
      "  -0.0167712 ]]\n",
      "[iter_attack.py:160 -     iterative_attack() ] Attach_iter 77 perturbation shape: (1, 268203), perturbation: [[-2.28667784 -0.53056341  0.34644282 ... -0.00758121 -0.05079669\n",
      "   0.01812213]]\n"
     ]
    },
    {
     "name": "stdout",
     "output_type": "stream",
     "text": [
      "(1, 268203)\n",
      "Loaded inverse HVP from output/poisoning_900_300_inception_wd-0.001-test-[15, 169].npz\n",
      "Inverse HVP took 0.000703811645508 sec\n",
      "Entering the for loop\n",
      "(1, 268203)\n",
      "Loaded inverse HVP from output/poisoning_900_300_inception_wd-0.001-test-[15, 169].npz\n",
      "Inverse HVP took 0.000582933425903 sec\n",
      "Entering the for loop\n"
     ]
    },
    {
     "name": "stderr",
     "output_type": "stream",
     "text": [
      "[iter_attack.py:160 -     iterative_attack() ] Attach_iter 77 perturbation shape: (1, 268203), perturbation: [[-0.02783884  0.01300114 -0.02656919 ... -0.05298898  0.07358521\n",
      "  -0.029766  ]]\n"
     ]
    },
    {
     "name": "stdout",
     "output_type": "stream",
     "text": [
      "(1, 268203)\n",
      "10 10\n",
      "Shape (10, 2048)\n",
      "Using normal model\n"
     ]
    },
    {
     "name": "stderr",
     "output_type": "stream",
     "text": [
      "[genericNeuralNet.py:328 -     print_model_eval() ] Train loss (w reg) on all data: 0.026551615\n",
      "[genericNeuralNet.py:329 -     print_model_eval() ] Train loss (w/o reg) on all data: 0.013068214\n",
      "[genericNeuralNet.py:331 -     print_model_eval() ] Test loss (w/o reg) on all data: 0.07925785\n",
      "[genericNeuralNet.py:332 -     print_model_eval() ] Train acc on all data:  0.9983333333333333\n",
      "[genericNeuralNet.py:333 -     print_model_eval() ] Test acc on all data:   0.9716666666666667\n",
      "[genericNeuralNet.py:335 -     print_model_eval() ] Norm of the mean of gradients: 0.020936992\n",
      "[genericNeuralNet.py:336 -     print_model_eval() ] Norm of the params: 5.192957\n",
      "[iter_attack.py:204 -     iterative_attack() ] Test_idx: 15 Test pred (full): [[1.4612795e-05 9.9998534e-01]]\n",
      "[iter_attack.py:204 -     iterative_attack() ] Test_idx: 169 Test pred (full): [[0.9981268  0.00187316]]\n",
      "[iter_attack.py:205 -     iterative_attack() ] ---------------------\n",
      "[iter_attack.py:210 -     iterative_attack() ] Test_idx: 15 Test pred (top): [[1.4612795e-05 9.9998534e-01]]\n",
      "[iter_attack.py:210 -     iterative_attack() ] Test_idx: 169 Test pred (top): [[0.9981268  0.00187316]]\n",
      "[iter_attack.py:138 -     iterative_attack() ] *** Iter: 78\n"
     ]
    },
    {
     "name": "stdout",
     "output_type": "stream",
     "text": [
      "LBFGS training took [87] iter.\n",
      "After training with LBFGS: \n",
      "Total number of parameters: 2048\n"
     ]
    },
    {
     "name": "stderr",
     "output_type": "stream",
     "text": [
      "[iter_attack.py:160 -     iterative_attack() ] Attach_iter 78 perturbation shape: (1, 268203), perturbation: [[ 0.1610271  -0.42049509 -0.82829297 ...  0.07547189 -1.07623649\n",
      "   0.86721259]]\n"
     ]
    },
    {
     "name": "stdout",
     "output_type": "stream",
     "text": [
      "Warning: Desired error not necessarily achieved due to precision loss.\n",
      "         Current function value: -3977.010742\n",
      "         Iterations: 11\n",
      "         Function evaluations: 118\n",
      "         Gradient evaluations: 116\n",
      "         Hessian evaluations: 90\n",
      "Inverse HVP took 3.47468495369 sec\n",
      "Loaded inverse HVP from output/poisoning_900_300_inception_wd-0.001-test-[15, 169].npz\n",
      "Inverse HVP took 0.000557899475098 sec\n",
      "Entering the for loop\n",
      "(1, 268203)\n",
      "Loaded inverse HVP from output/poisoning_900_300_inception_wd-0.001-test-[15, 169].npz\n",
      "Inverse HVP took 0.000581026077271 sec\n",
      "Entering the for loop\n"
     ]
    },
    {
     "name": "stderr",
     "output_type": "stream",
     "text": [
      "[iter_attack.py:160 -     iterative_attack() ] Attach_iter 78 perturbation shape: (1, 268203), perturbation: [[-1.63667588e-04 -6.71447895e-04 -7.64958022e-05 ...  8.82415392e-04\n",
      "  -2.08404628e-04  1.89485159e-04]]\n",
      "[iter_attack.py:160 -     iterative_attack() ] Attach_iter 78 perturbation shape: (1, 268203), perturbation: [[-0.0786646  -0.17563343  0.40932032 ... -0.19702438 -0.13638784\n",
      "   0.11768862]]\n"
     ]
    },
    {
     "name": "stdout",
     "output_type": "stream",
     "text": [
      "(1, 268203)\n",
      "Loaded inverse HVP from output/poisoning_900_300_inception_wd-0.001-test-[15, 169].npz\n",
      "Inverse HVP took 0.000587940216064 sec\n",
      "Entering the for loop\n",
      "(1, 268203)\n",
      "Loaded inverse HVP from output/poisoning_900_300_inception_wd-0.001-test-[15, 169].npz\n",
      "Inverse HVP took 0.000598192214966 sec\n",
      "Entering the for loop\n"
     ]
    },
    {
     "name": "stderr",
     "output_type": "stream",
     "text": [
      "[iter_attack.py:160 -     iterative_attack() ] Attach_iter 78 perturbation shape: (1, 268203), perturbation: [[-6.87779859e-03 -2.90442258e-05  5.00759948e-03 ... -3.29032615e-02\n",
      "  -1.80421174e-02  3.02053411e-02]]\n",
      "[iter_attack.py:160 -     iterative_attack() ] Attach_iter 78 perturbation shape: (1, 268203), perturbation: [[-0.00961188  0.00784604  0.02609012 ... -0.19027507  0.09089303\n",
      "   0.02334848]]\n"
     ]
    },
    {
     "name": "stdout",
     "output_type": "stream",
     "text": [
      "(1, 268203)\n",
      "Loaded inverse HVP from output/poisoning_900_300_inception_wd-0.001-test-[15, 169].npz\n",
      "Inverse HVP took 0.000585794448853 sec\n",
      "Entering the for loop\n",
      "(1, 268203)\n",
      "Loaded inverse HVP from output/poisoning_900_300_inception_wd-0.001-test-[15, 169].npz\n",
      "Inverse HVP took 0.000582933425903 sec\n",
      "Entering the for loop\n"
     ]
    },
    {
     "name": "stderr",
     "output_type": "stream",
     "text": [
      "[iter_attack.py:160 -     iterative_attack() ] Attach_iter 78 perturbation shape: (1, 268203), perturbation: [[-0.03678895 -0.25925541  0.06130259 ...  0.07750723 -0.12281528\n",
      "   0.08507638]]\n",
      "[iter_attack.py:160 -     iterative_attack() ] Attach_iter 78 perturbation shape: (1, 268203), perturbation: [[-0.29809809  0.03473802  0.21025656 ... -0.10677625  0.02955308\n",
      "   0.0550896 ]]\n"
     ]
    },
    {
     "name": "stdout",
     "output_type": "stream",
     "text": [
      "(1, 268203)\n",
      "Loaded inverse HVP from output/poisoning_900_300_inception_wd-0.001-test-[15, 169].npz\n",
      "Inverse HVP took 0.000585079193115 sec\n",
      "Entering the for loop\n",
      "(1, 268203)\n",
      "Loaded inverse HVP from output/poisoning_900_300_inception_wd-0.001-test-[15, 169].npz\n",
      "Inverse HVP took 0.000584125518799 sec\n",
      "Entering the for loop\n"
     ]
    },
    {
     "name": "stderr",
     "output_type": "stream",
     "text": [
      "[iter_attack.py:160 -     iterative_attack() ] Attach_iter 78 perturbation shape: (1, 268203), perturbation: [[ 0.28824195 -0.23798686  0.47764271 ...  1.11911941 -0.35805035\n",
      "  -0.52292657]]\n",
      "[iter_attack.py:160 -     iterative_attack() ] Attach_iter 78 perturbation shape: (1, 268203), perturbation: [[ 0.31747651  0.18405358  0.07214262 ... -0.02561339 -0.00234822\n",
      "   0.01028192]]\n"
     ]
    },
    {
     "name": "stdout",
     "output_type": "stream",
     "text": [
      "(1, 268203)\n",
      "Loaded inverse HVP from output/poisoning_900_300_inception_wd-0.001-test-[15, 169].npz\n",
      "Inverse HVP took 0.000581979751587 sec\n",
      "Entering the for loop\n",
      "(1, 268203)\n",
      "Loaded inverse HVP from output/poisoning_900_300_inception_wd-0.001-test-[15, 169].npz\n",
      "Inverse HVP took 0.000585079193115 sec\n",
      "Entering the for loop\n"
     ]
    },
    {
     "name": "stderr",
     "output_type": "stream",
     "text": [
      "[iter_attack.py:160 -     iterative_attack() ] Attach_iter 78 perturbation shape: (1, 268203), perturbation: [[ 0.00108442  0.00176365  0.01107999 ...  0.02813993 -0.04636809\n",
      "   0.00675493]]\n"
     ]
    },
    {
     "name": "stdout",
     "output_type": "stream",
     "text": [
      "(1, 268203)\n",
      "10 10\n",
      "Shape (10, 2048)\n",
      "Using normal model\n"
     ]
    },
    {
     "name": "stderr",
     "output_type": "stream",
     "text": [
      "[genericNeuralNet.py:328 -     print_model_eval() ] Train loss (w reg) on all data: 0.02682389\n",
      "[genericNeuralNet.py:329 -     print_model_eval() ] Train loss (w/o reg) on all data: 0.013338064\n",
      "[genericNeuralNet.py:331 -     print_model_eval() ] Test loss (w/o reg) on all data: 0.07978196\n",
      "[genericNeuralNet.py:332 -     print_model_eval() ] Train acc on all data:  0.9977777777777778\n",
      "[genericNeuralNet.py:333 -     print_model_eval() ] Test acc on all data:   0.97\n",
      "[genericNeuralNet.py:335 -     print_model_eval() ] Norm of the mean of gradients: 0.021880355\n",
      "[genericNeuralNet.py:336 -     print_model_eval() ] Norm of the params: 5.193424\n",
      "[iter_attack.py:204 -     iterative_attack() ] Test_idx: 15 Test pred (full): [[1.3574085e-05 9.9998641e-01]]\n",
      "[iter_attack.py:204 -     iterative_attack() ] Test_idx: 169 Test pred (full): [[0.9983766  0.00162336]]\n",
      "[iter_attack.py:205 -     iterative_attack() ] ---------------------\n",
      "[iter_attack.py:210 -     iterative_attack() ] Test_idx: 15 Test pred (top): [[1.3574085e-05 9.9998641e-01]]\n",
      "[iter_attack.py:210 -     iterative_attack() ] Test_idx: 169 Test pred (top): [[0.9983766  0.00162336]]\n",
      "[iter_attack.py:138 -     iterative_attack() ] *** Iter: 79\n"
     ]
    },
    {
     "name": "stdout",
     "output_type": "stream",
     "text": [
      "LBFGS training took [71] iter.\n",
      "After training with LBFGS: \n",
      "Total number of parameters: 2048\n"
     ]
    },
    {
     "name": "stderr",
     "output_type": "stream",
     "text": [
      "[iter_attack.py:160 -     iterative_attack() ] Attach_iter 79 perturbation shape: (1, 268203), perturbation: [[ 0.29514253 -0.74688137 -0.39267072 ...  0.05782265  0.83573717\n",
      "  -0.98288566]]\n"
     ]
    },
    {
     "name": "stdout",
     "output_type": "stream",
     "text": [
      "Warning: Desired error not necessarily achieved due to precision loss.\n",
      "         Current function value: -3968.471680\n",
      "         Iterations: 10\n",
      "         Function evaluations: 62\n",
      "         Gradient evaluations: 61\n",
      "         Hessian evaluations: 67\n",
      "Inverse HVP took 1.96961522102 sec\n",
      "Loaded inverse HVP from output/poisoning_900_300_inception_wd-0.001-test-[15, 169].npz\n",
      "Inverse HVP took 0.000540018081665 sec\n",
      "Entering the for loop\n",
      "(1, 268203)\n",
      "Loaded inverse HVP from output/poisoning_900_300_inception_wd-0.001-test-[15, 169].npz\n",
      "Inverse HVP took 0.000581026077271 sec\n",
      "Entering the for loop\n"
     ]
    },
    {
     "name": "stderr",
     "output_type": "stream",
     "text": [
      "[iter_attack.py:160 -     iterative_attack() ] Attach_iter 79 perturbation shape: (1, 268203), perturbation: [[ 4.51030792e-05  3.15806596e-04  2.18969799e-04 ... -1.76143149e-04\n",
      "  -8.65499751e-05  2.09443911e-04]]\n",
      "[iter_attack.py:160 -     iterative_attack() ] Attach_iter 79 perturbation shape: (1, 268203), perturbation: [[ 0.13720143  0.11526655 -0.41491842 ... -0.08682811 -0.06251039\n",
      "   0.02599988]]\n"
     ]
    },
    {
     "name": "stdout",
     "output_type": "stream",
     "text": [
      "(1, 268203)\n",
      "Loaded inverse HVP from output/poisoning_900_300_inception_wd-0.001-test-[15, 169].npz\n",
      "Inverse HVP took 0.000592947006226 sec\n",
      "Entering the for loop\n",
      "(1, 268203)\n",
      "Loaded inverse HVP from output/poisoning_900_300_inception_wd-0.001-test-[15, 169].npz\n",
      "Inverse HVP took 0.000581979751587 sec\n",
      "Entering the for loop\n"
     ]
    },
    {
     "name": "stderr",
     "output_type": "stream",
     "text": [
      "[iter_attack.py:160 -     iterative_attack() ] Attach_iter 79 perturbation shape: (1, 268203), perturbation: [[-0.02264163  0.05505856  0.01949706 ...  0.00111596 -0.00167389\n",
      "  -0.00329648]]\n",
      "[iter_attack.py:160 -     iterative_attack() ] Attach_iter 79 perturbation shape: (1, 268203), perturbation: [[-0.00749005 -0.00344476 -0.02749647 ...  0.09500203 -0.01914444\n",
      "  -0.08061772]]\n"
     ]
    },
    {
     "name": "stdout",
     "output_type": "stream",
     "text": [
      "(1, 268203)\n",
      "Loaded inverse HVP from output/poisoning_900_300_inception_wd-0.001-test-[15, 169].npz\n",
      "Inverse HVP took 0.000582933425903 sec\n",
      "Entering the for loop\n",
      "(1, 268203)\n",
      "Loaded inverse HVP from output/poisoning_900_300_inception_wd-0.001-test-[15, 169].npz\n",
      "Inverse HVP took 0.00062084197998 sec\n",
      "Entering the for loop\n"
     ]
    },
    {
     "name": "stderr",
     "output_type": "stream",
     "text": [
      "[iter_attack.py:160 -     iterative_attack() ] Attach_iter 79 perturbation shape: (1, 268203), perturbation: [[-0.25861925 -0.11404318  0.34597653 ... -0.09096104 -0.09201072\n",
      "   0.00258081]]\n",
      "[iter_attack.py:160 -     iterative_attack() ] Attach_iter 79 perturbation shape: (1, 268203), perturbation: [[ 0.10523041 -0.04543253 -0.10557158 ... -0.09435347  0.03595916\n",
      "   0.00803472]]\n"
     ]
    },
    {
     "name": "stdout",
     "output_type": "stream",
     "text": [
      "(1, 268203)\n",
      "Loaded inverse HVP from output/poisoning_900_300_inception_wd-0.001-test-[15, 169].npz\n",
      "Inverse HVP took 0.000586032867432 sec\n",
      "Entering the for loop\n",
      "(1, 268203)\n",
      "Loaded inverse HVP from output/poisoning_900_300_inception_wd-0.001-test-[15, 169].npz\n",
      "Inverse HVP took 0.000619888305664 sec\n",
      "Entering the for loop\n"
     ]
    },
    {
     "name": "stderr",
     "output_type": "stream",
     "text": [
      "[iter_attack.py:160 -     iterative_attack() ] Attach_iter 79 perturbation shape: (1, 268203), perturbation: [[-0.11674178 -0.21606722  0.13686955 ... -1.41969073  0.64671433\n",
      "   0.17358744]]\n",
      "[iter_attack.py:160 -     iterative_attack() ] Attach_iter 79 perturbation shape: (1, 268203), perturbation: [[-1.98821473 -0.52131915  0.34946704 ...  0.07047142 -0.06308813\n",
      "  -0.03023626]]\n"
     ]
    },
    {
     "name": "stdout",
     "output_type": "stream",
     "text": [
      "(1, 268203)\n",
      "Loaded inverse HVP from output/poisoning_900_300_inception_wd-0.001-test-[15, 169].npz\n",
      "Inverse HVP took 0.000583171844482 sec\n",
      "Entering the for loop\n",
      "(1, 268203)\n",
      "Loaded inverse HVP from output/poisoning_900_300_inception_wd-0.001-test-[15, 169].npz\n",
      "Inverse HVP took 0.000627994537354 sec\n",
      "Entering the for loop\n"
     ]
    },
    {
     "name": "stderr",
     "output_type": "stream",
     "text": [
      "[iter_attack.py:160 -     iterative_attack() ] Attach_iter 79 perturbation shape: (1, 268203), perturbation: [[-0.06439167  0.00441383 -0.02371704 ... -0.04800244  0.07650256\n",
      "  -0.03342356]]\n"
     ]
    },
    {
     "name": "stdout",
     "output_type": "stream",
     "text": [
      "(1, 268203)\n",
      "10 10\n",
      "Shape (10, 2048)\n",
      "Using normal model\n"
     ]
    },
    {
     "name": "stderr",
     "output_type": "stream",
     "text": [
      "[genericNeuralNet.py:328 -     print_model_eval() ] Train loss (w reg) on all data: 0.026710436\n",
      "[genericNeuralNet.py:329 -     print_model_eval() ] Train loss (w/o reg) on all data: 0.013190339\n",
      "[genericNeuralNet.py:331 -     print_model_eval() ] Test loss (w/o reg) on all data: 0.07958122\n",
      "[genericNeuralNet.py:332 -     print_model_eval() ] Train acc on all data:  0.9983333333333333\n",
      "[genericNeuralNet.py:333 -     print_model_eval() ] Test acc on all data:   0.9716666666666667\n",
      "[genericNeuralNet.py:335 -     print_model_eval() ] Norm of the mean of gradients: 0.021138327\n",
      "[genericNeuralNet.py:336 -     print_model_eval() ] Norm of the params: 5.200019\n",
      "[iter_attack.py:204 -     iterative_attack() ] Test_idx: 15 Test pred (full): [[1.2698977e-05 9.9998724e-01]]\n",
      "[iter_attack.py:204 -     iterative_attack() ] Test_idx: 169 Test pred (full): [[0.9981179  0.00188206]]\n",
      "[iter_attack.py:205 -     iterative_attack() ] ---------------------\n",
      "[iter_attack.py:210 -     iterative_attack() ] Test_idx: 15 Test pred (top): [[1.2698977e-05 9.9998724e-01]]\n",
      "[iter_attack.py:210 -     iterative_attack() ] Test_idx: 169 Test pred (top): [[0.9981179  0.00188206]]\n",
      "[iter_attack.py:138 -     iterative_attack() ] *** Iter: 80\n"
     ]
    },
    {
     "name": "stdout",
     "output_type": "stream",
     "text": [
      "LBFGS training took [63] iter.\n",
      "After training with LBFGS: \n",
      "Total number of parameters: 2048\n"
     ]
    },
    {
     "name": "stderr",
     "output_type": "stream",
     "text": [
      "[iter_attack.py:160 -     iterative_attack() ] Attach_iter 80 perturbation shape: (1, 268203), perturbation: [[ 0.44084364  0.37036282  0.03383756 ...  0.21182135 -1.00110674\n",
      "   0.89088714]]\n"
     ]
    },
    {
     "name": "stdout",
     "output_type": "stream",
     "text": [
      "Warning: Desired error not necessarily achieved due to precision loss.\n",
      "         Current function value: -3959.981934\n",
      "         Iterations: 10\n",
      "         Function evaluations: 83\n",
      "         Gradient evaluations: 83\n",
      "         Hessian evaluations: 68\n",
      "Inverse HVP took 2.39354896545 sec\n",
      "Loaded inverse HVP from output/poisoning_900_300_inception_wd-0.001-test-[15, 169].npz\n",
      "Inverse HVP took 0.000540971755981 sec\n",
      "Entering the for loop\n",
      "(1, 268203)\n",
      "Loaded inverse HVP from output/poisoning_900_300_inception_wd-0.001-test-[15, 169].npz\n",
      "Inverse HVP took 0.000586986541748 sec\n",
      "Entering the for loop\n"
     ]
    },
    {
     "name": "stderr",
     "output_type": "stream",
     "text": [
      "[iter_attack.py:160 -     iterative_attack() ] Attach_iter 80 perturbation shape: (1, 268203), perturbation: [[-3.19735671e-04 -1.09173986e-03 -3.40703700e-04 ...  6.82644022e-04\n",
      "   4.60392766e-05  4.11626475e-04]]\n",
      "[iter_attack.py:160 -     iterative_attack() ] Attach_iter 80 perturbation shape: (1, 268203), perturbation: [[ 0.07935937  0.02474226  0.22143105 ... -0.24490485 -0.14926834\n",
      "   0.14742967]]\n"
     ]
    },
    {
     "name": "stdout",
     "output_type": "stream",
     "text": [
      "(1, 268203)\n",
      "Loaded inverse HVP from output/poisoning_900_300_inception_wd-0.001-test-[15, 169].npz\n",
      "Inverse HVP took 0.000576972961426 sec\n",
      "Entering the for loop\n",
      "(1, 268203)\n",
      "Loaded inverse HVP from output/poisoning_900_300_inception_wd-0.001-test-[15, 169].npz\n",
      "Inverse HVP took 0.000592947006226 sec\n",
      "Entering the for loop\n"
     ]
    },
    {
     "name": "stderr",
     "output_type": "stream",
     "text": [
      "[iter_attack.py:160 -     iterative_attack() ] Attach_iter 80 perturbation shape: (1, 268203), perturbation: [[-0.00142394  0.0036886   0.00432215 ... -0.01436646 -0.01875262\n",
      "   0.02915435]]\n",
      "[iter_attack.py:160 -     iterative_attack() ] Attach_iter 80 perturbation shape: (1, 268203), perturbation: [[-0.00247715  0.00725801  0.02465726 ... -0.181961   -0.03498748\n",
      "  -0.02066644]]\n"
     ]
    },
    {
     "name": "stdout",
     "output_type": "stream",
     "text": [
      "(1, 268203)\n",
      "Loaded inverse HVP from output/poisoning_900_300_inception_wd-0.001-test-[15, 169].npz\n",
      "Inverse HVP took 0.000580072402954 sec\n",
      "Entering the for loop\n",
      "(1, 268203)\n",
      "Loaded inverse HVP from output/poisoning_900_300_inception_wd-0.001-test-[15, 169].npz\n",
      "Inverse HVP took 0.000581026077271 sec\n",
      "Entering the for loop\n"
     ]
    },
    {
     "name": "stderr",
     "output_type": "stream",
     "text": [
      "[iter_attack.py:160 -     iterative_attack() ] Attach_iter 80 perturbation shape: (1, 268203), perturbation: [[-0.10417443 -0.14744432 -0.02945843 ...  0.0983836  -0.14288743\n",
      "   0.25670204]]\n",
      "[iter_attack.py:160 -     iterative_attack() ] Attach_iter 80 perturbation shape: (1, 268203), perturbation: [[-0.27060771  0.04567621  0.20795116 ... -0.16706206  0.05278976\n",
      "   0.07120343]]\n"
     ]
    },
    {
     "name": "stdout",
     "output_type": "stream",
     "text": [
      "(1, 268203)\n",
      "Loaded inverse HVP from output/poisoning_900_300_inception_wd-0.001-test-[15, 169].npz\n",
      "Inverse HVP took 0.000579833984375 sec\n",
      "Entering the for loop\n",
      "(1, 268203)\n",
      "Loaded inverse HVP from output/poisoning_900_300_inception_wd-0.001-test-[15, 169].npz\n",
      "Inverse HVP took 0.000581979751587 sec\n",
      "Entering the for loop\n"
     ]
    },
    {
     "name": "stderr",
     "output_type": "stream",
     "text": [
      "[iter_attack.py:160 -     iterative_attack() ] Attach_iter 80 perturbation shape: (1, 268203), perturbation: [[ 0.32425684 -0.34767562  0.59109247 ...  1.05705905 -0.32374179\n",
      "  -0.25920948]]\n",
      "[iter_attack.py:160 -     iterative_attack() ] Attach_iter 80 perturbation shape: (1, 268203), perturbation: [[ 0.64941788  0.05443761 -0.17201963 ... -0.06776761 -0.03544412\n",
      "   0.03053626]]\n"
     ]
    },
    {
     "name": "stdout",
     "output_type": "stream",
     "text": [
      "(1, 268203)\n",
      "Loaded inverse HVP from output/poisoning_900_300_inception_wd-0.001-test-[15, 169].npz\n",
      "Inverse HVP took 0.000648021697998 sec\n",
      "Entering the for loop\n",
      "(1, 268203)\n",
      "Loaded inverse HVP from output/poisoning_900_300_inception_wd-0.001-test-[15, 169].npz\n",
      "Inverse HVP took 0.000580072402954 sec\n",
      "Entering the for loop\n"
     ]
    },
    {
     "name": "stderr",
     "output_type": "stream",
     "text": [
      "[iter_attack.py:160 -     iterative_attack() ] Attach_iter 80 perturbation shape: (1, 268203), perturbation: [[ 0.02591321 -0.01971821 -0.01006966 ...  0.02459658 -0.05643526\n",
      "   0.02025334]]\n"
     ]
    },
    {
     "name": "stdout",
     "output_type": "stream",
     "text": [
      "(1, 268203)\n",
      "10 10\n",
      "Shape (10, 2048)\n",
      "Using normal model\n",
      "LBFGS training took [62] iter.\n",
      "After training with LBFGS: \n"
     ]
    },
    {
     "name": "stderr",
     "output_type": "stream",
     "text": [
      "[genericNeuralNet.py:328 -     print_model_eval() ] Train loss (w reg) on all data: 0.027066832\n",
      "[genericNeuralNet.py:329 -     print_model_eval() ] Train loss (w/o reg) on all data: 0.01352486\n",
      "[genericNeuralNet.py:331 -     print_model_eval() ] Test loss (w/o reg) on all data: 0.08021439\n",
      "[genericNeuralNet.py:332 -     print_model_eval() ] Train acc on all data:  0.9977777777777778\n",
      "[genericNeuralNet.py:333 -     print_model_eval() ] Test acc on all data:   0.9716666666666667\n",
      "[genericNeuralNet.py:335 -     print_model_eval() ] Norm of the mean of gradients: 0.022161862\n",
      "[genericNeuralNet.py:336 -     print_model_eval() ] Norm of the params: 5.2042236\n",
      "[iter_attack.py:204 -     iterative_attack() ] Test_idx: 15 Test pred (full): [[1.1856474e-05 9.9998820e-01]]\n",
      "[iter_attack.py:204 -     iterative_attack() ] Test_idx: 169 Test pred (full): [[0.99833435 0.00166562]]\n",
      "[iter_attack.py:205 -     iterative_attack() ] ---------------------\n",
      "[iter_attack.py:210 -     iterative_attack() ] Test_idx: 15 Test pred (top): [[1.1856474e-05 9.9998820e-01]]\n",
      "[iter_attack.py:210 -     iterative_attack() ] Test_idx: 169 Test pred (top): [[0.99833435 0.00166562]]\n",
      "[iter_attack.py:138 -     iterative_attack() ] *** Iter: 81\n"
     ]
    },
    {
     "name": "stdout",
     "output_type": "stream",
     "text": [
      "Total number of parameters: 2048\n"
     ]
    },
    {
     "name": "stderr",
     "output_type": "stream",
     "text": [
      "[iter_attack.py:160 -     iterative_attack() ] Attach_iter 81 perturbation shape: (1, 268203), perturbation: [[-0.47997877 -1.14448822 -0.42436576 ... -0.06908038  0.49529797\n",
      "  -0.7130146 ]]\n"
     ]
    },
    {
     "name": "stdout",
     "output_type": "stream",
     "text": [
      "Warning: Desired error not necessarily achieved due to precision loss.\n",
      "         Current function value: -3953.976562\n",
      "         Iterations: 11\n",
      "         Function evaluations: 93\n",
      "         Gradient evaluations: 92\n",
      "         Hessian evaluations: 89\n",
      "Inverse HVP took 2.80069589615 sec\n",
      "Loaded inverse HVP from output/poisoning_900_300_inception_wd-0.001-test-[15, 169].npz\n",
      "Inverse HVP took 0.000541925430298 sec\n",
      "Entering the for loop\n",
      "(1, 268203)\n",
      "Loaded inverse HVP from output/poisoning_900_300_inception_wd-0.001-test-[15, 169].npz\n",
      "Inverse HVP took 0.000585079193115 sec\n",
      "Entering the for loop\n"
     ]
    },
    {
     "name": "stderr",
     "output_type": "stream",
     "text": [
      "[iter_attack.py:160 -     iterative_attack() ] Attach_iter 81 perturbation shape: (1, 268203), perturbation: [[ 6.88300061e-05  2.86216789e-04  2.58805725e-04 ... -3.65574320e-04\n",
      "   7.76341403e-05  3.29576869e-04]]\n",
      "[iter_attack.py:160 -     iterative_attack() ] Attach_iter 81 perturbation shape: (1, 268203), perturbation: [[ 0.71624243  0.35844707 -0.37841517 ... -0.03351551  0.0420299\n",
      "  -0.01675815]]\n"
     ]
    },
    {
     "name": "stdout",
     "output_type": "stream",
     "text": [
      "(1, 268203)\n",
      "Loaded inverse HVP from output/poisoning_900_300_inception_wd-0.001-test-[15, 169].npz\n",
      "Inverse HVP took 0.000596046447754 sec\n",
      "Entering the for loop\n",
      "(1, 268203)\n",
      "Loaded inverse HVP from output/poisoning_900_300_inception_wd-0.001-test-[15, 169].npz\n",
      "Inverse HVP took 0.00057578086853 sec\n",
      "Entering the for loop\n"
     ]
    },
    {
     "name": "stderr",
     "output_type": "stream",
     "text": [
      "[iter_attack.py:160 -     iterative_attack() ] Attach_iter 81 perturbation shape: (1, 268203), perturbation: [[-0.02089486  0.06269532  0.01971707 ... -0.02239626  0.0061797\n",
      "  -0.0169182 ]]\n",
      "[iter_attack.py:160 -     iterative_attack() ] Attach_iter 81 perturbation shape: (1, 268203), perturbation: [[-0.00290842  0.00585397 -0.03915006 ...  0.04184574 -0.05705234\n",
      "  -0.01745676]]\n"
     ]
    },
    {
     "name": "stdout",
     "output_type": "stream",
     "text": [
      "(1, 268203)\n",
      "Loaded inverse HVP from output/poisoning_900_300_inception_wd-0.001-test-[15, 169].npz\n",
      "Inverse HVP took 0.000575065612793 sec\n",
      "Entering the for loop\n",
      "(1, 268203)\n",
      "Loaded inverse HVP from output/poisoning_900_300_inception_wd-0.001-test-[15, 169].npz\n",
      "Inverse HVP took 0.000604152679443 sec\n",
      "Entering the for loop\n"
     ]
    },
    {
     "name": "stderr",
     "output_type": "stream",
     "text": [
      "[iter_attack.py:160 -     iterative_attack() ] Attach_iter 81 perturbation shape: (1, 268203), perturbation: [[-0.18823649 -0.21172228  0.41988599 ... -0.10877648 -0.10136427\n",
      "  -0.0545564 ]]\n",
      "[iter_attack.py:160 -     iterative_attack() ] Attach_iter 81 perturbation shape: (1, 268203), perturbation: [[ 0.08440353 -0.025432   -0.09550402 ... -0.08875439  0.06785215\n",
      "   0.00240102]]\n"
     ]
    },
    {
     "name": "stdout",
     "output_type": "stream",
     "text": [
      "(1, 268203)\n",
      "Loaded inverse HVP from output/poisoning_900_300_inception_wd-0.001-test-[15, 169].npz\n",
      "Inverse HVP took 0.000620126724243 sec\n",
      "Entering the for loop\n",
      "(1, 268203)\n",
      "Loaded inverse HVP from output/poisoning_900_300_inception_wd-0.001-test-[15, 169].npz\n",
      "Inverse HVP took 0.000577926635742 sec\n",
      "Entering the for loop\n"
     ]
    },
    {
     "name": "stderr",
     "output_type": "stream",
     "text": [
      "[iter_attack.py:160 -     iterative_attack() ] Attach_iter 81 perturbation shape: (1, 268203), perturbation: [[-0.09622081 -0.18235746  0.11155944 ... -0.99913776  0.29797179\n",
      "  -0.06294163]]\n",
      "[iter_attack.py:160 -     iterative_attack() ] Attach_iter 81 perturbation shape: (1, 268203), perturbation: [[-2.50465846 -0.57002264  0.61610544 ...  0.01717686 -0.0135469\n",
      "  -0.0399232 ]]\n"
     ]
    },
    {
     "name": "stdout",
     "output_type": "stream",
     "text": [
      "(1, 268203)\n",
      "Loaded inverse HVP from output/poisoning_900_300_inception_wd-0.001-test-[15, 169].npz\n",
      "Inverse HVP took 0.000582933425903 sec\n",
      "Entering the for loop\n",
      "(1, 268203)\n",
      "Loaded inverse HVP from output/poisoning_900_300_inception_wd-0.001-test-[15, 169].npz\n",
      "Inverse HVP took 0.000626802444458 sec\n",
      "Entering the for loop\n"
     ]
    },
    {
     "name": "stderr",
     "output_type": "stream",
     "text": [
      "[iter_attack.py:160 -     iterative_attack() ] Attach_iter 81 perturbation shape: (1, 268203), perturbation: [[-0.05827862 -0.01301998 -0.04694204 ... -0.0490719   0.07109572\n",
      "  -0.01969171]]\n"
     ]
    },
    {
     "name": "stdout",
     "output_type": "stream",
     "text": [
      "(1, 268203)\n",
      "10 10\n",
      "Shape (10, 2048)\n",
      "Using normal model\n"
     ]
    },
    {
     "name": "stderr",
     "output_type": "stream",
     "text": [
      "[genericNeuralNet.py:328 -     print_model_eval() ] Train loss (w reg) on all data: 0.026867878\n",
      "[genericNeuralNet.py:329 -     print_model_eval() ] Train loss (w/o reg) on all data: 0.013309803\n",
      "[genericNeuralNet.py:331 -     print_model_eval() ] Test loss (w/o reg) on all data: 0.07992231\n",
      "[genericNeuralNet.py:332 -     print_model_eval() ] Train acc on all data:  0.9983333333333333\n",
      "[genericNeuralNet.py:333 -     print_model_eval() ] Test acc on all data:   0.97\n",
      "[genericNeuralNet.py:335 -     print_model_eval() ] Norm of the mean of gradients: 0.021359466\n",
      "[genericNeuralNet.py:336 -     print_model_eval() ] Norm of the params: 5.207317\n",
      "[iter_attack.py:204 -     iterative_attack() ] Test_idx: 15 Test pred (full): [[1.1173721e-05 9.9998879e-01]]\n",
      "[iter_attack.py:204 -     iterative_attack() ] Test_idx: 169 Test pred (full): [[0.9980725  0.00192741]]\n",
      "[iter_attack.py:205 -     iterative_attack() ] ---------------------\n",
      "[iter_attack.py:210 -     iterative_attack() ] Test_idx: 15 Test pred (top): [[1.1173721e-05 9.9998879e-01]]\n",
      "[iter_attack.py:210 -     iterative_attack() ] Test_idx: 169 Test pred (top): [[0.9980725  0.00192741]]\n",
      "[iter_attack.py:138 -     iterative_attack() ] *** Iter: 82\n"
     ]
    },
    {
     "name": "stdout",
     "output_type": "stream",
     "text": [
      "LBFGS training took [77] iter.\n",
      "After training with LBFGS: \n",
      "Total number of parameters: 2048\n"
     ]
    },
    {
     "name": "stderr",
     "output_type": "stream",
     "text": [
      "[iter_attack.py:160 -     iterative_attack() ] Attach_iter 82 perturbation shape: (1, 268203), perturbation: [[ 1.26447964  0.0630582  -0.25134265 ... -0.13605796 -0.86998093\n",
      "   1.08306336]]\n"
     ]
    },
    {
     "name": "stdout",
     "output_type": "stream",
     "text": [
      "Warning: Desired error not necessarily achieved due to precision loss.\n",
      "         Current function value: -3947.217285\n",
      "         Iterations: 12\n",
      "         Function evaluations: 80\n",
      "         Gradient evaluations: 80\n",
      "         Hessian evaluations: 93\n",
      "Inverse HVP took 2.62547206879 sec\n",
      "Loaded inverse HVP from output/poisoning_900_300_inception_wd-0.001-test-[15, 169].npz\n",
      "Inverse HVP took 0.000556945800781 sec\n",
      "Entering the for loop\n",
      "(1, 268203)\n",
      "Loaded inverse HVP from output/poisoning_900_300_inception_wd-0.001-test-[15, 169].npz\n",
      "Inverse HVP took 0.000587940216064 sec\n",
      "Entering the for loop\n"
     ]
    },
    {
     "name": "stderr",
     "output_type": "stream",
     "text": [
      "[iter_attack.py:160 -     iterative_attack() ] Attach_iter 82 perturbation shape: (1, 268203), perturbation: [[-3.05902795e-04 -1.21661345e-03 -3.20967636e-04 ...  2.08736397e-03\n",
      "  -3.29229151e-05 -3.31288786e-04]]\n",
      "[iter_attack.py:160 -     iterative_attack() ] Attach_iter 82 perturbation shape: (1, 268203), perturbation: [[-0.04307932 -0.10572476  0.42097867 ... -0.30862343 -0.26314449\n",
      "   0.18815735]]\n"
     ]
    },
    {
     "name": "stdout",
     "output_type": "stream",
     "text": [
      "(1, 268203)\n",
      "Loaded inverse HVP from output/poisoning_900_300_inception_wd-0.001-test-[15, 169].npz\n",
      "Inverse HVP took 0.000571012496948 sec\n",
      "Entering the for loop\n",
      "(1, 268203)\n",
      "Loaded inverse HVP from output/poisoning_900_300_inception_wd-0.001-test-[15, 169].npz\n",
      "Inverse HVP took 0.000586032867432 sec\n",
      "Entering the for loop\n"
     ]
    },
    {
     "name": "stderr",
     "output_type": "stream",
     "text": [
      "[iter_attack.py:160 -     iterative_attack() ] Attach_iter 82 perturbation shape: (1, 268203), perturbation: [[ 0.00566854  0.00236193  0.00393401 ... -0.01605288 -0.0169616\n",
      "   0.04067072]]\n",
      "[iter_attack.py:160 -     iterative_attack() ] Attach_iter 82 perturbation shape: (1, 268203), perturbation: [[-0.00796563  0.00881276  0.02094129 ... -0.25580361  0.02812822\n",
      "   0.0373913 ]]\n"
     ]
    },
    {
     "name": "stdout",
     "output_type": "stream",
     "text": [
      "(1, 268203)\n",
      "Loaded inverse HVP from output/poisoning_900_300_inception_wd-0.001-test-[15, 169].npz\n",
      "Inverse HVP took 0.000593185424805 sec\n",
      "Entering the for loop\n",
      "(1, 268203)\n",
      "Loaded inverse HVP from output/poisoning_900_300_inception_wd-0.001-test-[15, 169].npz\n",
      "Inverse HVP took 0.000667810440063 sec\n",
      "Entering the for loop\n"
     ]
    },
    {
     "name": "stderr",
     "output_type": "stream",
     "text": [
      "[iter_attack.py:160 -     iterative_attack() ] Attach_iter 82 perturbation shape: (1, 268203), perturbation: [[-0.15580748 -0.07646964 -0.03340703 ...  0.0519986  -0.10055694\n",
      "   0.25794348]]\n",
      "[iter_attack.py:160 -     iterative_attack() ] Attach_iter 82 perturbation shape: (1, 268203), perturbation: [[-0.24946438  0.04264512  0.21742254 ... -0.14090151  0.03285035\n",
      "   0.05703172]]\n"
     ]
    },
    {
     "name": "stdout",
     "output_type": "stream",
     "text": [
      "(1, 268203)\n",
      "Loaded inverse HVP from output/poisoning_900_300_inception_wd-0.001-test-[15, 169].npz\n",
      "Inverse HVP took 0.000581979751587 sec\n",
      "Entering the for loop\n",
      "(1, 268203)\n",
      "Loaded inverse HVP from output/poisoning_900_300_inception_wd-0.001-test-[15, 169].npz\n",
      "Inverse HVP took 0.000580072402954 sec\n",
      "Entering the for loop\n"
     ]
    },
    {
     "name": "stderr",
     "output_type": "stream",
     "text": [
      "[iter_attack.py:160 -     iterative_attack() ] Attach_iter 82 perturbation shape: (1, 268203), perturbation: [[ 0.26430234 -0.4050315   0.6375429  ...  0.84193987 -0.40635893\n",
      "   0.06152584]]\n",
      "[iter_attack.py:160 -     iterative_attack() ] Attach_iter 82 perturbation shape: (1, 268203), perturbation: [[ 0.38697487 -0.02593115 -0.21334401 ... -0.08597366 -0.017034\n",
      "   0.02121121]]\n"
     ]
    },
    {
     "name": "stdout",
     "output_type": "stream",
     "text": [
      "(1, 268203)\n",
      "Loaded inverse HVP from output/poisoning_900_300_inception_wd-0.001-test-[15, 169].npz\n",
      "Inverse HVP took 0.000637054443359 sec\n",
      "Entering the for loop\n",
      "(1, 268203)\n",
      "Loaded inverse HVP from output/poisoning_900_300_inception_wd-0.001-test-[15, 169].npz\n",
      "Inverse HVP took 0.000600099563599 sec\n",
      "Entering the for loop\n"
     ]
    },
    {
     "name": "stderr",
     "output_type": "stream",
     "text": [
      "[iter_attack.py:160 -     iterative_attack() ] Attach_iter 82 perturbation shape: (1, 268203), perturbation: [[ 0.01043123  0.01343729 -0.01895906 ...  0.0279489  -0.05061494\n",
      "   0.01227511]]\n"
     ]
    },
    {
     "name": "stdout",
     "output_type": "stream",
     "text": [
      "(1, 268203)\n",
      "10 10\n",
      "Shape (10, 2048)\n",
      "Using normal model\n"
     ]
    },
    {
     "name": "stderr",
     "output_type": "stream",
     "text": [
      "[genericNeuralNet.py:328 -     print_model_eval() ] Train loss (w reg) on all data: 0.027269736\n",
      "[genericNeuralNet.py:329 -     print_model_eval() ] Train loss (w/o reg) on all data: 0.013678263\n",
      "[genericNeuralNet.py:331 -     print_model_eval() ] Test loss (w/o reg) on all data: 0.08058366\n",
      "[genericNeuralNet.py:332 -     print_model_eval() ] Train acc on all data:  0.9977777777777778\n",
      "[genericNeuralNet.py:333 -     print_model_eval() ] Test acc on all data:   0.9716666666666667\n",
      "[genericNeuralNet.py:335 -     print_model_eval() ] Norm of the mean of gradients: 0.022388354\n",
      "[genericNeuralNet.py:336 -     print_model_eval() ] Norm of the params: 5.2137265\n",
      "[iter_attack.py:204 -     iterative_attack() ] Test_idx: 15 Test pred (full): [[1.0378268e-05 9.9998963e-01]]\n",
      "[iter_attack.py:204 -     iterative_attack() ] Test_idx: 169 Test pred (full): [[0.9982785  0.00172154]]\n",
      "[iter_attack.py:205 -     iterative_attack() ] ---------------------\n",
      "[iter_attack.py:210 -     iterative_attack() ] Test_idx: 15 Test pred (top): [[1.0378268e-05 9.9998963e-01]]\n",
      "[iter_attack.py:210 -     iterative_attack() ] Test_idx: 169 Test pred (top): [[0.9982785  0.00172154]]\n",
      "[iter_attack.py:138 -     iterative_attack() ] *** Iter: 83\n"
     ]
    },
    {
     "name": "stdout",
     "output_type": "stream",
     "text": [
      "LBFGS training took [78] iter.\n",
      "After training with LBFGS: \n",
      "Total number of parameters: 2048\n"
     ]
    },
    {
     "name": "stderr",
     "output_type": "stream",
     "text": [
      "[iter_attack.py:160 -     iterative_attack() ] Attach_iter 83 perturbation shape: (1, 268203), perturbation: [[-0.90451092 -1.2022754  -0.87934417 ...  0.14890017  0.40434855\n",
      "  -0.91114426]]\n"
     ]
    },
    {
     "name": "stdout",
     "output_type": "stream",
     "text": [
      "Warning: Desired error not necessarily achieved due to precision loss.\n",
      "         Current function value: -3936.765625\n",
      "         Iterations: 10\n",
      "         Function evaluations: 84\n",
      "         Gradient evaluations: 82\n",
      "         Hessian evaluations: 69\n",
      "Inverse HVP took 2.58175301552 sec\n",
      "Loaded inverse HVP from output/poisoning_900_300_inception_wd-0.001-test-[15, 169].npz\n",
      "Inverse HVP took 0.000548839569092 sec\n",
      "Entering the for loop\n",
      "(1, 268203)\n",
      "Loaded inverse HVP from output/poisoning_900_300_inception_wd-0.001-test-[15, 169].npz\n",
      "Inverse HVP took 0.000634908676147 sec\n",
      "Entering the for loop\n"
     ]
    },
    {
     "name": "stderr",
     "output_type": "stream",
     "text": [
      "[iter_attack.py:160 -     iterative_attack() ] Attach_iter 83 perturbation shape: (1, 268203), perturbation: [[ 1.71083608e-04  4.29611915e-04  5.06427255e-04 ... -3.02533095e-04\n",
      "  -3.46779780e-05  3.74562223e-04]]\n",
      "[iter_attack.py:160 -     iterative_attack() ] Attach_iter 83 perturbation shape: (1, 268203), perturbation: [[ 0.4617531   0.23308609 -0.45450848 ... -0.02582555 -0.0111679\n",
      "   0.0096661 ]]\n"
     ]
    },
    {
     "name": "stdout",
     "output_type": "stream",
     "text": [
      "(1, 268203)\n",
      "Loaded inverse HVP from output/poisoning_900_300_inception_wd-0.001-test-[15, 169].npz\n",
      "Inverse HVP took 0.000626087188721 sec\n",
      "Entering the for loop\n",
      "(1, 268203)\n",
      "Loaded inverse HVP from output/poisoning_900_300_inception_wd-0.001-test-[15, 169].npz\n",
      "Inverse HVP took 0.000584125518799 sec\n",
      "Entering the for loop\n"
     ]
    },
    {
     "name": "stderr",
     "output_type": "stream",
     "text": [
      "[iter_attack.py:160 -     iterative_attack() ] Attach_iter 83 perturbation shape: (1, 268203), perturbation: [[-0.03259447  0.04811649  0.02799255 ... -0.00546579  0.009192\n",
      "  -0.02949094]]\n",
      "[iter_attack.py:160 -     iterative_attack() ] Attach_iter 83 perturbation shape: (1, 268203), perturbation: [[ 0.00089735 -0.0064586  -0.04617681 ...  0.08448282  0.08576058\n",
      "  -0.0436562 ]]\n"
     ]
    },
    {
     "name": "stdout",
     "output_type": "stream",
     "text": [
      "(1, 268203)\n",
      "Loaded inverse HVP from output/poisoning_900_300_inception_wd-0.001-test-[15, 169].npz\n",
      "Inverse HVP took 0.000583171844482 sec\n",
      "Entering the for loop\n",
      "(1, 268203)\n",
      "Loaded inverse HVP from output/poisoning_900_300_inception_wd-0.001-test-[15, 169].npz\n",
      "Inverse HVP took 0.000585079193115 sec\n",
      "Entering the for loop\n"
     ]
    },
    {
     "name": "stderr",
     "output_type": "stream",
     "text": [
      "[iter_attack.py:160 -     iterative_attack() ] Attach_iter 83 perturbation shape: (1, 268203), perturbation: [[-0.24451861 -0.14410543  0.38152817 ... -0.05060445 -0.08205954\n",
      "  -0.12622164]]\n",
      "[iter_attack.py:160 -     iterative_attack() ] Attach_iter 83 perturbation shape: (1, 268203), perturbation: [[ 0.05619895 -0.01831901 -0.06154009 ... -0.07018423  0.09301519\n",
      "  -0.0172813 ]]\n"
     ]
    },
    {
     "name": "stdout",
     "output_type": "stream",
     "text": [
      "(1, 268203)\n",
      "Loaded inverse HVP from output/poisoning_900_300_inception_wd-0.001-test-[15, 169].npz\n",
      "Inverse HVP took 0.000581026077271 sec\n",
      "Entering the for loop\n",
      "(1, 268203)\n",
      "Loaded inverse HVP from output/poisoning_900_300_inception_wd-0.001-test-[15, 169].npz\n",
      "Inverse HVP took 0.000584840774536 sec\n",
      "Entering the for loop\n"
     ]
    },
    {
     "name": "stderr",
     "output_type": "stream",
     "text": [
      "[iter_attack.py:160 -     iterative_attack() ] Attach_iter 83 perturbation shape: (1, 268203), perturbation: [[-0.049589   -0.16115448  0.08331398 ... -0.79804695  0.29626048\n",
      "  -0.34574351]]\n",
      "[iter_attack.py:160 -     iterative_attack() ] Attach_iter 83 perturbation shape: (1, 268203), perturbation: [[-1.91626716 -0.42495683  0.53470039 ...  0.05830916 -0.0438379\n",
      "  -0.04573904]]\n"
     ]
    },
    {
     "name": "stdout",
     "output_type": "stream",
     "text": [
      "(1, 268203)\n",
      "Loaded inverse HVP from output/poisoning_900_300_inception_wd-0.001-test-[15, 169].npz\n",
      "Inverse HVP took 0.000602006912231 sec\n",
      "Entering the for loop\n",
      "(1, 268203)\n",
      "Loaded inverse HVP from output/poisoning_900_300_inception_wd-0.001-test-[15, 169].npz\n",
      "Inverse HVP took 0.000582933425903 sec\n",
      "Entering the for loop\n"
     ]
    },
    {
     "name": "stderr",
     "output_type": "stream",
     "text": [
      "[iter_attack.py:160 -     iterative_attack() ] Attach_iter 83 perturbation shape: (1, 268203), perturbation: [[-0.07952629  0.01835115 -0.00714306 ... -0.03669748  0.0758858\n",
      "  -0.03021297]]\n"
     ]
    },
    {
     "name": "stdout",
     "output_type": "stream",
     "text": [
      "(1, 268203)\n",
      "10 10\n"
     ]
    },
    {
     "name": "stderr",
     "output_type": "stream",
     "text": [
      "[genericNeuralNet.py:328 -     print_model_eval() ] Train loss (w reg) on all data: 0.027060397\n",
      "[genericNeuralNet.py:329 -     print_model_eval() ] Train loss (w/o reg) on all data: 0.013452407\n",
      "[genericNeuralNet.py:331 -     print_model_eval() ] Test loss (w/o reg) on all data: 0.080382355\n",
      "[genericNeuralNet.py:332 -     print_model_eval() ] Train acc on all data:  0.9983333333333333\n",
      "[genericNeuralNet.py:333 -     print_model_eval() ] Test acc on all data:   0.9733333333333334\n",
      "[genericNeuralNet.py:335 -     print_model_eval() ] Norm of the mean of gradients: 0.021602355\n",
      "[genericNeuralNet.py:336 -     print_model_eval() ] Norm of the params: 5.2168946\n"
     ]
    },
    {
     "name": "stdout",
     "output_type": "stream",
     "text": [
      "Shape (10, 2048)\n",
      "Using normal model\n",
      "LBFGS training took [52] iter.\n",
      "After training with LBFGS: \n"
     ]
    },
    {
     "name": "stderr",
     "output_type": "stream",
     "text": [
      "[iter_attack.py:204 -     iterative_attack() ] Test_idx: 15 Test pred (full): [[9.832711e-06 9.999902e-01]]\n",
      "[iter_attack.py:204 -     iterative_attack() ] Test_idx: 169 Test pred (full): [[0.9980888 0.0019112]]\n",
      "[iter_attack.py:205 -     iterative_attack() ] ---------------------\n",
      "[iter_attack.py:210 -     iterative_attack() ] Test_idx: 15 Test pred (top): [[9.832711e-06 9.999902e-01]]\n",
      "[iter_attack.py:210 -     iterative_attack() ] Test_idx: 169 Test pred (top): [[0.9980888 0.0019112]]\n",
      "[iter_attack.py:138 -     iterative_attack() ] *** Iter: 84\n"
     ]
    },
    {
     "name": "stdout",
     "output_type": "stream",
     "text": [
      "Total number of parameters: 2048\n"
     ]
    },
    {
     "name": "stderr",
     "output_type": "stream",
     "text": [
      "[iter_attack.py:160 -     iterative_attack() ] Attach_iter 84 perturbation shape: (1, 268203), perturbation: [[ 1.25508857 -0.20176256 -0.3841868  ...  0.16848788 -0.61676705\n",
      "   0.90436703]]\n"
     ]
    },
    {
     "name": "stdout",
     "output_type": "stream",
     "text": [
      "Warning: Desired error not necessarily achieved due to precision loss.\n",
      "         Current function value: -3937.670410\n",
      "         Iterations: 10\n",
      "         Function evaluations: 73\n",
      "         Gradient evaluations: 72\n",
      "         Hessian evaluations: 70\n",
      "Inverse HVP took 2.39180803299 sec\n",
      "Loaded inverse HVP from output/poisoning_900_300_inception_wd-0.001-test-[15, 169].npz\n",
      "Inverse HVP took 0.000547170639038 sec\n",
      "Entering the for loop\n",
      "(1, 268203)\n",
      "Loaded inverse HVP from output/poisoning_900_300_inception_wd-0.001-test-[15, 169].npz\n",
      "Inverse HVP took 0.000581979751587 sec\n",
      "Entering the for loop\n"
     ]
    },
    {
     "name": "stderr",
     "output_type": "stream",
     "text": [
      "[iter_attack.py:160 -     iterative_attack() ] Attach_iter 84 perturbation shape: (1, 268203), perturbation: [[-0.00013796 -0.00115232 -0.00014934 ...  0.00223688  0.00091299\n",
      "  -0.00061931]]\n",
      "[iter_attack.py:160 -     iterative_attack() ] Attach_iter 84 perturbation shape: (1, 268203), perturbation: [[-0.26560992 -0.22379249  0.60124463 ... -0.27671459 -0.28452563\n",
      "   0.16689894]]\n"
     ]
    },
    {
     "name": "stdout",
     "output_type": "stream",
     "text": [
      "(1, 268203)\n",
      "Loaded inverse HVP from output/poisoning_900_300_inception_wd-0.001-test-[15, 169].npz\n",
      "Inverse HVP took 0.000597953796387 sec\n",
      "Entering the for loop\n",
      "(1, 268203)\n",
      "Loaded inverse HVP from output/poisoning_900_300_inception_wd-0.001-test-[15, 169].npz\n",
      "Inverse HVP took 0.000585079193115 sec\n",
      "Entering the for loop\n"
     ]
    },
    {
     "name": "stderr",
     "output_type": "stream",
     "text": [
      "[iter_attack.py:160 -     iterative_attack() ] Attach_iter 84 perturbation shape: (1, 268203), perturbation: [[-0.01387107  0.01602685  0.01176199 ... -0.00178943 -0.01850723\n",
      "   0.04179658]]\n",
      "[iter_attack.py:160 -     iterative_attack() ] Attach_iter 84 perturbation shape: (1, 268203), perturbation: [[-0.01220872  0.01393945  0.02653288 ... -0.24813341 -0.0850963\n",
      "   0.04240507]]\n"
     ]
    },
    {
     "name": "stdout",
     "output_type": "stream",
     "text": [
      "(1, 268203)\n",
      "Loaded inverse HVP from output/poisoning_900_300_inception_wd-0.001-test-[15, 169].npz\n",
      "Inverse HVP took 0.000588893890381 sec\n",
      "Entering the for loop\n",
      "(1, 268203)\n",
      "Loaded inverse HVP from output/poisoning_900_300_inception_wd-0.001-test-[15, 169].npz\n",
      "Inverse HVP took 0.000613927841187 sec\n",
      "Entering the for loop\n"
     ]
    },
    {
     "name": "stderr",
     "output_type": "stream",
     "text": [
      "[iter_attack.py:160 -     iterative_attack() ] Attach_iter 84 perturbation shape: (1, 268203), perturbation: [[-0.11902463 -0.10415783 -0.00844957 ...  0.09734127 -0.12343894\n",
      "   0.28441426]]\n",
      "[iter_attack.py:160 -     iterative_attack() ] Attach_iter 84 perturbation shape: (1, 268203), perturbation: [[-0.32232505  0.03828735  0.19141881 ... -0.16458648  0.00735459\n",
      "   0.07429866]]\n"
     ]
    },
    {
     "name": "stdout",
     "output_type": "stream",
     "text": [
      "(1, 268203)\n",
      "Loaded inverse HVP from output/poisoning_900_300_inception_wd-0.001-test-[15, 169].npz\n",
      "Inverse HVP took 0.000586986541748 sec\n",
      "Entering the for loop\n",
      "(1, 268203)\n",
      "Loaded inverse HVP from output/poisoning_900_300_inception_wd-0.001-test-[15, 169].npz\n",
      "Inverse HVP took 0.000606060028076 sec\n",
      "Entering the for loop\n"
     ]
    },
    {
     "name": "stderr",
     "output_type": "stream",
     "text": [
      "[iter_attack.py:160 -     iterative_attack() ] Attach_iter 84 perturbation shape: (1, 268203), perturbation: [[ 0.2685613  -0.39432743  0.66935945 ...  0.56987911 -0.45425475\n",
      "   0.22736019]]\n",
      "[iter_attack.py:160 -     iterative_attack() ] Attach_iter 84 perturbation shape: (1, 268203), perturbation: [[ 0.55982947  0.0187801  -0.23087943 ... -0.05356874 -0.02871768\n",
      "   0.01384507]]\n"
     ]
    },
    {
     "name": "stdout",
     "output_type": "stream",
     "text": [
      "(1, 268203)\n",
      "Loaded inverse HVP from output/poisoning_900_300_inception_wd-0.001-test-[15, 169].npz\n",
      "Inverse HVP took 0.000581026077271 sec\n",
      "Entering the for loop\n",
      "(1, 268203)\n",
      "Loaded inverse HVP from output/poisoning_900_300_inception_wd-0.001-test-[15, 169].npz\n",
      "Inverse HVP took 0.000584125518799 sec\n",
      "Entering the for loop\n"
     ]
    },
    {
     "name": "stderr",
     "output_type": "stream",
     "text": [
      "[iter_attack.py:160 -     iterative_attack() ] Attach_iter 84 perturbation shape: (1, 268203), perturbation: [[ 0.0087619  -0.00012844  0.00367806 ...  0.01045522 -0.03572235\n",
      "   0.00682215]]\n"
     ]
    },
    {
     "name": "stdout",
     "output_type": "stream",
     "text": [
      "(1, 268203)\n",
      "10 10\n",
      "Shape (10, 2048)\n",
      "Using normal model\n"
     ]
    },
    {
     "name": "stderr",
     "output_type": "stream",
     "text": [
      "[genericNeuralNet.py:328 -     print_model_eval() ] Train loss (w reg) on all data: 0.027432349\n",
      "[genericNeuralNet.py:329 -     print_model_eval() ] Train loss (w/o reg) on all data: 0.013795411\n",
      "[genericNeuralNet.py:331 -     print_model_eval() ] Test loss (w/o reg) on all data: 0.0807561\n",
      "[genericNeuralNet.py:332 -     print_model_eval() ] Train acc on all data:  0.9977777777777778\n",
      "[genericNeuralNet.py:333 -     print_model_eval() ] Test acc on all data:   0.97\n",
      "[genericNeuralNet.py:335 -     print_model_eval() ] Norm of the mean of gradients: 0.022572787\n",
      "[genericNeuralNet.py:336 -     print_model_eval() ] Norm of the params: 5.22244\n",
      "[iter_attack.py:204 -     iterative_attack() ] Test_idx: 15 Test pred (full): [[9.147557e-06 9.999908e-01]]\n",
      "[iter_attack.py:204 -     iterative_attack() ] Test_idx: 169 Test pred (full): [[0.9981902  0.00180982]]\n",
      "[iter_attack.py:205 -     iterative_attack() ] ---------------------\n",
      "[iter_attack.py:210 -     iterative_attack() ] Test_idx: 15 Test pred (top): [[9.147557e-06 9.999908e-01]]\n",
      "[iter_attack.py:210 -     iterative_attack() ] Test_idx: 169 Test pred (top): [[0.9981902  0.00180982]]\n",
      "[iter_attack.py:138 -     iterative_attack() ] *** Iter: 85\n"
     ]
    },
    {
     "name": "stdout",
     "output_type": "stream",
     "text": [
      "LBFGS training took [71] iter.\n",
      "After training with LBFGS: \n",
      "Total number of parameters: 2048\n"
     ]
    },
    {
     "name": "stderr",
     "output_type": "stream",
     "text": [
      "[iter_attack.py:160 -     iterative_attack() ] Attach_iter 85 perturbation shape: (1, 268203), perturbation: [[-0.621517   -0.7653743  -0.80751538 ... -0.15961675  0.11414927\n",
      "  -0.54084092]]\n"
     ]
    },
    {
     "name": "stdout",
     "output_type": "stream",
     "text": [
      "Warning: Desired error not necessarily achieved due to precision loss.\n",
      "         Current function value: -3920.571533\n",
      "         Iterations: 9\n",
      "         Function evaluations: 71\n",
      "         Gradient evaluations: 69\n",
      "         Hessian evaluations: 60\n",
      "Inverse HVP took 2.14053702354 sec\n",
      "Loaded inverse HVP from output/poisoning_900_300_inception_wd-0.001-test-[15, 169].npz\n",
      "Inverse HVP took 0.000545978546143 sec\n",
      "Entering the for loop\n",
      "(1, 268203)\n",
      "Loaded inverse HVP from output/poisoning_900_300_inception_wd-0.001-test-[15, 169].npz\n",
      "Inverse HVP took 0.000630855560303 sec\n",
      "Entering the for loop\n"
     ]
    },
    {
     "name": "stderr",
     "output_type": "stream",
     "text": [
      "[iter_attack.py:160 -     iterative_attack() ] Attach_iter 85 perturbation shape: (1, 268203), perturbation: [[ 0.00024277  0.0005241   0.00069296 ... -0.00029449 -0.00024355\n",
      "   0.00048512]]\n",
      "[iter_attack.py:160 -     iterative_attack() ] Attach_iter 85 perturbation shape: (1, 268203), perturbation: [[ 0.98368752  0.52949947 -0.54733545 ... -0.07849665  0.05378078\n",
      "   0.04215737]]\n"
     ]
    },
    {
     "name": "stdout",
     "output_type": "stream",
     "text": [
      "(1, 268203)\n",
      "Loaded inverse HVP from output/poisoning_900_300_inception_wd-0.001-test-[15, 169].npz\n",
      "Inverse HVP took 0.000599145889282 sec\n",
      "Entering the for loop\n",
      "(1, 268203)\n",
      "Loaded inverse HVP from output/poisoning_900_300_inception_wd-0.001-test-[15, 169].npz\n",
      "Inverse HVP took 0.000588178634644 sec\n",
      "Entering the for loop\n"
     ]
    },
    {
     "name": "stderr",
     "output_type": "stream",
     "text": [
      "[iter_attack.py:160 -     iterative_attack() ] Attach_iter 85 perturbation shape: (1, 268203), perturbation: [[-0.02636468  0.02015648  0.02873547 ... -0.00769016  0.01076118\n",
      "  -0.02134722]]\n",
      "[iter_attack.py:160 -     iterative_attack() ] Attach_iter 85 perturbation shape: (1, 268203), perturbation: [[ 0.00298554 -0.00598759 -0.04259203 ...  0.00941276  0.04355427\n",
      "  -0.06952942]]\n"
     ]
    },
    {
     "name": "stdout",
     "output_type": "stream",
     "text": [
      "(1, 268203)\n",
      "Loaded inverse HVP from output/poisoning_900_300_inception_wd-0.001-test-[15, 169].npz\n",
      "Inverse HVP took 0.000602006912231 sec\n",
      "Entering the for loop\n",
      "(1, 268203)\n",
      "Loaded inverse HVP from output/poisoning_900_300_inception_wd-0.001-test-[15, 169].npz\n",
      "Inverse HVP took 0.000576972961426 sec\n",
      "Entering the for loop\n"
     ]
    },
    {
     "name": "stderr",
     "output_type": "stream",
     "text": [
      "[iter_attack.py:160 -     iterative_attack() ] Attach_iter 85 perturbation shape: (1, 268203), perturbation: [[-0.27587229 -0.1112029   0.41949069 ... -0.04250772 -0.07792879\n",
      "  -0.07962774]]\n",
      "[iter_attack.py:160 -     iterative_attack() ] Attach_iter 85 perturbation shape: (1, 268203), perturbation: [[ 0.18741237 -0.0690719  -0.06651337 ... -0.09287117  0.12342229\n",
      "  -0.00249401]]\n"
     ]
    },
    {
     "name": "stdout",
     "output_type": "stream",
     "text": [
      "(1, 268203)\n",
      "Loaded inverse HVP from output/poisoning_900_300_inception_wd-0.001-test-[15, 169].npz\n",
      "Inverse HVP took 0.000581979751587 sec\n",
      "Entering the for loop\n",
      "(1, 268203)\n",
      "Loaded inverse HVP from output/poisoning_900_300_inception_wd-0.001-test-[15, 169].npz\n",
      "Inverse HVP took 0.000583171844482 sec\n",
      "Entering the for loop\n"
     ]
    },
    {
     "name": "stderr",
     "output_type": "stream",
     "text": [
      "[iter_attack.py:160 -     iterative_attack() ] Attach_iter 85 perturbation shape: (1, 268203), perturbation: [[-0.06738061 -0.05693489 -0.05853836 ... -0.48292878  0.27217746\n",
      "  -0.40324497]]\n",
      "[iter_attack.py:160 -     iterative_attack() ] Attach_iter 85 perturbation shape: (1, 268203), perturbation: [[-1.44593978 -0.22893023  0.44980156 ...  0.02094625 -0.02371338\n",
      "  -0.00671172]]\n"
     ]
    },
    {
     "name": "stdout",
     "output_type": "stream",
     "text": [
      "(1, 268203)\n",
      "Loaded inverse HVP from output/poisoning_900_300_inception_wd-0.001-test-[15, 169].npz\n",
      "Inverse HVP took 0.000580072402954 sec\n",
      "Entering the for loop\n",
      "(1, 268203)\n",
      "Loaded inverse HVP from output/poisoning_900_300_inception_wd-0.001-test-[15, 169].npz\n",
      "Inverse HVP took 0.000579118728638 sec\n",
      "Entering the for loop\n"
     ]
    },
    {
     "name": "stderr",
     "output_type": "stream",
     "text": [
      "[iter_attack.py:160 -     iterative_attack() ] Attach_iter 85 perturbation shape: (1, 268203), perturbation: [[-0.08731107  0.02912545 -0.00371398 ... -0.02717989  0.0577326\n",
      "  -0.02179955]]\n"
     ]
    },
    {
     "name": "stdout",
     "output_type": "stream",
     "text": [
      "(1, 268203)\n",
      "10 10\n",
      "Shape (10, 2048)\n",
      "Using normal model\n",
      "LBFGS training took [74] iter.\n",
      "After training with LBFGS: \n"
     ]
    },
    {
     "name": "stderr",
     "output_type": "stream",
     "text": [
      "[genericNeuralNet.py:328 -     print_model_eval() ] Train loss (w reg) on all data: 0.02723321\n",
      "[genericNeuralNet.py:329 -     print_model_eval() ] Train loss (w/o reg) on all data: 0.013581497\n",
      "[genericNeuralNet.py:331 -     print_model_eval() ] Test loss (w/o reg) on all data: 0.08065515\n",
      "[genericNeuralNet.py:332 -     print_model_eval() ] Train acc on all data:  0.9983333333333333\n",
      "[genericNeuralNet.py:333 -     print_model_eval() ] Test acc on all data:   0.9733333333333334\n",
      "[genericNeuralNet.py:335 -     print_model_eval() ] Norm of the mean of gradients: 0.021818923\n",
      "[genericNeuralNet.py:336 -     print_model_eval() ] Norm of the params: 5.2252684\n",
      "[iter_attack.py:204 -     iterative_attack() ] Test_idx: 15 Test pred (full): [[8.765216e-06 9.999912e-01]]\n",
      "[iter_attack.py:204 -     iterative_attack() ] Test_idx: 169 Test pred (full): [[0.9981059  0.00189409]]\n",
      "[iter_attack.py:205 -     iterative_attack() ] ---------------------\n",
      "[iter_attack.py:210 -     iterative_attack() ] Test_idx: 15 Test pred (top): [[8.765216e-06 9.999912e-01]]\n",
      "[iter_attack.py:210 -     iterative_attack() ] Test_idx: 169 Test pred (top): [[0.9981059  0.00189409]]\n",
      "[iter_attack.py:138 -     iterative_attack() ] *** Iter: 86\n"
     ]
    },
    {
     "name": "stdout",
     "output_type": "stream",
     "text": [
      "Total number of parameters: 2048\n"
     ]
    },
    {
     "name": "stderr",
     "output_type": "stream",
     "text": [
      "[iter_attack.py:160 -     iterative_attack() ] Attach_iter 86 perturbation shape: (1, 268203), perturbation: [[ 0.88834375 -0.47667041 -0.09625262 ...  0.32522047 -0.02278624\n",
      "   0.21621834]]\n"
     ]
    },
    {
     "name": "stdout",
     "output_type": "stream",
     "text": [
      "Warning: Desired error not necessarily achieved due to precision loss.\n",
      "         Current function value: -3930.439941\n",
      "         Iterations: 12\n",
      "         Function evaluations: 145\n",
      "         Gradient evaluations: 143\n",
      "         Hessian evaluations: 85\n",
      "Inverse HVP took 3.91963195801 sec\n",
      "Loaded inverse HVP from output/poisoning_900_300_inception_wd-0.001-test-[15, 169].npz\n",
      "Inverse HVP took 0.00054407119751 sec\n",
      "Entering the for loop\n",
      "(1, 268203)\n",
      "Loaded inverse HVP from output/poisoning_900_300_inception_wd-0.001-test-[15, 169].npz\n",
      "Inverse HVP took 0.000586032867432 sec\n",
      "Entering the for loop\n"
     ]
    },
    {
     "name": "stderr",
     "output_type": "stream",
     "text": [
      "[iter_attack.py:160 -     iterative_attack() ] Attach_iter 86 perturbation shape: (1, 268203), perturbation: [[-1.77421844e-05 -1.00889662e-03 -2.60404267e-05 ...  2.06865277e-03\n",
      "   1.63297693e-03 -8.49261123e-04]]\n",
      "[iter_attack.py:160 -     iterative_attack() ] Attach_iter 86 perturbation shape: (1, 268203), perturbation: [[ 0.12479177 -0.03456122  0.55833554 ... -0.28308523 -0.32392496\n",
      "   0.15857609]]\n"
     ]
    },
    {
     "name": "stdout",
     "output_type": "stream",
     "text": [
      "(1, 268203)\n",
      "Loaded inverse HVP from output/poisoning_900_300_inception_wd-0.001-test-[15, 169].npz\n",
      "Inverse HVP took 0.000578165054321 sec\n",
      "Entering the for loop\n",
      "(1, 268203)\n",
      "Loaded inverse HVP from output/poisoning_900_300_inception_wd-0.001-test-[15, 169].npz\n",
      "Inverse HVP took 0.00059700012207 sec\n",
      "Entering the for loop\n"
     ]
    },
    {
     "name": "stderr",
     "output_type": "stream",
     "text": [
      "[iter_attack.py:160 -     iterative_attack() ] Attach_iter 86 perturbation shape: (1, 268203), perturbation: [[-0.02106152  0.02218113  0.01849714 ... -0.00376847 -0.01648345\n",
      "   0.03491824]]\n",
      "[iter_attack.py:160 -     iterative_attack() ] Attach_iter 86 perturbation shape: (1, 268203), perturbation: [[-1.36243179e-04  4.79292590e-03  1.36103043e-02 ... -2.36108825e-01\n",
      "  -1.75077356e-02  6.47077188e-02]]\n"
     ]
    },
    {
     "name": "stdout",
     "output_type": "stream",
     "text": [
      "(1, 268203)\n",
      "Loaded inverse HVP from output/poisoning_900_300_inception_wd-0.001-test-[15, 169].npz\n",
      "Inverse HVP took 0.000576972961426 sec\n",
      "Entering the for loop\n",
      "(1, 268203)\n",
      "Loaded inverse HVP from output/poisoning_900_300_inception_wd-0.001-test-[15, 169].npz\n",
      "Inverse HVP took 0.000584125518799 sec\n",
      "Entering the for loop\n"
     ]
    },
    {
     "name": "stderr",
     "output_type": "stream",
     "text": [
      "[iter_attack.py:160 -     iterative_attack() ] Attach_iter 86 perturbation shape: (1, 268203), perturbation: [[-0.01662841 -0.17385289 -0.08556916 ...  0.0645977  -0.14966929\n",
      "   0.29591924]]\n",
      "[iter_attack.py:160 -     iterative_attack() ] Attach_iter 86 perturbation shape: (1, 268203), perturbation: [[-0.54228717  0.03305092  0.24056396 ... -0.10541268 -0.00173445\n",
      "   0.03230225]]\n"
     ]
    },
    {
     "name": "stdout",
     "output_type": "stream",
     "text": [
      "(1, 268203)\n",
      "Loaded inverse HVP from output/poisoning_900_300_inception_wd-0.001-test-[15, 169].npz\n",
      "Inverse HVP took 0.000574827194214 sec\n",
      "Entering the for loop\n",
      "(1, 268203)\n",
      "Loaded inverse HVP from output/poisoning_900_300_inception_wd-0.001-test-[15, 169].npz\n",
      "Inverse HVP took 0.000591993331909 sec\n",
      "Entering the for loop\n"
     ]
    },
    {
     "name": "stderr",
     "output_type": "stream",
     "text": [
      "[iter_attack.py:160 -     iterative_attack() ] Attach_iter 86 perturbation shape: (1, 268203), perturbation: [[ 0.23132953 -0.39014095  0.67932177 ... -0.11274679 -0.0622862\n",
      "   0.44057536]]\n",
      "[iter_attack.py:160 -     iterative_attack() ] Attach_iter 86 perturbation shape: (1, 268203), perturbation: [[ 0.0667828  -0.14796723 -0.17644873 ... -0.037289   -0.05683085\n",
      "   0.00481018]]\n"
     ]
    },
    {
     "name": "stdout",
     "output_type": "stream",
     "text": [
      "(1, 268203)\n",
      "Loaded inverse HVP from output/poisoning_900_300_inception_wd-0.001-test-[15, 169].npz\n",
      "Inverse HVP took 0.000581026077271 sec\n",
      "Entering the for loop\n",
      "(1, 268203)\n",
      "Loaded inverse HVP from output/poisoning_900_300_inception_wd-0.001-test-[15, 169].npz\n",
      "Inverse HVP took 0.000576972961426 sec\n",
      "Entering the for loop\n"
     ]
    },
    {
     "name": "stderr",
     "output_type": "stream",
     "text": [
      "[iter_attack.py:160 -     iterative_attack() ] Attach_iter 86 perturbation shape: (1, 268203), perturbation: [[ 0.01584909  0.00960052  0.00503691 ...  0.0225018  -0.02903947\n",
      "   0.00855758]]\n"
     ]
    },
    {
     "name": "stdout",
     "output_type": "stream",
     "text": [
      "(1, 268203)\n",
      "10 10\n",
      "Shape (10, 2048)\n",
      "Using normal model\n"
     ]
    },
    {
     "name": "stderr",
     "output_type": "stream",
     "text": [
      "[genericNeuralNet.py:328 -     print_model_eval() ] Train loss (w reg) on all data: 0.02756806\n",
      "[genericNeuralNet.py:329 -     print_model_eval() ] Train loss (w/o reg) on all data: 0.013897143\n",
      "[genericNeuralNet.py:331 -     print_model_eval() ] Test loss (w/o reg) on all data: 0.08083194\n",
      "[genericNeuralNet.py:332 -     print_model_eval() ] Train acc on all data:  0.9977777777777778\n",
      "[genericNeuralNet.py:333 -     print_model_eval() ] Test acc on all data:   0.97\n",
      "[genericNeuralNet.py:335 -     print_model_eval() ] Norm of the mean of gradients: 0.022719214\n",
      "[genericNeuralNet.py:336 -     print_model_eval() ] Norm of the params: 5.228942\n",
      "[iter_attack.py:204 -     iterative_attack() ] Test_idx: 15 Test pred (full): [[8.1266235e-06 9.9999189e-01]]\n",
      "[iter_attack.py:204 -     iterative_attack() ] Test_idx: 169 Test pred (full): [[0.9980794 0.0019206]]\n",
      "[iter_attack.py:205 -     iterative_attack() ] ---------------------\n",
      "[iter_attack.py:210 -     iterative_attack() ] Test_idx: 15 Test pred (top): [[8.1266235e-06 9.9999189e-01]]\n",
      "[iter_attack.py:210 -     iterative_attack() ] Test_idx: 169 Test pred (top): [[0.9980794 0.0019206]]\n",
      "[iter_attack.py:138 -     iterative_attack() ] *** Iter: 87\n"
     ]
    },
    {
     "name": "stdout",
     "output_type": "stream",
     "text": [
      "LBFGS training took [69] iter.\n",
      "After training with LBFGS: \n",
      "Total number of parameters: 2048\n"
     ]
    },
    {
     "name": "stderr",
     "output_type": "stream",
     "text": [
      "[iter_attack.py:160 -     iterative_attack() ] Attach_iter 87 perturbation shape: (1, 268203), perturbation: [[-0.34080073 -0.58318281 -0.83057249 ... -0.18603848 -0.55607545\n",
      "   0.11519969]]\n"
     ]
    },
    {
     "name": "stdout",
     "output_type": "stream",
     "text": [
      "Warning: Desired error not necessarily achieved due to precision loss.\n",
      "         Current function value: -3904.532227\n",
      "         Iterations: 11\n",
      "         Function evaluations: 92\n",
      "         Gradient evaluations: 91\n",
      "         Hessian evaluations: 84\n",
      "Inverse HVP took 2.84053492546 sec\n",
      "Loaded inverse HVP from output/poisoning_900_300_inception_wd-0.001-test-[15, 169].npz\n",
      "Inverse HVP took 0.000542879104614 sec\n",
      "Entering the for loop\n",
      "(1, 268203)\n",
      "Loaded inverse HVP from output/poisoning_900_300_inception_wd-0.001-test-[15, 169].npz\n",
      "Inverse HVP took 0.000576972961426 sec\n",
      "Entering the for loop\n"
     ]
    },
    {
     "name": "stderr",
     "output_type": "stream",
     "text": [
      "[iter_attack.py:160 -     iterative_attack() ] Attach_iter 87 perturbation shape: (1, 268203), perturbation: [[ 0.00033626  0.00071707  0.00096602 ... -0.00018638 -0.00033397\n",
      "   0.00044795]]\n",
      "[iter_attack.py:160 -     iterative_attack() ] Attach_iter 87 perturbation shape: (1, 268203), perturbation: [[ 7.75282025e-01  4.80421752e-01 -5.76651275e-01 ... -1.71161622e-01\n",
      "  -7.41279917e-04  8.10116008e-02]]\n"
     ]
    },
    {
     "name": "stdout",
     "output_type": "stream",
     "text": [
      "(1, 268203)\n",
      "Loaded inverse HVP from output/poisoning_900_300_inception_wd-0.001-test-[15, 169].npz\n",
      "Inverse HVP took 0.000669956207275 sec\n",
      "Entering the for loop\n",
      "(1, 268203)\n",
      "Loaded inverse HVP from output/poisoning_900_300_inception_wd-0.001-test-[15, 169].npz\n",
      "Inverse HVP took 0.000576972961426 sec\n",
      "Entering the for loop\n"
     ]
    },
    {
     "name": "stderr",
     "output_type": "stream",
     "text": [
      "[iter_attack.py:160 -     iterative_attack() ] Attach_iter 87 perturbation shape: (1, 268203), perturbation: [[-0.02035531  0.02893907  0.01788959 ... -0.01759267 -0.0025827\n",
      "  -0.00621047]]\n",
      "[iter_attack.py:160 -     iterative_attack() ] Attach_iter 87 perturbation shape: (1, 268203), perturbation: [[ 0.00478188 -0.0056906  -0.03703052 ...  0.06656897  0.0219087\n",
      "  -0.04268003]]\n"
     ]
    },
    {
     "name": "stdout",
     "output_type": "stream",
     "text": [
      "(1, 268203)\n",
      "Loaded inverse HVP from output/poisoning_900_300_inception_wd-0.001-test-[15, 169].npz\n",
      "Inverse HVP took 0.000699043273926 sec\n",
      "Entering the for loop\n",
      "(1, 268203)\n",
      "Loaded inverse HVP from output/poisoning_900_300_inception_wd-0.001-test-[15, 169].npz\n",
      "Inverse HVP took 0.000586032867432 sec\n",
      "Entering the for loop\n"
     ]
    },
    {
     "name": "stderr",
     "output_type": "stream",
     "text": [
      "[iter_attack.py:160 -     iterative_attack() ] Attach_iter 87 perturbation shape: (1, 268203), perturbation: [[-0.34577051 -0.04671929  0.4494212  ... -0.01980834 -0.07003751\n",
      "  -0.0935223 ]]\n",
      "[iter_attack.py:160 -     iterative_attack() ] Attach_iter 87 perturbation shape: (1, 268203), perturbation: [[ 0.33664602 -0.07785685 -0.10371174 ... -0.12962589  0.11201879\n",
      "   0.02106813]]\n"
     ]
    },
    {
     "name": "stdout",
     "output_type": "stream",
     "text": [
      "(1, 268203)\n",
      "Loaded inverse HVP from output/poisoning_900_300_inception_wd-0.001-test-[15, 169].npz\n",
      "Inverse HVP took 0.000702142715454 sec\n",
      "Entering the for loop\n",
      "(1, 268203)\n",
      "Loaded inverse HVP from output/poisoning_900_300_inception_wd-0.001-test-[15, 169].npz\n",
      "Inverse HVP took 0.000696897506714 sec\n",
      "Entering the for loop\n"
     ]
    },
    {
     "name": "stderr",
     "output_type": "stream",
     "text": [
      "[iter_attack.py:160 -     iterative_attack() ] Attach_iter 87 perturbation shape: (1, 268203), perturbation: [[ 0.03010538 -0.0356829  -0.04819636 ... -0.32489437  0.26360583\n",
      "  -0.57220519]]\n",
      "[iter_attack.py:160 -     iterative_attack() ] Attach_iter 87 perturbation shape: (1, 268203), perturbation: [[-1.51855743 -0.3070865   0.38944376 ...  0.0362631  -0.0504862\n",
      "   0.00325798]]\n"
     ]
    },
    {
     "name": "stdout",
     "output_type": "stream",
     "text": [
      "(1, 268203)\n",
      "Loaded inverse HVP from output/poisoning_900_300_inception_wd-0.001-test-[15, 169].npz\n",
      "Inverse HVP took 0.000626087188721 sec\n",
      "Entering the for loop\n",
      "(1, 268203)\n",
      "Loaded inverse HVP from output/poisoning_900_300_inception_wd-0.001-test-[15, 169].npz\n",
      "Inverse HVP took 0.00059700012207 sec\n",
      "Entering the for loop\n"
     ]
    },
    {
     "name": "stderr",
     "output_type": "stream",
     "text": [
      "[iter_attack.py:160 -     iterative_attack() ] Attach_iter 87 perturbation shape: (1, 268203), perturbation: [[-0.08297254  0.01741198 -0.00753716 ... -0.0033273   0.03545332\n",
      "  -0.00779957]]\n"
     ]
    },
    {
     "name": "stdout",
     "output_type": "stream",
     "text": [
      "(1, 268203)\n",
      "10 10\n",
      "Shape (10, 2048)\n",
      "Using normal model\n",
      "LBFGS training took [72] iter.\n",
      "After training with LBFGS: \n"
     ]
    },
    {
     "name": "stderr",
     "output_type": "stream",
     "text": [
      "[genericNeuralNet.py:328 -     print_model_eval() ] Train loss (w reg) on all data: 0.027414652\n",
      "[genericNeuralNet.py:329 -     print_model_eval() ] Train loss (w/o reg) on all data: 0.013709983\n",
      "[genericNeuralNet.py:331 -     print_model_eval() ] Test loss (w/o reg) on all data: 0.0811141\n",
      "[genericNeuralNet.py:332 -     print_model_eval() ] Train acc on all data:  0.9983333333333333\n",
      "[genericNeuralNet.py:333 -     print_model_eval() ] Test acc on all data:   0.9716666666666667\n",
      "[genericNeuralNet.py:335 -     print_model_eval() ] Norm of the mean of gradients: 0.022077192\n",
      "[genericNeuralNet.py:336 -     print_model_eval() ] Norm of the params: 5.235393\n",
      "[iter_attack.py:204 -     iterative_attack() ] Test_idx: 15 Test pred (full): [[7.8063085e-06 9.9999225e-01]]\n",
      "[iter_attack.py:204 -     iterative_attack() ] Test_idx: 169 Test pred (full): [[0.9981117  0.00188834]]\n",
      "[iter_attack.py:205 -     iterative_attack() ] ---------------------\n",
      "[iter_attack.py:210 -     iterative_attack() ] Test_idx: 15 Test pred (top): [[7.8063085e-06 9.9999225e-01]]\n",
      "[iter_attack.py:210 -     iterative_attack() ] Test_idx: 169 Test pred (top): [[0.9981117  0.00188834]]\n",
      "[iter_attack.py:138 -     iterative_attack() ] *** Iter: 88\n"
     ]
    },
    {
     "name": "stdout",
     "output_type": "stream",
     "text": [
      "Total number of parameters: 2048\n"
     ]
    },
    {
     "name": "stderr",
     "output_type": "stream",
     "text": [
      "[iter_attack.py:160 -     iterative_attack() ] Attach_iter 88 perturbation shape: (1, 268203), perturbation: [[ 0.78846091 -0.42094553 -0.1940755  ...  0.48245746  0.50628537\n",
      "  -0.52549744]]\n"
     ]
    },
    {
     "name": "stdout",
     "output_type": "stream",
     "text": [
      "Warning: Desired error not necessarily achieved due to precision loss.\n",
      "         Current function value: -3922.687500\n",
      "         Iterations: 11\n",
      "         Function evaluations: 140\n",
      "         Gradient evaluations: 137\n",
      "         Hessian evaluations: 83\n",
      "Inverse HVP took 3.83795404434 sec\n",
      "Loaded inverse HVP from output/poisoning_900_300_inception_wd-0.001-test-[15, 169].npz\n",
      "Inverse HVP took 0.000556945800781 sec\n",
      "Entering the for loop\n",
      "(1, 268203)\n",
      "Loaded inverse HVP from output/poisoning_900_300_inception_wd-0.001-test-[15, 169].npz\n",
      "Inverse HVP took 0.000642061233521 sec\n",
      "Entering the for loop\n"
     ]
    },
    {
     "name": "stderr",
     "output_type": "stream",
     "text": [
      "[iter_attack.py:160 -     iterative_attack() ] Attach_iter 88 perturbation shape: (1, 268203), perturbation: [[-0.0001971  -0.00139391 -0.0002203  ...  0.00269967  0.00153132\n",
      "  -0.00169226]]\n",
      "[iter_attack.py:160 -     iterative_attack() ] Attach_iter 88 perturbation shape: (1, 268203), perturbation: [[-0.07532042 -0.15373906  0.53153515 ... -0.25009072 -0.27121162\n",
      "   0.14029552]]\n"
     ]
    },
    {
     "name": "stdout",
     "output_type": "stream",
     "text": [
      "(1, 268203)\n",
      "Loaded inverse HVP from output/poisoning_900_300_inception_wd-0.001-test-[15, 169].npz\n",
      "Inverse HVP took 0.000590085983276 sec\n",
      "Entering the for loop\n",
      "(1, 268203)\n",
      "Loaded inverse HVP from output/poisoning_900_300_inception_wd-0.001-test-[15, 169].npz\n",
      "Inverse HVP took 0.000582933425903 sec\n",
      "Entering the for loop\n"
     ]
    },
    {
     "name": "stderr",
     "output_type": "stream",
     "text": [
      "[iter_attack.py:160 -     iterative_attack() ] Attach_iter 88 perturbation shape: (1, 268203), perturbation: [[-0.02566634  0.02085527  0.02259549 ... -0.01070646 -0.01511577\n",
      "   0.03033916]]\n",
      "[iter_attack.py:160 -     iterative_attack() ] Attach_iter 88 perturbation shape: (1, 268203), perturbation: [[-0.00506322  0.00350275  0.01341545 ... -0.15304491  0.17330794\n",
      "   0.01443063]]\n"
     ]
    },
    {
     "name": "stdout",
     "output_type": "stream",
     "text": [
      "(1, 268203)\n",
      "Loaded inverse HVP from output/poisoning_900_300_inception_wd-0.001-test-[15, 169].npz\n",
      "Inverse HVP took 0.000588178634644 sec\n",
      "Entering the for loop\n",
      "(1, 268203)\n",
      "Loaded inverse HVP from output/poisoning_900_300_inception_wd-0.001-test-[15, 169].npz\n",
      "Inverse HVP took 0.000576019287109 sec\n",
      "Entering the for loop\n"
     ]
    },
    {
     "name": "stderr",
     "output_type": "stream",
     "text": [
      "[iter_attack.py:160 -     iterative_attack() ] Attach_iter 88 perturbation shape: (1, 268203), perturbation: [[ 0.00650736 -0.16916779 -0.14347586 ...  0.10383917 -0.07298008\n",
      "   0.2319244 ]]\n",
      "[iter_attack.py:160 -     iterative_attack() ] Attach_iter 88 perturbation shape: (1, 268203), perturbation: [[-0.62642789  0.05070284  0.23463535 ... -0.10861931 -0.02917475\n",
      "   0.03044705]]\n"
     ]
    },
    {
     "name": "stdout",
     "output_type": "stream",
     "text": [
      "(1, 268203)\n",
      "Loaded inverse HVP from output/poisoning_900_300_inception_wd-0.001-test-[15, 169].npz\n",
      "Inverse HVP took 0.000578880310059 sec\n",
      "Entering the for loop\n",
      "(1, 268203)\n",
      "Loaded inverse HVP from output/poisoning_900_300_inception_wd-0.001-test-[15, 169].npz\n",
      "Inverse HVP took 0.000580072402954 sec\n",
      "Entering the for loop\n"
     ]
    },
    {
     "name": "stderr",
     "output_type": "stream",
     "text": [
      "[iter_attack.py:160 -     iterative_attack() ] Attach_iter 88 perturbation shape: (1, 268203), perturbation: [[ 0.22815806 -0.45936033  0.65742874 ...  0.33912766 -0.33565763\n",
      "   0.25394231]]\n",
      "[iter_attack.py:160 -     iterative_attack() ] Attach_iter 88 perturbation shape: (1, 268203), perturbation: [[ 0.48343268 -0.00660826 -0.2083523  ... -0.0611822  -0.03106466\n",
      "  -0.00124995]]\n"
     ]
    },
    {
     "name": "stdout",
     "output_type": "stream",
     "text": [
      "(1, 268203)\n",
      "Loaded inverse HVP from output/poisoning_900_300_inception_wd-0.001-test-[15, 169].npz\n",
      "Inverse HVP took 0.000575065612793 sec\n",
      "Entering the for loop\n",
      "(1, 268203)\n",
      "Loaded inverse HVP from output/poisoning_900_300_inception_wd-0.001-test-[15, 169].npz\n",
      "Inverse HVP took 0.00058388710022 sec\n",
      "Entering the for loop\n"
     ]
    },
    {
     "name": "stderr",
     "output_type": "stream",
     "text": [
      "[iter_attack.py:160 -     iterative_attack() ] Attach_iter 88 perturbation shape: (1, 268203), perturbation: [[ 0.0067015  -0.00296711 -0.01893832 ...  0.00412029 -0.0296948\n",
      "   0.00415963]]\n"
     ]
    },
    {
     "name": "stdout",
     "output_type": "stream",
     "text": [
      "(1, 268203)\n",
      "10 10\n",
      "Shape (10, 2048)\n",
      "Using normal model\n"
     ]
    },
    {
     "name": "stderr",
     "output_type": "stream",
     "text": [
      "[genericNeuralNet.py:328 -     print_model_eval() ] Train loss (w reg) on all data: 0.027706657\n",
      "[genericNeuralNet.py:329 -     print_model_eval() ] Train loss (w/o reg) on all data: 0.01401165\n",
      "[genericNeuralNet.py:331 -     print_model_eval() ] Test loss (w/o reg) on all data: 0.081113786\n",
      "[genericNeuralNet.py:332 -     print_model_eval() ] Train acc on all data:  0.9977777777777778\n",
      "[genericNeuralNet.py:333 -     print_model_eval() ] Test acc on all data:   0.97\n",
      "[genericNeuralNet.py:335 -     print_model_eval() ] Norm of the mean of gradients: 0.022838328\n",
      "[genericNeuralNet.py:336 -     print_model_eval() ] Norm of the params: 5.2335467\n",
      "[iter_attack.py:204 -     iterative_attack() ] Test_idx: 15 Test pred (full): [[7.2748544e-06 9.9999273e-01]]\n",
      "[iter_attack.py:204 -     iterative_attack() ] Test_idx: 169 Test pred (full): [[0.99800855 0.00199145]]\n",
      "[iter_attack.py:205 -     iterative_attack() ] ---------------------\n",
      "[iter_attack.py:210 -     iterative_attack() ] Test_idx: 15 Test pred (top): [[7.2748544e-06 9.9999273e-01]]\n",
      "[iter_attack.py:210 -     iterative_attack() ] Test_idx: 169 Test pred (top): [[0.99800855 0.00199145]]\n",
      "[iter_attack.py:138 -     iterative_attack() ] *** Iter: 89\n"
     ]
    },
    {
     "name": "stdout",
     "output_type": "stream",
     "text": [
      "LBFGS training took [81] iter.\n",
      "After training with LBFGS: \n",
      "Total number of parameters: 2048\n"
     ]
    },
    {
     "name": "stderr",
     "output_type": "stream",
     "text": [
      "[iter_attack.py:160 -     iterative_attack() ] Attach_iter 89 perturbation shape: (1, 268203), perturbation: [[-0.244774   -0.16441986 -0.3782233  ... -0.40808102 -0.9087671\n",
      "   0.92604196]]\n"
     ]
    },
    {
     "name": "stdout",
     "output_type": "stream",
     "text": [
      "Warning: Desired error not necessarily achieved due to precision loss.\n",
      "         Current function value: -3888.129883\n",
      "         Iterations: 10\n",
      "         Function evaluations: 79\n",
      "         Gradient evaluations: 77\n",
      "         Hessian evaluations: 75\n",
      "Inverse HVP took 2.37287998199 sec\n",
      "Loaded inverse HVP from output/poisoning_900_300_inception_wd-0.001-test-[15, 169].npz\n",
      "Inverse HVP took 0.000566005706787 sec\n",
      "Entering the for loop\n",
      "(1, 268203)\n",
      "Loaded inverse HVP from output/poisoning_900_300_inception_wd-0.001-test-[15, 169].npz\n",
      "Inverse HVP took 0.000643968582153 sec\n",
      "Entering the for loop\n"
     ]
    },
    {
     "name": "stderr",
     "output_type": "stream",
     "text": [
      "[iter_attack.py:160 -     iterative_attack() ] Attach_iter 89 perturbation shape: (1, 268203), perturbation: [[ 0.00036347  0.00082932  0.0009065  ... -0.00017795 -0.00047112\n",
      "   0.00068514]]\n",
      "[iter_attack.py:160 -     iterative_attack() ] Attach_iter 89 perturbation shape: (1, 268203), perturbation: [[ 0.76920831  0.415295   -0.46794015 ... -0.11694206 -0.01140285\n",
      "   0.02204815]]\n"
     ]
    },
    {
     "name": "stdout",
     "output_type": "stream",
     "text": [
      "(1, 268203)\n",
      "Loaded inverse HVP from output/poisoning_900_300_inception_wd-0.001-test-[15, 169].npz\n",
      "Inverse HVP took 0.000584125518799 sec\n",
      "Entering the for loop\n",
      "(1, 268203)\n",
      "Loaded inverse HVP from output/poisoning_900_300_inception_wd-0.001-test-[15, 169].npz\n",
      "Inverse HVP took 0.00058388710022 sec\n",
      "Entering the for loop\n"
     ]
    },
    {
     "name": "stderr",
     "output_type": "stream",
     "text": [
      "[iter_attack.py:160 -     iterative_attack() ] Attach_iter 89 perturbation shape: (1, 268203), perturbation: [[-0.00422524  0.03355772  0.00388562 ... -0.03571519 -0.00749573\n",
      "   0.00024645]]\n",
      "[iter_attack.py:160 -     iterative_attack() ] Attach_iter 89 perturbation shape: (1, 268203), perturbation: [[ 0.00260872 -0.00312346 -0.04614308 ...  0.02650536 -0.03448756\n",
      "  -0.02931977]]\n"
     ]
    },
    {
     "name": "stdout",
     "output_type": "stream",
     "text": [
      "(1, 268203)\n",
      "Loaded inverse HVP from output/poisoning_900_300_inception_wd-0.001-test-[15, 169].npz\n",
      "Inverse HVP took 0.000645875930786 sec\n",
      "Entering the for loop\n",
      "(1, 268203)\n",
      "Loaded inverse HVP from output/poisoning_900_300_inception_wd-0.001-test-[15, 169].npz\n",
      "Inverse HVP took 0.00058388710022 sec\n",
      "Entering the for loop\n"
     ]
    },
    {
     "name": "stderr",
     "output_type": "stream",
     "text": [
      "[iter_attack.py:160 -     iterative_attack() ] Attach_iter 89 perturbation shape: (1, 268203), perturbation: [[-0.3797414  -0.06284661  0.50638497 ... -0.02001292 -0.04645015\n",
      "  -0.09263767]]\n",
      "[iter_attack.py:160 -     iterative_attack() ] Attach_iter 89 perturbation shape: (1, 268203), perturbation: [[ 0.27329323 -0.08031595 -0.03903747 ... -0.15649807  0.11362059\n",
      "   0.03170707]]\n"
     ]
    },
    {
     "name": "stdout",
     "output_type": "stream",
     "text": [
      "(1, 268203)\n",
      "Loaded inverse HVP from output/poisoning_900_300_inception_wd-0.001-test-[15, 169].npz\n",
      "Inverse HVP took 0.00059700012207 sec\n",
      "Entering the for loop\n",
      "(1, 268203)\n",
      "Loaded inverse HVP from output/poisoning_900_300_inception_wd-0.001-test-[15, 169].npz\n",
      "Inverse HVP took 0.000594139099121 sec\n",
      "Entering the for loop\n"
     ]
    },
    {
     "name": "stderr",
     "output_type": "stream",
     "text": [
      "[iter_attack.py:160 -     iterative_attack() ] Attach_iter 89 perturbation shape: (1, 268203), perturbation: [[ 0.07658902 -0.16762179  0.20181838 ... -0.74137324  0.39768413\n",
      "  -0.36792171]]\n",
      "[iter_attack.py:160 -     iterative_attack() ] Attach_iter 89 perturbation shape: (1, 268203), perturbation: [[-1.55318475 -0.34450814  0.37050223 ... -0.0036769  -0.07009958\n",
      "   0.00665875]]\n"
     ]
    },
    {
     "name": "stdout",
     "output_type": "stream",
     "text": [
      "(1, 268203)\n",
      "Loaded inverse HVP from output/poisoning_900_300_inception_wd-0.001-test-[15, 169].npz\n",
      "Inverse HVP took 0.000596046447754 sec\n",
      "Entering the for loop\n",
      "(1, 268203)\n",
      "Loaded inverse HVP from output/poisoning_900_300_inception_wd-0.001-test-[15, 169].npz\n",
      "Inverse HVP took 0.00058388710022 sec\n",
      "Entering the for loop\n"
     ]
    },
    {
     "name": "stderr",
     "output_type": "stream",
     "text": [
      "[iter_attack.py:160 -     iterative_attack() ] Attach_iter 89 perturbation shape: (1, 268203), perturbation: [[-0.04715624  0.00890364 -0.01952659 ...  0.01079402  0.04336647\n",
      "  -0.01659651]]\n"
     ]
    },
    {
     "name": "stdout",
     "output_type": "stream",
     "text": [
      "(1, 268203)\n",
      "10 10\n",
      "Shape (10, 2048)\n",
      "Using normal model\n",
      "LBFGS training took [76] iter.\n",
      "After training with LBFGS: \n"
     ]
    },
    {
     "name": "stderr",
     "output_type": "stream",
     "text": [
      "[genericNeuralNet.py:328 -     print_model_eval() ] Train loss (w reg) on all data: 0.027613327\n",
      "[genericNeuralNet.py:329 -     print_model_eval() ] Train loss (w/o reg) on all data: 0.013841544\n",
      "[genericNeuralNet.py:331 -     print_model_eval() ] Test loss (w/o reg) on all data: 0.081544496\n",
      "[genericNeuralNet.py:332 -     print_model_eval() ] Train acc on all data:  0.9983333333333333\n",
      "[genericNeuralNet.py:333 -     print_model_eval() ] Test acc on all data:   0.97\n",
      "[genericNeuralNet.py:335 -     print_model_eval() ] Norm of the mean of gradients: 0.022376599\n",
      "[genericNeuralNet.py:336 -     print_model_eval() ] Norm of the params: 5.2481966\n",
      "[iter_attack.py:204 -     iterative_attack() ] Test_idx: 15 Test pred (full): [[6.933189e-06 9.999931e-01]]\n",
      "[iter_attack.py:204 -     iterative_attack() ] Test_idx: 169 Test pred (full): [[0.9981345  0.00186542]]\n",
      "[iter_attack.py:205 -     iterative_attack() ] ---------------------\n",
      "[iter_attack.py:210 -     iterative_attack() ] Test_idx: 15 Test pred (top): [[6.933189e-06 9.999931e-01]]\n",
      "[iter_attack.py:210 -     iterative_attack() ] Test_idx: 169 Test pred (top): [[0.9981345  0.00186542]]\n",
      "[iter_attack.py:138 -     iterative_attack() ] *** Iter: 90\n"
     ]
    },
    {
     "name": "stdout",
     "output_type": "stream",
     "text": [
      "Total number of parameters: 2048\n"
     ]
    },
    {
     "name": "stderr",
     "output_type": "stream",
     "text": [
      "[iter_attack.py:160 -     iterative_attack() ] Attach_iter 90 perturbation shape: (1, 268203), perturbation: [[ 0.45144278 -0.65661967 -0.31821278 ...  0.7052238   0.55938506\n",
      "  -0.77273154]]\n"
     ]
    },
    {
     "name": "stdout",
     "output_type": "stream",
     "text": [
      "Warning: Desired error not necessarily achieved due to precision loss.\n",
      "         Current function value: -3917.164062\n",
      "         Iterations: 12\n",
      "         Function evaluations: 235\n",
      "         Gradient evaluations: 232\n",
      "         Hessian evaluations: 94\n",
      "Inverse HVP took 5.77324104309 sec\n",
      "Loaded inverse HVP from output/poisoning_900_300_inception_wd-0.001-test-[15, 169].npz\n",
      "Inverse HVP took 0.000540971755981 sec\n",
      "Entering the for loop\n",
      "(1, 268203)\n",
      "Loaded inverse HVP from output/poisoning_900_300_inception_wd-0.001-test-[15, 169].npz\n",
      "Inverse HVP took 0.000600099563599 sec\n",
      "Entering the for loop\n"
     ]
    },
    {
     "name": "stderr",
     "output_type": "stream",
     "text": [
      "[iter_attack.py:160 -     iterative_attack() ] Attach_iter 90 perturbation shape: (1, 268203), perturbation: [[-0.00037298 -0.00172494 -0.00043622 ...  0.00251161  0.00253979\n",
      "  -0.00198675]]\n",
      "[iter_attack.py:160 -     iterative_attack() ] Attach_iter 90 perturbation shape: (1, 268203), perturbation: [[-0.4311409  -0.32525146  0.5099774  ... -0.24292998 -0.25849402\n",
      "   0.18121052]]\n"
     ]
    },
    {
     "name": "stdout",
     "output_type": "stream",
     "text": [
      "(1, 268203)\n",
      "Loaded inverse HVP from output/poisoning_900_300_inception_wd-0.001-test-[15, 169].npz\n",
      "Inverse HVP took 0.000630855560303 sec\n",
      "Entering the for loop\n",
      "(1, 268203)\n",
      "Loaded inverse HVP from output/poisoning_900_300_inception_wd-0.001-test-[15, 169].npz\n",
      "Inverse HVP took 0.000578165054321 sec\n",
      "Entering the for loop\n"
     ]
    },
    {
     "name": "stderr",
     "output_type": "stream",
     "text": [
      "[iter_attack.py:160 -     iterative_attack() ] Attach_iter 90 perturbation shape: (1, 268203), perturbation: [[-0.02555474  0.03098067  0.02596113 ...  0.00186728 -0.00726095\n",
      "   0.0128343 ]]\n",
      "[iter_attack.py:160 -     iterative_attack() ] Attach_iter 90 perturbation shape: (1, 268203), perturbation: [[ 0.00350158 -0.00225378  0.01577504 ... -0.25230244  0.36405587\n",
      "   0.04265318]]\n"
     ]
    },
    {
     "name": "stdout",
     "output_type": "stream",
     "text": [
      "(1, 268203)\n",
      "Loaded inverse HVP from output/poisoning_900_300_inception_wd-0.001-test-[15, 169].npz\n",
      "Inverse HVP took 0.000587940216064 sec\n",
      "Entering the for loop\n",
      "(1, 268203)\n",
      "Loaded inverse HVP from output/poisoning_900_300_inception_wd-0.001-test-[15, 169].npz\n",
      "Inverse HVP took 0.000581026077271 sec\n",
      "Entering the for loop\n"
     ]
    },
    {
     "name": "stderr",
     "output_type": "stream",
     "text": [
      "[iter_attack.py:160 -     iterative_attack() ] Attach_iter 90 perturbation shape: (1, 268203), perturbation: [[-0.04592972 -0.09625552 -0.16837914 ...  0.08322351 -0.16149879\n",
      "   0.27599612]]\n",
      "[iter_attack.py:160 -     iterative_attack() ] Attach_iter 90 perturbation shape: (1, 268203), perturbation: [[-0.62394941  0.03728044  0.28021222 ... -0.04969094 -0.00080224\n",
      "   0.00795669]]\n"
     ]
    },
    {
     "name": "stdout",
     "output_type": "stream",
     "text": [
      "(1, 268203)\n",
      "Loaded inverse HVP from output/poisoning_900_300_inception_wd-0.001-test-[15, 169].npz\n",
      "Inverse HVP took 0.000576972961426 sec\n",
      "Entering the for loop\n",
      "(1, 268203)\n",
      "Loaded inverse HVP from output/poisoning_900_300_inception_wd-0.001-test-[15, 169].npz\n",
      "Inverse HVP took 0.00057578086853 sec\n",
      "Entering the for loop\n"
     ]
    },
    {
     "name": "stderr",
     "output_type": "stream",
     "text": [
      "[iter_attack.py:160 -     iterative_attack() ] Attach_iter 90 perturbation shape: (1, 268203), perturbation: [[ 0.13332129 -0.29791465  0.39177763 ...  0.30040258 -0.35075262\n",
      "   0.08286215]]\n",
      "[iter_attack.py:160 -     iterative_attack() ] Attach_iter 90 perturbation shape: (1, 268203), perturbation: [[ 0.21379152 -0.08292916 -0.19125047 ... -0.04380386 -0.02626784\n",
      "  -0.00774734]]\n"
     ]
    },
    {
     "name": "stdout",
     "output_type": "stream",
     "text": [
      "(1, 268203)\n",
      "Loaded inverse HVP from output/poisoning_900_300_inception_wd-0.001-test-[15, 169].npz\n",
      "Inverse HVP took 0.00058388710022 sec\n",
      "Entering the for loop\n",
      "(1, 268203)\n",
      "Loaded inverse HVP from output/poisoning_900_300_inception_wd-0.001-test-[15, 169].npz\n",
      "Inverse HVP took 0.000578880310059 sec\n",
      "Entering the for loop\n"
     ]
    },
    {
     "name": "stderr",
     "output_type": "stream",
     "text": [
      "[iter_attack.py:160 -     iterative_attack() ] Attach_iter 90 perturbation shape: (1, 268203), perturbation: [[ 0.03824769  0.00339568 -0.03511809 ...  0.00808766 -0.01311184\n",
      "  -0.00219361]]\n"
     ]
    },
    {
     "name": "stdout",
     "output_type": "stream",
     "text": [
      "(1, 268203)\n",
      "10 10\n",
      "Shape (10, 2048)\n",
      "Using normal model\n"
     ]
    },
    {
     "name": "stderr",
     "output_type": "stream",
     "text": [
      "[genericNeuralNet.py:328 -     print_model_eval() ] Train loss (w reg) on all data: 0.027815793\n",
      "[genericNeuralNet.py:329 -     print_model_eval() ] Train loss (w/o reg) on all data: 0.01412393\n",
      "[genericNeuralNet.py:331 -     print_model_eval() ] Test loss (w/o reg) on all data: 0.081466734\n",
      "[genericNeuralNet.py:332 -     print_model_eval() ] Train acc on all data:  0.9977777777777778\n",
      "[genericNeuralNet.py:333 -     print_model_eval() ] Test acc on all data:   0.97\n",
      "[genericNeuralNet.py:335 -     print_model_eval() ] Norm of the mean of gradients: 0.022912376\n",
      "[genericNeuralNet.py:336 -     print_model_eval() ] Norm of the params: 5.2329464\n",
      "[iter_attack.py:204 -     iterative_attack() ] Test_idx: 15 Test pred (full): [[6.5744443e-06 9.9999344e-01]]\n",
      "[iter_attack.py:204 -     iterative_attack() ] Test_idx: 169 Test pred (full): [[0.99793553 0.00206451]]\n",
      "[iter_attack.py:205 -     iterative_attack() ] ---------------------\n",
      "[iter_attack.py:210 -     iterative_attack() ] Test_idx: 15 Test pred (top): [[6.5744443e-06 9.9999344e-01]]\n",
      "[iter_attack.py:210 -     iterative_attack() ] Test_idx: 169 Test pred (top): [[0.99793553 0.00206451]]\n",
      "[iter_attack.py:138 -     iterative_attack() ] *** Iter: 91\n"
     ]
    },
    {
     "name": "stdout",
     "output_type": "stream",
     "text": [
      "LBFGS training took [82] iter.\n",
      "After training with LBFGS: \n",
      "Total number of parameters: 2048\n"
     ]
    },
    {
     "name": "stderr",
     "output_type": "stream",
     "text": [
      "[iter_attack.py:160 -     iterative_attack() ] Attach_iter 91 perturbation shape: (1, 268203), perturbation: [[ 0.23059492 -0.11449771 -0.79909009 ... -0.81966823 -0.47707662\n",
      "   0.85908878]]\n"
     ]
    },
    {
     "name": "stdout",
     "output_type": "stream",
     "text": [
      "Warning: Desired error not necessarily achieved due to precision loss.\n",
      "         Current function value: -3868.277832\n",
      "         Iterations: 10\n",
      "         Function evaluations: 77\n",
      "         Gradient evaluations: 76\n",
      "         Hessian evaluations: 71\n",
      "Inverse HVP took 2.39435315132 sec\n",
      "Loaded inverse HVP from output/poisoning_900_300_inception_wd-0.001-test-[15, 169].npz\n",
      "Inverse HVP took 0.000545024871826 sec\n",
      "Entering the for loop\n",
      "(1, 268203)\n",
      "Loaded inverse HVP from output/poisoning_900_300_inception_wd-0.001-test-[15, 169].npz\n",
      "Inverse HVP took 0.000584125518799 sec\n",
      "Entering the for loop\n"
     ]
    },
    {
     "name": "stderr",
     "output_type": "stream",
     "text": [
      "[iter_attack.py:160 -     iterative_attack() ] Attach_iter 91 perturbation shape: (1, 268203), perturbation: [[ 0.00053975  0.00101815  0.00110093 ... -0.00031449 -0.00070913\n",
      "   0.00078511]]\n",
      "[iter_attack.py:160 -     iterative_attack() ] Attach_iter 91 perturbation shape: (1, 268203), perturbation: [[ 0.83488506  0.52894735 -0.25819904 ... -0.18230979 -0.04021388\n",
      "   0.06604549]]\n"
     ]
    },
    {
     "name": "stdout",
     "output_type": "stream",
     "text": [
      "(1, 268203)\n",
      "Loaded inverse HVP from output/poisoning_900_300_inception_wd-0.001-test-[15, 169].npz\n",
      "Inverse HVP took 0.000597953796387 sec\n",
      "Entering the for loop\n",
      "(1, 268203)\n",
      "Loaded inverse HVP from output/poisoning_900_300_inception_wd-0.001-test-[15, 169].npz\n",
      "Inverse HVP took 0.000586986541748 sec\n",
      "Entering the for loop\n"
     ]
    },
    {
     "name": "stderr",
     "output_type": "stream",
     "text": [
      "[iter_attack.py:160 -     iterative_attack() ] Attach_iter 91 perturbation shape: (1, 268203), perturbation: [[-0.00287383  0.01446241  0.00800419 ... -0.06521104 -0.00336972\n",
      "   0.02238619]]\n",
      "[iter_attack.py:160 -     iterative_attack() ] Attach_iter 91 perturbation shape: (1, 268203), perturbation: [[-0.00652628  0.00511993 -0.03839111 ... -0.02217228 -0.06889626\n",
      "  -0.04392241]]\n"
     ]
    },
    {
     "name": "stdout",
     "output_type": "stream",
     "text": [
      "(1, 268203)\n",
      "Loaded inverse HVP from output/poisoning_900_300_inception_wd-0.001-test-[15, 169].npz\n",
      "Inverse HVP took 0.000584125518799 sec\n",
      "Entering the for loop\n",
      "(1, 268203)\n",
      "Loaded inverse HVP from output/poisoning_900_300_inception_wd-0.001-test-[15, 169].npz\n",
      "Inverse HVP took 0.000580072402954 sec\n",
      "Entering the for loop\n"
     ]
    },
    {
     "name": "stderr",
     "output_type": "stream",
     "text": [
      "[iter_attack.py:160 -     iterative_attack() ] Attach_iter 91 perturbation shape: (1, 268203), perturbation: [[-0.21065709 -0.19888426  0.52856463 ...  0.0220723  -0.00736067\n",
      "  -0.10118195]]\n",
      "[iter_attack.py:160 -     iterative_attack() ] Attach_iter 91 perturbation shape: (1, 268203), perturbation: [[ 0.26246443 -0.07827234 -0.05797132 ... -0.1806086   0.08864955\n",
      "   0.04760899]]\n"
     ]
    },
    {
     "name": "stdout",
     "output_type": "stream",
     "text": [
      "(1, 268203)\n",
      "Loaded inverse HVP from output/poisoning_900_300_inception_wd-0.001-test-[15, 169].npz\n",
      "Inverse HVP took 0.000583171844482 sec\n",
      "Entering the for loop\n",
      "(1, 268203)\n",
      "Loaded inverse HVP from output/poisoning_900_300_inception_wd-0.001-test-[15, 169].npz\n",
      "Inverse HVP took 0.000580072402954 sec\n",
      "Entering the for loop\n"
     ]
    },
    {
     "name": "stderr",
     "output_type": "stream",
     "text": [
      "[iter_attack.py:160 -     iterative_attack() ] Attach_iter 91 perturbation shape: (1, 268203), perturbation: [[ 0.11698891 -0.21818732  0.35407752 ... -0.35274273  0.28862822\n",
      "  -0.41498268]]\n",
      "[iter_attack.py:160 -     iterative_attack() ] Attach_iter 91 perturbation shape: (1, 268203), perturbation: [[-1.72965825 -0.50363117  0.37014037 ... -0.00440795 -0.08991642\n",
      "   0.03195117]]\n"
     ]
    },
    {
     "name": "stdout",
     "output_type": "stream",
     "text": [
      "(1, 268203)\n",
      "Loaded inverse HVP from output/poisoning_900_300_inception_wd-0.001-test-[15, 169].npz\n",
      "Inverse HVP took 0.000581026077271 sec\n",
      "Entering the for loop\n",
      "(1, 268203)\n",
      "Loaded inverse HVP from output/poisoning_900_300_inception_wd-0.001-test-[15, 169].npz\n",
      "Inverse HVP took 0.000585079193115 sec\n",
      "Entering the for loop\n"
     ]
    },
    {
     "name": "stderr",
     "output_type": "stream",
     "text": [
      "[iter_attack.py:160 -     iterative_attack() ] Attach_iter 91 perturbation shape: (1, 268203), perturbation: [[-0.06691311  0.01948581 -0.00380344 ...  0.01427869  0.02551543\n",
      "  -0.01401407]]\n"
     ]
    },
    {
     "name": "stdout",
     "output_type": "stream",
     "text": [
      "(1, 268203)\n",
      "10 10\n"
     ]
    },
    {
     "name": "stderr",
     "output_type": "stream",
     "text": [
      "[genericNeuralNet.py:328 -     print_model_eval() ] Train loss (w reg) on all data: 0.027811974\n",
      "[genericNeuralNet.py:329 -     print_model_eval() ] Train loss (w/o reg) on all data: 0.01395721\n",
      "[genericNeuralNet.py:331 -     print_model_eval() ] Test loss (w/o reg) on all data: 0.08160124\n",
      "[genericNeuralNet.py:332 -     print_model_eval() ] Train acc on all data:  0.9983333333333333\n",
      "[genericNeuralNet.py:333 -     print_model_eval() ] Test acc on all data:   0.9716666666666667\n",
      "[genericNeuralNet.py:335 -     print_model_eval() ] Norm of the mean of gradients: 0.022689763\n",
      "[genericNeuralNet.py:336 -     print_model_eval() ] Norm of the params: 5.263984\n"
     ]
    },
    {
     "name": "stdout",
     "output_type": "stream",
     "text": [
      "Shape (10, 2048)\n",
      "Using normal model\n",
      "LBFGS training took [61] iter.\n",
      "After training with LBFGS: \n"
     ]
    },
    {
     "name": "stderr",
     "output_type": "stream",
     "text": [
      "[iter_attack.py:204 -     iterative_attack() ] Test_idx: 15 Test pred (full): [[6.1874703e-06 9.9999380e-01]]\n",
      "[iter_attack.py:204 -     iterative_attack() ] Test_idx: 169 Test pred (full): [[0.998135   0.00186497]]\n",
      "[iter_attack.py:205 -     iterative_attack() ] ---------------------\n",
      "[iter_attack.py:210 -     iterative_attack() ] Test_idx: 15 Test pred (top): [[6.1874703e-06 9.9999380e-01]]\n",
      "[iter_attack.py:210 -     iterative_attack() ] Test_idx: 169 Test pred (top): [[0.998135   0.00186497]]\n",
      "[iter_attack.py:138 -     iterative_attack() ] *** Iter: 92\n"
     ]
    },
    {
     "name": "stdout",
     "output_type": "stream",
     "text": [
      "Total number of parameters: 2048\n"
     ]
    },
    {
     "name": "stderr",
     "output_type": "stream",
     "text": [
      "[iter_attack.py:160 -     iterative_attack() ] Attach_iter 92 perturbation shape: (1, 268203), perturbation: [[ 0.21558858 -0.41091573  0.28360569 ...  1.14235771  0.75388324\n",
      "  -1.14448667]]\n"
     ]
    },
    {
     "name": "stdout",
     "output_type": "stream",
     "text": [
      "Warning: Desired error not necessarily achieved due to precision loss.\n",
      "         Current function value: -3911.155518\n",
      "         Iterations: 11\n",
      "         Function evaluations: 138\n",
      "         Gradient evaluations: 136\n",
      "         Hessian evaluations: 87\n",
      "Inverse HVP took 3.68977999687 sec\n",
      "Loaded inverse HVP from output/poisoning_900_300_inception_wd-0.001-test-[15, 169].npz\n",
      "Inverse HVP took 0.000547170639038 sec\n",
      "Entering the for loop\n",
      "(1, 268203)\n",
      "Loaded inverse HVP from output/poisoning_900_300_inception_wd-0.001-test-[15, 169].npz\n",
      "Inverse HVP took 0.000581979751587 sec\n",
      "Entering the for loop\n"
     ]
    },
    {
     "name": "stderr",
     "output_type": "stream",
     "text": [
      "[iter_attack.py:160 -     iterative_attack() ] Attach_iter 92 perturbation shape: (1, 268203), perturbation: [[-0.00039163 -0.00167831 -0.00052012 ...  0.00284941  0.00209159\n",
      "  -0.00141904]]\n",
      "[iter_attack.py:160 -     iterative_attack() ] Attach_iter 92 perturbation shape: (1, 268203), perturbation: [[-0.2440463  -0.25179592  0.19634724 ... -0.22902492 -0.28650147\n",
      "   0.18486369]]\n"
     ]
    },
    {
     "name": "stdout",
     "output_type": "stream",
     "text": [
      "(1, 268203)\n",
      "Loaded inverse HVP from output/poisoning_900_300_inception_wd-0.001-test-[15, 169].npz\n",
      "Inverse HVP took 0.000579833984375 sec\n",
      "Entering the for loop\n",
      "(1, 268203)\n",
      "Loaded inverse HVP from output/poisoning_900_300_inception_wd-0.001-test-[15, 169].npz\n",
      "Inverse HVP took 0.000582933425903 sec\n",
      "Entering the for loop\n"
     ]
    },
    {
     "name": "stderr",
     "output_type": "stream",
     "text": [
      "[iter_attack.py:160 -     iterative_attack() ] Attach_iter 92 perturbation shape: (1, 268203), perturbation: [[-0.02258728  0.0184146   0.03009883 ... -0.00434667  0.00525498\n",
      "  -0.0020691 ]]\n",
      "[iter_attack.py:160 -     iterative_attack() ] Attach_iter 92 perturbation shape: (1, 268203), perturbation: [[ 0.00225837 -0.00545214  0.00800421 ... -0.09757634  0.30227712\n",
      "  -0.03857588]]\n"
     ]
    },
    {
     "name": "stdout",
     "output_type": "stream",
     "text": [
      "(1, 268203)\n",
      "Loaded inverse HVP from output/poisoning_900_300_inception_wd-0.001-test-[15, 169].npz\n",
      "Inverse HVP took 0.000581026077271 sec\n",
      "Entering the for loop\n",
      "(1, 268203)\n",
      "Loaded inverse HVP from output/poisoning_900_300_inception_wd-0.001-test-[15, 169].npz\n",
      "Inverse HVP took 0.000633955001831 sec\n",
      "Entering the for loop\n"
     ]
    },
    {
     "name": "stderr",
     "output_type": "stream",
     "text": [
      "[iter_attack.py:160 -     iterative_attack() ] Attach_iter 92 perturbation shape: (1, 268203), perturbation: [[-0.25205433  0.11976763 -0.23842934 ...  0.09293748 -0.16715904\n",
      "   0.29420093]]\n",
      "[iter_attack.py:160 -     iterative_attack() ] Attach_iter 92 perturbation shape: (1, 268203), perturbation: [[-0.48986441 -0.00103625  0.24499953 ... -0.05916674  0.06157548\n",
      "  -0.00783664]]\n"
     ]
    },
    {
     "name": "stdout",
     "output_type": "stream",
     "text": [
      "(1, 268203)\n",
      "Loaded inverse HVP from output/poisoning_900_300_inception_wd-0.001-test-[15, 169].npz\n",
      "Inverse HVP took 0.000578880310059 sec\n",
      "Entering the for loop\n",
      "(1, 268203)\n",
      "Loaded inverse HVP from output/poisoning_900_300_inception_wd-0.001-test-[15, 169].npz\n",
      "Inverse HVP took 0.000576019287109 sec\n",
      "Entering the for loop\n"
     ]
    },
    {
     "name": "stderr",
     "output_type": "stream",
     "text": [
      "[iter_attack.py:160 -     iterative_attack() ] Attach_iter 92 perturbation shape: (1, 268203), perturbation: [[-0.02818681 -0.27737123  0.24547836 ... -0.05143649 -0.19050592\n",
      "   0.26285407]]\n",
      "[iter_attack.py:160 -     iterative_attack() ] Attach_iter 92 perturbation shape: (1, 268203), perturbation: [[-0.67255956 -0.07837214  0.17825294 ... -0.00722534  0.01747828\n",
      "  -0.01773939]]\n"
     ]
    },
    {
     "name": "stdout",
     "output_type": "stream",
     "text": [
      "(1, 268203)\n",
      "Loaded inverse HVP from output/poisoning_900_300_inception_wd-0.001-test-[15, 169].npz\n",
      "Inverse HVP took 0.00068187713623 sec\n",
      "Entering the for loop\n",
      "(1, 268203)\n",
      "Loaded inverse HVP from output/poisoning_900_300_inception_wd-0.001-test-[15, 169].npz\n",
      "Inverse HVP took 0.000582933425903 sec\n",
      "Entering the for loop\n"
     ]
    },
    {
     "name": "stderr",
     "output_type": "stream",
     "text": [
      "[iter_attack.py:160 -     iterative_attack() ] Attach_iter 92 perturbation shape: (1, 268203), perturbation: [[ 0.03254437  0.00583253 -0.0406844  ...  0.00504509 -0.02005178\n",
      "   0.00410295]]\n"
     ]
    },
    {
     "name": "stdout",
     "output_type": "stream",
     "text": [
      "(1, 268203)\n",
      "10 10\n"
     ]
    },
    {
     "name": "stderr",
     "output_type": "stream",
     "text": [
      "[genericNeuralNet.py:328 -     print_model_eval() ] Train loss (w reg) on all data: 0.027884824\n",
      "[genericNeuralNet.py:329 -     print_model_eval() ] Train loss (w/o reg) on all data: 0.014217491\n",
      "[genericNeuralNet.py:331 -     print_model_eval() ] Test loss (w/o reg) on all data: 0.08207871\n",
      "[genericNeuralNet.py:332 -     print_model_eval() ] Train acc on all data:  0.9977777777777778\n",
      "[genericNeuralNet.py:333 -     print_model_eval() ] Test acc on all data:   0.97\n",
      "[genericNeuralNet.py:335 -     print_model_eval() ] Norm of the mean of gradients: 0.022931216\n",
      "[genericNeuralNet.py:336 -     print_model_eval() ] Norm of the params: 5.228256\n"
     ]
    },
    {
     "name": "stdout",
     "output_type": "stream",
     "text": [
      "Shape (10, 2048)\n",
      "Using normal model\n",
      "LBFGS training took [45] iter.\n",
      "After training with LBFGS: \n"
     ]
    },
    {
     "name": "stderr",
     "output_type": "stream",
     "text": [
      "[iter_attack.py:204 -     iterative_attack() ] Test_idx: 15 Test pred (full): [[5.9689505e-06 9.9999404e-01]]\n",
      "[iter_attack.py:204 -     iterative_attack() ] Test_idx: 169 Test pred (full): [[0.99792933 0.00207061]]\n",
      "[iter_attack.py:205 -     iterative_attack() ] ---------------------\n",
      "[iter_attack.py:210 -     iterative_attack() ] Test_idx: 15 Test pred (top): [[5.9689505e-06 9.9999404e-01]]\n",
      "[iter_attack.py:210 -     iterative_attack() ] Test_idx: 169 Test pred (top): [[0.99792933 0.00207061]]\n",
      "[iter_attack.py:138 -     iterative_attack() ] *** Iter: 93\n"
     ]
    },
    {
     "name": "stdout",
     "output_type": "stream",
     "text": [
      "Total number of parameters: 2048\n"
     ]
    },
    {
     "name": "stderr",
     "output_type": "stream",
     "text": [
      "[iter_attack.py:160 -     iterative_attack() ] Attach_iter 93 perturbation shape: (1, 268203), perturbation: [[ 0.29895854  0.0168418  -0.57472742 ... -0.9073084  -0.6679163\n",
      "   1.05243909]]\n"
     ]
    },
    {
     "name": "stdout",
     "output_type": "stream",
     "text": [
      "Warning: Desired error not necessarily achieved due to precision loss.\n",
      "         Current function value: -3851.158203\n",
      "         Iterations: 10\n",
      "         Function evaluations: 79\n",
      "         Gradient evaluations: 77\n",
      "         Hessian evaluations: 68\n",
      "Inverse HVP took 2.40547180176 sec\n",
      "Loaded inverse HVP from output/poisoning_900_300_inception_wd-0.001-test-[15, 169].npz\n",
      "Inverse HVP took 0.000540018081665 sec\n",
      "Entering the for loop\n",
      "(1, 268203)\n",
      "Loaded inverse HVP from output/poisoning_900_300_inception_wd-0.001-test-[15, 169].npz\n",
      "Inverse HVP took 0.000625848770142 sec\n",
      "Entering the for loop\n"
     ]
    },
    {
     "name": "stderr",
     "output_type": "stream",
     "text": [
      "[iter_attack.py:160 -     iterative_attack() ] Attach_iter 93 perturbation shape: (1, 268203), perturbation: [[ 0.00043892  0.00088271  0.00123582 ... -0.00066047 -0.00122209\n",
      "   0.00113774]]\n",
      "[iter_attack.py:160 -     iterative_attack() ] Attach_iter 93 perturbation shape: (1, 268203), perturbation: [[ 0.25273949  0.31902391 -0.19619611 ... -0.12543233 -0.03874376\n",
      "   0.02185279]]\n"
     ]
    },
    {
     "name": "stdout",
     "output_type": "stream",
     "text": [
      "(1, 268203)\n",
      "Loaded inverse HVP from output/poisoning_900_300_inception_wd-0.001-test-[15, 169].npz\n",
      "Inverse HVP took 0.000581026077271 sec\n",
      "Entering the for loop\n",
      "(1, 268203)\n",
      "Loaded inverse HVP from output/poisoning_900_300_inception_wd-0.001-test-[15, 169].npz\n",
      "Inverse HVP took 0.000602006912231 sec\n",
      "Entering the for loop\n"
     ]
    },
    {
     "name": "stderr",
     "output_type": "stream",
     "text": [
      "[iter_attack.py:160 -     iterative_attack() ] Attach_iter 93 perturbation shape: (1, 268203), perturbation: [[ 0.00317354  0.03001218  0.01024641 ... -0.03151596 -0.02589261\n",
      "   0.03232862]]\n",
      "[iter_attack.py:160 -     iterative_attack() ] Attach_iter 93 perturbation shape: (1, 268203), perturbation: [[ 0.00022906  0.01021332 -0.03419443 ... -0.13090667 -0.1010315\n",
      "   0.04302223]]\n"
     ]
    },
    {
     "name": "stdout",
     "output_type": "stream",
     "text": [
      "(1, 268203)\n",
      "Loaded inverse HVP from output/poisoning_900_300_inception_wd-0.001-test-[15, 169].npz\n",
      "Inverse HVP took 0.000581979751587 sec\n",
      "Entering the for loop\n",
      "(1, 268203)\n",
      "Loaded inverse HVP from output/poisoning_900_300_inception_wd-0.001-test-[15, 169].npz\n",
      "Inverse HVP took 0.000577926635742 sec\n",
      "Entering the for loop\n"
     ]
    },
    {
     "name": "stderr",
     "output_type": "stream",
     "text": [
      "[iter_attack.py:160 -     iterative_attack() ] Attach_iter 93 perturbation shape: (1, 268203), perturbation: [[-8.39762241e-02 -3.05321962e-01  5.49641788e-01 ...  7.70903984e-03\n",
      "  -4.35778871e-04 -5.83217628e-02]]\n",
      "[iter_attack.py:160 -     iterative_attack() ] Attach_iter 93 perturbation shape: (1, 268203), perturbation: [[ 0.10552686 -0.03942858 -0.03739287 ... -0.08670148  0.01989094\n",
      "   0.02201103]]\n"
     ]
    },
    {
     "name": "stdout",
     "output_type": "stream",
     "text": [
      "(1, 268203)\n",
      "Loaded inverse HVP from output/poisoning_900_300_inception_wd-0.001-test-[15, 169].npz\n",
      "Inverse HVP took 0.00068998336792 sec\n",
      "Entering the for loop\n",
      "(1, 268203)\n",
      "Loaded inverse HVP from output/poisoning_900_300_inception_wd-0.001-test-[15, 169].npz\n",
      "Inverse HVP took 0.000581979751587 sec\n",
      "Entering the for loop\n"
     ]
    },
    {
     "name": "stderr",
     "output_type": "stream",
     "text": [
      "[iter_attack.py:160 -     iterative_attack() ] Attach_iter 93 perturbation shape: (1, 268203), perturbation: [[ 0.26112759 -0.17701039  0.46461213 ... -0.00212536  0.4256964\n",
      "  -0.71815097]]\n",
      "[iter_attack.py:160 -     iterative_attack() ] Attach_iter 93 perturbation shape: (1, 268203), perturbation: [[-1.27110672 -0.46604678  0.29673931 ...  0.01147852 -0.12926678\n",
      "   0.0385209 ]]\n"
     ]
    },
    {
     "name": "stdout",
     "output_type": "stream",
     "text": [
      "(1, 268203)\n",
      "Loaded inverse HVP from output/poisoning_900_300_inception_wd-0.001-test-[15, 169].npz\n",
      "Inverse HVP took 0.000603199005127 sec\n",
      "Entering the for loop\n",
      "(1, 268203)\n",
      "Loaded inverse HVP from output/poisoning_900_300_inception_wd-0.001-test-[15, 169].npz\n",
      "Inverse HVP took 0.00059986114502 sec\n",
      "Entering the for loop\n"
     ]
    },
    {
     "name": "stderr",
     "output_type": "stream",
     "text": [
      "[iter_attack.py:160 -     iterative_attack() ] Attach_iter 93 perturbation shape: (1, 268203), perturbation: [[-0.08291416  0.05781046  0.03773513 ... -0.00536991  0.04287332\n",
      "  -0.01759251]]\n"
     ]
    },
    {
     "name": "stdout",
     "output_type": "stream",
     "text": [
      "(1, 268203)\n",
      "10 10\n",
      "Shape (10, 2048)\n",
      "Using normal model\n"
     ]
    },
    {
     "name": "stderr",
     "output_type": "stream",
     "text": [
      "[genericNeuralNet.py:328 -     print_model_eval() ] Train loss (w reg) on all data: 0.027994279\n",
      "[genericNeuralNet.py:329 -     print_model_eval() ] Train loss (w/o reg) on all data: 0.014052451\n",
      "[genericNeuralNet.py:331 -     print_model_eval() ] Test loss (w/o reg) on all data: 0.08137116\n",
      "[genericNeuralNet.py:332 -     print_model_eval() ] Train acc on all data:  0.9983333333333333\n",
      "[genericNeuralNet.py:333 -     print_model_eval() ] Test acc on all data:   0.9716666666666667\n",
      "[genericNeuralNet.py:335 -     print_model_eval() ] Norm of the mean of gradients: 0.023016807\n",
      "[genericNeuralNet.py:336 -     print_model_eval() ] Norm of the params: 5.2804976\n",
      "[iter_attack.py:204 -     iterative_attack() ] Test_idx: 15 Test pred (full): [[5.6260865e-06 9.9999440e-01]]\n",
      "[iter_attack.py:204 -     iterative_attack() ] Test_idx: 169 Test pred (full): [[0.99808526 0.00191481]]\n",
      "[iter_attack.py:205 -     iterative_attack() ] ---------------------\n",
      "[iter_attack.py:210 -     iterative_attack() ] Test_idx: 15 Test pred (top): [[5.6260865e-06 9.9999440e-01]]\n",
      "[iter_attack.py:210 -     iterative_attack() ] Test_idx: 169 Test pred (top): [[0.99808526 0.00191481]]\n",
      "[iter_attack.py:138 -     iterative_attack() ] *** Iter: 94\n"
     ]
    },
    {
     "name": "stdout",
     "output_type": "stream",
     "text": [
      "LBFGS training took [71] iter.\n",
      "After training with LBFGS: \n",
      "Total number of parameters: 2048\n"
     ]
    },
    {
     "name": "stderr",
     "output_type": "stream",
     "text": [
      "[iter_attack.py:160 -     iterative_attack() ] Attach_iter 94 perturbation shape: (1, 268203), perturbation: [[ 0.32062131 -0.36086488  0.32202366 ...  1.13420331  0.45541239\n",
      "  -0.84918827]]\n"
     ]
    },
    {
     "name": "stdout",
     "output_type": "stream",
     "text": [
      "Warning: Desired error not necessarily achieved due to precision loss.\n",
      "         Current function value: -3903.390381\n",
      "         Iterations: 9\n",
      "         Function evaluations: 87\n",
      "         Gradient evaluations: 86\n",
      "         Hessian evaluations: 62\n",
      "Inverse HVP took 2.49067211151 sec\n",
      "Loaded inverse HVP from output/poisoning_900_300_inception_wd-0.001-test-[15, 169].npz\n",
      "Inverse HVP took 0.00055193901062 sec\n",
      "Entering the for loop\n",
      "(1, 268203)\n",
      "Loaded inverse HVP from output/poisoning_900_300_inception_wd-0.001-test-[15, 169].npz\n",
      "Inverse HVP took 0.000585079193115 sec\n",
      "Entering the for loop\n"
     ]
    },
    {
     "name": "stderr",
     "output_type": "stream",
     "text": [
      "[iter_attack.py:160 -     iterative_attack() ] Attach_iter 94 perturbation shape: (1, 268203), perturbation: [[-0.00084058 -0.00177496 -0.0006595  ...  0.00194674  0.00294898\n",
      "  -0.00105194]]\n",
      "[iter_attack.py:160 -     iterative_attack() ] Attach_iter 94 perturbation shape: (1, 268203), perturbation: [[-0.23976681 -0.32444358  0.18163055 ... -0.20203067 -0.20506105\n",
      "   0.1502686 ]]\n"
     ]
    },
    {
     "name": "stdout",
     "output_type": "stream",
     "text": [
      "(1, 268203)\n",
      "Loaded inverse HVP from output/poisoning_900_300_inception_wd-0.001-test-[15, 169].npz\n",
      "Inverse HVP took 0.00062894821167 sec\n",
      "Entering the for loop\n",
      "(1, 268203)\n",
      "Loaded inverse HVP from output/poisoning_900_300_inception_wd-0.001-test-[15, 169].npz\n",
      "Inverse HVP took 0.000578880310059 sec\n",
      "Entering the for loop\n"
     ]
    },
    {
     "name": "stderr",
     "output_type": "stream",
     "text": [
      "[iter_attack.py:160 -     iterative_attack() ] Attach_iter 94 perturbation shape: (1, 268203), perturbation: [[-0.02770269  0.02286686  0.02883266 ...  0.00744661  0.00698617\n",
      "  -0.00279933]]\n",
      "[iter_attack.py:160 -     iterative_attack() ] Attach_iter 94 perturbation shape: (1, 268203), perturbation: [[ 0.01789591 -0.01354185  0.01207024 ... -0.07025225  0.27737424\n",
      "  -0.04018012]]\n"
     ]
    },
    {
     "name": "stdout",
     "output_type": "stream",
     "text": [
      "(1, 268203)\n",
      "Loaded inverse HVP from output/poisoning_900_300_inception_wd-0.001-test-[15, 169].npz\n",
      "Inverse HVP took 0.000596046447754 sec\n",
      "Entering the for loop\n",
      "(1, 268203)\n",
      "Loaded inverse HVP from output/poisoning_900_300_inception_wd-0.001-test-[15, 169].npz\n",
      "Inverse HVP took 0.000622034072876 sec\n",
      "Entering the for loop\n"
     ]
    },
    {
     "name": "stderr",
     "output_type": "stream",
     "text": [
      "[iter_attack.py:160 -     iterative_attack() ] Attach_iter 94 perturbation shape: (1, 268203), perturbation: [[-0.23114857  0.16751048 -0.28796735 ...  0.11053731 -0.16010574\n",
      "   0.24824321]]\n",
      "[iter_attack.py:160 -     iterative_attack() ] Attach_iter 94 perturbation shape: (1, 268203), perturbation: [[-0.4597767  -0.02937279  0.25598207 ... -0.07686941  0.07130052\n",
      "   0.01225726]]\n"
     ]
    },
    {
     "name": "stdout",
     "output_type": "stream",
     "text": [
      "(1, 268203)\n",
      "Loaded inverse HVP from output/poisoning_900_300_inception_wd-0.001-test-[15, 169].npz\n",
      "Inverse HVP took 0.000586986541748 sec\n",
      "Entering the for loop\n",
      "(1, 268203)\n",
      "Loaded inverse HVP from output/poisoning_900_300_inception_wd-0.001-test-[15, 169].npz\n",
      "Inverse HVP took 0.000584840774536 sec\n",
      "Entering the for loop\n"
     ]
    },
    {
     "name": "stderr",
     "output_type": "stream",
     "text": [
      "[iter_attack.py:160 -     iterative_attack() ] Attach_iter 94 perturbation shape: (1, 268203), perturbation: [[-0.12922424 -0.22189718  0.06845893 ... -0.12707537 -0.33340359\n",
      "   0.11234081]]\n",
      "[iter_attack.py:160 -     iterative_attack() ] Attach_iter 94 perturbation shape: (1, 268203), perturbation: [[-1.026209   -0.10019958  0.22850096 ...  0.01053037  0.08394081\n",
      "  -0.00945852]]\n"
     ]
    },
    {
     "name": "stdout",
     "output_type": "stream",
     "text": [
      "(1, 268203)\n",
      "Loaded inverse HVP from output/poisoning_900_300_inception_wd-0.001-test-[15, 169].npz\n",
      "Inverse HVP took 0.000586032867432 sec\n",
      "Entering the for loop\n",
      "(1, 268203)\n",
      "Loaded inverse HVP from output/poisoning_900_300_inception_wd-0.001-test-[15, 169].npz\n",
      "Inverse HVP took 0.000584125518799 sec\n",
      "Entering the for loop\n"
     ]
    },
    {
     "name": "stderr",
     "output_type": "stream",
     "text": [
      "[iter_attack.py:160 -     iterative_attack() ] Attach_iter 94 perturbation shape: (1, 268203), perturbation: [[ 0.00973279 -0.04100181 -0.06021123 ... -0.02178576  0.01056155\n",
      "  -0.02398477]]\n"
     ]
    },
    {
     "name": "stdout",
     "output_type": "stream",
     "text": [
      "(1, 268203)\n",
      "10 10\n"
     ]
    },
    {
     "name": "stderr",
     "output_type": "stream",
     "text": [
      "[genericNeuralNet.py:328 -     print_model_eval() ] Train loss (w reg) on all data: 0.027930528\n",
      "[genericNeuralNet.py:329 -     print_model_eval() ] Train loss (w/o reg) on all data: 0.01426066\n",
      "[genericNeuralNet.py:331 -     print_model_eval() ] Test loss (w/o reg) on all data: 0.08295154\n",
      "[genericNeuralNet.py:332 -     print_model_eval() ] Train acc on all data:  0.9977777777777778\n",
      "[genericNeuralNet.py:333 -     print_model_eval() ] Test acc on all data:   0.9716666666666667\n"
     ]
    },
    {
     "name": "stdout",
     "output_type": "stream",
     "text": [
      "Shape (10, 2048)\n",
      "Using normal model\n",
      "LBFGS training took [34] iter.\n",
      "After training with LBFGS: \n"
     ]
    },
    {
     "name": "stderr",
     "output_type": "stream",
     "text": [
      "[genericNeuralNet.py:335 -     print_model_eval() ] Norm of the mean of gradients: 0.022949137\n",
      "[genericNeuralNet.py:336 -     print_model_eval() ] Norm of the params: 5.228741\n",
      "[iter_attack.py:204 -     iterative_attack() ] Test_idx: 15 Test pred (full): [[5.469438e-06 9.999945e-01]]\n",
      "[iter_attack.py:204 -     iterative_attack() ] Test_idx: 169 Test pred (full): [[0.9979225  0.00207754]]\n",
      "[iter_attack.py:205 -     iterative_attack() ] ---------------------\n",
      "[iter_attack.py:210 -     iterative_attack() ] Test_idx: 15 Test pred (top): [[5.469438e-06 9.999945e-01]]\n",
      "[iter_attack.py:210 -     iterative_attack() ] Test_idx: 169 Test pred (top): [[0.9979225  0.00207754]]\n",
      "[iter_attack.py:138 -     iterative_attack() ] *** Iter: 95\n"
     ]
    },
    {
     "name": "stdout",
     "output_type": "stream",
     "text": [
      "Total number of parameters: 2048\n"
     ]
    },
    {
     "name": "stderr",
     "output_type": "stream",
     "text": [
      "[iter_attack.py:160 -     iterative_attack() ] Attach_iter 95 perturbation shape: (1, 268203), perturbation: [[ 0.04271883 -0.28602973 -0.73368049 ... -1.08142602 -0.19808196\n",
      "   0.56648898]]\n"
     ]
    },
    {
     "name": "stdout",
     "output_type": "stream",
     "text": [
      "Warning: Desired error not necessarily achieved due to precision loss.\n",
      "         Current function value: -3842.225098\n",
      "         Iterations: 8\n",
      "         Function evaluations: 89\n",
      "         Gradient evaluations: 85\n",
      "         Hessian evaluations: 54\n",
      "Inverse HVP took 2.43093705177 sec\n",
      "Loaded inverse HVP from output/poisoning_900_300_inception_wd-0.001-test-[15, 169].npz\n",
      "Inverse HVP took 0.000537872314453 sec\n",
      "Entering the for loop\n",
      "(1, 268203)\n",
      "Loaded inverse HVP from output/poisoning_900_300_inception_wd-0.001-test-[15, 169].npz\n",
      "Inverse HVP took 0.000583171844482 sec\n",
      "Entering the for loop\n"
     ]
    },
    {
     "name": "stderr",
     "output_type": "stream",
     "text": [
      "[iter_attack.py:160 -     iterative_attack() ] Attach_iter 95 perturbation shape: (1, 268203), perturbation: [[ 0.00060929  0.00091835  0.00139666 ...  0.00081586 -0.00282714\n",
      "   0.00056836]]\n",
      "[iter_attack.py:160 -     iterative_attack() ] Attach_iter 95 perturbation shape: (1, 268203), perturbation: [[-0.07624768  0.13532585 -0.07991715 ... -0.16953917 -0.12507263\n",
      "   0.06928022]]\n"
     ]
    },
    {
     "name": "stdout",
     "output_type": "stream",
     "text": [
      "(1, 268203)\n",
      "Loaded inverse HVP from output/poisoning_900_300_inception_wd-0.001-test-[15, 169].npz\n",
      "Inverse HVP took 0.000578880310059 sec\n",
      "Entering the for loop\n",
      "(1, 268203)\n",
      "Loaded inverse HVP from output/poisoning_900_300_inception_wd-0.001-test-[15, 169].npz\n",
      "Inverse HVP took 0.000576019287109 sec\n",
      "Entering the for loop\n"
     ]
    },
    {
     "name": "stderr",
     "output_type": "stream",
     "text": [
      "[iter_attack.py:160 -     iterative_attack() ] Attach_iter 95 perturbation shape: (1, 268203), perturbation: [[ 0.0006045   0.00322167  0.01504323 ... -0.06819023 -0.02852711\n",
      "   0.04161932]]\n",
      "[iter_attack.py:160 -     iterative_attack() ] Attach_iter 95 perturbation shape: (1, 268203), perturbation: [[-0.01550407  0.01805783 -0.02708087 ... -0.13482261 -0.0887025\n",
      "   0.02665023]]\n"
     ]
    },
    {
     "name": "stdout",
     "output_type": "stream",
     "text": [
      "(1, 268203)\n",
      "Loaded inverse HVP from output/poisoning_900_300_inception_wd-0.001-test-[15, 169].npz\n",
      "Inverse HVP took 0.000585079193115 sec\n",
      "Entering the for loop\n",
      "(1, 268203)\n",
      "Loaded inverse HVP from output/poisoning_900_300_inception_wd-0.001-test-[15, 169].npz\n",
      "Inverse HVP took 0.000578165054321 sec\n",
      "Entering the for loop\n"
     ]
    },
    {
     "name": "stderr",
     "output_type": "stream",
     "text": [
      "[iter_attack.py:160 -     iterative_attack() ] Attach_iter 95 perturbation shape: (1, 268203), perturbation: [[-0.0406534  -0.3470436   0.51726025 ... -0.04401208 -0.0368605\n",
      "  -0.00757185]]\n",
      "[iter_attack.py:160 -     iterative_attack() ] Attach_iter 95 perturbation shape: (1, 268203), perturbation: [[-0.0025969  -0.01219945  0.04882366 ... -0.22070877  0.05317235\n",
      "   0.06194063]]\n"
     ]
    },
    {
     "name": "stdout",
     "output_type": "stream",
     "text": [
      "(1, 268203)\n",
      "Loaded inverse HVP from output/poisoning_900_300_inception_wd-0.001-test-[15, 169].npz\n",
      "Inverse HVP took 0.000579118728638 sec\n",
      "Entering the for loop\n",
      "(1, 268203)\n",
      "Loaded inverse HVP from output/poisoning_900_300_inception_wd-0.001-test-[15, 169].npz\n",
      "Inverse HVP took 0.000576972961426 sec\n",
      "Entering the for loop\n"
     ]
    },
    {
     "name": "stderr",
     "output_type": "stream",
     "text": [
      "[iter_attack.py:160 -     iterative_attack() ] Attach_iter 95 perturbation shape: (1, 268203), perturbation: [[ 0.25029165 -0.27299017  0.57469499 ...  0.69384027  0.1335597\n",
      "  -0.726147  ]]\n",
      "[iter_attack.py:160 -     iterative_attack() ] Attach_iter 95 perturbation shape: (1, 268203), perturbation: [[-0.82816762 -0.39072365  0.21849597 ... -0.01792128 -0.16344094\n",
      "   0.03621938]]\n"
     ]
    },
    {
     "name": "stdout",
     "output_type": "stream",
     "text": [
      "(1, 268203)\n",
      "Loaded inverse HVP from output/poisoning_900_300_inception_wd-0.001-test-[15, 169].npz\n",
      "Inverse HVP took 0.000617980957031 sec\n",
      "Entering the for loop\n",
      "(1, 268203)\n",
      "Loaded inverse HVP from output/poisoning_900_300_inception_wd-0.001-test-[15, 169].npz\n",
      "Inverse HVP took 0.000597953796387 sec\n",
      "Entering the for loop\n"
     ]
    },
    {
     "name": "stderr",
     "output_type": "stream",
     "text": [
      "[iter_attack.py:160 -     iterative_attack() ] Attach_iter 95 perturbation shape: (1, 268203), perturbation: [[-0.04484893  0.06567515  0.05314545 ... -0.00700522  0.02735758\n",
      "  -0.00362244]]\n"
     ]
    },
    {
     "name": "stdout",
     "output_type": "stream",
     "text": [
      "(1, 268203)\n",
      "10 10\n",
      "Shape (10, 2048)\n",
      "Using normal model\n"
     ]
    },
    {
     "name": "stderr",
     "output_type": "stream",
     "text": [
      "[genericNeuralNet.py:328 -     print_model_eval() ] Train loss (w reg) on all data: 0.028185569\n",
      "[genericNeuralNet.py:329 -     print_model_eval() ] Train loss (w/o reg) on all data: 0.014198068\n",
      "[genericNeuralNet.py:331 -     print_model_eval() ] Test loss (w/o reg) on all data: 0.08152249\n",
      "[genericNeuralNet.py:332 -     print_model_eval() ] Train acc on all data:  0.9983333333333333\n",
      "[genericNeuralNet.py:333 -     print_model_eval() ] Test acc on all data:   0.9716666666666667\n",
      "[genericNeuralNet.py:335 -     print_model_eval() ] Norm of the mean of gradients: 0.023312751\n",
      "[genericNeuralNet.py:336 -     print_model_eval() ] Norm of the params: 5.28914\n",
      "[iter_attack.py:204 -     iterative_attack() ] Test_idx: 15 Test pred (full): [[5.1058537e-06 9.9999487e-01]]\n",
      "[iter_attack.py:204 -     iterative_attack() ] Test_idx: 169 Test pred (full): [[0.99801826 0.00198173]]\n",
      "[iter_attack.py:205 -     iterative_attack() ] ---------------------\n",
      "[iter_attack.py:210 -     iterative_attack() ] Test_idx: 15 Test pred (top): [[5.1058537e-06 9.9999487e-01]]\n",
      "[iter_attack.py:210 -     iterative_attack() ] Test_idx: 169 Test pred (top): [[0.99801826 0.00198173]]\n",
      "[iter_attack.py:138 -     iterative_attack() ] *** Iter: 96\n"
     ]
    },
    {
     "name": "stdout",
     "output_type": "stream",
     "text": [
      "LBFGS training took [71] iter.\n",
      "After training with LBFGS: \n",
      "Total number of parameters: 2048\n"
     ]
    },
    {
     "name": "stderr",
     "output_type": "stream",
     "text": [
      "[iter_attack.py:160 -     iterative_attack() ] Attach_iter 96 perturbation shape: (1, 268203), perturbation: [[ 0.57633221 -0.43433779  0.02917707 ...  1.54126668 -0.00761801\n",
      "  -0.60327554]]\n"
     ]
    },
    {
     "name": "stdout",
     "output_type": "stream",
     "text": [
      "Warning: Desired error not necessarily achieved due to precision loss.\n",
      "         Current function value: -3888.385254\n",
      "         Iterations: 9\n",
      "         Function evaluations: 136\n",
      "         Gradient evaluations: 130\n",
      "         Hessian evaluations: 69\n",
      "Inverse HVP took 3.44677901268 sec\n",
      "Loaded inverse HVP from output/poisoning_900_300_inception_wd-0.001-test-[15, 169].npz\n",
      "Inverse HVP took 0.000541925430298 sec\n",
      "Entering the for loop\n",
      "(1, 268203)\n",
      "Loaded inverse HVP from output/poisoning_900_300_inception_wd-0.001-test-[15, 169].npz\n",
      "Inverse HVP took 0.000574111938477 sec\n",
      "Entering the for loop\n"
     ]
    },
    {
     "name": "stderr",
     "output_type": "stream",
     "text": [
      "[iter_attack.py:160 -     iterative_attack() ] Attach_iter 96 perturbation shape: (1, 268203), perturbation: [[-9.57111362e-04 -1.75987335e-03 -1.28261945e-05 ...  1.68797711e-03\n",
      "   4.26755287e-03 -6.91830181e-04]]\n",
      "[iter_attack.py:160 -     iterative_attack() ] Attach_iter 96 perturbation shape: (1, 268203), perturbation: [[ 0.14737809 -0.09417459  0.10647458 ... -0.20526579 -0.17812115\n",
      "   0.14241807]]\n"
     ]
    },
    {
     "name": "stdout",
     "output_type": "stream",
     "text": [
      "(1, 268203)\n",
      "Loaded inverse HVP from output/poisoning_900_300_inception_wd-0.001-test-[15, 169].npz\n",
      "Inverse HVP took 0.000671863555908 sec\n",
      "Entering the for loop\n",
      "(1, 268203)\n",
      "Loaded inverse HVP from output/poisoning_900_300_inception_wd-0.001-test-[15, 169].npz\n",
      "Inverse HVP took 0.000578880310059 sec\n",
      "Entering the for loop\n"
     ]
    },
    {
     "name": "stderr",
     "output_type": "stream",
     "text": [
      "[iter_attack.py:160 -     iterative_attack() ] Attach_iter 96 perturbation shape: (1, 268203), perturbation: [[ 0.00171338  0.03282832  0.00926675 ...  0.01475944  0.01470272\n",
      "  -0.014384  ]]\n",
      "[iter_attack.py:160 -     iterative_attack() ] Attach_iter 96 perturbation shape: (1, 268203), perturbation: [[ 0.01538787 -0.00953176  0.0087475  ... -0.14911817  0.40492022\n",
      "  -0.02206792]]\n"
     ]
    },
    {
     "name": "stdout",
     "output_type": "stream",
     "text": [
      "(1, 268203)\n",
      "Loaded inverse HVP from output/poisoning_900_300_inception_wd-0.001-test-[15, 169].npz\n",
      "Inverse HVP took 0.00059700012207 sec\n",
      "Entering the for loop\n",
      "(1, 268203)\n",
      "Loaded inverse HVP from output/poisoning_900_300_inception_wd-0.001-test-[15, 169].npz\n",
      "Inverse HVP took 0.000582933425903 sec\n",
      "Entering the for loop\n"
     ]
    },
    {
     "name": "stderr",
     "output_type": "stream",
     "text": [
      "[iter_attack.py:160 -     iterative_attack() ] Attach_iter 96 perturbation shape: (1, 268203), perturbation: [[-0.31005111  0.22334464 -0.25256324 ...  0.13353685 -0.1100482\n",
      "   0.15404922]]\n",
      "[iter_attack.py:160 -     iterative_attack() ] Attach_iter 96 perturbation shape: (1, 268203), perturbation: [[-0.33608937 -0.0532516   0.2079899  ... -0.07395542  0.07084648\n",
      "   0.01995313]]\n"
     ]
    },
    {
     "name": "stdout",
     "output_type": "stream",
     "text": [
      "(1, 268203)\n",
      "Loaded inverse HVP from output/poisoning_900_300_inception_wd-0.001-test-[15, 169].npz\n",
      "Inverse HVP took 0.000651121139526 sec\n",
      "Entering the for loop\n",
      "(1, 268203)\n",
      "Loaded inverse HVP from output/poisoning_900_300_inception_wd-0.001-test-[15, 169].npz\n",
      "Inverse HVP took 0.000585079193115 sec\n",
      "Entering the for loop\n"
     ]
    },
    {
     "name": "stderr",
     "output_type": "stream",
     "text": [
      "[iter_attack.py:160 -     iterative_attack() ] Attach_iter 96 perturbation shape: (1, 268203), perturbation: [[-0.13323945  0.01865324 -0.19409911 ... -0.71576387  0.08443457\n",
      "   0.00812691]]\n",
      "[iter_attack.py:160 -     iterative_attack() ] Attach_iter 96 perturbation shape: (1, 268203), perturbation: [[-1.81868291 -0.37235522  0.28069103 ...  0.04089711  0.1076168\n",
      "  -0.01733489]]\n"
     ]
    },
    {
     "name": "stdout",
     "output_type": "stream",
     "text": [
      "(1, 268203)\n",
      "Loaded inverse HVP from output/poisoning_900_300_inception_wd-0.001-test-[15, 169].npz\n",
      "Inverse HVP took 0.000624179840088 sec\n",
      "Entering the for loop\n",
      "(1, 268203)\n",
      "Loaded inverse HVP from output/poisoning_900_300_inception_wd-0.001-test-[15, 169].npz\n",
      "Inverse HVP took 0.000576019287109 sec\n",
      "Entering the for loop\n"
     ]
    },
    {
     "name": "stderr",
     "output_type": "stream",
     "text": [
      "[iter_attack.py:160 -     iterative_attack() ] Attach_iter 96 perturbation shape: (1, 268203), perturbation: [[ 0.00414969 -0.0424506  -0.05102073 ... -0.01830225  0.01502185\n",
      "  -0.02644734]]\n"
     ]
    },
    {
     "name": "stdout",
     "output_type": "stream",
     "text": [
      "(1, 268203)\n",
      "10 10\n",
      "Shape (10, 2048)\n",
      "Using normal model\n"
     ]
    },
    {
     "name": "stderr",
     "output_type": "stream",
     "text": [
      "[genericNeuralNet.py:328 -     print_model_eval() ] Train loss (w reg) on all data: 0.028024988\n",
      "[genericNeuralNet.py:329 -     print_model_eval() ] Train loss (w/o reg) on all data: 0.014318898\n",
      "[genericNeuralNet.py:331 -     print_model_eval() ] Test loss (w/o reg) on all data: 0.08332653\n",
      "[genericNeuralNet.py:332 -     print_model_eval() ] Train acc on all data:  0.9977777777777778\n",
      "[genericNeuralNet.py:333 -     print_model_eval() ] Test acc on all data:   0.9716666666666667\n",
      "[genericNeuralNet.py:335 -     print_model_eval() ] Norm of the mean of gradients: 0.023065876\n",
      "[genericNeuralNet.py:336 -     print_model_eval() ] Norm of the params: 5.235664\n",
      "[iter_attack.py:204 -     iterative_attack() ] Test_idx: 15 Test pred (full): [[4.9801392e-06 9.9999499e-01]]\n",
      "[iter_attack.py:204 -     iterative_attack() ] Test_idx: 169 Test pred (full): [[0.99791104 0.00208893]]\n",
      "[iter_attack.py:205 -     iterative_attack() ] ---------------------\n",
      "[iter_attack.py:210 -     iterative_attack() ] Test_idx: 15 Test pred (top): [[4.9801392e-06 9.9999499e-01]]\n",
      "[iter_attack.py:210 -     iterative_attack() ] Test_idx: 169 Test pred (top): [[0.99791104 0.00208893]]\n",
      "[iter_attack.py:138 -     iterative_attack() ] *** Iter: 97\n"
     ]
    },
    {
     "name": "stdout",
     "output_type": "stream",
     "text": [
      "LBFGS training took [65] iter.\n",
      "After training with LBFGS: \n",
      "Total number of parameters: 2048\n"
     ]
    },
    {
     "name": "stderr",
     "output_type": "stream",
     "text": [
      "[iter_attack.py:160 -     iterative_attack() ] Attach_iter 97 perturbation shape: (1, 268203), perturbation: [[-0.13232081 -0.51294053 -0.94392562 ... -1.15452242 -0.03630535\n",
      "   0.53657418]]\n"
     ]
    },
    {
     "name": "stdout",
     "output_type": "stream",
     "text": [
      "Warning: Desired error not necessarily achieved due to precision loss.\n",
      "         Current function value: -3840.231934\n",
      "         Iterations: 9\n",
      "         Function evaluations: 93\n",
      "         Gradient evaluations: 90\n",
      "         Hessian evaluations: 65\n",
      "Inverse HVP took 2.6194088459 sec\n",
      "Loaded inverse HVP from output/poisoning_900_300_inception_wd-0.001-test-[15, 169].npz\n",
      "Inverse HVP took 0.00053882598877 sec\n",
      "Entering the for loop\n",
      "(1, 268203)\n",
      "Loaded inverse HVP from output/poisoning_900_300_inception_wd-0.001-test-[15, 169].npz\n",
      "Inverse HVP took 0.000591993331909 sec\n",
      "Entering the for loop\n"
     ]
    },
    {
     "name": "stderr",
     "output_type": "stream",
     "text": [
      "[iter_attack.py:160 -     iterative_attack() ] Attach_iter 97 perturbation shape: (1, 268203), perturbation: [[ 0.00143071  0.00131929  0.00103224 ...  0.00161642 -0.00465844\n",
      "   0.00104529]]\n",
      "[iter_attack.py:160 -     iterative_attack() ] Attach_iter 97 perturbation shape: (1, 268203), perturbation: [[-0.33471969 -0.13831174 -0.06005722 ... -0.08169337 -0.09829163\n",
      "   0.03352834]]\n"
     ]
    },
    {
     "name": "stdout",
     "output_type": "stream",
     "text": [
      "(1, 268203)\n",
      "Loaded inverse HVP from output/poisoning_900_300_inception_wd-0.001-test-[15, 169].npz\n",
      "Inverse HVP took 0.000591993331909 sec\n",
      "Entering the for loop\n",
      "(1, 268203)\n",
      "Loaded inverse HVP from output/poisoning_900_300_inception_wd-0.001-test-[15, 169].npz\n",
      "Inverse HVP took 0.000679969787598 sec\n",
      "Entering the for loop\n"
     ]
    },
    {
     "name": "stderr",
     "output_type": "stream",
     "text": [
      "[iter_attack.py:160 -     iterative_attack() ] Attach_iter 97 perturbation shape: (1, 268203), perturbation: [[-0.02539321  0.00206669  0.03078076 ... -0.08675814 -0.03330112\n",
      "   0.03889444]]\n",
      "[iter_attack.py:160 -     iterative_attack() ] Attach_iter 97 perturbation shape: (1, 268203), perturbation: [[-0.00530179  0.01694882 -0.0301369  ... -0.00727225 -0.36824244\n",
      "  -0.0133905 ]]\n"
     ]
    },
    {
     "name": "stdout",
     "output_type": "stream",
     "text": [
      "(1, 268203)\n",
      "Loaded inverse HVP from output/poisoning_900_300_inception_wd-0.001-test-[15, 169].npz\n",
      "Inverse HVP took 0.000573873519897 sec\n",
      "Entering the for loop\n",
      "(1, 268203)\n",
      "Loaded inverse HVP from output/poisoning_900_300_inception_wd-0.001-test-[15, 169].npz\n",
      "Inverse HVP took 0.000571966171265 sec\n",
      "Entering the for loop\n"
     ]
    },
    {
     "name": "stderr",
     "output_type": "stream",
     "text": [
      "[iter_attack.py:160 -     iterative_attack() ] Attach_iter 97 perturbation shape: (1, 268203), perturbation: [[ 0.00370322 -0.39767686  0.49803418 ... -0.06559113 -0.03340575\n",
      "  -0.01771226]]\n",
      "[iter_attack.py:160 -     iterative_attack() ] Attach_iter 97 perturbation shape: (1, 268203), perturbation: [[-0.01836213  0.00327896  0.05311704 ... -0.20750205  0.04420286\n",
      "   0.04339899]]\n"
     ]
    },
    {
     "name": "stdout",
     "output_type": "stream",
     "text": [
      "(1, 268203)\n",
      "Loaded inverse HVP from output/poisoning_900_300_inception_wd-0.001-test-[15, 169].npz\n",
      "Inverse HVP took 0.000581026077271 sec\n",
      "Entering the for loop\n",
      "(1, 268203)\n",
      "Loaded inverse HVP from output/poisoning_900_300_inception_wd-0.001-test-[15, 169].npz\n",
      "Inverse HVP took 0.000638961791992 sec\n",
      "Entering the for loop\n"
     ]
    },
    {
     "name": "stderr",
     "output_type": "stream",
     "text": [
      "[iter_attack.py:160 -     iterative_attack() ] Attach_iter 97 perturbation shape: (1, 268203), perturbation: [[ 0.29746771 -0.42935023  0.72087067 ...  0.47356677 -0.03712502\n",
      "  -0.123629  ]]\n",
      "[iter_attack.py:160 -     iterative_attack() ] Attach_iter 97 perturbation shape: (1, 268203), perturbation: [[ 0.93817991  0.09737763 -0.10152811 ... -0.06020392 -0.09006639\n",
      "   0.03327326]]\n"
     ]
    },
    {
     "name": "stdout",
     "output_type": "stream",
     "text": [
      "(1, 268203)\n",
      "Loaded inverse HVP from output/poisoning_900_300_inception_wd-0.001-test-[15, 169].npz\n",
      "Inverse HVP took 0.000581026077271 sec\n",
      "Entering the for loop\n",
      "(1, 268203)\n",
      "Loaded inverse HVP from output/poisoning_900_300_inception_wd-0.001-test-[15, 169].npz\n",
      "Inverse HVP took 0.000622034072876 sec\n",
      "Entering the for loop\n"
     ]
    },
    {
     "name": "stderr",
     "output_type": "stream",
     "text": [
      "[iter_attack.py:160 -     iterative_attack() ] Attach_iter 97 perturbation shape: (1, 268203), perturbation: [[-0.04033472  0.06562938  0.03861547 ...  0.01898522 -0.00258606\n",
      "   0.0108128 ]]\n"
     ]
    },
    {
     "name": "stdout",
     "output_type": "stream",
     "text": [
      "(1, 268203)\n",
      "10 10\n",
      "Shape (10, 2048)\n",
      "Using normal model\n",
      "LBFGS training took [59] iter.\n",
      "After training with LBFGS: \n"
     ]
    },
    {
     "name": "stderr",
     "output_type": "stream",
     "text": [
      "[genericNeuralNet.py:328 -     print_model_eval() ] Train loss (w reg) on all data: 0.028350238\n",
      "[genericNeuralNet.py:329 -     print_model_eval() ] Train loss (w/o reg) on all data: 0.01433204\n",
      "[genericNeuralNet.py:331 -     print_model_eval() ] Test loss (w/o reg) on all data: 0.08190044\n",
      "[genericNeuralNet.py:332 -     print_model_eval() ] Train acc on all data:  0.9983333333333333\n",
      "[genericNeuralNet.py:333 -     print_model_eval() ] Test acc on all data:   0.9716666666666667\n",
      "[genericNeuralNet.py:335 -     print_model_eval() ] Norm of the mean of gradients: 0.023546923\n",
      "[genericNeuralNet.py:336 -     print_model_eval() ] Norm of the params: 5.2949405\n",
      "[iter_attack.py:204 -     iterative_attack() ] Test_idx: 15 Test pred (full): [[4.6243408e-06 9.9999535e-01]]\n",
      "[iter_attack.py:204 -     iterative_attack() ] Test_idx: 169 Test pred (full): [[0.9980196  0.00198045]]\n",
      "[iter_attack.py:205 -     iterative_attack() ] ---------------------\n",
      "[iter_attack.py:210 -     iterative_attack() ] Test_idx: 15 Test pred (top): [[4.6243408e-06 9.9999535e-01]]\n",
      "[iter_attack.py:210 -     iterative_attack() ] Test_idx: 169 Test pred (top): [[0.9980196  0.00198045]]\n",
      "[iter_attack.py:138 -     iterative_attack() ] *** Iter: 98\n"
     ]
    },
    {
     "name": "stdout",
     "output_type": "stream",
     "text": [
      "Total number of parameters: 2048\n"
     ]
    },
    {
     "name": "stderr",
     "output_type": "stream",
     "text": [
      "[iter_attack.py:160 -     iterative_attack() ] Attach_iter 98 perturbation shape: (1, 268203), perturbation: [[ 0.7144227  -0.21381946 -0.04493798 ...  1.83154368 -0.45435411\n",
      "  -0.44702333]]\n"
     ]
    },
    {
     "name": "stdout",
     "output_type": "stream",
     "text": [
      "Warning: Desired error not necessarily achieved due to precision loss.\n",
      "         Current function value: -3870.369141\n",
      "         Iterations: 10\n",
      "         Function evaluations: 85\n",
      "         Gradient evaluations: 84\n",
      "         Hessian evaluations: 66\n",
      "Inverse HVP took 2.42650198936 sec\n",
      "Loaded inverse HVP from output/poisoning_900_300_inception_wd-0.001-test-[15, 169].npz\n",
      "Inverse HVP took 0.000547885894775 sec\n",
      "Entering the for loop\n",
      "(1, 268203)\n",
      "Loaded inverse HVP from output/poisoning_900_300_inception_wd-0.001-test-[15, 169].npz\n",
      "Inverse HVP took 0.000601053237915 sec\n",
      "Entering the for loop\n"
     ]
    },
    {
     "name": "stderr",
     "output_type": "stream",
     "text": [
      "[iter_attack.py:160 -     iterative_attack() ] Attach_iter 98 perturbation shape: (1, 268203), perturbation: [[-0.00100794 -0.00203599 -0.00054622 ...  0.00115359  0.00489387\n",
      "   0.00030831]]\n",
      "[iter_attack.py:160 -     iterative_attack() ] Attach_iter 98 perturbation shape: (1, 268203), perturbation: [[ 0.30019397 -0.05231686  0.22806123 ... -0.24170974 -0.18361758\n",
      "   0.15220188]]\n"
     ]
    },
    {
     "name": "stdout",
     "output_type": "stream",
     "text": [
      "(1, 268203)\n",
      "Loaded inverse HVP from output/poisoning_900_300_inception_wd-0.001-test-[15, 169].npz\n",
      "Inverse HVP took 0.000686168670654 sec\n",
      "Entering the for loop\n",
      "(1, 268203)\n",
      "Loaded inverse HVP from output/poisoning_900_300_inception_wd-0.001-test-[15, 169].npz\n",
      "Inverse HVP took 0.000586986541748 sec\n",
      "Entering the for loop\n"
     ]
    },
    {
     "name": "stderr",
     "output_type": "stream",
     "text": [
      "[iter_attack.py:160 -     iterative_attack() ] Attach_iter 98 perturbation shape: (1, 268203), perturbation: [[ 0.01534736  0.04222257 -0.00559357 ...  0.02594008  0.01186571\n",
      "  -0.03110345]]\n",
      "[iter_attack.py:160 -     iterative_attack() ] Attach_iter 98 perturbation shape: (1, 268203), perturbation: [[-0.0011474  -0.00382781  0.00835907 ... -0.21637966  0.34266138\n",
      "   0.05419553]]\n"
     ]
    },
    {
     "name": "stdout",
     "output_type": "stream",
     "text": [
      "(1, 268203)\n",
      "Loaded inverse HVP from output/poisoning_900_300_inception_wd-0.001-test-[15, 169].npz\n",
      "Inverse HVP took 0.000587940216064 sec\n",
      "Entering the for loop\n",
      "(1, 268203)\n",
      "Loaded inverse HVP from output/poisoning_900_300_inception_wd-0.001-test-[15, 169].npz\n",
      "Inverse HVP took 0.000639915466309 sec\n",
      "Entering the for loop\n"
     ]
    },
    {
     "name": "stderr",
     "output_type": "stream",
     "text": [
      "[iter_attack.py:160 -     iterative_attack() ] Attach_iter 98 perturbation shape: (1, 268203), perturbation: [[-0.33501595  0.23018399 -0.19459474 ...  0.16322394 -0.13998589\n",
      "   0.20946841]]\n",
      "[iter_attack.py:160 -     iterative_attack() ] Attach_iter 98 perturbation shape: (1, 268203), perturbation: [[-0.22700807 -0.07918593  0.20449643 ... -0.07425343  0.11000741\n",
      "   0.02299323]]\n"
     ]
    },
    {
     "name": "stdout",
     "output_type": "stream",
     "text": [
      "(1, 268203)\n",
      "Loaded inverse HVP from output/poisoning_900_300_inception_wd-0.001-test-[15, 169].npz\n",
      "Inverse HVP took 0.000580072402954 sec\n",
      "Entering the for loop\n",
      "(1, 268203)\n",
      "Loaded inverse HVP from output/poisoning_900_300_inception_wd-0.001-test-[15, 169].npz\n",
      "Inverse HVP took 0.000581979751587 sec\n",
      "Entering the for loop\n"
     ]
    },
    {
     "name": "stderr",
     "output_type": "stream",
     "text": [
      "[iter_attack.py:160 -     iterative_attack() ] Attach_iter 98 perturbation shape: (1, 268203), perturbation: [[-0.13590133  0.0475656  -0.19645724 ... -0.2141031   0.15471932\n",
      "  -0.40862361]]\n",
      "[iter_attack.py:160 -     iterative_attack() ] Attach_iter 98 perturbation shape: (1, 268203), perturbation: [[-2.46843481 -0.57648307  0.36078668 ...  0.08400595  0.02355762\n",
      "  -0.0356607 ]]\n"
     ]
    },
    {
     "name": "stdout",
     "output_type": "stream",
     "text": [
      "(1, 268203)\n",
      "Loaded inverse HVP from output/poisoning_900_300_inception_wd-0.001-test-[15, 169].npz\n",
      "Inverse HVP took 0.000631093978882 sec\n",
      "Entering the for loop\n",
      "(1, 268203)\n",
      "Loaded inverse HVP from output/poisoning_900_300_inception_wd-0.001-test-[15, 169].npz\n",
      "Inverse HVP took 0.000584125518799 sec\n",
      "Entering the for loop\n"
     ]
    },
    {
     "name": "stderr",
     "output_type": "stream",
     "text": [
      "[iter_attack.py:160 -     iterative_attack() ] Attach_iter 98 perturbation shape: (1, 268203), perturbation: [[ 0.02262765 -0.02391383 -0.04489441 ... -0.00497619 -0.00745277\n",
      "  -0.01938228]]\n"
     ]
    },
    {
     "name": "stdout",
     "output_type": "stream",
     "text": [
      "(1, 268203)\n",
      "10 10\n"
     ]
    },
    {
     "name": "stderr",
     "output_type": "stream",
     "text": [
      "[genericNeuralNet.py:328 -     print_model_eval() ] Train loss (w reg) on all data: 0.028138664\n"
     ]
    },
    {
     "name": "stdout",
     "output_type": "stream",
     "text": [
      "Shape (10, 2048)\n",
      "Using normal model\n",
      "LBFGS training took [57] iter.\n",
      "After training with LBFGS: \n"
     ]
    },
    {
     "name": "stderr",
     "output_type": "stream",
     "text": [
      "[genericNeuralNet.py:329 -     print_model_eval() ] Train loss (w/o reg) on all data: 0.01439181\n",
      "[genericNeuralNet.py:331 -     print_model_eval() ] Test loss (w/o reg) on all data: 0.083303116\n",
      "[genericNeuralNet.py:332 -     print_model_eval() ] Train acc on all data:  0.9977777777777778\n",
      "[genericNeuralNet.py:333 -     print_model_eval() ] Test acc on all data:   0.97\n",
      "[genericNeuralNet.py:335 -     print_model_eval() ] Norm of the mean of gradients: 0.023190392\n",
      "[genericNeuralNet.py:336 -     print_model_eval() ] Norm of the params: 5.2434444\n",
      "[iter_attack.py:204 -     iterative_attack() ] Test_idx: 15 Test pred (full): [[4.5319762e-06 9.9999547e-01]]\n",
      "[iter_attack.py:204 -     iterative_attack() ] Test_idx: 169 Test pred (full): [[0.997832   0.00216795]]\n",
      "[iter_attack.py:205 -     iterative_attack() ] ---------------------\n",
      "[iter_attack.py:210 -     iterative_attack() ] Test_idx: 15 Test pred (top): [[4.5319762e-06 9.9999547e-01]]\n",
      "[iter_attack.py:210 -     iterative_attack() ] Test_idx: 169 Test pred (top): [[0.997832   0.00216795]]\n",
      "[iter_attack.py:138 -     iterative_attack() ] *** Iter: 99\n"
     ]
    },
    {
     "name": "stdout",
     "output_type": "stream",
     "text": [
      "Total number of parameters: 2048\n"
     ]
    },
    {
     "name": "stderr",
     "output_type": "stream",
     "text": [
      "[iter_attack.py:160 -     iterative_attack() ] Attach_iter 99 perturbation shape: (1, 268203), perturbation: [[-0.20005521 -0.50956583 -0.62171155 ... -1.93549311  0.18589413\n",
      "   0.92753446]]\n"
     ]
    },
    {
     "name": "stdout",
     "output_type": "stream",
     "text": [
      "Warning: Desired error not necessarily achieved due to precision loss.\n",
      "         Current function value: -3838.053223\n",
      "         Iterations: 8\n",
      "         Function evaluations: 75\n",
      "         Gradient evaluations: 71\n",
      "         Hessian evaluations: 54\n",
      "Inverse HVP took 2.11239504814 sec\n",
      "Loaded inverse HVP from output/poisoning_900_300_inception_wd-0.001-test-[15, 169].npz\n",
      "Inverse HVP took 0.000542879104614 sec\n",
      "Entering the for loop\n",
      "(1, 268203)\n",
      "Loaded inverse HVP from output/poisoning_900_300_inception_wd-0.001-test-[15, 169].npz\n",
      "Inverse HVP took 0.000584125518799 sec\n",
      "Entering the for loop\n"
     ]
    },
    {
     "name": "stderr",
     "output_type": "stream",
     "text": [
      "[iter_attack.py:160 -     iterative_attack() ] Attach_iter 99 perturbation shape: (1, 268203), perturbation: [[ 0.00107502  0.00049679  0.00075772 ...  0.00158612 -0.00668911\n",
      "   0.00132221]]\n",
      "[iter_attack.py:160 -     iterative_attack() ] Attach_iter 99 perturbation shape: (1, 268203), perturbation: [[-0.59906477 -0.33497667 -0.12837818 ... -0.09528006 -0.10718797\n",
      "   0.04887593]]\n"
     ]
    },
    {
     "name": "stdout",
     "output_type": "stream",
     "text": [
      "(1, 268203)\n",
      "Loaded inverse HVP from output/poisoning_900_300_inception_wd-0.001-test-[15, 169].npz\n",
      "Inverse HVP took 0.00064492225647 sec\n",
      "Entering the for loop\n",
      "(1, 268203)\n",
      "Loaded inverse HVP from output/poisoning_900_300_inception_wd-0.001-test-[15, 169].npz\n",
      "Inverse HVP took 0.000587224960327 sec\n",
      "Entering the for loop\n"
     ]
    },
    {
     "name": "stderr",
     "output_type": "stream",
     "text": [
      "[iter_attack.py:160 -     iterative_attack() ] Attach_iter 99 perturbation shape: (1, 268203), perturbation: [[-0.01995418  0.01336733  0.0278666  ... -0.08049656 -0.04163941\n",
      "   0.03994456]]\n",
      "[iter_attack.py:160 -     iterative_attack() ] Attach_iter 99 perturbation shape: (1, 268203), perturbation: [[-0.00765064  0.01386052 -0.0238836  ... -0.04987393 -0.09162406\n",
      "   0.02741754]]\n"
     ]
    },
    {
     "name": "stdout",
     "output_type": "stream",
     "text": [
      "(1, 268203)\n",
      "Loaded inverse HVP from output/poisoning_900_300_inception_wd-0.001-test-[15, 169].npz\n",
      "Inverse HVP took 0.000633001327515 sec\n",
      "Entering the for loop\n",
      "(1, 268203)\n",
      "Loaded inverse HVP from output/poisoning_900_300_inception_wd-0.001-test-[15, 169].npz\n",
      "Inverse HVP took 0.000586986541748 sec\n",
      "Entering the for loop\n"
     ]
    },
    {
     "name": "stderr",
     "output_type": "stream",
     "text": [
      "[iter_attack.py:160 -     iterative_attack() ] Attach_iter 99 perturbation shape: (1, 268203), perturbation: [[ 0.05723065 -0.40320313  0.42857096 ... -0.07332843 -0.03587301\n",
      "  -0.00104454]]\n",
      "[iter_attack.py:160 -     iterative_attack() ] Attach_iter 99 perturbation shape: (1, 268203), perturbation: [[ 0.02462345 -0.03714212  0.03538909 ... -0.27027243  0.00682852\n",
      "   0.07594393]]\n"
     ]
    },
    {
     "name": "stdout",
     "output_type": "stream",
     "text": [
      "(1, 268203)\n",
      "Loaded inverse HVP from output/poisoning_900_300_inception_wd-0.001-test-[15, 169].npz\n",
      "Inverse HVP took 0.000581979751587 sec\n",
      "Entering the for loop\n",
      "(1, 268203)\n",
      "Loaded inverse HVP from output/poisoning_900_300_inception_wd-0.001-test-[15, 169].npz\n",
      "Inverse HVP took 0.000574827194214 sec\n",
      "Entering the for loop\n"
     ]
    },
    {
     "name": "stderr",
     "output_type": "stream",
     "text": [
      "[iter_attack.py:160 -     iterative_attack() ] Attach_iter 99 perturbation shape: (1, 268203), perturbation: [[ 0.28516632 -0.54916537  0.83327597 ... -0.00411997  0.05645439\n",
      "   0.08212838]]\n",
      "[iter_attack.py:160 -     iterative_attack() ] Attach_iter 99 perturbation shape: (1, 268203), perturbation: [[ 0.94812572  0.10360973 -0.13229179 ... -0.05003331 -0.0753809\n",
      "   0.03442224]]\n"
     ]
    },
    {
     "name": "stdout",
     "output_type": "stream",
     "text": [
      "(1, 268203)\n",
      "Loaded inverse HVP from output/poisoning_900_300_inception_wd-0.001-test-[15, 169].npz\n",
      "Inverse HVP took 0.000586032867432 sec\n",
      "Entering the for loop\n",
      "(1, 268203)\n",
      "Loaded inverse HVP from output/poisoning_900_300_inception_wd-0.001-test-[15, 169].npz\n",
      "Inverse HVP took 0.000582933425903 sec\n",
      "Entering the for loop\n"
     ]
    },
    {
     "name": "stderr",
     "output_type": "stream",
     "text": [
      "[iter_attack.py:160 -     iterative_attack() ] Attach_iter 99 perturbation shape: (1, 268203), perturbation: [[-0.03507919  0.04260335  0.03401955 ...  0.03075547 -0.01611225\n",
      "   0.01549561]]\n"
     ]
    },
    {
     "name": "stdout",
     "output_type": "stream",
     "text": [
      "(1, 268203)\n",
      "10 10\n",
      "Shape (10, 2048)\n",
      "Using normal model\n",
      "LBFGS training took [65] iter.\n",
      "After training with LBFGS: \n"
     ]
    },
    {
     "name": "stderr",
     "output_type": "stream",
     "text": [
      "[genericNeuralNet.py:328 -     print_model_eval() ] Train loss (w reg) on all data: 0.02850197\n",
      "[genericNeuralNet.py:329 -     print_model_eval() ] Train loss (w/o reg) on all data: 0.014455541\n",
      "[genericNeuralNet.py:331 -     print_model_eval() ] Test loss (w/o reg) on all data: 0.08235829\n",
      "[genericNeuralNet.py:332 -     print_model_eval() ] Train acc on all data:  0.9983333333333333\n",
      "[genericNeuralNet.py:333 -     print_model_eval() ] Test acc on all data:   0.9716666666666667\n",
      "[genericNeuralNet.py:335 -     print_model_eval() ] Norm of the mean of gradients: 0.023741985\n",
      "[genericNeuralNet.py:336 -     print_model_eval() ] Norm of the params: 5.3002687\n",
      "[iter_attack.py:204 -     iterative_attack() ] Test_idx: 15 Test pred (full): [[4.1944695e-06 9.9999583e-01]]\n",
      "[iter_attack.py:204 -     iterative_attack() ] Test_idx: 169 Test pred (full): [[0.9980369  0.00196313]]\n",
      "[iter_attack.py:205 -     iterative_attack() ] ---------------------\n",
      "[iter_attack.py:210 -     iterative_attack() ] Test_idx: 15 Test pred (top): [[4.1944695e-06 9.9999583e-01]]\n",
      "[iter_attack.py:210 -     iterative_attack() ] Test_idx: 169 Test pred (top): [[0.9980369  0.00196313]]\n"
     ]
    }
   ],
   "source": [
    "## For now, pretend these are the arguments passed to the script \n",
    "#data_selected = ['Mushroom', 'Snail']\n",
    "#num_train_ex_per_class = 500\n",
    "#num_test_ex_per_class = 50\n",
    "#use_IF = False # False implies FC\n",
    "#target_test_idx = [15]\n",
    "#target_labels = None\n",
    "#num_to_perterb = 2\n",
    "## --------End of arguments----------\n",
    "\n",
    "# def data_poisoning(data_selected, \n",
    "# \t\t\t\t   num_train_ex_per_class, num_test_ex_per_class,\n",
    "# \t\t\t\t   use_IF,\n",
    "# \t\t\t\t   target_test_idx,\n",
    "# \t\t\t\t   num_to_perterb = 1,\n",
    "# \t\t\t\t   target_labels = None)\n",
    "\n",
    "poisoned_image = data_poisoning(['dog', 'fish'], 900, 300, True, [15, 169], 10)"
   ]
  },
  {
   "cell_type": "code",
   "execution_count": null,
   "metadata": {},
   "outputs": [],
   "source": []
  }
 ],
 "metadata": {
  "kernelspec": {
   "display_name": "Python [conda env:influence_env]",
   "language": "python",
   "name": "conda-env-influence_env-py"
  },
  "language_info": {
   "codemirror_mode": {
    "name": "ipython",
    "version": 2
   },
   "file_extension": ".py",
   "mimetype": "text/x-python",
   "name": "python",
   "nbconvert_exporter": "python",
   "pygments_lexer": "ipython2",
   "version": "2.7.15"
  }
 },
 "nbformat": 4,
 "nbformat_minor": 2
}
