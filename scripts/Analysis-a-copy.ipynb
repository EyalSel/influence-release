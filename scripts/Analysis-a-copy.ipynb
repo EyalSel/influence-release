{
 "cells": [
  {
   "cell_type": "code",
   "execution_count": 1,
   "metadata": {},
   "outputs": [
    {
     "name": "stderr",
     "output_type": "stream",
     "text": [
      "/home/ubuntu/anaconda3/envs/influence_env/lib/python2.7/site-packages/matplotlib/__init__.py:1067: UserWarning: Duplicate key in file \"/home/ubuntu/.config/matplotlib/matplotlibrc\", line #2\n",
      "  (fname, cnt))\n",
      "/home/ubuntu/anaconda3/envs/influence_env/lib/python2.7/site-packages/matplotlib/__init__.py:1067: UserWarning: Duplicate key in file \"/home/ubuntu/.config/matplotlib/matplotlibrc\", line #3\n",
      "  (fname, cnt))\n",
      "/home/ubuntu/anaconda3/envs/influence_env/lib/python2.7/site-packages/h5py/__init__.py:34: FutureWarning: Conversion of the second argument of issubdtype from `float` to `np.floating` is deprecated. In future, it will be treated as `np.float64 == np.dtype(float).type`.\n",
      "  from ._conv import register_converters as _register_converters\n",
      "Using TensorFlow backend.\n"
     ]
    }
   ],
   "source": [
    "import numpy as np\n",
    "import matplotlib.pylab as plt\n",
    "import sklearn\n",
    "from skimage import io\n",
    "import tensorflow as tf\n",
    "%matplotlib inline\n",
    "\n",
    "from load_animals import *\n",
    "from influence.iter_attack import get_projection_to_box_around_orig_point\n",
    "from influence.inceptionModel import BinaryInceptionModel\n",
    "from data_poisoning import data_poisoning\n",
    "\n",
    "from utils import dataset_metadatas, experiment_result_metadata_to_FN, FN_to_experiment_result_metadata, get_dataset, render_img, get_full_model_graph, render_img\n",
    "\n",
    "%load_ext autoreload\n",
    "%autoreload 2"
   ]
  },
  {
   "cell_type": "code",
   "execution_count": 224,
   "metadata": {},
   "outputs": [],
   "source": [
    "def analyze_results(indices_and_poisons_FNs, visualize=False, tsne=False, logits=False, cache={}):\n",
    "    \"\"\"\n",
    "    cache would really save time in execution if provided\n",
    "    cache[\"full_model_and_graph\"] should give (full_model, full_graph)\n",
    "    cache[\"data_sets\"] should give (data_sets)\n",
    "    \"\"\"\n",
    "    # Get metadata from file name\n",
    "    FN_1, FN_2 = indices_and_poisons_FNs\n",
    "    first_is_indices = FN_to_experiment_result_metadata(FN_1)[\"contents_type\"] == \"indices\"\n",
    "    if first_is_indices:\n",
    "        indices_FN = FN_1\n",
    "        poisons_FN = FN_2\n",
    "    else:\n",
    "        indices_FN = FN_2\n",
    "        poisons_FN = FN_1\n",
    "    \n",
    "    # Get dataset metadata and load dataset\n",
    "    dataset_name = FN_to_experiment_result_metadata(indices_FN)[\"dataset_name\"]\n",
    "    dataset_metadata = dataset_metadatas[dataset_name]\n",
    "    \n",
    "    # Constants that don't change for Inception (May need to change for other feature extraction methods like Resnet)\n",
    "    img_side = 299\n",
    "    num_channels = 3\n",
    "    \n",
    "    # Variables used throughout the analysis\n",
    "    training_dataset_classes = dataset_metadata[\"classes\"]\n",
    "    num_train_ex_per_class = dataset_metadata[\"num_train_ex_per_class\"]\n",
    "    num_test_ex_per_class = dataset_metadata[\"num_test_ex_per_class\"]\n",
    "    num_classes = len(training_dataset_classes)\n",
    "    num_training_points = num_train_ex_per_class * num_classes\n",
    "    num_testing_points = num_test_ex_per_class * num_classes\n",
    "    poisoned_training_points = np.load(poisons_FN)\n",
    "    poisoned_training_points_indices = np.load(indices_FN)\n",
    "    target_test_points_indices = [FN_to_experiment_result_metadata(indices_FN)[\"test_idx\"]] # Currently the file name has one test index, need to extend to file names with multiple test indices\n",
    "    num_target_test_points = len(target_test_points_indices)\n",
    "    num_poisoned_training_points = len(poisoned_training_points_indices)\n",
    "    method = FN_to_experiment_result_metadata(indices_FN)[\"method\"]\n",
    "    \n",
    "    # load dataset if they're not in the cache\n",
    "    if cache[\"data_sets\"]:\n",
    "        data_sets = cache[\"data_sets\"]\n",
    "    else:\n",
    "        data_sets = get_dataset(dataset_metadata)\n",
    "\n",
    "    if visualize:\n",
    "        # render original training points and poisoned ones\n",
    "        screen_width = 12.5\n",
    "        plt.figure(figsize=(screen_width, screen_width/num_poisoned_training_points * 2))\n",
    "        for i, index_to_poison in enumerate(poisoned_training_points_indices):\n",
    "            plt.subplot(2,num_poisoned_training_points,i+1)\n",
    "            plt.title(\"Original Training Image [{}]\".format(index_to_poison))\n",
    "            render_img(data_sets.train.x[index_to_poison].reshape((img_side,img_side,num_channels)))\n",
    "\n",
    "        for i, (training_point, index_to_poison) in enumerate(zip(poisoned_training_points, poisoned_training_points_indices)):\n",
    "            plt.subplot(2,num_poisoned_training_points,num_poisoned_training_points+i+1)\n",
    "            plt.title(\"Poisoned Training Image [{}]\".format(index_to_poison))\n",
    "            render_img(training_point.reshape((img_side,img_side,num_channels)))\n",
    "\n",
    "        # render target test images\n",
    "        plt.figure(figsize=(screen_width,screen_width/num_target_test_points))\n",
    "        for target_index in target_test_points_indices:\n",
    "            plt.subplot(2,num_poisoned_training_points,i+1)\n",
    "            plt.title(\"Target test image [{}]\".format(target_index))\n",
    "            render_img(data_sets.test.x[target_index].reshape((img_side,img_side,num_channels)))\n",
    "        plt.show()\n",
    "    \n",
    "    if not tsne and not logits:\n",
    "        return\n",
    "    \n",
    "    print(\"Setting up full model...\")\n",
    "    # load full model if it's not in the cache argument\n",
    "    if cache[\"full_model_and_graph\"]:\n",
    "        full_graph, full_model = cache[\"full_model_and_graph\"]\n",
    "    else:\n",
    "        full_graph, full_model = get_full_model_graph(dataset_metadata, data_sets)\n",
    "    \n",
    "    if tsne:\n",
    "        all_dataset_x = np.concatenate([np.copy(data_sets.train.x), \n",
    "                                        poisoned_training_points, \n",
    "                                        poisoned_training_points_clipped if method == \"FC\" else [], \n",
    "                                        data_sets.test.x[target_test_points_indices]\n",
    "                                       ], axis = 0)\n",
    "        all_dataset_labels = np.concatenate([np.copy(data_sets.train.labels),  \n",
    "                                             np.copy(data_sets.train.labels[poisoned_training_points_indices]), \n",
    "                                             np.copy(data_sets.train.labels[poisoned_training_points_indices]) if method == \"FC\" else [],\n",
    "                                             data_sets.test.labels[target_test_points_indices]], axis = 0)\n",
    "        all_dataset = DataSet(all_dataset_x, all_dataset_labels)\n",
    "        print \"Extracting latent space features...\"\n",
    "        with full_graph.as_default():\n",
    "            all_inceptions = full_model.generate_inception_features(all_dataset, None)\n",
    "    \n",
    "        # Calculate tSNE\n",
    "        from sklearn.manifold import TSNE\n",
    "        print \"Calculating tSNE...\"\n",
    "        tsne = TSNE(n_components=2, verbose=1, perplexity=40, n_iter=300, random_state=69)\n",
    "        tsne_results = tsne.fit_transform(all_inceptions)\n",
    "\n",
    "        plt.figure(figsize=(12,12))\n",
    "        # plot entire training dataset\n",
    "        for class_label in range(num_classes):\n",
    "            class_mask = data_sets.train.labels == class_label\n",
    "            plt.scatter(tsne_results.T[0][:num_training_points][class_mask], \n",
    "                        tsne_results.T[1][:num_training_points][class_mask], \n",
    "                        label=training_dataset_classes[class_label]) \n",
    "\n",
    "        # plot training points before poison\n",
    "        plt.scatter(tsne_results.T[0][poisoned_training_points_indices], \n",
    "                    tsne_results.T[1][poisoned_training_points_indices], \n",
    "                    label=\"Original Training Points\", marker='*', s=200)\n",
    "        for index, coordinate in zip(poisoned_training_points_indices, tsne_results[poisoned_training_points_indices]):\n",
    "            plt.annotate(s=str(index), xy = coordinate)\n",
    "        # plot training points after poison no clipping\n",
    "        plt.scatter(tsne_results.T[0][num_training_points:num_training_points+num_poisoned_training_points], \n",
    "                    tsne_results.T[1][num_training_points:num_training_points+num_poisoned_training_points], \n",
    "                    label=\"Non-rescaled poisoned training point\", marker='*', s=200)\n",
    "        for index, coordinate in zip(poisoned_training_points_indices, tsne_results[num_training_points:num_training_points+num_poisoned_training_points]):\n",
    "            plt.annotate(s=str(index), xy = coordinate)\n",
    "        # plot training points after poison with clipping (if applicable)\n",
    "        if method == \"FC\":\n",
    "            plt.scatter(tsne_results.T[0][-num_target_test_points-num_poisoned_training_points:-num_target_test_points], \n",
    "                        tsne_results.T[1][-num_target_test_points-num_poisoned_training_points:-num_target_test_points], \n",
    "                        label=\"Rescaled poisoned training point\", marker='*', s=200)\n",
    "            for index, coordinate in zip(poisoned_training_points_indices, tsne_results[-num_target_test_points-num_poisoned_training_points:-num_target_test_points]):\n",
    "                plt.annotate(s=str(index), xy = coordinate)\n",
    "        # plot target test points\n",
    "        plt.scatter( tsne_results.T[0][-num_target_test_points:], tsne_results.T[1][-num_target_test_points:], label=\"Target test points\", marker='*', s=200)\n",
    "        for index, coordinate in zip(target_test_points_indices, tsne_results[-num_target_test_points:]):\n",
    "            plt.annotate(s=str(index), xy = coordinate)\n",
    "\n",
    "        plt.legend()\n",
    "        plt.show()\n",
    "    \n",
    "    if logits:\n",
    "        print \"Training on clean dataset...\"\n",
    "        with full_graph.as_default():\n",
    "            clean_w = full_model.retrain_and_get_weights(data_sets.train.x, data_sets.train.labels)\n",
    "\n",
    "        clean_total_test_logits = full_model.get_preds(data_sets.test, np.arange(len(data_sets.test.x)))\n",
    "        clean_total_test_acc = np.sum(np.argmax(clean_total_test_logits, axis=1) == data_sets.test.labels) / float(num_testing_points)\n",
    "        clean_test_logits = full_model.get_preds(data_sets.test, target_test_points_indices) # target_test_img_indices should be a list\n",
    "\n",
    "        poisoned_data_set_x = np.copy(data_sets.train.x)\n",
    "        poisoned_data_set_x[poisoned_training_points_indices] = poisoned_training_points\n",
    "        poisoned_data_set_labels = np.copy(data_sets.train.labels)\n",
    "\n",
    "        print \"Training on poisoned dataset...\"\n",
    "        with full_graph.as_default():\n",
    "            poisoned_w = full_model.retrain_and_get_weights(poisoned_data_set_x, poisoned_data_set_labels)\n",
    "\n",
    "        poisoned_total_test_logits = full_model.get_preds(data_sets.test, np.arange(len(data_sets.test.x)))\n",
    "        poisoned_total_test_acc = np.sum(np.argmax(poisoned_total_test_logits, axis=1) == data_sets.test.labels) / float(num_testing_points)\n",
    "        poisoned_test_logits = full_model.get_preds(data_sets.test, target_test_points_indices) # target_test_img_indices should be a list\n",
    "\n",
    "        angle = np.inner(clean_w, poisoned_w)/np.square(np.linalg.norm(clean_w))/np.square(np.linalg.norm(clean_w))\n",
    "        \n",
    "        return (clean_total_test_acc, poisoned_total_test_acc), (clean_test_logits, poisoned_test_logits), angle, (clean_w, poisoned_w)"
   ]
  },
  {
   "cell_type": "code",
   "execution_count": 225,
   "metadata": {},
   "outputs": [
    {
     "data": {
      "text/plain": [
       "['Experiment_1_poisons_IF_Eagle-Mushroom_num_train_4__28.npy',\n",
       " 'Experiment_1_indices_IF_Eagle-Mushroom_num_train_4__28.npy',\n",
       " 'Experiment_1_poisons_IF_Eagle-Mushroom_num_train_4__5.npy',\n",
       " 'Experiment_1_indices_IF_Eagle-Mushroom_num_train_4__5.npy',\n",
       " 'Experiment_1_indices_IF_Eagle-Mushroom_num_train_4__33.npy',\n",
       " 'Experiment_1_poisons_IF_Eagle-Mushroom_num_train_4__33.npy',\n",
       " 'Experiment_1_indices_IF_Eagle-Mushroom_num_train_4__80.npy',\n",
       " 'Experiment_1_poisons_IF_Eagle-Mushroom_num_train_4__80.npy',\n",
       " 'Experiment_1_indices_IF_Eagle-Mushroom_num_train_4__12.npy',\n",
       " 'Experiment_1_poisons_IF_Eagle-Mushroom_num_train_4__12.npy']"
      ]
     },
     "execution_count": 225,
     "metadata": {},
     "output_type": "execute_result"
    }
   ],
   "source": [
    "file_names = !ls -t Experiment_results/Experiment_1_redo/\n",
    "file_names"
   ]
  },
  {
   "cell_type": "code",
   "execution_count": 226,
   "metadata": {},
   "outputs": [
    {
     "data": {
      "text/plain": [
       "[('Experiment_results/Experiment_1_redo/Experiment_1_poisons_IF_Eagle-Mushroom_num_train_4__28.npy',\n",
       "  'Experiment_results/Experiment_1_redo/Experiment_1_indices_IF_Eagle-Mushroom_num_train_4__28.npy'),\n",
       " ('Experiment_results/Experiment_1_redo/Experiment_1_poisons_IF_Eagle-Mushroom_num_train_4__5.npy',\n",
       "  'Experiment_results/Experiment_1_redo/Experiment_1_indices_IF_Eagle-Mushroom_num_train_4__5.npy'),\n",
       " ('Experiment_results/Experiment_1_redo/Experiment_1_indices_IF_Eagle-Mushroom_num_train_4__33.npy',\n",
       "  'Experiment_results/Experiment_1_redo/Experiment_1_poisons_IF_Eagle-Mushroom_num_train_4__33.npy'),\n",
       " ('Experiment_results/Experiment_1_redo/Experiment_1_indices_IF_Eagle-Mushroom_num_train_4__80.npy',\n",
       "  'Experiment_results/Experiment_1_redo/Experiment_1_poisons_IF_Eagle-Mushroom_num_train_4__80.npy'),\n",
       " ('Experiment_results/Experiment_1_redo/Experiment_1_indices_IF_Eagle-Mushroom_num_train_4__12.npy',\n",
       "  'Experiment_results/Experiment_1_redo/Experiment_1_poisons_IF_Eagle-Mushroom_num_train_4__12.npy')]"
      ]
     },
     "execution_count": 226,
     "metadata": {},
     "output_type": "execute_result"
    }
   ],
   "source": [
    "source_dir = \"Experiment_results/Experiment_1_redo/\"\n",
    "indices_poisons_pairs = []\n",
    "for i in range(0,len(file_names),2):\n",
    "    indices_poisons_pairs.append((source_dir+file_names[i], source_dir+file_names[i+1]))\n",
    "indices_poisons_pairs = indices_poisons_pairs\n",
    "indices_poisons_pairs"
   ]
  },
  {
   "cell_type": "code",
   "execution_count": 232,
   "metadata": {},
   "outputs": [
    {
     "name": "stdout",
     "output_type": "stream",
     "text": [
      "Loading animals from disk...\n",
      "../data/dataset_Eagle-Mushroom_train-500_test-50.npz\n",
      "self.logits Tensor(\"Shape:0\", shape=(2,), dtype=int32)\n"
     ]
    },
    {
     "name": "stderr",
     "output_type": "stream",
     "text": [
      "[genericNeuralNet.py:191 -   get_vec_to_list_fn() ] Total number of parameters: 2048\n"
     ]
    },
    {
     "name": "stdout",
     "output_type": "stream",
     "text": [
      "wrong_labels_bool Tensor(\"Shape_2:0\", shape=(2,), dtype=int32)\n",
      "logits Tensor(\"Shape_3:0\", shape=(2,), dtype=int32)\n",
      "inception_features:  Tensor(\"flatten/Reshape:0\", shape=(?, ?), dtype=float32)\n",
      "x_poison_features:  Tensor(\"StridedSlice:0\", dtype=float32)\n",
      "t_target_features:  Tensor(\"Gather:0\", shape=(1, ?), dtype=float32)\n",
      "Lp:  Tensor(\"Mean_1:0\", dtype=float32)\n",
      "LP_gradient Tensor(\"strided_slice_1:0\", shape=(?, 268203), dtype=float32)\n"
     ]
    }
   ],
   "source": [
    "cache = {}\n",
    "dataset_metadata = dataset_metadatas[\"Eagle-Mushroom\"]\n",
    "data_sets = get_dataset(dataset_metadata)\n",
    "cache[\"data_sets\"] = data_sets\n",
    "cache[\"full_model_and_graph\"] = get_full_model_graph(dataset_metadata, data_sets)"
   ]
  },
  {
   "cell_type": "code",
   "execution_count": 228,
   "metadata": {},
   "outputs": [
    {
     "name": "stdout",
     "output_type": "stream",
     "text": [
      "Setting up full model...\n",
      "Training on clean dataset...\n"
     ]
    },
    {
     "name": "stderr",
     "output_type": "stream",
     "text": [
      "[genericNeuralNet.py:328 -     print_model_eval() ] Train loss (w reg) on all data: [0.00169404]\n",
      "[genericNeuralNet.py:329 -     print_model_eval() ] Train loss (w/o reg) on all data: [0.00039346]\n",
      "[genericNeuralNet.py:331 -     print_model_eval() ] Test loss (w/o reg) on all data: [0.00038176789530552924]\n",
      "[genericNeuralNet.py:332 -     print_model_eval() ] Train acc on all data:  [1.]\n",
      "[genericNeuralNet.py:333 -     print_model_eval() ] Test acc on all data:   [1.0]\n",
      "[genericNeuralNet.py:335 -     print_model_eval() ] Norm of the mean of gradients: 8.5613806e-08\n",
      "[genericNeuralNet.py:336 -     print_model_eval() ] Norm of the params: 1.6128079\n"
     ]
    },
    {
     "name": "stdout",
     "output_type": "stream",
     "text": [
      "Training on poisoned dataset...\n"
     ]
    },
    {
     "name": "stderr",
     "output_type": "stream",
     "text": [
      "[genericNeuralNet.py:328 -     print_model_eval() ] Train loss (w reg) on all data: [0.00263529]\n",
      "[genericNeuralNet.py:329 -     print_model_eval() ] Train loss (w/o reg) on all data: [0.0005538]\n",
      "[genericNeuralNet.py:331 -     print_model_eval() ] Test loss (w/o reg) on all data: [0.061007872223854065]\n",
      "[genericNeuralNet.py:332 -     print_model_eval() ] Train acc on all data:  [1.]\n",
      "[genericNeuralNet.py:333 -     print_model_eval() ] Test acc on all data:   [0.99]\n",
      "[genericNeuralNet.py:335 -     print_model_eval() ] Norm of the mean of gradients: 0.0020253116\n",
      "[genericNeuralNet.py:336 -     print_model_eval() ] Norm of the params: 2.0403383\n"
     ]
    },
    {
     "name": "stdout",
     "output_type": "stream",
     "text": [
      "Setting up full model...\n",
      "Training on clean dataset...\n"
     ]
    },
    {
     "name": "stderr",
     "output_type": "stream",
     "text": [
      "[genericNeuralNet.py:328 -     print_model_eval() ] Train loss (w reg) on all data: [0.00169404]\n",
      "[genericNeuralNet.py:329 -     print_model_eval() ] Train loss (w/o reg) on all data: [0.00039345]\n",
      "[genericNeuralNet.py:331 -     print_model_eval() ] Test loss (w/o reg) on all data: [0.0003817619872279465]\n",
      "[genericNeuralNet.py:332 -     print_model_eval() ] Train acc on all data:  [1.]\n",
      "[genericNeuralNet.py:333 -     print_model_eval() ] Test acc on all data:   [1.0]\n",
      "[genericNeuralNet.py:335 -     print_model_eval() ] Norm of the mean of gradients: 6.756664e-08\n",
      "[genericNeuralNet.py:336 -     print_model_eval() ] Norm of the params: 1.6128123\n"
     ]
    },
    {
     "name": "stdout",
     "output_type": "stream",
     "text": [
      "Training on poisoned dataset...\n"
     ]
    },
    {
     "name": "stderr",
     "output_type": "stream",
     "text": [
      "[genericNeuralNet.py:328 -     print_model_eval() ] Train loss (w reg) on all data: [0.00263933]\n",
      "[genericNeuralNet.py:329 -     print_model_eval() ] Train loss (w/o reg) on all data: [0.00053329]\n",
      "[genericNeuralNet.py:331 -     print_model_eval() ] Test loss (w/o reg) on all data: [0.0008212384418584406]\n",
      "[genericNeuralNet.py:332 -     print_model_eval() ] Train acc on all data:  [1.]\n",
      "[genericNeuralNet.py:333 -     print_model_eval() ] Test acc on all data:   [1.0]\n",
      "[genericNeuralNet.py:335 -     print_model_eval() ] Norm of the mean of gradients: 0.0018701237\n",
      "[genericNeuralNet.py:336 -     print_model_eval() ] Norm of the params: 2.0523336\n"
     ]
    },
    {
     "name": "stdout",
     "output_type": "stream",
     "text": [
      "Setting up full model...\n",
      "Training on clean dataset...\n"
     ]
    },
    {
     "name": "stderr",
     "output_type": "stream",
     "text": [
      "[genericNeuralNet.py:328 -     print_model_eval() ] Train loss (w reg) on all data: [0.00169404]\n",
      "[genericNeuralNet.py:329 -     print_model_eval() ] Train loss (w/o reg) on all data: [0.00039346]\n",
      "[genericNeuralNet.py:331 -     print_model_eval() ] Test loss (w/o reg) on all data: [0.00038176440284587443]\n",
      "[genericNeuralNet.py:332 -     print_model_eval() ] Train acc on all data:  [1.]\n",
      "[genericNeuralNet.py:333 -     print_model_eval() ] Test acc on all data:   [1.0]\n",
      "[genericNeuralNet.py:335 -     print_model_eval() ] Norm of the mean of gradients: 9.2966864e-08\n",
      "[genericNeuralNet.py:336 -     print_model_eval() ] Norm of the params: 1.6128086\n"
     ]
    },
    {
     "name": "stdout",
     "output_type": "stream",
     "text": [
      "Training on poisoned dataset...\n"
     ]
    },
    {
     "name": "stderr",
     "output_type": "stream",
     "text": [
      "[genericNeuralNet.py:328 -     print_model_eval() ] Train loss (w reg) on all data: [0.00282753]\n",
      "[genericNeuralNet.py:329 -     print_model_eval() ] Train loss (w/o reg) on all data: [0.00057536]\n",
      "[genericNeuralNet.py:331 -     print_model_eval() ] Test loss (w/o reg) on all data: [0.0005920015391893685]\n",
      "[genericNeuralNet.py:332 -     print_model_eval() ] Train acc on all data:  [1.]\n",
      "[genericNeuralNet.py:333 -     print_model_eval() ] Test acc on all data:   [1.0]\n",
      "[genericNeuralNet.py:335 -     print_model_eval() ] Norm of the mean of gradients: 0.0020047028\n",
      "[genericNeuralNet.py:336 -     print_model_eval() ] Norm of the params: 2.1223395\n"
     ]
    },
    {
     "name": "stdout",
     "output_type": "stream",
     "text": [
      "Setting up full model...\n",
      "Training on clean dataset...\n"
     ]
    },
    {
     "name": "stderr",
     "output_type": "stream",
     "text": [
      "[genericNeuralNet.py:328 -     print_model_eval() ] Train loss (w reg) on all data: [0.00169404]\n",
      "[genericNeuralNet.py:329 -     print_model_eval() ] Train loss (w/o reg) on all data: [0.00039347]\n",
      "[genericNeuralNet.py:331 -     print_model_eval() ] Test loss (w/o reg) on all data: [0.0003817809629254043]\n",
      "[genericNeuralNet.py:332 -     print_model_eval() ] Train acc on all data:  [1.]\n",
      "[genericNeuralNet.py:333 -     print_model_eval() ] Test acc on all data:   [1.0]\n",
      "[genericNeuralNet.py:335 -     print_model_eval() ] Norm of the mean of gradients: 8.658355e-08\n",
      "[genericNeuralNet.py:336 -     print_model_eval() ] Norm of the params: 1.6128048\n"
     ]
    },
    {
     "name": "stdout",
     "output_type": "stream",
     "text": [
      "Training on poisoned dataset...\n"
     ]
    },
    {
     "name": "stderr",
     "output_type": "stream",
     "text": [
      "[genericNeuralNet.py:328 -     print_model_eval() ] Train loss (w reg) on all data: [0.00244733]\n",
      "[genericNeuralNet.py:329 -     print_model_eval() ] Train loss (w/o reg) on all data: [0.00053525]\n",
      "[genericNeuralNet.py:331 -     print_model_eval() ] Test loss (w/o reg) on all data: [0.0007363185868598521]\n",
      "[genericNeuralNet.py:332 -     print_model_eval() ] Train acc on all data:  [1.]\n",
      "[genericNeuralNet.py:333 -     print_model_eval() ] Test acc on all data:   [1.0]\n",
      "[genericNeuralNet.py:335 -     print_model_eval() ] Norm of the mean of gradients: 0.0036970547\n",
      "[genericNeuralNet.py:336 -     print_model_eval() ] Norm of the params: 1.9555482\n"
     ]
    },
    {
     "name": "stdout",
     "output_type": "stream",
     "text": [
      "Setting up full model...\n",
      "Training on clean dataset...\n"
     ]
    },
    {
     "name": "stderr",
     "output_type": "stream",
     "text": [
      "[genericNeuralNet.py:328 -     print_model_eval() ] Train loss (w reg) on all data: [0.00169404]\n",
      "[genericNeuralNet.py:329 -     print_model_eval() ] Train loss (w/o reg) on all data: [0.00039344]\n",
      "[genericNeuralNet.py:331 -     print_model_eval() ] Test loss (w/o reg) on all data: [0.00038174650399014354]\n",
      "[genericNeuralNet.py:332 -     print_model_eval() ] Train acc on all data:  [1.]\n",
      "[genericNeuralNet.py:333 -     print_model_eval() ] Test acc on all data:   [1.0]\n",
      "[genericNeuralNet.py:335 -     print_model_eval() ] Norm of the mean of gradients: 2.0353107e-07\n",
      "[genericNeuralNet.py:336 -     print_model_eval() ] Norm of the params: 1.6128203\n"
     ]
    },
    {
     "name": "stdout",
     "output_type": "stream",
     "text": [
      "Training on poisoned dataset...\n"
     ]
    },
    {
     "name": "stderr",
     "output_type": "stream",
     "text": [
      "[genericNeuralNet.py:328 -     print_model_eval() ] Train loss (w reg) on all data: [0.00316836]\n",
      "[genericNeuralNet.py:329 -     print_model_eval() ] Train loss (w/o reg) on all data: [0.00065133]\n",
      "[genericNeuralNet.py:331 -     print_model_eval() ] Test loss (w/o reg) on all data: [0.002380195539444685]\n",
      "[genericNeuralNet.py:332 -     print_model_eval() ] Train acc on all data:  [1.]\n",
      "[genericNeuralNet.py:333 -     print_model_eval() ] Test acc on all data:   [1.0]\n",
      "[genericNeuralNet.py:335 -     print_model_eval() ] Norm of the mean of gradients: 0.0024244278\n",
      "[genericNeuralNet.py:336 -     print_model_eval() ] Norm of the params: 2.24367\n"
     ]
    }
   ],
   "source": [
    "results = {}\n",
    "for pair in indices_poisons_pairs:\n",
    "    result = analyze_results(pair, logits=True, cache = cache)\n",
    "    results[pair] = result"
   ]
  },
  {
   "cell_type": "code",
   "execution_count": 230,
   "metadata": {},
   "outputs": [
    {
     "data": {
      "text/plain": [
       "[('Experiment_results/Experiment_1_redo/Experiment_1_indices_IF_Eagle-Mushroom_num_train_4__12.npy',\n",
       "  'Experiment_results/Experiment_1_redo/Experiment_1_poisons_IF_Eagle-Mushroom_num_train_4__12.npy'),\n",
       " ('Experiment_results/Experiment_1_redo/Experiment_1_poisons_IF_Eagle-Mushroom_num_train_4__28.npy',\n",
       "  'Experiment_results/Experiment_1_redo/Experiment_1_indices_IF_Eagle-Mushroom_num_train_4__28.npy'),\n",
       " ('Experiment_results/Experiment_1_redo/Experiment_1_indices_IF_Eagle-Mushroom_num_train_4__33.npy',\n",
       "  'Experiment_results/Experiment_1_redo/Experiment_1_poisons_IF_Eagle-Mushroom_num_train_4__33.npy'),\n",
       " ('Experiment_results/Experiment_1_redo/Experiment_1_indices_IF_Eagle-Mushroom_num_train_4__80.npy',\n",
       "  'Experiment_results/Experiment_1_redo/Experiment_1_poisons_IF_Eagle-Mushroom_num_train_4__80.npy'),\n",
       " ('Experiment_results/Experiment_1_redo/Experiment_1_poisons_IF_Eagle-Mushroom_num_train_4__5.npy',\n",
       "  'Experiment_results/Experiment_1_redo/Experiment_1_indices_IF_Eagle-Mushroom_num_train_4__5.npy')]"
      ]
     },
     "execution_count": 230,
     "metadata": {},
     "output_type": "execute_result"
    }
   ],
   "source": [
    "results.keys()"
   ]
  },
  {
   "cell_type": "code",
   "execution_count": 231,
   "metadata": {},
   "outputs": [],
   "source": [
    "for k,v in results.iteritems():\n",
    "    FN_1, FN_2 = k\n",
    "    (acc_c, acc_p), (logits_c, logits_p), angle, (w_c, w_p) = v\n",
    "    starter = FN_1.split('.')[0]\n",
    "    np.save(starter+'____'+\"acc_angle_result\", [acc_c, acc_p, angle])\n",
    "    np.save(starter+'____'+\"logitsClean_result\", logits_c)\n",
    "    np.save(starter+'____'+\"logitsPoisoned_result\", logits_p)\n",
    "    np.save(starter+'____'+\"wClean_result\", w_c)\n",
    "    np.save(starter+'____'+\"wPoisoned_result\", w_p)"
   ]
  },
  {
   "cell_type": "code",
   "execution_count": 195,
   "metadata": {},
   "outputs": [
    {
     "data": {
      "text/plain": [
       "['Experiment_1_indices_IF_Dog-Fish_num_train_4__351____acc_angle_result.npy',\n",
       " 'Experiment_1_indices_IF_Dog-Fish_num_train_4__351____logitsClean_result.npy',\n",
       " 'Experiment_1_indices_IF_Dog-Fish_num_train_4__351____logitsPoisoned_result.npy',\n",
       " 'Experiment_1_indices_IF_Dog-Fish_num_train_4__351____wClean_result.npy',\n",
       " 'Experiment_1_indices_IF_Dog-Fish_num_train_4__351____wPoisoned_result.npy',\n",
       " 'Experiment_1_indices_IF_Dog-Fish_num_train_4__416____acc_angle_result.npy',\n",
       " 'Experiment_1_indices_IF_Dog-Fish_num_train_4__416____logitsClean_result.npy',\n",
       " 'Experiment_1_indices_IF_Dog-Fish_num_train_4__416____logitsPoisoned_result.npy',\n",
       " 'Experiment_1_indices_IF_Dog-Fish_num_train_4__416____wClean_result.npy',\n",
       " 'Experiment_1_indices_IF_Dog-Fish_num_train_4__416____wPoisoned_result.npy',\n",
       " 'Experiment_1_indices_IF_Dog-Fish_num_train_8__101____acc_angle_result.npy',\n",
       " 'Experiment_1_indices_IF_Dog-Fish_num_train_8__101____logitsClean_result.npy',\n",
       " 'Experiment_1_indices_IF_Dog-Fish_num_train_8__101____logitsPoisoned_result.npy',\n",
       " 'Experiment_1_indices_IF_Dog-Fish_num_train_8__101____wClean_result.npy',\n",
       " 'Experiment_1_indices_IF_Dog-Fish_num_train_8__101____wPoisoned_result.npy',\n",
       " 'Experiment_1_indices_IF_Dog-Fish_num_train_8__108____acc_angle_result.npy',\n",
       " 'Experiment_1_indices_IF_Dog-Fish_num_train_8__108____logitsClean_result.npy',\n",
       " 'Experiment_1_indices_IF_Dog-Fish_num_train_8__108____logitsPoisoned_result.npy',\n",
       " 'Experiment_1_indices_IF_Dog-Fish_num_train_8__108____wClean_result.npy',\n",
       " 'Experiment_1_indices_IF_Dog-Fish_num_train_8__108____wPoisoned_result.npy',\n",
       " 'Experiment_1_indices_IF_Dog-Fish_num_train_8__140____acc_angle_result.npy',\n",
       " 'Experiment_1_indices_IF_Dog-Fish_num_train_8__140____logitsClean_result.npy',\n",
       " 'Experiment_1_indices_IF_Dog-Fish_num_train_8__140____logitsPoisoned_result.npy',\n",
       " 'Experiment_1_indices_IF_Dog-Fish_num_train_8__140____wClean_result.npy',\n",
       " 'Experiment_1_indices_IF_Dog-Fish_num_train_8__140____wPoisoned_result.npy',\n",
       " 'Experiment_1_indices_IF_Dog-Fish_num_train_8__266____acc_angle_result.npy',\n",
       " 'Experiment_1_indices_IF_Dog-Fish_num_train_8__266____logitsClean_result.npy',\n",
       " 'Experiment_1_indices_IF_Dog-Fish_num_train_8__266____logitsPoisoned_result.npy',\n",
       " 'Experiment_1_indices_IF_Dog-Fish_num_train_8__266____wClean_result.npy',\n",
       " 'Experiment_1_indices_IF_Dog-Fish_num_train_8__266____wPoisoned_result.npy',\n",
       " 'Experiment_1_indices_IF_Dog-Fish_num_train_8__365____acc_angle_result.npy',\n",
       " 'Experiment_1_indices_IF_Dog-Fish_num_train_8__365____logitsClean_result.npy',\n",
       " 'Experiment_1_indices_IF_Dog-Fish_num_train_8__365____logitsPoisoned_result.npy',\n",
       " 'Experiment_1_indices_IF_Dog-Fish_num_train_8__365____wClean_result.npy',\n",
       " 'Experiment_1_indices_IF_Dog-Fish_num_train_8__365____wPoisoned_result.npy',\n",
       " 'Experiment_1_indices_IF_Dog-Fish_num_train_8__93____acc_angle_result.npy',\n",
       " 'Experiment_1_indices_IF_Dog-Fish_num_train_8__93____logitsClean_result.npy',\n",
       " 'Experiment_1_indices_IF_Dog-Fish_num_train_8__93____logitsPoisoned_result.npy',\n",
       " 'Experiment_1_indices_IF_Dog-Fish_num_train_8__93____wClean_result.npy',\n",
       " 'Experiment_1_indices_IF_Dog-Fish_num_train_8__93____wPoisoned_result.npy',\n",
       " 'Experiment_1_indices_IF_Dog-Fish_num_train_8__95____acc_angle_result.npy',\n",
       " 'Experiment_1_indices_IF_Dog-Fish_num_train_8__95____logitsClean_result.npy',\n",
       " 'Experiment_1_indices_IF_Dog-Fish_num_train_8__95____logitsPoisoned_result.npy',\n",
       " 'Experiment_1_indices_IF_Dog-Fish_num_train_8__95____wClean_result.npy',\n",
       " 'Experiment_1_indices_IF_Dog-Fish_num_train_8__95____wPoisoned_result.npy',\n",
       " 'Experiment_1_poisons_IF_Dog-Fish_num_train_1__1____acc_angle_result.npy',\n",
       " 'Experiment_1_poisons_IF_Dog-Fish_num_train_1__1____logitsClean_result.npy',\n",
       " 'Experiment_1_poisons_IF_Dog-Fish_num_train_1__1____logitsPoisoned_result.npy',\n",
       " 'Experiment_1_poisons_IF_Dog-Fish_num_train_1__1____wClean_result.npy',\n",
       " 'Experiment_1_poisons_IF_Dog-Fish_num_train_1__1____wPoisoned_result.npy',\n",
       " 'Experiment_1_poisons_IF_Dog-Fish_num_train_1__202____acc_angle_result.npy',\n",
       " 'Experiment_1_poisons_IF_Dog-Fish_num_train_1__202____logitsClean_result.npy',\n",
       " 'Experiment_1_poisons_IF_Dog-Fish_num_train_1__202____logitsPoisoned_result.npy',\n",
       " 'Experiment_1_poisons_IF_Dog-Fish_num_train_1__202____wClean_result.npy',\n",
       " 'Experiment_1_poisons_IF_Dog-Fish_num_train_1__202____wPoisoned_result.npy',\n",
       " 'Experiment_1_poisons_IF_Dog-Fish_num_train_1__278____acc_angle_result.npy',\n",
       " 'Experiment_1_poisons_IF_Dog-Fish_num_train_1__278____logitsClean_result.npy',\n",
       " 'Experiment_1_poisons_IF_Dog-Fish_num_train_1__278____logitsPoisoned_result.npy',\n",
       " 'Experiment_1_poisons_IF_Dog-Fish_num_train_1__278____wClean_result.npy',\n",
       " 'Experiment_1_poisons_IF_Dog-Fish_num_train_1__278____wPoisoned_result.npy',\n",
       " 'Experiment_1_poisons_IF_Dog-Fish_num_train_1__351____acc_angle_result.npy',\n",
       " 'Experiment_1_poisons_IF_Dog-Fish_num_train_1__351____logitsClean_result.npy',\n",
       " 'Experiment_1_poisons_IF_Dog-Fish_num_train_1__351____logitsPoisoned_result.npy',\n",
       " 'Experiment_1_poisons_IF_Dog-Fish_num_train_1__351____wClean_result.npy',\n",
       " 'Experiment_1_poisons_IF_Dog-Fish_num_train_1__351____wPoisoned_result.npy',\n",
       " 'Experiment_1_poisons_IF_Dog-Fish_num_train_1__378____acc_angle_result.npy',\n",
       " 'Experiment_1_poisons_IF_Dog-Fish_num_train_1__378____logitsClean_result.npy',\n",
       " 'Experiment_1_poisons_IF_Dog-Fish_num_train_1__378____logitsPoisoned_result.npy',\n",
       " 'Experiment_1_poisons_IF_Dog-Fish_num_train_1__378____wClean_result.npy',\n",
       " 'Experiment_1_poisons_IF_Dog-Fish_num_train_1__378____wPoisoned_result.npy',\n",
       " 'Experiment_1_poisons_IF_Dog-Fish_num_train_1__416____acc_angle_result.npy',\n",
       " 'Experiment_1_poisons_IF_Dog-Fish_num_train_1__416____logitsClean_result.npy',\n",
       " 'Experiment_1_poisons_IF_Dog-Fish_num_train_1__416____logitsPoisoned_result.npy',\n",
       " 'Experiment_1_poisons_IF_Dog-Fish_num_train_1__416____wClean_result.npy',\n",
       " 'Experiment_1_poisons_IF_Dog-Fish_num_train_1__416____wPoisoned_result.npy',\n",
       " 'Experiment_1_poisons_IF_Dog-Fish_num_train_1__570____acc_angle_result.npy',\n",
       " 'Experiment_1_poisons_IF_Dog-Fish_num_train_1__570____logitsClean_result.npy',\n",
       " 'Experiment_1_poisons_IF_Dog-Fish_num_train_1__570____logitsPoisoned_result.npy',\n",
       " 'Experiment_1_poisons_IF_Dog-Fish_num_train_1__570____wClean_result.npy',\n",
       " 'Experiment_1_poisons_IF_Dog-Fish_num_train_1__570____wPoisoned_result.npy',\n",
       " 'Experiment_1_poisons_IF_Dog-Fish_num_train_16__1____acc_angle_result.npy',\n",
       " 'Experiment_1_poisons_IF_Dog-Fish_num_train_16__1____logitsClean_result.npy',\n",
       " 'Experiment_1_poisons_IF_Dog-Fish_num_train_16__1____logitsPoisoned_result.npy',\n",
       " 'Experiment_1_poisons_IF_Dog-Fish_num_train_16__1____wClean_result.npy',\n",
       " 'Experiment_1_poisons_IF_Dog-Fish_num_train_16__1____wPoisoned_result.npy',\n",
       " 'Experiment_1_poisons_IF_Dog-Fish_num_train_16__202____acc_angle_result.npy',\n",
       " 'Experiment_1_poisons_IF_Dog-Fish_num_train_16__202____logitsClean_result.npy',\n",
       " 'Experiment_1_poisons_IF_Dog-Fish_num_train_16__202____logitsPoisoned_result.npy',\n",
       " 'Experiment_1_poisons_IF_Dog-Fish_num_train_16__202____wClean_result.npy',\n",
       " 'Experiment_1_poisons_IF_Dog-Fish_num_train_16__202____wPoisoned_result.npy',\n",
       " 'Experiment_1_poisons_IF_Dog-Fish_num_train_16__278____acc_angle_result.npy',\n",
       " 'Experiment_1_poisons_IF_Dog-Fish_num_train_16__278____logitsClean_result.npy',\n",
       " 'Experiment_1_poisons_IF_Dog-Fish_num_train_16__278____logitsPoisoned_result.npy',\n",
       " 'Experiment_1_poisons_IF_Dog-Fish_num_train_16__278____wClean_result.npy',\n",
       " 'Experiment_1_poisons_IF_Dog-Fish_num_train_16__278____wPoisoned_result.npy',\n",
       " 'Experiment_1_poisons_IF_Dog-Fish_num_train_16__351____acc_angle_result.npy',\n",
       " 'Experiment_1_poisons_IF_Dog-Fish_num_train_16__351____logitsClean_result.npy',\n",
       " 'Experiment_1_poisons_IF_Dog-Fish_num_train_16__351____logitsPoisoned_result.npy',\n",
       " 'Experiment_1_poisons_IF_Dog-Fish_num_train_16__351____wClean_result.npy',\n",
       " 'Experiment_1_poisons_IF_Dog-Fish_num_train_16__351____wPoisoned_result.npy',\n",
       " 'Experiment_1_poisons_IF_Dog-Fish_num_train_16__378____acc_angle_result.npy',\n",
       " 'Experiment_1_poisons_IF_Dog-Fish_num_train_16__378____logitsClean_result.npy',\n",
       " 'Experiment_1_poisons_IF_Dog-Fish_num_train_16__378____logitsPoisoned_result.npy',\n",
       " 'Experiment_1_poisons_IF_Dog-Fish_num_train_16__378____wClean_result.npy',\n",
       " 'Experiment_1_poisons_IF_Dog-Fish_num_train_16__378____wPoisoned_result.npy',\n",
       " 'Experiment_1_poisons_IF_Dog-Fish_num_train_16__416____acc_angle_result.npy',\n",
       " 'Experiment_1_poisons_IF_Dog-Fish_num_train_16__416____logitsClean_result.npy',\n",
       " 'Experiment_1_poisons_IF_Dog-Fish_num_train_16__416____logitsPoisoned_result.npy',\n",
       " 'Experiment_1_poisons_IF_Dog-Fish_num_train_16__416____wClean_result.npy',\n",
       " 'Experiment_1_poisons_IF_Dog-Fish_num_train_16__416____wPoisoned_result.npy',\n",
       " 'Experiment_1_poisons_IF_Dog-Fish_num_train_16__570____acc_angle_result.npy',\n",
       " 'Experiment_1_poisons_IF_Dog-Fish_num_train_16__570____logitsClean_result.npy',\n",
       " 'Experiment_1_poisons_IF_Dog-Fish_num_train_16__570____logitsPoisoned_result.npy',\n",
       " 'Experiment_1_poisons_IF_Dog-Fish_num_train_16__570____wClean_result.npy',\n",
       " 'Experiment_1_poisons_IF_Dog-Fish_num_train_16__570____wPoisoned_result.npy',\n",
       " 'Experiment_1_poisons_IF_Dog-Fish_num_train_2__367____acc_angle_result.npy',\n",
       " 'Experiment_1_poisons_IF_Dog-Fish_num_train_2__367____logitsClean_result.npy',\n",
       " 'Experiment_1_poisons_IF_Dog-Fish_num_train_2__367____logitsPoisoned_result.npy',\n",
       " 'Experiment_1_poisons_IF_Dog-Fish_num_train_2__367____wClean_result.npy',\n",
       " 'Experiment_1_poisons_IF_Dog-Fish_num_train_2__367____wPoisoned_result.npy',\n",
       " 'Experiment_1_poisons_IF_Dog-Fish_num_train_2__409____acc_angle_result.npy',\n",
       " 'Experiment_1_poisons_IF_Dog-Fish_num_train_2__409____logitsClean_result.npy',\n",
       " 'Experiment_1_poisons_IF_Dog-Fish_num_train_2__409____logitsPoisoned_result.npy',\n",
       " 'Experiment_1_poisons_IF_Dog-Fish_num_train_2__409____wClean_result.npy',\n",
       " 'Experiment_1_poisons_IF_Dog-Fish_num_train_2__409____wPoisoned_result.npy',\n",
       " 'Experiment_1_poisons_IF_Dog-Fish_num_train_2__431____acc_angle_result.npy',\n",
       " 'Experiment_1_poisons_IF_Dog-Fish_num_train_2__431____logitsClean_result.npy',\n",
       " 'Experiment_1_poisons_IF_Dog-Fish_num_train_2__431____logitsPoisoned_result.npy',\n",
       " 'Experiment_1_poisons_IF_Dog-Fish_num_train_2__431____wClean_result.npy',\n",
       " 'Experiment_1_poisons_IF_Dog-Fish_num_train_2__431____wPoisoned_result.npy',\n",
       " 'Experiment_1_poisons_IF_Dog-Fish_num_train_2__446____acc_angle_result.npy',\n",
       " 'Experiment_1_poisons_IF_Dog-Fish_num_train_2__446____logitsClean_result.npy',\n",
       " 'Experiment_1_poisons_IF_Dog-Fish_num_train_2__446____logitsPoisoned_result.npy',\n",
       " 'Experiment_1_poisons_IF_Dog-Fish_num_train_2__446____wClean_result.npy',\n",
       " 'Experiment_1_poisons_IF_Dog-Fish_num_train_2__446____wPoisoned_result.npy',\n",
       " 'Experiment_1_poisons_IF_Dog-Fish_num_train_2__478____acc_angle_result.npy',\n",
       " 'Experiment_1_poisons_IF_Dog-Fish_num_train_2__478____logitsClean_result.npy',\n",
       " 'Experiment_1_poisons_IF_Dog-Fish_num_train_2__478____logitsPoisoned_result.npy',\n",
       " 'Experiment_1_poisons_IF_Dog-Fish_num_train_2__478____wClean_result.npy',\n",
       " 'Experiment_1_poisons_IF_Dog-Fish_num_train_2__478____wPoisoned_result.npy',\n",
       " 'Experiment_1_poisons_IF_Dog-Fish_num_train_2__535____acc_angle_result.npy',\n",
       " 'Experiment_1_poisons_IF_Dog-Fish_num_train_2__535____logitsClean_result.npy',\n",
       " 'Experiment_1_poisons_IF_Dog-Fish_num_train_2__535____logitsPoisoned_result.npy',\n",
       " 'Experiment_1_poisons_IF_Dog-Fish_num_train_2__535____wClean_result.npy',\n",
       " 'Experiment_1_poisons_IF_Dog-Fish_num_train_2__535____wPoisoned_result.npy',\n",
       " 'Experiment_1_poisons_IF_Dog-Fish_num_train_2__92____acc_angle_result.npy',\n",
       " 'Experiment_1_poisons_IF_Dog-Fish_num_train_2__92____logitsClean_result.npy',\n",
       " 'Experiment_1_poisons_IF_Dog-Fish_num_train_2__92____logitsPoisoned_result.npy',\n",
       " 'Experiment_1_poisons_IF_Dog-Fish_num_train_2__92____wClean_result.npy',\n",
       " 'Experiment_1_poisons_IF_Dog-Fish_num_train_2__92____wPoisoned_result.npy',\n",
       " 'Experiment_1_poisons_IF_Dog-Fish_num_train_4__1____acc_angle_result.npy',\n",
       " 'Experiment_1_poisons_IF_Dog-Fish_num_train_4__1____logitsClean_result.npy',\n",
       " 'Experiment_1_poisons_IF_Dog-Fish_num_train_4__1____logitsPoisoned_result.npy',\n",
       " 'Experiment_1_poisons_IF_Dog-Fish_num_train_4__1____wClean_result.npy',\n",
       " 'Experiment_1_poisons_IF_Dog-Fish_num_train_4__1____wPoisoned_result.npy',\n",
       " 'Experiment_1_poisons_IF_Dog-Fish_num_train_4__202____acc_angle_result.npy',\n",
       " 'Experiment_1_poisons_IF_Dog-Fish_num_train_4__202____logitsClean_result.npy',\n",
       " 'Experiment_1_poisons_IF_Dog-Fish_num_train_4__202____logitsPoisoned_result.npy',\n",
       " 'Experiment_1_poisons_IF_Dog-Fish_num_train_4__202____wClean_result.npy',\n",
       " 'Experiment_1_poisons_IF_Dog-Fish_num_train_4__202____wPoisoned_result.npy',\n",
       " 'Experiment_1_poisons_IF_Dog-Fish_num_train_4__278____acc_angle_result.npy',\n",
       " 'Experiment_1_poisons_IF_Dog-Fish_num_train_4__278____logitsClean_result.npy',\n",
       " 'Experiment_1_poisons_IF_Dog-Fish_num_train_4__278____logitsPoisoned_result.npy',\n",
       " 'Experiment_1_poisons_IF_Dog-Fish_num_train_4__278____wClean_result.npy',\n",
       " 'Experiment_1_poisons_IF_Dog-Fish_num_train_4__278____wPoisoned_result.npy',\n",
       " 'Experiment_1_poisons_IF_Dog-Fish_num_train_4__378____acc_angle_result.npy',\n",
       " 'Experiment_1_poisons_IF_Dog-Fish_num_train_4__378____logitsClean_result.npy',\n",
       " 'Experiment_1_poisons_IF_Dog-Fish_num_train_4__378____logitsPoisoned_result.npy',\n",
       " 'Experiment_1_poisons_IF_Dog-Fish_num_train_4__378____wClean_result.npy',\n",
       " 'Experiment_1_poisons_IF_Dog-Fish_num_train_4__378____wPoisoned_result.npy',\n",
       " 'Experiment_1_poisons_IF_Dog-Fish_num_train_4__570____acc_angle_result.npy',\n",
       " 'Experiment_1_poisons_IF_Dog-Fish_num_train_4__570____logitsClean_result.npy',\n",
       " 'Experiment_1_poisons_IF_Dog-Fish_num_train_4__570____logitsPoisoned_result.npy',\n",
       " 'Experiment_1_poisons_IF_Dog-Fish_num_train_4__570____wClean_result.npy',\n",
       " 'Experiment_1_poisons_IF_Dog-Fish_num_train_4__570____wPoisoned_result.npy']"
      ]
     },
     "execution_count": 195,
     "metadata": {},
     "output_type": "execute_result"
    }
   ],
   "source": [
    "FNs = !ls Experiment_results/Experiment_1/Dog-Fish/IF/Analysis/\n",
    "FNs"
   ]
  },
  {
   "cell_type": "code",
   "execution_count": 191,
   "metadata": {},
   "outputs": [],
   "source": [
    "starter = \"Experiment_results/Experiment_1/Dog-Fish/IF/Analysis/\""
   ]
  },
  {
   "cell_type": "code",
   "execution_count": 79,
   "metadata": {},
   "outputs": [
    {
     "name": "stdout",
     "output_type": "stream",
     "text": [
      "skipping wrongly labeled 266 in 8, 1 != 0\n"
     ]
    }
   ],
   "source": [
    "d = {\n",
    "    1:{\n",
    "        \n",
    "    },\n",
    "    2:{\n",
    "        \n",
    "    },\n",
    "    4:{\n",
    "        \n",
    "    },\n",
    "    8:{\n",
    "        \n",
    "    },\n",
    "    16:{\n",
    "        \n",
    "    },\n",
    "}\n",
    "def add_to_list(dictionary, key, value):\n",
    "    if key not in dictionary.keys():\n",
    "        dictionary[key] = [value]\n",
    "    else:\n",
    "        dictionary[key].append(value)\n",
    "\n",
    "for i in range(0, len(FNs), 5):\n",
    "    test_idx = int(FNs[i].split('_')[9])\n",
    "    num_train = int(FNs[i].split('_')[7])\n",
    "    acc_c, acc_p, angle = np.load(starter+FNs[i])\n",
    "    logits_c = np.load(starter+FNs[i+1])[0]\n",
    "    logits_p = np.load(starter+FNs[i+2])[0]\n",
    "    bigger_label = np.argmax(logits_c)\n",
    "    true_label = int(data_sets.test.labels[test_idx])\n",
    "    if bigger_label!=true_label:\n",
    "        print \"skipping wrongly labeled {} in {}, {} != {}\".format(test_idx, num_train, bigger_label, true_label)\n",
    "        continue\n",
    "    add_to_list(d[num_train], \"acc_c\", acc_c)\n",
    "    add_to_list(d[num_train], \"acc_p\", acc_p)\n",
    "    add_to_list(d[num_train], \"angle\", angle)\n",
    "    add_to_list(d[num_train], \"true_logit_c\", logits_c[true_label])\n",
    "    add_to_list(d[num_train], \"true_logit_p\", logits_p[true_label])"
   ]
  },
  {
   "cell_type": "code",
   "execution_count": 189,
   "metadata": {},
   "outputs": [
    {
     "data": {
      "text/plain": [
       "<matplotlib.legend.Legend at 0x7f19bc074a90>"
      ]
     },
     "execution_count": 189,
     "metadata": {},
     "output_type": "execute_result"
    },
    {
     "data": {
      "image/png": "[encoded data removed]",
      "text/plain": [
       "<Figure size 576x576 with 1 Axes>"
      ]
     },
     "metadata": {},
     "output_type": "display_data"
    }
   ],
   "source": [
    "\n",
    "true_logits_p_p90 = []\n",
    "true_logits_p_p50 = []\n",
    "true_logits_p_p10 = []\n",
    "for k in np.sort(d.keys()):\n",
    "    true_logits_p_p90.append(np.percentile(d[k][\"true_logit_p\"],90))\n",
    "    true_logits_p_p50.append(np.percentile(d[k][\"true_logit_p\"],50))\n",
    "    true_logits_p_p10.append(np.percentile(d[k][\"true_logit_p\"],10))\n",
    "\n",
    "def get_piecewise(x,y):\n",
    "    def result(x_point):\n",
    "        if x_point > x.max() or x_point < x.min():\n",
    "            return None\n",
    "        if x_point in x:\n",
    "            index = np.arange(x.shape[0])[x == x_point][0]\n",
    "            return y[index]\n",
    "        index_larger = np.arange(x.shape[0])[x > x_point][0]\n",
    "        index_smaller = np.arange(x.shape[0])[x < x_point][-1]\n",
    "        assert x[index_larger] > x_point\n",
    "        assert x[index_smaller] < x_point\n",
    "        rise = y[index_larger] - y[index_smaller]\n",
    "        run = x[index_larger] - x[index_smaller]\n",
    "        slope = float(rise) / float(run)\n",
    "        delta_x = x_point - x[index_smaller]\n",
    "        result = y[index_smaller] + slope*delta_x\n",
    "        return result\n",
    "    return result\n",
    "\n",
    "\n",
    "plt.figure(figsize=(8,8))\n",
    "from scipy.ndimage.filters import gaussian_filter\n",
    "f = get_piecewise(np.sort(d.keys()), np.log10(true_logits_p_p90))\n",
    "result = gaussian_filter([[x,f(x)] for x in np.linspace(1,16,100)], [2,1e-4])\n",
    "plt.plot(result[:,0], result[:,1], label=\"result\")\n",
    "\n",
    "def plot_smooth(x,y, **kwargs):\n",
    "    f = get_piecewise(x, y)\n",
    "    new = gaussian_filter([[x_point, f(x_point)] for x_point in np.linspace(x.min(),x.max(),100)], [2,1e-4])\n",
    "    plt.plot(new[:,0], new[:,1], **kwargs)\n",
    "\n",
    "xs = np.sort(d.keys())\n",
    "plot_smooth(xs, np.log10(true_logits_p_p90), label=\"p90\", color=\"blue\")\n",
    "plot_smooth(xs, np.log10(true_logits_p_p50), label=\"p50\", color=\"blue\", linestyle=\"--\")\n",
    "plot_smooth(xs, np.log10(true_logits_p_p10), label=\"p10\", color=\"blue\", linestyle=\":\")\n",
    "# plt.plot(np.sort(d.keys()), np.log10(true_logits_p_p10), label=\"p10\")\n",
    "plt.legend()"
   ]
  },
  {
   "cell_type": "code",
   "execution_count": 19,
   "metadata": {},
   "outputs": [],
   "source": [
    "\"\"\"\n",
    "    RESULTS IN DIRECTORY MUST HAVE THE RIGHT ORDERING OF FILES FOR EACH TEST POINT\n",
    "    acc_angle_result.npy\n",
    "    logitsClean_result.npy\n",
    "    logitsPoisoned_result.npy\n",
    "    wClean_result.npy\n",
    "    wPoisoned_result.npy\n",
    "\"\"\"\n",
    "def plot_exp_1(directory, log=False, color=None):\n",
    "    def parse_file_name(fn):\n",
    "        fn = fn[:-4]\n",
    "        lst = fn.split('_')\n",
    "        return (lst[7], lst[9], lst[-2])\n",
    "\n",
    "    def sorted_dir(folder, order_by_id=False):\n",
    "        def getmtime(name):\n",
    "            path = os.path.join(folder, name)\n",
    "            return os.path.getmtime(path)\n",
    "        def get_test_idx(name):\n",
    "            return parse_file_name(name)\n",
    "\n",
    "        if order_by_id:\n",
    "            return sorted(os.listdir(folder), key=parse_file_name)\n",
    "\n",
    "        return sorted(os.listdir(folder), key=getmtime, reverse=True)\n",
    "    FNs = sorted_dir(directory, True)\n",
    "    d = {\n",
    "        1:{},\n",
    "        2:{},\n",
    "        4:{},\n",
    "        8:{},\n",
    "        16:{},\n",
    "    }\n",
    "    def add_to_list(dictionary, key, value):\n",
    "        if key not in dictionary.keys():\n",
    "            dictionary[key] = [value]\n",
    "        else:\n",
    "            dictionary[key].append(value)\n",
    "\n",
    "    for i in range(0, len(FNs), 5):\n",
    "        test_idx = int(FNs[i].split('_')[9])\n",
    "        num_train = int(FNs[i].split('_')[7])\n",
    "        method = FNs[i].split('_')[3]\n",
    "        acc_c, acc_p, angle = np.load(directory+FNs[i])\n",
    "        logits_c = np.load(directory+FNs[i+1])[0]\n",
    "        logits_p = np.load(directory+FNs[i+2])[0]\n",
    "        bigger_label = np.argmax(logits_c)\n",
    "        true_label = int(data_sets.test.labels[test_idx])\n",
    "        if bigger_label!=true_label:\n",
    "            print \"skipping wrongly labeled {} in {}, {} != {}\".format(test_idx, num_train, bigger_label, true_label)\n",
    "            continue\n",
    "        print method, acc_c, acc_p, angle\n",
    "        add_to_list(d[num_train], \"acc_c\", acc_c)\n",
    "        add_to_list(d[num_train], \"acc_p\", acc_p)\n",
    "        add_to_list(d[num_train], \"angle\", angle)\n",
    "        add_to_list(d[num_train], \"true_logit_c\", logits_c[true_label])\n",
    "        add_to_list(d[num_train], \"true_logit_p\", logits_p[true_label])\n",
    "    true_logits_p_p90 = []\n",
    "    true_logits_p_p50 = []\n",
    "    true_logits_p_p10 = []\n",
    "    for k in np.sort(d.keys()):\n",
    "        true_logits_p_p90.append(np.percentile(d[k][\"true_logit_p\"],90))\n",
    "        true_logits_p_p50.append(np.percentile(d[k][\"true_logit_p\"],50))\n",
    "        true_logits_p_p10.append(np.percentile(d[k][\"true_logit_p\"],10))\n",
    "\n",
    "    def get_piecewise(x,y):\n",
    "        def result(x_point):\n",
    "            if x_point > x.max() or x_point < x.min():\n",
    "                return None\n",
    "            if x_point in x:\n",
    "                index = np.arange(x.shape[0])[x == x_point][0]\n",
    "                return y[index]\n",
    "            index_larger = np.arange(x.shape[0])[x > x_point][0]\n",
    "            index_smaller = np.arange(x.shape[0])[x < x_point][-1]\n",
    "            assert x[index_larger] > x_point\n",
    "            assert x[index_smaller] < x_point\n",
    "            rise = y[index_larger] - y[index_smaller]\n",
    "            run = x[index_larger] - x[index_smaller]\n",
    "            slope = float(rise) / float(run)\n",
    "            delta_x = x_point - x[index_smaller]\n",
    "            result = y[index_smaller] + slope*delta_x\n",
    "            return result\n",
    "        return result\n",
    "\n",
    "#     plt.figure(figsize=(8,8))\n",
    "\n",
    "    def plot_smooth(x,y, **kwargs):\n",
    "        from scipy.ndimage.filters import gaussian_filter\n",
    "        f = get_piecewise(x, y)\n",
    "        new = gaussian_filter([[x_point, f(x_point)] for x_point in np.linspace(x.min(),x.max(),100)], [2,1e-4])\n",
    "        plt.plot(new[:,0], new[:,1], **kwargs)\n",
    "\n",
    "    xs = np.sort(d.keys())\n",
    "    plt.axhline(y=0.5, color=\"black\", linestyle=\"--\")\n",
    "    f = np.log_10 if log else lambda x:x\n",
    "    plot_smooth(xs, f(true_logits_p_p90), label=\"p90\", color=color)\n",
    "    plot_smooth(xs, f(true_logits_p_p50), label=\"p50\", color=color, linestyle=\"--\")\n",
    "    plot_smooth(xs, f(true_logits_p_p10), label=\"p10\", color=color, linestyle=\":\")\n",
    "    plt.ylim([0,1.1])\n",
    "    # plt.plot(np.sort(d.keys()), np.log10(true_logits_p_p10), label=\"p10\")\n",
    "    plt.legend()"
   ]
  },
  {
   "cell_type": "code",
   "execution_count": 20,
   "metadata": {},
   "outputs": [
    {
     "name": "stdout",
     "output_type": "stream",
     "text": [
      "Loading animals from disk...\n",
      "../data/dataset_dog-fish_train-900_test-300.npz\n",
      "IF 0.985 0.9833333333333333 0.06116817519068718\n",
      "IF 0.985 0.9833333333333333 0.061228372156620026\n",
      "IF 0.985 0.9833333333333333 0.06137564778327942\n",
      "IF 0.985 0.9833333333333333 0.060552407056093216\n",
      "IF 0.985 0.985 0.061304040253162384\n",
      "IF 0.985 0.9766666666666667 0.06084291264414787\n",
      "IF 0.985 0.98 0.06121516972780228\n",
      "IF 0.985 0.9783333333333334 0.05265769362449646\n",
      "IF 0.985 0.9666666666666667 0.05390070751309395\n",
      "IF 0.985 0.9766666666666667 0.05424700677394867\n",
      "IF 0.985 0.975 0.052124857902526855\n",
      "IF 0.985 0.97 0.05351926013827324\n",
      "IF 0.985 0.9583333333333334 0.0525168813765049\n",
      "IF 0.985 0.96 0.05577697232365608\n",
      "IF 0.985 0.9816666666666667 0.06084795668721199\n",
      "IF 0.985 0.9766666666666667 0.05975603684782982\n",
      "IF 0.985 0.9833333333333333 0.061041537672281265\n",
      "IF 0.985 0.9816666666666667 0.060525424778461456\n",
      "IF 0.985 0.98 0.06120092049241066\n",
      "IF 0.985 0.9783333333333334 0.060296431183815\n",
      "IF 0.985 0.98 0.0609784871339798\n",
      "IF 0.985 0.98 0.058275967836380005\n",
      "IF 0.985 0.9766666666666667 0.060180146247148514\n",
      "IF 0.985 0.9833333333333333 0.06038767844438553\n",
      "IF 0.985 0.98 0.05872480943799019\n",
      "IF 0.985 0.975 0.05829201266169548\n",
      "IF 0.985 0.97 0.05948122218251228\n",
      "IF 0.985 0.9683333333333334 0.05970931798219681\n",
      "IF 0.985 0.98 0.05618460103869438\n",
      "IF 0.985 0.98 0.05705953389406204\n",
      "IF 0.985 0.9683333333333334 0.058009374886751175\n",
      "skipping wrongly labeled 266 in 8, 1 != 0\n",
      "IF 0.985 0.9716666666666667 0.056404754519462585\n",
      "IF 0.985 0.9716666666666667 0.05661724507808685\n",
      "IF 0.985 0.9683333333333334 0.056829243898391724\n",
      "FC 0.985 0.98 0.06107304245233536\n",
      "FC 0.985 0.98 0.0613243505358696\n",
      "FC 0.985 0.9816666666666667 0.06122211366891861\n",
      "FC 0.985 0.9833333333333333 0.061254534870386124\n",
      "FC 0.985 0.9816666666666667 0.06120726093649864\n",
      "FC 0.985 0.9816666666666667 0.061306748539209366\n",
      "FC 0.985 0.9833333333333333 0.061397213488817215\n",
      "FC 0.985 0.98 0.061276961117982864\n",
      "FC 0.985 0.98 0.06125640124082565\n",
      "FC 0.985 0.98 0.06132575497031212\n",
      "FC 0.985 0.985 0.06139170005917549\n",
      "FC 0.985 0.9783333333333334 0.061059847474098206\n",
      "FC 0.985 0.9816666666666667 0.06101831793785095\n",
      "FC 0.985 0.9816666666666667 0.061648838222026825\n",
      "FC 0.985 0.98 0.06111855059862137\n",
      "FC 0.985 0.98 0.06131308525800705\n",
      "FC 0.985 0.9816666666666667 0.06120489910244942\n",
      "FC 0.985 0.9833333333333333 0.06128324568271637\n",
      "FC 0.985 0.9816666666666667 0.06122583895921707\n",
      "FC 0.985 0.9816666666666667 0.06131165102124214\n",
      "FC 0.985 0.9833333333333333 0.06142339110374451\n",
      "FC 0.985 0.98 0.0611286424100399\n",
      "FC 0.985 0.98 0.06132013350725174\n",
      "FC 0.985 0.9816666666666667 0.06122175231575966\n",
      "FC 0.985 0.9833333333333333 0.061282966285943985\n",
      "FC 0.985 0.9783333333333334 0.061245255172252655\n",
      "FC 0.985 0.9816666666666667 0.061315350234508514\n",
      "FC 0.985 0.9816666666666667 0.06147369369864464\n",
      "FC 0.985 0.98 0.061060626059770584\n",
      "FC 0.985 0.98 0.061248842626810074\n",
      "FC 0.985 0.9816666666666667 0.06122278422117233\n",
      "FC 0.985 0.985 0.06115677207708359\n",
      "FC 0.985 0.9766666666666667 0.06128721684217453\n",
      "FC 0.985 0.98 0.06132769212126732\n",
      "FC 0.985 0.98 0.06150951609015465\n"
     ]
    },
    {
     "data": {
      "image/png": "[encoded data removed]",
      "text/plain": [
       "<Figure size 432x288 with 1 Axes>"
      ]
     },
     "metadata": {},
     "output_type": "display_data"
    }
   ],
   "source": [
    "data_sets = get_dataset(dataset_metadatas[\"Dog-Fish\"])\n",
    "plot_exp_1(\"Experiment_results/Experiment_1/Dog-Fish/IF/Analysis/\", color=\"blue\")\n",
    "plot_exp_1(\"Experiment_results/Experiment_1/Dog-Fish/FC/Analysis/\", color=\"red\")"
   ]
  },
  {
   "cell_type": "code",
   "execution_count": 21,
   "metadata": {},
   "outputs": [
    {
     "name": "stdout",
     "output_type": "stream",
     "text": [
      "Loading animals from disk...\n",
      "../data/dataset_Eagle-Mushroom_train-500_test-50.npz\n",
      "IF 1.0 1.0 0.381967157125473\n",
      "IF 1.0 1.0 0.3857645094394684\n",
      "IF 1.0 1.0 0.38712143898010254\n",
      "IF 1.0 1.0 0.3866645097732544\n",
      "IF 1.0 1.0 0.38422825932502747\n",
      "IF 1.0 0.99 0.3645175099372864\n",
      "IF 1.0 0.99 0.35280081629753113\n",
      "IF 1.0 1.0 0.36774012446403503\n",
      "IF 1.0 0.99 0.36624428629875183\n",
      "IF 1.0 0.99 0.3533603549003601\n",
      "IF 1.0 1.0 0.378662645816803\n",
      "IF 1.0 0.99 0.3807847797870636\n",
      "IF 1.0 1.0 0.3834947347640991\n",
      "IF 1.0 1.0 0.3874838650226593\n",
      "IF 1.0 1.0 0.38587334752082825\n",
      "IF 1.0 1.0 0.3734482228755951\n",
      "IF 1.0 0.99 0.3786921203136444\n",
      "IF 1.0 1.0 0.38040974736213684\n",
      "IF 1.0 1.0 0.38221850991249084\n",
      "IF 1.0 1.0 0.3883073031902313\n",
      "IF 1.0 0.99 0.3745730221271515\n",
      "IF 1.0 0.99 0.36560776829719543\n",
      "IF 1.0 1.0 0.37491485476493835\n",
      "IF 1.0 0.99 0.3748301863670349\n",
      "IF 1.0 1.0 0.36866775155067444\n",
      "FC 1.0 1.0 0.3806179165840149\n",
      "FC 1.0 0.99 0.3830118477344513\n",
      "FC 1.0 1.0 0.37391170859336853\n",
      "FC 1.0 0.99 0.3788919150829315\n",
      "FC 1.0 0.99 0.3756899833679199\n",
      "FC 1.0 0.99 0.39756640791893005\n",
      "FC 1.0 0.99 0.3849997818470001\n",
      "FC 1.0 1.0 0.401713103055954\n",
      "FC 1.0 0.99 0.39037755131721497\n",
      "FC 1.0 0.99 0.38341712951660156\n",
      "FC 1.0 0.99 0.3795492649078369\n",
      "FC 1.0 0.99 0.38315966725349426\n",
      "FC 1.0 1.0 0.3754332363605499\n",
      "FC 1.0 0.99 0.38127607107162476\n",
      "FC 1.0 0.99 0.37650200724601746\n",
      "FC 1.0 0.99 0.3824804127216339\n",
      "FC 1.0 0.99 0.38348665833473206\n",
      "FC 1.0 1.0 0.3781534433364868\n",
      "FC 1.0 0.99 0.38393887877464294\n",
      "FC 1.0 0.99 0.3773016035556793\n",
      "FC 1.0 0.99 0.38803860545158386\n",
      "FC 1.0 0.99 0.3835652470588684\n",
      "FC 1.0 1.0 0.3823423385620117\n",
      "FC 1.0 0.99 0.38744375109672546\n",
      "FC 1.0 0.99 0.37854838371276855\n"
     ]
    },
    {
     "data": {
      "image/png": "[encoded data removed]",
      "text/plain": [
       "<Figure size 432x288 with 1 Axes>"
      ]
     },
     "metadata": {},
     "output_type": "display_data"
    }
   ],
   "source": [
    "data_sets = get_dataset(dataset_metadatas[\"Eagle-Mushroom\"])\n",
    "plot_exp_1(\"Experiment_results/Experiment_1_redo_final/Eagle-Mushroom/IF/Analysis/\", color=\"blue\")\n",
    "plot_exp_1(\"Experiment_results/Experiment_1_redo_final/Eagle-Mushroom/FC/Analysis/\", color=\"red\")"
   ]
  },
  {
   "cell_type": "code",
   "execution_count": null,
   "metadata": {},
   "outputs": [],
   "source": []
  }
 ],
 "metadata": {
  "kernelspec": {
   "display_name": "Python [conda env:influence_env]",
   "language": "python",
   "name": "conda-env-influence_env-py"
  },
  "language_info": {
   "codemirror_mode": {
    "name": "ipython",
    "version": 2
   },
   "file_extension": ".py",
   "mimetype": "text/x-python",
   "name": "python",
   "nbconvert_exporter": "python",
   "pygments_lexer": "ipython2",
   "version": "2.7.15"
  }
 },
 "nbformat": 4,
 "nbformat_minor": 2
}
