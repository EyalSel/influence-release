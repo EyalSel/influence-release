{
 "cells": [
  {
   "cell_type": "code",
   "execution_count": 14,
   "metadata": {},
   "outputs": [
    {
     "name": "stdout",
     "output_type": "stream",
     "text": [
      "The autoreload extension is already loaded. To reload it, use:\n",
      "  %reload_ext autoreload\n"
     ]
    },
    {
     "name": "stderr",
     "output_type": "stream",
     "text": [
      "[autoreload of influence.iter_attack failed: Traceback (most recent call last):\n",
      "  File \"/home/ubuntu/anaconda3/envs/tensorflow_p27/lib/python2.7/site-packages/IPython/extensions/autoreload.py\", line 247, in check\n",
      "    superreload(m, reload, self.old_objects)\n",
      "  File \"/home/ubuntu/influence-release/influence/iter_attack.py\", line 164\n",
      "    print(test_indices)\n",
      "                      ^\n",
      "IndentationError: unindent does not match any outer indentation level\n",
      "]\n"
     ]
    }
   ],
   "source": [
    "import os\n",
    "import numpy as np\n",
    "import IPython\n",
    "import copy\n",
    "from shutil import copyfile\n",
    "\n",
    "import tensorflow as tf\n",
    "from tensorflow.contrib.learn.python.learn.datasets import base\n",
    "\n",
    "import sys\n",
    "sys.dont_write_bytecode=True\n",
    "\n",
    "PACKAGE_PARENT = '../'\n",
    "SCRIPT_DIR = os.path.dirname(os.path.realpath(os.path.join(os.getcwd(), os.path.expanduser('__file__'))))\n",
    "sys.path.append(os.path.normpath(os.path.join(SCRIPT_DIR, PACKAGE_PARENT)))\n",
    "\n",
    "from influence.inceptionModel import BinaryInceptionModel\n",
    "from influence.binaryLogisticRegressionWithLBFGS import BinaryLogisticRegressionWithLBFGS\n",
    "import influence.experiments\n",
    "from influence.dataset import DataSet\n",
    "# from influence.dataset_poisoning import iterative_attack, select_examples_to_attack, get_projection_to_box_around_orig_point, generate_inception_features\n",
    "from influence.iter_attack import iterative_attack, select_examples_to_attack, get_projection_to_box_around_orig_point, generate_inception_features\n",
    "from influence.Progress import *\n",
    "\n",
    "from load_animals import *\n",
    "\n",
    "%load_ext autoreload\n",
    "%autoreload 2\n"
   ]
  },
  {
   "cell_type": "code",
   "execution_count": 15,
   "metadata": {
    "collapsed": true
   },
   "outputs": [
    {
     "name": "stdout",
     "output_type": "stream",
     "text": [
      "Loading Koda from disk...\n"
     ]
    }
   ],
   "source": [
    "img_side = 299\n",
    "num_channels = 3\n",
    " \n",
    "initial_learning_rate = 0.001 \n",
    "keep_probs = None\n",
    "decay_epochs = [1000, 10000]\n",
    "\n",
    "weight_decay = 0.001\n",
    "\n",
    "num_classes = 2\n",
    "max_lbfgs_iter = 1000\n",
    "\n",
    "num_train_ex = 400 #900\n",
    "num_test_ex = 200 #300\n",
    "batch_size = 100\n",
    "\n",
    "dataset_name = 'dogfish_%s_%s' % (num_train_ex, num_test_ex)\n",
    "# data_sets = load_animals(\n",
    "#     num_train_ex_per_class=num_train_ex_per_class, \n",
    "#     num_test_ex_per_class=num_test_ex_per_class,\n",
    "#     classes=['dog', 'fish'])\n",
    "# data_sets = load_dogfish_with_orig_and_koda()\n",
    "# X, Y = load_koda()\n",
    "# print(X.shape, Y.shape)\n",
    "data_sets = new_load_dogfish_with_koda(num_train_ex, num_test_ex)\n",
    "\n",
    "full_graph = tf.Graph()\n",
    "top_graph = tf.Graph()\n",
    "\n",
    "# dummy_data_sets = load_dummy(num_train_ex_per_class=num_train_ex_per_class, \n",
    "#     num_test_ex_per_class=num_test_ex_per_class,\n",
    "#     classes=['dog', 'fish'])"
   ]
  },
  {
   "cell_type": "code",
   "execution_count": null,
   "metadata": {
    "collapsed": true,
    "scrolled": false
   },
   "outputs": [
    {
     "name": "stdout",
     "output_type": "stream",
     "text": [
      "*** Full:\n"
     ]
    },
    {
     "name": "stderr",
     "output_type": "stream",
     "text": [
      "[genericNeuralNet.py:193 -   get_vec_to_list_fn() ] Total number of parameters: 2048\n"
     ]
    },
    {
     "name": "stdout",
     "output_type": "stream",
     "text": [
      "*** Top:\n"
     ]
    },
    {
     "name": "stderr",
     "output_type": "stream",
     "text": [
      "[genericNeuralNet.py:193 -   get_vec_to_list_fn() ] Total number of parameters: 2048\n"
     ]
    },
    {
     "name": "stdout",
     "output_type": "stream",
     "text": [
      "Using normal model\n"
     ]
    },
    {
     "name": "stderr",
     "output_type": "stream",
     "text": [
      "[genericNeuralNet.py:330 -     print_model_eval() ] Train loss (w reg) on all data: 0.008321129\n",
      "[genericNeuralNet.py:331 -     print_model_eval() ] Train loss (w/o reg) on all data: 0.0022926212\n",
      "[genericNeuralNet.py:333 -     print_model_eval() ] Test loss (w/o reg) on all data: 0.027602706\n",
      "[genericNeuralNet.py:334 -     print_model_eval() ] Train acc on all data:  1.0\n",
      "[genericNeuralNet.py:335 -     print_model_eval() ] Test acc on all data:   0.99\n",
      "[genericNeuralNet.py:337 -     print_model_eval() ] Norm of the mean of gradients: 1.769515e-07\n",
      "[genericNeuralNet.py:338 -     print_model_eval() ] Norm of the params: 3.4723215\n"
     ]
    },
    {
     "name": "stdout",
     "output_type": "stream",
     "text": [
      "LBFGS training took [45] iter.\n",
      "After training with LBFGS: \n",
      "Loaded weights from disk.\n"
     ]
    },
    {
     "name": "stderr",
     "output_type": "stream",
     "text": [
      "[genericNeuralNet.py:330 -     print_model_eval() ] Train loss (w reg) on all data: [0.01466116]\n",
      "[genericNeuralNet.py:331 -     print_model_eval() ] Train loss (w/o reg) on all data: [0.00863265]\n",
      "[genericNeuralNet.py:333 -     print_model_eval() ] Test loss (w/o reg) on all data: [0.02106226]\n",
      "[genericNeuralNet.py:334 -     print_model_eval() ] Train acc on all data:  [0.9975]\n",
      "[genericNeuralNet.py:335 -     print_model_eval() ] Test acc on all data:   [0.99]\n",
      "[genericNeuralNet.py:337 -     print_model_eval() ] Norm of the mean of gradients: 0.028538948\n",
      "[genericNeuralNet.py:338 -     print_model_eval() ] Norm of the params: 3.4723215\n"
     ]
    },
    {
     "name": "stdout",
     "output_type": "stream",
     "text": [
      "Creating poisoned dataset...\n",
      "****** Attacking test_idx 3 ******\n",
      "Norm of test gradient: 0.012520273\n",
      "Total number of parameters: 2048\n",
      "Warning: Desired error not necessarily achieved due to precision loss.\n",
      "         Current function value: -0.018769\n",
      "         Iterations: 4\n",
      "         Function evaluations: 81\n",
      "         Gradient evaluations: 73\n",
      "         Hessian evaluations: 30\n",
      "Saved inverse HVP to output/dogfish_400_200_inception_onlytop_wd-0.001-test-3.npz\n",
      "Inverse HVP took 1.98698401451 sec\n"
     ]
    },
    {
     "name": "stderr",
     "output_type": "stream",
     "text": [
      "[Progress.py:231 - get_grad_of_influence_wrt_input() ] Looping over training points. Counter: 0, idx_to_remove: 0\n",
      "[genericNeuralNet.py:911 - grad_influence_wrt_input() ] calculating grad_influence_wrt_input\n"
     ]
    },
    {
     "name": "stdout",
     "output_type": "stream",
     "text": [
      "Norm of test gradient: 0.013929915\n",
      "Loaded inverse HVP from output/dogfish_400_200_inception_wd-0.001-test-3.npz\n",
      "Inverse HVP took 0.000735998153687 sec\n",
      "Entering the for loop\n"
     ]
    },
    {
     "name": "stderr",
     "output_type": "stream",
     "text": [
      "[Progress.py:231 - get_grad_of_influence_wrt_input() ] Looping over training points. Counter: 1, idx_to_remove: 1\n",
      "[genericNeuralNet.py:911 - grad_influence_wrt_input() ] calculating grad_influence_wrt_input\n",
      "[Progress.py:231 - get_grad_of_influence_wrt_input() ] Looping over training points. Counter: 2, idx_to_remove: 2\n",
      "[genericNeuralNet.py:911 - grad_influence_wrt_input() ] calculating grad_influence_wrt_input\n",
      "[Progress.py:231 - get_grad_of_influence_wrt_input() ] Looping over training points. Counter: 3, idx_to_remove: 3\n",
      "[genericNeuralNet.py:911 - grad_influence_wrt_input() ] calculating grad_influence_wrt_input\n",
      "[Progress.py:231 - get_grad_of_influence_wrt_input() ] Looping over training points. Counter: 4, idx_to_remove: 4\n",
      "[genericNeuralNet.py:911 - grad_influence_wrt_input() ] calculating grad_influence_wrt_input\n",
      "[Progress.py:231 - get_grad_of_influence_wrt_input() ] Looping over training points. Counter: 5, idx_to_remove: 5\n",
      "[genericNeuralNet.py:911 - grad_influence_wrt_input() ] calculating grad_influence_wrt_input\n",
      "[Progress.py:231 - get_grad_of_influence_wrt_input() ] Looping over training points. Counter: 6, idx_to_remove: 6\n",
      "[genericNeuralNet.py:911 - grad_influence_wrt_input() ] calculating grad_influence_wrt_input\n",
      "[Progress.py:231 - get_grad_of_influence_wrt_input() ] Looping over training points. Counter: 7, idx_to_remove: 7\n",
      "[genericNeuralNet.py:911 - grad_influence_wrt_input() ] calculating grad_influence_wrt_input\n",
      "[Progress.py:231 - get_grad_of_influence_wrt_input() ] Looping over training points. Counter: 8, idx_to_remove: 8\n",
      "[genericNeuralNet.py:911 - grad_influence_wrt_input() ] calculating grad_influence_wrt_input\n",
      "[Progress.py:231 - get_grad_of_influence_wrt_input() ] Looping over training points. Counter: 9, idx_to_remove: 9\n",
      "[genericNeuralNet.py:911 - grad_influence_wrt_input() ] calculating grad_influence_wrt_input\n",
      "[Progress.py:231 - get_grad_of_influence_wrt_input() ] Looping over training points. Counter: 10, idx_to_remove: 10\n",
      "[genericNeuralNet.py:911 - grad_influence_wrt_input() ] calculating grad_influence_wrt_input\n",
      "[Progress.py:231 - get_grad_of_influence_wrt_input() ] Looping over training points. Counter: 11, idx_to_remove: 11\n",
      "[genericNeuralNet.py:911 - grad_influence_wrt_input() ] calculating grad_influence_wrt_input\n",
      "[Progress.py:231 - get_grad_of_influence_wrt_input() ] Looping over training points. Counter: 12, idx_to_remove: 12\n",
      "[genericNeuralNet.py:911 - grad_influence_wrt_input() ] calculating grad_influence_wrt_input\n",
      "[Progress.py:231 - get_grad_of_influence_wrt_input() ] Looping over training points. Counter: 13, idx_to_remove: 13\n",
      "[genericNeuralNet.py:911 - grad_influence_wrt_input() ] calculating grad_influence_wrt_input\n",
      "[Progress.py:231 - get_grad_of_influence_wrt_input() ] Looping over training points. Counter: 14, idx_to_remove: 14\n",
      "[genericNeuralNet.py:911 - grad_influence_wrt_input() ] calculating grad_influence_wrt_input\n",
      "[Progress.py:231 - get_grad_of_influence_wrt_input() ] Looping over training points. Counter: 15, idx_to_remove: 15\n",
      "[genericNeuralNet.py:911 - grad_influence_wrt_input() ] calculating grad_influence_wrt_input\n",
      "[Progress.py:231 - get_grad_of_influence_wrt_input() ] Looping over training points. Counter: 16, idx_to_remove: 16\n",
      "[genericNeuralNet.py:911 - grad_influence_wrt_input() ] calculating grad_influence_wrt_input\n",
      "[Progress.py:231 - get_grad_of_influence_wrt_input() ] Looping over training points. Counter: 17, idx_to_remove: 17\n",
      "[genericNeuralNet.py:911 - grad_influence_wrt_input() ] calculating grad_influence_wrt_input\n",
      "[Progress.py:231 - get_grad_of_influence_wrt_input() ] Looping over training points. Counter: 18, idx_to_remove: 18\n",
      "[genericNeuralNet.py:911 - grad_influence_wrt_input() ] calculating grad_influence_wrt_input\n",
      "[Progress.py:231 - get_grad_of_influence_wrt_input() ] Looping over training points. Counter: 19, idx_to_remove: 19\n",
      "[genericNeuralNet.py:911 - grad_influence_wrt_input() ] calculating grad_influence_wrt_input\n",
      "[Progress.py:231 - get_grad_of_influence_wrt_input() ] Looping over training points. Counter: 20, idx_to_remove: 20\n",
      "[genericNeuralNet.py:911 - grad_influence_wrt_input() ] calculating grad_influence_wrt_input\n",
      "[Progress.py:231 - get_grad_of_influence_wrt_input() ] Looping over training points. Counter: 21, idx_to_remove: 21\n",
      "[genericNeuralNet.py:911 - grad_influence_wrt_input() ] calculating grad_influence_wrt_input\n",
      "[Progress.py:231 - get_grad_of_influence_wrt_input() ] Looping over training points. Counter: 22, idx_to_remove: 22\n",
      "[genericNeuralNet.py:911 - grad_influence_wrt_input() ] calculating grad_influence_wrt_input\n",
      "[Progress.py:231 - get_grad_of_influence_wrt_input() ] Looping over training points. Counter: 23, idx_to_remove: 23\n",
      "[genericNeuralNet.py:911 - grad_influence_wrt_input() ] calculating grad_influence_wrt_input\n",
      "[Progress.py:231 - get_grad_of_influence_wrt_input() ] Looping over training points. Counter: 24, idx_to_remove: 24\n",
      "[genericNeuralNet.py:911 - grad_influence_wrt_input() ] calculating grad_influence_wrt_input\n",
      "[Progress.py:231 - get_grad_of_influence_wrt_input() ] Looping over training points. Counter: 25, idx_to_remove: 25\n",
      "[genericNeuralNet.py:911 - grad_influence_wrt_input() ] calculating grad_influence_wrt_input\n",
      "[Progress.py:231 - get_grad_of_influence_wrt_input() ] Looping over training points. Counter: 26, idx_to_remove: 26\n",
      "[genericNeuralNet.py:911 - grad_influence_wrt_input() ] calculating grad_influence_wrt_input\n",
      "[Progress.py:231 - get_grad_of_influence_wrt_input() ] Looping over training points. Counter: 27, idx_to_remove: 27\n",
      "[genericNeuralNet.py:911 - grad_influence_wrt_input() ] calculating grad_influence_wrt_input\n",
      "[Progress.py:231 - get_grad_of_influence_wrt_input() ] Looping over training points. Counter: 28, idx_to_remove: 28\n",
      "[genericNeuralNet.py:911 - grad_influence_wrt_input() ] calculating grad_influence_wrt_input\n",
      "[Progress.py:231 - get_grad_of_influence_wrt_input() ] Looping over training points. Counter: 29, idx_to_remove: 29\n",
      "[genericNeuralNet.py:911 - grad_influence_wrt_input() ] calculating grad_influence_wrt_input\n",
      "[Progress.py:231 - get_grad_of_influence_wrt_input() ] Looping over training points. Counter: 30, idx_to_remove: 30\n",
      "[genericNeuralNet.py:911 - grad_influence_wrt_input() ] calculating grad_influence_wrt_input\n",
      "[Progress.py:231 - get_grad_of_influence_wrt_input() ] Looping over training points. Counter: 31, idx_to_remove: 31\n",
      "[genericNeuralNet.py:911 - grad_influence_wrt_input() ] calculating grad_influence_wrt_input\n",
      "[Progress.py:231 - get_grad_of_influence_wrt_input() ] Looping over training points. Counter: 32, idx_to_remove: 32\n",
      "[genericNeuralNet.py:911 - grad_influence_wrt_input() ] calculating grad_influence_wrt_input\n",
      "[Progress.py:231 - get_grad_of_influence_wrt_input() ] Looping over training points. Counter: 33, idx_to_remove: 33\n",
      "[genericNeuralNet.py:911 - grad_influence_wrt_input() ] calculating grad_influence_wrt_input\n",
      "[Progress.py:231 - get_grad_of_influence_wrt_input() ] Looping over training points. Counter: 34, idx_to_remove: 34\n",
      "[genericNeuralNet.py:911 - grad_influence_wrt_input() ] calculating grad_influence_wrt_input\n",
      "[Progress.py:231 - get_grad_of_influence_wrt_input() ] Looping over training points. Counter: 35, idx_to_remove: 35\n",
      "[genericNeuralNet.py:911 - grad_influence_wrt_input() ] calculating grad_influence_wrt_input\n",
      "[Progress.py:231 - get_grad_of_influence_wrt_input() ] Looping over training points. Counter: 36, idx_to_remove: 36\n",
      "[genericNeuralNet.py:911 - grad_influence_wrt_input() ] calculating grad_influence_wrt_input\n",
      "[Progress.py:231 - get_grad_of_influence_wrt_input() ] Looping over training points. Counter: 37, idx_to_remove: 37\n",
      "[genericNeuralNet.py:911 - grad_influence_wrt_input() ] calculating grad_influence_wrt_input\n",
      "[Progress.py:231 - get_grad_of_influence_wrt_input() ] Looping over training points. Counter: 38, idx_to_remove: 38\n",
      "[genericNeuralNet.py:911 - grad_influence_wrt_input() ] calculating grad_influence_wrt_input\n",
      "[Progress.py:231 - get_grad_of_influence_wrt_input() ] Looping over training points. Counter: 39, idx_to_remove: 39\n",
      "[genericNeuralNet.py:911 - grad_influence_wrt_input() ] calculating grad_influence_wrt_input\n",
      "[Progress.py:231 - get_grad_of_influence_wrt_input() ] Looping over training points. Counter: 40, idx_to_remove: 40\n",
      "[genericNeuralNet.py:911 - grad_influence_wrt_input() ] calculating grad_influence_wrt_input\n",
      "[Progress.py:231 - get_grad_of_influence_wrt_input() ] Looping over training points. Counter: 41, idx_to_remove: 41\n",
      "[genericNeuralNet.py:911 - grad_influence_wrt_input() ] calculating grad_influence_wrt_input\n",
      "[Progress.py:231 - get_grad_of_influence_wrt_input() ] Looping over training points. Counter: 42, idx_to_remove: 42\n",
      "[genericNeuralNet.py:911 - grad_influence_wrt_input() ] calculating grad_influence_wrt_input\n",
      "[Progress.py:231 - get_grad_of_influence_wrt_input() ] Looping over training points. Counter: 43, idx_to_remove: 43\n",
      "[genericNeuralNet.py:911 - grad_influence_wrt_input() ] calculating grad_influence_wrt_input\n",
      "[Progress.py:231 - get_grad_of_influence_wrt_input() ] Looping over training points. Counter: 44, idx_to_remove: 44\n",
      "[genericNeuralNet.py:911 - grad_influence_wrt_input() ] calculating grad_influence_wrt_input\n",
      "[Progress.py:231 - get_grad_of_influence_wrt_input() ] Looping over training points. Counter: 45, idx_to_remove: 45\n",
      "[genericNeuralNet.py:911 - grad_influence_wrt_input() ] calculating grad_influence_wrt_input\n",
      "[Progress.py:231 - get_grad_of_influence_wrt_input() ] Looping over training points. Counter: 46, idx_to_remove: 46\n",
      "[genericNeuralNet.py:911 - grad_influence_wrt_input() ] calculating grad_influence_wrt_input\n",
      "[Progress.py:231 - get_grad_of_influence_wrt_input() ] Looping over training points. Counter: 47, idx_to_remove: 47\n",
      "[genericNeuralNet.py:911 - grad_influence_wrt_input() ] calculating grad_influence_wrt_input\n",
      "[Progress.py:231 - get_grad_of_influence_wrt_input() ] Looping over training points. Counter: 48, idx_to_remove: 48\n",
      "[genericNeuralNet.py:911 - grad_influence_wrt_input() ] calculating grad_influence_wrt_input\n",
      "[Progress.py:231 - get_grad_of_influence_wrt_input() ] Looping over training points. Counter: 49, idx_to_remove: 49\n",
      "[genericNeuralNet.py:911 - grad_influence_wrt_input() ] calculating grad_influence_wrt_input\n",
      "[Progress.py:231 - get_grad_of_influence_wrt_input() ] Looping over training points. Counter: 50, idx_to_remove: 50\n",
      "[genericNeuralNet.py:911 - grad_influence_wrt_input() ] calculating grad_influence_wrt_input\n",
      "[Progress.py:231 - get_grad_of_influence_wrt_input() ] Looping over training points. Counter: 51, idx_to_remove: 51\n",
      "[genericNeuralNet.py:911 - grad_influence_wrt_input() ] calculating grad_influence_wrt_input\n",
      "[Progress.py:231 - get_grad_of_influence_wrt_input() ] Looping over training points. Counter: 52, idx_to_remove: 52\n",
      "[genericNeuralNet.py:911 - grad_influence_wrt_input() ] calculating grad_influence_wrt_input\n",
      "[Progress.py:231 - get_grad_of_influence_wrt_input() ] Looping over training points. Counter: 53, idx_to_remove: 53\n",
      "[genericNeuralNet.py:911 - grad_influence_wrt_input() ] calculating grad_influence_wrt_input\n",
      "[Progress.py:231 - get_grad_of_influence_wrt_input() ] Looping over training points. Counter: 54, idx_to_remove: 54\n",
      "[genericNeuralNet.py:911 - grad_influence_wrt_input() ] calculating grad_influence_wrt_input\n",
      "[Progress.py:231 - get_grad_of_influence_wrt_input() ] Looping over training points. Counter: 55, idx_to_remove: 55\n",
      "[genericNeuralNet.py:911 - grad_influence_wrt_input() ] calculating grad_influence_wrt_input\n",
      "[Progress.py:231 - get_grad_of_influence_wrt_input() ] Looping over training points. Counter: 56, idx_to_remove: 56\n",
      "[genericNeuralNet.py:911 - grad_influence_wrt_input() ] calculating grad_influence_wrt_input\n",
      "[Progress.py:231 - get_grad_of_influence_wrt_input() ] Looping over training points. Counter: 57, idx_to_remove: 57\n",
      "[genericNeuralNet.py:911 - grad_influence_wrt_input() ] calculating grad_influence_wrt_input\n",
      "[Progress.py:231 - get_grad_of_influence_wrt_input() ] Looping over training points. Counter: 58, idx_to_remove: 58\n",
      "[genericNeuralNet.py:911 - grad_influence_wrt_input() ] calculating grad_influence_wrt_input\n",
      "[Progress.py:231 - get_grad_of_influence_wrt_input() ] Looping over training points. Counter: 59, idx_to_remove: 59\n",
      "[genericNeuralNet.py:911 - grad_influence_wrt_input() ] calculating grad_influence_wrt_input\n",
      "[Progress.py:231 - get_grad_of_influence_wrt_input() ] Looping over training points. Counter: 60, idx_to_remove: 60\n",
      "[genericNeuralNet.py:911 - grad_influence_wrt_input() ] calculating grad_influence_wrt_input\n",
      "[Progress.py:231 - get_grad_of_influence_wrt_input() ] Looping over training points. Counter: 61, idx_to_remove: 61\n",
      "[genericNeuralNet.py:911 - grad_influence_wrt_input() ] calculating grad_influence_wrt_input\n",
      "[Progress.py:231 - get_grad_of_influence_wrt_input() ] Looping over training points. Counter: 62, idx_to_remove: 62\n",
      "[genericNeuralNet.py:911 - grad_influence_wrt_input() ] calculating grad_influence_wrt_input\n",
      "[Progress.py:231 - get_grad_of_influence_wrt_input() ] Looping over training points. Counter: 63, idx_to_remove: 63\n",
      "[genericNeuralNet.py:911 - grad_influence_wrt_input() ] calculating grad_influence_wrt_input\n",
      "[Progress.py:231 - get_grad_of_influence_wrt_input() ] Looping over training points. Counter: 64, idx_to_remove: 64\n",
      "[genericNeuralNet.py:911 - grad_influence_wrt_input() ] calculating grad_influence_wrt_input\n",
      "[Progress.py:231 - get_grad_of_influence_wrt_input() ] Looping over training points. Counter: 65, idx_to_remove: 65\n",
      "[genericNeuralNet.py:911 - grad_influence_wrt_input() ] calculating grad_influence_wrt_input\n",
      "[Progress.py:231 - get_grad_of_influence_wrt_input() ] Looping over training points. Counter: 66, idx_to_remove: 66\n",
      "[genericNeuralNet.py:911 - grad_influence_wrt_input() ] calculating grad_influence_wrt_input\n",
      "[Progress.py:231 - get_grad_of_influence_wrt_input() ] Looping over training points. Counter: 67, idx_to_remove: 67\n",
      "[genericNeuralNet.py:911 - grad_influence_wrt_input() ] calculating grad_influence_wrt_input\n",
      "[Progress.py:231 - get_grad_of_influence_wrt_input() ] Looping over training points. Counter: 68, idx_to_remove: 68\n",
      "[genericNeuralNet.py:911 - grad_influence_wrt_input() ] calculating grad_influence_wrt_input\n",
      "[Progress.py:231 - get_grad_of_influence_wrt_input() ] Looping over training points. Counter: 69, idx_to_remove: 69\n",
      "[genericNeuralNet.py:911 - grad_influence_wrt_input() ] calculating grad_influence_wrt_input\n",
      "[Progress.py:231 - get_grad_of_influence_wrt_input() ] Looping over training points. Counter: 70, idx_to_remove: 70\n",
      "[genericNeuralNet.py:911 - grad_influence_wrt_input() ] calculating grad_influence_wrt_input\n",
      "[Progress.py:231 - get_grad_of_influence_wrt_input() ] Looping over training points. Counter: 71, idx_to_remove: 71\n",
      "[genericNeuralNet.py:911 - grad_influence_wrt_input() ] calculating grad_influence_wrt_input\n",
      "[Progress.py:231 - get_grad_of_influence_wrt_input() ] Looping over training points. Counter: 72, idx_to_remove: 72\n",
      "[genericNeuralNet.py:911 - grad_influence_wrt_input() ] calculating grad_influence_wrt_input\n",
      "[Progress.py:231 - get_grad_of_influence_wrt_input() ] Looping over training points. Counter: 73, idx_to_remove: 73\n",
      "[genericNeuralNet.py:911 - grad_influence_wrt_input() ] calculating grad_influence_wrt_input\n",
      "[Progress.py:231 - get_grad_of_influence_wrt_input() ] Looping over training points. Counter: 74, idx_to_remove: 74\n",
      "[genericNeuralNet.py:911 - grad_influence_wrt_input() ] calculating grad_influence_wrt_input\n",
      "[Progress.py:231 - get_grad_of_influence_wrt_input() ] Looping over training points. Counter: 75, idx_to_remove: 75\n",
      "[genericNeuralNet.py:911 - grad_influence_wrt_input() ] calculating grad_influence_wrt_input\n",
      "[Progress.py:231 - get_grad_of_influence_wrt_input() ] Looping over training points. Counter: 76, idx_to_remove: 76\n",
      "[genericNeuralNet.py:911 - grad_influence_wrt_input() ] calculating grad_influence_wrt_input\n",
      "[Progress.py:231 - get_grad_of_influence_wrt_input() ] Looping over training points. Counter: 77, idx_to_remove: 77\n",
      "[genericNeuralNet.py:911 - grad_influence_wrt_input() ] calculating grad_influence_wrt_input\n",
      "[Progress.py:231 - get_grad_of_influence_wrt_input() ] Looping over training points. Counter: 78, idx_to_remove: 78\n",
      "[genericNeuralNet.py:911 - grad_influence_wrt_input() ] calculating grad_influence_wrt_input\n",
      "[Progress.py:231 - get_grad_of_influence_wrt_input() ] Looping over training points. Counter: 79, idx_to_remove: 79\n",
      "[genericNeuralNet.py:911 - grad_influence_wrt_input() ] calculating grad_influence_wrt_input\n",
      "[Progress.py:231 - get_grad_of_influence_wrt_input() ] Looping over training points. Counter: 80, idx_to_remove: 80\n",
      "[genericNeuralNet.py:911 - grad_influence_wrt_input() ] calculating grad_influence_wrt_input\n",
      "[Progress.py:231 - get_grad_of_influence_wrt_input() ] Looping over training points. Counter: 81, idx_to_remove: 81\n",
      "[genericNeuralNet.py:911 - grad_influence_wrt_input() ] calculating grad_influence_wrt_input\n",
      "[Progress.py:231 - get_grad_of_influence_wrt_input() ] Looping over training points. Counter: 82, idx_to_remove: 82\n",
      "[genericNeuralNet.py:911 - grad_influence_wrt_input() ] calculating grad_influence_wrt_input\n",
      "[Progress.py:231 - get_grad_of_influence_wrt_input() ] Looping over training points. Counter: 83, idx_to_remove: 83\n",
      "[genericNeuralNet.py:911 - grad_influence_wrt_input() ] calculating grad_influence_wrt_input\n",
      "[Progress.py:231 - get_grad_of_influence_wrt_input() ] Looping over training points. Counter: 84, idx_to_remove: 84\n",
      "[genericNeuralNet.py:911 - grad_influence_wrt_input() ] calculating grad_influence_wrt_input\n",
      "[Progress.py:231 - get_grad_of_influence_wrt_input() ] Looping over training points. Counter: 85, idx_to_remove: 85\n",
      "[genericNeuralNet.py:911 - grad_influence_wrt_input() ] calculating grad_influence_wrt_input\n",
      "[Progress.py:231 - get_grad_of_influence_wrt_input() ] Looping over training points. Counter: 86, idx_to_remove: 86\n",
      "[genericNeuralNet.py:911 - grad_influence_wrt_input() ] calculating grad_influence_wrt_input\n",
      "[Progress.py:231 - get_grad_of_influence_wrt_input() ] Looping over training points. Counter: 87, idx_to_remove: 87\n",
      "[genericNeuralNet.py:911 - grad_influence_wrt_input() ] calculating grad_influence_wrt_input\n",
      "[Progress.py:231 - get_grad_of_influence_wrt_input() ] Looping over training points. Counter: 88, idx_to_remove: 88\n",
      "[genericNeuralNet.py:911 - grad_influence_wrt_input() ] calculating grad_influence_wrt_input\n",
      "[Progress.py:231 - get_grad_of_influence_wrt_input() ] Looping over training points. Counter: 89, idx_to_remove: 89\n",
      "[genericNeuralNet.py:911 - grad_influence_wrt_input() ] calculating grad_influence_wrt_input\n",
      "[Progress.py:231 - get_grad_of_influence_wrt_input() ] Looping over training points. Counter: 90, idx_to_remove: 90\n",
      "[genericNeuralNet.py:911 - grad_influence_wrt_input() ] calculating grad_influence_wrt_input\n",
      "[Progress.py:231 - get_grad_of_influence_wrt_input() ] Looping over training points. Counter: 91, idx_to_remove: 91\n",
      "[genericNeuralNet.py:911 - grad_influence_wrt_input() ] calculating grad_influence_wrt_input\n",
      "[Progress.py:231 - get_grad_of_influence_wrt_input() ] Looping over training points. Counter: 92, idx_to_remove: 92\n",
      "[genericNeuralNet.py:911 - grad_influence_wrt_input() ] calculating grad_influence_wrt_input\n",
      "[Progress.py:231 - get_grad_of_influence_wrt_input() ] Looping over training points. Counter: 93, idx_to_remove: 93\n",
      "[genericNeuralNet.py:911 - grad_influence_wrt_input() ] calculating grad_influence_wrt_input\n",
      "[Progress.py:231 - get_grad_of_influence_wrt_input() ] Looping over training points. Counter: 94, idx_to_remove: 94\n",
      "[genericNeuralNet.py:911 - grad_influence_wrt_input() ] calculating grad_influence_wrt_input\n",
      "[Progress.py:231 - get_grad_of_influence_wrt_input() ] Looping over training points. Counter: 95, idx_to_remove: 95\n",
      "[genericNeuralNet.py:911 - grad_influence_wrt_input() ] calculating grad_influence_wrt_input\n",
      "[Progress.py:231 - get_grad_of_influence_wrt_input() ] Looping over training points. Counter: 96, idx_to_remove: 96\n",
      "[genericNeuralNet.py:911 - grad_influence_wrt_input() ] calculating grad_influence_wrt_input\n",
      "[Progress.py:231 - get_grad_of_influence_wrt_input() ] Looping over training points. Counter: 97, idx_to_remove: 97\n",
      "[genericNeuralNet.py:911 - grad_influence_wrt_input() ] calculating grad_influence_wrt_input\n",
      "[Progress.py:231 - get_grad_of_influence_wrt_input() ] Looping over training points. Counter: 98, idx_to_remove: 98\n",
      "[genericNeuralNet.py:911 - grad_influence_wrt_input() ] calculating grad_influence_wrt_input\n",
      "[Progress.py:231 - get_grad_of_influence_wrt_input() ] Looping over training points. Counter: 99, idx_to_remove: 99\n",
      "[genericNeuralNet.py:911 - grad_influence_wrt_input() ] calculating grad_influence_wrt_input\n",
      "[Progress.py:231 - get_grad_of_influence_wrt_input() ] Looping over training points. Counter: 100, idx_to_remove: 100\n",
      "[genericNeuralNet.py:911 - grad_influence_wrt_input() ] calculating grad_influence_wrt_input\n",
      "[Progress.py:231 - get_grad_of_influence_wrt_input() ] Looping over training points. Counter: 101, idx_to_remove: 101\n",
      "[genericNeuralNet.py:911 - grad_influence_wrt_input() ] calculating grad_influence_wrt_input\n",
      "[Progress.py:231 - get_grad_of_influence_wrt_input() ] Looping over training points. Counter: 102, idx_to_remove: 102\n",
      "[genericNeuralNet.py:911 - grad_influence_wrt_input() ] calculating grad_influence_wrt_input\n",
      "[Progress.py:231 - get_grad_of_influence_wrt_input() ] Looping over training points. Counter: 103, idx_to_remove: 103\n",
      "[genericNeuralNet.py:911 - grad_influence_wrt_input() ] calculating grad_influence_wrt_input\n",
      "[Progress.py:231 - get_grad_of_influence_wrt_input() ] Looping over training points. Counter: 104, idx_to_remove: 104\n",
      "[genericNeuralNet.py:911 - grad_influence_wrt_input() ] calculating grad_influence_wrt_input\n",
      "[Progress.py:231 - get_grad_of_influence_wrt_input() ] Looping over training points. Counter: 105, idx_to_remove: 105\n",
      "[genericNeuralNet.py:911 - grad_influence_wrt_input() ] calculating grad_influence_wrt_input\n",
      "[Progress.py:231 - get_grad_of_influence_wrt_input() ] Looping over training points. Counter: 106, idx_to_remove: 106\n",
      "[genericNeuralNet.py:911 - grad_influence_wrt_input() ] calculating grad_influence_wrt_input\n",
      "[Progress.py:231 - get_grad_of_influence_wrt_input() ] Looping over training points. Counter: 107, idx_to_remove: 107\n",
      "[genericNeuralNet.py:911 - grad_influence_wrt_input() ] calculating grad_influence_wrt_input\n",
      "[Progress.py:231 - get_grad_of_influence_wrt_input() ] Looping over training points. Counter: 108, idx_to_remove: 108\n",
      "[genericNeuralNet.py:911 - grad_influence_wrt_input() ] calculating grad_influence_wrt_input\n",
      "[Progress.py:231 - get_grad_of_influence_wrt_input() ] Looping over training points. Counter: 109, idx_to_remove: 109\n",
      "[genericNeuralNet.py:911 - grad_influence_wrt_input() ] calculating grad_influence_wrt_input\n",
      "[Progress.py:231 - get_grad_of_influence_wrt_input() ] Looping over training points. Counter: 110, idx_to_remove: 110\n",
      "[genericNeuralNet.py:911 - grad_influence_wrt_input() ] calculating grad_influence_wrt_input\n",
      "[Progress.py:231 - get_grad_of_influence_wrt_input() ] Looping over training points. Counter: 111, idx_to_remove: 111\n",
      "[genericNeuralNet.py:911 - grad_influence_wrt_input() ] calculating grad_influence_wrt_input\n",
      "[Progress.py:231 - get_grad_of_influence_wrt_input() ] Looping over training points. Counter: 112, idx_to_remove: 112\n",
      "[genericNeuralNet.py:911 - grad_influence_wrt_input() ] calculating grad_influence_wrt_input\n",
      "[Progress.py:231 - get_grad_of_influence_wrt_input() ] Looping over training points. Counter: 113, idx_to_remove: 113\n",
      "[genericNeuralNet.py:911 - grad_influence_wrt_input() ] calculating grad_influence_wrt_input\n",
      "[Progress.py:231 - get_grad_of_influence_wrt_input() ] Looping over training points. Counter: 114, idx_to_remove: 114\n",
      "[genericNeuralNet.py:911 - grad_influence_wrt_input() ] calculating grad_influence_wrt_input\n",
      "[Progress.py:231 - get_grad_of_influence_wrt_input() ] Looping over training points. Counter: 115, idx_to_remove: 115\n",
      "[genericNeuralNet.py:911 - grad_influence_wrt_input() ] calculating grad_influence_wrt_input\n",
      "[Progress.py:231 - get_grad_of_influence_wrt_input() ] Looping over training points. Counter: 116, idx_to_remove: 116\n",
      "[genericNeuralNet.py:911 - grad_influence_wrt_input() ] calculating grad_influence_wrt_input\n",
      "[Progress.py:231 - get_grad_of_influence_wrt_input() ] Looping over training points. Counter: 117, idx_to_remove: 117\n",
      "[genericNeuralNet.py:911 - grad_influence_wrt_input() ] calculating grad_influence_wrt_input\n",
      "[Progress.py:231 - get_grad_of_influence_wrt_input() ] Looping over training points. Counter: 118, idx_to_remove: 118\n",
      "[genericNeuralNet.py:911 - grad_influence_wrt_input() ] calculating grad_influence_wrt_input\n",
      "[Progress.py:231 - get_grad_of_influence_wrt_input() ] Looping over training points. Counter: 119, idx_to_remove: 119\n",
      "[genericNeuralNet.py:911 - grad_influence_wrt_input() ] calculating grad_influence_wrt_input\n",
      "[Progress.py:231 - get_grad_of_influence_wrt_input() ] Looping over training points. Counter: 120, idx_to_remove: 120\n",
      "[genericNeuralNet.py:911 - grad_influence_wrt_input() ] calculating grad_influence_wrt_input\n",
      "[Progress.py:231 - get_grad_of_influence_wrt_input() ] Looping over training points. Counter: 121, idx_to_remove: 121\n",
      "[genericNeuralNet.py:911 - grad_influence_wrt_input() ] calculating grad_influence_wrt_input\n",
      "[Progress.py:231 - get_grad_of_influence_wrt_input() ] Looping over training points. Counter: 122, idx_to_remove: 122\n",
      "[genericNeuralNet.py:911 - grad_influence_wrt_input() ] calculating grad_influence_wrt_input\n",
      "[Progress.py:231 - get_grad_of_influence_wrt_input() ] Looping over training points. Counter: 123, idx_to_remove: 123\n",
      "[genericNeuralNet.py:911 - grad_influence_wrt_input() ] calculating grad_influence_wrt_input\n",
      "[Progress.py:231 - get_grad_of_influence_wrt_input() ] Looping over training points. Counter: 124, idx_to_remove: 124\n",
      "[genericNeuralNet.py:911 - grad_influence_wrt_input() ] calculating grad_influence_wrt_input\n",
      "[Progress.py:231 - get_grad_of_influence_wrt_input() ] Looping over training points. Counter: 125, idx_to_remove: 125\n",
      "[genericNeuralNet.py:911 - grad_influence_wrt_input() ] calculating grad_influence_wrt_input\n",
      "[Progress.py:231 - get_grad_of_influence_wrt_input() ] Looping over training points. Counter: 126, idx_to_remove: 126\n",
      "[genericNeuralNet.py:911 - grad_influence_wrt_input() ] calculating grad_influence_wrt_input\n",
      "[Progress.py:231 - get_grad_of_influence_wrt_input() ] Looping over training points. Counter: 127, idx_to_remove: 127\n",
      "[genericNeuralNet.py:911 - grad_influence_wrt_input() ] calculating grad_influence_wrt_input\n",
      "[Progress.py:231 - get_grad_of_influence_wrt_input() ] Looping over training points. Counter: 128, idx_to_remove: 128\n",
      "[genericNeuralNet.py:911 - grad_influence_wrt_input() ] calculating grad_influence_wrt_input\n",
      "[Progress.py:231 - get_grad_of_influence_wrt_input() ] Looping over training points. Counter: 129, idx_to_remove: 129\n",
      "[genericNeuralNet.py:911 - grad_influence_wrt_input() ] calculating grad_influence_wrt_input\n",
      "[Progress.py:231 - get_grad_of_influence_wrt_input() ] Looping over training points. Counter: 130, idx_to_remove: 130\n",
      "[genericNeuralNet.py:911 - grad_influence_wrt_input() ] calculating grad_influence_wrt_input\n",
      "[Progress.py:231 - get_grad_of_influence_wrt_input() ] Looping over training points. Counter: 131, idx_to_remove: 131\n",
      "[genericNeuralNet.py:911 - grad_influence_wrt_input() ] calculating grad_influence_wrt_input\n",
      "[Progress.py:231 - get_grad_of_influence_wrt_input() ] Looping over training points. Counter: 132, idx_to_remove: 132\n",
      "[genericNeuralNet.py:911 - grad_influence_wrt_input() ] calculating grad_influence_wrt_input\n",
      "[Progress.py:231 - get_grad_of_influence_wrt_input() ] Looping over training points. Counter: 133, idx_to_remove: 133\n",
      "[genericNeuralNet.py:911 - grad_influence_wrt_input() ] calculating grad_influence_wrt_input\n",
      "[Progress.py:231 - get_grad_of_influence_wrt_input() ] Looping over training points. Counter: 134, idx_to_remove: 134\n",
      "[genericNeuralNet.py:911 - grad_influence_wrt_input() ] calculating grad_influence_wrt_input\n",
      "[Progress.py:231 - get_grad_of_influence_wrt_input() ] Looping over training points. Counter: 135, idx_to_remove: 135\n",
      "[genericNeuralNet.py:911 - grad_influence_wrt_input() ] calculating grad_influence_wrt_input\n",
      "[Progress.py:231 - get_grad_of_influence_wrt_input() ] Looping over training points. Counter: 136, idx_to_remove: 136\n",
      "[genericNeuralNet.py:911 - grad_influence_wrt_input() ] calculating grad_influence_wrt_input\n",
      "[Progress.py:231 - get_grad_of_influence_wrt_input() ] Looping over training points. Counter: 137, idx_to_remove: 137\n",
      "[genericNeuralNet.py:911 - grad_influence_wrt_input() ] calculating grad_influence_wrt_input\n",
      "[Progress.py:231 - get_grad_of_influence_wrt_input() ] Looping over training points. Counter: 138, idx_to_remove: 138\n",
      "[genericNeuralNet.py:911 - grad_influence_wrt_input() ] calculating grad_influence_wrt_input\n",
      "[Progress.py:231 - get_grad_of_influence_wrt_input() ] Looping over training points. Counter: 139, idx_to_remove: 139\n",
      "[genericNeuralNet.py:911 - grad_influence_wrt_input() ] calculating grad_influence_wrt_input\n",
      "[Progress.py:231 - get_grad_of_influence_wrt_input() ] Looping over training points. Counter: 140, idx_to_remove: 140\n",
      "[genericNeuralNet.py:911 - grad_influence_wrt_input() ] calculating grad_influence_wrt_input\n",
      "[Progress.py:231 - get_grad_of_influence_wrt_input() ] Looping over training points. Counter: 141, idx_to_remove: 141\n",
      "[genericNeuralNet.py:911 - grad_influence_wrt_input() ] calculating grad_influence_wrt_input\n",
      "[Progress.py:231 - get_grad_of_influence_wrt_input() ] Looping over training points. Counter: 142, idx_to_remove: 142\n",
      "[genericNeuralNet.py:911 - grad_influence_wrt_input() ] calculating grad_influence_wrt_input\n",
      "[Progress.py:231 - get_grad_of_influence_wrt_input() ] Looping over training points. Counter: 143, idx_to_remove: 143\n",
      "[genericNeuralNet.py:911 - grad_influence_wrt_input() ] calculating grad_influence_wrt_input\n",
      "[Progress.py:231 - get_grad_of_influence_wrt_input() ] Looping over training points. Counter: 144, idx_to_remove: 144\n",
      "[genericNeuralNet.py:911 - grad_influence_wrt_input() ] calculating grad_influence_wrt_input\n",
      "[Progress.py:231 - get_grad_of_influence_wrt_input() ] Looping over training points. Counter: 145, idx_to_remove: 145\n",
      "[genericNeuralNet.py:911 - grad_influence_wrt_input() ] calculating grad_influence_wrt_input\n",
      "[Progress.py:231 - get_grad_of_influence_wrt_input() ] Looping over training points. Counter: 146, idx_to_remove: 146\n",
      "[genericNeuralNet.py:911 - grad_influence_wrt_input() ] calculating grad_influence_wrt_input\n",
      "[Progress.py:231 - get_grad_of_influence_wrt_input() ] Looping over training points. Counter: 147, idx_to_remove: 147\n",
      "[genericNeuralNet.py:911 - grad_influence_wrt_input() ] calculating grad_influence_wrt_input\n",
      "[Progress.py:231 - get_grad_of_influence_wrt_input() ] Looping over training points. Counter: 148, idx_to_remove: 148\n",
      "[genericNeuralNet.py:911 - grad_influence_wrt_input() ] calculating grad_influence_wrt_input\n",
      "[Progress.py:231 - get_grad_of_influence_wrt_input() ] Looping over training points. Counter: 149, idx_to_remove: 149\n",
      "[genericNeuralNet.py:911 - grad_influence_wrt_input() ] calculating grad_influence_wrt_input\n",
      "[Progress.py:231 - get_grad_of_influence_wrt_input() ] Looping over training points. Counter: 150, idx_to_remove: 150\n",
      "[genericNeuralNet.py:911 - grad_influence_wrt_input() ] calculating grad_influence_wrt_input\n",
      "[Progress.py:231 - get_grad_of_influence_wrt_input() ] Looping over training points. Counter: 151, idx_to_remove: 151\n",
      "[genericNeuralNet.py:911 - grad_influence_wrt_input() ] calculating grad_influence_wrt_input\n",
      "[Progress.py:231 - get_grad_of_influence_wrt_input() ] Looping over training points. Counter: 152, idx_to_remove: 152\n",
      "[genericNeuralNet.py:911 - grad_influence_wrt_input() ] calculating grad_influence_wrt_input\n",
      "[Progress.py:231 - get_grad_of_influence_wrt_input() ] Looping over training points. Counter: 153, idx_to_remove: 153\n",
      "[genericNeuralNet.py:911 - grad_influence_wrt_input() ] calculating grad_influence_wrt_input\n",
      "[Progress.py:231 - get_grad_of_influence_wrt_input() ] Looping over training points. Counter: 154, idx_to_remove: 154\n",
      "[genericNeuralNet.py:911 - grad_influence_wrt_input() ] calculating grad_influence_wrt_input\n",
      "[Progress.py:231 - get_grad_of_influence_wrt_input() ] Looping over training points. Counter: 155, idx_to_remove: 155\n",
      "[genericNeuralNet.py:911 - grad_influence_wrt_input() ] calculating grad_influence_wrt_input\n",
      "[Progress.py:231 - get_grad_of_influence_wrt_input() ] Looping over training points. Counter: 156, idx_to_remove: 156\n",
      "[genericNeuralNet.py:911 - grad_influence_wrt_input() ] calculating grad_influence_wrt_input\n",
      "[Progress.py:231 - get_grad_of_influence_wrt_input() ] Looping over training points. Counter: 157, idx_to_remove: 157\n",
      "[genericNeuralNet.py:911 - grad_influence_wrt_input() ] calculating grad_influence_wrt_input\n",
      "[Progress.py:231 - get_grad_of_influence_wrt_input() ] Looping over training points. Counter: 158, idx_to_remove: 158\n",
      "[genericNeuralNet.py:911 - grad_influence_wrt_input() ] calculating grad_influence_wrt_input\n",
      "[Progress.py:231 - get_grad_of_influence_wrt_input() ] Looping over training points. Counter: 159, idx_to_remove: 159\n",
      "[genericNeuralNet.py:911 - grad_influence_wrt_input() ] calculating grad_influence_wrt_input\n",
      "[Progress.py:231 - get_grad_of_influence_wrt_input() ] Looping over training points. Counter: 160, idx_to_remove: 160\n",
      "[genericNeuralNet.py:911 - grad_influence_wrt_input() ] calculating grad_influence_wrt_input\n",
      "[Progress.py:231 - get_grad_of_influence_wrt_input() ] Looping over training points. Counter: 161, idx_to_remove: 161\n",
      "[genericNeuralNet.py:911 - grad_influence_wrt_input() ] calculating grad_influence_wrt_input\n",
      "[Progress.py:231 - get_grad_of_influence_wrt_input() ] Looping over training points. Counter: 162, idx_to_remove: 162\n",
      "[genericNeuralNet.py:911 - grad_influence_wrt_input() ] calculating grad_influence_wrt_input\n",
      "[Progress.py:231 - get_grad_of_influence_wrt_input() ] Looping over training points. Counter: 163, idx_to_remove: 163\n",
      "[genericNeuralNet.py:911 - grad_influence_wrt_input() ] calculating grad_influence_wrt_input\n",
      "[Progress.py:231 - get_grad_of_influence_wrt_input() ] Looping over training points. Counter: 164, idx_to_remove: 164\n",
      "[genericNeuralNet.py:911 - grad_influence_wrt_input() ] calculating grad_influence_wrt_input\n",
      "[Progress.py:231 - get_grad_of_influence_wrt_input() ] Looping over training points. Counter: 165, idx_to_remove: 165\n",
      "[genericNeuralNet.py:911 - grad_influence_wrt_input() ] calculating grad_influence_wrt_input\n",
      "[Progress.py:231 - get_grad_of_influence_wrt_input() ] Looping over training points. Counter: 166, idx_to_remove: 166\n",
      "[genericNeuralNet.py:911 - grad_influence_wrt_input() ] calculating grad_influence_wrt_input\n",
      "[Progress.py:231 - get_grad_of_influence_wrt_input() ] Looping over training points. Counter: 167, idx_to_remove: 167\n",
      "[genericNeuralNet.py:911 - grad_influence_wrt_input() ] calculating grad_influence_wrt_input\n",
      "[Progress.py:231 - get_grad_of_influence_wrt_input() ] Looping over training points. Counter: 168, idx_to_remove: 168\n",
      "[genericNeuralNet.py:911 - grad_influence_wrt_input() ] calculating grad_influence_wrt_input\n",
      "[Progress.py:231 - get_grad_of_influence_wrt_input() ] Looping over training points. Counter: 169, idx_to_remove: 169\n",
      "[genericNeuralNet.py:911 - grad_influence_wrt_input() ] calculating grad_influence_wrt_input\n",
      "[Progress.py:231 - get_grad_of_influence_wrt_input() ] Looping over training points. Counter: 170, idx_to_remove: 170\n",
      "[genericNeuralNet.py:911 - grad_influence_wrt_input() ] calculating grad_influence_wrt_input\n",
      "[Progress.py:231 - get_grad_of_influence_wrt_input() ] Looping over training points. Counter: 171, idx_to_remove: 171\n",
      "[genericNeuralNet.py:911 - grad_influence_wrt_input() ] calculating grad_influence_wrt_input\n",
      "[Progress.py:231 - get_grad_of_influence_wrt_input() ] Looping over training points. Counter: 172, idx_to_remove: 172\n",
      "[genericNeuralNet.py:911 - grad_influence_wrt_input() ] calculating grad_influence_wrt_input\n",
      "[Progress.py:231 - get_grad_of_influence_wrt_input() ] Looping over training points. Counter: 173, idx_to_remove: 173\n",
      "[genericNeuralNet.py:911 - grad_influence_wrt_input() ] calculating grad_influence_wrt_input\n",
      "[Progress.py:231 - get_grad_of_influence_wrt_input() ] Looping over training points. Counter: 174, idx_to_remove: 174\n",
      "[genericNeuralNet.py:911 - grad_influence_wrt_input() ] calculating grad_influence_wrt_input\n",
      "[Progress.py:231 - get_grad_of_influence_wrt_input() ] Looping over training points. Counter: 175, idx_to_remove: 175\n",
      "[genericNeuralNet.py:911 - grad_influence_wrt_input() ] calculating grad_influence_wrt_input\n",
      "[Progress.py:231 - get_grad_of_influence_wrt_input() ] Looping over training points. Counter: 176, idx_to_remove: 176\n",
      "[genericNeuralNet.py:911 - grad_influence_wrt_input() ] calculating grad_influence_wrt_input\n",
      "[Progress.py:231 - get_grad_of_influence_wrt_input() ] Looping over training points. Counter: 177, idx_to_remove: 177\n",
      "[genericNeuralNet.py:911 - grad_influence_wrt_input() ] calculating grad_influence_wrt_input\n",
      "[Progress.py:231 - get_grad_of_influence_wrt_input() ] Looping over training points. Counter: 178, idx_to_remove: 178\n",
      "[genericNeuralNet.py:911 - grad_influence_wrt_input() ] calculating grad_influence_wrt_input\n",
      "[Progress.py:231 - get_grad_of_influence_wrt_input() ] Looping over training points. Counter: 179, idx_to_remove: 179\n",
      "[genericNeuralNet.py:911 - grad_influence_wrt_input() ] calculating grad_influence_wrt_input\n",
      "[Progress.py:231 - get_grad_of_influence_wrt_input() ] Looping over training points. Counter: 180, idx_to_remove: 180\n",
      "[genericNeuralNet.py:911 - grad_influence_wrt_input() ] calculating grad_influence_wrt_input\n",
      "[Progress.py:231 - get_grad_of_influence_wrt_input() ] Looping over training points. Counter: 181, idx_to_remove: 181\n",
      "[genericNeuralNet.py:911 - grad_influence_wrt_input() ] calculating grad_influence_wrt_input\n",
      "[Progress.py:231 - get_grad_of_influence_wrt_input() ] Looping over training points. Counter: 182, idx_to_remove: 182\n",
      "[genericNeuralNet.py:911 - grad_influence_wrt_input() ] calculating grad_influence_wrt_input\n",
      "[Progress.py:231 - get_grad_of_influence_wrt_input() ] Looping over training points. Counter: 183, idx_to_remove: 183\n",
      "[genericNeuralNet.py:911 - grad_influence_wrt_input() ] calculating grad_influence_wrt_input\n",
      "[Progress.py:231 - get_grad_of_influence_wrt_input() ] Looping over training points. Counter: 184, idx_to_remove: 184\n",
      "[genericNeuralNet.py:911 - grad_influence_wrt_input() ] calculating grad_influence_wrt_input\n",
      "[Progress.py:231 - get_grad_of_influence_wrt_input() ] Looping over training points. Counter: 185, idx_to_remove: 185\n",
      "[genericNeuralNet.py:911 - grad_influence_wrt_input() ] calculating grad_influence_wrt_input\n",
      "[Progress.py:231 - get_grad_of_influence_wrt_input() ] Looping over training points. Counter: 186, idx_to_remove: 186\n",
      "[genericNeuralNet.py:911 - grad_influence_wrt_input() ] calculating grad_influence_wrt_input\n",
      "[Progress.py:231 - get_grad_of_influence_wrt_input() ] Looping over training points. Counter: 187, idx_to_remove: 187\n",
      "[genericNeuralNet.py:911 - grad_influence_wrt_input() ] calculating grad_influence_wrt_input\n",
      "[Progress.py:231 - get_grad_of_influence_wrt_input() ] Looping over training points. Counter: 188, idx_to_remove: 188\n",
      "[genericNeuralNet.py:911 - grad_influence_wrt_input() ] calculating grad_influence_wrt_input\n",
      "[Progress.py:231 - get_grad_of_influence_wrt_input() ] Looping over training points. Counter: 189, idx_to_remove: 189\n",
      "[genericNeuralNet.py:911 - grad_influence_wrt_input() ] calculating grad_influence_wrt_input\n",
      "[Progress.py:231 - get_grad_of_influence_wrt_input() ] Looping over training points. Counter: 190, idx_to_remove: 190\n",
      "[genericNeuralNet.py:911 - grad_influence_wrt_input() ] calculating grad_influence_wrt_input\n",
      "[Progress.py:231 - get_grad_of_influence_wrt_input() ] Looping over training points. Counter: 191, idx_to_remove: 191\n",
      "[genericNeuralNet.py:911 - grad_influence_wrt_input() ] calculating grad_influence_wrt_input\n",
      "[Progress.py:231 - get_grad_of_influence_wrt_input() ] Looping over training points. Counter: 192, idx_to_remove: 192\n",
      "[genericNeuralNet.py:911 - grad_influence_wrt_input() ] calculating grad_influence_wrt_input\n",
      "[Progress.py:231 - get_grad_of_influence_wrt_input() ] Looping over training points. Counter: 193, idx_to_remove: 193\n",
      "[genericNeuralNet.py:911 - grad_influence_wrt_input() ] calculating grad_influence_wrt_input\n",
      "[Progress.py:231 - get_grad_of_influence_wrt_input() ] Looping over training points. Counter: 194, idx_to_remove: 194\n",
      "[genericNeuralNet.py:911 - grad_influence_wrt_input() ] calculating grad_influence_wrt_input\n",
      "[Progress.py:231 - get_grad_of_influence_wrt_input() ] Looping over training points. Counter: 195, idx_to_remove: 195\n",
      "[genericNeuralNet.py:911 - grad_influence_wrt_input() ] calculating grad_influence_wrt_input\n",
      "[Progress.py:231 - get_grad_of_influence_wrt_input() ] Looping over training points. Counter: 196, idx_to_remove: 196\n",
      "[genericNeuralNet.py:911 - grad_influence_wrt_input() ] calculating grad_influence_wrt_input\n",
      "[Progress.py:231 - get_grad_of_influence_wrt_input() ] Looping over training points. Counter: 197, idx_to_remove: 197\n",
      "[genericNeuralNet.py:911 - grad_influence_wrt_input() ] calculating grad_influence_wrt_input\n",
      "[Progress.py:231 - get_grad_of_influence_wrt_input() ] Looping over training points. Counter: 198, idx_to_remove: 198\n",
      "[genericNeuralNet.py:911 - grad_influence_wrt_input() ] calculating grad_influence_wrt_input\n",
      "[Progress.py:231 - get_grad_of_influence_wrt_input() ] Looping over training points. Counter: 199, idx_to_remove: 199\n",
      "[genericNeuralNet.py:911 - grad_influence_wrt_input() ] calculating grad_influence_wrt_input\n",
      "[Progress.py:231 - get_grad_of_influence_wrt_input() ] Looping over training points. Counter: 200, idx_to_remove: 200\n",
      "[genericNeuralNet.py:911 - grad_influence_wrt_input() ] calculating grad_influence_wrt_input\n",
      "[Progress.py:231 - get_grad_of_influence_wrt_input() ] Looping over training points. Counter: 201, idx_to_remove: 201\n",
      "[genericNeuralNet.py:911 - grad_influence_wrt_input() ] calculating grad_influence_wrt_input\n",
      "[Progress.py:231 - get_grad_of_influence_wrt_input() ] Looping over training points. Counter: 202, idx_to_remove: 202\n",
      "[genericNeuralNet.py:911 - grad_influence_wrt_input() ] calculating grad_influence_wrt_input\n",
      "[Progress.py:231 - get_grad_of_influence_wrt_input() ] Looping over training points. Counter: 203, idx_to_remove: 203\n",
      "[genericNeuralNet.py:911 - grad_influence_wrt_input() ] calculating grad_influence_wrt_input\n",
      "[Progress.py:231 - get_grad_of_influence_wrt_input() ] Looping over training points. Counter: 204, idx_to_remove: 204\n",
      "[genericNeuralNet.py:911 - grad_influence_wrt_input() ] calculating grad_influence_wrt_input\n",
      "[Progress.py:231 - get_grad_of_influence_wrt_input() ] Looping over training points. Counter: 205, idx_to_remove: 205\n",
      "[genericNeuralNet.py:911 - grad_influence_wrt_input() ] calculating grad_influence_wrt_input\n",
      "[Progress.py:231 - get_grad_of_influence_wrt_input() ] Looping over training points. Counter: 206, idx_to_remove: 206\n",
      "[genericNeuralNet.py:911 - grad_influence_wrt_input() ] calculating grad_influence_wrt_input\n",
      "[Progress.py:231 - get_grad_of_influence_wrt_input() ] Looping over training points. Counter: 207, idx_to_remove: 207\n",
      "[genericNeuralNet.py:911 - grad_influence_wrt_input() ] calculating grad_influence_wrt_input\n",
      "[Progress.py:231 - get_grad_of_influence_wrt_input() ] Looping over training points. Counter: 208, idx_to_remove: 208\n",
      "[genericNeuralNet.py:911 - grad_influence_wrt_input() ] calculating grad_influence_wrt_input\n",
      "[Progress.py:231 - get_grad_of_influence_wrt_input() ] Looping over training points. Counter: 209, idx_to_remove: 209\n",
      "[genericNeuralNet.py:911 - grad_influence_wrt_input() ] calculating grad_influence_wrt_input\n",
      "[Progress.py:231 - get_grad_of_influence_wrt_input() ] Looping over training points. Counter: 210, idx_to_remove: 210\n",
      "[genericNeuralNet.py:911 - grad_influence_wrt_input() ] calculating grad_influence_wrt_input\n",
      "[Progress.py:231 - get_grad_of_influence_wrt_input() ] Looping over training points. Counter: 211, idx_to_remove: 211\n",
      "[genericNeuralNet.py:911 - grad_influence_wrt_input() ] calculating grad_influence_wrt_input\n",
      "[Progress.py:231 - get_grad_of_influence_wrt_input() ] Looping over training points. Counter: 212, idx_to_remove: 212\n",
      "[genericNeuralNet.py:911 - grad_influence_wrt_input() ] calculating grad_influence_wrt_input\n",
      "[Progress.py:231 - get_grad_of_influence_wrt_input() ] Looping over training points. Counter: 213, idx_to_remove: 213\n",
      "[genericNeuralNet.py:911 - grad_influence_wrt_input() ] calculating grad_influence_wrt_input\n",
      "[Progress.py:231 - get_grad_of_influence_wrt_input() ] Looping over training points. Counter: 214, idx_to_remove: 214\n",
      "[genericNeuralNet.py:911 - grad_influence_wrt_input() ] calculating grad_influence_wrt_input\n",
      "[Progress.py:231 - get_grad_of_influence_wrt_input() ] Looping over training points. Counter: 215, idx_to_remove: 215\n",
      "[genericNeuralNet.py:911 - grad_influence_wrt_input() ] calculating grad_influence_wrt_input\n",
      "[Progress.py:231 - get_grad_of_influence_wrt_input() ] Looping over training points. Counter: 216, idx_to_remove: 216\n",
      "[genericNeuralNet.py:911 - grad_influence_wrt_input() ] calculating grad_influence_wrt_input\n",
      "[Progress.py:231 - get_grad_of_influence_wrt_input() ] Looping over training points. Counter: 217, idx_to_remove: 217\n",
      "[genericNeuralNet.py:911 - grad_influence_wrt_input() ] calculating grad_influence_wrt_input\n",
      "[Progress.py:231 - get_grad_of_influence_wrt_input() ] Looping over training points. Counter: 218, idx_to_remove: 218\n",
      "[genericNeuralNet.py:911 - grad_influence_wrt_input() ] calculating grad_influence_wrt_input\n",
      "[Progress.py:231 - get_grad_of_influence_wrt_input() ] Looping over training points. Counter: 219, idx_to_remove: 219\n",
      "[genericNeuralNet.py:911 - grad_influence_wrt_input() ] calculating grad_influence_wrt_input\n",
      "[Progress.py:231 - get_grad_of_influence_wrt_input() ] Looping over training points. Counter: 220, idx_to_remove: 220\n",
      "[genericNeuralNet.py:911 - grad_influence_wrt_input() ] calculating grad_influence_wrt_input\n",
      "[Progress.py:231 - get_grad_of_influence_wrt_input() ] Looping over training points. Counter: 221, idx_to_remove: 221\n",
      "[genericNeuralNet.py:911 - grad_influence_wrt_input() ] calculating grad_influence_wrt_input\n",
      "[Progress.py:231 - get_grad_of_influence_wrt_input() ] Looping over training points. Counter: 222, idx_to_remove: 222\n",
      "[genericNeuralNet.py:911 - grad_influence_wrt_input() ] calculating grad_influence_wrt_input\n",
      "[Progress.py:231 - get_grad_of_influence_wrt_input() ] Looping over training points. Counter: 223, idx_to_remove: 223\n",
      "[genericNeuralNet.py:911 - grad_influence_wrt_input() ] calculating grad_influence_wrt_input\n",
      "[Progress.py:231 - get_grad_of_influence_wrt_input() ] Looping over training points. Counter: 224, idx_to_remove: 224\n",
      "[genericNeuralNet.py:911 - grad_influence_wrt_input() ] calculating grad_influence_wrt_input\n",
      "[Progress.py:231 - get_grad_of_influence_wrt_input() ] Looping over training points. Counter: 225, idx_to_remove: 225\n",
      "[genericNeuralNet.py:911 - grad_influence_wrt_input() ] calculating grad_influence_wrt_input\n",
      "[Progress.py:231 - get_grad_of_influence_wrt_input() ] Looping over training points. Counter: 226, idx_to_remove: 226\n",
      "[genericNeuralNet.py:911 - grad_influence_wrt_input() ] calculating grad_influence_wrt_input\n",
      "[Progress.py:231 - get_grad_of_influence_wrt_input() ] Looping over training points. Counter: 227, idx_to_remove: 227\n",
      "[genericNeuralNet.py:911 - grad_influence_wrt_input() ] calculating grad_influence_wrt_input\n",
      "[Progress.py:231 - get_grad_of_influence_wrt_input() ] Looping over training points. Counter: 228, idx_to_remove: 228\n",
      "[genericNeuralNet.py:911 - grad_influence_wrt_input() ] calculating grad_influence_wrt_input\n",
      "[Progress.py:231 - get_grad_of_influence_wrt_input() ] Looping over training points. Counter: 229, idx_to_remove: 229\n",
      "[genericNeuralNet.py:911 - grad_influence_wrt_input() ] calculating grad_influence_wrt_input\n",
      "[Progress.py:231 - get_grad_of_influence_wrt_input() ] Looping over training points. Counter: 230, idx_to_remove: 230\n",
      "[genericNeuralNet.py:911 - grad_influence_wrt_input() ] calculating grad_influence_wrt_input\n",
      "[Progress.py:231 - get_grad_of_influence_wrt_input() ] Looping over training points. Counter: 231, idx_to_remove: 231\n",
      "[genericNeuralNet.py:911 - grad_influence_wrt_input() ] calculating grad_influence_wrt_input\n",
      "[Progress.py:231 - get_grad_of_influence_wrt_input() ] Looping over training points. Counter: 232, idx_to_remove: 232\n",
      "[genericNeuralNet.py:911 - grad_influence_wrt_input() ] calculating grad_influence_wrt_input\n",
      "[Progress.py:231 - get_grad_of_influence_wrt_input() ] Looping over training points. Counter: 233, idx_to_remove: 233\n",
      "[genericNeuralNet.py:911 - grad_influence_wrt_input() ] calculating grad_influence_wrt_input\n",
      "[Progress.py:231 - get_grad_of_influence_wrt_input() ] Looping over training points. Counter: 234, idx_to_remove: 234\n",
      "[genericNeuralNet.py:911 - grad_influence_wrt_input() ] calculating grad_influence_wrt_input\n",
      "[Progress.py:231 - get_grad_of_influence_wrt_input() ] Looping over training points. Counter: 235, idx_to_remove: 235\n",
      "[genericNeuralNet.py:911 - grad_influence_wrt_input() ] calculating grad_influence_wrt_input\n",
      "[Progress.py:231 - get_grad_of_influence_wrt_input() ] Looping over training points. Counter: 236, idx_to_remove: 236\n",
      "[genericNeuralNet.py:911 - grad_influence_wrt_input() ] calculating grad_influence_wrt_input\n",
      "[Progress.py:231 - get_grad_of_influence_wrt_input() ] Looping over training points. Counter: 237, idx_to_remove: 237\n",
      "[genericNeuralNet.py:911 - grad_influence_wrt_input() ] calculating grad_influence_wrt_input\n",
      "[Progress.py:231 - get_grad_of_influence_wrt_input() ] Looping over training points. Counter: 238, idx_to_remove: 238\n",
      "[genericNeuralNet.py:911 - grad_influence_wrt_input() ] calculating grad_influence_wrt_input\n",
      "[Progress.py:231 - get_grad_of_influence_wrt_input() ] Looping over training points. Counter: 239, idx_to_remove: 239\n",
      "[genericNeuralNet.py:911 - grad_influence_wrt_input() ] calculating grad_influence_wrt_input\n",
      "[Progress.py:231 - get_grad_of_influence_wrt_input() ] Looping over training points. Counter: 240, idx_to_remove: 240\n",
      "[genericNeuralNet.py:911 - grad_influence_wrt_input() ] calculating grad_influence_wrt_input\n",
      "[Progress.py:231 - get_grad_of_influence_wrt_input() ] Looping over training points. Counter: 241, idx_to_remove: 241\n",
      "[genericNeuralNet.py:911 - grad_influence_wrt_input() ] calculating grad_influence_wrt_input\n",
      "[Progress.py:231 - get_grad_of_influence_wrt_input() ] Looping over training points. Counter: 242, idx_to_remove: 242\n",
      "[genericNeuralNet.py:911 - grad_influence_wrt_input() ] calculating grad_influence_wrt_input\n",
      "[Progress.py:231 - get_grad_of_influence_wrt_input() ] Looping over training points. Counter: 243, idx_to_remove: 243\n",
      "[genericNeuralNet.py:911 - grad_influence_wrt_input() ] calculating grad_influence_wrt_input\n",
      "[Progress.py:231 - get_grad_of_influence_wrt_input() ] Looping over training points. Counter: 244, idx_to_remove: 244\n",
      "[genericNeuralNet.py:911 - grad_influence_wrt_input() ] calculating grad_influence_wrt_input\n",
      "[Progress.py:231 - get_grad_of_influence_wrt_input() ] Looping over training points. Counter: 245, idx_to_remove: 245\n",
      "[genericNeuralNet.py:911 - grad_influence_wrt_input() ] calculating grad_influence_wrt_input\n",
      "[Progress.py:231 - get_grad_of_influence_wrt_input() ] Looping over training points. Counter: 246, idx_to_remove: 246\n",
      "[genericNeuralNet.py:911 - grad_influence_wrt_input() ] calculating grad_influence_wrt_input\n",
      "[Progress.py:231 - get_grad_of_influence_wrt_input() ] Looping over training points. Counter: 247, idx_to_remove: 247\n",
      "[genericNeuralNet.py:911 - grad_influence_wrt_input() ] calculating grad_influence_wrt_input\n",
      "[Progress.py:231 - get_grad_of_influence_wrt_input() ] Looping over training points. Counter: 248, idx_to_remove: 248\n",
      "[genericNeuralNet.py:911 - grad_influence_wrt_input() ] calculating grad_influence_wrt_input\n",
      "[Progress.py:231 - get_grad_of_influence_wrt_input() ] Looping over training points. Counter: 249, idx_to_remove: 249\n",
      "[genericNeuralNet.py:911 - grad_influence_wrt_input() ] calculating grad_influence_wrt_input\n",
      "[Progress.py:231 - get_grad_of_influence_wrt_input() ] Looping over training points. Counter: 250, idx_to_remove: 250\n",
      "[genericNeuralNet.py:911 - grad_influence_wrt_input() ] calculating grad_influence_wrt_input\n",
      "[Progress.py:231 - get_grad_of_influence_wrt_input() ] Looping over training points. Counter: 251, idx_to_remove: 251\n",
      "[genericNeuralNet.py:911 - grad_influence_wrt_input() ] calculating grad_influence_wrt_input\n",
      "[Progress.py:231 - get_grad_of_influence_wrt_input() ] Looping over training points. Counter: 252, idx_to_remove: 252\n",
      "[genericNeuralNet.py:911 - grad_influence_wrt_input() ] calculating grad_influence_wrt_input\n",
      "[Progress.py:231 - get_grad_of_influence_wrt_input() ] Looping over training points. Counter: 253, idx_to_remove: 253\n",
      "[genericNeuralNet.py:911 - grad_influence_wrt_input() ] calculating grad_influence_wrt_input\n",
      "[Progress.py:231 - get_grad_of_influence_wrt_input() ] Looping over training points. Counter: 254, idx_to_remove: 254\n",
      "[genericNeuralNet.py:911 - grad_influence_wrt_input() ] calculating grad_influence_wrt_input\n",
      "[Progress.py:231 - get_grad_of_influence_wrt_input() ] Looping over training points. Counter: 255, idx_to_remove: 255\n",
      "[genericNeuralNet.py:911 - grad_influence_wrt_input() ] calculating grad_influence_wrt_input\n",
      "[Progress.py:231 - get_grad_of_influence_wrt_input() ] Looping over training points. Counter: 256, idx_to_remove: 256\n",
      "[genericNeuralNet.py:911 - grad_influence_wrt_input() ] calculating grad_influence_wrt_input\n",
      "[Progress.py:231 - get_grad_of_influence_wrt_input() ] Looping over training points. Counter: 257, idx_to_remove: 257\n",
      "[genericNeuralNet.py:911 - grad_influence_wrt_input() ] calculating grad_influence_wrt_input\n",
      "[Progress.py:231 - get_grad_of_influence_wrt_input() ] Looping over training points. Counter: 258, idx_to_remove: 258\n",
      "[genericNeuralNet.py:911 - grad_influence_wrt_input() ] calculating grad_influence_wrt_input\n",
      "[Progress.py:231 - get_grad_of_influence_wrt_input() ] Looping over training points. Counter: 259, idx_to_remove: 259\n",
      "[genericNeuralNet.py:911 - grad_influence_wrt_input() ] calculating grad_influence_wrt_input\n",
      "[Progress.py:231 - get_grad_of_influence_wrt_input() ] Looping over training points. Counter: 260, idx_to_remove: 260\n",
      "[genericNeuralNet.py:911 - grad_influence_wrt_input() ] calculating grad_influence_wrt_input\n",
      "[Progress.py:231 - get_grad_of_influence_wrt_input() ] Looping over training points. Counter: 261, idx_to_remove: 261\n",
      "[genericNeuralNet.py:911 - grad_influence_wrt_input() ] calculating grad_influence_wrt_input\n",
      "[Progress.py:231 - get_grad_of_influence_wrt_input() ] Looping over training points. Counter: 262, idx_to_remove: 262\n",
      "[genericNeuralNet.py:911 - grad_influence_wrt_input() ] calculating grad_influence_wrt_input\n",
      "[Progress.py:231 - get_grad_of_influence_wrt_input() ] Looping over training points. Counter: 263, idx_to_remove: 263\n",
      "[genericNeuralNet.py:911 - grad_influence_wrt_input() ] calculating grad_influence_wrt_input\n",
      "[Progress.py:231 - get_grad_of_influence_wrt_input() ] Looping over training points. Counter: 264, idx_to_remove: 264\n",
      "[genericNeuralNet.py:911 - grad_influence_wrt_input() ] calculating grad_influence_wrt_input\n",
      "[Progress.py:231 - get_grad_of_influence_wrt_input() ] Looping over training points. Counter: 265, idx_to_remove: 265\n",
      "[genericNeuralNet.py:911 - grad_influence_wrt_input() ] calculating grad_influence_wrt_input\n",
      "[Progress.py:231 - get_grad_of_influence_wrt_input() ] Looping over training points. Counter: 266, idx_to_remove: 266\n",
      "[genericNeuralNet.py:911 - grad_influence_wrt_input() ] calculating grad_influence_wrt_input\n",
      "[Progress.py:231 - get_grad_of_influence_wrt_input() ] Looping over training points. Counter: 267, idx_to_remove: 267\n",
      "[genericNeuralNet.py:911 - grad_influence_wrt_input() ] calculating grad_influence_wrt_input\n",
      "[Progress.py:231 - get_grad_of_influence_wrt_input() ] Looping over training points. Counter: 268, idx_to_remove: 268\n",
      "[genericNeuralNet.py:911 - grad_influence_wrt_input() ] calculating grad_influence_wrt_input\n",
      "[Progress.py:231 - get_grad_of_influence_wrt_input() ] Looping over training points. Counter: 269, idx_to_remove: 269\n",
      "[genericNeuralNet.py:911 - grad_influence_wrt_input() ] calculating grad_influence_wrt_input\n",
      "[Progress.py:231 - get_grad_of_influence_wrt_input() ] Looping over training points. Counter: 270, idx_to_remove: 270\n",
      "[genericNeuralNet.py:911 - grad_influence_wrt_input() ] calculating grad_influence_wrt_input\n",
      "[Progress.py:231 - get_grad_of_influence_wrt_input() ] Looping over training points. Counter: 271, idx_to_remove: 271\n",
      "[genericNeuralNet.py:911 - grad_influence_wrt_input() ] calculating grad_influence_wrt_input\n",
      "[Progress.py:231 - get_grad_of_influence_wrt_input() ] Looping over training points. Counter: 272, idx_to_remove: 272\n",
      "[genericNeuralNet.py:911 - grad_influence_wrt_input() ] calculating grad_influence_wrt_input\n",
      "[Progress.py:231 - get_grad_of_influence_wrt_input() ] Looping over training points. Counter: 273, idx_to_remove: 273\n",
      "[genericNeuralNet.py:911 - grad_influence_wrt_input() ] calculating grad_influence_wrt_input\n",
      "[Progress.py:231 - get_grad_of_influence_wrt_input() ] Looping over training points. Counter: 274, idx_to_remove: 274\n",
      "[genericNeuralNet.py:911 - grad_influence_wrt_input() ] calculating grad_influence_wrt_input\n",
      "[Progress.py:231 - get_grad_of_influence_wrt_input() ] Looping over training points. Counter: 275, idx_to_remove: 275\n",
      "[genericNeuralNet.py:911 - grad_influence_wrt_input() ] calculating grad_influence_wrt_input\n",
      "[Progress.py:231 - get_grad_of_influence_wrt_input() ] Looping over training points. Counter: 276, idx_to_remove: 276\n",
      "[genericNeuralNet.py:911 - grad_influence_wrt_input() ] calculating grad_influence_wrt_input\n",
      "[Progress.py:231 - get_grad_of_influence_wrt_input() ] Looping over training points. Counter: 277, idx_to_remove: 277\n",
      "[genericNeuralNet.py:911 - grad_influence_wrt_input() ] calculating grad_influence_wrt_input\n",
      "[Progress.py:231 - get_grad_of_influence_wrt_input() ] Looping over training points. Counter: 278, idx_to_remove: 278\n",
      "[genericNeuralNet.py:911 - grad_influence_wrt_input() ] calculating grad_influence_wrt_input\n",
      "[Progress.py:231 - get_grad_of_influence_wrt_input() ] Looping over training points. Counter: 279, idx_to_remove: 279\n",
      "[genericNeuralNet.py:911 - grad_influence_wrt_input() ] calculating grad_influence_wrt_input\n",
      "[Progress.py:231 - get_grad_of_influence_wrt_input() ] Looping over training points. Counter: 280, idx_to_remove: 280\n",
      "[genericNeuralNet.py:911 - grad_influence_wrt_input() ] calculating grad_influence_wrt_input\n",
      "[Progress.py:231 - get_grad_of_influence_wrt_input() ] Looping over training points. Counter: 281, idx_to_remove: 281\n",
      "[genericNeuralNet.py:911 - grad_influence_wrt_input() ] calculating grad_influence_wrt_input\n",
      "[Progress.py:231 - get_grad_of_influence_wrt_input() ] Looping over training points. Counter: 282, idx_to_remove: 282\n",
      "[genericNeuralNet.py:911 - grad_influence_wrt_input() ] calculating grad_influence_wrt_input\n",
      "[Progress.py:231 - get_grad_of_influence_wrt_input() ] Looping over training points. Counter: 283, idx_to_remove: 283\n",
      "[genericNeuralNet.py:911 - grad_influence_wrt_input() ] calculating grad_influence_wrt_input\n",
      "[Progress.py:231 - get_grad_of_influence_wrt_input() ] Looping over training points. Counter: 284, idx_to_remove: 284\n",
      "[genericNeuralNet.py:911 - grad_influence_wrt_input() ] calculating grad_influence_wrt_input\n",
      "[Progress.py:231 - get_grad_of_influence_wrt_input() ] Looping over training points. Counter: 285, idx_to_remove: 285\n",
      "[genericNeuralNet.py:911 - grad_influence_wrt_input() ] calculating grad_influence_wrt_input\n",
      "[Progress.py:231 - get_grad_of_influence_wrt_input() ] Looping over training points. Counter: 286, idx_to_remove: 286\n",
      "[genericNeuralNet.py:911 - grad_influence_wrt_input() ] calculating grad_influence_wrt_input\n",
      "[Progress.py:231 - get_grad_of_influence_wrt_input() ] Looping over training points. Counter: 287, idx_to_remove: 287\n",
      "[genericNeuralNet.py:911 - grad_influence_wrt_input() ] calculating grad_influence_wrt_input\n",
      "[Progress.py:231 - get_grad_of_influence_wrt_input() ] Looping over training points. Counter: 288, idx_to_remove: 288\n",
      "[genericNeuralNet.py:911 - grad_influence_wrt_input() ] calculating grad_influence_wrt_input\n",
      "[Progress.py:231 - get_grad_of_influence_wrt_input() ] Looping over training points. Counter: 289, idx_to_remove: 289\n",
      "[genericNeuralNet.py:911 - grad_influence_wrt_input() ] calculating grad_influence_wrt_input\n",
      "[Progress.py:231 - get_grad_of_influence_wrt_input() ] Looping over training points. Counter: 290, idx_to_remove: 290\n",
      "[genericNeuralNet.py:911 - grad_influence_wrt_input() ] calculating grad_influence_wrt_input\n",
      "[Progress.py:231 - get_grad_of_influence_wrt_input() ] Looping over training points. Counter: 291, idx_to_remove: 291\n",
      "[genericNeuralNet.py:911 - grad_influence_wrt_input() ] calculating grad_influence_wrt_input\n",
      "[Progress.py:231 - get_grad_of_influence_wrt_input() ] Looping over training points. Counter: 292, idx_to_remove: 292\n",
      "[genericNeuralNet.py:911 - grad_influence_wrt_input() ] calculating grad_influence_wrt_input\n",
      "[Progress.py:231 - get_grad_of_influence_wrt_input() ] Looping over training points. Counter: 293, idx_to_remove: 293\n",
      "[genericNeuralNet.py:911 - grad_influence_wrt_input() ] calculating grad_influence_wrt_input\n",
      "[Progress.py:231 - get_grad_of_influence_wrt_input() ] Looping over training points. Counter: 294, idx_to_remove: 294\n",
      "[genericNeuralNet.py:911 - grad_influence_wrt_input() ] calculating grad_influence_wrt_input\n",
      "[Progress.py:231 - get_grad_of_influence_wrt_input() ] Looping over training points. Counter: 295, idx_to_remove: 295\n",
      "[genericNeuralNet.py:911 - grad_influence_wrt_input() ] calculating grad_influence_wrt_input\n",
      "[Progress.py:231 - get_grad_of_influence_wrt_input() ] Looping over training points. Counter: 296, idx_to_remove: 296\n",
      "[genericNeuralNet.py:911 - grad_influence_wrt_input() ] calculating grad_influence_wrt_input\n",
      "[Progress.py:231 - get_grad_of_influence_wrt_input() ] Looping over training points. Counter: 297, idx_to_remove: 297\n",
      "[genericNeuralNet.py:911 - grad_influence_wrt_input() ] calculating grad_influence_wrt_input\n",
      "[Progress.py:231 - get_grad_of_influence_wrt_input() ] Looping over training points. Counter: 298, idx_to_remove: 298\n",
      "[genericNeuralNet.py:911 - grad_influence_wrt_input() ] calculating grad_influence_wrt_input\n",
      "[Progress.py:231 - get_grad_of_influence_wrt_input() ] Looping over training points. Counter: 299, idx_to_remove: 299\n",
      "[genericNeuralNet.py:911 - grad_influence_wrt_input() ] calculating grad_influence_wrt_input\n",
      "[Progress.py:231 - get_grad_of_influence_wrt_input() ] Looping over training points. Counter: 300, idx_to_remove: 300\n",
      "[genericNeuralNet.py:911 - grad_influence_wrt_input() ] calculating grad_influence_wrt_input\n",
      "[Progress.py:231 - get_grad_of_influence_wrt_input() ] Looping over training points. Counter: 301, idx_to_remove: 301\n",
      "[genericNeuralNet.py:911 - grad_influence_wrt_input() ] calculating grad_influence_wrt_input\n",
      "[Progress.py:231 - get_grad_of_influence_wrt_input() ] Looping over training points. Counter: 302, idx_to_remove: 302\n",
      "[genericNeuralNet.py:911 - grad_influence_wrt_input() ] calculating grad_influence_wrt_input\n",
      "[Progress.py:231 - get_grad_of_influence_wrt_input() ] Looping over training points. Counter: 303, idx_to_remove: 303\n",
      "[genericNeuralNet.py:911 - grad_influence_wrt_input() ] calculating grad_influence_wrt_input\n",
      "[Progress.py:231 - get_grad_of_influence_wrt_input() ] Looping over training points. Counter: 304, idx_to_remove: 304\n",
      "[genericNeuralNet.py:911 - grad_influence_wrt_input() ] calculating grad_influence_wrt_input\n",
      "[Progress.py:231 - get_grad_of_influence_wrt_input() ] Looping over training points. Counter: 305, idx_to_remove: 305\n",
      "[genericNeuralNet.py:911 - grad_influence_wrt_input() ] calculating grad_influence_wrt_input\n",
      "[Progress.py:231 - get_grad_of_influence_wrt_input() ] Looping over training points. Counter: 306, idx_to_remove: 306\n",
      "[genericNeuralNet.py:911 - grad_influence_wrt_input() ] calculating grad_influence_wrt_input\n",
      "[Progress.py:231 - get_grad_of_influence_wrt_input() ] Looping over training points. Counter: 307, idx_to_remove: 307\n",
      "[genericNeuralNet.py:911 - grad_influence_wrt_input() ] calculating grad_influence_wrt_input\n",
      "[Progress.py:231 - get_grad_of_influence_wrt_input() ] Looping over training points. Counter: 308, idx_to_remove: 308\n",
      "[genericNeuralNet.py:911 - grad_influence_wrt_input() ] calculating grad_influence_wrt_input\n",
      "[Progress.py:231 - get_grad_of_influence_wrt_input() ] Looping over training points. Counter: 309, idx_to_remove: 309\n",
      "[genericNeuralNet.py:911 - grad_influence_wrt_input() ] calculating grad_influence_wrt_input\n",
      "[Progress.py:231 - get_grad_of_influence_wrt_input() ] Looping over training points. Counter: 310, idx_to_remove: 310\n",
      "[genericNeuralNet.py:911 - grad_influence_wrt_input() ] calculating grad_influence_wrt_input\n",
      "[Progress.py:231 - get_grad_of_influence_wrt_input() ] Looping over training points. Counter: 311, idx_to_remove: 311\n",
      "[genericNeuralNet.py:911 - grad_influence_wrt_input() ] calculating grad_influence_wrt_input\n",
      "[Progress.py:231 - get_grad_of_influence_wrt_input() ] Looping over training points. Counter: 312, idx_to_remove: 312\n",
      "[genericNeuralNet.py:911 - grad_influence_wrt_input() ] calculating grad_influence_wrt_input\n",
      "[Progress.py:231 - get_grad_of_influence_wrt_input() ] Looping over training points. Counter: 313, idx_to_remove: 313\n",
      "[genericNeuralNet.py:911 - grad_influence_wrt_input() ] calculating grad_influence_wrt_input\n",
      "[Progress.py:231 - get_grad_of_influence_wrt_input() ] Looping over training points. Counter: 314, idx_to_remove: 314\n",
      "[genericNeuralNet.py:911 - grad_influence_wrt_input() ] calculating grad_influence_wrt_input\n",
      "[Progress.py:231 - get_grad_of_influence_wrt_input() ] Looping over training points. Counter: 315, idx_to_remove: 315\n",
      "[genericNeuralNet.py:911 - grad_influence_wrt_input() ] calculating grad_influence_wrt_input\n",
      "[Progress.py:231 - get_grad_of_influence_wrt_input() ] Looping over training points. Counter: 316, idx_to_remove: 316\n",
      "[genericNeuralNet.py:911 - grad_influence_wrt_input() ] calculating grad_influence_wrt_input\n",
      "[Progress.py:231 - get_grad_of_influence_wrt_input() ] Looping over training points. Counter: 317, idx_to_remove: 317\n",
      "[genericNeuralNet.py:911 - grad_influence_wrt_input() ] calculating grad_influence_wrt_input\n",
      "[Progress.py:231 - get_grad_of_influence_wrt_input() ] Looping over training points. Counter: 318, idx_to_remove: 318\n",
      "[genericNeuralNet.py:911 - grad_influence_wrt_input() ] calculating grad_influence_wrt_input\n",
      "[Progress.py:231 - get_grad_of_influence_wrt_input() ] Looping over training points. Counter: 319, idx_to_remove: 319\n",
      "[genericNeuralNet.py:911 - grad_influence_wrt_input() ] calculating grad_influence_wrt_input\n",
      "[Progress.py:231 - get_grad_of_influence_wrt_input() ] Looping over training points. Counter: 320, idx_to_remove: 320\n",
      "[genericNeuralNet.py:911 - grad_influence_wrt_input() ] calculating grad_influence_wrt_input\n",
      "[Progress.py:231 - get_grad_of_influence_wrt_input() ] Looping over training points. Counter: 321, idx_to_remove: 321\n",
      "[genericNeuralNet.py:911 - grad_influence_wrt_input() ] calculating grad_influence_wrt_input\n",
      "[Progress.py:231 - get_grad_of_influence_wrt_input() ] Looping over training points. Counter: 322, idx_to_remove: 322\n",
      "[genericNeuralNet.py:911 - grad_influence_wrt_input() ] calculating grad_influence_wrt_input\n",
      "[Progress.py:231 - get_grad_of_influence_wrt_input() ] Looping over training points. Counter: 323, idx_to_remove: 323\n",
      "[genericNeuralNet.py:911 - grad_influence_wrt_input() ] calculating grad_influence_wrt_input\n",
      "[Progress.py:231 - get_grad_of_influence_wrt_input() ] Looping over training points. Counter: 324, idx_to_remove: 324\n",
      "[genericNeuralNet.py:911 - grad_influence_wrt_input() ] calculating grad_influence_wrt_input\n",
      "[Progress.py:231 - get_grad_of_influence_wrt_input() ] Looping over training points. Counter: 325, idx_to_remove: 325\n",
      "[genericNeuralNet.py:911 - grad_influence_wrt_input() ] calculating grad_influence_wrt_input\n",
      "[Progress.py:231 - get_grad_of_influence_wrt_input() ] Looping over training points. Counter: 326, idx_to_remove: 326\n",
      "[genericNeuralNet.py:911 - grad_influence_wrt_input() ] calculating grad_influence_wrt_input\n",
      "[Progress.py:231 - get_grad_of_influence_wrt_input() ] Looping over training points. Counter: 327, idx_to_remove: 327\n",
      "[genericNeuralNet.py:911 - grad_influence_wrt_input() ] calculating grad_influence_wrt_input\n",
      "[Progress.py:231 - get_grad_of_influence_wrt_input() ] Looping over training points. Counter: 328, idx_to_remove: 328\n",
      "[genericNeuralNet.py:911 - grad_influence_wrt_input() ] calculating grad_influence_wrt_input\n",
      "[Progress.py:231 - get_grad_of_influence_wrt_input() ] Looping over training points. Counter: 329, idx_to_remove: 329\n",
      "[genericNeuralNet.py:911 - grad_influence_wrt_input() ] calculating grad_influence_wrt_input\n",
      "[Progress.py:231 - get_grad_of_influence_wrt_input() ] Looping over training points. Counter: 330, idx_to_remove: 330\n",
      "[genericNeuralNet.py:911 - grad_influence_wrt_input() ] calculating grad_influence_wrt_input\n",
      "[Progress.py:231 - get_grad_of_influence_wrt_input() ] Looping over training points. Counter: 331, idx_to_remove: 331\n",
      "[genericNeuralNet.py:911 - grad_influence_wrt_input() ] calculating grad_influence_wrt_input\n",
      "[Progress.py:231 - get_grad_of_influence_wrt_input() ] Looping over training points. Counter: 332, idx_to_remove: 332\n",
      "[genericNeuralNet.py:911 - grad_influence_wrt_input() ] calculating grad_influence_wrt_input\n",
      "[Progress.py:231 - get_grad_of_influence_wrt_input() ] Looping over training points. Counter: 333, idx_to_remove: 333\n",
      "[genericNeuralNet.py:911 - grad_influence_wrt_input() ] calculating grad_influence_wrt_input\n",
      "[Progress.py:231 - get_grad_of_influence_wrt_input() ] Looping over training points. Counter: 334, idx_to_remove: 334\n",
      "[genericNeuralNet.py:911 - grad_influence_wrt_input() ] calculating grad_influence_wrt_input\n",
      "[Progress.py:231 - get_grad_of_influence_wrt_input() ] Looping over training points. Counter: 335, idx_to_remove: 335\n",
      "[genericNeuralNet.py:911 - grad_influence_wrt_input() ] calculating grad_influence_wrt_input\n",
      "[Progress.py:231 - get_grad_of_influence_wrt_input() ] Looping over training points. Counter: 336, idx_to_remove: 336\n",
      "[genericNeuralNet.py:911 - grad_influence_wrt_input() ] calculating grad_influence_wrt_input\n",
      "[Progress.py:231 - get_grad_of_influence_wrt_input() ] Looping over training points. Counter: 337, idx_to_remove: 337\n",
      "[genericNeuralNet.py:911 - grad_influence_wrt_input() ] calculating grad_influence_wrt_input\n",
      "[Progress.py:231 - get_grad_of_influence_wrt_input() ] Looping over training points. Counter: 338, idx_to_remove: 338\n",
      "[genericNeuralNet.py:911 - grad_influence_wrt_input() ] calculating grad_influence_wrt_input\n",
      "[Progress.py:231 - get_grad_of_influence_wrt_input() ] Looping over training points. Counter: 339, idx_to_remove: 339\n",
      "[genericNeuralNet.py:911 - grad_influence_wrt_input() ] calculating grad_influence_wrt_input\n",
      "[Progress.py:231 - get_grad_of_influence_wrt_input() ] Looping over training points. Counter: 340, idx_to_remove: 340\n",
      "[genericNeuralNet.py:911 - grad_influence_wrt_input() ] calculating grad_influence_wrt_input\n",
      "[Progress.py:231 - get_grad_of_influence_wrt_input() ] Looping over training points. Counter: 341, idx_to_remove: 341\n",
      "[genericNeuralNet.py:911 - grad_influence_wrt_input() ] calculating grad_influence_wrt_input\n",
      "[Progress.py:231 - get_grad_of_influence_wrt_input() ] Looping over training points. Counter: 342, idx_to_remove: 342\n",
      "[genericNeuralNet.py:911 - grad_influence_wrt_input() ] calculating grad_influence_wrt_input\n",
      "[Progress.py:231 - get_grad_of_influence_wrt_input() ] Looping over training points. Counter: 343, idx_to_remove: 343\n",
      "[genericNeuralNet.py:911 - grad_influence_wrt_input() ] calculating grad_influence_wrt_input\n",
      "[Progress.py:231 - get_grad_of_influence_wrt_input() ] Looping over training points. Counter: 344, idx_to_remove: 344\n",
      "[genericNeuralNet.py:911 - grad_influence_wrt_input() ] calculating grad_influence_wrt_input\n",
      "[Progress.py:231 - get_grad_of_influence_wrt_input() ] Looping over training points. Counter: 345, idx_to_remove: 345\n",
      "[genericNeuralNet.py:911 - grad_influence_wrt_input() ] calculating grad_influence_wrt_input\n",
      "[Progress.py:231 - get_grad_of_influence_wrt_input() ] Looping over training points. Counter: 346, idx_to_remove: 346\n",
      "[genericNeuralNet.py:911 - grad_influence_wrt_input() ] calculating grad_influence_wrt_input\n",
      "[Progress.py:231 - get_grad_of_influence_wrt_input() ] Looping over training points. Counter: 347, idx_to_remove: 347\n",
      "[genericNeuralNet.py:911 - grad_influence_wrt_input() ] calculating grad_influence_wrt_input\n",
      "[Progress.py:231 - get_grad_of_influence_wrt_input() ] Looping over training points. Counter: 348, idx_to_remove: 348\n",
      "[genericNeuralNet.py:911 - grad_influence_wrt_input() ] calculating grad_influence_wrt_input\n",
      "[Progress.py:231 - get_grad_of_influence_wrt_input() ] Looping over training points. Counter: 349, idx_to_remove: 349\n",
      "[genericNeuralNet.py:911 - grad_influence_wrt_input() ] calculating grad_influence_wrt_input\n",
      "[Progress.py:231 - get_grad_of_influence_wrt_input() ] Looping over training points. Counter: 350, idx_to_remove: 350\n",
      "[genericNeuralNet.py:911 - grad_influence_wrt_input() ] calculating grad_influence_wrt_input\n",
      "[Progress.py:231 - get_grad_of_influence_wrt_input() ] Looping over training points. Counter: 351, idx_to_remove: 351\n",
      "[genericNeuralNet.py:911 - grad_influence_wrt_input() ] calculating grad_influence_wrt_input\n",
      "[Progress.py:231 - get_grad_of_influence_wrt_input() ] Looping over training points. Counter: 352, idx_to_remove: 352\n",
      "[genericNeuralNet.py:911 - grad_influence_wrt_input() ] calculating grad_influence_wrt_input\n",
      "[Progress.py:231 - get_grad_of_influence_wrt_input() ] Looping over training points. Counter: 353, idx_to_remove: 353\n",
      "[genericNeuralNet.py:911 - grad_influence_wrt_input() ] calculating grad_influence_wrt_input\n",
      "[Progress.py:231 - get_grad_of_influence_wrt_input() ] Looping over training points. Counter: 354, idx_to_remove: 354\n",
      "[genericNeuralNet.py:911 - grad_influence_wrt_input() ] calculating grad_influence_wrt_input\n",
      "[Progress.py:231 - get_grad_of_influence_wrt_input() ] Looping over training points. Counter: 355, idx_to_remove: 355\n",
      "[genericNeuralNet.py:911 - grad_influence_wrt_input() ] calculating grad_influence_wrt_input\n",
      "[Progress.py:231 - get_grad_of_influence_wrt_input() ] Looping over training points. Counter: 356, idx_to_remove: 356\n",
      "[genericNeuralNet.py:911 - grad_influence_wrt_input() ] calculating grad_influence_wrt_input\n",
      "[Progress.py:231 - get_grad_of_influence_wrt_input() ] Looping over training points. Counter: 357, idx_to_remove: 357\n",
      "[genericNeuralNet.py:911 - grad_influence_wrt_input() ] calculating grad_influence_wrt_input\n",
      "[Progress.py:231 - get_grad_of_influence_wrt_input() ] Looping over training points. Counter: 358, idx_to_remove: 358\n",
      "[genericNeuralNet.py:911 - grad_influence_wrt_input() ] calculating grad_influence_wrt_input\n",
      "[Progress.py:231 - get_grad_of_influence_wrt_input() ] Looping over training points. Counter: 359, idx_to_remove: 359\n",
      "[genericNeuralNet.py:911 - grad_influence_wrt_input() ] calculating grad_influence_wrt_input\n",
      "[Progress.py:231 - get_grad_of_influence_wrt_input() ] Looping over training points. Counter: 360, idx_to_remove: 360\n",
      "[genericNeuralNet.py:911 - grad_influence_wrt_input() ] calculating grad_influence_wrt_input\n",
      "[Progress.py:231 - get_grad_of_influence_wrt_input() ] Looping over training points. Counter: 361, idx_to_remove: 361\n",
      "[genericNeuralNet.py:911 - grad_influence_wrt_input() ] calculating grad_influence_wrt_input\n",
      "[Progress.py:231 - get_grad_of_influence_wrt_input() ] Looping over training points. Counter: 362, idx_to_remove: 362\n",
      "[genericNeuralNet.py:911 - grad_influence_wrt_input() ] calculating grad_influence_wrt_input\n",
      "[Progress.py:231 - get_grad_of_influence_wrt_input() ] Looping over training points. Counter: 363, idx_to_remove: 363\n",
      "[genericNeuralNet.py:911 - grad_influence_wrt_input() ] calculating grad_influence_wrt_input\n",
      "[Progress.py:231 - get_grad_of_influence_wrt_input() ] Looping over training points. Counter: 364, idx_to_remove: 364\n",
      "[genericNeuralNet.py:911 - grad_influence_wrt_input() ] calculating grad_influence_wrt_input\n",
      "[Progress.py:231 - get_grad_of_influence_wrt_input() ] Looping over training points. Counter: 365, idx_to_remove: 365\n",
      "[genericNeuralNet.py:911 - grad_influence_wrt_input() ] calculating grad_influence_wrt_input\n",
      "[Progress.py:231 - get_grad_of_influence_wrt_input() ] Looping over training points. Counter: 366, idx_to_remove: 366\n",
      "[genericNeuralNet.py:911 - grad_influence_wrt_input() ] calculating grad_influence_wrt_input\n",
      "[Progress.py:231 - get_grad_of_influence_wrt_input() ] Looping over training points. Counter: 367, idx_to_remove: 367\n",
      "[genericNeuralNet.py:911 - grad_influence_wrt_input() ] calculating grad_influence_wrt_input\n",
      "[Progress.py:231 - get_grad_of_influence_wrt_input() ] Looping over training points. Counter: 368, idx_to_remove: 368\n",
      "[genericNeuralNet.py:911 - grad_influence_wrt_input() ] calculating grad_influence_wrt_input\n",
      "[Progress.py:231 - get_grad_of_influence_wrt_input() ] Looping over training points. Counter: 369, idx_to_remove: 369\n",
      "[genericNeuralNet.py:911 - grad_influence_wrt_input() ] calculating grad_influence_wrt_input\n",
      "[Progress.py:231 - get_grad_of_influence_wrt_input() ] Looping over training points. Counter: 370, idx_to_remove: 370\n",
      "[genericNeuralNet.py:911 - grad_influence_wrt_input() ] calculating grad_influence_wrt_input\n",
      "[Progress.py:231 - get_grad_of_influence_wrt_input() ] Looping over training points. Counter: 371, idx_to_remove: 371\n",
      "[genericNeuralNet.py:911 - grad_influence_wrt_input() ] calculating grad_influence_wrt_input\n",
      "[Progress.py:231 - get_grad_of_influence_wrt_input() ] Looping over training points. Counter: 372, idx_to_remove: 372\n",
      "[genericNeuralNet.py:911 - grad_influence_wrt_input() ] calculating grad_influence_wrt_input\n",
      "[Progress.py:231 - get_grad_of_influence_wrt_input() ] Looping over training points. Counter: 373, idx_to_remove: 373\n",
      "[genericNeuralNet.py:911 - grad_influence_wrt_input() ] calculating grad_influence_wrt_input\n",
      "[Progress.py:231 - get_grad_of_influence_wrt_input() ] Looping over training points. Counter: 374, idx_to_remove: 374\n",
      "[genericNeuralNet.py:911 - grad_influence_wrt_input() ] calculating grad_influence_wrt_input\n",
      "[Progress.py:231 - get_grad_of_influence_wrt_input() ] Looping over training points. Counter: 375, idx_to_remove: 375\n",
      "[genericNeuralNet.py:911 - grad_influence_wrt_input() ] calculating grad_influence_wrt_input\n",
      "[Progress.py:231 - get_grad_of_influence_wrt_input() ] Looping over training points. Counter: 376, idx_to_remove: 376\n",
      "[genericNeuralNet.py:911 - grad_influence_wrt_input() ] calculating grad_influence_wrt_input\n",
      "[Progress.py:231 - get_grad_of_influence_wrt_input() ] Looping over training points. Counter: 377, idx_to_remove: 377\n",
      "[genericNeuralNet.py:911 - grad_influence_wrt_input() ] calculating grad_influence_wrt_input\n",
      "[Progress.py:231 - get_grad_of_influence_wrt_input() ] Looping over training points. Counter: 378, idx_to_remove: 378\n",
      "[genericNeuralNet.py:911 - grad_influence_wrt_input() ] calculating grad_influence_wrt_input\n",
      "[Progress.py:231 - get_grad_of_influence_wrt_input() ] Looping over training points. Counter: 379, idx_to_remove: 379\n",
      "[genericNeuralNet.py:911 - grad_influence_wrt_input() ] calculating grad_influence_wrt_input\n",
      "[Progress.py:231 - get_grad_of_influence_wrt_input() ] Looping over training points. Counter: 380, idx_to_remove: 380\n",
      "[genericNeuralNet.py:911 - grad_influence_wrt_input() ] calculating grad_influence_wrt_input\n",
      "[Progress.py:231 - get_grad_of_influence_wrt_input() ] Looping over training points. Counter: 381, idx_to_remove: 381\n",
      "[genericNeuralNet.py:911 - grad_influence_wrt_input() ] calculating grad_influence_wrt_input\n",
      "[Progress.py:231 - get_grad_of_influence_wrt_input() ] Looping over training points. Counter: 382, idx_to_remove: 382\n",
      "[genericNeuralNet.py:911 - grad_influence_wrt_input() ] calculating grad_influence_wrt_input\n",
      "[Progress.py:231 - get_grad_of_influence_wrt_input() ] Looping over training points. Counter: 383, idx_to_remove: 383\n",
      "[genericNeuralNet.py:911 - grad_influence_wrt_input() ] calculating grad_influence_wrt_input\n",
      "[Progress.py:231 - get_grad_of_influence_wrt_input() ] Looping over training points. Counter: 384, idx_to_remove: 384\n",
      "[genericNeuralNet.py:911 - grad_influence_wrt_input() ] calculating grad_influence_wrt_input\n",
      "[Progress.py:231 - get_grad_of_influence_wrt_input() ] Looping over training points. Counter: 385, idx_to_remove: 385\n",
      "[genericNeuralNet.py:911 - grad_influence_wrt_input() ] calculating grad_influence_wrt_input\n",
      "[Progress.py:231 - get_grad_of_influence_wrt_input() ] Looping over training points. Counter: 386, idx_to_remove: 386\n",
      "[genericNeuralNet.py:911 - grad_influence_wrt_input() ] calculating grad_influence_wrt_input\n",
      "[Progress.py:231 - get_grad_of_influence_wrt_input() ] Looping over training points. Counter: 387, idx_to_remove: 387\n",
      "[genericNeuralNet.py:911 - grad_influence_wrt_input() ] calculating grad_influence_wrt_input\n",
      "[Progress.py:231 - get_grad_of_influence_wrt_input() ] Looping over training points. Counter: 388, idx_to_remove: 388\n",
      "[genericNeuralNet.py:911 - grad_influence_wrt_input() ] calculating grad_influence_wrt_input\n",
      "[Progress.py:231 - get_grad_of_influence_wrt_input() ] Looping over training points. Counter: 389, idx_to_remove: 389\n",
      "[genericNeuralNet.py:911 - grad_influence_wrt_input() ] calculating grad_influence_wrt_input\n",
      "[Progress.py:231 - get_grad_of_influence_wrt_input() ] Looping over training points. Counter: 390, idx_to_remove: 390\n",
      "[genericNeuralNet.py:911 - grad_influence_wrt_input() ] calculating grad_influence_wrt_input\n",
      "[Progress.py:231 - get_grad_of_influence_wrt_input() ] Looping over training points. Counter: 391, idx_to_remove: 391\n",
      "[genericNeuralNet.py:911 - grad_influence_wrt_input() ] calculating grad_influence_wrt_input\n",
      "[Progress.py:231 - get_grad_of_influence_wrt_input() ] Looping over training points. Counter: 392, idx_to_remove: 392\n",
      "[genericNeuralNet.py:911 - grad_influence_wrt_input() ] calculating grad_influence_wrt_input\n",
      "[Progress.py:231 - get_grad_of_influence_wrt_input() ] Looping over training points. Counter: 393, idx_to_remove: 393\n",
      "[genericNeuralNet.py:911 - grad_influence_wrt_input() ] calculating grad_influence_wrt_input\n",
      "[Progress.py:231 - get_grad_of_influence_wrt_input() ] Looping over training points. Counter: 394, idx_to_remove: 394\n",
      "[genericNeuralNet.py:911 - grad_influence_wrt_input() ] calculating grad_influence_wrt_input\n",
      "[Progress.py:231 - get_grad_of_influence_wrt_input() ] Looping over training points. Counter: 395, idx_to_remove: 395\n",
      "[genericNeuralNet.py:911 - grad_influence_wrt_input() ] calculating grad_influence_wrt_input\n",
      "[Progress.py:231 - get_grad_of_influence_wrt_input() ] Looping over training points. Counter: 396, idx_to_remove: 396\n",
      "[genericNeuralNet.py:911 - grad_influence_wrt_input() ] calculating grad_influence_wrt_input\n",
      "[Progress.py:231 - get_grad_of_influence_wrt_input() ] Looping over training points. Counter: 397, idx_to_remove: 397\n",
      "[genericNeuralNet.py:911 - grad_influence_wrt_input() ] calculating grad_influence_wrt_input\n",
      "[Progress.py:231 - get_grad_of_influence_wrt_input() ] Looping over training points. Counter: 398, idx_to_remove: 398\n",
      "[genericNeuralNet.py:911 - grad_influence_wrt_input() ] calculating grad_influence_wrt_input\n",
      "[Progress.py:231 - get_grad_of_influence_wrt_input() ] Looping over training points. Counter: 399, idx_to_remove: 399\n",
      "[genericNeuralNet.py:911 - grad_influence_wrt_input() ] calculating grad_influence_wrt_input\n"
     ]
    },
    {
     "name": "stdout",
     "output_type": "stream",
     "text": [
      "finished calculating grad_wrt_input_val\n"
     ]
    },
    {
     "name": "stderr",
     "output_type": "stream",
     "text": [
      "[iter_attack.py:110 -     iterative_attack() ] Test idx: [3]\n",
      "[iter_attack.py:111 -     iterative_attack() ] Indices to poison: [219]\n",
      "[iter_attack.py:125 -     iterative_attack() ] *** Iter: 0\n",
      "[iter_attack.py:127 -     iterative_attack() ] Calculating grad...\n"
     ]
    },
    {
     "name": "stdout",
     "output_type": "stream",
     "text": [
      "Norm of test gradient: 0.11752132\n",
      "Total number of parameters: 2048\n",
      "Warning: Desired error not necessarily achieved due to precision loss.\n",
      "         Current function value: -3.073447\n",
      "         Iterations: 7\n",
      "         Function evaluations: 120\n",
      "         Gradient evaluations: 113\n",
      "         Hessian evaluations: 43\n",
      "Saved inverse HVP to output/dogfish_400_200_inception_onlytop_wd-0.001-test-3.npz\n",
      "Inverse HVP took 2.19609189034 sec\n"
     ]
    },
    {
     "name": "stderr",
     "output_type": "stream",
     "text": [
      "[Progress.py:231 - get_grad_of_influence_wrt_input() ] Looping over training points. Counter: 0, idx_to_remove: 219\n",
      "[genericNeuralNet.py:911 - grad_influence_wrt_input() ] calculating grad_influence_wrt_input\n"
     ]
    },
    {
     "name": "stdout",
     "output_type": "stream",
     "text": [
      "Norm of test gradient: 0.067327745\n",
      "Loaded inverse HVP from output/dogfish_400_200_inception_wd-0.001-test-3.npz\n",
      "Inverse HVP took 0.000952005386353 sec\n",
      "Entering the for loop\n"
     ]
    },
    {
     "name": "stderr",
     "output_type": "stream",
     "text": [
      "[iter_attack.py:67 - poison_with_influence_proj_gradient_step() ] -- max: 0.5263434052467346, mean: 6.0705596152178216e-05, min: -0.7450606226921082\n",
      "[genericNeuralNet.py:330 -     print_model_eval() ] Train loss (w reg) on all data: 0.008385479\n",
      "[genericNeuralNet.py:331 -     print_model_eval() ] Train loss (w/o reg) on all data: 0.0022939187\n",
      "[genericNeuralNet.py:333 -     print_model_eval() ] Test loss (w/o reg) on all data: 0.029846702\n",
      "[genericNeuralNet.py:334 -     print_model_eval() ] Train acc on all data:  1.0\n",
      "[genericNeuralNet.py:335 -     print_model_eval() ] Test acc on all data:   0.99\n",
      "[genericNeuralNet.py:337 -     print_model_eval() ] Norm of the mean of gradients: 0.0006534092\n",
      "[genericNeuralNet.py:338 -     print_model_eval() ] Norm of the params: 3.490433\n"
     ]
    },
    {
     "name": "stdout",
     "output_type": "stream",
     "text": [
      "Using normal model\n",
      "LBFGS training took [34] iter.\n",
      "After training with LBFGS: \n",
      "Loaded weights from disk.\n"
     ]
    },
    {
     "name": "stderr",
     "output_type": "stream",
     "text": [
      "[iter_attack.py:166 -     iterative_attack() ] Test pred (full): [[9.9927646e-01 7.2355487e-04]]\n",
      "[iter_attack.py:169 -     iterative_attack() ] Test pred (top): [[9.9913740e-01 8.6252386e-04]]\n",
      "[iter_attack.py:125 -     iterative_attack() ] *** Iter: 1\n",
      "[iter_attack.py:127 -     iterative_attack() ] Calculating grad...\n"
     ]
    },
    {
     "name": "stdout",
     "output_type": "stream",
     "text": [
      "Norm of test gradient: 0.12106081\n",
      "Total number of parameters: 2048\n",
      "Warning: Desired error not necessarily achieved due to precision loss.\n",
      "         Current function value: -3.455250\n",
      "         Iterations: 6\n",
      "         Function evaluations: 52\n",
      "         Gradient evaluations: 46\n",
      "         Hessian evaluations: 34\n",
      "Saved inverse HVP to output/dogfish_400_200_inception_onlytop_wd-0.001-test-3.npz\n",
      "Inverse HVP took 1.0067460537 sec\n"
     ]
    },
    {
     "name": "stderr",
     "output_type": "stream",
     "text": [
      "[Progress.py:231 - get_grad_of_influence_wrt_input() ] Looping over training points. Counter: 0, idx_to_remove: 219\n",
      "[genericNeuralNet.py:911 - grad_influence_wrt_input() ] calculating grad_influence_wrt_input\n"
     ]
    },
    {
     "name": "stdout",
     "output_type": "stream",
     "text": [
      "Norm of test gradient: 0.06579193\n",
      "Loaded inverse HVP from output/dogfish_400_200_inception_wd-0.001-test-3.npz\n",
      "Inverse HVP took 0.000767946243286 sec\n",
      "Entering the for loop\n"
     ]
    },
    {
     "name": "stderr",
     "output_type": "stream",
     "text": [
      "[iter_attack.py:67 - poison_with_influence_proj_gradient_step() ] -- max: 0.6281383037567139, mean: 4.03500543167716e-05, min: -0.6784883737564087\n",
      "[genericNeuralNet.py:330 -     print_model_eval() ] Train loss (w reg) on all data: 0.008385884\n",
      "[genericNeuralNet.py:331 -     print_model_eval() ] Train loss (w/o reg) on all data: 0.0022939667\n",
      "[genericNeuralNet.py:333 -     print_model_eval() ] Test loss (w/o reg) on all data: 0.029856486\n",
      "[genericNeuralNet.py:334 -     print_model_eval() ] Train acc on all data:  1.0\n",
      "[genericNeuralNet.py:335 -     print_model_eval() ] Test acc on all data:   0.99\n",
      "[genericNeuralNet.py:337 -     print_model_eval() ] Norm of the mean of gradients: 0.0006557363\n",
      "[genericNeuralNet.py:338 -     print_model_eval() ] Norm of the params: 3.4905345\n"
     ]
    },
    {
     "name": "stdout",
     "output_type": "stream",
     "text": [
      "Using normal model\n",
      "LBFGS training took [12] iter.\n",
      "After training with LBFGS: \n",
      "Loaded weights from disk.\n"
     ]
    },
    {
     "name": "stderr",
     "output_type": "stream",
     "text": [
      "[iter_attack.py:166 -     iterative_attack() ] Test pred (full): [[9.992766e-01 7.233773e-04]]\n",
      "[iter_attack.py:169 -     iterative_attack() ] Test pred (top): [[9.9913496e-01 8.6502597e-04]]\n",
      "[iter_attack.py:125 -     iterative_attack() ] *** Iter: 2\n",
      "[iter_attack.py:127 -     iterative_attack() ] Calculating grad...\n"
     ]
    },
    {
     "name": "stdout",
     "output_type": "stream",
     "text": [
      "Norm of test gradient: 0.121082954\n",
      "Total number of parameters: 2048\n",
      "Warning: Desired error not necessarily achieved due to precision loss.\n",
      "         Current function value: -3.456810\n",
      "         Iterations: 8\n",
      "         Function evaluations: 74\n",
      "         Gradient evaluations: 70\n",
      "         Hessian evaluations: 41\n",
      "Saved inverse HVP to output/dogfish_400_200_inception_onlytop_wd-0.001-test-3.npz\n",
      "Inverse HVP took 1.34354090691 sec\n"
     ]
    },
    {
     "name": "stderr",
     "output_type": "stream",
     "text": [
      "[Progress.py:231 - get_grad_of_influence_wrt_input() ] Looping over training points. Counter: 0, idx_to_remove: 219\n",
      "[genericNeuralNet.py:911 - grad_influence_wrt_input() ] calculating grad_influence_wrt_input\n"
     ]
    },
    {
     "name": "stdout",
     "output_type": "stream",
     "text": [
      "Norm of test gradient: 0.065780245\n",
      "Loaded inverse HVP from output/dogfish_400_200_inception_wd-0.001-test-3.npz\n",
      "Inverse HVP took 0.000926971435547 sec\n",
      "Entering the for loop\n"
     ]
    },
    {
     "name": "stderr",
     "output_type": "stream",
     "text": [
      "[iter_attack.py:67 - poison_with_influence_proj_gradient_step() ] -- max: 0.628339946269989, mean: 4.038255863692658e-05, min: -0.6790448427200317\n",
      "[genericNeuralNet.py:330 -     print_model_eval() ] Train loss (w reg) on all data: 0.008385885\n",
      "[genericNeuralNet.py:331 -     print_model_eval() ] Train loss (w/o reg) on all data: 0.0022939676\n",
      "[genericNeuralNet.py:333 -     print_model_eval() ] Test loss (w/o reg) on all data: 0.02985653\n",
      "[genericNeuralNet.py:334 -     print_model_eval() ] Train acc on all data:  1.0\n",
      "[genericNeuralNet.py:335 -     print_model_eval() ] Test acc on all data:   0.99\n",
      "[genericNeuralNet.py:337 -     print_model_eval() ] Norm of the mean of gradients: 0.00065555365\n",
      "[genericNeuralNet.py:338 -     print_model_eval() ] Norm of the params: 3.4905345\n"
     ]
    },
    {
     "name": "stdout",
     "output_type": "stream",
     "text": [
      "Using normal model\n",
      "LBFGS training took [0] iter.\n",
      "After training with LBFGS: \n",
      "Loaded weights from disk.\n"
     ]
    },
    {
     "name": "stderr",
     "output_type": "stream",
     "text": [
      "[iter_attack.py:166 -     iterative_attack() ] Test pred (full): [[9.9927670e-01 7.2337186e-04]]\n",
      "[iter_attack.py:169 -     iterative_attack() ] Test pred (top): [[9.9913496e-01 8.6501567e-04]]\n",
      "[iter_attack.py:125 -     iterative_attack() ] *** Iter: 3\n",
      "[iter_attack.py:127 -     iterative_attack() ] Calculating grad...\n"
     ]
    },
    {
     "name": "stdout",
     "output_type": "stream",
     "text": [
      "Norm of test gradient: 0.12108402\n",
      "Total number of parameters: 2048\n",
      "Warning: Desired error not necessarily achieved due to precision loss.\n",
      "         Current function value: -3.456823\n",
      "         Iterations: 7\n",
      "         Function evaluations: 82\n",
      "         Gradient evaluations: 77\n",
      "         Hessian evaluations: 39\n",
      "Saved inverse HVP to output/dogfish_400_200_inception_onlytop_wd-0.001-test-3.npz\n",
      "Inverse HVP took 1.71290516853 sec\n"
     ]
    },
    {
     "name": "stderr",
     "output_type": "stream",
     "text": [
      "[Progress.py:231 - get_grad_of_influence_wrt_input() ] Looping over training points. Counter: 0, idx_to_remove: 219\n",
      "[genericNeuralNet.py:911 - grad_influence_wrt_input() ] calculating grad_influence_wrt_input\n"
     ]
    },
    {
     "name": "stdout",
     "output_type": "stream",
     "text": [
      "Norm of test gradient: 0.0657797\n",
      "Loaded inverse HVP from output/dogfish_400_200_inception_wd-0.001-test-3.npz\n",
      "Inverse HVP took 0.000871896743774 sec\n",
      "Entering the for loop\n"
     ]
    },
    {
     "name": "stderr",
     "output_type": "stream",
     "text": [
      "[iter_attack.py:67 - poison_with_influence_proj_gradient_step() ] -- max: 0.6280881762504578, mean: 4.0358129065435594e-05, min: -0.6787029504776001\n",
      "[genericNeuralNet.py:330 -     print_model_eval() ] Train loss (w reg) on all data: 0.008385884\n",
      "[genericNeuralNet.py:331 -     print_model_eval() ] Train loss (w/o reg) on all data: 0.002293968\n",
      "[genericNeuralNet.py:333 -     print_model_eval() ] Test loss (w/o reg) on all data: 0.029856658\n",
      "[genericNeuralNet.py:334 -     print_model_eval() ] Train acc on all data:  1.0\n",
      "[genericNeuralNet.py:335 -     print_model_eval() ] Test acc on all data:   0.99\n",
      "[genericNeuralNet.py:337 -     print_model_eval() ] Norm of the mean of gradients: 0.0006551164\n",
      "[genericNeuralNet.py:338 -     print_model_eval() ] Norm of the params: 3.4905343\n"
     ]
    },
    {
     "name": "stdout",
     "output_type": "stream",
     "text": [
      "Using normal model\n",
      "LBFGS training took [0] iter.\n",
      "After training with LBFGS: \n",
      "Loaded weights from disk.\n"
     ]
    },
    {
     "name": "stderr",
     "output_type": "stream",
     "text": [
      "[iter_attack.py:166 -     iterative_attack() ] Test pred (full): [[9.9927670e-01 7.2335807e-04]]\n",
      "[iter_attack.py:169 -     iterative_attack() ] Test pred (top): [[9.991351e-01 8.649873e-04]]\n",
      "[iter_attack.py:125 -     iterative_attack() ] *** Iter: 4\n",
      "[iter_attack.py:127 -     iterative_attack() ] Calculating grad...\n"
     ]
    },
    {
     "name": "stdout",
     "output_type": "stream",
     "text": [
      "Norm of test gradient: 0.12108675\n",
      "Total number of parameters: 2048\n",
      "Warning: Desired error not necessarily achieved due to precision loss.\n",
      "         Current function value: -3.456852\n",
      "         Iterations: 7\n",
      "         Function evaluations: 90\n",
      "         Gradient evaluations: 85\n",
      "         Hessian evaluations: 39\n",
      "Saved inverse HVP to output/dogfish_400_200_inception_onlytop_wd-0.001-test-3.npz\n",
      "Inverse HVP took 1.56142711639 sec\n"
     ]
    },
    {
     "name": "stderr",
     "output_type": "stream",
     "text": [
      "[Progress.py:231 - get_grad_of_influence_wrt_input() ] Looping over training points. Counter: 0, idx_to_remove: 219\n",
      "[genericNeuralNet.py:911 - grad_influence_wrt_input() ] calculating grad_influence_wrt_input\n"
     ]
    },
    {
     "name": "stdout",
     "output_type": "stream",
     "text": [
      "Norm of test gradient: 0.065778345\n",
      "Loaded inverse HVP from output/dogfish_400_200_inception_wd-0.001-test-3.npz\n",
      "Inverse HVP took 0.00110101699829 sec\n",
      "Entering the for loop\n"
     ]
    },
    {
     "name": "stderr",
     "output_type": "stream",
     "text": [
      "[iter_attack.py:67 - poison_with_influence_proj_gradient_step() ] -- max: 0.6283407807350159, mean: 4.038326320112514e-05, min: -0.6790416240692139\n",
      "[genericNeuralNet.py:330 -     print_model_eval() ] Train loss (w reg) on all data: 0.008385877\n",
      "[genericNeuralNet.py:331 -     print_model_eval() ] Train loss (w/o reg) on all data: 0.0022939988\n",
      "[genericNeuralNet.py:333 -     print_model_eval() ] Test loss (w/o reg) on all data: 0.029857185\n",
      "[genericNeuralNet.py:334 -     print_model_eval() ] Train acc on all data:  1.0\n",
      "[genericNeuralNet.py:335 -     print_model_eval() ] Test acc on all data:   0.99\n",
      "[genericNeuralNet.py:337 -     print_model_eval() ] Norm of the mean of gradients: 0.0006550081\n",
      "[genericNeuralNet.py:338 -     print_model_eval() ] Norm of the params: 3.4905238\n"
     ]
    },
    {
     "name": "stdout",
     "output_type": "stream",
     "text": [
      "Using normal model\n",
      "LBFGS training took [1] iter.\n",
      "After training with LBFGS: \n",
      "Loaded weights from disk.\n"
     ]
    },
    {
     "name": "stderr",
     "output_type": "stream",
     "text": [
      "[iter_attack.py:166 -     iterative_attack() ] Test pred (full): [[9.992767e-01 7.233615e-04]]\n",
      "[iter_attack.py:169 -     iterative_attack() ] Test pred (top): [[9.9913508e-01 8.6492667e-04]]\n",
      "[iter_attack.py:125 -     iterative_attack() ] *** Iter: 5\n",
      "[iter_attack.py:127 -     iterative_attack() ] Calculating grad...\n"
     ]
    },
    {
     "name": "stdout",
     "output_type": "stream",
     "text": [
      "Norm of test gradient: 0.12109149\n",
      "Total number of parameters: 2048\n",
      "Warning: Desired error not necessarily achieved due to precision loss.\n",
      "         Current function value: -3.456941\n",
      "         Iterations: 6\n",
      "         Function evaluations: 70\n",
      "         Gradient evaluations: 64\n",
      "         Hessian evaluations: 34\n",
      "Saved inverse HVP to output/dogfish_400_200_inception_onlytop_wd-0.001-test-3.npz\n",
      "Inverse HVP took 1.57392477989 sec\n"
     ]
    },
    {
     "name": "stderr",
     "output_type": "stream",
     "text": [
      "[Progress.py:231 - get_grad_of_influence_wrt_input() ] Looping over training points. Counter: 0, idx_to_remove: 219\n",
      "[genericNeuralNet.py:911 - grad_influence_wrt_input() ] calculating grad_influence_wrt_input\n"
     ]
    },
    {
     "name": "stdout",
     "output_type": "stream",
     "text": [
      "Norm of test gradient: 0.06577641\n",
      "Loaded inverse HVP from output/dogfish_400_200_inception_wd-0.001-test-3.npz\n",
      "Inverse HVP took 0.00108313560486 sec\n",
      "Entering the for loop\n"
     ]
    },
    {
     "name": "stderr",
     "output_type": "stream",
     "text": [
      "[iter_attack.py:67 - poison_with_influence_proj_gradient_step() ] -- max: 0.6283062696456909, mean: 4.037583827041606e-05, min: -0.6789678335189819\n",
      "[genericNeuralNet.py:330 -     print_model_eval() ] Train loss (w reg) on all data: 0.008385876\n",
      "[genericNeuralNet.py:331 -     print_model_eval() ] Train loss (w/o reg) on all data: 0.0022939974\n",
      "[genericNeuralNet.py:333 -     print_model_eval() ] Test loss (w/o reg) on all data: 0.029856935\n",
      "[genericNeuralNet.py:334 -     print_model_eval() ] Train acc on all data:  1.0\n",
      "[genericNeuralNet.py:335 -     print_model_eval() ] Test acc on all data:   0.99\n",
      "[genericNeuralNet.py:337 -     print_model_eval() ] Norm of the mean of gradients: 0.0006559294\n",
      "[genericNeuralNet.py:338 -     print_model_eval() ] Norm of the params: 3.4905238\n"
     ]
    },
    {
     "name": "stdout",
     "output_type": "stream",
     "text": [
      "Using normal model\n",
      "LBFGS training took [0] iter.\n",
      "After training with LBFGS: \n",
      "Loaded weights from disk.\n"
     ]
    },
    {
     "name": "stderr",
     "output_type": "stream",
     "text": [
      "[iter_attack.py:166 -     iterative_attack() ] Test pred (full): [[9.992766e-01 7.233901e-04]]\n",
      "[iter_attack.py:169 -     iterative_attack() ] Test pred (top): [[9.9913508e-01 8.6498813e-04]]\n",
      "[iter_attack.py:125 -     iterative_attack() ] *** Iter: 6\n",
      "[iter_attack.py:127 -     iterative_attack() ] Calculating grad...\n"
     ]
    },
    {
     "name": "stdout",
     "output_type": "stream",
     "text": [
      "Norm of test gradient: 0.121086106\n",
      "Total number of parameters: 2048\n",
      "Warning: Desired error not necessarily achieved due to precision loss.\n",
      "         Current function value: -3.456879\n",
      "         Iterations: 8\n",
      "         Function evaluations: 87\n",
      "         Gradient evaluations: 85\n",
      "         Hessian evaluations: 45\n",
      "Saved inverse HVP to output/dogfish_400_200_inception_onlytop_wd-0.001-test-3.npz\n",
      "Inverse HVP took 1.63900303841 sec\n"
     ]
    },
    {
     "name": "stderr",
     "output_type": "stream",
     "text": [
      "[Progress.py:231 - get_grad_of_influence_wrt_input() ] Looping over training points. Counter: 0, idx_to_remove: 219\n",
      "[genericNeuralNet.py:911 - grad_influence_wrt_input() ] calculating grad_influence_wrt_input\n"
     ]
    },
    {
     "name": "stdout",
     "output_type": "stream",
     "text": [
      "Norm of test gradient: 0.065779\n",
      "Loaded inverse HVP from output/dogfish_400_200_inception_wd-0.001-test-3.npz\n",
      "Inverse HVP took 0.000824213027954 sec\n",
      "Entering the for loop\n"
     ]
    },
    {
     "name": "stderr",
     "output_type": "stream",
     "text": [
      "[iter_attack.py:67 - poison_with_influence_proj_gradient_step() ] -- max: 0.6283479928970337, mean: 4.0383891415518016e-05, min: -0.6790618896484375\n",
      "[genericNeuralNet.py:330 -     print_model_eval() ] Train loss (w reg) on all data: 0.008385877\n",
      "[genericNeuralNet.py:331 -     print_model_eval() ] Train loss (w/o reg) on all data: 0.002293998\n",
      "[genericNeuralNet.py:333 -     print_model_eval() ] Test loss (w/o reg) on all data: 0.029856963\n",
      "[genericNeuralNet.py:334 -     print_model_eval() ] Train acc on all data:  1.0\n",
      "[genericNeuralNet.py:335 -     print_model_eval() ] Test acc on all data:   0.99\n",
      "[genericNeuralNet.py:337 -     print_model_eval() ] Norm of the mean of gradients: 0.0006558229\n",
      "[genericNeuralNet.py:338 -     print_model_eval() ] Norm of the params: 3.4905238\n"
     ]
    },
    {
     "name": "stdout",
     "output_type": "stream",
     "text": [
      "Using normal model\n",
      "LBFGS training took [0] iter.\n",
      "After training with LBFGS: \n",
      "Loaded weights from disk.\n"
     ]
    },
    {
     "name": "stderr",
     "output_type": "stream",
     "text": [
      "[iter_attack.py:166 -     iterative_attack() ] Test pred (full): [[9.992766e-01 7.233873e-04]]\n",
      "[iter_attack.py:169 -     iterative_attack() ] Test pred (top): [[9.991351e-01 8.649824e-04]]\n",
      "[iter_attack.py:125 -     iterative_attack() ] *** Iter: 7\n",
      "[iter_attack.py:127 -     iterative_attack() ] Calculating grad...\n"
     ]
    },
    {
     "name": "stdout",
     "output_type": "stream",
     "text": [
      "Norm of test gradient: 0.121086694\n",
      "Total number of parameters: 2048\n",
      "Warning: Desired error not necessarily achieved due to precision loss.\n",
      "         Current function value: -3.456887\n",
      "         Iterations: 6\n",
      "         Function evaluations: 87\n",
      "         Gradient evaluations: 81\n",
      "         Hessian evaluations: 35\n",
      "Saved inverse HVP to output/dogfish_400_200_inception_onlytop_wd-0.001-test-3.npz\n",
      "Inverse HVP took 1.67085790634 sec\n"
     ]
    },
    {
     "name": "stderr",
     "output_type": "stream",
     "text": [
      "[Progress.py:231 - get_grad_of_influence_wrt_input() ] Looping over training points. Counter: 0, idx_to_remove: 219\n",
      "[genericNeuralNet.py:911 - grad_influence_wrt_input() ] calculating grad_influence_wrt_input\n"
     ]
    },
    {
     "name": "stdout",
     "output_type": "stream",
     "text": [
      "Norm of test gradient: 0.06577869\n",
      "Loaded inverse HVP from output/dogfish_400_200_inception_wd-0.001-test-3.npz\n",
      "Inverse HVP took 0.000664949417114 sec\n",
      "Entering the for loop\n"
     ]
    },
    {
     "name": "stderr",
     "output_type": "stream",
     "text": [
      "[iter_attack.py:67 - poison_with_influence_proj_gradient_step() ] -- max: 0.6283038258552551, mean: 4.0375165615962844e-05, min: -0.6789699196815491\n",
      "[genericNeuralNet.py:330 -     print_model_eval() ] Train loss (w reg) on all data: 0.008385875\n",
      "[genericNeuralNet.py:331 -     print_model_eval() ] Train loss (w/o reg) on all data: 0.0022939963\n",
      "[genericNeuralNet.py:333 -     print_model_eval() ] Test loss (w/o reg) on all data: 0.029856991\n",
      "[genericNeuralNet.py:334 -     print_model_eval() ] Train acc on all data:  1.0\n",
      "[genericNeuralNet.py:335 -     print_model_eval() ] Test acc on all data:   0.99\n",
      "[genericNeuralNet.py:337 -     print_model_eval() ] Norm of the mean of gradients: 0.0006557246\n",
      "[genericNeuralNet.py:338 -     print_model_eval() ] Norm of the params: 3.490524\n"
     ]
    },
    {
     "name": "stdout",
     "output_type": "stream",
     "text": [
      "Using normal model\n",
      "LBFGS training took [0] iter.\n",
      "After training with LBFGS: \n",
      "Loaded weights from disk.\n"
     ]
    },
    {
     "name": "stderr",
     "output_type": "stream",
     "text": [
      "[iter_attack.py:166 -     iterative_attack() ] Test pred (full): [[9.9927658e-01 7.2338455e-04]]\n",
      "[iter_attack.py:169 -     iterative_attack() ] Test pred (top): [[9.9913508e-01 8.6497574e-04]]\n",
      "[iter_attack.py:125 -     iterative_attack() ] *** Iter: 8\n",
      "[iter_attack.py:127 -     iterative_attack() ] Calculating grad...\n"
     ]
    },
    {
     "name": "stdout",
     "output_type": "stream",
     "text": [
      "Norm of test gradient: 0.121087335\n",
      "Total number of parameters: 2048\n",
      "Warning: Desired error not necessarily achieved due to precision loss.\n",
      "         Current function value: -3.456895\n",
      "         Iterations: 8\n",
      "         Function evaluations: 124\n",
      "         Gradient evaluations: 118\n",
      "         Hessian evaluations: 52\n",
      "Saved inverse HVP to output/dogfish_400_200_inception_onlytop_wd-0.001-test-3.npz\n",
      "Inverse HVP took 2.60767412186 sec\n"
     ]
    },
    {
     "name": "stderr",
     "output_type": "stream",
     "text": [
      "[Progress.py:231 - get_grad_of_influence_wrt_input() ] Looping over training points. Counter: 0, idx_to_remove: 219\n",
      "[genericNeuralNet.py:911 - grad_influence_wrt_input() ] calculating grad_influence_wrt_input\n"
     ]
    },
    {
     "name": "stdout",
     "output_type": "stream",
     "text": [
      "Norm of test gradient: 0.06577838\n",
      "Loaded inverse HVP from output/dogfish_400_200_inception_wd-0.001-test-3.npz\n",
      "Inverse HVP took 0.000777006149292 sec\n",
      "Entering the for loop\n"
     ]
    },
    {
     "name": "stderr",
     "output_type": "stream",
     "text": [
      "[iter_attack.py:67 - poison_with_influence_proj_gradient_step() ] -- max: 0.6283189058303833, mean: 4.037807117129132e-05, min: -0.679000973701477\n",
      "[genericNeuralNet.py:330 -     print_model_eval() ] Train loss (w reg) on all data: 0.008385874\n",
      "[genericNeuralNet.py:331 -     print_model_eval() ] Train loss (w/o reg) on all data: 0.0022939956\n",
      "[genericNeuralNet.py:333 -     print_model_eval() ] Test loss (w/o reg) on all data: 0.029857023\n",
      "[genericNeuralNet.py:334 -     print_model_eval() ] Train acc on all data:  1.0\n",
      "[genericNeuralNet.py:335 -     print_model_eval() ] Test acc on all data:   0.99\n",
      "[genericNeuralNet.py:337 -     print_model_eval() ] Norm of the mean of gradients: 0.00065560127\n",
      "[genericNeuralNet.py:338 -     print_model_eval() ] Norm of the params: 3.490524\n"
     ]
    },
    {
     "name": "stdout",
     "output_type": "stream",
     "text": [
      "Using normal model\n",
      "LBFGS training took [0] iter.\n",
      "After training with LBFGS: \n",
      "Loaded weights from disk.\n"
     ]
    },
    {
     "name": "stderr",
     "output_type": "stream",
     "text": [
      "[iter_attack.py:166 -     iterative_attack() ] Test pred (full): [[9.9927658e-01 7.2338106e-04]]\n",
      "[iter_attack.py:169 -     iterative_attack() ] Test pred (top): [[9.991351e-01 8.649708e-04]]\n",
      "[iter_attack.py:125 -     iterative_attack() ] *** Iter: 9\n",
      "[iter_attack.py:127 -     iterative_attack() ] Calculating grad...\n"
     ]
    },
    {
     "name": "stdout",
     "output_type": "stream",
     "text": [
      "Norm of test gradient: 0.12108799\n",
      "Total number of parameters: 2048\n",
      "Warning: Desired error not necessarily achieved due to precision loss.\n",
      "         Current function value: -3.456901\n",
      "         Iterations: 7\n",
      "         Function evaluations: 87\n",
      "         Gradient evaluations: 83\n",
      "         Hessian evaluations: 38\n",
      "Saved inverse HVP to output/dogfish_400_200_inception_onlytop_wd-0.001-test-3.npz\n",
      "Inverse HVP took 1.53331112862 sec\n"
     ]
    },
    {
     "name": "stderr",
     "output_type": "stream",
     "text": [
      "[Progress.py:231 - get_grad_of_influence_wrt_input() ] Looping over training points. Counter: 0, idx_to_remove: 219\n",
      "[genericNeuralNet.py:911 - grad_influence_wrt_input() ] calculating grad_influence_wrt_input\n"
     ]
    },
    {
     "name": "stdout",
     "output_type": "stream",
     "text": [
      "Norm of test gradient: 0.06577804\n",
      "Loaded inverse HVP from output/dogfish_400_200_inception_wd-0.001-test-3.npz\n",
      "Inverse HVP took 0.000710010528564 sec\n",
      "Entering the for loop\n"
     ]
    },
    {
     "name": "stderr",
     "output_type": "stream",
     "text": [
      "[iter_attack.py:67 - poison_with_influence_proj_gradient_step() ] -- max: 0.628348708152771, mean: 4.0383938695381146e-05, min: -0.6790612936019897\n",
      "[genericNeuralNet.py:330 -     print_model_eval() ] Train loss (w reg) on all data: 0.008385878\n",
      "[genericNeuralNet.py:331 -     print_model_eval() ] Train loss (w/o reg) on all data: 0.0022939988\n",
      "[genericNeuralNet.py:333 -     print_model_eval() ] Test loss (w/o reg) on all data: 0.029857056\n",
      "[genericNeuralNet.py:334 -     print_model_eval() ] Train acc on all data:  1.0\n",
      "[genericNeuralNet.py:335 -     print_model_eval() ] Test acc on all data:   0.99\n",
      "[genericNeuralNet.py:337 -     print_model_eval() ] Norm of the mean of gradients: 0.0006554437\n",
      "[genericNeuralNet.py:338 -     print_model_eval() ] Norm of the params: 3.4905238\n"
     ]
    },
    {
     "name": "stdout",
     "output_type": "stream",
     "text": [
      "Using normal model\n",
      "LBFGS training took [0] iter.\n",
      "After training with LBFGS: \n",
      "Loaded weights from disk.\n"
     ]
    },
    {
     "name": "stderr",
     "output_type": "stream",
     "text": [
      "[iter_attack.py:166 -     iterative_attack() ] Test pred (full): [[9.992766e-01 7.233766e-04]]\n",
      "[iter_attack.py:169 -     iterative_attack() ] Test pred (top): [[9.991351e-01 8.649613e-04]]\n",
      "[iter_attack.py:125 -     iterative_attack() ] *** Iter: 10\n",
      "[iter_attack.py:127 -     iterative_attack() ] Calculating grad...\n"
     ]
    },
    {
     "name": "stdout",
     "output_type": "stream",
     "text": [
      "Norm of test gradient: 0.121088885\n",
      "Total number of parameters: 2048\n",
      "Warning: Desired error not necessarily achieved due to precision loss.\n",
      "         Current function value: -3.456912\n",
      "         Iterations: 6\n",
      "         Function evaluations: 82\n",
      "         Gradient evaluations: 76\n",
      "         Hessian evaluations: 34\n",
      "Saved inverse HVP to output/dogfish_400_200_inception_onlytop_wd-0.001-test-3.npz\n",
      "Inverse HVP took 1.42508411407 sec\n"
     ]
    },
    {
     "name": "stderr",
     "output_type": "stream",
     "text": [
      "[Progress.py:231 - get_grad_of_influence_wrt_input() ] Looping over training points. Counter: 0, idx_to_remove: 219\n",
      "[genericNeuralNet.py:911 - grad_influence_wrt_input() ] calculating grad_influence_wrt_input\n"
     ]
    },
    {
     "name": "stdout",
     "output_type": "stream",
     "text": [
      "Norm of test gradient: 0.065777585\n",
      "Loaded inverse HVP from output/dogfish_400_200_inception_wd-0.001-test-3.npz\n",
      "Inverse HVP took 0.000913858413696 sec\n",
      "Entering the for loop\n"
     ]
    },
    {
     "name": "stderr",
     "output_type": "stream",
     "text": [
      "[iter_attack.py:67 - poison_with_influence_proj_gradient_step() ] -- max: 0.6283060312271118, mean: 4.0375405805464683e-05, min: -0.6789698600769043\n",
      "[genericNeuralNet.py:330 -     print_model_eval() ] Train loss (w reg) on all data: 0.008385874\n",
      "[genericNeuralNet.py:331 -     print_model_eval() ] Train loss (w/o reg) on all data: 0.0022939947\n",
      "[genericNeuralNet.py:333 -     print_model_eval() ] Test loss (w/o reg) on all data: 0.029857233\n",
      "[genericNeuralNet.py:334 -     print_model_eval() ] Train acc on all data:  1.0\n",
      "[genericNeuralNet.py:335 -     print_model_eval() ] Test acc on all data:   0.99\n",
      "[genericNeuralNet.py:337 -     print_model_eval() ] Norm of the mean of gradients: 0.00065472996\n",
      "[genericNeuralNet.py:338 -     print_model_eval() ] Norm of the params: 3.4905238\n"
     ]
    },
    {
     "name": "stdout",
     "output_type": "stream",
     "text": [
      "Using normal model\n",
      "LBFGS training took [0] iter.\n",
      "After training with LBFGS: \n",
      "Loaded weights from disk.\n"
     ]
    },
    {
     "name": "stderr",
     "output_type": "stream",
     "text": [
      "[iter_attack.py:166 -     iterative_attack() ] Test pred (full): [[9.992767e-01 7.233563e-04]]\n",
      "[iter_attack.py:169 -     iterative_attack() ] Test pred (top): [[9.991351e-01 8.649226e-04]]\n",
      "[iter_attack.py:125 -     iterative_attack() ] *** Iter: 11\n",
      "[iter_attack.py:127 -     iterative_attack() ] Calculating grad...\n"
     ]
    },
    {
     "name": "stdout",
     "output_type": "stream",
     "text": [
      "Norm of test gradient: 0.12109316\n",
      "Total number of parameters: 2048\n",
      "Warning: Desired error not necessarily achieved due to precision loss.\n",
      "         Current function value: -3.456961\n",
      "         Iterations: 9\n",
      "         Function evaluations: 86\n",
      "         Gradient evaluations: 83\n",
      "         Hessian evaluations: 43\n",
      "Saved inverse HVP to output/dogfish_400_200_inception_onlytop_wd-0.001-test-3.npz\n",
      "Inverse HVP took 1.9971780777 sec\n"
     ]
    },
    {
     "name": "stderr",
     "output_type": "stream",
     "text": [
      "[Progress.py:231 - get_grad_of_influence_wrt_input() ] Looping over training points. Counter: 0, idx_to_remove: 219\n",
      "[genericNeuralNet.py:911 - grad_influence_wrt_input() ] calculating grad_influence_wrt_input\n"
     ]
    },
    {
     "name": "stdout",
     "output_type": "stream",
     "text": [
      "Norm of test gradient: 0.06577537\n",
      "Loaded inverse HVP from output/dogfish_400_200_inception_wd-0.001-test-3.npz\n",
      "Inverse HVP took 0.000956058502197 sec\n",
      "Entering the for loop\n"
     ]
    },
    {
     "name": "stderr",
     "output_type": "stream",
     "text": [
      "[iter_attack.py:67 - poison_with_influence_proj_gradient_step() ] -- max: 0.6283508539199829, mean: 4.038462274152884e-05, min: -0.6790567636489868\n",
      "[genericNeuralNet.py:330 -     print_model_eval() ] Train loss (w reg) on all data: 0.008385875\n",
      "[genericNeuralNet.py:331 -     print_model_eval() ] Train loss (w/o reg) on all data: 0.0022939963\n",
      "[genericNeuralNet.py:333 -     print_model_eval() ] Test loss (w/o reg) on all data: 0.029857049\n",
      "[genericNeuralNet.py:334 -     print_model_eval() ] Train acc on all data:  1.0\n",
      "[genericNeuralNet.py:335 -     print_model_eval() ] Test acc on all data:   0.99\n",
      "[genericNeuralNet.py:337 -     print_model_eval() ] Norm of the mean of gradients: 0.0006554315\n",
      "[genericNeuralNet.py:338 -     print_model_eval() ] Norm of the params: 3.490524\n"
     ]
    },
    {
     "name": "stdout",
     "output_type": "stream",
     "text": [
      "Using normal model\n",
      "LBFGS training took [0] iter.\n",
      "After training with LBFGS: \n",
      "Loaded weights from disk.\n"
     ]
    },
    {
     "name": "stderr",
     "output_type": "stream",
     "text": [
      "[iter_attack.py:166 -     iterative_attack() ] Test pred (full): [[9.992766e-01 7.233776e-04]]\n",
      "[iter_attack.py:169 -     iterative_attack() ] Test pred (top): [[9.9913508e-01 8.6496666e-04]]\n",
      "[iter_attack.py:125 -     iterative_attack() ] *** Iter: 12\n",
      "[iter_attack.py:127 -     iterative_attack() ] Calculating grad...\n"
     ]
    },
    {
     "name": "stdout",
     "output_type": "stream",
     "text": [
      "Norm of test gradient: 0.12108896\n",
      "Total number of parameters: 2048\n",
      "Warning: Desired error not necessarily achieved due to precision loss.\n",
      "         Current function value: -3.456913\n",
      "         Iterations: 8\n",
      "         Function evaluations: 146\n",
      "         Gradient evaluations: 141\n",
      "         Hessian evaluations: 49\n",
      "Saved inverse HVP to output/dogfish_400_200_inception_onlytop_wd-0.001-test-3.npz\n",
      "Inverse HVP took 2.95706319809 sec\n"
     ]
    },
    {
     "name": "stderr",
     "output_type": "stream",
     "text": [
      "[Progress.py:231 - get_grad_of_influence_wrt_input() ] Looping over training points. Counter: 0, idx_to_remove: 219\n",
      "[genericNeuralNet.py:911 - grad_influence_wrt_input() ] calculating grad_influence_wrt_input\n"
     ]
    },
    {
     "name": "stdout",
     "output_type": "stream",
     "text": [
      "Norm of test gradient: 0.065777466\n",
      "Loaded inverse HVP from output/dogfish_400_200_inception_wd-0.001-test-3.npz\n",
      "Inverse HVP took 0.000946044921875 sec\n",
      "Entering the for loop\n"
     ]
    },
    {
     "name": "stderr",
     "output_type": "stream",
     "text": [
      "[iter_attack.py:67 - poison_with_influence_proj_gradient_step() ] -- max: 0.6282638311386108, mean: 4.037869685954672e-05, min: -0.6789743900299072\n",
      "[genericNeuralNet.py:330 -     print_model_eval() ] Train loss (w reg) on all data: 0.008385874\n",
      "[genericNeuralNet.py:331 -     print_model_eval() ] Train loss (w/o reg) on all data: 0.0022939956\n",
      "[genericNeuralNet.py:333 -     print_model_eval() ] Test loss (w/o reg) on all data: 0.029857209\n",
      "[genericNeuralNet.py:334 -     print_model_eval() ] Train acc on all data:  1.0\n",
      "[genericNeuralNet.py:335 -     print_model_eval() ] Test acc on all data:   0.99\n",
      "[genericNeuralNet.py:337 -     print_model_eval() ] Norm of the mean of gradients: 0.0006547739\n",
      "[genericNeuralNet.py:338 -     print_model_eval() ] Norm of the params: 3.490524\n"
     ]
    },
    {
     "name": "stdout",
     "output_type": "stream",
     "text": [
      "Using normal model\n",
      "LBFGS training took [0] iter.\n",
      "After training with LBFGS: \n",
      "Loaded weights from disk.\n"
     ]
    },
    {
     "name": "stderr",
     "output_type": "stream",
     "text": [
      "[iter_attack.py:166 -     iterative_attack() ] Test pred (full): [[9.9927670e-01 7.2335947e-04]]\n",
      "[iter_attack.py:169 -     iterative_attack() ] Test pred (top): [[9.991351e-01 8.649317e-04]]\n",
      "[iter_attack.py:125 -     iterative_attack() ] *** Iter: 13\n",
      "[iter_attack.py:127 -     iterative_attack() ] Calculating grad...\n"
     ]
    },
    {
     "name": "stdout",
     "output_type": "stream",
     "text": [
      "Norm of test gradient: 0.12109279\n",
      "Total number of parameters: 2048\n",
      "Warning: Desired error not necessarily achieved due to precision loss.\n",
      "         Current function value: -3.456957\n",
      "         Iterations: 6\n",
      "         Function evaluations: 64\n",
      "         Gradient evaluations: 59\n",
      "         Hessian evaluations: 34\n",
      "Saved inverse HVP to output/dogfish_400_200_inception_onlytop_wd-0.001-test-3.npz\n",
      "Inverse HVP took 1.1993689537 sec\n"
     ]
    },
    {
     "name": "stderr",
     "output_type": "stream",
     "text": [
      "[Progress.py:231 - get_grad_of_influence_wrt_input() ] Looping over training points. Counter: 0, idx_to_remove: 219\n",
      "[genericNeuralNet.py:911 - grad_influence_wrt_input() ] calculating grad_influence_wrt_input\n"
     ]
    },
    {
     "name": "stdout",
     "output_type": "stream",
     "text": [
      "Norm of test gradient: 0.06577547\n",
      "Loaded inverse HVP from output/dogfish_400_200_inception_wd-0.001-test-3.npz\n",
      "Inverse HVP took 0.000991821289062 sec\n",
      "Entering the for loop\n"
     ]
    },
    {
     "name": "stderr",
     "output_type": "stream",
     "text": [
      "[iter_attack.py:67 - poison_with_influence_proj_gradient_step() ] -- max: 0.6283057928085327, mean: 4.037593677076301e-05, min: -0.6789635419845581\n",
      "[genericNeuralNet.py:330 -     print_model_eval() ] Train loss (w reg) on all data: 0.008385875\n",
      "[genericNeuralNet.py:331 -     print_model_eval() ] Train loss (w/o reg) on all data: 0.0022939958\n",
      "[genericNeuralNet.py:333 -     print_model_eval() ] Test loss (w/o reg) on all data: 0.029857049\n",
      "[genericNeuralNet.py:334 -     print_model_eval() ] Train acc on all data:  1.0\n",
      "[genericNeuralNet.py:335 -     print_model_eval() ] Test acc on all data:   0.99\n",
      "[genericNeuralNet.py:337 -     print_model_eval() ] Norm of the mean of gradients: 0.0006554226\n",
      "[genericNeuralNet.py:338 -     print_model_eval() ] Norm of the params: 3.490524\n"
     ]
    },
    {
     "name": "stdout",
     "output_type": "stream",
     "text": [
      "Using normal model\n",
      "LBFGS training took [0] iter.\n",
      "After training with LBFGS: \n",
      "Loaded weights from disk.\n"
     ]
    },
    {
     "name": "stderr",
     "output_type": "stream",
     "text": [
      "[iter_attack.py:166 -     iterative_attack() ] Test pred (full): [[9.992766e-01 7.233794e-04]]\n",
      "[iter_attack.py:169 -     iterative_attack() ] Test pred (top): [[9.991351e-01 8.649712e-04]]\n",
      "[iter_attack.py:125 -     iterative_attack() ] *** Iter: 14\n",
      "[iter_attack.py:127 -     iterative_attack() ] Calculating grad...\n"
     ]
    },
    {
     "name": "stdout",
     "output_type": "stream",
     "text": [
      "Norm of test gradient: 0.12108906\n",
      "Total number of parameters: 2048\n",
      "Warning: Desired error not necessarily achieved due to precision loss.\n",
      "         Current function value: -3.456915\n",
      "         Iterations: 8\n",
      "         Function evaluations: 122\n",
      "         Gradient evaluations: 118\n",
      "         Hessian evaluations: 50\n",
      "Saved inverse HVP to output/dogfish_400_200_inception_onlytop_wd-0.001-test-3.npz\n",
      "Inverse HVP took 2.63354706764 sec\n"
     ]
    },
    {
     "name": "stderr",
     "output_type": "stream",
     "text": [
      "[Progress.py:231 - get_grad_of_influence_wrt_input() ] Looping over training points. Counter: 0, idx_to_remove: 219\n",
      "[genericNeuralNet.py:911 - grad_influence_wrt_input() ] calculating grad_influence_wrt_input\n"
     ]
    },
    {
     "name": "stdout",
     "output_type": "stream",
     "text": [
      "Norm of test gradient: 0.0657773\n",
      "Loaded inverse HVP from output/dogfish_400_200_inception_wd-0.001-test-3.npz\n",
      "Inverse HVP took 0.000910043716431 sec\n",
      "Entering the for loop\n"
     ]
    },
    {
     "name": "stderr",
     "output_type": "stream",
     "text": [
      "[iter_attack.py:67 - poison_with_influence_proj_gradient_step() ] -- max: 0.6282668113708496, mean: 4.0378873221569874e-05, min: -0.6789782047271729\n",
      "[genericNeuralNet.py:330 -     print_model_eval() ] Train loss (w reg) on all data: 0.008385873\n",
      "[genericNeuralNet.py:331 -     print_model_eval() ] Train loss (w/o reg) on all data: 0.0022939944\n",
      "[genericNeuralNet.py:333 -     print_model_eval() ] Test loss (w/o reg) on all data: 0.029857202\n",
      "[genericNeuralNet.py:334 -     print_model_eval() ] Train acc on all data:  1.0\n",
      "[genericNeuralNet.py:335 -     print_model_eval() ] Test acc on all data:   0.99\n",
      "[genericNeuralNet.py:337 -     print_model_eval() ] Norm of the mean of gradients: 0.0006547974\n",
      "[genericNeuralNet.py:338 -     print_model_eval() ] Norm of the params: 3.490524\n"
     ]
    },
    {
     "name": "stdout",
     "output_type": "stream",
     "text": [
      "Using normal model\n",
      "LBFGS training took [0] iter.\n",
      "After training with LBFGS: \n",
      "Loaded weights from disk.\n"
     ]
    },
    {
     "name": "stderr",
     "output_type": "stream",
     "text": [
      "[iter_attack.py:166 -     iterative_attack() ] Test pred (full): [[9.9927670e-01 7.2336185e-04]]\n",
      "[iter_attack.py:169 -     iterative_attack() ] Test pred (top): [[9.9913508e-01 8.6493907e-04]]\n",
      "[iter_attack.py:125 -     iterative_attack() ] *** Iter: 15\n",
      "[iter_attack.py:127 -     iterative_attack() ] Calculating grad...\n"
     ]
    },
    {
     "name": "stdout",
     "output_type": "stream",
     "text": [
      "Norm of test gradient: 0.121092685\n",
      "Total number of parameters: 2048\n",
      "Warning: Desired error not necessarily achieved due to precision loss.\n",
      "         Current function value: -3.456957\n",
      "         Iterations: 8\n",
      "         Function evaluations: 141\n",
      "         Gradient evaluations: 134\n",
      "         Hessian evaluations: 39\n",
      "Saved inverse HVP to output/dogfish_400_200_inception_onlytop_wd-0.001-test-3.npz\n",
      "Inverse HVP took 2.53417682648 sec\n"
     ]
    },
    {
     "name": "stderr",
     "output_type": "stream",
     "text": [
      "[Progress.py:231 - get_grad_of_influence_wrt_input() ] Looping over training points. Counter: 0, idx_to_remove: 219\n",
      "[genericNeuralNet.py:911 - grad_influence_wrt_input() ] calculating grad_influence_wrt_input\n"
     ]
    },
    {
     "name": "stdout",
     "output_type": "stream",
     "text": [
      "Norm of test gradient: 0.06577546\n",
      "Loaded inverse HVP from output/dogfish_400_200_inception_wd-0.001-test-3.npz\n",
      "Inverse HVP took 0.00092077255249 sec\n",
      "Entering the for loop\n"
     ]
    },
    {
     "name": "stderr",
     "output_type": "stream",
     "text": [
      "[iter_attack.py:67 - poison_with_influence_proj_gradient_step() ] -- max: 0.6283501386642456, mean: 4.038429112823959e-05, min: -0.6790536642074585\n",
      "[genericNeuralNet.py:330 -     print_model_eval() ] Train loss (w reg) on all data: 0.008385875\n",
      "[genericNeuralNet.py:331 -     print_model_eval() ] Train loss (w/o reg) on all data: 0.0022939963\n",
      "[genericNeuralNet.py:333 -     print_model_eval() ] Test loss (w/o reg) on all data: 0.029857045\n",
      "[genericNeuralNet.py:334 -     print_model_eval() ] Train acc on all data:  1.0\n",
      "[genericNeuralNet.py:335 -     print_model_eval() ] Test acc on all data:   0.99\n",
      "[genericNeuralNet.py:337 -     print_model_eval() ] Norm of the mean of gradients: 0.0006554165\n",
      "[genericNeuralNet.py:338 -     print_model_eval() ] Norm of the params: 3.490524\n"
     ]
    },
    {
     "name": "stdout",
     "output_type": "stream",
     "text": [
      "Using normal model\n",
      "LBFGS training took [0] iter.\n",
      "After training with LBFGS: \n",
      "Loaded weights from disk.\n"
     ]
    },
    {
     "name": "stderr",
     "output_type": "stream",
     "text": [
      "[iter_attack.py:166 -     iterative_attack() ] Test pred (full): [[9.992766e-01 7.233804e-04]]\n",
      "[iter_attack.py:169 -     iterative_attack() ] Test pred (top): [[9.991351e-01 8.649753e-04]]\n",
      "[iter_attack.py:125 -     iterative_attack() ] *** Iter: 16\n",
      "[iter_attack.py:127 -     iterative_attack() ] Calculating grad...\n"
     ]
    },
    {
     "name": "stdout",
     "output_type": "stream",
     "text": [
      "Norm of test gradient: 0.121089116\n",
      "Total number of parameters: 2048\n",
      "Warning: Desired error not necessarily achieved due to precision loss.\n",
      "         Current function value: -3.456916\n",
      "         Iterations: 7\n",
      "         Function evaluations: 91\n",
      "         Gradient evaluations: 86\n",
      "         Hessian evaluations: 39\n",
      "Saved inverse HVP to output/dogfish_400_200_inception_onlytop_wd-0.001-test-3.npz\n",
      "Inverse HVP took 1.99160218239 sec\n"
     ]
    },
    {
     "name": "stderr",
     "output_type": "stream",
     "text": [
      "[Progress.py:231 - get_grad_of_influence_wrt_input() ] Looping over training points. Counter: 0, idx_to_remove: 219\n",
      "[genericNeuralNet.py:911 - grad_influence_wrt_input() ] calculating grad_influence_wrt_input\n"
     ]
    },
    {
     "name": "stdout",
     "output_type": "stream",
     "text": [
      "Norm of test gradient: 0.06577721\n",
      "Loaded inverse HVP from output/dogfish_400_200_inception_wd-0.001-test-3.npz\n",
      "Inverse HVP took 0.0010039806366 sec\n",
      "Entering the for loop\n"
     ]
    },
    {
     "name": "stderr",
     "output_type": "stream",
     "text": [
      "[iter_attack.py:67 - poison_with_influence_proj_gradient_step() ] -- max: 0.6281034350395203, mean: 4.0360387942545946e-05, min: -0.6787304282188416\n",
      "[genericNeuralNet.py:330 -     print_model_eval() ] Train loss (w reg) on all data: 0.008385873\n",
      "[genericNeuralNet.py:331 -     print_model_eval() ] Train loss (w/o reg) on all data: 0.0022939944\n",
      "[genericNeuralNet.py:333 -     print_model_eval() ] Test loss (w/o reg) on all data: 0.0298572\n",
      "[genericNeuralNet.py:334 -     print_model_eval() ] Train acc on all data:  1.0\n",
      "[genericNeuralNet.py:335 -     print_model_eval() ] Test acc on all data:   0.99\n",
      "[genericNeuralNet.py:337 -     print_model_eval() ] Norm of the mean of gradients: 0.0006548084\n",
      "[genericNeuralNet.py:338 -     print_model_eval() ] Norm of the params: 3.4905243\n"
     ]
    },
    {
     "name": "stdout",
     "output_type": "stream",
     "text": [
      "Using normal model\n",
      "LBFGS training took [0] iter.\n",
      "After training with LBFGS: \n",
      "Loaded weights from disk.\n"
     ]
    },
    {
     "name": "stderr",
     "output_type": "stream",
     "text": [
      "[iter_attack.py:166 -     iterative_attack() ] Test pred (full): [[9.992767e-01 7.233629e-04]]\n",
      "[iter_attack.py:169 -     iterative_attack() ] Test pred (top): [[9.9913508e-01 8.6494396e-04]]\n",
      "[iter_attack.py:125 -     iterative_attack() ] *** Iter: 17\n",
      "[iter_attack.py:127 -     iterative_attack() ] Calculating grad...\n"
     ]
    },
    {
     "name": "stdout",
     "output_type": "stream",
     "text": [
      "Norm of test gradient: 0.12109269\n",
      "Total number of parameters: 2048\n",
      "Warning: Desired error not necessarily achieved due to precision loss.\n",
      "         Current function value: -3.456957\n",
      "         Iterations: 7\n",
      "         Function evaluations: 76\n",
      "         Gradient evaluations: 71\n",
      "         Hessian evaluations: 37\n",
      "Saved inverse HVP to output/dogfish_400_200_inception_onlytop_wd-0.001-test-3.npz\n",
      "Inverse HVP took 1.65486884117 sec\n"
     ]
    },
    {
     "name": "stderr",
     "output_type": "stream",
     "text": [
      "[Progress.py:231 - get_grad_of_influence_wrt_input() ] Looping over training points. Counter: 0, idx_to_remove: 219\n",
      "[genericNeuralNet.py:911 - grad_influence_wrt_input() ] calculating grad_influence_wrt_input\n"
     ]
    },
    {
     "name": "stdout",
     "output_type": "stream",
     "text": [
      "Norm of test gradient: 0.06577537\n",
      "Loaded inverse HVP from output/dogfish_400_200_inception_wd-0.001-test-3.npz\n",
      "Inverse HVP took 0.000993013381958 sec\n",
      "Entering the for loop\n"
     ]
    },
    {
     "name": "stderr",
     "output_type": "stream",
     "text": [
      "[iter_attack.py:67 - poison_with_influence_proj_gradient_step() ] -- max: 0.6283490061759949, mean: 4.038470187250826e-05, min: -0.6790556907653809\n",
      "[genericNeuralNet.py:330 -     print_model_eval() ] Train loss (w reg) on all data: 0.008385876\n",
      "[genericNeuralNet.py:331 -     print_model_eval() ] Train loss (w/o reg) on all data: 0.0022939963\n",
      "[genericNeuralNet.py:333 -     print_model_eval() ] Test loss (w/o reg) on all data: 0.029857047\n",
      "[genericNeuralNet.py:334 -     print_model_eval() ] Train acc on all data:  1.0\n",
      "[genericNeuralNet.py:335 -     print_model_eval() ] Test acc on all data:   0.99\n",
      "[genericNeuralNet.py:337 -     print_model_eval() ] Norm of the mean of gradients: 0.00065539556\n",
      "[genericNeuralNet.py:338 -     print_model_eval() ] Norm of the params: 3.4905243\n"
     ]
    },
    {
     "name": "stdout",
     "output_type": "stream",
     "text": [
      "Using normal model\n",
      "LBFGS training took [0] iter.\n",
      "After training with LBFGS: \n",
      "Loaded weights from disk.\n"
     ]
    },
    {
     "name": "stderr",
     "output_type": "stream",
     "text": [
      "[iter_attack.py:166 -     iterative_attack() ] Test pred (full): [[9.9927658e-01 7.2338106e-04]]\n",
      "[iter_attack.py:169 -     iterative_attack() ] Test pred (top): [[9.9913508e-01 8.6497987e-04]]\n",
      "[iter_attack.py:125 -     iterative_attack() ] *** Iter: 18\n",
      "[iter_attack.py:127 -     iterative_attack() ] Calculating grad...\n"
     ]
    },
    {
     "name": "stdout",
     "output_type": "stream",
     "text": [
      "Norm of test gradient: 0.12108925\n",
      "Total number of parameters: 2048\n",
      "Warning: Desired error not necessarily achieved due to precision loss.\n",
      "         Current function value: -3.456918\n",
      "         Iterations: 8\n",
      "         Function evaluations: 85\n",
      "         Gradient evaluations: 81\n",
      "         Hessian evaluations: 40\n",
      "Saved inverse HVP to output/dogfish_400_200_inception_onlytop_wd-0.001-test-3.npz\n",
      "Inverse HVP took 1.54601597786 sec\n"
     ]
    },
    {
     "name": "stderr",
     "output_type": "stream",
     "text": [
      "[Progress.py:231 - get_grad_of_influence_wrt_input() ] Looping over training points. Counter: 0, idx_to_remove: 219\n",
      "[genericNeuralNet.py:911 - grad_influence_wrt_input() ] calculating grad_influence_wrt_input\n"
     ]
    },
    {
     "name": "stdout",
     "output_type": "stream",
     "text": [
      "Norm of test gradient: 0.06577706\n",
      "Loaded inverse HVP from output/dogfish_400_200_inception_wd-0.001-test-3.npz\n",
      "Inverse HVP took 0.000895977020264 sec\n",
      "Entering the for loop\n"
     ]
    },
    {
     "name": "stderr",
     "output_type": "stream",
     "text": [
      "[iter_attack.py:67 - poison_with_influence_proj_gradient_step() ] -- max: 0.6283488273620605, mean: 4.038433831023919e-05, min: -0.6790594458580017\n",
      "[genericNeuralNet.py:330 -     print_model_eval() ] Train loss (w reg) on all data: 0.008385874\n",
      "[genericNeuralNet.py:331 -     print_model_eval() ] Train loss (w/o reg) on all data: 0.0022939947\n",
      "[genericNeuralNet.py:333 -     print_model_eval() ] Test loss (w/o reg) on all data: 0.029857187\n",
      "[genericNeuralNet.py:334 -     print_model_eval() ] Train acc on all data:  1.0\n",
      "[genericNeuralNet.py:335 -     print_model_eval() ] Test acc on all data:   0.99\n",
      "[genericNeuralNet.py:337 -     print_model_eval() ] Norm of the mean of gradients: 0.00065483473\n",
      "[genericNeuralNet.py:338 -     print_model_eval() ] Norm of the params: 3.490524\n"
     ]
    },
    {
     "name": "stdout",
     "output_type": "stream",
     "text": [
      "Using normal model\n",
      "LBFGS training took [0] iter.\n",
      "After training with LBFGS: \n",
      "Loaded weights from disk.\n"
     ]
    },
    {
     "name": "stderr",
     "output_type": "stream",
     "text": [
      "[iter_attack.py:166 -     iterative_attack() ] Test pred (full): [[9.992767e-01 7.233660e-04]]\n",
      "[iter_attack.py:169 -     iterative_attack() ] Test pred (top): [[9.991351e-01 8.649510e-04]]\n",
      "[iter_attack.py:125 -     iterative_attack() ] *** Iter: 19\n",
      "[iter_attack.py:127 -     iterative_attack() ] Calculating grad...\n"
     ]
    },
    {
     "name": "stdout",
     "output_type": "stream",
     "text": [
      "Norm of test gradient: 0.12109249\n",
      "Total number of parameters: 2048\n",
      "Warning: Desired error not necessarily achieved due to precision loss.\n",
      "         Current function value: -3.456955\n",
      "         Iterations: 10\n",
      "         Function evaluations: 19\n",
      "         Gradient evaluations: 28\n",
      "         Hessian evaluations: 44\n",
      "Saved inverse HVP to output/dogfish_400_200_inception_onlytop_wd-0.001-test-3.npz\n",
      "Inverse HVP took 0.784307956696 sec\n"
     ]
    },
    {
     "name": "stderr",
     "output_type": "stream",
     "text": [
      "[Progress.py:231 - get_grad_of_influence_wrt_input() ] Looping over training points. Counter: 0, idx_to_remove: 219\n",
      "[genericNeuralNet.py:911 - grad_influence_wrt_input() ] calculating grad_influence_wrt_input\n"
     ]
    },
    {
     "name": "stdout",
     "output_type": "stream",
     "text": [
      "Norm of test gradient: 0.06577537\n",
      "Loaded inverse HVP from output/dogfish_400_200_inception_wd-0.001-test-3.npz\n",
      "Inverse HVP took 0.00104689598083 sec\n",
      "Entering the for loop\n"
     ]
    },
    {
     "name": "stderr",
     "output_type": "stream",
     "text": [
      "[iter_attack.py:67 - poison_with_influence_proj_gradient_step() ] -- max: 0.6283489465713501, mean: 4.0384389487680706e-05, min: -0.6790536642074585\n",
      "[genericNeuralNet.py:330 -     print_model_eval() ] Train loss (w reg) on all data: 0.008385875\n",
      "[genericNeuralNet.py:331 -     print_model_eval() ] Train loss (w/o reg) on all data: 0.0022939963\n",
      "[genericNeuralNet.py:333 -     print_model_eval() ] Test loss (w/o reg) on all data: 0.029857049\n",
      "[genericNeuralNet.py:334 -     print_model_eval() ] Train acc on all data:  1.0\n",
      "[genericNeuralNet.py:335 -     print_model_eval() ] Test acc on all data:   0.99\n",
      "[genericNeuralNet.py:337 -     print_model_eval() ] Norm of the mean of gradients: 0.0006553724\n",
      "[genericNeuralNet.py:338 -     print_model_eval() ] Norm of the params: 3.490524\n"
     ]
    },
    {
     "name": "stdout",
     "output_type": "stream",
     "text": [
      "Using normal model\n",
      "LBFGS training took [0] iter.\n",
      "After training with LBFGS: \n",
      "Loaded weights from disk.\n"
     ]
    },
    {
     "name": "stderr",
     "output_type": "stream",
     "text": [
      "[iter_attack.py:166 -     iterative_attack() ] Test pred (full): [[9.992766e-01 7.233821e-04]]\n",
      "[iter_attack.py:169 -     iterative_attack() ] Test pred (top): [[9.991351e-01 8.649832e-04]]\n",
      "[iter_attack.py:125 -     iterative_attack() ] *** Iter: 20\n",
      "[iter_attack.py:127 -     iterative_attack() ] Calculating grad...\n"
     ]
    },
    {
     "name": "stdout",
     "output_type": "stream",
     "text": [
      "Norm of test gradient: 0.121089384\n",
      "Total number of parameters: 2048\n",
      "Warning: Desired error not necessarily achieved due to precision loss.\n",
      "         Current function value: -3.456921\n",
      "         Iterations: 6\n",
      "         Function evaluations: 52\n",
      "         Gradient evaluations: 47\n",
      "         Hessian evaluations: 34\n",
      "Saved inverse HVP to output/dogfish_400_200_inception_onlytop_wd-0.001-test-3.npz\n",
      "Inverse HVP took 1.14726090431 sec\n"
     ]
    },
    {
     "name": "stderr",
     "output_type": "stream",
     "text": [
      "[Progress.py:231 - get_grad_of_influence_wrt_input() ] Looping over training points. Counter: 0, idx_to_remove: 219\n",
      "[genericNeuralNet.py:911 - grad_influence_wrt_input() ] calculating grad_influence_wrt_input\n"
     ]
    },
    {
     "name": "stdout",
     "output_type": "stream",
     "text": [
      "Norm of test gradient: 0.06577694\n",
      "Loaded inverse HVP from output/dogfish_400_200_inception_wd-0.001-test-3.npz\n",
      "Inverse HVP took 0.000977039337158 sec\n",
      "Entering the for loop\n"
     ]
    },
    {
     "name": "stderr",
     "output_type": "stream",
     "text": [
      "[iter_attack.py:67 - poison_with_influence_proj_gradient_step() ] -- max: 0.6283042430877686, mean: 4.037565082998337e-05, min: -0.6789657473564148\n",
      "[genericNeuralNet.py:330 -     print_model_eval() ] Train loss (w reg) on all data: 0.0083858725\n",
      "[genericNeuralNet.py:331 -     print_model_eval() ] Train loss (w/o reg) on all data: 0.0022939935\n",
      "[genericNeuralNet.py:333 -     print_model_eval() ] Test loss (w/o reg) on all data: 0.029857202\n",
      "[genericNeuralNet.py:334 -     print_model_eval() ] Train acc on all data:  1.0\n",
      "[genericNeuralNet.py:335 -     print_model_eval() ] Test acc on all data:   0.99\n",
      "[genericNeuralNet.py:337 -     print_model_eval() ] Norm of the mean of gradients: 0.0006547789\n",
      "[genericNeuralNet.py:338 -     print_model_eval() ] Norm of the params: 3.4905243\n"
     ]
    },
    {
     "name": "stdout",
     "output_type": "stream",
     "text": [
      "Using normal model\n",
      "LBFGS training took [0] iter.\n",
      "After training with LBFGS: \n",
      "Loaded weights from disk.\n"
     ]
    },
    {
     "name": "stderr",
     "output_type": "stream",
     "text": [
      "[iter_attack.py:166 -     iterative_attack() ] Test pred (full): [[9.992767e-01 7.233657e-04]]\n",
      "[iter_attack.py:169 -     iterative_attack() ] Test pred (top): [[9.991351e-01 8.649518e-04]]\n",
      "[iter_attack.py:125 -     iterative_attack() ] *** Iter: 21\n",
      "[iter_attack.py:127 -     iterative_attack() ] Calculating grad...\n"
     ]
    },
    {
     "name": "stdout",
     "output_type": "stream",
     "text": [
      "Norm of test gradient: 0.12109284\n",
      "Total number of parameters: 2048\n",
      "Warning: Desired error not necessarily achieved due to precision loss.\n",
      "         Current function value: -3.456960\n",
      "         Iterations: 6\n",
      "         Function evaluations: 95\n",
      "         Gradient evaluations: 91\n",
      "         Hessian evaluations: 34\n",
      "Saved inverse HVP to output/dogfish_400_200_inception_onlytop_wd-0.001-test-3.npz\n",
      "Inverse HVP took 1.89960408211 sec\n"
     ]
    },
    {
     "name": "stderr",
     "output_type": "stream",
     "text": [
      "[Progress.py:231 - get_grad_of_influence_wrt_input() ] Looping over training points. Counter: 0, idx_to_remove: 219\n",
      "[genericNeuralNet.py:911 - grad_influence_wrt_input() ] calculating grad_influence_wrt_input\n"
     ]
    },
    {
     "name": "stdout",
     "output_type": "stream",
     "text": [
      "Norm of test gradient: 0.06577511\n",
      "Loaded inverse HVP from output/dogfish_400_200_inception_wd-0.001-test-3.npz\n",
      "Inverse HVP took 0.00070595741272 sec\n",
      "Entering the for loop\n"
     ]
    },
    {
     "name": "stderr",
     "output_type": "stream",
     "text": [
      "[iter_attack.py:67 - poison_with_influence_proj_gradient_step() ] -- max: 0.6282737255096436, mean: 4.037608194496671e-05, min: -0.6790683269500732\n",
      "[genericNeuralNet.py:330 -     print_model_eval() ] Train loss (w reg) on all data: 0.008385876\n",
      "[genericNeuralNet.py:331 -     print_model_eval() ] Train loss (w/o reg) on all data: 0.0022939967\n",
      "[genericNeuralNet.py:333 -     print_model_eval() ] Test loss (w/o reg) on all data: 0.029857038\n",
      "[genericNeuralNet.py:334 -     print_model_eval() ] Train acc on all data:  1.0\n",
      "[genericNeuralNet.py:335 -     print_model_eval() ] Test acc on all data:   0.99\n",
      "[genericNeuralNet.py:337 -     print_model_eval() ] Norm of the mean of gradients: 0.0006553977\n",
      "[genericNeuralNet.py:338 -     print_model_eval() ] Norm of the params: 3.4905243\n"
     ]
    },
    {
     "name": "stdout",
     "output_type": "stream",
     "text": [
      "Using normal model\n",
      "LBFGS training took [0] iter.\n",
      "After training with LBFGS: \n",
      "Loaded weights from disk.\n"
     ]
    },
    {
     "name": "stderr",
     "output_type": "stream",
     "text": [
      "[iter_attack.py:166 -     iterative_attack() ] Test pred (full): [[9.9927658e-01 7.2338455e-04]]\n",
      "[iter_attack.py:169 -     iterative_attack() ] Test pred (top): [[9.991351e-01 8.649898e-04]]\n",
      "[iter_attack.py:125 -     iterative_attack() ] *** Iter: 22\n",
      "[iter_attack.py:127 -     iterative_attack() ] Calculating grad...\n"
     ]
    },
    {
     "name": "stdout",
     "output_type": "stream",
     "text": [
      "Norm of test gradient: 0.12108925\n",
      "Total number of parameters: 2048\n",
      "Warning: Desired error not necessarily achieved due to precision loss.\n",
      "         Current function value: -3.456920\n",
      "         Iterations: 8\n",
      "         Function evaluations: 79\n",
      "         Gradient evaluations: 76\n",
      "         Hessian evaluations: 42\n",
      "Saved inverse HVP to output/dogfish_400_200_inception_onlytop_wd-0.001-test-3.npz\n",
      "Inverse HVP took 1.39285802841 sec\n"
     ]
    }
   ],
   "source": [
    "print('*** Full:')\n",
    "with full_graph.as_default():\n",
    "    full_model_name = '%s_inception_wd-%s' % (dataset_name, weight_decay)\n",
    "    full_model = BinaryInceptionModel(\n",
    "        img_side=img_side,\n",
    "        num_channels=num_channels,\n",
    "        weight_decay=weight_decay,\n",
    "        num_classes=num_classes, \n",
    "        batch_size=batch_size,\n",
    "        data_sets=data_sets,\n",
    "        initial_learning_rate=initial_learning_rate,\n",
    "        keep_probs=keep_probs,\n",
    "        decay_epochs=decay_epochs,\n",
    "        mini_batch=True,\n",
    "        train_dir='output',\n",
    "        log_dir='log',\n",
    "        model_name=full_model_name)\n",
    "    \n",
    "    for data_set, label in [\n",
    "        (data_sets.train, 'train'),\n",
    "        (data_sets.test, 'test')]:\n",
    "\n",
    "        inception_features_path = 'output/%s_inception_features_new_%s.npz' % (dataset_name, label)\n",
    "        if not os.path.exists(inception_features_path):\n",
    "\n",
    "            print('Inception features do not exist. Generating %s...' % label)\n",
    "            data_set.reset_batch()\n",
    "            \n",
    "            num_examples = data_set.num_examples\n",
    "            assert num_examples % batch_size == 0\n",
    "\n",
    "            inception_features_val = generate_inception_features(\n",
    "                full_model, \n",
    "                data_set.x, \n",
    "                data_set.labels, \n",
    "                batch_size=batch_size)\n",
    "            \n",
    "            np.savez(\n",
    "                inception_features_path, \n",
    "                inception_features_val=inception_features_val,\n",
    "                labels=data_set.labels)\n",
    "            \n",
    "train_f = np.load('output/%s_inception_features_new_train.npz' % dataset_name)\n",
    "inception_X_train = DataSet(train_f['inception_features_val'], train_f['labels'])\n",
    "test_f = np.load('output/%s_inception_features_new_test.npz' % dataset_name)\n",
    "inception_X_test = DataSet(test_f['inception_features_val'], test_f['labels'])\n",
    "\n",
    "validation = None\n",
    "\n",
    "inception_data_sets = base.Datasets(train=inception_X_train, validation=validation, test=inception_X_test)\n",
    "\n",
    "print('*** Top:')\n",
    "with top_graph.as_default():\n",
    "    top_model_name = '%s_inception_onlytop_wd-%s' % (dataset_name, weight_decay)\n",
    "    input_dim = 2048\n",
    "    top_model = BinaryLogisticRegressionWithLBFGS(\n",
    "        input_dim=input_dim,\n",
    "        weight_decay=weight_decay,\n",
    "        max_lbfgs_iter=max_lbfgs_iter,\n",
    "        num_classes=num_classes, \n",
    "        batch_size=batch_size,\n",
    "        data_sets=inception_data_sets,\n",
    "        initial_learning_rate=initial_learning_rate,\n",
    "        keep_probs=keep_probs,\n",
    "        decay_epochs=decay_epochs,\n",
    "        mini_batch=False,\n",
    "        train_dir='output',\n",
    "        log_dir='log',\n",
    "        model_name=top_model_name)\n",
    "    weights = top_model.retrain_and_get_weights(inception_X_train.x, inception_X_train.labels)\n",
    "    orig_weight_path = 'output/inception_weights_%s.npy' % top_model_name\n",
    "    np.save(orig_weight_path, weights)\n",
    "    \n",
    "with full_graph.as_default():\n",
    "    full_model.load_weights_from_disk(orig_weight_path, do_save=False, do_check=True)\n",
    "\n",
    "### Create poisoned dataset\n",
    "print('Creating poisoned dataset...')\n",
    "\n",
    "step_size = 0.02\n",
    "\n",
    "num_train = len(data_sets.train.labels)\n",
    "num_test = len(data_sets.test.labels)\n",
    "max_num_to_poison = 10\n",
    "\n",
    "### Try attacking each test example individually\n",
    "\n",
    "orig_X_train = np.copy(data_sets.train.x)\n",
    "orig_Y_train = np.copy(data_sets.train.labels)\n",
    "\n",
    "test_indices_to_attack = [3]\n",
    "\n",
    "for test_idx in test_indices_to_attack:\n",
    "\n",
    "    print('****** Attacking test_idx %s ******' % test_idx)\n",
    "    test_description = test_idx\n",
    "\n",
    "    # If this has already been successfully attacked, skip\n",
    "    filenames = [filename for filename in os.listdir('./output') if (\n",
    "        (('%s_attack_testidx-%s_trainidx-' % (full_model.model_name, test_description)) in filename) and        \n",
    "        (filename.endswith('stepsize-%s_proj_final.npz' % step_size)))]\n",
    "        # and (('stepsize-%s_proj_final.npz' % step_size) in filename))] # Check all step sizes        \n",
    "    if len(filenames) > 0:\n",
    "        print('test_idx %s has already been successfully attacked. Skipping...')\n",
    "        continue\n",
    "        \n",
    "    # Use top model to quickly generate inverse HVP\n",
    "    test_inception_single_data = DataSet(np.array([inception_X_test.x[test_idx, :]]), np.array([inception_X_test.labels[test_idx]]))\n",
    "    test_single_data = DataSet(np.array([data_sets.test.x[test_idx, :]]), np.array([data_sets.test.labels[test_idx]]))\n",
    "    with top_graph.as_default():\n",
    "        get_hvp(\n",
    "            top_model,\n",
    "            test_inception_single_data, inception_X_train,\n",
    "            test_description=test_description,\n",
    "            force_refresh=True)\n",
    "    copyfile(\n",
    "        'output/%s-test-%s.npz' % (top_model_name, test_description),\n",
    "        'output/%s-test-%s.npz' % (full_model_name, test_description))\n",
    "        \n",
    "    # Use full model to select indices to poison\n",
    "    with full_graph.as_default():\n",
    "        grad_influence_wrt_input_val = get_grad_of_influence_wrt_input(\n",
    "                    full_model,\n",
    "                    test_single_data, \n",
    "                    np.arange(num_train), data_sets.train,\n",
    "                    test_description,\n",
    "                    force_refresh = False)\n",
    "        # save into file for caching ##### TODO\n",
    "        print(\"finished calculating grad_wrt_input_val\")\n",
    "        all_indices_to_poison = select_examples_to_attack(\n",
    "            full_model, \n",
    "            max_num_to_poison, \n",
    "            grad_influence_wrt_input_val,\n",
    "            step_size=step_size)\n",
    "\n",
    "    for num_to_poison in [0.1]:\n",
    "        # If we're just attacking one training example, try attacking the first one and also the second one separately\n",
    "        if num_to_poison == 0.1:\n",
    "            indices_to_poison = all_indices_to_poison[0:1]\n",
    "        elif num_to_poison == 1.2:\n",
    "            indices_to_poison = all_indices_to_poison[1:2]\n",
    "        else:\n",
    "            indices_to_poison = all_indices_to_poison[:num_to_poison]\n",
    "        orig_X_train_subset = np.copy(data_sets.train.x[indices_to_poison, :])\n",
    "        orig_X_train_inception_features_subset = np.copy(inception_X_train.x[indices_to_poison, :])\n",
    "\n",
    "        project_fn = get_projection_to_box_around_orig_point(orig_X_train_subset, box_radius_in_pixels=0.5)\n",
    "\n",
    "        attack_success = iterative_attack(top_model, full_model, top_graph, full_graph, project_fn, \n",
    "                                          [test_idx], \n",
    "                                          test_description, \n",
    "                                          data_sets.train, data_sets.test, dataset_name,\n",
    "                                          indices_to_poison=indices_to_poison,\n",
    "                                          num_iter=100,\n",
    "                                          step_size=step_size,\n",
    "                                          save_iter=100,\n",
    "                                          early_stop=0.5)\n",
    "\n",
    "        with full_graph.as_default():\n",
    "            data_sets.train.x[indices_to_poison, :] = orig_X_train_subset\n",
    "            full_model.load_weights_from_disk(orig_weight_path, do_save=False, do_check=False)\n",
    "        with top_graph.as_default():\n",
    "            inception_X_train.x[indices_to_poison, :] = orig_X_train_inception_features_subset\n",
    "            top_model.retrain_and_get_weights(inception_X_train.x, inception_X_train.labels)\n",
    "\n",
    "        if attack_success:\n",
    "            break"
   ]
  },
  {
   "cell_type": "code",
   "execution_count": 10,
   "metadata": {
    "collapsed": true
   },
   "outputs": [
    {
     "data": {
      "text/plain": [
       "200"
      ]
     },
     "execution_count": 10,
     "metadata": {},
     "output_type": "execute_result"
    }
   ],
   "source": [
    "len(data_sets.test.x)"
   ]
  },
  {
   "cell_type": "code",
   "execution_count": null,
   "metadata": {},
   "outputs": [],
   "source": []
  }
 ],
 "metadata": {
  "kernelspec": {
   "display_name": "Python [conda env:tensorflow_p27]",
   "language": "python",
   "name": "conda-env-tensorflow_p27-py"
  },
  "language_info": {
   "codemirror_mode": {
    "name": "ipython",
    "version": 2
   },
   "file_extension": ".py",
   "mimetype": "text/x-python",
   "name": "python",
   "nbconvert_exporter": "python",
   "pygments_lexer": "ipython2",
   "version": "2.7.14"
  }
 },
 "nbformat": 4,
 "nbformat_minor": 2
}
