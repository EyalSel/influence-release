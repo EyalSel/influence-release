{
 "cells": [
  {
   "cell_type": "code",
   "execution_count": 1,
   "metadata": {},
   "outputs": [
    {
     "name": "stderr",
     "output_type": "stream",
     "text": [
      "/home/ubuntu/anaconda3/envs/influence_env/lib/python2.7/site-packages/matplotlib/__init__.py:1067: UserWarning: Duplicate key in file \"/home/ubuntu/.config/matplotlib/matplotlibrc\", line #2\n",
      "  (fname, cnt))\n",
      "/home/ubuntu/anaconda3/envs/influence_env/lib/python2.7/site-packages/matplotlib/__init__.py:1067: UserWarning: Duplicate key in file \"/home/ubuntu/.config/matplotlib/matplotlibrc\", line #3\n",
      "  (fname, cnt))\n",
      "/home/ubuntu/anaconda3/envs/influence_env/lib/python2.7/site-packages/h5py/__init__.py:34: FutureWarning: Conversion of the second argument of issubdtype from `float` to `np.floating` is deprecated. In future, it will be treated as `np.float64 == np.dtype(float).type`.\n",
      "  from ._conv import register_converters as _register_converters\n",
      "Using TensorFlow backend.\n"
     ]
    }
   ],
   "source": [
    "import numpy as np\n",
    "from data_poisoning import data_poisoning"
   ]
  },
  {
   "cell_type": "markdown",
   "metadata": {},
   "source": [
    "## Experiment 1\n",
    "### Knobs:\n",
    "  - non-targeted, binary\n",
    "  - number of test points: 1 x 21\n",
    "  - number of training points: [1, 2, 4, 8, 16]\n",
    "  - Datasets: [\"Dog/Fish\", \"Eagle/Mushroom\"]\n",
    "\n",
    "### Metrics:\n",
    "  - Success rate\n",
    "  - Angle change\n",
    "  - Test accuracy change"
   ]
  },
  {
   "cell_type": "code",
   "execution_count": 2,
   "metadata": {},
   "outputs": [],
   "source": [
    "dog_fish = {\n",
    "    \"name\": \"Dog_Fish\",\n",
    "    \"classes\":[\"dog\", \"fish\"],\n",
    "    \"num_train_ex_per_class\":900,\n",
    "    \"num_test_ex_per_class\":300\n",
    "}\n",
    "eagle_mushroom = {\n",
    "    \"name\": \"Eagle_Mushroom\",\n",
    "    \"classes\":[\"Eagle\", \"Mushroom\"],\n",
    "    \"num_train_ex_per_class\":500,\n",
    "    \"num_test_ex_per_class\":50\n",
    "}"
   ]
  },
  {
   "cell_type": "code",
   "execution_count": null,
   "metadata": {},
   "outputs": [
    {
     "name": "stdout",
     "output_type": "stream",
     "text": [
      "Loading animals from disk...\n",
      "../data/dataset_dog-fish_train-900_test-300.npz\n"
     ]
    }
   ],
   "source": [
    "for dataset_classes in [dog_fish, eagle_mushroom]:\n",
    "    sampled_test_points = np.random.choice(np.arange(2*dataset_classes[\"num_test_ex_per_class\"]), 21, replace=False)\n",
    "    for num_train_points in [1,2,4,8,16]:\n",
    "        for test_idx in sampled_test_points:\n",
    "            imgs_indices_to_poison, poisoned_images = data_poisoning(data_selected = dataset_classes[\"classes\"], \n",
    "                                                                     num_train_ex_per_class=dataset_classes[\"num_train_ex_per_class\"], \n",
    "                                                                     num_test_ex_per_class=dataset_classes[\"num_test_ex_per_class\"],\n",
    "                                                                     use_IF = True,\n",
    "                                                                     target_test_idx = [test_idx],\n",
    "                                                                     num_to_perterb = 1,\n",
    "                                                                     target_labels = None)\n",
    "            np.save(\"Experiment_results/Experiment_1/Experiment_1_indices_IF_{}_num_train_{}__{}\".format(dataset_classes[\"name\"], num_train_points, test_idx), imgs_indices_to_poison)\n",
    "            np.save(\"Experiment_results/Experiment_1/Experiment_1_poisons_IF_{}_num_train_{}__{}\".format(dataset_classes[\"name\"], num_train_points, test_idx), poisoned_images)"
   ]
  },
  {
   "cell_type": "code",
   "execution_count": null,
   "metadata": {},
   "outputs": [],
   "source": [
    "for dataset_classes in [dog_fish, eagle_mushroom]:\n",
    "    sampled_test_points = np.random.choice(np.arange(2*dataset_classes[\"num_test_ex_per_class\"]), 21, replace=False)\n",
    "    for num_train_points in [1,2,4,8,16]:\n",
    "        for test_idx in sampled_test_points:\n",
    "            imgs_indices_to_poison, poisoned_images = data_poisoning(data_selected = dataset_classes[\"classes\"], \n",
    "                                                                     num_train_ex_per_class=dataset_classes[\"num_train_ex_per_class\"], \n",
    "                                                                     num_test_ex_per_class=dataset_classes[\"num_test_ex_per_class\"],\n",
    "                                                                     use_IF = False,\n",
    "                                                                     target_test_idx = [test_idx],\n",
    "                                                                     num_to_perterb = 1,\n",
    "                                                                     target_labels = None)\n",
    "            np.save(\"Experiment_results/Experiment_1/Experiment_1_indices_FC_{}_num_train_{}__{}\".format(dataset_classes[\"name\"], num_train_points, test_idx), imgs_indices_to_poison)\n",
    "            np.save(\"Experiment_results/Experiment_1/Experiment_1_poisons_FC_{}_num_train_{}__{}\".format(dataset_classes[\"name\"], num_train_points, test_idx), poisoned_images)"
   ]
  },
  {
   "cell_type": "code",
   "execution_count": null,
   "metadata": {},
   "outputs": [],
   "source": []
  }
 ],
 "metadata": {
  "kernelspec": {
   "display_name": "Python [conda env:influence_env]",
   "language": "python",
   "name": "conda-env-influence_env-py"
  },
  "language_info": {
   "codemirror_mode": {
    "name": "ipython",
    "version": 2
   },
   "file_extension": ".py",
   "mimetype": "text/x-python",
   "name": "python",
   "nbconvert_exporter": "python",
   "pygments_lexer": "ipython2",
   "version": "2.7.15"
  }
 },
 "nbformat": 4,
 "nbformat_minor": 2
}
