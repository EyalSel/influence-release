{
 "cells": [
  {
   "cell_type": "code",
   "execution_count": 5,
   "metadata": {},
   "outputs": [
    {
     "name": "stdout",
     "output_type": "stream",
     "text": [
      "The autoreload extension is already loaded. To reload it, use:\n",
      "  %reload_ext autoreload\n"
     ]
    }
   ],
   "source": [
    "import numpy as np\n",
    "import matplotlib.pylab as plt\n",
    "import sklearn\n",
    "from skimage import io\n",
    "%matplotlib inline\n",
    "\n",
    "%load_ext autoreload\n",
    "%autoreload 2"
   ]
  },
  {
   "cell_type": "code",
   "execution_count": 6,
   "metadata": {},
   "outputs": [],
   "source": [
    "img_side = 299\n",
    "num_channels = 3"
   ]
  },
  {
   "cell_type": "code",
   "execution_count": 3,
   "metadata": {},
   "outputs": [],
   "source": [
    "training_dataset_classes = [\"Eagle\", \"Snail\", \"Mushroom\"]\n",
    "num_training_points = 500\n",
    "num_test_points = 100\n",
    "poisoned_training_points = []\n",
    "poisoned_training_points_indices = []\n",
    "target_test_points_indices = []\n",
    "method = \"IF\" # or \"FC\""
   ]
  },
  {
   "cell_type": "code",
   "execution_count": null,
   "metadata": {},
   "outputs": [],
   "source": [
    "def get_dataset(classes):\n",
    "    "
   ]
  },
  {
   "cell_type": "code",
   "execution_count": null,
   "metadata": {},
   "outputs": [],
   "source": []
  },
  {
   "cell_type": "markdown",
   "metadata": {},
   "source": [
    "## tSNE"
   ]
  },
  {
   "cell_type": "code",
   "execution_count": null,
   "metadata": {},
   "outputs": [],
   "source": [
    "# render relevant images\n",
    "\n",
    "num_poisoned_training_points = len(poisoned_training_points)\n",
    "num_target_test_points = len(target_test_points_indices)\n",
    "\n",
    "# clip poisoned images NOT DONE\n",
    "if method == \"FC\":\n",
    "    poisoned_training_points_clipped = np.copy(poisoned_training_points).reshape(num_poisoned_training_points, -1)\n",
    "    if np.max(poisoned_training_points_clipped, axis=1) > 1 or np.min(poisoned_image) < -1:\n",
    "        temp = np.max(poisoned_image_render) - np.min(poisoned_image_render)\n",
    "        poisoned_image_render /= temp\n",
    "\n",
    "if method == \"IF\":\n",
    "    poisoned_training_points_to_render = poisoned_training_points\n",
    "else:\n",
    "    poisoned_training_points_to_render = poisoned_training_points_clipped\n",
    "    \n",
    "# render original training points and poisoned ones\n",
    "plt.figure(25,25./num_poisoned_training_points * 2)\n",
    "for index_to_poison in poisoned_training_points_indices:\n",
    "    plt.subplot(2,num_poisoned_training_points,i)\n",
    "    plt.title(\"Original Training Image [{}]\".format(index_to_poison))\n",
    "    render_img(data_sets.train.x[index_to_poison].reshape((img_side,img_side,num_channels)))\n",
    "\n",
    "for training_point, index_to_poison in zip(poisoned_training_points_to_render, poisoned_training_points_indices):\n",
    "    plt.subplot(2,num_poisoned_training_points,num_poisoned_training_points+i)\n",
    "    plt.title(\"Poisoned Training Image [{}]\".format(index_to_poison))\n",
    "    render_img(poisoned_training_points_to_render.reshape((img_side,img_side,num_channels)))\n",
    "\n",
    "# render targe test images\n",
    "plt.figure(25,25./num_target_test_points)\n",
    "for target_index in target_test_points_indices:\n",
    "    plt.subplot(2,num_poisoned_training_points,i)\n",
    "    plt.title(\"Target test image [{}]\".format(target_index))\n",
    "    render_img(data_sets.test.x[target_index].reshape((img_side,img_side,num_channels)))\n",
    "    \n",
    "# Get tSNE plot\n",
    "\n",
    "# Extract Inception features\n",
    "all_dataset_x = np.concatenate([np.copy(data_sets.train.x), \n",
    "                                poisoned_training_points_clipped if method == \"FC\" else [], \n",
    "                                poisoned_training_points, \n",
    "                                data_sets.test.x[target_test_points_indices]\n",
    "                               ], axis = 0)\n",
    "all_dataset_labels = np.concatenate([np.copy(data_sets.train.labels), \n",
    "                                     np.copy(data_sets.train.labels[poisoned_training_points_indices]) if method == \"FC\" else [], \n",
    "                                     np.copy(data_sets.train.labels[poisoned_training_points_indices]), \n",
    "                                     data_sets.test.labels[target_test_points_indices]], axis = 0)\n",
    "all_dataset = DataSet(all_dataset_x, all_dataset_labels)\n",
    "print \"Extracting latent space features...\"\n",
    "with full_graph.as_default():\n",
    "    all_inceptions = full_model.generate_inception_features(all_dataset, None)\n",
    "\n",
    "# Calculate tSNE\n",
    "from sklearn.manifold import TSNE\n",
    "tsne = TSNE(n_components=2, verbose=1, perplexity=40, n_iter=300, random_state=69)\n",
    "tsne_results = tsne.fit_transform(all_inceptions)\n",
    "\n",
    "plt.figure(figsize=(12,12))\n",
    "\n",
    "# plot entire training dataset\n",
    "for class_label in range(num_classes):\n",
    "    class_mask = data_sets.train.labels == class_label\n",
    "    plt.scatter( tsne_results.T[0][class_mask], tsne_results.T[1][class_mask], label=training_dataset_classes[class_label]) \n",
    "\n",
    "# plot training points before poison\n",
    "plt.scatter(tsne_results.T[0][poisoned_training_points_indices], \n",
    "            tsne_results.T[1][poisoned_training_points_indices], \n",
    "            label=\"Original Training Points\", marker='*', s=200)\n",
    "for index, coordinate in zip(poisoned_training_points_indices, tsne_results.T[0][poisoned_training_points_indices]):\n",
    "    plt.annotate(s=str(index), xy = coordinate)\n",
    "# plot training points after poison no clipping\n",
    "plt.scatter(tsne_results.T[0][num_training_points:num_training_points+num_poisoned_training_points], \n",
    "            tsne_results.T[1][num_training_points:num_training_points+num_poisoned_training_points], \n",
    "            label=\"Non-rescaled poisoned training point\", marker='*', s=200)\n",
    "for index, coordinate in zip(poisoned_training_points_indices, tsne_results.T[0][num_training_points:num_training_points+num_poisoned_training_points]):\n",
    "    plt.annotate(s=str(index), xy = coordinate)\n",
    "# plot training points after poison with clipping (if applicable)\n",
    "if method == \"FC\":\n",
    "    plt.scatter(tsne_results.T[0][-num_target_test_points-num_poisoned_training_points:-num_target_test_points], \n",
    "                tsne_results.T[1][-num_target_test_points-num_poisoned_training_points:-num_target_test_points], \n",
    "                label=\"Rescaled poisoned training point\", marker='*', s=200)\n",
    "    for index, coordinate in zip(poisoned_training_points_indices, tsne_results.T[0][-num_target_test_points-num_poisoned_training_points:-num_target_test_points]):\n",
    "        plt.annotate(s=str(index), xy = coordinate)\n",
    "# plot target test points\n",
    "plt.scatter( tsne_results.T[0][-num_target_test_points:], tsne_results.T[1][-num_target_test_points:], label=\"Target test points\", marker='*', s=200)\n",
    "for index, coordinate in zip(poisoned_test_points_indices, tsne_results.T[0][-num_target_test_points:]):\n",
    "    plt.annotate(s=str(index), xy = coordinate)\n",
    "\n",
    "plt.legend()"
   ]
  }
 ],
 "metadata": {
  "kernelspec": {
   "display_name": "Python 3",
   "language": "python",
   "name": "python3"
  },
  "language_info": {
   "codemirror_mode": {
    "name": "ipython",
    "version": 3
   },
   "file_extension": ".py",
   "mimetype": "text/x-python",
   "name": "python",
   "nbconvert_exporter": "python",
   "pygments_lexer": "ipython3",
   "version": "3.6.4"
  }
 },
 "nbformat": 4,
 "nbformat_minor": 2
}
