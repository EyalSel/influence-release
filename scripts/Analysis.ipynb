{
 "cells": [
  {
   "cell_type": "code",
   "execution_count": 87,
   "metadata": {},
   "outputs": [
    {
     "name": "stdout",
     "output_type": "stream",
     "text": [
      "The autoreload extension is already loaded. To reload it, use:\n",
      "  %reload_ext autoreload\n"
     ]
    }
   ],
   "source": [
    "import numpy as np\n",
    "import matplotlib.pylab as plt\n",
    "import sklearn\n",
    "from skimage import io\n",
    "import tensorflow as tf\n",
    "%matplotlib inline\n",
    "\n",
    "from load_animals import *\n",
    "from influence.iter_attack import get_projection_to_box_around_orig_point\n",
    "from influence.inceptionModel import BinaryInceptionModel\n",
    "from data_poisoning import data_poisoning\n",
    "\n",
    "from utils import dataset_metadatas, experiment_result_metadata_to_FN, FN_to_experiment_result_metadata, get_dataset, render_img, get_full_model_graph\n",
    "\n",
    "%load_ext autoreload\n",
    "%autoreload 2"
   ]
  },
  {
   "cell_type": "code",
   "execution_count": 88,
   "metadata": {},
   "outputs": [],
   "source": [
    "def analyze_results(indices_and_poisons_FNs, visualize=False, tsne=False, logits=False, cache={}):\n",
    "    \"\"\"\n",
    "    cache would really save time in execution if provided\n",
    "    cache[\"full_model_and_graph\"] should give (full_model, full_graph)\n",
    "    cache[\"data_sets\"] should give (data_sets)\n",
    "    \"\"\"\n",
    "    # Get metadata from file name\n",
    "    FN_1, FN_2 = indices_and_poisons_FNs\n",
    "    first_is_indices = FN_to_experiment_result_metadata(FN_1)[\"contents_type\"] == \"indices\"\n",
    "    if first_is_indices:\n",
    "        indices_FN = FN_1\n",
    "        poisons_FN = FN_2\n",
    "    else:\n",
    "        indices_FN = FN_2\n",
    "        poisons_FN = FN_1\n",
    "    \n",
    "    # Get dataset metadata and load dataset\n",
    "    dataset_name = FN_to_experiment_result_metadata(indices_FN)[\"dataset_name\"]\n",
    "    dataset_metadata = dataset_metadatas[dataset_name]\n",
    "    \n",
    "    # Constants that don't change for Inception (May need to change for other feature extraction methods like Resnet)\n",
    "    img_side = 299\n",
    "    num_channels = 3\n",
    "    \n",
    "    # Variables used throughout the analysis\n",
    "    training_dataset_classes = dataset_metadata[\"classes\"]\n",
    "    num_train_ex_per_class = dataset_metadata[\"num_train_ex_per_class\"]\n",
    "    num_test_ex_per_class = dataset_metadata[\"num_test_ex_per_class\"]\n",
    "    num_classes = len(training_dataset_classes)\n",
    "    num_training_points = num_train_ex_per_class * num_classes\n",
    "    num_testing_points = num_test_ex_per_class * num_classes\n",
    "    poisoned_training_points = np.load(poisons_FN)\n",
    "    poisoned_training_points_indices = np.load(indices_FN)\n",
    "    target_test_points_indices = [FN_to_experiment_result_metadata(indices_FN)[\"test_idx\"]] # Currently the file name has one test index, need to extend to file names with multiple test indices\n",
    "    num_target_test_points = len(target_test_points_indices)\n",
    "    num_poisoned_training_points = len(poisoned_training_points_indices)\n",
    "    method = FN_to_experiment_result_metadata(indices_FN)[\"method\"]\n",
    "    \n",
    "    # load dataset if they're not in the cache\n",
    "    if cache[\"data_sets\"]:\n",
    "        data_sets = cache[\"data_sets\"]\n",
    "    else:\n",
    "        data_sets = get_dataset(dataset_metadata)\n",
    "\n",
    "    if visualize:\n",
    "        # render original training points and poisoned ones\n",
    "        screen_width = 12.5\n",
    "        plt.figure(figsize=(screen_width, screen_width/num_poisoned_training_points * 2))\n",
    "        for i, index_to_poison in enumerate(poisoned_training_points_indices):\n",
    "            plt.subplot(2,num_poisoned_training_points,i+1)\n",
    "            plt.title(\"Original Training Image [{}]\".format(index_to_poison))\n",
    "            render_img(data_sets.train.x[index_to_poison].reshape((img_side,img_side,num_channels)))\n",
    "\n",
    "        for i, (training_point, index_to_poison) in enumerate(zip(poisoned_training_points, poisoned_training_points_indices)):\n",
    "            plt.subplot(2,num_poisoned_training_points,num_poisoned_training_points+i+1)\n",
    "            plt.title(\"Poisoned Training Image [{}]\".format(index_to_poison))\n",
    "            render_img(training_point.reshape((img_side,img_side,num_channels)))\n",
    "\n",
    "        # render target test images\n",
    "        plt.figure(figsize=(screen_width,screen_width/num_target_test_points))\n",
    "        for target_index in target_test_points_indices:\n",
    "            plt.subplot(2,num_poisoned_training_points,i+1)\n",
    "            plt.title(\"Target test image [{}]\".format(target_index))\n",
    "            render_img(data_sets.test.x[target_index].reshape((img_side,img_side,num_channels)))\n",
    "        plt.show()\n",
    "    \n",
    "    if not tsne and not logits:\n",
    "        return\n",
    "    \n",
    "    print(\"Setting up full model...\")\n",
    "    # load full model if it's not in the cache argument\n",
    "    if cache[\"full_model_and_graph\"]:\n",
    "        full_graph, full_model = cache[\"full_model_and_graph\"]\n",
    "    else:\n",
    "        full_graph, full_model = get_full_model_graph(dataset_metadata, data_sets)\n",
    "    \n",
    "    if tsne:\n",
    "        all_dataset_x = np.concatenate([np.copy(data_sets.train.x), \n",
    "                                        poisoned_training_points, \n",
    "                                        poisoned_training_points_clipped if method == \"FC\" else [], \n",
    "                                        data_sets.test.x[target_test_points_indices]\n",
    "                                       ], axis = 0)\n",
    "        all_dataset_labels = np.concatenate([np.copy(data_sets.train.labels),  \n",
    "                                             np.copy(data_sets.train.labels[poisoned_training_points_indices]), \n",
    "                                             np.copy(data_sets.train.labels[poisoned_training_points_indices]) if method == \"FC\" else [],\n",
    "                                             data_sets.test.labels[target_test_points_indices]], axis = 0)\n",
    "        all_dataset = DataSet(all_dataset_x, all_dataset_labels)\n",
    "        print \"Extracting latent space features...\"\n",
    "        with full_graph.as_default():\n",
    "            all_inceptions = full_model.generate_inception_features(all_dataset, None)\n",
    "    \n",
    "        # Calculate tSNE\n",
    "        from sklearn.manifold import TSNE\n",
    "        print \"Calculating tSNE...\"\n",
    "        tsne = TSNE(n_components=2, verbose=1, perplexity=40, n_iter=300, random_state=69)\n",
    "        tsne_results = tsne.fit_transform(all_inceptions)\n",
    "\n",
    "        plt.figure(figsize=(12,12))\n",
    "        # plot entire training dataset\n",
    "        for class_label in range(num_classes):\n",
    "            class_mask = data_sets.train.labels == class_label\n",
    "            plt.scatter(tsne_results.T[0][:num_training_points][class_mask], \n",
    "                        tsne_results.T[1][:num_training_points][class_mask], \n",
    "                        label=training_dataset_classes[class_label]) \n",
    "\n",
    "        # plot training points before poison\n",
    "        plt.scatter(tsne_results.T[0][poisoned_training_points_indices], \n",
    "                    tsne_results.T[1][poisoned_training_points_indices], \n",
    "                    label=\"Original Training Points\", marker='*', s=200)\n",
    "        for index, coordinate in zip(poisoned_training_points_indices, tsne_results[poisoned_training_points_indices]):\n",
    "            plt.annotate(s=str(index), xy = coordinate)\n",
    "        # plot training points after poison no clipping\n",
    "        plt.scatter(tsne_results.T[0][num_training_points:num_training_points+num_poisoned_training_points], \n",
    "                    tsne_results.T[1][num_training_points:num_training_points+num_poisoned_training_points], \n",
    "                    label=\"Non-rescaled poisoned training point\", marker='*', s=200)\n",
    "        for index, coordinate in zip(poisoned_training_points_indices, tsne_results[num_training_points:num_training_points+num_poisoned_training_points]):\n",
    "            plt.annotate(s=str(index), xy = coordinate)\n",
    "        # plot training points after poison with clipping (if applicable)\n",
    "        if method == \"FC\":\n",
    "            plt.scatter(tsne_results.T[0][-num_target_test_points-num_poisoned_training_points:-num_target_test_points], \n",
    "                        tsne_results.T[1][-num_target_test_points-num_poisoned_training_points:-num_target_test_points], \n",
    "                        label=\"Rescaled poisoned training point\", marker='*', s=200)\n",
    "            for index, coordinate in zip(poisoned_training_points_indices, tsne_results[-num_target_test_points-num_poisoned_training_points:-num_target_test_points]):\n",
    "                plt.annotate(s=str(index), xy = coordinate)\n",
    "        # plot target test points\n",
    "        plt.scatter( tsne_results.T[0][-num_target_test_points:], tsne_results.T[1][-num_target_test_points:], label=\"Target test points\", marker='*', s=200)\n",
    "        for index, coordinate in zip(target_test_points_indices, tsne_results[-num_target_test_points:]):\n",
    "            plt.annotate(s=str(index), xy = coordinate)\n",
    "\n",
    "        plt.legend()\n",
    "        plt.show()\n",
    "    \n",
    "    if logits:\n",
    "        print \"Training on clean dataset...\"\n",
    "        with full_graph.as_default():\n",
    "            clean_w = full_model.retrain_and_get_weights(data_sets.train.x, data_sets.train.labels)\n",
    "\n",
    "        clean_total_test_logits = full_model.get_preds(data_sets.test, np.arange(len(data_sets.test.x)))\n",
    "        clean_total_test_acc = np.sum(np.argmax(clean_total_test_logits, axis=1) == data_sets.test.labels) / float(num_testing_points)\n",
    "        clean_test_logits = full_model.get_preds(data_sets.test, target_test_points_indices) # target_test_img_indices should be a list\n",
    "\n",
    "        poisoned_data_set_x = np.copy(data_sets.train.x)\n",
    "        poisoned_data_set_x[poisoned_training_points_indices] = poisoned_training_points\n",
    "        poisoned_data_set_labels = np.copy(data_sets.train.labels)\n",
    "\n",
    "        print \"Training on poisoned dataset...\"\n",
    "        with full_graph.as_default():\n",
    "            poisoned_w = full_model.retrain_and_get_weights(poisoned_data_set_x, poisoned_data_set_labels)\n",
    "\n",
    "        poisoned_total_test_logits = full_model.get_preds(data_sets.test, np.arange(len(data_sets.test.x)))\n",
    "        poisoned_total_test_acc = np.sum(np.argmax(poisoned_total_test_logits, axis=1) == data_sets.test.labels) / float(num_testing_points)\n",
    "        poisoned_test_logits = full_model.get_preds(data_sets.test, target_test_points_indices) # target_test_img_indices should be a list\n",
    "\n",
    "        angle = np.inner(clean_w, poisoned_w)/np.square(np.linalg.norm(clean_w))/np.square(np.linalg.norm(clean_w))\n",
    "        \n",
    "        return (clean_total_test_acc, poisoned_total_test_acc), (clean_test_logits, poisoned_test_logits), angle, (clean_w, poisoned_w)"
   ]
  },
  {
   "cell_type": "code",
   "execution_count": 99,
   "metadata": {},
   "outputs": [
    {
     "data": {
      "text/plain": [
       "['Experiment_1_poisons_FC_Eagle-Mushroom_num_train_1__12.npy',\n",
       " 'Experiment_1_indices_FC_Eagle-Mushroom_num_train_1__12.npy',\n",
       " 'Experiment_1_poisons_FC_Eagle-Mushroom_num_train_1__80.npy',\n",
       " 'Experiment_1_indices_FC_Eagle-Mushroom_num_train_1__80.npy',\n",
       " 'Experiment_1_poisons_FC_Eagle-Mushroom_num_train_1__33.npy',\n",
       " 'Experiment_1_indices_FC_Eagle-Mushroom_num_train_1__33.npy',\n",
       " 'Experiment_1_poisons_FC_Eagle-Mushroom_num_train_1__5.npy',\n",
       " 'Experiment_1_indices_FC_Eagle-Mushroom_num_train_1__5.npy',\n",
       " 'Experiment_1_poisons_FC_Eagle-Mushroom_num_train_1__28.npy',\n",
       " 'Experiment_1_indices_FC_Eagle-Mushroom_num_train_1__28.npy',\n",
       " 'Experiment_1_poisons_FC_Eagle-Mushroom_num_train_1__83.npy',\n",
       " 'Experiment_1_indices_FC_Eagle-Mushroom_num_train_1__83.npy',\n",
       " 'Experiment_1_poisons_FC_Eagle-Mushroom_num_train_1__69.npy',\n",
       " 'Experiment_1_indices_FC_Eagle-Mushroom_num_train_1__69.npy',\n",
       " 'Experiment_1_poisons_FC_Eagle-Mushroom_num_train_2__12.npy',\n",
       " 'Experiment_1_indices_FC_Eagle-Mushroom_num_train_2__12.npy',\n",
       " 'Experiment_1_poisons_FC_Eagle-Mushroom_num_train_2__80.npy',\n",
       " 'Experiment_1_indices_FC_Eagle-Mushroom_num_train_2__80.npy',\n",
       " 'Experiment_1_poisons_FC_Eagle-Mushroom_num_train_2__33.npy',\n",
       " 'Experiment_1_indices_FC_Eagle-Mushroom_num_train_2__33.npy',\n",
       " 'Experiment_1_poisons_FC_Eagle-Mushroom_num_train_2__5.npy',\n",
       " 'Experiment_1_indices_FC_Eagle-Mushroom_num_train_2__5.npy',\n",
       " 'Experiment_1_poisons_FC_Eagle-Mushroom_num_train_2__28.npy',\n",
       " 'Experiment_1_indices_FC_Eagle-Mushroom_num_train_2__28.npy',\n",
       " 'Experiment_1_poisons_FC_Eagle-Mushroom_num_train_2__83.npy',\n",
       " 'Experiment_1_indices_FC_Eagle-Mushroom_num_train_2__83.npy',\n",
       " 'Experiment_1_poisons_FC_Eagle-Mushroom_num_train_2__69.npy',\n",
       " 'Experiment_1_indices_FC_Eagle-Mushroom_num_train_2__69.npy',\n",
       " 'Experiment_1_poisons_FC_Eagle-Mushroom_num_train_4__12.npy',\n",
       " 'Experiment_1_indices_FC_Eagle-Mushroom_num_train_4__12.npy',\n",
       " 'Experiment_1_poisons_FC_Eagle-Mushroom_num_train_4__80.npy',\n",
       " 'Experiment_1_indices_FC_Eagle-Mushroom_num_train_4__80.npy',\n",
       " 'Experiment_1_poisons_FC_Eagle-Mushroom_num_train_4__33.npy',\n",
       " 'Experiment_1_indices_FC_Eagle-Mushroom_num_train_4__33.npy',\n",
       " 'Experiment_1_poisons_FC_Eagle-Mushroom_num_train_4__5.npy',\n",
       " 'Experiment_1_indices_FC_Eagle-Mushroom_num_train_4__5.npy',\n",
       " 'Experiment_1_poisons_FC_Eagle-Mushroom_num_train_4__28.npy',\n",
       " 'Experiment_1_indices_FC_Eagle-Mushroom_num_train_4__28.npy',\n",
       " 'Experiment_1_poisons_FC_Eagle-Mushroom_num_train_4__83.npy',\n",
       " 'Experiment_1_indices_FC_Eagle-Mushroom_num_train_4__83.npy',\n",
       " 'Experiment_1_poisons_FC_Eagle-Mushroom_num_train_4__69.npy',\n",
       " 'Experiment_1_indices_FC_Eagle-Mushroom_num_train_4__69.npy',\n",
       " 'Experiment_1_indices_FC_Eagle-Mushroom_num_train_8__83.npy',\n",
       " 'Experiment_1_poisons_FC_Eagle-Mushroom_num_train_8__83.npy',\n",
       " 'Experiment_1_indices_FC_Eagle-Mushroom_num_train_8__80.npy',\n",
       " 'Experiment_1_poisons_FC_Eagle-Mushroom_num_train_8__80.npy',\n",
       " 'Experiment_1_indices_FC_Eagle-Mushroom_num_train_8__69.npy',\n",
       " 'Experiment_1_poisons_FC_Eagle-Mushroom_num_train_8__69.npy',\n",
       " 'Experiment_1_indices_FC_Eagle-Mushroom_num_train_8__5.npy',\n",
       " 'Experiment_1_poisons_FC_Eagle-Mushroom_num_train_8__5.npy',\n",
       " 'Experiment_1_indices_FC_Eagle-Mushroom_num_train_8__33.npy',\n",
       " 'Experiment_1_poisons_FC_Eagle-Mushroom_num_train_8__33.npy',\n",
       " 'Experiment_1_indices_FC_Eagle-Mushroom_num_train_8__28.npy',\n",
       " 'Experiment_1_poisons_FC_Eagle-Mushroom_num_train_8__28.npy',\n",
       " 'Experiment_1_indices_FC_Eagle-Mushroom_num_train_8__12.npy',\n",
       " 'Experiment_1_poisons_FC_Eagle-Mushroom_num_train_8__12.npy',\n",
       " 'Experiment_1_indices_FC_Eagle-Mushroom_num_train_16__83.npy',\n",
       " 'Experiment_1_poisons_FC_Eagle-Mushroom_num_train_16__83.npy',\n",
       " 'Experiment_1_indices_FC_Eagle-Mushroom_num_train_16__80.npy',\n",
       " 'Experiment_1_poisons_FC_Eagle-Mushroom_num_train_16__80.npy',\n",
       " 'Experiment_1_indices_FC_Eagle-Mushroom_num_train_16__69.npy',\n",
       " 'Experiment_1_poisons_FC_Eagle-Mushroom_num_train_16__69.npy',\n",
       " 'Experiment_1_indices_FC_Eagle-Mushroom_num_train_16__5.npy',\n",
       " 'Experiment_1_poisons_FC_Eagle-Mushroom_num_train_16__5.npy',\n",
       " 'Experiment_1_indices_FC_Eagle-Mushroom_num_train_16__33.npy',\n",
       " 'Experiment_1_poisons_FC_Eagle-Mushroom_num_train_16__33.npy',\n",
       " 'Experiment_1_indices_FC_Eagle-Mushroom_num_train_16__28.npy',\n",
       " 'Experiment_1_poisons_FC_Eagle-Mushroom_num_train_16__28.npy',\n",
       " 'Experiment_1_indices_FC_Eagle-Mushroom_num_train_16__12.npy',\n",
       " 'Experiment_1_poisons_FC_Eagle-Mushroom_num_train_16__12.npy']"
      ]
     },
     "execution_count": 99,
     "metadata": {},
     "output_type": "execute_result"
    }
   ],
   "source": [
    "file_names = !ls -rt Experiment_results/Experiment_1/Eagle-Mushroom/FC/\n",
    "file_names"
   ]
  },
  {
   "cell_type": "code",
   "execution_count": 100,
   "metadata": {},
   "outputs": [
    {
     "data": {
      "text/plain": [
       "[('Experiment_results/Experiment_1/Eagle-Mushroom/FC/Experiment_1_poisons_FC_Eagle-Mushroom_num_train_1__12.npy',\n",
       "  'Experiment_results/Experiment_1/Eagle-Mushroom/FC/Experiment_1_indices_FC_Eagle-Mushroom_num_train_1__12.npy'),\n",
       " ('Experiment_results/Experiment_1/Eagle-Mushroom/FC/Experiment_1_poisons_FC_Eagle-Mushroom_num_train_1__80.npy',\n",
       "  'Experiment_results/Experiment_1/Eagle-Mushroom/FC/Experiment_1_indices_FC_Eagle-Mushroom_num_train_1__80.npy'),\n",
       " ('Experiment_results/Experiment_1/Eagle-Mushroom/FC/Experiment_1_poisons_FC_Eagle-Mushroom_num_train_1__33.npy',\n",
       "  'Experiment_results/Experiment_1/Eagle-Mushroom/FC/Experiment_1_indices_FC_Eagle-Mushroom_num_train_1__33.npy'),\n",
       " ('Experiment_results/Experiment_1/Eagle-Mushroom/FC/Experiment_1_poisons_FC_Eagle-Mushroom_num_train_1__5.npy',\n",
       "  'Experiment_results/Experiment_1/Eagle-Mushroom/FC/Experiment_1_indices_FC_Eagle-Mushroom_num_train_1__5.npy'),\n",
       " ('Experiment_results/Experiment_1/Eagle-Mushroom/FC/Experiment_1_poisons_FC_Eagle-Mushroom_num_train_1__28.npy',\n",
       "  'Experiment_results/Experiment_1/Eagle-Mushroom/FC/Experiment_1_indices_FC_Eagle-Mushroom_num_train_1__28.npy'),\n",
       " ('Experiment_results/Experiment_1/Eagle-Mushroom/FC/Experiment_1_poisons_FC_Eagle-Mushroom_num_train_1__83.npy',\n",
       "  'Experiment_results/Experiment_1/Eagle-Mushroom/FC/Experiment_1_indices_FC_Eagle-Mushroom_num_train_1__83.npy'),\n",
       " ('Experiment_results/Experiment_1/Eagle-Mushroom/FC/Experiment_1_poisons_FC_Eagle-Mushroom_num_train_1__69.npy',\n",
       "  'Experiment_results/Experiment_1/Eagle-Mushroom/FC/Experiment_1_indices_FC_Eagle-Mushroom_num_train_1__69.npy'),\n",
       " ('Experiment_results/Experiment_1/Eagle-Mushroom/FC/Experiment_1_poisons_FC_Eagle-Mushroom_num_train_2__12.npy',\n",
       "  'Experiment_results/Experiment_1/Eagle-Mushroom/FC/Experiment_1_indices_FC_Eagle-Mushroom_num_train_2__12.npy'),\n",
       " ('Experiment_results/Experiment_1/Eagle-Mushroom/FC/Experiment_1_poisons_FC_Eagle-Mushroom_num_train_2__80.npy',\n",
       "  'Experiment_results/Experiment_1/Eagle-Mushroom/FC/Experiment_1_indices_FC_Eagle-Mushroom_num_train_2__80.npy'),\n",
       " ('Experiment_results/Experiment_1/Eagle-Mushroom/FC/Experiment_1_poisons_FC_Eagle-Mushroom_num_train_2__33.npy',\n",
       "  'Experiment_results/Experiment_1/Eagle-Mushroom/FC/Experiment_1_indices_FC_Eagle-Mushroom_num_train_2__33.npy'),\n",
       " ('Experiment_results/Experiment_1/Eagle-Mushroom/FC/Experiment_1_poisons_FC_Eagle-Mushroom_num_train_2__5.npy',\n",
       "  'Experiment_results/Experiment_1/Eagle-Mushroom/FC/Experiment_1_indices_FC_Eagle-Mushroom_num_train_2__5.npy'),\n",
       " ('Experiment_results/Experiment_1/Eagle-Mushroom/FC/Experiment_1_poisons_FC_Eagle-Mushroom_num_train_2__28.npy',\n",
       "  'Experiment_results/Experiment_1/Eagle-Mushroom/FC/Experiment_1_indices_FC_Eagle-Mushroom_num_train_2__28.npy'),\n",
       " ('Experiment_results/Experiment_1/Eagle-Mushroom/FC/Experiment_1_poisons_FC_Eagle-Mushroom_num_train_2__83.npy',\n",
       "  'Experiment_results/Experiment_1/Eagle-Mushroom/FC/Experiment_1_indices_FC_Eagle-Mushroom_num_train_2__83.npy'),\n",
       " ('Experiment_results/Experiment_1/Eagle-Mushroom/FC/Experiment_1_poisons_FC_Eagle-Mushroom_num_train_2__69.npy',\n",
       "  'Experiment_results/Experiment_1/Eagle-Mushroom/FC/Experiment_1_indices_FC_Eagle-Mushroom_num_train_2__69.npy'),\n",
       " ('Experiment_results/Experiment_1/Eagle-Mushroom/FC/Experiment_1_poisons_FC_Eagle-Mushroom_num_train_4__12.npy',\n",
       "  'Experiment_results/Experiment_1/Eagle-Mushroom/FC/Experiment_1_indices_FC_Eagle-Mushroom_num_train_4__12.npy'),\n",
       " ('Experiment_results/Experiment_1/Eagle-Mushroom/FC/Experiment_1_poisons_FC_Eagle-Mushroom_num_train_4__80.npy',\n",
       "  'Experiment_results/Experiment_1/Eagle-Mushroom/FC/Experiment_1_indices_FC_Eagle-Mushroom_num_train_4__80.npy'),\n",
       " ('Experiment_results/Experiment_1/Eagle-Mushroom/FC/Experiment_1_poisons_FC_Eagle-Mushroom_num_train_4__33.npy',\n",
       "  'Experiment_results/Experiment_1/Eagle-Mushroom/FC/Experiment_1_indices_FC_Eagle-Mushroom_num_train_4__33.npy'),\n",
       " ('Experiment_results/Experiment_1/Eagle-Mushroom/FC/Experiment_1_poisons_FC_Eagle-Mushroom_num_train_4__5.npy',\n",
       "  'Experiment_results/Experiment_1/Eagle-Mushroom/FC/Experiment_1_indices_FC_Eagle-Mushroom_num_train_4__5.npy'),\n",
       " ('Experiment_results/Experiment_1/Eagle-Mushroom/FC/Experiment_1_poisons_FC_Eagle-Mushroom_num_train_4__28.npy',\n",
       "  'Experiment_results/Experiment_1/Eagle-Mushroom/FC/Experiment_1_indices_FC_Eagle-Mushroom_num_train_4__28.npy'),\n",
       " ('Experiment_results/Experiment_1/Eagle-Mushroom/FC/Experiment_1_poisons_FC_Eagle-Mushroom_num_train_4__83.npy',\n",
       "  'Experiment_results/Experiment_1/Eagle-Mushroom/FC/Experiment_1_indices_FC_Eagle-Mushroom_num_train_4__83.npy'),\n",
       " ('Experiment_results/Experiment_1/Eagle-Mushroom/FC/Experiment_1_poisons_FC_Eagle-Mushroom_num_train_4__69.npy',\n",
       "  'Experiment_results/Experiment_1/Eagle-Mushroom/FC/Experiment_1_indices_FC_Eagle-Mushroom_num_train_4__69.npy')]"
      ]
     },
     "execution_count": 100,
     "metadata": {},
     "output_type": "execute_result"
    }
   ],
   "source": [
    "source_dir = \"Experiment_results/Experiment_1/Eagle-Mushroom/FC/\"\n",
    "indices_poisons_pairs = []\n",
    "for i in range(0,len(file_names),2):\n",
    "    indices_poisons_pairs.append((source_dir+file_names[i], source_dir+file_names[i+1]))\n",
    "indices_poisons_pairs = indices_poisons_pairs[:21]\n",
    "indices_poisons_pairs"
   ]
  },
  {
   "cell_type": "code",
   "execution_count": 101,
   "metadata": {},
   "outputs": [
    {
     "name": "stdout",
     "output_type": "stream",
     "text": [
      "Loading animals from disk...\n",
      "../data/dataset_Eagle-Mushroom_train-500_test-50.npz\n",
      "self.logits Tensor(\"Shape:0\", shape=(2,), dtype=int32)\n"
     ]
    },
    {
     "name": "stderr",
     "output_type": "stream",
     "text": [
      "[genericNeuralNet.py:191 -   get_vec_to_list_fn() ] Total number of parameters: 2048\n"
     ]
    },
    {
     "name": "stdout",
     "output_type": "stream",
     "text": [
      "wrong_labels_bool Tensor(\"Shape_2:0\", shape=(2,), dtype=int32)\n",
      "logits Tensor(\"Shape_3:0\", shape=(2,), dtype=int32)\n",
      "inception_features:  Tensor(\"flatten/Reshape:0\", shape=(?, ?), dtype=float32)\n",
      "x_poison_features:  Tensor(\"StridedSlice:0\", dtype=float32)\n",
      "t_target_features:  Tensor(\"Gather:0\", shape=(1, ?), dtype=float32)\n",
      "Lp:  Tensor(\"Mean_1:0\", dtype=float32)\n",
      "LP_gradient Tensor(\"strided_slice_1:0\", shape=(?, 268203), dtype=float32)\n"
     ]
    }
   ],
   "source": [
    "cache = {}\n",
    "dataset_metadata = dataset_metadatas[\"Eagle-Mushroom\"]\n",
    "data_sets = get_dataset(dataset_metadata)\n",
    "cache[\"data_sets\"] = data_sets\n",
    "cache[\"full_model_and_graph\"] = get_full_model_graph(dataset_metadata, data_sets)"
   ]
  },
  {
   "cell_type": "code",
   "execution_count": 102,
   "metadata": {},
   "outputs": [
    {
     "name": "stdout",
     "output_type": "stream",
     "text": [
      "Setting up full model...\n",
      "Training on clean dataset...\n"
     ]
    },
    {
     "name": "stderr",
     "output_type": "stream",
     "text": [
      "[genericNeuralNet.py:328 -     print_model_eval() ] Train loss (w reg) on all data: [0.00169404]\n",
      "[genericNeuralNet.py:329 -     print_model_eval() ] Train loss (w/o reg) on all data: [0.00039346]\n",
      "[genericNeuralNet.py:331 -     print_model_eval() ] Test loss (w/o reg) on all data: [0.00038176789530552924]\n",
      "[genericNeuralNet.py:332 -     print_model_eval() ] Train acc on all data:  [1.]\n",
      "[genericNeuralNet.py:333 -     print_model_eval() ] Test acc on all data:   [1.0]\n",
      "[genericNeuralNet.py:335 -     print_model_eval() ] Norm of the mean of gradients: 8.561374e-08\n",
      "[genericNeuralNet.py:336 -     print_model_eval() ] Norm of the params: 1.6128079\n"
     ]
    },
    {
     "name": "stdout",
     "output_type": "stream",
     "text": [
      "Training on poisoned dataset...\n"
     ]
    },
    {
     "name": "stderr",
     "output_type": "stream",
     "text": [
      "[genericNeuralNet.py:328 -     print_model_eval() ] Train loss (w reg) on all data: [0.00334949]\n",
      "[genericNeuralNet.py:329 -     print_model_eval() ] Train loss (w/o reg) on all data: [0.00100723]\n",
      "[genericNeuralNet.py:331 -     print_model_eval() ] Test loss (w/o reg) on all data: [0.0014684819616377354]\n",
      "[genericNeuralNet.py:332 -     print_model_eval() ] Train acc on all data:  [1.]\n",
      "[genericNeuralNet.py:333 -     print_model_eval() ] Test acc on all data:   [1.0]\n",
      "[genericNeuralNet.py:335 -     print_model_eval() ] Norm of the mean of gradients: 0.0081905825\n",
      "[genericNeuralNet.py:336 -     print_model_eval() ] Norm of the params: 2.1643767\n"
     ]
    },
    {
     "name": "stdout",
     "output_type": "stream",
     "text": [
      "Setting up full model...\n",
      "Training on clean dataset...\n"
     ]
    },
    {
     "name": "stderr",
     "output_type": "stream",
     "text": [
      "[genericNeuralNet.py:328 -     print_model_eval() ] Train loss (w reg) on all data: [0.00169404]\n",
      "[genericNeuralNet.py:329 -     print_model_eval() ] Train loss (w/o reg) on all data: [0.00039346]\n",
      "[genericNeuralNet.py:331 -     print_model_eval() ] Test loss (w/o reg) on all data: [0.0003817572141997516]\n",
      "[genericNeuralNet.py:332 -     print_model_eval() ] Train acc on all data:  [1.]\n",
      "[genericNeuralNet.py:333 -     print_model_eval() ] Test acc on all data:   [1.0]\n",
      "[genericNeuralNet.py:335 -     print_model_eval() ] Norm of the mean of gradients: 7.9692754e-08\n",
      "[genericNeuralNet.py:336 -     print_model_eval() ] Norm of the params: 1.6128104\n"
     ]
    },
    {
     "name": "stdout",
     "output_type": "stream",
     "text": [
      "Training on poisoned dataset...\n"
     ]
    },
    {
     "name": "stderr",
     "output_type": "stream",
     "text": [
      "[genericNeuralNet.py:328 -     print_model_eval() ] Train loss (w reg) on all data: [0.00304131]\n",
      "[genericNeuralNet.py:329 -     print_model_eval() ] Train loss (w/o reg) on all data: [0.00095917]\n",
      "[genericNeuralNet.py:331 -     print_model_eval() ] Test loss (w/o reg) on all data: [0.0007689938647672534]\n",
      "[genericNeuralNet.py:332 -     print_model_eval() ] Train acc on all data:  [1.]\n",
      "[genericNeuralNet.py:333 -     print_model_eval() ] Test acc on all data:   [1.0]\n",
      "[genericNeuralNet.py:335 -     print_model_eval() ] Norm of the mean of gradients: 0.00858262\n",
      "[genericNeuralNet.py:336 -     print_model_eval() ] Norm of the params: 2.0406532\n"
     ]
    },
    {
     "name": "stdout",
     "output_type": "stream",
     "text": [
      "Setting up full model...\n",
      "Training on clean dataset...\n"
     ]
    },
    {
     "name": "stderr",
     "output_type": "stream",
     "text": [
      "[genericNeuralNet.py:328 -     print_model_eval() ] Train loss (w reg) on all data: [0.00169404]\n",
      "[genericNeuralNet.py:329 -     print_model_eval() ] Train loss (w/o reg) on all data: [0.00039346]\n",
      "[genericNeuralNet.py:331 -     print_model_eval() ] Test loss (w/o reg) on all data: [0.00038176789530552924]\n",
      "[genericNeuralNet.py:332 -     print_model_eval() ] Train acc on all data:  [1.]\n",
      "[genericNeuralNet.py:333 -     print_model_eval() ] Test acc on all data:   [1.0]\n",
      "[genericNeuralNet.py:335 -     print_model_eval() ] Norm of the mean of gradients: 4.1340797e-08\n",
      "[genericNeuralNet.py:336 -     print_model_eval() ] Norm of the params: 1.6128081\n"
     ]
    },
    {
     "name": "stdout",
     "output_type": "stream",
     "text": [
      "Training on poisoned dataset...\n"
     ]
    },
    {
     "name": "stderr",
     "output_type": "stream",
     "text": [
      "[genericNeuralNet.py:328 -     print_model_eval() ] Train loss (w reg) on all data: [0.00334362]\n",
      "[genericNeuralNet.py:329 -     print_model_eval() ] Train loss (w/o reg) on all data: [0.00083353]\n",
      "[genericNeuralNet.py:331 -     print_model_eval() ] Test loss (w/o reg) on all data: [0.0009311124449595809]\n",
      "[genericNeuralNet.py:332 -     print_model_eval() ] Train acc on all data:  [1.]\n",
      "[genericNeuralNet.py:333 -     print_model_eval() ] Test acc on all data:   [1.0]\n",
      "[genericNeuralNet.py:335 -     print_model_eval() ] Norm of the mean of gradients: 0.005875114\n",
      "[genericNeuralNet.py:336 -     print_model_eval() ] Norm of the params: 2.2405798\n"
     ]
    },
    {
     "name": "stdout",
     "output_type": "stream",
     "text": [
      "Setting up full model...\n",
      "Training on clean dataset...\n"
     ]
    },
    {
     "name": "stderr",
     "output_type": "stream",
     "text": [
      "[genericNeuralNet.py:328 -     print_model_eval() ] Train loss (w reg) on all data: [0.00169404]\n",
      "[genericNeuralNet.py:329 -     print_model_eval() ] Train loss (w/o reg) on all data: [0.00039344]\n",
      "[genericNeuralNet.py:331 -     print_model_eval() ] Test loss (w/o reg) on all data: [0.0003817417600657791]\n",
      "[genericNeuralNet.py:332 -     print_model_eval() ] Train acc on all data:  [1.]\n",
      "[genericNeuralNet.py:333 -     print_model_eval() ] Test acc on all data:   [1.0]\n",
      "[genericNeuralNet.py:335 -     print_model_eval() ] Norm of the mean of gradients: 1.7769614e-07\n",
      "[genericNeuralNet.py:336 -     print_model_eval() ] Norm of the params: 1.6128209\n"
     ]
    },
    {
     "name": "stdout",
     "output_type": "stream",
     "text": [
      "Training on poisoned dataset...\n"
     ]
    },
    {
     "name": "stderr",
     "output_type": "stream",
     "text": [
      "[genericNeuralNet.py:328 -     print_model_eval() ] Train loss (w reg) on all data: [0.00327416]\n",
      "[genericNeuralNet.py:329 -     print_model_eval() ] Train loss (w/o reg) on all data: [0.00096696]\n",
      "[genericNeuralNet.py:331 -     print_model_eval() ] Test loss (w/o reg) on all data: [0.000735599547624588]\n",
      "[genericNeuralNet.py:332 -     print_model_eval() ] Train acc on all data:  [1.]\n",
      "[genericNeuralNet.py:333 -     print_model_eval() ] Test acc on all data:   [1.0]\n",
      "[genericNeuralNet.py:335 -     print_model_eval() ] Norm of the mean of gradients: 0.007868857\n",
      "[genericNeuralNet.py:336 -     print_model_eval() ] Norm of the params: 2.1481142\n"
     ]
    },
    {
     "name": "stdout",
     "output_type": "stream",
     "text": [
      "Setting up full model...\n",
      "Training on clean dataset...\n"
     ]
    },
    {
     "name": "stderr",
     "output_type": "stream",
     "text": [
      "[genericNeuralNet.py:328 -     print_model_eval() ] Train loss (w reg) on all data: [0.00169404]\n",
      "[genericNeuralNet.py:329 -     print_model_eval() ] Train loss (w/o reg) on all data: [0.00039345]\n",
      "[genericNeuralNet.py:331 -     print_model_eval() ] Test loss (w/o reg) on all data: [0.00038175363442860544]\n",
      "[genericNeuralNet.py:332 -     print_model_eval() ] Train acc on all data:  [1.]\n",
      "[genericNeuralNet.py:333 -     print_model_eval() ] Test acc on all data:   [1.0]\n",
      "[genericNeuralNet.py:335 -     print_model_eval() ] Norm of the mean of gradients: 1.5773958e-07\n",
      "[genericNeuralNet.py:336 -     print_model_eval() ] Norm of the params: 1.6128175\n"
     ]
    },
    {
     "name": "stdout",
     "output_type": "stream",
     "text": [
      "Training on poisoned dataset...\n"
     ]
    },
    {
     "name": "stderr",
     "output_type": "stream",
     "text": [
      "[genericNeuralNet.py:328 -     print_model_eval() ] Train loss (w reg) on all data: [0.00283882]\n",
      "[genericNeuralNet.py:329 -     print_model_eval() ] Train loss (w/o reg) on all data: [0.00089676]\n",
      "[genericNeuralNet.py:331 -     print_model_eval() ] Test loss (w/o reg) on all data: [0.0006991315167397261]\n",
      "[genericNeuralNet.py:332 -     print_model_eval() ] Train acc on all data:  [1.]\n",
      "[genericNeuralNet.py:333 -     print_model_eval() ] Test acc on all data:   [1.0]\n",
      "[genericNeuralNet.py:335 -     print_model_eval() ] Norm of the mean of gradients: 0.007866878\n",
      "[genericNeuralNet.py:336 -     print_model_eval() ] Norm of the params: 1.9708148\n"
     ]
    },
    {
     "name": "stdout",
     "output_type": "stream",
     "text": [
      "Setting up full model...\n",
      "Training on clean dataset...\n"
     ]
    },
    {
     "name": "stderr",
     "output_type": "stream",
     "text": [
      "[genericNeuralNet.py:328 -     print_model_eval() ] Train loss (w reg) on all data: [0.00169404]\n",
      "[genericNeuralNet.py:329 -     print_model_eval() ] Train loss (w/o reg) on all data: [0.00039346]\n",
      "[genericNeuralNet.py:331 -     print_model_eval() ] Test loss (w/o reg) on all data: [0.00038177266833372414]\n",
      "[genericNeuralNet.py:332 -     print_model_eval() ] Train acc on all data:  [1.]\n",
      "[genericNeuralNet.py:333 -     print_model_eval() ] Test acc on all data:   [1.0]\n",
      "[genericNeuralNet.py:335 -     print_model_eval() ] Norm of the mean of gradients: 7.850767e-08\n",
      "[genericNeuralNet.py:336 -     print_model_eval() ] Norm of the params: 1.6128073\n"
     ]
    },
    {
     "name": "stdout",
     "output_type": "stream",
     "text": [
      "Training on poisoned dataset...\n"
     ]
    },
    {
     "name": "stderr",
     "output_type": "stream",
     "text": [
      "[genericNeuralNet.py:328 -     print_model_eval() ] Train loss (w reg) on all data: [0.00322747]\n",
      "[genericNeuralNet.py:329 -     print_model_eval() ] Train loss (w/o reg) on all data: [0.00091955]\n",
      "[genericNeuralNet.py:331 -     print_model_eval() ] Test loss (w/o reg) on all data: [0.0009160733316093683]\n",
      "[genericNeuralNet.py:332 -     print_model_eval() ] Train acc on all data:  [1.]\n",
      "[genericNeuralNet.py:333 -     print_model_eval() ] Test acc on all data:   [1.0]\n",
      "[genericNeuralNet.py:335 -     print_model_eval() ] Norm of the mean of gradients: 0.007104969\n",
      "[genericNeuralNet.py:336 -     print_model_eval() ] Norm of the params: 2.1484516\n"
     ]
    },
    {
     "name": "stdout",
     "output_type": "stream",
     "text": [
      "Setting up full model...\n",
      "Training on clean dataset...\n"
     ]
    },
    {
     "name": "stderr",
     "output_type": "stream",
     "text": [
      "[genericNeuralNet.py:328 -     print_model_eval() ] Train loss (w reg) on all data: [0.00169404]\n",
      "[genericNeuralNet.py:329 -     print_model_eval() ] Train loss (w/o reg) on all data: [0.00039347]\n",
      "[genericNeuralNet.py:331 -     print_model_eval() ] Test loss (w/o reg) on all data: [0.0003817714750766754]\n",
      "[genericNeuralNet.py:332 -     print_model_eval() ] Train acc on all data:  [1.]\n",
      "[genericNeuralNet.py:333 -     print_model_eval() ] Test acc on all data:   [1.0]\n",
      "[genericNeuralNet.py:335 -     print_model_eval() ] Norm of the mean of gradients: 5.031387e-08\n",
      "[genericNeuralNet.py:336 -     print_model_eval() ] Norm of the params: 1.6128063\n"
     ]
    },
    {
     "name": "stdout",
     "output_type": "stream",
     "text": [
      "Training on poisoned dataset...\n"
     ]
    },
    {
     "name": "stderr",
     "output_type": "stream",
     "text": [
      "[genericNeuralNet.py:328 -     print_model_eval() ] Train loss (w reg) on all data: [0.00332555]\n",
      "[genericNeuralNet.py:329 -     print_model_eval() ] Train loss (w/o reg) on all data: [0.00078858]\n",
      "[genericNeuralNet.py:331 -     print_model_eval() ] Test loss (w/o reg) on all data: [0.0007260760175995529]\n",
      "[genericNeuralNet.py:332 -     print_model_eval() ] Train acc on all data:  [1.]\n",
      "[genericNeuralNet.py:333 -     print_model_eval() ] Test acc on all data:   [1.0]\n",
      "[genericNeuralNet.py:335 -     print_model_eval() ] Norm of the mean of gradients: 0.0053218906\n",
      "[genericNeuralNet.py:336 -     print_model_eval() ] Norm of the params: 2.25254\n"
     ]
    },
    {
     "name": "stdout",
     "output_type": "stream",
     "text": [
      "Setting up full model...\n",
      "Training on clean dataset...\n"
     ]
    },
    {
     "name": "stderr",
     "output_type": "stream",
     "text": [
      "[genericNeuralNet.py:328 -     print_model_eval() ] Train loss (w reg) on all data: [0.00169404]\n",
      "[genericNeuralNet.py:329 -     print_model_eval() ] Train loss (w/o reg) on all data: [0.00039346]\n",
      "[genericNeuralNet.py:331 -     print_model_eval() ] Test loss (w/o reg) on all data: [0.00038176673115231097]\n",
      "[genericNeuralNet.py:332 -     print_model_eval() ] Train acc on all data:  [1.]\n",
      "[genericNeuralNet.py:333 -     print_model_eval() ] Test acc on all data:   [1.0]\n",
      "[genericNeuralNet.py:335 -     print_model_eval() ] Norm of the mean of gradients: 7.515026e-08\n",
      "[genericNeuralNet.py:336 -     print_model_eval() ] Norm of the params: 1.6128062\n"
     ]
    },
    {
     "name": "stdout",
     "output_type": "stream",
     "text": [
      "Training on poisoned dataset...\n"
     ]
    },
    {
     "name": "stderr",
     "output_type": "stream",
     "text": [
      "[genericNeuralNet.py:328 -     print_model_eval() ] Train loss (w reg) on all data: [0.0040505]\n",
      "[genericNeuralNet.py:329 -     print_model_eval() ] Train loss (w/o reg) on all data: [0.00124881]\n",
      "[genericNeuralNet.py:331 -     print_model_eval() ] Test loss (w/o reg) on all data: [0.0016453787684440613]\n",
      "[genericNeuralNet.py:332 -     print_model_eval() ] Train acc on all data:  [1.]\n",
      "[genericNeuralNet.py:333 -     print_model_eval() ] Test acc on all data:   [1.0]\n",
      "[genericNeuralNet.py:335 -     print_model_eval() ] Norm of the mean of gradients: 0.011318053\n",
      "[genericNeuralNet.py:336 -     print_model_eval() ] Norm of the params: 2.3671474\n"
     ]
    },
    {
     "name": "stdout",
     "output_type": "stream",
     "text": [
      "Setting up full model...\n",
      "Training on clean dataset...\n"
     ]
    },
    {
     "name": "stderr",
     "output_type": "stream",
     "text": [
      "[genericNeuralNet.py:328 -     print_model_eval() ] Train loss (w reg) on all data: [0.00169404]\n",
      "[genericNeuralNet.py:329 -     print_model_eval() ] Train loss (w/o reg) on all data: [0.00039346]\n",
      "[genericNeuralNet.py:331 -     print_model_eval() ] Test loss (w/o reg) on all data: [0.00038176437374204397]\n",
      "[genericNeuralNet.py:332 -     print_model_eval() ] Train acc on all data:  [1.]\n",
      "[genericNeuralNet.py:333 -     print_model_eval() ] Test acc on all data:   [1.0]\n",
      "[genericNeuralNet.py:335 -     print_model_eval() ] Norm of the mean of gradients: 5.8832075e-08\n",
      "[genericNeuralNet.py:336 -     print_model_eval() ] Norm of the params: 1.6128095\n"
     ]
    },
    {
     "name": "stdout",
     "output_type": "stream",
     "text": [
      "Training on poisoned dataset...\n"
     ]
    },
    {
     "name": "stderr",
     "output_type": "stream",
     "text": [
      "[genericNeuralNet.py:328 -     print_model_eval() ] Train loss (w reg) on all data: [0.00345474]\n",
      "[genericNeuralNet.py:329 -     print_model_eval() ] Train loss (w/o reg) on all data: [0.00116013]\n",
      "[genericNeuralNet.py:331 -     print_model_eval() ] Test loss (w/o reg) on all data: [0.0007580601959489286]\n",
      "[genericNeuralNet.py:332 -     print_model_eval() ] Train acc on all data:  [1.]\n",
      "[genericNeuralNet.py:333 -     print_model_eval() ] Test acc on all data:   [1.0]\n",
      "[genericNeuralNet.py:335 -     print_model_eval() ] Norm of the mean of gradients: 0.011158559\n",
      "[genericNeuralNet.py:336 -     print_model_eval() ] Norm of the params: 2.142243\n"
     ]
    },
    {
     "name": "stdout",
     "output_type": "stream",
     "text": [
      "Setting up full model...\n",
      "Training on clean dataset...\n"
     ]
    },
    {
     "name": "stderr",
     "output_type": "stream",
     "text": [
      "[genericNeuralNet.py:328 -     print_model_eval() ] Train loss (w reg) on all data: [0.00169404]\n",
      "[genericNeuralNet.py:329 -     print_model_eval() ] Train loss (w/o reg) on all data: [0.00039346]\n",
      "[genericNeuralNet.py:331 -     print_model_eval() ] Test loss (w/o reg) on all data: [0.00038176553789526224]\n",
      "[genericNeuralNet.py:332 -     print_model_eval() ] Train acc on all data:  [1.]\n",
      "[genericNeuralNet.py:333 -     print_model_eval() ] Test acc on all data:   [1.0]\n",
      "[genericNeuralNet.py:335 -     print_model_eval() ] Norm of the mean of gradients: 4.5239403e-08\n",
      "[genericNeuralNet.py:336 -     print_model_eval() ] Norm of the params: 1.612809\n"
     ]
    },
    {
     "name": "stdout",
     "output_type": "stream",
     "text": [
      "Training on poisoned dataset...\n"
     ]
    },
    {
     "name": "stderr",
     "output_type": "stream",
     "text": [
      "[genericNeuralNet.py:328 -     print_model_eval() ] Train loss (w reg) on all data: [0.00371984]\n",
      "[genericNeuralNet.py:329 -     print_model_eval() ] Train loss (w/o reg) on all data: [0.00088701]\n",
      "[genericNeuralNet.py:331 -     print_model_eval() ] Test loss (w/o reg) on all data: [0.0010579859372228384]\n",
      "[genericNeuralNet.py:332 -     print_model_eval() ] Train acc on all data:  [1.]\n",
      "[genericNeuralNet.py:333 -     print_model_eval() ] Test acc on all data:   [1.0]\n",
      "[genericNeuralNet.py:335 -     print_model_eval() ] Norm of the mean of gradients: 0.006731936\n",
      "[genericNeuralNet.py:336 -     print_model_eval() ] Norm of the params: 2.3802633\n"
     ]
    },
    {
     "name": "stdout",
     "output_type": "stream",
     "text": [
      "Setting up full model...\n",
      "Training on clean dataset...\n"
     ]
    },
    {
     "name": "stderr",
     "output_type": "stream",
     "text": [
      "[genericNeuralNet.py:328 -     print_model_eval() ] Train loss (w reg) on all data: [0.00169404]\n",
      "[genericNeuralNet.py:329 -     print_model_eval() ] Train loss (w/o reg) on all data: [0.00039346]\n",
      "[genericNeuralNet.py:331 -     print_model_eval() ] Test loss (w/o reg) on all data: [0.00038177266833372414]\n",
      "[genericNeuralNet.py:332 -     print_model_eval() ] Train acc on all data:  [1.]\n",
      "[genericNeuralNet.py:333 -     print_model_eval() ] Test acc on all data:   [1.0]\n",
      "[genericNeuralNet.py:335 -     print_model_eval() ] Norm of the mean of gradients: 5.596902e-08\n",
      "[genericNeuralNet.py:336 -     print_model_eval() ] Norm of the params: 1.6128091\n"
     ]
    },
    {
     "name": "stdout",
     "output_type": "stream",
     "text": [
      "Training on poisoned dataset...\n"
     ]
    },
    {
     "name": "stderr",
     "output_type": "stream",
     "text": [
      "[genericNeuralNet.py:328 -     print_model_eval() ] Train loss (w reg) on all data: [0.0037226]\n",
      "[genericNeuralNet.py:329 -     print_model_eval() ] Train loss (w/o reg) on all data: [0.00100137]\n",
      "[genericNeuralNet.py:331 -     print_model_eval() ] Test loss (w/o reg) on all data: [0.0008060243562795222]\n",
      "[genericNeuralNet.py:332 -     print_model_eval() ] Train acc on all data:  [1.]\n",
      "[genericNeuralNet.py:333 -     print_model_eval() ] Test acc on all data:   [1.0]\n",
      "[genericNeuralNet.py:335 -     print_model_eval() ] Norm of the mean of gradients: 0.008900408\n",
      "[genericNeuralNet.py:336 -     print_model_eval() ] Norm of the params: 2.3329103\n"
     ]
    },
    {
     "name": "stdout",
     "output_type": "stream",
     "text": [
      "Setting up full model...\n",
      "Training on clean dataset...\n"
     ]
    },
    {
     "name": "stderr",
     "output_type": "stream",
     "text": [
      "[genericNeuralNet.py:328 -     print_model_eval() ] Train loss (w reg) on all data: [0.00169404]\n",
      "[genericNeuralNet.py:329 -     print_model_eval() ] Train loss (w/o reg) on all data: [0.00039346]\n",
      "[genericNeuralNet.py:331 -     print_model_eval() ] Test loss (w/o reg) on all data: [0.00038176908856257796]\n",
      "[genericNeuralNet.py:332 -     print_model_eval() ] Train acc on all data:  [1.]\n",
      "[genericNeuralNet.py:333 -     print_model_eval() ] Test acc on all data:   [1.0]\n",
      "[genericNeuralNet.py:335 -     print_model_eval() ] Norm of the mean of gradients: 6.364495e-08\n",
      "[genericNeuralNet.py:336 -     print_model_eval() ] Norm of the params: 1.6128082\n"
     ]
    },
    {
     "name": "stdout",
     "output_type": "stream",
     "text": [
      "Training on poisoned dataset...\n"
     ]
    },
    {
     "name": "stderr",
     "output_type": "stream",
     "text": [
      "[genericNeuralNet.py:328 -     print_model_eval() ] Train loss (w reg) on all data: [0.00327967]\n",
      "[genericNeuralNet.py:329 -     print_model_eval() ] Train loss (w/o reg) on all data: [0.00105897]\n",
      "[genericNeuralNet.py:331 -     print_model_eval() ] Test loss (w/o reg) on all data: [0.0008415456395596266]\n",
      "[genericNeuralNet.py:332 -     print_model_eval() ] Train acc on all data:  [1.]\n",
      "[genericNeuralNet.py:333 -     print_model_eval() ] Test acc on all data:   [1.0]\n",
      "[genericNeuralNet.py:335 -     print_model_eval() ] Norm of the mean of gradients: 0.00987839\n",
      "[genericNeuralNet.py:336 -     print_model_eval() ] Norm of the params: 2.1074646\n"
     ]
    },
    {
     "name": "stdout",
     "output_type": "stream",
     "text": [
      "Setting up full model...\n",
      "Training on clean dataset...\n"
     ]
    },
    {
     "name": "stderr",
     "output_type": "stream",
     "text": [
      "[genericNeuralNet.py:328 -     print_model_eval() ] Train loss (w reg) on all data: [0.00169404]\n",
      "[genericNeuralNet.py:329 -     print_model_eval() ] Train loss (w/o reg) on all data: [0.00039347]\n",
      "[genericNeuralNet.py:331 -     print_model_eval() ] Test loss (w/o reg) on all data: [0.00038177502574399114]\n",
      "[genericNeuralNet.py:332 -     print_model_eval() ] Train acc on all data:  [1.]\n",
      "[genericNeuralNet.py:333 -     print_model_eval() ] Test acc on all data:   [1.0]\n",
      "[genericNeuralNet.py:335 -     print_model_eval() ] Norm of the mean of gradients: 1.3122308e-07\n",
      "[genericNeuralNet.py:336 -     print_model_eval() ] Norm of the params: 1.6128049\n"
     ]
    },
    {
     "name": "stdout",
     "output_type": "stream",
     "text": [
      "Training on poisoned dataset...\n"
     ]
    },
    {
     "name": "stderr",
     "output_type": "stream",
     "text": [
      "[genericNeuralNet.py:328 -     print_model_eval() ] Train loss (w reg) on all data: [0.00392117]\n",
      "[genericNeuralNet.py:329 -     print_model_eval() ] Train loss (w/o reg) on all data: [0.00125012]\n",
      "[genericNeuralNet.py:331 -     print_model_eval() ] Test loss (w/o reg) on all data: [0.0008352899458259344]\n",
      "[genericNeuralNet.py:332 -     print_model_eval() ] Train acc on all data:  [1.]\n",
      "[genericNeuralNet.py:333 -     print_model_eval() ] Test acc on all data:   [1.0]\n",
      "[genericNeuralNet.py:335 -     print_model_eval() ] Norm of the mean of gradients: 0.010679874\n",
      "[genericNeuralNet.py:336 -     print_model_eval() ] Norm of the params: 2.311298\n"
     ]
    },
    {
     "name": "stdout",
     "output_type": "stream",
     "text": [
      "Setting up full model...\n",
      "Training on clean dataset...\n"
     ]
    },
    {
     "name": "stderr",
     "output_type": "stream",
     "text": [
      "[genericNeuralNet.py:328 -     print_model_eval() ] Train loss (w reg) on all data: [0.00169404]\n",
      "[genericNeuralNet.py:329 -     print_model_eval() ] Train loss (w/o reg) on all data: [0.00039346]\n",
      "[genericNeuralNet.py:331 -     print_model_eval() ] Test loss (w/o reg) on all data: [0.00038176789530552924]\n",
      "[genericNeuralNet.py:332 -     print_model_eval() ] Train acc on all data:  [1.]\n",
      "[genericNeuralNet.py:333 -     print_model_eval() ] Test acc on all data:   [1.0]\n",
      "[genericNeuralNet.py:335 -     print_model_eval() ] Norm of the mean of gradients: 9.937435e-08\n",
      "[genericNeuralNet.py:336 -     print_model_eval() ] Norm of the params: 1.6128112\n"
     ]
    },
    {
     "name": "stdout",
     "output_type": "stream",
     "text": [
      "Training on poisoned dataset...\n"
     ]
    },
    {
     "name": "stderr",
     "output_type": "stream",
     "text": [
      "[genericNeuralNet.py:328 -     print_model_eval() ] Train loss (w reg) on all data: [0.00362194]\n",
      "[genericNeuralNet.py:329 -     print_model_eval() ] Train loss (w/o reg) on all data: [0.0008286]\n",
      "[genericNeuralNet.py:331 -     print_model_eval() ] Test loss (w/o reg) on all data: [0.0008111313218250871]\n",
      "[genericNeuralNet.py:332 -     print_model_eval() ] Train acc on all data:  [1.]\n",
      "[genericNeuralNet.py:333 -     print_model_eval() ] Test acc on all data:   [1.0]\n",
      "[genericNeuralNet.py:335 -     print_model_eval() ] Norm of the mean of gradients: 0.00590172\n",
      "[genericNeuralNet.py:336 -     print_model_eval() ] Norm of the params: 2.3636158\n"
     ]
    },
    {
     "name": "stdout",
     "output_type": "stream",
     "text": [
      "Setting up full model...\n",
      "Training on clean dataset...\n"
     ]
    },
    {
     "name": "stderr",
     "output_type": "stream",
     "text": [
      "[genericNeuralNet.py:328 -     print_model_eval() ] Train loss (w reg) on all data: [0.00169404]\n",
      "[genericNeuralNet.py:329 -     print_model_eval() ] Train loss (w/o reg) on all data: [0.00039346]\n",
      "[genericNeuralNet.py:331 -     print_model_eval() ] Test loss (w/o reg) on all data: [0.00038177386159077287]\n",
      "[genericNeuralNet.py:332 -     print_model_eval() ] Train acc on all data:  [1.]\n",
      "[genericNeuralNet.py:333 -     print_model_eval() ] Test acc on all data:   [1.0]\n",
      "[genericNeuralNet.py:335 -     print_model_eval() ] Norm of the mean of gradients: 3.065512e-07\n",
      "[genericNeuralNet.py:336 -     print_model_eval() ] Norm of the params: 1.6128061\n"
     ]
    },
    {
     "name": "stdout",
     "output_type": "stream",
     "text": [
      "Training on poisoned dataset...\n"
     ]
    },
    {
     "name": "stderr",
     "output_type": "stream",
     "text": [
      "[genericNeuralNet.py:328 -     print_model_eval() ] Train loss (w reg) on all data: [0.00496261]\n",
      "[genericNeuralNet.py:329 -     print_model_eval() ] Train loss (w/o reg) on all data: [0.00173388]\n",
      "[genericNeuralNet.py:331 -     print_model_eval() ] Test loss (w/o reg) on all data: [0.0029822969809174538]\n",
      "[genericNeuralNet.py:332 -     print_model_eval() ] Train acc on all data:  [1.]\n",
      "[genericNeuralNet.py:333 -     print_model_eval() ] Test acc on all data:   [1.0]\n",
      "[genericNeuralNet.py:335 -     print_model_eval() ] Norm of the mean of gradients: 0.016339397\n",
      "[genericNeuralNet.py:336 -     print_model_eval() ] Norm of the params: 2.541155\n"
     ]
    },
    {
     "name": "stdout",
     "output_type": "stream",
     "text": [
      "Setting up full model...\n",
      "Training on clean dataset...\n"
     ]
    },
    {
     "name": "stderr",
     "output_type": "stream",
     "text": [
      "[genericNeuralNet.py:328 -     print_model_eval() ] Train loss (w reg) on all data: [0.00169404]\n",
      "[genericNeuralNet.py:329 -     print_model_eval() ] Train loss (w/o reg) on all data: [0.00039346]\n",
      "[genericNeuralNet.py:331 -     print_model_eval() ] Test loss (w/o reg) on all data: [0.0003817691176664084]\n",
      "[genericNeuralNet.py:332 -     print_model_eval() ] Train acc on all data:  [1.]\n",
      "[genericNeuralNet.py:333 -     print_model_eval() ] Test acc on all data:   [1.0]\n",
      "[genericNeuralNet.py:335 -     print_model_eval() ] Norm of the mean of gradients: 1.9443868e-07\n",
      "[genericNeuralNet.py:336 -     print_model_eval() ] Norm of the params: 1.6128073\n"
     ]
    },
    {
     "name": "stdout",
     "output_type": "stream",
     "text": [
      "Training on poisoned dataset...\n"
     ]
    },
    {
     "name": "stderr",
     "output_type": "stream",
     "text": [
      "[genericNeuralNet.py:328 -     print_model_eval() ] Train loss (w reg) on all data: [0.00411216]\n",
      "[genericNeuralNet.py:329 -     print_model_eval() ] Train loss (w/o reg) on all data: [0.00161927]\n",
      "[genericNeuralNet.py:331 -     print_model_eval() ] Test loss (w/o reg) on all data: [0.000812684535048902]\n",
      "[genericNeuralNet.py:332 -     print_model_eval() ] Train acc on all data:  [0.999]\n",
      "[genericNeuralNet.py:333 -     print_model_eval() ] Test acc on all data:   [1.0]\n",
      "[genericNeuralNet.py:335 -     print_model_eval() ] Norm of the mean of gradients: 0.015343656\n",
      "[genericNeuralNet.py:336 -     print_model_eval() ] Norm of the params: 2.2328877\n"
     ]
    },
    {
     "name": "stdout",
     "output_type": "stream",
     "text": [
      "Setting up full model...\n",
      "Training on clean dataset...\n"
     ]
    },
    {
     "name": "stderr",
     "output_type": "stream",
     "text": [
      "[genericNeuralNet.py:328 -     print_model_eval() ] Train loss (w reg) on all data: [0.00169404]\n",
      "[genericNeuralNet.py:329 -     print_model_eval() ] Train loss (w/o reg) on all data: [0.00039346]\n",
      "[genericNeuralNet.py:331 -     print_model_eval() ] Test loss (w/o reg) on all data: [0.00038176789530552924]\n",
      "[genericNeuralNet.py:332 -     print_model_eval() ] Train acc on all data:  [1.]\n",
      "[genericNeuralNet.py:333 -     print_model_eval() ] Test acc on all data:   [1.0]\n",
      "[genericNeuralNet.py:335 -     print_model_eval() ] Norm of the mean of gradients: 1.1942839e-07\n",
      "[genericNeuralNet.py:336 -     print_model_eval() ] Norm of the params: 1.6128097\n"
     ]
    },
    {
     "name": "stdout",
     "output_type": "stream",
     "text": [
      "Training on poisoned dataset...\n"
     ]
    },
    {
     "name": "stderr",
     "output_type": "stream",
     "text": [
      "[genericNeuralNet.py:328 -     print_model_eval() ] Train loss (w reg) on all data: [0.00414907]\n",
      "[genericNeuralNet.py:329 -     print_model_eval() ] Train loss (w/o reg) on all data: [0.00095464]\n",
      "[genericNeuralNet.py:331 -     print_model_eval() ] Test loss (w/o reg) on all data: [0.0011756760068237782]\n",
      "[genericNeuralNet.py:332 -     print_model_eval() ] Train acc on all data:  [1.]\n",
      "[genericNeuralNet.py:333 -     print_model_eval() ] Test acc on all data:   [1.0]\n",
      "[genericNeuralNet.py:335 -     print_model_eval() ] Norm of the mean of gradients: 0.0076695844\n",
      "[genericNeuralNet.py:336 -     print_model_eval() ] Norm of the params: 2.527617\n"
     ]
    },
    {
     "name": "stdout",
     "output_type": "stream",
     "text": [
      "Setting up full model...\n",
      "Training on clean dataset...\n"
     ]
    },
    {
     "name": "stderr",
     "output_type": "stream",
     "text": [
      "[genericNeuralNet.py:328 -     print_model_eval() ] Train loss (w reg) on all data: [0.00169404]\n",
      "[genericNeuralNet.py:329 -     print_model_eval() ] Train loss (w/o reg) on all data: [0.00039346]\n",
      "[genericNeuralNet.py:331 -     print_model_eval() ] Test loss (w/o reg) on all data: [0.00038176908856257796]\n",
      "[genericNeuralNet.py:332 -     print_model_eval() ] Train acc on all data:  [1.]\n",
      "[genericNeuralNet.py:333 -     print_model_eval() ] Test acc on all data:   [1.0]\n",
      "[genericNeuralNet.py:335 -     print_model_eval() ] Norm of the mean of gradients: 7.653119e-08\n",
      "[genericNeuralNet.py:336 -     print_model_eval() ] Norm of the params: 1.6128097\n"
     ]
    },
    {
     "name": "stdout",
     "output_type": "stream",
     "text": [
      "Training on poisoned dataset...\n"
     ]
    },
    {
     "name": "stderr",
     "output_type": "stream",
     "text": [
      "[genericNeuralNet.py:328 -     print_model_eval() ] Train loss (w reg) on all data: [0.00462233]\n",
      "[genericNeuralNet.py:329 -     print_model_eval() ] Train loss (w/o reg) on all data: [0.00147905]\n",
      "[genericNeuralNet.py:331 -     print_model_eval() ] Test loss (w/o reg) on all data: [0.0009336668881587684]\n",
      "[genericNeuralNet.py:332 -     print_model_eval() ] Train acc on all data:  [1.]\n",
      "[genericNeuralNet.py:333 -     print_model_eval() ] Test acc on all data:   [1.0]\n",
      "[genericNeuralNet.py:335 -     print_model_eval() ] Norm of the mean of gradients: 0.013754109\n",
      "[genericNeuralNet.py:336 -     print_model_eval() ] Norm of the params: 2.5073006\n"
     ]
    },
    {
     "name": "stdout",
     "output_type": "stream",
     "text": [
      "Setting up full model...\n",
      "Training on clean dataset...\n"
     ]
    },
    {
     "name": "stderr",
     "output_type": "stream",
     "text": [
      "[genericNeuralNet.py:328 -     print_model_eval() ] Train loss (w reg) on all data: [0.00169404]\n",
      "[genericNeuralNet.py:329 -     print_model_eval() ] Train loss (w/o reg) on all data: [0.00039348]\n",
      "[genericNeuralNet.py:331 -     print_model_eval() ] Test loss (w/o reg) on all data: [0.0003817953111138195]\n",
      "[genericNeuralNet.py:332 -     print_model_eval() ] Train acc on all data:  [1.]\n",
      "[genericNeuralNet.py:333 -     print_model_eval() ] Test acc on all data:   [1.0]\n",
      "[genericNeuralNet.py:335 -     print_model_eval() ] Norm of the mean of gradients: 4.433465e-07\n",
      "[genericNeuralNet.py:336 -     print_model_eval() ] Norm of the params: 1.6127974\n"
     ]
    },
    {
     "name": "stdout",
     "output_type": "stream",
     "text": [
      "Training on poisoned dataset...\n"
     ]
    },
    {
     "name": "stderr",
     "output_type": "stream",
     "text": [
      "[genericNeuralNet.py:328 -     print_model_eval() ] Train loss (w reg) on all data: [0.0036179]\n",
      "[genericNeuralNet.py:329 -     print_model_eval() ] Train loss (w/o reg) on all data: [0.00124608]\n",
      "[genericNeuralNet.py:331 -     print_model_eval() ] Test loss (w/o reg) on all data: [0.0008323898073285818]\n",
      "[genericNeuralNet.py:332 -     print_model_eval() ] Train acc on all data:  [1.]\n",
      "[genericNeuralNet.py:333 -     print_model_eval() ] Test acc on all data:   [1.0]\n",
      "[genericNeuralNet.py:335 -     print_model_eval() ] Norm of the mean of gradients: 0.012035663\n",
      "[genericNeuralNet.py:336 -     print_model_eval() ] Norm of the params: 2.1779892\n"
     ]
    },
    {
     "name": "stdout",
     "output_type": "stream",
     "text": [
      "Setting up full model...\n",
      "Training on clean dataset...\n"
     ]
    },
    {
     "name": "stderr",
     "output_type": "stream",
     "text": [
      "[genericNeuralNet.py:328 -     print_model_eval() ] Train loss (w reg) on all data: [0.00169404]\n",
      "[genericNeuralNet.py:329 -     print_model_eval() ] Train loss (w/o reg) on all data: [0.00039346]\n",
      "[genericNeuralNet.py:331 -     print_model_eval() ] Test loss (w/o reg) on all data: [0.00038176431553438306]\n",
      "[genericNeuralNet.py:332 -     print_model_eval() ] Train acc on all data:  [1.]\n",
      "[genericNeuralNet.py:333 -     print_model_eval() ] Test acc on all data:   [1.0]\n",
      "[genericNeuralNet.py:335 -     print_model_eval() ] Norm of the mean of gradients: 1.5451636e-07\n",
      "[genericNeuralNet.py:336 -     print_model_eval() ] Norm of the params: 1.6128107\n"
     ]
    },
    {
     "name": "stdout",
     "output_type": "stream",
     "text": [
      "Training on poisoned dataset...\n"
     ]
    },
    {
     "name": "stderr",
     "output_type": "stream",
     "text": [
      "[genericNeuralNet.py:328 -     print_model_eval() ] Train loss (w reg) on all data: [0.00457243]\n",
      "[genericNeuralNet.py:329 -     print_model_eval() ] Train loss (w/o reg) on all data: [0.00162357]\n",
      "[genericNeuralNet.py:331 -     print_model_eval() ] Test loss (w/o reg) on all data: [0.0012568372767418623]\n",
      "[genericNeuralNet.py:332 -     print_model_eval() ] Train acc on all data:  [0.999]\n",
      "[genericNeuralNet.py:333 -     print_model_eval() ] Test acc on all data:   [1.0]\n",
      "[genericNeuralNet.py:335 -     print_model_eval() ] Norm of the mean of gradients: 0.0138452025\n",
      "[genericNeuralNet.py:336 -     print_model_eval() ] Norm of the params: 2.4285262\n"
     ]
    },
    {
     "name": "stdout",
     "output_type": "stream",
     "text": [
      "Setting up full model...\n",
      "Training on clean dataset...\n"
     ]
    },
    {
     "name": "stderr",
     "output_type": "stream",
     "text": [
      "[genericNeuralNet.py:328 -     print_model_eval() ] Train loss (w reg) on all data: [0.00169404]\n",
      "[genericNeuralNet.py:329 -     print_model_eval() ] Train loss (w/o reg) on all data: [0.00039346]\n",
      "[genericNeuralNet.py:331 -     print_model_eval() ] Test loss (w/o reg) on all data: [0.0003817691176664084]\n",
      "[genericNeuralNet.py:332 -     print_model_eval() ] Train acc on all data:  [1.]\n",
      "[genericNeuralNet.py:333 -     print_model_eval() ] Test acc on all data:   [1.0]\n",
      "[genericNeuralNet.py:335 -     print_model_eval() ] Norm of the mean of gradients: 5.6451658e-08\n",
      "[genericNeuralNet.py:336 -     print_model_eval() ] Norm of the params: 1.6128092\n"
     ]
    },
    {
     "name": "stdout",
     "output_type": "stream",
     "text": [
      "Training on poisoned dataset...\n"
     ]
    },
    {
     "name": "stderr",
     "output_type": "stream",
     "text": [
      "[genericNeuralNet.py:328 -     print_model_eval() ] Train loss (w reg) on all data: [0.00400454]\n",
      "[genericNeuralNet.py:329 -     print_model_eval() ] Train loss (w/o reg) on all data: [0.00088951]\n",
      "[genericNeuralNet.py:331 -     print_model_eval() ] Test loss (w/o reg) on all data: [0.0008383415406569839]\n",
      "[genericNeuralNet.py:332 -     print_model_eval() ] Train acc on all data:  [1.]\n",
      "[genericNeuralNet.py:333 -     print_model_eval() ] Test acc on all data:   [1.0]\n",
      "[genericNeuralNet.py:335 -     print_model_eval() ] Norm of the mean of gradients: 0.00665965\n",
      "[genericNeuralNet.py:336 -     print_model_eval() ] Norm of the params: 2.4960072\n"
     ]
    }
   ],
   "source": [
    "for pair in indices_poisons_pairs:\n",
    "    result = analyze_results(pair, logits=True, cache = cache)\n",
    "    results[pair] = result"
   ]
  },
  {
   "cell_type": "code",
   "execution_count": 104,
   "metadata": {},
   "outputs": [
    {
     "data": {
      "text/plain": [
       "56"
      ]
     },
     "execution_count": 104,
     "metadata": {},
     "output_type": "execute_result"
    }
   ],
   "source": [
    "len(results.keys())"
   ]
  },
  {
   "cell_type": "code",
   "execution_count": 108,
   "metadata": {},
   "outputs": [],
   "source": [
    "Eagle_fish_results = {}\n",
    "for k in results.keys():\n",
    "    FN_1, FN_2 = k\n",
    "    metadata = FN_to_experiment_result_metadata(FN_1)\n",
    "    if metadata['dataset_name'] == 'Eagle-Mushroom':\n",
    "        Eagle_fish_results[k] = results[k]"
   ]
  },
  {
   "cell_type": "code",
   "execution_count": 110,
   "metadata": {},
   "outputs": [
    {
     "data": {
      "text/plain": [
       "[('Experiment_results/Experiment_1/Eagle-Mushroom/FC/Experiment_1_poisons_FC_Eagle-Mushroom_num_train_1__5.npy',\n",
       "  'Experiment_results/Experiment_1/Eagle-Mushroom/FC/Experiment_1_indices_FC_Eagle-Mushroom_num_train_1__5.npy'),\n",
       " ('Experiment_results/Experiment_1/Eagle-Mushroom/FC/Experiment_1_poisons_FC_Eagle-Mushroom_num_train_1__83.npy',\n",
       "  'Experiment_results/Experiment_1/Eagle-Mushroom/FC/Experiment_1_indices_FC_Eagle-Mushroom_num_train_1__83.npy'),\n",
       " ('Experiment_results/Experiment_1/Eagle-Mushroom/FC/Experiment_1_poisons_FC_Eagle-Mushroom_num_train_1__28.npy',\n",
       "  'Experiment_results/Experiment_1/Eagle-Mushroom/FC/Experiment_1_indices_FC_Eagle-Mushroom_num_train_1__28.npy'),\n",
       " ('Experiment_results/Experiment_1/Eagle-Mushroom/FC/Experiment_1_poisons_FC_Eagle-Mushroom_num_train_2__69.npy',\n",
       "  'Experiment_results/Experiment_1/Eagle-Mushroom/FC/Experiment_1_indices_FC_Eagle-Mushroom_num_train_2__69.npy'),\n",
       " ('Experiment_results/Experiment_1/Eagle-Mushroom/FC/Experiment_1_poisons_FC_Eagle-Mushroom_num_train_2__83.npy',\n",
       "  'Experiment_results/Experiment_1/Eagle-Mushroom/FC/Experiment_1_indices_FC_Eagle-Mushroom_num_train_2__83.npy'),\n",
       " ('Experiment_results/Experiment_1/Eagle-Mushroom/FC/Experiment_1_poisons_FC_Eagle-Mushroom_num_train_2__28.npy',\n",
       "  'Experiment_results/Experiment_1/Eagle-Mushroom/FC/Experiment_1_indices_FC_Eagle-Mushroom_num_train_2__28.npy'),\n",
       " ('Experiment_results/Experiment_1/Eagle-Mushroom/FC/Experiment_1_poisons_FC_Eagle-Mushroom_num_train_4__12.npy',\n",
       "  'Experiment_results/Experiment_1/Eagle-Mushroom/FC/Experiment_1_indices_FC_Eagle-Mushroom_num_train_4__12.npy'),\n",
       " ('Experiment_results/Experiment_1/Eagle-Mushroom/FC/Experiment_1_poisons_FC_Eagle-Mushroom_num_train_1__69.npy',\n",
       "  'Experiment_results/Experiment_1/Eagle-Mushroom/FC/Experiment_1_indices_FC_Eagle-Mushroom_num_train_1__69.npy'),\n",
       " ('Experiment_results/Experiment_1/Eagle-Mushroom/FC/Experiment_1_poisons_FC_Eagle-Mushroom_num_train_4__5.npy',\n",
       "  'Experiment_results/Experiment_1/Eagle-Mushroom/FC/Experiment_1_indices_FC_Eagle-Mushroom_num_train_4__5.npy'),\n",
       " ('Experiment_results/Experiment_1/Eagle-Mushroom/FC/Experiment_1_poisons_FC_Eagle-Mushroom_num_train_1__12.npy',\n",
       "  'Experiment_results/Experiment_1/Eagle-Mushroom/FC/Experiment_1_indices_FC_Eagle-Mushroom_num_train_1__12.npy'),\n",
       " ('Experiment_results/Experiment_1/Eagle-Mushroom/FC/Experiment_1_poisons_FC_Eagle-Mushroom_num_train_1__80.npy',\n",
       "  'Experiment_results/Experiment_1/Eagle-Mushroom/FC/Experiment_1_indices_FC_Eagle-Mushroom_num_train_1__80.npy'),\n",
       " ('Experiment_results/Experiment_1/Eagle-Mushroom/FC/Experiment_1_poisons_FC_Eagle-Mushroom_num_train_4__28.npy',\n",
       "  'Experiment_results/Experiment_1/Eagle-Mushroom/FC/Experiment_1_indices_FC_Eagle-Mushroom_num_train_4__28.npy'),\n",
       " ('Experiment_results/Experiment_1/Eagle-Mushroom/FC/Experiment_1_poisons_FC_Eagle-Mushroom_num_train_4__33.npy',\n",
       "  'Experiment_results/Experiment_1/Eagle-Mushroom/FC/Experiment_1_indices_FC_Eagle-Mushroom_num_train_4__33.npy'),\n",
       " ('Experiment_results/Experiment_1/Eagle-Mushroom/FC/Experiment_1_poisons_FC_Eagle-Mushroom_num_train_2__5.npy',\n",
       "  'Experiment_results/Experiment_1/Eagle-Mushroom/FC/Experiment_1_indices_FC_Eagle-Mushroom_num_train_2__5.npy'),\n",
       " ('Experiment_results/Experiment_1/Eagle-Mushroom/FC/Experiment_1_poisons_FC_Eagle-Mushroom_num_train_2__33.npy',\n",
       "  'Experiment_results/Experiment_1/Eagle-Mushroom/FC/Experiment_1_indices_FC_Eagle-Mushroom_num_train_2__33.npy'),\n",
       " ('Experiment_results/Experiment_1/Eagle-Mushroom/FC/Experiment_1_poisons_FC_Eagle-Mushroom_num_train_1__33.npy',\n",
       "  'Experiment_results/Experiment_1/Eagle-Mushroom/FC/Experiment_1_indices_FC_Eagle-Mushroom_num_train_1__33.npy'),\n",
       " ('Experiment_results/Experiment_1/Eagle-Mushroom/FC/Experiment_1_poisons_FC_Eagle-Mushroom_num_train_2__12.npy',\n",
       "  'Experiment_results/Experiment_1/Eagle-Mushroom/FC/Experiment_1_indices_FC_Eagle-Mushroom_num_train_2__12.npy'),\n",
       " ('Experiment_results/Experiment_1/Eagle-Mushroom/FC/Experiment_1_poisons_FC_Eagle-Mushroom_num_train_2__80.npy',\n",
       "  'Experiment_results/Experiment_1/Eagle-Mushroom/FC/Experiment_1_indices_FC_Eagle-Mushroom_num_train_2__80.npy'),\n",
       " ('Experiment_results/Experiment_1/Eagle-Mushroom/FC/Experiment_1_poisons_FC_Eagle-Mushroom_num_train_4__83.npy',\n",
       "  'Experiment_results/Experiment_1/Eagle-Mushroom/FC/Experiment_1_indices_FC_Eagle-Mushroom_num_train_4__83.npy'),\n",
       " ('Experiment_results/Experiment_1/Eagle-Mushroom/FC/Experiment_1_poisons_FC_Eagle-Mushroom_num_train_4__69.npy',\n",
       "  'Experiment_results/Experiment_1/Eagle-Mushroom/FC/Experiment_1_indices_FC_Eagle-Mushroom_num_train_4__69.npy'),\n",
       " ('Experiment_results/Experiment_1/Eagle-Mushroom/FC/Experiment_1_poisons_FC_Eagle-Mushroom_num_train_4__80.npy',\n",
       "  'Experiment_results/Experiment_1/Eagle-Mushroom/FC/Experiment_1_indices_FC_Eagle-Mushroom_num_train_4__80.npy')]"
      ]
     },
     "execution_count": 110,
     "metadata": {},
     "output_type": "execute_result"
    }
   ],
   "source": [
    "Eagle_fish_results.keys()"
   ]
  },
  {
   "cell_type": "code",
   "execution_count": 111,
   "metadata": {},
   "outputs": [],
   "source": [
    "for k,v in Eagle_fish_results.iteritems():\n",
    "    FN_1, FN_2 = k\n",
    "    (acc_c, acc_p), (logits_c, logits_p), angle, (w_c, w_p) = v\n",
    "    starter = FN_1.split('.')[0]\n",
    "    np.save(starter+'____'+\"acc_angle_result\", [acc_c, acc_p, angle])\n",
    "    np.save(starter+'____'+\"logitsClean_result\", logits_c)\n",
    "    np.save(starter+'____'+\"logitsPoisoned_result\", logits_p)\n",
    "    np.save(starter+'____'+\"wClean_result\", w_c)\n",
    "    np.save(starter+'____'+\"wPoisoned_result\", w_p)"
   ]
  },
  {
   "cell_type": "code",
   "execution_count": 84,
   "metadata": {},
   "outputs": [
    {
     "data": {
      "text/plain": [
       "['asdasd___asdd', '']"
      ]
     },
     "execution_count": 84,
     "metadata": {},
     "output_type": "execute_result"
    }
   ],
   "source": [
    "\"asdasd___asdd____\".split('____')"
   ]
  },
  {
   "cell_type": "code",
   "execution_count": null,
   "metadata": {},
   "outputs": [],
   "source": []
  },
  {
   "cell_type": "code",
   "execution_count": 120,
   "metadata": {},
   "outputs": [
    {
     "data": {
      "text/plain": [
       "['Experiment_1_indices_IF_Dog-Fish_num_train_4__416____wPoisoned_result.npy',\n",
       " 'Experiment_1_indices_IF_Dog-Fish_num_train_4__416____wClean_result.npy',\n",
       " 'Experiment_1_indices_IF_Dog-Fish_num_train_4__416____logitsPoisoned_result.npy',\n",
       " 'Experiment_1_indices_IF_Dog-Fish_num_train_4__416____logitsClean_result.npy',\n",
       " 'Experiment_1_indices_IF_Dog-Fish_num_train_4__416____acc_angle_result.npy']"
      ]
     },
     "execution_count": 120,
     "metadata": {},
     "output_type": "execute_result"
    }
   ],
   "source": [
    "Dog_fish_IF_analysis_FNs = !ls -rt Experiment_results/Experiment_1/Dog-Fish/IF/Analaysis/\n",
    "Dog_fish_IF_analysis_FNs = Dog_fish_IF_analysis_FNs[1:]\n",
    "Dog_fish_IF_analysis_FNs[-5:]"
   ]
  },
  {
   "cell_type": "code",
   "execution_count": 153,
   "metadata": {},
   "outputs": [
    {
     "name": "stdout",
     "output_type": "stream",
     "text": [
      "Loading animals from disk...\n",
      "../data/dataset_dog-fish_train-900_test-300.npz\n"
     ]
    }
   ],
   "source": [
    "dog_fish_dataset = get_dataset(dataset_metadatas[\"Dog-Fish\"])"
   ]
  },
  {
   "cell_type": "code",
   "execution_count": 156,
   "metadata": {},
   "outputs": [
    {
     "name": "stdout",
     "output_type": "stream",
     "text": [
      "['Experiment', '1', 'poisons', 'IF', 'Dog-Fish', 'num', 'train', '1', '', '278', '', '', '', 'wPoisoned', 'result.npy']\n",
      "[[8.118543e-05 9.999188e-01]]\n"
     ]
    },
    {
     "ename": "IndexError",
     "evalue": "only integers, slices (`:`), ellipsis (`...`), numpy.newaxis (`None`) and integer or boolean arrays are valid indices",
     "output_type": "error",
     "traceback": [
      "\u001b[0;31m---------------------------------------------------------------------------\u001b[0m",
      "\u001b[0;31mIndexError\u001b[0m                                Traceback (most recent call last)",
      "\u001b[0;32m<ipython-input-156-f061285450b9>\u001b[0m in \u001b[0;36m<module>\u001b[0;34m()\u001b[0m\n\u001b[1;32m     10\u001b[0m     \u001b[0mclean_labels\u001b[0m \u001b[0;34m=\u001b[0m \u001b[0mdog_fish_dataset\u001b[0m\u001b[0;34m.\u001b[0m\u001b[0mtest\u001b[0m\u001b[0;34m.\u001b[0m\u001b[0mlabels\u001b[0m\u001b[0;34m[\u001b[0m\u001b[0mint\u001b[0m\u001b[0;34m(\u001b[0m\u001b[0mDog_fish_IF_analysis_FNs\u001b[0m\u001b[0;34m[\u001b[0m\u001b[0mi\u001b[0m\u001b[0;34m]\u001b[0m\u001b[0;34m.\u001b[0m\u001b[0msplit\u001b[0m\u001b[0;34m(\u001b[0m\u001b[0;34m'_'\u001b[0m\u001b[0;34m)\u001b[0m\u001b[0;34m[\u001b[0m\u001b[0;36m9\u001b[0m\u001b[0;34m]\u001b[0m\u001b[0;34m)\u001b[0m\u001b[0;34m]\u001b[0m\u001b[0;34m\u001b[0m\u001b[0m\n\u001b[1;32m     11\u001b[0m     \u001b[0mnum_points\u001b[0m \u001b[0;34m=\u001b[0m \u001b[0mlen\u001b[0m\u001b[0;34m(\u001b[0m\u001b[0mlogitsPoisoned\u001b[0m\u001b[0;34m)\u001b[0m\u001b[0;34m\u001b[0m\u001b[0m\n\u001b[0;32m---> 12\u001b[0;31m     \u001b[0mfinal_orig_label_logits\u001b[0m \u001b[0;34m=\u001b[0m \u001b[0mlogitsPoisoned\u001b[0m\u001b[0;34m[\u001b[0m\u001b[0mnp\u001b[0m\u001b[0;34m.\u001b[0m\u001b[0marange\u001b[0m\u001b[0;34m(\u001b[0m\u001b[0mnum_points\u001b[0m\u001b[0;34m)\u001b[0m\u001b[0;34m,\u001b[0m \u001b[0mclean_labels\u001b[0m\u001b[0;34m]\u001b[0m\u001b[0;34m\u001b[0m\u001b[0m\n\u001b[0m\u001b[1;32m     13\u001b[0m     \u001b[0macc_clean\u001b[0m\u001b[0;34m,\u001b[0m \u001b[0macc_poisoned\u001b[0m\u001b[0;34m,\u001b[0m \u001b[0mangle\u001b[0m \u001b[0;34m=\u001b[0m \u001b[0mnp\u001b[0m\u001b[0;34m.\u001b[0m\u001b[0mload\u001b[0m\u001b[0;34m(\u001b[0m\u001b[0;34m\"Experiment_results/Experiment_1/Dog-Fish/IF/Analaysis/\"\u001b[0m \u001b[0;34m+\u001b[0m \u001b[0mDog_fish_IF_analysis_FNs\u001b[0m\u001b[0;34m[\u001b[0m\u001b[0mi\u001b[0m\u001b[0;34m+\u001b[0m\u001b[0;36m4\u001b[0m\u001b[0;34m]\u001b[0m\u001b[0;34m)\u001b[0m\u001b[0;34m\u001b[0m\u001b[0m\n\u001b[1;32m     14\u001b[0m     \u001b[0mnum_poisoned\u001b[0m \u001b[0;34m=\u001b[0m \u001b[0mint\u001b[0m\u001b[0;34m(\u001b[0m\u001b[0mDog_fish_IF_analysis_FNs\u001b[0m\u001b[0;34m[\u001b[0m\u001b[0mi\u001b[0m\u001b[0;34m]\u001b[0m\u001b[0;34m.\u001b[0m\u001b[0msplit\u001b[0m\u001b[0;34m(\u001b[0m\u001b[0;34m'_'\u001b[0m\u001b[0;34m)\u001b[0m\u001b[0;34m[\u001b[0m\u001b[0;36m7\u001b[0m\u001b[0;34m]\u001b[0m\u001b[0;34m)\u001b[0m\u001b[0;34m\u001b[0m\u001b[0m\n",
      "\u001b[0;31mIndexError\u001b[0m: only integers, slices (`:`), ellipsis (`...`), numpy.newaxis (`None`) and integer or boolean arrays are valid indices"
     ]
    }
   ],
   "source": [
    "dog_fish_IF_extracted = []\n",
    "for i in range(0,len(Dog_fish_IF_analysis_FNs),5):\n",
    "    Dog_fish_IF_analysis_FNs[i]#wPosioned\n",
    "    Dog_fish_IF_analysis_FNs[i+1]#wClean\n",
    "    logitsPoisoned = np.load(\"Experiment_results/Experiment_1/Dog-Fish/IF/Analaysis/\"+Dog_fish_IF_analysis_FNs[i+2])\n",
    "    logitsClean = np.load(\"Experiment_results/Experiment_1/Dog-Fish/IF/Analaysis/\"+Dog_fish_IF_analysis_FNs[i+3])\n",
    "#     clean_labels = np.argmax(logitsClean, axis = 1)\n",
    "    print Dog_fish_IF_analysis_FNs[i].split('_')\n",
    "    print logitsClean\n",
    "    clean_labels = dog_fish_dataset.test.labels[int(Dog_fish_IF_analysis_FNs[i].split('_')[9])]\n",
    "    num_points = len(logitsPoisoned)\n",
    "    final_orig_label_logits = logitsPoisoned[np.arange(num_points), clean_labels]\n",
    "    acc_clean, acc_poisoned, angle = np.load(\"Experiment_results/Experiment_1/Dog-Fish/IF/Analaysis/\" + Dog_fish_IF_analysis_FNs[i+4])\n",
    "    num_poisoned = int(Dog_fish_IF_analysis_FNs[i].split('_')[7])\n",
    "    dog_fish_IF_extracted.append((num_poisoned, acc_clean, acc_poisoned, angle, final_orig_label_logits))"
   ]
  },
  {
   "cell_type": "code",
   "execution_count": 149,
   "metadata": {},
   "outputs": [],
   "source": [
    "dog_fish_IF_extracted_logits = np.asarray(dog_fish_IF_extracted)[:,[0,-1]]\n",
    "DF_IF_logits_1 = dog_fish_IF_extracted_logits[dog_fish_IF_extracted_logits[:,0] == 1][:,1]\n",
    "DF_IF_logits_2 = dog_fish_IF_extracted_logits[dog_fish_IF_extracted_logits[:,0] == 2][:,1]\n",
    "DF_IF_logits_4 = dog_fish_IF_extracted_logits[dog_fish_IF_extracted_logits[:,0] == 4][:,1]\n",
    "DF_IF_logits_8 = dog_fish_IF_extracted_logits[dog_fish_IF_extracted_logits[:,0] == 8][:,1]\n",
    "DF_IF_logits_16 = dog_fish_IF_extracted_logits[dog_fish_IF_extracted_logits[:,0] == 16][:,1]"
   ]
  },
  {
   "cell_type": "code",
   "execution_count": 151,
   "metadata": {},
   "outputs": [
    {
     "data": {
      "text/plain": [
       "array([1.00665948e-05, 1.02665092e-06, 1.08867453e-05, 1.01204167e-09,\n",
       "       2.35358834e-06, 1.94600011e-06, 3.68017140e-07])"
      ]
     },
     "execution_count": 151,
     "metadata": {},
     "output_type": "execute_result"
    }
   ],
   "source": [
    "DF_IF_logits_4"
   ]
  },
  {
   "cell_type": "code",
   "execution_count": 152,
   "metadata": {},
   "outputs": [
    {
     "data": {
      "text/plain": [
       "array([1.29588265e-14, 5.46456000e-16, 4.11480095e-12, 1.00000000e+00,\n",
       "       1.42357507e-13, 1.18465925e-06, 1.09754853e-14])"
      ]
     },
     "execution_count": 152,
     "metadata": {},
     "output_type": "execute_result"
    }
   ],
   "source": [
    "DF_IF_logits_8"
   ]
  },
  {
   "cell_type": "code",
   "execution_count": 150,
   "metadata": {},
   "outputs": [
    {
     "data": {
      "text/plain": [
       "[<matplotlib.lines.Line2D at 0x7fa479c30650>]"
      ]
     },
     "execution_count": 150,
     "metadata": {},
     "output_type": "execute_result"
    },
    {
     "data": {
      "image/png": "[encoded data removed]",
      "text/plain": [
       "<Figure size 432x288 with 1 Axes>"
      ]
     },
     "metadata": {},
     "output_type": "display_data"
    }
   ],
   "source": [
    "plt.plot([1,2,4,8,16], [np.percentile(logits, 90) for logits in [DF_IF_logits_1, DF_IF_logits_2, DF_IF_logits_4, DF_IF_logits_8, DF_IF_logits_16]])"
   ]
  },
  {
   "cell_type": "code",
   "execution_count": null,
   "metadata": {},
   "outputs": [],
   "source": []
  }
 ],
 "metadata": {
  "kernelspec": {
   "display_name": "Python (influence_env)",
   "language": "python",
   "name": "influence_env"
  },
  "language_info": {
   "codemirror_mode": {
    "name": "ipython",
    "version": 2
   },
   "file_extension": ".py",
   "mimetype": "text/x-python",
   "name": "python",
   "nbconvert_exporter": "python",
   "pygments_lexer": "ipython2",
   "version": "2.7.15"
  }
 },
 "nbformat": 4,
 "nbformat_minor": 2
}
