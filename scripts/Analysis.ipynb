{
 "cells": [
  {
   "cell_type": "code",
   "execution_count": 14,
   "metadata": {},
   "outputs": [
    {
     "ename": "ModuleNotFoundError",
     "evalue": "No module named 'tensorflow'",
     "output_type": "error",
     "traceback": [
      "\u001b[0;31m---------------------------------------------------------------------------\u001b[0m",
      "\u001b[0;31mModuleNotFoundError\u001b[0m                       Traceback (most recent call last)",
      "\u001b[0;32m<ipython-input-14-ceda73b842a0>\u001b[0m in \u001b[0;36m<module>\u001b[0;34m()\u001b[0m\n\u001b[1;32m      3\u001b[0m \u001b[0;32mimport\u001b[0m \u001b[0msklearn\u001b[0m\u001b[0;34m\u001b[0m\u001b[0m\n\u001b[1;32m      4\u001b[0m \u001b[0;32mfrom\u001b[0m \u001b[0mskimage\u001b[0m \u001b[0;32mimport\u001b[0m \u001b[0mio\u001b[0m\u001b[0;34m\u001b[0m\u001b[0m\n\u001b[0;32m----> 5\u001b[0;31m \u001b[0;32mimport\u001b[0m \u001b[0mload_animals\u001b[0m\u001b[0;34m\u001b[0m\u001b[0m\n\u001b[0m\u001b[1;32m      6\u001b[0m \u001b[0mget_ipython\u001b[0m\u001b[0;34m(\u001b[0m\u001b[0;34m)\u001b[0m\u001b[0;34m.\u001b[0m\u001b[0mrun_line_magic\u001b[0m\u001b[0;34m(\u001b[0m\u001b[0;34m'matplotlib'\u001b[0m\u001b[0;34m,\u001b[0m \u001b[0;34m'inline'\u001b[0m\u001b[0;34m)\u001b[0m\u001b[0;34m\u001b[0m\u001b[0m\n\u001b[1;32m      7\u001b[0m \u001b[0;34m\u001b[0m\u001b[0m\n",
      "\u001b[0;32m~/influence-release/scripts/load_animals.py\u001b[0m in \u001b[0;36m<module>\u001b[0;34m()\u001b[0m\n\u001b[1;32m      2\u001b[0m \u001b[0;32mimport\u001b[0m \u001b[0msys\u001b[0m\u001b[0;34m\u001b[0m\u001b[0m\n\u001b[1;32m      3\u001b[0m \u001b[0;34m\u001b[0m\u001b[0m\n\u001b[0;32m----> 4\u001b[0;31m \u001b[0;32mfrom\u001b[0m \u001b[0mtensorflow\u001b[0m\u001b[0;34m.\u001b[0m\u001b[0mcontrib\u001b[0m\u001b[0;34m.\u001b[0m\u001b[0mlearn\u001b[0m\u001b[0;34m.\u001b[0m\u001b[0mpython\u001b[0m\u001b[0;34m.\u001b[0m\u001b[0mlearn\u001b[0m\u001b[0;34m.\u001b[0m\u001b[0mdatasets\u001b[0m \u001b[0;32mimport\u001b[0m \u001b[0mbase\u001b[0m\u001b[0;34m\u001b[0m\u001b[0m\n\u001b[0m\u001b[1;32m      5\u001b[0m \u001b[0;32mimport\u001b[0m \u001b[0mnumpy\u001b[0m \u001b[0;32mas\u001b[0m \u001b[0mnp\u001b[0m\u001b[0;34m\u001b[0m\u001b[0m\n\u001b[1;32m      6\u001b[0m \u001b[0;32mimport\u001b[0m \u001b[0mIPython\u001b[0m\u001b[0;34m\u001b[0m\u001b[0m\n",
      "\u001b[0;31mModuleNotFoundError\u001b[0m: No module named 'tensorflow'"
     ]
    }
   ],
   "source": [
    "import numpy as np\n",
    "import matplotlib.pylab as plt\n",
    "import sklearn\n",
    "from skimage import io\n",
    "import load_animals\n",
    "%matplotlib inline\n",
    "\n",
    "%load_ext autoreload\n",
    "%autoreload 2"
   ]
  },
  {
   "cell_type": "code",
   "execution_count": 7,
   "metadata": {},
   "outputs": [],
   "source": [
    "img_side = 299\n",
    "num_channels = 3\n",
    "initial_learning_rate = 0.001 \n",
    "keep_probs = None\n",
    "decay_epochs = [1000, 10000]\n",
    "weight_decay = 0.001"
   ]
  },
  {
   "cell_type": "code",
   "execution_count": 10,
   "metadata": {},
   "outputs": [],
   "source": [
    "training_dataset_classes = [\"Eagle\", \"Snail\", \"Mushroom\"]\n",
    "num_train_ex_per_class = 500\n",
    "num_test_ex_per_class = 100\n",
    "poisoned_training_points = []\n",
    "poisoned_training_points_indices = []\n",
    "target_test_points_indices = []\n",
    "method = \"IF\" # or \"FC\""
   ]
  },
  {
   "cell_type": "code",
   "execution_count": 11,
   "metadata": {},
   "outputs": [],
   "source": [
    "def get_dataset(classes):\n",
    "    classes_str = '_'.join(classes)\n",
    "    dataset_name = '{}_{}_{}'.format(classes_str, num_train_ex_per_class, num_test_ex_per_class)\n",
    "    # extract_and_rename_animals()\n",
    "    data_sets = load_animals(\n",
    "        num_train_ex_per_class=num_train_ex_per_class, \n",
    "        num_test_ex_per_class=num_test_ex_per_class,\n",
    "    #     classes=['Eagle', 'Komodo_Dragon', 'Snail', 'Ox', 'Mushroom'])\n",
    "        classes=classes)\n",
    "    return data_sets"
   ]
  },
  {
   "cell_type": "code",
   "execution_count": 12,
   "metadata": {},
   "outputs": [
    {
     "ename": "NameError",
     "evalue": "name 'load_animals' is not defined",
     "output_type": "error",
     "traceback": [
      "\u001b[0;31m---------------------------------------------------------------------------\u001b[0m",
      "\u001b[0;31mNameError\u001b[0m                                 Traceback (most recent call last)",
      "\u001b[0;32m<ipython-input-12-0b72eee12602>\u001b[0m in \u001b[0;36m<module>\u001b[0;34m()\u001b[0m\n\u001b[0;32m----> 1\u001b[0;31m \u001b[0mdata_sets\u001b[0m \u001b[0;34m=\u001b[0m \u001b[0mget_dataset\u001b[0m\u001b[0;34m(\u001b[0m\u001b[0mtraining_dataset_classes\u001b[0m\u001b[0;34m)\u001b[0m\u001b[0;34m\u001b[0m\u001b[0m\n\u001b[0m",
      "\u001b[0;32m<ipython-input-11-4359556e84bb>\u001b[0m in \u001b[0;36mget_dataset\u001b[0;34m(classes)\u001b[0m\n\u001b[1;32m      3\u001b[0m     \u001b[0mdataset_name\u001b[0m \u001b[0;34m=\u001b[0m \u001b[0;34m'{}_{}_{}'\u001b[0m\u001b[0;34m.\u001b[0m\u001b[0mformat\u001b[0m\u001b[0;34m(\u001b[0m\u001b[0mclasses_str\u001b[0m\u001b[0;34m,\u001b[0m \u001b[0mnum_train_ex_per_class\u001b[0m\u001b[0;34m,\u001b[0m \u001b[0mnum_test_ex_per_class\u001b[0m\u001b[0;34m)\u001b[0m\u001b[0;34m\u001b[0m\u001b[0m\n\u001b[1;32m      4\u001b[0m     \u001b[0;31m# extract_and_rename_animals()\u001b[0m\u001b[0;34m\u001b[0m\u001b[0;34m\u001b[0m\u001b[0m\n\u001b[0;32m----> 5\u001b[0;31m     data_sets = load_animals(\n\u001b[0m\u001b[1;32m      6\u001b[0m         \u001b[0mnum_train_ex_per_class\u001b[0m\u001b[0;34m=\u001b[0m\u001b[0mnum_train_ex_per_class\u001b[0m\u001b[0;34m,\u001b[0m\u001b[0;34m\u001b[0m\u001b[0m\n\u001b[1;32m      7\u001b[0m         \u001b[0mnum_test_ex_per_class\u001b[0m\u001b[0;34m=\u001b[0m\u001b[0mnum_test_ex_per_class\u001b[0m\u001b[0;34m,\u001b[0m\u001b[0;34m\u001b[0m\u001b[0m\n",
      "\u001b[0;31mNameError\u001b[0m: name 'load_animals' is not defined"
     ]
    }
   ],
   "source": [
    "data_sets = get_dataset(training_dataset_classes)"
   ]
  },
  {
   "cell_type": "markdown",
   "metadata": {},
   "source": [
    "## tSNE"
   ]
  },
  {
   "cell_type": "code",
   "execution_count": null,
   "metadata": {},
   "outputs": [],
   "source": [
    "# render relevant images\n",
    "\n",
    "num_poisoned_training_points = len(poisoned_training_points)\n",
    "num_target_test_points = len(target_test_points_indices)\n",
    "\n",
    "# clip poisoned images NOT DONE\n",
    "if method == \"FC\":\n",
    "    poisoned_training_points_clipped = np.copy(poisoned_training_points).reshape(num_poisoned_training_points, -1)\n",
    "    if np.max(poisoned_training_points_clipped, axis=1) > 1 or np.min(poisoned_image) < -1:\n",
    "        temp = np.max(poisoned_image_render) - np.min(poisoned_image_render)\n",
    "        poisoned_image_render /= temp\n",
    "\n",
    "if method == \"IF\":\n",
    "    poisoned_training_points_to_render = poisoned_training_points\n",
    "else:\n",
    "    poisoned_training_points_to_render = poisoned_training_points_clipped\n",
    "    \n",
    "# render original training points and poisoned ones\n",
    "plt.figure(25,25./num_poisoned_training_points * 2)\n",
    "for index_to_poison in poisoned_training_points_indices:\n",
    "    plt.subplot(2,num_poisoned_training_points,i)\n",
    "    plt.title(\"Original Training Image [{}]\".format(index_to_poison))\n",
    "    render_img(data_sets.train.x[index_to_poison].reshape((img_side,img_side,num_channels)))\n",
    "\n",
    "for training_point, index_to_poison in zip(poisoned_training_points_to_render, poisoned_training_points_indices):\n",
    "    plt.subplot(2,num_poisoned_training_points,num_poisoned_training_points+i)\n",
    "    plt.title(\"Poisoned Training Image [{}]\".format(index_to_poison))\n",
    "    render_img(poisoned_training_points_to_render.reshape((img_side,img_side,num_channels)))\n",
    "\n",
    "# render targe test images\n",
    "plt.figure(25,25./num_target_test_points)\n",
    "for target_index in target_test_points_indices:\n",
    "    plt.subplot(2,num_poisoned_training_points,i)\n",
    "    plt.title(\"Target test image [{}]\".format(target_index))\n",
    "    render_img(data_sets.test.x[target_index].reshape((img_side,img_side,num_channels)))\n",
    "    \n",
    "# Get tSNE plot\n",
    "\n",
    "# Extract Inception features\n",
    "all_dataset_x = np.concatenate([np.copy(data_sets.train.x), \n",
    "                                poisoned_training_points_clipped if method == \"FC\" else [], \n",
    "                                poisoned_training_points, \n",
    "                                data_sets.test.x[target_test_points_indices]\n",
    "                               ], axis = 0)\n",
    "all_dataset_labels = np.concatenate([np.copy(data_sets.train.labels), \n",
    "                                     np.copy(data_sets.train.labels[poisoned_training_points_indices]) if method == \"FC\" else [], \n",
    "                                     np.copy(data_sets.train.labels[poisoned_training_points_indices]), \n",
    "                                     data_sets.test.labels[target_test_points_indices]], axis = 0)\n",
    "all_dataset = DataSet(all_dataset_x, all_dataset_labels)\n",
    "print \"Extracting latent space features...\"\n",
    "with full_graph.as_default():\n",
    "    all_inceptions = full_model.generate_inception_features(all_dataset, None)\n",
    "\n",
    "# Calculate tSNE\n",
    "from sklearn.manifold import TSNE\n",
    "tsne = TSNE(n_components=2, verbose=1, perplexity=40, n_iter=300, random_state=69)\n",
    "tsne_results = tsne.fit_transform(all_inceptions)\n",
    "\n",
    "plt.figure(figsize=(12,12))\n",
    "\n",
    "# plot entire training dataset\n",
    "for class_label in range(num_classes):\n",
    "    class_mask = data_sets.train.labels == class_label\n",
    "    plt.scatter( tsne_results.T[0][class_mask], tsne_results.T[1][class_mask], label=training_dataset_classes[class_label]) \n",
    "\n",
    "# plot training points before poison\n",
    "plt.scatter(tsne_results.T[0][poisoned_training_points_indices], \n",
    "            tsne_results.T[1][poisoned_training_points_indices], \n",
    "            label=\"Original Training Points\", marker='*', s=200)\n",
    "for index, coordinate in zip(poisoned_training_points_indices, tsne_results.T[0][poisoned_training_points_indices]):\n",
    "    plt.annotate(s=str(index), xy = coordinate)\n",
    "# plot training points after poison no clipping\n",
    "plt.scatter(tsne_results.T[0][num_training_points:num_training_points+num_poisoned_training_points], \n",
    "            tsne_results.T[1][num_training_points:num_training_points+num_poisoned_training_points], \n",
    "            label=\"Non-rescaled poisoned training point\", marker='*', s=200)\n",
    "for index, coordinate in zip(poisoned_training_points_indices, tsne_results.T[0][num_training_points:num_training_points+num_poisoned_training_points]):\n",
    "    plt.annotate(s=str(index), xy = coordinate)\n",
    "# plot training points after poison with clipping (if applicable)\n",
    "if method == \"FC\":\n",
    "    plt.scatter(tsne_results.T[0][-num_target_test_points-num_poisoned_training_points:-num_target_test_points], \n",
    "                tsne_results.T[1][-num_target_test_points-num_poisoned_training_points:-num_target_test_points], \n",
    "                label=\"Rescaled poisoned training point\", marker='*', s=200)\n",
    "    for index, coordinate in zip(poisoned_training_points_indices, tsne_results.T[0][-num_target_test_points-num_poisoned_training_points:-num_target_test_points]):\n",
    "        plt.annotate(s=str(index), xy = coordinate)\n",
    "# plot target test points\n",
    "plt.scatter( tsne_results.T[0][-num_target_test_points:], tsne_results.T[1][-num_target_test_points:], label=\"Target test points\", marker='*', s=200)\n",
    "for index, coordinate in zip(poisoned_test_points_indices, tsne_results.T[0][-num_target_test_points:]):\n",
    "    plt.annotate(s=str(index), xy = coordinate)\n",
    "\n",
    "plt.legend()"
   ]
  },
  {
   "cell_type": "markdown",
   "metadata": {},
   "source": [
    "## Before/after poison comparison"
   ]
  },
  {
   "cell_type": "code",
   "execution_count": null,
   "metadata": {},
   "outputs": [],
   "source": []
  }
 ],
 "metadata": {
  "kernelspec": {
   "display_name": "Python 3",
   "language": "python",
   "name": "python3"
  },
  "language_info": {
   "codemirror_mode": {
    "name": "ipython",
    "version": 3
   },
   "file_extension": ".py",
   "mimetype": "text/x-python",
   "name": "python",
   "nbconvert_exporter": "python",
   "pygments_lexer": "ipython3",
   "version": "3.6.4"
  }
 },
 "nbformat": 4,
 "nbformat_minor": 2
}
