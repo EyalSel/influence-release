{
 "cells": [
  {
   "cell_type": "code",
   "execution_count": 17,
   "metadata": {},
   "outputs": [
    {
     "name": "stdout",
     "output_type": "stream",
     "text": [
      "The autoreload extension is already loaded. To reload it, use:\n",
      "  %reload_ext autoreload\n"
     ]
    }
   ],
   "source": [
    "import os\n",
    "import numpy as np\n",
    "import IPython\n",
    "import copy\n",
    "from shutil import copyfile\n",
    "\n",
    "import tensorflow as tf\n",
    "from tensorflow.contrib.learn.python.learn.datasets import base\n",
    "\n",
    "import sys\n",
    "sys.dont_write_bytecode=True\n",
    "\n",
    "PACKAGE_PARENT = '../'\n",
    "SCRIPT_DIR = os.path.dirname(os.path.realpath(os.path.join(os.getcwd(), os.path.expanduser('__file__'))))\n",
    "sys.path.append(os.path.normpath(os.path.join(SCRIPT_DIR, PACKAGE_PARENT)))\n",
    "\n",
    "from influence.inceptionModel2 import BinaryInceptionModel\n",
    "from influence.binaryLogisticRegressionWithLBFGS import BinaryLogisticRegressionWithLBFGS\n",
    "import influence.experiments\n",
    "from influence.dataset import DataSet\n",
    "# from influence.dataset_poisoning import iterative_attack, select_examples_to_attack, get_projection_to_box_around_orig_point, generate_inception_features\n",
    "from influence.iter_attack import iterative_attack, select_examples_to_attack, get_projection_to_box_around_orig_point, generate_inception_features\n",
    "from influence.Progress import *\n",
    "\n",
    "from load_animals import *\n",
    "\n",
    "from skimage import io\n",
    "\n",
    "%load_ext autoreload\n",
    "%autoreload 2\n"
   ]
  },
  {
   "cell_type": "code",
   "execution_count": 18,
   "metadata": {
    "collapsed": true
   },
   "outputs": [
    {
     "name": "stdout",
     "output_type": "stream",
     "text": [
      "../../5classes/Eagle\n",
      "../../5classes/Komodo_Dragon\n",
      "../../5classes/Snail\n",
      "../../5classes/Ox\n",
      "../../5classes/Mushroom\n",
      "Loading animals from disk...\n",
      "../data/dataset_dog-fish_train-900_test-300.npz\n"
     ]
    },
    {
     "ename": "KeyboardInterrupt",
     "evalue": "",
     "output_type": "error",
     "traceback": [
      "\u001b[0;31m---------------------------------------------------------------------------\u001b[0m",
      "\u001b[0;31mKeyboardInterrupt\u001b[0m                         Traceback (most recent call last)",
      "\u001b[0;32m<ipython-input-18-a981581531d5>\u001b[0m in \u001b[0;36m<module>\u001b[0;34m()\u001b[0m\n\u001b[1;32m     35\u001b[0m     \u001b[0mnum_test_ex_per_class\u001b[0m\u001b[0;34m=\u001b[0m\u001b[0mnum_test_ex_per_class\u001b[0m\u001b[0;34m,\u001b[0m\u001b[0;34m\u001b[0m\u001b[0m\n\u001b[1;32m     36\u001b[0m \u001b[0;31m#     classes=['Eagle', 'Komodo_Dragon', 'Snail', 'Ox', 'Mushroom'])\u001b[0m\u001b[0;34m\u001b[0m\u001b[0;34m\u001b[0m\u001b[0m\n\u001b[0;32m---> 37\u001b[0;31m     classes=['dog', 'fish'])\n\u001b[0m\u001b[1;32m     38\u001b[0m \u001b[0;34m\u001b[0m\u001b[0m\n\u001b[1;32m     39\u001b[0m \u001b[0mnp\u001b[0m\u001b[0;34m.\u001b[0m\u001b[0mrandom\u001b[0m\u001b[0;34m.\u001b[0m\u001b[0mseed\u001b[0m\u001b[0;34m(\u001b[0m\u001b[0;34m)\u001b[0m\u001b[0;34m\u001b[0m\u001b[0m\n",
      "\u001b[0;32m/home/ubuntu/influence-release/scripts/load_animals.py\u001b[0m in \u001b[0;36mload_animals\u001b[0;34m(num_train_ex_per_class, num_test_ex_per_class, num_valid_ex_per_class, classes, mix)\u001b[0m\n\u001b[1;32m    136\u001b[0m                 \u001b[0;32mprint\u001b[0m\u001b[0;34m(\u001b[0m\u001b[0mdata_filename\u001b[0m\u001b[0;34m)\u001b[0m\u001b[0;34m\u001b[0m\u001b[0m\n\u001b[1;32m    137\u001b[0m                 \u001b[0mf\u001b[0m \u001b[0;34m=\u001b[0m \u001b[0mnp\u001b[0m\u001b[0;34m.\u001b[0m\u001b[0mload\u001b[0m\u001b[0;34m(\u001b[0m\u001b[0mdata_filename\u001b[0m\u001b[0;34m)\u001b[0m\u001b[0;34m\u001b[0m\u001b[0m\n\u001b[0;32m--> 138\u001b[0;31m                 \u001b[0mX_train\u001b[0m \u001b[0;34m=\u001b[0m \u001b[0mf\u001b[0m\u001b[0;34m[\u001b[0m\u001b[0;34m'X_train'\u001b[0m\u001b[0;34m]\u001b[0m\u001b[0;34m\u001b[0m\u001b[0m\n\u001b[0m\u001b[1;32m    139\u001b[0m                 \u001b[0mX_test\u001b[0m \u001b[0;34m=\u001b[0m \u001b[0mf\u001b[0m\u001b[0;34m[\u001b[0m\u001b[0;34m'X_test'\u001b[0m\u001b[0;34m]\u001b[0m\u001b[0;34m\u001b[0m\u001b[0m\n\u001b[1;32m    140\u001b[0m                 \u001b[0mY_train\u001b[0m \u001b[0;34m=\u001b[0m \u001b[0mf\u001b[0m\u001b[0;34m[\u001b[0m\u001b[0;34m'Y_train'\u001b[0m\u001b[0;34m]\u001b[0m\u001b[0;34m\u001b[0m\u001b[0m\n",
      "\u001b[0;32m/usr/local/lib/python2.7/dist-packages/numpy/lib/npyio.pyc\u001b[0m in \u001b[0;36m__getitem__\u001b[0;34m(self, key)\u001b[0m\n\u001b[1;32m    233\u001b[0m                 return format.read_array(bytes,\n\u001b[1;32m    234\u001b[0m                                          \u001b[0mallow_pickle\u001b[0m\u001b[0;34m=\u001b[0m\u001b[0mself\u001b[0m\u001b[0;34m.\u001b[0m\u001b[0mallow_pickle\u001b[0m\u001b[0;34m,\u001b[0m\u001b[0;34m\u001b[0m\u001b[0m\n\u001b[0;32m--> 235\u001b[0;31m                                          pickle_kwargs=self.pickle_kwargs)\n\u001b[0m\u001b[1;32m    236\u001b[0m             \u001b[0;32melse\u001b[0m\u001b[0;34m:\u001b[0m\u001b[0;34m\u001b[0m\u001b[0m\n\u001b[1;32m    237\u001b[0m                 \u001b[0;32mreturn\u001b[0m \u001b[0mself\u001b[0m\u001b[0;34m.\u001b[0m\u001b[0mzip\u001b[0m\u001b[0;34m.\u001b[0m\u001b[0mread\u001b[0m\u001b[0;34m(\u001b[0m\u001b[0mkey\u001b[0m\u001b[0;34m)\u001b[0m\u001b[0;34m\u001b[0m\u001b[0m\n",
      "\u001b[0;32m/usr/local/lib/python2.7/dist-packages/numpy/lib/format.pyc\u001b[0m in \u001b[0;36mread_array\u001b[0;34m(fp, allow_pickle, pickle_kwargs)\u001b[0m\n\u001b[1;32m    678\u001b[0m                     \u001b[0mread_count\u001b[0m \u001b[0;34m=\u001b[0m \u001b[0mmin\u001b[0m\u001b[0;34m(\u001b[0m\u001b[0mmax_read_count\u001b[0m\u001b[0;34m,\u001b[0m \u001b[0mcount\u001b[0m \u001b[0;34m-\u001b[0m \u001b[0mi\u001b[0m\u001b[0;34m)\u001b[0m\u001b[0;34m\u001b[0m\u001b[0m\n\u001b[1;32m    679\u001b[0m                     \u001b[0mread_size\u001b[0m \u001b[0;34m=\u001b[0m \u001b[0mint\u001b[0m\u001b[0;34m(\u001b[0m\u001b[0mread_count\u001b[0m \u001b[0;34m*\u001b[0m \u001b[0mdtype\u001b[0m\u001b[0;34m.\u001b[0m\u001b[0mitemsize\u001b[0m\u001b[0;34m)\u001b[0m\u001b[0;34m\u001b[0m\u001b[0m\n\u001b[0;32m--> 680\u001b[0;31m                     \u001b[0mdata\u001b[0m \u001b[0;34m=\u001b[0m \u001b[0m_read_bytes\u001b[0m\u001b[0;34m(\u001b[0m\u001b[0mfp\u001b[0m\u001b[0;34m,\u001b[0m \u001b[0mread_size\u001b[0m\u001b[0;34m,\u001b[0m \u001b[0;34m\"array data\"\u001b[0m\u001b[0;34m)\u001b[0m\u001b[0;34m\u001b[0m\u001b[0m\n\u001b[0m\u001b[1;32m    681\u001b[0m                     array[i:i+read_count] = numpy.frombuffer(data, dtype=dtype,\n\u001b[1;32m    682\u001b[0m                                                              count=read_count)\n",
      "\u001b[0;32m/usr/local/lib/python2.7/dist-packages/numpy/lib/format.pyc\u001b[0m in \u001b[0;36m_read_bytes\u001b[0;34m(fp, size, error_template)\u001b[0m\n\u001b[1;32m    817\u001b[0m         \u001b[0;31m# done about that.  note that regular files can't be non-blocking\u001b[0m\u001b[0;34m\u001b[0m\u001b[0;34m\u001b[0m\u001b[0m\n\u001b[1;32m    818\u001b[0m         \u001b[0;32mtry\u001b[0m\u001b[0;34m:\u001b[0m\u001b[0;34m\u001b[0m\u001b[0m\n\u001b[0;32m--> 819\u001b[0;31m             \u001b[0mr\u001b[0m \u001b[0;34m=\u001b[0m \u001b[0mfp\u001b[0m\u001b[0;34m.\u001b[0m\u001b[0mread\u001b[0m\u001b[0;34m(\u001b[0m\u001b[0msize\u001b[0m \u001b[0;34m-\u001b[0m \u001b[0mlen\u001b[0m\u001b[0;34m(\u001b[0m\u001b[0mdata\u001b[0m\u001b[0;34m)\u001b[0m\u001b[0;34m)\u001b[0m\u001b[0;34m\u001b[0m\u001b[0m\n\u001b[0m\u001b[1;32m    820\u001b[0m             \u001b[0mdata\u001b[0m \u001b[0;34m+=\u001b[0m \u001b[0mr\u001b[0m\u001b[0;34m\u001b[0m\u001b[0m\n\u001b[1;32m    821\u001b[0m             \u001b[0;32mif\u001b[0m \u001b[0mlen\u001b[0m\u001b[0;34m(\u001b[0m\u001b[0mr\u001b[0m\u001b[0;34m)\u001b[0m \u001b[0;34m==\u001b[0m \u001b[0;36m0\u001b[0m \u001b[0;32mor\u001b[0m \u001b[0mlen\u001b[0m\u001b[0;34m(\u001b[0m\u001b[0mdata\u001b[0m\u001b[0;34m)\u001b[0m \u001b[0;34m==\u001b[0m \u001b[0msize\u001b[0m\u001b[0;34m:\u001b[0m\u001b[0;34m\u001b[0m\u001b[0m\n",
      "\u001b[0;32m/usr/lib/python2.7/zipfile.pyc\u001b[0m in \u001b[0;36mread\u001b[0;34m(self, n)\u001b[0m\n\u001b[1;32m    630\u001b[0m                 \u001b[0mdata\u001b[0m \u001b[0;34m=\u001b[0m \u001b[0mself\u001b[0m\u001b[0;34m.\u001b[0m\u001b[0mread1\u001b[0m\u001b[0;34m(\u001b[0m\u001b[0mn\u001b[0m\u001b[0;34m)\u001b[0m\u001b[0;34m\u001b[0m\u001b[0m\n\u001b[1;32m    631\u001b[0m             \u001b[0;32melif\u001b[0m \u001b[0mn\u001b[0m \u001b[0;34m>\u001b[0m \u001b[0mlen\u001b[0m\u001b[0;34m(\u001b[0m\u001b[0mbuf\u001b[0m\u001b[0;34m)\u001b[0m\u001b[0;34m:\u001b[0m\u001b[0;34m\u001b[0m\u001b[0m\n\u001b[0;32m--> 632\u001b[0;31m                 \u001b[0mdata\u001b[0m \u001b[0;34m=\u001b[0m \u001b[0mself\u001b[0m\u001b[0;34m.\u001b[0m\u001b[0mread1\u001b[0m\u001b[0;34m(\u001b[0m\u001b[0mn\u001b[0m \u001b[0;34m-\u001b[0m \u001b[0mlen\u001b[0m\u001b[0;34m(\u001b[0m\u001b[0mbuf\u001b[0m\u001b[0;34m)\u001b[0m\u001b[0;34m)\u001b[0m\u001b[0;34m\u001b[0m\u001b[0m\n\u001b[0m\u001b[1;32m    633\u001b[0m             \u001b[0;32melse\u001b[0m\u001b[0;34m:\u001b[0m\u001b[0;34m\u001b[0m\u001b[0m\n\u001b[1;32m    634\u001b[0m                 \u001b[0;32mreturn\u001b[0m \u001b[0mbuf\u001b[0m\u001b[0;34m\u001b[0m\u001b[0m\n",
      "\u001b[0;32m/usr/lib/python2.7/zipfile.pyc\u001b[0m in \u001b[0;36mread1\u001b[0;34m(self, n)\u001b[0m\n\u001b[1;32m    682\u001b[0m             data = self._decompressor.decompress(\n\u001b[1;32m    683\u001b[0m                 \u001b[0mself\u001b[0m\u001b[0;34m.\u001b[0m\u001b[0m_unconsumed\u001b[0m\u001b[0;34m,\u001b[0m\u001b[0;34m\u001b[0m\u001b[0m\n\u001b[0;32m--> 684\u001b[0;31m                 \u001b[0mmax\u001b[0m\u001b[0;34m(\u001b[0m\u001b[0mn\u001b[0m \u001b[0;34m-\u001b[0m \u001b[0mlen_readbuffer\u001b[0m\u001b[0;34m,\u001b[0m \u001b[0mself\u001b[0m\u001b[0;34m.\u001b[0m\u001b[0mMIN_READ_SIZE\u001b[0m\u001b[0;34m)\u001b[0m\u001b[0;34m\u001b[0m\u001b[0m\n\u001b[0m\u001b[1;32m    685\u001b[0m             )\n\u001b[1;32m    686\u001b[0m \u001b[0;34m\u001b[0m\u001b[0m\n",
      "\u001b[0;31mKeyboardInterrupt\u001b[0m: "
     ]
    }
   ],
   "source": [
    "img_side = 299\n",
    "num_channels = 3\n",
    " \n",
    "initial_learning_rate = 0.001 \n",
    "keep_probs = None\n",
    "decay_epochs = [1000, 10000]\n",
    "\n",
    "weight_decay = 0.001\n",
    "\n",
    "num_classes = 2\n",
    "max_lbfgs_iter = 1000\n",
    "\n",
    "# num_train_ex = 1800\n",
    "# num_test_ex = 600\n",
    "# batch_size = 100\n",
    "\n",
    "# dataset_name = 'dogfish_%s_%s' % (num_train_ex, num_test_ex)\n",
    "# # data_sets = load_animals(\n",
    "# #     num_train_ex_per_class=num_train_ex_per_class, \n",
    "# #     num_test_ex_per_class=num_test_ex_per_class,\n",
    "# #     classes=['dog', 'fish'])\n",
    "# # data_sets = load_dogfish_with_orig_and_koda()\n",
    "# # X, Y = load_koda()\n",
    "# # print(X.shape, Y.shape)\n",
    "# data_sets = new_load_dogfish_with_koda(num_train_ex, num_test_ex)\n",
    "\n",
    "num_train_ex_per_class = 900\n",
    "num_test_ex_per_class = 300\n",
    "batch_size = 100\n",
    "\n",
    "# dataset_name = 'dogfish_%s_%s' % (num_train_ex_per_class, num_test_ex_per_class)\n",
    "dataset_name = ''\n",
    "# extract_and_rename_animals()\n",
    "data_sets = load_animals(\n",
    "    num_train_ex_per_class=num_train_ex_per_class, \n",
    "    num_test_ex_per_class=num_test_ex_per_class,\n",
    "    classes=['Eagle', 'Komodo_Dragon', 'Snail', 'Ox', 'Mushroom'])\n",
    "#     classes=['dog', 'fish'])\n",
    "\n",
    "np.random.seed()\n",
    "\n",
    "full_graph = tf.Graph()\n",
    "top_graph = tf.Graph()\n",
    "\n",
    "def render_img(img):\n",
    "    img_copy = np.copy(img)\n",
    "    img_copy /= 2\n",
    "    img_copy += 0.5\n",
    "    io.imshow(img_copy)"
   ]
  },
  {
   "cell_type": "code",
   "execution_count": 5,
   "metadata": {},
   "outputs": [
    {
     "data": {
      "text/plain": [
       "array([[-0.9137255 , -0.9137255 , -0.9137255 , ..., -0.9137255 ,\n",
       "        -0.8980392 , -0.90588236],\n",
       "       [ 0.5921569 ,  0.6627451 ,  0.79607844, ..., -0.14509805,\n",
       "         0.12156863, -0.6156863 ],\n",
       "       [-0.60784316, -0.4509804 , -0.03529412, ..., -0.52156866,\n",
       "        -0.46666667, -0.40392157],\n",
       "       ...,\n",
       "       [ 0.40392157,  0.69411767, -0.31764707, ..., -0.78039217,\n",
       "        -0.6627451 , -0.96862745],\n",
       "       [-0.8901961 , -0.8117647 , -0.81960785, ..., -0.7490196 ,\n",
       "        -0.6392157 , -0.6156863 ],\n",
       "       [-0.08235294, -0.10588235, -0.22352941, ..., -0.8509804 ,\n",
       "        -0.73333335, -0.5529412 ]], dtype=float32)"
      ]
     },
     "execution_count": 5,
     "metadata": {},
     "output_type": "execute_result"
    }
   ],
   "source": [
    "data_sets.train.x"
   ]
  },
  {
   "cell_type": "code",
   "execution_count": 12,
   "metadata": {
    "collapsed": true,
    "scrolled": false
   },
   "outputs": [
    {
     "name": "stdout",
     "output_type": "stream",
     "text": [
      "*** Full:\n",
      "self.logits Tensor(\"Shape:0\", shape=(2,), dtype=int32)\n"
     ]
    },
    {
     "name": "stderr",
     "output_type": "stream",
     "text": [
      "[genericNeuralNet.py:194 -   get_vec_to_list_fn() ] Total number of parameters: 2048\n"
     ]
    },
    {
     "name": "stdout",
     "output_type": "stream",
     "text": [
      "wrong_labels_bool Tensor(\"Shape_2:0\", shape=(2,), dtype=int32)\n",
      "logits Tensor(\"Shape_3:0\", shape=(2,), dtype=int32)\n",
      "*** Top:\n",
      "self.logits Tensor(\"Shape:0\", shape=(2,), dtype=int32)\n"
     ]
    },
    {
     "name": "stderr",
     "output_type": "stream",
     "text": [
      "[genericNeuralNet.py:194 -   get_vec_to_list_fn() ] Total number of parameters: 2048\n"
     ]
    },
    {
     "name": "stdout",
     "output_type": "stream",
     "text": [
      "wrong_labels_bool Tensor(\"Shape_2:0\", shape=(2,), dtype=int32)\n",
      "logits Tensor(\"Shape_3:0\", shape=(2,), dtype=int32)\n",
      "Using normal model\n"
     ]
    },
    {
     "name": "stderr",
     "output_type": "stream",
     "text": [
      "[genericNeuralNet.py:331 -     print_model_eval() ] Train loss (w reg) on all data: 0.012129042\n",
      "[genericNeuralNet.py:332 -     print_model_eval() ] Train loss (w/o reg) on all data: 0.0039761304\n",
      "[genericNeuralNet.py:334 -     print_model_eval() ] Test loss (w/o reg) on all data: 0.048454043\n",
      "[genericNeuralNet.py:335 -     print_model_eval() ] Train acc on all data:  1.0\n",
      "[genericNeuralNet.py:336 -     print_model_eval() ] Test acc on all data:   0.985\n",
      "[genericNeuralNet.py:338 -     print_model_eval() ] Norm of the mean of gradients: 3.6090015e-07\n",
      "[genericNeuralNet.py:339 -     print_model_eval() ] Norm of the params: 4.0380473\n"
     ]
    },
    {
     "name": "stdout",
     "output_type": "stream",
     "text": [
      "LBFGS training took [41] iter.\n",
      "After training with LBFGS: \n"
     ]
    },
    {
     "name": "stderr",
     "output_type": "stream",
     "text": [
      "[genericNeuralNet.py:331 -     print_model_eval() ] Train loss (w reg) on all data: [0.01212904]\n",
      "[genericNeuralNet.py:332 -     print_model_eval() ] Train loss (w/o reg) on all data: [0.00397613]\n",
      "[genericNeuralNet.py:334 -     print_model_eval() ] Test loss (w/o reg) on all data: [0.04845405]\n",
      "[genericNeuralNet.py:335 -     print_model_eval() ] Train acc on all data:  [1.]\n",
      "[genericNeuralNet.py:336 -     print_model_eval() ] Test acc on all data:   [0.985]\n",
      "[genericNeuralNet.py:338 -     print_model_eval() ] Norm of the mean of gradients: 3.601257e-07\n",
      "[genericNeuralNet.py:339 -     print_model_eval() ] Norm of the params: 4.0380473\n"
     ]
    },
    {
     "name": "stdout",
     "output_type": "stream",
     "text": [
      "Creating poisoned dataset...\n",
      "('step_size is', 0.02)\n",
      "****** Attacking test_idx 179 ******\n",
      "Total number of parameters: 2048\n",
      "Warning: Desired error not necessarily achieved due to precision loss.\n",
      "         Current function value: -0.177720\n",
      "         Iterations: 6\n",
      "         Function evaluations: 79\n",
      "         Gradient evaluations: 73\n",
      "         Hessian evaluations: 45\n",
      "Inverse HVP took 2.11414504051 sec\n",
      "Loaded inverse HVP from output/dogfish_900_300_inception_wd-0.001-test-179.npz\n",
      "Inverse HVP took 0.00059700012207 sec\n",
      "Entering the for loop\n",
      "finished calculating grad_wrt_input_val\n"
     ]
    },
    {
     "name": "stderr",
     "output_type": "stream",
     "text": [
      "[iter_attack.py:122 -     iterative_attack() ] Test idx: [179], Indices to poison: [1141], train label: [1.], test label: 0.0\n"
     ]
    },
    {
     "name": "stdout",
     "output_type": "stream",
     "text": [
      "-----------------------\n",
      "-----------------------\n",
      "('all_indices_to_poison: ', array([1141, 1454, 1447,  158,  306, 1484, 1589, 1354,  721, 1295]))\n",
      "('indices_to_poison', array([1141]))\n",
      "\n"
     ]
    },
    {
     "name": "stderr",
     "output_type": "stream",
     "text": [
      "[iter_attack.py:135 -     iterative_attack() ] Initial Test pred (full): [[0.9973924  0.00260756]]\n",
      "[iter_attack.py:138 -     iterative_attack() ] Initial Test pred (top): [[0.9973924  0.00260756]]\n",
      "[iter_attack.py:151 -     iterative_attack() ] *** Iter: 0\n"
     ]
    },
    {
     "name": "stdout",
     "output_type": "stream",
     "text": [
      "Total number of parameters: 2048\n",
      "Warning: Desired error not necessarily achieved due to precision loss.\n",
      "         Current function value: -26001.636719\n",
      "         Iterations: 10\n",
      "         Function evaluations: 66\n",
      "         Gradient evaluations: 64\n",
      "         Hessian evaluations: 49\n",
      "Inverse HVP took 1.94120192528 sec\n",
      "Loaded inverse HVP from output/dogfish_900_300_inception_wd-0.001-test-179.npz\n",
      "Inverse HVP took 0.000617027282715 sec\n",
      "Entering the for loop\n"
     ]
    },
    {
     "name": "stderr",
     "output_type": "stream",
     "text": [
      "[iter_attack.py:171 -     iterative_attack() ] Attach_iter 0 perturbation shape: (1, 268203), perturbation: [[ 1.25941777  0.42636514 -0.8735159  ... -0.81204772  0.54370153\n",
      "  -0.13621001]]\n",
      "[iter_attack.py:67 - poison_with_influence_proj_gradient_step() ] -- max: 163.12655639648438, mean: -0.0020849869571123543, min: -143.46826171875\n"
     ]
    },
    {
     "name": "stdout",
     "output_type": "stream",
     "text": [
      "---adfadfdafadfdafadfa\n",
      "\n",
      "\n",
      "[[-1.25941777 -0.42636514  0.8735159  ...  0.81204772 -0.54370153\n",
      "   0.13621001]]\n",
      "1 1\n",
      "Shape (1, 2048)\n",
      "Using normal model\n"
     ]
    },
    {
     "name": "stderr",
     "output_type": "stream",
     "text": [
      "[genericNeuralNet.py:331 -     print_model_eval() ] Train loss (w reg) on all data: 0.012132583\n",
      "[genericNeuralNet.py:332 -     print_model_eval() ] Train loss (w/o reg) on all data: 0.003974321\n",
      "[genericNeuralNet.py:334 -     print_model_eval() ] Test loss (w/o reg) on all data: 0.048178993\n",
      "[genericNeuralNet.py:335 -     print_model_eval() ] Train acc on all data:  1.0\n",
      "[genericNeuralNet.py:336 -     print_model_eval() ] Test acc on all data:   0.985\n",
      "[genericNeuralNet.py:338 -     print_model_eval() ] Norm of the mean of gradients: 0.00013157807\n",
      "[genericNeuralNet.py:339 -     print_model_eval() ] Norm of the params: 4.0393715\n",
      "[iter_attack.py:209 -     iterative_attack() ] Test pred (full): [[0.9968548  0.00314519]]\n",
      "[iter_attack.py:212 -     iterative_attack() ] Test pred (top): [[0.9968548  0.00314519]]\n",
      "[iter_attack.py:151 -     iterative_attack() ] *** Iter: 1\n"
     ]
    },
    {
     "name": "stdout",
     "output_type": "stream",
     "text": [
      "LBFGS training took [37] iter.\n",
      "After training with LBFGS: \n",
      "Total number of parameters: 2048\n",
      "Warning: Desired error not necessarily achieved due to precision loss.\n",
      "         Current function value: -25780.875000\n",
      "         Iterations: 10\n",
      "         Function evaluations: 117\n",
      "         Gradient evaluations: 116\n",
      "         Hessian evaluations: 42\n",
      "Inverse HVP took 2.98163294792 sec\n",
      "Loaded inverse HVP from output/dogfish_900_300_inception_wd-0.001-test-179.npz\n",
      "Inverse HVP took 0.000560998916626 sec\n",
      "Entering the for loop\n"
     ]
    },
    {
     "name": "stderr",
     "output_type": "stream",
     "text": [
      "[iter_attack.py:171 -     iterative_attack() ] Attach_iter 1 perturbation shape: (1, 268203), perturbation: [[ 0.91735804 -0.1519165  -0.86956042 ... -0.47445145  0.43294665\n",
      "  -0.1372416 ]]\n",
      "[iter_attack.py:67 - poison_with_influence_proj_gradient_step() ] -- max: 156.71798706054688, mean: -0.0010622418711135123, min: -140.2125244140625\n"
     ]
    },
    {
     "name": "stdout",
     "output_type": "stream",
     "text": [
      "---adfadfdafadfdafadfa\n",
      "\n",
      "\n",
      "[[-0.91735804  0.1519165   0.86956042 ...  0.47445145 -0.43294665\n",
      "   0.1372416 ]]\n",
      "1 1\n",
      "Shape (1, 2048)\n",
      "Using normal model\n"
     ]
    },
    {
     "name": "stderr",
     "output_type": "stream",
     "text": [
      "[genericNeuralNet.py:331 -     print_model_eval() ] Train loss (w reg) on all data: 0.012142744\n",
      "[genericNeuralNet.py:332 -     print_model_eval() ] Train loss (w/o reg) on all data: 0.00397086\n",
      "[genericNeuralNet.py:334 -     print_model_eval() ] Test loss (w/o reg) on all data: 0.047827594\n",
      "[genericNeuralNet.py:335 -     print_model_eval() ] Train acc on all data:  1.0\n",
      "[genericNeuralNet.py:336 -     print_model_eval() ] Test acc on all data:   0.985\n",
      "[genericNeuralNet.py:338 -     print_model_eval() ] Norm of the mean of gradients: 0.00033745036\n",
      "[genericNeuralNet.py:339 -     print_model_eval() ] Norm of the params: 4.0427427\n",
      "[iter_attack.py:209 -     iterative_attack() ] Test pred (full): [[0.99621934 0.00378071]]\n",
      "[iter_attack.py:212 -     iterative_attack() ] Test pred (top): [[0.99621934 0.00378071]]\n",
      "[iter_attack.py:151 -     iterative_attack() ] *** Iter: 2\n"
     ]
    },
    {
     "name": "stdout",
     "output_type": "stream",
     "text": [
      "LBFGS training took [41] iter.\n",
      "After training with LBFGS: \n",
      "Total number of parameters: 2048\n",
      "Warning: Desired error not necessarily achieved due to precision loss.\n",
      "         Current function value: -25528.472656\n",
      "         Iterations: 11\n",
      "         Function evaluations: 82\n",
      "         Gradient evaluations: 82\n",
      "         Hessian evaluations: 57\n",
      "Inverse HVP took 2.41956615448 sec\n",
      "Loaded inverse HVP from output/dogfish_900_300_inception_wd-0.001-test-179.npz\n",
      "Inverse HVP took 0.000581026077271 sec\n",
      "Entering the for loop\n"
     ]
    },
    {
     "name": "stderr",
     "output_type": "stream",
     "text": [
      "[iter_attack.py:171 -     iterative_attack() ] Attach_iter 2 perturbation shape: (1, 268203), perturbation: [[ 0.5344255  -0.6556356  -0.9321391  ... -0.22029674  0.39840138\n",
      "  -0.28946459]]\n",
      "[iter_attack.py:67 - poison_with_influence_proj_gradient_step() ] -- max: 137.45098876953125, mean: -0.0002951540953867577, min: -149.87030029296875\n"
     ]
    },
    {
     "name": "stdout",
     "output_type": "stream",
     "text": [
      "---adfadfdafadfdafadfa\n",
      "\n",
      "\n",
      "[[-0.5344255   0.6556356   0.9321391  ...  0.22029674 -0.39840138\n",
      "   0.28946459]]\n",
      "1 1\n",
      "Shape (1, 2048)\n",
      "Using normal model\n"
     ]
    },
    {
     "name": "stderr",
     "output_type": "stream",
     "text": [
      "[genericNeuralNet.py:331 -     print_model_eval() ] Train loss (w reg) on all data: 0.0121605825\n",
      "[genericNeuralNet.py:332 -     print_model_eval() ] Train loss (w/o reg) on all data: 0.003966082\n",
      "[genericNeuralNet.py:334 -     print_model_eval() ] Test loss (w/o reg) on all data: 0.047468275\n",
      "[genericNeuralNet.py:335 -     print_model_eval() ] Train acc on all data:  1.0\n",
      "[genericNeuralNet.py:336 -     print_model_eval() ] Test acc on all data:   0.985\n",
      "[genericNeuralNet.py:338 -     print_model_eval() ] Norm of the mean of gradients: 0.00065861346\n",
      "[genericNeuralNet.py:339 -     print_model_eval() ] Norm of the params: 4.048333\n",
      "[iter_attack.py:209 -     iterative_attack() ] Test pred (full): [[0.9954461 0.004554 ]]\n",
      "[iter_attack.py:212 -     iterative_attack() ] Test pred (top): [[0.9954461 0.004554 ]]\n",
      "[iter_attack.py:151 -     iterative_attack() ] *** Iter: 3\n"
     ]
    },
    {
     "name": "stdout",
     "output_type": "stream",
     "text": [
      "LBFGS training took [39] iter.\n",
      "After training with LBFGS: \n",
      "Total number of parameters: 2048\n",
      "Warning: Desired error not necessarily achieved due to precision loss.\n",
      "         Current function value: -25226.527344\n",
      "         Iterations: 9\n",
      "         Function evaluations: 84\n",
      "         Gradient evaluations: 81\n",
      "         Hessian evaluations: 40\n",
      "Inverse HVP took 2.27038693428 sec\n",
      "Loaded inverse HVP from output/dogfish_900_300_inception_wd-0.001-test-179.npz\n",
      "Inverse HVP took 0.000602006912231 sec\n",
      "Entering the for loop\n"
     ]
    },
    {
     "name": "stderr",
     "output_type": "stream",
     "text": [
      "[iter_attack.py:171 -     iterative_attack() ] Attach_iter 3 perturbation shape: (1, 268203), perturbation: [[ 0.24269414 -0.75718367 -0.89073515 ... -0.47768512  0.40672928\n",
      "  -0.12783113]]\n",
      "[iter_attack.py:67 - poison_with_influence_proj_gradient_step() ] -- max: 165.99807739257812, mean: 0.0010410015244642968, min: -144.2152862548828\n"
     ]
    },
    {
     "name": "stdout",
     "output_type": "stream",
     "text": [
      "---adfadfdafadfdafadfa\n",
      "\n",
      "\n",
      "[[-0.24269414  0.75718367  0.89073515 ...  0.47768512 -0.40672928\n",
      "   0.12783113]]\n",
      "1 1\n",
      "Shape (1, 2048)\n",
      "Using normal model\n"
     ]
    },
    {
     "name": "stderr",
     "output_type": "stream",
     "text": [
      "[genericNeuralNet.py:331 -     print_model_eval() ] Train loss (w reg) on all data: 0.01218509\n",
      "[genericNeuralNet.py:332 -     print_model_eval() ] Train loss (w/o reg) on all data: 0.0039651906\n",
      "[genericNeuralNet.py:334 -     print_model_eval() ] Test loss (w/o reg) on all data: 0.047050983\n",
      "[genericNeuralNet.py:335 -     print_model_eval() ] Train acc on all data:  1.0\n",
      "[genericNeuralNet.py:336 -     print_model_eval() ] Test acc on all data:   0.985\n",
      "[genericNeuralNet.py:338 -     print_model_eval() ] Norm of the mean of gradients: 0.00095809216\n",
      "[genericNeuralNet.py:339 -     print_model_eval() ] Norm of the params: 4.0546026\n",
      "[iter_attack.py:209 -     iterative_attack() ] Test pred (full): [[0.99452966 0.00547037]]\n",
      "[iter_attack.py:212 -     iterative_attack() ] Test pred (top): [[0.99452966 0.00547037]]\n",
      "[iter_attack.py:151 -     iterative_attack() ] *** Iter: 4\n"
     ]
    },
    {
     "name": "stdout",
     "output_type": "stream",
     "text": [
      "LBFGS training took [45] iter.\n",
      "After training with LBFGS: \n",
      "Total number of parameters: 2048\n",
      "Warning: Desired error not necessarily achieved due to precision loss.\n",
      "         Current function value: -24901.414062\n",
      "         Iterations: 10\n",
      "         Function evaluations: 88\n",
      "         Gradient evaluations: 86\n",
      "         Hessian evaluations: 46\n",
      "Inverse HVP took 2.30507802963 sec\n",
      "Loaded inverse HVP from output/dogfish_900_300_inception_wd-0.001-test-179.npz\n",
      "Inverse HVP took 0.000580072402954 sec\n",
      "Entering the for loop\n"
     ]
    },
    {
     "name": "stderr",
     "output_type": "stream",
     "text": [
      "[iter_attack.py:171 -     iterative_attack() ] Attach_iter 4 perturbation shape: (1, 268203), perturbation: [[ 0.56853598 -0.86591864 -1.53153181 ...  0.01759634  0.70568478\n",
      "  -0.62232399]]\n",
      "[iter_attack.py:67 - poison_with_influence_proj_gradient_step() ] -- max: 152.61134338378906, mean: 0.0010203303499136426, min: -160.90135192871094\n"
     ]
    },
    {
     "name": "stdout",
     "output_type": "stream",
     "text": [
      "---adfadfdafadfdafadfa\n",
      "\n",
      "\n",
      "[[-0.56853598  0.86591864  1.53153181 ... -0.01759634 -0.70568478\n",
      "   0.62232399]]\n",
      "1 1\n",
      "Shape (1, 2048)\n",
      "Using normal model\n"
     ]
    },
    {
     "name": "stderr",
     "output_type": "stream",
     "text": [
      "[genericNeuralNet.py:331 -     print_model_eval() ] Train loss (w reg) on all data: 0.01221549\n",
      "[genericNeuralNet.py:332 -     print_model_eval() ] Train loss (w/o reg) on all data: 0.0039692726\n",
      "[genericNeuralNet.py:334 -     print_model_eval() ] Test loss (w/o reg) on all data: 0.046643276\n",
      "[genericNeuralNet.py:335 -     print_model_eval() ] Train acc on all data:  1.0\n",
      "[genericNeuralNet.py:336 -     print_model_eval() ] Test acc on all data:   0.985\n",
      "[genericNeuralNet.py:338 -     print_model_eval() ] Norm of the mean of gradients: 0.0012170906\n",
      "[genericNeuralNet.py:339 -     print_model_eval() ] Norm of the params: 4.061088\n",
      "[iter_attack.py:209 -     iterative_attack() ] Test pred (full): [[0.99344325 0.0065567 ]]\n",
      "[iter_attack.py:212 -     iterative_attack() ] Test pred (top): [[0.99344325 0.0065567 ]]\n",
      "[iter_attack.py:151 -     iterative_attack() ] *** Iter: 5\n"
     ]
    },
    {
     "name": "stdout",
     "output_type": "stream",
     "text": [
      "LBFGS training took [43] iter.\n",
      "After training with LBFGS: \n",
      "Total number of parameters: 2048\n",
      "Warning: Desired error not necessarily achieved due to precision loss.\n",
      "         Current function value: -24563.222656\n",
      "         Iterations: 10\n",
      "         Function evaluations: 73\n",
      "         Gradient evaluations: 72\n",
      "         Hessian evaluations: 39\n",
      "Inverse HVP took 1.98201012611 sec\n",
      "Loaded inverse HVP from output/dogfish_900_300_inception_wd-0.001-test-179.npz\n",
      "Inverse HVP took 0.000549793243408 sec\n",
      "Entering the for loop\n"
     ]
    },
    {
     "name": "stderr",
     "output_type": "stream",
     "text": [
      "[iter_attack.py:171 -     iterative_attack() ] Attach_iter 5 perturbation shape: (1, 268203), perturbation: [[ 0.58228695 -0.55776513 -1.15513766 ...  0.01798922  0.38448733\n",
      "  -0.4342725 ]]\n",
      "[iter_attack.py:67 - poison_with_influence_proj_gradient_step() ] -- max: 152.6292724609375, mean: 0.0012448076791087166, min: -163.25857543945312\n"
     ]
    },
    {
     "name": "stdout",
     "output_type": "stream",
     "text": [
      "---adfadfdafadfdafadfa\n",
      "\n",
      "\n",
      "[[-0.58228695  0.55776513  1.15513766 ... -0.01798922 -0.38448733\n",
      "   0.4342725 ]]\n",
      "1 1\n",
      "Shape (1, 2048)\n",
      "Using normal model\n"
     ]
    },
    {
     "name": "stderr",
     "output_type": "stream",
     "text": [
      "[genericNeuralNet.py:331 -     print_model_eval() ] Train loss (w reg) on all data: 0.01225125\n",
      "[genericNeuralNet.py:332 -     print_model_eval() ] Train loss (w/o reg) on all data: 0.0039757877\n",
      "[genericNeuralNet.py:334 -     print_model_eval() ] Test loss (w/o reg) on all data: 0.046213634\n",
      "[genericNeuralNet.py:335 -     print_model_eval() ] Train acc on all data:  1.0\n",
      "[genericNeuralNet.py:336 -     print_model_eval() ] Test acc on all data:   0.985\n",
      "[genericNeuralNet.py:338 -     print_model_eval() ] Norm of the mean of gradients: 0.001462149\n",
      "[genericNeuralNet.py:339 -     print_model_eval() ] Norm of the params: 4.0682836\n",
      "[iter_attack.py:209 -     iterative_attack() ] Test pred (full): [[0.99214184 0.00785815]]\n",
      "[iter_attack.py:212 -     iterative_attack() ] Test pred (top): [[0.99214184 0.00785815]]\n",
      "[iter_attack.py:151 -     iterative_attack() ] *** Iter: 6\n"
     ]
    },
    {
     "name": "stdout",
     "output_type": "stream",
     "text": [
      "LBFGS training took [38] iter.\n",
      "After training with LBFGS: \n",
      "Total number of parameters: 2048\n",
      "Warning: Desired error not necessarily achieved due to precision loss.\n",
      "         Current function value: -24194.289062\n",
      "         Iterations: 9\n",
      "         Function evaluations: 141\n",
      "         Gradient evaluations: 137\n",
      "         Hessian evaluations: 47\n",
      "Inverse HVP took 3.55038905144 sec\n",
      "Loaded inverse HVP from output/dogfish_900_300_inception_wd-0.001-test-179.npz\n",
      "Inverse HVP took 0.000581026077271 sec\n",
      "Entering the for loop\n"
     ]
    },
    {
     "name": "stderr",
     "output_type": "stream",
     "text": [
      "[iter_attack.py:171 -     iterative_attack() ] Attach_iter 6 perturbation shape: (1, 268203), perturbation: [[ 0.73200792 -0.91645205 -1.62085617 ...  0.11995298  0.80468804\n",
      "  -0.92772806]]\n",
      "[iter_attack.py:67 - poison_with_influence_proj_gradient_step() ] -- max: 174.13638305664062, mean: 0.0013805350830812697, min: -177.07839965820312\n"
     ]
    },
    {
     "name": "stdout",
     "output_type": "stream",
     "text": [
      "---adfadfdafadfdafadfa\n",
      "\n",
      "\n",
      "[[-0.73200792  0.91645205  1.62085617 ... -0.11995298 -0.80468804\n",
      "   0.92772806]]\n",
      "1 1\n",
      "Shape (1, 2048)\n",
      "Using normal model\n"
     ]
    },
    {
     "name": "stderr",
     "output_type": "stream",
     "text": [
      "[genericNeuralNet.py:331 -     print_model_eval() ] Train loss (w reg) on all data: 0.012288885\n",
      "[genericNeuralNet.py:332 -     print_model_eval() ] Train loss (w/o reg) on all data: 0.0039867205\n",
      "[genericNeuralNet.py:334 -     print_model_eval() ] Test loss (w/o reg) on all data: 0.045768753\n",
      "[genericNeuralNet.py:335 -     print_model_eval() ] Train acc on all data:  1.0\n",
      "[genericNeuralNet.py:336 -     print_model_eval() ] Test acc on all data:   0.985\n",
      "[genericNeuralNet.py:338 -     print_model_eval() ] Norm of the mean of gradients: 0.0016362609\n",
      "[genericNeuralNet.py:339 -     print_model_eval() ] Norm of the params: 4.074841\n",
      "[iter_attack.py:209 -     iterative_attack() ] Test pred (full): [[0.99051756 0.00948243]]\n",
      "[iter_attack.py:212 -     iterative_attack() ] Test pred (top): [[0.99051756 0.00948243]]\n",
      "[iter_attack.py:151 -     iterative_attack() ] *** Iter: 7\n"
     ]
    },
    {
     "name": "stdout",
     "output_type": "stream",
     "text": [
      "LBFGS training took [40] iter.\n",
      "After training with LBFGS: \n",
      "Total number of parameters: 2048\n",
      "Warning: Desired error not necessarily achieved due to precision loss.\n",
      "         Current function value: -23826.960938\n",
      "         Iterations: 11\n",
      "         Function evaluations: 177\n",
      "         Gradient evaluations: 173\n",
      "         Hessian evaluations: 59\n",
      "Inverse HVP took 4.21475505829 sec\n",
      "Loaded inverse HVP from output/dogfish_900_300_inception_wd-0.001-test-179.npz\n",
      "Inverse HVP took 0.00053882598877 sec\n",
      "Entering the for loop\n"
     ]
    },
    {
     "name": "stderr",
     "output_type": "stream",
     "text": [
      "[iter_attack.py:171 -     iterative_attack() ] Attach_iter 7 perturbation shape: (1, 268203), perturbation: [[ 0.42640859 -0.7898615  -1.61069465 ... -0.47471806  0.36481914\n",
      "  -0.35302708]]\n",
      "[iter_attack.py:67 - poison_with_influence_proj_gradient_step() ] -- max: 185.4176025390625, mean: -0.00021153099837335803, min: -235.96551513671875\n"
     ]
    },
    {
     "name": "stdout",
     "output_type": "stream",
     "text": [
      "---adfadfdafadfdafadfa\n",
      "\n",
      "\n",
      "[[-0.42640859  0.7898615   1.61069465 ...  0.47471806 -0.36481914\n",
      "   0.35302708]]\n",
      "1 1\n",
      "Shape (1, 2048)\n",
      "Using normal model\n"
     ]
    },
    {
     "name": "stderr",
     "output_type": "stream",
     "text": [
      "[genericNeuralNet.py:331 -     print_model_eval() ] Train loss (w reg) on all data: 0.012336478\n",
      "[genericNeuralNet.py:332 -     print_model_eval() ] Train loss (w/o reg) on all data: 0.0039979215\n",
      "[genericNeuralNet.py:334 -     print_model_eval() ] Test loss (w/o reg) on all data: 0.045465328\n",
      "[genericNeuralNet.py:335 -     print_model_eval() ] Train acc on all data:  1.0\n",
      "[genericNeuralNet.py:336 -     print_model_eval() ] Test acc on all data:   0.985\n",
      "[genericNeuralNet.py:338 -     print_model_eval() ] Norm of the mean of gradients: 0.0019202449\n",
      "[genericNeuralNet.py:339 -     print_model_eval() ] Norm of the params: 4.083762\n",
      "[iter_attack.py:209 -     iterative_attack() ] Test pred (full): [[0.98854595 0.01145402]]\n",
      "[iter_attack.py:212 -     iterative_attack() ] Test pred (top): [[0.98854595 0.01145402]]\n",
      "[iter_attack.py:151 -     iterative_attack() ] *** Iter: 8\n"
     ]
    },
    {
     "name": "stdout",
     "output_type": "stream",
     "text": [
      "LBFGS training took [42] iter.\n",
      "After training with LBFGS: \n",
      "Total number of parameters: 2048\n",
      "Warning: Desired error not necessarily achieved due to precision loss.\n",
      "         Current function value: -23423.847656\n",
      "         Iterations: 8\n",
      "         Function evaluations: 74\n",
      "         Gradient evaluations: 70\n",
      "         Hessian evaluations: 36\n",
      "Inverse HVP took 1.99090409279 sec\n",
      "Loaded inverse HVP from output/dogfish_900_300_inception_wd-0.001-test-179.npz\n",
      "Inverse HVP took 0.000585794448853 sec\n",
      "Entering the for loop\n"
     ]
    },
    {
     "name": "stderr",
     "output_type": "stream",
     "text": [
      "[iter_attack.py:171 -     iterative_attack() ] Attach_iter 8 perturbation shape: (1, 268203), perturbation: [[ 0.33369684 -0.20879138 -1.32436681 ...  0.11087538  0.76105839\n",
      "  -0.79434264]]\n",
      "[iter_attack.py:67 - poison_with_influence_proj_gradient_step() ] -- max: 198.09344482421875, mean: 0.001959360705764247, min: -243.2725830078125\n"
     ]
    },
    {
     "name": "stdout",
     "output_type": "stream",
     "text": [
      "---adfadfdafadfdafadfa\n",
      "\n",
      "\n",
      "[[-0.33369684  0.20879138  1.32436681 ... -0.11087538 -0.76105839\n",
      "   0.79434264]]\n",
      "1 1\n",
      "Shape (1, 2048)\n",
      "Using normal model\n"
     ]
    },
    {
     "name": "stderr",
     "output_type": "stream",
     "text": [
      "[genericNeuralNet.py:331 -     print_model_eval() ] Train loss (w reg) on all data: 0.012383286\n",
      "[genericNeuralNet.py:332 -     print_model_eval() ] Train loss (w/o reg) on all data: 0.0040124166\n",
      "[genericNeuralNet.py:334 -     print_model_eval() ] Test loss (w/o reg) on all data: 0.045207564\n",
      "[genericNeuralNet.py:335 -     print_model_eval() ] Train acc on all data:  1.0\n",
      "[genericNeuralNet.py:336 -     print_model_eval() ] Test acc on all data:   0.9833333333333333\n",
      "[genericNeuralNet.py:338 -     print_model_eval() ] Norm of the mean of gradients: 0.0021107546\n",
      "[genericNeuralNet.py:339 -     print_model_eval() ] Norm of the params: 4.091667\n",
      "[iter_attack.py:209 -     iterative_attack() ] Test pred (full): [[0.98619324 0.01380681]]\n",
      "[iter_attack.py:212 -     iterative_attack() ] Test pred (top): [[0.98619324 0.01380681]]\n",
      "[iter_attack.py:151 -     iterative_attack() ] *** Iter: 9\n"
     ]
    },
    {
     "name": "stdout",
     "output_type": "stream",
     "text": [
      "LBFGS training took [39] iter.\n",
      "After training with LBFGS: \n",
      "Total number of parameters: 2048\n",
      "Warning: Desired error not necessarily achieved due to precision loss.\n",
      "         Current function value: -23023.687500\n",
      "         Iterations: 10\n",
      "         Function evaluations: 93\n",
      "         Gradient evaluations: 91\n",
      "         Hessian evaluations: 50\n",
      "Inverse HVP took 2.52197694778 sec\n",
      "Loaded inverse HVP from output/dogfish_900_300_inception_wd-0.001-test-179.npz\n",
      "Inverse HVP took 0.000576019287109 sec\n",
      "Entering the for loop\n"
     ]
    },
    {
     "name": "stderr",
     "output_type": "stream",
     "text": [
      "[iter_attack.py:171 -     iterative_attack() ] Attach_iter 9 perturbation shape: (1, 268203), perturbation: [[ 0.25154829 -0.71096981 -1.50514221 ...  0.3258855   0.39395571\n",
      "  -0.68729472]]\n",
      "[iter_attack.py:67 - poison_with_influence_proj_gradient_step() ] -- max: 245.00738525390625, mean: 0.0014864665145855908, min: -235.5863037109375\n"
     ]
    },
    {
     "name": "stdout",
     "output_type": "stream",
     "text": [
      "---adfadfdafadfdafadfa\n",
      "\n",
      "\n",
      "[[-0.25154829  0.71096981  1.50514221 ... -0.3258855  -0.39395571\n",
      "   0.68729472]]\n",
      "1 1\n",
      "Shape (1, 2048)\n",
      "Using normal model\n"
     ]
    },
    {
     "name": "stderr",
     "output_type": "stream",
     "text": [
      "[genericNeuralNet.py:331 -     print_model_eval() ] Train loss (w reg) on all data: 0.01244405\n",
      "[genericNeuralNet.py:332 -     print_model_eval() ] Train loss (w/o reg) on all data: 0.0040303804\n",
      "[genericNeuralNet.py:334 -     print_model_eval() ] Test loss (w/o reg) on all data: 0.045027897\n",
      "[genericNeuralNet.py:335 -     print_model_eval() ] Train acc on all data:  1.0\n",
      "[genericNeuralNet.py:336 -     print_model_eval() ] Test acc on all data:   0.9833333333333333\n",
      "[genericNeuralNet.py:338 -     print_model_eval() ] Norm of the mean of gradients: 0.0023767988\n",
      "[genericNeuralNet.py:339 -     print_model_eval() ] Norm of the params: 4.102114\n",
      "[iter_attack.py:209 -     iterative_attack() ] Test pred (full): [[0.9831713  0.01682874]]\n",
      "[iter_attack.py:212 -     iterative_attack() ] Test pred (top): [[0.9831713  0.01682874]]\n",
      "[iter_attack.py:151 -     iterative_attack() ] *** Iter: 10\n"
     ]
    },
    {
     "name": "stdout",
     "output_type": "stream",
     "text": [
      "LBFGS training took [38] iter.\n",
      "After training with LBFGS: \n",
      "Total number of parameters: 2048\n",
      "Warning: Desired error not necessarily achieved due to precision loss.\n",
      "         Current function value: -22579.041016\n",
      "         Iterations: 10\n",
      "         Function evaluations: 121\n",
      "         Gradient evaluations: 119\n",
      "         Hessian evaluations: 58\n",
      "Inverse HVP took 3.13566207886 sec\n",
      "Loaded inverse HVP from output/dogfish_900_300_inception_wd-0.001-test-179.npz\n",
      "Inverse HVP took 0.000559091567993 sec\n",
      "Entering the for loop\n"
     ]
    },
    {
     "name": "stderr",
     "output_type": "stream",
     "text": [
      "[iter_attack.py:171 -     iterative_attack() ] Attach_iter 10 perturbation shape: (1, 268203), perturbation: [[ 0.56733561 -1.02541685 -2.11639047 ...  0.43637815  0.16128218\n",
      "  -0.41677892]]\n",
      "[iter_attack.py:67 - poison_with_influence_proj_gradient_step() ] -- max: 220.249267578125, mean: 0.004361953796913032, min: -255.8619842529297\n"
     ]
    },
    {
     "name": "stdout",
     "output_type": "stream",
     "text": [
      "---adfadfdafadfdafadfa\n",
      "\n",
      "\n",
      "[[-0.56733561  1.02541685  2.11639047 ... -0.43637815 -0.16128218\n",
      "   0.41677892]]\n",
      "1 1\n",
      "Shape (1, 2048)\n",
      "Using normal model\n"
     ]
    },
    {
     "name": "stderr",
     "output_type": "stream",
     "text": [
      "[genericNeuralNet.py:331 -     print_model_eval() ] Train loss (w reg) on all data: 0.0125013655\n",
      "[genericNeuralNet.py:332 -     print_model_eval() ] Train loss (w/o reg) on all data: 0.004049436\n",
      "[genericNeuralNet.py:334 -     print_model_eval() ] Test loss (w/o reg) on all data: 0.044841964\n",
      "[genericNeuralNet.py:335 -     print_model_eval() ] Train acc on all data:  1.0\n",
      "[genericNeuralNet.py:336 -     print_model_eval() ] Test acc on all data:   0.9833333333333333\n",
      "[genericNeuralNet.py:338 -     print_model_eval() ] Norm of the mean of gradients: 0.002580909\n",
      "[genericNeuralNet.py:339 -     print_model_eval() ] Norm of the params: 4.1114297\n",
      "[iter_attack.py:209 -     iterative_attack() ] Test pred (full): [[0.9796554  0.02034461]]\n",
      "[iter_attack.py:212 -     iterative_attack() ] Test pred (top): [[0.9796554  0.02034461]]\n",
      "[iter_attack.py:151 -     iterative_attack() ] *** Iter: 11\n"
     ]
    },
    {
     "name": "stdout",
     "output_type": "stream",
     "text": [
      "LBFGS training took [42] iter.\n",
      "After training with LBFGS: \n",
      "Total number of parameters: 2048\n",
      "Warning: Desired error not necessarily achieved due to precision loss.\n",
      "         Current function value: -22143.667969\n",
      "         Iterations: 9\n",
      "         Function evaluations: 72\n",
      "         Gradient evaluations: 70\n",
      "         Hessian evaluations: 46\n",
      "Inverse HVP took 1.94474816322 sec\n",
      "Loaded inverse HVP from output/dogfish_900_300_inception_wd-0.001-test-179.npz\n",
      "Inverse HVP took 0.000558137893677 sec\n",
      "Entering the for loop\n"
     ]
    },
    {
     "name": "stderr",
     "output_type": "stream",
     "text": [
      "[iter_attack.py:171 -     iterative_attack() ] Attach_iter 11 perturbation shape: (1, 268203), perturbation: [[ 0.02458471 -0.61066502 -1.29713702 ...  0.2602101   0.11919786\n",
      "  -0.6527611 ]]\n",
      "[iter_attack.py:67 - poison_with_influence_proj_gradient_step() ] -- max: 212.50558471679688, mean: 0.0009534055990931572, min: -214.9531707763672\n"
     ]
    },
    {
     "name": "stdout",
     "output_type": "stream",
     "text": [
      "---adfadfdafadfdafadfa\n",
      "\n",
      "\n",
      "[[-0.02458471  0.61066502  1.29713702 ... -0.2602101  -0.11919786\n",
      "   0.6527611 ]]\n",
      "1 1\n",
      "Shape (1, 2048)\n",
      "Using normal model\n"
     ]
    },
    {
     "name": "stderr",
     "output_type": "stream",
     "text": [
      "[genericNeuralNet.py:331 -     print_model_eval() ] Train loss (w reg) on all data: 0.01256242\n",
      "[genericNeuralNet.py:332 -     print_model_eval() ] Train loss (w/o reg) on all data: 0.0040716087\n",
      "[genericNeuralNet.py:334 -     print_model_eval() ] Test loss (w/o reg) on all data: 0.044782806\n",
      "[genericNeuralNet.py:335 -     print_model_eval() ] Train acc on all data:  1.0\n",
      "[genericNeuralNet.py:336 -     print_model_eval() ] Test acc on all data:   0.9833333333333333\n",
      "[genericNeuralNet.py:338 -     print_model_eval() ] Norm of the mean of gradients: 0.0027626932\n",
      "[genericNeuralNet.py:339 -     print_model_eval() ] Norm of the params: 4.120876\n",
      "[iter_attack.py:209 -     iterative_attack() ] Test pred (full): [[0.97560185 0.02439815]]\n",
      "[iter_attack.py:212 -     iterative_attack() ] Test pred (top): [[0.97560185 0.02439815]]\n",
      "[iter_attack.py:151 -     iterative_attack() ] *** Iter: 12\n"
     ]
    },
    {
     "name": "stdout",
     "output_type": "stream",
     "text": [
      "LBFGS training took [45] iter.\n",
      "After training with LBFGS: \n",
      "Total number of parameters: 2048\n",
      "Warning: Desired error not necessarily achieved due to precision loss.\n",
      "         Current function value: -21705.933594\n",
      "         Iterations: 7\n",
      "         Function evaluations: 68\n",
      "         Gradient evaluations: 63\n",
      "         Hessian evaluations: 34\n",
      "Inverse HVP took 1.79500198364 sec\n",
      "Loaded inverse HVP from output/dogfish_900_300_inception_wd-0.001-test-179.npz\n",
      "Inverse HVP took 0.000574827194214 sec\n",
      "Entering the for loop\n"
     ]
    },
    {
     "name": "stderr",
     "output_type": "stream",
     "text": [
      "[iter_attack.py:171 -     iterative_attack() ] Attach_iter 12 perturbation shape: (1, 268203), perturbation: [[ 0.18526161 -1.15092826 -2.12372327 ... -0.66773546  0.4948383\n",
      "  -0.35299987]]\n",
      "[iter_attack.py:67 - poison_with_influence_proj_gradient_step() ] -- max: 219.68003845214844, mean: 0.004227930109004232, min: -254.86729431152344\n"
     ]
    },
    {
     "name": "stdout",
     "output_type": "stream",
     "text": [
      "---adfadfdafadfdafadfa\n",
      "\n",
      "\n",
      "[[-0.18526161  1.15092826  2.12372327 ...  0.66773546 -0.4948383\n",
      "   0.35299987]]\n",
      "1 1\n",
      "Shape (1, 2048)\n",
      "Using normal model\n"
     ]
    },
    {
     "name": "stderr",
     "output_type": "stream",
     "text": [
      "[genericNeuralNet.py:331 -     print_model_eval() ] Train loss (w reg) on all data: 0.012619518\n",
      "[genericNeuralNet.py:332 -     print_model_eval() ] Train loss (w/o reg) on all data: 0.0040929597\n",
      "[genericNeuralNet.py:334 -     print_model_eval() ] Test loss (w/o reg) on all data: 0.044750877\n",
      "[genericNeuralNet.py:335 -     print_model_eval() ] Train acc on all data:  1.0\n",
      "[genericNeuralNet.py:336 -     print_model_eval() ] Test acc on all data:   0.9833333333333333\n",
      "[genericNeuralNet.py:338 -     print_model_eval() ] Norm of the mean of gradients: 0.0029016824\n",
      "[genericNeuralNet.py:339 -     print_model_eval() ] Norm of the params: 4.1295424\n",
      "[iter_attack.py:209 -     iterative_attack() ] Test pred (full): [[0.9709706  0.02902941]]\n",
      "[iter_attack.py:212 -     iterative_attack() ] Test pred (top): [[0.9709706  0.02902941]]\n",
      "[iter_attack.py:151 -     iterative_attack() ] *** Iter: 13\n"
     ]
    },
    {
     "name": "stdout",
     "output_type": "stream",
     "text": [
      "LBFGS training took [46] iter.\n",
      "After training with LBFGS: \n",
      "Total number of parameters: 2048\n",
      "Warning: Desired error not necessarily achieved due to precision loss.\n",
      "         Current function value: -21251.046875\n",
      "         Iterations: 9\n",
      "         Function evaluations: 80\n",
      "         Gradient evaluations: 78\n",
      "         Hessian evaluations: 50\n",
      "Inverse HVP took 2.22549009323 sec\n",
      "Loaded inverse HVP from output/dogfish_900_300_inception_wd-0.001-test-179.npz\n",
      "Inverse HVP took 0.000567197799683 sec\n",
      "Entering the for loop\n"
     ]
    },
    {
     "name": "stderr",
     "output_type": "stream",
     "text": [
      "[iter_attack.py:171 -     iterative_attack() ] Attach_iter 13 perturbation shape: (1, 268203), perturbation: [[-0.182127   -1.22993779 -2.15729022 ...  0.61474353 -0.23503311\n",
      "  -0.10610059]]\n",
      "[iter_attack.py:67 - poison_with_influence_proj_gradient_step() ] -- max: 205.35205078125, mean: 0.0014944675993476487, min: -261.2269287109375\n"
     ]
    },
    {
     "name": "stdout",
     "output_type": "stream",
     "text": [
      "---adfadfdafadfdafadfa\n",
      "\n",
      "\n",
      "[[ 0.182127    1.22993779  2.15729022 ... -0.61474353  0.23503311\n",
      "   0.10610059]]\n",
      "1 1\n",
      "Shape (1, 2048)\n",
      "Using normal model\n"
     ]
    },
    {
     "name": "stderr",
     "output_type": "stream",
     "text": [
      "[genericNeuralNet.py:331 -     print_model_eval() ] Train loss (w reg) on all data: 0.012674789\n",
      "[genericNeuralNet.py:332 -     print_model_eval() ] Train loss (w/o reg) on all data: 0.0041152723\n",
      "[genericNeuralNet.py:334 -     print_model_eval() ] Test loss (w/o reg) on all data: 0.044871047\n",
      "[genericNeuralNet.py:335 -     print_model_eval() ] Train acc on all data:  1.0\n",
      "[genericNeuralNet.py:336 -     print_model_eval() ] Test acc on all data:   0.9816666666666667\n",
      "[genericNeuralNet.py:338 -     print_model_eval() ] Norm of the mean of gradients: 0.0030083961\n",
      "[genericNeuralNet.py:339 -     print_model_eval() ] Norm of the params: 4.137515\n",
      "[iter_attack.py:209 -     iterative_attack() ] Test pred (full): [[0.9655408  0.03445922]]\n",
      "[iter_attack.py:212 -     iterative_attack() ] Test pred (top): [[0.9655408  0.03445922]]\n",
      "[iter_attack.py:151 -     iterative_attack() ] *** Iter: 14\n"
     ]
    },
    {
     "name": "stdout",
     "output_type": "stream",
     "text": [
      "LBFGS training took [39] iter.\n",
      "After training with LBFGS: \n",
      "Total number of parameters: 2048\n",
      "Warning: Desired error not necessarily achieved due to precision loss.\n",
      "         Current function value: -20789.945312\n",
      "         Iterations: 10\n",
      "         Function evaluations: 73\n",
      "         Gradient evaluations: 71\n",
      "         Hessian evaluations: 49\n",
      "Inverse HVP took 2.05049085617 sec\n",
      "Loaded inverse HVP from output/dogfish_900_300_inception_wd-0.001-test-179.npz\n",
      "Inverse HVP took 0.000604867935181 sec\n",
      "Entering the for loop\n"
     ]
    },
    {
     "name": "stderr",
     "output_type": "stream",
     "text": [
      "[iter_attack.py:171 -     iterative_attack() ] Attach_iter 14 perturbation shape: (1, 268203), perturbation: [[ 0.25413638 -0.58994734 -1.67959392 ... -0.85468495  0.79512835\n",
      "  -0.50563246]]\n",
      "[iter_attack.py:67 - poison_with_influence_proj_gradient_step() ] -- max: 190.77471923828125, mean: 0.00416501574374603, min: -250.34542846679688\n"
     ]
    },
    {
     "name": "stdout",
     "output_type": "stream",
     "text": [
      "---adfadfdafadfdafadfa\n",
      "\n",
      "\n",
      "[[-0.25413638  0.58994734  1.67959392 ...  0.85468495 -0.79512835\n",
      "   0.50563246]]\n",
      "1 1\n",
      "Shape (1, 2048)\n",
      "Using normal model\n"
     ]
    },
    {
     "name": "stderr",
     "output_type": "stream",
     "text": [
      "[genericNeuralNet.py:331 -     print_model_eval() ] Train loss (w reg) on all data: 0.012730817\n",
      "[genericNeuralNet.py:332 -     print_model_eval() ] Train loss (w/o reg) on all data: 0.0041383943\n",
      "[genericNeuralNet.py:334 -     print_model_eval() ] Test loss (w/o reg) on all data: 0.044720355\n",
      "[genericNeuralNet.py:335 -     print_model_eval() ] Train acc on all data:  1.0\n",
      "[genericNeuralNet.py:336 -     print_model_eval() ] Test acc on all data:   0.9833333333333333\n",
      "[genericNeuralNet.py:338 -     print_model_eval() ] Norm of the mean of gradients: 0.00309842\n",
      "[genericNeuralNet.py:339 -     print_model_eval() ] Norm of the params: 4.1454606\n",
      "[iter_attack.py:209 -     iterative_attack() ] Test pred (full): [[0.9597349  0.04026505]]\n",
      "[iter_attack.py:212 -     iterative_attack() ] Test pred (top): [[0.9597349  0.04026505]]\n",
      "[iter_attack.py:151 -     iterative_attack() ] *** Iter: 15\n"
     ]
    },
    {
     "name": "stdout",
     "output_type": "stream",
     "text": [
      "LBFGS training took [46] iter.\n",
      "After training with LBFGS: \n",
      "Total number of parameters: 2048\n",
      "Warning: Desired error not necessarily achieved due to precision loss.\n",
      "         Current function value: -20331.558594\n",
      "         Iterations: 10\n",
      "         Function evaluations: 136\n",
      "         Gradient evaluations: 132\n",
      "         Hessian evaluations: 57\n",
      "Inverse HVP took 3.37254810333 sec\n",
      "Loaded inverse HVP from output/dogfish_900_300_inception_wd-0.001-test-179.npz\n",
      "Inverse HVP took 0.000555038452148 sec\n",
      "Entering the for loop\n"
     ]
    },
    {
     "name": "stderr",
     "output_type": "stream",
     "text": [
      "[iter_attack.py:171 -     iterative_attack() ] Attach_iter 15 perturbation shape: (1, 268203), perturbation: [[-0.5260613  -1.35970998 -1.90983343 ... -0.20187767 -0.509345\n",
      "   0.62578964]]\n",
      "[iter_attack.py:67 - poison_with_influence_proj_gradient_step() ] -- max: 230.65162658691406, mean: 0.0015088437501334117, min: -310.72406005859375\n"
     ]
    },
    {
     "name": "stdout",
     "output_type": "stream",
     "text": [
      "---adfadfdafadfdafadfa\n",
      "\n",
      "\n",
      "[[ 0.5260613   1.35970998  1.90983343 ...  0.20187767  0.509345\n",
      "  -0.62578964]]\n",
      "1 1\n",
      "Shape (1, 2048)\n",
      "Using normal model\n"
     ]
    },
    {
     "name": "stderr",
     "output_type": "stream",
     "text": [
      "[genericNeuralNet.py:331 -     print_model_eval() ] Train loss (w reg) on all data: 0.012776539\n",
      "[genericNeuralNet.py:332 -     print_model_eval() ] Train loss (w/o reg) on all data: 0.0041584405\n",
      "[genericNeuralNet.py:334 -     print_model_eval() ] Test loss (w/o reg) on all data: 0.04489481\n",
      "[genericNeuralNet.py:335 -     print_model_eval() ] Train acc on all data:  1.0\n",
      "[genericNeuralNet.py:336 -     print_model_eval() ] Test acc on all data:   0.98\n",
      "[genericNeuralNet.py:338 -     print_model_eval() ] Norm of the mean of gradients: 0.003147966\n",
      "[genericNeuralNet.py:339 -     print_model_eval() ] Norm of the params: 4.15165\n",
      "[iter_attack.py:209 -     iterative_attack() ] Test pred (full): [[0.9532781  0.04672187]]\n",
      "[iter_attack.py:212 -     iterative_attack() ] Test pred (top): [[0.9532781  0.04672187]]\n",
      "[iter_attack.py:151 -     iterative_attack() ] *** Iter: 16\n"
     ]
    },
    {
     "name": "stdout",
     "output_type": "stream",
     "text": [
      "LBFGS training took [45] iter.\n",
      "After training with LBFGS: \n",
      "Total number of parameters: 2048\n",
      "Warning: Desired error not necessarily achieved due to precision loss.\n",
      "         Current function value: -19876.960938\n",
      "         Iterations: 13\n",
      "         Function evaluations: 129\n",
      "         Gradient evaluations: 128\n",
      "         Hessian evaluations: 92\n",
      "Inverse HVP took 3.63415598869 sec\n",
      "Loaded inverse HVP from output/dogfish_900_300_inception_wd-0.001-test-179.npz\n",
      "Inverse HVP took 0.000536918640137 sec\n",
      "Entering the for loop\n"
     ]
    },
    {
     "name": "stderr",
     "output_type": "stream",
     "text": [
      "[iter_attack.py:171 -     iterative_attack() ] Attach_iter 16 perturbation shape: (1, 268203), perturbation: [[ 0.39799333 -1.42697644 -3.08579826 ... -0.28875324  0.82181203\n",
      "  -0.85082233]]\n",
      "[iter_attack.py:67 - poison_with_influence_proj_gradient_step() ] -- max: 187.42640686035156, mean: 0.0038940635509139643, min: -248.34243774414062\n"
     ]
    },
    {
     "name": "stdout",
     "output_type": "stream",
     "text": [
      "---adfadfdafadfdafadfa\n",
      "\n",
      "\n",
      "[[-0.39799333  1.42697644  3.08579826 ...  0.28875324 -0.82181203\n",
      "   0.85082233]]\n",
      "1 1\n",
      "Shape (1, 2048)\n",
      "Using normal model\n"
     ]
    },
    {
     "name": "stderr",
     "output_type": "stream",
     "text": [
      "[genericNeuralNet.py:331 -     print_model_eval() ] Train loss (w reg) on all data: 0.012829757\n",
      "[genericNeuralNet.py:332 -     print_model_eval() ] Train loss (w/o reg) on all data: 0.0041792784\n",
      "[genericNeuralNet.py:334 -     print_model_eval() ] Test loss (w/o reg) on all data: 0.04460999\n",
      "[genericNeuralNet.py:335 -     print_model_eval() ] Train acc on all data:  1.0\n",
      "[genericNeuralNet.py:336 -     print_model_eval() ] Test acc on all data:   0.98\n",
      "[genericNeuralNet.py:338 -     print_model_eval() ] Norm of the mean of gradients: 0.0032486485\n",
      "[genericNeuralNet.py:339 -     print_model_eval() ] Norm of the params: 4.159442\n",
      "[iter_attack.py:209 -     iterative_attack() ] Test pred (full): [[0.94568413 0.05431588]]\n",
      "[iter_attack.py:212 -     iterative_attack() ] Test pred (top): [[0.94568413 0.05431588]]\n",
      "[iter_attack.py:151 -     iterative_attack() ] *** Iter: 17\n"
     ]
    },
    {
     "name": "stdout",
     "output_type": "stream",
     "text": [
      "LBFGS training took [40] iter.\n",
      "After training with LBFGS: \n",
      "Total number of parameters: 2048\n",
      "Warning: Desired error not necessarily achieved due to precision loss.\n",
      "         Current function value: -19373.916016\n",
      "         Iterations: 9\n",
      "         Function evaluations: 83\n",
      "         Gradient evaluations: 80\n",
      "         Hessian evaluations: 47\n",
      "Inverse HVP took 2.20298814774 sec\n",
      "Loaded inverse HVP from output/dogfish_900_300_inception_wd-0.001-test-179.npz\n",
      "Inverse HVP took 0.00057578086853 sec\n",
      "Entering the for loop\n"
     ]
    },
    {
     "name": "stderr",
     "output_type": "stream",
     "text": [
      "[iter_attack.py:171 -     iterative_attack() ] Attach_iter 17 perturbation shape: (1, 268203), perturbation: [[-0.12899673 -1.54912138 -2.74055362 ...  0.43130705 -0.50051939\n",
      "   0.38058674]]\n",
      "[iter_attack.py:67 - poison_with_influence_proj_gradient_step() ] -- max: 211.66526794433594, mean: 0.0013360809275499994, min: -255.31759643554688\n"
     ]
    },
    {
     "name": "stdout",
     "output_type": "stream",
     "text": [
      "---adfadfdafadfdafadfa\n",
      "\n",
      "\n",
      "[[ 0.12899673  1.54912138  2.74055362 ... -0.43130705  0.50051939\n",
      "  -0.38058674]]\n",
      "1 1\n",
      "Shape (1, 2048)\n",
      "Using normal model\n"
     ]
    },
    {
     "name": "stderr",
     "output_type": "stream",
     "text": [
      "[genericNeuralNet.py:331 -     print_model_eval() ] Train loss (w reg) on all data: 0.012873911\n",
      "[genericNeuralNet.py:332 -     print_model_eval() ] Train loss (w/o reg) on all data: 0.0041993335\n",
      "[genericNeuralNet.py:334 -     print_model_eval() ] Test loss (w/o reg) on all data: 0.044983577\n",
      "[genericNeuralNet.py:335 -     print_model_eval() ] Train acc on all data:  1.0\n",
      "[genericNeuralNet.py:336 -     print_model_eval() ] Test acc on all data:   0.98\n",
      "[genericNeuralNet.py:338 -     print_model_eval() ] Norm of the mean of gradients: 0.003275617\n",
      "[genericNeuralNet.py:339 -     print_model_eval() ] Norm of the params: 4.1652317\n",
      "[iter_attack.py:209 -     iterative_attack() ] Test pred (full): [[0.93734294 0.06265704]]\n",
      "[iter_attack.py:212 -     iterative_attack() ] Test pred (top): [[0.93734294 0.06265704]]\n",
      "[iter_attack.py:151 -     iterative_attack() ] *** Iter: 18\n"
     ]
    },
    {
     "name": "stdout",
     "output_type": "stream",
     "text": [
      "LBFGS training took [43] iter.\n",
      "After training with LBFGS: \n",
      "Total number of parameters: 2048\n",
      "Warning: Desired error not necessarily achieved due to precision loss.\n",
      "         Current function value: -18872.130859\n",
      "         Iterations: 10\n",
      "         Function evaluations: 79\n",
      "         Gradient evaluations: 77\n",
      "         Hessian evaluations: 55\n",
      "Inverse HVP took 2.26035881042 sec\n",
      "Loaded inverse HVP from output/dogfish_900_300_inception_wd-0.001-test-179.npz\n",
      "Inverse HVP took 0.000570058822632 sec\n",
      "Entering the for loop\n"
     ]
    },
    {
     "name": "stderr",
     "output_type": "stream",
     "text": [
      "[iter_attack.py:171 -     iterative_attack() ] Attach_iter 18 perturbation shape: (1, 268203), perturbation: [[ 0.52960753 -0.99788308 -2.73979449 ... -1.34482992  0.58154923\n",
      "  -0.10829711]]\n",
      "[iter_attack.py:67 - poison_with_influence_proj_gradient_step() ] -- max: 225.00180053710938, mean: 0.005189360540668372, min: -255.63987731933594\n"
     ]
    },
    {
     "name": "stdout",
     "output_type": "stream",
     "text": [
      "---adfadfdafadfdafadfa\n",
      "\n",
      "\n",
      "[[-0.52960753  0.99788308  2.73979449 ...  1.34482992 -0.58154923\n",
      "   0.10829711]]\n",
      "1 1\n",
      "Shape (1, 2048)\n",
      "Using normal model\n"
     ]
    },
    {
     "name": "stderr",
     "output_type": "stream",
     "text": [
      "[genericNeuralNet.py:331 -     print_model_eval() ] Train loss (w reg) on all data: 0.012923395\n",
      "[genericNeuralNet.py:332 -     print_model_eval() ] Train loss (w/o reg) on all data: 0.0042190338\n",
      "[genericNeuralNet.py:334 -     print_model_eval() ] Test loss (w/o reg) on all data: 0.044620387\n",
      "[genericNeuralNet.py:335 -     print_model_eval() ] Train acc on all data:  1.0\n",
      "[genericNeuralNet.py:336 -     print_model_eval() ] Test acc on all data:   0.9783333333333334\n",
      "[genericNeuralNet.py:338 -     print_model_eval() ] Norm of the mean of gradients: 0.0033431412\n",
      "[genericNeuralNet.py:339 -     print_model_eval() ] Norm of the params: 4.1723766\n",
      "[iter_attack.py:209 -     iterative_attack() ] Test pred (full): [[0.92918336 0.07081662]]\n",
      "[iter_attack.py:212 -     iterative_attack() ] Test pred (top): [[0.92918336 0.07081662]]\n",
      "[iter_attack.py:151 -     iterative_attack() ] *** Iter: 19\n"
     ]
    },
    {
     "name": "stdout",
     "output_type": "stream",
     "text": [
      "LBFGS training took [45] iter.\n",
      "After training with LBFGS: \n",
      "Total number of parameters: 2048\n",
      "Warning: Desired error not necessarily achieved due to precision loss.\n",
      "         Current function value: -18397.375000\n",
      "         Iterations: 11\n",
      "         Function evaluations: 132\n",
      "         Gradient evaluations: 129\n",
      "         Hessian evaluations: 63\n",
      "Inverse HVP took 3.39290809631 sec\n",
      "Loaded inverse HVP from output/dogfish_900_300_inception_wd-0.001-test-179.npz\n",
      "Inverse HVP took 0.000573873519897 sec\n",
      "Entering the for loop\n"
     ]
    },
    {
     "name": "stderr",
     "output_type": "stream",
     "text": [
      "[iter_attack.py:171 -     iterative_attack() ] Attach_iter 19 perturbation shape: (1, 268203), perturbation: [[ 0.60963273 -2.96429825 -4.82256508 ...  0.68636191  0.17064388\n",
      "  -0.43222547]]\n",
      "[iter_attack.py:67 - poison_with_influence_proj_gradient_step() ] -- max: 205.4368896484375, mean: 0.0007871279815631233, min: -242.69436645507812\n"
     ]
    },
    {
     "name": "stdout",
     "output_type": "stream",
     "text": [
      "---adfadfdafadfdafadfa\n",
      "\n",
      "\n",
      "[[-0.60963273  2.96429825  4.82256508 ... -0.68636191 -0.17064388\n",
      "   0.43222547]]\n",
      "1 1\n",
      "Shape (1, 2048)\n",
      "Using normal model\n"
     ]
    },
    {
     "name": "stderr",
     "output_type": "stream",
     "text": [
      "[genericNeuralNet.py:331 -     print_model_eval() ] Train loss (w reg) on all data: 0.01296336\n",
      "[genericNeuralNet.py:332 -     print_model_eval() ] Train loss (w/o reg) on all data: 0.0042361026\n",
      "[genericNeuralNet.py:334 -     print_model_eval() ] Test loss (w/o reg) on all data: 0.044997066\n",
      "[genericNeuralNet.py:335 -     print_model_eval() ] Train acc on all data:  1.0\n",
      "[genericNeuralNet.py:336 -     print_model_eval() ] Test acc on all data:   0.9783333333333334\n",
      "[genericNeuralNet.py:338 -     print_model_eval() ] Norm of the mean of gradients: 0.0034248168\n",
      "[genericNeuralNet.py:339 -     print_model_eval() ] Norm of the params: 4.177861\n",
      "[iter_attack.py:209 -     iterative_attack() ] Test pred (full): [[0.9192884  0.08071152]]\n",
      "[iter_attack.py:212 -     iterative_attack() ] Test pred (top): [[0.9192884  0.08071152]]\n",
      "[iter_attack.py:151 -     iterative_attack() ] *** Iter: 20\n"
     ]
    },
    {
     "name": "stdout",
     "output_type": "stream",
     "text": [
      "LBFGS training took [47] iter.\n",
      "After training with LBFGS: \n",
      "Total number of parameters: 2048\n",
      "Warning: Desired error not necessarily achieved due to precision loss.\n",
      "         Current function value: -17860.066406\n",
      "         Iterations: 8\n",
      "         Function evaluations: 92\n",
      "         Gradient evaluations: 88\n",
      "         Hessian evaluations: 39\n",
      "Inverse HVP took 2.40181994438 sec\n",
      "Loaded inverse HVP from output/dogfish_900_300_inception_wd-0.001-test-179.npz\n",
      "Inverse HVP took 0.000576019287109 sec\n",
      "Entering the for loop\n"
     ]
    },
    {
     "name": "stderr",
     "output_type": "stream",
     "text": [
      "[iter_attack.py:171 -     iterative_attack() ] Attach_iter 20 perturbation shape: (1, 268203), perturbation: [[ 1.41754389 -1.59551668 -3.38061571 ... -0.69521946  0.2824921\n",
      "  -0.0045101 ]]\n",
      "[iter_attack.py:67 - poison_with_influence_proj_gradient_step() ] -- max: 206.27365112304688, mean: 0.004889716248175112, min: -261.9139404296875\n"
     ]
    },
    {
     "name": "stdout",
     "output_type": "stream",
     "text": [
      "---adfadfdafadfdafadfa\n",
      "\n",
      "\n",
      "[[-1.41754389  1.59551668  3.38061571 ...  0.69521946 -0.2824921\n",
      "   0.0045101 ]]\n",
      "1 1\n",
      "Shape (1, 2048)\n",
      "Using normal model\n"
     ]
    },
    {
     "name": "stderr",
     "output_type": "stream",
     "text": [
      "[genericNeuralNet.py:331 -     print_model_eval() ] Train loss (w reg) on all data: 0.01300512\n",
      "[genericNeuralNet.py:332 -     print_model_eval() ] Train loss (w/o reg) on all data: 0.00425304\n",
      "[genericNeuralNet.py:334 -     print_model_eval() ] Test loss (w/o reg) on all data: 0.0446033\n",
      "[genericNeuralNet.py:335 -     print_model_eval() ] Train acc on all data:  1.0\n",
      "[genericNeuralNet.py:336 -     print_model_eval() ] Test acc on all data:   0.9783333333333334\n",
      "[genericNeuralNet.py:338 -     print_model_eval() ] Norm of the mean of gradients: 0.0034349528\n",
      "[genericNeuralNet.py:339 -     print_model_eval() ] Norm of the params: 4.1837974\n",
      "[iter_attack.py:209 -     iterative_attack() ] Test pred (full): [[0.9092497  0.09075024]]\n",
      "[iter_attack.py:212 -     iterative_attack() ] Test pred (top): [[0.9092497  0.09075024]]\n",
      "[iter_attack.py:151 -     iterative_attack() ] *** Iter: 21\n"
     ]
    },
    {
     "name": "stdout",
     "output_type": "stream",
     "text": [
      "LBFGS training took [44] iter.\n",
      "After training with LBFGS: \n",
      "Total number of parameters: 2048\n",
      "Warning: Desired error not necessarily achieved due to precision loss.\n",
      "         Current function value: -17341.072266\n",
      "         Iterations: 8\n",
      "         Function evaluations: 73\n",
      "         Gradient evaluations: 70\n",
      "         Hessian evaluations: 37\n",
      "Inverse HVP took 1.9539411068 sec\n",
      "Loaded inverse HVP from output/dogfish_900_300_inception_wd-0.001-test-179.npz\n",
      "Inverse HVP took 0.000576972961426 sec\n",
      "Entering the for loop\n"
     ]
    },
    {
     "name": "stderr",
     "output_type": "stream",
     "text": [
      "[iter_attack.py:171 -     iterative_attack() ] Attach_iter 21 perturbation shape: (1, 268203), perturbation: [[ 0.50693202 -1.10677719 -2.42789721 ...  1.03952754  0.00395489\n",
      "  -0.50199878]]\n",
      "[iter_attack.py:67 - poison_with_influence_proj_gradient_step() ] -- max: 204.50967407226562, mean: -0.0003611907877458378, min: -249.35098266601562\n"
     ]
    },
    {
     "name": "stdout",
     "output_type": "stream",
     "text": [
      "---adfadfdafadfdafadfa\n",
      "\n",
      "\n",
      "[[-0.50693202  1.10677719  2.42789721 ... -1.03952754 -0.00395489\n",
      "   0.50199878]]\n",
      "1 1\n",
      "Shape (1, 2048)\n",
      "Using normal model\n"
     ]
    },
    {
     "name": "stderr",
     "output_type": "stream",
     "text": [
      "[genericNeuralNet.py:331 -     print_model_eval() ] Train loss (w reg) on all data: 0.0130412895\n",
      "[genericNeuralNet.py:332 -     print_model_eval() ] Train loss (w/o reg) on all data: 0.0042708158\n",
      "[genericNeuralNet.py:334 -     print_model_eval() ] Test loss (w/o reg) on all data: 0.04508409\n",
      "[genericNeuralNet.py:335 -     print_model_eval() ] Train acc on all data:  1.0\n",
      "[genericNeuralNet.py:336 -     print_model_eval() ] Test acc on all data:   0.9783333333333334\n",
      "[genericNeuralNet.py:338 -     print_model_eval() ] Norm of the mean of gradients: 0.0034962175\n",
      "[genericNeuralNet.py:339 -     print_model_eval() ] Norm of the params: 4.1881914\n",
      "[iter_attack.py:209 -     iterative_attack() ] Test pred (full): [[0.8984736  0.10152636]]\n",
      "[iter_attack.py:212 -     iterative_attack() ] Test pred (top): [[0.8984736  0.10152636]]\n",
      "[iter_attack.py:151 -     iterative_attack() ] *** Iter: 22\n"
     ]
    },
    {
     "name": "stdout",
     "output_type": "stream",
     "text": [
      "LBFGS training took [40] iter.\n",
      "After training with LBFGS: \n",
      "Total number of parameters: 2048\n",
      "Warning: Desired error not necessarily achieved due to precision loss.\n",
      "         Current function value: -16805.349609\n",
      "         Iterations: 9\n",
      "         Function evaluations: 91\n",
      "         Gradient evaluations: 89\n",
      "         Hessian evaluations: 46\n",
      "Inverse HVP took 2.42971801758 sec\n",
      "Loaded inverse HVP from output/dogfish_900_300_inception_wd-0.001-test-179.npz\n",
      "Inverse HVP took 0.000618934631348 sec\n",
      "Entering the for loop\n"
     ]
    },
    {
     "name": "stderr",
     "output_type": "stream",
     "text": [
      "[iter_attack.py:171 -     iterative_attack() ] Attach_iter 22 perturbation shape: (1, 268203), perturbation: [[ 0.98616898 -0.1758188  -1.73859715 ... -0.40082338  0.37644219\n",
      "  -0.20605227]]\n",
      "[iter_attack.py:67 - poison_with_influence_proj_gradient_step() ] -- max: 218.39205932617188, mean: 0.0030264776357347826, min: -201.25230407714844\n"
     ]
    },
    {
     "name": "stdout",
     "output_type": "stream",
     "text": [
      "---adfadfdafadfdafadfa\n",
      "\n",
      "\n",
      "[[-0.98616898  0.1758188   1.73859715 ...  0.40082338 -0.37644219\n",
      "   0.20605227]]\n",
      "1 1\n",
      "Shape (1, 2048)\n",
      "Using normal model\n"
     ]
    },
    {
     "name": "stderr",
     "output_type": "stream",
     "text": [
      "[genericNeuralNet.py:331 -     print_model_eval() ] Train loss (w reg) on all data: 0.013081209\n",
      "[genericNeuralNet.py:332 -     print_model_eval() ] Train loss (w/o reg) on all data: 0.004286158\n",
      "[genericNeuralNet.py:334 -     print_model_eval() ] Test loss (w/o reg) on all data: 0.044790495\n",
      "[genericNeuralNet.py:335 -     print_model_eval() ] Train acc on all data:  1.0\n",
      "[genericNeuralNet.py:336 -     print_model_eval() ] Test acc on all data:   0.9766666666666667\n",
      "[genericNeuralNet.py:338 -     print_model_eval() ] Norm of the mean of gradients: 0.0035297875\n",
      "[genericNeuralNet.py:339 -     print_model_eval() ] Norm of the params: 4.1940556\n",
      "[iter_attack.py:209 -     iterative_attack() ] Test pred (full): [[0.88743293 0.1125671 ]]\n",
      "[iter_attack.py:212 -     iterative_attack() ] Test pred (top): [[0.88743293 0.1125671 ]]\n",
      "[iter_attack.py:151 -     iterative_attack() ] *** Iter: 23\n"
     ]
    },
    {
     "name": "stdout",
     "output_type": "stream",
     "text": [
      "LBFGS training took [40] iter.\n",
      "After training with LBFGS: \n",
      "Total number of parameters: 2048\n",
      "Warning: Desired error not necessarily achieved due to precision loss.\n",
      "         Current function value: -16286.708984\n",
      "         Iterations: 10\n",
      "         Function evaluations: 131\n",
      "         Gradient evaluations: 128\n",
      "         Hessian evaluations: 55\n",
      "Inverse HVP took 3.376557827 sec\n",
      "Loaded inverse HVP from output/dogfish_900_300_inception_wd-0.001-test-179.npz\n",
      "Inverse HVP took 0.000586986541748 sec\n",
      "Entering the for loop\n"
     ]
    },
    {
     "name": "stderr",
     "output_type": "stream",
     "text": [
      "[iter_attack.py:171 -     iterative_attack() ] Attach_iter 23 perturbation shape: (1, 268203), perturbation: [[ 0.91972268 -0.60296941 -1.98798656 ...  0.0600976   0.29648235\n",
      "  -0.44459683]]\n",
      "[iter_attack.py:67 - poison_with_influence_proj_gradient_step() ] -- max: 225.32089233398438, mean: 0.0011452775013351113, min: -267.15478515625\n"
     ]
    },
    {
     "name": "stdout",
     "output_type": "stream",
     "text": [
      "---adfadfdafadfdafadfa\n",
      "\n",
      "\n",
      "[[-0.91972268  0.60296941  1.98798656 ... -0.0600976  -0.29648235\n",
      "   0.44459683]]\n",
      "1 1\n",
      "Shape (1, 2048)\n",
      "Using normal model\n"
     ]
    },
    {
     "name": "stderr",
     "output_type": "stream",
     "text": [
      "[genericNeuralNet.py:331 -     print_model_eval() ] Train loss (w reg) on all data: 0.013118282\n",
      "[genericNeuralNet.py:332 -     print_model_eval() ] Train loss (w/o reg) on all data: 0.0043013818\n",
      "[genericNeuralNet.py:334 -     print_model_eval() ] Test loss (w/o reg) on all data: 0.045223985\n",
      "[genericNeuralNet.py:335 -     print_model_eval() ] Train acc on all data:  1.0\n",
      "[genericNeuralNet.py:336 -     print_model_eval() ] Test acc on all data:   0.9766666666666667\n",
      "[genericNeuralNet.py:338 -     print_model_eval() ] Norm of the mean of gradients: 0.003701367\n",
      "[genericNeuralNet.py:339 -     print_model_eval() ] Norm of the params: 4.199262\n",
      "[iter_attack.py:209 -     iterative_attack() ] Test pred (full): [[0.87491155 0.12508845]]\n",
      "[iter_attack.py:212 -     iterative_attack() ] Test pred (top): [[0.87491155 0.12508845]]\n",
      "[iter_attack.py:151 -     iterative_attack() ] *** Iter: 24\n"
     ]
    },
    {
     "name": "stdout",
     "output_type": "stream",
     "text": [
      "LBFGS training took [47] iter.\n",
      "After training with LBFGS: \n",
      "Total number of parameters: 2048\n",
      "Warning: Desired error not necessarily achieved due to precision loss.\n",
      "         Current function value: -15715.717773\n",
      "         Iterations: 10\n",
      "         Function evaluations: 141\n",
      "         Gradient evaluations: 138\n",
      "         Hessian evaluations: 50\n",
      "Inverse HVP took 3.40681004524 sec\n",
      "Loaded inverse HVP from output/dogfish_900_300_inception_wd-0.001-test-179.npz\n",
      "Inverse HVP took 0.000543832778931 sec\n",
      "Entering the for loop\n"
     ]
    },
    {
     "name": "stderr",
     "output_type": "stream",
     "text": [
      "[iter_attack.py:171 -     iterative_attack() ] Attach_iter 24 perturbation shape: (1, 268203), perturbation: [[ 0.86256611 -0.25652611 -1.84829307 ... -0.78092748  0.37299207\n",
      "  -0.13588782]]\n",
      "[iter_attack.py:67 - poison_with_influence_proj_gradient_step() ] -- max: 183.3306884765625, mean: 0.0008643981023621961, min: -196.29441833496094\n"
     ]
    },
    {
     "name": "stdout",
     "output_type": "stream",
     "text": [
      "---adfadfdafadfdafadfa\n",
      "\n",
      "\n",
      "[[-0.86256611  0.25652611  1.84829307 ...  0.78092748 -0.37299207\n",
      "   0.13588782]]\n",
      "1 1\n",
      "Shape (1, 2048)\n",
      "Using normal model\n"
     ]
    },
    {
     "name": "stderr",
     "output_type": "stream",
     "text": [
      "[genericNeuralNet.py:331 -     print_model_eval() ] Train loss (w reg) on all data: 0.0131503325\n",
      "[genericNeuralNet.py:332 -     print_model_eval() ] Train loss (w/o reg) on all data: 0.0043177996\n",
      "[genericNeuralNet.py:334 -     print_model_eval() ] Test loss (w/o reg) on all data: 0.045139387\n",
      "[genericNeuralNet.py:335 -     print_model_eval() ] Train acc on all data:  1.0\n",
      "[genericNeuralNet.py:336 -     print_model_eval() ] Test acc on all data:   0.9766666666666667\n",
      "[genericNeuralNet.py:338 -     print_model_eval() ] Norm of the mean of gradients: 0.0036153467\n",
      "[genericNeuralNet.py:339 -     print_model_eval() ] Norm of the params: 4.2029834\n",
      "[iter_attack.py:209 -     iterative_attack() ] Test pred (full): [[0.86330336 0.1366967 ]]\n",
      "[iter_attack.py:212 -     iterative_attack() ] Test pred (top): [[0.86330336 0.1366967 ]]\n",
      "[iter_attack.py:151 -     iterative_attack() ] *** Iter: 25\n"
     ]
    },
    {
     "name": "stdout",
     "output_type": "stream",
     "text": [
      "LBFGS training took [49] iter.\n",
      "After training with LBFGS: \n",
      "Total number of parameters: 2048\n",
      "Warning: Desired error not necessarily achieved due to precision loss.\n",
      "         Current function value: -15207.106445\n",
      "         Iterations: 9\n",
      "         Function evaluations: 79\n",
      "         Gradient evaluations: 77\n",
      "         Hessian evaluations: 46\n",
      "Inverse HVP took 2.12285804749 sec\n",
      "Loaded inverse HVP from output/dogfish_900_300_inception_wd-0.001-test-179.npz\n",
      "Inverse HVP took 0.000611066818237 sec\n",
      "Entering the for loop\n"
     ]
    },
    {
     "name": "stderr",
     "output_type": "stream",
     "text": [
      "[iter_attack.py:171 -     iterative_attack() ] Attach_iter 25 perturbation shape: (1, 268203), perturbation: [[ 0.64623725 -0.17267895 -1.29981875 ...  0.96910244  0.15882379\n",
      "  -0.76555735]]\n",
      "[iter_attack.py:67 - poison_with_influence_proj_gradient_step() ] -- max: 193.32659912109375, mean: 0.0013408995611254848, min: -259.05133056640625\n"
     ]
    },
    {
     "name": "stdout",
     "output_type": "stream",
     "text": [
      "---adfadfdafadfdafadfa\n",
      "\n",
      "\n",
      "[[-0.64623725  0.17267895  1.29981875 ... -0.96910244 -0.15882379\n",
      "   0.76555735]]\n",
      "1 1\n",
      "Shape (1, 2048)\n",
      "Using normal model\n"
     ]
    },
    {
     "name": "stderr",
     "output_type": "stream",
     "text": [
      "[genericNeuralNet.py:331 -     print_model_eval() ] Train loss (w reg) on all data: 0.013188975\n",
      "[genericNeuralNet.py:332 -     print_model_eval() ] Train loss (w/o reg) on all data: 0.004329153\n",
      "[genericNeuralNet.py:334 -     print_model_eval() ] Test loss (w/o reg) on all data: 0.045346037\n",
      "[genericNeuralNet.py:335 -     print_model_eval() ] Train acc on all data:  1.0\n",
      "[genericNeuralNet.py:336 -     print_model_eval() ] Test acc on all data:   0.9766666666666667\n",
      "[genericNeuralNet.py:338 -     print_model_eval() ] Norm of the mean of gradients: 0.0038768584\n",
      "[genericNeuralNet.py:339 -     print_model_eval() ] Norm of the params: 4.2094703\n",
      "[iter_attack.py:209 -     iterative_attack() ] Test pred (full): [[0.8505774  0.14942256]]\n",
      "[iter_attack.py:212 -     iterative_attack() ] Test pred (top): [[0.8505774  0.14942256]]\n",
      "[iter_attack.py:151 -     iterative_attack() ] *** Iter: 26\n"
     ]
    },
    {
     "name": "stdout",
     "output_type": "stream",
     "text": [
      "LBFGS training took [45] iter.\n",
      "After training with LBFGS: \n",
      "Total number of parameters: 2048\n",
      "Warning: Desired error not necessarily achieved due to precision loss.\n",
      "         Current function value: -14674.781250\n",
      "         Iterations: 10\n",
      "         Function evaluations: 82\n",
      "         Gradient evaluations: 80\n",
      "         Hessian evaluations: 55\n",
      "Inverse HVP took 2.31877708435 sec\n",
      "Loaded inverse HVP from output/dogfish_900_300_inception_wd-0.001-test-179.npz\n",
      "Inverse HVP took 0.000615119934082 sec\n",
      "Entering the for loop\n"
     ]
    },
    {
     "name": "stderr",
     "output_type": "stream",
     "text": [
      "[iter_attack.py:171 -     iterative_attack() ] Attach_iter 26 perturbation shape: (1, 268203), perturbation: [[ 1.35393596  0.03248543 -1.29313409 ... -1.95407975  0.82468855\n",
      "  -0.00565642]]\n",
      "[iter_attack.py:67 - poison_with_influence_proj_gradient_step() ] -- max: 239.81088256835938, mean: 0.0004596535824898048, min: -168.3459930419922\n"
     ]
    },
    {
     "name": "stdout",
     "output_type": "stream",
     "text": [
      "---adfadfdafadfdafadfa\n",
      "\n",
      "\n",
      "[[-1.35393596 -0.03248543  1.29313409 ...  1.95407975 -0.82468855\n",
      "   0.00565642]]\n",
      "1 1\n",
      "Shape (1, 2048)\n",
      "Using normal model\n"
     ]
    },
    {
     "name": "stderr",
     "output_type": "stream",
     "text": [
      "[genericNeuralNet.py:331 -     print_model_eval() ] Train loss (w reg) on all data: 0.013206873\n",
      "[genericNeuralNet.py:332 -     print_model_eval() ] Train loss (w/o reg) on all data: 0.0043389057\n",
      "[genericNeuralNet.py:334 -     print_model_eval() ] Test loss (w/o reg) on all data: 0.04535639\n",
      "[genericNeuralNet.py:335 -     print_model_eval() ] Train acc on all data:  1.0\n",
      "[genericNeuralNet.py:336 -     print_model_eval() ] Test acc on all data:   0.9766666666666667\n",
      "[genericNeuralNet.py:338 -     print_model_eval() ] Norm of the mean of gradients: 0.0037890906\n",
      "[genericNeuralNet.py:339 -     print_model_eval() ] Norm of the params: 4.2114058\n",
      "[iter_attack.py:209 -     iterative_attack() ] Test pred (full): [[0.8395323  0.16046768]]\n",
      "[iter_attack.py:212 -     iterative_attack() ] Test pred (top): [[0.8395323  0.16046768]]\n",
      "[iter_attack.py:151 -     iterative_attack() ] *** Iter: 27\n"
     ]
    },
    {
     "name": "stdout",
     "output_type": "stream",
     "text": [
      "LBFGS training took [33] iter.\n",
      "After training with LBFGS: \n",
      "Total number of parameters: 2048\n",
      "Warning: Desired error not necessarily achieved due to precision loss.\n",
      "         Current function value: -14224.542969\n",
      "         Iterations: 12\n",
      "         Function evaluations: 84\n",
      "         Gradient evaluations: 92\n",
      "         Hessian evaluations: 95\n",
      "Inverse HVP took 3.03087091446 sec\n",
      "Loaded inverse HVP from output/dogfish_900_300_inception_wd-0.001-test-179.npz\n",
      "Inverse HVP took 0.00056791305542 sec\n",
      "Entering the for loop\n"
     ]
    },
    {
     "name": "stderr",
     "output_type": "stream",
     "text": [
      "[iter_attack.py:171 -     iterative_attack() ] Attach_iter 27 perturbation shape: (1, 268203), perturbation: [[ 0.31823689  0.01301408 -0.58413494 ...  1.76594913 -0.27215761\n",
      "  -0.76333159]]\n",
      "[iter_attack.py:67 - poison_with_influence_proj_gradient_step() ] -- max: 242.31988525390625, mean: 0.002286875763486952, min: -245.4173583984375\n"
     ]
    },
    {
     "name": "stdout",
     "output_type": "stream",
     "text": [
      "---adfadfdafadfdafadfa\n",
      "\n",
      "\n",
      "[[-0.31823689 -0.01301408  0.58413494 ... -1.76594913  0.27215761\n",
      "   0.76333159]]\n",
      "1 1\n",
      "Shape (1, 2048)\n",
      "Using normal model\n"
     ]
    },
    {
     "name": "stderr",
     "output_type": "stream",
     "text": [
      "[genericNeuralNet.py:331 -     print_model_eval() ] Train loss (w reg) on all data: 0.013245128\n",
      "[genericNeuralNet.py:332 -     print_model_eval() ] Train loss (w/o reg) on all data: 0.004352594\n",
      "[genericNeuralNet.py:334 -     print_model_eval() ] Test loss (w/o reg) on all data: 0.04545629\n",
      "[genericNeuralNet.py:335 -     print_model_eval() ] Train acc on all data:  1.0\n",
      "[genericNeuralNet.py:336 -     print_model_eval() ] Test acc on all data:   0.9766666666666667\n",
      "[genericNeuralNet.py:338 -     print_model_eval() ] Norm of the mean of gradients: 0.0039909813\n",
      "[genericNeuralNet.py:339 -     print_model_eval() ] Norm of the params: 4.217235\n",
      "[iter_attack.py:209 -     iterative_attack() ] Test pred (full): [[0.8272995  0.17270057]]\n",
      "[iter_attack.py:212 -     iterative_attack() ] Test pred (top): [[0.8272995  0.17270057]]\n",
      "[iter_attack.py:151 -     iterative_attack() ] *** Iter: 28\n"
     ]
    },
    {
     "name": "stdout",
     "output_type": "stream",
     "text": [
      "LBFGS training took [50] iter.\n",
      "After training with LBFGS: \n",
      "Total number of parameters: 2048\n",
      "Warning: Desired error not necessarily achieved due to precision loss.\n",
      "         Current function value: -13747.982422\n",
      "         Iterations: 11\n",
      "         Function evaluations: 84\n",
      "         Gradient evaluations: 85\n",
      "         Hessian evaluations: 59\n",
      "Inverse HVP took 2.38191199303 sec\n",
      "Loaded inverse HVP from output/dogfish_900_300_inception_wd-0.001-test-179.npz\n",
      "Inverse HVP took 0.000577926635742 sec\n",
      "Entering the for loop\n"
     ]
    },
    {
     "name": "stderr",
     "output_type": "stream",
     "text": [
      "[iter_attack.py:171 -     iterative_attack() ] Attach_iter 28 perturbation shape: (1, 268203), perturbation: [[ 1.01000381  0.61789346 -0.42419422 ... -2.37273717  0.88436222\n",
      "   0.14808893]]\n",
      "[iter_attack.py:67 - poison_with_influence_proj_gradient_step() ] -- max: 327.2221984863281, mean: 0.00094605182801301, min: -307.7926940917969\n"
     ]
    },
    {
     "name": "stdout",
     "output_type": "stream",
     "text": [
      "---adfadfdafadfdafadfa\n",
      "\n",
      "\n",
      "[[-1.01000381 -0.61789346  0.42419422 ...  2.37273717 -0.88436222\n",
      "  -0.14808893]]\n",
      "1 1\n",
      "Shape (1, 2048)\n",
      "Using normal model\n"
     ]
    },
    {
     "name": "stderr",
     "output_type": "stream",
     "text": [
      "[genericNeuralNet.py:331 -     print_model_eval() ] Train loss (w reg) on all data: 0.0132531095\n",
      "[genericNeuralNet.py:332 -     print_model_eval() ] Train loss (w/o reg) on all data: 0.0043575023\n",
      "[genericNeuralNet.py:334 -     print_model_eval() ] Test loss (w/o reg) on all data: 0.04539972\n",
      "[genericNeuralNet.py:335 -     print_model_eval() ] Train acc on all data:  1.0\n",
      "[genericNeuralNet.py:336 -     print_model_eval() ] Test acc on all data:   0.9766666666666667\n",
      "[genericNeuralNet.py:338 -     print_model_eval() ] Norm of the mean of gradients: 0.0039128116\n",
      "[genericNeuralNet.py:339 -     print_model_eval() ] Norm of the params: 4.2179627\n",
      "[iter_attack.py:209 -     iterative_attack() ] Test pred (full): [[0.81783    0.18216991]]\n",
      "[iter_attack.py:212 -     iterative_attack() ] Test pred (top): [[0.81783    0.18216991]]\n",
      "[iter_attack.py:151 -     iterative_attack() ] *** Iter: 29\n"
     ]
    },
    {
     "name": "stdout",
     "output_type": "stream",
     "text": [
      "LBFGS training took [20] iter.\n",
      "After training with LBFGS: \n",
      "Total number of parameters: 2048\n",
      "Warning: Desired error not necessarily achieved due to precision loss.\n",
      "         Current function value: -13375.722656\n",
      "         Iterations: 8\n",
      "         Function evaluations: 78\n",
      "         Gradient evaluations: 74\n",
      "         Hessian evaluations: 46\n",
      "Inverse HVP took 2.07007789612 sec\n",
      "Loaded inverse HVP from output/dogfish_900_300_inception_wd-0.001-test-179.npz\n",
      "Inverse HVP took 0.00061297416687 sec\n",
      "Entering the for loop\n"
     ]
    },
    {
     "name": "stderr",
     "output_type": "stream",
     "text": [
      "[iter_attack.py:171 -     iterative_attack() ] Attach_iter 29 perturbation shape: (1, 268203), perturbation: [[-0.02399194 -0.56550634 -1.05661345 ...  1.34743416 -0.32071358\n",
      "  -0.66434109]]\n",
      "[iter_attack.py:67 - poison_with_influence_proj_gradient_step() ] -- max: 398.2176818847656, mean: 0.0008137034267575172, min: -298.98101806640625\n"
     ]
    },
    {
     "name": "stdout",
     "output_type": "stream",
     "text": [
      "---adfadfdafadfdafadfa\n",
      "\n",
      "\n",
      "[[ 0.02399194  0.56550634  1.05661345 ... -1.34743416  0.32071358\n",
      "   0.66434109]]\n",
      "1 1\n",
      "Shape (1, 2048)\n",
      "Using normal model\n"
     ]
    },
    {
     "name": "stderr",
     "output_type": "stream",
     "text": [
      "[genericNeuralNet.py:331 -     print_model_eval() ] Train loss (w reg) on all data: 0.013295187\n",
      "[genericNeuralNet.py:332 -     print_model_eval() ] Train loss (w/o reg) on all data: 0.00437348\n",
      "[genericNeuralNet.py:334 -     print_model_eval() ] Test loss (w/o reg) on all data: 0.045582492\n",
      "[genericNeuralNet.py:335 -     print_model_eval() ] Train acc on all data:  1.0\n",
      "[genericNeuralNet.py:336 -     print_model_eval() ] Test acc on all data:   0.9766666666666667\n",
      "[genericNeuralNet.py:338 -     print_model_eval() ] Norm of the mean of gradients: 0.0040986156\n",
      "[genericNeuralNet.py:339 -     print_model_eval() ] Norm of the params: 4.224147\n",
      "[iter_attack.py:209 -     iterative_attack() ] Test pred (full): [[0.8048039  0.19519614]]\n",
      "[iter_attack.py:212 -     iterative_attack() ] Test pred (top): [[0.8048039  0.19519614]]\n",
      "[iter_attack.py:151 -     iterative_attack() ] *** Iter: 30\n"
     ]
    },
    {
     "name": "stdout",
     "output_type": "stream",
     "text": [
      "LBFGS training took [45] iter.\n",
      "After training with LBFGS: \n",
      "Total number of parameters: 2048\n",
      "Warning: Desired error not necessarily achieved due to precision loss.\n",
      "         Current function value: -12897.869141\n",
      "         Iterations: 10\n",
      "         Function evaluations: 89\n",
      "         Gradient evaluations: 87\n",
      "         Hessian evaluations: 65\n",
      "Inverse HVP took 2.59824490547 sec\n",
      "Loaded inverse HVP from output/dogfish_900_300_inception_wd-0.001-test-179.npz\n",
      "Inverse HVP took 0.000592947006226 sec\n",
      "Entering the for loop\n"
     ]
    },
    {
     "name": "stderr",
     "output_type": "stream",
     "text": [
      "[iter_attack.py:171 -     iterative_attack() ] Attach_iter 30 perturbation shape: (1, 268203), perturbation: [[ 0.86679435  0.85353029  0.37356156 ... -1.85623443  0.70216453\n",
      "   0.14889812]]\n",
      "[iter_attack.py:67 - poison_with_influence_proj_gradient_step() ] -- max: 248.5900421142578, mean: 0.0010061429250084672, min: -307.44427490234375\n"
     ]
    },
    {
     "name": "stdout",
     "output_type": "stream",
     "text": [
      "---adfadfdafadfdafadfa\n",
      "\n",
      "\n",
      "[[-0.86679435 -0.85353029 -0.37356156 ...  1.85623443 -0.70216453\n",
      "  -0.14889812]]\n",
      "1 1\n",
      "Shape (1, 2048)\n",
      "Using normal model\n"
     ]
    },
    {
     "name": "stderr",
     "output_type": "stream",
     "text": [
      "[genericNeuralNet.py:331 -     print_model_eval() ] Train loss (w reg) on all data: 0.0132899005\n",
      "[genericNeuralNet.py:332 -     print_model_eval() ] Train loss (w/o reg) on all data: 0.0043712044\n",
      "[genericNeuralNet.py:334 -     print_model_eval() ] Test loss (w/o reg) on all data: 0.04552823\n",
      "[genericNeuralNet.py:335 -     print_model_eval() ] Train acc on all data:  1.0\n",
      "[genericNeuralNet.py:336 -     print_model_eval() ] Test acc on all data:   0.9766666666666667\n",
      "[genericNeuralNet.py:338 -     print_model_eval() ] Norm of the mean of gradients: 0.0040406752\n",
      "[genericNeuralNet.py:339 -     print_model_eval() ] Norm of the params: 4.223434\n",
      "[iter_attack.py:209 -     iterative_attack() ] Test pred (full): [[0.7964958  0.20350417]]\n",
      "[iter_attack.py:212 -     iterative_attack() ] Test pred (top): [[0.7964958  0.20350417]]\n",
      "[iter_attack.py:151 -     iterative_attack() ] *** Iter: 31\n"
     ]
    },
    {
     "name": "stdout",
     "output_type": "stream",
     "text": [
      "LBFGS training took [27] iter.\n",
      "After training with LBFGS: \n",
      "Total number of parameters: 2048\n",
      "Warning: Desired error not necessarily achieved due to precision loss.\n",
      "         Current function value: -12581.923828\n",
      "         Iterations: 8\n",
      "         Function evaluations: 61\n",
      "         Gradient evaluations: 57\n",
      "         Hessian evaluations: 46\n",
      "Inverse HVP took 1.74896788597 sec\n",
      "Loaded inverse HVP from output/dogfish_900_300_inception_wd-0.001-test-179.npz\n",
      "Inverse HVP took 0.000585079193115 sec\n",
      "Entering the for loop\n"
     ]
    },
    {
     "name": "stderr",
     "output_type": "stream",
     "text": [
      "[iter_attack.py:171 -     iterative_attack() ] Attach_iter 31 perturbation shape: (1, 268203), perturbation: [[ 1.12114882 -1.44668007 -2.5660162  ...  1.57882023 -0.34295917\n",
      "  -0.78545547]]\n",
      "[iter_attack.py:67 - poison_with_influence_proj_gradient_step() ] -- max: 307.5249938964844, mean: 0.001620511724663454, min: -227.693359375\n"
     ]
    },
    {
     "name": "stdout",
     "output_type": "stream",
     "text": [
      "---adfadfdafadfdafadfa\n",
      "\n",
      "\n",
      "[[-1.12114882  1.44668007  2.5660162  ... -1.57882023  0.34295917\n",
      "   0.78545547]]\n",
      "1 1\n",
      "Shape (1, 2048)\n",
      "Using normal model\n"
     ]
    },
    {
     "name": "stderr",
     "output_type": "stream",
     "text": [
      "[genericNeuralNet.py:331 -     print_model_eval() ] Train loss (w reg) on all data: 0.013333376\n",
      "[genericNeuralNet.py:332 -     print_model_eval() ] Train loss (w/o reg) on all data: 0.004388556\n",
      "[genericNeuralNet.py:334 -     print_model_eval() ] Test loss (w/o reg) on all data: 0.04568174\n",
      "[genericNeuralNet.py:335 -     print_model_eval() ] Train acc on all data:  1.0\n",
      "[genericNeuralNet.py:336 -     print_model_eval() ] Test acc on all data:   0.9766666666666667\n",
      "[genericNeuralNet.py:338 -     print_model_eval() ] Norm of the mean of gradients: 0.004187844\n",
      "[genericNeuralNet.py:339 -     print_model_eval() ] Norm of the params: 4.2296147\n",
      "[iter_attack.py:209 -     iterative_attack() ] Test pred (full): [[0.7841804  0.21581964]]\n",
      "[iter_attack.py:212 -     iterative_attack() ] Test pred (top): [[0.7841804  0.21581964]]\n",
      "[iter_attack.py:151 -     iterative_attack() ] *** Iter: 32\n"
     ]
    },
    {
     "name": "stdout",
     "output_type": "stream",
     "text": [
      "LBFGS training took [43] iter.\n",
      "After training with LBFGS: \n",
      "Total number of parameters: 2048\n",
      "Warning: Desired error not necessarily achieved due to precision loss.\n",
      "         Current function value: -12157.105469\n",
      "         Iterations: 10\n",
      "         Function evaluations: 189\n",
      "         Gradient evaluations: 183\n",
      "         Hessian evaluations: 63\n",
      "Inverse HVP took 4.55200886726 sec\n",
      "Loaded inverse HVP from output/dogfish_900_300_inception_wd-0.001-test-179.npz\n",
      "Inverse HVP took 0.000586032867432 sec\n",
      "Entering the for loop\n"
     ]
    },
    {
     "name": "stderr",
     "output_type": "stream",
     "text": [
      "[iter_attack.py:171 -     iterative_attack() ] Attach_iter 32 perturbation shape: (1, 268203), perturbation: [[ 0.19193776  1.05255723  1.31455302 ... -1.54494441  0.63554549\n",
      "   0.13961911]]\n",
      "[iter_attack.py:67 - poison_with_influence_proj_gradient_step() ] -- max: 230.6021270751953, mean: -5.076969384936303e-06, min: -293.072265625\n"
     ]
    },
    {
     "name": "stdout",
     "output_type": "stream",
     "text": [
      "---adfadfdafadfdafadfa\n",
      "\n",
      "\n",
      "[[-0.19193776 -1.05255723 -1.31455302 ...  1.54494441 -0.63554549\n",
      "  -0.13961911]]\n",
      "1 1\n",
      "Shape (1, 2048)\n",
      "Using normal model\n"
     ]
    },
    {
     "name": "stderr",
     "output_type": "stream",
     "text": [
      "[genericNeuralNet.py:331 -     print_model_eval() ] Train loss (w reg) on all data: 0.013323398\n",
      "[genericNeuralNet.py:332 -     print_model_eval() ] Train loss (w/o reg) on all data: 0.004385659\n",
      "[genericNeuralNet.py:334 -     print_model_eval() ] Test loss (w/o reg) on all data: 0.045684718\n",
      "[genericNeuralNet.py:335 -     print_model_eval() ] Train acc on all data:  1.0\n",
      "[genericNeuralNet.py:336 -     print_model_eval() ] Test acc on all data:   0.9766666666666667\n",
      "[genericNeuralNet.py:338 -     print_model_eval() ] Norm of the mean of gradients: 0.0041121207\n",
      "[genericNeuralNet.py:339 -     print_model_eval() ] Norm of the params: 4.22794\n",
      "[iter_attack.py:209 -     iterative_attack() ] Test pred (full): [[0.77656865 0.2234314 ]]\n",
      "[iter_attack.py:212 -     iterative_attack() ] Test pred (top): [[0.77656865 0.2234314 ]]\n",
      "[iter_attack.py:151 -     iterative_attack() ] *** Iter: 33\n"
     ]
    },
    {
     "name": "stdout",
     "output_type": "stream",
     "text": [
      "LBFGS training took [37] iter.\n",
      "After training with LBFGS: \n",
      "Total number of parameters: 2048\n",
      "Warning: Desired error not necessarily achieved due to precision loss.\n",
      "         Current function value: -11876.353516\n",
      "         Iterations: 9\n",
      "         Function evaluations: 113\n",
      "         Gradient evaluations: 110\n",
      "         Hessian evaluations: 54\n",
      "Inverse HVP took 2.94642591476 sec\n",
      "Loaded inverse HVP from output/dogfish_900_300_inception_wd-0.001-test-179.npz\n",
      "Inverse HVP took 0.000580072402954 sec\n",
      "Entering the for loop\n"
     ]
    },
    {
     "name": "stderr",
     "output_type": "stream",
     "text": [
      "[iter_attack.py:171 -     iterative_attack() ] Attach_iter 33 perturbation shape: (1, 268203), perturbation: [[ 0.79377347 -0.8071692  -1.94722331 ...  1.62911177 -0.07272625\n",
      "  -1.09750557]]\n",
      "[iter_attack.py:67 - poison_with_influence_proj_gradient_step() ] -- max: 338.4441223144531, mean: 0.0012748190114122118, min: -228.7628173828125\n"
     ]
    },
    {
     "name": "stdout",
     "output_type": "stream",
     "text": [
      "---adfadfdafadfdafadfa\n",
      "\n",
      "\n",
      "[[-0.79377347  0.8071692   1.94722331 ... -1.62911177  0.07272625\n",
      "   1.09750557]]\n",
      "1 1\n",
      "Shape (1, 2048)\n",
      "Using normal model\n"
     ]
    },
    {
     "name": "stderr",
     "output_type": "stream",
     "text": [
      "[genericNeuralNet.py:331 -     print_model_eval() ] Train loss (w reg) on all data: 0.0133682005\n",
      "[genericNeuralNet.py:332 -     print_model_eval() ] Train loss (w/o reg) on all data: 0.004403394\n",
      "[genericNeuralNet.py:334 -     print_model_eval() ] Test loss (w/o reg) on all data: 0.045839023\n",
      "[genericNeuralNet.py:335 -     print_model_eval() ] Train acc on all data:  1.0\n",
      "[genericNeuralNet.py:336 -     print_model_eval() ] Test acc on all data:   0.9766666666666667\n",
      "[genericNeuralNet.py:338 -     print_model_eval() ] Norm of the mean of gradients: 0.0042613395\n",
      "[genericNeuralNet.py:339 -     print_model_eval() ] Norm of the params: 4.2343373\n",
      "[iter_attack.py:209 -     iterative_attack() ] Test pred (full): [[0.7650545  0.23494549]]\n",
      "[iter_attack.py:212 -     iterative_attack() ] Test pred (top): [[0.7650545  0.23494549]]\n",
      "[iter_attack.py:151 -     iterative_attack() ] *** Iter: 34\n"
     ]
    },
    {
     "name": "stdout",
     "output_type": "stream",
     "text": [
      "LBFGS training took [52] iter.\n",
      "After training with LBFGS: \n",
      "Total number of parameters: 2048\n",
      "Warning: Desired error not necessarily achieved due to precision loss.\n",
      "         Current function value: -11499.992188\n",
      "         Iterations: 9\n",
      "         Function evaluations: 87\n",
      "         Gradient evaluations: 84\n",
      "         Hessian evaluations: 56\n",
      "Inverse HVP took 2.47602510452 sec\n",
      "Loaded inverse HVP from output/dogfish_900_300_inception_wd-0.001-test-179.npz\n",
      "Inverse HVP took 0.000580072402954 sec\n",
      "Entering the for loop\n"
     ]
    },
    {
     "name": "stderr",
     "output_type": "stream",
     "text": [
      "[iter_attack.py:171 -     iterative_attack() ] Attach_iter 34 perturbation shape: (1, 268203), perturbation: [[ 0.91642058  0.66998303  0.50446975 ... -1.88821089  0.77913195\n",
      "   0.13680094]]\n",
      "[iter_attack.py:67 - poison_with_influence_proj_gradient_step() ] -- max: 293.0431213378906, mean: 0.0008556612949586455, min: -396.8294677734375\n"
     ]
    },
    {
     "name": "stdout",
     "output_type": "stream",
     "text": [
      "---adfadfdafadfdafadfa\n",
      "\n",
      "\n",
      "[[-0.91642058 -0.66998303 -0.50446975 ...  1.88821089 -0.77913195\n",
      "  -0.13680094]]\n",
      "1 1\n",
      "Shape (1, 2048)\n",
      "Using normal model\n"
     ]
    },
    {
     "name": "stderr",
     "output_type": "stream",
     "text": [
      "[genericNeuralNet.py:331 -     print_model_eval() ] Train loss (w reg) on all data: 0.013356896\n",
      "[genericNeuralNet.py:332 -     print_model_eval() ] Train loss (w/o reg) on all data: 0.0043994403\n",
      "[genericNeuralNet.py:334 -     print_model_eval() ] Test loss (w/o reg) on all data: 0.04572319\n",
      "[genericNeuralNet.py:335 -     print_model_eval() ] Train acc on all data:  1.0\n",
      "[genericNeuralNet.py:336 -     print_model_eval() ] Test acc on all data:   0.9766666666666667\n",
      "[genericNeuralNet.py:338 -     print_model_eval() ] Norm of the mean of gradients: 0.0041868216\n",
      "[genericNeuralNet.py:339 -     print_model_eval() ] Norm of the params: 4.232601\n",
      "[iter_attack.py:209 -     iterative_attack() ] Test pred (full): [[0.7580779  0.24192216]]\n",
      "[iter_attack.py:212 -     iterative_attack() ] Test pred (top): [[0.7580779  0.24192216]]\n",
      "[iter_attack.py:151 -     iterative_attack() ] *** Iter: 35\n"
     ]
    },
    {
     "name": "stdout",
     "output_type": "stream",
     "text": [
      "LBFGS training took [22] iter.\n",
      "After training with LBFGS: \n",
      "Total number of parameters: 2048\n",
      "Warning: Desired error not necessarily achieved due to precision loss.\n",
      "         Current function value: -11250.785156\n",
      "         Iterations: 8\n",
      "         Function evaluations: 88\n",
      "         Gradient evaluations: 84\n",
      "         Hessian evaluations: 43\n",
      "Inverse HVP took 2.2247710228 sec\n",
      "Loaded inverse HVP from output/dogfish_900_300_inception_wd-0.001-test-179.npz\n",
      "Inverse HVP took 0.000581026077271 sec\n",
      "Entering the for loop\n"
     ]
    },
    {
     "name": "stderr",
     "output_type": "stream",
     "text": [
      "[iter_attack.py:171 -     iterative_attack() ] Attach_iter 35 perturbation shape: (1, 268203), perturbation: [[ 0.16124177 -0.710935   -1.29410303 ...  1.21718669 -0.22044301\n",
      "  -0.54706037]]\n",
      "[iter_attack.py:67 - poison_with_influence_proj_gradient_step() ] -- max: 271.39373779296875, mean: 0.0011911943373838375, min: -225.3975830078125\n"
     ]
    },
    {
     "name": "stdout",
     "output_type": "stream",
     "text": [
      "---adfadfdafadfdafadfa\n",
      "\n",
      "\n",
      "[[-0.16124177  0.710935    1.29410303 ... -1.21718669  0.22044301\n",
      "   0.54706037]]\n",
      "1 1\n",
      "Shape (1, 2048)\n",
      "Using normal model\n"
     ]
    },
    {
     "name": "stderr",
     "output_type": "stream",
     "text": [
      "[genericNeuralNet.py:331 -     print_model_eval() ] Train loss (w reg) on all data: 0.013394808\n",
      "[genericNeuralNet.py:332 -     print_model_eval() ] Train loss (w/o reg) on all data: 0.0044160844\n",
      "[genericNeuralNet.py:334 -     print_model_eval() ] Test loss (w/o reg) on all data: 0.045929063\n",
      "[genericNeuralNet.py:335 -     print_model_eval() ] Train acc on all data:  1.0\n",
      "[genericNeuralNet.py:336 -     print_model_eval() ] Test acc on all data:   0.9766666666666667\n",
      "[genericNeuralNet.py:338 -     print_model_eval() ] Norm of the mean of gradients: 0.0042983335\n",
      "[genericNeuralNet.py:339 -     print_model_eval() ] Norm of the params: 4.2376227\n",
      "[iter_attack.py:209 -     iterative_attack() ] Test pred (full): [[0.74631906 0.25368094]]\n",
      "[iter_attack.py:212 -     iterative_attack() ] Test pred (top): [[0.74631906 0.25368094]]\n",
      "[iter_attack.py:151 -     iterative_attack() ] *** Iter: 36\n"
     ]
    },
    {
     "name": "stdout",
     "output_type": "stream",
     "text": [
      "LBFGS training took [45] iter.\n",
      "After training with LBFGS: \n",
      "Total number of parameters: 2048\n",
      "Warning: Desired error not necessarily achieved due to precision loss.\n",
      "         Current function value: -10877.310547\n",
      "         Iterations: 8\n",
      "         Function evaluations: 86\n",
      "         Gradient evaluations: 83\n",
      "         Hessian evaluations: 46\n",
      "Inverse HVP took 2.35391902924 sec\n",
      "Loaded inverse HVP from output/dogfish_900_300_inception_wd-0.001-test-179.npz\n",
      "Inverse HVP took 0.000591039657593 sec\n",
      "Entering the for loop\n"
     ]
    },
    {
     "name": "stderr",
     "output_type": "stream",
     "text": [
      "[iter_attack.py:171 -     iterative_attack() ] Attach_iter 36 perturbation shape: (1, 268203), perturbation: [[ 1.60831976  0.45606971 -0.48530981 ... -1.44334078  0.6802237\n",
      "   0.11992812]]\n",
      "[iter_attack.py:67 - poison_with_influence_proj_gradient_step() ] -- max: 248.3123321533203, mean: 0.0005951351332993867, min: -308.0323791503906\n"
     ]
    },
    {
     "name": "stdout",
     "output_type": "stream",
     "text": [
      "---adfadfdafadfdafadfa\n",
      "\n",
      "\n",
      "[[-1.60831976 -0.45606971  0.48530981 ...  1.44334078 -0.6802237\n",
      "  -0.11992812]]\n",
      "1 1\n",
      "Shape (1, 2048)\n",
      "Using normal model\n"
     ]
    },
    {
     "name": "stderr",
     "output_type": "stream",
     "text": [
      "[genericNeuralNet.py:331 -     print_model_eval() ] Train loss (w reg) on all data: 0.013401391\n",
      "[genericNeuralNet.py:332 -     print_model_eval() ] Train loss (w/o reg) on all data: 0.004414464\n",
      "[genericNeuralNet.py:334 -     print_model_eval() ] Test loss (w/o reg) on all data: 0.04583983\n",
      "[genericNeuralNet.py:335 -     print_model_eval() ] Train acc on all data:  1.0\n",
      "[genericNeuralNet.py:336 -     print_model_eval() ] Test acc on all data:   0.9766666666666667\n",
      "[genericNeuralNet.py:338 -     print_model_eval() ] Norm of the mean of gradients: 0.0043505356\n",
      "[genericNeuralNet.py:339 -     print_model_eval() ] Norm of the params: 4.2395587\n",
      "[iter_attack.py:209 -     iterative_attack() ] Test pred (full): [[0.7394486 0.2605514]]\n",
      "[iter_attack.py:212 -     iterative_attack() ] Test pred (top): [[0.7394486 0.2605514]]\n",
      "[iter_attack.py:151 -     iterative_attack() ] *** Iter: 37\n"
     ]
    },
    {
     "name": "stdout",
     "output_type": "stream",
     "text": [
      "LBFGS training took [38] iter.\n",
      "After training with LBFGS: \n",
      "Total number of parameters: 2048\n",
      "Warning: Desired error not necessarily achieved due to precision loss.\n",
      "         Current function value: -10649.763672\n",
      "         Iterations: 10\n",
      "         Function evaluations: 87\n",
      "         Gradient evaluations: 86\n",
      "         Hessian evaluations: 58\n",
      "Inverse HVP took 2.49790000916 sec\n",
      "Loaded inverse HVP from output/dogfish_900_300_inception_wd-0.001-test-179.npz\n",
      "Inverse HVP took 0.000625133514404 sec\n",
      "Entering the for loop\n"
     ]
    },
    {
     "name": "stderr",
     "output_type": "stream",
     "text": [
      "[iter_attack.py:171 -     iterative_attack() ] Attach_iter 37 perturbation shape: (1, 268203), perturbation: [[-0.04112414 -0.26685742 -0.29230326 ...  1.09225583 -0.18804961\n",
      "  -0.6999625 ]]\n",
      "[iter_attack.py:67 - poison_with_influence_proj_gradient_step() ] -- max: 231.70382690429688, mean: 0.000989099423211611, min: -218.96807861328125\n"
     ]
    },
    {
     "name": "stdout",
     "output_type": "stream",
     "text": [
      "---adfadfdafadfdafadfa\n",
      "\n",
      "\n",
      "[[ 0.04112414  0.26685742  0.29230326 ... -1.09225583  0.18804961\n",
      "   0.6999625 ]]\n",
      "1 1\n",
      "Shape (1, 2048)\n",
      "Using normal model\n"
     ]
    },
    {
     "name": "stderr",
     "output_type": "stream",
     "text": [
      "[genericNeuralNet.py:331 -     print_model_eval() ] Train loss (w reg) on all data: 0.01341438\n",
      "[genericNeuralNet.py:332 -     print_model_eval() ] Train loss (w/o reg) on all data: 0.004425221\n",
      "[genericNeuralNet.py:334 -     print_model_eval() ] Test loss (w/o reg) on all data: 0.046046935\n",
      "[genericNeuralNet.py:335 -     print_model_eval() ] Train acc on all data:  1.0\n",
      "[genericNeuralNet.py:336 -     print_model_eval() ] Test acc on all data:   0.9766666666666667\n",
      "[genericNeuralNet.py:338 -     print_model_eval() ] Norm of the mean of gradients: 0.004352682\n",
      "[genericNeuralNet.py:339 -     print_model_eval() ] Norm of the params: 4.2400846\n",
      "[iter_attack.py:209 -     iterative_attack() ] Test pred (full): [[0.72932404 0.27067593]]\n",
      "[iter_attack.py:212 -     iterative_attack() ] Test pred (top): [[0.72932404 0.27067593]]\n",
      "[iter_attack.py:151 -     iterative_attack() ] *** Iter: 38\n"
     ]
    },
    {
     "name": "stdout",
     "output_type": "stream",
     "text": [
      "LBFGS training took [39] iter.\n",
      "After training with LBFGS: \n",
      "Total number of parameters: 2048\n",
      "Warning: Desired error not necessarily achieved due to precision loss.\n",
      "         Current function value: -10333.304688\n",
      "         Iterations: 12\n",
      "         Function evaluations: 15\n",
      "         Gradient evaluations: 26\n",
      "         Hessian evaluations: 82\n",
      "Inverse HVP took 1.29850816727 sec\n",
      "Loaded inverse HVP from output/dogfish_900_300_inception_wd-0.001-test-179.npz\n",
      "Inverse HVP took 0.000572919845581 sec\n",
      "Entering the for loop\n"
     ]
    },
    {
     "name": "stderr",
     "output_type": "stream",
     "text": [
      "[iter_attack.py:171 -     iterative_attack() ] Attach_iter 38 perturbation shape: (1, 268203), perturbation: [[ 1.23100364 -0.22016752 -1.22586262 ... -0.61990464  0.61846149\n",
      "  -0.20091581]]\n",
      "[iter_attack.py:67 - poison_with_influence_proj_gradient_step() ] -- max: 246.23977661132812, mean: 0.001207026223834657, min: -310.4735107421875\n"
     ]
    },
    {
     "name": "stdout",
     "output_type": "stream",
     "text": [
      "---adfadfdafadfdafadfa\n",
      "\n",
      "\n",
      "[[-1.23100364  0.22016752  1.22586262 ...  0.61990464 -0.61846149\n",
      "   0.20091581]]\n",
      "1 1\n",
      "Shape (1, 2048)\n",
      "Using normal model\n"
     ]
    },
    {
     "name": "stderr",
     "output_type": "stream",
     "text": [
      "[genericNeuralNet.py:331 -     print_model_eval() ] Train loss (w reg) on all data: 0.013431368\n",
      "[genericNeuralNet.py:332 -     print_model_eval() ] Train loss (w/o reg) on all data: 0.0044272393\n",
      "[genericNeuralNet.py:334 -     print_model_eval() ] Test loss (w/o reg) on all data: 0.04592569\n",
      "[genericNeuralNet.py:335 -     print_model_eval() ] Train acc on all data:  1.0\n",
      "[genericNeuralNet.py:336 -     print_model_eval() ] Test acc on all data:   0.9766666666666667\n",
      "[genericNeuralNet.py:338 -     print_model_eval() ] Norm of the mean of gradients: 0.004412921\n",
      "[genericNeuralNet.py:339 -     print_model_eval() ] Norm of the params: 4.2436137\n",
      "[iter_attack.py:209 -     iterative_attack() ] Test pred (full): [[0.7212537  0.27874634]]\n",
      "[iter_attack.py:212 -     iterative_attack() ] Test pred (top): [[0.7212537  0.27874634]]\n",
      "[iter_attack.py:151 -     iterative_attack() ] *** Iter: 39\n"
     ]
    },
    {
     "name": "stdout",
     "output_type": "stream",
     "text": [
      "LBFGS training took [35] iter.\n",
      "After training with LBFGS: \n",
      "Total number of parameters: 2048\n",
      "Warning: Desired error not necessarily achieved due to precision loss.\n",
      "         Current function value: -10079.832031\n",
      "         Iterations: 8\n",
      "         Function evaluations: 90\n",
      "         Gradient evaluations: 87\n",
      "         Hessian evaluations: 39\n",
      "Inverse HVP took 2.24923920631 sec\n",
      "Loaded inverse HVP from output/dogfish_900_300_inception_wd-0.001-test-179.npz\n",
      "Inverse HVP took 0.000579118728638 sec\n",
      "Entering the for loop\n"
     ]
    },
    {
     "name": "stderr",
     "output_type": "stream",
     "text": [
      "[iter_attack.py:171 -     iterative_attack() ] Attach_iter 39 perturbation shape: (1, 268203), perturbation: [[ 0.22581251  0.66377097  0.60137832 ...  0.68916613 -0.14339811\n",
      "  -0.50875723]]\n",
      "[iter_attack.py:67 - poison_with_influence_proj_gradient_step() ] -- max: 257.79638671875, mean: 0.0014055128496440526, min: -239.65496826171875\n"
     ]
    },
    {
     "name": "stdout",
     "output_type": "stream",
     "text": [
      "---adfadfdafadfdafadfa\n",
      "\n",
      "\n",
      "[[-0.22581251 -0.66377097 -0.60137832 ... -0.68916613  0.14339811\n",
      "   0.50875723]]\n",
      "1 1\n",
      "Shape (1, 2048)\n",
      "Using normal model\n"
     ]
    },
    {
     "name": "stderr",
     "output_type": "stream",
     "text": [
      "[genericNeuralNet.py:331 -     print_model_eval() ] Train loss (w reg) on all data: 0.013444042\n",
      "[genericNeuralNet.py:332 -     print_model_eval() ] Train loss (w/o reg) on all data: 0.004436844\n",
      "[genericNeuralNet.py:334 -     print_model_eval() ] Test loss (w/o reg) on all data: 0.046070326\n",
      "[genericNeuralNet.py:335 -     print_model_eval() ] Train acc on all data:  1.0\n",
      "[genericNeuralNet.py:336 -     print_model_eval() ] Test acc on all data:   0.9783333333333334\n",
      "[genericNeuralNet.py:338 -     print_model_eval() ] Norm of the mean of gradients: 0.0044352384\n",
      "[genericNeuralNet.py:339 -     print_model_eval() ] Norm of the params: 4.244337\n",
      "[iter_attack.py:209 -     iterative_attack() ] Test pred (full): [[0.7126716 0.2873284]]\n",
      "[iter_attack.py:212 -     iterative_attack() ] Test pred (top): [[0.7126716 0.2873284]]\n",
      "[iter_attack.py:151 -     iterative_attack() ] *** Iter: 40\n"
     ]
    },
    {
     "name": "stdout",
     "output_type": "stream",
     "text": [
      "LBFGS training took [39] iter.\n",
      "After training with LBFGS: \n",
      "Total number of parameters: 2048\n",
      "Warning: Desired error not necessarily achieved due to precision loss.\n",
      "         Current function value: -9821.774414\n",
      "         Iterations: 8\n",
      "         Function evaluations: 71\n",
      "         Gradient evaluations: 68\n",
      "         Hessian evaluations: 42\n",
      "Inverse HVP took 1.98251795769 sec\n",
      "Loaded inverse HVP from output/dogfish_900_300_inception_wd-0.001-test-179.npz\n",
      "Inverse HVP took 0.000578880310059 sec\n",
      "Entering the for loop\n"
     ]
    },
    {
     "name": "stderr",
     "output_type": "stream",
     "text": [
      "[iter_attack.py:171 -     iterative_attack() ] Attach_iter 40 perturbation shape: (1, 268203), perturbation: [[ 0.88205314 -0.30977738 -1.64020848 ... -0.8637194   0.58245701\n",
      "  -0.18687218]]\n",
      "[iter_attack.py:67 - poison_with_influence_proj_gradient_step() ] -- max: 281.4382629394531, mean: 0.0015641597961114583, min: -337.8988342285156\n"
     ]
    },
    {
     "name": "stdout",
     "output_type": "stream",
     "text": [
      "---adfadfdafadfdafadfa\n",
      "\n",
      "\n",
      "[[-0.88205314  0.30977738  1.64020848 ...  0.8637194  -0.58245701\n",
      "   0.18687218]]\n",
      "1 1\n",
      "Shape (1, 2048)\n",
      "Using normal model\n"
     ]
    },
    {
     "name": "stderr",
     "output_type": "stream",
     "text": [
      "[genericNeuralNet.py:331 -     print_model_eval() ] Train loss (w reg) on all data: 0.013453304\n",
      "[genericNeuralNet.py:332 -     print_model_eval() ] Train loss (w/o reg) on all data: 0.004435162\n",
      "[genericNeuralNet.py:334 -     print_model_eval() ] Test loss (w/o reg) on all data: 0.04599438\n",
      "[genericNeuralNet.py:335 -     print_model_eval() ] Train acc on all data:  1.0\n",
      "[genericNeuralNet.py:336 -     print_model_eval() ] Test acc on all data:   0.9766666666666667\n",
      "[genericNeuralNet.py:338 -     print_model_eval() ] Norm of the mean of gradients: 0.004497499\n",
      "[genericNeuralNet.py:339 -     print_model_eval() ] Norm of the params: 4.246915\n",
      "[iter_attack.py:209 -     iterative_attack() ] Test pred (full): [[0.70492566 0.29507434]]\n",
      "[iter_attack.py:212 -     iterative_attack() ] Test pred (top): [[0.70492566 0.29507434]]\n",
      "[iter_attack.py:151 -     iterative_attack() ] *** Iter: 41\n"
     ]
    },
    {
     "name": "stdout",
     "output_type": "stream",
     "text": [
      "LBFGS training took [34] iter.\n",
      "After training with LBFGS: \n",
      "Total number of parameters: 2048\n",
      "Warning: Desired error not necessarily achieved due to precision loss.\n",
      "         Current function value: -9586.337891\n",
      "         Iterations: 9\n",
      "         Function evaluations: 94\n",
      "         Gradient evaluations: 92\n",
      "         Hessian evaluations: 58\n",
      "Inverse HVP took 2.53752589226 sec\n",
      "Loaded inverse HVP from output/dogfish_900_300_inception_wd-0.001-test-179.npz\n",
      "Inverse HVP took 0.000578880310059 sec\n",
      "Entering the for loop\n"
     ]
    },
    {
     "name": "stderr",
     "output_type": "stream",
     "text": [
      "[iter_attack.py:171 -     iterative_attack() ] Attach_iter 41 perturbation shape: (1, 268203), perturbation: [[ 0.41715884  0.40757185  0.16311538 ...  0.41915262 -0.08547825\n",
      "  -0.41710782]]\n",
      "[iter_attack.py:67 - poison_with_influence_proj_gradient_step() ] -- max: 228.07772827148438, mean: 0.0010869606140066993, min: -208.20790100097656\n"
     ]
    },
    {
     "name": "stdout",
     "output_type": "stream",
     "text": [
      "---adfadfdafadfdafadfa\n",
      "\n",
      "\n",
      "[[-0.41715884 -0.40757185 -0.16311538 ... -0.41915262  0.08547825\n",
      "   0.41710782]]\n",
      "1 1\n",
      "Shape (1, 2048)\n",
      "Using normal model\n"
     ]
    },
    {
     "name": "stderr",
     "output_type": "stream",
     "text": [
      "[genericNeuralNet.py:331 -     print_model_eval() ] Train loss (w reg) on all data: 0.013469508\n",
      "[genericNeuralNet.py:332 -     print_model_eval() ] Train loss (w/o reg) on all data: 0.004447103\n",
      "[genericNeuralNet.py:334 -     print_model_eval() ] Test loss (w/o reg) on all data: 0.0460902\n",
      "[genericNeuralNet.py:335 -     print_model_eval() ] Train acc on all data:  1.0\n",
      "[genericNeuralNet.py:336 -     print_model_eval() ] Test acc on all data:   0.9783333333333334\n",
      "[genericNeuralNet.py:338 -     print_model_eval() ] Norm of the mean of gradients: 0.004487795\n",
      "[genericNeuralNet.py:339 -     print_model_eval() ] Norm of the params: 4.247918\n",
      "[iter_attack.py:209 -     iterative_attack() ] Test pred (full): [[0.6971455  0.30285448]]\n",
      "[iter_attack.py:212 -     iterative_attack() ] Test pred (top): [[0.6971455  0.30285448]]\n",
      "[iter_attack.py:151 -     iterative_attack() ] *** Iter: 42\n"
     ]
    },
    {
     "name": "stdout",
     "output_type": "stream",
     "text": [
      "LBFGS training took [39] iter.\n",
      "After training with LBFGS: \n",
      "Total number of parameters: 2048\n",
      "Warning: Desired error not necessarily achieved due to precision loss.\n",
      "         Current function value: -9359.610352\n",
      "         Iterations: 8\n",
      "         Function evaluations: 76\n",
      "         Gradient evaluations: 73\n",
      "         Hessian evaluations: 44\n",
      "Inverse HVP took 2.05969381332 sec\n",
      "Loaded inverse HVP from output/dogfish_900_300_inception_wd-0.001-test-179.npz\n",
      "Inverse HVP took 0.000575065612793 sec\n",
      "Entering the for loop\n"
     ]
    },
    {
     "name": "stderr",
     "output_type": "stream",
     "text": [
      "[iter_attack.py:171 -     iterative_attack() ] Attach_iter 42 perturbation shape: (1, 268203), perturbation: [[ 0.95362431 -0.45657098 -1.64121354 ... -0.26702109  0.26582479\n",
      "  -0.19535905]]\n",
      "[iter_attack.py:67 - poison_with_influence_proj_gradient_step() ] -- max: 207.86497497558594, mean: 0.0007429632083092276, min: -245.9270477294922\n"
     ]
    },
    {
     "name": "stdout",
     "output_type": "stream",
     "text": [
      "---adfadfdafadfdafadfa\n",
      "\n",
      "\n",
      "[[-0.95362431  0.45657098  1.64121354 ...  0.26702109 -0.26582479\n",
      "   0.19535905]]\n",
      "1 1\n",
      "Shape (1, 2048)\n",
      "Using normal model\n"
     ]
    },
    {
     "name": "stderr",
     "output_type": "stream",
     "text": [
      "[genericNeuralNet.py:331 -     print_model_eval() ] Train loss (w reg) on all data: 0.0134768775\n",
      "[genericNeuralNet.py:332 -     print_model_eval() ] Train loss (w/o reg) on all data: 0.0044449633\n",
      "[genericNeuralNet.py:334 -     print_model_eval() ] Test loss (w/o reg) on all data: 0.046053335\n",
      "[genericNeuralNet.py:335 -     print_model_eval() ] Train acc on all data:  1.0\n",
      "[genericNeuralNet.py:336 -     print_model_eval() ] Test acc on all data:   0.9766666666666667\n",
      "[genericNeuralNet.py:338 -     print_model_eval() ] Norm of the mean of gradients: 0.0045432\n",
      "[genericNeuralNet.py:339 -     print_model_eval() ] Norm of the params: 4.2501564\n",
      "[iter_attack.py:209 -     iterative_attack() ] Test pred (full): [[0.6906186  0.30938148]]\n",
      "[iter_attack.py:212 -     iterative_attack() ] Test pred (top): [[0.6906186  0.30938148]]\n",
      "[iter_attack.py:151 -     iterative_attack() ] *** Iter: 43\n"
     ]
    },
    {
     "name": "stdout",
     "output_type": "stream",
     "text": [
      "LBFGS training took [41] iter.\n",
      "After training with LBFGS: \n",
      "Total number of parameters: 2048\n",
      "Warning: Desired error not necessarily achieved due to precision loss.\n",
      "         Current function value: -9165.080078\n",
      "         Iterations: 10\n",
      "         Function evaluations: 82\n",
      "         Gradient evaluations: 80\n",
      "         Hessian evaluations: 55\n",
      "Inverse HVP took 2.28678703308 sec\n",
      "Loaded inverse HVP from output/dogfish_900_300_inception_wd-0.001-test-179.npz\n",
      "Inverse HVP took 0.000561952590942 sec\n",
      "Entering the for loop\n"
     ]
    },
    {
     "name": "stderr",
     "output_type": "stream",
     "text": [
      "[iter_attack.py:171 -     iterative_attack() ] Attach_iter 43 perturbation shape: (1, 268203), perturbation: [[ 1.09836686  0.24728507 -0.3797788  ...  0.78191876 -0.055278\n",
      "  -0.40606546]]\n",
      "[iter_attack.py:67 - poison_with_influence_proj_gradient_step() ] -- max: 203.11282348632812, mean: 0.0014681712884740952, min: -222.5504150390625\n"
     ]
    },
    {
     "name": "stdout",
     "output_type": "stream",
     "text": [
      "---adfadfdafadfdafadfa\n",
      "\n",
      "\n",
      "[[-1.09836686 -0.24728507  0.3797788  ... -0.78191876  0.055278\n",
      "   0.40606546]]\n",
      "1 1\n",
      "Shape (1, 2048)\n",
      "Using normal model\n"
     ]
    },
    {
     "name": "stderr",
     "output_type": "stream",
     "text": [
      "[genericNeuralNet.py:331 -     print_model_eval() ] Train loss (w reg) on all data: 0.013483176\n",
      "[genericNeuralNet.py:332 -     print_model_eval() ] Train loss (w/o reg) on all data: 0.0044525\n",
      "[genericNeuralNet.py:334 -     print_model_eval() ] Test loss (w/o reg) on all data: 0.04607727\n",
      "[genericNeuralNet.py:335 -     print_model_eval() ] Train acc on all data:  1.0\n",
      "[genericNeuralNet.py:336 -     print_model_eval() ] Test acc on all data:   0.9783333333333334\n",
      "[genericNeuralNet.py:338 -     print_model_eval() ] Norm of the mean of gradients: 0.0045188605\n",
      "[genericNeuralNet.py:339 -     print_model_eval() ] Norm of the params: 4.249866\n",
      "[iter_attack.py:209 -     iterative_attack() ] Test pred (full): [[0.68228644 0.31771356]]\n",
      "[iter_attack.py:212 -     iterative_attack() ] Test pred (top): [[0.68228644 0.31771356]]\n",
      "[iter_attack.py:151 -     iterative_attack() ] *** Iter: 44\n"
     ]
    },
    {
     "name": "stdout",
     "output_type": "stream",
     "text": [
      "LBFGS training took [21] iter.\n",
      "After training with LBFGS: \n",
      "Total number of parameters: 2048\n",
      "Warning: Desired error not necessarily achieved due to precision loss.\n",
      "         Current function value: -8928.544922\n",
      "         Iterations: 8\n",
      "         Function evaluations: 94\n",
      "         Gradient evaluations: 91\n",
      "         Hessian evaluations: 42\n",
      "Inverse HVP took 2.44124102592 sec\n",
      "Loaded inverse HVP from output/dogfish_900_300_inception_wd-0.001-test-179.npz\n",
      "Inverse HVP took 0.000574827194214 sec\n",
      "Entering the for loop\n"
     ]
    },
    {
     "name": "stderr",
     "output_type": "stream",
     "text": [
      "[iter_attack.py:171 -     iterative_attack() ] Attach_iter 44 perturbation shape: (1, 268203), perturbation: [[-0.5179854  -0.614721   -0.31222278 ... -0.10458228  0.36085489\n",
      "  -0.56111866]]\n",
      "[iter_attack.py:67 - poison_with_influence_proj_gradient_step() ] -- max: 181.5831298828125, mean: 0.0005784334366988333, min: -135.0999755859375\n"
     ]
    },
    {
     "name": "stdout",
     "output_type": "stream",
     "text": [
      "---adfadfdafadfdafadfa\n",
      "\n",
      "\n",
      "[[ 0.5179854   0.614721    0.31222278 ...  0.10458228 -0.36085489\n",
      "   0.56111866]]\n",
      "1 1\n",
      "Shape (1, 2048)\n",
      "Using normal model\n"
     ]
    },
    {
     "name": "stderr",
     "output_type": "stream",
     "text": [
      "[genericNeuralNet.py:331 -     print_model_eval() ] Train loss (w reg) on all data: 0.013498515\n",
      "[genericNeuralNet.py:332 -     print_model_eval() ] Train loss (w/o reg) on all data: 0.004454191\n",
      "[genericNeuralNet.py:334 -     print_model_eval() ] Test loss (w/o reg) on all data: 0.046175513\n",
      "[genericNeuralNet.py:335 -     print_model_eval() ] Train acc on all data:  1.0\n",
      "[genericNeuralNet.py:336 -     print_model_eval() ] Test acc on all data:   0.9783333333333334\n",
      "[genericNeuralNet.py:338 -     print_model_eval() ] Norm of the mean of gradients: 0.004579459\n",
      "[genericNeuralNet.py:339 -     print_model_eval() ] Norm of the params: 4.253075\n",
      "[iter_attack.py:209 -     iterative_attack() ] Test pred (full): [[0.6747156  0.32528442]]\n",
      "[iter_attack.py:212 -     iterative_attack() ] Test pred (top): [[0.6747156  0.32528442]]\n",
      "[iter_attack.py:151 -     iterative_attack() ] *** Iter: 45\n"
     ]
    },
    {
     "name": "stdout",
     "output_type": "stream",
     "text": [
      "LBFGS training took [37] iter.\n",
      "After training with LBFGS: \n",
      "Total number of parameters: 2048\n",
      "Warning: Desired error not necessarily achieved due to precision loss.\n",
      "         Current function value: -8708.237305\n",
      "         Iterations: 8\n",
      "         Function evaluations: 84\n",
      "         Gradient evaluations: 81\n",
      "         Hessian evaluations: 46\n",
      "Inverse HVP took 2.28075790405 sec\n",
      "Loaded inverse HVP from output/dogfish_900_300_inception_wd-0.001-test-179.npz\n",
      "Inverse HVP took 0.000581026077271 sec\n",
      "Entering the for loop\n"
     ]
    },
    {
     "name": "stderr",
     "output_type": "stream",
     "text": [
      "[iter_attack.py:171 -     iterative_attack() ] Attach_iter 45 perturbation shape: (1, 268203), perturbation: [[ 1.38381088 -0.17036223 -1.13290334 ...  0.52576137 -0.29083094\n",
      "  -0.0803625 ]]\n",
      "[iter_attack.py:67 - poison_with_influence_proj_gradient_step() ] -- max: 217.72213745117188, mean: 0.0013854279688320815, min: -259.9573059082031\n"
     ]
    },
    {
     "name": "stdout",
     "output_type": "stream",
     "text": [
      "---adfadfdafadfdafadfa\n",
      "\n",
      "\n",
      "[[-1.38381088  0.17036223  1.13290334 ... -0.52576137  0.29083094\n",
      "   0.0803625 ]]\n",
      "1 1\n",
      "Shape (1, 2048)\n",
      "Using normal model\n"
     ]
    },
    {
     "name": "stderr",
     "output_type": "stream",
     "text": [
      "[genericNeuralNet.py:331 -     print_model_eval() ] Train loss (w reg) on all data: 0.013510369\n",
      "[genericNeuralNet.py:332 -     print_model_eval() ] Train loss (w/o reg) on all data: 0.0044627315\n",
      "[genericNeuralNet.py:334 -     print_model_eval() ] Test loss (w/o reg) on all data: 0.046144184\n",
      "[genericNeuralNet.py:335 -     print_model_eval() ] Train acc on all data:  1.0\n",
      "[genericNeuralNet.py:336 -     print_model_eval() ] Test acc on all data:   0.9783333333333334\n",
      "[genericNeuralNet.py:338 -     print_model_eval() ] Norm of the mean of gradients: 0.004608419\n",
      "[genericNeuralNet.py:339 -     print_model_eval() ] Norm of the params: 4.253854\n",
      "[iter_attack.py:209 -     iterative_attack() ] Test pred (full): [[0.6660275  0.33397248]]\n",
      "[iter_attack.py:212 -     iterative_attack() ] Test pred (top): [[0.6660275  0.33397248]]\n",
      "[iter_attack.py:151 -     iterative_attack() ] *** Iter: 46\n"
     ]
    },
    {
     "name": "stdout",
     "output_type": "stream",
     "text": [
      "LBFGS training took [47] iter.\n",
      "After training with LBFGS: \n",
      "Total number of parameters: 2048\n",
      "Warning: Desired error not necessarily achieved due to precision loss.\n",
      "         Current function value: -8470.777344\n",
      "         Iterations: 9\n",
      "         Function evaluations: 91\n",
      "         Gradient evaluations: 88\n",
      "         Hessian evaluations: 55\n",
      "Inverse HVP took 2.70114707947 sec\n",
      "Loaded inverse HVP from output/dogfish_900_300_inception_wd-0.001-test-179.npz\n",
      "Inverse HVP took 0.000550031661987 sec\n",
      "Entering the for loop\n"
     ]
    },
    {
     "name": "stderr",
     "output_type": "stream",
     "text": [
      "[iter_attack.py:171 -     iterative_attack() ] Attach_iter 46 perturbation shape: (1, 268203), perturbation: [[-0.28634912 -0.32462108 -0.31956252 ...  0.33606514  0.50534379\n",
      "  -0.90064764]]\n",
      "[iter_attack.py:67 - poison_with_influence_proj_gradient_step() ] -- max: 179.71084594726562, mean: 0.000752251898570623, min: -143.29806518554688\n"
     ]
    },
    {
     "name": "stdout",
     "output_type": "stream",
     "text": [
      "---adfadfdafadfdafadfa\n",
      "\n",
      "\n",
      "[[ 0.28634912  0.32462108  0.31956252 ... -0.33606514 -0.50534379\n",
      "   0.90064764]]\n",
      "1 1\n",
      "Shape (1, 2048)\n",
      "Using normal model\n"
     ]
    },
    {
     "name": "stderr",
     "output_type": "stream",
     "text": [
      "[genericNeuralNet.py:331 -     print_model_eval() ] Train loss (w reg) on all data: 0.013519361\n",
      "[genericNeuralNet.py:332 -     print_model_eval() ] Train loss (w/o reg) on all data: 0.0044624675\n",
      "[genericNeuralNet.py:334 -     print_model_eval() ] Test loss (w/o reg) on all data: 0.04622233\n",
      "[genericNeuralNet.py:335 -     print_model_eval() ] Train acc on all data:  1.0\n",
      "[genericNeuralNet.py:336 -     print_model_eval() ] Test acc on all data:   0.98\n",
      "[genericNeuralNet.py:338 -     print_model_eval() ] Norm of the mean of gradients: 0.004630999\n",
      "[genericNeuralNet.py:339 -     print_model_eval() ] Norm of the params: 4.2560296\n",
      "[iter_attack.py:209 -     iterative_attack() ] Test pred (full): [[0.65949094 0.34050906]]\n",
      "[iter_attack.py:212 -     iterative_attack() ] Test pred (top): [[0.65949094 0.34050906]]\n",
      "[iter_attack.py:151 -     iterative_attack() ] *** Iter: 47\n"
     ]
    },
    {
     "name": "stdout",
     "output_type": "stream",
     "text": [
      "LBFGS training took [38] iter.\n",
      "After training with LBFGS: \n",
      "Total number of parameters: 2048\n",
      "Warning: Desired error not necessarily achieved due to precision loss.\n",
      "         Current function value: -8286.978516\n",
      "         Iterations: 11\n",
      "         Function evaluations: 189\n",
      "         Gradient evaluations: 185\n",
      "         Hessian evaluations: 76\n",
      "Inverse HVP took 4.77638912201 sec\n",
      "Loaded inverse HVP from output/dogfish_900_300_inception_wd-0.001-test-179.npz\n",
      "Inverse HVP took 0.000579118728638 sec\n",
      "Entering the for loop\n"
     ]
    },
    {
     "name": "stderr",
     "output_type": "stream",
     "text": [
      "[iter_attack.py:171 -     iterative_attack() ] Attach_iter 47 perturbation shape: (1, 268203), perturbation: [[ 1.17228997 -0.07850909 -1.03592372 ...  0.39280438 -0.20698041\n",
      "  -0.1172415 ]]\n",
      "[iter_attack.py:67 - poison_with_influence_proj_gradient_step() ] -- max: 224.83486938476562, mean: 0.001643288971134334, min: -299.7818298339844\n"
     ]
    },
    {
     "name": "stdout",
     "output_type": "stream",
     "text": [
      "---adfadfdafadfdafadfa\n",
      "\n",
      "\n",
      "[[-1.17228997  0.07850909  1.03592372 ... -0.39280438  0.20698041\n",
      "   0.1172415 ]]\n",
      "1 1\n",
      "Shape (1, 2048)\n",
      "Using normal model\n"
     ]
    },
    {
     "name": "stderr",
     "output_type": "stream",
     "text": [
      "[genericNeuralNet.py:331 -     print_model_eval() ] Train loss (w reg) on all data: 0.013530352\n",
      "[genericNeuralNet.py:332 -     print_model_eval() ] Train loss (w/o reg) on all data: 0.0044704797\n",
      "[genericNeuralNet.py:334 -     print_model_eval() ] Test loss (w/o reg) on all data: 0.04620807\n",
      "[genericNeuralNet.py:335 -     print_model_eval() ] Train acc on all data:  1.0\n",
      "[genericNeuralNet.py:336 -     print_model_eval() ] Test acc on all data:   0.9783333333333334\n",
      "[genericNeuralNet.py:338 -     print_model_eval() ] Norm of the mean of gradients: 0.004670926\n",
      "[genericNeuralNet.py:339 -     print_model_eval() ] Norm of the params: 4.256729\n",
      "[iter_attack.py:209 -     iterative_attack() ] Test pred (full): [[0.65312976 0.34687024]]\n",
      "[iter_attack.py:212 -     iterative_attack() ] Test pred (top): [[0.65312976 0.34687024]]\n",
      "[iter_attack.py:151 -     iterative_attack() ] *** Iter: 48\n"
     ]
    },
    {
     "name": "stdout",
     "output_type": "stream",
     "text": [
      "LBFGS training took [43] iter.\n",
      "After training with LBFGS: \n",
      "Total number of parameters: 2048\n",
      "Warning: Desired error not necessarily achieved due to precision loss.\n",
      "         Current function value: -8118.313477\n",
      "         Iterations: 10\n",
      "         Function evaluations: 121\n",
      "         Gradient evaluations: 117\n",
      "         Hessian evaluations: 63\n",
      "Inverse HVP took 3.2937130928 sec\n",
      "Loaded inverse HVP from output/dogfish_900_300_inception_wd-0.001-test-179.npz\n",
      "Inverse HVP took 0.000615119934082 sec\n",
      "Entering the for loop\n"
     ]
    },
    {
     "name": "stderr",
     "output_type": "stream",
     "text": [
      "[iter_attack.py:171 -     iterative_attack() ] Attach_iter 48 perturbation shape: (1, 268203), perturbation: [[-0.3436873  -0.29729629 -0.30886638 ... -0.6005255   0.55131269\n",
      "  -0.33547461]]\n",
      "[iter_attack.py:67 - poison_with_influence_proj_gradient_step() ] -- max: 266.67578125, mean: 0.000694486515633824, min: -293.10504150390625\n"
     ]
    },
    {
     "name": "stdout",
     "output_type": "stream",
     "text": [
      "---adfadfdafadfdafadfa\n",
      "\n",
      "\n",
      "[[ 0.3436873   0.29729629  0.30886638 ...  0.6005255  -0.55131269\n",
      "   0.33547461]]\n",
      "1 1\n",
      "Shape (1, 2048)\n",
      "Using normal model\n"
     ]
    },
    {
     "name": "stderr",
     "output_type": "stream",
     "text": [
      "[genericNeuralNet.py:331 -     print_model_eval() ] Train loss (w reg) on all data: 0.013528351\n",
      "[genericNeuralNet.py:332 -     print_model_eval() ] Train loss (w/o reg) on all data: 0.004466789\n",
      "[genericNeuralNet.py:334 -     print_model_eval() ] Test loss (w/o reg) on all data: 0.046230987\n",
      "[genericNeuralNet.py:335 -     print_model_eval() ] Train acc on all data:  1.0\n",
      "[genericNeuralNet.py:336 -     print_model_eval() ] Test acc on all data:   0.98\n",
      "[genericNeuralNet.py:338 -     print_model_eval() ] Norm of the mean of gradients: 0.004647728\n",
      "[genericNeuralNet.py:339 -     print_model_eval() ] Norm of the params: 4.257126\n",
      "[iter_attack.py:209 -     iterative_attack() ] Test pred (full): [[0.647428   0.35257202]]\n",
      "[iter_attack.py:212 -     iterative_attack() ] Test pred (top): [[0.647428   0.35257202]]\n",
      "[iter_attack.py:151 -     iterative_attack() ] *** Iter: 49\n"
     ]
    },
    {
     "name": "stdout",
     "output_type": "stream",
     "text": [
      "LBFGS training took [22] iter.\n",
      "After training with LBFGS: \n",
      "Total number of parameters: 2048\n",
      "Warning: Desired error not necessarily achieved due to precision loss.\n",
      "         Current function value: -7960.415039\n",
      "         Iterations: 10\n",
      "         Function evaluations: 145\n",
      "         Gradient evaluations: 140\n",
      "         Hessian evaluations: 67\n",
      "Inverse HVP took 3.74084401131 sec\n",
      "Loaded inverse HVP from output/dogfish_900_300_inception_wd-0.001-test-179.npz\n",
      "Inverse HVP took 0.000571966171265 sec\n",
      "Entering the for loop\n"
     ]
    },
    {
     "name": "stderr",
     "output_type": "stream",
     "text": [
      "[iter_attack.py:171 -     iterative_attack() ] Attach_iter 49 perturbation shape: (1, 268203), perturbation: [[ 0.9661538  -0.22249734 -0.8160131  ...  1.32078481 -0.2532987\n",
      "  -0.67837864]]\n",
      "[iter_attack.py:67 - poison_with_influence_proj_gradient_step() ] -- max: 243.0712127685547, mean: 0.0024752967839775453, min: -213.6674346923828\n"
     ]
    },
    {
     "name": "stdout",
     "output_type": "stream",
     "text": [
      "---adfadfdafadfdafadfa\n",
      "\n",
      "\n",
      "[[-0.9661538   0.22249734  0.8160131  ... -1.32078481  0.2532987\n",
      "   0.67837864]]\n",
      "1 1\n",
      "Shape (1, 2048)\n",
      "Using normal model\n"
     ]
    },
    {
     "name": "stderr",
     "output_type": "stream",
     "text": [
      "[genericNeuralNet.py:331 -     print_model_eval() ] Train loss (w reg) on all data: 0.01355958\n",
      "[genericNeuralNet.py:332 -     print_model_eval() ] Train loss (w/o reg) on all data: 0.0044826837\n",
      "[genericNeuralNet.py:334 -     print_model_eval() ] Test loss (w/o reg) on all data: 0.046361245\n",
      "[genericNeuralNet.py:335 -     print_model_eval() ] Train acc on all data:  1.0\n",
      "[genericNeuralNet.py:336 -     print_model_eval() ] Test acc on all data:   0.9783333333333334\n",
      "[genericNeuralNet.py:338 -     print_model_eval() ] Norm of the mean of gradients: 0.004727447\n",
      "[genericNeuralNet.py:339 -     print_model_eval() ] Norm of the params: 4.2607265\n",
      "[iter_attack.py:209 -     iterative_attack() ] Test pred (full): [[0.64062166 0.35937837]]\n",
      "[iter_attack.py:212 -     iterative_attack() ] Test pred (top): [[0.64062166 0.35937837]]\n",
      "[iter_attack.py:151 -     iterative_attack() ] *** Iter: 50\n"
     ]
    },
    {
     "name": "stdout",
     "output_type": "stream",
     "text": [
      "LBFGS training took [47] iter.\n",
      "After training with LBFGS: \n",
      "Total number of parameters: 2048\n",
      "Warning: Desired error not necessarily achieved due to precision loss.\n",
      "         Current function value: -7788.323242\n",
      "         Iterations: 10\n",
      "         Function evaluations: 88\n",
      "         Gradient evaluations: 86\n",
      "         Hessian evaluations: 63\n",
      "Inverse HVP took 2.58354997635 sec\n",
      "Loaded inverse HVP from output/dogfish_900_300_inception_wd-0.001-test-179.npz\n",
      "Inverse HVP took 0.000578880310059 sec\n",
      "Entering the for loop\n"
     ]
    },
    {
     "name": "stderr",
     "output_type": "stream",
     "text": [
      "[iter_attack.py:171 -     iterative_attack() ] Attach_iter 50 perturbation shape: (1, 268203), perturbation: [[-0.49982366 -0.36082992  0.20699234 ... -0.81983507  0.36402521\n",
      "   0.13567466]]\n",
      "[iter_attack.py:67 - poison_with_influence_proj_gradient_step() ] -- max: 271.9865417480469, mean: -0.00048691607597986617, min: -277.91729736328125\n"
     ]
    },
    {
     "name": "stdout",
     "output_type": "stream",
     "text": [
      "---adfadfdafadfdafadfa\n",
      "\n",
      "\n",
      "[[ 0.49982366  0.36082992 -0.20699234 ...  0.81983507 -0.36402521\n",
      "  -0.13567466]]\n",
      "1 1\n",
      "Shape (1, 2048)\n",
      "Using normal model\n"
     ]
    },
    {
     "name": "stderr",
     "output_type": "stream",
     "text": [
      "[genericNeuralNet.py:331 -     print_model_eval() ] Train loss (w reg) on all data: 0.0135374125\n",
      "[genericNeuralNet.py:332 -     print_model_eval() ] Train loss (w/o reg) on all data: 0.0044709374\n",
      "[genericNeuralNet.py:334 -     print_model_eval() ] Test loss (w/o reg) on all data: 0.046183873\n",
      "[genericNeuralNet.py:335 -     print_model_eval() ] Train acc on all data:  1.0\n",
      "[genericNeuralNet.py:336 -     print_model_eval() ] Test acc on all data:   0.98\n",
      "[genericNeuralNet.py:338 -     print_model_eval() ] Norm of the mean of gradients: 0.004654729\n",
      "[genericNeuralNet.py:339 -     print_model_eval() ] Norm of the params: 4.2582793\n",
      "[iter_attack.py:209 -     iterative_attack() ] Test pred (full): [[0.63596994 0.3640301 ]]\n",
      "[iter_attack.py:212 -     iterative_attack() ] Test pred (top): [[0.63596994 0.3640301 ]]\n",
      "[iter_attack.py:151 -     iterative_attack() ] *** Iter: 51\n"
     ]
    },
    {
     "name": "stdout",
     "output_type": "stream",
     "text": [
      "LBFGS training took [25] iter.\n",
      "After training with LBFGS: \n",
      "Total number of parameters: 2048\n",
      "Warning: Desired error not necessarily achieved due to precision loss.\n",
      "         Current function value: -7658.646973\n",
      "         Iterations: 10\n",
      "         Function evaluations: 72\n",
      "         Gradient evaluations: 71\n",
      "         Hessian evaluations: 56\n",
      "Inverse HVP took 2.13032579422 sec\n",
      "Loaded inverse HVP from output/dogfish_900_300_inception_wd-0.001-test-179.npz\n",
      "Inverse HVP took 0.000559091567993 sec\n",
      "Entering the for loop\n"
     ]
    },
    {
     "name": "stderr",
     "output_type": "stream",
     "text": [
      "[iter_attack.py:171 -     iterative_attack() ] Attach_iter 51 perturbation shape: (1, 268203), perturbation: [[ 1.58956063 -0.32631874 -1.78094506 ...  0.09723805  0.18912938\n",
      "  -0.50854063]]\n",
      "[iter_attack.py:67 - poison_with_influence_proj_gradient_step() ] -- max: 257.07177734375, mean: 0.003652929374534401, min: -220.41806030273438\n"
     ]
    },
    {
     "name": "stdout",
     "output_type": "stream",
     "text": [
      "---adfadfdafadfdafadfa\n",
      "\n",
      "\n",
      "[[-1.58956063  0.32631874  1.78094506 ... -0.09723805 -0.18912938\n",
      "   0.50854063]]\n",
      "1 1\n",
      "Shape (1, 2048)\n",
      "Using normal model\n"
     ]
    },
    {
     "name": "stderr",
     "output_type": "stream",
     "text": [
      "[genericNeuralNet.py:331 -     print_model_eval() ] Train loss (w reg) on all data: 0.013581393\n",
      "[genericNeuralNet.py:332 -     print_model_eval() ] Train loss (w/o reg) on all data: 0.0044900267\n",
      "[genericNeuralNet.py:334 -     print_model_eval() ] Test loss (w/o reg) on all data: 0.046446726\n",
      "[genericNeuralNet.py:335 -     print_model_eval() ] Train acc on all data:  1.0\n",
      "[genericNeuralNet.py:336 -     print_model_eval() ] Test acc on all data:   0.9783333333333334\n",
      "[genericNeuralNet.py:338 -     print_model_eval() ] Norm of the mean of gradients: 0.0047953785\n",
      "[genericNeuralNet.py:339 -     print_model_eval() ] Norm of the params: 4.264122\n",
      "[iter_attack.py:209 -     iterative_attack() ] Test pred (full): [[0.6271791  0.37282088]]\n",
      "[iter_attack.py:212 -     iterative_attack() ] Test pred (top): [[0.6271791  0.37282088]]\n",
      "[iter_attack.py:151 -     iterative_attack() ] *** Iter: 52\n"
     ]
    },
    {
     "name": "stdout",
     "output_type": "stream",
     "text": [
      "LBFGS training took [47] iter.\n",
      "After training with LBFGS: \n",
      "Total number of parameters: 2048\n",
      "Warning: Desired error not necessarily achieved due to precision loss.\n",
      "         Current function value: -7442.897461\n",
      "         Iterations: 9\n",
      "         Function evaluations: 138\n",
      "         Gradient evaluations: 135\n",
      "         Hessian evaluations: 43\n",
      "Inverse HVP took 3.36123299599 sec\n",
      "Loaded inverse HVP from output/dogfish_900_300_inception_wd-0.001-test-179.npz\n",
      "Inverse HVP took 0.000588178634644 sec\n",
      "Entering the for loop\n"
     ]
    },
    {
     "name": "stderr",
     "output_type": "stream",
     "text": [
      "[iter_attack.py:171 -     iterative_attack() ] Attach_iter 52 perturbation shape: (1, 268203), perturbation: [[-0.8797909  -0.06617203  0.6512835  ...  0.0260897   0.21469717\n",
      "   0.00130156]]\n",
      "[iter_attack.py:67 - poison_with_influence_proj_gradient_step() ] -- max: 231.45675659179688, mean: -0.0008930060694742222, min: -254.10435485839844\n"
     ]
    },
    {
     "name": "stdout",
     "output_type": "stream",
     "text": [
      "---adfadfdafadfdafadfa\n",
      "\n",
      "\n",
      "[[ 0.8797909   0.06617203 -0.6512835  ... -0.0260897  -0.21469717\n",
      "  -0.00130156]]\n",
      "1 1\n",
      "Shape (1, 2048)\n",
      "Using normal model\n"
     ]
    },
    {
     "name": "stderr",
     "output_type": "stream",
     "text": [
      "[genericNeuralNet.py:331 -     print_model_eval() ] Train loss (w reg) on all data: 0.013561942\n",
      "[genericNeuralNet.py:332 -     print_model_eval() ] Train loss (w/o reg) on all data: 0.0044827117\n",
      "[genericNeuralNet.py:334 -     print_model_eval() ] Test loss (w/o reg) on all data: 0.04633322\n",
      "[genericNeuralNet.py:335 -     print_model_eval() ] Train acc on all data:  1.0\n",
      "[genericNeuralNet.py:336 -     print_model_eval() ] Test acc on all data:   0.98\n",
      "[genericNeuralNet.py:338 -     print_model_eval() ] Norm of the mean of gradients: 0.004672526\n",
      "[genericNeuralNet.py:339 -     print_model_eval() ] Norm of the params: 4.261274\n",
      "[iter_attack.py:209 -     iterative_attack() ] Test pred (full): [[0.6220282 0.3779718]]\n",
      "[iter_attack.py:212 -     iterative_attack() ] Test pred (top): [[0.6220282 0.3779718]]\n",
      "[iter_attack.py:151 -     iterative_attack() ] *** Iter: 53\n"
     ]
    },
    {
     "name": "stdout",
     "output_type": "stream",
     "text": [
      "LBFGS training took [35] iter.\n",
      "After training with LBFGS: \n",
      "Total number of parameters: 2048\n",
      "Warning: Desired error not necessarily achieved due to precision loss.\n",
      "         Current function value: -7301.365234\n",
      "         Iterations: 9\n",
      "         Function evaluations: 96\n",
      "         Gradient evaluations: 93\n",
      "         Hessian evaluations: 44\n",
      "Inverse HVP took 2.61068987846 sec\n",
      "Loaded inverse HVP from output/dogfish_900_300_inception_wd-0.001-test-179.npz\n",
      "Inverse HVP took 0.000586032867432 sec\n",
      "Entering the for loop\n"
     ]
    },
    {
     "name": "stderr",
     "output_type": "stream",
     "text": [
      "[iter_attack.py:171 -     iterative_attack() ] Attach_iter 53 perturbation shape: (1, 268203), perturbation: [[ 1.10710883 -0.44549811 -1.76916194 ...  0.31380019  0.01811427\n",
      "  -0.53281868]]\n",
      "[iter_attack.py:67 - poison_with_influence_proj_gradient_step() ] -- max: 238.29347229003906, mean: 0.003367300763640145, min: -255.40921020507812\n"
     ]
    },
    {
     "name": "stdout",
     "output_type": "stream",
     "text": [
      "---adfadfdafadfdafadfa\n",
      "\n",
      "\n",
      "[[-1.10710883  0.44549811  1.76916194 ... -0.31380019 -0.01811427\n",
      "   0.53281868]]\n",
      "1 1\n",
      "Shape (1, 2048)\n",
      "Using normal model\n"
     ]
    },
    {
     "name": "stderr",
     "output_type": "stream",
     "text": [
      "[genericNeuralNet.py:331 -     print_model_eval() ] Train loss (w reg) on all data: 0.013600401\n",
      "[genericNeuralNet.py:332 -     print_model_eval() ] Train loss (w/o reg) on all data: 0.0044969115\n",
      "[genericNeuralNet.py:334 -     print_model_eval() ] Test loss (w/o reg) on all data: 0.04638676\n",
      "[genericNeuralNet.py:335 -     print_model_eval() ] Train acc on all data:  1.0\n",
      "[genericNeuralNet.py:336 -     print_model_eval() ] Test acc on all data:   0.9783333333333334\n",
      "[genericNeuralNet.py:338 -     print_model_eval() ] Norm of the mean of gradients: 0.004857889\n",
      "[genericNeuralNet.py:339 -     print_model_eval() ] Norm of the params: 4.2669635\n",
      "[iter_attack.py:209 -     iterative_attack() ] Test pred (full): [[0.6144418  0.38555816]]\n",
      "[iter_attack.py:212 -     iterative_attack() ] Test pred (top): [[0.6144418  0.38555816]]\n",
      "[iter_attack.py:151 -     iterative_attack() ] *** Iter: 54\n"
     ]
    },
    {
     "name": "stdout",
     "output_type": "stream",
     "text": [
      "LBFGS training took [41] iter.\n",
      "After training with LBFGS: \n",
      "Total number of parameters: 2048\n",
      "Warning: Desired error not necessarily achieved due to precision loss.\n",
      "         Current function value: -7123.396973\n",
      "         Iterations: 10\n",
      "         Function evaluations: 60\n",
      "         Gradient evaluations: 59\n",
      "         Hessian evaluations: 53\n",
      "Inverse HVP took 1.84795379639 sec\n",
      "Loaded inverse HVP from output/dogfish_900_300_inception_wd-0.001-test-179.npz\n",
      "Inverse HVP took 0.000607967376709 sec\n",
      "Entering the for loop\n"
     ]
    },
    {
     "name": "stderr",
     "output_type": "stream",
     "text": [
      "[iter_attack.py:171 -     iterative_attack() ] Attach_iter 54 perturbation shape: (1, 268203), perturbation: [[-0.51632607 -0.20950876  0.20493393 ... -0.23076259  0.28971601\n",
      "   0.00294852]]\n",
      "[iter_attack.py:67 - poison_with_influence_proj_gradient_step() ] -- max: 218.85641479492188, mean: -0.0016410834265178505, min: -255.5777587890625\n"
     ]
    },
    {
     "name": "stdout",
     "output_type": "stream",
     "text": [
      "---adfadfdafadfdafadfa\n",
      "\n",
      "\n",
      "[[ 0.51632607  0.20950876 -0.20493393 ...  0.23076259 -0.28971601\n",
      "  -0.00294852]]\n",
      "1 1\n",
      "Shape (1, 2048)\n",
      "Using normal model\n"
     ]
    },
    {
     "name": "stderr",
     "output_type": "stream",
     "text": [
      "[genericNeuralNet.py:331 -     print_model_eval() ] Train loss (w reg) on all data: 0.0135818515\n",
      "[genericNeuralNet.py:332 -     print_model_eval() ] Train loss (w/o reg) on all data: 0.0044926093\n",
      "[genericNeuralNet.py:334 -     print_model_eval() ] Test loss (w/o reg) on all data: 0.046391442\n",
      "[genericNeuralNet.py:335 -     print_model_eval() ] Train acc on all data:  1.0\n",
      "[genericNeuralNet.py:336 -     print_model_eval() ] Test acc on all data:   0.98\n",
      "[genericNeuralNet.py:338 -     print_model_eval() ] Norm of the mean of gradients: 0.0046626283\n",
      "[genericNeuralNet.py:339 -     print_model_eval() ] Norm of the params: 4.263623\n",
      "[iter_attack.py:209 -     iterative_attack() ] Test pred (full): [[0.611277 0.388723]]\n",
      "[iter_attack.py:212 -     iterative_attack() ] Test pred (top): [[0.611277 0.388723]]\n",
      "[iter_attack.py:151 -     iterative_attack() ] *** Iter: 55\n"
     ]
    },
    {
     "name": "stdout",
     "output_type": "stream",
     "text": [
      "LBFGS training took [34] iter.\n",
      "After training with LBFGS: \n",
      "Total number of parameters: 2048\n",
      "Warning: Desired error not necessarily achieved due to precision loss.\n",
      "         Current function value: -7034.018066\n",
      "         Iterations: 10\n",
      "         Function evaluations: 141\n",
      "         Gradient evaluations: 138\n",
      "         Hessian evaluations: 47\n",
      "Inverse HVP took 3.38192009926 sec\n",
      "Loaded inverse HVP from output/dogfish_900_300_inception_wd-0.001-test-179.npz\n",
      "Inverse HVP took 0.000584125518799 sec\n",
      "Entering the for loop\n"
     ]
    },
    {
     "name": "stderr",
     "output_type": "stream",
     "text": [
      "[iter_attack.py:171 -     iterative_attack() ] Attach_iter 55 perturbation shape: (1, 268203), perturbation: [[ 0.62172163 -0.46809405 -1.0875088  ...  0.27086806 -0.06291586\n",
      "  -0.41483349]]\n",
      "[iter_attack.py:67 - poison_with_influence_proj_gradient_step() ] -- max: 233.3377227783203, mean: 0.00370330964687232, min: -368.53173828125\n"
     ]
    },
    {
     "name": "stdout",
     "output_type": "stream",
     "text": [
      "---adfadfdafadfdafadfa\n",
      "\n",
      "\n",
      "[[-0.62172163  0.46809405  1.0875088  ... -0.27086806  0.06291586\n",
      "   0.41483349]]\n",
      "1 1\n",
      "Shape (1, 2048)\n",
      "Using normal model\n"
     ]
    },
    {
     "name": "stderr",
     "output_type": "stream",
     "text": [
      "[genericNeuralNet.py:331 -     print_model_eval() ] Train loss (w reg) on all data: 0.013610175\n",
      "[genericNeuralNet.py:332 -     print_model_eval() ] Train loss (w/o reg) on all data: 0.004499919\n",
      "[genericNeuralNet.py:334 -     print_model_eval() ] Test loss (w/o reg) on all data: 0.046333544\n",
      "[genericNeuralNet.py:335 -     print_model_eval() ] Train acc on all data:  1.0\n",
      "[genericNeuralNet.py:336 -     print_model_eval() ] Test acc on all data:   0.9783333333333334\n",
      "[genericNeuralNet.py:338 -     print_model_eval() ] Norm of the mean of gradients: 0.0049051484\n",
      "[genericNeuralNet.py:339 -     print_model_eval() ] Norm of the params: 4.2685485\n",
      "[iter_attack.py:209 -     iterative_attack() ] Test pred (full): [[0.6044498  0.39555016]]\n",
      "[iter_attack.py:212 -     iterative_attack() ] Test pred (top): [[0.6044498  0.39555016]]\n",
      "[iter_attack.py:151 -     iterative_attack() ] *** Iter: 56\n"
     ]
    },
    {
     "name": "stdout",
     "output_type": "stream",
     "text": [
      "LBFGS training took [47] iter.\n",
      "After training with LBFGS: \n",
      "Total number of parameters: 2048\n",
      "Warning: Desired error not necessarily achieved due to precision loss.\n",
      "         Current function value: -6877.216797\n",
      "         Iterations: 10\n",
      "         Function evaluations: 150\n",
      "         Gradient evaluations: 147\n",
      "         Hessian evaluations: 56\n",
      "Inverse HVP took 3.68394207954 sec\n",
      "Loaded inverse HVP from output/dogfish_900_300_inception_wd-0.001-test-179.npz\n",
      "Inverse HVP took 0.000613927841187 sec\n",
      "Entering the for loop\n"
     ]
    },
    {
     "name": "stderr",
     "output_type": "stream",
     "text": [
      "[iter_attack.py:171 -     iterative_attack() ] Attach_iter 56 perturbation shape: (1, 268203), perturbation: [[-0.00944823 -0.10603273 -0.52801496 ...  0.00766206  0.34165126\n",
      "  -0.31437495]]\n",
      "[iter_attack.py:67 - poison_with_influence_proj_gradient_step() ] -- max: 201.667724609375, mean: -0.0015475433296784683, min: -249.92587280273438\n"
     ]
    },
    {
     "name": "stdout",
     "output_type": "stream",
     "text": [
      "---adfadfdafadfdafadfa\n",
      "\n",
      "\n",
      "[[ 0.00944823  0.10603273  0.52801496 ... -0.00766206 -0.34165126\n",
      "   0.31437495]]\n",
      "1 1\n",
      "Shape (1, 2048)\n",
      "Using normal model\n"
     ]
    },
    {
     "name": "stderr",
     "output_type": "stream",
     "text": [
      "[genericNeuralNet.py:331 -     print_model_eval() ] Train loss (w reg) on all data: 0.01360311\n",
      "[genericNeuralNet.py:332 -     print_model_eval() ] Train loss (w/o reg) on all data: 0.004502905\n",
      "[genericNeuralNet.py:334 -     print_model_eval() ] Test loss (w/o reg) on all data: 0.0464992\n",
      "[genericNeuralNet.py:335 -     print_model_eval() ] Train acc on all data:  1.0\n",
      "[genericNeuralNet.py:336 -     print_model_eval() ] Test acc on all data:   0.98\n",
      "[genericNeuralNet.py:338 -     print_model_eval() ] Norm of the mean of gradients: 0.0046641566\n",
      "[genericNeuralNet.py:339 -     print_model_eval() ] Norm of the params: 4.2661943\n",
      "[iter_attack.py:209 -     iterative_attack() ] Test pred (full): [[0.6009307  0.39906925]]\n",
      "[iter_attack.py:212 -     iterative_attack() ] Test pred (top): [[0.6009307  0.39906925]]\n",
      "[iter_attack.py:151 -     iterative_attack() ] *** Iter: 57\n"
     ]
    },
    {
     "name": "stdout",
     "output_type": "stream",
     "text": [
      "LBFGS training took [28] iter.\n",
      "After training with LBFGS: \n",
      "Total number of parameters: 2048\n",
      "Warning: Desired error not necessarily achieved due to precision loss.\n",
      "         Current function value: -6782.430176\n",
      "         Iterations: 11\n",
      "         Function evaluations: 91\n",
      "         Gradient evaluations: 90\n",
      "         Hessian evaluations: 58\n",
      "Inverse HVP took 2.49508285522 sec\n",
      "Loaded inverse HVP from output/dogfish_900_300_inception_wd-0.001-test-179.npz\n",
      "Inverse HVP took 0.000586986541748 sec\n",
      "Entering the for loop\n"
     ]
    },
    {
     "name": "stderr",
     "output_type": "stream",
     "text": [
      "[iter_attack.py:171 -     iterative_attack() ] Attach_iter 57 perturbation shape: (1, 268203), perturbation: [[ 0.12625998 -0.29907393 -0.25038251 ... -0.19790834 -0.14825216\n",
      "   0.02075234]]\n",
      "[iter_attack.py:67 - poison_with_influence_proj_gradient_step() ] -- max: 259.9451599121094, mean: 0.003911311726397109, min: -362.4864501953125\n"
     ]
    },
    {
     "name": "stdout",
     "output_type": "stream",
     "text": [
      "---adfadfdafadfdafadfa\n",
      "\n",
      "\n",
      "[[-0.12625998  0.29907393  0.25038251 ...  0.19790834  0.14825216\n",
      "  -0.02075234]]\n",
      "1 1\n",
      "Shape (1, 2048)\n",
      "Using normal model\n"
     ]
    },
    {
     "name": "stderr",
     "output_type": "stream",
     "text": [
      "[genericNeuralNet.py:331 -     print_model_eval() ] Train loss (w reg) on all data: 0.013624607\n",
      "[genericNeuralNet.py:332 -     print_model_eval() ] Train loss (w/o reg) on all data: 0.0045057414\n",
      "[genericNeuralNet.py:334 -     print_model_eval() ] Test loss (w/o reg) on all data: 0.04627411\n",
      "[genericNeuralNet.py:335 -     print_model_eval() ] Train acc on all data:  1.0\n",
      "[genericNeuralNet.py:336 -     print_model_eval() ] Test acc on all data:   0.9783333333333334\n",
      "[genericNeuralNet.py:338 -     print_model_eval() ] Norm of the mean of gradients: 0.004940626\n",
      "[genericNeuralNet.py:339 -     print_model_eval() ] Norm of the params: 4.2705655\n",
      "[iter_attack.py:209 -     iterative_attack() ] Test pred (full): [[0.59265697 0.407343  ]]\n",
      "[iter_attack.py:212 -     iterative_attack() ] Test pred (top): [[0.59265697 0.407343  ]]\n",
      "[iter_attack.py:151 -     iterative_attack() ] *** Iter: 58\n"
     ]
    },
    {
     "name": "stdout",
     "output_type": "stream",
     "text": [
      "LBFGS training took [42] iter.\n",
      "After training with LBFGS: \n",
      "Total number of parameters: 2048\n",
      "Warning: Desired error not necessarily achieved due to precision loss.\n",
      "         Current function value: -6594.056152\n",
      "         Iterations: 9\n",
      "         Function evaluations: 135\n",
      "         Gradient evaluations: 133\n",
      "         Hessian evaluations: 49\n",
      "Inverse HVP took 3.34474897385 sec\n",
      "Loaded inverse HVP from output/dogfish_900_300_inception_wd-0.001-test-179.npz\n",
      "Inverse HVP took 0.000602006912231 sec\n",
      "Entering the for loop\n"
     ]
    },
    {
     "name": "stderr",
     "output_type": "stream",
     "text": [
      "[iter_attack.py:171 -     iterative_attack() ] Attach_iter 58 perturbation shape: (1, 268203), perturbation: [[ 0.62639093 -0.42060125 -1.4043045  ... -0.14809906  0.3397921\n",
      "  -0.3516908 ]]\n",
      "[iter_attack.py:67 - poison_with_influence_proj_gradient_step() ] -- max: 221.7389678955078, mean: -0.001792441428667514, min: -271.0449523925781\n"
     ]
    },
    {
     "name": "stdout",
     "output_type": "stream",
     "text": [
      "---adfadfdafadfdafadfa\n",
      "\n",
      "\n",
      "[[-0.62639093  0.42060125  1.4043045  ...  0.14809906 -0.3397921\n",
      "   0.3516908 ]]\n",
      "1 1\n",
      "Shape (1, 2048)\n",
      "Using normal model\n"
     ]
    },
    {
     "name": "stderr",
     "output_type": "stream",
     "text": [
      "[genericNeuralNet.py:331 -     print_model_eval() ] Train loss (w reg) on all data: 0.013623481\n",
      "[genericNeuralNet.py:332 -     print_model_eval() ] Train loss (w/o reg) on all data: 0.0045125363\n",
      "[genericNeuralNet.py:334 -     print_model_eval() ] Test loss (w/o reg) on all data: 0.046582323\n",
      "[genericNeuralNet.py:335 -     print_model_eval() ] Train acc on all data:  1.0\n",
      "[genericNeuralNet.py:336 -     print_model_eval() ] Test acc on all data:   0.9783333333333334\n",
      "[genericNeuralNet.py:338 -     print_model_eval() ] Norm of the mean of gradients: 0.004684479\n",
      "[genericNeuralNet.py:339 -     print_model_eval() ] Norm of the params: 4.26871\n",
      "[iter_attack.py:209 -     iterative_attack() ] Test pred (full): [[0.58922684 0.41077316]]\n",
      "[iter_attack.py:212 -     iterative_attack() ] Test pred (top): [[0.58922684 0.41077316]]\n",
      "[iter_attack.py:151 -     iterative_attack() ] *** Iter: 59\n"
     ]
    },
    {
     "name": "stdout",
     "output_type": "stream",
     "text": [
      "LBFGS training took [21] iter.\n",
      "After training with LBFGS: \n",
      "Total number of parameters: 2048\n",
      "Warning: Desired error not necessarily achieved due to precision loss.\n",
      "         Current function value: -6505.727051\n",
      "         Iterations: 11\n",
      "         Function evaluations: 81\n",
      "         Gradient evaluations: 81\n",
      "         Hessian evaluations: 60\n",
      "Inverse HVP took 2.33938789368 sec\n",
      "Loaded inverse HVP from output/dogfish_900_300_inception_wd-0.001-test-179.npz\n",
      "Inverse HVP took 0.000588178634644 sec\n",
      "Entering the for loop\n"
     ]
    },
    {
     "name": "stderr",
     "output_type": "stream",
     "text": [
      "[iter_attack.py:171 -     iterative_attack() ] Attach_iter 59 perturbation shape: (1, 268203), perturbation: [[-0.37020802 -0.08677741  0.08283639 ...  0.66134119 -0.19532996\n",
      "  -0.22436118]]\n",
      "[iter_attack.py:67 - poison_with_influence_proj_gradient_step() ] -- max: 226.54571533203125, mean: 0.003964137440430332, min: -309.38507080078125\n"
     ]
    },
    {
     "name": "stdout",
     "output_type": "stream",
     "text": [
      "---adfadfdafadfdafadfa\n",
      "\n",
      "\n",
      "[[ 0.37020802  0.08677741 -0.08283639 ... -0.66134119  0.19532996\n",
      "   0.22436118]]\n",
      "1 1\n",
      "Shape (1, 2048)\n",
      "Using normal model\n"
     ]
    },
    {
     "name": "stderr",
     "output_type": "stream",
     "text": [
      "[genericNeuralNet.py:331 -     print_model_eval() ] Train loss (w reg) on all data: 0.013634643\n",
      "[genericNeuralNet.py:332 -     print_model_eval() ] Train loss (w/o reg) on all data: 0.004511013\n",
      "[genericNeuralNet.py:334 -     print_model_eval() ] Test loss (w/o reg) on all data: 0.04637739\n",
      "[genericNeuralNet.py:335 -     print_model_eval() ] Train acc on all data:  1.0\n",
      "[genericNeuralNet.py:336 -     print_model_eval() ] Test acc on all data:   0.98\n",
      "[genericNeuralNet.py:338 -     print_model_eval() ] Norm of the mean of gradients: 0.0049432768\n",
      "[genericNeuralNet.py:339 -     print_model_eval() ] Norm of the params: 4.2716813\n",
      "[iter_attack.py:209 -     iterative_attack() ] Test pred (full): [[0.5804745 0.4195255]]\n",
      "[iter_attack.py:212 -     iterative_attack() ] Test pred (top): [[0.5804745 0.4195255]]\n",
      "[iter_attack.py:151 -     iterative_attack() ] *** Iter: 60\n"
     ]
    },
    {
     "name": "stdout",
     "output_type": "stream",
     "text": [
      "LBFGS training took [47] iter.\n",
      "After training with LBFGS: \n",
      "Total number of parameters: 2048\n",
      "Warning: Desired error not necessarily achieved due to precision loss.\n",
      "         Current function value: -6306.815918\n",
      "         Iterations: 9\n",
      "         Function evaluations: 83\n",
      "         Gradient evaluations: 81\n",
      "         Hessian evaluations: 48\n",
      "Inverse HVP took 2.35650801659 sec\n",
      "Loaded inverse HVP from output/dogfish_900_300_inception_wd-0.001-test-179.npz\n",
      "Inverse HVP took 0.000612020492554 sec\n",
      "Entering the for loop\n"
     ]
    },
    {
     "name": "stderr",
     "output_type": "stream",
     "text": [
      "[iter_attack.py:171 -     iterative_attack() ] Attach_iter 60 perturbation shape: (1, 268203), perturbation: [[ 0.90665835  0.21475029 -0.61388803 ... -0.31357041  0.01724124\n",
      "  -0.12120899]]\n",
      "[iter_attack.py:67 - poison_with_influence_proj_gradient_step() ] -- max: 187.86358642578125, mean: -0.0021463125485190276, min: -204.48306274414062\n"
     ]
    },
    {
     "name": "stdout",
     "output_type": "stream",
     "text": [
      "---adfadfdafadfdafadfa\n",
      "\n",
      "\n",
      "[[-0.90665835 -0.21475029  0.61388803 ...  0.31357041 -0.01724124\n",
      "   0.12120899]]\n",
      "1 1\n",
      "Shape (1, 2048)\n",
      "Using normal model\n"
     ]
    },
    {
     "name": "stderr",
     "output_type": "stream",
     "text": [
      "[genericNeuralNet.py:331 -     print_model_eval() ] Train loss (w reg) on all data: 0.013634862\n",
      "[genericNeuralNet.py:332 -     print_model_eval() ] Train loss (w/o reg) on all data: 0.004518708\n",
      "[genericNeuralNet.py:334 -     print_model_eval() ] Test loss (w/o reg) on all data: 0.04669681\n",
      "[genericNeuralNet.py:335 -     print_model_eval() ] Train acc on all data:  1.0\n",
      "[genericNeuralNet.py:336 -     print_model_eval() ] Test acc on all data:   0.9766666666666667\n",
      "[genericNeuralNet.py:338 -     print_model_eval() ] Norm of the mean of gradients: 0.0046941317\n",
      "[genericNeuralNet.py:339 -     print_model_eval() ] Norm of the params: 4.269931\n",
      "[iter_attack.py:209 -     iterative_attack() ] Test pred (full): [[0.576474   0.42352596]]\n",
      "[iter_attack.py:212 -     iterative_attack() ] Test pred (top): [[0.576474   0.42352596]]\n",
      "[iter_attack.py:151 -     iterative_attack() ] *** Iter: 61\n"
     ]
    },
    {
     "name": "stdout",
     "output_type": "stream",
     "text": [
      "LBFGS training took [23] iter.\n",
      "After training with LBFGS: \n",
      "Total number of parameters: 2048\n",
      "Warning: Desired error not necessarily achieved due to precision loss.\n",
      "         Current function value: -6207.239258\n",
      "         Iterations: 10\n",
      "         Function evaluations: 90\n",
      "         Gradient evaluations: 88\n",
      "         Hessian evaluations: 55\n",
      "Inverse HVP took 2.51505994797 sec\n",
      "Loaded inverse HVP from output/dogfish_900_300_inception_wd-0.001-test-179.npz\n",
      "Inverse HVP took 0.000600814819336 sec\n",
      "Entering the for loop\n"
     ]
    },
    {
     "name": "stderr",
     "output_type": "stream",
     "text": [
      "[iter_attack.py:171 -     iterative_attack() ] Attach_iter 61 perturbation shape: (1, 268203), perturbation: [[ 0.01832661 -0.44453138 -0.53369904 ... -0.19208123 -0.01857672\n",
      "   0.03814573]]\n",
      "[iter_attack.py:67 - poison_with_influence_proj_gradient_step() ] -- max: 238.72012329101562, mean: 0.004430216436845808, min: -262.4292907714844\n"
     ]
    },
    {
     "name": "stdout",
     "output_type": "stream",
     "text": [
      "---adfadfdafadfdafadfa\n",
      "\n",
      "\n",
      "[[-0.01832661  0.44453138  0.53369904 ...  0.19208123  0.01857672\n",
      "  -0.03814573]]\n",
      "1 1\n",
      "Shape (1, 2048)\n",
      "Using normal model\n"
     ]
    },
    {
     "name": "stderr",
     "output_type": "stream",
     "text": [
      "[genericNeuralNet.py:331 -     print_model_eval() ] Train loss (w reg) on all data: 0.01364676\n",
      "[genericNeuralNet.py:332 -     print_model_eval() ] Train loss (w/o reg) on all data: 0.0045161387\n",
      "[genericNeuralNet.py:334 -     print_model_eval() ] Test loss (w/o reg) on all data: 0.046474837\n",
      "[genericNeuralNet.py:335 -     print_model_eval() ] Train acc on all data:  1.0\n",
      "[genericNeuralNet.py:336 -     print_model_eval() ] Test acc on all data:   0.9783333333333334\n",
      "[genericNeuralNet.py:338 -     print_model_eval() ] Norm of the mean of gradients: 0.004978877\n",
      "[genericNeuralNet.py:339 -     print_model_eval() ] Norm of the params: 4.273317\n",
      "[iter_attack.py:209 -     iterative_attack() ] Test pred (full): [[0.56800026 0.43199974]]\n",
      "[iter_attack.py:212 -     iterative_attack() ] Test pred (top): [[0.56800026 0.43199974]]\n",
      "[iter_attack.py:151 -     iterative_attack() ] *** Iter: 62\n"
     ]
    },
    {
     "name": "stdout",
     "output_type": "stream",
     "text": [
      "LBFGS training took [50] iter.\n",
      "After training with LBFGS: \n",
      "Total number of parameters: 2048\n",
      "Warning: Desired error not necessarily achieved due to precision loss.\n",
      "         Current function value: -6022.122559\n",
      "         Iterations: 8\n",
      "         Function evaluations: 142\n",
      "         Gradient evaluations: 137\n",
      "         Hessian evaluations: 42\n",
      "Inverse HVP took 3.33683085442 sec\n",
      "Loaded inverse HVP from output/dogfish_900_300_inception_wd-0.001-test-179.npz\n",
      "Inverse HVP took 0.000576019287109 sec\n",
      "Entering the for loop\n"
     ]
    },
    {
     "name": "stderr",
     "output_type": "stream",
     "text": [
      "[iter_attack.py:171 -     iterative_attack() ] Attach_iter 62 perturbation shape: (1, 268203), perturbation: [[ 0.89032304  0.66894364 -0.22726934 ...  0.3287482   0.0186526\n",
      "  -0.45711896]]\n",
      "[iter_attack.py:67 - poison_with_influence_proj_gradient_step() ] -- max: 187.31768798828125, mean: -0.0013796402553034862, min: -233.88705444335938\n"
     ]
    },
    {
     "name": "stdout",
     "output_type": "stream",
     "text": [
      "---adfadfdafadfdafadfa\n",
      "\n",
      "\n",
      "[[-0.89032304 -0.66894364  0.22726934 ... -0.3287482  -0.0186526\n",
      "   0.45711896]]\n",
      "1 1\n",
      "Shape (1, 2048)\n",
      "Using normal model\n"
     ]
    },
    {
     "name": "stderr",
     "output_type": "stream",
     "text": [
      "[genericNeuralNet.py:331 -     print_model_eval() ] Train loss (w reg) on all data: 0.01364759\n",
      "[genericNeuralNet.py:332 -     print_model_eval() ] Train loss (w/o reg) on all data: 0.0045247385\n",
      "[genericNeuralNet.py:334 -     print_model_eval() ] Test loss (w/o reg) on all data: 0.046782322\n",
      "[genericNeuralNet.py:335 -     print_model_eval() ] Train acc on all data:  1.0\n",
      "[genericNeuralNet.py:336 -     print_model_eval() ] Test acc on all data:   0.9783333333333334\n",
      "[genericNeuralNet.py:338 -     print_model_eval() ] Norm of the mean of gradients: 0.004705563\n",
      "[genericNeuralNet.py:339 -     print_model_eval() ] Norm of the params: 4.271498\n",
      "[iter_attack.py:209 -     iterative_attack() ] Test pred (full): [[0.56473386 0.43526605]]\n",
      "[iter_attack.py:212 -     iterative_attack() ] Test pred (top): [[0.56473386 0.43526605]]\n",
      "[iter_attack.py:151 -     iterative_attack() ] *** Iter: 63\n"
     ]
    },
    {
     "name": "stdout",
     "output_type": "stream",
     "text": [
      "LBFGS training took [24] iter.\n",
      "After training with LBFGS: \n",
      "Total number of parameters: 2048\n",
      "Warning: Desired error not necessarily achieved due to precision loss.\n",
      "         Current function value: -5940.670410\n",
      "         Iterations: 11\n",
      "         Function evaluations: 147\n",
      "         Gradient evaluations: 145\n",
      "         Hessian evaluations: 62\n",
      "Inverse HVP took 3.7104549408 sec\n",
      "Loaded inverse HVP from output/dogfish_900_300_inception_wd-0.001-test-179.npz\n",
      "Inverse HVP took 0.000576019287109 sec\n",
      "Entering the for loop\n"
     ]
    },
    {
     "name": "stderr",
     "output_type": "stream",
     "text": [
      "[iter_attack.py:171 -     iterative_attack() ] Attach_iter 63 perturbation shape: (1, 268203), perturbation: [[-0.05406684 -1.18141532 -1.2173686  ... -0.40161988 -0.00715314\n",
      "   0.35412663]]\n",
      "[iter_attack.py:67 - poison_with_influence_proj_gradient_step() ] -- max: 231.99169921875, mean: 0.0040506266802624365, min: -269.8820495605469\n"
     ]
    },
    {
     "name": "stdout",
     "output_type": "stream",
     "text": [
      "---adfadfdafadfdafadfa\n",
      "\n",
      "\n",
      "[[ 0.05406684  1.18141532  1.2173686  ...  0.40161988  0.00715314\n",
      "  -0.35412663]]\n",
      "1 1\n",
      "Shape (1, 2048)\n",
      "Using normal model\n"
     ]
    },
    {
     "name": "stderr",
     "output_type": "stream",
     "text": [
      "[genericNeuralNet.py:331 -     print_model_eval() ] Train loss (w reg) on all data: 0.013662312\n",
      "[genericNeuralNet.py:332 -     print_model_eval() ] Train loss (w/o reg) on all data: 0.0045227604\n",
      "[genericNeuralNet.py:334 -     print_model_eval() ] Test loss (w/o reg) on all data: 0.04664927\n",
      "[genericNeuralNet.py:335 -     print_model_eval() ] Train acc on all data:  1.0\n",
      "[genericNeuralNet.py:336 -     print_model_eval() ] Test acc on all data:   0.9783333333333334\n",
      "[genericNeuralNet.py:338 -     print_model_eval() ] Norm of the mean of gradients: 0.0050193407\n",
      "[genericNeuralNet.py:339 -     print_model_eval() ] Norm of the params: 4.275407\n",
      "[iter_attack.py:209 -     iterative_attack() ] Test pred (full): [[0.55957234 0.44042766]]\n",
      "[iter_attack.py:212 -     iterative_attack() ] Test pred (top): [[0.55957234 0.44042766]]\n",
      "[iter_attack.py:151 -     iterative_attack() ] *** Iter: 64\n"
     ]
    },
    {
     "name": "stdout",
     "output_type": "stream",
     "text": [
      "LBFGS training took [49] iter.\n",
      "After training with LBFGS: \n",
      "Total number of parameters: 2048\n",
      "Warning: Desired error not necessarily achieved due to precision loss.\n",
      "         Current function value: -5834.088379\n",
      "         Iterations: 10\n",
      "         Function evaluations: 83\n",
      "         Gradient evaluations: 83\n",
      "         Hessian evaluations: 50\n",
      "Inverse HVP took 2.24661493301 sec\n",
      "Loaded inverse HVP from output/dogfish_900_300_inception_wd-0.001-test-179.npz\n",
      "Inverse HVP took 0.000547885894775 sec\n",
      "Entering the for loop\n"
     ]
    },
    {
     "name": "stderr",
     "output_type": "stream",
     "text": [
      "[iter_attack.py:171 -     iterative_attack() ] Attach_iter 64 perturbation shape: (1, 268203), perturbation: [[ 1.01396728  0.461193   -0.21775812 ...  0.68900746  0.08084261\n",
      "  -0.74537176]]\n",
      "[iter_attack.py:67 - poison_with_influence_proj_gradient_step() ] -- max: 231.16854858398438, mean: -0.001746659200415226, min: -234.9404296875\n"
     ]
    },
    {
     "name": "stdout",
     "output_type": "stream",
     "text": [
      "---adfadfdafadfdafadfa\n",
      "\n",
      "\n",
      "[[-1.01396728 -0.461193    0.21775812 ... -0.68900746 -0.08084261\n",
      "   0.74537176]]\n",
      "1 1\n",
      "Shape (1, 2048)\n",
      "Using normal model\n"
     ]
    },
    {
     "name": "stderr",
     "output_type": "stream",
     "text": [
      "[genericNeuralNet.py:331 -     print_model_eval() ] Train loss (w reg) on all data: 0.013664769\n",
      "[genericNeuralNet.py:332 -     print_model_eval() ] Train loss (w/o reg) on all data: 0.004532285\n",
      "[genericNeuralNet.py:334 -     print_model_eval() ] Test loss (w/o reg) on all data: 0.046639398\n",
      "[genericNeuralNet.py:335 -     print_model_eval() ] Train acc on all data:  1.0\n",
      "[genericNeuralNet.py:336 -     print_model_eval() ] Test acc on all data:   0.9783333333333334\n",
      "[genericNeuralNet.py:338 -     print_model_eval() ] Norm of the mean of gradients: 0.004713346\n",
      "[genericNeuralNet.py:339 -     print_model_eval() ] Norm of the params: 4.273753\n",
      "[iter_attack.py:209 -     iterative_attack() ] Test pred (full): [[0.55515087 0.44484916]]\n",
      "[iter_attack.py:212 -     iterative_attack() ] Test pred (top): [[0.55515087 0.44484916]]\n",
      "[iter_attack.py:151 -     iterative_attack() ] *** Iter: 65\n"
     ]
    },
    {
     "name": "stdout",
     "output_type": "stream",
     "text": [
      "LBFGS training took [25] iter.\n",
      "After training with LBFGS: \n",
      "Total number of parameters: 2048\n",
      "Warning: Desired error not necessarily achieved due to precision loss.\n",
      "         Current function value: -5731.904297\n",
      "         Iterations: 9\n",
      "         Function evaluations: 84\n",
      "         Gradient evaluations: 81\n",
      "         Hessian evaluations: 46\n",
      "Inverse HVP took 2.27441692352 sec\n",
      "Loaded inverse HVP from output/dogfish_900_300_inception_wd-0.001-test-179.npz\n",
      "Inverse HVP took 0.000576019287109 sec\n",
      "Entering the for loop\n"
     ]
    },
    {
     "name": "stderr",
     "output_type": "stream",
     "text": [
      "[iter_attack.py:171 -     iterative_attack() ] Attach_iter 65 perturbation shape: (1, 268203), perturbation: [[-0.14635241 -1.09854245 -1.12281227 ... -0.68416321 -0.02955645\n",
      "   0.43345472]]\n",
      "[iter_attack.py:67 - poison_with_influence_proj_gradient_step() ] -- max: 240.3260955810547, mean: 0.004054031054402861, min: -190.48297119140625\n"
     ]
    },
    {
     "name": "stdout",
     "output_type": "stream",
     "text": [
      "---adfadfdafadfdafadfa\n",
      "\n",
      "\n",
      "[[ 0.14635241  1.09854245  1.12281227 ...  0.68416321  0.02955645\n",
      "  -0.43345472]]\n",
      "1 1\n",
      "Shape (1, 2048)\n",
      "Using normal model\n"
     ]
    },
    {
     "name": "stderr",
     "output_type": "stream",
     "text": [
      "[genericNeuralNet.py:331 -     print_model_eval() ] Train loss (w reg) on all data: 0.013670919\n",
      "[genericNeuralNet.py:332 -     print_model_eval() ] Train loss (w/o reg) on all data: 0.004525964\n",
      "[genericNeuralNet.py:334 -     print_model_eval() ] Test loss (w/o reg) on all data: 0.046681475\n",
      "[genericNeuralNet.py:335 -     print_model_eval() ] Train acc on all data:  1.0\n",
      "[genericNeuralNet.py:336 -     print_model_eval() ] Test acc on all data:   0.9783333333333334\n",
      "[genericNeuralNet.py:338 -     print_model_eval() ] Norm of the mean of gradients: 0.00504766\n",
      "[genericNeuralNet.py:339 -     print_model_eval() ] Norm of the params: 4.276671\n",
      "[iter_attack.py:209 -     iterative_attack() ] Test pred (full): [[0.5515521  0.44844785]]\n",
      "[iter_attack.py:212 -     iterative_attack() ] Test pred (top): [[0.5515521  0.44844785]]\n",
      "[iter_attack.py:151 -     iterative_attack() ] *** Iter: 66\n"
     ]
    },
    {
     "name": "stdout",
     "output_type": "stream",
     "text": [
      "LBFGS training took [45] iter.\n",
      "After training with LBFGS: \n",
      "Total number of parameters: 2048\n",
      "Warning: Desired error not necessarily achieved due to precision loss.\n",
      "         Current function value: -5655.204102\n",
      "         Iterations: 8\n",
      "         Function evaluations: 82\n",
      "         Gradient evaluations: 78\n",
      "         Hessian evaluations: 40\n",
      "Inverse HVP took 2.06751894951 sec\n",
      "Loaded inverse HVP from output/dogfish_900_300_inception_wd-0.001-test-179.npz\n",
      "Inverse HVP took 0.000591993331909 sec\n",
      "Entering the for loop\n"
     ]
    },
    {
     "name": "stderr",
     "output_type": "stream",
     "text": [
      "[iter_attack.py:171 -     iterative_attack() ] Attach_iter 66 perturbation shape: (1, 268203), perturbation: [[ 0.96610224  0.93441516  0.4092612  ...  0.43778399  0.2197406\n",
      "  -0.82274759]]\n",
      "[iter_attack.py:67 - poison_with_influence_proj_gradient_step() ] -- max: 247.97146606445312, mean: -0.0021532962503098847, min: -188.70223999023438\n"
     ]
    },
    {
     "name": "stdout",
     "output_type": "stream",
     "text": [
      "---adfadfdafadfdafadfa\n",
      "\n",
      "\n",
      "[[-0.96610224 -0.93441516 -0.4092612  ... -0.43778399 -0.2197406\n",
      "   0.82274759]]\n",
      "1 1\n",
      "Shape (1, 2048)\n",
      "Using normal model\n"
     ]
    },
    {
     "name": "stderr",
     "output_type": "stream",
     "text": [
      "[genericNeuralNet.py:331 -     print_model_eval() ] Train loss (w reg) on all data: 0.013674872\n",
      "[genericNeuralNet.py:332 -     print_model_eval() ] Train loss (w/o reg) on all data: 0.0045364625\n",
      "[genericNeuralNet.py:334 -     print_model_eval() ] Test loss (w/o reg) on all data: 0.046693422\n",
      "[genericNeuralNet.py:335 -     print_model_eval() ] Train acc on all data:  1.0\n",
      "[genericNeuralNet.py:336 -     print_model_eval() ] Test acc on all data:   0.98\n",
      "[genericNeuralNet.py:338 -     print_model_eval() ] Norm of the mean of gradients: 0.00475159\n",
      "[genericNeuralNet.py:339 -     print_model_eval() ] Norm of the params: 4.27514\n",
      "[iter_attack.py:209 -     iterative_attack() ] Test pred (full): [[0.5471714  0.45282865]]\n",
      "[iter_attack.py:212 -     iterative_attack() ] Test pred (top): [[0.5471714  0.45282865]]\n",
      "[iter_attack.py:151 -     iterative_attack() ] *** Iter: 67\n"
     ]
    },
    {
     "name": "stdout",
     "output_type": "stream",
     "text": [
      "LBFGS training took [38] iter.\n",
      "After training with LBFGS: \n",
      "Total number of parameters: 2048\n",
      "Warning: Desired error not necessarily achieved due to precision loss.\n",
      "         Current function value: -5558.794922\n",
      "         Iterations: 11\n",
      "         Function evaluations: 125\n",
      "         Gradient evaluations: 122\n",
      "         Hessian evaluations: 62\n",
      "Inverse HVP took 3.33506298065 sec\n",
      "Loaded inverse HVP from output/dogfish_900_300_inception_wd-0.001-test-179.npz\n",
      "Inverse HVP took 0.000553846359253 sec\n",
      "Entering the for loop\n"
     ]
    },
    {
     "name": "stderr",
     "output_type": "stream",
     "text": [
      "[iter_attack.py:171 -     iterative_attack() ] Attach_iter 67 perturbation shape: (1, 268203), perturbation: [[ 0.1666925  -1.19678426 -1.31140447 ... -0.68262273  0.13285092\n",
      "   0.36040407]]\n",
      "[iter_attack.py:67 - poison_with_influence_proj_gradient_step() ] -- max: 210.03799438476562, mean: 0.004752594389855813, min: -213.8649444580078\n"
     ]
    },
    {
     "name": "stdout",
     "output_type": "stream",
     "text": [
      "---adfadfdafadfdafadfa\n",
      "\n",
      "\n",
      "[[-0.1666925   1.19678426  1.31140447 ...  0.68262273 -0.13285092\n",
      "  -0.36040407]]\n",
      "1 1\n",
      "Shape (1, 2048)\n",
      "Using normal model\n"
     ]
    },
    {
     "name": "stderr",
     "output_type": "stream",
     "text": [
      "[genericNeuralNet.py:331 -     print_model_eval() ] Train loss (w reg) on all data: 0.013680943\n",
      "[genericNeuralNet.py:332 -     print_model_eval() ] Train loss (w/o reg) on all data: 0.004530535\n",
      "[genericNeuralNet.py:334 -     print_model_eval() ] Test loss (w/o reg) on all data: 0.046736814\n",
      "[genericNeuralNet.py:335 -     print_model_eval() ] Train acc on all data:  1.0\n",
      "[genericNeuralNet.py:336 -     print_model_eval() ] Test acc on all data:   0.98\n",
      "[genericNeuralNet.py:338 -     print_model_eval() ] Norm of the mean of gradients: 0.0050532217\n",
      "[genericNeuralNet.py:339 -     print_model_eval() ] Norm of the params: 4.277945\n",
      "[iter_attack.py:209 -     iterative_attack() ] Test pred (full): [[0.5429575  0.45704255]]\n",
      "[iter_attack.py:212 -     iterative_attack() ] Test pred (top): [[0.5429575  0.45704255]]\n",
      "[iter_attack.py:151 -     iterative_attack() ] *** Iter: 68\n"
     ]
    },
    {
     "name": "stdout",
     "output_type": "stream",
     "text": [
      "LBFGS training took [59] iter.\n",
      "After training with LBFGS: \n",
      "Total number of parameters: 2048\n",
      "Warning: Desired error not necessarily achieved due to precision loss.\n",
      "         Current function value: -5468.572266\n",
      "         Iterations: 12\n",
      "         Function evaluations: 114\n",
      "         Gradient evaluations: 114\n",
      "         Hessian evaluations: 75\n",
      "Inverse HVP took 3.24994301796 sec\n",
      "Loaded inverse HVP from output/dogfish_900_300_inception_wd-0.001-test-179.npz\n",
      "Inverse HVP took 0.000563144683838 sec\n",
      "Entering the for loop\n"
     ]
    },
    {
     "name": "stderr",
     "output_type": "stream",
     "text": [
      "[iter_attack.py:171 -     iterative_attack() ] Attach_iter 68 perturbation shape: (1, 268203), perturbation: [[ 0.77583939  0.543347    0.14453606 ...  0.76455021 -0.08740577\n",
      "  -0.66461283]]\n",
      "[iter_attack.py:67 - poison_with_influence_proj_gradient_step() ] -- max: 212.75938415527344, mean: -0.0015004311586688953, min: -196.05874633789062\n"
     ]
    },
    {
     "name": "stdout",
     "output_type": "stream",
     "text": [
      "---adfadfdafadfdafadfa\n",
      "\n",
      "\n",
      "[[-0.77583939 -0.543347   -0.14453606 ... -0.76455021  0.08740577\n",
      "   0.66461283]]\n",
      "1 1\n",
      "Shape (1, 2048)\n",
      "Using normal model\n"
     ]
    },
    {
     "name": "stderr",
     "output_type": "stream",
     "text": [
      "[genericNeuralNet.py:331 -     print_model_eval() ] Train loss (w reg) on all data: 0.013681765\n",
      "[genericNeuralNet.py:332 -     print_model_eval() ] Train loss (w/o reg) on all data: 0.004540695\n",
      "[genericNeuralNet.py:334 -     print_model_eval() ] Test loss (w/o reg) on all data: 0.046754695\n",
      "[genericNeuralNet.py:335 -     print_model_eval() ] Train acc on all data:  1.0\n",
      "[genericNeuralNet.py:336 -     print_model_eval() ] Test acc on all data:   0.9783333333333334\n",
      "[genericNeuralNet.py:338 -     print_model_eval() ] Norm of the mean of gradients: 0.004747088\n",
      "[genericNeuralNet.py:339 -     print_model_eval() ] Norm of the params: 4.2757616\n",
      "[iter_attack.py:209 -     iterative_attack() ] Test pred (full): [[0.53690344 0.46309653]]\n",
      "[iter_attack.py:212 -     iterative_attack() ] Test pred (top): [[0.53690344 0.46309653]]\n",
      "[iter_attack.py:151 -     iterative_attack() ] *** Iter: 69\n"
     ]
    },
    {
     "name": "stdout",
     "output_type": "stream",
     "text": [
      "LBFGS training took [35] iter.\n",
      "After training with LBFGS: \n",
      "Total number of parameters: 2048\n",
      "Warning: Desired error not necessarily achieved due to precision loss.\n",
      "         Current function value: -5338.416016\n",
      "         Iterations: 10\n",
      "         Function evaluations: 146\n",
      "         Gradient evaluations: 142\n",
      "         Hessian evaluations: 50\n",
      "Inverse HVP took 3.60460710526 sec\n",
      "Loaded inverse HVP from output/dogfish_900_300_inception_wd-0.001-test-179.npz\n",
      "Inverse HVP took 0.000545024871826 sec\n",
      "Entering the for loop\n"
     ]
    },
    {
     "name": "stderr",
     "output_type": "stream",
     "text": [
      "[iter_attack.py:171 -     iterative_attack() ] Attach_iter 69 perturbation shape: (1, 268203), perturbation: [[ 0.68297112 -1.21248221 -1.72092378 ... -0.79265553  0.21114692\n",
      "   0.26131406]]\n",
      "[iter_attack.py:67 - poison_with_influence_proj_gradient_step() ] -- max: 183.9329833984375, mean: 0.004600931319607573, min: -240.45468139648438\n"
     ]
    },
    {
     "name": "stdout",
     "output_type": "stream",
     "text": [
      "---adfadfdafadfdafadfa\n",
      "\n",
      "\n",
      "[[-0.68297112  1.21248221  1.72092378 ...  0.79265553 -0.21114692\n",
      "  -0.26131406]]\n",
      "1 1\n",
      "Shape (1, 2048)\n",
      "Using normal model\n"
     ]
    },
    {
     "name": "stderr",
     "output_type": "stream",
     "text": [
      "[genericNeuralNet.py:331 -     print_model_eval() ] Train loss (w reg) on all data: 0.0136964535\n",
      "[genericNeuralNet.py:332 -     print_model_eval() ] Train loss (w/o reg) on all data: 0.004537575\n",
      "[genericNeuralNet.py:334 -     print_model_eval() ] Test loss (w/o reg) on all data: 0.046802253\n",
      "[genericNeuralNet.py:335 -     print_model_eval() ] Train acc on all data:  1.0\n",
      "[genericNeuralNet.py:336 -     print_model_eval() ] Test acc on all data:   0.98\n",
      "[genericNeuralNet.py:338 -     print_model_eval() ] Norm of the mean of gradients: 0.005082122\n",
      "[genericNeuralNet.py:339 -     print_model_eval() ] Norm of the params: 4.279925\n",
      "[iter_attack.py:209 -     iterative_attack() ] Test pred (full): [[0.534024   0.46597597]]\n",
      "[iter_attack.py:212 -     iterative_attack() ] Test pred (top): [[0.534024   0.46597597]]\n",
      "[iter_attack.py:151 -     iterative_attack() ] *** Iter: 70\n"
     ]
    },
    {
     "name": "stdout",
     "output_type": "stream",
     "text": [
      "LBFGS training took [47] iter.\n",
      "After training with LBFGS: \n",
      "Total number of parameters: 2048\n",
      "Warning: Desired error not necessarily achieved due to precision loss.\n",
      "         Current function value: -5279.512207\n",
      "         Iterations: 8\n",
      "         Function evaluations: 85\n",
      "         Gradient evaluations: 81\n",
      "         Hessian evaluations: 37\n",
      "Inverse HVP took 2.18276286125 sec\n",
      "Loaded inverse HVP from output/dogfish_900_300_inception_wd-0.001-test-179.npz\n",
      "Inverse HVP took 0.000574827194214 sec\n",
      "Entering the for loop\n"
     ]
    },
    {
     "name": "stderr",
     "output_type": "stream",
     "text": [
      "[iter_attack.py:171 -     iterative_attack() ] Attach_iter 70 perturbation shape: (1, 268203), perturbation: [[-0.00575903  0.47107649  0.57233959 ...  0.634224   -0.08848448\n",
      "  -0.53452551]]\n",
      "[iter_attack.py:67 - poison_with_influence_proj_gradient_step() ] -- max: 198.4512939453125, mean: -0.0025646307693773514, min: -179.58322143554688\n"
     ]
    },
    {
     "name": "stdout",
     "output_type": "stream",
     "text": [
      "---adfadfdafadfdafadfa\n",
      "\n",
      "\n",
      "[[ 0.00575903 -0.47107649 -0.57233959 ... -0.634224    0.08848448\n",
      "   0.53452551]]\n",
      "1 1\n",
      "Shape (1, 2048)\n",
      "Using normal model\n"
     ]
    },
    {
     "name": "stderr",
     "output_type": "stream",
     "text": [
      "[genericNeuralNet.py:331 -     print_model_eval() ] Train loss (w reg) on all data: 0.013693588\n",
      "[genericNeuralNet.py:332 -     print_model_eval() ] Train loss (w/o reg) on all data: 0.0045455107\n",
      "[genericNeuralNet.py:334 -     print_model_eval() ] Test loss (w/o reg) on all data: 0.046760004\n",
      "[genericNeuralNet.py:335 -     print_model_eval() ] Train acc on all data:  1.0\n",
      "[genericNeuralNet.py:336 -     print_model_eval() ] Test acc on all data:   0.9783333333333334\n",
      "[genericNeuralNet.py:338 -     print_model_eval() ] Norm of the mean of gradients: 0.00478241\n",
      "[genericNeuralNet.py:339 -     print_model_eval() ] Norm of the params: 4.2774005\n",
      "[iter_attack.py:209 -     iterative_attack() ] Test pred (full): [[0.52848965 0.47151044]]\n",
      "[iter_attack.py:212 -     iterative_attack() ] Test pred (top): [[0.52848965 0.47151044]]\n",
      "[iter_attack.py:151 -     iterative_attack() ] *** Iter: 71\n"
     ]
    },
    {
     "name": "stdout",
     "output_type": "stream",
     "text": [
      "LBFGS training took [34] iter.\n",
      "After training with LBFGS: \n",
      "Total number of parameters: 2048\n",
      "Warning: Desired error not necessarily achieved due to precision loss.\n",
      "         Current function value: -5164.191406\n",
      "         Iterations: 11\n",
      "         Function evaluations: 131\n",
      "         Gradient evaluations: 128\n",
      "         Hessian evaluations: 64\n",
      "Inverse HVP took 3.36458110809 sec\n",
      "Loaded inverse HVP from output/dogfish_900_300_inception_wd-0.001-test-179.npz\n",
      "Inverse HVP took 0.000576019287109 sec\n",
      "Entering the for loop\n"
     ]
    },
    {
     "name": "stderr",
     "output_type": "stream",
     "text": [
      "[iter_attack.py:171 -     iterative_attack() ] Attach_iter 71 perturbation shape: (1, 268203), perturbation: [[ 0.78217596 -0.79480475 -1.35271573 ... -0.33873612  0.15423945\n",
      "  -0.03910434]]\n",
      "[iter_attack.py:67 - poison_with_influence_proj_gradient_step() ] -- max: 170.8721160888672, mean: 0.005016291316112635, min: -183.99078369140625\n"
     ]
    },
    {
     "name": "stdout",
     "output_type": "stream",
     "text": [
      "---adfadfdafadfdafadfa\n",
      "\n",
      "\n",
      "[[-0.78217596  0.79480475  1.35271573 ...  0.33873612 -0.15423945\n",
      "   0.03910434]]\n",
      "1 1\n",
      "Shape (1, 2048)\n",
      "Using normal model\n"
     ]
    },
    {
     "name": "stderr",
     "output_type": "stream",
     "text": [
      "[genericNeuralNet.py:331 -     print_model_eval() ] Train loss (w reg) on all data: 0.013713157\n",
      "[genericNeuralNet.py:332 -     print_model_eval() ] Train loss (w/o reg) on all data: 0.004544862\n",
      "[genericNeuralNet.py:334 -     print_model_eval() ] Test loss (w/o reg) on all data: 0.046878483\n",
      "[genericNeuralNet.py:335 -     print_model_eval() ] Train acc on all data:  1.0\n",
      "[genericNeuralNet.py:336 -     print_model_eval() ] Test acc on all data:   0.98\n",
      "[genericNeuralNet.py:338 -     print_model_eval() ] Norm of the mean of gradients: 0.005105859\n",
      "[genericNeuralNet.py:339 -     print_model_eval() ] Norm of the params: 4.282124\n",
      "[iter_attack.py:209 -     iterative_attack() ] Test pred (full): [[0.52405185 0.47594813]]\n",
      "[iter_attack.py:212 -     iterative_attack() ] Test pred (top): [[0.52405185 0.47594813]]\n",
      "[iter_attack.py:151 -     iterative_attack() ] *** Iter: 72\n"
     ]
    },
    {
     "name": "stdout",
     "output_type": "stream",
     "text": [
      "LBFGS training took [51] iter.\n",
      "After training with LBFGS: \n",
      "Total number of parameters: 2048\n",
      "Warning: Desired error not necessarily achieved due to precision loss.\n",
      "         Current function value: -5072.709961\n",
      "         Iterations: 11\n",
      "         Function evaluations: 137\n",
      "         Gradient evaluations: 134\n",
      "         Hessian evaluations: 61\n",
      "Inverse HVP took 3.53739500046 sec\n",
      "Loaded inverse HVP from output/dogfish_900_300_inception_wd-0.001-test-179.npz\n",
      "Inverse HVP took 0.000566005706787 sec\n",
      "Entering the for loop\n"
     ]
    },
    {
     "name": "stderr",
     "output_type": "stream",
     "text": [
      "[iter_attack.py:171 -     iterative_attack() ] Attach_iter 72 perturbation shape: (1, 268203), perturbation: [[-0.67303318  0.12127459  0.46875614 ...  0.1536667   0.05645493\n",
      "  -0.31258816]]\n",
      "[iter_attack.py:67 - poison_with_influence_proj_gradient_step() ] -- max: 145.30650329589844, mean: -0.003078676066136474, min: -174.4165496826172\n"
     ]
    },
    {
     "name": "stdout",
     "output_type": "stream",
     "text": [
      "---adfadfdafadfdafadfa\n",
      "\n",
      "\n",
      "[[ 0.67303318 -0.12127459 -0.46875614 ... -0.1536667  -0.05645493\n",
      "   0.31258816]]\n",
      "1 1\n",
      "Shape (1, 2048)\n",
      "Using normal model\n"
     ]
    },
    {
     "name": "stderr",
     "output_type": "stream",
     "text": [
      "[genericNeuralNet.py:331 -     print_model_eval() ] Train loss (w reg) on all data: 0.013702905\n",
      "[genericNeuralNet.py:332 -     print_model_eval() ] Train loss (w/o reg) on all data: 0.00454968\n",
      "[genericNeuralNet.py:334 -     print_model_eval() ] Test loss (w/o reg) on all data: 0.04679823\n",
      "[genericNeuralNet.py:335 -     print_model_eval() ] Train acc on all data:  1.0\n",
      "[genericNeuralNet.py:336 -     print_model_eval() ] Test acc on all data:   0.9766666666666667\n",
      "[genericNeuralNet.py:338 -     print_model_eval() ] Norm of the mean of gradients: 0.0048167277\n",
      "[genericNeuralNet.py:339 -     print_model_eval() ] Norm of the params: 4.278603\n",
      "[iter_attack.py:209 -     iterative_attack() ] Test pred (full): [[0.5188746  0.48112544]]\n",
      "[iter_attack.py:212 -     iterative_attack() ] Test pred (top): [[0.5188746  0.48112544]]\n",
      "[iter_attack.py:151 -     iterative_attack() ] *** Iter: 73\n"
     ]
    },
    {
     "name": "stdout",
     "output_type": "stream",
     "text": [
      "LBFGS training took [22] iter.\n",
      "After training with LBFGS: \n",
      "Total number of parameters: 2048\n",
      "Warning: Desired error not necessarily achieved due to precision loss.\n",
      "         Current function value: -4968.580078\n",
      "         Iterations: 9\n",
      "         Function evaluations: 98\n",
      "         Gradient evaluations: 96\n",
      "         Hessian evaluations: 45\n",
      "Inverse HVP took 2.54893398285 sec\n",
      "Loaded inverse HVP from output/dogfish_900_300_inception_wd-0.001-test-179.npz\n",
      "Inverse HVP took 0.000586986541748 sec\n",
      "Entering the for loop\n"
     ]
    },
    {
     "name": "stderr",
     "output_type": "stream",
     "text": [
      "[iter_attack.py:171 -     iterative_attack() ] Attach_iter 73 perturbation shape: (1, 268203), perturbation: [[ 1.10678744 -0.67187798 -1.70274532 ...  0.06254102  0.02399389\n",
      "  -0.12904069]]\n",
      "[iter_attack.py:67 - poison_with_influence_proj_gradient_step() ] -- max: 228.75494384765625, mean: 0.004195119642299593, min: -180.77569580078125\n"
     ]
    },
    {
     "name": "stdout",
     "output_type": "stream",
     "text": [
      "---adfadfdafadfdafadfa\n",
      "\n",
      "\n",
      "[[-1.10678744  0.67187798  1.70274532 ... -0.06254102 -0.02399389\n",
      "   0.12904069]]\n",
      "1 1\n",
      "Shape (1, 2048)\n",
      "Using normal model\n"
     ]
    },
    {
     "name": "stderr",
     "output_type": "stream",
     "text": [
      "[genericNeuralNet.py:331 -     print_model_eval() ] Train loss (w reg) on all data: 0.013732309\n",
      "[genericNeuralNet.py:332 -     print_model_eval() ] Train loss (w/o reg) on all data: 0.004552343\n",
      "[genericNeuralNet.py:334 -     print_model_eval() ] Test loss (w/o reg) on all data: 0.04693551\n",
      "[genericNeuralNet.py:335 -     print_model_eval() ] Train acc on all data:  1.0\n",
      "[genericNeuralNet.py:336 -     print_model_eval() ] Test acc on all data:   0.98\n",
      "[genericNeuralNet.py:338 -     print_model_eval() ] Norm of the mean of gradients: 0.0051415022\n",
      "[genericNeuralNet.py:339 -     print_model_eval() ] Norm of the params: 4.284849\n",
      "[iter_attack.py:209 -     iterative_attack() ] Test pred (full): [[0.5136971  0.48630288]]\n",
      "[iter_attack.py:212 -     iterative_attack() ] Test pred (top): [[0.5136971  0.48630288]]\n",
      "[iter_attack.py:151 -     iterative_attack() ] *** Iter: 74\n"
     ]
    },
    {
     "name": "stdout",
     "output_type": "stream",
     "text": [
      "LBFGS training took [47] iter.\n",
      "After training with LBFGS: \n",
      "Total number of parameters: 2048\n",
      "Warning: Desired error not necessarily achieved due to precision loss.\n",
      "         Current function value: -4863.630859\n",
      "         Iterations: 10\n",
      "         Function evaluations: 146\n",
      "         Gradient evaluations: 143\n",
      "         Hessian evaluations: 59\n",
      "Inverse HVP took 3.65556502342 sec\n",
      "Loaded inverse HVP from output/dogfish_900_300_inception_wd-0.001-test-179.npz\n",
      "Inverse HVP took 0.000584125518799 sec\n",
      "Entering the for loop\n"
     ]
    },
    {
     "name": "stderr",
     "output_type": "stream",
     "text": [
      "[iter_attack.py:171 -     iterative_attack() ] Attach_iter 74 perturbation shape: (1, 268203), perturbation: [[-0.57633913  0.02319273  0.4865247  ... -0.41408473  0.29179439\n",
      "  -0.19792821]]\n",
      "[iter_attack.py:67 - poison_with_influence_proj_gradient_step() ] -- max: 138.39024353027344, mean: -0.0026613971278741616, min: -154.23655700683594\n"
     ]
    },
    {
     "name": "stdout",
     "output_type": "stream",
     "text": [
      "---adfadfdafadfdafadfa\n",
      "\n",
      "\n",
      "[[ 0.57633913 -0.02319273 -0.4865247  ...  0.41408473 -0.29179439\n",
      "   0.19792821]]\n",
      "1 1\n",
      "Shape (1, 2048)\n",
      "Using normal model\n"
     ]
    },
    {
     "name": "stderr",
     "output_type": "stream",
     "text": [
      "[genericNeuralNet.py:331 -     print_model_eval() ] Train loss (w reg) on all data: 0.013709726\n",
      "[genericNeuralNet.py:332 -     print_model_eval() ] Train loss (w/o reg) on all data: 0.0045506796\n",
      "[genericNeuralNet.py:334 -     print_model_eval() ] Test loss (w/o reg) on all data: 0.04676725\n",
      "[genericNeuralNet.py:335 -     print_model_eval() ] Train acc on all data:  1.0\n",
      "[genericNeuralNet.py:336 -     print_model_eval() ] Test acc on all data:   0.9766666666666667\n",
      "[genericNeuralNet.py:338 -     print_model_eval() ] Norm of the mean of gradients: 0.0048648943\n",
      "[genericNeuralNet.py:339 -     print_model_eval() ] Norm of the params: 4.2799644\n",
      "[iter_attack.py:209 -     iterative_attack() ] Test pred (full): [[0.51111716 0.4888829 ]]\n",
      "[iter_attack.py:212 -     iterative_attack() ] Test pred (top): [[0.51111716 0.4888829 ]]\n",
      "[iter_attack.py:151 -     iterative_attack() ] *** Iter: 75\n"
     ]
    },
    {
     "name": "stdout",
     "output_type": "stream",
     "text": [
      "LBFGS training took [35] iter.\n",
      "After training with LBFGS: \n",
      "Total number of parameters: 2048\n",
      "Warning: Desired error not necessarily achieved due to precision loss.\n",
      "         Current function value: -4813.780273\n",
      "         Iterations: 10\n",
      "         Function evaluations: 77\n",
      "         Gradient evaluations: 75\n",
      "         Hessian evaluations: 53\n",
      "Inverse HVP took 2.15132808685 sec\n",
      "Loaded inverse HVP from output/dogfish_900_300_inception_wd-0.001-test-179.npz\n",
      "Inverse HVP took 0.000577926635742 sec\n",
      "Entering the for loop\n"
     ]
    },
    {
     "name": "stderr",
     "output_type": "stream",
     "text": [
      "[iter_attack.py:171 -     iterative_attack() ] Attach_iter 75 perturbation shape: (1, 268203), perturbation: [[ 1.04963946 -0.40214002 -1.32289326 ...  0.46372434 -0.1753327\n",
      "  -0.09807381]]\n",
      "[iter_attack.py:67 - poison_with_influence_proj_gradient_step() ] -- max: 238.50953674316406, mean: 0.003750750494333907, min: -155.29483032226562\n"
     ]
    },
    {
     "name": "stdout",
     "output_type": "stream",
     "text": [
      "---adfadfdafadfdafadfa\n",
      "\n",
      "\n",
      "[[-1.04963946  0.40214002  1.32289326 ... -0.46372434  0.1753327\n",
      "   0.09807381]]\n",
      "1 1\n",
      "Shape (1, 2048)\n",
      "Using normal model\n"
     ]
    },
    {
     "name": "stderr",
     "output_type": "stream",
     "text": [
      "[genericNeuralNet.py:331 -     print_model_eval() ] Train loss (w reg) on all data: 0.013744467\n",
      "[genericNeuralNet.py:332 -     print_model_eval() ] Train loss (w/o reg) on all data: 0.004559528\n",
      "[genericNeuralNet.py:334 -     print_model_eval() ] Test loss (w/o reg) on all data: 0.04708417\n",
      "[genericNeuralNet.py:335 -     print_model_eval() ] Train acc on all data:  1.0\n",
      "[genericNeuralNet.py:336 -     print_model_eval() ] Test acc on all data:   0.98\n",
      "[genericNeuralNet.py:338 -     print_model_eval() ] Norm of the mean of gradients: 0.005139678\n",
      "[genericNeuralNet.py:339 -     print_model_eval() ] Norm of the params: 4.2860093\n",
      "[iter_attack.py:209 -     iterative_attack() ] Test pred (full): [[0.5055525 0.4944475]]\n",
      "[iter_attack.py:212 -     iterative_attack() ] Test pred (top): [[0.5055525 0.4944475]]\n",
      "[iter_attack.py:151 -     iterative_attack() ] *** Iter: 76\n"
     ]
    },
    {
     "name": "stdout",
     "output_type": "stream",
     "text": [
      "LBFGS training took [47] iter.\n",
      "After training with LBFGS: \n",
      "Total number of parameters: 2048\n",
      "Warning: Desired error not necessarily achieved due to precision loss.\n",
      "         Current function value: -4702.275391\n",
      "         Iterations: 9\n",
      "         Function evaluations: 72\n",
      "         Gradient evaluations: 70\n",
      "         Hessian evaluations: 43\n",
      "Inverse HVP took 1.91017484665 sec\n",
      "Loaded inverse HVP from output/dogfish_900_300_inception_wd-0.001-test-179.npz\n",
      "Inverse HVP took 0.000604152679443 sec\n",
      "Entering the for loop\n"
     ]
    },
    {
     "name": "stderr",
     "output_type": "stream",
     "text": [
      "[iter_attack.py:171 -     iterative_attack() ] Attach_iter 76 perturbation shape: (1, 268203), perturbation: [[-0.32985541 -0.05849817  0.499659   ... -0.16261907  0.46605396\n",
      "  -0.38794771]]\n",
      "[iter_attack.py:67 - poison_with_influence_proj_gradient_step() ] -- max: 149.958984375, mean: -0.0017856636181528903, min: -153.28550720214844\n"
     ]
    },
    {
     "name": "stdout",
     "output_type": "stream",
     "text": [
      "---adfadfdafadfdafadfa\n",
      "\n",
      "\n",
      "[[ 0.32985541  0.05849817 -0.499659   ...  0.16261907 -0.46605396\n",
      "   0.38794771]]\n",
      "1 1\n",
      "Shape (1, 2048)\n",
      "Using normal model\n"
     ]
    },
    {
     "name": "stderr",
     "output_type": "stream",
     "text": [
      "[genericNeuralNet.py:331 -     print_model_eval() ] Train loss (w reg) on all data: 0.013724882\n",
      "[genericNeuralNet.py:332 -     print_model_eval() ] Train loss (w/o reg) on all data: 0.004555648\n",
      "[genericNeuralNet.py:334 -     print_model_eval() ] Test loss (w/o reg) on all data: 0.04674917\n",
      "[genericNeuralNet.py:335 -     print_model_eval() ] Train acc on all data:  1.0\n",
      "[genericNeuralNet.py:336 -     print_model_eval() ] Test acc on all data:   0.9766666666666667\n",
      "[genericNeuralNet.py:338 -     print_model_eval() ] Norm of the mean of gradients: 0.0049219085\n",
      "[genericNeuralNet.py:339 -     print_model_eval() ] Norm of the params: 4.282343\n",
      "[iter_attack.py:209 -     iterative_attack() ] Test pred (full): [[0.50236636 0.4976336 ]]\n",
      "[iter_attack.py:212 -     iterative_attack() ] Test pred (top): [[0.50236636 0.4976336 ]]\n",
      "[iter_attack.py:151 -     iterative_attack() ] *** Iter: 77\n"
     ]
    },
    {
     "name": "stdout",
     "output_type": "stream",
     "text": [
      "LBFGS training took [43] iter.\n",
      "After training with LBFGS: \n",
      "Total number of parameters: 2048\n",
      "Warning: Desired error not necessarily achieved due to precision loss.\n",
      "         Current function value: -4642.760742\n",
      "         Iterations: 10\n",
      "         Function evaluations: 93\n",
      "         Gradient evaluations: 91\n",
      "         Hessian evaluations: 50\n",
      "Inverse HVP took 2.45876908302 sec\n",
      "Loaded inverse HVP from output/dogfish_900_300_inception_wd-0.001-test-179.npz\n",
      "Inverse HVP took 0.000576019287109 sec\n",
      "Entering the for loop\n"
     ]
    },
    {
     "name": "stderr",
     "output_type": "stream",
     "text": [
      "[iter_attack.py:171 -     iterative_attack() ] Attach_iter 77 perturbation shape: (1, 268203), perturbation: [[ 0.71447313 -0.47037095 -1.22742558 ... -0.01470393 -0.28193748\n",
      "   0.15258226]]\n",
      "[iter_attack.py:67 - poison_with_influence_proj_gradient_step() ] -- max: 242.04122924804688, mean: 0.0033508413532032113, min: -167.645751953125\n"
     ]
    },
    {
     "name": "stdout",
     "output_type": "stream",
     "text": [
      "---adfadfdafadfdafadfa\n",
      "\n",
      "\n",
      "[[-0.71447313  0.47037095  1.22742558 ...  0.01470393  0.28193748\n",
      "  -0.15258226]]\n",
      "1 1\n",
      "Shape (1, 2048)\n",
      "Using normal model\n"
     ]
    },
    {
     "name": "stderr",
     "output_type": "stream",
     "text": [
      "[genericNeuralNet.py:331 -     print_model_eval() ] Train loss (w reg) on all data: 0.013750663\n",
      "[genericNeuralNet.py:332 -     print_model_eval() ] Train loss (w/o reg) on all data: 0.004563031\n",
      "[genericNeuralNet.py:334 -     print_model_eval() ] Test loss (w/o reg) on all data: 0.04726581\n",
      "[genericNeuralNet.py:335 -     print_model_eval() ] Train acc on all data:  1.0\n",
      "[genericNeuralNet.py:336 -     print_model_eval() ] Test acc on all data:   0.9783333333333334\n",
      "[genericNeuralNet.py:338 -     print_model_eval() ] Norm of the mean of gradients: 0.0051458464\n",
      "[genericNeuralNet.py:339 -     print_model_eval() ] Norm of the params: 4.286638\n",
      "[iter_attack.py:209 -     iterative_attack() ] Test pred (full): [[0.49543917 0.5045608 ]]\n",
      "[iter_attack.py:212 -     iterative_attack() ] Test pred (top): [[0.49543917 0.5045608 ]]\n",
      "[iter_attack.py:216 -     iterative_attack() ] Successfully attacked. Saving and breaking...\n"
     ]
    },
    {
     "name": "stdout",
     "output_type": "stream",
     "text": [
      "LBFGS training took [42] iter.\n",
      "After training with LBFGS: \n",
      "Using normal model\n"
     ]
    },
    {
     "name": "stderr",
     "output_type": "stream",
     "text": [
      "[genericNeuralNet.py:331 -     print_model_eval() ] Train loss (w reg) on all data: 0.012129043\n",
      "[genericNeuralNet.py:332 -     print_model_eval() ] Train loss (w/o reg) on all data: 0.0039762314\n",
      "[genericNeuralNet.py:334 -     print_model_eval() ] Test loss (w/o reg) on all data: 0.04845508\n",
      "[genericNeuralNet.py:335 -     print_model_eval() ] Train acc on all data:  1.0\n",
      "[genericNeuralNet.py:336 -     print_model_eval() ] Test acc on all data:   0.985\n",
      "[genericNeuralNet.py:338 -     print_model_eval() ] Norm of the mean of gradients: 5.886679e-07\n",
      "[genericNeuralNet.py:339 -     print_model_eval() ] Norm of the params: 4.038022\n"
     ]
    },
    {
     "name": "stdout",
     "output_type": "stream",
     "text": [
      "LBFGS training took [44] iter.\n",
      "After training with LBFGS: \n"
     ]
    }
   ],
   "source": [
    "print('*** Full:')\n",
    "with full_graph.as_default():\n",
    "    full_model_name = '%s_inception_wd-%s' % (dataset_name, weight_decay)\n",
    "    full_model = BinaryInceptionModel(\n",
    "        img_side=img_side,\n",
    "        num_channels=num_channels,\n",
    "        weight_decay=weight_decay,\n",
    "        num_classes=num_classes, \n",
    "        batch_size=batch_size,\n",
    "        data_sets=data_sets,\n",
    "        initial_learning_rate=initial_learning_rate,\n",
    "        keep_probs=keep_probs,\n",
    "        decay_epochs=decay_epochs,\n",
    "        mini_batch=True,\n",
    "        train_dir='output',\n",
    "        log_dir='log',\n",
    "        model_name=full_model_name)\n",
    "    \n",
    "    for data_set, label in [\n",
    "        (data_sets.train, 'train'),\n",
    "        (data_sets.test, 'test')]:\n",
    "\n",
    "        inception_features_path = 'output/%s_inception_features_new_%s.npz' % (dataset_name, label)\n",
    "        if not os.path.exists(inception_features_path):\n",
    "\n",
    "            print('Inception features do not exist. Generating %s...' % label)\n",
    "            data_set.reset_batch()\n",
    "            \n",
    "            num_examples = data_set.num_examples\n",
    "#             assert num_examples % batch_size == 0\n",
    "\n",
    "            inception_features_val = generate_inception_features(\n",
    "                full_model, \n",
    "                data_set.x, \n",
    "                data_set.labels, \n",
    "                batch_size=batch_size)\n",
    "            \n",
    "            np.savez(\n",
    "                inception_features_path, \n",
    "                inception_features_val=inception_features_val,\n",
    "                labels=data_set.labels)\n",
    "            \n",
    "train_f = np.load('output/%s_inception_features_new_train.npz' % dataset_name)\n",
    "inception_X_train = DataSet(train_f['inception_features_val'], train_f['labels'])\n",
    "test_f = np.load('output/%s_inception_features_new_test.npz' % dataset_name)\n",
    "inception_X_test = DataSet(test_f['inception_features_val'], test_f['labels'])\n",
    "\n",
    "validation = None\n",
    "\n",
    "inception_data_sets = base.Datasets(train=inception_X_train, validation=validation, test=inception_X_test)\n",
    "\n",
    "print('*** Top:')\n",
    "with top_graph.as_default():\n",
    "    top_model_name = '%s_inception_onlytop_wd-%s' % (dataset_name, weight_decay)\n",
    "    input_dim = 2048\n",
    "    top_model = BinaryLogisticRegressionWithLBFGS(\n",
    "        input_dim=input_dim,\n",
    "        weight_decay=weight_decay,\n",
    "        max_lbfgs_iter=max_lbfgs_iter,\n",
    "        num_classes=num_classes, \n",
    "        batch_size=batch_size,\n",
    "        data_sets=inception_data_sets,\n",
    "        initial_learning_rate=initial_learning_rate,\n",
    "        keep_probs=keep_probs,\n",
    "        decay_epochs=decay_epochs,\n",
    "        mini_batch=False,\n",
    "        train_dir='output',\n",
    "        log_dir='log',\n",
    "        model_name=top_model_name)\n",
    "    weights = top_model.retrain_and_get_weights(inception_X_train.x, inception_X_train.labels)\n",
    "    orig_weight_path = 'output/inception_weights_%s.npy' % top_model_name\n",
    "    np.save(orig_weight_path, weights)\n",
    "    \n",
    "with full_graph.as_default():\n",
    "    full_model.load_weights_from_disk(orig_weight_path, do_save=False, do_check=True)\n",
    "\n",
    "### Create poisoned dataset\n",
    "print('Creating poisoned dataset...')\n",
    "\n",
    "step_size = 0.02\n",
    "print('step_size is', step_size)\n",
    "\n",
    "num_train = len(data_sets.train.labels)\n",
    "num_test = len(data_sets.test.labels)\n",
    "max_num_to_poison = 10\n",
    "\n",
    "### Try attacking each test example individually\n",
    "\n",
    "# orig_X_train = np.copy(data_sets.train.x)\n",
    "# orig_Y_train = np.copy(data_sets.train.labels)\n",
    "\n",
    "test_indices_to_attack = [179]\n",
    "\n",
    "\n",
    "for test_idx in test_indices_to_attack:\n",
    "\n",
    "    print('****** Attacking test_idx %s ******' % test_idx)\n",
    "    test_description = test_idx\n",
    "\n",
    "    # If this has already been successfully attacked, skip\n",
    "    filenames = [filename for filename in os.listdir('./output') if (\n",
    "        (('%s_attack_testidx-%s_trainidx-' % (full_model.model_name, test_description)) in filename) and        \n",
    "        (filename.endswith('stepsize-%s_proj_final.npz' % step_size)))]\n",
    "        # and (('stepsize-%s_proj_final.npz' % step_size) in filename))] # Check all step sizes        \n",
    "    if len(filenames) > 0:\n",
    "        print('test_idx %s has already been successfully attacked. Skipping...')\n",
    "        continue\n",
    "        \n",
    "    # Use top model to quickly generate inverse HVP\n",
    "#     dup_incep = DataSet(np.copy(inception_X_test.x), np.copy(inception_X_test.labels))\n",
    "#     dup_incep.labels[test_idx] = 0\n",
    "\n",
    "    with top_graph.as_default():\n",
    "        get_hvp(\n",
    "            top_model,\n",
    "            inception_X_test, inception_X_train,\n",
    "            test_description=test_description,\n",
    "            test_idx = [test_idx],\n",
    "            force_refresh=True)\n",
    "    copyfile(\n",
    "        'output/%s-test-%s.npz' % (top_model_name, test_description),\n",
    "        'output/%s-test-%s.npz' % (full_model_name, test_description))\n",
    "        \n",
    "    # Use full model to select indices to poison\n",
    "    with full_graph.as_default():\n",
    "        grad_influence_wrt_input_val_subset = get_grad_of_influence_wrt_input(full_model, \n",
    "                                                    [test_idx], data_sets.test, \n",
    "                                                    np.arange(num_train), data_sets.train, \n",
    "                                                    test_description,\n",
    "                                                    force_refresh=False)\n",
    "        # save into file for caching \n",
    "        print(\"finished calculating grad_wrt_input_val\")\n",
    "        pred_diff = np.sum(np.abs(grad_influence_wrt_input_val_subset), axis = 1)\n",
    "        all_indices_to_poison = np.argsort(pred_diff)[-1:-max_num_to_poison-1:-1]\n",
    "#     all_indices_to_poison =  [1141,1454,1447,158,306,1484,1589,1354,721,1295]\n",
    "    print(\"-----------------------\")\n",
    "    print(\"-----------------------\")\n",
    "    print(\"all_indices_to_poison: \", all_indices_to_poison)\n",
    "    # for 15: 999,  172, 1302,  492, 1446,  164,  153, 1186,   47,  575\n",
    "\n",
    "    for num_to_poison in [0.1]:\n",
    "        # If we're just attacking one training example, try attacking the first one and also the second one separately\n",
    "        if num_to_poison == 0.1:\n",
    "#             indices_to_poison = all_indices_to_poison[0:1]\n",
    "            indices_to_poison = all_indices_to_poison[0:1]\n",
    "            print('indices_to_poison', indices_to_poison)\n",
    "        elif num_to_poison == 1.2:\n",
    "            indices_to_poison = all_indices_to_poison[1:2]\n",
    "        else:\n",
    "            indices_to_poison = all_indices_to_poison[:num_to_poison]\n",
    "        \n",
    "        orig_X_train_subset = np.copy(data_sets.train.x[indices_to_poison, :])\n",
    "        orig_X_train_inception_features_subset = np.copy(inception_X_train.x[indices_to_poison, :])\n",
    "\n",
    "        project_fn = get_projection_to_box_around_orig_point(orig_X_train_subset, box_radius_in_pixels=0.5)\n",
    "\n",
    "        attack_success = iterative_attack(top_model, full_model, top_graph, full_graph, project_fn, \n",
    "                                          [test_idx], \n",
    "                                          test_description, \n",
    "                                          data_sets.train, data_sets.test, dataset_name,\n",
    "                                          indices_to_poison=indices_to_poison,\n",
    "                                          num_iter=100,\n",
    "                                          step_size=step_size,\n",
    "                                          save_iter=100,\n",
    "                                          early_stop=0.5,\n",
    "                                          target_labels=[1]\n",
    "                                            )\n",
    "        \n",
    "        new_incep_feat = np.copy(inception_X_train.x[indices_to_poison, :])\n",
    "\n",
    "        with full_graph.as_default():\n",
    "            data_sets.train.x[indices_to_poison, :] = orig_X_train_subset\n",
    "            full_model.load_weights_from_disk(orig_weight_path, do_save=False, do_check=False)\n",
    "        with top_graph.as_default():\n",
    "            inception_X_train.x[indices_to_poison, :] = orig_X_train_inception_features_subset\n",
    "            top_model.retrain_and_get_weights(inception_X_train.x, inception_X_train.labels)\n",
    "\n",
    "#         if attack_success:\n",
    "#             break"
   ]
  },
  {
   "cell_type": "code",
   "execution_count": null,
   "metadata": {},
   "outputs": [],
   "source": [
    "print(min(data_sets.train.x[0]))\n",
    "print(max(data_sets.train.x[0]))"
   ]
  },
  {
   "cell_type": "code",
   "execution_count": 17,
   "metadata": {},
   "outputs": [
    {
     "name": "stdout",
     "output_type": "stream",
     "text": [
      "(299, 299, 3)\n"
     ]
    },
    {
     "data": {
      "image/png": "[encoded data removed]",
      "text/plain": [
       "<matplotlib.figure.Figure at 0x7f530d719d50>"
      ]
     },
     "metadata": {},
     "output_type": "display_data"
    }
   ],
   "source": [
    "import matplotlib.pyplot as plt\n",
    "import matplotlib.cm as cm\n",
    "import numpy as np\n",
    "\n",
    "img = data_sets.test.x[179].reshape((img_side,img_side,num_channels)).copy()\n",
    "plt.axis('off')\n",
    "print(img.shape)\n",
    "img /= 2\n",
    "img += 0.5\n",
    "img *= 255.\n",
    "\n",
    "plt.imshow(np.array(img).reshape(img_side,img_side,3))\n",
    "plt.show()"
   ]
  },
  {
   "cell_type": "code",
   "execution_count": 30,
   "metadata": {},
   "outputs": [
    {
     "data": {
      "image/png": "[encoded data removed]",
      "text/plain": [
       "<matplotlib.figure.Figure at 0x7f441d90e050>"
      ]
     },
     "metadata": {},
     "output_type": "display_data"
    }
   ],
   "source": [
    "img = data_sets.train.x[706].reshape((img_side,img_side,num_channels)).copy()\n",
    "render_img(img)"
   ]
  },
  {
   "cell_type": "code",
   "execution_count": 17,
   "metadata": {},
   "outputs": [
    {
     "data": {
      "text/plain": [
       "(150, 268203)"
      ]
     },
     "execution_count": 17,
     "metadata": {},
     "output_type": "execute_result"
    }
   ],
   "source": [
    "data_sets.test.x.shape"
   ]
  },
  {
   "cell_type": "code",
   "execution_count": 50,
   "metadata": {},
   "outputs": [
    {
     "data": {
      "image/png": "[encoded data removed]",
      "text/plain": [
       "<matplotlib.figure.Figure at 0x7f5e6bef6810>"
      ]
     },
     "metadata": {},
     "output_type": "display_data"
    }
   ],
   "source": [
    "# render_img(attack_success)\n",
    "img_attack = attack_success.reshape((img_side,img_side,num_channels))\n",
    "render_img(img_attack)\n",
    "print()"
   ]
  },
  {
   "cell_type": "code",
   "execution_count": 58,
   "metadata": {},
   "outputs": [
    {
     "data": {
      "text/plain": [
       "(500, 334)"
      ]
     },
     "execution_count": 58,
     "metadata": {},
     "output_type": "execute_result"
    }
   ],
   "source": [
    "from keras.preprocessing import image\n",
    "\n",
    "img2 = image.load_img(\"../../5classes/n01608432/n01608432_10016.JPEG\")\n",
    "img2.size"
   ]
  },
  {
   "cell_type": "code",
   "execution_count": 56,
   "metadata": {},
   "outputs": [
    {
     "data": {
      "text/plain": [
       "(299, 299)"
      ]
     },
     "execution_count": 56,
     "metadata": {},
     "output_type": "execute_result"
    }
   ],
   "source": [
    "img.size"
   ]
  },
  {
   "cell_type": "code",
   "execution_count": 65,
   "metadata": {},
   "outputs": [
    {
     "name": "stdout",
     "output_type": "stream",
     "text": [
      "(1500, 268203)\n",
      "[ 698 1323  647  462  665  723  232  706  420 1143]\n"
     ]
    }
   ],
   "source": [
    "print(grad_influence_wrt_input_val_subset.shape)\n",
    "pred_diff = np.sum(np.abs(grad_influence_wrt_input_val_subset), axis = 1)\n",
    "indices_to_poison = np.argsort(pred_diff)[-1:-max_num_to_poison-1:-1]\n",
    "print(indices_to_poison)"
   ]
  },
  {
   "cell_type": "code",
   "execution_count": 36,
   "metadata": {},
   "outputs": [
    {
     "data": {
      "image/png": "[encoded data removed]",
      "text/plain": [
       "<matplotlib.figure.Figure at 0x7f3b0ee3e150>"
      ]
     },
     "metadata": {},
     "output_type": "display_data"
    }
   ],
   "source": [
    "# for 15: 999,  172, 1302,  492, 1446,  164,  153, 1186,   47,  575\n",
    "# 15, 6, 23\n",
    "x = data_sets.train.x[999]\n",
    "# x = data_sets.train.x[1446]\n",
    "# 999,  709, 1446\n",
    "render_img(x.reshape((img_side,img_side,num_channels)))"
   ]
  },
  {
   "cell_type": "code",
   "execution_count": 10,
   "metadata": {},
   "outputs": [
    {
     "data": {
      "text/plain": [
       "2.0"
      ]
     },
     "execution_count": 10,
     "metadata": {},
     "output_type": "execute_result"
    }
   ],
   "source": [
    "max(data_sets.train.labels)"
   ]
  },
  {
   "cell_type": "code",
   "execution_count": 4,
   "metadata": {},
   "outputs": [
    {
     "data": {
      "text/plain": [
       "(1500, 268203)"
      ]
     },
     "execution_count": 4,
     "metadata": {},
     "output_type": "execute_result"
    }
   ],
   "source": [
    "data_sets.train.x.shape"
   ]
  },
  {
   "cell_type": "code",
   "execution_count": 7,
   "metadata": {},
   "outputs": [
    {
     "data": {
      "text/plain": [
       "array(None, dtype=object)"
      ]
     },
     "execution_count": 7,
     "metadata": {},
     "output_type": "execute_result"
    }
   ],
   "source": [
    "np.load(orig_weight_path)"
   ]
  },
  {
   "cell_type": "code",
   "execution_count": 15,
   "metadata": {},
   "outputs": [
    {
     "name": "stdout",
     "output_type": "stream",
     "text": [
      "2\n"
     ]
    }
   ],
   "source": [
    "print(num_classes)"
   ]
  },
  {
   "cell_type": "code",
   "execution_count": 30,
   "metadata": {},
   "outputs": [],
   "source": [
    "dup = DataSet(np.copy(data_sets.test.x), np.copy(data_sets.test.labels))\n",
    "dup.labels[2] = 5"
   ]
  },
  {
   "cell_type": "code",
   "execution_count": 38,
   "metadata": {},
   "outputs": [
    {
     "data": {
      "text/plain": [
       "array([ 706,  420,  723,  236, 1323,   32, 1403,  417, 1312,  651])"
      ]
     },
     "execution_count": 38,
     "metadata": {},
     "output_type": "execute_result"
    }
   ],
   "source": [
    "pred_diff = np.sum(np.abs(grad_influence_wrt_input_val_subset), axis = 1)\n",
    "all_indices_to_poison = np.argsort(pred_diff)[-1:-max_num_to_poison-1:-1]\n",
    "all_indices_to_poison"
   ]
  },
  {
   "cell_type": "code",
   "execution_count": null,
   "metadata": {},
   "outputs": [],
   "source": []
  }
 ],
 "metadata": {
  "kernelspec": {
   "display_name": "Python 2",
   "language": "python",
   "name": "python2"
  },
  "language_info": {
   "codemirror_mode": {
    "name": "ipython",
    "version": 2
   },
   "file_extension": ".py",
   "mimetype": "text/x-python",
   "name": "python",
   "nbconvert_exporter": "python",
   "pygments_lexer": "ipython2",
   "version": "2.7.12"
  }
 },
 "nbformat": 4,
 "nbformat_minor": 2
}
